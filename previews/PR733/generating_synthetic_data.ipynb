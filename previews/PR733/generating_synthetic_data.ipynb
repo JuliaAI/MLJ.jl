{
 "cells": [
  {
   "cell_type": "markdown",
   "metadata": {},
   "source": [
    "# Generating Synthetic Data\n",
    "\n",
    "MLJ has a set of functions that generate random data sets, closely resembling functions of the same name in [scikit-learn](https://scikit-learn.org/stable/datasets/index.html#generated-datasets). They are great for testing machine learning models (e.g., testing user-defined composite models; see [Composing Models](@ref))"
   ]
  },
  {
   "cell_type": "code",
   "execution_count": 32,
   "metadata": {},
   "outputs": [],
   "source": [
    "using MLJ, VegaLite, DataFrames"
   ]
  },
  {
   "cell_type": "markdown",
   "metadata": {},
   "source": [
    "##  Generating Gaussian blobs\n",
    "\n",
    "```@docs\n",
    "make_blobs\n",
    "```"
   ]
  },
  {
   "cell_type": "code",
   "execution_count": 33,
   "metadata": {},
   "outputs": [
    {
     "data": {
      "text/html": [
       "<table class=\"data-frame\"><thead><tr><th></th><th>x1</th><th>x2</th><th>x3</th><th>y</th></tr><tr><th></th><th>Float64</th><th>Float64</th><th>Float64</th><th>Cat…</th></tr></thead><tbody><p>3 rows × 4 columns</p><tr><th>1</th><td>5.30601</td><td>7.33548</td><td>9.9446</td><td>2</td></tr><tr><th>2</th><td>5.14757</td><td>5.8813</td><td>8.84096</td><td>2</td></tr><tr><th>3</th><td>3.34118</td><td>9.36617</td><td>12.1529</td><td>2</td></tr></tbody></table>"
      ],
      "text/latex": [
       "\\begin{tabular}{r|cccc}\n",
       "\t& x1 & x2 & x3 & y\\\\\n",
       "\t\\hline\n",
       "\t& Float64 & Float64 & Float64 & Cat…\\\\\n",
       "\t\\hline\n",
       "\t1 & 5.30601 & 7.33548 & 9.9446 & 2 \\\\\n",
       "\t2 & 5.14757 & 5.8813 & 8.84096 & 2 \\\\\n",
       "\t3 & 3.34118 & 9.36617 & 12.1529 & 2 \\\\\n",
       "\\end{tabular}\n"
      ],
      "text/plain": [
       "3×4 DataFrame\n",
       "│ Row │ x1      │ x2      │ x3      │ y    │\n",
       "│     │ \u001b[90mFloat64\u001b[39m │ \u001b[90mFloat64\u001b[39m │ \u001b[90mFloat64\u001b[39m │ \u001b[90mCat…\u001b[39m │\n",
       "├─────┼─────────┼─────────┼─────────┼──────┤\n",
       "│ 1   │ 5.30601 │ 7.33548 │ 9.9446  │ 2    │\n",
       "│ 2   │ 5.14757 │ 5.8813  │ 8.84096 │ 2    │\n",
       "│ 3   │ 3.34118 │ 9.36617 │ 12.1529 │ 2    │"
      ]
     },
     "execution_count": 33,
     "metadata": {},
     "output_type": "execute_result"
    }
   ],
   "source": [
    "X, y = make_blobs(100, 3; centers=2, cluster_std=[1.0, 3.0])\n",
    "dfBlobs = DataFrame(X)\n",
    "dfBlobs.y = y\n",
    "first(dfBlobs, 3)"
   ]
  },
  {
   "cell_type": "code",
   "execution_count": 34,
   "metadata": {},
   "outputs": [
    {
     "data": {
      "application/vnd.vegalite.v4+json": {
       "data": {
        "values": [
         {
          "x1": 5.306005021959495,
          "x2": 7.335482624189757,
          "x3": 9.944601000458027,
          "y": 2
         },
         {
          "x1": 5.147568921504009,
          "x2": 5.8813034532746995,
          "x3": 8.840963053930292,
          "y": 2
         },
         {
          "x1": 3.3411808726853685,
          "x2": 9.366172631347517,
          "x3": 12.152884110801548,
          "y": 2
         },
         {
          "x1": 2.6932427492747086,
          "x2": 3.8755332877752684,
          "x3": 9.270813880679283,
          "y": 2
         },
         {
          "x1": 0.6770531437203839,
          "x2": 10.264623631901205,
          "x3": 5.085967793710564,
          "y": 2
         },
         {
          "x1": 5.968852193249184,
          "x2": 8.357575341247632,
          "x3": 8.872844466144551,
          "y": 2
         },
         {
          "x1": -4.39743258847105,
          "x2": 0.22579121587189077,
          "x3": 2.9775513794984425,
          "y": 1
         },
         {
          "x1": 4.09852883091066,
          "x2": 7.612602535987916,
          "x3": 8.060627087119165,
          "y": 2
         },
         {
          "x1": -7.324367023029809,
          "x2": 0.0778041721398871,
          "x3": 2.0349068187426385,
          "y": 1
         },
         {
          "x1": -8.745561356435438,
          "x2": 2.5529094716793113,
          "x3": 1.5204328242390648,
          "y": 1
         },
         {
          "x1": 7.616977847853697,
          "x2": 9.82225276655119,
          "x3": 7.172031495878239,
          "y": 2
         },
         {
          "x1": 8.071772326373031,
          "x2": 8.983164044631483,
          "x3": 8.557783745260094,
          "y": 2
         },
         {
          "x1": -7.046450150439305,
          "x2": 0.24482682433383396,
          "x3": 0.3932962560518285,
          "y": 1
         },
         {
          "x1": -4.705496488341051,
          "x2": -0.45049666203100913,
          "x3": 1.9262734168981595,
          "y": 1
         },
         {
          "x1": 11.595152560575603,
          "x2": 9.228140189126826,
          "x3": 9.288065928559037,
          "y": 2
         },
         {
          "x1": -6.069424960021441,
          "x2": 1.2911725382085457,
          "x3": 1.0907380932065402,
          "y": 1
         },
         {
          "x1": -5.7449277814355835,
          "x2": 1.0472264031263927,
          "x3": 0.16999694438193202,
          "y": 1
         },
         {
          "x1": 1.1113880031932513,
          "x2": 11.133362944448933,
          "x3": 9.214199993916857,
          "y": 2
         },
         {
          "x1": 6.159361484032356,
          "x2": 3.3863641163542564,
          "x3": 7.53031742921594,
          "y": 2
         },
         {
          "x1": -8.105345303776742,
          "x2": 0.5952895660270243,
          "x3": 1.7554179358559807,
          "y": 1
         },
         {
          "x1": -6.423032897347717,
          "x2": 0.5814779750175166,
          "x3": 3.085181299091594,
          "y": 1
         },
         {
          "x1": 8.372217288708146,
          "x2": 6.63661376428365,
          "x3": 10.84923190020915,
          "y": 2
         },
         {
          "x1": -5.348993383818792,
          "x2": 0.3297705489333681,
          "x3": 1.5587688704737914,
          "y": 1
         },
         {
          "x1": 2.085881445011414,
          "x2": 7.9335745372738335,
          "x3": 6.05406927966831,
          "y": 2
         },
         {
          "x1": -9.017987265056075,
          "x2": 1.8509357716604753,
          "x3": 0.0913476444073924,
          "y": 1
         },
         {
          "x1": 9.646253407877666,
          "x2": 5.80000520980094,
          "x3": 8.972265910935798,
          "y": 2
         },
         {
          "x1": 8.864702033702638,
          "x2": 8.92532437360878,
          "x3": 8.900877681863578,
          "y": 2
         },
         {
          "x1": 0.18156583554744632,
          "x2": 13.549088006915632,
          "x3": 7.285014638622502,
          "y": 2
         },
         {
          "x1": 1.1439631988552952,
          "x2": 8.310479261886254,
          "x3": 9.460835048564668,
          "y": 2
         },
         {
          "x1": -6.496162315707228,
          "x2": 0.7798105520168815,
          "x3": 1.6795365742316954,
          "y": 1
         },
         {
          "x1": -4.942995188595747,
          "x2": 0.4505625884730579,
          "x3": 1.2216877281296248,
          "y": 1
         },
         {
          "x1": 0.9927022823824796,
          "x2": 11.965635610307858,
          "x3": 6.59138407635763,
          "y": 2
         },
         {
          "x1": 4.037814391736782,
          "x2": 5.694494099269116,
          "x3": 9.530437252586479,
          "y": 2
         },
         {
          "x1": -7.022998297300603,
          "x2": 0.052246945630883945,
          "x3": 3.186839613706088,
          "y": 1
         },
         {
          "x1": -6.33290824566598,
          "x2": 3.4766182520062405,
          "x3": 2.525264364835934,
          "y": 1
         },
         {
          "x1": -5.885140734550758,
          "x2": 1.2215416489037356,
          "x3": 2.493864702782236,
          "y": 1
         },
         {
          "x1": -7.813223110136804,
          "x2": 0.23525894794594449,
          "x3": 2.3814224877045964,
          "y": 1
         },
         {
          "x1": 8.304706959809739,
          "x2": 6.574644565329651,
          "x3": 10.016530896276773,
          "y": 2
         },
         {
          "x1": -6.603423692500952,
          "x2": 1.425112146628306,
          "x3": 0.8244441447758177,
          "y": 1
         },
         {
          "x1": 5.519754886868661,
          "x2": 6.480775124256417,
          "x3": 6.503306958983235,
          "y": 2
         },
         {
          "x1": 7.514858472294074,
          "x2": 9.001407841014714,
          "x3": 9.811963528463925,
          "y": 2
         },
         {
          "x1": -6.123682614912434,
          "x2": 1.227163884479407,
          "x3": 3.5355119070179524,
          "y": 1
         },
         {
          "x1": -6.726198326624127,
          "x2": 0.4092968630902092,
          "x3": 2.3954114685515053,
          "y": 1
         },
         {
          "x1": 5.930194311170686,
          "x2": 10.72008381949118,
          "x3": 6.86470761326764,
          "y": 2
         },
         {
          "x1": 4.106202272427967,
          "x2": 6.580252386026229,
          "x3": 8.164325778675643,
          "y": 2
         },
         {
          "x1": -3.317973494422599,
          "x2": 10.912676814784314,
          "x3": 3.8953603521967715,
          "y": 2
         },
         {
          "x1": 6.909354062954444,
          "x2": 5.0462303493528715,
          "x3": 12.058630792439827,
          "y": 2
         },
         {
          "x1": 3.0718701931049344,
          "x2": 7.367189629352266,
          "x3": 7.31926454176149,
          "y": 2
         },
         {
          "x1": -5.984616236345019,
          "x2": 1.521501511114606,
          "x3": 2.2892600135996544,
          "y": 1
         },
         {
          "x1": 5.49440038119045,
          "x2": 8.299688301816495,
          "x3": 7.640181394759286,
          "y": 2
         },
         {
          "x1": 1.94809604268616,
          "x2": 14.10842713282619,
          "x3": 1.8126501801237964,
          "y": 2
         },
         {
          "x1": -8.018951433514307,
          "x2": -0.14395932002221212,
          "x3": 3.1714601355230707,
          "y": 1
         },
         {
          "x1": 7.445510067342759,
          "x2": 2.048325157857418,
          "x3": 12.350596266460862,
          "y": 2
         },
         {
          "x1": 6.7997073839834,
          "x2": 6.248836131705375,
          "x3": 6.062424512606552,
          "y": 2
         },
         {
          "x1": -5.01437330203226,
          "x2": 0.8863392889119668,
          "x3": 1.0448890951995615,
          "y": 1
         },
         {
          "x1": -5.690331552772256,
          "x2": 0.4227513966241664,
          "x3": 1.7938515639111308,
          "y": 1
         },
         {
          "x1": -6.416782685318507,
          "x2": 0.4677530983954018,
          "x3": 1.9298335856148408,
          "y": 1
         },
         {
          "x1": -6.724581625064847,
          "x2": 1.071390768637628,
          "x3": 0.010015938629739152,
          "y": 1
         },
         {
          "x1": -4.993266900110802,
          "x2": 0.6802932861694558,
          "x3": 0.7781437764257733,
          "y": 1
         },
         {
          "x1": 10.579278179278752,
          "x2": 14.017196007306799,
          "x3": 6.618059604222563,
          "y": 2
         },
         {
          "x1": -6.907622479405076,
          "x2": 0.7024973864090679,
          "x3": 1.437015733177828,
          "y": 1
         },
         {
          "x1": -7.006771533069767,
          "x2": 0.06122210887553037,
          "x3": 1.2912968442745845,
          "y": 1
         },
         {
          "x1": -7.417712978154991,
          "x2": 1.1938244408633398,
          "x3": 1.4153950234578692,
          "y": 1
         },
         {
          "x1": 6.461708647462787,
          "x2": 6.362326553372559,
          "x3": 3.6333771701021025,
          "y": 2
         },
         {
          "x1": 5.805648358564471,
          "x2": 6.915095182581987,
          "x3": 4.201497474748288,
          "y": 2
         },
         {
          "x1": -6.167624147587743,
          "x2": 0.5810652676434077,
          "x3": 2.194440109706654,
          "y": 1
         },
         {
          "x1": 1.0867390890964237,
          "x2": 13.428551195047657,
          "x3": 2.114490759258274,
          "y": 2
         },
         {
          "x1": 6.073832196564226,
          "x2": 9.262124089761777,
          "x3": 7.214356250800773,
          "y": 2
         },
         {
          "x1": -7.023691799257531,
          "x2": 2.1259607415695045,
          "x3": 3.066403827273544,
          "y": 1
         },
         {
          "x1": -6.066202061212535,
          "x2": -0.3499305761941507,
          "x3": 1.7616878518799626,
          "y": 1
         },
         {
          "x1": -6.9600298177887625,
          "x2": 1.1603286676752858,
          "x3": 2.2958061252417594,
          "y": 1
         },
         {
          "x1": -6.838167309401546,
          "x2": 1.128604338975403,
          "x3": 2.2180103336448695,
          "y": 1
         },
         {
          "x1": 9.046786149782797,
          "x2": 10.234066855370795,
          "x3": 7.287214057986282,
          "y": 2
         },
         {
          "x1": 3.757268865767819,
          "x2": 8.367724450303331,
          "x3": 6.872632413480283,
          "y": 2
         },
         {
          "x1": -2.7341183060205756,
          "x2": 6.375070057367467,
          "x3": 11.75140673036356,
          "y": 2
         },
         {
          "x1": -6.680099152743671,
          "x2": 1.0233772778875447,
          "x3": 2.0903190377434813,
          "y": 1
         },
         {
          "x1": 6.831981924130954,
          "x2": 6.959582329903835,
          "x3": 7.3768596542269425,
          "y": 2
         },
         {
          "x1": -6.509179841060516,
          "x2": 0.43981444843331874,
          "x3": 2.2104958957226026,
          "y": 1
         },
         {
          "x1": 0.11350607972926241,
          "x2": 9.599540589097526,
          "x3": 3.5284608613258026,
          "y": 2
         },
         {
          "x1": 2.6713741129457,
          "x2": 12.39558366743411,
          "x3": 6.579381228370869,
          "y": 2
         },
         {
          "x1": -5.525790421154029,
          "x2": 1.6679081000809108,
          "x3": 1.686566619576914,
          "y": 1
         },
         {
          "x1": 4.412278147541436,
          "x2": 12.400023042361985,
          "x3": 7.627176318873834,
          "y": 2
         },
         {
          "x1": -6.2940462712919265,
          "x2": 0.7010010269441812,
          "x3": 3.105554381298532,
          "y": 1
         },
         {
          "x1": -5.00586372428988,
          "x2": 1.4289343309266256,
          "x3": 2.034829163708235,
          "y": 1
         },
         {
          "x1": -7.005120953894531,
          "x2": 0.3762386917608474,
          "x3": 1.6388536125619892,
          "y": 1
         },
         {
          "x1": -5.640186654696778,
          "x2": 0.1697165413221181,
          "x3": 3.0447935484190976,
          "y": 1
         },
         {
          "x1": -7.926168775237008,
          "x2": 0.28087436813656774,
          "x3": 1.6883969652247877,
          "y": 1
         },
         {
          "x1": -5.9288954177643305,
          "x2": 0.5069727367142964,
          "x3": 0.9633394865473247,
          "y": 1
         },
         {
          "x1": 2.35487952738382,
          "x2": 7.125062279061147,
          "x3": 6.113245425203135,
          "y": 2
         },
         {
          "x1": -5.199101651306389,
          "x2": 1.1615957466336222,
          "x3": 2.2130749590766348,
          "y": 1
         },
         {
          "x1": -5.845188039061578,
          "x2": 0.6062148079988804,
          "x3": 2.4124295012622223,
          "y": 1
         },
         {
          "x1": 5.706468508158918,
          "x2": 10.558914570024262,
          "x3": 4.552052458812694,
          "y": 2
         },
         {
          "x1": 3.0919754182494783,
          "x2": 9.204285616073179,
          "x3": 9.058192770669272,
          "y": 2
         },
         {
          "x1": 8.02444912973628,
          "x2": 8.24945263157183,
          "x3": 4.699164177191914,
          "y": 2
         },
         {
          "x1": -6.446671601336954,
          "x2": 2.489917331971359,
          "x3": 2.3908297780791345,
          "y": 1
         },
         {
          "x1": 8.880477907180222,
          "x2": 7.554181597572289,
          "x3": 5.584436336204944,
          "y": 2
         },
         {
          "x1": -12.607510334560356,
          "x2": 8.610727493054435,
          "x3": 15.99470940274475,
          "y": 1
         },
         {
          "x1": 1.0250686299014449,
          "x2": 2.924546519579291,
          "x3": 7.228835230974251,
          "y": 2
         },
         {
          "x1": -5.647135589823031,
          "x2": 0.24647446204594714,
          "x3": 1.671781045300742,
          "y": 1
         },
         {
          "x1": -7.695274267358119,
          "x2": -0.6810815053343753,
          "x3": 1.1778108940061394,
          "y": 1
         }
        ]
       },
       "encoding": {
        "color": {
         "field": "y",
         "type": "nominal"
        },
        "x": {
         "field": "x1",
         "type": "quantitative"
        },
        "y": {
         "field": "x2",
         "type": "quantitative"
        }
       },
       "mark": "point"
      },
      "image/png": "[encoded data removed]",
      "image/svg+xml": [
       "<?xml version=\"1.0\" encoding=\"utf-8\"?>\n",
       "<!DOCTYPE svg PUBLIC \"-//W3C//DTD SVG 1.1//EN\" \"http://www.w3.org/Graphics/SVG/1.1/DTD/svg11.dtd\">\n",
       "<svg class=\"marks\" width=\"284\" height=\"242\" viewBox=\"0 0 284 242\" version=\"1.1\" xmlns=\"http://www.w3.org/2000/svg\" xmlns:xlink=\"http://www.w3.org/1999/xlink\"><rect width=\"284\" height=\"242\" fill=\"white\"></rect><g fill=\"none\" stroke-miterlimit=\"10\" transform=\"translate(39,5)\"><g class=\"mark-group role-frame root\" role=\"graphics-object\" aria-roledescription=\"group mark container\"><g transform=\"translate(0,0)\"><path class=\"background\" aria-hidden=\"true\" d=\"M0.5,0.5h200v200h-200Z\" stroke=\"#ddd\"></path><g><g class=\"mark-group role-axis\" aria-hidden=\"true\"><g transform=\"translate(0.5,200.5)\"><path class=\"background\" aria-hidden=\"true\" d=\"M0,0h0v0h0Z\" pointer-events=\"none\"></path><g><g class=\"mark-rule role-axis-grid\" pointer-events=\"none\"><line transform=\"translate(31,-200)\" x2=\"0\" y2=\"200\" stroke=\"#ddd\" stroke-width=\"1\" opacity=\"1\"></line><line transform=\"translate(69,-200)\" x2=\"0\" y2=\"200\" stroke=\"#ddd\" stroke-width=\"1\" opacity=\"1\"></line><line transform=\"translate(108,-200)\" x2=\"0\" y2=\"200\" stroke=\"#ddd\" stroke-width=\"1\" opacity=\"1\"></line><line transform=\"translate(146,-200)\" x2=\"0\" y2=\"200\" stroke=\"#ddd\" stroke-width=\"1\" opacity=\"1\"></line><line transform=\"translate(185,-200)\" x2=\"0\" y2=\"200\" stroke=\"#ddd\" stroke-width=\"1\" opacity=\"1\"></line></g></g><path class=\"foreground\" aria-hidden=\"true\" d=\"\" pointer-events=\"none\" display=\"none\"></path></g></g><g class=\"mark-group role-axis\" aria-hidden=\"true\"><g transform=\"translate(0.5,0.5)\"><path class=\"background\" aria-hidden=\"true\" d=\"M0,0h0v0h0Z\" pointer-events=\"none\"></path><g><g class=\"mark-rule role-axis-grid\" pointer-events=\"none\"><line transform=\"translate(0,178)\" x2=\"200\" y2=\"0\" stroke=\"#ddd\" stroke-width=\"1\" opacity=\"1\"></line><line transform=\"translate(0,122)\" x2=\"200\" y2=\"0\" stroke=\"#ddd\" stroke-width=\"1\" opacity=\"1\"></line><line transform=\"translate(0,67)\" x2=\"200\" y2=\"0\" stroke=\"#ddd\" stroke-width=\"1\" opacity=\"1\"></line><line transform=\"translate(0,11)\" x2=\"200\" y2=\"0\" stroke=\"#ddd\" stroke-width=\"1\" opacity=\"1\"></line></g></g><path class=\"foreground\" aria-hidden=\"true\" d=\"\" pointer-events=\"none\" display=\"none\"></path></g></g><g class=\"mark-group role-axis\" role=\"graphics-symbol\" aria-roledescription=\"axis\" aria-label=\"X-axis titled 'x1' for a linear scale with values from -14 to 12\"><g transform=\"translate(0.5,200.5)\"><path class=\"background\" aria-hidden=\"true\" d=\"M0,0h0v0h0Z\" pointer-events=\"none\"></path><g><g class=\"mark-rule role-axis-tick\" pointer-events=\"none\"><line transform=\"translate(31,0)\" x2=\"0\" y2=\"5\" stroke=\"#888\" stroke-width=\"1\" opacity=\"1\"></line><line transform=\"translate(69,0)\" x2=\"0\" y2=\"5\" stroke=\"#888\" stroke-width=\"1\" opacity=\"1\"></line><line transform=\"translate(108,0)\" x2=\"0\" y2=\"5\" stroke=\"#888\" stroke-width=\"1\" opacity=\"1\"></line><line transform=\"translate(146,0)\" x2=\"0\" y2=\"5\" stroke=\"#888\" stroke-width=\"1\" opacity=\"1\"></line><line transform=\"translate(185,0)\" x2=\"0\" y2=\"5\" stroke=\"#888\" stroke-width=\"1\" opacity=\"1\"></line></g><g class=\"mark-text role-axis-label\" pointer-events=\"none\"><text text-anchor=\"middle\" transform=\"translate(30.76923076923077,15)\" font-family=\"sans-serif\" font-size=\"10px\" fill=\"#000\" opacity=\"1\">-10</text><text text-anchor=\"middle\" transform=\"translate(69.23076923076923,15)\" font-family=\"sans-serif\" font-size=\"10px\" fill=\"#000\" opacity=\"1\">-5</text><text text-anchor=\"middle\" transform=\"translate(107.6923076923077,15)\" font-family=\"sans-serif\" font-size=\"10px\" fill=\"#000\" opacity=\"1\">0</text><text text-anchor=\"middle\" transform=\"translate(146.15384615384613,15)\" font-family=\"sans-serif\" font-size=\"10px\" fill=\"#000\" opacity=\"1\">5</text><text text-anchor=\"middle\" transform=\"translate(184.6153846153846,15)\" font-family=\"sans-serif\" font-size=\"10px\" fill=\"#000\" opacity=\"1\">10</text></g><g class=\"mark-rule role-axis-domain\" pointer-events=\"none\"><line transform=\"translate(0,0)\" x2=\"200\" y2=\"0\" stroke=\"#888\" stroke-width=\"1\" opacity=\"1\"></line></g><g class=\"mark-text role-axis-title\" pointer-events=\"none\"><text text-anchor=\"middle\" transform=\"translate(100,30)\" font-family=\"sans-serif\" font-size=\"11px\" font-weight=\"bold\" fill=\"#000\" opacity=\"1\">x1</text></g></g><path class=\"foreground\" aria-hidden=\"true\" d=\"\" pointer-events=\"none\" display=\"none\"></path></g></g><g class=\"mark-group role-axis\" role=\"graphics-symbol\" aria-roledescription=\"axis\" aria-label=\"Y-axis titled 'x2' for a linear scale with values from -2 to 16\"><g transform=\"translate(0.5,0.5)\"><path class=\"background\" aria-hidden=\"true\" d=\"M0,0h0v0h0Z\" pointer-events=\"none\"></path><g><g class=\"mark-rule role-axis-tick\" pointer-events=\"none\"><line transform=\"translate(0,178)\" x2=\"-5\" y2=\"0\" stroke=\"#888\" stroke-width=\"1\" opacity=\"1\"></line><line transform=\"translate(0,122)\" x2=\"-5\" y2=\"0\" stroke=\"#888\" stroke-width=\"1\" opacity=\"1\"></line><line transform=\"translate(0,67)\" x2=\"-5\" y2=\"0\" stroke=\"#888\" stroke-width=\"1\" opacity=\"1\"></line><line transform=\"translate(0,11)\" x2=\"-5\" y2=\"0\" stroke=\"#888\" stroke-width=\"1\" opacity=\"1\"></line></g><g class=\"mark-text role-axis-label\" pointer-events=\"none\"><text text-anchor=\"end\" transform=\"translate(-7,180.77777777777777)\" font-family=\"sans-serif\" font-size=\"10px\" fill=\"#000\" opacity=\"1\">0</text><text text-anchor=\"end\" transform=\"translate(-7,125.22222222222223)\" font-family=\"sans-serif\" font-size=\"10px\" fill=\"#000\" opacity=\"1\">5</text><text text-anchor=\"end\" transform=\"translate(-7,69.66666666666667)\" font-family=\"sans-serif\" font-size=\"10px\" fill=\"#000\" opacity=\"1\">10</text><text text-anchor=\"end\" transform=\"translate(-7,14.111111111111116)\" font-family=\"sans-serif\" font-size=\"10px\" fill=\"#000\" opacity=\"1\">15</text></g><g class=\"mark-rule role-axis-domain\" pointer-events=\"none\"><line transform=\"translate(0,200)\" x2=\"0\" y2=\"-200\" stroke=\"#888\" stroke-width=\"1\" opacity=\"1\"></line></g><g class=\"mark-text role-axis-title\" pointer-events=\"none\"><text text-anchor=\"middle\" transform=\"translate(-23,100) rotate(-90) translate(0,-2)\" font-family=\"sans-serif\" font-size=\"11px\" font-weight=\"bold\" fill=\"#000\" opacity=\"1\">x2</text></g></g><path class=\"foreground\" aria-hidden=\"true\" d=\"\" pointer-events=\"none\" display=\"none\"></path></g></g><g class=\"mark-symbol role-mark marks\" role=\"graphics-object\" aria-roledescription=\"symbol mark container\"><path aria-label=\"x1: 5.30600502196; x2: 7.33548262419; y: 2\" role=\"graphics-symbol\" aria-roledescription=\"point\" transform=\"translate(148.50773093814996,96.27241528678047)\" d=\"M2.7386127875258306,0A2.7386127875258306,2.7386127875258306,0,1,1,-2.7386127875258306,0A2.7386127875258306,2.7386127875258306,0,1,1,2.7386127875258306,0\" stroke=\"#f58518\" stroke-width=\"2\" opacity=\"0.7\"></path><path aria-label=\"x1: 5.1475689215; x2: 5.88130345327; y: 2\" role=\"graphics-symbol\" aria-roledescription=\"point\" transform=\"translate(147.288991703877,112.42996163028111)\" d=\"M2.7386127875258306,0A2.7386127875258306,2.7386127875258306,0,1,1,-2.7386127875258306,0A2.7386127875258306,2.7386127875258306,0,1,1,2.7386127875258306,0\" stroke=\"#f58518\" stroke-width=\"2\" opacity=\"0.7\"></path><path aria-label=\"x1: 3.34118087269; x2: 9.36617263135; y: 2\" role=\"graphics-symbol\" aria-roledescription=\"point\" transform=\"translate(133.39369902065667,73.70919298502758)\" d=\"M2.7386127875258306,0A2.7386127875258306,2.7386127875258306,0,1,1,-2.7386127875258306,0A2.7386127875258306,2.7386127875258306,0,1,1,2.7386127875258306,0\" stroke=\"#f58518\" stroke-width=\"2\" opacity=\"0.7\"></path><path aria-label=\"x1: 2.69324274927; x2: 3.87553328778; y: 2\" role=\"graphics-symbol\" aria-roledescription=\"point\" transform=\"translate(128.40955960980546,134.71629680249703)\" d=\"M2.7386127875258306,0A2.7386127875258306,2.7386127875258306,0,1,1,-2.7386127875258306,0A2.7386127875258306,2.7386127875258306,0,1,1,2.7386127875258306,0\" stroke=\"#f58518\" stroke-width=\"2\" opacity=\"0.7\"></path><path aria-label=\"x1: 0.67705314372; x2: 10.2646236319; y: 2\" role=\"graphics-symbol\" aria-roledescription=\"point\" transform=\"translate(112.90040879784911,63.7264040899866)\" d=\"M2.7386127875258306,0A2.7386127875258306,2.7386127875258306,0,1,1,-2.7386127875258306,0A2.7386127875258306,2.7386127875258306,0,1,1,2.7386127875258306,0\" stroke=\"#f58518\" stroke-width=\"2\" opacity=\"0.7\"></path><path aria-label=\"x1: 5.96885219325; x2: 8.35757534125; y: 2\" role=\"graphics-symbol\" aria-roledescription=\"point\" transform=\"translate(153.60655533268604,84.91582954169299)\" d=\"M2.7386127875258306,0A2.7386127875258306,2.7386127875258306,0,1,1,-2.7386127875258306,0A2.7386127875258306,2.7386127875258306,0,1,1,2.7386127875258306,0\" stroke=\"#f58518\" stroke-width=\"2\" opacity=\"0.7\"></path><path aria-label=\"x1: -4.39743258847; x2: 0.225791215872; y: 1\" role=\"graphics-symbol\" aria-roledescription=\"point\" transform=\"translate(73.8659031656073,175.26898649031233)\" d=\"M2.7386127875258306,0A2.7386127875258306,2.7386127875258306,0,1,1,-2.7386127875258306,0A2.7386127875258306,2.7386127875258306,0,1,1,2.7386127875258306,0\" stroke=\"#4c78a8\" stroke-width=\"2\" opacity=\"0.7\"></path><path aria-label=\"x1: 4.09852883091; x2: 7.61260253599; y: 2\" role=\"graphics-symbol\" aria-roledescription=\"point\" transform=\"translate(139.21945254546662,93.19330515568981)\" d=\"M2.7386127875258306,0A2.7386127875258306,2.7386127875258306,0,1,1,-2.7386127875258306,0A2.7386127875258306,2.7386127875258306,0,1,1,2.7386127875258306,0\" stroke=\"#f58518\" stroke-width=\"2\" opacity=\"0.7\"></path><path aria-label=\"x1: -7.32436702303; x2: 0.0778041721399; y: 1\" role=\"graphics-symbol\" aria-roledescription=\"point\" transform=\"translate(51.351022899770705,176.91328697622347)\" d=\"M2.7386127875258306,0A2.7386127875258306,2.7386127875258306,0,1,1,-2.7386127875258306,0A2.7386127875258306,2.7386127875258306,0,1,1,2.7386127875258306,0\" stroke=\"#4c78a8\" stroke-width=\"2\" opacity=\"0.7\"></path><path aria-label=\"x1: -8.74556135644; x2: 2.55290947168; y: 1\" role=\"graphics-symbol\" aria-roledescription=\"point\" transform=\"translate(40.41875879665048,149.41211698134097)\" d=\"M2.7386127875258306,0A2.7386127875258306,2.7386127875258306,0,1,1,-2.7386127875258306,0A2.7386127875258306,2.7386127875258306,0,1,1,2.7386127875258306,0\" stroke=\"#4c78a8\" stroke-width=\"2\" opacity=\"0.7\"></path><path aria-label=\"x1: 7.61697784785; x2: 9.82225276655; y: 2\" role=\"graphics-symbol\" aria-roledescription=\"point\" transform=\"translate(166.28444498348998,68.641635927209)\" d=\"M2.7386127875258306,0A2.7386127875258306,2.7386127875258306,0,1,1,-2.7386127875258306,0A2.7386127875258306,2.7386127875258306,0,1,1,2.7386127875258306,0\" stroke=\"#f58518\" stroke-width=\"2\" opacity=\"0.7\"></path><path aria-label=\"x1: 8.07177232637; x2: 8.98316404463; y: 2\" role=\"graphics-symbol\" aria-roledescription=\"point\" transform=\"translate(169.7828640490233,77.96484394853908)\" d=\"M2.7386127875258306,0A2.7386127875258306,2.7386127875258306,0,1,1,-2.7386127875258306,0A2.7386127875258306,2.7386127875258306,0,1,1,2.7386127875258306,0\" stroke=\"#f58518\" stroke-width=\"2\" opacity=\"0.7\"></path><path aria-label=\"x1: -7.04645015044; x2: 0.244826824334; y: 1\" role=\"graphics-symbol\" aria-roledescription=\"point\" transform=\"translate(53.488844996620735,175.05747972962408)\" d=\"M2.7386127875258306,0A2.7386127875258306,2.7386127875258306,0,1,1,-2.7386127875258306,0A2.7386127875258306,2.7386127875258306,0,1,1,2.7386127875258306,0\" stroke=\"#4c78a8\" stroke-width=\"2\" opacity=\"0.7\"></path><path aria-label=\"x1: -4.70549648834; x2: -0.450496662031; y: 1\" role=\"graphics-symbol\" aria-roledescription=\"point\" transform=\"translate(71.496180858915,182.783296244789)\" d=\"M2.7386127875258306,0A2.7386127875258306,2.7386127875258306,0,1,1,-2.7386127875258306,0A2.7386127875258306,2.7386127875258306,0,1,1,2.7386127875258306,0\" stroke=\"#4c78a8\" stroke-width=\"2\" opacity=\"0.7\"></path><path aria-label=\"x1: 11.5951525606; x2: 9.22814018913; y: 2\" role=\"graphics-symbol\" aria-roledescription=\"point\" transform=\"translate(196.88578892750462,75.2428867874797)\" d=\"M2.7386127875258306,0A2.7386127875258306,2.7386127875258306,0,1,1,-2.7386127875258306,0A2.7386127875258306,2.7386127875258306,0,1,1,2.7386127875258306,0\" stroke=\"#f58518\" stroke-width=\"2\" opacity=\"0.7\"></path><path aria-label=\"x1: -6.06942496002; x2: 1.29117253821; y: 1\" role=\"graphics-symbol\" aria-roledescription=\"point\" transform=\"translate(61.004423384450455,163.43141624212728)\" d=\"M2.7386127875258306,0A2.7386127875258306,2.7386127875258306,0,1,1,-2.7386127875258306,0A2.7386127875258306,2.7386127875258306,0,1,1,2.7386127875258306,0\" stroke=\"#4c78a8\" stroke-width=\"2\" opacity=\"0.7\"></path><path aria-label=\"x1: -5.74492778144; x2: 1.04722640313; y: 1\" role=\"graphics-symbol\" aria-roledescription=\"point\" transform=\"translate(63.50055552741859,166.1419288541512)\" d=\"M2.7386127875258306,0A2.7386127875258306,2.7386127875258306,0,1,1,-2.7386127875258306,0A2.7386127875258306,2.7386127875258306,0,1,1,2.7386127875258306,0\" stroke=\"#4c78a8\" stroke-width=\"2\" opacity=\"0.7\"></path><path aria-label=\"x1: 1.11138800319; x2: 11.1333629444; y: 2\" role=\"graphics-symbol\" aria-roledescription=\"point\" transform=\"translate(116.24144617840963,54.07374506167852)\" d=\"M2.7386127875258306,0A2.7386127875258306,2.7386127875258306,0,1,1,-2.7386127875258306,0A2.7386127875258306,2.7386127875258306,0,1,1,2.7386127875258306,0\" stroke=\"#f58518\" stroke-width=\"2\" opacity=\"0.7\"></path><path aria-label=\"x1: 6.15936148403; x2: 3.38636411635; y: 2\" role=\"graphics-symbol\" aria-roledescription=\"point\" transform=\"translate(155.0720114156335,140.15150981828603)\" d=\"M2.7386127875258306,0A2.7386127875258306,2.7386127875258306,0,1,1,-2.7386127875258306,0A2.7386127875258306,2.7386127875258306,0,1,1,2.7386127875258306,0\" stroke=\"#f58518\" stroke-width=\"2\" opacity=\"0.7\"></path><path aria-label=\"x1: -8.10534530378; x2: 0.595289566027; y: 1\" role=\"graphics-symbol\" aria-roledescription=\"point\" transform=\"translate(45.343497663255825,171.1634492663664)\" d=\"M2.7386127875258306,0A2.7386127875258306,2.7386127875258306,0,1,1,-2.7386127875258306,0A2.7386127875258306,2.7386127875258306,0,1,1,2.7386127875258306,0\" stroke=\"#4c78a8\" stroke-width=\"2\" opacity=\"0.7\"></path><path aria-label=\"x1: -6.42303289735; x2: 0.581477975018; y: 1\" role=\"graphics-symbol\" aria-roledescription=\"point\" transform=\"translate(58.28436232809449,171.31691138869428)\" d=\"M2.7386127875258306,0A2.7386127875258306,2.7386127875258306,0,1,1,-2.7386127875258306,0A2.7386127875258306,2.7386127875258306,0,1,1,2.7386127875258306,0\" stroke=\"#4c78a8\" stroke-width=\"2\" opacity=\"0.7\"></path><path aria-label=\"x1: 8.37221728871; x2: 6.63661376428; y: 2\" role=\"graphics-symbol\" aria-roledescription=\"point\" transform=\"translate(172.09397914390883,104.03762484129277)\" d=\"M2.7386127875258306,0A2.7386127875258306,2.7386127875258306,0,1,1,-2.7386127875258306,0A2.7386127875258306,2.7386127875258306,0,1,1,2.7386127875258306,0\" stroke=\"#f58518\" stroke-width=\"2\" opacity=\"0.7\"></path><path aria-label=\"x1: -5.34899338382; x2: 0.329770548933; y: 1\" role=\"graphics-symbol\" aria-roledescription=\"point\" transform=\"translate(66.54620473985544,174.11366056740704)\" d=\"M2.7386127875258306,0A2.7386127875258306,2.7386127875258306,0,1,1,-2.7386127875258306,0A2.7386127875258306,2.7386127875258306,0,1,1,2.7386127875258306,0\" stroke=\"#4c78a8\" stroke-width=\"2\" opacity=\"0.7\"></path><path aria-label=\"x1: 2.08588144501; x2: 7.93357453727; y: 2\" role=\"graphics-symbol\" aria-roledescription=\"point\" transform=\"translate(123.73754957701087,89.62694958584629)\" d=\"M2.7386127875258306,0A2.7386127875258306,2.7386127875258306,0,1,1,-2.7386127875258306,0A2.7386127875258306,2.7386127875258306,0,1,1,2.7386127875258306,0\" stroke=\"#f58518\" stroke-width=\"2\" opacity=\"0.7\"></path><path aria-label=\"x1: -9.01798726506; x2: 1.85093577166; y: 1\" role=\"graphics-symbol\" aria-roledescription=\"point\" transform=\"translate(38.32317488418404,157.21182475932804)\" d=\"M2.7386127875258306,0A2.7386127875258306,2.7386127875258306,0,1,1,-2.7386127875258306,0A2.7386127875258306,2.7386127875258306,0,1,1,2.7386127875258306,0\" stroke=\"#4c78a8\" stroke-width=\"2\" opacity=\"0.7\"></path><path aria-label=\"x1: 9.64625340788; x2: 5.8000052098; y: 2\" role=\"graphics-symbol\" aria-roledescription=\"point\" transform=\"translate(181.89425698367435,113.33327544665623)\" d=\"M2.7386127875258306,0A2.7386127875258306,2.7386127875258306,0,1,1,-2.7386127875258306,0A2.7386127875258306,2.7386127875258306,0,1,1,2.7386127875258306,0\" stroke=\"#f58518\" stroke-width=\"2\" opacity=\"0.7\"></path><path aria-label=\"x1: 8.8647020337; x2: 8.92532437361; y: 2\" role=\"graphics-symbol\" aria-roledescription=\"point\" transform=\"translate(175.88232333617415,78.60750695990247)\" d=\"M2.7386127875258306,0A2.7386127875258306,2.7386127875258306,0,1,1,-2.7386127875258306,0A2.7386127875258306,2.7386127875258306,0,1,1,2.7386127875258306,0\" stroke=\"#f58518\" stroke-width=\"2\" opacity=\"0.7\"></path><path aria-label=\"x1: 0.181565835547; x2: 13.5490880069; y: 2\" role=\"graphics-symbol\" aria-roledescription=\"point\" transform=\"translate(109.08896796574959,27.23235547871521)\" d=\"M2.7386127875258306,0A2.7386127875258306,2.7386127875258306,0,1,1,-2.7386127875258306,0A2.7386127875258306,2.7386127875258306,0,1,1,2.7386127875258306,0\" stroke=\"#f58518\" stroke-width=\"2\" opacity=\"0.7\"></path><path aria-label=\"x1: 1.14396319886; x2: 8.31047926189; y: 2\" role=\"graphics-symbol\" aria-roledescription=\"point\" transform=\"translate(116.49202460657919,85.43911931237496)\" d=\"M2.7386127875258306,0A2.7386127875258306,2.7386127875258306,0,1,1,-2.7386127875258306,0A2.7386127875258306,2.7386127875258306,0,1,1,2.7386127875258306,0\" stroke=\"#f58518\" stroke-width=\"2\" opacity=\"0.7\"></path><path aria-label=\"x1: -6.49616231571; x2: 0.779810552017; y: 1\" role=\"graphics-symbol\" aria-roledescription=\"point\" transform=\"translate(57.721828340713635,169.1132160887013)\" d=\"M2.7386127875258306,0A2.7386127875258306,2.7386127875258306,0,1,1,-2.7386127875258306,0A2.7386127875258306,2.7386127875258306,0,1,1,2.7386127875258306,0\" stroke=\"#4c78a8\" stroke-width=\"2\" opacity=\"0.7\"></path><path aria-label=\"x1: -4.9429951886; x2: 0.450562588473; y: 1\" role=\"graphics-symbol\" aria-roledescription=\"point\" transform=\"translate(69.66926778003271,172.77152679474378)\" d=\"M2.7386127875258306,0A2.7386127875258306,2.7386127875258306,0,1,1,-2.7386127875258306,0A2.7386127875258306,2.7386127875258306,0,1,1,2.7386127875258306,0\" stroke=\"#4c78a8\" stroke-width=\"2\" opacity=\"0.7\"></path><path aria-label=\"x1: 0.992702282382; x2: 11.9656356103; y: 2\" role=\"graphics-symbol\" aria-roledescription=\"point\" transform=\"translate(115.32847909524983,44.82627099657934)\" d=\"M2.7386127875258306,0A2.7386127875258306,2.7386127875258306,0,1,1,-2.7386127875258306,0A2.7386127875258306,2.7386127875258306,0,1,1,2.7386127875258306,0\" stroke=\"#f58518\" stroke-width=\"2\" opacity=\"0.7\"></path><path aria-label=\"x1: 4.03781439174; x2: 5.69449409927; y: 2\" role=\"graphics-symbol\" aria-roledescription=\"point\" transform=\"translate(138.75241839797522,114.50562111923203)\" d=\"M2.7386127875258306,0A2.7386127875258306,2.7386127875258306,0,1,1,-2.7386127875258306,0A2.7386127875258306,2.7386127875258306,0,1,1,2.7386127875258306,0\" stroke=\"#f58518\" stroke-width=\"2\" opacity=\"0.7\"></path><path aria-label=\"x1: -7.0229982973; x2: 0.0522469456309; y: 1\" role=\"graphics-symbol\" aria-roledescription=\"point\" transform=\"translate(53.669243866918436,177.19725615965686)\" d=\"M2.7386127875258306,0A2.7386127875258306,2.7386127875258306,0,1,1,-2.7386127875258306,0A2.7386127875258306,2.7386127875258306,0,1,1,2.7386127875258306,0\" stroke=\"#4c78a8\" stroke-width=\"2\" opacity=\"0.7\"></path><path aria-label=\"x1: -6.33290824567; x2: 3.47661825201; y: 1\" role=\"graphics-symbol\" aria-roledescription=\"point\" transform=\"translate(58.977628879492464,139.14868608881955)\" d=\"M2.7386127875258306,0A2.7386127875258306,2.7386127875258306,0,1,1,-2.7386127875258306,0A2.7386127875258306,2.7386127875258306,0,1,1,2.7386127875258306,0\" stroke=\"#4c78a8\" stroke-width=\"2\" opacity=\"0.7\"></path><path aria-label=\"x1: -5.88514073455; x2: 1.2215416489; y: 1\" role=\"graphics-symbol\" aria-roledescription=\"point\" transform=\"translate(62.421994349609555,164.20509278995848)\" d=\"M2.7386127875258306,0A2.7386127875258306,2.7386127875258306,0,1,1,-2.7386127875258306,0A2.7386127875258306,2.7386127875258306,0,1,1,2.7386127875258306,0\" stroke=\"#4c78a8\" stroke-width=\"2\" opacity=\"0.7\"></path><path aria-label=\"x1: -7.81322311014; x2: 0.235258947946; y: 1\" role=\"graphics-symbol\" aria-roledescription=\"point\" transform=\"translate(47.590591460486124,175.1637894672673)\" d=\"M2.7386127875258306,0A2.7386127875258306,2.7386127875258306,0,1,1,-2.7386127875258306,0A2.7386127875258306,2.7386127875258306,0,1,1,2.7386127875258306,0\" stroke=\"#4c78a8\" stroke-width=\"2\" opacity=\"0.7\"></path><path aria-label=\"x1: 8.30470695981; x2: 6.57464456533; y: 2\" role=\"graphics-symbol\" aria-roledescription=\"point\" transform=\"translate(171.57466892161338,104.72617149633723)\" d=\"M2.7386127875258306,0A2.7386127875258306,2.7386127875258306,0,1,1,-2.7386127875258306,0A2.7386127875258306,2.7386127875258306,0,1,1,2.7386127875258306,0\" stroke=\"#f58518\" stroke-width=\"2\" opacity=\"0.7\"></path><path aria-label=\"x1: -6.6034236925; x2: 1.42511214663; y: 1\" role=\"graphics-symbol\" aria-roledescription=\"point\" transform=\"translate(56.89674082691576,161.9431983707966)\" d=\"M2.7386127875258306,0A2.7386127875258306,2.7386127875258306,0,1,1,-2.7386127875258306,0A2.7386127875258306,2.7386127875258306,0,1,1,2.7386127875258306,0\" stroke=\"#4c78a8\" stroke-width=\"2\" opacity=\"0.7\"></path><path aria-label=\"x1: 5.51975488687; x2: 6.48077512426; y: 2\" role=\"graphics-symbol\" aria-roledescription=\"point\" transform=\"translate(150.15196066822048,105.7691652860398)\" d=\"M2.7386127875258306,0A2.7386127875258306,2.7386127875258306,0,1,1,-2.7386127875258306,0A2.7386127875258306,2.7386127875258306,0,1,1,2.7386127875258306,0\" stroke=\"#f58518\" stroke-width=\"2\" opacity=\"0.7\"></path><path aria-label=\"x1: 7.51485847229; x2: 9.00140784101; y: 2\" role=\"graphics-symbol\" aria-roledescription=\"point\" transform=\"translate(165.49891132533904,77.76213509983651)\" d=\"M2.7386127875258306,0A2.7386127875258306,2.7386127875258306,0,1,1,-2.7386127875258306,0A2.7386127875258306,2.7386127875258306,0,1,1,2.7386127875258306,0\" stroke=\"#f58518\" stroke-width=\"2\" opacity=\"0.7\"></path><path aria-label=\"x1: -6.12368261491; x2: 1.22716388448; y: 1\" role=\"graphics-symbol\" aria-roledescription=\"point\" transform=\"translate(60.587056808365894,164.14262350578437)\" d=\"M2.7386127875258306,0A2.7386127875258306,2.7386127875258306,0,1,1,-2.7386127875258306,0A2.7386127875258306,2.7386127875258306,0,1,1,2.7386127875258306,0\" stroke=\"#4c78a8\" stroke-width=\"2\" opacity=\"0.7\"></path><path aria-label=\"x1: -6.72619832662; x2: 0.40929686309; y: 1\" role=\"graphics-symbol\" aria-roledescription=\"point\" transform=\"translate(55.95232056442979,173.23003485455325)\" d=\"M2.7386127875258306,0A2.7386127875258306,2.7386127875258306,0,1,1,-2.7386127875258306,0A2.7386127875258306,2.7386127875258306,0,1,1,2.7386127875258306,0\" stroke=\"#4c78a8\" stroke-width=\"2\" opacity=\"0.7\"></path><path aria-label=\"x1: 5.93019431117; x2: 10.7200838195; y: 2\" role=\"graphics-symbol\" aria-roledescription=\"point\" transform=\"translate(153.30918700900529,58.66573533898689)\" d=\"M2.7386127875258306,0A2.7386127875258306,2.7386127875258306,0,1,1,-2.7386127875258306,0A2.7386127875258306,2.7386127875258306,0,1,1,2.7386127875258306,0\" stroke=\"#f58518\" stroke-width=\"2\" opacity=\"0.7\"></path><path aria-label=\"x1: 4.10620227243; x2: 6.58025238603; y: 2\" role=\"graphics-symbol\" aria-roledescription=\"point\" transform=\"translate(139.27847901867668,104.66386237748635)\" d=\"M2.7386127875258306,0A2.7386127875258306,2.7386127875258306,0,1,1,-2.7386127875258306,0A2.7386127875258306,2.7386127875258306,0,1,1,2.7386127875258306,0\" stroke=\"#f58518\" stroke-width=\"2\" opacity=\"0.7\"></path><path aria-label=\"x1: -3.31797349442; x2: 10.9126768148; y: 2\" role=\"graphics-symbol\" aria-roledescription=\"point\" transform=\"translate(82.1694346582877,56.52581316906318)\" d=\"M2.7386127875258306,0A2.7386127875258306,2.7386127875258306,0,1,1,-2.7386127875258306,0A2.7386127875258306,2.7386127875258306,0,1,1,2.7386127875258306,0\" stroke=\"#f58518\" stroke-width=\"2\" opacity=\"0.7\"></path><path aria-label=\"x1: 6.90935406295; x2: 5.04623034935; y: 2\" role=\"graphics-symbol\" aria-roledescription=\"point\" transform=\"translate(160.84118509964955,121.70855167385697)\" d=\"M2.7386127875258306,0A2.7386127875258306,2.7386127875258306,0,1,1,-2.7386127875258306,0A2.7386127875258306,2.7386127875258306,0,1,1,2.7386127875258306,0\" stroke=\"#f58518\" stroke-width=\"2\" opacity=\"0.7\"></path><path aria-label=\"x1: 3.0718701931; x2: 7.36718962935; y: 2\" role=\"graphics-symbol\" aria-roledescription=\"point\" transform=\"translate(131.3220784084995,95.92011522941925)\" d=\"M2.7386127875258306,0A2.7386127875258306,2.7386127875258306,0,1,1,-2.7386127875258306,0A2.7386127875258306,2.7386127875258306,0,1,1,2.7386127875258306,0\" stroke=\"#f58518\" stroke-width=\"2\" opacity=\"0.7\"></path><path aria-label=\"x1: -5.98461623635; x2: 1.52150151111; y: 1\" role=\"graphics-symbol\" aria-roledescription=\"point\" transform=\"translate(61.65679818196139,160.87220543205993)\" d=\"M2.7386127875258306,0A2.7386127875258306,2.7386127875258306,0,1,1,-2.7386127875258306,0A2.7386127875258306,2.7386127875258306,0,1,1,2.7386127875258306,0\" stroke=\"#4c78a8\" stroke-width=\"2\" opacity=\"0.7\"></path><path aria-label=\"x1: 5.49440038119; x2: 8.29968830182; y: 2\" role=\"graphics-symbol\" aria-roledescription=\"point\" transform=\"translate(149.95692600915729,85.5590188687056)\" d=\"M2.7386127875258306,0A2.7386127875258306,2.7386127875258306,0,1,1,-2.7386127875258306,0A2.7386127875258306,2.7386127875258306,0,1,1,2.7386127875258306,0\" stroke=\"#f58518\" stroke-width=\"2\" opacity=\"0.7\"></path><path aria-label=\"x1: 1.94809604269; x2: 14.1084271328; y: 2\" role=\"graphics-symbol\" aria-roledescription=\"point\" transform=\"translate(122.6776618668166,21.017476301931225)\" d=\"M2.7386127875258306,0A2.7386127875258306,2.7386127875258306,0,1,1,-2.7386127875258306,0A2.7386127875258306,2.7386127875258306,0,1,1,2.7386127875258306,0\" stroke=\"#f58518\" stroke-width=\"2\" opacity=\"0.7\"></path><path aria-label=\"x1: -8.01895143351; x2: -0.143959320022; y: 1\" role=\"graphics-symbol\" aria-roledescription=\"point\" transform=\"translate(46.008065896043796,179.37732577802458)\" d=\"M2.7386127875258306,0A2.7386127875258306,2.7386127875258306,0,1,1,-2.7386127875258306,0A2.7386127875258306,2.7386127875258306,0,1,1,2.7386127875258306,0\" stroke=\"#4c78a8\" stroke-width=\"2\" opacity=\"0.7\"></path><path aria-label=\"x1: 7.44551006734; x2: 2.04832515786; y: 2\" role=\"graphics-symbol\" aria-roledescription=\"point\" transform=\"translate(164.96546205648278,155.0186093571398)\" d=\"M2.7386127875258306,0A2.7386127875258306,2.7386127875258306,0,1,1,-2.7386127875258306,0A2.7386127875258306,2.7386127875258306,0,1,1,2.7386127875258306,0\" stroke=\"#f58518\" stroke-width=\"2\" opacity=\"0.7\"></path><path aria-label=\"x1: 6.79970738398; x2: 6.24883613171; y: 2\" role=\"graphics-symbol\" aria-roledescription=\"point\" transform=\"translate(159.9977491075646,108.34626520327362)\" d=\"M2.7386127875258306,0A2.7386127875258306,2.7386127875258306,0,1,1,-2.7386127875258306,0A2.7386127875258306,2.7386127875258306,0,1,1,2.7386127875258306,0\" stroke=\"#f58518\" stroke-width=\"2\" opacity=\"0.7\"></path><path aria-label=\"x1: -5.01437330203; x2: 0.886339288912; y: 1\" role=\"graphics-symbol\" aria-roledescription=\"point\" transform=\"translate(69.12020536898262,167.92956345653369)\" d=\"M2.7386127875258306,0A2.7386127875258306,2.7386127875258306,0,1,1,-2.7386127875258306,0A2.7386127875258306,2.7386127875258306,0,1,1,2.7386127875258306,0\" stroke=\"#4c78a8\" stroke-width=\"2\" opacity=\"0.7\"></path><path aria-label=\"x1: -5.69033155277; x2: 0.422751396624; y: 1\" role=\"graphics-symbol\" aria-roledescription=\"point\" transform=\"translate(63.92052651713649,173.08054003750925)\" d=\"M2.7386127875258306,0A2.7386127875258306,2.7386127875258306,0,1,1,-2.7386127875258306,0A2.7386127875258306,2.7386127875258306,0,1,1,2.7386127875258306,0\" stroke=\"#4c78a8\" stroke-width=\"2\" opacity=\"0.7\"></path><path aria-label=\"x1: -6.41678268532; x2: 0.467753098395; y: 1\" role=\"graphics-symbol\" aria-roledescription=\"point\" transform=\"translate(58.33244088216533,172.58052112893998)\" d=\"M2.7386127875258306,0A2.7386127875258306,2.7386127875258306,0,1,1,-2.7386127875258306,0A2.7386127875258306,2.7386127875258306,0,1,1,2.7386127875258306,0\" stroke=\"#4c78a8\" stroke-width=\"2\" opacity=\"0.7\"></path><path aria-label=\"x1: -6.72458162506; x2: 1.07139076864; y: 1\" role=\"graphics-symbol\" aria-roledescription=\"point\" transform=\"translate(55.964756730270416,165.87343590402634)\" d=\"M2.7386127875258306,0A2.7386127875258306,2.7386127875258306,0,1,1,-2.7386127875258306,0A2.7386127875258306,2.7386127875258306,0,1,1,2.7386127875258306,0\" stroke=\"#4c78a8\" stroke-width=\"2\" opacity=\"0.7\"></path><path aria-label=\"x1: -4.99326690011; x2: 0.680293286169; y: 1\" role=\"graphics-symbol\" aria-roledescription=\"point\" transform=\"translate(69.28256230683998,170.21896348700605)\" d=\"M2.7386127875258306,0A2.7386127875258306,2.7386127875258306,0,1,1,-2.7386127875258306,0A2.7386127875258306,2.7386127875258306,0,1,1,2.7386127875258306,0\" stroke=\"#4c78a8\" stroke-width=\"2\" opacity=\"0.7\"></path><path aria-label=\"x1: 10.5792781793; x2: 14.0171960073; y: 2\" role=\"graphics-symbol\" aria-roledescription=\"point\" transform=\"translate(189.07137060983658,22.03115547436889)\" d=\"M2.7386127875258306,0A2.7386127875258306,2.7386127875258306,0,1,1,-2.7386127875258306,0A2.7386127875258306,2.7386127875258306,0,1,1,2.7386127875258306,0\" stroke=\"#f58518\" stroke-width=\"2\" opacity=\"0.7\"></path><path aria-label=\"x1: -6.90762247941; x2: 0.702497386409; y: 1\" role=\"graphics-symbol\" aria-roledescription=\"point\" transform=\"translate(54.556750158422496,169.9722512621215)\" d=\"M2.7386127875258306,0A2.7386127875258306,2.7386127875258306,0,1,1,-2.7386127875258306,0A2.7386127875258306,2.7386127875258306,0,1,1,2.7386127875258306,0\" stroke=\"#4c78a8\" stroke-width=\"2\" opacity=\"0.7\"></path><path aria-label=\"x1: -7.00677153307; x2: 0.0612221088755; y: 1\" role=\"graphics-symbol\" aria-roledescription=\"point\" transform=\"translate(53.79406513023256,177.09753212360522)\" d=\"M2.7386127875258306,0A2.7386127875258306,2.7386127875258306,0,1,1,-2.7386127875258306,0A2.7386127875258306,2.7386127875258306,0,1,1,2.7386127875258306,0\" stroke=\"#4c78a8\" stroke-width=\"2\" opacity=\"0.7\"></path><path aria-label=\"x1: -7.41771297815; x2: 1.19382444086; y: 1\" role=\"graphics-symbol\" aria-roledescription=\"point\" transform=\"translate(50.632977091115464,164.5130617681851)\" d=\"M2.7386127875258306,0A2.7386127875258306,2.7386127875258306,0,1,1,-2.7386127875258306,0A2.7386127875258306,2.7386127875258306,0,1,1,2.7386127875258306,0\" stroke=\"#4c78a8\" stroke-width=\"2\" opacity=\"0.7\"></path><path aria-label=\"x1: 6.46170864746; x2: 6.36232655337; y: 2\" role=\"graphics-symbol\" aria-roledescription=\"point\" transform=\"translate(157.3977588266368,107.08526051808269)\" d=\"M2.7386127875258306,0A2.7386127875258306,2.7386127875258306,0,1,1,-2.7386127875258306,0A2.7386127875258306,2.7386127875258306,0,1,1,2.7386127875258306,0\" stroke=\"#f58518\" stroke-width=\"2\" opacity=\"0.7\"></path><path aria-label=\"x1: 5.80564835856; x2: 6.91509518258; y: 2\" role=\"graphics-symbol\" aria-roledescription=\"point\" transform=\"translate(152.3511412197267,100.94338686020015)\" d=\"M2.7386127875258306,0A2.7386127875258306,2.7386127875258306,0,1,1,-2.7386127875258306,0A2.7386127875258306,2.7386127875258306,0,1,1,2.7386127875258306,0\" stroke=\"#f58518\" stroke-width=\"2\" opacity=\"0.7\"></path><path aria-label=\"x1: -6.16762414759; x2: 0.581065267643; y: 1\" role=\"graphics-symbol\" aria-roledescription=\"point\" transform=\"translate(60.249045018555826,171.32149702618435)\" d=\"M2.7386127875258306,0A2.7386127875258306,2.7386127875258306,0,1,1,-2.7386127875258306,0A2.7386127875258306,2.7386127875258306,0,1,1,2.7386127875258306,0\" stroke=\"#4c78a8\" stroke-width=\"2\" opacity=\"0.7\"></path><path aria-label=\"x1: 1.0867390891; x2: 13.428551195; y: 2\" role=\"graphics-symbol\" aria-roledescription=\"point\" transform=\"translate(116.05183914689556,28.571653388359366)\" d=\"M2.7386127875258306,0A2.7386127875258306,2.7386127875258306,0,1,1,-2.7386127875258306,0A2.7386127875258306,2.7386127875258306,0,1,1,2.7386127875258306,0\" stroke=\"#f58518\" stroke-width=\"2\" opacity=\"0.7\"></path><path aria-label=\"x1: 6.07383219656; x2: 9.26212408976; y: 2\" role=\"graphics-symbol\" aria-roledescription=\"point\" transform=\"translate(154.41409381972483,74.86528789153581)\" d=\"M2.7386127875258306,0A2.7386127875258306,2.7386127875258306,0,1,1,-2.7386127875258306,0A2.7386127875258306,2.7386127875258306,0,1,1,2.7386127875258306,0\" stroke=\"#f58518\" stroke-width=\"2\" opacity=\"0.7\"></path><path aria-label=\"x1: -7.02369179926; x2: 2.12596074157; y: 1\" role=\"graphics-symbol\" aria-roledescription=\"point\" transform=\"translate(53.663909236480535,154.15599176033882)\" d=\"M2.7386127875258306,0A2.7386127875258306,2.7386127875258306,0,1,1,-2.7386127875258306,0A2.7386127875258306,2.7386127875258306,0,1,1,2.7386127875258306,0\" stroke=\"#4c78a8\" stroke-width=\"2\" opacity=\"0.7\"></path><path aria-label=\"x1: -6.06620206121; x2: -0.349930576194; y: 1\" role=\"graphics-symbol\" aria-roledescription=\"point\" transform=\"translate(61.029214913749726,181.6658952910461)\" d=\"M2.7386127875258306,0A2.7386127875258306,2.7386127875258306,0,1,1,-2.7386127875258306,0A2.7386127875258306,2.7386127875258306,0,1,1,2.7386127875258306,0\" stroke=\"#4c78a8\" stroke-width=\"2\" opacity=\"0.7\"></path><path aria-label=\"x1: -6.96002981779; x2: 1.16032866768; y: 1\" role=\"graphics-symbol\" aria-roledescription=\"point\" transform=\"translate(54.15361678624029,164.88523702583015)\" d=\"M2.7386127875258306,0A2.7386127875258306,2.7386127875258306,0,1,1,-2.7386127875258306,0A2.7386127875258306,2.7386127875258306,0,1,1,2.7386127875258306,0\" stroke=\"#4c78a8\" stroke-width=\"2\" opacity=\"0.7\"></path><path aria-label=\"x1: -6.8381673094; x2: 1.12860433898; y: 1\" role=\"graphics-symbol\" aria-roledescription=\"point\" transform=\"translate(55.09102069691119,165.23772956693995)\" d=\"M2.7386127875258306,0A2.7386127875258306,2.7386127875258306,0,1,1,-2.7386127875258306,0A2.7386127875258306,2.7386127875258306,0,1,1,2.7386127875258306,0\" stroke=\"#4c78a8\" stroke-width=\"2\" opacity=\"0.7\"></path><path aria-label=\"x1: 9.04678614978; x2: 10.2340668554; y: 2\" role=\"graphics-symbol\" aria-roledescription=\"point\" transform=\"translate(177.28297038294457,64.06592382921339)\" d=\"M2.7386127875258306,0A2.7386127875258306,2.7386127875258306,0,1,1,-2.7386127875258306,0A2.7386127875258306,2.7386127875258306,0,1,1,2.7386127875258306,0\" stroke=\"#f58518\" stroke-width=\"2\" opacity=\"0.7\"></path><path aria-label=\"x1: 3.75726886577; x2: 8.3677244503; y: 2\" role=\"graphics-symbol\" aria-roledescription=\"point\" transform=\"translate(136.5943758905217,84.80306166329632)\" d=\"M2.7386127875258306,0A2.7386127875258306,2.7386127875258306,0,1,1,-2.7386127875258306,0A2.7386127875258306,2.7386127875258306,0,1,1,2.7386127875258306,0\" stroke=\"#f58518\" stroke-width=\"2\" opacity=\"0.7\"></path><path aria-label=\"x1: -2.73411830602; x2: 6.37507005737; y: 2\" role=\"graphics-symbol\" aria-roledescription=\"point\" transform=\"translate(86.66062841522634,106.94366602925038)\" d=\"M2.7386127875258306,0A2.7386127875258306,2.7386127875258306,0,1,1,-2.7386127875258306,0A2.7386127875258306,2.7386127875258306,0,1,1,2.7386127875258306,0\" stroke=\"#f58518\" stroke-width=\"2\" opacity=\"0.7\"></path><path aria-label=\"x1: -6.68009915274; x2: 1.02337727789; y: 1\" role=\"graphics-symbol\" aria-roledescription=\"point\" transform=\"translate(56.30692959427945,166.40691913458284)\" d=\"M2.7386127875258306,0A2.7386127875258306,2.7386127875258306,0,1,1,-2.7386127875258306,0A2.7386127875258306,2.7386127875258306,0,1,1,2.7386127875258306,0\" stroke=\"#4c78a8\" stroke-width=\"2\" opacity=\"0.7\"></path><path aria-label=\"x1: 6.83198192413; x2: 6.9595823299; y: 2\" role=\"graphics-symbol\" aria-roledescription=\"point\" transform=\"translate(160.24601480100733,100.44908522329072)\" d=\"M2.7386127875258306,0A2.7386127875258306,2.7386127875258306,0,1,1,-2.7386127875258306,0A2.7386127875258306,2.7386127875258306,0,1,1,2.7386127875258306,0\" stroke=\"#f58518\" stroke-width=\"2\" opacity=\"0.7\"></path><path aria-label=\"x1: -6.50917984106; x2: 0.439814448433; y: 1\" role=\"graphics-symbol\" aria-roledescription=\"point\" transform=\"translate(57.621693530303716,172.89095057296313)\" d=\"M2.7386127875258306,0A2.7386127875258306,2.7386127875258306,0,1,1,-2.7386127875258306,0A2.7386127875258306,2.7386127875258306,0,1,1,2.7386127875258306,0\" stroke=\"#4c78a8\" stroke-width=\"2\" opacity=\"0.7\"></path><path aria-label=\"x1: 0.113506079729; x2: 9.5995405891; y: 2\" role=\"graphics-symbol\" aria-roledescription=\"point\" transform=\"translate(108.56543138253278,71.11621567669415)\" d=\"M2.7386127875258306,0A2.7386127875258306,2.7386127875258306,0,1,1,-2.7386127875258306,0A2.7386127875258306,2.7386127875258306,0,1,1,2.7386127875258306,0\" stroke=\"#f58518\" stroke-width=\"2\" opacity=\"0.7\"></path><path aria-label=\"x1: 2.67137411295; x2: 12.3955836674; y: 2\" role=\"graphics-symbol\" aria-roledescription=\"point\" transform=\"translate(128.24133933035154,40.04907036184322)\" d=\"M2.7386127875258306,0A2.7386127875258306,2.7386127875258306,0,1,1,-2.7386127875258306,0A2.7386127875258306,2.7386127875258306,0,1,1,2.7386127875258306,0\" stroke=\"#f58518\" stroke-width=\"2\" opacity=\"0.7\"></path><path aria-label=\"x1: -5.52579042115; x2: 1.66790810008; y: 1\" role=\"graphics-symbol\" aria-roledescription=\"point\" transform=\"translate(65.1862275295844,159.24546555465656)\" d=\"M2.7386127875258306,0A2.7386127875258306,2.7386127875258306,0,1,1,-2.7386127875258306,0A2.7386127875258306,2.7386127875258306,0,1,1,2.7386127875258306,0\" stroke=\"#4c78a8\" stroke-width=\"2\" opacity=\"0.7\"></path><path aria-label=\"x1: 4.41227814754; x2: 12.4000230424; y: 2\" role=\"graphics-symbol\" aria-roledescription=\"point\" transform=\"translate(141.63290882724183,39.99974397375572)\" d=\"M2.7386127875258306,0A2.7386127875258306,2.7386127875258306,0,1,1,-2.7386127875258306,0A2.7386127875258306,2.7386127875258306,0,1,1,2.7386127875258306,0\" stroke=\"#f58518\" stroke-width=\"2\" opacity=\"0.7\"></path><path aria-label=\"x1: -6.29404627129; x2: 0.701001026944; y: 1\" role=\"graphics-symbol\" aria-roledescription=\"point\" transform=\"translate(59.27656714390825,169.988877478398)\" d=\"M2.7386127875258306,0A2.7386127875258306,2.7386127875258306,0,1,1,-2.7386127875258306,0A2.7386127875258306,2.7386127875258306,0,1,1,2.7386127875258306,0\" stroke=\"#4c78a8\" stroke-width=\"2\" opacity=\"0.7\"></path><path aria-label=\"x1: -5.00586372429; x2: 1.42893433093; y: 1\" role=\"graphics-symbol\" aria-roledescription=\"point\" transform=\"translate(69.1856636593086,161.90072965637083)\" d=\"M2.7386127875258306,0A2.7386127875258306,2.7386127875258306,0,1,1,-2.7386127875258306,0A2.7386127875258306,2.7386127875258306,0,1,1,2.7386127875258306,0\" stroke=\"#4c78a8\" stroke-width=\"2\" opacity=\"0.7\"></path><path aria-label=\"x1: -7.00512095389; x2: 0.376238691761; y: 1\" role=\"graphics-symbol\" aria-roledescription=\"point\" transform=\"translate(53.806761893118995,173.59734786932393)\" d=\"M2.7386127875258306,0A2.7386127875258306,2.7386127875258306,0,1,1,-2.7386127875258306,0A2.7386127875258306,2.7386127875258306,0,1,1,2.7386127875258306,0\" stroke=\"#4c78a8\" stroke-width=\"2\" opacity=\"0.7\"></path><path aria-label=\"x1: -5.6401866547; x2: 0.169716541322; y: 1\" role=\"graphics-symbol\" aria-roledescription=\"point\" transform=\"translate(64.30625650233249,175.89203842975425)\" d=\"M2.7386127875258306,0A2.7386127875258306,2.7386127875258306,0,1,1,-2.7386127875258306,0A2.7386127875258306,2.7386127875258306,0,1,1,2.7386127875258306,0\" stroke=\"#4c78a8\" stroke-width=\"2\" opacity=\"0.7\"></path><path aria-label=\"x1: -7.92616877524; x2: 0.280874368137; y: 1\" role=\"graphics-symbol\" aria-roledescription=\"point\" transform=\"translate(46.72177865202302,174.65695146514926)\" d=\"M2.7386127875258306,0A2.7386127875258306,2.7386127875258306,0,1,1,-2.7386127875258306,0A2.7386127875258306,2.7386127875258306,0,1,1,2.7386127875258306,0\" stroke=\"#4c78a8\" stroke-width=\"2\" opacity=\"0.7\"></path><path aria-label=\"x1: -5.92889541776; x2: 0.506972736714; y: 1\" role=\"graphics-symbol\" aria-roledescription=\"point\" transform=\"translate(62.0854198633513,172.14474736984116)\" d=\"M2.7386127875258306,0A2.7386127875258306,2.7386127875258306,0,1,1,-2.7386127875258306,0A2.7386127875258306,2.7386127875258306,0,1,1,2.7386127875258306,0\" stroke=\"#4c78a8\" stroke-width=\"2\" opacity=\"0.7\"></path><path aria-label=\"x1: 2.35487952738; x2: 7.12506227906; y: 2\" role=\"graphics-symbol\" aria-roledescription=\"point\" transform=\"translate(125.80676559526015,98.6104191215428)\" d=\"M2.7386127875258306,0A2.7386127875258306,2.7386127875258306,0,1,1,-2.7386127875258306,0A2.7386127875258306,2.7386127875258306,0,1,1,2.7386127875258306,0\" stroke=\"#f58518\" stroke-width=\"2\" opacity=\"0.7\"></path><path aria-label=\"x1: -5.19910165131; x2: 1.16159574663; y: 1\" role=\"graphics-symbol\" aria-roledescription=\"point\" transform=\"translate(67.69921806687394,164.87115837073753)\" d=\"M2.7386127875258306,0A2.7386127875258306,2.7386127875258306,0,1,1,-2.7386127875258306,0A2.7386127875258306,2.7386127875258306,0,1,1,2.7386127875258306,0\" stroke=\"#4c78a8\" stroke-width=\"2\" opacity=\"0.7\"></path><path aria-label=\"x1: -5.84518803906; x2: 0.606214807999; y: 1\" role=\"graphics-symbol\" aria-roledescription=\"point\" transform=\"translate(62.72932277644939,171.04205768890134)\" d=\"M2.7386127875258306,0A2.7386127875258306,2.7386127875258306,0,1,1,-2.7386127875258306,0A2.7386127875258306,2.7386127875258306,0,1,1,2.7386127875258306,0\" stroke=\"#4c78a8\" stroke-width=\"2\" opacity=\"0.7\"></path><path aria-label=\"x1: 5.70646850816; x2: 10.55891457; y: 2\" role=\"graphics-symbol\" aria-roledescription=\"point\" transform=\"translate(151.58821929353013,60.456504777508194)\" d=\"M2.7386127875258306,0A2.7386127875258306,2.7386127875258306,0,1,1,-2.7386127875258306,0A2.7386127875258306,2.7386127875258306,0,1,1,2.7386127875258306,0\" stroke=\"#f58518\" stroke-width=\"2\" opacity=\"0.7\"></path><path aria-label=\"x1: 3.09197541825; x2: 9.20428561607; y: 2\" role=\"graphics-symbol\" aria-roledescription=\"point\" transform=\"translate(131.47673398653444,75.5079375991869)\" d=\"M2.7386127875258306,0A2.7386127875258306,2.7386127875258306,0,1,1,-2.7386127875258306,0A2.7386127875258306,2.7386127875258306,0,1,1,2.7386127875258306,0\" stroke=\"#f58518\" stroke-width=\"2\" opacity=\"0.7\"></path><path aria-label=\"x1: 8.02444912974; x2: 8.24945263157; y: 2\" role=\"graphics-symbol\" aria-roledescription=\"point\" transform=\"translate(169.41883945950985,86.11719298253524)\" d=\"M2.7386127875258306,0A2.7386127875258306,2.7386127875258306,0,1,1,-2.7386127875258306,0A2.7386127875258306,2.7386127875258306,0,1,1,2.7386127875258306,0\" stroke=\"#f58518\" stroke-width=\"2\" opacity=\"0.7\"></path><path aria-label=\"x1: -6.44667160134; x2: 2.48991733197; y: 1\" role=\"graphics-symbol\" aria-roledescription=\"point\" transform=\"translate(58.102526143561896,150.11202964476266)\" d=\"M2.7386127875258306,0A2.7386127875258306,2.7386127875258306,0,1,1,-2.7386127875258306,0A2.7386127875258306,2.7386127875258306,0,1,1,2.7386127875258306,0\" stroke=\"#4c78a8\" stroke-width=\"2\" opacity=\"0.7\"></path><path aria-label=\"x1: 8.88047790718; x2: 7.55418159757; y: 2\" role=\"graphics-symbol\" aria-roledescription=\"point\" transform=\"translate(176.0036762090786,93.84242669364124)\" d=\"M2.7386127875258306,0A2.7386127875258306,2.7386127875258306,0,1,1,-2.7386127875258306,0A2.7386127875258306,2.7386127875258306,0,1,1,2.7386127875258306,0\" stroke=\"#f58518\" stroke-width=\"2\" opacity=\"0.7\"></path><path aria-label=\"x1: -12.6075103346; x2: 8.61072749305; y: 1\" role=\"graphics-symbol\" aria-roledescription=\"point\" transform=\"translate(10.71145896492034,82.10302785495071)\" d=\"M2.7386127875258306,0A2.7386127875258306,2.7386127875258306,0,1,1,-2.7386127875258306,0A2.7386127875258306,2.7386127875258306,0,1,1,2.7386127875258306,0\" stroke=\"#4c78a8\" stroke-width=\"2\" opacity=\"0.7\"></path><path aria-label=\"x1: 1.0250686299; x2: 2.92454651958; y: 2\" role=\"graphics-symbol\" aria-roledescription=\"point\" transform=\"translate(115.57745099924188,145.28281644911897)\" d=\"M2.7386127875258306,0A2.7386127875258306,2.7386127875258306,0,1,1,-2.7386127875258306,0A2.7386127875258306,2.7386127875258306,0,1,1,2.7386127875258306,0\" stroke=\"#f58518\" stroke-width=\"2\" opacity=\"0.7\"></path><path aria-label=\"x1: -5.64713558982; x2: 0.246474462046; y: 1\" role=\"graphics-symbol\" aria-roledescription=\"point\" transform=\"translate(64.25280315520746,175.0391726439339)\" d=\"M2.7386127875258306,0A2.7386127875258306,2.7386127875258306,0,1,1,-2.7386127875258306,0A2.7386127875258306,2.7386127875258306,0,1,1,2.7386127875258306,0\" stroke=\"#4c78a8\" stroke-width=\"2\" opacity=\"0.7\"></path><path aria-label=\"x1: -7.69527426736; x2: -0.681081505334; y: 1\" role=\"graphics-symbol\" aria-roledescription=\"point\" transform=\"translate(48.49789025109139,185.34535005927083)\" d=\"M2.7386127875258306,0A2.7386127875258306,2.7386127875258306,0,1,1,-2.7386127875258306,0A2.7386127875258306,2.7386127875258306,0,1,1,2.7386127875258306,0\" stroke=\"#4c78a8\" stroke-width=\"2\" opacity=\"0.7\"></path></g><g class=\"mark-group role-legend\" role=\"graphics-symbol\" aria-roledescription=\"legend\" aria-label=\"Symbol legend titled 'y' for stroke color with 2 values: 1, 2\"><g transform=\"translate(218,0)\"><path class=\"background\" aria-hidden=\"true\" d=\"M0,0h22v45h-22Z\" pointer-events=\"none\"></path><g><g class=\"mark-group role-legend-entry\"><g transform=\"translate(0,16)\"><path class=\"background\" aria-hidden=\"true\" d=\"M0,0h0v0h0Z\" pointer-events=\"none\"></path><g><g class=\"mark-group role-scope\" role=\"graphics-object\" aria-roledescription=\"group mark container\"><g transform=\"translate(0,0)\"><path class=\"background\" aria-hidden=\"true\" d=\"M0,0h22v12.5h-22Z\" pointer-events=\"none\" opacity=\"1\"></path><g><g class=\"mark-symbol role-legend-symbol\" pointer-events=\"none\"><path transform=\"translate(6,6)\" d=\"M5,0A5,5,0,1,1,-5,0A5,5,0,1,1,5,0\" stroke=\"#4c78a8\" stroke-width=\"1.5\" opacity=\"0.7\"></path></g><g class=\"mark-text role-legend-label\" pointer-events=\"none\"><text text-anchor=\"start\" transform=\"translate(16,9)\" font-family=\"sans-serif\" font-size=\"10px\" fill=\"#000\" opacity=\"1\">1</text></g></g><path class=\"foreground\" aria-hidden=\"true\" d=\"\" pointer-events=\"none\" display=\"none\"></path></g><g transform=\"translate(0,16)\"><path class=\"background\" aria-hidden=\"true\" d=\"M0,0h22v12.5h-22Z\" pointer-events=\"none\" opacity=\"1\"></path><g><g class=\"mark-symbol role-legend-symbol\" pointer-events=\"none\"><path transform=\"translate(6,6)\" d=\"M5,0A5,5,0,1,1,-5,0A5,5,0,1,1,5,0\" stroke=\"#f58518\" stroke-width=\"1.5\" opacity=\"0.7\"></path></g><g class=\"mark-text role-legend-label\" pointer-events=\"none\"><text text-anchor=\"start\" transform=\"translate(16,9)\" font-family=\"sans-serif\" font-size=\"10px\" fill=\"#000\" opacity=\"1\">2</text></g></g><path class=\"foreground\" aria-hidden=\"true\" d=\"\" pointer-events=\"none\" display=\"none\"></path></g></g></g><path class=\"foreground\" aria-hidden=\"true\" d=\"\" pointer-events=\"none\" display=\"none\"></path></g></g><g class=\"mark-text role-legend-title\" pointer-events=\"none\"><text text-anchor=\"start\" transform=\"translate(0,9)\" font-family=\"sans-serif\" font-size=\"11px\" font-weight=\"bold\" fill=\"#000\" opacity=\"1\">y</text></g></g><path class=\"foreground\" aria-hidden=\"true\" d=\"\" pointer-events=\"none\" display=\"none\"></path></g></g></g><path class=\"foreground\" aria-hidden=\"true\" d=\"\" display=\"none\"></path></g></g></g></svg>\n"
      ],
      "text/plain": [
       "@vlplot(\n",
       "    mark=\"point\",\n",
       "    encoding={\n",
       "        x={\n",
       "            field=\"x1\"\n",
       "        },\n",
       "        y={\n",
       "            field=\"x2\"\n",
       "        },\n",
       "        color={\n",
       "            field=\"y\",\n",
       "            type=\"nominal\"\n",
       "        }\n",
       "    },\n",
       "    data={\n",
       "        values=...\n",
       "    }\n",
       ")"
      ]
     },
     "execution_count": 34,
     "metadata": {},
     "output_type": "execute_result"
    }
   ],
   "source": [
    "dfBlobs |> @vlplot(:point, x=:x1, y=:x2, color = :\"y:n\") "
   ]
  },
  {
   "cell_type": "code",
   "execution_count": 35,
   "metadata": {},
   "outputs": [
    {
     "data": {
      "application/vnd.vegalite.v4+json": {
       "data": {
        "values": [
         {
          "x1": 5.306005021959495,
          "x2": 7.335482624189757,
          "x3": 9.944601000458027,
          "y": 2
         },
         {
          "x1": 5.147568921504009,
          "x2": 5.8813034532746995,
          "x3": 8.840963053930292,
          "y": 2
         },
         {
          "x1": 3.3411808726853685,
          "x2": 9.366172631347517,
          "x3": 12.152884110801548,
          "y": 2
         },
         {
          "x1": 2.6932427492747086,
          "x2": 3.8755332877752684,
          "x3": 9.270813880679283,
          "y": 2
         },
         {
          "x1": 0.6770531437203839,
          "x2": 10.264623631901205,
          "x3": 5.085967793710564,
          "y": 2
         },
         {
          "x1": 5.968852193249184,
          "x2": 8.357575341247632,
          "x3": 8.872844466144551,
          "y": 2
         },
         {
          "x1": -4.39743258847105,
          "x2": 0.22579121587189077,
          "x3": 2.9775513794984425,
          "y": 1
         },
         {
          "x1": 4.09852883091066,
          "x2": 7.612602535987916,
          "x3": 8.060627087119165,
          "y": 2
         },
         {
          "x1": -7.324367023029809,
          "x2": 0.0778041721398871,
          "x3": 2.0349068187426385,
          "y": 1
         },
         {
          "x1": -8.745561356435438,
          "x2": 2.5529094716793113,
          "x3": 1.5204328242390648,
          "y": 1
         },
         {
          "x1": 7.616977847853697,
          "x2": 9.82225276655119,
          "x3": 7.172031495878239,
          "y": 2
         },
         {
          "x1": 8.071772326373031,
          "x2": 8.983164044631483,
          "x3": 8.557783745260094,
          "y": 2
         },
         {
          "x1": -7.046450150439305,
          "x2": 0.24482682433383396,
          "x3": 0.3932962560518285,
          "y": 1
         },
         {
          "x1": -4.705496488341051,
          "x2": -0.45049666203100913,
          "x3": 1.9262734168981595,
          "y": 1
         },
         {
          "x1": 11.595152560575603,
          "x2": 9.228140189126826,
          "x3": 9.288065928559037,
          "y": 2
         },
         {
          "x1": -6.069424960021441,
          "x2": 1.2911725382085457,
          "x3": 1.0907380932065402,
          "y": 1
         },
         {
          "x1": -5.7449277814355835,
          "x2": 1.0472264031263927,
          "x3": 0.16999694438193202,
          "y": 1
         },
         {
          "x1": 1.1113880031932513,
          "x2": 11.133362944448933,
          "x3": 9.214199993916857,
          "y": 2
         },
         {
          "x1": 6.159361484032356,
          "x2": 3.3863641163542564,
          "x3": 7.53031742921594,
          "y": 2
         },
         {
          "x1": -8.105345303776742,
          "x2": 0.5952895660270243,
          "x3": 1.7554179358559807,
          "y": 1
         },
         {
          "x1": -6.423032897347717,
          "x2": 0.5814779750175166,
          "x3": 3.085181299091594,
          "y": 1
         },
         {
          "x1": 8.372217288708146,
          "x2": 6.63661376428365,
          "x3": 10.84923190020915,
          "y": 2
         },
         {
          "x1": -5.348993383818792,
          "x2": 0.3297705489333681,
          "x3": 1.5587688704737914,
          "y": 1
         },
         {
          "x1": 2.085881445011414,
          "x2": 7.9335745372738335,
          "x3": 6.05406927966831,
          "y": 2
         },
         {
          "x1": -9.017987265056075,
          "x2": 1.8509357716604753,
          "x3": 0.0913476444073924,
          "y": 1
         },
         {
          "x1": 9.646253407877666,
          "x2": 5.80000520980094,
          "x3": 8.972265910935798,
          "y": 2
         },
         {
          "x1": 8.864702033702638,
          "x2": 8.92532437360878,
          "x3": 8.900877681863578,
          "y": 2
         },
         {
          "x1": 0.18156583554744632,
          "x2": 13.549088006915632,
          "x3": 7.285014638622502,
          "y": 2
         },
         {
          "x1": 1.1439631988552952,
          "x2": 8.310479261886254,
          "x3": 9.460835048564668,
          "y": 2
         },
         {
          "x1": -6.496162315707228,
          "x2": 0.7798105520168815,
          "x3": 1.6795365742316954,
          "y": 1
         },
         {
          "x1": -4.942995188595747,
          "x2": 0.4505625884730579,
          "x3": 1.2216877281296248,
          "y": 1
         },
         {
          "x1": 0.9927022823824796,
          "x2": 11.965635610307858,
          "x3": 6.59138407635763,
          "y": 2
         },
         {
          "x1": 4.037814391736782,
          "x2": 5.694494099269116,
          "x3": 9.530437252586479,
          "y": 2
         },
         {
          "x1": -7.022998297300603,
          "x2": 0.052246945630883945,
          "x3": 3.186839613706088,
          "y": 1
         },
         {
          "x1": -6.33290824566598,
          "x2": 3.4766182520062405,
          "x3": 2.525264364835934,
          "y": 1
         },
         {
          "x1": -5.885140734550758,
          "x2": 1.2215416489037356,
          "x3": 2.493864702782236,
          "y": 1
         },
         {
          "x1": -7.813223110136804,
          "x2": 0.23525894794594449,
          "x3": 2.3814224877045964,
          "y": 1
         },
         {
          "x1": 8.304706959809739,
          "x2": 6.574644565329651,
          "x3": 10.016530896276773,
          "y": 2
         },
         {
          "x1": -6.603423692500952,
          "x2": 1.425112146628306,
          "x3": 0.8244441447758177,
          "y": 1
         },
         {
          "x1": 5.519754886868661,
          "x2": 6.480775124256417,
          "x3": 6.503306958983235,
          "y": 2
         },
         {
          "x1": 7.514858472294074,
          "x2": 9.001407841014714,
          "x3": 9.811963528463925,
          "y": 2
         },
         {
          "x1": -6.123682614912434,
          "x2": 1.227163884479407,
          "x3": 3.5355119070179524,
          "y": 1
         },
         {
          "x1": -6.726198326624127,
          "x2": 0.4092968630902092,
          "x3": 2.3954114685515053,
          "y": 1
         },
         {
          "x1": 5.930194311170686,
          "x2": 10.72008381949118,
          "x3": 6.86470761326764,
          "y": 2
         },
         {
          "x1": 4.106202272427967,
          "x2": 6.580252386026229,
          "x3": 8.164325778675643,
          "y": 2
         },
         {
          "x1": -3.317973494422599,
          "x2": 10.912676814784314,
          "x3": 3.8953603521967715,
          "y": 2
         },
         {
          "x1": 6.909354062954444,
          "x2": 5.0462303493528715,
          "x3": 12.058630792439827,
          "y": 2
         },
         {
          "x1": 3.0718701931049344,
          "x2": 7.367189629352266,
          "x3": 7.31926454176149,
          "y": 2
         },
         {
          "x1": -5.984616236345019,
          "x2": 1.521501511114606,
          "x3": 2.2892600135996544,
          "y": 1
         },
         {
          "x1": 5.49440038119045,
          "x2": 8.299688301816495,
          "x3": 7.640181394759286,
          "y": 2
         },
         {
          "x1": 1.94809604268616,
          "x2": 14.10842713282619,
          "x3": 1.8126501801237964,
          "y": 2
         },
         {
          "x1": -8.018951433514307,
          "x2": -0.14395932002221212,
          "x3": 3.1714601355230707,
          "y": 1
         },
         {
          "x1": 7.445510067342759,
          "x2": 2.048325157857418,
          "x3": 12.350596266460862,
          "y": 2
         },
         {
          "x1": 6.7997073839834,
          "x2": 6.248836131705375,
          "x3": 6.062424512606552,
          "y": 2
         },
         {
          "x1": -5.01437330203226,
          "x2": 0.8863392889119668,
          "x3": 1.0448890951995615,
          "y": 1
         },
         {
          "x1": -5.690331552772256,
          "x2": 0.4227513966241664,
          "x3": 1.7938515639111308,
          "y": 1
         },
         {
          "x1": -6.416782685318507,
          "x2": 0.4677530983954018,
          "x3": 1.9298335856148408,
          "y": 1
         },
         {
          "x1": -6.724581625064847,
          "x2": 1.071390768637628,
          "x3": 0.010015938629739152,
          "y": 1
         },
         {
          "x1": -4.993266900110802,
          "x2": 0.6802932861694558,
          "x3": 0.7781437764257733,
          "y": 1
         },
         {
          "x1": 10.579278179278752,
          "x2": 14.017196007306799,
          "x3": 6.618059604222563,
          "y": 2
         },
         {
          "x1": -6.907622479405076,
          "x2": 0.7024973864090679,
          "x3": 1.437015733177828,
          "y": 1
         },
         {
          "x1": -7.006771533069767,
          "x2": 0.06122210887553037,
          "x3": 1.2912968442745845,
          "y": 1
         },
         {
          "x1": -7.417712978154991,
          "x2": 1.1938244408633398,
          "x3": 1.4153950234578692,
          "y": 1
         },
         {
          "x1": 6.461708647462787,
          "x2": 6.362326553372559,
          "x3": 3.6333771701021025,
          "y": 2
         },
         {
          "x1": 5.805648358564471,
          "x2": 6.915095182581987,
          "x3": 4.201497474748288,
          "y": 2
         },
         {
          "x1": -6.167624147587743,
          "x2": 0.5810652676434077,
          "x3": 2.194440109706654,
          "y": 1
         },
         {
          "x1": 1.0867390890964237,
          "x2": 13.428551195047657,
          "x3": 2.114490759258274,
          "y": 2
         },
         {
          "x1": 6.073832196564226,
          "x2": 9.262124089761777,
          "x3": 7.214356250800773,
          "y": 2
         },
         {
          "x1": -7.023691799257531,
          "x2": 2.1259607415695045,
          "x3": 3.066403827273544,
          "y": 1
         },
         {
          "x1": -6.066202061212535,
          "x2": -0.3499305761941507,
          "x3": 1.7616878518799626,
          "y": 1
         },
         {
          "x1": -6.9600298177887625,
          "x2": 1.1603286676752858,
          "x3": 2.2958061252417594,
          "y": 1
         },
         {
          "x1": -6.838167309401546,
          "x2": 1.128604338975403,
          "x3": 2.2180103336448695,
          "y": 1
         },
         {
          "x1": 9.046786149782797,
          "x2": 10.234066855370795,
          "x3": 7.287214057986282,
          "y": 2
         },
         {
          "x1": 3.757268865767819,
          "x2": 8.367724450303331,
          "x3": 6.872632413480283,
          "y": 2
         },
         {
          "x1": -2.7341183060205756,
          "x2": 6.375070057367467,
          "x3": 11.75140673036356,
          "y": 2
         },
         {
          "x1": -6.680099152743671,
          "x2": 1.0233772778875447,
          "x3": 2.0903190377434813,
          "y": 1
         },
         {
          "x1": 6.831981924130954,
          "x2": 6.959582329903835,
          "x3": 7.3768596542269425,
          "y": 2
         },
         {
          "x1": -6.509179841060516,
          "x2": 0.43981444843331874,
          "x3": 2.2104958957226026,
          "y": 1
         },
         {
          "x1": 0.11350607972926241,
          "x2": 9.599540589097526,
          "x3": 3.5284608613258026,
          "y": 2
         },
         {
          "x1": 2.6713741129457,
          "x2": 12.39558366743411,
          "x3": 6.579381228370869,
          "y": 2
         },
         {
          "x1": -5.525790421154029,
          "x2": 1.6679081000809108,
          "x3": 1.686566619576914,
          "y": 1
         },
         {
          "x1": 4.412278147541436,
          "x2": 12.400023042361985,
          "x3": 7.627176318873834,
          "y": 2
         },
         {
          "x1": -6.2940462712919265,
          "x2": 0.7010010269441812,
          "x3": 3.105554381298532,
          "y": 1
         },
         {
          "x1": -5.00586372428988,
          "x2": 1.4289343309266256,
          "x3": 2.034829163708235,
          "y": 1
         },
         {
          "x1": -7.005120953894531,
          "x2": 0.3762386917608474,
          "x3": 1.6388536125619892,
          "y": 1
         },
         {
          "x1": -5.640186654696778,
          "x2": 0.1697165413221181,
          "x3": 3.0447935484190976,
          "y": 1
         },
         {
          "x1": -7.926168775237008,
          "x2": 0.28087436813656774,
          "x3": 1.6883969652247877,
          "y": 1
         },
         {
          "x1": -5.9288954177643305,
          "x2": 0.5069727367142964,
          "x3": 0.9633394865473247,
          "y": 1
         },
         {
          "x1": 2.35487952738382,
          "x2": 7.125062279061147,
          "x3": 6.113245425203135,
          "y": 2
         },
         {
          "x1": -5.199101651306389,
          "x2": 1.1615957466336222,
          "x3": 2.2130749590766348,
          "y": 1
         },
         {
          "x1": -5.845188039061578,
          "x2": 0.6062148079988804,
          "x3": 2.4124295012622223,
          "y": 1
         },
         {
          "x1": 5.706468508158918,
          "x2": 10.558914570024262,
          "x3": 4.552052458812694,
          "y": 2
         },
         {
          "x1": 3.0919754182494783,
          "x2": 9.204285616073179,
          "x3": 9.058192770669272,
          "y": 2
         },
         {
          "x1": 8.02444912973628,
          "x2": 8.24945263157183,
          "x3": 4.699164177191914,
          "y": 2
         },
         {
          "x1": -6.446671601336954,
          "x2": 2.489917331971359,
          "x3": 2.3908297780791345,
          "y": 1
         },
         {
          "x1": 8.880477907180222,
          "x2": 7.554181597572289,
          "x3": 5.584436336204944,
          "y": 2
         },
         {
          "x1": -12.607510334560356,
          "x2": 8.610727493054435,
          "x3": 15.99470940274475,
          "y": 1
         },
         {
          "x1": 1.0250686299014449,
          "x2": 2.924546519579291,
          "x3": 7.228835230974251,
          "y": 2
         },
         {
          "x1": -5.647135589823031,
          "x2": 0.24647446204594714,
          "x3": 1.671781045300742,
          "y": 1
         },
         {
          "x1": -7.695274267358119,
          "x2": -0.6810815053343753,
          "x3": 1.1778108940061394,
          "y": 1
         }
        ]
       },
       "encoding": {
        "color": {
         "field": "y",
         "type": "nominal"
        },
        "x": {
         "field": "x1",
         "type": "quantitative"
        },
        "y": {
         "field": "x3",
         "type": "quantitative"
        }
       },
       "mark": "point"
      },
      "image/png": "[encoded data removed]",
      "image/svg+xml": [
       "<?xml version=\"1.0\" encoding=\"utf-8\"?>\n",
       "<!DOCTYPE svg PUBLIC \"-//W3C//DTD SVG 1.1//EN\" \"http://www.w3.org/Graphics/SVG/1.1/DTD/svg11.dtd\">\n",
       "<svg class=\"marks\" width=\"284\" height=\"247\" viewBox=\"0 0 284 247\" version=\"1.1\" xmlns=\"http://www.w3.org/2000/svg\" xmlns:xlink=\"http://www.w3.org/1999/xlink\"><rect width=\"284\" height=\"247\" fill=\"white\"></rect><g fill=\"none\" stroke-miterlimit=\"10\" transform=\"translate(39,10)\"><g class=\"mark-group role-frame root\" role=\"graphics-object\" aria-roledescription=\"group mark container\"><g transform=\"translate(0,0)\"><path class=\"background\" aria-hidden=\"true\" d=\"M0.5,0.5h200v200h-200Z\" stroke=\"#ddd\"></path><g><g class=\"mark-group role-axis\" aria-hidden=\"true\"><g transform=\"translate(0.5,200.5)\"><path class=\"background\" aria-hidden=\"true\" d=\"M0,0h0v0h0Z\" pointer-events=\"none\"></path><g><g class=\"mark-rule role-axis-grid\" pointer-events=\"none\"><line transform=\"translate(31,-200)\" x2=\"0\" y2=\"200\" stroke=\"#ddd\" stroke-width=\"1\" opacity=\"1\"></line><line transform=\"translate(69,-200)\" x2=\"0\" y2=\"200\" stroke=\"#ddd\" stroke-width=\"1\" opacity=\"1\"></line><line transform=\"translate(108,-200)\" x2=\"0\" y2=\"200\" stroke=\"#ddd\" stroke-width=\"1\" opacity=\"1\"></line><line transform=\"translate(146,-200)\" x2=\"0\" y2=\"200\" stroke=\"#ddd\" stroke-width=\"1\" opacity=\"1\"></line><line transform=\"translate(185,-200)\" x2=\"0\" y2=\"200\" stroke=\"#ddd\" stroke-width=\"1\" opacity=\"1\"></line></g></g><path class=\"foreground\" aria-hidden=\"true\" d=\"\" pointer-events=\"none\" display=\"none\"></path></g></g><g class=\"mark-group role-axis\" aria-hidden=\"true\"><g transform=\"translate(0.5,0.5)\"><path class=\"background\" aria-hidden=\"true\" d=\"M0,0h0v0h0Z\" pointer-events=\"none\"></path><g><g class=\"mark-rule role-axis-grid\" pointer-events=\"none\"><line transform=\"translate(0,200)\" x2=\"200\" y2=\"0\" stroke=\"#ddd\" stroke-width=\"1\" opacity=\"1\"></line><line transform=\"translate(0,138)\" x2=\"200\" y2=\"0\" stroke=\"#ddd\" stroke-width=\"1\" opacity=\"1\"></line><line transform=\"translate(0,75)\" x2=\"200\" y2=\"0\" stroke=\"#ddd\" stroke-width=\"1\" opacity=\"1\"></line><line transform=\"translate(0,13)\" x2=\"200\" y2=\"0\" stroke=\"#ddd\" stroke-width=\"1\" opacity=\"1\"></line></g></g><path class=\"foreground\" aria-hidden=\"true\" d=\"\" pointer-events=\"none\" display=\"none\"></path></g></g><g class=\"mark-group role-axis\" role=\"graphics-symbol\" aria-roledescription=\"axis\" aria-label=\"X-axis titled 'x1' for a linear scale with values from -14 to 12\"><g transform=\"translate(0.5,200.5)\"><path class=\"background\" aria-hidden=\"true\" d=\"M0,0h0v0h0Z\" pointer-events=\"none\"></path><g><g class=\"mark-rule role-axis-tick\" pointer-events=\"none\"><line transform=\"translate(31,0)\" x2=\"0\" y2=\"5\" stroke=\"#888\" stroke-width=\"1\" opacity=\"1\"></line><line transform=\"translate(69,0)\" x2=\"0\" y2=\"5\" stroke=\"#888\" stroke-width=\"1\" opacity=\"1\"></line><line transform=\"translate(108,0)\" x2=\"0\" y2=\"5\" stroke=\"#888\" stroke-width=\"1\" opacity=\"1\"></line><line transform=\"translate(146,0)\" x2=\"0\" y2=\"5\" stroke=\"#888\" stroke-width=\"1\" opacity=\"1\"></line><line transform=\"translate(185,0)\" x2=\"0\" y2=\"5\" stroke=\"#888\" stroke-width=\"1\" opacity=\"1\"></line></g><g class=\"mark-text role-axis-label\" pointer-events=\"none\"><text text-anchor=\"middle\" transform=\"translate(30.76923076923077,15)\" font-family=\"sans-serif\" font-size=\"10px\" fill=\"#000\" opacity=\"1\">-10</text><text text-anchor=\"middle\" transform=\"translate(69.23076923076923,15)\" font-family=\"sans-serif\" font-size=\"10px\" fill=\"#000\" opacity=\"1\">-5</text><text text-anchor=\"middle\" transform=\"translate(107.6923076923077,15)\" font-family=\"sans-serif\" font-size=\"10px\" fill=\"#000\" opacity=\"1\">0</text><text text-anchor=\"middle\" transform=\"translate(146.15384615384613,15)\" font-family=\"sans-serif\" font-size=\"10px\" fill=\"#000\" opacity=\"1\">5</text><text text-anchor=\"middle\" transform=\"translate(184.6153846153846,15)\" font-family=\"sans-serif\" font-size=\"10px\" fill=\"#000\" opacity=\"1\">10</text></g><g class=\"mark-rule role-axis-domain\" pointer-events=\"none\"><line transform=\"translate(0,0)\" x2=\"200\" y2=\"0\" stroke=\"#888\" stroke-width=\"1\" opacity=\"1\"></line></g><g class=\"mark-text role-axis-title\" pointer-events=\"none\"><text text-anchor=\"middle\" transform=\"translate(100,30)\" font-family=\"sans-serif\" font-size=\"11px\" font-weight=\"bold\" fill=\"#000\" opacity=\"1\">x1</text></g></g><path class=\"foreground\" aria-hidden=\"true\" d=\"\" pointer-events=\"none\" display=\"none\"></path></g></g><g class=\"mark-group role-axis\" role=\"graphics-symbol\" aria-roledescription=\"axis\" aria-label=\"Y-axis titled 'x3' for a linear scale with values from 0 to 16\"><g transform=\"translate(0.5,0.5)\"><path class=\"background\" aria-hidden=\"true\" d=\"M0,0h0v0h0Z\" pointer-events=\"none\"></path><g><g class=\"mark-rule role-axis-tick\" pointer-events=\"none\"><line transform=\"translate(0,200)\" x2=\"-5\" y2=\"0\" stroke=\"#888\" stroke-width=\"1\" opacity=\"1\"></line><line transform=\"translate(0,138)\" x2=\"-5\" y2=\"0\" stroke=\"#888\" stroke-width=\"1\" opacity=\"1\"></line><line transform=\"translate(0,75)\" x2=\"-5\" y2=\"0\" stroke=\"#888\" stroke-width=\"1\" opacity=\"1\"></line><line transform=\"translate(0,13)\" x2=\"-5\" y2=\"0\" stroke=\"#888\" stroke-width=\"1\" opacity=\"1\"></line></g><g class=\"mark-text role-axis-label\" pointer-events=\"none\"><text text-anchor=\"end\" transform=\"translate(-7,203)\" font-family=\"sans-serif\" font-size=\"10px\" fill=\"#000\" opacity=\"1\">0</text><text text-anchor=\"end\" transform=\"translate(-7,140.5)\" font-family=\"sans-serif\" font-size=\"10px\" fill=\"#000\" opacity=\"1\">5</text><text text-anchor=\"end\" transform=\"translate(-7,78)\" font-family=\"sans-serif\" font-size=\"10px\" fill=\"#000\" opacity=\"1\">10</text><text text-anchor=\"end\" transform=\"translate(-7,15.5)\" font-family=\"sans-serif\" font-size=\"10px\" fill=\"#000\" opacity=\"1\">15</text></g><g class=\"mark-rule role-axis-domain\" pointer-events=\"none\"><line transform=\"translate(0,200)\" x2=\"0\" y2=\"-200\" stroke=\"#888\" stroke-width=\"1\" opacity=\"1\"></line></g><g class=\"mark-text role-axis-title\" pointer-events=\"none\"><text text-anchor=\"middle\" transform=\"translate(-23,100) rotate(-90) translate(0,-2)\" font-family=\"sans-serif\" font-size=\"11px\" font-weight=\"bold\" fill=\"#000\" opacity=\"1\">x3</text></g></g><path class=\"foreground\" aria-hidden=\"true\" d=\"\" pointer-events=\"none\" display=\"none\"></path></g></g><g class=\"mark-symbol role-mark marks\" role=\"graphics-object\" aria-roledescription=\"symbol mark container\"><path aria-label=\"x1: 5.30600502196; x3: 9.94460100046; y: 2\" role=\"graphics-symbol\" aria-roledescription=\"point\" transform=\"translate(148.50773093814996,75.69248749427466)\" d=\"M2.7386127875258306,0A2.7386127875258306,2.7386127875258306,0,1,1,-2.7386127875258306,0A2.7386127875258306,2.7386127875258306,0,1,1,2.7386127875258306,0\" stroke=\"#f58518\" stroke-width=\"2\" opacity=\"0.7\"></path><path aria-label=\"x1: 5.1475689215; x3: 8.84096305393; y: 2\" role=\"graphics-symbol\" aria-roledescription=\"point\" transform=\"translate(147.288991703877,89.48796182587135)\" d=\"M2.7386127875258306,0A2.7386127875258306,2.7386127875258306,0,1,1,-2.7386127875258306,0A2.7386127875258306,2.7386127875258306,0,1,1,2.7386127875258306,0\" stroke=\"#f58518\" stroke-width=\"2\" opacity=\"0.7\"></path><path aria-label=\"x1: 3.34118087269; x3: 12.1528841108; y: 2\" role=\"graphics-symbol\" aria-roledescription=\"point\" transform=\"translate(133.39369902065667,48.08894861498065)\" d=\"M2.7386127875258306,0A2.7386127875258306,2.7386127875258306,0,1,1,-2.7386127875258306,0A2.7386127875258306,2.7386127875258306,0,1,1,2.7386127875258306,0\" stroke=\"#f58518\" stroke-width=\"2\" opacity=\"0.7\"></path><path aria-label=\"x1: 2.69324274927; x3: 9.27081388068; y: 2\" role=\"graphics-symbol\" aria-roledescription=\"point\" transform=\"translate(128.40955960980546,84.11482649150896)\" d=\"M2.7386127875258306,0A2.7386127875258306,2.7386127875258306,0,1,1,-2.7386127875258306,0A2.7386127875258306,2.7386127875258306,0,1,1,2.7386127875258306,0\" stroke=\"#f58518\" stroke-width=\"2\" opacity=\"0.7\"></path><path aria-label=\"x1: 0.67705314372; x3: 5.08596779371; y: 2\" role=\"graphics-symbol\" aria-roledescription=\"point\" transform=\"translate(112.90040879784911,136.42540257861796)\" d=\"M2.7386127875258306,0A2.7386127875258306,2.7386127875258306,0,1,1,-2.7386127875258306,0A2.7386127875258306,2.7386127875258306,0,1,1,2.7386127875258306,0\" stroke=\"#f58518\" stroke-width=\"2\" opacity=\"0.7\"></path><path aria-label=\"x1: 5.96885219325; x3: 8.87284446614; y: 2\" role=\"graphics-symbol\" aria-roledescription=\"point\" transform=\"translate(153.60655533268604,89.08944417319312)\" d=\"M2.7386127875258306,0A2.7386127875258306,2.7386127875258306,0,1,1,-2.7386127875258306,0A2.7386127875258306,2.7386127875258306,0,1,1,2.7386127875258306,0\" stroke=\"#f58518\" stroke-width=\"2\" opacity=\"0.7\"></path><path aria-label=\"x1: -4.39743258847; x3: 2.9775513795; y: 1\" role=\"graphics-symbol\" aria-roledescription=\"point\" transform=\"translate(73.8659031656073,162.78060775626946)\" d=\"M2.7386127875258306,0A2.7386127875258306,2.7386127875258306,0,1,1,-2.7386127875258306,0A2.7386127875258306,2.7386127875258306,0,1,1,2.7386127875258306,0\" stroke=\"#4c78a8\" stroke-width=\"2\" opacity=\"0.7\"></path><path aria-label=\"x1: 4.09852883091; x3: 8.06062708712; y: 2\" role=\"graphics-symbol\" aria-roledescription=\"point\" transform=\"translate(139.21945254546662,99.24216141101043)\" d=\"M2.7386127875258306,0A2.7386127875258306,2.7386127875258306,0,1,1,-2.7386127875258306,0A2.7386127875258306,2.7386127875258306,0,1,1,2.7386127875258306,0\" stroke=\"#f58518\" stroke-width=\"2\" opacity=\"0.7\"></path><path aria-label=\"x1: -7.32436702303; x3: 2.03490681874; y: 1\" role=\"graphics-symbol\" aria-roledescription=\"point\" transform=\"translate(51.351022899770705,174.56366476571702)\" d=\"M2.7386127875258306,0A2.7386127875258306,2.7386127875258306,0,1,1,-2.7386127875258306,0A2.7386127875258306,2.7386127875258306,0,1,1,2.7386127875258306,0\" stroke=\"#4c78a8\" stroke-width=\"2\" opacity=\"0.7\"></path><path aria-label=\"x1: -8.74556135644; x3: 1.52043282424; y: 1\" role=\"graphics-symbol\" aria-roledescription=\"point\" transform=\"translate(40.41875879665048,180.9945896970117)\" d=\"M2.7386127875258306,0A2.7386127875258306,2.7386127875258306,0,1,1,-2.7386127875258306,0A2.7386127875258306,2.7386127875258306,0,1,1,2.7386127875258306,0\" stroke=\"#4c78a8\" stroke-width=\"2\" opacity=\"0.7\"></path><path aria-label=\"x1: 7.61697784785; x3: 7.17203149588; y: 2\" role=\"graphics-symbol\" aria-roledescription=\"point\" transform=\"translate(166.28444498348998,110.349606301522)\" d=\"M2.7386127875258306,0A2.7386127875258306,2.7386127875258306,0,1,1,-2.7386127875258306,0A2.7386127875258306,2.7386127875258306,0,1,1,2.7386127875258306,0\" stroke=\"#f58518\" stroke-width=\"2\" opacity=\"0.7\"></path><path aria-label=\"x1: 8.07177232637; x3: 8.55778374526; y: 2\" role=\"graphics-symbol\" aria-roledescription=\"point\" transform=\"translate(169.7828640490233,93.02770318424882)\" d=\"M2.7386127875258306,0A2.7386127875258306,2.7386127875258306,0,1,1,-2.7386127875258306,0A2.7386127875258306,2.7386127875258306,0,1,1,2.7386127875258306,0\" stroke=\"#f58518\" stroke-width=\"2\" opacity=\"0.7\"></path><path aria-label=\"x1: -7.04645015044; x3: 0.393296256052; y: 1\" role=\"graphics-symbol\" aria-roledescription=\"point\" transform=\"translate(53.488844996620735,195.08379679935214)\" d=\"M2.7386127875258306,0A2.7386127875258306,2.7386127875258306,0,1,1,-2.7386127875258306,0A2.7386127875258306,2.7386127875258306,0,1,1,2.7386127875258306,0\" stroke=\"#4c78a8\" stroke-width=\"2\" opacity=\"0.7\"></path><path aria-label=\"x1: -4.70549648834; x3: 1.9262734169; y: 1\" role=\"graphics-symbol\" aria-roledescription=\"point\" transform=\"translate(71.496180858915,175.921582288773)\" d=\"M2.7386127875258306,0A2.7386127875258306,2.7386127875258306,0,1,1,-2.7386127875258306,0A2.7386127875258306,2.7386127875258306,0,1,1,2.7386127875258306,0\" stroke=\"#4c78a8\" stroke-width=\"2\" opacity=\"0.7\"></path><path aria-label=\"x1: 11.5951525606; x3: 9.28806592856; y: 2\" role=\"graphics-symbol\" aria-roledescription=\"point\" transform=\"translate(196.88578892750462,83.89917589301203)\" d=\"M2.7386127875258306,0A2.7386127875258306,2.7386127875258306,0,1,1,-2.7386127875258306,0A2.7386127875258306,2.7386127875258306,0,1,1,2.7386127875258306,0\" stroke=\"#f58518\" stroke-width=\"2\" opacity=\"0.7\"></path><path aria-label=\"x1: -6.06942496002; x3: 1.09073809321; y: 1\" role=\"graphics-symbol\" aria-roledescription=\"point\" transform=\"translate(61.004423384450455,186.36577383491826)\" d=\"M2.7386127875258306,0A2.7386127875258306,2.7386127875258306,0,1,1,-2.7386127875258306,0A2.7386127875258306,2.7386127875258306,0,1,1,2.7386127875258306,0\" stroke=\"#4c78a8\" stroke-width=\"2\" opacity=\"0.7\"></path><path aria-label=\"x1: -5.74492778144; x3: 0.169996944382; y: 1\" role=\"graphics-symbol\" aria-roledescription=\"point\" transform=\"translate(63.50055552741859,197.87503819522584)\" d=\"M2.7386127875258306,0A2.7386127875258306,2.7386127875258306,0,1,1,-2.7386127875258306,0A2.7386127875258306,2.7386127875258306,0,1,1,2.7386127875258306,0\" stroke=\"#4c78a8\" stroke-width=\"2\" opacity=\"0.7\"></path><path aria-label=\"x1: 1.11138800319; x3: 9.21419999392; y: 2\" role=\"graphics-symbol\" aria-roledescription=\"point\" transform=\"translate(116.24144617840963,84.82250007603929)\" d=\"M2.7386127875258306,0A2.7386127875258306,2.7386127875258306,0,1,1,-2.7386127875258306,0A2.7386127875258306,2.7386127875258306,0,1,1,2.7386127875258306,0\" stroke=\"#f58518\" stroke-width=\"2\" opacity=\"0.7\"></path><path aria-label=\"x1: 6.15936148403; x3: 7.53031742922; y: 2\" role=\"graphics-symbol\" aria-roledescription=\"point\" transform=\"translate(155.0720114156335,105.87103213480074)\" d=\"M2.7386127875258306,0A2.7386127875258306,2.7386127875258306,0,1,1,-2.7386127875258306,0A2.7386127875258306,2.7386127875258306,0,1,1,2.7386127875258306,0\" stroke=\"#f58518\" stroke-width=\"2\" opacity=\"0.7\"></path><path aria-label=\"x1: -8.10534530378; x3: 1.75541793586; y: 1\" role=\"graphics-symbol\" aria-roledescription=\"point\" transform=\"translate(45.343497663255825,178.05727580180024)\" d=\"M2.7386127875258306,0A2.7386127875258306,2.7386127875258306,0,1,1,-2.7386127875258306,0A2.7386127875258306,2.7386127875258306,0,1,1,2.7386127875258306,0\" stroke=\"#4c78a8\" stroke-width=\"2\" opacity=\"0.7\"></path><path aria-label=\"x1: -6.42303289735; x3: 3.08518129909; y: 1\" role=\"graphics-symbol\" aria-roledescription=\"point\" transform=\"translate(58.28436232809449,161.43523376135508)\" d=\"M2.7386127875258306,0A2.7386127875258306,2.7386127875258306,0,1,1,-2.7386127875258306,0A2.7386127875258306,2.7386127875258306,0,1,1,2.7386127875258306,0\" stroke=\"#4c78a8\" stroke-width=\"2\" opacity=\"0.7\"></path><path aria-label=\"x1: 8.37221728871; x3: 10.8492319002; y: 2\" role=\"graphics-symbol\" aria-roledescription=\"point\" transform=\"translate(172.09397914390883,64.38460124738563)\" d=\"M2.7386127875258306,0A2.7386127875258306,2.7386127875258306,0,1,1,-2.7386127875258306,0A2.7386127875258306,2.7386127875258306,0,1,1,2.7386127875258306,0\" stroke=\"#f58518\" stroke-width=\"2\" opacity=\"0.7\"></path><path aria-label=\"x1: -5.34899338382; x3: 1.55876887047; y: 1\" role=\"graphics-symbol\" aria-roledescription=\"point\" transform=\"translate(66.54620473985544,180.5153891190776)\" d=\"M2.7386127875258306,0A2.7386127875258306,2.7386127875258306,0,1,1,-2.7386127875258306,0A2.7386127875258306,2.7386127875258306,0,1,1,2.7386127875258306,0\" stroke=\"#4c78a8\" stroke-width=\"2\" opacity=\"0.7\"></path><path aria-label=\"x1: 2.08588144501; x3: 6.05406927967; y: 2\" role=\"graphics-symbol\" aria-roledescription=\"point\" transform=\"translate(123.73754957701087,124.32413400414613)\" d=\"M2.7386127875258306,0A2.7386127875258306,2.7386127875258306,0,1,1,-2.7386127875258306,0A2.7386127875258306,2.7386127875258306,0,1,1,2.7386127875258306,0\" stroke=\"#f58518\" stroke-width=\"2\" opacity=\"0.7\"></path><path aria-label=\"x1: -9.01798726506; x3: 0.0913476444074; y: 1\" role=\"graphics-symbol\" aria-roledescription=\"point\" transform=\"translate(38.32317488418404,198.8581544449076)\" d=\"M2.7386127875258306,0A2.7386127875258306,2.7386127875258306,0,1,1,-2.7386127875258306,0A2.7386127875258306,2.7386127875258306,0,1,1,2.7386127875258306,0\" stroke=\"#4c78a8\" stroke-width=\"2\" opacity=\"0.7\"></path><path aria-label=\"x1: 9.64625340788; x3: 8.97226591094; y: 2\" role=\"graphics-symbol\" aria-roledescription=\"point\" transform=\"translate(181.89425698367435,87.84667611330252)\" d=\"M2.7386127875258306,0A2.7386127875258306,2.7386127875258306,0,1,1,-2.7386127875258306,0A2.7386127875258306,2.7386127875258306,0,1,1,2.7386127875258306,0\" stroke=\"#f58518\" stroke-width=\"2\" opacity=\"0.7\"></path><path aria-label=\"x1: 8.8647020337; x3: 8.90087768186; y: 2\" role=\"graphics-symbol\" aria-roledescription=\"point\" transform=\"translate(175.88232333617415,88.73902897670527)\" d=\"M2.7386127875258306,0A2.7386127875258306,2.7386127875258306,0,1,1,-2.7386127875258306,0A2.7386127875258306,2.7386127875258306,0,1,1,2.7386127875258306,0\" stroke=\"#f58518\" stroke-width=\"2\" opacity=\"0.7\"></path><path aria-label=\"x1: 0.181565835547; x3: 7.28501463862; y: 2\" role=\"graphics-symbol\" aria-roledescription=\"point\" transform=\"translate(109.08896796574959,108.93731701721872)\" d=\"M2.7386127875258306,0A2.7386127875258306,2.7386127875258306,0,1,1,-2.7386127875258306,0A2.7386127875258306,2.7386127875258306,0,1,1,2.7386127875258306,0\" stroke=\"#f58518\" stroke-width=\"2\" opacity=\"0.7\"></path><path aria-label=\"x1: 1.14396319886; x3: 9.46083504856; y: 2\" role=\"graphics-symbol\" aria-roledescription=\"point\" transform=\"translate(116.49202460657919,81.73956189294165)\" d=\"M2.7386127875258306,0A2.7386127875258306,2.7386127875258306,0,1,1,-2.7386127875258306,0A2.7386127875258306,2.7386127875258306,0,1,1,2.7386127875258306,0\" stroke=\"#f58518\" stroke-width=\"2\" opacity=\"0.7\"></path><path aria-label=\"x1: -6.49616231571; x3: 1.67953657423; y: 1\" role=\"graphics-symbol\" aria-roledescription=\"point\" transform=\"translate(57.721828340713635,179.0057928221038)\" d=\"M2.7386127875258306,0A2.7386127875258306,2.7386127875258306,0,1,1,-2.7386127875258306,0A2.7386127875258306,2.7386127875258306,0,1,1,2.7386127875258306,0\" stroke=\"#4c78a8\" stroke-width=\"2\" opacity=\"0.7\"></path><path aria-label=\"x1: -4.9429951886; x3: 1.22168772813; y: 1\" role=\"graphics-symbol\" aria-roledescription=\"point\" transform=\"translate(69.66926778003271,184.72890339837969)\" d=\"M2.7386127875258306,0A2.7386127875258306,2.7386127875258306,0,1,1,-2.7386127875258306,0A2.7386127875258306,2.7386127875258306,0,1,1,2.7386127875258306,0\" stroke=\"#4c78a8\" stroke-width=\"2\" opacity=\"0.7\"></path><path aria-label=\"x1: 0.992702282382; x3: 6.59138407636; y: 2\" role=\"graphics-symbol\" aria-roledescription=\"point\" transform=\"translate(115.32847909524983,117.60769904552961)\" d=\"M2.7386127875258306,0A2.7386127875258306,2.7386127875258306,0,1,1,-2.7386127875258306,0A2.7386127875258306,2.7386127875258306,0,1,1,2.7386127875258306,0\" stroke=\"#f58518\" stroke-width=\"2\" opacity=\"0.7\"></path><path aria-label=\"x1: 4.03781439174; x3: 9.53043725259; y: 2\" role=\"graphics-symbol\" aria-roledescription=\"point\" transform=\"translate(138.75241839797522,80.86953434266901)\" d=\"M2.7386127875258306,0A2.7386127875258306,2.7386127875258306,0,1,1,-2.7386127875258306,0A2.7386127875258306,2.7386127875258306,0,1,1,2.7386127875258306,0\" stroke=\"#f58518\" stroke-width=\"2\" opacity=\"0.7\"></path><path aria-label=\"x1: -7.0229982973; x3: 3.18683961371; y: 1\" role=\"graphics-symbol\" aria-roledescription=\"point\" transform=\"translate(53.669243866918436,160.1645048286739)\" d=\"M2.7386127875258306,0A2.7386127875258306,2.7386127875258306,0,1,1,-2.7386127875258306,0A2.7386127875258306,2.7386127875258306,0,1,1,2.7386127875258306,0\" stroke=\"#4c78a8\" stroke-width=\"2\" opacity=\"0.7\"></path><path aria-label=\"x1: -6.33290824567; x3: 2.52526436484; y: 1\" role=\"graphics-symbol\" aria-roledescription=\"point\" transform=\"translate(58.977628879492464,168.43419543955082)\" d=\"M2.7386127875258306,0A2.7386127875258306,2.7386127875258306,0,1,1,-2.7386127875258306,0A2.7386127875258306,2.7386127875258306,0,1,1,2.7386127875258306,0\" stroke=\"#4c78a8\" stroke-width=\"2\" opacity=\"0.7\"></path><path aria-label=\"x1: -5.88514073455; x3: 2.49386470278; y: 1\" role=\"graphics-symbol\" aria-roledescription=\"point\" transform=\"translate(62.421994349609555,168.82669121522204)\" d=\"M2.7386127875258306,0A2.7386127875258306,2.7386127875258306,0,1,1,-2.7386127875258306,0A2.7386127875258306,2.7386127875258306,0,1,1,2.7386127875258306,0\" stroke=\"#4c78a8\" stroke-width=\"2\" opacity=\"0.7\"></path><path aria-label=\"x1: -7.81322311014; x3: 2.3814224877; y: 1\" role=\"graphics-symbol\" aria-roledescription=\"point\" transform=\"translate(47.590591460486124,170.23221890369254)\" d=\"M2.7386127875258306,0A2.7386127875258306,2.7386127875258306,0,1,1,-2.7386127875258306,0A2.7386127875258306,2.7386127875258306,0,1,1,2.7386127875258306,0\" stroke=\"#4c78a8\" stroke-width=\"2\" opacity=\"0.7\"></path><path aria-label=\"x1: 8.30470695981; x3: 10.0165308963; y: 2\" role=\"graphics-symbol\" aria-roledescription=\"point\" transform=\"translate(171.57466892161338,74.79336379654033)\" d=\"M2.7386127875258306,0A2.7386127875258306,2.7386127875258306,0,1,1,-2.7386127875258306,0A2.7386127875258306,2.7386127875258306,0,1,1,2.7386127875258306,0\" stroke=\"#f58518\" stroke-width=\"2\" opacity=\"0.7\"></path><path aria-label=\"x1: -6.6034236925; x3: 0.824444144776; y: 1\" role=\"graphics-symbol\" aria-roledescription=\"point\" transform=\"translate(56.89674082691576,189.69444819030227)\" d=\"M2.7386127875258306,0A2.7386127875258306,2.7386127875258306,0,1,1,-2.7386127875258306,0A2.7386127875258306,2.7386127875258306,0,1,1,2.7386127875258306,0\" stroke=\"#4c78a8\" stroke-width=\"2\" opacity=\"0.7\"></path><path aria-label=\"x1: 5.51975488687; x3: 6.50330695898; y: 2\" role=\"graphics-symbol\" aria-roledescription=\"point\" transform=\"translate(150.15196066822048,118.70866301270956)\" d=\"M2.7386127875258306,0A2.7386127875258306,2.7386127875258306,0,1,1,-2.7386127875258306,0A2.7386127875258306,2.7386127875258306,0,1,1,2.7386127875258306,0\" stroke=\"#f58518\" stroke-width=\"2\" opacity=\"0.7\"></path><path aria-label=\"x1: 7.51485847229; x3: 9.81196352846; y: 2\" role=\"graphics-symbol\" aria-roledescription=\"point\" transform=\"translate(165.49891132533904,77.35045589420093)\" d=\"M2.7386127875258306,0A2.7386127875258306,2.7386127875258306,0,1,1,-2.7386127875258306,0A2.7386127875258306,2.7386127875258306,0,1,1,2.7386127875258306,0\" stroke=\"#f58518\" stroke-width=\"2\" opacity=\"0.7\"></path><path aria-label=\"x1: -6.12368261491; x3: 3.53551190702; y: 1\" role=\"graphics-symbol\" aria-roledescription=\"point\" transform=\"translate(60.587056808365894,155.8061011622756)\" d=\"M2.7386127875258306,0A2.7386127875258306,2.7386127875258306,0,1,1,-2.7386127875258306,0A2.7386127875258306,2.7386127875258306,0,1,1,2.7386127875258306,0\" stroke=\"#4c78a8\" stroke-width=\"2\" opacity=\"0.7\"></path><path aria-label=\"x1: -6.72619832662; x3: 2.39541146855; y: 1\" role=\"graphics-symbol\" aria-roledescription=\"point\" transform=\"translate(55.95232056442979,170.0573566431062)\" d=\"M2.7386127875258306,0A2.7386127875258306,2.7386127875258306,0,1,1,-2.7386127875258306,0A2.7386127875258306,2.7386127875258306,0,1,1,2.7386127875258306,0\" stroke=\"#4c78a8\" stroke-width=\"2\" opacity=\"0.7\"></path><path aria-label=\"x1: 5.93019431117; x3: 6.86470761327; y: 2\" role=\"graphics-symbol\" aria-roledescription=\"point\" transform=\"translate(153.30918700900529,114.1911548341545)\" d=\"M2.7386127875258306,0A2.7386127875258306,2.7386127875258306,0,1,1,-2.7386127875258306,0A2.7386127875258306,2.7386127875258306,0,1,1,2.7386127875258306,0\" stroke=\"#f58518\" stroke-width=\"2\" opacity=\"0.7\"></path><path aria-label=\"x1: 4.10620227243; x3: 8.16432577868; y: 2\" role=\"graphics-symbol\" aria-roledescription=\"point\" transform=\"translate(139.27847901867668,97.94592776655446)\" d=\"M2.7386127875258306,0A2.7386127875258306,2.7386127875258306,0,1,1,-2.7386127875258306,0A2.7386127875258306,2.7386127875258306,0,1,1,2.7386127875258306,0\" stroke=\"#f58518\" stroke-width=\"2\" opacity=\"0.7\"></path><path aria-label=\"x1: -3.31797349442; x3: 3.8953603522; y: 2\" role=\"graphics-symbol\" aria-roledescription=\"point\" transform=\"translate(82.1694346582877,151.30799559754035)\" d=\"M2.7386127875258306,0A2.7386127875258306,2.7386127875258306,0,1,1,-2.7386127875258306,0A2.7386127875258306,2.7386127875258306,0,1,1,2.7386127875258306,0\" stroke=\"#f58518\" stroke-width=\"2\" opacity=\"0.7\"></path><path aria-label=\"x1: 6.90935406295; x3: 12.0586307924; y: 2\" role=\"graphics-symbol\" aria-roledescription=\"point\" transform=\"translate(160.84118509964955,49.26711509450217)\" d=\"M2.7386127875258306,0A2.7386127875258306,2.7386127875258306,0,1,1,-2.7386127875258306,0A2.7386127875258306,2.7386127875258306,0,1,1,2.7386127875258306,0\" stroke=\"#f58518\" stroke-width=\"2\" opacity=\"0.7\"></path><path aria-label=\"x1: 3.0718701931; x3: 7.31926454176; y: 2\" role=\"graphics-symbol\" aria-roledescription=\"point\" transform=\"translate(131.3220784084995,108.50919322798136)\" d=\"M2.7386127875258306,0A2.7386127875258306,2.7386127875258306,0,1,1,-2.7386127875258306,0A2.7386127875258306,2.7386127875258306,0,1,1,2.7386127875258306,0\" stroke=\"#f58518\" stroke-width=\"2\" opacity=\"0.7\"></path><path aria-label=\"x1: -5.98461623635; x3: 2.2892600136; y: 1\" role=\"graphics-symbol\" aria-roledescription=\"point\" transform=\"translate(61.65679818196139,171.3842498300043)\" d=\"M2.7386127875258306,0A2.7386127875258306,2.7386127875258306,0,1,1,-2.7386127875258306,0A2.7386127875258306,2.7386127875258306,0,1,1,2.7386127875258306,0\" stroke=\"#4c78a8\" stroke-width=\"2\" opacity=\"0.7\"></path><path aria-label=\"x1: 5.49440038119; x3: 7.64018139476; y: 2\" role=\"graphics-symbol\" aria-roledescription=\"point\" transform=\"translate(149.95692600915729,104.49773256550894)\" d=\"M2.7386127875258306,0A2.7386127875258306,2.7386127875258306,0,1,1,-2.7386127875258306,0A2.7386127875258306,2.7386127875258306,0,1,1,2.7386127875258306,0\" stroke=\"#f58518\" stroke-width=\"2\" opacity=\"0.7\"></path><path aria-label=\"x1: 1.94809604269; x3: 1.81265018012; y: 2\" role=\"graphics-symbol\" aria-roledescription=\"point\" transform=\"translate(122.6776618668166,177.34187274845254)\" d=\"M2.7386127875258306,0A2.7386127875258306,2.7386127875258306,0,1,1,-2.7386127875258306,0A2.7386127875258306,2.7386127875258306,0,1,1,2.7386127875258306,0\" stroke=\"#f58518\" stroke-width=\"2\" opacity=\"0.7\"></path><path aria-label=\"x1: -8.01895143351; x3: 3.17146013552; y: 1\" role=\"graphics-symbol\" aria-roledescription=\"point\" transform=\"translate(46.008065896043796,160.35674830596162)\" d=\"M2.7386127875258306,0A2.7386127875258306,2.7386127875258306,0,1,1,-2.7386127875258306,0A2.7386127875258306,2.7386127875258306,0,1,1,2.7386127875258306,0\" stroke=\"#4c78a8\" stroke-width=\"2\" opacity=\"0.7\"></path><path aria-label=\"x1: 7.44551006734; x3: 12.3505962665; y: 2\" role=\"graphics-symbol\" aria-roledescription=\"point\" transform=\"translate(164.96546205648278,45.61754666923923)\" d=\"M2.7386127875258306,0A2.7386127875258306,2.7386127875258306,0,1,1,-2.7386127875258306,0A2.7386127875258306,2.7386127875258306,0,1,1,2.7386127875258306,0\" stroke=\"#f58518\" stroke-width=\"2\" opacity=\"0.7\"></path><path aria-label=\"x1: 6.79970738398; x3: 6.06242451261; y: 2\" role=\"graphics-symbol\" aria-roledescription=\"point\" transform=\"translate(159.9977491075646,124.21969359241811)\" d=\"M2.7386127875258306,0A2.7386127875258306,2.7386127875258306,0,1,1,-2.7386127875258306,0A2.7386127875258306,2.7386127875258306,0,1,1,2.7386127875258306,0\" stroke=\"#f58518\" stroke-width=\"2\" opacity=\"0.7\"></path><path aria-label=\"x1: -5.01437330203; x3: 1.0448890952; y: 1\" role=\"graphics-symbol\" aria-roledescription=\"point\" transform=\"translate(69.12020536898262,186.93888631000547)\" d=\"M2.7386127875258306,0A2.7386127875258306,2.7386127875258306,0,1,1,-2.7386127875258306,0A2.7386127875258306,2.7386127875258306,0,1,1,2.7386127875258306,0\" stroke=\"#4c78a8\" stroke-width=\"2\" opacity=\"0.7\"></path><path aria-label=\"x1: -5.69033155277; x3: 1.79385156391; y: 1\" role=\"graphics-symbol\" aria-roledescription=\"point\" transform=\"translate(63.92052651713649,177.57685545111087)\" d=\"M2.7386127875258306,0A2.7386127875258306,2.7386127875258306,0,1,1,-2.7386127875258306,0A2.7386127875258306,2.7386127875258306,0,1,1,2.7386127875258306,0\" stroke=\"#4c78a8\" stroke-width=\"2\" opacity=\"0.7\"></path><path aria-label=\"x1: -6.41678268532; x3: 1.92983358561; y: 1\" role=\"graphics-symbol\" aria-roledescription=\"point\" transform=\"translate(58.33244088216533,175.8770801798145)\" d=\"M2.7386127875258306,0A2.7386127875258306,2.7386127875258306,0,1,1,-2.7386127875258306,0A2.7386127875258306,2.7386127875258306,0,1,1,2.7386127875258306,0\" stroke=\"#4c78a8\" stroke-width=\"2\" opacity=\"0.7\"></path><path aria-label=\"x1: -6.72458162506; x3: 0.0100159386297; y: 1\" role=\"graphics-symbol\" aria-roledescription=\"point\" transform=\"translate(55.964756730270416,199.87480076712828)\" d=\"M2.7386127875258306,0A2.7386127875258306,2.7386127875258306,0,1,1,-2.7386127875258306,0A2.7386127875258306,2.7386127875258306,0,1,1,2.7386127875258306,0\" stroke=\"#4c78a8\" stroke-width=\"2\" opacity=\"0.7\"></path><path aria-label=\"x1: -4.99326690011; x3: 0.778143776426; y: 1\" role=\"graphics-symbol\" aria-roledescription=\"point\" transform=\"translate(69.28256230683998,190.27320279467784)\" d=\"M2.7386127875258306,0A2.7386127875258306,2.7386127875258306,0,1,1,-2.7386127875258306,0A2.7386127875258306,2.7386127875258306,0,1,1,2.7386127875258306,0\" stroke=\"#4c78a8\" stroke-width=\"2\" opacity=\"0.7\"></path><path aria-label=\"x1: 10.5792781793; x3: 6.61805960422; y: 2\" role=\"graphics-symbol\" aria-roledescription=\"point\" transform=\"translate(189.07137060983658,117.27425494721797)\" d=\"M2.7386127875258306,0A2.7386127875258306,2.7386127875258306,0,1,1,-2.7386127875258306,0A2.7386127875258306,2.7386127875258306,0,1,1,2.7386127875258306,0\" stroke=\"#f58518\" stroke-width=\"2\" opacity=\"0.7\"></path><path aria-label=\"x1: -6.90762247941; x3: 1.43701573318; y: 1\" role=\"graphics-symbol\" aria-roledescription=\"point\" transform=\"translate(54.556750158422496,182.03730333527716)\" d=\"M2.7386127875258306,0A2.7386127875258306,2.7386127875258306,0,1,1,-2.7386127875258306,0A2.7386127875258306,2.7386127875258306,0,1,1,2.7386127875258306,0\" stroke=\"#4c78a8\" stroke-width=\"2\" opacity=\"0.7\"></path><path aria-label=\"x1: -7.00677153307; x3: 1.29129684427; y: 1\" role=\"graphics-symbol\" aria-roledescription=\"point\" transform=\"translate(53.79406513023256,183.8587894465677)\" d=\"M2.7386127875258306,0A2.7386127875258306,2.7386127875258306,0,1,1,-2.7386127875258306,0A2.7386127875258306,2.7386127875258306,0,1,1,2.7386127875258306,0\" stroke=\"#4c78a8\" stroke-width=\"2\" opacity=\"0.7\"></path><path aria-label=\"x1: -7.41771297815; x3: 1.41539502346; y: 1\" role=\"graphics-symbol\" aria-roledescription=\"point\" transform=\"translate(50.632977091115464,182.30756220677665)\" d=\"M2.7386127875258306,0A2.7386127875258306,2.7386127875258306,0,1,1,-2.7386127875258306,0A2.7386127875258306,2.7386127875258306,0,1,1,2.7386127875258306,0\" stroke=\"#4c78a8\" stroke-width=\"2\" opacity=\"0.7\"></path><path aria-label=\"x1: 6.46170864746; x3: 3.6333771701; y: 2\" role=\"graphics-symbol\" aria-roledescription=\"point\" transform=\"translate(157.3977588266368,154.5827853737237)\" d=\"M2.7386127875258306,0A2.7386127875258306,2.7386127875258306,0,1,1,-2.7386127875258306,0A2.7386127875258306,2.7386127875258306,0,1,1,2.7386127875258306,0\" stroke=\"#f58518\" stroke-width=\"2\" opacity=\"0.7\"></path><path aria-label=\"x1: 5.80564835856; x3: 4.20149747475; y: 2\" role=\"graphics-symbol\" aria-roledescription=\"point\" transform=\"translate(152.3511412197267,147.4812815656464)\" d=\"M2.7386127875258306,0A2.7386127875258306,2.7386127875258306,0,1,1,-2.7386127875258306,0A2.7386127875258306,2.7386127875258306,0,1,1,2.7386127875258306,0\" stroke=\"#f58518\" stroke-width=\"2\" opacity=\"0.7\"></path><path aria-label=\"x1: -6.16762414759; x3: 2.19444010971; y: 1\" role=\"graphics-symbol\" aria-roledescription=\"point\" transform=\"translate(60.249045018555826,172.56949862866682)\" d=\"M2.7386127875258306,0A2.7386127875258306,2.7386127875258306,0,1,1,-2.7386127875258306,0A2.7386127875258306,2.7386127875258306,0,1,1,2.7386127875258306,0\" stroke=\"#4c78a8\" stroke-width=\"2\" opacity=\"0.7\"></path><path aria-label=\"x1: 1.0867390891; x3: 2.11449075926; y: 2\" role=\"graphics-symbol\" aria-roledescription=\"point\" transform=\"translate(116.05183914689556,173.56886550927157)\" d=\"M2.7386127875258306,0A2.7386127875258306,2.7386127875258306,0,1,1,-2.7386127875258306,0A2.7386127875258306,2.7386127875258306,0,1,1,2.7386127875258306,0\" stroke=\"#f58518\" stroke-width=\"2\" opacity=\"0.7\"></path><path aria-label=\"x1: 6.07383219656; x3: 7.2143562508; y: 2\" role=\"graphics-symbol\" aria-roledescription=\"point\" transform=\"translate(154.41409381972483,109.82054686499035)\" d=\"M2.7386127875258306,0A2.7386127875258306,2.7386127875258306,0,1,1,-2.7386127875258306,0A2.7386127875258306,2.7386127875258306,0,1,1,2.7386127875258306,0\" stroke=\"#f58518\" stroke-width=\"2\" opacity=\"0.7\"></path><path aria-label=\"x1: -7.02369179926; x3: 3.06640382727; y: 1\" role=\"graphics-symbol\" aria-roledescription=\"point\" transform=\"translate(53.663909236480535,161.6699521590807)\" d=\"M2.7386127875258306,0A2.7386127875258306,2.7386127875258306,0,1,1,-2.7386127875258306,0A2.7386127875258306,2.7386127875258306,0,1,1,2.7386127875258306,0\" stroke=\"#4c78a8\" stroke-width=\"2\" opacity=\"0.7\"></path><path aria-label=\"x1: -6.06620206121; x3: 1.76168785188; y: 1\" role=\"graphics-symbol\" aria-roledescription=\"point\" transform=\"translate(61.029214913749726,177.97890185150047)\" d=\"M2.7386127875258306,0A2.7386127875258306,2.7386127875258306,0,1,1,-2.7386127875258306,0A2.7386127875258306,2.7386127875258306,0,1,1,2.7386127875258306,0\" stroke=\"#4c78a8\" stroke-width=\"2\" opacity=\"0.7\"></path><path aria-label=\"x1: -6.96002981779; x3: 2.29580612524; y: 1\" role=\"graphics-symbol\" aria-roledescription=\"point\" transform=\"translate(54.15361678624029,171.30242343447802)\" d=\"M2.7386127875258306,0A2.7386127875258306,2.7386127875258306,0,1,1,-2.7386127875258306,0A2.7386127875258306,2.7386127875258306,0,1,1,2.7386127875258306,0\" stroke=\"#4c78a8\" stroke-width=\"2\" opacity=\"0.7\"></path><path aria-label=\"x1: -6.8381673094; x3: 2.21801033364; y: 1\" role=\"graphics-symbol\" aria-roledescription=\"point\" transform=\"translate(55.09102069691119,172.27487082943912)\" d=\"M2.7386127875258306,0A2.7386127875258306,2.7386127875258306,0,1,1,-2.7386127875258306,0A2.7386127875258306,2.7386127875258306,0,1,1,2.7386127875258306,0\" stroke=\"#4c78a8\" stroke-width=\"2\" opacity=\"0.7\"></path><path aria-label=\"x1: 9.04678614978; x3: 7.28721405799; y: 2\" role=\"graphics-symbol\" aria-roledescription=\"point\" transform=\"translate(177.28297038294457,108.90982427517146)\" d=\"M2.7386127875258306,0A2.7386127875258306,2.7386127875258306,0,1,1,-2.7386127875258306,0A2.7386127875258306,2.7386127875258306,0,1,1,2.7386127875258306,0\" stroke=\"#f58518\" stroke-width=\"2\" opacity=\"0.7\"></path><path aria-label=\"x1: 3.75726886577; x3: 6.87263241348; y: 2\" role=\"graphics-symbol\" aria-roledescription=\"point\" transform=\"translate(136.5943758905217,114.09209483149647)\" d=\"M2.7386127875258306,0A2.7386127875258306,2.7386127875258306,0,1,1,-2.7386127875258306,0A2.7386127875258306,2.7386127875258306,0,1,1,2.7386127875258306,0\" stroke=\"#f58518\" stroke-width=\"2\" opacity=\"0.7\"></path><path aria-label=\"x1: -2.73411830602; x3: 11.7514067304; y: 2\" role=\"graphics-symbol\" aria-roledescription=\"point\" transform=\"translate(86.66062841522634,53.10741587045551)\" d=\"M2.7386127875258306,0A2.7386127875258306,2.7386127875258306,0,1,1,-2.7386127875258306,0A2.7386127875258306,2.7386127875258306,0,1,1,2.7386127875258306,0\" stroke=\"#f58518\" stroke-width=\"2\" opacity=\"0.7\"></path><path aria-label=\"x1: -6.68009915274; x3: 2.09031903774; y: 1\" role=\"graphics-symbol\" aria-roledescription=\"point\" transform=\"translate(56.30692959427945,173.8710120282065)\" d=\"M2.7386127875258306,0A2.7386127875258306,2.7386127875258306,0,1,1,-2.7386127875258306,0A2.7386127875258306,2.7386127875258306,0,1,1,2.7386127875258306,0\" stroke=\"#4c78a8\" stroke-width=\"2\" opacity=\"0.7\"></path><path aria-label=\"x1: 6.83198192413; x3: 7.37685965423; y: 2\" role=\"graphics-symbol\" aria-roledescription=\"point\" transform=\"translate(160.24601480100733,107.78925432216322)\" d=\"M2.7386127875258306,0A2.7386127875258306,2.7386127875258306,0,1,1,-2.7386127875258306,0A2.7386127875258306,2.7386127875258306,0,1,1,2.7386127875258306,0\" stroke=\"#f58518\" stroke-width=\"2\" opacity=\"0.7\"></path><path aria-label=\"x1: -6.50917984106; x3: 2.21049589572; y: 1\" role=\"graphics-symbol\" aria-roledescription=\"point\" transform=\"translate(57.621693530303716,172.36880130346748)\" d=\"M2.7386127875258306,0A2.7386127875258306,2.7386127875258306,0,1,1,-2.7386127875258306,0A2.7386127875258306,2.7386127875258306,0,1,1,2.7386127875258306,0\" stroke=\"#4c78a8\" stroke-width=\"2\" opacity=\"0.7\"></path><path aria-label=\"x1: 0.113506079729; x3: 3.52846086133; y: 2\" role=\"graphics-symbol\" aria-roledescription=\"point\" transform=\"translate(108.56543138253278,155.89423923342747)\" d=\"M2.7386127875258306,0A2.7386127875258306,2.7386127875258306,0,1,1,-2.7386127875258306,0A2.7386127875258306,2.7386127875258306,0,1,1,2.7386127875258306,0\" stroke=\"#f58518\" stroke-width=\"2\" opacity=\"0.7\"></path><path aria-label=\"x1: 2.67137411295; x3: 6.57938122837; y: 2\" role=\"graphics-symbol\" aria-roledescription=\"point\" transform=\"translate(128.24133933035154,117.75773464536414)\" d=\"M2.7386127875258306,0A2.7386127875258306,2.7386127875258306,0,1,1,-2.7386127875258306,0A2.7386127875258306,2.7386127875258306,0,1,1,2.7386127875258306,0\" stroke=\"#f58518\" stroke-width=\"2\" opacity=\"0.7\"></path><path aria-label=\"x1: -5.52579042115; x3: 1.68656661958; y: 1\" role=\"graphics-symbol\" aria-roledescription=\"point\" transform=\"translate(65.1862275295844,178.9179172552886)\" d=\"M2.7386127875258306,0A2.7386127875258306,2.7386127875258306,0,1,1,-2.7386127875258306,0A2.7386127875258306,2.7386127875258306,0,1,1,2.7386127875258306,0\" stroke=\"#4c78a8\" stroke-width=\"2\" opacity=\"0.7\"></path><path aria-label=\"x1: 4.41227814754; x3: 7.62717631887; y: 2\" role=\"graphics-symbol\" aria-roledescription=\"point\" transform=\"translate(141.63290882724183,104.66029601407708)\" d=\"M2.7386127875258306,0A2.7386127875258306,2.7386127875258306,0,1,1,-2.7386127875258306,0A2.7386127875258306,2.7386127875258306,0,1,1,2.7386127875258306,0\" stroke=\"#f58518\" stroke-width=\"2\" opacity=\"0.7\"></path><path aria-label=\"x1: -6.29404627129; x3: 3.1055543813; y: 1\" role=\"graphics-symbol\" aria-roledescription=\"point\" transform=\"translate(59.27656714390825,161.18057023376835)\" d=\"M2.7386127875258306,0A2.7386127875258306,2.7386127875258306,0,1,1,-2.7386127875258306,0A2.7386127875258306,2.7386127875258306,0,1,1,2.7386127875258306,0\" stroke=\"#4c78a8\" stroke-width=\"2\" opacity=\"0.7\"></path><path aria-label=\"x1: -5.00586372429; x3: 2.03482916371; y: 1\" role=\"graphics-symbol\" aria-roledescription=\"point\" transform=\"translate(69.1856636593086,174.56463545364707)\" d=\"M2.7386127875258306,0A2.7386127875258306,2.7386127875258306,0,1,1,-2.7386127875258306,0A2.7386127875258306,2.7386127875258306,0,1,1,2.7386127875258306,0\" stroke=\"#4c78a8\" stroke-width=\"2\" opacity=\"0.7\"></path><path aria-label=\"x1: -7.00512095389; x3: 1.63885361256; y: 1\" role=\"graphics-symbol\" aria-roledescription=\"point\" transform=\"translate(53.806761893118995,179.51432984297512)\" d=\"M2.7386127875258306,0A2.7386127875258306,2.7386127875258306,0,1,1,-2.7386127875258306,0A2.7386127875258306,2.7386127875258306,0,1,1,2.7386127875258306,0\" stroke=\"#4c78a8\" stroke-width=\"2\" opacity=\"0.7\"></path><path aria-label=\"x1: -5.6401866547; x3: 3.04479354842; y: 1\" role=\"graphics-symbol\" aria-roledescription=\"point\" transform=\"translate(64.30625650233249,161.94008064476128)\" d=\"M2.7386127875258306,0A2.7386127875258306,2.7386127875258306,0,1,1,-2.7386127875258306,0A2.7386127875258306,2.7386127875258306,0,1,1,2.7386127875258306,0\" stroke=\"#4c78a8\" stroke-width=\"2\" opacity=\"0.7\"></path><path aria-label=\"x1: -7.92616877524; x3: 1.68839696522; y: 1\" role=\"graphics-symbol\" aria-roledescription=\"point\" transform=\"translate(46.72177865202302,178.89503793469015)\" d=\"M2.7386127875258306,0A2.7386127875258306,2.7386127875258306,0,1,1,-2.7386127875258306,0A2.7386127875258306,2.7386127875258306,0,1,1,2.7386127875258306,0\" stroke=\"#4c78a8\" stroke-width=\"2\" opacity=\"0.7\"></path><path aria-label=\"x1: -5.92889541776; x3: 0.963339486547; y: 1\" role=\"graphics-symbol\" aria-roledescription=\"point\" transform=\"translate(62.0854198633513,187.95825641815844)\" d=\"M2.7386127875258306,0A2.7386127875258306,2.7386127875258306,0,1,1,-2.7386127875258306,0A2.7386127875258306,2.7386127875258306,0,1,1,2.7386127875258306,0\" stroke=\"#4c78a8\" stroke-width=\"2\" opacity=\"0.7\"></path><path aria-label=\"x1: 2.35487952738; x3: 6.1132454252; y: 2\" role=\"graphics-symbol\" aria-roledescription=\"point\" transform=\"translate(125.80676559526015,123.5844321849608)\" d=\"M2.7386127875258306,0A2.7386127875258306,2.7386127875258306,0,1,1,-2.7386127875258306,0A2.7386127875258306,2.7386127875258306,0,1,1,2.7386127875258306,0\" stroke=\"#f58518\" stroke-width=\"2\" opacity=\"0.7\"></path><path aria-label=\"x1: -5.19910165131; x3: 2.21307495908; y: 1\" role=\"graphics-symbol\" aria-roledescription=\"point\" transform=\"translate(67.69921806687394,172.33656301154207)\" d=\"M2.7386127875258306,0A2.7386127875258306,2.7386127875258306,0,1,1,-2.7386127875258306,0A2.7386127875258306,2.7386127875258306,0,1,1,2.7386127875258306,0\" stroke=\"#4c78a8\" stroke-width=\"2\" opacity=\"0.7\"></path><path aria-label=\"x1: -5.84518803906; x3: 2.41242950126; y: 1\" role=\"graphics-symbol\" aria-roledescription=\"point\" transform=\"translate(62.72932277644939,169.84463123422222)\" d=\"M2.7386127875258306,0A2.7386127875258306,2.7386127875258306,0,1,1,-2.7386127875258306,0A2.7386127875258306,2.7386127875258306,0,1,1,2.7386127875258306,0\" stroke=\"#4c78a8\" stroke-width=\"2\" opacity=\"0.7\"></path><path aria-label=\"x1: 5.70646850816; x3: 4.55205245881; y: 2\" role=\"graphics-symbol\" aria-roledescription=\"point\" transform=\"translate(151.58821929353013,143.09934426484133)\" d=\"M2.7386127875258306,0A2.7386127875258306,2.7386127875258306,0,1,1,-2.7386127875258306,0A2.7386127875258306,2.7386127875258306,0,1,1,2.7386127875258306,0\" stroke=\"#f58518\" stroke-width=\"2\" opacity=\"0.7\"></path><path aria-label=\"x1: 3.09197541825; x3: 9.05819277067; y: 2\" role=\"graphics-symbol\" aria-roledescription=\"point\" transform=\"translate(131.47673398653444,86.77259036663409)\" d=\"M2.7386127875258306,0A2.7386127875258306,2.7386127875258306,0,1,1,-2.7386127875258306,0A2.7386127875258306,2.7386127875258306,0,1,1,2.7386127875258306,0\" stroke=\"#f58518\" stroke-width=\"2\" opacity=\"0.7\"></path><path aria-label=\"x1: 8.02444912974; x3: 4.69916417719; y: 2\" role=\"graphics-symbol\" aria-roledescription=\"point\" transform=\"translate(169.41883945950985,141.26044778510106)\" d=\"M2.7386127875258306,0A2.7386127875258306,2.7386127875258306,0,1,1,-2.7386127875258306,0A2.7386127875258306,2.7386127875258306,0,1,1,2.7386127875258306,0\" stroke=\"#f58518\" stroke-width=\"2\" opacity=\"0.7\"></path><path aria-label=\"x1: -6.44667160134; x3: 2.39082977808; y: 1\" role=\"graphics-symbol\" aria-roledescription=\"point\" transform=\"translate(58.102526143561896,170.11462777401084)\" d=\"M2.7386127875258306,0A2.7386127875258306,2.7386127875258306,0,1,1,-2.7386127875258306,0A2.7386127875258306,2.7386127875258306,0,1,1,2.7386127875258306,0\" stroke=\"#4c78a8\" stroke-width=\"2\" opacity=\"0.7\"></path><path aria-label=\"x1: 8.88047790718; x3: 5.5844363362; y: 2\" role=\"graphics-symbol\" aria-roledescription=\"point\" transform=\"translate(176.0036762090786,130.1945457974382)\" d=\"M2.7386127875258306,0A2.7386127875258306,2.7386127875258306,0,1,1,-2.7386127875258306,0A2.7386127875258306,2.7386127875258306,0,1,1,2.7386127875258306,0\" stroke=\"#f58518\" stroke-width=\"2\" opacity=\"0.7\"></path><path aria-label=\"x1: -12.6075103346; x3: 15.9947094027; y: 1\" role=\"graphics-symbol\" aria-roledescription=\"point\" transform=\"translate(10.71145896492034,0.06613246569062703)\" d=\"M2.7386127875258306,0A2.7386127875258306,2.7386127875258306,0,1,1,-2.7386127875258306,0A2.7386127875258306,2.7386127875258306,0,1,1,2.7386127875258306,0\" stroke=\"#4c78a8\" stroke-width=\"2\" opacity=\"0.7\"></path><path aria-label=\"x1: 1.0250686299; x3: 7.22883523097; y: 2\" role=\"graphics-symbol\" aria-roledescription=\"point\" transform=\"translate(115.57745099924188,109.63955961282186)\" d=\"M2.7386127875258306,0A2.7386127875258306,2.7386127875258306,0,1,1,-2.7386127875258306,0A2.7386127875258306,2.7386127875258306,0,1,1,2.7386127875258306,0\" stroke=\"#f58518\" stroke-width=\"2\" opacity=\"0.7\"></path><path aria-label=\"x1: -5.64713558982; x3: 1.6717810453; y: 1\" role=\"graphics-symbol\" aria-roledescription=\"point\" transform=\"translate(64.25280315520746,179.10273693374072)\" d=\"M2.7386127875258306,0A2.7386127875258306,2.7386127875258306,0,1,1,-2.7386127875258306,0A2.7386127875258306,2.7386127875258306,0,1,1,2.7386127875258306,0\" stroke=\"#4c78a8\" stroke-width=\"2\" opacity=\"0.7\"></path><path aria-label=\"x1: -7.69527426736; x3: 1.17781089401; y: 1\" role=\"graphics-symbol\" aria-roledescription=\"point\" transform=\"translate(48.49789025109139,185.27736382492327)\" d=\"M2.7386127875258306,0A2.7386127875258306,2.7386127875258306,0,1,1,-2.7386127875258306,0A2.7386127875258306,2.7386127875258306,0,1,1,2.7386127875258306,0\" stroke=\"#4c78a8\" stroke-width=\"2\" opacity=\"0.7\"></path></g><g class=\"mark-group role-legend\" role=\"graphics-symbol\" aria-roledescription=\"legend\" aria-label=\"Symbol legend titled 'y' for stroke color with 2 values: 1, 2\"><g transform=\"translate(218,0)\"><path class=\"background\" aria-hidden=\"true\" d=\"M0,0h22v45h-22Z\" pointer-events=\"none\"></path><g><g class=\"mark-group role-legend-entry\"><g transform=\"translate(0,16)\"><path class=\"background\" aria-hidden=\"true\" d=\"M0,0h0v0h0Z\" pointer-events=\"none\"></path><g><g class=\"mark-group role-scope\" role=\"graphics-object\" aria-roledescription=\"group mark container\"><g transform=\"translate(0,0)\"><path class=\"background\" aria-hidden=\"true\" d=\"M0,0h22v12.5h-22Z\" pointer-events=\"none\" opacity=\"1\"></path><g><g class=\"mark-symbol role-legend-symbol\" pointer-events=\"none\"><path transform=\"translate(6,6)\" d=\"M5,0A5,5,0,1,1,-5,0A5,5,0,1,1,5,0\" stroke=\"#4c78a8\" stroke-width=\"1.5\" opacity=\"0.7\"></path></g><g class=\"mark-text role-legend-label\" pointer-events=\"none\"><text text-anchor=\"start\" transform=\"translate(16,9)\" font-family=\"sans-serif\" font-size=\"10px\" fill=\"#000\" opacity=\"1\">1</text></g></g><path class=\"foreground\" aria-hidden=\"true\" d=\"\" pointer-events=\"none\" display=\"none\"></path></g><g transform=\"translate(0,16)\"><path class=\"background\" aria-hidden=\"true\" d=\"M0,0h22v12.5h-22Z\" pointer-events=\"none\" opacity=\"1\"></path><g><g class=\"mark-symbol role-legend-symbol\" pointer-events=\"none\"><path transform=\"translate(6,6)\" d=\"M5,0A5,5,0,1,1,-5,0A5,5,0,1,1,5,0\" stroke=\"#f58518\" stroke-width=\"1.5\" opacity=\"0.7\"></path></g><g class=\"mark-text role-legend-label\" pointer-events=\"none\"><text text-anchor=\"start\" transform=\"translate(16,9)\" font-family=\"sans-serif\" font-size=\"10px\" fill=\"#000\" opacity=\"1\">2</text></g></g><path class=\"foreground\" aria-hidden=\"true\" d=\"\" pointer-events=\"none\" display=\"none\"></path></g></g></g><path class=\"foreground\" aria-hidden=\"true\" d=\"\" pointer-events=\"none\" display=\"none\"></path></g></g><g class=\"mark-text role-legend-title\" pointer-events=\"none\"><text text-anchor=\"start\" transform=\"translate(0,9)\" font-family=\"sans-serif\" font-size=\"11px\" font-weight=\"bold\" fill=\"#000\" opacity=\"1\">y</text></g></g><path class=\"foreground\" aria-hidden=\"true\" d=\"\" pointer-events=\"none\" display=\"none\"></path></g></g></g><path class=\"foreground\" aria-hidden=\"true\" d=\"\" display=\"none\"></path></g></g></g></svg>\n"
      ],
      "text/plain": [
       "@vlplot(\n",
       "    mark=\"point\",\n",
       "    encoding={\n",
       "        x={\n",
       "            field=\"x1\"\n",
       "        },\n",
       "        y={\n",
       "            field=\"x3\"\n",
       "        },\n",
       "        color={\n",
       "            field=\"y\",\n",
       "            type=\"nominal\"\n",
       "        }\n",
       "    },\n",
       "    data={\n",
       "        values=...\n",
       "    }\n",
       ")"
      ]
     },
     "execution_count": 35,
     "metadata": {},
     "output_type": "execute_result"
    }
   ],
   "source": [
    "dfBlobs |> @vlplot(:point, x=:x1, y=:x3, color = :\"y:n\") "
   ]
  },
  {
   "cell_type": "markdown",
   "metadata": {},
   "source": [
    "##  Generating concentric circles\n",
    "\n",
    "```@docs\n",
    "make_circles\n",
    "```"
   ]
  },
  {
   "cell_type": "code",
   "execution_count": 36,
   "metadata": {},
   "outputs": [
    {
     "data": {
      "text/html": [
       "<table class=\"data-frame\"><thead><tr><th></th><th>x1</th><th>x2</th><th>y</th></tr><tr><th></th><th>Float64</th><th>Float64</th><th>Cat…</th></tr></thead><tbody><p>3 rows × 3 columns</p><tr><th>1</th><td>-0.342997</td><td>-0.00629956</td><td>0</td></tr><tr><th>2</th><td>1.02085</td><td>0.0437288</td><td>1</td></tr><tr><th>3</th><td>-0.21868</td><td>0.958061</td><td>1</td></tr></tbody></table>"
      ],
      "text/latex": [
       "\\begin{tabular}{r|ccc}\n",
       "\t& x1 & x2 & y\\\\\n",
       "\t\\hline\n",
       "\t& Float64 & Float64 & Cat…\\\\\n",
       "\t\\hline\n",
       "\t1 & -0.342997 & -0.00629956 & 0 \\\\\n",
       "\t2 & 1.02085 & 0.0437288 & 1 \\\\\n",
       "\t3 & -0.21868 & 0.958061 & 1 \\\\\n",
       "\\end{tabular}\n"
      ],
      "text/plain": [
       "3×3 DataFrame\n",
       "│ Row │ x1        │ x2          │ y    │\n",
       "│     │ \u001b[90mFloat64\u001b[39m   │ \u001b[90mFloat64\u001b[39m     │ \u001b[90mCat…\u001b[39m │\n",
       "├─────┼───────────┼─────────────┼──────┤\n",
       "│ 1   │ -0.342997 │ -0.00629956 │ 0    │\n",
       "│ 2   │ 1.02085   │ 0.0437288   │ 1    │\n",
       "│ 3   │ -0.21868  │ 0.958061    │ 1    │"
      ]
     },
     "execution_count": 36,
     "metadata": {},
     "output_type": "execute_result"
    }
   ],
   "source": [
    "X, y = make_circles(100; noise=0.05, factor=0.3)\n",
    "dfCircles = DataFrame(X)\n",
    "dfCircles.y = y\n",
    "first(dfCircles, 3)"
   ]
  },
  {
   "cell_type": "code",
   "execution_count": 37,
   "metadata": {},
   "outputs": [
    {
     "data": {
      "application/vnd.vegalite.v4+json": {
       "data": {
        "values": [
         {
          "x1": -0.3429973289986776,
          "x2": -0.006299563562939361,
          "y": 0
         },
         {
          "x1": 1.020851097085077,
          "x2": 0.043728796294943945,
          "y": 1
         },
         {
          "x1": -0.21867985215237407,
          "x2": 0.9580608508854831,
          "y": 1
         },
         {
          "x1": 0.9625640311412708,
          "x2": 0.21084553537124323,
          "y": 1
         },
         {
          "x1": -0.2374389587127787,
          "x2": 0.9803255854713364,
          "y": 1
         },
         {
          "x1": -0.24595828848918444,
          "x2": 0.9111329686909976,
          "y": 1
         },
         {
          "x1": -0.6153573100129112,
          "x2": -0.7174777312043913,
          "y": 1
         },
         {
          "x1": 0.29983681490799097,
          "x2": -0.16393266640813678,
          "y": 0
         },
         {
          "x1": -0.6632463716368422,
          "x2": -0.8001109689169298,
          "y": 1
         },
         {
          "x1": -1.0100656696395762,
          "x2": 0.09435336737910159,
          "y": 1
         },
         {
          "x1": -0.08936277940202794,
          "x2": 0.31082908269227055,
          "y": 0
         },
         {
          "x1": 0.0014616299487905382,
          "x2": 0.2912518595769784,
          "y": 0
         },
         {
          "x1": 0.32794851838748895,
          "x2": 0.00982268552859051,
          "y": 0
         },
         {
          "x1": 0.17351832880979648,
          "x2": 0.30214573327773553,
          "y": 0
         },
         {
          "x1": 0.22716768591438416,
          "x2": -0.11774922836321489,
          "y": 0
         },
         {
          "x1": -0.679973863644328,
          "x2": 0.7221401632284198,
          "y": 1
         },
         {
          "x1": 0.9520012124705264,
          "x2": 0.2534620436014916,
          "y": 1
         },
         {
          "x1": -0.29464854561206044,
          "x2": -0.15685435652734164,
          "y": 0
         },
         {
          "x1": 0.2700982666499536,
          "x2": 0.00888445334085276,
          "y": 0
         },
         {
          "x1": 0.18592993013624848,
          "x2": 0.09115204832655024,
          "y": 0
         },
         {
          "x1": -0.2935080433318936,
          "x2": 0.1412751463717719,
          "y": 0
         },
         {
          "x1": 0.7978191852896912,
          "x2": 0.6162813194908285,
          "y": 1
         },
         {
          "x1": -0.22254688768213504,
          "x2": 0.1605507152220613,
          "y": 0
         },
         {
          "x1": -0.15881180400189826,
          "x2": -0.9822445412304502,
          "y": 1
         },
         {
          "x1": -0.8563020605700551,
          "x2": -0.43527403789979235,
          "y": 1
         },
         {
          "x1": 0.32978189481436077,
          "x2": -0.9789875458306052,
          "y": 1
         },
         {
          "x1": -0.7706670237593738,
          "x2": 0.606821111398671,
          "y": 1
         },
         {
          "x1": -0.4659477289814586,
          "x2": 0.9435043814406232,
          "y": 1
         },
         {
          "x1": -0.11003684705292904,
          "x2": -0.9689640456114402,
          "y": 1
         },
         {
          "x1": -0.23107183282863042,
          "x2": 0.059953932947462346,
          "y": 0
         },
         {
          "x1": 0.6330557548781504,
          "x2": -0.8626540953154966,
          "y": 1
         },
         {
          "x1": 0.42427802614154514,
          "x2": 0.9201088595955302,
          "y": 1
         },
         {
          "x1": -0.5147670225012002,
          "x2": -0.842291406477388,
          "y": 1
         },
         {
          "x1": -0.01993920866796471,
          "x2": 0.28221604812323003,
          "y": 0
         },
         {
          "x1": 0.709895106742534,
          "x2": -0.6157240147949496,
          "y": 1
         },
         {
          "x1": 0.2065567105053752,
          "x2": -0.08766340966874338,
          "y": 0
         },
         {
          "x1": 0.44803825736454,
          "x2": 0.9554995429808866,
          "y": 1
         },
         {
          "x1": -0.25080081682843997,
          "x2": -0.9449314723920158,
          "y": 1
         },
         {
          "x1": -0.15046593100431926,
          "x2": -0.29935140872031396,
          "y": 0
         },
         {
          "x1": 0.9103006206565706,
          "x2": -0.47309282712544315,
          "y": 1
         },
         {
          "x1": 0.24875943962936292,
          "x2": 0.9395316192709823,
          "y": 1
         },
         {
          "x1": 0.5565044880529034,
          "x2": 0.8547081318747849,
          "y": 1
         },
         {
          "x1": 0.16269085289063295,
          "x2": 0.27477718218329916,
          "y": 0
         },
         {
          "x1": -0.9629756398871605,
          "x2": 0.08201822136517878,
          "y": 1
         },
         {
          "x1": -0.10563104657650116,
          "x2": -0.23703709130305953,
          "y": 0
         },
         {
          "x1": 0.8754787545857909,
          "x2": -0.5021627706867883,
          "y": 1
         },
         {
          "x1": 0.9750663880678216,
          "x2": -0.08368111134366801,
          "y": 1
         },
         {
          "x1": 1.0182378700635522,
          "x2": 0.36229863353152647,
          "y": 1
         },
         {
          "x1": -0.315687363784698,
          "x2": 0.20279779525392258,
          "y": 0
         },
         {
          "x1": -0.2831956070540199,
          "x2": -0.1592405085003608,
          "y": 0
         },
         {
          "x1": 0.16026997020032946,
          "x2": 0.31023859757986355,
          "y": 0
         },
         {
          "x1": 0.6072258206079085,
          "x2": -0.7912818372492608,
          "y": 1
         },
         {
          "x1": -0.20535694466674845,
          "x2": -0.25656850846296153,
          "y": 0
         },
         {
          "x1": -0.9641499344391675,
          "x2": -0.14049208516067613,
          "y": 1
         },
         {
          "x1": -0.6112661531754814,
          "x2": -0.8715321600810764,
          "y": 1
         },
         {
          "x1": -0.08293498344071384,
          "x2": -0.4129736360639079,
          "y": 0
         },
         {
          "x1": 1.0385999790988483,
          "x2": -0.14017000537719834,
          "y": 1
         },
         {
          "x1": -1.0076641324920224,
          "x2": 0.027335332349792345,
          "y": 1
         },
         {
          "x1": 0.29817424822287086,
          "x2": 0.04286355625553197,
          "y": 0
         },
         {
          "x1": 0.013231245537377022,
          "x2": 0.20147488297588945,
          "y": 0
         },
         {
          "x1": 0.3668421122289275,
          "x2": -0.04557981331553901,
          "y": 0
         },
         {
          "x1": -0.37401001184436083,
          "x2": 0.9203530401307064,
          "y": 1
         },
         {
          "x1": -0.9267344270799769,
          "x2": 0.1793091020021044,
          "y": 1
         },
         {
          "x1": 0.026954417409516207,
          "x2": 0.33310043765475605,
          "y": 0
         },
         {
          "x1": -0.18268204747176656,
          "x2": 0.23856662483059662,
          "y": 0
         },
         {
          "x1": -0.1894173950825171,
          "x2": -0.14474247785644406,
          "y": 0
         },
         {
          "x1": -0.5425176533238742,
          "x2": -0.805946500350001,
          "y": 1
         },
         {
          "x1": -0.9650769024788493,
          "x2": -0.02232220001476625,
          "y": 1
         },
         {
          "x1": 0.7112706527628312,
          "x2": -0.7211592660571973,
          "y": 1
         },
         {
          "x1": -0.28491815276811977,
          "x2": -0.07054596159092547,
          "y": 0
         },
         {
          "x1": 0.2756079094350364,
          "x2": 0.20235536126443116,
          "y": 0
         },
         {
          "x1": 0.2240703193325335,
          "x2": 0.9519657879984283,
          "y": 1
         },
         {
          "x1": 0.9519454027127411,
          "x2": -0.45357197969470997,
          "y": 1
         },
         {
          "x1": -0.3333244695089689,
          "x2": -0.2077895015728271,
          "y": 0
         },
         {
          "x1": 0.14365013577653737,
          "x2": 0.05716772625951774,
          "y": 0
         },
         {
          "x1": -0.2650023883873516,
          "x2": 0.022792590129607198,
          "y": 0
         },
         {
          "x1": 0.20635596343573775,
          "x2": -0.013425305228230607,
          "y": 0
         },
         {
          "x1": 0.055374276623968224,
          "x2": 0.24613958883085488,
          "y": 0
         },
         {
          "x1": -0.25047895138585263,
          "x2": -0.11926289997230519,
          "y": 0
         },
         {
          "x1": -0.30135495282946084,
          "x2": 0.18616473647811618,
          "y": 0
         },
         {
          "x1": 0.14532109194406506,
          "x2": -1.040895677739072,
          "y": 1
         },
         {
          "x1": 0.7081062660338171,
          "x2": 0.6874607762309212,
          "y": 1
         },
         {
          "x1": 0.8390174045057971,
          "x2": 0.4620999203625478,
          "y": 1
         },
         {
          "x1": -0.22652408835373633,
          "x2": 0.16854637046802926,
          "y": 0
         },
         {
          "x1": 0.19740525848569687,
          "x2": 0.13072625650144903,
          "y": 0
         },
         {
          "x1": 0.26732684137604423,
          "x2": -0.13719514797253204,
          "y": 0
         },
         {
          "x1": 0.3116056484318315,
          "x2": 0.06498420835031596,
          "y": 0
         },
         {
          "x1": -0.24960279415133863,
          "x2": 0.05663660712253064,
          "y": 0
         },
         {
          "x1": -0.23582753668725392,
          "x2": 0.18412066290791876,
          "y": 0
         },
         {
          "x1": -0.23403324429917724,
          "x2": 0.8403381480195693,
          "y": 1
         },
         {
          "x1": 0.8784733597241043,
          "x2": 0.6607865891460041,
          "y": 1
         },
         {
          "x1": -0.2675150513505535,
          "x2": -0.22733219426709703,
          "y": 0
         },
         {
          "x1": 0.13987364887016432,
          "x2": -0.32668574207030815,
          "y": 0
         },
         {
          "x1": 0.3460921745748985,
          "x2": -1.0154928903409635,
          "y": 1
         },
         {
          "x1": 0.16520144729846079,
          "x2": 1.034839139002008,
          "y": 1
         },
         {
          "x1": 0.24883005682836432,
          "x2": 0.08659666670503414,
          "y": 0
         },
         {
          "x1": 0.020733754198625186,
          "x2": -0.273474754725191,
          "y": 0
         },
         {
          "x1": -0.06869982763841025,
          "x2": 0.2517322619869118,
          "y": 0
         },
         {
          "x1": -1.017808261449678,
          "x2": 0.3029801396536927,
          "y": 1
         },
         {
          "x1": -0.014847635093359055,
          "x2": 0.22143466631904055,
          "y": 0
         }
        ]
       },
       "encoding": {
        "color": {
         "field": "y",
         "type": "nominal"
        },
        "x": {
         "field": "x1",
         "type": "quantitative"
        },
        "y": {
         "field": "x2",
         "type": "quantitative"
        }
       },
       "mark": "circle"
      },
      "image/png": "[encoded data removed]",
      "image/svg+xml": [
       "<?xml version=\"1.0\" encoding=\"utf-8\"?>\n",
       "<!DOCTYPE svg PUBLIC \"-//W3C//DTD SVG 1.1//EN\" \"http://www.w3.org/Graphics/SVG/1.1/DTD/svg11.dtd\">\n",
       "<svg class=\"marks\" width=\"290\" height=\"242\" viewBox=\"0 0 290 242\" version=\"1.1\" xmlns=\"http://www.w3.org/2000/svg\" xmlns:xlink=\"http://www.w3.org/1999/xlink\"><rect width=\"290\" height=\"242\" fill=\"white\"></rect><g fill=\"none\" stroke-miterlimit=\"10\" transform=\"translate(45,5)\"><g class=\"mark-group role-frame root\" role=\"graphics-object\" aria-roledescription=\"group mark container\"><g transform=\"translate(0,0)\"><path class=\"background\" aria-hidden=\"true\" d=\"M0.5,0.5h200v200h-200Z\" stroke=\"#ddd\"></path><g><g class=\"mark-group role-axis\" aria-hidden=\"true\"><g transform=\"translate(0.5,200.5)\"><path class=\"background\" aria-hidden=\"true\" d=\"M0,0h0v0h0Z\" pointer-events=\"none\"></path><g><g class=\"mark-rule role-axis-grid\" pointer-events=\"none\"><line transform=\"translate(17,-200)\" x2=\"0\" y2=\"200\" stroke=\"#ddd\" stroke-width=\"1\" opacity=\"1\"></line><line transform=\"translate(58,-200)\" x2=\"0\" y2=\"200\" stroke=\"#ddd\" stroke-width=\"1\" opacity=\"1\"></line><line transform=\"translate(100,-200)\" x2=\"0\" y2=\"200\" stroke=\"#ddd\" stroke-width=\"1\" opacity=\"1\"></line><line transform=\"translate(142,-200)\" x2=\"0\" y2=\"200\" stroke=\"#ddd\" stroke-width=\"1\" opacity=\"1\"></line><line transform=\"translate(183,-200)\" x2=\"0\" y2=\"200\" stroke=\"#ddd\" stroke-width=\"1\" opacity=\"1\"></line></g></g><path class=\"foreground\" aria-hidden=\"true\" d=\"\" pointer-events=\"none\" display=\"none\"></path></g></g><g class=\"mark-group role-axis\" aria-hidden=\"true\"><g transform=\"translate(0.5,0.5)\"><path class=\"background\" aria-hidden=\"true\" d=\"M0,0h0v0h0Z\" pointer-events=\"none\"></path><g><g class=\"mark-rule role-axis-grid\" pointer-events=\"none\"><line transform=\"translate(0,183)\" x2=\"200\" y2=\"0\" stroke=\"#ddd\" stroke-width=\"1\" opacity=\"1\"></line><line transform=\"translate(0,142)\" x2=\"200\" y2=\"0\" stroke=\"#ddd\" stroke-width=\"1\" opacity=\"1\"></line><line transform=\"translate(0,100)\" x2=\"200\" y2=\"0\" stroke=\"#ddd\" stroke-width=\"1\" opacity=\"1\"></line><line transform=\"translate(0,58)\" x2=\"200\" y2=\"0\" stroke=\"#ddd\" stroke-width=\"1\" opacity=\"1\"></line><line transform=\"translate(0,17)\" x2=\"200\" y2=\"0\" stroke=\"#ddd\" stroke-width=\"1\" opacity=\"1\"></line></g></g><path class=\"foreground\" aria-hidden=\"true\" d=\"\" pointer-events=\"none\" display=\"none\"></path></g></g><g class=\"mark-group role-axis\" role=\"graphics-symbol\" aria-roledescription=\"axis\" aria-label=\"X-axis titled 'x1' for a linear scale with values from -1.2 to 1.2\"><g transform=\"translate(0.5,200.5)\"><path class=\"background\" aria-hidden=\"true\" d=\"M0,0h0v0h0Z\" pointer-events=\"none\"></path><g><g class=\"mark-rule role-axis-tick\" pointer-events=\"none\"><line transform=\"translate(17,0)\" x2=\"0\" y2=\"5\" stroke=\"#888\" stroke-width=\"1\" opacity=\"1\"></line><line transform=\"translate(58,0)\" x2=\"0\" y2=\"5\" stroke=\"#888\" stroke-width=\"1\" opacity=\"1\"></line><line transform=\"translate(100,0)\" x2=\"0\" y2=\"5\" stroke=\"#888\" stroke-width=\"1\" opacity=\"1\"></line><line transform=\"translate(142,0)\" x2=\"0\" y2=\"5\" stroke=\"#888\" stroke-width=\"1\" opacity=\"1\"></line><line transform=\"translate(183,0)\" x2=\"0\" y2=\"5\" stroke=\"#888\" stroke-width=\"1\" opacity=\"1\"></line></g><g class=\"mark-text role-axis-label\" pointer-events=\"none\"><text text-anchor=\"middle\" transform=\"translate(16.666666666666664,15)\" font-family=\"sans-serif\" font-size=\"10px\" fill=\"#000\" opacity=\"1\">-1.0</text><text text-anchor=\"middle\" transform=\"translate(58.333333333333336,15)\" font-family=\"sans-serif\" font-size=\"10px\" fill=\"#000\" opacity=\"1\">-0.5</text><text text-anchor=\"middle\" transform=\"translate(100,15)\" font-family=\"sans-serif\" font-size=\"10px\" fill=\"#000\" opacity=\"1\">0.0</text><text text-anchor=\"middle\" transform=\"translate(141.66666666666669,15)\" font-family=\"sans-serif\" font-size=\"10px\" fill=\"#000\" opacity=\"1\">0.5</text><text text-anchor=\"middle\" transform=\"translate(183.33333333333334,15)\" font-family=\"sans-serif\" font-size=\"10px\" fill=\"#000\" opacity=\"1\">1.0</text></g><g class=\"mark-rule role-axis-domain\" pointer-events=\"none\"><line transform=\"translate(0,0)\" x2=\"200\" y2=\"0\" stroke=\"#888\" stroke-width=\"1\" opacity=\"1\"></line></g><g class=\"mark-text role-axis-title\" pointer-events=\"none\"><text text-anchor=\"middle\" transform=\"translate(100,30)\" font-family=\"sans-serif\" font-size=\"11px\" font-weight=\"bold\" fill=\"#000\" opacity=\"1\">x1</text></g></g><path class=\"foreground\" aria-hidden=\"true\" d=\"\" pointer-events=\"none\" display=\"none\"></path></g></g><g class=\"mark-group role-axis\" role=\"graphics-symbol\" aria-roledescription=\"axis\" aria-label=\"Y-axis titled 'x2' for a linear scale with values from -1.2 to 1.2\"><g transform=\"translate(0.5,0.5)\"><path class=\"background\" aria-hidden=\"true\" d=\"M0,0h0v0h0Z\" pointer-events=\"none\"></path><g><g class=\"mark-rule role-axis-tick\" pointer-events=\"none\"><line transform=\"translate(0,183)\" x2=\"-5\" y2=\"0\" stroke=\"#888\" stroke-width=\"1\" opacity=\"1\"></line><line transform=\"translate(0,142)\" x2=\"-5\" y2=\"0\" stroke=\"#888\" stroke-width=\"1\" opacity=\"1\"></line><line transform=\"translate(0,100)\" x2=\"-5\" y2=\"0\" stroke=\"#888\" stroke-width=\"1\" opacity=\"1\"></line><line transform=\"translate(0,58)\" x2=\"-5\" y2=\"0\" stroke=\"#888\" stroke-width=\"1\" opacity=\"1\"></line><line transform=\"translate(0,17)\" x2=\"-5\" y2=\"0\" stroke=\"#888\" stroke-width=\"1\" opacity=\"1\"></line></g><g class=\"mark-text role-axis-label\" pointer-events=\"none\"><text text-anchor=\"end\" transform=\"translate(-7,186.33333333333334)\" font-family=\"sans-serif\" font-size=\"10px\" fill=\"#000\" opacity=\"1\">-1.0</text><text text-anchor=\"end\" transform=\"translate(-7,144.66666666666666)\" font-family=\"sans-serif\" font-size=\"10px\" fill=\"#000\" opacity=\"1\">-0.5</text><text text-anchor=\"end\" transform=\"translate(-7,103)\" font-family=\"sans-serif\" font-size=\"10px\" fill=\"#000\" opacity=\"1\">0.0</text><text text-anchor=\"end\" transform=\"translate(-7,61.33333333333333)\" font-family=\"sans-serif\" font-size=\"10px\" fill=\"#000\" opacity=\"1\">0.5</text><text text-anchor=\"end\" transform=\"translate(-7,19.66666666666665)\" font-family=\"sans-serif\" font-size=\"10px\" fill=\"#000\" opacity=\"1\">1.0</text></g><g class=\"mark-rule role-axis-domain\" pointer-events=\"none\"><line transform=\"translate(0,200)\" x2=\"0\" y2=\"-200\" stroke=\"#888\" stroke-width=\"1\" opacity=\"1\"></line></g><g class=\"mark-text role-axis-title\" pointer-events=\"none\"><text text-anchor=\"middle\" transform=\"translate(-29,100) rotate(-90) translate(0,-2)\" font-family=\"sans-serif\" font-size=\"11px\" font-weight=\"bold\" fill=\"#000\" opacity=\"1\">x2</text></g></g><path class=\"foreground\" aria-hidden=\"true\" d=\"\" pointer-events=\"none\" display=\"none\"></path></g></g><g class=\"mark-symbol role-mark marks\" role=\"graphics-object\" aria-roledescription=\"symbol mark container\"><path aria-label=\"x1: -0.342997328999; x2: -0.00629956356294; y: 0\" role=\"graphics-symbol\" aria-roledescription=\"circle\" transform=\"translate(71.41688925011019,100.52496363024494)\" d=\"M2.7386127875258306,0A2.7386127875258306,2.7386127875258306,0,1,1,-2.7386127875258306,0A2.7386127875258306,2.7386127875258306,0,1,1,2.7386127875258306,0\" fill=\"#4c78a8\" stroke-width=\"2\" opacity=\"0.7\"></path><path aria-label=\"x1: 1.02085109709; x2: 0.0437287962949; y: 1\" role=\"graphics-symbol\" aria-roledescription=\"circle\" transform=\"translate(185.07092475708976,96.355933642088)\" d=\"M2.7386127875258306,0A2.7386127875258306,2.7386127875258306,0,1,1,-2.7386127875258306,0A2.7386127875258306,2.7386127875258306,0,1,1,2.7386127875258306,0\" fill=\"#f58518\" stroke-width=\"2\" opacity=\"0.7\"></path><path aria-label=\"x1: -0.218679852152; x2: 0.958060850885; y: 1\" role=\"graphics-symbol\" aria-roledescription=\"circle\" transform=\"translate(81.77667898730216,20.161595759543083)\" d=\"M2.7386127875258306,0A2.7386127875258306,2.7386127875258306,0,1,1,-2.7386127875258306,0A2.7386127875258306,2.7386127875258306,0,1,1,2.7386127875258306,0\" fill=\"#f58518\" stroke-width=\"2\" opacity=\"0.7\"></path><path aria-label=\"x1: 0.962564031141; x2: 0.210845535371; y: 1\" role=\"graphics-symbol\" aria-roledescription=\"circle\" transform=\"translate(180.21366926177257,82.42953871906306)\" d=\"M2.7386127875258306,0A2.7386127875258306,2.7386127875258306,0,1,1,-2.7386127875258306,0A2.7386127875258306,2.7386127875258306,0,1,1,2.7386127875258306,0\" fill=\"#f58518\" stroke-width=\"2\" opacity=\"0.7\"></path><path aria-label=\"x1: -0.237438958713; x2: 0.980325585471; y: 1\" role=\"graphics-symbol\" aria-roledescription=\"circle\" transform=\"translate(80.21342010726843,18.306201210721973)\" d=\"M2.7386127875258306,0A2.7386127875258306,2.7386127875258306,0,1,1,-2.7386127875258306,0A2.7386127875258306,2.7386127875258306,0,1,1,2.7386127875258306,0\" fill=\"#f58518\" stroke-width=\"2\" opacity=\"0.7\"></path><path aria-label=\"x1: -0.245958288489; x2: 0.911132968691; y: 1\" role=\"graphics-symbol\" aria-roledescription=\"circle\" transform=\"translate(79.50347595923462,24.07225260908352)\" d=\"M2.7386127875258306,0A2.7386127875258306,2.7386127875258306,0,1,1,-2.7386127875258306,0A2.7386127875258306,2.7386127875258306,0,1,1,2.7386127875258306,0\" fill=\"#f58518\" stroke-width=\"2\" opacity=\"0.7\"></path><path aria-label=\"x1: -0.615357310013; x2: -0.717477731204; y: 1\" role=\"graphics-symbol\" aria-roledescription=\"circle\" transform=\"translate(48.720224165590736,159.78981093369927)\" d=\"M2.7386127875258306,0A2.7386127875258306,2.7386127875258306,0,1,1,-2.7386127875258306,0A2.7386127875258306,2.7386127875258306,0,1,1,2.7386127875258306,0\" fill=\"#f58518\" stroke-width=\"2\" opacity=\"0.7\"></path><path aria-label=\"x1: 0.299836814908; x2: -0.163932666408; y: 0\" role=\"graphics-symbol\" aria-roledescription=\"circle\" transform=\"translate(124.9864012423326,113.6610555340114)\" d=\"M2.7386127875258306,0A2.7386127875258306,2.7386127875258306,0,1,1,-2.7386127875258306,0A2.7386127875258306,2.7386127875258306,0,1,1,2.7386127875258306,0\" fill=\"#4c78a8\" stroke-width=\"2\" opacity=\"0.7\"></path><path aria-label=\"x1: -0.663246371637; x2: -0.800110968917; y: 1\" role=\"graphics-symbol\" aria-roledescription=\"circle\" transform=\"translate(44.72946903026315,166.67591407641083)\" d=\"M2.7386127875258306,0A2.7386127875258306,2.7386127875258306,0,1,1,-2.7386127875258306,0A2.7386127875258306,2.7386127875258306,0,1,1,2.7386127875258306,0\" fill=\"#f58518\" stroke-width=\"2\" opacity=\"0.7\"></path><path aria-label=\"x1: -1.01006566964; x2: 0.0943533673791; y: 1\" role=\"graphics-symbol\" aria-roledescription=\"circle\" transform=\"translate(15.827860863368645,92.13721938507487)\" d=\"M2.7386127875258306,0A2.7386127875258306,2.7386127875258306,0,1,1,-2.7386127875258306,0A2.7386127875258306,2.7386127875258306,0,1,1,2.7386127875258306,0\" fill=\"#f58518\" stroke-width=\"2\" opacity=\"0.7\"></path><path aria-label=\"x1: -0.089362779402; x2: 0.310829082692; y: 0\" role=\"graphics-symbol\" aria-roledescription=\"circle\" transform=\"translate(92.55310171649766,74.09757644231078)\" d=\"M2.7386127875258306,0A2.7386127875258306,2.7386127875258306,0,1,1,-2.7386127875258306,0A2.7386127875258306,2.7386127875258306,0,1,1,2.7386127875258306,0\" fill=\"#4c78a8\" stroke-width=\"2\" opacity=\"0.7\"></path><path aria-label=\"x1: 0.00146162994879; x2: 0.291251859577; y: 0\" role=\"graphics-symbol\" aria-roledescription=\"circle\" transform=\"translate(100.12180249573255,75.72901170191845)\" d=\"M2.7386127875258306,0A2.7386127875258306,2.7386127875258306,0,1,1,-2.7386127875258306,0A2.7386127875258306,2.7386127875258306,0,1,1,2.7386127875258306,0\" fill=\"#4c78a8\" stroke-width=\"2\" opacity=\"0.7\"></path><path aria-label=\"x1: 0.327948518387; x2: 0.00982268552859; y: 0\" role=\"graphics-symbol\" aria-roledescription=\"circle\" transform=\"translate(127.32904319895741,99.18144287261745)\" d=\"M2.7386127875258306,0A2.7386127875258306,2.7386127875258306,0,1,1,-2.7386127875258306,0A2.7386127875258306,2.7386127875258306,0,1,1,2.7386127875258306,0\" fill=\"#4c78a8\" stroke-width=\"2\" opacity=\"0.7\"></path><path aria-label=\"x1: 0.17351832881; x2: 0.302145733278; y: 0\" role=\"graphics-symbol\" aria-roledescription=\"circle\" transform=\"translate(114.45986073414971,74.82118889352203)\" d=\"M2.7386127875258306,0A2.7386127875258306,2.7386127875258306,0,1,1,-2.7386127875258306,0A2.7386127875258306,2.7386127875258306,0,1,1,2.7386127875258306,0\" fill=\"#4c78a8\" stroke-width=\"2\" opacity=\"0.7\"></path><path aria-label=\"x1: 0.227167685914; x2: -0.117749228363; y: 0\" role=\"graphics-symbol\" aria-roledescription=\"circle\" transform=\"translate(118.93064049286535,109.81243569693457)\" d=\"M2.7386127875258306,0A2.7386127875258306,2.7386127875258306,0,1,1,-2.7386127875258306,0A2.7386127875258306,2.7386127875258306,0,1,1,2.7386127875258306,0\" fill=\"#4c78a8\" stroke-width=\"2\" opacity=\"0.7\"></path><path aria-label=\"x1: -0.679973863644; x2: 0.722140163228; y: 1\" role=\"graphics-symbol\" aria-roledescription=\"circle\" transform=\"translate(43.33551136297267,39.821653064298346)\" d=\"M2.7386127875258306,0A2.7386127875258306,2.7386127875258306,0,1,1,-2.7386127875258306,0A2.7386127875258306,2.7386127875258306,0,1,1,2.7386127875258306,0\" fill=\"#f58518\" stroke-width=\"2\" opacity=\"0.7\"></path><path aria-label=\"x1: 0.952001212471; x2: 0.253462043601; y: 1\" role=\"graphics-symbol\" aria-roledescription=\"circle\" transform=\"translate(179.33343437254388,78.87816303320902)\" d=\"M2.7386127875258306,0A2.7386127875258306,2.7386127875258306,0,1,1,-2.7386127875258306,0A2.7386127875258306,2.7386127875258306,0,1,1,2.7386127875258306,0\" fill=\"#f58518\" stroke-width=\"2\" opacity=\"0.7\"></path><path aria-label=\"x1: -0.294648545612; x2: -0.156854356527; y: 0\" role=\"graphics-symbol\" aria-roledescription=\"circle\" transform=\"translate(75.4459545323283,113.07119637727847)\" d=\"M2.7386127875258306,0A2.7386127875258306,2.7386127875258306,0,1,1,-2.7386127875258306,0A2.7386127875258306,2.7386127875258306,0,1,1,2.7386127875258306,0\" fill=\"#4c78a8\" stroke-width=\"2\" opacity=\"0.7\"></path><path aria-label=\"x1: 0.27009826665; x2: 0.00888445334085; y: 0\" role=\"graphics-symbol\" aria-roledescription=\"circle\" transform=\"translate(122.50818888749613,99.25962888826227)\" d=\"M2.7386127875258306,0A2.7386127875258306,2.7386127875258306,0,1,1,-2.7386127875258306,0A2.7386127875258306,2.7386127875258306,0,1,1,2.7386127875258306,0\" fill=\"#4c78a8\" stroke-width=\"2\" opacity=\"0.7\"></path><path aria-label=\"x1: 0.185929930136; x2: 0.0911520483266; y: 0\" role=\"graphics-symbol\" aria-roledescription=\"circle\" transform=\"translate(115.49416084468737,92.40399597278748)\" d=\"M2.7386127875258306,0A2.7386127875258306,2.7386127875258306,0,1,1,-2.7386127875258306,0A2.7386127875258306,2.7386127875258306,0,1,1,2.7386127875258306,0\" fill=\"#4c78a8\" stroke-width=\"2\" opacity=\"0.7\"></path><path aria-label=\"x1: -0.293508043332; x2: 0.141275146372; y: 0\" role=\"graphics-symbol\" aria-roledescription=\"circle\" transform=\"translate(75.54099638900887,88.22707113568569)\" d=\"M2.7386127875258306,0A2.7386127875258306,2.7386127875258306,0,1,1,-2.7386127875258306,0A2.7386127875258306,2.7386127875258306,0,1,1,2.7386127875258306,0\" fill=\"#4c78a8\" stroke-width=\"2\" opacity=\"0.7\"></path><path aria-label=\"x1: 0.79781918529; x2: 0.616281319491; y: 1\" role=\"graphics-symbol\" aria-roledescription=\"circle\" transform=\"translate(166.48493210747426,48.64322337576428)\" d=\"M2.7386127875258306,0A2.7386127875258306,2.7386127875258306,0,1,1,-2.7386127875258306,0A2.7386127875258306,2.7386127875258306,0,1,1,2.7386127875258306,0\" fill=\"#f58518\" stroke-width=\"2\" opacity=\"0.7\"></path><path aria-label=\"x1: -0.222546887682; x2: 0.160550715222; y: 0\" role=\"graphics-symbol\" aria-roledescription=\"circle\" transform=\"translate(81.45442602648875,86.62077373149488)\" d=\"M2.7386127875258306,0A2.7386127875258306,2.7386127875258306,0,1,1,-2.7386127875258306,0A2.7386127875258306,2.7386127875258306,0,1,1,2.7386127875258306,0\" fill=\"#4c78a8\" stroke-width=\"2\" opacity=\"0.7\"></path><path aria-label=\"x1: -0.158811804002; x2: -0.98224454123; y: 1\" role=\"graphics-symbol\" aria-roledescription=\"circle\" transform=\"translate(86.76568299984181,181.8537117692042)\" d=\"M2.7386127875258306,0A2.7386127875258306,2.7386127875258306,0,1,1,-2.7386127875258306,0A2.7386127875258306,2.7386127875258306,0,1,1,2.7386127875258306,0\" fill=\"#f58518\" stroke-width=\"2\" opacity=\"0.7\"></path><path aria-label=\"x1: -0.85630206057; x2: -0.4352740379; y: 1\" role=\"graphics-symbol\" aria-roledescription=\"circle\" transform=\"translate(28.641494952495407,136.27283649164937)\" d=\"M2.7386127875258306,0A2.7386127875258306,2.7386127875258306,0,1,1,-2.7386127875258306,0A2.7386127875258306,2.7386127875258306,0,1,1,2.7386127875258306,0\" fill=\"#f58518\" stroke-width=\"2\" opacity=\"0.7\"></path><path aria-label=\"x1: 0.329781894814; x2: -0.978987545831; y: 1\" role=\"graphics-symbol\" aria-roledescription=\"circle\" transform=\"translate(127.48182456786338,181.58229548588375)\" d=\"M2.7386127875258306,0A2.7386127875258306,2.7386127875258306,0,1,1,-2.7386127875258306,0A2.7386127875258306,2.7386127875258306,0,1,1,2.7386127875258306,0\" fill=\"#f58518\" stroke-width=\"2\" opacity=\"0.7\"></path><path aria-label=\"x1: -0.770667023759; x2: 0.606821111399; y: 1\" role=\"graphics-symbol\" aria-roledescription=\"circle\" transform=\"translate(35.77774802005218,49.43157405011074)\" d=\"M2.7386127875258306,0A2.7386127875258306,2.7386127875258306,0,1,1,-2.7386127875258306,0A2.7386127875258306,2.7386127875258306,0,1,1,2.7386127875258306,0\" fill=\"#f58518\" stroke-width=\"2\" opacity=\"0.7\"></path><path aria-label=\"x1: -0.465947728981; x2: 0.943504381441; y: 1\" role=\"graphics-symbol\" aria-roledescription=\"circle\" transform=\"translate(61.17102258487844,21.37463487994806)\" d=\"M2.7386127875258306,0A2.7386127875258306,2.7386127875258306,0,1,1,-2.7386127875258306,0A2.7386127875258306,2.7386127875258306,0,1,1,2.7386127875258306,0\" fill=\"#f58518\" stroke-width=\"2\" opacity=\"0.7\"></path><path aria-label=\"x1: -0.110036847053; x2: -0.968964045611; y: 1\" role=\"graphics-symbol\" aria-roledescription=\"circle\" transform=\"translate(90.83026274558925,180.74700380095337)\" d=\"M2.7386127875258306,0A2.7386127875258306,2.7386127875258306,0,1,1,-2.7386127875258306,0A2.7386127875258306,2.7386127875258306,0,1,1,2.7386127875258306,0\" fill=\"#f58518\" stroke-width=\"2\" opacity=\"0.7\"></path><path aria-label=\"x1: -0.231071832829; x2: 0.0599539329475; y: 0\" role=\"graphics-symbol\" aria-roledescription=\"circle\" transform=\"translate(80.74401393094746,95.0038389210448)\" d=\"M2.7386127875258306,0A2.7386127875258306,2.7386127875258306,0,1,1,-2.7386127875258306,0A2.7386127875258306,2.7386127875258306,0,1,1,2.7386127875258306,0\" fill=\"#4c78a8\" stroke-width=\"2\" opacity=\"0.7\"></path><path aria-label=\"x1: 0.633055754878; x2: -0.862654095315; y: 1\" role=\"graphics-symbol\" aria-roledescription=\"circle\" transform=\"translate(152.75464623984587,171.88784127629137)\" d=\"M2.7386127875258306,0A2.7386127875258306,2.7386127875258306,0,1,1,-2.7386127875258306,0A2.7386127875258306,2.7386127875258306,0,1,1,2.7386127875258306,0\" fill=\"#f58518\" stroke-width=\"2\" opacity=\"0.7\"></path><path aria-label=\"x1: 0.424278026142; x2: 0.920108859596; y: 1\" role=\"graphics-symbol\" aria-roledescription=\"circle\" transform=\"translate(135.35650217846208,23.324261700372496)\" d=\"M2.7386127875258306,0A2.7386127875258306,2.7386127875258306,0,1,1,-2.7386127875258306,0A2.7386127875258306,2.7386127875258306,0,1,1,2.7386127875258306,0\" fill=\"#f58518\" stroke-width=\"2\" opacity=\"0.7\"></path><path aria-label=\"x1: -0.514767022501; x2: -0.842291406477; y: 1\" role=\"graphics-symbol\" aria-roledescription=\"circle\" transform=\"translate(57.10274812489998,170.19095053978234)\" d=\"M2.7386127875258306,0A2.7386127875258306,2.7386127875258306,0,1,1,-2.7386127875258306,0A2.7386127875258306,2.7386127875258306,0,1,1,2.7386127875258306,0\" fill=\"#f58518\" stroke-width=\"2\" opacity=\"0.7\"></path><path aria-label=\"x1: -0.019939208668; x2: 0.282216048123; y: 0\" role=\"graphics-symbol\" aria-roledescription=\"circle\" transform=\"translate(98.33839927766962,76.48199598973082)\" d=\"M2.7386127875258306,0A2.7386127875258306,2.7386127875258306,0,1,1,-2.7386127875258306,0A2.7386127875258306,2.7386127875258306,0,1,1,2.7386127875258306,0\" fill=\"#4c78a8\" stroke-width=\"2\" opacity=\"0.7\"></path><path aria-label=\"x1: 0.709895106743; x2: -0.615724014795; y: 1\" role=\"graphics-symbol\" aria-roledescription=\"circle\" transform=\"translate(159.15792556187785,151.3103345662458)\" d=\"M2.7386127875258306,0A2.7386127875258306,2.7386127875258306,0,1,1,-2.7386127875258306,0A2.7386127875258306,2.7386127875258306,0,1,1,2.7386127875258306,0\" fill=\"#f58518\" stroke-width=\"2\" opacity=\"0.7\"></path><path aria-label=\"x1: 0.206556710505; x2: -0.0876634096687; y: 0\" role=\"graphics-symbol\" aria-roledescription=\"circle\" transform=\"translate(117.21305920878126,107.30528413906195)\" d=\"M2.7386127875258306,0A2.7386127875258306,2.7386127875258306,0,1,1,-2.7386127875258306,0A2.7386127875258306,2.7386127875258306,0,1,1,2.7386127875258306,0\" fill=\"#4c78a8\" stroke-width=\"2\" opacity=\"0.7\"></path><path aria-label=\"x1: 0.448038257365; x2: 0.955499542981; y: 1\" role=\"graphics-symbol\" aria-roledescription=\"circle\" transform=\"translate(137.33652144704502,20.37503808492609)\" d=\"M2.7386127875258306,0A2.7386127875258306,2.7386127875258306,0,1,1,-2.7386127875258306,0A2.7386127875258306,2.7386127875258306,0,1,1,2.7386127875258306,0\" fill=\"#f58518\" stroke-width=\"2\" opacity=\"0.7\"></path><path aria-label=\"x1: -0.250800816828; x2: -0.944931472392; y: 1\" role=\"graphics-symbol\" aria-roledescription=\"circle\" transform=\"translate(79.09993193096334,178.7442893660013)\" d=\"M2.7386127875258306,0A2.7386127875258306,2.7386127875258306,0,1,1,-2.7386127875258306,0A2.7386127875258306,2.7386127875258306,0,1,1,2.7386127875258306,0\" fill=\"#f58518\" stroke-width=\"2\" opacity=\"0.7\"></path><path aria-label=\"x1: -0.150465931004; x2: -0.29935140872; y: 0\" role=\"graphics-symbol\" aria-roledescription=\"circle\" transform=\"translate(87.46117241630674,124.94595072669283)\" d=\"M2.7386127875258306,0A2.7386127875258306,2.7386127875258306,0,1,1,-2.7386127875258306,0A2.7386127875258306,2.7386127875258306,0,1,1,2.7386127875258306,0\" fill=\"#4c78a8\" stroke-width=\"2\" opacity=\"0.7\"></path><path aria-label=\"x1: 0.910300620657; x2: -0.473092827125; y: 1\" role=\"graphics-symbol\" aria-roledescription=\"circle\" transform=\"translate(175.85838505471423,139.4244022604536)\" d=\"M2.7386127875258306,0A2.7386127875258306,2.7386127875258306,0,1,1,-2.7386127875258306,0A2.7386127875258306,2.7386127875258306,0,1,1,2.7386127875258306,0\" fill=\"#f58518\" stroke-width=\"2\" opacity=\"0.7\"></path><path aria-label=\"x1: 0.248759439629; x2: 0.939531619271; y: 1\" role=\"graphics-symbol\" aria-roledescription=\"circle\" transform=\"translate(120.72995330244692,21.705698394084806)\" d=\"M2.7386127875258306,0A2.7386127875258306,2.7386127875258306,0,1,1,-2.7386127875258306,0A2.7386127875258306,2.7386127875258306,0,1,1,2.7386127875258306,0\" fill=\"#f58518\" stroke-width=\"2\" opacity=\"0.7\"></path><path aria-label=\"x1: 0.556504488053; x2: 0.854708131875; y: 1\" role=\"graphics-symbol\" aria-roledescription=\"circle\" transform=\"translate(146.37537400440863,28.774322343767935)\" d=\"M2.7386127875258306,0A2.7386127875258306,2.7386127875258306,0,1,1,-2.7386127875258306,0A2.7386127875258306,2.7386127875258306,0,1,1,2.7386127875258306,0\" fill=\"#f58518\" stroke-width=\"2\" opacity=\"0.7\"></path><path aria-label=\"x1: 0.162690852891; x2: 0.274777182183; y: 0\" role=\"graphics-symbol\" aria-roledescription=\"circle\" transform=\"translate(113.55757107421942,77.10190148472506)\" d=\"M2.7386127875258306,0A2.7386127875258306,2.7386127875258306,0,1,1,-2.7386127875258306,0A2.7386127875258306,2.7386127875258306,0,1,1,2.7386127875258306,0\" fill=\"#4c78a8\" stroke-width=\"2\" opacity=\"0.7\"></path><path aria-label=\"x1: -0.962975639887; x2: 0.0820182213652; y: 1\" role=\"graphics-symbol\" aria-roledescription=\"circle\" transform=\"translate(19.75203000940329,93.16514821956842)\" d=\"M2.7386127875258306,0A2.7386127875258306,2.7386127875258306,0,1,1,-2.7386127875258306,0A2.7386127875258306,2.7386127875258306,0,1,1,2.7386127875258306,0\" fill=\"#f58518\" stroke-width=\"2\" opacity=\"0.7\"></path><path aria-label=\"x1: -0.105631046577; x2: -0.237037091303; y: 0\" role=\"graphics-symbol\" aria-roledescription=\"circle\" transform=\"translate(91.19741278529158,119.75309094192164)\" d=\"M2.7386127875258306,0A2.7386127875258306,2.7386127875258306,0,1,1,-2.7386127875258306,0A2.7386127875258306,2.7386127875258306,0,1,1,2.7386127875258306,0\" fill=\"#4c78a8\" stroke-width=\"2\" opacity=\"0.7\"></path><path aria-label=\"x1: 0.875478754586; x2: -0.502162770687; y: 1\" role=\"graphics-symbol\" aria-roledescription=\"circle\" transform=\"translate(172.95656288214923,141.84689755723235)\" d=\"M2.7386127875258306,0A2.7386127875258306,2.7386127875258306,0,1,1,-2.7386127875258306,0A2.7386127875258306,2.7386127875258306,0,1,1,2.7386127875258306,0\" fill=\"#f58518\" stroke-width=\"2\" opacity=\"0.7\"></path><path aria-label=\"x1: 0.975066388068; x2: -0.0836811113437; y: 1\" role=\"graphics-symbol\" aria-roledescription=\"circle\" transform=\"translate(181.25553233898515,106.97342594530568)\" d=\"M2.7386127875258306,0A2.7386127875258306,2.7386127875258306,0,1,1,-2.7386127875258306,0A2.7386127875258306,2.7386127875258306,0,1,1,2.7386127875258306,0\" fill=\"#f58518\" stroke-width=\"2\" opacity=\"0.7\"></path><path aria-label=\"x1: 1.01823787006; x2: 0.362298633532; y: 1\" role=\"graphics-symbol\" aria-roledescription=\"circle\" transform=\"translate(184.85315583862936,69.80844720570612)\" d=\"M2.7386127875258306,0A2.7386127875258306,2.7386127875258306,0,1,1,-2.7386127875258306,0A2.7386127875258306,2.7386127875258306,0,1,1,2.7386127875258306,0\" fill=\"#f58518\" stroke-width=\"2\" opacity=\"0.7\"></path><path aria-label=\"x1: -0.315687363785; x2: 0.202797795254; y: 0\" role=\"graphics-symbol\" aria-roledescription=\"circle\" transform=\"translate(73.6927196846085,83.10018372883978)\" d=\"M2.7386127875258306,0A2.7386127875258306,2.7386127875258306,0,1,1,-2.7386127875258306,0A2.7386127875258306,2.7386127875258306,0,1,1,2.7386127875258306,0\" fill=\"#4c78a8\" stroke-width=\"2\" opacity=\"0.7\"></path><path aria-label=\"x1: -0.283195607054; x2: -0.1592405085; y: 0\" role=\"graphics-symbol\" aria-roledescription=\"circle\" transform=\"translate(76.40036607883167,113.27004237503007)\" d=\"M2.7386127875258306,0A2.7386127875258306,2.7386127875258306,0,1,1,-2.7386127875258306,0A2.7386127875258306,2.7386127875258306,0,1,1,2.7386127875258306,0\" fill=\"#4c78a8\" stroke-width=\"2\" opacity=\"0.7\"></path><path aria-label=\"x1: 0.1602699702; x2: 0.31023859758; y: 0\" role=\"graphics-symbol\" aria-roledescription=\"circle\" transform=\"translate(113.35583085002744,74.14678353501137)\" d=\"M2.7386127875258306,0A2.7386127875258306,2.7386127875258306,0,1,1,-2.7386127875258306,0A2.7386127875258306,2.7386127875258306,0,1,1,2.7386127875258306,0\" fill=\"#4c78a8\" stroke-width=\"2\" opacity=\"0.7\"></path><path aria-label=\"x1: 0.607225820608; x2: -0.791281837249; y: 1\" role=\"graphics-symbol\" aria-roledescription=\"circle\" transform=\"translate(150.6021517173257,165.94015310410506)\" d=\"M2.7386127875258306,0A2.7386127875258306,2.7386127875258306,0,1,1,-2.7386127875258306,0A2.7386127875258306,2.7386127875258306,0,1,1,2.7386127875258306,0\" fill=\"#f58518\" stroke-width=\"2\" opacity=\"0.7\"></path><path aria-label=\"x1: -0.205356944667; x2: -0.256568508463; y: 0\" role=\"graphics-symbol\" aria-roledescription=\"circle\" transform=\"translate(82.88692127777097,121.38070903858011)\" d=\"M2.7386127875258306,0A2.7386127875258306,2.7386127875258306,0,1,1,-2.7386127875258306,0A2.7386127875258306,2.7386127875258306,0,1,1,2.7386127875258306,0\" fill=\"#4c78a8\" stroke-width=\"2\" opacity=\"0.7\"></path><path aria-label=\"x1: -0.964149934439; x2: -0.140492085161; y: 1\" role=\"graphics-symbol\" aria-roledescription=\"circle\" transform=\"translate(19.65417213006937,111.70767376338968)\" d=\"M2.7386127875258306,0A2.7386127875258306,2.7386127875258306,0,1,1,-2.7386127875258306,0A2.7386127875258306,2.7386127875258306,0,1,1,2.7386127875258306,0\" fill=\"#f58518\" stroke-width=\"2\" opacity=\"0.7\"></path><path aria-label=\"x1: -0.611266153175; x2: -0.871532160081; y: 1\" role=\"graphics-symbol\" aria-roledescription=\"circle\" transform=\"translate(49.061153902043216,172.62768000675638)\" d=\"M2.7386127875258306,0A2.7386127875258306,2.7386127875258306,0,1,1,-2.7386127875258306,0A2.7386127875258306,2.7386127875258306,0,1,1,2.7386127875258306,0\" fill=\"#f58518\" stroke-width=\"2\" opacity=\"0.7\"></path><path aria-label=\"x1: -0.0829349834407; x2: -0.412973636064; y: 0\" role=\"graphics-symbol\" aria-roledescription=\"circle\" transform=\"translate(93.08875137994052,134.41446967199232)\" d=\"M2.7386127875258306,0A2.7386127875258306,2.7386127875258306,0,1,1,-2.7386127875258306,0A2.7386127875258306,2.7386127875258306,0,1,1,2.7386127875258306,0\" fill=\"#4c78a8\" stroke-width=\"2\" opacity=\"0.7\"></path><path aria-label=\"x1: 1.0385999791; x2: -0.140170005377; y: 1\" role=\"graphics-symbol\" aria-roledescription=\"circle\" transform=\"translate(186.54999825823734,111.6808337814332)\" d=\"M2.7386127875258306,0A2.7386127875258306,2.7386127875258306,0,1,1,-2.7386127875258306,0A2.7386127875258306,2.7386127875258306,0,1,1,2.7386127875258306,0\" fill=\"#f58518\" stroke-width=\"2\" opacity=\"0.7\"></path><path aria-label=\"x1: -1.00766413249; x2: 0.0273353323498; y: 1\" role=\"graphics-symbol\" aria-roledescription=\"circle\" transform=\"translate(16.027988958998137,97.7220556375173)\" d=\"M2.7386127875258306,0A2.7386127875258306,2.7386127875258306,0,1,1,-2.7386127875258306,0A2.7386127875258306,2.7386127875258306,0,1,1,2.7386127875258306,0\" fill=\"#f58518\" stroke-width=\"2\" opacity=\"0.7\"></path><path aria-label=\"x1: 0.298174248223; x2: 0.0428635562555; y: 0\" role=\"graphics-symbol\" aria-roledescription=\"circle\" transform=\"translate(124.84785401857256,96.42803697870568)\" d=\"M2.7386127875258306,0A2.7386127875258306,2.7386127875258306,0,1,1,-2.7386127875258306,0A2.7386127875258306,2.7386127875258306,0,1,1,2.7386127875258306,0\" fill=\"#4c78a8\" stroke-width=\"2\" opacity=\"0.7\"></path><path aria-label=\"x1: 0.0132312455374; x2: 0.201474882976; y: 0\" role=\"graphics-symbol\" aria-roledescription=\"circle\" transform=\"translate(101.10260379478142,83.2104264186759)\" d=\"M2.7386127875258306,0A2.7386127875258306,2.7386127875258306,0,1,1,-2.7386127875258306,0A2.7386127875258306,2.7386127875258306,0,1,1,2.7386127875258306,0\" fill=\"#4c78a8\" stroke-width=\"2\" opacity=\"0.7\"></path><path aria-label=\"x1: 0.366842112229; x2: -0.0455798133155; y: 0\" role=\"graphics-symbol\" aria-roledescription=\"circle\" transform=\"translate(130.57017601907728,103.79831777629491)\" d=\"M2.7386127875258306,0A2.7386127875258306,2.7386127875258306,0,1,1,-2.7386127875258306,0A2.7386127875258306,2.7386127875258306,0,1,1,2.7386127875258306,0\" fill=\"#4c78a8\" stroke-width=\"2\" opacity=\"0.7\"></path><path aria-label=\"x1: -0.374010011844; x2: 0.920353040131; y: 1\" role=\"graphics-symbol\" aria-roledescription=\"circle\" transform=\"translate(68.83249901296993,23.303913322441126)\" d=\"M2.7386127875258306,0A2.7386127875258306,2.7386127875258306,0,1,1,-2.7386127875258306,0A2.7386127875258306,2.7386127875258306,0,1,1,2.7386127875258306,0\" fill=\"#f58518\" stroke-width=\"2\" opacity=\"0.7\"></path><path aria-label=\"x1: -0.92673442708; x2: 0.179309102002; y: 1\" role=\"graphics-symbol\" aria-roledescription=\"circle\" transform=\"translate(22.77213107666859,85.05757483315797)\" d=\"M2.7386127875258306,0A2.7386127875258306,2.7386127875258306,0,1,1,-2.7386127875258306,0A2.7386127875258306,2.7386127875258306,0,1,1,2.7386127875258306,0\" fill=\"#f58518\" stroke-width=\"2\" opacity=\"0.7\"></path><path aria-label=\"x1: 0.0269544174095; x2: 0.333100437655; y: 0\" role=\"graphics-symbol\" aria-roledescription=\"circle\" transform=\"translate(102.24620145079302,72.24163019543698)\" d=\"M2.7386127875258306,0A2.7386127875258306,2.7386127875258306,0,1,1,-2.7386127875258306,0A2.7386127875258306,2.7386127875258306,0,1,1,2.7386127875258306,0\" fill=\"#4c78a8\" stroke-width=\"2\" opacity=\"0.7\"></path><path aria-label=\"x1: -0.182682047472; x2: 0.238566624831; y: 0\" role=\"graphics-symbol\" aria-roledescription=\"circle\" transform=\"translate(84.77649604401945,80.11944793078361)\" d=\"M2.7386127875258306,0A2.7386127875258306,2.7386127875258306,0,1,1,-2.7386127875258306,0A2.7386127875258306,2.7386127875258306,0,1,1,2.7386127875258306,0\" fill=\"#4c78a8\" stroke-width=\"2\" opacity=\"0.7\"></path><path aria-label=\"x1: -0.189417395083; x2: -0.144742477856; y: 0\" role=\"graphics-symbol\" aria-roledescription=\"circle\" transform=\"translate(84.21521707645691,112.06187315470366)\" d=\"M2.7386127875258306,0A2.7386127875258306,2.7386127875258306,0,1,1,-2.7386127875258306,0A2.7386127875258306,2.7386127875258306,0,1,1,2.7386127875258306,0\" fill=\"#4c78a8\" stroke-width=\"2\" opacity=\"0.7\"></path><path aria-label=\"x1: -0.542517653324; x2: -0.80594650035; y: 1\" role=\"graphics-symbol\" aria-roledescription=\"circle\" transform=\"translate(54.79019555634381,167.16220836250008)\" d=\"M2.7386127875258306,0A2.7386127875258306,2.7386127875258306,0,1,1,-2.7386127875258306,0A2.7386127875258306,2.7386127875258306,0,1,1,2.7386127875258306,0\" fill=\"#f58518\" stroke-width=\"2\" opacity=\"0.7\"></path><path aria-label=\"x1: -0.965076902479; x2: -0.0223222000148; y: 1\" role=\"graphics-symbol\" aria-roledescription=\"circle\" transform=\"translate(19.576924793429225,101.86018333456386)\" d=\"M2.7386127875258306,0A2.7386127875258306,2.7386127875258306,0,1,1,-2.7386127875258306,0A2.7386127875258306,2.7386127875258306,0,1,1,2.7386127875258306,0\" fill=\"#f58518\" stroke-width=\"2\" opacity=\"0.7\"></path><path aria-label=\"x1: 0.711270652763; x2: -0.721159266057; y: 1\" role=\"graphics-symbol\" aria-roledescription=\"circle\" transform=\"translate(159.2725543969026,160.09660550476644)\" d=\"M2.7386127875258306,0A2.7386127875258306,2.7386127875258306,0,1,1,-2.7386127875258306,0A2.7386127875258306,2.7386127875258306,0,1,1,2.7386127875258306,0\" fill=\"#f58518\" stroke-width=\"2\" opacity=\"0.7\"></path><path aria-label=\"x1: -0.284918152768; x2: -0.0705459615909; y: 0\" role=\"graphics-symbol\" aria-roledescription=\"circle\" transform=\"translate(76.25682060265669,105.87883013257712)\" d=\"M2.7386127875258306,0A2.7386127875258306,2.7386127875258306,0,1,1,-2.7386127875258306,0A2.7386127875258306,2.7386127875258306,0,1,1,2.7386127875258306,0\" fill=\"#4c78a8\" stroke-width=\"2\" opacity=\"0.7\"></path><path aria-label=\"x1: 0.275607909435; x2: 0.202355361264; y: 0\" role=\"graphics-symbol\" aria-roledescription=\"circle\" transform=\"translate(122.96732578625303,83.13705322796407)\" d=\"M2.7386127875258306,0A2.7386127875258306,2.7386127875258306,0,1,1,-2.7386127875258306,0A2.7386127875258306,2.7386127875258306,0,1,1,2.7386127875258306,0\" fill=\"#4c78a8\" stroke-width=\"2\" opacity=\"0.7\"></path><path aria-label=\"x1: 0.224070319333; x2: 0.951965787998; y: 1\" role=\"graphics-symbol\" aria-roledescription=\"circle\" transform=\"translate(118.67252661104446,20.66951766679763)\" d=\"M2.7386127875258306,0A2.7386127875258306,2.7386127875258306,0,1,1,-2.7386127875258306,0A2.7386127875258306,2.7386127875258306,0,1,1,2.7386127875258306,0\" fill=\"#f58518\" stroke-width=\"2\" opacity=\"0.7\"></path><path aria-label=\"x1: 0.951945402713; x2: -0.453571979695; y: 1\" role=\"graphics-symbol\" aria-roledescription=\"circle\" transform=\"translate(179.32878355939508,137.79766497455915)\" d=\"M2.7386127875258306,0A2.7386127875258306,2.7386127875258306,0,1,1,-2.7386127875258306,0A2.7386127875258306,2.7386127875258306,0,1,1,2.7386127875258306,0\" fill=\"#f58518\" stroke-width=\"2\" opacity=\"0.7\"></path><path aria-label=\"x1: -0.333324469509; x2: -0.207789501573; y: 0\" role=\"graphics-symbol\" aria-roledescription=\"circle\" transform=\"translate(72.22296087425259,117.31579179773559)\" d=\"M2.7386127875258306,0A2.7386127875258306,2.7386127875258306,0,1,1,-2.7386127875258306,0A2.7386127875258306,2.7386127875258306,0,1,1,2.7386127875258306,0\" fill=\"#4c78a8\" stroke-width=\"2\" opacity=\"0.7\"></path><path aria-label=\"x1: 0.143650135777; x2: 0.0571677262595; y: 0\" role=\"graphics-symbol\" aria-roledescription=\"circle\" transform=\"translate(111.97084464804479,95.23602281170685)\" d=\"M2.7386127875258306,0A2.7386127875258306,2.7386127875258306,0,1,1,-2.7386127875258306,0A2.7386127875258306,2.7386127875258306,0,1,1,2.7386127875258306,0\" fill=\"#4c78a8\" stroke-width=\"2\" opacity=\"0.7\"></path><path aria-label=\"x1: -0.265002388387; x2: 0.0227925901296; y: 0\" role=\"graphics-symbol\" aria-roledescription=\"circle\" transform=\"translate(77.91646763438736,98.10061748919941)\" d=\"M2.7386127875258306,0A2.7386127875258306,2.7386127875258306,0,1,1,-2.7386127875258306,0A2.7386127875258306,2.7386127875258306,0,1,1,2.7386127875258306,0\" fill=\"#4c78a8\" stroke-width=\"2\" opacity=\"0.7\"></path><path aria-label=\"x1: 0.206355963436; x2: -0.0134253052282; y: 0\" role=\"graphics-symbol\" aria-roledescription=\"circle\" transform=\"translate(117.19633028631146,101.11877543568588)\" d=\"M2.7386127875258306,0A2.7386127875258306,2.7386127875258306,0,1,1,-2.7386127875258306,0A2.7386127875258306,2.7386127875258306,0,1,1,2.7386127875258306,0\" fill=\"#4c78a8\" stroke-width=\"2\" opacity=\"0.7\"></path><path aria-label=\"x1: 0.055374276624; x2: 0.246139588831; y: 0\" role=\"graphics-symbol\" aria-roledescription=\"circle\" transform=\"translate(104.61452305199734,79.48836759742876)\" d=\"M2.7386127875258306,0A2.7386127875258306,2.7386127875258306,0,1,1,-2.7386127875258306,0A2.7386127875258306,2.7386127875258306,0,1,1,2.7386127875258306,0\" fill=\"#4c78a8\" stroke-width=\"2\" opacity=\"0.7\"></path><path aria-label=\"x1: -0.250478951386; x2: -0.119262899972; y: 0\" role=\"graphics-symbol\" aria-roledescription=\"circle\" transform=\"translate(79.12675405117895,109.93857499769209)\" d=\"M2.7386127875258306,0A2.7386127875258306,2.7386127875258306,0,1,1,-2.7386127875258306,0A2.7386127875258306,2.7386127875258306,0,1,1,2.7386127875258306,0\" fill=\"#4c78a8\" stroke-width=\"2\" opacity=\"0.7\"></path><path aria-label=\"x1: -0.301354952829; x2: 0.186164736478; y: 0\" role=\"graphics-symbol\" aria-roledescription=\"circle\" transform=\"translate(74.8870872642116,84.48627196015697)\" d=\"M2.7386127875258306,0A2.7386127875258306,2.7386127875258306,0,1,1,-2.7386127875258306,0A2.7386127875258306,2.7386127875258306,0,1,1,2.7386127875258306,0\" fill=\"#4c78a8\" stroke-width=\"2\" opacity=\"0.7\"></path><path aria-label=\"x1: 0.145321091944; x2: -1.04089567774; y: 1\" role=\"graphics-symbol\" aria-roledescription=\"circle\" transform=\"translate(112.11009099533875,186.741306478256)\" d=\"M2.7386127875258306,0A2.7386127875258306,2.7386127875258306,0,1,1,-2.7386127875258306,0A2.7386127875258306,2.7386127875258306,0,1,1,2.7386127875258306,0\" fill=\"#f58518\" stroke-width=\"2\" opacity=\"0.7\"></path><path aria-label=\"x1: 0.708106266034; x2: 0.687460776231; y: 1\" role=\"graphics-symbol\" aria-roledescription=\"circle\" transform=\"translate(159.00885550281808,42.71160198075656)\" d=\"M2.7386127875258306,0A2.7386127875258306,2.7386127875258306,0,1,1,-2.7386127875258306,0A2.7386127875258306,2.7386127875258306,0,1,1,2.7386127875258306,0\" fill=\"#f58518\" stroke-width=\"2\" opacity=\"0.7\"></path><path aria-label=\"x1: 0.839017404506; x2: 0.462099920363; y: 1\" role=\"graphics-symbol\" aria-roledescription=\"circle\" transform=\"translate(169.91811704214976,61.49167330312102)\" d=\"M2.7386127875258306,0A2.7386127875258306,2.7386127875258306,0,1,1,-2.7386127875258306,0A2.7386127875258306,2.7386127875258306,0,1,1,2.7386127875258306,0\" fill=\"#f58518\" stroke-width=\"2\" opacity=\"0.7\"></path><path aria-label=\"x1: -0.226524088354; x2: 0.168546370468; y: 0\" role=\"graphics-symbol\" aria-roledescription=\"circle\" transform=\"translate(81.12299263718864,85.95446912766423)\" d=\"M2.7386127875258306,0A2.7386127875258306,2.7386127875258306,0,1,1,-2.7386127875258306,0A2.7386127875258306,2.7386127875258306,0,1,1,2.7386127875258306,0\" fill=\"#4c78a8\" stroke-width=\"2\" opacity=\"0.7\"></path><path aria-label=\"x1: 0.197405258486; x2: 0.130726256501; y: 0\" role=\"graphics-symbol\" aria-roledescription=\"circle\" transform=\"translate(116.4504382071414,89.1061452915459)\" d=\"M2.7386127875258306,0A2.7386127875258306,2.7386127875258306,0,1,1,-2.7386127875258306,0A2.7386127875258306,2.7386127875258306,0,1,1,2.7386127875258306,0\" fill=\"#4c78a8\" stroke-width=\"2\" opacity=\"0.7\"></path><path aria-label=\"x1: 0.267326841376; x2: -0.137195147973; y: 0\" role=\"graphics-symbol\" aria-roledescription=\"circle\" transform=\"translate(122.27723678133704,111.432928997711)\" d=\"M2.7386127875258306,0A2.7386127875258306,2.7386127875258306,0,1,1,-2.7386127875258306,0A2.7386127875258306,2.7386127875258306,0,1,1,2.7386127875258306,0\" fill=\"#4c78a8\" stroke-width=\"2\" opacity=\"0.7\"></path><path aria-label=\"x1: 0.311605648432; x2: 0.0649842083503; y: 0\" role=\"graphics-symbol\" aria-roledescription=\"circle\" transform=\"translate(125.96713736931929,94.58464930414033)\" d=\"M2.7386127875258306,0A2.7386127875258306,2.7386127875258306,0,1,1,-2.7386127875258306,0A2.7386127875258306,2.7386127875258306,0,1,1,2.7386127875258306,0\" fill=\"#4c78a8\" stroke-width=\"2\" opacity=\"0.7\"></path><path aria-label=\"x1: -0.249602794151; x2: 0.0566366071225; y: 0\" role=\"graphics-symbol\" aria-roledescription=\"circle\" transform=\"translate(79.19976715405512,95.28028273978913)\" d=\"M2.7386127875258306,0A2.7386127875258306,2.7386127875258306,0,1,1,-2.7386127875258306,0A2.7386127875258306,2.7386127875258306,0,1,1,2.7386127875258306,0\" fill=\"#4c78a8\" stroke-width=\"2\" opacity=\"0.7\"></path><path aria-label=\"x1: -0.235827536687; x2: 0.184120662908; y: 0\" role=\"graphics-symbol\" aria-roledescription=\"circle\" transform=\"translate(80.34770527606216,84.65661142434008)\" d=\"M2.7386127875258306,0A2.7386127875258306,2.7386127875258306,0,1,1,-2.7386127875258306,0A2.7386127875258306,2.7386127875258306,0,1,1,2.7386127875258306,0\" fill=\"#4c78a8\" stroke-width=\"2\" opacity=\"0.7\"></path><path aria-label=\"x1: -0.234033244299; x2: 0.84033814802; y: 1\" role=\"graphics-symbol\" aria-roledescription=\"circle\" transform=\"translate(80.49722964173523,29.971820998369214)\" d=\"M2.7386127875258306,0A2.7386127875258306,2.7386127875258306,0,1,1,-2.7386127875258306,0A2.7386127875258306,2.7386127875258306,0,1,1,2.7386127875258306,0\" fill=\"#f58518\" stroke-width=\"2\" opacity=\"0.7\"></path><path aria-label=\"x1: 0.878473359724; x2: 0.660786589146; y: 1\" role=\"graphics-symbol\" aria-roledescription=\"circle\" transform=\"translate(173.20611331034206,44.934450904499656)\" d=\"M2.7386127875258306,0A2.7386127875258306,2.7386127875258306,0,1,1,-2.7386127875258306,0A2.7386127875258306,2.7386127875258306,0,1,1,2.7386127875258306,0\" fill=\"#f58518\" stroke-width=\"2\" opacity=\"0.7\"></path><path aria-label=\"x1: -0.267515051351; x2: -0.227332194267; y: 0\" role=\"graphics-symbol\" aria-roledescription=\"circle\" transform=\"translate(77.70707905412054,118.9443495222581)\" d=\"M2.7386127875258306,0A2.7386127875258306,2.7386127875258306,0,1,1,-2.7386127875258306,0A2.7386127875258306,2.7386127875258306,0,1,1,2.7386127875258306,0\" fill=\"#4c78a8\" stroke-width=\"2\" opacity=\"0.7\"></path><path aria-label=\"x1: 0.13987364887; x2: -0.32668574207; y: 0\" role=\"graphics-symbol\" aria-roledescription=\"circle\" transform=\"translate(111.65613740584703,127.22381183919236)\" d=\"M2.7386127875258306,0A2.7386127875258306,2.7386127875258306,0,1,1,-2.7386127875258306,0A2.7386127875258306,2.7386127875258306,0,1,1,2.7386127875258306,0\" fill=\"#4c78a8\" stroke-width=\"2\" opacity=\"0.7\"></path><path aria-label=\"x1: 0.346092174575; x2: -1.01549289034; y: 1\" role=\"graphics-symbol\" aria-roledescription=\"circle\" transform=\"translate(128.8410145479082,184.62440752841363)\" d=\"M2.7386127875258306,0A2.7386127875258306,2.7386127875258306,0,1,1,-2.7386127875258306,0A2.7386127875258306,2.7386127875258306,0,1,1,2.7386127875258306,0\" fill=\"#f58518\" stroke-width=\"2\" opacity=\"0.7\"></path><path aria-label=\"x1: 0.165201447298; x2: 1.034839139; y: 1\" role=\"graphics-symbol\" aria-roledescription=\"circle\" transform=\"translate(113.76678727487175,13.763405083165981)\" d=\"M2.7386127875258306,0A2.7386127875258306,2.7386127875258306,0,1,1,-2.7386127875258306,0A2.7386127875258306,2.7386127875258306,0,1,1,2.7386127875258306,0\" fill=\"#f58518\" stroke-width=\"2\" opacity=\"0.7\"></path><path aria-label=\"x1: 0.248830056828; x2: 0.086596666705; y: 0\" role=\"graphics-symbol\" aria-roledescription=\"circle\" transform=\"translate(120.73583806903036,92.78361110791383)\" d=\"M2.7386127875258306,0A2.7386127875258306,2.7386127875258306,0,1,1,-2.7386127875258306,0A2.7386127875258306,2.7386127875258306,0,1,1,2.7386127875258306,0\" fill=\"#4c78a8\" stroke-width=\"2\" opacity=\"0.7\"></path><path aria-label=\"x1: 0.0207337541986; x2: -0.273474754725; y: 0\" role=\"graphics-symbol\" aria-roledescription=\"circle\" transform=\"translate(101.72781284988544,122.7895628937659)\" d=\"M2.7386127875258306,0A2.7386127875258306,2.7386127875258306,0,1,1,-2.7386127875258306,0A2.7386127875258306,2.7386127875258306,0,1,1,2.7386127875258306,0\" fill=\"#4c78a8\" stroke-width=\"2\" opacity=\"0.7\"></path><path aria-label=\"x1: -0.0686998276384; x2: 0.251732261987; y: 0\" role=\"graphics-symbol\" aria-roledescription=\"circle\" transform=\"translate(94.2750143634658,79.0223115010907)\" d=\"M2.7386127875258306,0A2.7386127875258306,2.7386127875258306,0,1,1,-2.7386127875258306,0A2.7386127875258306,2.7386127875258306,0,1,1,2.7386127875258306,0\" fill=\"#4c78a8\" stroke-width=\"2\" opacity=\"0.7\"></path><path aria-label=\"x1: -1.01780826145; x2: 0.302980139654; y: 1\" role=\"graphics-symbol\" aria-roledescription=\"circle\" transform=\"translate(15.182644879193502,74.75165502885895)\" d=\"M2.7386127875258306,0A2.7386127875258306,2.7386127875258306,0,1,1,-2.7386127875258306,0A2.7386127875258306,2.7386127875258306,0,1,1,2.7386127875258306,0\" fill=\"#f58518\" stroke-width=\"2\" opacity=\"0.7\"></path><path aria-label=\"x1: -0.0148476350934; x2: 0.221434666319; y: 0\" role=\"graphics-symbol\" aria-roledescription=\"circle\" transform=\"translate(98.7626970755534,81.54711114007995)\" d=\"M2.7386127875258306,0A2.7386127875258306,2.7386127875258306,0,1,1,-2.7386127875258306,0A2.7386127875258306,2.7386127875258306,0,1,1,2.7386127875258306,0\" fill=\"#4c78a8\" stroke-width=\"2\" opacity=\"0.7\"></path></g><g class=\"mark-group role-legend\" role=\"graphics-symbol\" aria-roledescription=\"legend\" aria-label=\"Symbol legend titled 'y' for fill color with 2 values: 0, 1\"><g transform=\"translate(218,0)\"><path class=\"background\" aria-hidden=\"true\" d=\"M0,0h22v40h-22Z\" pointer-events=\"none\"></path><g><g class=\"mark-group role-legend-entry\"><g transform=\"translate(0,16)\"><path class=\"background\" aria-hidden=\"true\" d=\"M0,0h0v0h0Z\" pointer-events=\"none\"></path><g><g class=\"mark-group role-scope\" role=\"graphics-object\" aria-roledescription=\"group mark container\"><g transform=\"translate(0,0)\"><path class=\"background\" aria-hidden=\"true\" d=\"M0,0h22v11h-22Z\" pointer-events=\"none\" opacity=\"1\"></path><g><g class=\"mark-symbol role-legend-symbol\" pointer-events=\"none\"><path transform=\"translate(6,6)\" d=\"M5,0A5,5,0,1,1,-5,0A5,5,0,1,1,5,0\" fill=\"#4c78a8\" stroke-width=\"1.5\" opacity=\"0.7\"></path></g><g class=\"mark-text role-legend-label\" pointer-events=\"none\"><text text-anchor=\"start\" transform=\"translate(16,9)\" font-family=\"sans-serif\" font-size=\"10px\" fill=\"#000\" opacity=\"1\">0</text></g></g><path class=\"foreground\" aria-hidden=\"true\" d=\"\" pointer-events=\"none\" display=\"none\"></path></g><g transform=\"translate(0,13)\"><path class=\"background\" aria-hidden=\"true\" d=\"M0,0h22v11h-22Z\" pointer-events=\"none\" opacity=\"1\"></path><g><g class=\"mark-symbol role-legend-symbol\" pointer-events=\"none\"><path transform=\"translate(6,6)\" d=\"M5,0A5,5,0,1,1,-5,0A5,5,0,1,1,5,0\" fill=\"#f58518\" stroke-width=\"1.5\" opacity=\"0.7\"></path></g><g class=\"mark-text role-legend-label\" pointer-events=\"none\"><text text-anchor=\"start\" transform=\"translate(16,9)\" font-family=\"sans-serif\" font-size=\"10px\" fill=\"#000\" opacity=\"1\">1</text></g></g><path class=\"foreground\" aria-hidden=\"true\" d=\"\" pointer-events=\"none\" display=\"none\"></path></g></g></g><path class=\"foreground\" aria-hidden=\"true\" d=\"\" pointer-events=\"none\" display=\"none\"></path></g></g><g class=\"mark-text role-legend-title\" pointer-events=\"none\"><text text-anchor=\"start\" transform=\"translate(0,9)\" font-family=\"sans-serif\" font-size=\"11px\" font-weight=\"bold\" fill=\"#000\" opacity=\"1\">y</text></g></g><path class=\"foreground\" aria-hidden=\"true\" d=\"\" pointer-events=\"none\" display=\"none\"></path></g></g></g><path class=\"foreground\" aria-hidden=\"true\" d=\"\" display=\"none\"></path></g></g></g></svg>\n"
      ],
      "text/plain": [
       "@vlplot(\n",
       "    mark=\"circle\",\n",
       "    encoding={\n",
       "        x={\n",
       "            field=\"x1\"\n",
       "        },\n",
       "        y={\n",
       "            field=\"x2\"\n",
       "        },\n",
       "        color={\n",
       "            field=\"y\",\n",
       "            type=\"nominal\"\n",
       "        }\n",
       "    },\n",
       "    data={\n",
       "        values=...\n",
       "    }\n",
       ")"
      ]
     },
     "execution_count": 37,
     "metadata": {},
     "output_type": "execute_result"
    }
   ],
   "source": [
    "dfCircles |> @vlplot(:circle, x=:x1, y=:x2, color = :\"y:n\") "
   ]
  },
  {
   "cell_type": "markdown",
   "metadata": {},
   "source": [
    "##  Sampling from two interleaved half-circles\n",
    "\n",
    "```@docs\n",
    "make_moons\n",
    "```"
   ]
  },
  {
   "cell_type": "code",
   "execution_count": 38,
   "metadata": {},
   "outputs": [
    {
     "data": {
      "text/html": [
       "<table class=\"data-frame\"><thead><tr><th></th><th>x1</th><th>x2</th><th>y</th></tr><tr><th></th><th>Float64</th><th>Float64</th><th>Cat…</th></tr></thead><tbody><p>3 rows × 3 columns</p><tr><th>1</th><td>1.24069</td><td>-0.6675</td><td>1</td></tr><tr><th>2</th><td>1.241</td><td>-0.632259</td><td>1</td></tr><tr><th>3</th><td>0.0699098</td><td>1.06216</td><td>0</td></tr></tbody></table>"
      ],
      "text/latex": [
       "\\begin{tabular}{r|ccc}\n",
       "\t& x1 & x2 & y\\\\\n",
       "\t\\hline\n",
       "\t& Float64 & Float64 & Cat…\\\\\n",
       "\t\\hline\n",
       "\t1 & 1.24069 & -0.6675 & 1 \\\\\n",
       "\t2 & 1.241 & -0.632259 & 1 \\\\\n",
       "\t3 & 0.0699098 & 1.06216 & 0 \\\\\n",
       "\\end{tabular}\n"
      ],
      "text/plain": [
       "3×3 DataFrame\n",
       "│ Row │ x1        │ x2        │ y    │\n",
       "│     │ \u001b[90mFloat64\u001b[39m   │ \u001b[90mFloat64\u001b[39m   │ \u001b[90mCat…\u001b[39m │\n",
       "├─────┼───────────┼───────────┼──────┤\n",
       "│ 1   │ 1.24069   │ -0.6675   │ 1    │\n",
       "│ 2   │ 1.241     │ -0.632259 │ 1    │\n",
       "│ 3   │ 0.0699098 │ 1.06216   │ 0    │"
      ]
     },
     "execution_count": 38,
     "metadata": {},
     "output_type": "execute_result"
    }
   ],
   "source": [
    "X, y = make_moons(100; noise=0.05)\n",
    "dfHalfCircles = DataFrame(X)\n",
    "dfHalfCircles.y = y\n",
    "first(dfHalfCircles, 3)"
   ]
  },
  {
   "cell_type": "code",
   "execution_count": 39,
   "metadata": {},
   "outputs": [
    {
     "data": {
      "application/vnd.vegalite.v4+json": {
       "data": {
        "values": [
         {
          "x1": 1.2406942174734734,
          "x2": -0.6675000804338371,
          "y": 1
         },
         {
          "x1": 1.2410015086743167,
          "x2": -0.6322593736369718,
          "y": 1
         },
         {
          "x1": 0.06990981037877807,
          "x2": 1.0621620146552546,
          "y": 0
         },
         {
          "x1": -0.8594317246594768,
          "x2": 0.5050126274320409,
          "y": 0
         },
         {
          "x1": 0.8913714672722427,
          "x2": -0.7230636748651124,
          "y": 1
         },
         {
          "x1": -0.11665520774672355,
          "x2": 0.217942948971188,
          "y": 1
         },
         {
          "x1": 1.7000198867946492,
          "x2": -0.5047520760933171,
          "y": 1
         },
         {
          "x1": 0.20836468972948344,
          "x2": 1.001857305257787,
          "y": 0
         },
         {
          "x1": -0.7214408823537237,
          "x2": 0.5753991624309904,
          "y": 0
         },
         {
          "x1": 2.005258940360532,
          "x2": 0.255014724581191,
          "y": 1
         },
         {
          "x1": -0.5172104956756103,
          "x2": 0.894446068889573,
          "y": 0
         },
         {
          "x1": 1.2601388729129317,
          "x2": -0.7584764057619642,
          "y": 1
         },
         {
          "x1": 0.756228663752844,
          "x2": 0.5706802966510527,
          "y": 0
         },
         {
          "x1": 0.9379203571124439,
          "x2": 0.4398660204799998,
          "y": 0
         },
         {
          "x1": 0.13500405333614585,
          "x2": -0.134146618139435,
          "y": 1
         },
         {
          "x1": 0.4511498641919731,
          "x2": -0.5076768658992339,
          "y": 1
         },
         {
          "x1": 0.8306170628655811,
          "x2": -0.7538665408619786,
          "y": 1
         },
         {
          "x1": -0.8304235853329202,
          "x2": 0.4621579957951099,
          "y": 0
         },
         {
          "x1": 0.46318715610804073,
          "x2": 0.850339835687557,
          "y": 0
         },
         {
          "x1": -0.1344689233821857,
          "x2": 0.9490067076633847,
          "y": 0
         },
         {
          "x1": 0.031965039830572126,
          "x2": -0.2045227706231068,
          "y": 1
         },
         {
          "x1": 0.3885406964860613,
          "x2": 0.9080135079237913,
          "y": 0
         },
         {
          "x1": -0.974505194344145,
          "x2": 0.34656019315759395,
          "y": 0
         },
         {
          "x1": 0.1438441554968986,
          "x2": -0.16236452653746059,
          "y": 1
         },
         {
          "x1": 0.12813431522308014,
          "x2": -0.2690447807905186,
          "y": 1
         },
         {
          "x1": 1.2938798775353157,
          "x2": -0.7035549855936218,
          "y": 1
         },
         {
          "x1": -0.6302207967178417,
          "x2": 0.7824117699501971,
          "y": 0
         },
         {
          "x1": -0.008704996496725384,
          "x2": 0.08940894489853825,
          "y": 1
         },
         {
          "x1": 1.3169684333413518,
          "x2": -0.6572897539840402,
          "y": 1
         },
         {
          "x1": -0.9332465104265187,
          "x2": 0.21874001494465423,
          "y": 0
         },
         {
          "x1": 0.27542680493350324,
          "x2": -0.35149358013403253,
          "y": 1
         },
         {
          "x1": 0.9190916777834303,
          "x2": 0.3811838191561983,
          "y": 0
         },
         {
          "x1": 0.007820344077088643,
          "x2": 0.18752871031031082,
          "y": 1
         },
         {
          "x1": -0.9461105686507629,
          "x2": 0.253107980182658,
          "y": 0
         },
         {
          "x1": 0.9010389590651727,
          "x2": -0.6641776962617305,
          "y": 1
         },
         {
          "x1": -0.8594234021683481,
          "x2": 0.4100651239702702,
          "y": 0
         },
         {
          "x1": 1.0819189417880468,
          "x2": -0.5869965297536287,
          "y": 1
         },
         {
          "x1": 0.6369940453428288,
          "x2": 0.7325765823751375,
          "y": 0
         },
         {
          "x1": -0.5006208853162406,
          "x2": 0.8388452250863161,
          "y": 0
         },
         {
          "x1": 1.036360940479515,
          "x2": -0.7469945691192094,
          "y": 1
         },
         {
          "x1": 0.7590166631159238,
          "x2": -0.5905994964892134,
          "y": 1
         },
         {
          "x1": -0.07254469302597488,
          "x2": 0.03267905546933966,
          "y": 1
         },
         {
          "x1": 1.9965625649036154,
          "x2": 0.11021264190841462,
          "y": 1
         },
         {
          "x1": 1.9780164324432536,
          "x2": 0.09354461214889419,
          "y": 1
         },
         {
          "x1": -0.9920860606058769,
          "x2": 0.2500555193591608,
          "y": 0
         },
         {
          "x1": 1.8181351466415165,
          "x2": -0.05980380929674341,
          "y": 1
         },
         {
          "x1": 0.2580670518614272,
          "x2": 0.9526771397299082,
          "y": 0
         },
         {
          "x1": 1.6682176632658834,
          "x2": -0.34209493011103237,
          "y": 1
         },
         {
          "x1": 0.04419050184214756,
          "x2": 0.0038000959574060033,
          "y": 1
         },
         {
          "x1": 0.3722842064188983,
          "x2": -0.42565442794834263,
          "y": 1
         },
         {
          "x1": -0.060340789411243406,
          "x2": 0.3186224374148551,
          "y": 1
         },
         {
          "x1": -0.9271489561658299,
          "x2": 0.1895608933324988,
          "y": 0
         },
         {
          "x1": 0.8919818543347324,
          "x2": 0.42601455321717685,
          "y": 0
         },
         {
          "x1": 0.9572769659783547,
          "x2": -0.5915801891502274,
          "y": 1
         },
         {
          "x1": -0.42302485905763504,
          "x2": 0.9418416273800865,
          "y": 0
         },
         {
          "x1": -0.02700944338855181,
          "x2": 0.8832396767374034,
          "y": 0
         },
         {
          "x1": 1.070286925514923,
          "x2": 0.23066474523043926,
          "y": 0
         },
         {
          "x1": 0.4378403909500951,
          "x2": 1.0052147297799667,
          "y": 0
         },
         {
          "x1": 0.8285573744934454,
          "x2": -0.7255282602578935,
          "y": 1
         },
         {
          "x1": 0.02394960823879346,
          "x2": -0.07774622722328649,
          "y": 1
         },
         {
          "x1": 0.774970451725866,
          "x2": 0.6662959610909432,
          "y": 0
         },
         {
          "x1": 1.7633655144424822,
          "x2": -0.4743784076687701,
          "y": 1
         },
         {
          "x1": -1.0123286161196665,
          "x2": 0.09722689107239875,
          "y": 0
         },
         {
          "x1": 1.7929182192544169,
          "x2": -0.3070946235199431,
          "y": 1
         },
         {
          "x1": 1.3672405408248658,
          "x2": -0.5946502912623468,
          "y": 1
         },
         {
          "x1": -0.7374687708135843,
          "x2": 0.663319133986389,
          "y": 0
         },
         {
          "x1": 0.46426958884451336,
          "x2": -0.527841524915178,
          "y": 1
         },
         {
          "x1": -1.0411389013790964,
          "x2": 0.08818585090514085,
          "y": 0
         },
         {
          "x1": -0.8280497824809255,
          "x2": 0.46848448553091987,
          "y": 0
         },
         {
          "x1": 0.00825342417445183,
          "x2": 1.0375494136557097,
          "y": 0
         },
         {
          "x1": -0.8545221210960231,
          "x2": 0.6493234608697885,
          "y": 0
         },
         {
          "x1": -0.42056750697057993,
          "x2": 0.8863193492861382,
          "y": 0
         },
         {
          "x1": 1.9725813454835974,
          "x2": -0.025281198422860224,
          "y": 1
         },
         {
          "x1": -0.32875383551062515,
          "x2": 0.8127421841321913,
          "y": 0
         },
         {
          "x1": 0.5072867395438626,
          "x2": 0.816319733468487,
          "y": 0
         },
         {
          "x1": 0.9660722412765478,
          "x2": -0.6999256194148809,
          "y": 1
         },
         {
          "x1": 0.21419993288074352,
          "x2": 1.0227412476417808,
          "y": 0
         },
         {
          "x1": -0.2523311656461151,
          "x2": 0.9976019379177721,
          "y": 0
         },
         {
          "x1": 1.5319756660203723,
          "x2": -0.5310079604750354,
          "y": 1
         },
         {
          "x1": 0.8885281499040026,
          "x2": 0.40257591427890743,
          "y": 0
         },
         {
          "x1": 0.1962344076598182,
          "x2": -0.2998458681983232,
          "y": 1
         },
         {
          "x1": 0.5159268253607452,
          "x2": -0.5351538356318559,
          "y": 1
         },
         {
          "x1": -0.20958319519246094,
          "x2": 0.9895391400564701,
          "y": 0
         },
         {
          "x1": 1.9167630156114612,
          "x2": -0.17201129221609,
          "y": 1
         },
         {
          "x1": -0.5664099254747955,
          "x2": 0.8057659685679476,
          "y": 0
         },
         {
          "x1": -0.03741146699731375,
          "x2": 0.1863830383705885,
          "y": 1
         },
         {
          "x1": -0.7630995766586226,
          "x2": 0.6203680667979695,
          "y": 0
         },
         {
          "x1": 0.9704886316424353,
          "x2": 0.25363412314854367,
          "y": 0
         },
         {
          "x1": 1.2784450172811785,
          "x2": -0.6724363425235614,
          "y": 1
         },
         {
          "x1": 0.8898907336925174,
          "x2": 0.4203863376456201,
          "y": 0
         },
         {
          "x1": 0.9225483388670838,
          "x2": 0.37143481915881243,
          "y": 0
         },
         {
          "x1": 1.4376438297701843,
          "x2": -0.720172316644443,
          "y": 1
         },
         {
          "x1": -0.4835469689296842,
          "x2": 0.7552999338728068,
          "y": 0
         },
         {
          "x1": -0.06262882308861609,
          "x2": 1.048085128668148,
          "y": 0
         },
         {
          "x1": 1.9434972847835554,
          "x2": 0.20209614481597143,
          "y": 1
         },
         {
          "x1": -0.5395211642571712,
          "x2": 0.8879771723238109,
          "y": 0
         },
         {
          "x1": 0.21271607890479852,
          "x2": -0.2687112624602331,
          "y": 1
         },
         {
          "x1": 1.9307409031697218,
          "x2": -0.0533880260750533,
          "y": 1
         },
         {
          "x1": 1.3096063915759464,
          "x2": -0.6007925755906534,
          "y": 1
         },
         {
          "x1": -0.538846734372177,
          "x2": 0.8112859643202828,
          "y": 0
         }
        ]
       },
       "encoding": {
        "color": {
         "field": "y",
         "type": "nominal"
        },
        "x": {
         "field": "x1",
         "type": "quantitative"
        },
        "y": {
         "field": "x2",
         "type": "quantitative"
        }
       },
       "mark": "circle"
      },
      "image/png": "[encoded data removed]",
      "image/svg+xml": [
       "<?xml version=\"1.0\" encoding=\"utf-8\"?>\n",
       "<!DOCTYPE svg PUBLIC \"-//W3C//DTD SVG 1.1//EN\" \"http://www.w3.org/Graphics/SVG/1.1/DTD/svg11.dtd\">\n",
       "<svg class=\"marks\" width=\"290\" height=\"242\" viewBox=\"0 0 290 242\" version=\"1.1\" xmlns=\"http://www.w3.org/2000/svg\" xmlns:xlink=\"http://www.w3.org/1999/xlink\"><rect width=\"290\" height=\"242\" fill=\"white\"></rect><g fill=\"none\" stroke-miterlimit=\"10\" transform=\"translate(45,5)\"><g class=\"mark-group role-frame root\" role=\"graphics-object\" aria-roledescription=\"group mark container\"><g transform=\"translate(0,0)\"><path class=\"background\" aria-hidden=\"true\" d=\"M0.5,0.5h200v200h-200Z\" stroke=\"#ddd\"></path><g><g class=\"mark-group role-axis\" aria-hidden=\"true\"><g transform=\"translate(0.5,200.5)\"><path class=\"background\" aria-hidden=\"true\" d=\"M0,0h0v0h0Z\" pointer-events=\"none\"></path><g><g class=\"mark-rule role-axis-grid\" pointer-events=\"none\"><line transform=\"translate(25,-200)\" x2=\"0\" y2=\"200\" stroke=\"#ddd\" stroke-width=\"1\" opacity=\"1\"></line><line transform=\"translate(75,-200)\" x2=\"0\" y2=\"200\" stroke=\"#ddd\" stroke-width=\"1\" opacity=\"1\"></line><line transform=\"translate(125,-200)\" x2=\"0\" y2=\"200\" stroke=\"#ddd\" stroke-width=\"1\" opacity=\"1\"></line><line transform=\"translate(175,-200)\" x2=\"0\" y2=\"200\" stroke=\"#ddd\" stroke-width=\"1\" opacity=\"1\"></line></g></g><path class=\"foreground\" aria-hidden=\"true\" d=\"\" pointer-events=\"none\" display=\"none\"></path></g></g><g class=\"mark-group role-axis\" aria-hidden=\"true\"><g transform=\"translate(0.5,0.5)\"><path class=\"background\" aria-hidden=\"true\" d=\"M0,0h0v0h0Z\" pointer-events=\"none\"></path><g><g class=\"mark-rule role-axis-grid\" pointer-events=\"none\"><line transform=\"translate(0,170)\" x2=\"200\" y2=\"0\" stroke=\"#ddd\" stroke-width=\"1\" opacity=\"1\"></line><line transform=\"translate(0,120)\" x2=\"200\" y2=\"0\" stroke=\"#ddd\" stroke-width=\"1\" opacity=\"1\"></line><line transform=\"translate(0,70)\" x2=\"200\" y2=\"0\" stroke=\"#ddd\" stroke-width=\"1\" opacity=\"1\"></line><line transform=\"translate(0,20)\" x2=\"200\" y2=\"0\" stroke=\"#ddd\" stroke-width=\"1\" opacity=\"1\"></line></g></g><path class=\"foreground\" aria-hidden=\"true\" d=\"\" pointer-events=\"none\" display=\"none\"></path></g></g><g class=\"mark-group role-axis\" role=\"graphics-symbol\" aria-roledescription=\"axis\" aria-label=\"X-axis titled 'x1' for a linear scale with values from -2 to 3\"><g transform=\"translate(0.5,200.5)\"><path class=\"background\" aria-hidden=\"true\" d=\"M0,0h0v0h0Z\" pointer-events=\"none\"></path><g><g class=\"mark-rule role-axis-tick\" pointer-events=\"none\"><line transform=\"translate(25,0)\" x2=\"0\" y2=\"5\" stroke=\"#888\" stroke-width=\"1\" opacity=\"1\"></line><line transform=\"translate(75,0)\" x2=\"0\" y2=\"5\" stroke=\"#888\" stroke-width=\"1\" opacity=\"1\"></line><line transform=\"translate(125,0)\" x2=\"0\" y2=\"5\" stroke=\"#888\" stroke-width=\"1\" opacity=\"1\"></line><line transform=\"translate(175,0)\" x2=\"0\" y2=\"5\" stroke=\"#888\" stroke-width=\"1\" opacity=\"1\"></line></g><g class=\"mark-text role-axis-label\" pointer-events=\"none\"><text text-anchor=\"middle\" transform=\"translate(25,15)\" font-family=\"sans-serif\" font-size=\"10px\" fill=\"#000\" opacity=\"1\">-1</text><text text-anchor=\"middle\" transform=\"translate(75,15)\" font-family=\"sans-serif\" font-size=\"10px\" fill=\"#000\" opacity=\"1\">0</text><text text-anchor=\"middle\" transform=\"translate(125,15)\" font-family=\"sans-serif\" font-size=\"10px\" fill=\"#000\" opacity=\"1\">1</text><text text-anchor=\"middle\" transform=\"translate(175,15)\" font-family=\"sans-serif\" font-size=\"10px\" fill=\"#000\" opacity=\"1\">2</text></g><g class=\"mark-rule role-axis-domain\" pointer-events=\"none\"><line transform=\"translate(0,0)\" x2=\"200\" y2=\"0\" stroke=\"#888\" stroke-width=\"1\" opacity=\"1\"></line></g><g class=\"mark-text role-axis-title\" pointer-events=\"none\"><text text-anchor=\"middle\" transform=\"translate(100,30)\" font-family=\"sans-serif\" font-size=\"11px\" font-weight=\"bold\" fill=\"#000\" opacity=\"1\">x1</text></g></g><path class=\"foreground\" aria-hidden=\"true\" d=\"\" pointer-events=\"none\" display=\"none\"></path></g></g><g class=\"mark-group role-axis\" role=\"graphics-symbol\" aria-roledescription=\"axis\" aria-label=\"Y-axis titled 'x2' for a linear scale with values from -0.8 to 1.2\"><g transform=\"translate(0.5,0.5)\"><path class=\"background\" aria-hidden=\"true\" d=\"M0,0h0v0h0Z\" pointer-events=\"none\"></path><g><g class=\"mark-rule role-axis-tick\" pointer-events=\"none\"><line transform=\"translate(0,170)\" x2=\"-5\" y2=\"0\" stroke=\"#888\" stroke-width=\"1\" opacity=\"1\"></line><line transform=\"translate(0,120)\" x2=\"-5\" y2=\"0\" stroke=\"#888\" stroke-width=\"1\" opacity=\"1\"></line><line transform=\"translate(0,70)\" x2=\"-5\" y2=\"0\" stroke=\"#888\" stroke-width=\"1\" opacity=\"1\"></line><line transform=\"translate(0,20)\" x2=\"-5\" y2=\"0\" stroke=\"#888\" stroke-width=\"1\" opacity=\"1\"></line></g><g class=\"mark-text role-axis-label\" pointer-events=\"none\"><text text-anchor=\"end\" transform=\"translate(-7,173)\" font-family=\"sans-serif\" font-size=\"10px\" fill=\"#000\" opacity=\"1\">-0.5</text><text text-anchor=\"end\" transform=\"translate(-7,123)\" font-family=\"sans-serif\" font-size=\"10px\" fill=\"#000\" opacity=\"1\">0.0</text><text text-anchor=\"end\" transform=\"translate(-7,73)\" font-family=\"sans-serif\" font-size=\"10px\" fill=\"#000\" opacity=\"1\">0.5</text><text text-anchor=\"end\" transform=\"translate(-7,22.999999999999996)\" font-family=\"sans-serif\" font-size=\"10px\" fill=\"#000\" opacity=\"1\">1.0</text></g><g class=\"mark-rule role-axis-domain\" pointer-events=\"none\"><line transform=\"translate(0,200)\" x2=\"0\" y2=\"-200\" stroke=\"#888\" stroke-width=\"1\" opacity=\"1\"></line></g><g class=\"mark-text role-axis-title\" pointer-events=\"none\"><text text-anchor=\"middle\" transform=\"translate(-29,100) rotate(-90) translate(0,-2)\" font-family=\"sans-serif\" font-size=\"11px\" font-weight=\"bold\" fill=\"#000\" opacity=\"1\">x2</text></g></g><path class=\"foreground\" aria-hidden=\"true\" d=\"\" pointer-events=\"none\" display=\"none\"></path></g></g><g class=\"mark-symbol role-mark marks\" role=\"graphics-object\" aria-roledescription=\"symbol mark container\"><path aria-label=\"x1: 1.24069421747; x2: -0.667500080434; y: 1\" role=\"graphics-symbol\" aria-roledescription=\"circle\" transform=\"translate(137.03471087367367,186.7500080433837)\" d=\"M2.7386127875258306,0A2.7386127875258306,2.7386127875258306,0,1,1,-2.7386127875258306,0A2.7386127875258306,2.7386127875258306,0,1,1,2.7386127875258306,0\" fill=\"#f58518\" stroke-width=\"2\" opacity=\"0.7\"></path><path aria-label=\"x1: 1.24100150867; x2: -0.632259373637; y: 1\" role=\"graphics-symbol\" aria-roledescription=\"circle\" transform=\"translate(137.05007543371585,183.22593736369717)\" d=\"M2.7386127875258306,0A2.7386127875258306,2.7386127875258306,0,1,1,-2.7386127875258306,0A2.7386127875258306,2.7386127875258306,0,1,1,2.7386127875258306,0\" fill=\"#f58518\" stroke-width=\"2\" opacity=\"0.7\"></path><path aria-label=\"x1: 0.0699098103788; x2: 1.06216201466; y: 0\" role=\"graphics-symbol\" aria-roledescription=\"circle\" transform=\"translate(78.49549051893891,13.783798534474535)\" d=\"M2.7386127875258306,0A2.7386127875258306,2.7386127875258306,0,1,1,-2.7386127875258306,0A2.7386127875258306,2.7386127875258306,0,1,1,2.7386127875258306,0\" fill=\"#4c78a8\" stroke-width=\"2\" opacity=\"0.7\"></path><path aria-label=\"x1: -0.859431724659; x2: 0.505012627432; y: 0\" role=\"graphics-symbol\" aria-roledescription=\"circle\" transform=\"translate(32.02841376702616,69.49873725679589)\" d=\"M2.7386127875258306,0A2.7386127875258306,2.7386127875258306,0,1,1,-2.7386127875258306,0A2.7386127875258306,2.7386127875258306,0,1,1,2.7386127875258306,0\" fill=\"#4c78a8\" stroke-width=\"2\" opacity=\"0.7\"></path><path aria-label=\"x1: 0.891371467272; x2: -0.723063674865; y: 1\" role=\"graphics-symbol\" aria-roledescription=\"circle\" transform=\"translate(119.56857336361213,192.30636748651122)\" d=\"M2.7386127875258306,0A2.7386127875258306,2.7386127875258306,0,1,1,-2.7386127875258306,0A2.7386127875258306,2.7386127875258306,0,1,1,2.7386127875258306,0\" fill=\"#f58518\" stroke-width=\"2\" opacity=\"0.7\"></path><path aria-label=\"x1: -0.116655207747; x2: 0.217942948971; y: 1\" role=\"graphics-symbol\" aria-roledescription=\"circle\" transform=\"translate(69.16723961266382,98.2057051028812)\" d=\"M2.7386127875258306,0A2.7386127875258306,2.7386127875258306,0,1,1,-2.7386127875258306,0A2.7386127875258306,2.7386127875258306,0,1,1,2.7386127875258306,0\" fill=\"#f58518\" stroke-width=\"2\" opacity=\"0.7\"></path><path aria-label=\"x1: 1.70001988679; x2: -0.504752076093; y: 1\" role=\"graphics-symbol\" aria-roledescription=\"circle\" transform=\"translate(160.00099433973247,170.4752076093317)\" d=\"M2.7386127875258306,0A2.7386127875258306,2.7386127875258306,0,1,1,-2.7386127875258306,0A2.7386127875258306,2.7386127875258306,0,1,1,2.7386127875258306,0\" fill=\"#f58518\" stroke-width=\"2\" opacity=\"0.7\"></path><path aria-label=\"x1: 0.208364689729; x2: 1.00185730526; y: 0\" role=\"graphics-symbol\" aria-roledescription=\"circle\" transform=\"translate(85.41823448647418,19.81426947422129)\" d=\"M2.7386127875258306,0A2.7386127875258306,2.7386127875258306,0,1,1,-2.7386127875258306,0A2.7386127875258306,2.7386127875258306,0,1,1,2.7386127875258306,0\" fill=\"#4c78a8\" stroke-width=\"2\" opacity=\"0.7\"></path><path aria-label=\"x1: -0.721440882354; x2: 0.575399162431; y: 0\" role=\"graphics-symbol\" aria-roledescription=\"circle\" transform=\"translate(38.92795588231381,62.46008375690095)\" d=\"M2.7386127875258306,0A2.7386127875258306,2.7386127875258306,0,1,1,-2.7386127875258306,0A2.7386127875258306,2.7386127875258306,0,1,1,2.7386127875258306,0\" fill=\"#4c78a8\" stroke-width=\"2\" opacity=\"0.7\"></path><path aria-label=\"x1: 2.00525894036; x2: 0.255014724581; y: 1\" role=\"graphics-symbol\" aria-roledescription=\"circle\" transform=\"translate(175.2629470180266,94.4985275418809)\" d=\"M2.7386127875258306,0A2.7386127875258306,2.7386127875258306,0,1,1,-2.7386127875258306,0A2.7386127875258306,2.7386127875258306,0,1,1,2.7386127875258306,0\" fill=\"#f58518\" stroke-width=\"2\" opacity=\"0.7\"></path><path aria-label=\"x1: -0.517210495676; x2: 0.89444606889; y: 0\" role=\"graphics-symbol\" aria-roledescription=\"circle\" transform=\"translate(49.13947521621949,30.555393111042694)\" d=\"M2.7386127875258306,0A2.7386127875258306,2.7386127875258306,0,1,1,-2.7386127875258306,0A2.7386127875258306,2.7386127875258306,0,1,1,2.7386127875258306,0\" fill=\"#4c78a8\" stroke-width=\"2\" opacity=\"0.7\"></path><path aria-label=\"x1: 1.26013887291; x2: -0.758476405762; y: 1\" role=\"graphics-symbol\" aria-roledescription=\"circle\" transform=\"translate(138.00694364564657,195.84764057619643)\" d=\"M2.7386127875258306,0A2.7386127875258306,2.7386127875258306,0,1,1,-2.7386127875258306,0A2.7386127875258306,2.7386127875258306,0,1,1,2.7386127875258306,0\" fill=\"#f58518\" stroke-width=\"2\" opacity=\"0.7\"></path><path aria-label=\"x1: 0.756228663753; x2: 0.570680296651; y: 0\" role=\"graphics-symbol\" aria-roledescription=\"circle\" transform=\"translate(112.8114331876422,62.93197033489473)\" d=\"M2.7386127875258306,0A2.7386127875258306,2.7386127875258306,0,1,1,-2.7386127875258306,0A2.7386127875258306,2.7386127875258306,0,1,1,2.7386127875258306,0\" fill=\"#4c78a8\" stroke-width=\"2\" opacity=\"0.7\"></path><path aria-label=\"x1: 0.937920357112; x2: 0.43986602048; y: 0\" role=\"graphics-symbol\" aria-roledescription=\"circle\" transform=\"translate(121.89601785562219,76.01339795200002)\" d=\"M2.7386127875258306,0A2.7386127875258306,2.7386127875258306,0,1,1,-2.7386127875258306,0A2.7386127875258306,2.7386127875258306,0,1,1,2.7386127875258306,0\" fill=\"#4c78a8\" stroke-width=\"2\" opacity=\"0.7\"></path><path aria-label=\"x1: 0.135004053336; x2: -0.134146618139; y: 1\" role=\"graphics-symbol\" aria-roledescription=\"circle\" transform=\"translate(81.7502026668073,133.41466181394347)\" d=\"M2.7386127875258306,0A2.7386127875258306,2.7386127875258306,0,1,1,-2.7386127875258306,0A2.7386127875258306,2.7386127875258306,0,1,1,2.7386127875258306,0\" fill=\"#f58518\" stroke-width=\"2\" opacity=\"0.7\"></path><path aria-label=\"x1: 0.451149864192; x2: -0.507676865899; y: 1\" role=\"graphics-symbol\" aria-roledescription=\"circle\" transform=\"translate(97.55749320959866,170.7676865899234)\" d=\"M2.7386127875258306,0A2.7386127875258306,2.7386127875258306,0,1,1,-2.7386127875258306,0A2.7386127875258306,2.7386127875258306,0,1,1,2.7386127875258306,0\" fill=\"#f58518\" stroke-width=\"2\" opacity=\"0.7\"></path><path aria-label=\"x1: 0.830617062866; x2: -0.753866540862; y: 1\" role=\"graphics-symbol\" aria-roledescription=\"circle\" transform=\"translate(116.53085314327907,195.38665408619784)\" d=\"M2.7386127875258306,0A2.7386127875258306,2.7386127875258306,0,1,1,-2.7386127875258306,0A2.7386127875258306,2.7386127875258306,0,1,1,2.7386127875258306,0\" fill=\"#f58518\" stroke-width=\"2\" opacity=\"0.7\"></path><path aria-label=\"x1: -0.830423585333; x2: 0.462157995795; y: 0\" role=\"graphics-symbol\" aria-roledescription=\"circle\" transform=\"translate(33.47882073335399,73.78420042048901)\" d=\"M2.7386127875258306,0A2.7386127875258306,2.7386127875258306,0,1,1,-2.7386127875258306,0A2.7386127875258306,2.7386127875258306,0,1,1,2.7386127875258306,0\" fill=\"#4c78a8\" stroke-width=\"2\" opacity=\"0.7\"></path><path aria-label=\"x1: 0.463187156108; x2: 0.850339835688; y: 0\" role=\"graphics-symbol\" aria-roledescription=\"circle\" transform=\"translate(98.15935780540204,34.966016431244284)\" d=\"M2.7386127875258306,0A2.7386127875258306,2.7386127875258306,0,1,1,-2.7386127875258306,0A2.7386127875258306,2.7386127875258306,0,1,1,2.7386127875258306,0\" fill=\"#4c78a8\" stroke-width=\"2\" opacity=\"0.7\"></path><path aria-label=\"x1: -0.134468923382; x2: 0.949006707663; y: 0\" role=\"graphics-symbol\" aria-roledescription=\"circle\" transform=\"translate(68.27655383089072,25.099329233661514)\" d=\"M2.7386127875258306,0A2.7386127875258306,2.7386127875258306,0,1,1,-2.7386127875258306,0A2.7386127875258306,2.7386127875258306,0,1,1,2.7386127875258306,0\" fill=\"#4c78a8\" stroke-width=\"2\" opacity=\"0.7\"></path><path aria-label=\"x1: 0.0319650398306; x2: -0.204522770623; y: 1\" role=\"graphics-symbol\" aria-roledescription=\"circle\" transform=\"translate(76.59825199152861,140.45227706231066)\" d=\"M2.7386127875258306,0A2.7386127875258306,2.7386127875258306,0,1,1,-2.7386127875258306,0A2.7386127875258306,2.7386127875258306,0,1,1,2.7386127875258306,0\" fill=\"#f58518\" stroke-width=\"2\" opacity=\"0.7\"></path><path aria-label=\"x1: 0.388540696486; x2: 0.908013507924; y: 0\" role=\"graphics-symbol\" aria-roledescription=\"circle\" transform=\"translate(94.42703482430306,29.198649207620875)\" d=\"M2.7386127875258306,0A2.7386127875258306,2.7386127875258306,0,1,1,-2.7386127875258306,0A2.7386127875258306,2.7386127875258306,0,1,1,2.7386127875258306,0\" fill=\"#4c78a8\" stroke-width=\"2\" opacity=\"0.7\"></path><path aria-label=\"x1: -0.974505194344; x2: 0.346560193158; y: 0\" role=\"graphics-symbol\" aria-roledescription=\"circle\" transform=\"translate(26.274740282792752,85.3439806842406)\" d=\"M2.7386127875258306,0A2.7386127875258306,2.7386127875258306,0,1,1,-2.7386127875258306,0A2.7386127875258306,2.7386127875258306,0,1,1,2.7386127875258306,0\" fill=\"#4c78a8\" stroke-width=\"2\" opacity=\"0.7\"></path><path aria-label=\"x1: 0.143844155497; x2: -0.162364526537; y: 1\" role=\"graphics-symbol\" aria-roledescription=\"circle\" transform=\"translate(82.19220777484493,136.23645265374606)\" d=\"M2.7386127875258306,0A2.7386127875258306,2.7386127875258306,0,1,1,-2.7386127875258306,0A2.7386127875258306,2.7386127875258306,0,1,1,2.7386127875258306,0\" fill=\"#f58518\" stroke-width=\"2\" opacity=\"0.7\"></path><path aria-label=\"x1: 0.128134315223; x2: -0.269044780791; y: 1\" role=\"graphics-symbol\" aria-roledescription=\"circle\" transform=\"translate(81.406715761154,146.90447807905184)\" d=\"M2.7386127875258306,0A2.7386127875258306,2.7386127875258306,0,1,1,-2.7386127875258306,0A2.7386127875258306,2.7386127875258306,0,1,1,2.7386127875258306,0\" fill=\"#f58518\" stroke-width=\"2\" opacity=\"0.7\"></path><path aria-label=\"x1: 1.29387987754; x2: -0.703554985594; y: 1\" role=\"graphics-symbol\" aria-roledescription=\"circle\" transform=\"translate(139.6939938767658,190.3554985593622)\" d=\"M2.7386127875258306,0A2.7386127875258306,2.7386127875258306,0,1,1,-2.7386127875258306,0A2.7386127875258306,2.7386127875258306,0,1,1,2.7386127875258306,0\" fill=\"#f58518\" stroke-width=\"2\" opacity=\"0.7\"></path><path aria-label=\"x1: -0.630220796718; x2: 0.78241176995; y: 0\" role=\"graphics-symbol\" aria-roledescription=\"circle\" transform=\"translate(43.488960164107915,41.758823004980286)\" d=\"M2.7386127875258306,0A2.7386127875258306,2.7386127875258306,0,1,1,-2.7386127875258306,0A2.7386127875258306,2.7386127875258306,0,1,1,2.7386127875258306,0\" fill=\"#4c78a8\" stroke-width=\"2\" opacity=\"0.7\"></path><path aria-label=\"x1: -0.00870499649673; x2: 0.0894089448985; y: 1\" role=\"graphics-symbol\" aria-roledescription=\"circle\" transform=\"translate(74.56475017516372,111.05910551014617)\" d=\"M2.7386127875258306,0A2.7386127875258306,2.7386127875258306,0,1,1,-2.7386127875258306,0A2.7386127875258306,2.7386127875258306,0,1,1,2.7386127875258306,0\" fill=\"#f58518\" stroke-width=\"2\" opacity=\"0.7\"></path><path aria-label=\"x1: 1.31696843334; x2: -0.657289753984; y: 1\" role=\"graphics-symbol\" aria-roledescription=\"circle\" transform=\"translate(140.84842166706758,185.72897539840403)\" d=\"M2.7386127875258306,0A2.7386127875258306,2.7386127875258306,0,1,1,-2.7386127875258306,0A2.7386127875258306,2.7386127875258306,0,1,1,2.7386127875258306,0\" fill=\"#f58518\" stroke-width=\"2\" opacity=\"0.7\"></path><path aria-label=\"x1: -0.933246510427; x2: 0.218740014945; y: 0\" role=\"graphics-symbol\" aria-roledescription=\"circle\" transform=\"translate(28.337674478674064,98.12599850553458)\" d=\"M2.7386127875258306,0A2.7386127875258306,2.7386127875258306,0,1,1,-2.7386127875258306,0A2.7386127875258306,2.7386127875258306,0,1,1,2.7386127875258306,0\" fill=\"#4c78a8\" stroke-width=\"2\" opacity=\"0.7\"></path><path aria-label=\"x1: 0.275426804934; x2: -0.351493580134; y: 1\" role=\"graphics-symbol\" aria-roledescription=\"circle\" transform=\"translate(88.77134024667517,155.14935801340326)\" d=\"M2.7386127875258306,0A2.7386127875258306,2.7386127875258306,0,1,1,-2.7386127875258306,0A2.7386127875258306,2.7386127875258306,0,1,1,2.7386127875258306,0\" fill=\"#f58518\" stroke-width=\"2\" opacity=\"0.7\"></path><path aria-label=\"x1: 0.919091677783; x2: 0.381183819156; y: 0\" role=\"graphics-symbol\" aria-roledescription=\"circle\" transform=\"translate(120.9545838891715,81.88161808438016)\" d=\"M2.7386127875258306,0A2.7386127875258306,2.7386127875258306,0,1,1,-2.7386127875258306,0A2.7386127875258306,2.7386127875258306,0,1,1,2.7386127875258306,0\" fill=\"#4c78a8\" stroke-width=\"2\" opacity=\"0.7\"></path><path aria-label=\"x1: 0.00782034407709; x2: 0.18752871031; y: 1\" role=\"graphics-symbol\" aria-roledescription=\"circle\" transform=\"translate(75.39101720385443,101.24712896896892)\" d=\"M2.7386127875258306,0A2.7386127875258306,2.7386127875258306,0,1,1,-2.7386127875258306,0A2.7386127875258306,2.7386127875258306,0,1,1,2.7386127875258306,0\" fill=\"#f58518\" stroke-width=\"2\" opacity=\"0.7\"></path><path aria-label=\"x1: -0.946110568651; x2: 0.253107980183; y: 0\" role=\"graphics-symbol\" aria-roledescription=\"circle\" transform=\"translate(27.694471567461854,94.6892019817342)\" d=\"M2.7386127875258306,0A2.7386127875258306,2.7386127875258306,0,1,1,-2.7386127875258306,0A2.7386127875258306,2.7386127875258306,0,1,1,2.7386127875258306,0\" fill=\"#4c78a8\" stroke-width=\"2\" opacity=\"0.7\"></path><path aria-label=\"x1: 0.901038959065; x2: -0.664177696262; y: 1\" role=\"graphics-symbol\" aria-roledescription=\"circle\" transform=\"translate(120.05194795325865,186.41776962617305)\" d=\"M2.7386127875258306,0A2.7386127875258306,2.7386127875258306,0,1,1,-2.7386127875258306,0A2.7386127875258306,2.7386127875258306,0,1,1,2.7386127875258306,0\" fill=\"#f58518\" stroke-width=\"2\" opacity=\"0.7\"></path><path aria-label=\"x1: -0.859423402168; x2: 0.41006512397; y: 0\" role=\"graphics-symbol\" aria-roledescription=\"circle\" transform=\"translate(32.028829891582596,78.99348760297298)\" d=\"M2.7386127875258306,0A2.7386127875258306,2.7386127875258306,0,1,1,-2.7386127875258306,0A2.7386127875258306,2.7386127875258306,0,1,1,2.7386127875258306,0\" fill=\"#4c78a8\" stroke-width=\"2\" opacity=\"0.7\"></path><path aria-label=\"x1: 1.08191894179; x2: -0.586996529754; y: 1\" role=\"graphics-symbol\" aria-roledescription=\"circle\" transform=\"translate(129.09594708940233,178.69965297536288)\" d=\"M2.7386127875258306,0A2.7386127875258306,2.7386127875258306,0,1,1,-2.7386127875258306,0A2.7386127875258306,2.7386127875258306,0,1,1,2.7386127875258306,0\" fill=\"#f58518\" stroke-width=\"2\" opacity=\"0.7\"></path><path aria-label=\"x1: 0.636994045343; x2: 0.732576582375; y: 0\" role=\"graphics-symbol\" aria-roledescription=\"circle\" transform=\"translate(106.84970226714144,46.74234176248624)\" d=\"M2.7386127875258306,0A2.7386127875258306,2.7386127875258306,0,1,1,-2.7386127875258306,0A2.7386127875258306,2.7386127875258306,0,1,1,2.7386127875258306,0\" fill=\"#4c78a8\" stroke-width=\"2\" opacity=\"0.7\"></path><path aria-label=\"x1: -0.500620885316; x2: 0.838845225086; y: 0\" role=\"graphics-symbol\" aria-roledescription=\"circle\" transform=\"translate(49.96895573418797,36.11547749136839)\" d=\"M2.7386127875258306,0A2.7386127875258306,2.7386127875258306,0,1,1,-2.7386127875258306,0A2.7386127875258306,2.7386127875258306,0,1,1,2.7386127875258306,0\" fill=\"#4c78a8\" stroke-width=\"2\" opacity=\"0.7\"></path><path aria-label=\"x1: 1.03636094048; x2: -0.746994569119; y: 1\" role=\"graphics-symbol\" aria-roledescription=\"circle\" transform=\"translate(126.81804702397574,194.69945691192092)\" d=\"M2.7386127875258306,0A2.7386127875258306,2.7386127875258306,0,1,1,-2.7386127875258306,0A2.7386127875258306,2.7386127875258306,0,1,1,2.7386127875258306,0\" fill=\"#f58518\" stroke-width=\"2\" opacity=\"0.7\"></path><path aria-label=\"x1: 0.759016663116; x2: -0.590599496489; y: 1\" role=\"graphics-symbol\" aria-roledescription=\"circle\" transform=\"translate(112.95083315579619,179.05994964892133)\" d=\"M2.7386127875258306,0A2.7386127875258306,2.7386127875258306,0,1,1,-2.7386127875258306,0A2.7386127875258306,2.7386127875258306,0,1,1,2.7386127875258306,0\" fill=\"#f58518\" stroke-width=\"2\" opacity=\"0.7\"></path><path aria-label=\"x1: -0.072544693026; x2: 0.0326790554693; y: 1\" role=\"graphics-symbol\" aria-roledescription=\"circle\" transform=\"translate(71.37276534870125,116.73209445306603)\" d=\"M2.7386127875258306,0A2.7386127875258306,2.7386127875258306,0,1,1,-2.7386127875258306,0A2.7386127875258306,2.7386127875258306,0,1,1,2.7386127875258306,0\" fill=\"#f58518\" stroke-width=\"2\" opacity=\"0.7\"></path><path aria-label=\"x1: 1.9965625649; x2: 0.110212641908; y: 1\" role=\"graphics-symbol\" aria-roledescription=\"circle\" transform=\"translate(174.82812824518078,108.97873580915854)\" d=\"M2.7386127875258306,0A2.7386127875258306,2.7386127875258306,0,1,1,-2.7386127875258306,0A2.7386127875258306,2.7386127875258306,0,1,1,2.7386127875258306,0\" fill=\"#f58518\" stroke-width=\"2\" opacity=\"0.7\"></path><path aria-label=\"x1: 1.97801643244; x2: 0.0935446121489; y: 1\" role=\"graphics-symbol\" aria-roledescription=\"circle\" transform=\"translate(173.90082162216268,110.64553878511059)\" d=\"M2.7386127875258306,0A2.7386127875258306,2.7386127875258306,0,1,1,-2.7386127875258306,0A2.7386127875258306,2.7386127875258306,0,1,1,2.7386127875258306,0\" fill=\"#f58518\" stroke-width=\"2\" opacity=\"0.7\"></path><path aria-label=\"x1: -0.992086060606; x2: 0.250055519359; y: 0\" role=\"graphics-symbol\" aria-roledescription=\"circle\" transform=\"translate(25.395696969706155,94.9944480640839)\" d=\"M2.7386127875258306,0A2.7386127875258306,2.7386127875258306,0,1,1,-2.7386127875258306,0A2.7386127875258306,2.7386127875258306,0,1,1,2.7386127875258306,0\" fill=\"#4c78a8\" stroke-width=\"2\" opacity=\"0.7\"></path><path aria-label=\"x1: 1.81813514664; x2: -0.0598038092967; y: 1\" role=\"graphics-symbol\" aria-roledescription=\"circle\" transform=\"translate(165.9067573320758,125.98038092967434)\" d=\"M2.7386127875258306,0A2.7386127875258306,2.7386127875258306,0,1,1,-2.7386127875258306,0A2.7386127875258306,2.7386127875258306,0,1,1,2.7386127875258306,0\" fill=\"#f58518\" stroke-width=\"2\" opacity=\"0.7\"></path><path aria-label=\"x1: 0.258067051861; x2: 0.95267713973; y: 0\" role=\"graphics-symbol\" aria-roledescription=\"circle\" transform=\"translate(87.90335259307136,24.732286027009167)\" d=\"M2.7386127875258306,0A2.7386127875258306,2.7386127875258306,0,1,1,-2.7386127875258306,0A2.7386127875258306,2.7386127875258306,0,1,1,2.7386127875258306,0\" fill=\"#4c78a8\" stroke-width=\"2\" opacity=\"0.7\"></path><path aria-label=\"x1: 1.66821766327; x2: -0.342094930111; y: 1\" role=\"graphics-symbol\" aria-roledescription=\"circle\" transform=\"translate(158.41088316329416,154.20949301110323)\" d=\"M2.7386127875258306,0A2.7386127875258306,2.7386127875258306,0,1,1,-2.7386127875258306,0A2.7386127875258306,2.7386127875258306,0,1,1,2.7386127875258306,0\" fill=\"#f58518\" stroke-width=\"2\" opacity=\"0.7\"></path><path aria-label=\"x1: 0.0441905018421; x2: 0.00380009595741; y: 1\" role=\"graphics-symbol\" aria-roledescription=\"circle\" transform=\"translate(77.20952509210738,119.6199904042594)\" d=\"M2.7386127875258306,0A2.7386127875258306,2.7386127875258306,0,1,1,-2.7386127875258306,0A2.7386127875258306,2.7386127875258306,0,1,1,2.7386127875258306,0\" fill=\"#f58518\" stroke-width=\"2\" opacity=\"0.7\"></path><path aria-label=\"x1: 0.372284206419; x2: -0.425654427948; y: 1\" role=\"graphics-symbol\" aria-roledescription=\"circle\" transform=\"translate(93.6142103209449,162.56544279483424)\" d=\"M2.7386127875258306,0A2.7386127875258306,2.7386127875258306,0,1,1,-2.7386127875258306,0A2.7386127875258306,2.7386127875258306,0,1,1,2.7386127875258306,0\" fill=\"#f58518\" stroke-width=\"2\" opacity=\"0.7\"></path><path aria-label=\"x1: -0.0603407894112; x2: 0.318622437415; y: 1\" role=\"graphics-symbol\" aria-roledescription=\"circle\" transform=\"translate(71.98296052943783,88.13775625851447)\" d=\"M2.7386127875258306,0A2.7386127875258306,2.7386127875258306,0,1,1,-2.7386127875258306,0A2.7386127875258306,2.7386127875258306,0,1,1,2.7386127875258306,0\" fill=\"#f58518\" stroke-width=\"2\" opacity=\"0.7\"></path><path aria-label=\"x1: -0.927148956166; x2: 0.189560893332; y: 0\" role=\"graphics-symbol\" aria-roledescription=\"circle\" transform=\"translate(28.642552191708504,101.04391066675011)\" d=\"M2.7386127875258306,0A2.7386127875258306,2.7386127875258306,0,1,1,-2.7386127875258306,0A2.7386127875258306,2.7386127875258306,0,1,1,2.7386127875258306,0\" fill=\"#4c78a8\" stroke-width=\"2\" opacity=\"0.7\"></path><path aria-label=\"x1: 0.891981854335; x2: 0.426014553217; y: 0\" role=\"graphics-symbol\" aria-roledescription=\"circle\" transform=\"translate(119.5990927167366,77.3985446782823)\" d=\"M2.7386127875258306,0A2.7386127875258306,2.7386127875258306,0,1,1,-2.7386127875258306,0A2.7386127875258306,2.7386127875258306,0,1,1,2.7386127875258306,0\" fill=\"#4c78a8\" stroke-width=\"2\" opacity=\"0.7\"></path><path aria-label=\"x1: 0.957276965978; x2: -0.59158018915; y: 1\" role=\"graphics-symbol\" aria-roledescription=\"circle\" transform=\"translate(122.86384829891772,179.15801891502272)\" d=\"M2.7386127875258306,0A2.7386127875258306,2.7386127875258306,0,1,1,-2.7386127875258306,0A2.7386127875258306,2.7386127875258306,0,1,1,2.7386127875258306,0\" fill=\"#f58518\" stroke-width=\"2\" opacity=\"0.7\"></path><path aria-label=\"x1: -0.423024859058; x2: 0.94184162738; y: 0\" role=\"graphics-symbol\" aria-roledescription=\"circle\" transform=\"translate(53.84875704711825,25.815837261991348)\" d=\"M2.7386127875258306,0A2.7386127875258306,2.7386127875258306,0,1,1,-2.7386127875258306,0A2.7386127875258306,2.7386127875258306,0,1,1,2.7386127875258306,0\" fill=\"#4c78a8\" stroke-width=\"2\" opacity=\"0.7\"></path><path aria-label=\"x1: -0.0270094433886; x2: 0.883239676737; y: 0\" role=\"graphics-symbol\" aria-roledescription=\"circle\" transform=\"translate(73.64952783057241,31.676032326259662)\" d=\"M2.7386127875258306,0A2.7386127875258306,2.7386127875258306,0,1,1,-2.7386127875258306,0A2.7386127875258306,2.7386127875258306,0,1,1,2.7386127875258306,0\" fill=\"#4c78a8\" stroke-width=\"2\" opacity=\"0.7\"></path><path aria-label=\"x1: 1.07028692551; x2: 0.23066474523; y: 0\" role=\"graphics-symbol\" aria-roledescription=\"circle\" transform=\"translate(128.51434627574614,96.93352547695606)\" d=\"M2.7386127875258306,0A2.7386127875258306,2.7386127875258306,0,1,1,-2.7386127875258306,0A2.7386127875258306,2.7386127875258306,0,1,1,2.7386127875258306,0\" fill=\"#4c78a8\" stroke-width=\"2\" opacity=\"0.7\"></path><path aria-label=\"x1: 0.43784039095; x2: 1.00521472978; y: 0\" role=\"graphics-symbol\" aria-roledescription=\"circle\" transform=\"translate(96.89201954750474,19.478527022003323)\" d=\"M2.7386127875258306,0A2.7386127875258306,2.7386127875258306,0,1,1,-2.7386127875258306,0A2.7386127875258306,2.7386127875258306,0,1,1,2.7386127875258306,0\" fill=\"#4c78a8\" stroke-width=\"2\" opacity=\"0.7\"></path><path aria-label=\"x1: 0.828557374493; x2: -0.725528260258; y: 1\" role=\"graphics-symbol\" aria-roledescription=\"circle\" transform=\"translate(116.42786872467225,192.55282602578933)\" d=\"M2.7386127875258306,0A2.7386127875258306,2.7386127875258306,0,1,1,-2.7386127875258306,0A2.7386127875258306,2.7386127875258306,0,1,1,2.7386127875258306,0\" fill=\"#f58518\" stroke-width=\"2\" opacity=\"0.7\"></path><path aria-label=\"x1: 0.0239496082388; x2: -0.0777462272233; y: 1\" role=\"graphics-symbol\" aria-roledescription=\"circle\" transform=\"translate(76.19748041193968,127.77462272232864)\" d=\"M2.7386127875258306,0A2.7386127875258306,2.7386127875258306,0,1,1,-2.7386127875258306,0A2.7386127875258306,2.7386127875258306,0,1,1,2.7386127875258306,0\" fill=\"#f58518\" stroke-width=\"2\" opacity=\"0.7\"></path><path aria-label=\"x1: 0.774970451726; x2: 0.666295961091; y: 0\" role=\"graphics-symbol\" aria-roledescription=\"circle\" transform=\"translate(113.7485225862933,53.37040389090566)\" d=\"M2.7386127875258306,0A2.7386127875258306,2.7386127875258306,0,1,1,-2.7386127875258306,0A2.7386127875258306,2.7386127875258306,0,1,1,2.7386127875258306,0\" fill=\"#4c78a8\" stroke-width=\"2\" opacity=\"0.7\"></path><path aria-label=\"x1: 1.76336551444; x2: -0.474378407669; y: 1\" role=\"graphics-symbol\" aria-roledescription=\"circle\" transform=\"translate(163.16827572212412,167.437840766877)\" d=\"M2.7386127875258306,0A2.7386127875258306,2.7386127875258306,0,1,1,-2.7386127875258306,0A2.7386127875258306,2.7386127875258306,0,1,1,2.7386127875258306,0\" fill=\"#f58518\" stroke-width=\"2\" opacity=\"0.7\"></path><path aria-label=\"x1: -1.01232861612; x2: 0.0972268910724; y: 0\" role=\"graphics-symbol\" aria-roledescription=\"circle\" transform=\"translate(24.383569194016673,110.27731089276011)\" d=\"M2.7386127875258306,0A2.7386127875258306,2.7386127875258306,0,1,1,-2.7386127875258306,0A2.7386127875258306,2.7386127875258306,0,1,1,2.7386127875258306,0\" fill=\"#4c78a8\" stroke-width=\"2\" opacity=\"0.7\"></path><path aria-label=\"x1: 1.79291821925; x2: -0.30709462352; y: 1\" role=\"graphics-symbol\" aria-roledescription=\"circle\" transform=\"translate(164.64591096272082,150.70946235199432)\" d=\"M2.7386127875258306,0A2.7386127875258306,2.7386127875258306,0,1,1,-2.7386127875258306,0A2.7386127875258306,2.7386127875258306,0,1,1,2.7386127875258306,0\" fill=\"#f58518\" stroke-width=\"2\" opacity=\"0.7\"></path><path aria-label=\"x1: 1.36724054082; x2: -0.594650291262; y: 1\" role=\"graphics-symbol\" aria-roledescription=\"circle\" transform=\"translate(143.36202704124327,179.46502912623467)\" d=\"M2.7386127875258306,0A2.7386127875258306,2.7386127875258306,0,1,1,-2.7386127875258306,0A2.7386127875258306,2.7386127875258306,0,1,1,2.7386127875258306,0\" fill=\"#f58518\" stroke-width=\"2\" opacity=\"0.7\"></path><path aria-label=\"x1: -0.737468770814; x2: 0.663319133986; y: 0\" role=\"graphics-symbol\" aria-roledescription=\"circle\" transform=\"translate(38.12656145932078,53.66808660136111)\" d=\"M2.7386127875258306,0A2.7386127875258306,2.7386127875258306,0,1,1,-2.7386127875258306,0A2.7386127875258306,2.7386127875258306,0,1,1,2.7386127875258306,0\" fill=\"#4c78a8\" stroke-width=\"2\" opacity=\"0.7\"></path><path aria-label=\"x1: 0.464269588845; x2: -0.527841524915; y: 1\" role=\"graphics-symbol\" aria-roledescription=\"circle\" transform=\"translate(98.21347944222568,172.7841524915178)\" d=\"M2.7386127875258306,0A2.7386127875258306,2.7386127875258306,0,1,1,-2.7386127875258306,0A2.7386127875258306,2.7386127875258306,0,1,1,2.7386127875258306,0\" fill=\"#f58518\" stroke-width=\"2\" opacity=\"0.7\"></path><path aria-label=\"x1: -1.04113890138; x2: 0.0881858509051; y: 0\" role=\"graphics-symbol\" aria-roledescription=\"circle\" transform=\"translate(22.943054931045182,111.1814149094859)\" d=\"M2.7386127875258306,0A2.7386127875258306,2.7386127875258306,0,1,1,-2.7386127875258306,0A2.7386127875258306,2.7386127875258306,0,1,1,2.7386127875258306,0\" fill=\"#4c78a8\" stroke-width=\"2\" opacity=\"0.7\"></path><path aria-label=\"x1: -0.828049782481; x2: 0.468484485531; y: 0\" role=\"graphics-symbol\" aria-roledescription=\"circle\" transform=\"translate(33.59751087595372,73.15155144690802)\" d=\"M2.7386127875258306,0A2.7386127875258306,2.7386127875258306,0,1,1,-2.7386127875258306,0A2.7386127875258306,2.7386127875258306,0,1,1,2.7386127875258306,0\" fill=\"#4c78a8\" stroke-width=\"2\" opacity=\"0.7\"></path><path aria-label=\"x1: 0.00825342417445; x2: 1.03754941366; y: 0\" role=\"graphics-symbol\" aria-roledescription=\"circle\" transform=\"translate(75.4126712087226,16.24505863442902)\" d=\"M2.7386127875258306,0A2.7386127875258306,2.7386127875258306,0,1,1,-2.7386127875258306,0A2.7386127875258306,2.7386127875258306,0,1,1,2.7386127875258306,0\" fill=\"#4c78a8\" stroke-width=\"2\" opacity=\"0.7\"></path><path aria-label=\"x1: -0.854522121096; x2: 0.64932346087; y: 0\" role=\"graphics-symbol\" aria-roledescription=\"circle\" transform=\"translate(32.27389394519884,55.06765391302113)\" d=\"M2.7386127875258306,0A2.7386127875258306,2.7386127875258306,0,1,1,-2.7386127875258306,0A2.7386127875258306,2.7386127875258306,0,1,1,2.7386127875258306,0\" fill=\"#4c78a8\" stroke-width=\"2\" opacity=\"0.7\"></path><path aria-label=\"x1: -0.420567506971; x2: 0.886319349286; y: 0\" role=\"graphics-symbol\" aria-roledescription=\"circle\" transform=\"translate(53.971624651471004,31.368065071386162)\" d=\"M2.7386127875258306,0A2.7386127875258306,2.7386127875258306,0,1,1,-2.7386127875258306,0A2.7386127875258306,2.7386127875258306,0,1,1,2.7386127875258306,0\" fill=\"#4c78a8\" stroke-width=\"2\" opacity=\"0.7\"></path><path aria-label=\"x1: 1.97258134548; x2: -0.0252811984229; y: 1\" role=\"graphics-symbol\" aria-roledescription=\"circle\" transform=\"translate(173.62906727417987,122.52811984228602)\" d=\"M2.7386127875258306,0A2.7386127875258306,2.7386127875258306,0,1,1,-2.7386127875258306,0A2.7386127875258306,2.7386127875258306,0,1,1,2.7386127875258306,0\" fill=\"#f58518\" stroke-width=\"2\" opacity=\"0.7\"></path><path aria-label=\"x1: -0.328753835511; x2: 0.812742184132; y: 0\" role=\"graphics-symbol\" aria-roledescription=\"circle\" transform=\"translate(58.56230822446874,38.72578158678086)\" d=\"M2.7386127875258306,0A2.7386127875258306,2.7386127875258306,0,1,1,-2.7386127875258306,0A2.7386127875258306,2.7386127875258306,0,1,1,2.7386127875258306,0\" fill=\"#4c78a8\" stroke-width=\"2\" opacity=\"0.7\"></path><path aria-label=\"x1: 0.507286739544; x2: 0.816319733468; y: 0\" role=\"graphics-symbol\" aria-roledescription=\"circle\" transform=\"translate(100.36433697719313,38.36802665315129)\" d=\"M2.7386127875258306,0A2.7386127875258306,2.7386127875258306,0,1,1,-2.7386127875258306,0A2.7386127875258306,2.7386127875258306,0,1,1,2.7386127875258306,0\" fill=\"#4c78a8\" stroke-width=\"2\" opacity=\"0.7\"></path><path aria-label=\"x1: 0.966072241277; x2: -0.699925619415; y: 1\" role=\"graphics-symbol\" aria-roledescription=\"circle\" transform=\"translate(123.30361206382739,189.99256194148808)\" d=\"M2.7386127875258306,0A2.7386127875258306,2.7386127875258306,0,1,1,-2.7386127875258306,0A2.7386127875258306,2.7386127875258306,0,1,1,2.7386127875258306,0\" fill=\"#f58518\" stroke-width=\"2\" opacity=\"0.7\"></path><path aria-label=\"x1: 0.214199932881; x2: 1.02274124764; y: 0\" role=\"graphics-symbol\" aria-roledescription=\"circle\" transform=\"translate(85.70999664403718,17.72587523582192)\" d=\"M2.7386127875258306,0A2.7386127875258306,2.7386127875258306,0,1,1,-2.7386127875258306,0A2.7386127875258306,2.7386127875258306,0,1,1,2.7386127875258306,0\" fill=\"#4c78a8\" stroke-width=\"2\" opacity=\"0.7\"></path><path aria-label=\"x1: -0.252331165646; x2: 0.997601937918; y: 0\" role=\"graphics-symbol\" aria-roledescription=\"circle\" transform=\"translate(62.38344171769425,20.239806208222788)\" d=\"M2.7386127875258306,0A2.7386127875258306,2.7386127875258306,0,1,1,-2.7386127875258306,0A2.7386127875258306,2.7386127875258306,0,1,1,2.7386127875258306,0\" fill=\"#4c78a8\" stroke-width=\"2\" opacity=\"0.7\"></path><path aria-label=\"x1: 1.53197566602; x2: -0.531007960475; y: 1\" role=\"graphics-symbol\" aria-roledescription=\"circle\" transform=\"translate(151.5987833010186,173.10079604750354)\" d=\"M2.7386127875258306,0A2.7386127875258306,2.7386127875258306,0,1,1,-2.7386127875258306,0A2.7386127875258306,2.7386127875258306,0,1,1,2.7386127875258306,0\" fill=\"#f58518\" stroke-width=\"2\" opacity=\"0.7\"></path><path aria-label=\"x1: 0.888528149904; x2: 0.402575914279; y: 0\" role=\"graphics-symbol\" aria-roledescription=\"circle\" transform=\"translate(119.42640749520012,79.74240857210926)\" d=\"M2.7386127875258306,0A2.7386127875258306,2.7386127875258306,0,1,1,-2.7386127875258306,0A2.7386127875258306,2.7386127875258306,0,1,1,2.7386127875258306,0\" fill=\"#4c78a8\" stroke-width=\"2\" opacity=\"0.7\"></path><path aria-label=\"x1: 0.19623440766; x2: -0.299845868198; y: 1\" role=\"graphics-symbol\" aria-roledescription=\"circle\" transform=\"translate(84.81172038299091,149.98458681983232)\" d=\"M2.7386127875258306,0A2.7386127875258306,2.7386127875258306,0,1,1,-2.7386127875258306,0A2.7386127875258306,2.7386127875258306,0,1,1,2.7386127875258306,0\" fill=\"#f58518\" stroke-width=\"2\" opacity=\"0.7\"></path><path aria-label=\"x1: 0.515926825361; x2: -0.535153835632; y: 1\" role=\"graphics-symbol\" aria-roledescription=\"circle\" transform=\"translate(100.79634126803727,173.5153835631856)\" d=\"M2.7386127875258306,0A2.7386127875258306,2.7386127875258306,0,1,1,-2.7386127875258306,0A2.7386127875258306,2.7386127875258306,0,1,1,2.7386127875258306,0\" fill=\"#f58518\" stroke-width=\"2\" opacity=\"0.7\"></path><path aria-label=\"x1: -0.209583195192; x2: 0.989539140056; y: 0\" role=\"graphics-symbol\" aria-roledescription=\"circle\" transform=\"translate(64.52084024037696,21.046085994352982)\" d=\"M2.7386127875258306,0A2.7386127875258306,2.7386127875258306,0,1,1,-2.7386127875258306,0A2.7386127875258306,2.7386127875258306,0,1,1,2.7386127875258306,0\" fill=\"#4c78a8\" stroke-width=\"2\" opacity=\"0.7\"></path><path aria-label=\"x1: 1.91676301561; x2: -0.172011292216; y: 1\" role=\"graphics-symbol\" aria-roledescription=\"circle\" transform=\"translate(170.83815078057305,137.201129221609)\" d=\"M2.7386127875258306,0A2.7386127875258306,2.7386127875258306,0,1,1,-2.7386127875258306,0A2.7386127875258306,2.7386127875258306,0,1,1,2.7386127875258306,0\" fill=\"#f58518\" stroke-width=\"2\" opacity=\"0.7\"></path><path aria-label=\"x1: -0.566409925475; x2: 0.805765968568; y: 0\" role=\"graphics-symbol\" aria-roledescription=\"circle\" transform=\"translate(46.67950372626022,39.42340314320525)\" d=\"M2.7386127875258306,0A2.7386127875258306,2.7386127875258306,0,1,1,-2.7386127875258306,0A2.7386127875258306,2.7386127875258306,0,1,1,2.7386127875258306,0\" fill=\"#4c78a8\" stroke-width=\"2\" opacity=\"0.7\"></path><path aria-label=\"x1: -0.0374114669973; x2: 0.186383038371; y: 1\" role=\"graphics-symbol\" aria-roledescription=\"circle\" transform=\"translate(73.1294266501343,101.36169616294114)\" d=\"M2.7386127875258306,0A2.7386127875258306,2.7386127875258306,0,1,1,-2.7386127875258306,0A2.7386127875258306,2.7386127875258306,0,1,1,2.7386127875258306,0\" fill=\"#f58518\" stroke-width=\"2\" opacity=\"0.7\"></path><path aria-label=\"x1: -0.763099576659; x2: 0.620368066798; y: 0\" role=\"graphics-symbol\" aria-roledescription=\"circle\" transform=\"translate(36.84502116706887,57.96319332020303)\" d=\"M2.7386127875258306,0A2.7386127875258306,2.7386127875258306,0,1,1,-2.7386127875258306,0A2.7386127875258306,2.7386127875258306,0,1,1,2.7386127875258306,0\" fill=\"#4c78a8\" stroke-width=\"2\" opacity=\"0.7\"></path><path aria-label=\"x1: 0.970488631642; x2: 0.253634123149; y: 0\" role=\"graphics-symbol\" aria-roledescription=\"circle\" transform=\"translate(123.52443158212176,94.63658768514563)\" d=\"M2.7386127875258306,0A2.7386127875258306,2.7386127875258306,0,1,1,-2.7386127875258306,0A2.7386127875258306,2.7386127875258306,0,1,1,2.7386127875258306,0\" fill=\"#4c78a8\" stroke-width=\"2\" opacity=\"0.7\"></path><path aria-label=\"x1: 1.27844501728; x2: -0.672436342524; y: 1\" role=\"graphics-symbol\" aria-roledescription=\"circle\" transform=\"translate(138.92225086405892,187.24363425235614)\" d=\"M2.7386127875258306,0A2.7386127875258306,2.7386127875258306,0,1,1,-2.7386127875258306,0A2.7386127875258306,2.7386127875258306,0,1,1,2.7386127875258306,0\" fill=\"#f58518\" stroke-width=\"2\" opacity=\"0.7\"></path><path aria-label=\"x1: 0.889890733693; x2: 0.420386337646; y: 0\" role=\"graphics-symbol\" aria-roledescription=\"circle\" transform=\"translate(119.49453668462586,77.96136623543799)\" d=\"M2.7386127875258306,0A2.7386127875258306,2.7386127875258306,0,1,1,-2.7386127875258306,0A2.7386127875258306,2.7386127875258306,0,1,1,2.7386127875258306,0\" fill=\"#4c78a8\" stroke-width=\"2\" opacity=\"0.7\"></path><path aria-label=\"x1: 0.922548338867; x2: 0.371434819159; y: 0\" role=\"graphics-symbol\" aria-roledescription=\"circle\" transform=\"translate(121.12741694335418,82.85651808411876)\" d=\"M2.7386127875258306,0A2.7386127875258306,2.7386127875258306,0,1,1,-2.7386127875258306,0A2.7386127875258306,2.7386127875258306,0,1,1,2.7386127875258306,0\" fill=\"#4c78a8\" stroke-width=\"2\" opacity=\"0.7\"></path><path aria-label=\"x1: 1.43764382977; x2: -0.720172316644; y: 1\" role=\"graphics-symbol\" aria-roledescription=\"circle\" transform=\"translate(146.88219148850922,192.0172316644443)\" d=\"M2.7386127875258306,0A2.7386127875258306,2.7386127875258306,0,1,1,-2.7386127875258306,0A2.7386127875258306,2.7386127875258306,0,1,1,2.7386127875258306,0\" fill=\"#f58518\" stroke-width=\"2\" opacity=\"0.7\"></path><path aria-label=\"x1: -0.48354696893; x2: 0.755299933873; y: 0\" role=\"graphics-symbol\" aria-roledescription=\"circle\" transform=\"translate(50.8226515535158,44.47000661271932)\" d=\"M2.7386127875258306,0A2.7386127875258306,2.7386127875258306,0,1,1,-2.7386127875258306,0A2.7386127875258306,2.7386127875258306,0,1,1,2.7386127875258306,0\" fill=\"#4c78a8\" stroke-width=\"2\" opacity=\"0.7\"></path><path aria-label=\"x1: -0.0626288230886; x2: 1.04808512867; y: 0\" role=\"graphics-symbol\" aria-roledescription=\"circle\" transform=\"translate(71.8685588455692,15.191487133185188)\" d=\"M2.7386127875258306,0A2.7386127875258306,2.7386127875258306,0,1,1,-2.7386127875258306,0A2.7386127875258306,2.7386127875258306,0,1,1,2.7386127875258306,0\" fill=\"#4c78a8\" stroke-width=\"2\" opacity=\"0.7\"></path><path aria-label=\"x1: 1.94349728478; x2: 0.202096144816; y: 1\" role=\"graphics-symbol\" aria-roledescription=\"circle\" transform=\"translate(172.1748642391778,99.79038551840284)\" d=\"M2.7386127875258306,0A2.7386127875258306,2.7386127875258306,0,1,1,-2.7386127875258306,0A2.7386127875258306,2.7386127875258306,0,1,1,2.7386127875258306,0\" fill=\"#f58518\" stroke-width=\"2\" opacity=\"0.7\"></path><path aria-label=\"x1: -0.539521164257; x2: 0.887977172324; y: 0\" role=\"graphics-symbol\" aria-roledescription=\"circle\" transform=\"translate(48.02394178714144,31.202282767618918)\" d=\"M2.7386127875258306,0A2.7386127875258306,2.7386127875258306,0,1,1,-2.7386127875258306,0A2.7386127875258306,2.7386127875258306,0,1,1,2.7386127875258306,0\" fill=\"#4c78a8\" stroke-width=\"2\" opacity=\"0.7\"></path><path aria-label=\"x1: 0.212716078905; x2: -0.26871126246; y: 1\" role=\"graphics-symbol\" aria-roledescription=\"circle\" transform=\"translate(85.63580394523993,146.8711262460233)\" d=\"M2.7386127875258306,0A2.7386127875258306,2.7386127875258306,0,1,1,-2.7386127875258306,0A2.7386127875258306,2.7386127875258306,0,1,1,2.7386127875258306,0\" fill=\"#f58518\" stroke-width=\"2\" opacity=\"0.7\"></path><path aria-label=\"x1: 1.93074090317; x2: -0.0533880260751; y: 1\" role=\"graphics-symbol\" aria-roledescription=\"circle\" transform=\"translate(171.53704515848608,125.33880260750534)\" d=\"M2.7386127875258306,0A2.7386127875258306,2.7386127875258306,0,1,1,-2.7386127875258306,0A2.7386127875258306,2.7386127875258306,0,1,1,2.7386127875258306,0\" fill=\"#f58518\" stroke-width=\"2\" opacity=\"0.7\"></path><path aria-label=\"x1: 1.30960639158; x2: -0.600792575591; y: 1\" role=\"graphics-symbol\" aria-roledescription=\"circle\" transform=\"translate(140.48031957879732,180.07925755906533)\" d=\"M2.7386127875258306,0A2.7386127875258306,2.7386127875258306,0,1,1,-2.7386127875258306,0A2.7386127875258306,2.7386127875258306,0,1,1,2.7386127875258306,0\" fill=\"#f58518\" stroke-width=\"2\" opacity=\"0.7\"></path><path aria-label=\"x1: -0.538846734372; x2: 0.81128596432; y: 0\" role=\"graphics-symbol\" aria-roledescription=\"circle\" transform=\"translate(48.05766328139115,38.87140356797172)\" d=\"M2.7386127875258306,0A2.7386127875258306,2.7386127875258306,0,1,1,-2.7386127875258306,0A2.7386127875258306,2.7386127875258306,0,1,1,2.7386127875258306,0\" fill=\"#4c78a8\" stroke-width=\"2\" opacity=\"0.7\"></path></g><g class=\"mark-group role-legend\" role=\"graphics-symbol\" aria-roledescription=\"legend\" aria-label=\"Symbol legend titled 'y' for fill color with 2 values: 0, 1\"><g transform=\"translate(218,0)\"><path class=\"background\" aria-hidden=\"true\" d=\"M0,0h22v40h-22Z\" pointer-events=\"none\"></path><g><g class=\"mark-group role-legend-entry\"><g transform=\"translate(0,16)\"><path class=\"background\" aria-hidden=\"true\" d=\"M0,0h0v0h0Z\" pointer-events=\"none\"></path><g><g class=\"mark-group role-scope\" role=\"graphics-object\" aria-roledescription=\"group mark container\"><g transform=\"translate(0,0)\"><path class=\"background\" aria-hidden=\"true\" d=\"M0,0h22v11h-22Z\" pointer-events=\"none\" opacity=\"1\"></path><g><g class=\"mark-symbol role-legend-symbol\" pointer-events=\"none\"><path transform=\"translate(6,6)\" d=\"M5,0A5,5,0,1,1,-5,0A5,5,0,1,1,5,0\" fill=\"#4c78a8\" stroke-width=\"1.5\" opacity=\"0.7\"></path></g><g class=\"mark-text role-legend-label\" pointer-events=\"none\"><text text-anchor=\"start\" transform=\"translate(16,9)\" font-family=\"sans-serif\" font-size=\"10px\" fill=\"#000\" opacity=\"1\">0</text></g></g><path class=\"foreground\" aria-hidden=\"true\" d=\"\" pointer-events=\"none\" display=\"none\"></path></g><g transform=\"translate(0,13)\"><path class=\"background\" aria-hidden=\"true\" d=\"M0,0h22v11h-22Z\" pointer-events=\"none\" opacity=\"1\"></path><g><g class=\"mark-symbol role-legend-symbol\" pointer-events=\"none\"><path transform=\"translate(6,6)\" d=\"M5,0A5,5,0,1,1,-5,0A5,5,0,1,1,5,0\" fill=\"#f58518\" stroke-width=\"1.5\" opacity=\"0.7\"></path></g><g class=\"mark-text role-legend-label\" pointer-events=\"none\"><text text-anchor=\"start\" transform=\"translate(16,9)\" font-family=\"sans-serif\" font-size=\"10px\" fill=\"#000\" opacity=\"1\">1</text></g></g><path class=\"foreground\" aria-hidden=\"true\" d=\"\" pointer-events=\"none\" display=\"none\"></path></g></g></g><path class=\"foreground\" aria-hidden=\"true\" d=\"\" pointer-events=\"none\" display=\"none\"></path></g></g><g class=\"mark-text role-legend-title\" pointer-events=\"none\"><text text-anchor=\"start\" transform=\"translate(0,9)\" font-family=\"sans-serif\" font-size=\"11px\" font-weight=\"bold\" fill=\"#000\" opacity=\"1\">y</text></g></g><path class=\"foreground\" aria-hidden=\"true\" d=\"\" pointer-events=\"none\" display=\"none\"></path></g></g></g><path class=\"foreground\" aria-hidden=\"true\" d=\"\" display=\"none\"></path></g></g></g></svg>\n"
      ],
      "text/plain": [
       "@vlplot(\n",
       "    mark=\"circle\",\n",
       "    encoding={\n",
       "        x={\n",
       "            field=\"x1\"\n",
       "        },\n",
       "        y={\n",
       "            field=\"x2\"\n",
       "        },\n",
       "        color={\n",
       "            field=\"y\",\n",
       "            type=\"nominal\"\n",
       "        }\n",
       "    },\n",
       "    data={\n",
       "        values=...\n",
       "    }\n",
       ")"
      ]
     },
     "execution_count": 39,
     "metadata": {},
     "output_type": "execute_result"
    }
   ],
   "source": [
    "dfHalfCircles |> @vlplot(:circle, x=:x1, y=:x2, color = :\"y:n\") "
   ]
  },
  {
   "cell_type": "markdown",
   "metadata": {},
   "source": [
    "## Regression data generated from noisy linear models\n",
    "\n",
    "```@docs\n",
    "make_regression\n",
    "```"
   ]
  },
  {
   "cell_type": "code",
   "execution_count": 40,
   "metadata": {},
   "outputs": [
    {
     "data": {
      "text/html": [
       "<table class=\"data-frame\"><thead><tr><th></th><th>x1</th><th>x2</th><th>x3</th><th>x4</th><th>x5</th><th>y</th></tr><tr><th></th><th>Float64</th><th>Float64</th><th>Float64</th><th>Float64</th><th>Float64</th><th>Float64</th></tr></thead><tbody><p>3 rows × 6 columns</p><tr><th>1</th><td>0.443821</td><td>0.136731</td><td>-1.10758</td><td>-0.504443</td><td>1.08749</td><td>0.215017</td></tr><tr><th>2</th><td>-0.727496</td><td>0.843299</td><td>0.468311</td><td>-0.922993</td><td>-0.297077</td><td>-0.59015</td></tr><tr><th>3</th><td>-0.412518</td><td>-1.26038</td><td>0.932722</td><td>0.116239</td><td>-0.570425</td><td>-0.712242</td></tr></tbody></table>"
      ],
      "text/latex": [
       "\\begin{tabular}{r|cccccc}\n",
       "\t& x1 & x2 & x3 & x4 & x5 & y\\\\\n",
       "\t\\hline\n",
       "\t& Float64 & Float64 & Float64 & Float64 & Float64 & Float64\\\\\n",
       "\t\\hline\n",
       "\t1 & 0.443821 & 0.136731 & -1.10758 & -0.504443 & 1.08749 & 0.215017 \\\\\n",
       "\t2 & -0.727496 & 0.843299 & 0.468311 & -0.922993 & -0.297077 & -0.59015 \\\\\n",
       "\t3 & -0.412518 & -1.26038 & 0.932722 & 0.116239 & -0.570425 & -0.712242 \\\\\n",
       "\\end{tabular}\n"
      ],
      "text/plain": [
       "3×6 DataFrame\n",
       "│ Row │ x1        │ x2       │ x3       │ x4        │ x5        │ y         │\n",
       "│     │ \u001b[90mFloat64\u001b[39m   │ \u001b[90mFloat64\u001b[39m  │ \u001b[90mFloat64\u001b[39m  │ \u001b[90mFloat64\u001b[39m   │ \u001b[90mFloat64\u001b[39m   │ \u001b[90mFloat64\u001b[39m   │\n",
       "├─────┼───────────┼──────────┼──────────┼───────────┼───────────┼───────────┤\n",
       "│ 1   │ 0.443821  │ 0.136731 │ -1.10758 │ -0.504443 │ 1.08749   │ 0.215017  │\n",
       "│ 2   │ -0.727496 │ 0.843299 │ 0.468311 │ -0.922993 │ -0.297077 │ -0.59015  │\n",
       "│ 3   │ -0.412518 │ -1.26038 │ 0.932722 │ 0.116239  │ -0.570425 │ -0.712242 │"
      ]
     },
     "execution_count": 40,
     "metadata": {},
     "output_type": "execute_result"
    }
   ],
   "source": [
    "X, y = make_regression(100, 5; noise=0.5, sparse=0.2, outliers=0.1)\n",
    "dfRegression = DataFrame(X)\n",
    "dfRegression.y = y\n",
    "first(dfRegression, 3)"
   ]
  },
  {
   "cell_type": "code",
   "execution_count": null,
   "metadata": {},
   "outputs": [],
   "source": []
  }
 ],
 "metadata": {
  "kernelspec": {
   "display_name": "Julia 1.4.2",
   "language": "julia",
   "name": "julia-1.4"
  },
  "language_info": {
   "file_extension": ".jl",
   "mimetype": "application/julia",
   "name": "julia",
   "version": "1.4.2"
  }
 },
 "nbformat": 4,
 "nbformat_minor": 4
}
