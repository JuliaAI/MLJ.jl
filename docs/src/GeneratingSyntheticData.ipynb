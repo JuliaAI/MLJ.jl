{
 "cells": [
  {
   "cell_type": "markdown",
   "metadata": {},
   "source": [
    "# Generating Synthetic Data\n",
    "\n",
    "MLJ has a set of functions that generate random data sets.  They are great for testing machine learning models at design and evaluation time.  "
   ]
  },
  {
   "cell_type": "code",
   "execution_count": 1,
   "metadata": {},
   "outputs": [],
   "source": [
    "using MLJ, VegaLite, DataFrames"
   ]
  },
  {
   "cell_type": "markdown",
   "metadata": {},
   "source": [
    "##  Generating Gaussian Blobs\n",
    "\n",
    "Function **make_blobs** generates gaussian blobs with `n` examples of `p` features. The function returns a `n x p` matrix with the samples and a `n` integer vector indicating the membership of each point.  The function input arguments are:\n",
    "\n",
    "* `shuffle=true`:             whether to shuffle the resulting points,\n",
    "* `centers=3`:                either a number of centers or a `c x p` matrix with `c` pre-determined centers,\n",
    "* `cluster_std=1.0`:          the standard deviation(s) of each blob,\n",
    "* `center_box=(-10. => 10.)`: the limits of the `p`-dimensional cube within which the cluster centers are drawn if they are not provided,\n",
    "\n",
    "**make_blobs** is useful when implementing *K Means* clustering or classification machine learning models."
   ]
  },
  {
   "cell_type": "code",
   "execution_count": 2,
   "metadata": {},
   "outputs": [
    {
     "data": {
      "text/html": [
       "<table class=\"data-frame\"><thead><tr><th></th><th>x1</th><th>x2</th><th>x3</th><th>y</th></tr><tr><th></th><th>Float64</th><th>Float64</th><th>Float64</th><th>Cat…</th></tr></thead><tbody><p>100 rows × 4 columns</p><tr><th>1</th><td>-7.74436</td><td>-7.41381</td><td>-7.16619</td><td>2</td></tr><tr><th>2</th><td>-10.1698</td><td>3.63447</td><td>7.75779</td><td>1</td></tr><tr><th>3</th><td>-9.86996</td><td>2.67568</td><td>6.31162</td><td>1</td></tr><tr><th>4</th><td>-8.56447</td><td>-3.19877</td><td>-2.3163</td><td>2</td></tr><tr><th>5</th><td>-9.05949</td><td>-9.47397</td><td>-6.59931</td><td>2</td></tr><tr><th>6</th><td>-11.2632</td><td>0.66433</td><td>6.75901</td><td>1</td></tr><tr><th>7</th><td>-11.6325</td><td>2.21453</td><td>6.98552</td><td>1</td></tr><tr><th>8</th><td>-4.88984</td><td>-1.13137</td><td>-1.84656</td><td>2</td></tr><tr><th>9</th><td>-10.0913</td><td>3.01985</td><td>5.71275</td><td>1</td></tr><tr><th>10</th><td>-8.6878</td><td>3.31868</td><td>5.23149</td><td>1</td></tr><tr><th>11</th><td>-10.9063</td><td>0.80703</td><td>8.044</td><td>1</td></tr><tr><th>12</th><td>-4.45882</td><td>1.83311</td><td>-11.4264</td><td>2</td></tr><tr><th>13</th><td>-10.7737</td><td>0.297506</td><td>7.01989</td><td>1</td></tr><tr><th>14</th><td>-10.9277</td><td>-5.46064</td><td>-8.67395</td><td>2</td></tr><tr><th>15</th><td>-10.2415</td><td>2.9156</td><td>5.21299</td><td>1</td></tr><tr><th>16</th><td>-11.616</td><td>4.97339</td><td>6.54596</td><td>1</td></tr><tr><th>17</th><td>-10.1356</td><td>-9.86548</td><td>-10.6276</td><td>2</td></tr><tr><th>18</th><td>-8.63415</td><td>2.7181</td><td>6.57057</td><td>1</td></tr><tr><th>19</th><td>-5.61018</td><td>-7.63444</td><td>-5.47453</td><td>2</td></tr><tr><th>20</th><td>-14.0881</td><td>-5.99673</td><td>-5.82388</td><td>2</td></tr><tr><th>21</th><td>-8.48846</td><td>-1.74882</td><td>-0.244755</td><td>2</td></tr><tr><th>22</th><td>-7.13237</td><td>-5.92664</td><td>-6.39231</td><td>2</td></tr><tr><th>23</th><td>-10.0064</td><td>3.05748</td><td>5.58828</td><td>1</td></tr><tr><th>24</th><td>-0.672099</td><td>-5.43033</td><td>-8.02424</td><td>2</td></tr><tr><th>25</th><td>-5.7858</td><td>-10.1216</td><td>-7.15985</td><td>2</td></tr><tr><th>26</th><td>-10.0253</td><td>-6.44395</td><td>-11.6574</td><td>2</td></tr><tr><th>27</th><td>-1.77541</td><td>-5.45647</td><td>-3.064</td><td>2</td></tr><tr><th>28</th><td>-10.0082</td><td>1.7447</td><td>5.7257</td><td>1</td></tr><tr><th>29</th><td>-9.02118</td><td>2.7573</td><td>7.61304</td><td>1</td></tr><tr><th>30</th><td>-11.2822</td><td>4.15664</td><td>3.89134</td><td>1</td></tr><tr><th>&vellip;</th><td>&vellip;</td><td>&vellip;</td><td>&vellip;</td><td>&vellip;</td></tr></tbody></table>"
      ],
      "text/latex": [
       "\\begin{tabular}{r|cccc}\n",
       "\t& x1 & x2 & x3 & y\\\\\n",
       "\t\\hline\n",
       "\t& Float64 & Float64 & Float64 & Cat…\\\\\n",
       "\t\\hline\n",
       "\t1 & -7.74436 & -7.41381 & -7.16619 & 2 \\\\\n",
       "\t2 & -10.1698 & 3.63447 & 7.75779 & 1 \\\\\n",
       "\t3 & -9.86996 & 2.67568 & 6.31162 & 1 \\\\\n",
       "\t4 & -8.56447 & -3.19877 & -2.3163 & 2 \\\\\n",
       "\t5 & -9.05949 & -9.47397 & -6.59931 & 2 \\\\\n",
       "\t6 & -11.2632 & 0.66433 & 6.75901 & 1 \\\\\n",
       "\t7 & -11.6325 & 2.21453 & 6.98552 & 1 \\\\\n",
       "\t8 & -4.88984 & -1.13137 & -1.84656 & 2 \\\\\n",
       "\t9 & -10.0913 & 3.01985 & 5.71275 & 1 \\\\\n",
       "\t10 & -8.6878 & 3.31868 & 5.23149 & 1 \\\\\n",
       "\t11 & -10.9063 & 0.80703 & 8.044 & 1 \\\\\n",
       "\t12 & -4.45882 & 1.83311 & -11.4264 & 2 \\\\\n",
       "\t13 & -10.7737 & 0.297506 & 7.01989 & 1 \\\\\n",
       "\t14 & -10.9277 & -5.46064 & -8.67395 & 2 \\\\\n",
       "\t15 & -10.2415 & 2.9156 & 5.21299 & 1 \\\\\n",
       "\t16 & -11.616 & 4.97339 & 6.54596 & 1 \\\\\n",
       "\t17 & -10.1356 & -9.86548 & -10.6276 & 2 \\\\\n",
       "\t18 & -8.63415 & 2.7181 & 6.57057 & 1 \\\\\n",
       "\t19 & -5.61018 & -7.63444 & -5.47453 & 2 \\\\\n",
       "\t20 & -14.0881 & -5.99673 & -5.82388 & 2 \\\\\n",
       "\t21 & -8.48846 & -1.74882 & -0.244755 & 2 \\\\\n",
       "\t22 & -7.13237 & -5.92664 & -6.39231 & 2 \\\\\n",
       "\t23 & -10.0064 & 3.05748 & 5.58828 & 1 \\\\\n",
       "\t24 & -0.672099 & -5.43033 & -8.02424 & 2 \\\\\n",
       "\t25 & -5.7858 & -10.1216 & -7.15985 & 2 \\\\\n",
       "\t26 & -10.0253 & -6.44395 & -11.6574 & 2 \\\\\n",
       "\t27 & -1.77541 & -5.45647 & -3.064 & 2 \\\\\n",
       "\t28 & -10.0082 & 1.7447 & 5.7257 & 1 \\\\\n",
       "\t29 & -9.02118 & 2.7573 & 7.61304 & 1 \\\\\n",
       "\t30 & -11.2822 & 4.15664 & 3.89134 & 1 \\\\\n",
       "\t$\\dots$ & $\\dots$ & $\\dots$ & $\\dots$ & $\\dots$ \\\\\n",
       "\\end{tabular}\n"
      ],
      "text/plain": [
       "100×4 DataFrame\n",
       "│ Row │ x1       │ x2       │ x3       │ y    │\n",
       "│     │ \u001b[90mFloat64\u001b[39m  │ \u001b[90mFloat64\u001b[39m  │ \u001b[90mFloat64\u001b[39m  │ \u001b[90mCat…\u001b[39m │\n",
       "├─────┼──────────┼──────────┼──────────┼──────┤\n",
       "│ 1   │ -7.74436 │ -7.41381 │ -7.16619 │ 2    │\n",
       "│ 2   │ -10.1698 │ 3.63447  │ 7.75779  │ 1    │\n",
       "│ 3   │ -9.86996 │ 2.67568  │ 6.31162  │ 1    │\n",
       "│ 4   │ -8.56447 │ -3.19877 │ -2.3163  │ 2    │\n",
       "│ 5   │ -9.05949 │ -9.47397 │ -6.59931 │ 2    │\n",
       "│ 6   │ -11.2632 │ 0.66433  │ 6.75901  │ 1    │\n",
       "│ 7   │ -11.6325 │ 2.21453  │ 6.98552  │ 1    │\n",
       "│ 8   │ -4.88984 │ -1.13137 │ -1.84656 │ 2    │\n",
       "│ 9   │ -10.0913 │ 3.01985  │ 5.71275  │ 1    │\n",
       "│ 10  │ -8.6878  │ 3.31868  │ 5.23149  │ 1    │\n",
       "⋮\n",
       "│ 90  │ -9.8404  │ 2.09738  │ 6.59119  │ 1    │\n",
       "│ 91  │ -9.83343 │ 2.62415  │ 5.4454   │ 1    │\n",
       "│ 92  │ -3.54523 │ -3.66929 │ -5.03657 │ 2    │\n",
       "│ 93  │ -4.3064  │ -1.74937 │ -7.08544 │ 2    │\n",
       "│ 94  │ -9.78142 │ 3.15823  │ 8.20369  │ 1    │\n",
       "│ 95  │ -9.55759 │ -2.68455 │ -8.71625 │ 2    │\n",
       "│ 96  │ -10.484  │ 0.776582 │ 7.38036  │ 1    │\n",
       "│ 97  │ -9.23538 │ 3.28074  │ 6.14316  │ 1    │\n",
       "│ 98  │ -2.43528 │ -8.98599 │ -8.21293 │ 2    │\n",
       "│ 99  │ -10.3232 │ 3.25187  │ 4.68819  │ 1    │\n",
       "│ 100 │ -3.31659 │ -7.53147 │ -10.2568 │ 2    │"
      ]
     },
     "execution_count": 2,
     "metadata": {},
     "output_type": "execute_result"
    }
   ],
   "source": [
    "X, y = make_blobs(100, 3; centers=2, cluster_std=[1.0, 3.0])\n",
    "dfBlobs = copy(DataFrame(X))\n",
    "dfBlobs.y = y\n",
    "dfBlobs"
   ]
  },
  {
   "cell_type": "code",
   "execution_count": 3,
   "metadata": {},
   "outputs": [
    {
     "data": {
      "application/vnd.vegalite.v4+json": {
       "data": {
        "values": [
         {
          "x1": -7.744357117489628,
          "x2": -7.4138109129362535,
          "x3": -7.166194358216513,
          "y": 2
         },
         {
          "x1": -10.169766844175568,
          "x2": 3.6344661877804576,
          "x3": 7.757786094075769,
          "y": 1
         },
         {
          "x1": -9.869964805999908,
          "x2": 2.6756827293054566,
          "x3": 6.311618087254873,
          "y": 1
         },
         {
          "x1": -8.564472378795708,
          "x2": -3.198765919324468,
          "x3": -2.3163019243968455,
          "y": 2
         },
         {
          "x1": -9.05949339376285,
          "x2": -9.473974534633498,
          "x3": -6.599313766964218,
          "y": 2
         },
         {
          "x1": -11.263159981274763,
          "x2": 0.6643298460150384,
          "x3": 6.759013730817932,
          "y": 1
         },
         {
          "x1": -11.632512507169118,
          "x2": 2.2145341509992487,
          "x3": 6.985523523021361,
          "y": 1
         },
         {
          "x1": -4.889840857988015,
          "x2": -1.1313668877725078,
          "x3": -1.846562250112366,
          "y": 2
         },
         {
          "x1": -10.091290569064391,
          "x2": 3.019852666927241,
          "x3": 5.712745830125965,
          "y": 1
         },
         {
          "x1": -8.68779505171656,
          "x2": 3.3186846751110046,
          "x3": 5.231489530009867,
          "y": 1
         },
         {
          "x1": -10.906257245773952,
          "x2": 0.8070298945117695,
          "x3": 8.043999452165545,
          "y": 1
         },
         {
          "x1": -4.458821334141107,
          "x2": 1.8331102990342183,
          "x3": -11.426430962372923,
          "y": 2
         },
         {
          "x1": -10.773706803140978,
          "x2": 0.29750567934757965,
          "x3": 7.019894638902764,
          "y": 1
         },
         {
          "x1": -10.927704142205188,
          "x2": -5.4606356237583356,
          "x3": -8.673952156276883,
          "y": 2
         },
         {
          "x1": -10.241456765699098,
          "x2": 2.9155969971770865,
          "x3": 5.212994465429636,
          "y": 1
         },
         {
          "x1": -11.615999029674681,
          "x2": 4.973392946988572,
          "x3": 6.5459641102290265,
          "y": 1
         },
         {
          "x1": -10.135557553639712,
          "x2": -9.865480527735947,
          "x3": -10.627596218724834,
          "y": 2
         },
         {
          "x1": -8.63414629435103,
          "x2": 2.7180950016734604,
          "x3": 6.5705655578865905,
          "y": 1
         },
         {
          "x1": -5.610179887403097,
          "x2": -7.634437924533264,
          "x3": -5.474528644738744,
          "y": 2
         },
         {
          "x1": -14.088080941754423,
          "x2": -5.996732182238524,
          "x3": -5.823879460881249,
          "y": 2
         },
         {
          "x1": -8.488455330669355,
          "x2": -1.7488213739584273,
          "x3": -0.2447553084253551,
          "y": 2
         },
         {
          "x1": -7.132372120438893,
          "x2": -5.926635929139432,
          "x3": -6.392305670027328,
          "y": 2
         },
         {
          "x1": -10.006442711528303,
          "x2": 3.057484602930421,
          "x3": 5.588277655315813,
          "y": 1
         },
         {
          "x1": -0.6720987642701379,
          "x2": -5.4303341042297495,
          "x3": -8.024239222162459,
          "y": 2
         },
         {
          "x1": -5.785800797191217,
          "x2": -10.121604333604305,
          "x3": -7.159853528545678,
          "y": 2
         },
         {
          "x1": -10.025279918603744,
          "x2": -6.443948571149005,
          "x3": -11.657436641095714,
          "y": 2
         },
         {
          "x1": -1.7754103509890085,
          "x2": -5.45647251810803,
          "x3": -3.0640014318034963,
          "y": 2
         },
         {
          "x1": -10.008242256176725,
          "x2": 1.7447034784323288,
          "x3": 5.72570409318265,
          "y": 1
         },
         {
          "x1": -9.021177713771785,
          "x2": 2.7573040346155326,
          "x3": 7.613038638114071,
          "y": 1
         },
         {
          "x1": -11.282169887758437,
          "x2": 4.156637876667006,
          "x3": 3.891344422536236,
          "y": 1
         },
         {
          "x1": -7.563568188842957,
          "x2": -12.57282288377207,
          "x3": -3.149583837625914,
          "y": 2
         },
         {
          "x1": -9.493987232806054,
          "x2": -7.077827731377948,
          "x3": -6.287503095015682,
          "y": 2
         },
         {
          "x1": -5.188343631314885,
          "x2": -2.5182430351464618,
          "x3": -2.0891484351567478,
          "y": 2
         },
         {
          "x1": -4.453242930329344,
          "x2": -1.7111948402047918,
          "x3": -6.309035740141189,
          "y": 2
         },
         {
          "x1": -9.299993047816738,
          "x2": 2.6137496632899593,
          "x3": 6.196511602448849,
          "y": 1
         },
         {
          "x1": -9.050210316000063,
          "x2": -4.861892707125388,
          "x3": -5.835471935138019,
          "y": 2
         },
         {
          "x1": -10.292142902713817,
          "x2": 3.013936921354623,
          "x3": 7.475881274490196,
          "y": 1
         },
         {
          "x1": -9.5424633383346,
          "x2": 1.8856922693998333,
          "x3": 6.308620696791144,
          "y": 1
         },
         {
          "x1": -40.334465797622016,
          "x2": 1.4742473808691612,
          "x3": 7.939391799000627,
          "y": 1
         },
         {
          "x1": -9.60717131364403,
          "x2": 3.2636093164647098,
          "x3": 3.4411907904542685,
          "y": 1
         },
         {
          "x1": -16.001641815641804,
          "x2": -8.821133583006468,
          "x3": -4.468166696037173,
          "y": 2
         },
         {
          "x1": -8.846624942997956,
          "x2": -5.324986854199555,
          "x3": -9.893365760606088,
          "y": 2
         },
         {
          "x1": -8.779750053349362,
          "x2": 2.8228603242772388,
          "x3": 7.667568424616271,
          "y": 1
         },
         {
          "x1": -9.267126816787947,
          "x2": 2.4690203552459398,
          "x3": 6.138196385081673,
          "y": 1
         },
         {
          "x1": -12.454353090400318,
          "x2": -9.161344526468774,
          "x3": -3.3500611511484415,
          "y": 2
         },
         {
          "x1": -9.97654680240407,
          "x2": 3.4262131660580497,
          "x3": 5.495922254214468,
          "y": 1
         },
         {
          "x1": -10.104512561149939,
          "x2": 2.3353619078157712,
          "x3": 5.762921210128058,
          "y": 1
         },
         {
          "x1": -9.724194663534929,
          "x2": 2.0532914251187124,
          "x3": 6.1122904751917515,
          "y": 1
         },
         {
          "x1": -7.910344669499037,
          "x2": 3.316211153438866,
          "x3": 6.2720049230893995,
          "y": 1
         },
         {
          "x1": -11.493598805895438,
          "x2": 2.498979906801947,
          "x3": 6.941694463149649,
          "y": 1
         },
         {
          "x1": -11.375682878932267,
          "x2": 3.1305669084514975,
          "x3": 4.334556212620098,
          "y": 1
         },
         {
          "x1": -5.645232299734359,
          "x2": -4.894192613423472,
          "x3": -0.7295138440706914,
          "y": 2
         },
         {
          "x1": -6.440505141067281,
          "x2": -4.193271802041831,
          "x3": -3.997401115418274,
          "y": 2
         },
         {
          "x1": -4.608031711330796,
          "x2": -8.832365831595478,
          "x3": -9.560826874328644,
          "y": 2
         },
         {
          "x1": -15.663928035168151,
          "x2": -3.7371891871347906,
          "x3": -0.553988264450588,
          "y": 2
         },
         {
          "x1": -9.65401692650232,
          "x2": 1.7589420309224513,
          "x3": 5.936214262766114,
          "y": 1
         },
         {
          "x1": -8.423068391297583,
          "x2": 0.14180530015322734,
          "x3": -3.1663012600418634,
          "y": 2
         },
         {
          "x1": -7.409215473838609,
          "x2": -10.307269228072492,
          "x3": -4.859127546492246,
          "y": 2
         },
         {
          "x1": -6.989262417032678,
          "x2": -8.284166544911693,
          "x3": -5.849796752481096,
          "y": 2
         },
         {
          "x1": -9.569084285646124,
          "x2": -2.2148561259778936,
          "x3": -6.9920962150057715,
          "y": 2
         },
         {
          "x1": -10.074421400529069,
          "x2": 3.2704619074358825,
          "x3": 6.643965616016228,
          "y": 1
         },
         {
          "x1": -11.944685863079256,
          "x2": 3.500629603804035,
          "x3": 5.166155560550053,
          "y": 1
         },
         {
          "x1": -7.487670822901118,
          "x2": -5.4231949887646085,
          "x3": -4.141644415083665,
          "y": 2
         },
         {
          "x1": -10.08464490308583,
          "x2": 1.0828868315314024,
          "x3": 5.0845910788439435,
          "y": 1
         },
         {
          "x1": -4.723058033740246,
          "x2": 0.5208206822747519,
          "x3": -2.972925305411678,
          "y": 2
         },
         {
          "x1": -8.16364346545905,
          "x2": -6.064970722613774,
          "x3": -10.636855540025143,
          "y": 2
         },
         {
          "x1": -9.920885043425113,
          "x2": 2.976729912343461,
          "x3": 5.2390586176268075,
          "y": 1
         },
         {
          "x1": -9.706026104144845,
          "x2": -0.5145427267946996,
          "x3": -6.6261186415764675,
          "y": 2
         },
         {
          "x1": -8.881080184276396,
          "x2": 1.601079831228225,
          "x3": 5.220758373994436,
          "y": 1
         },
         {
          "x1": -9.331811122039513,
          "x2": 2.7703449873891124,
          "x3": 5.133122942743255,
          "y": 1
         },
         {
          "x1": -2.896950381227848,
          "x2": -8.74791878036524,
          "x3": -7.595516335841603,
          "y": 2
         },
         {
          "x1": -10.851957490052257,
          "x2": 2.841890655356559,
          "x3": 5.796315811754153,
          "y": 1
         },
         {
          "x1": -9.05418266356713,
          "x2": 1.7633261773309525,
          "x3": 5.664132249449129,
          "y": 1
         },
         {
          "x1": -0.32163930105899574,
          "x2": -1.6283998544398512,
          "x3": -11.05332220837737,
          "y": 2
         },
         {
          "x1": -10.56949102193102,
          "x2": 2.3872133521906966,
          "x3": 4.234067898968043,
          "y": 1
         },
         {
          "x1": -6.167017356905161,
          "x2": -3.515218485086649,
          "x3": -5.463847987015179,
          "y": 2
         },
         {
          "x1": -11.123501314379325,
          "x2": 1.8743852626981437,
          "x3": 6.8382009398087815,
          "y": 1
         },
         {
          "x1": -6.734147946714745,
          "x2": -8.79105822706388,
          "x3": -10.266614782876553,
          "y": 2
         },
         {
          "x1": -9.600563675911388,
          "x2": 3.4476337391436918,
          "x3": 4.7904008906413695,
          "y": 1
         },
         {
          "x1": -6.067746035151045,
          "x2": -7.5094035753457975,
          "x3": -7.626689668426885,
          "y": 2
         },
         {
          "x1": -3.6755635000529283,
          "x2": -10.368930018678228,
          "x3": -3.013651871413346,
          "y": 2
         },
         {
          "x1": -7.4484261451513705,
          "x2": -2.261690161776597,
          "x3": -4.131262069440472,
          "y": 2
         },
         {
          "x1": -5.780819253610448,
          "x2": -0.8912753275471239,
          "x3": -4.328173456676059,
          "y": 2
         },
         {
          "x1": -9.066720749206361,
          "x2": 2.3366220437731084,
          "x3": 6.581199254817836,
          "y": 1
         },
         {
          "x1": -8.82424720390671,
          "x2": 3.278806640962209,
          "x3": 6.770695471539436,
          "y": 1
         },
         {
          "x1": -10.982270663120008,
          "x2": -1.9290417141742031,
          "x3": -1.1815925505192677,
          "y": 2
         },
         {
          "x1": -10.145938505025892,
          "x2": 3.4497183888492886,
          "x3": 4.925364683020873,
          "y": 1
         },
         {
          "x1": -7.342408768909384,
          "x2": -6.757663331844414,
          "x3": -9.733810036653699,
          "y": 2
         },
         {
          "x1": -10.13222632878899,
          "x2": 3.365957033705346,
          "x3": 5.991134778107864,
          "y": 1
         },
         {
          "x1": -9.84039954992125,
          "x2": 2.0973829790831524,
          "x3": 6.591194644207802,
          "y": 1
         },
         {
          "x1": -9.833425970860716,
          "x2": 2.624152959868903,
          "x3": 5.4453961812535585,
          "y": 1
         },
         {
          "x1": -3.5452278939302566,
          "x2": -3.6692891269272745,
          "x3": -5.036568907183964,
          "y": 2
         },
         {
          "x1": -4.306396059870429,
          "x2": -1.7493689193623907,
          "x3": -7.085435960116231,
          "y": 2
         },
         {
          "x1": -9.781417871069223,
          "x2": 3.1582328457733606,
          "x3": 8.203693653845749,
          "y": 1
         },
         {
          "x1": -9.55758668275099,
          "x2": -2.6845489847088326,
          "x3": -8.716252551879638,
          "y": 2
         },
         {
          "x1": -10.48399657529093,
          "x2": 0.77658205561337,
          "x3": 7.380359037136062,
          "y": 1
         },
         {
          "x1": -9.235383409417729,
          "x2": 3.280735466623714,
          "x3": 6.143161492997659,
          "y": 1
         },
         {
          "x1": -2.4352754405049915,
          "x2": -8.985989587941924,
          "x3": -8.212928165951048,
          "y": 2
         },
         {
          "x1": -10.323213365988764,
          "x2": 3.2518653504487984,
          "x3": 4.688190316139308,
          "y": 1
         },
         {
          "x1": -3.316588180341868,
          "x2": -7.531468373919796,
          "x3": -10.256838902550568,
          "y": 2
         }
        ]
       },
       "encoding": {
        "color": {
         "field": "y",
         "type": "nominal"
        },
        "x": {
         "field": "x1",
         "type": "quantitative"
        },
        "y": {
         "field": "x2",
         "type": "quantitative"
        }
       },
       "mark": "point"
      },
      "image/png": "[encoded data removed]",
      "image/svg+xml": [
       "<?xml version=\"1.0\" encoding=\"utf-8\"?>\n",
       "<!DOCTYPE svg PUBLIC \"-//W3C//DTD SVG 1.1//EN\" \"http://www.w3.org/Graphics/SVG/1.1/DTD/svg11.dtd\">\n",
       "<svg class=\"marks\" width=\"285\" height=\"242\" viewBox=\"0 0 285 242\" version=\"1.1\" xmlns=\"http://www.w3.org/2000/svg\" xmlns:xlink=\"http://www.w3.org/1999/xlink\"><rect width=\"285\" height=\"242\" fill=\"white\"></rect><g fill=\"none\" stroke-miterlimit=\"10\" transform=\"translate(41,5)\"><g class=\"mark-group role-frame root\" role=\"graphics-object\" aria-roledescription=\"group mark container\"><g transform=\"translate(0,0)\"><path class=\"background\" aria-hidden=\"true\" d=\"M0.5,0.5h200v200h-200Z\" stroke=\"#ddd\"></path><g><g class=\"mark-group role-axis\" aria-hidden=\"true\"><g transform=\"translate(0.5,200.5)\"><path class=\"background\" aria-hidden=\"true\" d=\"M0,0h0v0h0Z\" pointer-events=\"none\"></path><g><g class=\"mark-rule role-axis-grid\" pointer-events=\"none\"><line transform=\"translate(22,-200)\" x2=\"0\" y2=\"200\" stroke=\"#ddd\" stroke-width=\"1\" opacity=\"1\"></line><line transform=\"translate(67,-200)\" x2=\"0\" y2=\"200\" stroke=\"#ddd\" stroke-width=\"1\" opacity=\"1\"></line><line transform=\"translate(111,-200)\" x2=\"0\" y2=\"200\" stroke=\"#ddd\" stroke-width=\"1\" opacity=\"1\"></line><line transform=\"translate(156,-200)\" x2=\"0\" y2=\"200\" stroke=\"#ddd\" stroke-width=\"1\" opacity=\"1\"></line><line transform=\"translate(200,-200)\" x2=\"0\" y2=\"200\" stroke=\"#ddd\" stroke-width=\"1\" opacity=\"1\"></line></g></g><path class=\"foreground\" aria-hidden=\"true\" d=\"\" pointer-events=\"none\" display=\"none\"></path></g></g><g class=\"mark-group role-axis\" aria-hidden=\"true\"><g transform=\"translate(0.5,0.5)\"><path class=\"background\" aria-hidden=\"true\" d=\"M0,0h0v0h0Z\" pointer-events=\"none\"></path><g><g class=\"mark-rule role-axis-grid\" pointer-events=\"none\"><line transform=\"translate(0,160)\" x2=\"200\" y2=\"0\" stroke=\"#ddd\" stroke-width=\"1\" opacity=\"1\"></line><line transform=\"translate(0,110)\" x2=\"200\" y2=\"0\" stroke=\"#ddd\" stroke-width=\"1\" opacity=\"1\"></line><line transform=\"translate(0,60)\" x2=\"200\" y2=\"0\" stroke=\"#ddd\" stroke-width=\"1\" opacity=\"1\"></line><line transform=\"translate(0,10)\" x2=\"200\" y2=\"0\" stroke=\"#ddd\" stroke-width=\"1\" opacity=\"1\"></line></g></g><path class=\"foreground\" aria-hidden=\"true\" d=\"\" pointer-events=\"none\" display=\"none\"></path></g></g><g class=\"mark-group role-axis\" role=\"graphics-symbol\" aria-roledescription=\"axis\" aria-label=\"X-axis titled 'x1' for a linear scale with values from -45 to 0\"><g transform=\"translate(0.5,200.5)\"><path class=\"background\" aria-hidden=\"true\" d=\"M0,0h0v0h0Z\" pointer-events=\"none\"></path><g><g class=\"mark-rule role-axis-tick\" pointer-events=\"none\"><line transform=\"translate(22,0)\" x2=\"0\" y2=\"5\" stroke=\"#888\" stroke-width=\"1\" opacity=\"1\"></line><line transform=\"translate(67,0)\" x2=\"0\" y2=\"5\" stroke=\"#888\" stroke-width=\"1\" opacity=\"1\"></line><line transform=\"translate(111,0)\" x2=\"0\" y2=\"5\" stroke=\"#888\" stroke-width=\"1\" opacity=\"1\"></line><line transform=\"translate(156,0)\" x2=\"0\" y2=\"5\" stroke=\"#888\" stroke-width=\"1\" opacity=\"1\"></line><line transform=\"translate(200,0)\" x2=\"0\" y2=\"5\" stroke=\"#888\" stroke-width=\"1\" opacity=\"1\"></line></g><g class=\"mark-text role-axis-label\" pointer-events=\"none\"><text text-anchor=\"middle\" transform=\"translate(22.22222222222222,15)\" font-family=\"sans-serif\" font-size=\"10px\" fill=\"#000\" opacity=\"1\">-40</text><text text-anchor=\"middle\" transform=\"translate(66.66666666666666,15)\" font-family=\"sans-serif\" font-size=\"10px\" fill=\"#000\" opacity=\"1\">-30</text><text text-anchor=\"middle\" transform=\"translate(111.11111111111111,15)\" font-family=\"sans-serif\" font-size=\"10px\" fill=\"#000\" opacity=\"1\">-20</text><text text-anchor=\"middle\" transform=\"translate(155.55555555555557,15)\" font-family=\"sans-serif\" font-size=\"10px\" fill=\"#000\" opacity=\"1\">-10</text><text text-anchor=\"end\" transform=\"translate(200,15)\" font-family=\"sans-serif\" font-size=\"10px\" fill=\"#000\" opacity=\"1\">0</text></g><g class=\"mark-rule role-axis-domain\" pointer-events=\"none\"><line transform=\"translate(0,0)\" x2=\"200\" y2=\"0\" stroke=\"#888\" stroke-width=\"1\" opacity=\"1\"></line></g><g class=\"mark-text role-axis-title\" pointer-events=\"none\"><text text-anchor=\"middle\" transform=\"translate(100,30)\" font-family=\"sans-serif\" font-size=\"11px\" font-weight=\"bold\" fill=\"#000\" opacity=\"1\">x1</text></g></g><path class=\"foreground\" aria-hidden=\"true\" d=\"\" pointer-events=\"none\" display=\"none\"></path></g></g><g class=\"mark-group role-axis\" role=\"graphics-symbol\" aria-roledescription=\"axis\" aria-label=\"Y-axis titled 'x2' for a linear scale with values from -14 to 6\"><g transform=\"translate(0.5,0.5)\"><path class=\"background\" aria-hidden=\"true\" d=\"M0,0h0v0h0Z\" pointer-events=\"none\"></path><g><g class=\"mark-rule role-axis-tick\" pointer-events=\"none\"><line transform=\"translate(0,160)\" x2=\"-5\" y2=\"0\" stroke=\"#888\" stroke-width=\"1\" opacity=\"1\"></line><line transform=\"translate(0,110)\" x2=\"-5\" y2=\"0\" stroke=\"#888\" stroke-width=\"1\" opacity=\"1\"></line><line transform=\"translate(0,60)\" x2=\"-5\" y2=\"0\" stroke=\"#888\" stroke-width=\"1\" opacity=\"1\"></line><line transform=\"translate(0,10)\" x2=\"-5\" y2=\"0\" stroke=\"#888\" stroke-width=\"1\" opacity=\"1\"></line></g><g class=\"mark-text role-axis-label\" pointer-events=\"none\"><text text-anchor=\"end\" transform=\"translate(-7,163)\" font-family=\"sans-serif\" font-size=\"10px\" fill=\"#000\" opacity=\"1\">-10</text><text text-anchor=\"end\" transform=\"translate(-7,113.00000000000001)\" font-family=\"sans-serif\" font-size=\"10px\" fill=\"#000\" opacity=\"1\">-5</text><text text-anchor=\"end\" transform=\"translate(-7,63.00000000000001)\" font-family=\"sans-serif\" font-size=\"10px\" fill=\"#000\" opacity=\"1\">0</text><text text-anchor=\"end\" transform=\"translate(-7,13.000000000000009)\" font-family=\"sans-serif\" font-size=\"10px\" fill=\"#000\" opacity=\"1\">5</text></g><g class=\"mark-rule role-axis-domain\" pointer-events=\"none\"><line transform=\"translate(0,200)\" x2=\"0\" y2=\"-200\" stroke=\"#888\" stroke-width=\"1\" opacity=\"1\"></line></g><g class=\"mark-text role-axis-title\" pointer-events=\"none\"><text text-anchor=\"middle\" transform=\"translate(-25,100) rotate(-90) translate(0,-2)\" font-family=\"sans-serif\" font-size=\"11px\" font-weight=\"bold\" fill=\"#000\" opacity=\"1\">x2</text></g></g><path class=\"foreground\" aria-hidden=\"true\" d=\"\" pointer-events=\"none\" display=\"none\"></path></g></g><g class=\"mark-symbol role-mark marks\" role=\"graphics-object\" aria-roledescription=\"symbol mark container\"><path aria-label=\"x1: -7.74435711749; x2: -7.41381091294; y: 2\" role=\"graphics-symbol\" aria-roledescription=\"point\" transform=\"translate(165.58063503337942,134.13810912936253)\" d=\"M2.7386127875258306,0A2.7386127875258306,2.7386127875258306,0,1,1,-2.7386127875258306,0A2.7386127875258306,2.7386127875258306,0,1,1,2.7386127875258306,0\" stroke=\"#f58518\" stroke-width=\"2\" opacity=\"0.7\"></path><path aria-label=\"x1: -10.1697668442; x2: 3.63446618778; y: 1\" role=\"graphics-symbol\" aria-roledescription=\"point\" transform=\"translate(154.80103624810857,23.655338122195424)\" d=\"M2.7386127875258306,0A2.7386127875258306,2.7386127875258306,0,1,1,-2.7386127875258306,0A2.7386127875258306,2.7386127875258306,0,1,1,2.7386127875258306,0\" stroke=\"#4c78a8\" stroke-width=\"2\" opacity=\"0.7\"></path><path aria-label=\"x1: -9.869964806; x2: 2.67568272931; y: 1\" role=\"graphics-symbol\" aria-roledescription=\"point\" transform=\"translate(156.1334897511115,33.24317270694544)\" d=\"M2.7386127875258306,0A2.7386127875258306,2.7386127875258306,0,1,1,-2.7386127875258306,0A2.7386127875258306,2.7386127875258306,0,1,1,2.7386127875258306,0\" stroke=\"#4c78a8\" stroke-width=\"2\" opacity=\"0.7\"></path><path aria-label=\"x1: -8.5644723788; x2: -3.19876591932; y: 2\" role=\"graphics-symbol\" aria-roledescription=\"point\" transform=\"translate(161.93567831646354,91.9876591932447)\" d=\"M2.7386127875258306,0A2.7386127875258306,2.7386127875258306,0,1,1,-2.7386127875258306,0A2.7386127875258306,2.7386127875258306,0,1,1,2.7386127875258306,0\" stroke=\"#f58518\" stroke-width=\"2\" opacity=\"0.7\"></path><path aria-label=\"x1: -9.05949339376; x2: -9.47397453463; y: 2\" role=\"graphics-symbol\" aria-roledescription=\"point\" transform=\"translate(159.73558491660955,154.73974534633498)\" d=\"M2.7386127875258306,0A2.7386127875258306,2.7386127875258306,0,1,1,-2.7386127875258306,0A2.7386127875258306,2.7386127875258306,0,1,1,2.7386127875258306,0\" stroke=\"#f58518\" stroke-width=\"2\" opacity=\"0.7\"></path><path aria-label=\"x1: -11.2631599813; x2: 0.664329846015; y: 1\" role=\"graphics-symbol\" aria-roledescription=\"point\" transform=\"translate(149.9415111943344,53.35670153984962)\" d=\"M2.7386127875258306,0A2.7386127875258306,2.7386127875258306,0,1,1,-2.7386127875258306,0A2.7386127875258306,2.7386127875258306,0,1,1,2.7386127875258306,0\" stroke=\"#4c78a8\" stroke-width=\"2\" opacity=\"0.7\"></path><path aria-label=\"x1: -11.6325125072; x2: 2.214534151; y: 1\" role=\"graphics-symbol\" aria-roledescription=\"point\" transform=\"translate(148.2999444125817,37.85465849000751)\" d=\"M2.7386127875258306,0A2.7386127875258306,2.7386127875258306,0,1,1,-2.7386127875258306,0A2.7386127875258306,2.7386127875258306,0,1,1,2.7386127875258306,0\" stroke=\"#4c78a8\" stroke-width=\"2\" opacity=\"0.7\"></path><path aria-label=\"x1: -4.88984085799; x2: -1.13136688777; y: 2\" role=\"graphics-symbol\" aria-roledescription=\"point\" transform=\"translate(178.26737396449772,71.31366887772508)\" d=\"M2.7386127875258306,0A2.7386127875258306,2.7386127875258306,0,1,1,-2.7386127875258306,0A2.7386127875258306,2.7386127875258306,0,1,1,2.7386127875258306,0\" stroke=\"#f58518\" stroke-width=\"2\" opacity=\"0.7\"></path><path aria-label=\"x1: -10.0912905691; x2: 3.01985266693; y: 1\" role=\"graphics-symbol\" aria-roledescription=\"point\" transform=\"translate(155.14981969304716,29.80147333072758)\" d=\"M2.7386127875258306,0A2.7386127875258306,2.7386127875258306,0,1,1,-2.7386127875258306,0A2.7386127875258306,2.7386127875258306,0,1,1,2.7386127875258306,0\" stroke=\"#4c78a8\" stroke-width=\"2\" opacity=\"0.7\"></path><path aria-label=\"x1: -8.68779505172; x2: 3.31868467511; y: 1\" role=\"graphics-symbol\" aria-roledescription=\"point\" transform=\"translate(161.38757754792638,26.813153248889954)\" d=\"M2.7386127875258306,0A2.7386127875258306,2.7386127875258306,0,1,1,-2.7386127875258306,0A2.7386127875258306,2.7386127875258306,0,1,1,2.7386127875258306,0\" stroke=\"#4c78a8\" stroke-width=\"2\" opacity=\"0.7\"></path><path aria-label=\"x1: -10.9062572458; x2: 0.807029894512; y: 1\" role=\"graphics-symbol\" aria-roledescription=\"point\" transform=\"translate(151.52774557433798,51.9297010548823)\" d=\"M2.7386127875258306,0A2.7386127875258306,2.7386127875258306,0,1,1,-2.7386127875258306,0A2.7386127875258306,2.7386127875258306,0,1,1,2.7386127875258306,0\" stroke=\"#4c78a8\" stroke-width=\"2\" opacity=\"0.7\"></path><path aria-label=\"x1: -4.45882133414; x2: 1.83311029903; y: 2\" role=\"graphics-symbol\" aria-roledescription=\"point\" transform=\"translate(180.18301629270618,41.66889700965783)\" d=\"M2.7386127875258306,0A2.7386127875258306,2.7386127875258306,0,1,1,-2.7386127875258306,0A2.7386127875258306,2.7386127875258306,0,1,1,2.7386127875258306,0\" stroke=\"#f58518\" stroke-width=\"2\" opacity=\"0.7\"></path><path aria-label=\"x1: -10.7737068031; x2: 0.297505679348; y: 1\" role=\"graphics-symbol\" aria-roledescription=\"point\" transform=\"translate(152.11685865270675,57.024943206524206)\" d=\"M2.7386127875258306,0A2.7386127875258306,2.7386127875258306,0,1,1,-2.7386127875258306,0A2.7386127875258306,2.7386127875258306,0,1,1,2.7386127875258306,0\" stroke=\"#4c78a8\" stroke-width=\"2\" opacity=\"0.7\"></path><path aria-label=\"x1: -10.9277041422; x2: -5.46063562376; y: 2\" role=\"graphics-symbol\" aria-roledescription=\"point\" transform=\"translate(151.4324260346436,114.60635623758336)\" d=\"M2.7386127875258306,0A2.7386127875258306,2.7386127875258306,0,1,1,-2.7386127875258306,0A2.7386127875258306,2.7386127875258306,0,1,1,2.7386127875258306,0\" stroke=\"#f58518\" stroke-width=\"2\" opacity=\"0.7\"></path><path aria-label=\"x1: -10.2414567657; x2: 2.91559699718; y: 1\" role=\"graphics-symbol\" aria-roledescription=\"point\" transform=\"translate(154.48241437467067,30.84403002822913)\" d=\"M2.7386127875258306,0A2.7386127875258306,2.7386127875258306,0,1,1,-2.7386127875258306,0A2.7386127875258306,2.7386127875258306,0,1,1,2.7386127875258306,0\" stroke=\"#4c78a8\" stroke-width=\"2\" opacity=\"0.7\"></path><path aria-label=\"x1: -11.6159990297; x2: 4.97339294699; y: 1\" role=\"graphics-symbol\" aria-roledescription=\"point\" transform=\"translate(148.3733376458903,10.26607053011428)\" d=\"M2.7386127875258306,0A2.7386127875258306,2.7386127875258306,0,1,1,-2.7386127875258306,0A2.7386127875258306,2.7386127875258306,0,1,1,2.7386127875258306,0\" stroke=\"#4c78a8\" stroke-width=\"2\" opacity=\"0.7\"></path><path aria-label=\"x1: -10.1355575536; x2: -9.86548052774; y: 2\" role=\"graphics-symbol\" aria-roledescription=\"point\" transform=\"translate(154.95307753937905,158.65480527735946)\" d=\"M2.7386127875258306,0A2.7386127875258306,2.7386127875258306,0,1,1,-2.7386127875258306,0A2.7386127875258306,2.7386127875258306,0,1,1,2.7386127875258306,0\" stroke=\"#f58518\" stroke-width=\"2\" opacity=\"0.7\"></path><path aria-label=\"x1: -8.63414629435; x2: 2.71809500167; y: 1\" role=\"graphics-symbol\" aria-roledescription=\"point\" transform=\"translate(161.626016469551,32.819049983265394)\" d=\"M2.7386127875258306,0A2.7386127875258306,2.7386127875258306,0,1,1,-2.7386127875258306,0A2.7386127875258306,2.7386127875258306,0,1,1,2.7386127875258306,0\" stroke=\"#4c78a8\" stroke-width=\"2\" opacity=\"0.7\"></path><path aria-label=\"x1: -5.6101798874; x2: -7.63443792453; y: 2\" role=\"graphics-symbol\" aria-roledescription=\"point\" transform=\"translate(175.06586716709734,136.34437924533265)\" d=\"M2.7386127875258306,0A2.7386127875258306,2.7386127875258306,0,1,1,-2.7386127875258306,0A2.7386127875258306,2.7386127875258306,0,1,1,2.7386127875258306,0\" stroke=\"#f58518\" stroke-width=\"2\" opacity=\"0.7\"></path><path aria-label=\"x1: -14.0880809418; x2: -5.99673218224; y: 2\" role=\"graphics-symbol\" aria-roledescription=\"point\" transform=\"translate(137.3863069255359,119.96732182238526)\" d=\"M2.7386127875258306,0A2.7386127875258306,2.7386127875258306,0,1,1,-2.7386127875258306,0A2.7386127875258306,2.7386127875258306,0,1,1,2.7386127875258306,0\" stroke=\"#f58518\" stroke-width=\"2\" opacity=\"0.7\"></path><path aria-label=\"x1: -8.48845533067; x2: -1.74882137396; y: 2\" role=\"graphics-symbol\" aria-roledescription=\"point\" transform=\"translate(162.27353186369174,77.48821373958428)\" d=\"M2.7386127875258306,0A2.7386127875258306,2.7386127875258306,0,1,1,-2.7386127875258306,0A2.7386127875258306,2.7386127875258306,0,1,1,2.7386127875258306,0\" stroke=\"#f58518\" stroke-width=\"2\" opacity=\"0.7\"></path><path aria-label=\"x1: -7.13237212044; x2: -5.92663592914; y: 2\" role=\"graphics-symbol\" aria-roledescription=\"point\" transform=\"translate(168.30056835360492,119.26635929139434)\" d=\"M2.7386127875258306,0A2.7386127875258306,2.7386127875258306,0,1,1,-2.7386127875258306,0A2.7386127875258306,2.7386127875258306,0,1,1,2.7386127875258306,0\" stroke=\"#f58518\" stroke-width=\"2\" opacity=\"0.7\"></path><path aria-label=\"x1: -10.0064427115; x2: 3.05748460293; y: 1\" role=\"graphics-symbol\" aria-roledescription=\"point\" transform=\"translate(155.52692128209645,29.42515397069578)\" d=\"M2.7386127875258306,0A2.7386127875258306,2.7386127875258306,0,1,1,-2.7386127875258306,0A2.7386127875258306,2.7386127875258306,0,1,1,2.7386127875258306,0\" stroke=\"#4c78a8\" stroke-width=\"2\" opacity=\"0.7\"></path><path aria-label=\"x1: -0.67209876427; x2: -5.43033410423; y: 2\" role=\"graphics-symbol\" aria-roledescription=\"point\" transform=\"translate(197.0128943810216,114.30334104229752)\" d=\"M2.7386127875258306,0A2.7386127875258306,2.7386127875258306,0,1,1,-2.7386127875258306,0A2.7386127875258306,2.7386127875258306,0,1,1,2.7386127875258306,0\" stroke=\"#f58518\" stroke-width=\"2\" opacity=\"0.7\"></path><path aria-label=\"x1: -5.78580079719; x2: -10.1216043336; y: 2\" role=\"graphics-symbol\" aria-roledescription=\"point\" transform=\"translate(174.28532979026127,161.21604333604304)\" d=\"M2.7386127875258306,0A2.7386127875258306,2.7386127875258306,0,1,1,-2.7386127875258306,0A2.7386127875258306,2.7386127875258306,0,1,1,2.7386127875258306,0\" stroke=\"#f58518\" stroke-width=\"2\" opacity=\"0.7\"></path><path aria-label=\"x1: -10.0252799186; x2: -6.44394857115; y: 2\" role=\"graphics-symbol\" aria-roledescription=\"point\" transform=\"translate(155.44320036176114,124.43948571149006)\" d=\"M2.7386127875258306,0A2.7386127875258306,2.7386127875258306,0,1,1,-2.7386127875258306,0A2.7386127875258306,2.7386127875258306,0,1,1,2.7386127875258306,0\" stroke=\"#f58518\" stroke-width=\"2\" opacity=\"0.7\"></path><path aria-label=\"x1: -1.77541035099; x2: -5.45647251811; y: 2\" role=\"graphics-symbol\" aria-roledescription=\"point\" transform=\"translate(192.10928732893774,114.56472518108029)\" d=\"M2.7386127875258306,0A2.7386127875258306,2.7386127875258306,0,1,1,-2.7386127875258306,0A2.7386127875258306,2.7386127875258306,0,1,1,2.7386127875258306,0\" stroke=\"#f58518\" stroke-width=\"2\" opacity=\"0.7\"></path><path aria-label=\"x1: -10.0082422562; x2: 1.74470347843; y: 1\" role=\"graphics-symbol\" aria-roledescription=\"point\" transform=\"translate(155.5189233058812,42.55296521567673)\" d=\"M2.7386127875258306,0A2.7386127875258306,2.7386127875258306,0,1,1,-2.7386127875258306,0A2.7386127875258306,2.7386127875258306,0,1,1,2.7386127875258306,0\" stroke=\"#4c78a8\" stroke-width=\"2\" opacity=\"0.7\"></path><path aria-label=\"x1: -9.02117771377; x2: 2.75730403462; y: 1\" role=\"graphics-symbol\" aria-roledescription=\"point\" transform=\"translate(159.90587682768097,32.426959653844676)\" d=\"M2.7386127875258306,0A2.7386127875258306,2.7386127875258306,0,1,1,-2.7386127875258306,0A2.7386127875258306,2.7386127875258306,0,1,1,2.7386127875258306,0\" stroke=\"#4c78a8\" stroke-width=\"2\" opacity=\"0.7\"></path><path aria-label=\"x1: -11.2821698878; x2: 4.15663787667; y: 1\" role=\"graphics-symbol\" aria-roledescription=\"point\" transform=\"translate(149.8570227210736,18.433621233329944)\" d=\"M2.7386127875258306,0A2.7386127875258306,2.7386127875258306,0,1,1,-2.7386127875258306,0A2.7386127875258306,2.7386127875258306,0,1,1,2.7386127875258306,0\" stroke=\"#4c78a8\" stroke-width=\"2\" opacity=\"0.7\"></path><path aria-label=\"x1: -7.56356818884; x2: -12.5728228838; y: 2\" role=\"graphics-symbol\" aria-roledescription=\"point\" transform=\"translate(166.3841413829202,185.72822883772068)\" d=\"M2.7386127875258306,0A2.7386127875258306,2.7386127875258306,0,1,1,-2.7386127875258306,0A2.7386127875258306,2.7386127875258306,0,1,1,2.7386127875258306,0\" stroke=\"#f58518\" stroke-width=\"2\" opacity=\"0.7\"></path><path aria-label=\"x1: -9.49398723281; x2: -7.07782773138; y: 2\" role=\"graphics-symbol\" aria-roledescription=\"point\" transform=\"translate(157.80450118752864,130.77827731377945)\" d=\"M2.7386127875258306,0A2.7386127875258306,2.7386127875258306,0,1,1,-2.7386127875258306,0A2.7386127875258306,2.7386127875258306,0,1,1,2.7386127875258306,0\" stroke=\"#f58518\" stroke-width=\"2\" opacity=\"0.7\"></path><path aria-label=\"x1: -5.18834363131; x2: -2.51824303515; y: 2\" role=\"graphics-symbol\" aria-roledescription=\"point\" transform=\"translate(176.94069497193382,85.18243035146462)\" d=\"M2.7386127875258306,0A2.7386127875258306,2.7386127875258306,0,1,1,-2.7386127875258306,0A2.7386127875258306,2.7386127875258306,0,1,1,2.7386127875258306,0\" stroke=\"#f58518\" stroke-width=\"2\" opacity=\"0.7\"></path><path aria-label=\"x1: -4.45324293033; x2: -1.7111948402; y: 2\" role=\"graphics-symbol\" aria-roledescription=\"point\" transform=\"translate(180.20780919853624,77.11194840204791)\" d=\"M2.7386127875258306,0A2.7386127875258306,2.7386127875258306,0,1,1,-2.7386127875258306,0A2.7386127875258306,2.7386127875258306,0,1,1,2.7386127875258306,0\" stroke=\"#f58518\" stroke-width=\"2\" opacity=\"0.7\"></path><path aria-label=\"x1: -9.29999304782; x2: 2.61374966329; y: 1\" role=\"graphics-symbol\" aria-roledescription=\"point\" transform=\"translate(158.66669756525894,33.862503367100416)\" d=\"M2.7386127875258306,0A2.7386127875258306,2.7386127875258306,0,1,1,-2.7386127875258306,0A2.7386127875258306,2.7386127875258306,0,1,1,2.7386127875258306,0\" stroke=\"#4c78a8\" stroke-width=\"2\" opacity=\"0.7\"></path><path aria-label=\"x1: -9.050210316; x2: -4.86189270713; y: 2\" role=\"graphics-symbol\" aria-roledescription=\"point\" transform=\"translate(159.77684303999973,108.61892707125389)\" d=\"M2.7386127875258306,0A2.7386127875258306,2.7386127875258306,0,1,1,-2.7386127875258306,0A2.7386127875258306,2.7386127875258306,0,1,1,2.7386127875258306,0\" stroke=\"#f58518\" stroke-width=\"2\" opacity=\"0.7\"></path><path aria-label=\"x1: -10.2921429027; x2: 3.01393692135; y: 1\" role=\"graphics-symbol\" aria-roledescription=\"point\" transform=\"translate(154.25714265460525,29.860630786453758)\" d=\"M2.7386127875258306,0A2.7386127875258306,2.7386127875258306,0,1,1,-2.7386127875258306,0A2.7386127875258306,2.7386127875258306,0,1,1,2.7386127875258306,0\" stroke=\"#4c78a8\" stroke-width=\"2\" opacity=\"0.7\"></path><path aria-label=\"x1: -9.54246333833; x2: 1.8856922694; y: 1\" role=\"graphics-symbol\" aria-roledescription=\"point\" transform=\"translate(157.589051829624,41.143077306001665)\" d=\"M2.7386127875258306,0A2.7386127875258306,2.7386127875258306,0,1,1,-2.7386127875258306,0A2.7386127875258306,2.7386127875258306,0,1,1,2.7386127875258306,0\" stroke=\"#4c78a8\" stroke-width=\"2\" opacity=\"0.7\"></path><path aria-label=\"x1: -40.3344657976; x2: 1.47424738087; y: 1\" role=\"graphics-symbol\" aria-roledescription=\"point\" transform=\"translate(20.735707566124372,45.257526191308386)\" d=\"M2.7386127875258306,0A2.7386127875258306,2.7386127875258306,0,1,1,-2.7386127875258306,0A2.7386127875258306,2.7386127875258306,0,1,1,2.7386127875258306,0\" stroke=\"#4c78a8\" stroke-width=\"2\" opacity=\"0.7\"></path><path aria-label=\"x1: -9.60717131364; x2: 3.26360931646; y: 1\" role=\"graphics-symbol\" aria-roledescription=\"point\" transform=\"translate(157.30146082824876,27.363906835352903)\" d=\"M2.7386127875258306,0A2.7386127875258306,2.7386127875258306,0,1,1,-2.7386127875258306,0A2.7386127875258306,2.7386127875258306,0,1,1,2.7386127875258306,0\" stroke=\"#4c78a8\" stroke-width=\"2\" opacity=\"0.7\"></path><path aria-label=\"x1: -16.0016418156; x2: -8.82113358301; y: 2\" role=\"graphics-symbol\" aria-roledescription=\"point\" transform=\"translate(128.88159193048088,148.21133583006468)\" d=\"M2.7386127875258306,0A2.7386127875258306,2.7386127875258306,0,1,1,-2.7386127875258306,0A2.7386127875258306,2.7386127875258306,0,1,1,2.7386127875258306,0\" stroke=\"#f58518\" stroke-width=\"2\" opacity=\"0.7\"></path><path aria-label=\"x1: -8.846624943; x2: -5.3249868542; y: 2\" role=\"graphics-symbol\" aria-roledescription=\"point\" transform=\"translate(160.6816669200091,113.24986854199554)\" d=\"M2.7386127875258306,0A2.7386127875258306,2.7386127875258306,0,1,1,-2.7386127875258306,0A2.7386127875258306,2.7386127875258306,0,1,1,2.7386127875258306,0\" stroke=\"#f58518\" stroke-width=\"2\" opacity=\"0.7\"></path><path aria-label=\"x1: -8.77975005335; x2: 2.82286032428; y: 1\" role=\"graphics-symbol\" aria-roledescription=\"point\" transform=\"translate(160.97888865178064,31.7713967572276)\" d=\"M2.7386127875258306,0A2.7386127875258306,2.7386127875258306,0,1,1,-2.7386127875258306,0A2.7386127875258306,2.7386127875258306,0,1,1,2.7386127875258306,0\" stroke=\"#4c78a8\" stroke-width=\"2\" opacity=\"0.7\"></path><path aria-label=\"x1: -9.26712681679; x2: 2.46902035525; y: 1\" role=\"graphics-symbol\" aria-roledescription=\"point\" transform=\"translate(158.81276970316466,35.30979644754062)\" d=\"M2.7386127875258306,0A2.7386127875258306,2.7386127875258306,0,1,1,-2.7386127875258306,0A2.7386127875258306,2.7386127875258306,0,1,1,2.7386127875258306,0\" stroke=\"#4c78a8\" stroke-width=\"2\" opacity=\"0.7\"></path><path aria-label=\"x1: -12.4543530904; x2: -9.16134452647; y: 2\" role=\"graphics-symbol\" aria-roledescription=\"point\" transform=\"translate(144.6473195982208,151.61344526468775)\" d=\"M2.7386127875258306,0A2.7386127875258306,2.7386127875258306,0,1,1,-2.7386127875258306,0A2.7386127875258306,2.7386127875258306,0,1,1,2.7386127875258306,0\" stroke=\"#f58518\" stroke-width=\"2\" opacity=\"0.7\"></path><path aria-label=\"x1: -9.9765468024; x2: 3.42621316606; y: 1\" role=\"graphics-symbol\" aria-roledescription=\"point\" transform=\"translate(155.65979198931524,25.737868339419514)\" d=\"M2.7386127875258306,0A2.7386127875258306,2.7386127875258306,0,1,1,-2.7386127875258306,0A2.7386127875258306,2.7386127875258306,0,1,1,2.7386127875258306,0\" stroke=\"#4c78a8\" stroke-width=\"2\" opacity=\"0.7\"></path><path aria-label=\"x1: -10.1045125611; x2: 2.33536190782; y: 1\" role=\"graphics-symbol\" aria-roledescription=\"point\" transform=\"translate(155.09105528377805,36.646380921842294)\" d=\"M2.7386127875258306,0A2.7386127875258306,2.7386127875258306,0,1,1,-2.7386127875258306,0A2.7386127875258306,2.7386127875258306,0,1,1,2.7386127875258306,0\" stroke=\"#4c78a8\" stroke-width=\"2\" opacity=\"0.7\"></path><path aria-label=\"x1: -9.72419466353; x2: 2.05329142512; y: 1\" role=\"graphics-symbol\" aria-roledescription=\"point\" transform=\"translate(156.78135705095585,39.46708574881288)\" d=\"M2.7386127875258306,0A2.7386127875258306,2.7386127875258306,0,1,1,-2.7386127875258306,0A2.7386127875258306,2.7386127875258306,0,1,1,2.7386127875258306,0\" stroke=\"#4c78a8\" stroke-width=\"2\" opacity=\"0.7\"></path><path aria-label=\"x1: -7.9103446695; x2: 3.31621115344; y: 1\" role=\"graphics-symbol\" aria-roledescription=\"point\" transform=\"translate(164.84291258000428,26.83788846561135)\" d=\"M2.7386127875258306,0A2.7386127875258306,2.7386127875258306,0,1,1,-2.7386127875258306,0A2.7386127875258306,2.7386127875258306,0,1,1,2.7386127875258306,0\" stroke=\"#4c78a8\" stroke-width=\"2\" opacity=\"0.7\"></path><path aria-label=\"x1: -11.4935988059; x2: 2.4989799068; y: 1\" role=\"graphics-symbol\" aria-roledescription=\"point\" transform=\"translate(148.91733864046472,35.01020093198055)\" d=\"M2.7386127875258306,0A2.7386127875258306,2.7386127875258306,0,1,1,-2.7386127875258306,0A2.7386127875258306,2.7386127875258306,0,1,1,2.7386127875258306,0\" stroke=\"#4c78a8\" stroke-width=\"2\" opacity=\"0.7\"></path><path aria-label=\"x1: -11.3756828789; x2: 3.13056690845; y: 1\" role=\"graphics-symbol\" aria-roledescription=\"point\" transform=\"translate(149.4414094269677,28.69433091548501)\" d=\"M2.7386127875258306,0A2.7386127875258306,2.7386127875258306,0,1,1,-2.7386127875258306,0A2.7386127875258306,2.7386127875258306,0,1,1,2.7386127875258306,0\" stroke=\"#4c78a8\" stroke-width=\"2\" opacity=\"0.7\"></path><path aria-label=\"x1: -5.64523229973; x2: -4.89419261342; y: 2\" role=\"graphics-symbol\" aria-roledescription=\"point\" transform=\"translate(174.9100786678473,108.94192613423472)\" d=\"M2.7386127875258306,0A2.7386127875258306,2.7386127875258306,0,1,1,-2.7386127875258306,0A2.7386127875258306,2.7386127875258306,0,1,1,2.7386127875258306,0\" stroke=\"#f58518\" stroke-width=\"2\" opacity=\"0.7\"></path><path aria-label=\"x1: -6.44050514107; x2: -4.19327180204; y: 2\" role=\"graphics-symbol\" aria-roledescription=\"point\" transform=\"translate(171.37553270636764,101.93271802041832)\" d=\"M2.7386127875258306,0A2.7386127875258306,2.7386127875258306,0,1,1,-2.7386127875258306,0A2.7386127875258306,2.7386127875258306,0,1,1,2.7386127875258306,0\" stroke=\"#f58518\" stroke-width=\"2\" opacity=\"0.7\"></path><path aria-label=\"x1: -4.60803171133; x2: -8.8323658316; y: 2\" role=\"graphics-symbol\" aria-roledescription=\"point\" transform=\"translate(179.51985906075203,148.3236583159548)\" d=\"M2.7386127875258306,0A2.7386127875258306,2.7386127875258306,0,1,1,-2.7386127875258306,0A2.7386127875258306,2.7386127875258306,0,1,1,2.7386127875258306,0\" stroke=\"#f58518\" stroke-width=\"2\" opacity=\"0.7\"></path><path aria-label=\"x1: -15.6639280352; x2: -3.73718918713; y: 2\" role=\"graphics-symbol\" aria-roledescription=\"point\" transform=\"translate(130.38254206591932,97.3718918713479)\" d=\"M2.7386127875258306,0A2.7386127875258306,2.7386127875258306,0,1,1,-2.7386127875258306,0A2.7386127875258306,2.7386127875258306,0,1,1,2.7386127875258306,0\" stroke=\"#f58518\" stroke-width=\"2\" opacity=\"0.7\"></path><path aria-label=\"x1: -9.6540169265; x2: 1.75894203092; y: 1\" role=\"graphics-symbol\" aria-roledescription=\"point\" transform=\"translate(157.09325810443414,42.410579690775485)\" d=\"M2.7386127875258306,0A2.7386127875258306,2.7386127875258306,0,1,1,-2.7386127875258306,0A2.7386127875258306,2.7386127875258306,0,1,1,2.7386127875258306,0\" stroke=\"#4c78a8\" stroke-width=\"2\" opacity=\"0.7\"></path><path aria-label=\"x1: -8.4230683913; x2: 0.141805300153; y: 2\" role=\"graphics-symbol\" aria-roledescription=\"point\" transform=\"translate(162.56414048312183,58.58194699846773)\" d=\"M2.7386127875258306,0A2.7386127875258306,2.7386127875258306,0,1,1,-2.7386127875258306,0A2.7386127875258306,2.7386127875258306,0,1,1,2.7386127875258306,0\" stroke=\"#f58518\" stroke-width=\"2\" opacity=\"0.7\"></path><path aria-label=\"x1: -7.40921547384; x2: -10.3072692281; y: 2\" role=\"graphics-symbol\" aria-roledescription=\"point\" transform=\"translate(167.07015344960618,163.0726922807249)\" d=\"M2.7386127875258306,0A2.7386127875258306,2.7386127875258306,0,1,1,-2.7386127875258306,0A2.7386127875258306,2.7386127875258306,0,1,1,2.7386127875258306,0\" stroke=\"#f58518\" stroke-width=\"2\" opacity=\"0.7\"></path><path aria-label=\"x1: -6.98926241703; x2: -8.28416654491; y: 2\" role=\"graphics-symbol\" aria-roledescription=\"point\" transform=\"translate(168.93661147985478,142.84166544911693)\" d=\"M2.7386127875258306,0A2.7386127875258306,2.7386127875258306,0,1,1,-2.7386127875258306,0A2.7386127875258306,2.7386127875258306,0,1,1,2.7386127875258306,0\" stroke=\"#f58518\" stroke-width=\"2\" opacity=\"0.7\"></path><path aria-label=\"x1: -9.56908428565; x2: -2.21485612598; y: 2\" role=\"graphics-symbol\" aria-roledescription=\"point\" transform=\"translate(157.47073650823944,82.14856125977894)\" d=\"M2.7386127875258306,0A2.7386127875258306,2.7386127875258306,0,1,1,-2.7386127875258306,0A2.7386127875258306,2.7386127875258306,0,1,1,2.7386127875258306,0\" stroke=\"#f58518\" stroke-width=\"2\" opacity=\"0.7\"></path><path aria-label=\"x1: -10.0744214005; x2: 3.27046190744; y: 1\" role=\"graphics-symbol\" aria-roledescription=\"point\" transform=\"translate(155.22479377542635,27.295380925641165)\" d=\"M2.7386127875258306,0A2.7386127875258306,2.7386127875258306,0,1,1,-2.7386127875258306,0A2.7386127875258306,2.7386127875258306,0,1,1,2.7386127875258306,0\" stroke=\"#4c78a8\" stroke-width=\"2\" opacity=\"0.7\"></path><path aria-label=\"x1: -11.9446858631; x2: 3.5006296038; y: 1\" role=\"graphics-symbol\" aria-roledescription=\"point\" transform=\"translate(146.9125072752033,24.993703961959636)\" d=\"M2.7386127875258306,0A2.7386127875258306,2.7386127875258306,0,1,1,-2.7386127875258306,0A2.7386127875258306,2.7386127875258306,0,1,1,2.7386127875258306,0\" stroke=\"#4c78a8\" stroke-width=\"2\" opacity=\"0.7\"></path><path aria-label=\"x1: -7.4876708229; x2: -5.42319498876; y: 2\" role=\"graphics-symbol\" aria-roledescription=\"point\" transform=\"translate(166.72146300932837,114.2319498876461)\" d=\"M2.7386127875258306,0A2.7386127875258306,2.7386127875258306,0,1,1,-2.7386127875258306,0A2.7386127875258306,2.7386127875258306,0,1,1,2.7386127875258306,0\" stroke=\"#f58518\" stroke-width=\"2\" opacity=\"0.7\"></path><path aria-label=\"x1: -10.0846449031; x2: 1.08288683153; y: 1\" role=\"graphics-symbol\" aria-roledescription=\"point\" transform=\"translate(155.1793559862852,49.17113168468599)\" d=\"M2.7386127875258306,0A2.7386127875258306,2.7386127875258306,0,1,1,-2.7386127875258306,0A2.7386127875258306,2.7386127875258306,0,1,1,2.7386127875258306,0\" stroke=\"#4c78a8\" stroke-width=\"2\" opacity=\"0.7\"></path><path aria-label=\"x1: -4.72305803374; x2: 0.520820682275; y: 2\" role=\"graphics-symbol\" aria-roledescription=\"point\" transform=\"translate(179.00863096115447,54.791793177252465)\" d=\"M2.7386127875258306,0A2.7386127875258306,2.7386127875258306,0,1,1,-2.7386127875258306,0A2.7386127875258306,2.7386127875258306,0,1,1,2.7386127875258306,0\" stroke=\"#f58518\" stroke-width=\"2\" opacity=\"0.7\"></path><path aria-label=\"x1: -8.16364346546; x2: -6.06497072261; y: 2\" role=\"graphics-symbol\" aria-roledescription=\"point\" transform=\"translate(163.71714015351534,120.64970722613775)\" d=\"M2.7386127875258306,0A2.7386127875258306,2.7386127875258306,0,1,1,-2.7386127875258306,0A2.7386127875258306,2.7386127875258306,0,1,1,2.7386127875258306,0\" stroke=\"#f58518\" stroke-width=\"2\" opacity=\"0.7\"></path><path aria-label=\"x1: -9.92088504343; x2: 2.97672991234; y: 1\" role=\"graphics-symbol\" aria-roledescription=\"point\" transform=\"translate(155.90717758477726,30.232700876565378)\" d=\"M2.7386127875258306,0A2.7386127875258306,2.7386127875258306,0,1,1,-2.7386127875258306,0A2.7386127875258306,2.7386127875258306,0,1,1,2.7386127875258306,0\" stroke=\"#4c78a8\" stroke-width=\"2\" opacity=\"0.7\"></path><path aria-label=\"x1: -9.70602610414; x2: -0.514542726795; y: 2\" role=\"graphics-symbol\" aria-roledescription=\"point\" transform=\"translate(156.86210620380066,65.14542726794699)\" d=\"M2.7386127875258306,0A2.7386127875258306,2.7386127875258306,0,1,1,-2.7386127875258306,0A2.7386127875258306,2.7386127875258306,0,1,1,2.7386127875258306,0\" stroke=\"#f58518\" stroke-width=\"2\" opacity=\"0.7\"></path><path aria-label=\"x1: -8.88108018428; x2: 1.60107983123; y: 1\" role=\"graphics-symbol\" aria-roledescription=\"point\" transform=\"translate(160.5285325143271,43.98920168771776)\" d=\"M2.7386127875258306,0A2.7386127875258306,2.7386127875258306,0,1,1,-2.7386127875258306,0A2.7386127875258306,2.7386127875258306,0,1,1,2.7386127875258306,0\" stroke=\"#4c78a8\" stroke-width=\"2\" opacity=\"0.7\"></path><path aria-label=\"x1: -9.33181112204; x2: 2.77034498739; y: 1\" role=\"graphics-symbol\" aria-roledescription=\"point\" transform=\"translate(158.52528390204662,32.29655012610888)\" d=\"M2.7386127875258306,0A2.7386127875258306,2.7386127875258306,0,1,1,-2.7386127875258306,0A2.7386127875258306,2.7386127875258306,0,1,1,2.7386127875258306,0\" stroke=\"#4c78a8\" stroke-width=\"2\" opacity=\"0.7\"></path><path aria-label=\"x1: -2.89695038123; x2: -8.74791878037; y: 2\" role=\"graphics-symbol\" aria-roledescription=\"point\" transform=\"translate(187.1246649723207,147.4791878036524)\" d=\"M2.7386127875258306,0A2.7386127875258306,2.7386127875258306,0,1,1,-2.7386127875258306,0A2.7386127875258306,2.7386127875258306,0,1,1,2.7386127875258306,0\" stroke=\"#f58518\" stroke-width=\"2\" opacity=\"0.7\"></path><path aria-label=\"x1: -10.8519574901; x2: 2.84189065536; y: 1\" role=\"graphics-symbol\" aria-roledescription=\"point\" transform=\"translate(151.76907782198995,31.581093446434426)\" d=\"M2.7386127875258306,0A2.7386127875258306,2.7386127875258306,0,1,1,-2.7386127875258306,0A2.7386127875258306,2.7386127875258306,0,1,1,2.7386127875258306,0\" stroke=\"#4c78a8\" stroke-width=\"2\" opacity=\"0.7\"></path><path aria-label=\"x1: -9.05418266357; x2: 1.76332617733; y: 1\" role=\"graphics-symbol\" aria-roledescription=\"point\" transform=\"translate(159.75918816192384,42.36673822669048)\" d=\"M2.7386127875258306,0A2.7386127875258306,2.7386127875258306,0,1,1,-2.7386127875258306,0A2.7386127875258306,2.7386127875258306,0,1,1,2.7386127875258306,0\" stroke=\"#4c78a8\" stroke-width=\"2\" opacity=\"0.7\"></path><path aria-label=\"x1: -0.321639301059; x2: -1.62839985444; y: 2\" role=\"graphics-symbol\" aria-roledescription=\"point\" transform=\"translate(198.57049199529337,76.28399854439851)\" d=\"M2.7386127875258306,0A2.7386127875258306,2.7386127875258306,0,1,1,-2.7386127875258306,0A2.7386127875258306,2.7386127875258306,0,1,1,2.7386127875258306,0\" stroke=\"#f58518\" stroke-width=\"2\" opacity=\"0.7\"></path><path aria-label=\"x1: -10.5694910219; x2: 2.38721335219; y: 1\" role=\"graphics-symbol\" aria-roledescription=\"point\" transform=\"translate(153.02448434697325,36.127866478093054)\" d=\"M2.7386127875258306,0A2.7386127875258306,2.7386127875258306,0,1,1,-2.7386127875258306,0A2.7386127875258306,2.7386127875258306,0,1,1,2.7386127875258306,0\" stroke=\"#4c78a8\" stroke-width=\"2\" opacity=\"0.7\"></path><path aria-label=\"x1: -6.16701735691; x2: -3.51521848509; y: 2\" role=\"graphics-symbol\" aria-roledescription=\"point\" transform=\"translate(172.5910339693104,95.15218485086649)\" d=\"M2.7386127875258306,0A2.7386127875258306,2.7386127875258306,0,1,1,-2.7386127875258306,0A2.7386127875258306,2.7386127875258306,0,1,1,2.7386127875258306,0\" stroke=\"#f58518\" stroke-width=\"2\" opacity=\"0.7\"></path><path aria-label=\"x1: -11.1235013144; x2: 1.8743852627; y: 1\" role=\"graphics-symbol\" aria-roledescription=\"point\" transform=\"translate(150.56221638053634,41.25614737301855)\" d=\"M2.7386127875258306,0A2.7386127875258306,2.7386127875258306,0,1,1,-2.7386127875258306,0A2.7386127875258306,2.7386127875258306,0,1,1,2.7386127875258306,0\" stroke=\"#4c78a8\" stroke-width=\"2\" opacity=\"0.7\"></path><path aria-label=\"x1: -6.73414794671; x2: -8.79105822706; y: 2\" role=\"graphics-symbol\" aria-roledescription=\"point\" transform=\"translate(170.0704535701567,147.9105822706388)\" d=\"M2.7386127875258306,0A2.7386127875258306,2.7386127875258306,0,1,1,-2.7386127875258306,0A2.7386127875258306,2.7386127875258306,0,1,1,2.7386127875258306,0\" stroke=\"#f58518\" stroke-width=\"2\" opacity=\"0.7\"></path><path aria-label=\"x1: -9.60056367591; x2: 3.44763373914; y: 1\" role=\"graphics-symbol\" aria-roledescription=\"point\" transform=\"translate(157.33082810706048,25.523662608563093)\" d=\"M2.7386127875258306,0A2.7386127875258306,2.7386127875258306,0,1,1,-2.7386127875258306,0A2.7386127875258306,2.7386127875258306,0,1,1,2.7386127875258306,0\" stroke=\"#4c78a8\" stroke-width=\"2\" opacity=\"0.7\"></path><path aria-label=\"x1: -6.06774603515; x2: -7.50940357535; y: 2\" role=\"graphics-symbol\" aria-roledescription=\"point\" transform=\"translate(173.03223984377314,135.09403575345797)\" d=\"M2.7386127875258306,0A2.7386127875258306,2.7386127875258306,0,1,1,-2.7386127875258306,0A2.7386127875258306,2.7386127875258306,0,1,1,2.7386127875258306,0\" stroke=\"#f58518\" stroke-width=\"2\" opacity=\"0.7\"></path><path aria-label=\"x1: -3.67556350005; x2: -10.3689300187; y: 2\" role=\"graphics-symbol\" aria-roledescription=\"point\" transform=\"translate(183.66416222198697,163.68930018678228)\" d=\"M2.7386127875258306,0A2.7386127875258306,2.7386127875258306,0,1,1,-2.7386127875258306,0A2.7386127875258306,2.7386127875258306,0,1,1,2.7386127875258306,0\" stroke=\"#f58518\" stroke-width=\"2\" opacity=\"0.7\"></path><path aria-label=\"x1: -7.44842614515; x2: -2.26169016178; y: 2\" role=\"graphics-symbol\" aria-roledescription=\"point\" transform=\"translate(166.89588379932724,82.61690161776598)\" d=\"M2.7386127875258306,0A2.7386127875258306,2.7386127875258306,0,1,1,-2.7386127875258306,0A2.7386127875258306,2.7386127875258306,0,1,1,2.7386127875258306,0\" stroke=\"#f58518\" stroke-width=\"2\" opacity=\"0.7\"></path><path aria-label=\"x1: -5.78081925361; x2: -0.891275327547; y: 2\" role=\"graphics-symbol\" aria-roledescription=\"point\" transform=\"translate(174.30746998395358,68.91275327547123)\" d=\"M2.7386127875258306,0A2.7386127875258306,2.7386127875258306,0,1,1,-2.7386127875258306,0A2.7386127875258306,2.7386127875258306,0,1,1,2.7386127875258306,0\" stroke=\"#f58518\" stroke-width=\"2\" opacity=\"0.7\"></path><path aria-label=\"x1: -9.06672074921; x2: 2.33662204377; y: 1\" role=\"graphics-symbol\" aria-roledescription=\"point\" transform=\"translate(159.7034633368606,36.63377956226892)\" d=\"M2.7386127875258306,0A2.7386127875258306,2.7386127875258306,0,1,1,-2.7386127875258306,0A2.7386127875258306,2.7386127875258306,0,1,1,2.7386127875258306,0\" stroke=\"#4c78a8\" stroke-width=\"2\" opacity=\"0.7\"></path><path aria-label=\"x1: -8.82424720391; x2: 3.27880664096; y: 1\" role=\"graphics-symbol\" aria-roledescription=\"point\" transform=\"translate(160.78112353819242,27.211933590377903)\" d=\"M2.7386127875258306,0A2.7386127875258306,2.7386127875258306,0,1,1,-2.7386127875258306,0A2.7386127875258306,2.7386127875258306,0,1,1,2.7386127875258306,0\" stroke=\"#4c78a8\" stroke-width=\"2\" opacity=\"0.7\"></path><path aria-label=\"x1: -10.9822706631; x2: -1.92904171417; y: 2\" role=\"graphics-symbol\" aria-roledescription=\"point\" transform=\"translate(151.1899081639111,79.29041714174203)\" d=\"M2.7386127875258306,0A2.7386127875258306,2.7386127875258306,0,1,1,-2.7386127875258306,0A2.7386127875258306,2.7386127875258306,0,1,1,2.7386127875258306,0\" stroke=\"#f58518\" stroke-width=\"2\" opacity=\"0.7\"></path><path aria-label=\"x1: -10.145938505; x2: 3.44971838885; y: 1\" role=\"graphics-symbol\" aria-roledescription=\"point\" transform=\"translate(154.9069399776627,25.50281611150713)\" d=\"M2.7386127875258306,0A2.7386127875258306,2.7386127875258306,0,1,1,-2.7386127875258306,0A2.7386127875258306,2.7386127875258306,0,1,1,2.7386127875258306,0\" stroke=\"#4c78a8\" stroke-width=\"2\" opacity=\"0.7\"></path><path aria-label=\"x1: -7.34240876891; x2: -6.75766333184; y: 2\" role=\"graphics-symbol\" aria-roledescription=\"point\" transform=\"translate(167.3670721381805,127.57663331844414)\" d=\"M2.7386127875258306,0A2.7386127875258306,2.7386127875258306,0,1,1,-2.7386127875258306,0A2.7386127875258306,2.7386127875258306,0,1,1,2.7386127875258306,0\" stroke=\"#f58518\" stroke-width=\"2\" opacity=\"0.7\"></path><path aria-label=\"x1: -10.1322263288; x2: 3.36595703371; y: 1\" role=\"graphics-symbol\" aria-roledescription=\"point\" transform=\"translate(154.96788298316005,26.34042966294654)\" d=\"M2.7386127875258306,0A2.7386127875258306,2.7386127875258306,0,1,1,-2.7386127875258306,0A2.7386127875258306,2.7386127875258306,0,1,1,2.7386127875258306,0\" stroke=\"#4c78a8\" stroke-width=\"2\" opacity=\"0.7\"></path><path aria-label=\"x1: -9.84039954992; x2: 2.09738297908; y: 1\" role=\"graphics-symbol\" aria-roledescription=\"point\" transform=\"translate(156.26489088923887,39.026170209168455)\" d=\"M2.7386127875258306,0A2.7386127875258306,2.7386127875258306,0,1,1,-2.7386127875258306,0A2.7386127875258306,2.7386127875258306,0,1,1,2.7386127875258306,0\" stroke=\"#4c78a8\" stroke-width=\"2\" opacity=\"0.7\"></path><path aria-label=\"x1: -9.83342597086; x2: 2.62415295987; y: 1\" role=\"graphics-symbol\" aria-roledescription=\"point\" transform=\"translate(156.29588457395238,33.758470401310994)\" d=\"M2.7386127875258306,0A2.7386127875258306,2.7386127875258306,0,1,1,-2.7386127875258306,0A2.7386127875258306,2.7386127875258306,0,1,1,2.7386127875258306,0\" stroke=\"#4c78a8\" stroke-width=\"2\" opacity=\"0.7\"></path><path aria-label=\"x1: -3.54522789393; x2: -3.66928912693; y: 2\" role=\"graphics-symbol\" aria-roledescription=\"point\" transform=\"translate(184.24343158253217,96.69289126927274)\" d=\"M2.7386127875258306,0A2.7386127875258306,2.7386127875258306,0,1,1,-2.7386127875258306,0A2.7386127875258306,2.7386127875258306,0,1,1,2.7386127875258306,0\" stroke=\"#f58518\" stroke-width=\"2\" opacity=\"0.7\"></path><path aria-label=\"x1: -4.30639605987; x2: -1.74936891936; y: 2\" role=\"graphics-symbol\" aria-roledescription=\"point\" transform=\"translate(180.86046195613142,77.49368919362392)\" d=\"M2.7386127875258306,0A2.7386127875258306,2.7386127875258306,0,1,1,-2.7386127875258306,0A2.7386127875258306,2.7386127875258306,0,1,1,2.7386127875258306,0\" stroke=\"#f58518\" stroke-width=\"2\" opacity=\"0.7\"></path><path aria-label=\"x1: -9.78141787107; x2: 3.15823284577; y: 1\" role=\"graphics-symbol\" aria-roledescription=\"point\" transform=\"translate(156.52703168413677,28.417671542266376)\" d=\"M2.7386127875258306,0A2.7386127875258306,2.7386127875258306,0,1,1,-2.7386127875258306,0A2.7386127875258306,2.7386127875258306,0,1,1,2.7386127875258306,0\" stroke=\"#4c78a8\" stroke-width=\"2\" opacity=\"0.7\"></path><path aria-label=\"x1: -9.55758668275; x2: -2.68454898471; y: 2\" role=\"graphics-symbol\" aria-roledescription=\"point\" transform=\"translate(157.52183696555113,86.84548984708833)\" d=\"M2.7386127875258306,0A2.7386127875258306,2.7386127875258306,0,1,1,-2.7386127875258306,0A2.7386127875258306,2.7386127875258306,0,1,1,2.7386127875258306,0\" stroke=\"#f58518\" stroke-width=\"2\" opacity=\"0.7\"></path><path aria-label=\"x1: -10.4839965753; x2: 0.776582055613; y: 1\" role=\"graphics-symbol\" aria-roledescription=\"point\" transform=\"translate(153.40445966537365,52.2341794438663)\" d=\"M2.7386127875258306,0A2.7386127875258306,2.7386127875258306,0,1,1,-2.7386127875258306,0A2.7386127875258306,2.7386127875258306,0,1,1,2.7386127875258306,0\" stroke=\"#4c78a8\" stroke-width=\"2\" opacity=\"0.7\"></path><path aria-label=\"x1: -9.23538340942; x2: 3.28073546662; y: 1\" role=\"graphics-symbol\" aria-roledescription=\"point\" transform=\"translate(158.953851513699,27.192645333762865)\" d=\"M2.7386127875258306,0A2.7386127875258306,2.7386127875258306,0,1,1,-2.7386127875258306,0A2.7386127875258306,2.7386127875258306,0,1,1,2.7386127875258306,0\" stroke=\"#4c78a8\" stroke-width=\"2\" opacity=\"0.7\"></path><path aria-label=\"x1: -2.4352754405; x2: -8.98598958794; y: 2\" role=\"graphics-symbol\" aria-roledescription=\"point\" transform=\"translate(189.17655359775557,149.85989587941924)\" d=\"M2.7386127875258306,0A2.7386127875258306,2.7386127875258306,0,1,1,-2.7386127875258306,0A2.7386127875258306,2.7386127875258306,0,1,1,2.7386127875258306,0\" stroke=\"#f58518\" stroke-width=\"2\" opacity=\"0.7\"></path><path aria-label=\"x1: -10.323213366; x2: 3.25186535045; y: 1\" role=\"graphics-symbol\" aria-roledescription=\"point\" transform=\"translate(154.1190517067166,27.481346495512014)\" d=\"M2.7386127875258306,0A2.7386127875258306,2.7386127875258306,0,1,1,-2.7386127875258306,0A2.7386127875258306,2.7386127875258306,0,1,1,2.7386127875258306,0\" stroke=\"#4c78a8\" stroke-width=\"2\" opacity=\"0.7\"></path><path aria-label=\"x1: -3.31658818034; x2: -7.53146837392; y: 2\" role=\"graphics-symbol\" aria-roledescription=\"point\" transform=\"translate(185.2596080873695,135.31468373919796)\" d=\"M2.7386127875258306,0A2.7386127875258306,2.7386127875258306,0,1,1,-2.7386127875258306,0A2.7386127875258306,2.7386127875258306,0,1,1,2.7386127875258306,0\" stroke=\"#f58518\" stroke-width=\"2\" opacity=\"0.7\"></path></g><g class=\"mark-group role-legend\" role=\"graphics-symbol\" aria-roledescription=\"legend\" aria-label=\"Symbol legend titled 'y' for stroke color with 2 values: 1, 2\"><g transform=\"translate(218,0)\"><path class=\"background\" aria-hidden=\"true\" d=\"M0,0h21v45h-21Z\" pointer-events=\"none\"></path><g><g class=\"mark-group role-legend-entry\"><g transform=\"translate(0,16)\"><path class=\"background\" aria-hidden=\"true\" d=\"M0,0h0v0h0Z\" pointer-events=\"none\"></path><g><g class=\"mark-group role-scope\" role=\"graphics-object\" aria-roledescription=\"group mark container\"><g transform=\"translate(0,0)\"><path class=\"background\" aria-hidden=\"true\" d=\"M0,0h21v12.5h-21Z\" pointer-events=\"none\" opacity=\"1\"></path><g><g class=\"mark-symbol role-legend-symbol\" pointer-events=\"none\"><path transform=\"translate(6,6)\" d=\"M5,0A5,5,0,1,1,-5,0A5,5,0,1,1,5,0\" stroke=\"#4c78a8\" stroke-width=\"1.5\" opacity=\"0.7\"></path></g><g class=\"mark-text role-legend-label\" pointer-events=\"none\"><text text-anchor=\"start\" transform=\"translate(16,9)\" font-family=\"sans-serif\" font-size=\"10px\" fill=\"#000\" opacity=\"1\">1</text></g></g><path class=\"foreground\" aria-hidden=\"true\" d=\"\" pointer-events=\"none\" display=\"none\"></path></g><g transform=\"translate(0,16)\"><path class=\"background\" aria-hidden=\"true\" d=\"M0,0h21v12.5h-21Z\" pointer-events=\"none\" opacity=\"1\"></path><g><g class=\"mark-symbol role-legend-symbol\" pointer-events=\"none\"><path transform=\"translate(6,6)\" d=\"M5,0A5,5,0,1,1,-5,0A5,5,0,1,1,5,0\" stroke=\"#f58518\" stroke-width=\"1.5\" opacity=\"0.7\"></path></g><g class=\"mark-text role-legend-label\" pointer-events=\"none\"><text text-anchor=\"start\" transform=\"translate(16,9)\" font-family=\"sans-serif\" font-size=\"10px\" fill=\"#000\" opacity=\"1\">2</text></g></g><path class=\"foreground\" aria-hidden=\"true\" d=\"\" pointer-events=\"none\" display=\"none\"></path></g></g></g><path class=\"foreground\" aria-hidden=\"true\" d=\"\" pointer-events=\"none\" display=\"none\"></path></g></g><g class=\"mark-text role-legend-title\" pointer-events=\"none\"><text text-anchor=\"start\" transform=\"translate(0,9)\" font-family=\"sans-serif\" font-size=\"11px\" font-weight=\"bold\" fill=\"#000\" opacity=\"1\">y</text></g></g><path class=\"foreground\" aria-hidden=\"true\" d=\"\" pointer-events=\"none\" display=\"none\"></path></g></g></g><path class=\"foreground\" aria-hidden=\"true\" d=\"\" display=\"none\"></path></g></g></g></svg>\n"
      ],
      "text/plain": [
       "@vlplot(\n",
       "    mark=\"point\",\n",
       "    encoding={\n",
       "        x={\n",
       "            field=\"x1\"\n",
       "        },\n",
       "        y={\n",
       "            field=\"x2\"\n",
       "        },\n",
       "        color={\n",
       "            field=\"y\",\n",
       "            type=\"nominal\"\n",
       "        }\n",
       "    },\n",
       "    data={\n",
       "        values=...\n",
       "    }\n",
       ")"
      ]
     },
     "execution_count": 3,
     "metadata": {},
     "output_type": "execute_result"
    }
   ],
   "source": [
    "dfBlobs |> @vlplot(:point, x=:x1, y=:x2, color = :\"y:n\") "
   ]
  },
  {
   "cell_type": "code",
   "execution_count": 4,
   "metadata": {},
   "outputs": [
    {
     "data": {
      "application/vnd.vegalite.v4+json": {
       "data": {
        "values": [
         {
          "x1": -7.744357117489628,
          "x2": -7.4138109129362535,
          "x3": -7.166194358216513,
          "y": 2
         },
         {
          "x1": -10.169766844175568,
          "x2": 3.6344661877804576,
          "x3": 7.757786094075769,
          "y": 1
         },
         {
          "x1": -9.869964805999908,
          "x2": 2.6756827293054566,
          "x3": 6.311618087254873,
          "y": 1
         },
         {
          "x1": -8.564472378795708,
          "x2": -3.198765919324468,
          "x3": -2.3163019243968455,
          "y": 2
         },
         {
          "x1": -9.05949339376285,
          "x2": -9.473974534633498,
          "x3": -6.599313766964218,
          "y": 2
         },
         {
          "x1": -11.263159981274763,
          "x2": 0.6643298460150384,
          "x3": 6.759013730817932,
          "y": 1
         },
         {
          "x1": -11.632512507169118,
          "x2": 2.2145341509992487,
          "x3": 6.985523523021361,
          "y": 1
         },
         {
          "x1": -4.889840857988015,
          "x2": -1.1313668877725078,
          "x3": -1.846562250112366,
          "y": 2
         },
         {
          "x1": -10.091290569064391,
          "x2": 3.019852666927241,
          "x3": 5.712745830125965,
          "y": 1
         },
         {
          "x1": -8.68779505171656,
          "x2": 3.3186846751110046,
          "x3": 5.231489530009867,
          "y": 1
         },
         {
          "x1": -10.906257245773952,
          "x2": 0.8070298945117695,
          "x3": 8.043999452165545,
          "y": 1
         },
         {
          "x1": -4.458821334141107,
          "x2": 1.8331102990342183,
          "x3": -11.426430962372923,
          "y": 2
         },
         {
          "x1": -10.773706803140978,
          "x2": 0.29750567934757965,
          "x3": 7.019894638902764,
          "y": 1
         },
         {
          "x1": -10.927704142205188,
          "x2": -5.4606356237583356,
          "x3": -8.673952156276883,
          "y": 2
         },
         {
          "x1": -10.241456765699098,
          "x2": 2.9155969971770865,
          "x3": 5.212994465429636,
          "y": 1
         },
         {
          "x1": -11.615999029674681,
          "x2": 4.973392946988572,
          "x3": 6.5459641102290265,
          "y": 1
         },
         {
          "x1": -10.135557553639712,
          "x2": -9.865480527735947,
          "x3": -10.627596218724834,
          "y": 2
         },
         {
          "x1": -8.63414629435103,
          "x2": 2.7180950016734604,
          "x3": 6.5705655578865905,
          "y": 1
         },
         {
          "x1": -5.610179887403097,
          "x2": -7.634437924533264,
          "x3": -5.474528644738744,
          "y": 2
         },
         {
          "x1": -14.088080941754423,
          "x2": -5.996732182238524,
          "x3": -5.823879460881249,
          "y": 2
         },
         {
          "x1": -8.488455330669355,
          "x2": -1.7488213739584273,
          "x3": -0.2447553084253551,
          "y": 2
         },
         {
          "x1": -7.132372120438893,
          "x2": -5.926635929139432,
          "x3": -6.392305670027328,
          "y": 2
         },
         {
          "x1": -10.006442711528303,
          "x2": 3.057484602930421,
          "x3": 5.588277655315813,
          "y": 1
         },
         {
          "x1": -0.6720987642701379,
          "x2": -5.4303341042297495,
          "x3": -8.024239222162459,
          "y": 2
         },
         {
          "x1": -5.785800797191217,
          "x2": -10.121604333604305,
          "x3": -7.159853528545678,
          "y": 2
         },
         {
          "x1": -10.025279918603744,
          "x2": -6.443948571149005,
          "x3": -11.657436641095714,
          "y": 2
         },
         {
          "x1": -1.7754103509890085,
          "x2": -5.45647251810803,
          "x3": -3.0640014318034963,
          "y": 2
         },
         {
          "x1": -10.008242256176725,
          "x2": 1.7447034784323288,
          "x3": 5.72570409318265,
          "y": 1
         },
         {
          "x1": -9.021177713771785,
          "x2": 2.7573040346155326,
          "x3": 7.613038638114071,
          "y": 1
         },
         {
          "x1": -11.282169887758437,
          "x2": 4.156637876667006,
          "x3": 3.891344422536236,
          "y": 1
         },
         {
          "x1": -7.563568188842957,
          "x2": -12.57282288377207,
          "x3": -3.149583837625914,
          "y": 2
         },
         {
          "x1": -9.493987232806054,
          "x2": -7.077827731377948,
          "x3": -6.287503095015682,
          "y": 2
         },
         {
          "x1": -5.188343631314885,
          "x2": -2.5182430351464618,
          "x3": -2.0891484351567478,
          "y": 2
         },
         {
          "x1": -4.453242930329344,
          "x2": -1.7111948402047918,
          "x3": -6.309035740141189,
          "y": 2
         },
         {
          "x1": -9.299993047816738,
          "x2": 2.6137496632899593,
          "x3": 6.196511602448849,
          "y": 1
         },
         {
          "x1": -9.050210316000063,
          "x2": -4.861892707125388,
          "x3": -5.835471935138019,
          "y": 2
         },
         {
          "x1": -10.292142902713817,
          "x2": 3.013936921354623,
          "x3": 7.475881274490196,
          "y": 1
         },
         {
          "x1": -9.5424633383346,
          "x2": 1.8856922693998333,
          "x3": 6.308620696791144,
          "y": 1
         },
         {
          "x1": -40.334465797622016,
          "x2": 1.4742473808691612,
          "x3": 7.939391799000627,
          "y": 1
         },
         {
          "x1": -9.60717131364403,
          "x2": 3.2636093164647098,
          "x3": 3.4411907904542685,
          "y": 1
         },
         {
          "x1": -16.001641815641804,
          "x2": -8.821133583006468,
          "x3": -4.468166696037173,
          "y": 2
         },
         {
          "x1": -8.846624942997956,
          "x2": -5.324986854199555,
          "x3": -9.893365760606088,
          "y": 2
         },
         {
          "x1": -8.779750053349362,
          "x2": 2.8228603242772388,
          "x3": 7.667568424616271,
          "y": 1
         },
         {
          "x1": -9.267126816787947,
          "x2": 2.4690203552459398,
          "x3": 6.138196385081673,
          "y": 1
         },
         {
          "x1": -12.454353090400318,
          "x2": -9.161344526468774,
          "x3": -3.3500611511484415,
          "y": 2
         },
         {
          "x1": -9.97654680240407,
          "x2": 3.4262131660580497,
          "x3": 5.495922254214468,
          "y": 1
         },
         {
          "x1": -10.104512561149939,
          "x2": 2.3353619078157712,
          "x3": 5.762921210128058,
          "y": 1
         },
         {
          "x1": -9.724194663534929,
          "x2": 2.0532914251187124,
          "x3": 6.1122904751917515,
          "y": 1
         },
         {
          "x1": -7.910344669499037,
          "x2": 3.316211153438866,
          "x3": 6.2720049230893995,
          "y": 1
         },
         {
          "x1": -11.493598805895438,
          "x2": 2.498979906801947,
          "x3": 6.941694463149649,
          "y": 1
         },
         {
          "x1": -11.375682878932267,
          "x2": 3.1305669084514975,
          "x3": 4.334556212620098,
          "y": 1
         },
         {
          "x1": -5.645232299734359,
          "x2": -4.894192613423472,
          "x3": -0.7295138440706914,
          "y": 2
         },
         {
          "x1": -6.440505141067281,
          "x2": -4.193271802041831,
          "x3": -3.997401115418274,
          "y": 2
         },
         {
          "x1": -4.608031711330796,
          "x2": -8.832365831595478,
          "x3": -9.560826874328644,
          "y": 2
         },
         {
          "x1": -15.663928035168151,
          "x2": -3.7371891871347906,
          "x3": -0.553988264450588,
          "y": 2
         },
         {
          "x1": -9.65401692650232,
          "x2": 1.7589420309224513,
          "x3": 5.936214262766114,
          "y": 1
         },
         {
          "x1": -8.423068391297583,
          "x2": 0.14180530015322734,
          "x3": -3.1663012600418634,
          "y": 2
         },
         {
          "x1": -7.409215473838609,
          "x2": -10.307269228072492,
          "x3": -4.859127546492246,
          "y": 2
         },
         {
          "x1": -6.989262417032678,
          "x2": -8.284166544911693,
          "x3": -5.849796752481096,
          "y": 2
         },
         {
          "x1": -9.569084285646124,
          "x2": -2.2148561259778936,
          "x3": -6.9920962150057715,
          "y": 2
         },
         {
          "x1": -10.074421400529069,
          "x2": 3.2704619074358825,
          "x3": 6.643965616016228,
          "y": 1
         },
         {
          "x1": -11.944685863079256,
          "x2": 3.500629603804035,
          "x3": 5.166155560550053,
          "y": 1
         },
         {
          "x1": -7.487670822901118,
          "x2": -5.4231949887646085,
          "x3": -4.141644415083665,
          "y": 2
         },
         {
          "x1": -10.08464490308583,
          "x2": 1.0828868315314024,
          "x3": 5.0845910788439435,
          "y": 1
         },
         {
          "x1": -4.723058033740246,
          "x2": 0.5208206822747519,
          "x3": -2.972925305411678,
          "y": 2
         },
         {
          "x1": -8.16364346545905,
          "x2": -6.064970722613774,
          "x3": -10.636855540025143,
          "y": 2
         },
         {
          "x1": -9.920885043425113,
          "x2": 2.976729912343461,
          "x3": 5.2390586176268075,
          "y": 1
         },
         {
          "x1": -9.706026104144845,
          "x2": -0.5145427267946996,
          "x3": -6.6261186415764675,
          "y": 2
         },
         {
          "x1": -8.881080184276396,
          "x2": 1.601079831228225,
          "x3": 5.220758373994436,
          "y": 1
         },
         {
          "x1": -9.331811122039513,
          "x2": 2.7703449873891124,
          "x3": 5.133122942743255,
          "y": 1
         },
         {
          "x1": -2.896950381227848,
          "x2": -8.74791878036524,
          "x3": -7.595516335841603,
          "y": 2
         },
         {
          "x1": -10.851957490052257,
          "x2": 2.841890655356559,
          "x3": 5.796315811754153,
          "y": 1
         },
         {
          "x1": -9.05418266356713,
          "x2": 1.7633261773309525,
          "x3": 5.664132249449129,
          "y": 1
         },
         {
          "x1": -0.32163930105899574,
          "x2": -1.6283998544398512,
          "x3": -11.05332220837737,
          "y": 2
         },
         {
          "x1": -10.56949102193102,
          "x2": 2.3872133521906966,
          "x3": 4.234067898968043,
          "y": 1
         },
         {
          "x1": -6.167017356905161,
          "x2": -3.515218485086649,
          "x3": -5.463847987015179,
          "y": 2
         },
         {
          "x1": -11.123501314379325,
          "x2": 1.8743852626981437,
          "x3": 6.8382009398087815,
          "y": 1
         },
         {
          "x1": -6.734147946714745,
          "x2": -8.79105822706388,
          "x3": -10.266614782876553,
          "y": 2
         },
         {
          "x1": -9.600563675911388,
          "x2": 3.4476337391436918,
          "x3": 4.7904008906413695,
          "y": 1
         },
         {
          "x1": -6.067746035151045,
          "x2": -7.5094035753457975,
          "x3": -7.626689668426885,
          "y": 2
         },
         {
          "x1": -3.6755635000529283,
          "x2": -10.368930018678228,
          "x3": -3.013651871413346,
          "y": 2
         },
         {
          "x1": -7.4484261451513705,
          "x2": -2.261690161776597,
          "x3": -4.131262069440472,
          "y": 2
         },
         {
          "x1": -5.780819253610448,
          "x2": -0.8912753275471239,
          "x3": -4.328173456676059,
          "y": 2
         },
         {
          "x1": -9.066720749206361,
          "x2": 2.3366220437731084,
          "x3": 6.581199254817836,
          "y": 1
         },
         {
          "x1": -8.82424720390671,
          "x2": 3.278806640962209,
          "x3": 6.770695471539436,
          "y": 1
         },
         {
          "x1": -10.982270663120008,
          "x2": -1.9290417141742031,
          "x3": -1.1815925505192677,
          "y": 2
         },
         {
          "x1": -10.145938505025892,
          "x2": 3.4497183888492886,
          "x3": 4.925364683020873,
          "y": 1
         },
         {
          "x1": -7.342408768909384,
          "x2": -6.757663331844414,
          "x3": -9.733810036653699,
          "y": 2
         },
         {
          "x1": -10.13222632878899,
          "x2": 3.365957033705346,
          "x3": 5.991134778107864,
          "y": 1
         },
         {
          "x1": -9.84039954992125,
          "x2": 2.0973829790831524,
          "x3": 6.591194644207802,
          "y": 1
         },
         {
          "x1": -9.833425970860716,
          "x2": 2.624152959868903,
          "x3": 5.4453961812535585,
          "y": 1
         },
         {
          "x1": -3.5452278939302566,
          "x2": -3.6692891269272745,
          "x3": -5.036568907183964,
          "y": 2
         },
         {
          "x1": -4.306396059870429,
          "x2": -1.7493689193623907,
          "x3": -7.085435960116231,
          "y": 2
         },
         {
          "x1": -9.781417871069223,
          "x2": 3.1582328457733606,
          "x3": 8.203693653845749,
          "y": 1
         },
         {
          "x1": -9.55758668275099,
          "x2": -2.6845489847088326,
          "x3": -8.716252551879638,
          "y": 2
         },
         {
          "x1": -10.48399657529093,
          "x2": 0.77658205561337,
          "x3": 7.380359037136062,
          "y": 1
         },
         {
          "x1": -9.235383409417729,
          "x2": 3.280735466623714,
          "x3": 6.143161492997659,
          "y": 1
         },
         {
          "x1": -2.4352754405049915,
          "x2": -8.985989587941924,
          "x3": -8.212928165951048,
          "y": 2
         },
         {
          "x1": -10.323213365988764,
          "x2": 3.2518653504487984,
          "x3": 4.688190316139308,
          "y": 1
         },
         {
          "x1": -3.316588180341868,
          "x2": -7.531468373919796,
          "x3": -10.256838902550568,
          "y": 2
         }
        ]
       },
       "encoding": {
        "color": {
         "field": "y",
         "type": "nominal"
        },
        "x": {
         "field": "x1",
         "type": "quantitative"
        },
        "y": {
         "field": "x3",
         "type": "quantitative"
        }
       },
       "mark": "point"
      },
      "image/png": "[encoded data removed]",
      "image/svg+xml": [
       "<?xml version=\"1.0\" encoding=\"utf-8\"?>\n",
       "<!DOCTYPE svg PUBLIC \"-//W3C//DTD SVG 1.1//EN\" \"http://www.w3.org/Graphics/SVG/1.1/DTD/svg11.dtd\">\n",
       "<svg class=\"marks\" width=\"285\" height=\"247\" viewBox=\"0 0 285 247\" version=\"1.1\" xmlns=\"http://www.w3.org/2000/svg\" xmlns:xlink=\"http://www.w3.org/1999/xlink\"><rect width=\"285\" height=\"247\" fill=\"white\"></rect><g fill=\"none\" stroke-miterlimit=\"10\" transform=\"translate(41,10)\"><g class=\"mark-group role-frame root\" role=\"graphics-object\" aria-roledescription=\"group mark container\"><g transform=\"translate(0,0)\"><path class=\"background\" aria-hidden=\"true\" d=\"M0.5,0.5h200v200h-200Z\" stroke=\"#ddd\"></path><g><g class=\"mark-group role-axis\" aria-hidden=\"true\"><g transform=\"translate(0.5,200.5)\"><path class=\"background\" aria-hidden=\"true\" d=\"M0,0h0v0h0Z\" pointer-events=\"none\"></path><g><g class=\"mark-rule role-axis-grid\" pointer-events=\"none\"><line transform=\"translate(22,-200)\" x2=\"0\" y2=\"200\" stroke=\"#ddd\" stroke-width=\"1\" opacity=\"1\"></line><line transform=\"translate(67,-200)\" x2=\"0\" y2=\"200\" stroke=\"#ddd\" stroke-width=\"1\" opacity=\"1\"></line><line transform=\"translate(111,-200)\" x2=\"0\" y2=\"200\" stroke=\"#ddd\" stroke-width=\"1\" opacity=\"1\"></line><line transform=\"translate(156,-200)\" x2=\"0\" y2=\"200\" stroke=\"#ddd\" stroke-width=\"1\" opacity=\"1\"></line><line transform=\"translate(200,-200)\" x2=\"0\" y2=\"200\" stroke=\"#ddd\" stroke-width=\"1\" opacity=\"1\"></line></g></g><path class=\"foreground\" aria-hidden=\"true\" d=\"\" pointer-events=\"none\" display=\"none\"></path></g></g><g class=\"mark-group role-axis\" aria-hidden=\"true\"><g transform=\"translate(0.5,0.5)\"><path class=\"background\" aria-hidden=\"true\" d=\"M0,0h0v0h0Z\" pointer-events=\"none\"></path><g><g class=\"mark-rule role-axis-grid\" pointer-events=\"none\"><line transform=\"translate(0,182)\" x2=\"200\" y2=\"0\" stroke=\"#ddd\" stroke-width=\"1\" opacity=\"1\"></line><line transform=\"translate(0,136)\" x2=\"200\" y2=\"0\" stroke=\"#ddd\" stroke-width=\"1\" opacity=\"1\"></line><line transform=\"translate(0,91)\" x2=\"200\" y2=\"0\" stroke=\"#ddd\" stroke-width=\"1\" opacity=\"1\"></line><line transform=\"translate(0,45)\" x2=\"200\" y2=\"0\" stroke=\"#ddd\" stroke-width=\"1\" opacity=\"1\"></line><line transform=\"translate(0,0)\" x2=\"200\" y2=\"0\" stroke=\"#ddd\" stroke-width=\"1\" opacity=\"1\"></line></g></g><path class=\"foreground\" aria-hidden=\"true\" d=\"\" pointer-events=\"none\" display=\"none\"></path></g></g><g class=\"mark-group role-axis\" role=\"graphics-symbol\" aria-roledescription=\"axis\" aria-label=\"X-axis titled 'x1' for a linear scale with values from -45 to 0\"><g transform=\"translate(0.5,200.5)\"><path class=\"background\" aria-hidden=\"true\" d=\"M0,0h0v0h0Z\" pointer-events=\"none\"></path><g><g class=\"mark-rule role-axis-tick\" pointer-events=\"none\"><line transform=\"translate(22,0)\" x2=\"0\" y2=\"5\" stroke=\"#888\" stroke-width=\"1\" opacity=\"1\"></line><line transform=\"translate(67,0)\" x2=\"0\" y2=\"5\" stroke=\"#888\" stroke-width=\"1\" opacity=\"1\"></line><line transform=\"translate(111,0)\" x2=\"0\" y2=\"5\" stroke=\"#888\" stroke-width=\"1\" opacity=\"1\"></line><line transform=\"translate(156,0)\" x2=\"0\" y2=\"5\" stroke=\"#888\" stroke-width=\"1\" opacity=\"1\"></line><line transform=\"translate(200,0)\" x2=\"0\" y2=\"5\" stroke=\"#888\" stroke-width=\"1\" opacity=\"1\"></line></g><g class=\"mark-text role-axis-label\" pointer-events=\"none\"><text text-anchor=\"middle\" transform=\"translate(22.22222222222222,15)\" font-family=\"sans-serif\" font-size=\"10px\" fill=\"#000\" opacity=\"1\">-40</text><text text-anchor=\"middle\" transform=\"translate(66.66666666666666,15)\" font-family=\"sans-serif\" font-size=\"10px\" fill=\"#000\" opacity=\"1\">-30</text><text text-anchor=\"middle\" transform=\"translate(111.11111111111111,15)\" font-family=\"sans-serif\" font-size=\"10px\" fill=\"#000\" opacity=\"1\">-20</text><text text-anchor=\"middle\" transform=\"translate(155.55555555555557,15)\" font-family=\"sans-serif\" font-size=\"10px\" fill=\"#000\" opacity=\"1\">-10</text><text text-anchor=\"end\" transform=\"translate(200,15)\" font-family=\"sans-serif\" font-size=\"10px\" fill=\"#000\" opacity=\"1\">0</text></g><g class=\"mark-rule role-axis-domain\" pointer-events=\"none\"><line transform=\"translate(0,0)\" x2=\"200\" y2=\"0\" stroke=\"#888\" stroke-width=\"1\" opacity=\"1\"></line></g><g class=\"mark-text role-axis-title\" pointer-events=\"none\"><text text-anchor=\"middle\" transform=\"translate(100,30)\" font-family=\"sans-serif\" font-size=\"11px\" font-weight=\"bold\" fill=\"#000\" opacity=\"1\">x1</text></g></g><path class=\"foreground\" aria-hidden=\"true\" d=\"\" pointer-events=\"none\" display=\"none\"></path></g></g><g class=\"mark-group role-axis\" role=\"graphics-symbol\" aria-roledescription=\"axis\" aria-label=\"Y-axis titled 'x3' for a linear scale with values from -12 to 10\"><g transform=\"translate(0.5,0.5)\"><path class=\"background\" aria-hidden=\"true\" d=\"M0,0h0v0h0Z\" pointer-events=\"none\"></path><g><g class=\"mark-rule role-axis-tick\" pointer-events=\"none\"><line transform=\"translate(0,182)\" x2=\"-5\" y2=\"0\" stroke=\"#888\" stroke-width=\"1\" opacity=\"1\"></line><line transform=\"translate(0,136)\" x2=\"-5\" y2=\"0\" stroke=\"#888\" stroke-width=\"1\" opacity=\"1\"></line><line transform=\"translate(0,91)\" x2=\"-5\" y2=\"0\" stroke=\"#888\" stroke-width=\"1\" opacity=\"1\"></line><line transform=\"translate(0,45)\" x2=\"-5\" y2=\"0\" stroke=\"#888\" stroke-width=\"1\" opacity=\"1\"></line><line transform=\"translate(0,0)\" x2=\"-5\" y2=\"0\" stroke=\"#888\" stroke-width=\"1\" opacity=\"1\"></line></g><g class=\"mark-text role-axis-label\" pointer-events=\"none\"><text text-anchor=\"end\" transform=\"translate(-7,184.8181818181818)\" font-family=\"sans-serif\" font-size=\"10px\" fill=\"#000\" opacity=\"1\">-10</text><text text-anchor=\"end\" transform=\"translate(-7,139.36363636363637)\" font-family=\"sans-serif\" font-size=\"10px\" fill=\"#000\" opacity=\"1\">-5</text><text text-anchor=\"end\" transform=\"translate(-7,93.90909090909092)\" font-family=\"sans-serif\" font-size=\"10px\" fill=\"#000\" opacity=\"1\">0</text><text text-anchor=\"end\" transform=\"translate(-7,48.45454545454546)\" font-family=\"sans-serif\" font-size=\"10px\" fill=\"#000\" opacity=\"1\">5</text><text text-anchor=\"end\" transform=\"translate(-7,3)\" font-family=\"sans-serif\" font-size=\"10px\" fill=\"#000\" opacity=\"1\">10</text></g><g class=\"mark-rule role-axis-domain\" pointer-events=\"none\"><line transform=\"translate(0,200)\" x2=\"0\" y2=\"-200\" stroke=\"#888\" stroke-width=\"1\" opacity=\"1\"></line></g><g class=\"mark-text role-axis-title\" pointer-events=\"none\"><text text-anchor=\"middle\" transform=\"translate(-25,100) rotate(-90) translate(0,-2)\" font-family=\"sans-serif\" font-size=\"11px\" font-weight=\"bold\" fill=\"#000\" opacity=\"1\">x3</text></g></g><path class=\"foreground\" aria-hidden=\"true\" d=\"\" pointer-events=\"none\" display=\"none\"></path></g></g><g class=\"mark-symbol role-mark marks\" role=\"graphics-object\" aria-roledescription=\"symbol mark container\"><path aria-label=\"x1: -7.74435711749; x3: -7.16619435822; y: 2\" role=\"graphics-symbol\" aria-roledescription=\"point\" transform=\"translate(165.58063503337942,156.05631234742285)\" d=\"M2.7386127875258306,0A2.7386127875258306,2.7386127875258306,0,1,1,-2.7386127875258306,0A2.7386127875258306,2.7386127875258306,0,1,1,2.7386127875258306,0\" stroke=\"#f58518\" stroke-width=\"2\" opacity=\"0.7\"></path><path aria-label=\"x1: -10.1697668442; x3: 7.75778609408; y: 1\" role=\"graphics-symbol\" aria-roledescription=\"point\" transform=\"translate(154.80103624810857,20.383762781129366)\" d=\"M2.7386127875258306,0A2.7386127875258306,2.7386127875258306,0,1,1,-2.7386127875258306,0A2.7386127875258306,2.7386127875258306,0,1,1,2.7386127875258306,0\" stroke=\"#4c78a8\" stroke-width=\"2\" opacity=\"0.7\"></path><path aria-label=\"x1: -9.869964806; x3: 6.31161808725; y: 1\" role=\"graphics-symbol\" aria-roledescription=\"point\" transform=\"translate(156.1334897511115,33.53074466131935)\" d=\"M2.7386127875258306,0A2.7386127875258306,2.7386127875258306,0,1,1,-2.7386127875258306,0A2.7386127875258306,2.7386127875258306,0,1,1,2.7386127875258306,0\" stroke=\"#4c78a8\" stroke-width=\"2\" opacity=\"0.7\"></path><path aria-label=\"x1: -8.5644723788; x3: -2.3163019244; y: 2\" role=\"graphics-symbol\" aria-roledescription=\"point\" transform=\"translate(161.93567831646354,111.96638113088042)\" d=\"M2.7386127875258306,0A2.7386127875258306,2.7386127875258306,0,1,1,-2.7386127875258306,0A2.7386127875258306,2.7386127875258306,0,1,1,2.7386127875258306,0\" stroke=\"#f58518\" stroke-width=\"2\" opacity=\"0.7\"></path><path aria-label=\"x1: -9.05949339376; x3: -6.59931376696; y: 2\" role=\"graphics-symbol\" aria-roledescription=\"point\" transform=\"translate(159.73558491660955,150.90285242694742)\" d=\"M2.7386127875258306,0A2.7386127875258306,2.7386127875258306,0,1,1,-2.7386127875258306,0A2.7386127875258306,2.7386127875258306,0,1,1,2.7386127875258306,0\" stroke=\"#f58518\" stroke-width=\"2\" opacity=\"0.7\"></path><path aria-label=\"x1: -11.2631599813; x3: 6.75901373082; y: 1\" role=\"graphics-symbol\" aria-roledescription=\"point\" transform=\"translate(149.9415111943344,29.463511538018782)\" d=\"M2.7386127875258306,0A2.7386127875258306,2.7386127875258306,0,1,1,-2.7386127875258306,0A2.7386127875258306,2.7386127875258306,0,1,1,2.7386127875258306,0\" stroke=\"#4c78a8\" stroke-width=\"2\" opacity=\"0.7\"></path><path aria-label=\"x1: -11.6325125072; x3: 6.98552352302; y: 1\" role=\"graphics-symbol\" aria-roledescription=\"point\" transform=\"translate(148.2999444125817,27.404331608896726)\" d=\"M2.7386127875258306,0A2.7386127875258306,2.7386127875258306,0,1,1,-2.7386127875258306,0A2.7386127875258306,2.7386127875258306,0,1,1,2.7386127875258306,0\" stroke=\"#4c78a8\" stroke-width=\"2\" opacity=\"0.7\"></path><path aria-label=\"x1: -4.88984085799; x3: -1.84656225011; y: 2\" role=\"graphics-symbol\" aria-roledescription=\"point\" transform=\"translate(178.26737396449772,107.69602045556698)\" d=\"M2.7386127875258306,0A2.7386127875258306,2.7386127875258306,0,1,1,-2.7386127875258306,0A2.7386127875258306,2.7386127875258306,0,1,1,2.7386127875258306,0\" stroke=\"#f58518\" stroke-width=\"2\" opacity=\"0.7\"></path><path aria-label=\"x1: -10.0912905691; x3: 5.71274583013; y: 1\" role=\"graphics-symbol\" aria-roledescription=\"point\" transform=\"translate(155.14981969304716,38.97503790794579)\" d=\"M2.7386127875258306,0A2.7386127875258306,2.7386127875258306,0,1,1,-2.7386127875258306,0A2.7386127875258306,2.7386127875258306,0,1,1,2.7386127875258306,0\" stroke=\"#4c78a8\" stroke-width=\"2\" opacity=\"0.7\"></path><path aria-label=\"x1: -8.68779505172; x3: 5.23148953001; y: 1\" role=\"graphics-symbol\" aria-roledescription=\"point\" transform=\"translate(161.38757754792638,43.35009518172848)\" d=\"M2.7386127875258306,0A2.7386127875258306,2.7386127875258306,0,1,1,-2.7386127875258306,0A2.7386127875258306,2.7386127875258306,0,1,1,2.7386127875258306,0\" stroke=\"#4c78a8\" stroke-width=\"2\" opacity=\"0.7\"></path><path aria-label=\"x1: -10.9062572458; x3: 8.04399945217; y: 1\" role=\"graphics-symbol\" aria-roledescription=\"point\" transform=\"translate(151.52774557433798,17.781823162131417)\" d=\"M2.7386127875258306,0A2.7386127875258306,2.7386127875258306,0,1,1,-2.7386127875258306,0A2.7386127875258306,2.7386127875258306,0,1,1,2.7386127875258306,0\" stroke=\"#4c78a8\" stroke-width=\"2\" opacity=\"0.7\"></path><path aria-label=\"x1: -4.45882133414; x3: -11.4264309624; y: 2\" role=\"graphics-symbol\" aria-roledescription=\"point\" transform=\"translate(180.18301629270618,194.78573602157203)\" d=\"M2.7386127875258306,0A2.7386127875258306,2.7386127875258306,0,1,1,-2.7386127875258306,0A2.7386127875258306,2.7386127875258306,0,1,1,2.7386127875258306,0\" stroke=\"#f58518\" stroke-width=\"2\" opacity=\"0.7\"></path><path aria-label=\"x1: -10.7737068031; x3: 7.0198946389; y: 1\" role=\"graphics-symbol\" aria-roledescription=\"point\" transform=\"translate(152.11685865270675,27.0918669190658)\" d=\"M2.7386127875258306,0A2.7386127875258306,2.7386127875258306,0,1,1,-2.7386127875258306,0A2.7386127875258306,2.7386127875258306,0,1,1,2.7386127875258306,0\" stroke=\"#4c78a8\" stroke-width=\"2\" opacity=\"0.7\"></path><path aria-label=\"x1: -10.9277041422; x3: -8.67395215628; y: 2\" role=\"graphics-symbol\" aria-roledescription=\"point\" transform=\"translate(151.4324260346436,169.76320142069895)\" d=\"M2.7386127875258306,0A2.7386127875258306,2.7386127875258306,0,1,1,-2.7386127875258306,0A2.7386127875258306,2.7386127875258306,0,1,1,2.7386127875258306,0\" stroke=\"#f58518\" stroke-width=\"2\" opacity=\"0.7\"></path><path aria-label=\"x1: -10.2414567657; x3: 5.21299446543; y: 1\" role=\"graphics-symbol\" aria-roledescription=\"point\" transform=\"translate(154.48241437467067,43.51823213245785)\" d=\"M2.7386127875258306,0A2.7386127875258306,2.7386127875258306,0,1,1,-2.7386127875258306,0A2.7386127875258306,2.7386127875258306,0,1,1,2.7386127875258306,0\" stroke=\"#4c78a8\" stroke-width=\"2\" opacity=\"0.7\"></path><path aria-label=\"x1: -11.6159990297; x3: 6.54596411023; y: 1\" role=\"graphics-symbol\" aria-roledescription=\"point\" transform=\"translate(148.3733376458903,31.400326270645216)\" d=\"M2.7386127875258306,0A2.7386127875258306,2.7386127875258306,0,1,1,-2.7386127875258306,0A2.7386127875258306,2.7386127875258306,0,1,1,2.7386127875258306,0\" stroke=\"#4c78a8\" stroke-width=\"2\" opacity=\"0.7\"></path><path aria-label=\"x1: -10.1355575536; x3: -10.6275962187; y: 2\" role=\"graphics-symbol\" aria-roledescription=\"point\" transform=\"translate(154.95307753937905,187.5236019884076)\" d=\"M2.7386127875258306,0A2.7386127875258306,2.7386127875258306,0,1,1,-2.7386127875258306,0A2.7386127875258306,2.7386127875258306,0,1,1,2.7386127875258306,0\" stroke=\"#f58518\" stroke-width=\"2\" opacity=\"0.7\"></path><path aria-label=\"x1: -8.63414629435; x3: 6.57056555789; y: 1\" role=\"graphics-symbol\" aria-roledescription=\"point\" transform=\"translate(161.626016469551,31.176676746485565)\" d=\"M2.7386127875258306,0A2.7386127875258306,2.7386127875258306,0,1,1,-2.7386127875258306,0A2.7386127875258306,2.7386127875258306,0,1,1,2.7386127875258306,0\" stroke=\"#4c78a8\" stroke-width=\"2\" opacity=\"0.7\"></path><path aria-label=\"x1: -5.6101798874; x3: -5.47452864474; y: 2\" role=\"graphics-symbol\" aria-roledescription=\"point\" transform=\"translate(175.06586716709734,140.6775331339886)\" d=\"M2.7386127875258306,0A2.7386127875258306,2.7386127875258306,0,1,1,-2.7386127875258306,0A2.7386127875258306,2.7386127875258306,0,1,1,2.7386127875258306,0\" stroke=\"#f58518\" stroke-width=\"2\" opacity=\"0.7\"></path><path aria-label=\"x1: -14.0880809418; x3: -5.82387946088; y: 2\" role=\"graphics-symbol\" aria-roledescription=\"point\" transform=\"translate(137.3863069255359,143.853449644375)\" d=\"M2.7386127875258306,0A2.7386127875258306,2.7386127875258306,0,1,1,-2.7386127875258306,0A2.7386127875258306,2.7386127875258306,0,1,1,2.7386127875258306,0\" stroke=\"#f58518\" stroke-width=\"2\" opacity=\"0.7\"></path><path aria-label=\"x1: -8.48845533067; x3: -0.244755308425; y: 2\" role=\"graphics-symbol\" aria-roledescription=\"point\" transform=\"translate(162.27353186369174,93.13413916750322)\" d=\"M2.7386127875258306,0A2.7386127875258306,2.7386127875258306,0,1,1,-2.7386127875258306,0A2.7386127875258306,2.7386127875258306,0,1,1,2.7386127875258306,0\" stroke=\"#f58518\" stroke-width=\"2\" opacity=\"0.7\"></path><path aria-label=\"x1: -7.13237212044; x3: -6.39230567003; y: 2\" role=\"graphics-symbol\" aria-roledescription=\"point\" transform=\"translate(168.30056835360492,149.02096063661207)\" d=\"M2.7386127875258306,0A2.7386127875258306,2.7386127875258306,0,1,1,-2.7386127875258306,0A2.7386127875258306,2.7386127875258306,0,1,1,2.7386127875258306,0\" stroke=\"#f58518\" stroke-width=\"2\" opacity=\"0.7\"></path><path aria-label=\"x1: -10.0064427115; x3: 5.58827765532; y: 1\" role=\"graphics-symbol\" aria-roledescription=\"point\" transform=\"translate(155.52692128209645,40.106566769856244)\" d=\"M2.7386127875258306,0A2.7386127875258306,2.7386127875258306,0,1,1,-2.7386127875258306,0A2.7386127875258306,2.7386127875258306,0,1,1,2.7386127875258306,0\" stroke=\"#4c78a8\" stroke-width=\"2\" opacity=\"0.7\"></path><path aria-label=\"x1: -0.67209876427; x3: -8.02423922216; y: 2\" role=\"graphics-symbol\" aria-roledescription=\"point\" transform=\"translate(197.0128943810216,163.8567202014769)\" d=\"M2.7386127875258306,0A2.7386127875258306,2.7386127875258306,0,1,1,-2.7386127875258306,0A2.7386127875258306,2.7386127875258306,0,1,1,2.7386127875258306,0\" stroke=\"#f58518\" stroke-width=\"2\" opacity=\"0.7\"></path><path aria-label=\"x1: -5.78580079719; x3: -7.15985352855; y: 2\" role=\"graphics-symbol\" aria-roledescription=\"point\" transform=\"translate(174.28532979026127,155.99866844132436)\" d=\"M2.7386127875258306,0A2.7386127875258306,2.7386127875258306,0,1,1,-2.7386127875258306,0A2.7386127875258306,2.7386127875258306,0,1,1,2.7386127875258306,0\" stroke=\"#f58518\" stroke-width=\"2\" opacity=\"0.7\"></path><path aria-label=\"x1: -10.0252799186; x3: -11.6574366411; y: 2\" role=\"graphics-symbol\" aria-roledescription=\"point\" transform=\"translate(155.44320036176114,196.88578764632467)\" d=\"M2.7386127875258306,0A2.7386127875258306,2.7386127875258306,0,1,1,-2.7386127875258306,0A2.7386127875258306,2.7386127875258306,0,1,1,2.7386127875258306,0\" stroke=\"#f58518\" stroke-width=\"2\" opacity=\"0.7\"></path><path aria-label=\"x1: -1.77541035099; x3: -3.0640014318; y: 2\" role=\"graphics-symbol\" aria-roledescription=\"point\" transform=\"translate(192.10928732893774,118.7636493800318)\" d=\"M2.7386127875258306,0A2.7386127875258306,2.7386127875258306,0,1,1,-2.7386127875258306,0A2.7386127875258306,2.7386127875258306,0,1,1,2.7386127875258306,0\" stroke=\"#f58518\" stroke-width=\"2\" opacity=\"0.7\"></path><path aria-label=\"x1: -10.0082422562; x3: 5.72570409318; y: 1\" role=\"graphics-symbol\" aria-roledescription=\"point\" transform=\"translate(155.5189233058812,38.85723551652136)\" d=\"M2.7386127875258306,0A2.7386127875258306,2.7386127875258306,0,1,1,-2.7386127875258306,0A2.7386127875258306,2.7386127875258306,0,1,1,2.7386127875258306,0\" stroke=\"#4c78a8\" stroke-width=\"2\" opacity=\"0.7\"></path><path aria-label=\"x1: -9.02117771377; x3: 7.61303863811; y: 1\" role=\"graphics-symbol\" aria-roledescription=\"point\" transform=\"translate(159.90587682768097,21.699648744417544)\" d=\"M2.7386127875258306,0A2.7386127875258306,2.7386127875258306,0,1,1,-2.7386127875258306,0A2.7386127875258306,2.7386127875258306,0,1,1,2.7386127875258306,0\" stroke=\"#4c78a8\" stroke-width=\"2\" opacity=\"0.7\"></path><path aria-label=\"x1: -11.2821698878; x3: 3.89134442254; y: 1\" role=\"graphics-symbol\" aria-roledescription=\"point\" transform=\"translate(149.8570227210736,55.53323252239786)\" d=\"M2.7386127875258306,0A2.7386127875258306,2.7386127875258306,0,1,1,-2.7386127875258306,0A2.7386127875258306,2.7386127875258306,0,1,1,2.7386127875258306,0\" stroke=\"#4c78a8\" stroke-width=\"2\" opacity=\"0.7\"></path><path aria-label=\"x1: -7.56356818884; x3: -3.14958383763; y: 2\" role=\"graphics-symbol\" aria-roledescription=\"point\" transform=\"translate(166.3841413829202,119.54167125114469)\" d=\"M2.7386127875258306,0A2.7386127875258306,2.7386127875258306,0,1,1,-2.7386127875258306,0A2.7386127875258306,2.7386127875258306,0,1,1,2.7386127875258306,0\" stroke=\"#f58518\" stroke-width=\"2\" opacity=\"0.7\"></path><path aria-label=\"x1: -9.49398723281; x3: -6.28750309502; y: 2\" role=\"graphics-symbol\" aria-roledescription=\"point\" transform=\"translate(157.80450118752864,148.068209954688)\" d=\"M2.7386127875258306,0A2.7386127875258306,2.7386127875258306,0,1,1,-2.7386127875258306,0A2.7386127875258306,2.7386127875258306,0,1,1,2.7386127875258306,0\" stroke=\"#f58518\" stroke-width=\"2\" opacity=\"0.7\"></path><path aria-label=\"x1: -5.18834363131; x3: -2.08914843516; y: 2\" role=\"graphics-symbol\" aria-roledescription=\"point\" transform=\"translate(176.94069497193382,109.90134941051588)\" d=\"M2.7386127875258306,0A2.7386127875258306,2.7386127875258306,0,1,1,-2.7386127875258306,0A2.7386127875258306,2.7386127875258306,0,1,1,2.7386127875258306,0\" stroke=\"#f58518\" stroke-width=\"2\" opacity=\"0.7\"></path><path aria-label=\"x1: -4.45324293033; x3: -6.30903574014; y: 2\" role=\"graphics-symbol\" aria-roledescription=\"point\" transform=\"translate(180.20780919853624,148.26396127401082)\" d=\"M2.7386127875258306,0A2.7386127875258306,2.7386127875258306,0,1,1,-2.7386127875258306,0A2.7386127875258306,2.7386127875258306,0,1,1,2.7386127875258306,0\" stroke=\"#f58518\" stroke-width=\"2\" opacity=\"0.7\"></path><path aria-label=\"x1: -9.29999304782; x3: 6.19651160245; y: 1\" role=\"graphics-symbol\" aria-roledescription=\"point\" transform=\"translate(158.66669756525894,34.577167250465)\" d=\"M2.7386127875258306,0A2.7386127875258306,2.7386127875258306,0,1,1,-2.7386127875258306,0A2.7386127875258306,2.7386127875258306,0,1,1,2.7386127875258306,0\" stroke=\"#4c78a8\" stroke-width=\"2\" opacity=\"0.7\"></path><path aria-label=\"x1: -9.050210316; x3: -5.83547193514; y: 2\" role=\"graphics-symbol\" aria-roledescription=\"point\" transform=\"translate(159.77684303999973,143.95883577398197)\" d=\"M2.7386127875258306,0A2.7386127875258306,2.7386127875258306,0,1,1,-2.7386127875258306,0A2.7386127875258306,2.7386127875258306,0,1,1,2.7386127875258306,0\" stroke=\"#f58518\" stroke-width=\"2\" opacity=\"0.7\"></path><path aria-label=\"x1: -10.2921429027; x3: 7.47588127449; y: 1\" role=\"graphics-symbol\" aria-roledescription=\"point\" transform=\"translate(154.25714265460525,22.946533868270947)\" d=\"M2.7386127875258306,0A2.7386127875258306,2.7386127875258306,0,1,1,-2.7386127875258306,0A2.7386127875258306,2.7386127875258306,0,1,1,2.7386127875258306,0\" stroke=\"#4c78a8\" stroke-width=\"2\" opacity=\"0.7\"></path><path aria-label=\"x1: -9.54246333833; x3: 6.30862069679; y: 1\" role=\"graphics-symbol\" aria-roledescription=\"point\" transform=\"translate(157.589051829624,33.557993665535044)\" d=\"M2.7386127875258306,0A2.7386127875258306,2.7386127875258306,0,1,1,-2.7386127875258306,0A2.7386127875258306,2.7386127875258306,0,1,1,2.7386127875258306,0\" stroke=\"#4c78a8\" stroke-width=\"2\" opacity=\"0.7\"></path><path aria-label=\"x1: -40.3344657976; x3: 7.939391799; y: 1\" role=\"graphics-symbol\" aria-roledescription=\"point\" transform=\"translate(20.735707566124372,18.73280182726702)\" d=\"M2.7386127875258306,0A2.7386127875258306,2.7386127875258306,0,1,1,-2.7386127875258306,0A2.7386127875258306,2.7386127875258306,0,1,1,2.7386127875258306,0\" stroke=\"#4c78a8\" stroke-width=\"2\" opacity=\"0.7\"></path><path aria-label=\"x1: -9.60717131364; x3: 3.44119079045; y: 1\" role=\"graphics-symbol\" aria-roledescription=\"point\" transform=\"translate(157.30146082824876,59.62553826859755)\" d=\"M2.7386127875258306,0A2.7386127875258306,2.7386127875258306,0,1,1,-2.7386127875258306,0A2.7386127875258306,2.7386127875258306,0,1,1,2.7386127875258306,0\" stroke=\"#4c78a8\" stroke-width=\"2\" opacity=\"0.7\"></path><path aria-label=\"x1: -16.0016418156; x3: -4.46816669604; y: 2\" role=\"graphics-symbol\" aria-roledescription=\"point\" transform=\"translate(128.88159193048088,131.5287881457925)\" d=\"M2.7386127875258306,0A2.7386127875258306,2.7386127875258306,0,1,1,-2.7386127875258306,0A2.7386127875258306,2.7386127875258306,0,1,1,2.7386127875258306,0\" stroke=\"#f58518\" stroke-width=\"2\" opacity=\"0.7\"></path><path aria-label=\"x1: -8.846624943; x3: -9.89336576061; y: 2\" role=\"graphics-symbol\" aria-roledescription=\"point\" transform=\"translate(160.6816669200091,180.84877964187353)\" d=\"M2.7386127875258306,0A2.7386127875258306,2.7386127875258306,0,1,1,-2.7386127875258306,0A2.7386127875258306,2.7386127875258306,0,1,1,2.7386127875258306,0\" stroke=\"#f58518\" stroke-width=\"2\" opacity=\"0.7\"></path><path aria-label=\"x1: -8.77975005335; x3: 7.66756842462; y: 1\" role=\"graphics-symbol\" aria-roledescription=\"point\" transform=\"translate(160.97888865178064,21.20392341257935)\" d=\"M2.7386127875258306,0A2.7386127875258306,2.7386127875258306,0,1,1,-2.7386127875258306,0A2.7386127875258306,2.7386127875258306,0,1,1,2.7386127875258306,0\" stroke=\"#4c78a8\" stroke-width=\"2\" opacity=\"0.7\"></path><path aria-label=\"x1: -9.26712681679; x3: 6.13819638508; y: 1\" role=\"graphics-symbol\" aria-roledescription=\"point\" transform=\"translate(158.81276970316466,35.10730559016659)\" d=\"M2.7386127875258306,0A2.7386127875258306,2.7386127875258306,0,1,1,-2.7386127875258306,0A2.7386127875258306,2.7386127875258306,0,1,1,2.7386127875258306,0\" stroke=\"#4c78a8\" stroke-width=\"2\" opacity=\"0.7\"></path><path aria-label=\"x1: -12.4543530904; x3: -3.35006115115; y: 2\" role=\"graphics-symbol\" aria-roledescription=\"point\" transform=\"translate(144.6473195982208,121.36419228316764)\" d=\"M2.7386127875258306,0A2.7386127875258306,2.7386127875258306,0,1,1,-2.7386127875258306,0A2.7386127875258306,2.7386127875258306,0,1,1,2.7386127875258306,0\" stroke=\"#f58518\" stroke-width=\"2\" opacity=\"0.7\"></path><path aria-label=\"x1: -9.9765468024; x3: 5.49592225421; y: 1\" role=\"graphics-symbol\" aria-roledescription=\"point\" transform=\"translate(155.65979198931524,40.946161325323004)\" d=\"M2.7386127875258306,0A2.7386127875258306,2.7386127875258306,0,1,1,-2.7386127875258306,0A2.7386127875258306,2.7386127875258306,0,1,1,2.7386127875258306,0\" stroke=\"#4c78a8\" stroke-width=\"2\" opacity=\"0.7\"></path><path aria-label=\"x1: -10.1045125611; x3: 5.76292121013; y: 1\" role=\"graphics-symbol\" aria-roledescription=\"point\" transform=\"translate(155.09105528377805,38.51889808974496)\" d=\"M2.7386127875258306,0A2.7386127875258306,2.7386127875258306,0,1,1,-2.7386127875258306,0A2.7386127875258306,2.7386127875258306,0,1,1,2.7386127875258306,0\" stroke=\"#4c78a8\" stroke-width=\"2\" opacity=\"0.7\"></path><path aria-label=\"x1: -9.72419466353; x3: 6.11229047519; y: 1\" role=\"graphics-symbol\" aria-roledescription=\"point\" transform=\"translate(156.78135705095585,35.34281386189315)\" d=\"M2.7386127875258306,0A2.7386127875258306,2.7386127875258306,0,1,1,-2.7386127875258306,0A2.7386127875258306,2.7386127875258306,0,1,1,2.7386127875258306,0\" stroke=\"#4c78a8\" stroke-width=\"2\" opacity=\"0.7\"></path><path aria-label=\"x1: -7.9103446695; x3: 6.27200492309; y: 1\" role=\"graphics-symbol\" aria-roledescription=\"point\" transform=\"translate(164.84291258000428,33.89086433555093)\" d=\"M2.7386127875258306,0A2.7386127875258306,2.7386127875258306,0,1,1,-2.7386127875258306,0A2.7386127875258306,2.7386127875258306,0,1,1,2.7386127875258306,0\" stroke=\"#4c78a8\" stroke-width=\"2\" opacity=\"0.7\"></path><path aria-label=\"x1: -11.4935988059; x3: 6.94169446315; y: 1\" role=\"graphics-symbol\" aria-roledescription=\"point\" transform=\"translate(148.91733864046472,27.802777607730466)\" d=\"M2.7386127875258306,0A2.7386127875258306,2.7386127875258306,0,1,1,-2.7386127875258306,0A2.7386127875258306,2.7386127875258306,0,1,1,2.7386127875258306,0\" stroke=\"#4c78a8\" stroke-width=\"2\" opacity=\"0.7\"></path><path aria-label=\"x1: -11.3756828789; x3: 4.33455621262; y: 1\" role=\"graphics-symbol\" aria-roledescription=\"point\" transform=\"translate(149.4414094269677,51.5040344307264)\" d=\"M2.7386127875258306,0A2.7386127875258306,2.7386127875258306,0,1,1,-2.7386127875258306,0A2.7386127875258306,2.7386127875258306,0,1,1,2.7386127875258306,0\" stroke=\"#4c78a8\" stroke-width=\"2\" opacity=\"0.7\"></path><path aria-label=\"x1: -5.64523229973; x3: -0.729513844071; y: 2\" role=\"graphics-symbol\" aria-roledescription=\"point\" transform=\"translate(174.9100786678473,97.5410349460972)\" d=\"M2.7386127875258306,0A2.7386127875258306,2.7386127875258306,0,1,1,-2.7386127875258306,0A2.7386127875258306,2.7386127875258306,0,1,1,2.7386127875258306,0\" stroke=\"#f58518\" stroke-width=\"2\" opacity=\"0.7\"></path><path aria-label=\"x1: -6.44050514107; x3: -3.99740111542; y: 2\" role=\"graphics-symbol\" aria-roledescription=\"point\" transform=\"translate(171.37553270636764,127.24910104925704)\" d=\"M2.7386127875258306,0A2.7386127875258306,2.7386127875258306,0,1,1,-2.7386127875258306,0A2.7386127875258306,2.7386127875258306,0,1,1,2.7386127875258306,0\" stroke=\"#f58518\" stroke-width=\"2\" opacity=\"0.7\"></path><path aria-label=\"x1: -4.60803171133; x3: -9.56082687433; y: 2\" role=\"graphics-symbol\" aria-roledescription=\"point\" transform=\"translate(179.51985906075203,177.82569885753313)\" d=\"M2.7386127875258306,0A2.7386127875258306,2.7386127875258306,0,1,1,-2.7386127875258306,0A2.7386127875258306,2.7386127875258306,0,1,1,2.7386127875258306,0\" stroke=\"#f58518\" stroke-width=\"2\" opacity=\"0.7\"></path><path aria-label=\"x1: -15.6639280352; x3: -0.553988264451; y: 2\" role=\"graphics-symbol\" aria-roledescription=\"point\" transform=\"translate(130.38254206591932,95.94534785864171)\" d=\"M2.7386127875258306,0A2.7386127875258306,2.7386127875258306,0,1,1,-2.7386127875258306,0A2.7386127875258306,2.7386127875258306,0,1,1,2.7386127875258306,0\" stroke=\"#f58518\" stroke-width=\"2\" opacity=\"0.7\"></path><path aria-label=\"x1: -9.6540169265; x3: 5.93621426277; y: 1\" role=\"graphics-symbol\" aria-roledescription=\"point\" transform=\"translate(157.09325810443414,36.94350670212623)\" d=\"M2.7386127875258306,0A2.7386127875258306,2.7386127875258306,0,1,1,-2.7386127875258306,0A2.7386127875258306,2.7386127875258306,0,1,1,2.7386127875258306,0\" stroke=\"#4c78a8\" stroke-width=\"2\" opacity=\"0.7\"></path><path aria-label=\"x1: -8.4230683913; x3: -3.16630126004; y: 2\" role=\"graphics-symbol\" aria-roledescription=\"point\" transform=\"translate(162.56414048312183,119.6936478185624)\" d=\"M2.7386127875258306,0A2.7386127875258306,2.7386127875258306,0,1,1,-2.7386127875258306,0A2.7386127875258306,2.7386127875258306,0,1,1,2.7386127875258306,0\" stroke=\"#f58518\" stroke-width=\"2\" opacity=\"0.7\"></path><path aria-label=\"x1: -7.40921547384; x3: -4.85912754649; y: 2\" role=\"graphics-symbol\" aria-roledescription=\"point\" transform=\"translate(167.07015344960618,135.08297769538405)\" d=\"M2.7386127875258306,0A2.7386127875258306,2.7386127875258306,0,1,1,-2.7386127875258306,0A2.7386127875258306,2.7386127875258306,0,1,1,2.7386127875258306,0\" stroke=\"#f58518\" stroke-width=\"2\" opacity=\"0.7\"></path><path aria-label=\"x1: -6.98926241703; x3: -5.84979675248; y: 2\" role=\"graphics-symbol\" aria-roledescription=\"point\" transform=\"translate(168.93661147985478,144.0890613861918)\" d=\"M2.7386127875258306,0A2.7386127875258306,2.7386127875258306,0,1,1,-2.7386127875258306,0A2.7386127875258306,2.7386127875258306,0,1,1,2.7386127875258306,0\" stroke=\"#f58518\" stroke-width=\"2\" opacity=\"0.7\"></path><path aria-label=\"x1: -9.56908428565; x3: -6.99209621501; y: 2\" role=\"graphics-symbol\" aria-roledescription=\"point\" transform=\"translate(157.47073650823944,154.4736019545979)\" d=\"M2.7386127875258306,0A2.7386127875258306,2.7386127875258306,0,1,1,-2.7386127875258306,0A2.7386127875258306,2.7386127875258306,0,1,1,2.7386127875258306,0\" stroke=\"#f58518\" stroke-width=\"2\" opacity=\"0.7\"></path><path aria-label=\"x1: -10.0744214005; x3: 6.64396561602; y: 1\" role=\"graphics-symbol\" aria-roledescription=\"point\" transform=\"translate(155.22479377542635,30.509403490761567)\" d=\"M2.7386127875258306,0A2.7386127875258306,2.7386127875258306,0,1,1,-2.7386127875258306,0A2.7386127875258306,2.7386127875258306,0,1,1,2.7386127875258306,0\" stroke=\"#4c78a8\" stroke-width=\"2\" opacity=\"0.7\"></path><path aria-label=\"x1: -11.9446858631; x3: 5.16615556055; y: 1\" role=\"graphics-symbol\" aria-roledescription=\"point\" transform=\"translate(146.9125072752033,43.94404035863588)\" d=\"M2.7386127875258306,0A2.7386127875258306,2.7386127875258306,0,1,1,-2.7386127875258306,0A2.7386127875258306,2.7386127875258306,0,1,1,2.7386127875258306,0\" stroke=\"#4c78a8\" stroke-width=\"2\" opacity=\"0.7\"></path><path aria-label=\"x1: -7.4876708229; x3: -4.14164441508; y: 2\" role=\"graphics-symbol\" aria-roledescription=\"point\" transform=\"translate(166.72146300932837,128.56040377348785)\" d=\"M2.7386127875258306,0A2.7386127875258306,2.7386127875258306,0,1,1,-2.7386127875258306,0A2.7386127875258306,2.7386127875258306,0,1,1,2.7386127875258306,0\" stroke=\"#f58518\" stroke-width=\"2\" opacity=\"0.7\"></path><path aria-label=\"x1: -10.0846449031; x3: 5.08459107884; y: 1\" role=\"graphics-symbol\" aria-roledescription=\"point\" transform=\"translate(155.1793559862852,44.685535646873255)\" d=\"M2.7386127875258306,0A2.7386127875258306,2.7386127875258306,0,1,1,-2.7386127875258306,0A2.7386127875258306,2.7386127875258306,0,1,1,2.7386127875258306,0\" stroke=\"#4c78a8\" stroke-width=\"2\" opacity=\"0.7\"></path><path aria-label=\"x1: -4.72305803374; x3: -2.97292530541; y: 2\" role=\"graphics-symbol\" aria-roledescription=\"point\" transform=\"translate(179.00863096115447,117.93568459465162)\" d=\"M2.7386127875258306,0A2.7386127875258306,2.7386127875258306,0,1,1,-2.7386127875258306,0A2.7386127875258306,2.7386127875258306,0,1,1,2.7386127875258306,0\" stroke=\"#f58518\" stroke-width=\"2\" opacity=\"0.7\"></path><path aria-label=\"x1: -8.16364346546; x3: -10.63685554; y: 2\" role=\"graphics-symbol\" aria-roledescription=\"point\" transform=\"translate(163.71714015351534,187.60777763659223)\" d=\"M2.7386127875258306,0A2.7386127875258306,2.7386127875258306,0,1,1,-2.7386127875258306,0A2.7386127875258306,2.7386127875258306,0,1,1,2.7386127875258306,0\" stroke=\"#f58518\" stroke-width=\"2\" opacity=\"0.7\"></path><path aria-label=\"x1: -9.92088504343; x3: 5.23905861763; y: 1\" role=\"graphics-symbol\" aria-roledescription=\"point\" transform=\"translate(155.90717758477726,43.28128529430175)\" d=\"M2.7386127875258306,0A2.7386127875258306,2.7386127875258306,0,1,1,-2.7386127875258306,0A2.7386127875258306,2.7386127875258306,0,1,1,2.7386127875258306,0\" stroke=\"#4c78a8\" stroke-width=\"2\" opacity=\"0.7\"></path><path aria-label=\"x1: -9.70602610414; x3: -6.62611864158; y: 2\" role=\"graphics-symbol\" aria-roledescription=\"point\" transform=\"translate(156.86210620380066,151.14653310524062)\" d=\"M2.7386127875258306,0A2.7386127875258306,2.7386127875258306,0,1,1,-2.7386127875258306,0A2.7386127875258306,2.7386127875258306,0,1,1,2.7386127875258306,0\" stroke=\"#f58518\" stroke-width=\"2\" opacity=\"0.7\"></path><path aria-label=\"x1: -8.88108018428; x3: 5.22075837399; y: 1\" role=\"graphics-symbol\" aria-roledescription=\"point\" transform=\"translate(160.5285325143271,43.44765114550513)\" d=\"M2.7386127875258306,0A2.7386127875258306,2.7386127875258306,0,1,1,-2.7386127875258306,0A2.7386127875258306,2.7386127875258306,0,1,1,2.7386127875258306,0\" stroke=\"#4c78a8\" stroke-width=\"2\" opacity=\"0.7\"></path><path aria-label=\"x1: -9.33181112204; x3: 5.13312294274; y: 1\" role=\"graphics-symbol\" aria-roledescription=\"point\" transform=\"translate(158.52528390204662,44.24433688415221)\" d=\"M2.7386127875258306,0A2.7386127875258306,2.7386127875258306,0,1,1,-2.7386127875258306,0A2.7386127875258306,2.7386127875258306,0,1,1,2.7386127875258306,0\" stroke=\"#4c78a8\" stroke-width=\"2\" opacity=\"0.7\"></path><path aria-label=\"x1: -2.89695038123; x3: -7.59551633584; y: 2\" role=\"graphics-symbol\" aria-roledescription=\"point\" transform=\"translate(187.1246649723207,159.95923941674187)\" d=\"M2.7386127875258306,0A2.7386127875258306,2.7386127875258306,0,1,1,-2.7386127875258306,0A2.7386127875258306,2.7386127875258306,0,1,1,2.7386127875258306,0\" stroke=\"#f58518\" stroke-width=\"2\" opacity=\"0.7\"></path><path aria-label=\"x1: -10.8519574901; x3: 5.79631581175; y: 1\" role=\"graphics-symbol\" aria-roledescription=\"point\" transform=\"translate(151.76907782198995,38.215310802234995)\" d=\"M2.7386127875258306,0A2.7386127875258306,2.7386127875258306,0,1,1,-2.7386127875258306,0A2.7386127875258306,2.7386127875258306,0,1,1,2.7386127875258306,0\" stroke=\"#4c78a8\" stroke-width=\"2\" opacity=\"0.7\"></path><path aria-label=\"x1: -9.05418266357; x3: 5.66413224945; y: 1\" role=\"graphics-symbol\" aria-roledescription=\"point\" transform=\"translate(159.75918816192384,39.41697955046246)\" d=\"M2.7386127875258306,0A2.7386127875258306,2.7386127875258306,0,1,1,-2.7386127875258306,0A2.7386127875258306,2.7386127875258306,0,1,1,2.7386127875258306,0\" stroke=\"#4c78a8\" stroke-width=\"2\" opacity=\"0.7\"></path><path aria-label=\"x1: -0.321639301059; x3: -11.0533222084; y: 2\" role=\"graphics-symbol\" aria-roledescription=\"point\" transform=\"translate(198.57049199529337,191.39383825797609)\" d=\"M2.7386127875258306,0A2.7386127875258306,2.7386127875258306,0,1,1,-2.7386127875258306,0A2.7386127875258306,2.7386127875258306,0,1,1,2.7386127875258306,0\" stroke=\"#f58518\" stroke-width=\"2\" opacity=\"0.7\"></path><path aria-label=\"x1: -10.5694910219; x3: 4.23406789897; y: 1\" role=\"graphics-symbol\" aria-roledescription=\"point\" transform=\"translate(153.02448434697325,52.41756455483597)\" d=\"M2.7386127875258306,0A2.7386127875258306,2.7386127875258306,0,1,1,-2.7386127875258306,0A2.7386127875258306,2.7386127875258306,0,1,1,2.7386127875258306,0\" stroke=\"#4c78a8\" stroke-width=\"2\" opacity=\"0.7\"></path><path aria-label=\"x1: -6.16701735691; x3: -5.46384798702; y: 2\" role=\"graphics-symbol\" aria-roledescription=\"point\" transform=\"translate(172.5910339693104,140.58043624559255)\" d=\"M2.7386127875258306,0A2.7386127875258306,2.7386127875258306,0,1,1,-2.7386127875258306,0A2.7386127875258306,2.7386127875258306,0,1,1,2.7386127875258306,0\" stroke=\"#f58518\" stroke-width=\"2\" opacity=\"0.7\"></path><path aria-label=\"x1: -11.1235013144; x3: 6.83820093981; y: 1\" role=\"graphics-symbol\" aria-roledescription=\"point\" transform=\"translate(150.56221638053634,28.74362781992017)\" d=\"M2.7386127875258306,0A2.7386127875258306,2.7386127875258306,0,1,1,-2.7386127875258306,0A2.7386127875258306,2.7386127875258306,0,1,1,2.7386127875258306,0\" stroke=\"#4c78a8\" stroke-width=\"2\" opacity=\"0.7\"></path><path aria-label=\"x1: -6.73414794671; x3: -10.2666147829; y: 2\" role=\"graphics-symbol\" aria-roledescription=\"point\" transform=\"translate(170.0704535701567,184.24195257160503)\" d=\"M2.7386127875258306,0A2.7386127875258306,2.7386127875258306,0,1,1,-2.7386127875258306,0A2.7386127875258306,2.7386127875258306,0,1,1,2.7386127875258306,0\" stroke=\"#f58518\" stroke-width=\"2\" opacity=\"0.7\"></path><path aria-label=\"x1: -9.60056367591; x3: 4.79040089064; y: 1\" role=\"graphics-symbol\" aria-roledescription=\"point\" transform=\"translate(157.33082810706048,47.35999190326028)\" d=\"M2.7386127875258306,0A2.7386127875258306,2.7386127875258306,0,1,1,-2.7386127875258306,0A2.7386127875258306,2.7386127875258306,0,1,1,2.7386127875258306,0\" stroke=\"#4c78a8\" stroke-width=\"2\" opacity=\"0.7\"></path><path aria-label=\"x1: -6.06774603515; x3: -7.62668966843; y: 2\" role=\"graphics-symbol\" aria-roledescription=\"point\" transform=\"translate(173.03223984377314,160.24263334933534)\" d=\"M2.7386127875258306,0A2.7386127875258306,2.7386127875258306,0,1,1,-2.7386127875258306,0A2.7386127875258306,2.7386127875258306,0,1,1,2.7386127875258306,0\" stroke=\"#f58518\" stroke-width=\"2\" opacity=\"0.7\"></path><path aria-label=\"x1: -3.67556350005; x3: -3.01365187141; y: 2\" role=\"graphics-symbol\" aria-roledescription=\"point\" transform=\"translate(183.66416222198697,118.3059261037577)\" d=\"M2.7386127875258306,0A2.7386127875258306,2.7386127875258306,0,1,1,-2.7386127875258306,0A2.7386127875258306,2.7386127875258306,0,1,1,2.7386127875258306,0\" stroke=\"#f58518\" stroke-width=\"2\" opacity=\"0.7\"></path><path aria-label=\"x1: -7.44842614515; x3: -4.13126206944; y: 2\" role=\"graphics-symbol\" aria-roledescription=\"point\" transform=\"translate(166.89588379932724,128.4660188130952)\" d=\"M2.7386127875258306,0A2.7386127875258306,2.7386127875258306,0,1,1,-2.7386127875258306,0A2.7386127875258306,2.7386127875258306,0,1,1,2.7386127875258306,0\" stroke=\"#f58518\" stroke-width=\"2\" opacity=\"0.7\"></path><path aria-label=\"x1: -5.78081925361; x3: -4.32817345668; y: 2\" role=\"graphics-symbol\" aria-roledescription=\"point\" transform=\"translate(174.30746998395358,130.25612233341872)\" d=\"M2.7386127875258306,0A2.7386127875258306,2.7386127875258306,0,1,1,-2.7386127875258306,0A2.7386127875258306,2.7386127875258306,0,1,1,2.7386127875258306,0\" stroke=\"#f58518\" stroke-width=\"2\" opacity=\"0.7\"></path><path aria-label=\"x1: -9.06672074921; x3: 6.58119925482; y: 1\" role=\"graphics-symbol\" aria-roledescription=\"point\" transform=\"translate(159.7034633368606,31.080006774383317)\" d=\"M2.7386127875258306,0A2.7386127875258306,2.7386127875258306,0,1,1,-2.7386127875258306,0A2.7386127875258306,2.7386127875258306,0,1,1,2.7386127875258306,0\" stroke=\"#4c78a8\" stroke-width=\"2\" opacity=\"0.7\"></path><path aria-label=\"x1: -8.82424720391; x3: 6.77069547154; y: 1\" role=\"graphics-symbol\" aria-roledescription=\"point\" transform=\"translate(160.78112353819242,29.357313895096038)\" d=\"M2.7386127875258306,0A2.7386127875258306,2.7386127875258306,0,1,1,-2.7386127875258306,0A2.7386127875258306,2.7386127875258306,0,1,1,2.7386127875258306,0\" stroke=\"#4c78a8\" stroke-width=\"2\" opacity=\"0.7\"></path><path aria-label=\"x1: -10.9822706631; x3: -1.18159255052; y: 2\" role=\"graphics-symbol\" aria-roledescription=\"point\" transform=\"translate(151.1899081639111,101.65084136835698)\" d=\"M2.7386127875258306,0A2.7386127875258306,2.7386127875258306,0,1,1,-2.7386127875258306,0A2.7386127875258306,2.7386127875258306,0,1,1,2.7386127875258306,0\" stroke=\"#f58518\" stroke-width=\"2\" opacity=\"0.7\"></path><path aria-label=\"x1: -10.145938505; x3: 4.92536468302; y: 1\" role=\"graphics-symbol\" aria-roledescription=\"point\" transform=\"translate(154.9069399776627,46.133048336173864)\" d=\"M2.7386127875258306,0A2.7386127875258306,2.7386127875258306,0,1,1,-2.7386127875258306,0A2.7386127875258306,2.7386127875258306,0,1,1,2.7386127875258306,0\" stroke=\"#4c78a8\" stroke-width=\"2\" opacity=\"0.7\"></path><path aria-label=\"x1: -7.34240876891; x3: -9.73381003665; y: 2\" role=\"graphics-symbol\" aria-roledescription=\"point\" transform=\"translate(167.3670721381805,179.39827306048818)\" d=\"M2.7386127875258306,0A2.7386127875258306,2.7386127875258306,0,1,1,-2.7386127875258306,0A2.7386127875258306,2.7386127875258306,0,1,1,2.7386127875258306,0\" stroke=\"#f58518\" stroke-width=\"2\" opacity=\"0.7\"></path><path aria-label=\"x1: -10.1322263288; x3: 5.99113477811; y: 1\" role=\"graphics-symbol\" aria-roledescription=\"point\" transform=\"translate(154.96788298316005,36.44422928992852)\" d=\"M2.7386127875258306,0A2.7386127875258306,2.7386127875258306,0,1,1,-2.7386127875258306,0A2.7386127875258306,2.7386127875258306,0,1,1,2.7386127875258306,0\" stroke=\"#4c78a8\" stroke-width=\"2\" opacity=\"0.7\"></path><path aria-label=\"x1: -9.84039954992; x3: 6.59119464421; y: 1\" role=\"graphics-symbol\" aria-roledescription=\"point\" transform=\"translate(156.26489088923887,30.98913959811087)\" d=\"M2.7386127875258306,0A2.7386127875258306,2.7386127875258306,0,1,1,-2.7386127875258306,0A2.7386127875258306,2.7386127875258306,0,1,1,2.7386127875258306,0\" stroke=\"#4c78a8\" stroke-width=\"2\" opacity=\"0.7\"></path><path aria-label=\"x1: -9.83342597086; x3: 5.44539618125; y: 1\" role=\"graphics-symbol\" aria-roledescription=\"point\" transform=\"translate(156.29588457395238,41.4054892613313)\" d=\"M2.7386127875258306,0A2.7386127875258306,2.7386127875258306,0,1,1,-2.7386127875258306,0A2.7386127875258306,2.7386127875258306,0,1,1,2.7386127875258306,0\" stroke=\"#4c78a8\" stroke-width=\"2\" opacity=\"0.7\"></path><path aria-label=\"x1: -3.54522789393; x3: -5.03656890718; y: 2\" role=\"graphics-symbol\" aria-roledescription=\"point\" transform=\"translate(184.24343158253217,136.6960809743997)\" d=\"M2.7386127875258306,0A2.7386127875258306,2.7386127875258306,0,1,1,-2.7386127875258306,0A2.7386127875258306,2.7386127875258306,0,1,1,2.7386127875258306,0\" stroke=\"#f58518\" stroke-width=\"2\" opacity=\"0.7\"></path><path aria-label=\"x1: -4.30639605987; x3: -7.08543596012; y: 2\" role=\"graphics-symbol\" aria-roledescription=\"point\" transform=\"translate(180.86046195613142,155.32214509196572)\" d=\"M2.7386127875258306,0A2.7386127875258306,2.7386127875258306,0,1,1,-2.7386127875258306,0A2.7386127875258306,2.7386127875258306,0,1,1,2.7386127875258306,0\" stroke=\"#f58518\" stroke-width=\"2\" opacity=\"0.7\"></path><path aria-label=\"x1: -9.78141787107; x3: 8.20369365385; y: 1\" role=\"graphics-symbol\" aria-roledescription=\"point\" transform=\"translate(156.52703168413677,16.330057692311396)\" d=\"M2.7386127875258306,0A2.7386127875258306,2.7386127875258306,0,1,1,-2.7386127875258306,0A2.7386127875258306,2.7386127875258306,0,1,1,2.7386127875258306,0\" stroke=\"#4c78a8\" stroke-width=\"2\" opacity=\"0.7\"></path><path aria-label=\"x1: -9.55758668275; x3: -8.71625255188; y: 2\" role=\"graphics-symbol\" aria-roledescription=\"point\" transform=\"translate(157.52183696555113,170.14775047163306)\" d=\"M2.7386127875258306,0A2.7386127875258306,2.7386127875258306,0,1,1,-2.7386127875258306,0A2.7386127875258306,2.7386127875258306,0,1,1,2.7386127875258306,0\" stroke=\"#f58518\" stroke-width=\"2\" opacity=\"0.7\"></path><path aria-label=\"x1: -10.4839965753; x3: 7.38035903714; y: 1\" role=\"graphics-symbol\" aria-roledescription=\"point\" transform=\"translate(153.40445966537365,23.814917844217632)\" d=\"M2.7386127875258306,0A2.7386127875258306,2.7386127875258306,0,1,1,-2.7386127875258306,0A2.7386127875258306,2.7386127875258306,0,1,1,2.7386127875258306,0\" stroke=\"#4c78a8\" stroke-width=\"2\" opacity=\"0.7\"></path><path aria-label=\"x1: -9.23538340942; x3: 6.143161493; y: 1\" role=\"graphics-symbol\" aria-roledescription=\"point\" transform=\"translate(158.953851513699,35.06216824547581)\" d=\"M2.7386127875258306,0A2.7386127875258306,2.7386127875258306,0,1,1,-2.7386127875258306,0A2.7386127875258306,2.7386127875258306,0,1,1,2.7386127875258306,0\" stroke=\"#4c78a8\" stroke-width=\"2\" opacity=\"0.7\"></path><path aria-label=\"x1: -2.4352754405; x3: -8.21292816595; y: 2\" role=\"graphics-symbol\" aria-roledescription=\"point\" transform=\"translate(189.17655359775557,165.57207423591862)\" d=\"M2.7386127875258306,0A2.7386127875258306,2.7386127875258306,0,1,1,-2.7386127875258306,0A2.7386127875258306,2.7386127875258306,0,1,1,2.7386127875258306,0\" stroke=\"#f58518\" stroke-width=\"2\" opacity=\"0.7\"></path><path aria-label=\"x1: -10.323213366; x3: 4.68819031614; y: 1\" role=\"graphics-symbol\" aria-roledescription=\"point\" transform=\"translate(154.1190517067166,48.289178944188095)\" d=\"M2.7386127875258306,0A2.7386127875258306,2.7386127875258306,0,1,1,-2.7386127875258306,0A2.7386127875258306,2.7386127875258306,0,1,1,2.7386127875258306,0\" stroke=\"#4c78a8\" stroke-width=\"2\" opacity=\"0.7\"></path><path aria-label=\"x1: -3.31658818034; x3: -10.2568389026; y: 2\" role=\"graphics-symbol\" aria-roledescription=\"point\" transform=\"translate(185.2596080873695,184.1530809322779)\" d=\"M2.7386127875258306,0A2.7386127875258306,2.7386127875258306,0,1,1,-2.7386127875258306,0A2.7386127875258306,2.7386127875258306,0,1,1,2.7386127875258306,0\" stroke=\"#f58518\" stroke-width=\"2\" opacity=\"0.7\"></path></g><g class=\"mark-group role-legend\" role=\"graphics-symbol\" aria-roledescription=\"legend\" aria-label=\"Symbol legend titled 'y' for stroke color with 2 values: 1, 2\"><g transform=\"translate(218,0)\"><path class=\"background\" aria-hidden=\"true\" d=\"M0,0h21v45h-21Z\" pointer-events=\"none\"></path><g><g class=\"mark-group role-legend-entry\"><g transform=\"translate(0,16)\"><path class=\"background\" aria-hidden=\"true\" d=\"M0,0h0v0h0Z\" pointer-events=\"none\"></path><g><g class=\"mark-group role-scope\" role=\"graphics-object\" aria-roledescription=\"group mark container\"><g transform=\"translate(0,0)\"><path class=\"background\" aria-hidden=\"true\" d=\"M0,0h21v12.5h-21Z\" pointer-events=\"none\" opacity=\"1\"></path><g><g class=\"mark-symbol role-legend-symbol\" pointer-events=\"none\"><path transform=\"translate(6,6)\" d=\"M5,0A5,5,0,1,1,-5,0A5,5,0,1,1,5,0\" stroke=\"#4c78a8\" stroke-width=\"1.5\" opacity=\"0.7\"></path></g><g class=\"mark-text role-legend-label\" pointer-events=\"none\"><text text-anchor=\"start\" transform=\"translate(16,9)\" font-family=\"sans-serif\" font-size=\"10px\" fill=\"#000\" opacity=\"1\">1</text></g></g><path class=\"foreground\" aria-hidden=\"true\" d=\"\" pointer-events=\"none\" display=\"none\"></path></g><g transform=\"translate(0,16)\"><path class=\"background\" aria-hidden=\"true\" d=\"M0,0h21v12.5h-21Z\" pointer-events=\"none\" opacity=\"1\"></path><g><g class=\"mark-symbol role-legend-symbol\" pointer-events=\"none\"><path transform=\"translate(6,6)\" d=\"M5,0A5,5,0,1,1,-5,0A5,5,0,1,1,5,0\" stroke=\"#f58518\" stroke-width=\"1.5\" opacity=\"0.7\"></path></g><g class=\"mark-text role-legend-label\" pointer-events=\"none\"><text text-anchor=\"start\" transform=\"translate(16,9)\" font-family=\"sans-serif\" font-size=\"10px\" fill=\"#000\" opacity=\"1\">2</text></g></g><path class=\"foreground\" aria-hidden=\"true\" d=\"\" pointer-events=\"none\" display=\"none\"></path></g></g></g><path class=\"foreground\" aria-hidden=\"true\" d=\"\" pointer-events=\"none\" display=\"none\"></path></g></g><g class=\"mark-text role-legend-title\" pointer-events=\"none\"><text text-anchor=\"start\" transform=\"translate(0,9)\" font-family=\"sans-serif\" font-size=\"11px\" font-weight=\"bold\" fill=\"#000\" opacity=\"1\">y</text></g></g><path class=\"foreground\" aria-hidden=\"true\" d=\"\" pointer-events=\"none\" display=\"none\"></path></g></g></g><path class=\"foreground\" aria-hidden=\"true\" d=\"\" display=\"none\"></path></g></g></g></svg>\n"
      ],
      "text/plain": [
       "@vlplot(\n",
       "    mark=\"point\",\n",
       "    encoding={\n",
       "        x={\n",
       "            field=\"x1\"\n",
       "        },\n",
       "        y={\n",
       "            field=\"x3\"\n",
       "        },\n",
       "        color={\n",
       "            field=\"y\",\n",
       "            type=\"nominal\"\n",
       "        }\n",
       "    },\n",
       "    data={\n",
       "        values=...\n",
       "    }\n",
       ")"
      ]
     },
     "execution_count": 4,
     "metadata": {},
     "output_type": "execute_result"
    }
   ],
   "source": [
    "dfBlobs |> @vlplot(:point, x=:x1, y=:x3, color = :\"y:n\") "
   ]
  },
  {
   "cell_type": "code",
   "execution_count": 5,
   "metadata": {},
   "outputs": [
    {
     "data": {
      "application/vnd.vegalite.v4+json": {
       "data": {
        "values": [
         {
          "x1": -7.744357117489628,
          "x2": -7.4138109129362535,
          "x3": -7.166194358216513,
          "y": 2
         },
         {
          "x1": -10.169766844175568,
          "x2": 3.6344661877804576,
          "x3": 7.757786094075769,
          "y": 1
         },
         {
          "x1": -9.869964805999908,
          "x2": 2.6756827293054566,
          "x3": 6.311618087254873,
          "y": 1
         },
         {
          "x1": -8.564472378795708,
          "x2": -3.198765919324468,
          "x3": -2.3163019243968455,
          "y": 2
         },
         {
          "x1": -9.05949339376285,
          "x2": -9.473974534633498,
          "x3": -6.599313766964218,
          "y": 2
         },
         {
          "x1": -11.263159981274763,
          "x2": 0.6643298460150384,
          "x3": 6.759013730817932,
          "y": 1
         },
         {
          "x1": -11.632512507169118,
          "x2": 2.2145341509992487,
          "x3": 6.985523523021361,
          "y": 1
         },
         {
          "x1": -4.889840857988015,
          "x2": -1.1313668877725078,
          "x3": -1.846562250112366,
          "y": 2
         },
         {
          "x1": -10.091290569064391,
          "x2": 3.019852666927241,
          "x3": 5.712745830125965,
          "y": 1
         },
         {
          "x1": -8.68779505171656,
          "x2": 3.3186846751110046,
          "x3": 5.231489530009867,
          "y": 1
         },
         {
          "x1": -10.906257245773952,
          "x2": 0.8070298945117695,
          "x3": 8.043999452165545,
          "y": 1
         },
         {
          "x1": -4.458821334141107,
          "x2": 1.8331102990342183,
          "x3": -11.426430962372923,
          "y": 2
         },
         {
          "x1": -10.773706803140978,
          "x2": 0.29750567934757965,
          "x3": 7.019894638902764,
          "y": 1
         },
         {
          "x1": -10.927704142205188,
          "x2": -5.4606356237583356,
          "x3": -8.673952156276883,
          "y": 2
         },
         {
          "x1": -10.241456765699098,
          "x2": 2.9155969971770865,
          "x3": 5.212994465429636,
          "y": 1
         },
         {
          "x1": -11.615999029674681,
          "x2": 4.973392946988572,
          "x3": 6.5459641102290265,
          "y": 1
         },
         {
          "x1": -10.135557553639712,
          "x2": -9.865480527735947,
          "x3": -10.627596218724834,
          "y": 2
         },
         {
          "x1": -8.63414629435103,
          "x2": 2.7180950016734604,
          "x3": 6.5705655578865905,
          "y": 1
         },
         {
          "x1": -5.610179887403097,
          "x2": -7.634437924533264,
          "x3": -5.474528644738744,
          "y": 2
         },
         {
          "x1": -14.088080941754423,
          "x2": -5.996732182238524,
          "x3": -5.823879460881249,
          "y": 2
         },
         {
          "x1": -8.488455330669355,
          "x2": -1.7488213739584273,
          "x3": -0.2447553084253551,
          "y": 2
         },
         {
          "x1": -7.132372120438893,
          "x2": -5.926635929139432,
          "x3": -6.392305670027328,
          "y": 2
         },
         {
          "x1": -10.006442711528303,
          "x2": 3.057484602930421,
          "x3": 5.588277655315813,
          "y": 1
         },
         {
          "x1": -0.6720987642701379,
          "x2": -5.4303341042297495,
          "x3": -8.024239222162459,
          "y": 2
         },
         {
          "x1": -5.785800797191217,
          "x2": -10.121604333604305,
          "x3": -7.159853528545678,
          "y": 2
         },
         {
          "x1": -10.025279918603744,
          "x2": -6.443948571149005,
          "x3": -11.657436641095714,
          "y": 2
         },
         {
          "x1": -1.7754103509890085,
          "x2": -5.45647251810803,
          "x3": -3.0640014318034963,
          "y": 2
         },
         {
          "x1": -10.008242256176725,
          "x2": 1.7447034784323288,
          "x3": 5.72570409318265,
          "y": 1
         },
         {
          "x1": -9.021177713771785,
          "x2": 2.7573040346155326,
          "x3": 7.613038638114071,
          "y": 1
         },
         {
          "x1": -11.282169887758437,
          "x2": 4.156637876667006,
          "x3": 3.891344422536236,
          "y": 1
         },
         {
          "x1": -7.563568188842957,
          "x2": -12.57282288377207,
          "x3": -3.149583837625914,
          "y": 2
         },
         {
          "x1": -9.493987232806054,
          "x2": -7.077827731377948,
          "x3": -6.287503095015682,
          "y": 2
         },
         {
          "x1": -5.188343631314885,
          "x2": -2.5182430351464618,
          "x3": -2.0891484351567478,
          "y": 2
         },
         {
          "x1": -4.453242930329344,
          "x2": -1.7111948402047918,
          "x3": -6.309035740141189,
          "y": 2
         },
         {
          "x1": -9.299993047816738,
          "x2": 2.6137496632899593,
          "x3": 6.196511602448849,
          "y": 1
         },
         {
          "x1": -9.050210316000063,
          "x2": -4.861892707125388,
          "x3": -5.835471935138019,
          "y": 2
         },
         {
          "x1": -10.292142902713817,
          "x2": 3.013936921354623,
          "x3": 7.475881274490196,
          "y": 1
         },
         {
          "x1": -9.5424633383346,
          "x2": 1.8856922693998333,
          "x3": 6.308620696791144,
          "y": 1
         },
         {
          "x1": -40.334465797622016,
          "x2": 1.4742473808691612,
          "x3": 7.939391799000627,
          "y": 1
         },
         {
          "x1": -9.60717131364403,
          "x2": 3.2636093164647098,
          "x3": 3.4411907904542685,
          "y": 1
         },
         {
          "x1": -16.001641815641804,
          "x2": -8.821133583006468,
          "x3": -4.468166696037173,
          "y": 2
         },
         {
          "x1": -8.846624942997956,
          "x2": -5.324986854199555,
          "x3": -9.893365760606088,
          "y": 2
         },
         {
          "x1": -8.779750053349362,
          "x2": 2.8228603242772388,
          "x3": 7.667568424616271,
          "y": 1
         },
         {
          "x1": -9.267126816787947,
          "x2": 2.4690203552459398,
          "x3": 6.138196385081673,
          "y": 1
         },
         {
          "x1": -12.454353090400318,
          "x2": -9.161344526468774,
          "x3": -3.3500611511484415,
          "y": 2
         },
         {
          "x1": -9.97654680240407,
          "x2": 3.4262131660580497,
          "x3": 5.495922254214468,
          "y": 1
         },
         {
          "x1": -10.104512561149939,
          "x2": 2.3353619078157712,
          "x3": 5.762921210128058,
          "y": 1
         },
         {
          "x1": -9.724194663534929,
          "x2": 2.0532914251187124,
          "x3": 6.1122904751917515,
          "y": 1
         },
         {
          "x1": -7.910344669499037,
          "x2": 3.316211153438866,
          "x3": 6.2720049230893995,
          "y": 1
         },
         {
          "x1": -11.493598805895438,
          "x2": 2.498979906801947,
          "x3": 6.941694463149649,
          "y": 1
         },
         {
          "x1": -11.375682878932267,
          "x2": 3.1305669084514975,
          "x3": 4.334556212620098,
          "y": 1
         },
         {
          "x1": -5.645232299734359,
          "x2": -4.894192613423472,
          "x3": -0.7295138440706914,
          "y": 2
         },
         {
          "x1": -6.440505141067281,
          "x2": -4.193271802041831,
          "x3": -3.997401115418274,
          "y": 2
         },
         {
          "x1": -4.608031711330796,
          "x2": -8.832365831595478,
          "x3": -9.560826874328644,
          "y": 2
         },
         {
          "x1": -15.663928035168151,
          "x2": -3.7371891871347906,
          "x3": -0.553988264450588,
          "y": 2
         },
         {
          "x1": -9.65401692650232,
          "x2": 1.7589420309224513,
          "x3": 5.936214262766114,
          "y": 1
         },
         {
          "x1": -8.423068391297583,
          "x2": 0.14180530015322734,
          "x3": -3.1663012600418634,
          "y": 2
         },
         {
          "x1": -7.409215473838609,
          "x2": -10.307269228072492,
          "x3": -4.859127546492246,
          "y": 2
         },
         {
          "x1": -6.989262417032678,
          "x2": -8.284166544911693,
          "x3": -5.849796752481096,
          "y": 2
         },
         {
          "x1": -9.569084285646124,
          "x2": -2.2148561259778936,
          "x3": -6.9920962150057715,
          "y": 2
         },
         {
          "x1": -10.074421400529069,
          "x2": 3.2704619074358825,
          "x3": 6.643965616016228,
          "y": 1
         },
         {
          "x1": -11.944685863079256,
          "x2": 3.500629603804035,
          "x3": 5.166155560550053,
          "y": 1
         },
         {
          "x1": -7.487670822901118,
          "x2": -5.4231949887646085,
          "x3": -4.141644415083665,
          "y": 2
         },
         {
          "x1": -10.08464490308583,
          "x2": 1.0828868315314024,
          "x3": 5.0845910788439435,
          "y": 1
         },
         {
          "x1": -4.723058033740246,
          "x2": 0.5208206822747519,
          "x3": -2.972925305411678,
          "y": 2
         },
         {
          "x1": -8.16364346545905,
          "x2": -6.064970722613774,
          "x3": -10.636855540025143,
          "y": 2
         },
         {
          "x1": -9.920885043425113,
          "x2": 2.976729912343461,
          "x3": 5.2390586176268075,
          "y": 1
         },
         {
          "x1": -9.706026104144845,
          "x2": -0.5145427267946996,
          "x3": -6.6261186415764675,
          "y": 2
         },
         {
          "x1": -8.881080184276396,
          "x2": 1.601079831228225,
          "x3": 5.220758373994436,
          "y": 1
         },
         {
          "x1": -9.331811122039513,
          "x2": 2.7703449873891124,
          "x3": 5.133122942743255,
          "y": 1
         },
         {
          "x1": -2.896950381227848,
          "x2": -8.74791878036524,
          "x3": -7.595516335841603,
          "y": 2
         },
         {
          "x1": -10.851957490052257,
          "x2": 2.841890655356559,
          "x3": 5.796315811754153,
          "y": 1
         },
         {
          "x1": -9.05418266356713,
          "x2": 1.7633261773309525,
          "x3": 5.664132249449129,
          "y": 1
         },
         {
          "x1": -0.32163930105899574,
          "x2": -1.6283998544398512,
          "x3": -11.05332220837737,
          "y": 2
         },
         {
          "x1": -10.56949102193102,
          "x2": 2.3872133521906966,
          "x3": 4.234067898968043,
          "y": 1
         },
         {
          "x1": -6.167017356905161,
          "x2": -3.515218485086649,
          "x3": -5.463847987015179,
          "y": 2
         },
         {
          "x1": -11.123501314379325,
          "x2": 1.8743852626981437,
          "x3": 6.8382009398087815,
          "y": 1
         },
         {
          "x1": -6.734147946714745,
          "x2": -8.79105822706388,
          "x3": -10.266614782876553,
          "y": 2
         },
         {
          "x1": -9.600563675911388,
          "x2": 3.4476337391436918,
          "x3": 4.7904008906413695,
          "y": 1
         },
         {
          "x1": -6.067746035151045,
          "x2": -7.5094035753457975,
          "x3": -7.626689668426885,
          "y": 2
         },
         {
          "x1": -3.6755635000529283,
          "x2": -10.368930018678228,
          "x3": -3.013651871413346,
          "y": 2
         },
         {
          "x1": -7.4484261451513705,
          "x2": -2.261690161776597,
          "x3": -4.131262069440472,
          "y": 2
         },
         {
          "x1": -5.780819253610448,
          "x2": -0.8912753275471239,
          "x3": -4.328173456676059,
          "y": 2
         },
         {
          "x1": -9.066720749206361,
          "x2": 2.3366220437731084,
          "x3": 6.581199254817836,
          "y": 1
         },
         {
          "x1": -8.82424720390671,
          "x2": 3.278806640962209,
          "x3": 6.770695471539436,
          "y": 1
         },
         {
          "x1": -10.982270663120008,
          "x2": -1.9290417141742031,
          "x3": -1.1815925505192677,
          "y": 2
         },
         {
          "x1": -10.145938505025892,
          "x2": 3.4497183888492886,
          "x3": 4.925364683020873,
          "y": 1
         },
         {
          "x1": -7.342408768909384,
          "x2": -6.757663331844414,
          "x3": -9.733810036653699,
          "y": 2
         },
         {
          "x1": -10.13222632878899,
          "x2": 3.365957033705346,
          "x3": 5.991134778107864,
          "y": 1
         },
         {
          "x1": -9.84039954992125,
          "x2": 2.0973829790831524,
          "x3": 6.591194644207802,
          "y": 1
         },
         {
          "x1": -9.833425970860716,
          "x2": 2.624152959868903,
          "x3": 5.4453961812535585,
          "y": 1
         },
         {
          "x1": -3.5452278939302566,
          "x2": -3.6692891269272745,
          "x3": -5.036568907183964,
          "y": 2
         },
         {
          "x1": -4.306396059870429,
          "x2": -1.7493689193623907,
          "x3": -7.085435960116231,
          "y": 2
         },
         {
          "x1": -9.781417871069223,
          "x2": 3.1582328457733606,
          "x3": 8.203693653845749,
          "y": 1
         },
         {
          "x1": -9.55758668275099,
          "x2": -2.6845489847088326,
          "x3": -8.716252551879638,
          "y": 2
         },
         {
          "x1": -10.48399657529093,
          "x2": 0.77658205561337,
          "x3": 7.380359037136062,
          "y": 1
         },
         {
          "x1": -9.235383409417729,
          "x2": 3.280735466623714,
          "x3": 6.143161492997659,
          "y": 1
         },
         {
          "x1": -2.4352754405049915,
          "x2": -8.985989587941924,
          "x3": -8.212928165951048,
          "y": 2
         },
         {
          "x1": -10.323213365988764,
          "x2": 3.2518653504487984,
          "x3": 4.688190316139308,
          "y": 1
         },
         {
          "x1": -3.316588180341868,
          "x2": -7.531468373919796,
          "x3": -10.256838902550568,
          "y": 2
         }
        ]
       },
       "encoding": {
        "color": {
         "field": "y",
         "type": "nominal"
        },
        "x": {
         "field": "x2",
         "type": "quantitative"
        },
        "y": {
         "field": "x3",
         "type": "quantitative"
        }
       },
       "mark": "point"
      },
      "image/png": "[encoded data removed]",
      "image/svg+xml": [
       "<?xml version=\"1.0\" encoding=\"utf-8\"?>\n",
       "<!DOCTYPE svg PUBLIC \"-//W3C//DTD SVG 1.1//EN\" \"http://www.w3.org/Graphics/SVG/1.1/DTD/svg11.dtd\">\n",
       "<svg class=\"marks\" width=\"285\" height=\"247\" viewBox=\"0 0 285 247\" version=\"1.1\" xmlns=\"http://www.w3.org/2000/svg\" xmlns:xlink=\"http://www.w3.org/1999/xlink\"><rect width=\"285\" height=\"247\" fill=\"white\"></rect><g fill=\"none\" stroke-miterlimit=\"10\" transform=\"translate(41,10)\"><g class=\"mark-group role-frame root\" role=\"graphics-object\" aria-roledescription=\"group mark container\"><g transform=\"translate(0,0)\"><path class=\"background\" aria-hidden=\"true\" d=\"M0.5,0.5h200v200h-200Z\" stroke=\"#ddd\"></path><g><g class=\"mark-group role-axis\" aria-hidden=\"true\"><g transform=\"translate(0.5,200.5)\"><path class=\"background\" aria-hidden=\"true\" d=\"M0,0h0v0h0Z\" pointer-events=\"none\"></path><g><g class=\"mark-rule role-axis-grid\" pointer-events=\"none\"><line transform=\"translate(40,-200)\" x2=\"0\" y2=\"200\" stroke=\"#ddd\" stroke-width=\"1\" opacity=\"1\"></line><line transform=\"translate(90,-200)\" x2=\"0\" y2=\"200\" stroke=\"#ddd\" stroke-width=\"1\" opacity=\"1\"></line><line transform=\"translate(140,-200)\" x2=\"0\" y2=\"200\" stroke=\"#ddd\" stroke-width=\"1\" opacity=\"1\"></line><line transform=\"translate(190,-200)\" x2=\"0\" y2=\"200\" stroke=\"#ddd\" stroke-width=\"1\" opacity=\"1\"></line></g></g><path class=\"foreground\" aria-hidden=\"true\" d=\"\" pointer-events=\"none\" display=\"none\"></path></g></g><g class=\"mark-group role-axis\" aria-hidden=\"true\"><g transform=\"translate(0.5,0.5)\"><path class=\"background\" aria-hidden=\"true\" d=\"M0,0h0v0h0Z\" pointer-events=\"none\"></path><g><g class=\"mark-rule role-axis-grid\" pointer-events=\"none\"><line transform=\"translate(0,182)\" x2=\"200\" y2=\"0\" stroke=\"#ddd\" stroke-width=\"1\" opacity=\"1\"></line><line transform=\"translate(0,136)\" x2=\"200\" y2=\"0\" stroke=\"#ddd\" stroke-width=\"1\" opacity=\"1\"></line><line transform=\"translate(0,91)\" x2=\"200\" y2=\"0\" stroke=\"#ddd\" stroke-width=\"1\" opacity=\"1\"></line><line transform=\"translate(0,45)\" x2=\"200\" y2=\"0\" stroke=\"#ddd\" stroke-width=\"1\" opacity=\"1\"></line><line transform=\"translate(0,0)\" x2=\"200\" y2=\"0\" stroke=\"#ddd\" stroke-width=\"1\" opacity=\"1\"></line></g></g><path class=\"foreground\" aria-hidden=\"true\" d=\"\" pointer-events=\"none\" display=\"none\"></path></g></g><g class=\"mark-group role-axis\" role=\"graphics-symbol\" aria-roledescription=\"axis\" aria-label=\"X-axis titled 'x2' for a linear scale with values from -14 to 6\"><g transform=\"translate(0.5,200.5)\"><path class=\"background\" aria-hidden=\"true\" d=\"M0,0h0v0h0Z\" pointer-events=\"none\"></path><g><g class=\"mark-rule role-axis-tick\" pointer-events=\"none\"><line transform=\"translate(40,0)\" x2=\"0\" y2=\"5\" stroke=\"#888\" stroke-width=\"1\" opacity=\"1\"></line><line transform=\"translate(90,0)\" x2=\"0\" y2=\"5\" stroke=\"#888\" stroke-width=\"1\" opacity=\"1\"></line><line transform=\"translate(140,0)\" x2=\"0\" y2=\"5\" stroke=\"#888\" stroke-width=\"1\" opacity=\"1\"></line><line transform=\"translate(190,0)\" x2=\"0\" y2=\"5\" stroke=\"#888\" stroke-width=\"1\" opacity=\"1\"></line></g><g class=\"mark-text role-axis-label\" pointer-events=\"none\"><text text-anchor=\"middle\" transform=\"translate(40,15)\" font-family=\"sans-serif\" font-size=\"10px\" fill=\"#000\" opacity=\"1\">-10</text><text text-anchor=\"middle\" transform=\"translate(90,15)\" font-family=\"sans-serif\" font-size=\"10px\" fill=\"#000\" opacity=\"1\">-5</text><text text-anchor=\"middle\" transform=\"translate(140,15)\" font-family=\"sans-serif\" font-size=\"10px\" fill=\"#000\" opacity=\"1\">0</text><text text-anchor=\"middle\" transform=\"translate(190,15)\" font-family=\"sans-serif\" font-size=\"10px\" fill=\"#000\" opacity=\"1\">5</text></g><g class=\"mark-rule role-axis-domain\" pointer-events=\"none\"><line transform=\"translate(0,0)\" x2=\"200\" y2=\"0\" stroke=\"#888\" stroke-width=\"1\" opacity=\"1\"></line></g><g class=\"mark-text role-axis-title\" pointer-events=\"none\"><text text-anchor=\"middle\" transform=\"translate(100,30)\" font-family=\"sans-serif\" font-size=\"11px\" font-weight=\"bold\" fill=\"#000\" opacity=\"1\">x2</text></g></g><path class=\"foreground\" aria-hidden=\"true\" d=\"\" pointer-events=\"none\" display=\"none\"></path></g></g><g class=\"mark-group role-axis\" role=\"graphics-symbol\" aria-roledescription=\"axis\" aria-label=\"Y-axis titled 'x3' for a linear scale with values from -12 to 10\"><g transform=\"translate(0.5,0.5)\"><path class=\"background\" aria-hidden=\"true\" d=\"M0,0h0v0h0Z\" pointer-events=\"none\"></path><g><g class=\"mark-rule role-axis-tick\" pointer-events=\"none\"><line transform=\"translate(0,182)\" x2=\"-5\" y2=\"0\" stroke=\"#888\" stroke-width=\"1\" opacity=\"1\"></line><line transform=\"translate(0,136)\" x2=\"-5\" y2=\"0\" stroke=\"#888\" stroke-width=\"1\" opacity=\"1\"></line><line transform=\"translate(0,91)\" x2=\"-5\" y2=\"0\" stroke=\"#888\" stroke-width=\"1\" opacity=\"1\"></line><line transform=\"translate(0,45)\" x2=\"-5\" y2=\"0\" stroke=\"#888\" stroke-width=\"1\" opacity=\"1\"></line><line transform=\"translate(0,0)\" x2=\"-5\" y2=\"0\" stroke=\"#888\" stroke-width=\"1\" opacity=\"1\"></line></g><g class=\"mark-text role-axis-label\" pointer-events=\"none\"><text text-anchor=\"end\" transform=\"translate(-7,184.8181818181818)\" font-family=\"sans-serif\" font-size=\"10px\" fill=\"#000\" opacity=\"1\">-10</text><text text-anchor=\"end\" transform=\"translate(-7,139.36363636363637)\" font-family=\"sans-serif\" font-size=\"10px\" fill=\"#000\" opacity=\"1\">-5</text><text text-anchor=\"end\" transform=\"translate(-7,93.90909090909092)\" font-family=\"sans-serif\" font-size=\"10px\" fill=\"#000\" opacity=\"1\">0</text><text text-anchor=\"end\" transform=\"translate(-7,48.45454545454546)\" font-family=\"sans-serif\" font-size=\"10px\" fill=\"#000\" opacity=\"1\">5</text><text text-anchor=\"end\" transform=\"translate(-7,3)\" font-family=\"sans-serif\" font-size=\"10px\" fill=\"#000\" opacity=\"1\">10</text></g><g class=\"mark-rule role-axis-domain\" pointer-events=\"none\"><line transform=\"translate(0,200)\" x2=\"0\" y2=\"-200\" stroke=\"#888\" stroke-width=\"1\" opacity=\"1\"></line></g><g class=\"mark-text role-axis-title\" pointer-events=\"none\"><text text-anchor=\"middle\" transform=\"translate(-25,100) rotate(-90) translate(0,-2)\" font-family=\"sans-serif\" font-size=\"11px\" font-weight=\"bold\" fill=\"#000\" opacity=\"1\">x3</text></g></g><path class=\"foreground\" aria-hidden=\"true\" d=\"\" pointer-events=\"none\" display=\"none\"></path></g></g><g class=\"mark-symbol role-mark marks\" role=\"graphics-object\" aria-roledescription=\"symbol mark container\"><path aria-label=\"x2: -7.41381091294; x3: -7.16619435822; y: 2\" role=\"graphics-symbol\" aria-roledescription=\"point\" transform=\"translate(65.86189087063747,156.05631234742285)\" d=\"M2.7386127875258306,0A2.7386127875258306,2.7386127875258306,0,1,1,-2.7386127875258306,0A2.7386127875258306,2.7386127875258306,0,1,1,2.7386127875258306,0\" stroke=\"#f58518\" stroke-width=\"2\" opacity=\"0.7\"></path><path aria-label=\"x2: 3.63446618778; x3: 7.75778609408; y: 1\" role=\"graphics-symbol\" aria-roledescription=\"point\" transform=\"translate(176.34466187780458,20.383762781129366)\" d=\"M2.7386127875258306,0A2.7386127875258306,2.7386127875258306,0,1,1,-2.7386127875258306,0A2.7386127875258306,2.7386127875258306,0,1,1,2.7386127875258306,0\" stroke=\"#4c78a8\" stroke-width=\"2\" opacity=\"0.7\"></path><path aria-label=\"x2: 2.67568272931; x3: 6.31161808725; y: 1\" role=\"graphics-symbol\" aria-roledescription=\"point\" transform=\"translate(166.75682729305456,33.53074466131935)\" d=\"M2.7386127875258306,0A2.7386127875258306,2.7386127875258306,0,1,1,-2.7386127875258306,0A2.7386127875258306,2.7386127875258306,0,1,1,2.7386127875258306,0\" stroke=\"#4c78a8\" stroke-width=\"2\" opacity=\"0.7\"></path><path aria-label=\"x2: -3.19876591932; x3: -2.3163019244; y: 2\" role=\"graphics-symbol\" aria-roledescription=\"point\" transform=\"translate(108.0123408067553,111.96638113088042)\" d=\"M2.7386127875258306,0A2.7386127875258306,2.7386127875258306,0,1,1,-2.7386127875258306,0A2.7386127875258306,2.7386127875258306,0,1,1,2.7386127875258306,0\" stroke=\"#f58518\" stroke-width=\"2\" opacity=\"0.7\"></path><path aria-label=\"x2: -9.47397453463; x3: -6.59931376696; y: 2\" role=\"graphics-symbol\" aria-roledescription=\"point\" transform=\"translate(45.260254653665015,150.90285242694742)\" d=\"M2.7386127875258306,0A2.7386127875258306,2.7386127875258306,0,1,1,-2.7386127875258306,0A2.7386127875258306,2.7386127875258306,0,1,1,2.7386127875258306,0\" stroke=\"#f58518\" stroke-width=\"2\" opacity=\"0.7\"></path><path aria-label=\"x2: 0.664329846015; x3: 6.75901373082; y: 1\" role=\"graphics-symbol\" aria-roledescription=\"point\" transform=\"translate(146.6432984601504,29.463511538018782)\" d=\"M2.7386127875258306,0A2.7386127875258306,2.7386127875258306,0,1,1,-2.7386127875258306,0A2.7386127875258306,2.7386127875258306,0,1,1,2.7386127875258306,0\" stroke=\"#4c78a8\" stroke-width=\"2\" opacity=\"0.7\"></path><path aria-label=\"x2: 2.214534151; x3: 6.98552352302; y: 1\" role=\"graphics-symbol\" aria-roledescription=\"point\" transform=\"translate(162.14534150999248,27.404331608896726)\" d=\"M2.7386127875258306,0A2.7386127875258306,2.7386127875258306,0,1,1,-2.7386127875258306,0A2.7386127875258306,2.7386127875258306,0,1,1,2.7386127875258306,0\" stroke=\"#4c78a8\" stroke-width=\"2\" opacity=\"0.7\"></path><path aria-label=\"x2: -1.13136688777; x3: -1.84656225011; y: 2\" role=\"graphics-symbol\" aria-roledescription=\"point\" transform=\"translate(128.6863311222749,107.69602045556698)\" d=\"M2.7386127875258306,0A2.7386127875258306,2.7386127875258306,0,1,1,-2.7386127875258306,0A2.7386127875258306,2.7386127875258306,0,1,1,2.7386127875258306,0\" stroke=\"#f58518\" stroke-width=\"2\" opacity=\"0.7\"></path><path aria-label=\"x2: 3.01985266693; x3: 5.71274583013; y: 1\" role=\"graphics-symbol\" aria-roledescription=\"point\" transform=\"translate(170.1985266692724,38.97503790794579)\" d=\"M2.7386127875258306,0A2.7386127875258306,2.7386127875258306,0,1,1,-2.7386127875258306,0A2.7386127875258306,2.7386127875258306,0,1,1,2.7386127875258306,0\" stroke=\"#4c78a8\" stroke-width=\"2\" opacity=\"0.7\"></path><path aria-label=\"x2: 3.31868467511; x3: 5.23148953001; y: 1\" role=\"graphics-symbol\" aria-roledescription=\"point\" transform=\"translate(173.18684675111004,43.35009518172848)\" d=\"M2.7386127875258306,0A2.7386127875258306,2.7386127875258306,0,1,1,-2.7386127875258306,0A2.7386127875258306,2.7386127875258306,0,1,1,2.7386127875258306,0\" stroke=\"#4c78a8\" stroke-width=\"2\" opacity=\"0.7\"></path><path aria-label=\"x2: 0.807029894512; x3: 8.04399945217; y: 1\" role=\"graphics-symbol\" aria-roledescription=\"point\" transform=\"translate(148.07029894511768,17.781823162131417)\" d=\"M2.7386127875258306,0A2.7386127875258306,2.7386127875258306,0,1,1,-2.7386127875258306,0A2.7386127875258306,2.7386127875258306,0,1,1,2.7386127875258306,0\" stroke=\"#4c78a8\" stroke-width=\"2\" opacity=\"0.7\"></path><path aria-label=\"x2: 1.83311029903; x3: -11.4264309624; y: 2\" role=\"graphics-symbol\" aria-roledescription=\"point\" transform=\"translate(158.33110299034217,194.78573602157203)\" d=\"M2.7386127875258306,0A2.7386127875258306,2.7386127875258306,0,1,1,-2.7386127875258306,0A2.7386127875258306,2.7386127875258306,0,1,1,2.7386127875258306,0\" stroke=\"#f58518\" stroke-width=\"2\" opacity=\"0.7\"></path><path aria-label=\"x2: 0.297505679348; x3: 7.0198946389; y: 1\" role=\"graphics-symbol\" aria-roledescription=\"point\" transform=\"translate(142.9750567934758,27.0918669190658)\" d=\"M2.7386127875258306,0A2.7386127875258306,2.7386127875258306,0,1,1,-2.7386127875258306,0A2.7386127875258306,2.7386127875258306,0,1,1,2.7386127875258306,0\" stroke=\"#4c78a8\" stroke-width=\"2\" opacity=\"0.7\"></path><path aria-label=\"x2: -5.46063562376; x3: -8.67395215628; y: 2\" role=\"graphics-symbol\" aria-roledescription=\"point\" transform=\"translate(85.39364376241664,169.76320142069895)\" d=\"M2.7386127875258306,0A2.7386127875258306,2.7386127875258306,0,1,1,-2.7386127875258306,0A2.7386127875258306,2.7386127875258306,0,1,1,2.7386127875258306,0\" stroke=\"#f58518\" stroke-width=\"2\" opacity=\"0.7\"></path><path aria-label=\"x2: 2.91559699718; x3: 5.21299446543; y: 1\" role=\"graphics-symbol\" aria-roledescription=\"point\" transform=\"translate(169.15596997177087,43.51823213245785)\" d=\"M2.7386127875258306,0A2.7386127875258306,2.7386127875258306,0,1,1,-2.7386127875258306,0A2.7386127875258306,2.7386127875258306,0,1,1,2.7386127875258306,0\" stroke=\"#4c78a8\" stroke-width=\"2\" opacity=\"0.7\"></path><path aria-label=\"x2: 4.97339294699; x3: 6.54596411023; y: 1\" role=\"graphics-symbol\" aria-roledescription=\"point\" transform=\"translate(189.7339294698857,31.400326270645216)\" d=\"M2.7386127875258306,0A2.7386127875258306,2.7386127875258306,0,1,1,-2.7386127875258306,0A2.7386127875258306,2.7386127875258306,0,1,1,2.7386127875258306,0\" stroke=\"#4c78a8\" stroke-width=\"2\" opacity=\"0.7\"></path><path aria-label=\"x2: -9.86548052774; x3: -10.6275962187; y: 2\" role=\"graphics-symbol\" aria-roledescription=\"point\" transform=\"translate(41.34519472264053,187.5236019884076)\" d=\"M2.7386127875258306,0A2.7386127875258306,2.7386127875258306,0,1,1,-2.7386127875258306,0A2.7386127875258306,2.7386127875258306,0,1,1,2.7386127875258306,0\" stroke=\"#f58518\" stroke-width=\"2\" opacity=\"0.7\"></path><path aria-label=\"x2: 2.71809500167; x3: 6.57056555789; y: 1\" role=\"graphics-symbol\" aria-roledescription=\"point\" transform=\"translate(167.1809500167346,31.176676746485565)\" d=\"M2.7386127875258306,0A2.7386127875258306,2.7386127875258306,0,1,1,-2.7386127875258306,0A2.7386127875258306,2.7386127875258306,0,1,1,2.7386127875258306,0\" stroke=\"#4c78a8\" stroke-width=\"2\" opacity=\"0.7\"></path><path aria-label=\"x2: -7.63443792453; x3: -5.47452864474; y: 2\" role=\"graphics-symbol\" aria-roledescription=\"point\" transform=\"translate(63.65562075466735,140.6775331339886)\" d=\"M2.7386127875258306,0A2.7386127875258306,2.7386127875258306,0,1,1,-2.7386127875258306,0A2.7386127875258306,2.7386127875258306,0,1,1,2.7386127875258306,0\" stroke=\"#f58518\" stroke-width=\"2\" opacity=\"0.7\"></path><path aria-label=\"x2: -5.99673218224; x3: -5.82387946088; y: 2\" role=\"graphics-symbol\" aria-roledescription=\"point\" transform=\"translate(80.03267817761476,143.853449644375)\" d=\"M2.7386127875258306,0A2.7386127875258306,2.7386127875258306,0,1,1,-2.7386127875258306,0A2.7386127875258306,2.7386127875258306,0,1,1,2.7386127875258306,0\" stroke=\"#f58518\" stroke-width=\"2\" opacity=\"0.7\"></path><path aria-label=\"x2: -1.74882137396; x3: -0.244755308425; y: 2\" role=\"graphics-symbol\" aria-roledescription=\"point\" transform=\"translate(122.51178626041572,93.13413916750322)\" d=\"M2.7386127875258306,0A2.7386127875258306,2.7386127875258306,0,1,1,-2.7386127875258306,0A2.7386127875258306,2.7386127875258306,0,1,1,2.7386127875258306,0\" stroke=\"#f58518\" stroke-width=\"2\" opacity=\"0.7\"></path><path aria-label=\"x2: -5.92663592914; x3: -6.39230567003; y: 2\" role=\"graphics-symbol\" aria-roledescription=\"point\" transform=\"translate(80.73364070860566,149.02096063661207)\" d=\"M2.7386127875258306,0A2.7386127875258306,2.7386127875258306,0,1,1,-2.7386127875258306,0A2.7386127875258306,2.7386127875258306,0,1,1,2.7386127875258306,0\" stroke=\"#f58518\" stroke-width=\"2\" opacity=\"0.7\"></path><path aria-label=\"x2: 3.05748460293; x3: 5.58827765532; y: 1\" role=\"graphics-symbol\" aria-roledescription=\"point\" transform=\"translate(170.5748460293042,40.106566769856244)\" d=\"M2.7386127875258306,0A2.7386127875258306,2.7386127875258306,0,1,1,-2.7386127875258306,0A2.7386127875258306,2.7386127875258306,0,1,1,2.7386127875258306,0\" stroke=\"#4c78a8\" stroke-width=\"2\" opacity=\"0.7\"></path><path aria-label=\"x2: -5.43033410423; x3: -8.02423922216; y: 2\" role=\"graphics-symbol\" aria-roledescription=\"point\" transform=\"translate(85.6966589577025,163.8567202014769)\" d=\"M2.7386127875258306,0A2.7386127875258306,2.7386127875258306,0,1,1,-2.7386127875258306,0A2.7386127875258306,2.7386127875258306,0,1,1,2.7386127875258306,0\" stroke=\"#f58518\" stroke-width=\"2\" opacity=\"0.7\"></path><path aria-label=\"x2: -10.1216043336; x3: -7.15985352855; y: 2\" role=\"graphics-symbol\" aria-roledescription=\"point\" transform=\"translate(38.78395666395696,155.99866844132436)\" d=\"M2.7386127875258306,0A2.7386127875258306,2.7386127875258306,0,1,1,-2.7386127875258306,0A2.7386127875258306,2.7386127875258306,0,1,1,2.7386127875258306,0\" stroke=\"#f58518\" stroke-width=\"2\" opacity=\"0.7\"></path><path aria-label=\"x2: -6.44394857115; x3: -11.6574366411; y: 2\" role=\"graphics-symbol\" aria-roledescription=\"point\" transform=\"translate(75.56051428850995,196.88578764632467)\" d=\"M2.7386127875258306,0A2.7386127875258306,2.7386127875258306,0,1,1,-2.7386127875258306,0A2.7386127875258306,2.7386127875258306,0,1,1,2.7386127875258306,0\" stroke=\"#f58518\" stroke-width=\"2\" opacity=\"0.7\"></path><path aria-label=\"x2: -5.45647251811; x3: -3.0640014318; y: 2\" role=\"graphics-symbol\" aria-roledescription=\"point\" transform=\"translate(85.43527481891971,118.7636493800318)\" d=\"M2.7386127875258306,0A2.7386127875258306,2.7386127875258306,0,1,1,-2.7386127875258306,0A2.7386127875258306,2.7386127875258306,0,1,1,2.7386127875258306,0\" stroke=\"#f58518\" stroke-width=\"2\" opacity=\"0.7\"></path><path aria-label=\"x2: 1.74470347843; x3: 5.72570409318; y: 1\" role=\"graphics-symbol\" aria-roledescription=\"point\" transform=\"translate(157.44703478432328,38.85723551652136)\" d=\"M2.7386127875258306,0A2.7386127875258306,2.7386127875258306,0,1,1,-2.7386127875258306,0A2.7386127875258306,2.7386127875258306,0,1,1,2.7386127875258306,0\" stroke=\"#4c78a8\" stroke-width=\"2\" opacity=\"0.7\"></path><path aria-label=\"x2: 2.75730403462; x3: 7.61303863811; y: 1\" role=\"graphics-symbol\" aria-roledescription=\"point\" transform=\"translate(167.57304034615532,21.699648744417544)\" d=\"M2.7386127875258306,0A2.7386127875258306,2.7386127875258306,0,1,1,-2.7386127875258306,0A2.7386127875258306,2.7386127875258306,0,1,1,2.7386127875258306,0\" stroke=\"#4c78a8\" stroke-width=\"2\" opacity=\"0.7\"></path><path aria-label=\"x2: 4.15663787667; x3: 3.89134442254; y: 1\" role=\"graphics-symbol\" aria-roledescription=\"point\" transform=\"translate(181.56637876667006,55.53323252239786)\" d=\"M2.7386127875258306,0A2.7386127875258306,2.7386127875258306,0,1,1,-2.7386127875258306,0A2.7386127875258306,2.7386127875258306,0,1,1,2.7386127875258306,0\" stroke=\"#4c78a8\" stroke-width=\"2\" opacity=\"0.7\"></path><path aria-label=\"x2: -12.5728228838; x3: -3.14958383763; y: 2\" role=\"graphics-symbol\" aria-roledescription=\"point\" transform=\"translate(14.271771162279306,119.54167125114469)\" d=\"M2.7386127875258306,0A2.7386127875258306,2.7386127875258306,0,1,1,-2.7386127875258306,0A2.7386127875258306,2.7386127875258306,0,1,1,2.7386127875258306,0\" stroke=\"#f58518\" stroke-width=\"2\" opacity=\"0.7\"></path><path aria-label=\"x2: -7.07782773138; x3: -6.28750309502; y: 2\" role=\"graphics-symbol\" aria-roledescription=\"point\" transform=\"translate(69.22172268622052,148.068209954688)\" d=\"M2.7386127875258306,0A2.7386127875258306,2.7386127875258306,0,1,1,-2.7386127875258306,0A2.7386127875258306,2.7386127875258306,0,1,1,2.7386127875258306,0\" stroke=\"#f58518\" stroke-width=\"2\" opacity=\"0.7\"></path><path aria-label=\"x2: -2.51824303515; x3: -2.08914843516; y: 2\" role=\"graphics-symbol\" aria-roledescription=\"point\" transform=\"translate(114.81756964853538,109.90134941051588)\" d=\"M2.7386127875258306,0A2.7386127875258306,2.7386127875258306,0,1,1,-2.7386127875258306,0A2.7386127875258306,2.7386127875258306,0,1,1,2.7386127875258306,0\" stroke=\"#f58518\" stroke-width=\"2\" opacity=\"0.7\"></path><path aria-label=\"x2: -1.7111948402; x3: -6.30903574014; y: 2\" role=\"graphics-symbol\" aria-roledescription=\"point\" transform=\"translate(122.88805159795209,148.26396127401082)\" d=\"M2.7386127875258306,0A2.7386127875258306,2.7386127875258306,0,1,1,-2.7386127875258306,0A2.7386127875258306,2.7386127875258306,0,1,1,2.7386127875258306,0\" stroke=\"#f58518\" stroke-width=\"2\" opacity=\"0.7\"></path><path aria-label=\"x2: 2.61374966329; x3: 6.19651160245; y: 1\" role=\"graphics-symbol\" aria-roledescription=\"point\" transform=\"translate(166.13749663289957,34.577167250465)\" d=\"M2.7386127875258306,0A2.7386127875258306,2.7386127875258306,0,1,1,-2.7386127875258306,0A2.7386127875258306,2.7386127875258306,0,1,1,2.7386127875258306,0\" stroke=\"#4c78a8\" stroke-width=\"2\" opacity=\"0.7\"></path><path aria-label=\"x2: -4.86189270713; x3: -5.83547193514; y: 2\" role=\"graphics-symbol\" aria-roledescription=\"point\" transform=\"translate(91.38107292874611,143.95883577398197)\" d=\"M2.7386127875258306,0A2.7386127875258306,2.7386127875258306,0,1,1,-2.7386127875258306,0A2.7386127875258306,2.7386127875258306,0,1,1,2.7386127875258306,0\" stroke=\"#f58518\" stroke-width=\"2\" opacity=\"0.7\"></path><path aria-label=\"x2: 3.01393692135; x3: 7.47588127449; y: 1\" role=\"graphics-symbol\" aria-roledescription=\"point\" transform=\"translate(170.13936921354625,22.946533868270947)\" d=\"M2.7386127875258306,0A2.7386127875258306,2.7386127875258306,0,1,1,-2.7386127875258306,0A2.7386127875258306,2.7386127875258306,0,1,1,2.7386127875258306,0\" stroke=\"#4c78a8\" stroke-width=\"2\" opacity=\"0.7\"></path><path aria-label=\"x2: 1.8856922694; x3: 6.30862069679; y: 1\" role=\"graphics-symbol\" aria-roledescription=\"point\" transform=\"translate(158.85692269399834,33.557993665535044)\" d=\"M2.7386127875258306,0A2.7386127875258306,2.7386127875258306,0,1,1,-2.7386127875258306,0A2.7386127875258306,2.7386127875258306,0,1,1,2.7386127875258306,0\" stroke=\"#4c78a8\" stroke-width=\"2\" opacity=\"0.7\"></path><path aria-label=\"x2: 1.47424738087; x3: 7.939391799; y: 1\" role=\"graphics-symbol\" aria-roledescription=\"point\" transform=\"translate(154.7424738086916,18.73280182726702)\" d=\"M2.7386127875258306,0A2.7386127875258306,2.7386127875258306,0,1,1,-2.7386127875258306,0A2.7386127875258306,2.7386127875258306,0,1,1,2.7386127875258306,0\" stroke=\"#4c78a8\" stroke-width=\"2\" opacity=\"0.7\"></path><path aria-label=\"x2: 3.26360931646; x3: 3.44119079045; y: 1\" role=\"graphics-symbol\" aria-roledescription=\"point\" transform=\"translate(172.6360931646471,59.62553826859755)\" d=\"M2.7386127875258306,0A2.7386127875258306,2.7386127875258306,0,1,1,-2.7386127875258306,0A2.7386127875258306,2.7386127875258306,0,1,1,2.7386127875258306,0\" stroke=\"#4c78a8\" stroke-width=\"2\" opacity=\"0.7\"></path><path aria-label=\"x2: -8.82113358301; x3: -4.46816669604; y: 2\" role=\"graphics-symbol\" aria-roledescription=\"point\" transform=\"translate(51.78866416993533,131.5287881457925)\" d=\"M2.7386127875258306,0A2.7386127875258306,2.7386127875258306,0,1,1,-2.7386127875258306,0A2.7386127875258306,2.7386127875258306,0,1,1,2.7386127875258306,0\" stroke=\"#f58518\" stroke-width=\"2\" opacity=\"0.7\"></path><path aria-label=\"x2: -5.3249868542; x3: -9.89336576061; y: 2\" role=\"graphics-symbol\" aria-roledescription=\"point\" transform=\"translate(86.75013145800446,180.84877964187353)\" d=\"M2.7386127875258306,0A2.7386127875258306,2.7386127875258306,0,1,1,-2.7386127875258306,0A2.7386127875258306,2.7386127875258306,0,1,1,2.7386127875258306,0\" stroke=\"#f58518\" stroke-width=\"2\" opacity=\"0.7\"></path><path aria-label=\"x2: 2.82286032428; x3: 7.66756842462; y: 1\" role=\"graphics-symbol\" aria-roledescription=\"point\" transform=\"translate(168.2286032427724,21.20392341257935)\" d=\"M2.7386127875258306,0A2.7386127875258306,2.7386127875258306,0,1,1,-2.7386127875258306,0A2.7386127875258306,2.7386127875258306,0,1,1,2.7386127875258306,0\" stroke=\"#4c78a8\" stroke-width=\"2\" opacity=\"0.7\"></path><path aria-label=\"x2: 2.46902035525; x3: 6.13819638508; y: 1\" role=\"graphics-symbol\" aria-roledescription=\"point\" transform=\"translate(164.69020355245937,35.10730559016659)\" d=\"M2.7386127875258306,0A2.7386127875258306,2.7386127875258306,0,1,1,-2.7386127875258306,0A2.7386127875258306,2.7386127875258306,0,1,1,2.7386127875258306,0\" stroke=\"#4c78a8\" stroke-width=\"2\" opacity=\"0.7\"></path><path aria-label=\"x2: -9.16134452647; x3: -3.35006115115; y: 2\" role=\"graphics-symbol\" aria-roledescription=\"point\" transform=\"translate(48.38655473531226,121.36419228316764)\" d=\"M2.7386127875258306,0A2.7386127875258306,2.7386127875258306,0,1,1,-2.7386127875258306,0A2.7386127875258306,2.7386127875258306,0,1,1,2.7386127875258306,0\" stroke=\"#f58518\" stroke-width=\"2\" opacity=\"0.7\"></path><path aria-label=\"x2: 3.42621316606; x3: 5.49592225421; y: 1\" role=\"graphics-symbol\" aria-roledescription=\"point\" transform=\"translate(174.26213166058048,40.946161325323004)\" d=\"M2.7386127875258306,0A2.7386127875258306,2.7386127875258306,0,1,1,-2.7386127875258306,0A2.7386127875258306,2.7386127875258306,0,1,1,2.7386127875258306,0\" stroke=\"#4c78a8\" stroke-width=\"2\" opacity=\"0.7\"></path><path aria-label=\"x2: 2.33536190782; x3: 5.76292121013; y: 1\" role=\"graphics-symbol\" aria-roledescription=\"point\" transform=\"translate(163.35361907815772,38.51889808974496)\" d=\"M2.7386127875258306,0A2.7386127875258306,2.7386127875258306,0,1,1,-2.7386127875258306,0A2.7386127875258306,2.7386127875258306,0,1,1,2.7386127875258306,0\" stroke=\"#4c78a8\" stroke-width=\"2\" opacity=\"0.7\"></path><path aria-label=\"x2: 2.05329142512; x3: 6.11229047519; y: 1\" role=\"graphics-symbol\" aria-roledescription=\"point\" transform=\"translate(160.53291425118712,35.34281386189315)\" d=\"M2.7386127875258306,0A2.7386127875258306,2.7386127875258306,0,1,1,-2.7386127875258306,0A2.7386127875258306,2.7386127875258306,0,1,1,2.7386127875258306,0\" stroke=\"#4c78a8\" stroke-width=\"2\" opacity=\"0.7\"></path><path aria-label=\"x2: 3.31621115344; x3: 6.27200492309; y: 1\" role=\"graphics-symbol\" aria-roledescription=\"point\" transform=\"translate(173.16211153438866,33.89086433555093)\" d=\"M2.7386127875258306,0A2.7386127875258306,2.7386127875258306,0,1,1,-2.7386127875258306,0A2.7386127875258306,2.7386127875258306,0,1,1,2.7386127875258306,0\" stroke=\"#4c78a8\" stroke-width=\"2\" opacity=\"0.7\"></path><path aria-label=\"x2: 2.4989799068; x3: 6.94169446315; y: 1\" role=\"graphics-symbol\" aria-roledescription=\"point\" transform=\"translate(164.98979906801944,27.802777607730466)\" d=\"M2.7386127875258306,0A2.7386127875258306,2.7386127875258306,0,1,1,-2.7386127875258306,0A2.7386127875258306,2.7386127875258306,0,1,1,2.7386127875258306,0\" stroke=\"#4c78a8\" stroke-width=\"2\" opacity=\"0.7\"></path><path aria-label=\"x2: 3.13056690845; x3: 4.33455621262; y: 1\" role=\"graphics-symbol\" aria-roledescription=\"point\" transform=\"translate(171.305669084515,51.5040344307264)\" d=\"M2.7386127875258306,0A2.7386127875258306,2.7386127875258306,0,1,1,-2.7386127875258306,0A2.7386127875258306,2.7386127875258306,0,1,1,2.7386127875258306,0\" stroke=\"#4c78a8\" stroke-width=\"2\" opacity=\"0.7\"></path><path aria-label=\"x2: -4.89419261342; x3: -0.729513844071; y: 2\" role=\"graphics-symbol\" aria-roledescription=\"point\" transform=\"translate(91.05807386576528,97.5410349460972)\" d=\"M2.7386127875258306,0A2.7386127875258306,2.7386127875258306,0,1,1,-2.7386127875258306,0A2.7386127875258306,2.7386127875258306,0,1,1,2.7386127875258306,0\" stroke=\"#f58518\" stroke-width=\"2\" opacity=\"0.7\"></path><path aria-label=\"x2: -4.19327180204; x3: -3.99740111542; y: 2\" role=\"graphics-symbol\" aria-roledescription=\"point\" transform=\"translate(98.0672819795817,127.24910104925704)\" d=\"M2.7386127875258306,0A2.7386127875258306,2.7386127875258306,0,1,1,-2.7386127875258306,0A2.7386127875258306,2.7386127875258306,0,1,1,2.7386127875258306,0\" stroke=\"#f58518\" stroke-width=\"2\" opacity=\"0.7\"></path><path aria-label=\"x2: -8.8323658316; x3: -9.56082687433; y: 2\" role=\"graphics-symbol\" aria-roledescription=\"point\" transform=\"translate(51.67634168404523,177.82569885753313)\" d=\"M2.7386127875258306,0A2.7386127875258306,2.7386127875258306,0,1,1,-2.7386127875258306,0A2.7386127875258306,2.7386127875258306,0,1,1,2.7386127875258306,0\" stroke=\"#f58518\" stroke-width=\"2\" opacity=\"0.7\"></path><path aria-label=\"x2: -3.73718918713; x3: -0.553988264451; y: 2\" role=\"graphics-symbol\" aria-roledescription=\"point\" transform=\"translate(102.6281081286521,95.94534785864171)\" d=\"M2.7386127875258306,0A2.7386127875258306,2.7386127875258306,0,1,1,-2.7386127875258306,0A2.7386127875258306,2.7386127875258306,0,1,1,2.7386127875258306,0\" stroke=\"#f58518\" stroke-width=\"2\" opacity=\"0.7\"></path><path aria-label=\"x2: 1.75894203092; x3: 5.93621426277; y: 1\" role=\"graphics-symbol\" aria-roledescription=\"point\" transform=\"translate(157.58942030922452,36.94350670212623)\" d=\"M2.7386127875258306,0A2.7386127875258306,2.7386127875258306,0,1,1,-2.7386127875258306,0A2.7386127875258306,2.7386127875258306,0,1,1,2.7386127875258306,0\" stroke=\"#4c78a8\" stroke-width=\"2\" opacity=\"0.7\"></path><path aria-label=\"x2: 0.141805300153; x3: -3.16630126004; y: 2\" role=\"graphics-symbol\" aria-roledescription=\"point\" transform=\"translate(141.4180530015323,119.6936478185624)\" d=\"M2.7386127875258306,0A2.7386127875258306,2.7386127875258306,0,1,1,-2.7386127875258306,0A2.7386127875258306,2.7386127875258306,0,1,1,2.7386127875258306,0\" stroke=\"#f58518\" stroke-width=\"2\" opacity=\"0.7\"></path><path aria-label=\"x2: -10.3072692281; x3: -4.85912754649; y: 2\" role=\"graphics-symbol\" aria-roledescription=\"point\" transform=\"translate(36.92730771927508,135.08297769538405)\" d=\"M2.7386127875258306,0A2.7386127875258306,2.7386127875258306,0,1,1,-2.7386127875258306,0A2.7386127875258306,2.7386127875258306,0,1,1,2.7386127875258306,0\" stroke=\"#f58518\" stroke-width=\"2\" opacity=\"0.7\"></path><path aria-label=\"x2: -8.28416654491; x3: -5.84979675248; y: 2\" role=\"graphics-symbol\" aria-roledescription=\"point\" transform=\"translate(57.15833455088306,144.0890613861918)\" d=\"M2.7386127875258306,0A2.7386127875258306,2.7386127875258306,0,1,1,-2.7386127875258306,0A2.7386127875258306,2.7386127875258306,0,1,1,2.7386127875258306,0\" stroke=\"#f58518\" stroke-width=\"2\" opacity=\"0.7\"></path><path aria-label=\"x2: -2.21485612598; x3: -6.99209621501; y: 2\" role=\"graphics-symbol\" aria-roledescription=\"point\" transform=\"translate(117.85143874022106,154.4736019545979)\" d=\"M2.7386127875258306,0A2.7386127875258306,2.7386127875258306,0,1,1,-2.7386127875258306,0A2.7386127875258306,2.7386127875258306,0,1,1,2.7386127875258306,0\" stroke=\"#f58518\" stroke-width=\"2\" opacity=\"0.7\"></path><path aria-label=\"x2: 3.27046190744; x3: 6.64396561602; y: 1\" role=\"graphics-symbol\" aria-roledescription=\"point\" transform=\"translate(172.70461907435885,30.509403490761567)\" d=\"M2.7386127875258306,0A2.7386127875258306,2.7386127875258306,0,1,1,-2.7386127875258306,0A2.7386127875258306,2.7386127875258306,0,1,1,2.7386127875258306,0\" stroke=\"#4c78a8\" stroke-width=\"2\" opacity=\"0.7\"></path><path aria-label=\"x2: 3.5006296038; x3: 5.16615556055; y: 1\" role=\"graphics-symbol\" aria-roledescription=\"point\" transform=\"translate(175.00629603804038,43.94404035863588)\" d=\"M2.7386127875258306,0A2.7386127875258306,2.7386127875258306,0,1,1,-2.7386127875258306,0A2.7386127875258306,2.7386127875258306,0,1,1,2.7386127875258306,0\" stroke=\"#4c78a8\" stroke-width=\"2\" opacity=\"0.7\"></path><path aria-label=\"x2: -5.42319498876; x3: -4.14164441508; y: 2\" role=\"graphics-symbol\" aria-roledescription=\"point\" transform=\"translate(85.7680501123539,128.56040377348785)\" d=\"M2.7386127875258306,0A2.7386127875258306,2.7386127875258306,0,1,1,-2.7386127875258306,0A2.7386127875258306,2.7386127875258306,0,1,1,2.7386127875258306,0\" stroke=\"#f58518\" stroke-width=\"2\" opacity=\"0.7\"></path><path aria-label=\"x2: 1.08288683153; x3: 5.08459107884; y: 1\" role=\"graphics-symbol\" aria-roledescription=\"point\" transform=\"translate(150.82886831531403,44.685535646873255)\" d=\"M2.7386127875258306,0A2.7386127875258306,2.7386127875258306,0,1,1,-2.7386127875258306,0A2.7386127875258306,2.7386127875258306,0,1,1,2.7386127875258306,0\" stroke=\"#4c78a8\" stroke-width=\"2\" opacity=\"0.7\"></path><path aria-label=\"x2: 0.520820682275; x3: -2.97292530541; y: 2\" role=\"graphics-symbol\" aria-roledescription=\"point\" transform=\"translate(145.20820682274754,117.93568459465162)\" d=\"M2.7386127875258306,0A2.7386127875258306,2.7386127875258306,0,1,1,-2.7386127875258306,0A2.7386127875258306,2.7386127875258306,0,1,1,2.7386127875258306,0\" stroke=\"#f58518\" stroke-width=\"2\" opacity=\"0.7\"></path><path aria-label=\"x2: -6.06497072261; x3: -10.63685554; y: 2\" role=\"graphics-symbol\" aria-roledescription=\"point\" transform=\"translate(79.35029277386226,187.60777763659223)\" d=\"M2.7386127875258306,0A2.7386127875258306,2.7386127875258306,0,1,1,-2.7386127875258306,0A2.7386127875258306,2.7386127875258306,0,1,1,2.7386127875258306,0\" stroke=\"#f58518\" stroke-width=\"2\" opacity=\"0.7\"></path><path aria-label=\"x2: 2.97672991234; x3: 5.23905861763; y: 1\" role=\"graphics-symbol\" aria-roledescription=\"point\" transform=\"translate(169.7672991234346,43.28128529430175)\" d=\"M2.7386127875258306,0A2.7386127875258306,2.7386127875258306,0,1,1,-2.7386127875258306,0A2.7386127875258306,2.7386127875258306,0,1,1,2.7386127875258306,0\" stroke=\"#4c78a8\" stroke-width=\"2\" opacity=\"0.7\"></path><path aria-label=\"x2: -0.514542726795; x3: -6.62611864158; y: 2\" role=\"graphics-symbol\" aria-roledescription=\"point\" transform=\"translate(134.85457273205301,151.14653310524062)\" d=\"M2.7386127875258306,0A2.7386127875258306,2.7386127875258306,0,1,1,-2.7386127875258306,0A2.7386127875258306,2.7386127875258306,0,1,1,2.7386127875258306,0\" stroke=\"#f58518\" stroke-width=\"2\" opacity=\"0.7\"></path><path aria-label=\"x2: 1.60107983123; x3: 5.22075837399; y: 1\" role=\"graphics-symbol\" aria-roledescription=\"point\" transform=\"translate(156.01079831228225,43.44765114550513)\" d=\"M2.7386127875258306,0A2.7386127875258306,2.7386127875258306,0,1,1,-2.7386127875258306,0A2.7386127875258306,2.7386127875258306,0,1,1,2.7386127875258306,0\" stroke=\"#4c78a8\" stroke-width=\"2\" opacity=\"0.7\"></path><path aria-label=\"x2: 2.77034498739; x3: 5.13312294274; y: 1\" role=\"graphics-symbol\" aria-roledescription=\"point\" transform=\"translate(167.70344987389112,44.24433688415221)\" d=\"M2.7386127875258306,0A2.7386127875258306,2.7386127875258306,0,1,1,-2.7386127875258306,0A2.7386127875258306,2.7386127875258306,0,1,1,2.7386127875258306,0\" stroke=\"#4c78a8\" stroke-width=\"2\" opacity=\"0.7\"></path><path aria-label=\"x2: -8.74791878037; x3: -7.59551633584; y: 2\" role=\"graphics-symbol\" aria-roledescription=\"point\" transform=\"translate(52.52081219634761,159.95923941674187)\" d=\"M2.7386127875258306,0A2.7386127875258306,2.7386127875258306,0,1,1,-2.7386127875258306,0A2.7386127875258306,2.7386127875258306,0,1,1,2.7386127875258306,0\" stroke=\"#f58518\" stroke-width=\"2\" opacity=\"0.7\"></path><path aria-label=\"x2: 2.84189065536; x3: 5.79631581175; y: 1\" role=\"graphics-symbol\" aria-roledescription=\"point\" transform=\"translate(168.41890655356556,38.215310802234995)\" d=\"M2.7386127875258306,0A2.7386127875258306,2.7386127875258306,0,1,1,-2.7386127875258306,0A2.7386127875258306,2.7386127875258306,0,1,1,2.7386127875258306,0\" stroke=\"#4c78a8\" stroke-width=\"2\" opacity=\"0.7\"></path><path aria-label=\"x2: 1.76332617733; x3: 5.66413224945; y: 1\" role=\"graphics-symbol\" aria-roledescription=\"point\" transform=\"translate(157.63326177330953,39.41697955046246)\" d=\"M2.7386127875258306,0A2.7386127875258306,2.7386127875258306,0,1,1,-2.7386127875258306,0A2.7386127875258306,2.7386127875258306,0,1,1,2.7386127875258306,0\" stroke=\"#4c78a8\" stroke-width=\"2\" opacity=\"0.7\"></path><path aria-label=\"x2: -1.62839985444; x3: -11.0533222084; y: 2\" role=\"graphics-symbol\" aria-roledescription=\"point\" transform=\"translate(123.71600145560149,191.39383825797609)\" d=\"M2.7386127875258306,0A2.7386127875258306,2.7386127875258306,0,1,1,-2.7386127875258306,0A2.7386127875258306,2.7386127875258306,0,1,1,2.7386127875258306,0\" stroke=\"#f58518\" stroke-width=\"2\" opacity=\"0.7\"></path><path aria-label=\"x2: 2.38721335219; x3: 4.23406789897; y: 1\" role=\"graphics-symbol\" aria-roledescription=\"point\" transform=\"translate(163.87213352190696,52.41756455483597)\" d=\"M2.7386127875258306,0A2.7386127875258306,2.7386127875258306,0,1,1,-2.7386127875258306,0A2.7386127875258306,2.7386127875258306,0,1,1,2.7386127875258306,0\" stroke=\"#4c78a8\" stroke-width=\"2\" opacity=\"0.7\"></path><path aria-label=\"x2: -3.51521848509; x3: -5.46384798702; y: 2\" role=\"graphics-symbol\" aria-roledescription=\"point\" transform=\"translate(104.84781514913351,140.58043624559255)\" d=\"M2.7386127875258306,0A2.7386127875258306,2.7386127875258306,0,1,1,-2.7386127875258306,0A2.7386127875258306,2.7386127875258306,0,1,1,2.7386127875258306,0\" stroke=\"#f58518\" stroke-width=\"2\" opacity=\"0.7\"></path><path aria-label=\"x2: 1.8743852627; x3: 6.83820093981; y: 1\" role=\"graphics-symbol\" aria-roledescription=\"point\" transform=\"translate(158.74385262698146,28.74362781992017)\" d=\"M2.7386127875258306,0A2.7386127875258306,2.7386127875258306,0,1,1,-2.7386127875258306,0A2.7386127875258306,2.7386127875258306,0,1,1,2.7386127875258306,0\" stroke=\"#4c78a8\" stroke-width=\"2\" opacity=\"0.7\"></path><path aria-label=\"x2: -8.79105822706; x3: -10.2666147829; y: 2\" role=\"graphics-symbol\" aria-roledescription=\"point\" transform=\"translate(52.0894177293612,184.24195257160503)\" d=\"M2.7386127875258306,0A2.7386127875258306,2.7386127875258306,0,1,1,-2.7386127875258306,0A2.7386127875258306,2.7386127875258306,0,1,1,2.7386127875258306,0\" stroke=\"#f58518\" stroke-width=\"2\" opacity=\"0.7\"></path><path aria-label=\"x2: 3.44763373914; x3: 4.79040089064; y: 1\" role=\"graphics-symbol\" aria-roledescription=\"point\" transform=\"translate(174.4763373914369,47.35999190326028)\" d=\"M2.7386127875258306,0A2.7386127875258306,2.7386127875258306,0,1,1,-2.7386127875258306,0A2.7386127875258306,2.7386127875258306,0,1,1,2.7386127875258306,0\" stroke=\"#4c78a8\" stroke-width=\"2\" opacity=\"0.7\"></path><path aria-label=\"x2: -7.50940357535; x3: -7.62668966843; y: 2\" role=\"graphics-symbol\" aria-roledescription=\"point\" transform=\"translate(64.90596424654203,160.24263334933534)\" d=\"M2.7386127875258306,0A2.7386127875258306,2.7386127875258306,0,1,1,-2.7386127875258306,0A2.7386127875258306,2.7386127875258306,0,1,1,2.7386127875258306,0\" stroke=\"#f58518\" stroke-width=\"2\" opacity=\"0.7\"></path><path aria-label=\"x2: -10.3689300187; x3: -3.01365187141; y: 2\" role=\"graphics-symbol\" aria-roledescription=\"point\" transform=\"translate(36.310699813217724,118.3059261037577)\" d=\"M2.7386127875258306,0A2.7386127875258306,2.7386127875258306,0,1,1,-2.7386127875258306,0A2.7386127875258306,2.7386127875258306,0,1,1,2.7386127875258306,0\" stroke=\"#f58518\" stroke-width=\"2\" opacity=\"0.7\"></path><path aria-label=\"x2: -2.26169016178; x3: -4.13126206944; y: 2\" role=\"graphics-symbol\" aria-roledescription=\"point\" transform=\"translate(117.38309838223402,128.4660188130952)\" d=\"M2.7386127875258306,0A2.7386127875258306,2.7386127875258306,0,1,1,-2.7386127875258306,0A2.7386127875258306,2.7386127875258306,0,1,1,2.7386127875258306,0\" stroke=\"#f58518\" stroke-width=\"2\" opacity=\"0.7\"></path><path aria-label=\"x2: -0.891275327547; x3: -4.32817345668; y: 2\" role=\"graphics-symbol\" aria-roledescription=\"point\" transform=\"translate(131.08724672452877,130.25612233341872)\" d=\"M2.7386127875258306,0A2.7386127875258306,2.7386127875258306,0,1,1,-2.7386127875258306,0A2.7386127875258306,2.7386127875258306,0,1,1,2.7386127875258306,0\" stroke=\"#f58518\" stroke-width=\"2\" opacity=\"0.7\"></path><path aria-label=\"x2: 2.33662204377; x3: 6.58119925482; y: 1\" role=\"graphics-symbol\" aria-roledescription=\"point\" transform=\"translate(163.36622043773107,31.080006774383317)\" d=\"M2.7386127875258306,0A2.7386127875258306,2.7386127875258306,0,1,1,-2.7386127875258306,0A2.7386127875258306,2.7386127875258306,0,1,1,2.7386127875258306,0\" stroke=\"#4c78a8\" stroke-width=\"2\" opacity=\"0.7\"></path><path aria-label=\"x2: 3.27880664096; x3: 6.77069547154; y: 1\" role=\"graphics-symbol\" aria-roledescription=\"point\" transform=\"translate(172.7880664096221,29.357313895096038)\" d=\"M2.7386127875258306,0A2.7386127875258306,2.7386127875258306,0,1,1,-2.7386127875258306,0A2.7386127875258306,2.7386127875258306,0,1,1,2.7386127875258306,0\" stroke=\"#4c78a8\" stroke-width=\"2\" opacity=\"0.7\"></path><path aria-label=\"x2: -1.92904171417; x3: -1.18159255052; y: 2\" role=\"graphics-symbol\" aria-roledescription=\"point\" transform=\"translate(120.70958285825797,101.65084136835698)\" d=\"M2.7386127875258306,0A2.7386127875258306,2.7386127875258306,0,1,1,-2.7386127875258306,0A2.7386127875258306,2.7386127875258306,0,1,1,2.7386127875258306,0\" stroke=\"#f58518\" stroke-width=\"2\" opacity=\"0.7\"></path><path aria-label=\"x2: 3.44971838885; x3: 4.92536468302; y: 1\" role=\"graphics-symbol\" aria-roledescription=\"point\" transform=\"translate(174.49718388849286,46.133048336173864)\" d=\"M2.7386127875258306,0A2.7386127875258306,2.7386127875258306,0,1,1,-2.7386127875258306,0A2.7386127875258306,2.7386127875258306,0,1,1,2.7386127875258306,0\" stroke=\"#4c78a8\" stroke-width=\"2\" opacity=\"0.7\"></path><path aria-label=\"x2: -6.75766333184; x3: -9.73381003665; y: 2\" role=\"graphics-symbol\" aria-roledescription=\"point\" transform=\"translate(72.42336668155586,179.39827306048818)\" d=\"M2.7386127875258306,0A2.7386127875258306,2.7386127875258306,0,1,1,-2.7386127875258306,0A2.7386127875258306,2.7386127875258306,0,1,1,2.7386127875258306,0\" stroke=\"#f58518\" stroke-width=\"2\" opacity=\"0.7\"></path><path aria-label=\"x2: 3.36595703371; x3: 5.99113477811; y: 1\" role=\"graphics-symbol\" aria-roledescription=\"point\" transform=\"translate(173.65957033705345,36.44422928992852)\" d=\"M2.7386127875258306,0A2.7386127875258306,2.7386127875258306,0,1,1,-2.7386127875258306,0A2.7386127875258306,2.7386127875258306,0,1,1,2.7386127875258306,0\" stroke=\"#4c78a8\" stroke-width=\"2\" opacity=\"0.7\"></path><path aria-label=\"x2: 2.09738297908; x3: 6.59119464421; y: 1\" role=\"graphics-symbol\" aria-roledescription=\"point\" transform=\"translate(160.97382979083156,30.98913959811087)\" d=\"M2.7386127875258306,0A2.7386127875258306,2.7386127875258306,0,1,1,-2.7386127875258306,0A2.7386127875258306,2.7386127875258306,0,1,1,2.7386127875258306,0\" stroke=\"#4c78a8\" stroke-width=\"2\" opacity=\"0.7\"></path><path aria-label=\"x2: 2.62415295987; x3: 5.44539618125; y: 1\" role=\"graphics-symbol\" aria-roledescription=\"point\" transform=\"translate(166.241529598689,41.4054892613313)\" d=\"M2.7386127875258306,0A2.7386127875258306,2.7386127875258306,0,1,1,-2.7386127875258306,0A2.7386127875258306,2.7386127875258306,0,1,1,2.7386127875258306,0\" stroke=\"#4c78a8\" stroke-width=\"2\" opacity=\"0.7\"></path><path aria-label=\"x2: -3.66928912693; x3: -5.03656890718; y: 2\" role=\"graphics-symbol\" aria-roledescription=\"point\" transform=\"translate(103.30710873072726,136.6960809743997)\" d=\"M2.7386127875258306,0A2.7386127875258306,2.7386127875258306,0,1,1,-2.7386127875258306,0A2.7386127875258306,2.7386127875258306,0,1,1,2.7386127875258306,0\" stroke=\"#f58518\" stroke-width=\"2\" opacity=\"0.7\"></path><path aria-label=\"x2: -1.74936891936; x3: -7.08543596012; y: 2\" role=\"graphics-symbol\" aria-roledescription=\"point\" transform=\"translate(122.50631080637608,155.32214509196572)\" d=\"M2.7386127875258306,0A2.7386127875258306,2.7386127875258306,0,1,1,-2.7386127875258306,0A2.7386127875258306,2.7386127875258306,0,1,1,2.7386127875258306,0\" stroke=\"#f58518\" stroke-width=\"2\" opacity=\"0.7\"></path><path aria-label=\"x2: 3.15823284577; x3: 8.20369365385; y: 1\" role=\"graphics-symbol\" aria-roledescription=\"point\" transform=\"translate(171.58232845773364,16.330057692311396)\" d=\"M2.7386127875258306,0A2.7386127875258306,2.7386127875258306,0,1,1,-2.7386127875258306,0A2.7386127875258306,2.7386127875258306,0,1,1,2.7386127875258306,0\" stroke=\"#4c78a8\" stroke-width=\"2\" opacity=\"0.7\"></path><path aria-label=\"x2: -2.68454898471; x3: -8.71625255188; y: 2\" role=\"graphics-symbol\" aria-roledescription=\"point\" transform=\"translate(113.15451015291167,170.14775047163306)\" d=\"M2.7386127875258306,0A2.7386127875258306,2.7386127875258306,0,1,1,-2.7386127875258306,0A2.7386127875258306,2.7386127875258306,0,1,1,2.7386127875258306,0\" stroke=\"#f58518\" stroke-width=\"2\" opacity=\"0.7\"></path><path aria-label=\"x2: 0.776582055613; x3: 7.38035903714; y: 1\" role=\"graphics-symbol\" aria-roledescription=\"point\" transform=\"translate(147.7658205561337,23.814917844217632)\" d=\"M2.7386127875258306,0A2.7386127875258306,2.7386127875258306,0,1,1,-2.7386127875258306,0A2.7386127875258306,2.7386127875258306,0,1,1,2.7386127875258306,0\" stroke=\"#4c78a8\" stroke-width=\"2\" opacity=\"0.7\"></path><path aria-label=\"x2: 3.28073546662; x3: 6.143161493; y: 1\" role=\"graphics-symbol\" aria-roledescription=\"point\" transform=\"translate(172.80735466623713,35.06216824547581)\" d=\"M2.7386127875258306,0A2.7386127875258306,2.7386127875258306,0,1,1,-2.7386127875258306,0A2.7386127875258306,2.7386127875258306,0,1,1,2.7386127875258306,0\" stroke=\"#4c78a8\" stroke-width=\"2\" opacity=\"0.7\"></path><path aria-label=\"x2: -8.98598958794; x3: -8.21292816595; y: 2\" role=\"graphics-symbol\" aria-roledescription=\"point\" transform=\"translate(50.14010412058075,165.57207423591862)\" d=\"M2.7386127875258306,0A2.7386127875258306,2.7386127875258306,0,1,1,-2.7386127875258306,0A2.7386127875258306,2.7386127875258306,0,1,1,2.7386127875258306,0\" stroke=\"#f58518\" stroke-width=\"2\" opacity=\"0.7\"></path><path aria-label=\"x2: 3.25186535045; x3: 4.68819031614; y: 1\" role=\"graphics-symbol\" aria-roledescription=\"point\" transform=\"translate(172.518653504488,48.289178944188095)\" d=\"M2.7386127875258306,0A2.7386127875258306,2.7386127875258306,0,1,1,-2.7386127875258306,0A2.7386127875258306,2.7386127875258306,0,1,1,2.7386127875258306,0\" stroke=\"#4c78a8\" stroke-width=\"2\" opacity=\"0.7\"></path><path aria-label=\"x2: -7.53146837392; x3: -10.2568389026; y: 2\" role=\"graphics-symbol\" aria-roledescription=\"point\" transform=\"translate(64.68531626080204,184.1530809322779)\" d=\"M2.7386127875258306,0A2.7386127875258306,2.7386127875258306,0,1,1,-2.7386127875258306,0A2.7386127875258306,2.7386127875258306,0,1,1,2.7386127875258306,0\" stroke=\"#f58518\" stroke-width=\"2\" opacity=\"0.7\"></path></g><g class=\"mark-group role-legend\" role=\"graphics-symbol\" aria-roledescription=\"legend\" aria-label=\"Symbol legend titled 'y' for stroke color with 2 values: 1, 2\"><g transform=\"translate(218,0)\"><path class=\"background\" aria-hidden=\"true\" d=\"M0,0h21v45h-21Z\" pointer-events=\"none\"></path><g><g class=\"mark-group role-legend-entry\"><g transform=\"translate(0,16)\"><path class=\"background\" aria-hidden=\"true\" d=\"M0,0h0v0h0Z\" pointer-events=\"none\"></path><g><g class=\"mark-group role-scope\" role=\"graphics-object\" aria-roledescription=\"group mark container\"><g transform=\"translate(0,0)\"><path class=\"background\" aria-hidden=\"true\" d=\"M0,0h21v12.5h-21Z\" pointer-events=\"none\" opacity=\"1\"></path><g><g class=\"mark-symbol role-legend-symbol\" pointer-events=\"none\"><path transform=\"translate(6,6)\" d=\"M5,0A5,5,0,1,1,-5,0A5,5,0,1,1,5,0\" stroke=\"#4c78a8\" stroke-width=\"1.5\" opacity=\"0.7\"></path></g><g class=\"mark-text role-legend-label\" pointer-events=\"none\"><text text-anchor=\"start\" transform=\"translate(16,9)\" font-family=\"sans-serif\" font-size=\"10px\" fill=\"#000\" opacity=\"1\">1</text></g></g><path class=\"foreground\" aria-hidden=\"true\" d=\"\" pointer-events=\"none\" display=\"none\"></path></g><g transform=\"translate(0,16)\"><path class=\"background\" aria-hidden=\"true\" d=\"M0,0h21v12.5h-21Z\" pointer-events=\"none\" opacity=\"1\"></path><g><g class=\"mark-symbol role-legend-symbol\" pointer-events=\"none\"><path transform=\"translate(6,6)\" d=\"M5,0A5,5,0,1,1,-5,0A5,5,0,1,1,5,0\" stroke=\"#f58518\" stroke-width=\"1.5\" opacity=\"0.7\"></path></g><g class=\"mark-text role-legend-label\" pointer-events=\"none\"><text text-anchor=\"start\" transform=\"translate(16,9)\" font-family=\"sans-serif\" font-size=\"10px\" fill=\"#000\" opacity=\"1\">2</text></g></g><path class=\"foreground\" aria-hidden=\"true\" d=\"\" pointer-events=\"none\" display=\"none\"></path></g></g></g><path class=\"foreground\" aria-hidden=\"true\" d=\"\" pointer-events=\"none\" display=\"none\"></path></g></g><g class=\"mark-text role-legend-title\" pointer-events=\"none\"><text text-anchor=\"start\" transform=\"translate(0,9)\" font-family=\"sans-serif\" font-size=\"11px\" font-weight=\"bold\" fill=\"#000\" opacity=\"1\">y</text></g></g><path class=\"foreground\" aria-hidden=\"true\" d=\"\" pointer-events=\"none\" display=\"none\"></path></g></g></g><path class=\"foreground\" aria-hidden=\"true\" d=\"\" display=\"none\"></path></g></g></g></svg>\n"
      ],
      "text/plain": [
       "@vlplot(\n",
       "    mark=\"point\",\n",
       "    encoding={\n",
       "        x={\n",
       "            field=\"x2\"\n",
       "        },\n",
       "        y={\n",
       "            field=\"x3\"\n",
       "        },\n",
       "        color={\n",
       "            field=\"y\",\n",
       "            type=\"nominal\"\n",
       "        }\n",
       "    },\n",
       "    data={\n",
       "        values=...\n",
       "    }\n",
       ")"
      ]
     },
     "execution_count": 5,
     "metadata": {},
     "output_type": "execute_result"
    }
   ],
   "source": [
    "dfBlobs |> @vlplot(:point, x=:x2, y=:x3, color = :\"y:n\") "
   ]
  },
  {
   "cell_type": "markdown",
   "metadata": {},
   "source": [
    "##  Generating Circumscribed Circles\n",
    "\n",
    "The function **make_circles** generate `n` points along two circumscribed circles returning the `n x 2` matrix of points and a vector of membership (0, 1) depending on whether the points are on the smaller circle (0) or the larger one (1).  The function input arguments are:\n",
    "\n",
    "* `shuffle=true`:   whether to shuffle the resulting points,\n",
    "* `noise=0`:        standard deviation of the gaussian noise added to the data,\n",
    "* `factor=0.8`:     ratio of the smaller radius over the larger one,\n",
    "\n",
    "Wiki says that \"in geometry, the circumscribed circle or circumcircle of a polygon is a circle that passes through all the vertices of the polygon. The center of this circle is called the circumcenter and its radius is called the circumradius. Not every polygon has a circumscribed circle.\" **make_circles** is useful in clustering and classification machine learning models.\n",
    "\n"
   ]
  },
  {
   "cell_type": "code",
   "execution_count": 6,
   "metadata": {},
   "outputs": [
    {
     "data": {
      "text/html": [
       "<table class=\"data-frame\"><thead><tr><th></th><th>x1</th><th>x2</th><th>y</th></tr><tr><th></th><th>Float64</th><th>Float64</th><th>Cat…</th></tr></thead><tbody><p>100 rows × 3 columns</p><tr><th>1</th><td>0.33769</td><td>0.699376</td><td>1</td></tr><tr><th>2</th><td>0.913377</td><td>0.0256294</td><td>1</td></tr><tr><th>3</th><td>1.39875</td><td>0.223683</td><td>1</td></tr><tr><th>4</th><td>-0.110211</td><td>-0.369423</td><td>1</td></tr><tr><th>5</th><td>0.166187</td><td>-0.227497</td><td>0</td></tr><tr><th>6</th><td>0.783904</td><td>-0.46014</td><td>0</td></tr><tr><th>7</th><td>-0.00586847</td><td>-0.102573</td><td>0</td></tr><tr><th>8</th><td>0.45843</td><td>-0.245545</td><td>1</td></tr><tr><th>9</th><td>-0.440613</td><td>0.0215399</td><td>1</td></tr><tr><th>10</th><td>-0.304477</td><td>-0.504124</td><td>0</td></tr><tr><th>11</th><td>-0.763215</td><td>-1.03103</td><td>0</td></tr><tr><th>12</th><td>0.707661</td><td>-0.641623</td><td>1</td></tr><tr><th>13</th><td>-0.809088</td><td>0.0849465</td><td>0</td></tr><tr><th>14</th><td>-0.645742</td><td>0.0556211</td><td>1</td></tr><tr><th>15</th><td>0.0733786</td><td>-0.406804</td><td>0</td></tr><tr><th>16</th><td>-0.826065</td><td>0.496081</td><td>1</td></tr><tr><th>17</th><td>-0.438582</td><td>-1.27383</td><td>1</td></tr><tr><th>18</th><td>0.222483</td><td>-0.373476</td><td>0</td></tr><tr><th>19</th><td>-0.885878</td><td>0.41485</td><td>1</td></tr><tr><th>20</th><td>0.213235</td><td>0.0187044</td><td>0</td></tr><tr><th>21</th><td>-0.736999</td><td>0.139761</td><td>0</td></tr><tr><th>22</th><td>0.55491</td><td>0.861751</td><td>0</td></tr><tr><th>23</th><td>0.387051</td><td>0.354268</td><td>0</td></tr><tr><th>24</th><td>0.172272</td><td>-0.511456</td><td>1</td></tr><tr><th>25</th><td>-0.223698</td><td>-0.476203</td><td>0</td></tr><tr><th>26</th><td>-0.571588</td><td>0.762137</td><td>1</td></tr><tr><th>27</th><td>-0.79379</td><td>-1.16186</td><td>1</td></tr><tr><th>28</th><td>-0.751274</td><td>-0.907534</td><td>1</td></tr><tr><th>29</th><td>0.703107</td><td>0.299822</td><td>1</td></tr><tr><th>30</th><td>-0.825285</td><td>0.286828</td><td>1</td></tr><tr><th>&vellip;</th><td>&vellip;</td><td>&vellip;</td><td>&vellip;</td></tr></tbody></table>"
      ],
      "text/latex": [
       "\\begin{tabular}{r|ccc}\n",
       "\t& x1 & x2 & y\\\\\n",
       "\t\\hline\n",
       "\t& Float64 & Float64 & Cat…\\\\\n",
       "\t\\hline\n",
       "\t1 & 0.33769 & 0.699376 & 1 \\\\\n",
       "\t2 & 0.913377 & 0.0256294 & 1 \\\\\n",
       "\t3 & 1.39875 & 0.223683 & 1 \\\\\n",
       "\t4 & -0.110211 & -0.369423 & 1 \\\\\n",
       "\t5 & 0.166187 & -0.227497 & 0 \\\\\n",
       "\t6 & 0.783904 & -0.46014 & 0 \\\\\n",
       "\t7 & -0.00586847 & -0.102573 & 0 \\\\\n",
       "\t8 & 0.45843 & -0.245545 & 1 \\\\\n",
       "\t9 & -0.440613 & 0.0215399 & 1 \\\\\n",
       "\t10 & -0.304477 & -0.504124 & 0 \\\\\n",
       "\t11 & -0.763215 & -1.03103 & 0 \\\\\n",
       "\t12 & 0.707661 & -0.641623 & 1 \\\\\n",
       "\t13 & -0.809088 & 0.0849465 & 0 \\\\\n",
       "\t14 & -0.645742 & 0.0556211 & 1 \\\\\n",
       "\t15 & 0.0733786 & -0.406804 & 0 \\\\\n",
       "\t16 & -0.826065 & 0.496081 & 1 \\\\\n",
       "\t17 & -0.438582 & -1.27383 & 1 \\\\\n",
       "\t18 & 0.222483 & -0.373476 & 0 \\\\\n",
       "\t19 & -0.885878 & 0.41485 & 1 \\\\\n",
       "\t20 & 0.213235 & 0.0187044 & 0 \\\\\n",
       "\t21 & -0.736999 & 0.139761 & 0 \\\\\n",
       "\t22 & 0.55491 & 0.861751 & 0 \\\\\n",
       "\t23 & 0.387051 & 0.354268 & 0 \\\\\n",
       "\t24 & 0.172272 & -0.511456 & 1 \\\\\n",
       "\t25 & -0.223698 & -0.476203 & 0 \\\\\n",
       "\t26 & -0.571588 & 0.762137 & 1 \\\\\n",
       "\t27 & -0.79379 & -1.16186 & 1 \\\\\n",
       "\t28 & -0.751274 & -0.907534 & 1 \\\\\n",
       "\t29 & 0.703107 & 0.299822 & 1 \\\\\n",
       "\t30 & -0.825285 & 0.286828 & 1 \\\\\n",
       "\t$\\dots$ & $\\dots$ & $\\dots$ & $\\dots$ \\\\\n",
       "\\end{tabular}\n"
      ],
      "text/plain": [
       "100×3 DataFrame\n",
       "│ Row │ x1          │ x2        │ y    │\n",
       "│     │ \u001b[90mFloat64\u001b[39m     │ \u001b[90mFloat64\u001b[39m   │ \u001b[90mCat…\u001b[39m │\n",
       "├─────┼─────────────┼───────────┼──────┤\n",
       "│ 1   │ 0.33769     │ 0.699376  │ 1    │\n",
       "│ 2   │ 0.913377    │ 0.0256294 │ 1    │\n",
       "│ 3   │ 1.39875     │ 0.223683  │ 1    │\n",
       "│ 4   │ -0.110211   │ -0.369423 │ 1    │\n",
       "│ 5   │ 0.166187    │ -0.227497 │ 0    │\n",
       "│ 6   │ 0.783904    │ -0.46014  │ 0    │\n",
       "│ 7   │ -0.00586847 │ -0.102573 │ 0    │\n",
       "│ 8   │ 0.45843     │ -0.245545 │ 1    │\n",
       "│ 9   │ -0.440613   │ 0.0215399 │ 1    │\n",
       "│ 10  │ -0.304477   │ -0.504124 │ 0    │\n",
       "⋮\n",
       "│ 90  │ 0.217777    │ 0.617233  │ 0    │\n",
       "│ 91  │ -0.0823942  │ -0.222044 │ 0    │\n",
       "│ 92  │ -0.744793   │ 0.24152   │ 0    │\n",
       "│ 93  │ 0.0945427   │ 1.06625   │ 0    │\n",
       "│ 94  │ -0.462153   │ -0.849459 │ 0    │\n",
       "│ 95  │ -0.716234   │ -0.512457 │ 0    │\n",
       "│ 96  │ -0.500345   │ -0.204353 │ 1    │\n",
       "│ 97  │ 0.28306     │ -0.420221 │ 0    │\n",
       "│ 98  │ 0.780584    │ 0.134555  │ 0    │\n",
       "│ 99  │ 0.557295    │ 0.46121   │ 0    │\n",
       "│ 100 │ -0.396351   │ -0.447834 │ 0    │"
      ]
     },
     "execution_count": 6,
     "metadata": {},
     "output_type": "execute_result"
    }
   ],
   "source": [
    "X, y = make_circles(100; noise=0.5, factor=0.3)\n",
    "dfCircles = copy(DataFrame(X))\n",
    "dfCircles.y = y\n",
    "dfCircles"
   ]
  },
  {
   "cell_type": "code",
   "execution_count": 7,
   "metadata": {},
   "outputs": [
    {
     "data": {
      "application/vnd.vegalite.v4+json": {
       "data": {
        "values": [
         {
          "x1": 0.33769025725066537,
          "x2": 0.6993762835713443,
          "y": 1
         },
         {
          "x1": 0.9133767624198954,
          "x2": 0.02562935106535133,
          "y": 1
         },
         {
          "x1": 1.3987480714828113,
          "x2": 0.22368272669065192,
          "y": 1
         },
         {
          "x1": -0.11021087815945185,
          "x2": -0.3694231010425676,
          "y": 1
         },
         {
          "x1": 0.16618686632553203,
          "x2": -0.22749674066649103,
          "y": 0
         },
         {
          "x1": 0.7839041732130808,
          "x2": -0.4601397389736773,
          "y": 0
         },
         {
          "x1": -0.005868465926646804,
          "x2": -0.10257329870418047,
          "y": 0
         },
         {
          "x1": 0.4584299967225551,
          "x2": -0.24554528451324065,
          "y": 1
         },
         {
          "x1": -0.4406131292429312,
          "x2": 0.021539906816049892,
          "y": 1
         },
         {
          "x1": -0.30447659046909115,
          "x2": -0.5041240232004228,
          "y": 0
         },
         {
          "x1": -0.7632147950315117,
          "x2": -1.0310258717597995,
          "y": 0
         },
         {
          "x1": 0.7076606510841263,
          "x2": -0.6416228258412479,
          "y": 1
         },
         {
          "x1": -0.8090882562153949,
          "x2": 0.0849464936775925,
          "y": 0
         },
         {
          "x1": -0.645742430274254,
          "x2": 0.055621069348792296,
          "y": 1
         },
         {
          "x1": 0.07337856071435184,
          "x2": -0.40680434624331113,
          "y": 0
         },
         {
          "x1": -0.8260647543062045,
          "x2": 0.496081257408669,
          "y": 1
         },
         {
          "x1": -0.4385818570043778,
          "x2": -1.2738265213763367,
          "y": 1
         },
         {
          "x1": 0.22248265563873482,
          "x2": -0.37347639904266783,
          "y": 0
         },
         {
          "x1": -0.8858783549567183,
          "x2": 0.4148503233904247,
          "y": 1
         },
         {
          "x1": 0.21323451428519574,
          "x2": 0.018704378512835768,
          "y": 0
         },
         {
          "x1": -0.736999236462252,
          "x2": 0.13976065606391141,
          "y": 0
         },
         {
          "x1": 0.5549102488572796,
          "x2": 0.8617513328855007,
          "y": 0
         },
         {
          "x1": 0.3870514514903859,
          "x2": 0.35426778360049005,
          "y": 0
         },
         {
          "x1": 0.1722721431266806,
          "x2": -0.5114562253097367,
          "y": 1
         },
         {
          "x1": -0.22369766474848163,
          "x2": -0.47620268007583166,
          "y": 0
         },
         {
          "x1": -0.5715882312382834,
          "x2": 0.7621365314359219,
          "y": 1
         },
         {
          "x1": -0.7937904219559362,
          "x2": -1.1618632248071703,
          "y": 1
         },
         {
          "x1": -0.7512744443514061,
          "x2": -0.9075341130654571,
          "y": 1
         },
         {
          "x1": 0.7031071468793784,
          "x2": 0.2998222987608485,
          "y": 1
         },
         {
          "x1": -0.8252850285240066,
          "x2": 0.2868283812733152,
          "y": 1
         },
         {
          "x1": 0.5656171336473828,
          "x2": 0.2809441253502678,
          "y": 0
         },
         {
          "x1": 0.08843761011284784,
          "x2": 0.7313046156943873,
          "y": 0
         },
         {
          "x1": -0.6218448384739248,
          "x2": 0.003355604025173542,
          "y": 0
         },
         {
          "x1": -0.5752051480237422,
          "x2": -0.14262721957190388,
          "y": 0
         },
         {
          "x1": 0.414393252803548,
          "x2": 0.46817992995113056,
          "y": 0
         },
         {
          "x1": 0.31738790413859336,
          "x2": 0.27162794606055635,
          "y": 1
         },
         {
          "x1": -0.37308036321696625,
          "x2": 1.12375991291879,
          "y": 1
         },
         {
          "x1": -0.9828418060052897,
          "x2": -0.17995436408146281,
          "y": 0
         },
         {
          "x1": -0.5061347153030497,
          "x2": 0.231360697063885,
          "y": 0
         },
         {
          "x1": -0.2982010311234885,
          "x2": -0.8560230331495605,
          "y": 1
         },
         {
          "x1": -1.7896564491027185,
          "x2": -0.06738643310175699,
          "y": 1
         },
         {
          "x1": 0.8138135911464449,
          "x2": -0.369270136882021,
          "y": 1
         },
         {
          "x1": 0.16390542321645388,
          "x2": -0.08699612738388574,
          "y": 0
         },
         {
          "x1": 0.05868201798339921,
          "x2": -0.18778248023491495,
          "y": 0
         },
         {
          "x1": 0.29190757351287416,
          "x2": -0.25627082370750254,
          "y": 1
         },
         {
          "x1": 0.04453826744491329,
          "x2": 0.40360058515116715,
          "y": 0
         },
         {
          "x1": -0.26194354411295173,
          "x2": -0.3470596681139324,
          "y": 0
         },
         {
          "x1": -0.33994469775215796,
          "x2": 0.3507880815420041,
          "y": 1
         },
         {
          "x1": -0.7106651131086581,
          "x2": 0.5259559454814546,
          "y": 1
         },
         {
          "x1": 0.4654137131281715,
          "x2": -0.8422740985524458,
          "y": 1
         },
         {
          "x1": -0.26041330757857706,
          "x2": 0.10607141979806367,
          "y": 0
         },
         {
          "x1": 0.8598237049086432,
          "x2": -0.15733630204940696,
          "y": 1
         },
         {
          "x1": -0.7888706919308202,
          "x2": -0.5239035555504806,
          "y": 1
         },
         {
          "x1": 1.1932700494506896,
          "x2": 0.9228578448204742,
          "y": 1
         },
         {
          "x1": 0.2876035142004334,
          "x2": 0.9695686295967806,
          "y": 1
         },
         {
          "x1": -2.4108547344832667,
          "x2": 0.21754141400795426,
          "y": 1
         },
         {
          "x1": 1.387973655374758,
          "x2": -0.46955875068180264,
          "y": 1
         },
         {
          "x1": 0.7829876943950829,
          "x2": -1.3238490617680159,
          "y": 1
         },
         {
          "x1": -0.7203093987938518,
          "x2": -0.16469448433343942,
          "y": 0
         },
         {
          "x1": 0.38956166952094623,
          "x2": 0.017312770878345596,
          "y": 0
         },
         {
          "x1": 0.3087382906799078,
          "x2": -1.145233052333635,
          "y": 1
         },
         {
          "x1": -0.6986095590740833,
          "x2": 1.767244812966395,
          "y": 1
         },
         {
          "x1": 0.5748685389446753,
          "x2": 0.2885236710065663,
          "y": 1
         },
         {
          "x1": 0.07159749050232012,
          "x2": -0.6117577780442272,
          "y": 0
         },
         {
          "x1": -0.16168271940659873,
          "x2": -0.6581354608184439,
          "y": 0
         },
         {
          "x1": -0.08182073593862194,
          "x2": -1.1977807933438194,
          "y": 1
         },
         {
          "x1": -0.36560224345803727,
          "x2": 1.7254914783225423,
          "y": 1
         },
         {
          "x1": -0.025292867257856344,
          "x2": -0.6239507513009386,
          "y": 0
         },
         {
          "x1": -0.533621978015089,
          "x2": -0.12432084460741766,
          "y": 0
         },
         {
          "x1": -0.36316525788771026,
          "x2": -0.955356547303776,
          "y": 1
         },
         {
          "x1": -0.24730571563155446,
          "x2": 1.3830492635226548,
          "y": 1
         },
         {
          "x1": 0.3406865719488942,
          "x2": 0.3501429897418686,
          "y": 0
         },
         {
          "x1": -0.5815218006906,
          "x2": -0.17577531332589677,
          "y": 0
         },
         {
          "x1": -0.46617726606455046,
          "x2": 0.5773998001494055,
          "y": 0
         },
         {
          "x1": -0.20208504403884722,
          "x2": -0.5028946978160473,
          "y": 1
         },
         {
          "x1": 0.49929514393468366,
          "x2": 0.10551226677527314,
          "y": 0
         },
         {
          "x1": 0.5072431120975589,
          "x2": -1.465103524175388,
          "y": 1
         },
         {
          "x1": -0.06813845806436372,
          "x2": -1.173795047712684,
          "y": 1
         },
         {
          "x1": 0.4235206495328804,
          "x2": -1.0444831899279934,
          "y": 0
         },
         {
          "x1": -0.5430860905956351,
          "x2": 0.6491152726203376,
          "y": 1
         },
         {
          "x1": -0.10395607751785818,
          "x2": -0.6572181346661372,
          "y": 0
         },
         {
          "x1": 0.13691165828769056,
          "x2": 0.8212529351037552,
          "y": 1
         },
         {
          "x1": -0.3853535595944916,
          "x2": -0.9725660144165951,
          "y": 1
         },
         {
          "x1": 0.5175191468249756,
          "x2": -0.7260673233025317,
          "y": 0
         },
         {
          "x1": 1.6258079244104033,
          "x2": 0.2586983344513622,
          "y": 1
         },
         {
          "x1": 0.7321900246137907,
          "x2": 1.825388108840404,
          "y": 1
         },
         {
          "x1": -0.040702001964134316,
          "x2": 0.31367581424788005,
          "y": 0
         },
         {
          "x1": 0.5222295265610027,
          "x2": 0.2673290164223909,
          "y": 0
         },
         {
          "x1": 1.7158396561915348,
          "x2": -1.2602704772708992,
          "y": 1
         },
         {
          "x1": 0.21777650914791558,
          "x2": 0.6172331059383391,
          "y": 0
         },
         {
          "x1": -0.08239418528322265,
          "x2": -0.2220438271535038,
          "y": 0
         },
         {
          "x1": -0.7447932035881751,
          "x2": 0.24152009963133073,
          "y": 0
         },
         {
          "x1": 0.09454270492979958,
          "x2": 1.0662472376679901,
          "y": 0
         },
         {
          "x1": -0.46215278791544606,
          "x2": -0.8494592092932276,
          "y": 0
         },
         {
          "x1": -0.7162342862952378,
          "x2": -0.5124571325057281,
          "y": 0
         },
         {
          "x1": -0.5003450110408769,
          "x2": -0.204352521141947,
          "y": 1
         },
         {
          "x1": 0.2830599522480861,
          "x2": -0.42022068265971557,
          "y": 0
         },
         {
          "x1": 0.780584028966617,
          "x2": 0.13455453459001213,
          "y": 0
         },
         {
          "x1": 0.5572948297374889,
          "x2": 0.46120994153689604,
          "y": 0
         },
         {
          "x1": -0.3963505149075054,
          "x2": -0.44783354426825933,
          "y": 0
         }
        ]
       },
       "encoding": {
        "color": {
         "field": "y",
         "type": "nominal"
        },
        "x": {
         "field": "x1",
         "type": "quantitative"
        },
        "y": {
         "field": "x2",
         "type": "quantitative"
        }
       },
       "mark": "circle"
      },
      "image/png": "[encoded data removed]",
      "image/svg+xml": [
       "<?xml version=\"1.0\" encoding=\"utf-8\"?>\n",
       "<!DOCTYPE svg PUBLIC \"-//W3C//DTD SVG 1.1//EN\" \"http://www.w3.org/Graphics/SVG/1.1/DTD/svg11.dtd\">\n",
       "<svg class=\"marks\" width=\"288\" height=\"247\" viewBox=\"0 0 288 247\" version=\"1.1\" xmlns=\"http://www.w3.org/2000/svg\" xmlns:xlink=\"http://www.w3.org/1999/xlink\"><rect width=\"288\" height=\"247\" fill=\"white\"></rect><g fill=\"none\" stroke-miterlimit=\"10\" transform=\"translate(44,10)\"><g class=\"mark-group role-frame root\" role=\"graphics-object\" aria-roledescription=\"group mark container\"><g transform=\"translate(0,0)\"><path class=\"background\" aria-hidden=\"true\" d=\"M0.5,0.5h200v200h-200Z\" stroke=\"#ddd\"></path><g><g class=\"mark-group role-axis\" aria-hidden=\"true\"><g transform=\"translate(0.5,200.5)\"><path class=\"background\" aria-hidden=\"true\" d=\"M0,0h0v0h0Z\" pointer-events=\"none\"></path><g><g class=\"mark-rule role-axis-grid\" pointer-events=\"none\"><line transform=\"translate(22,-200)\" x2=\"0\" y2=\"200\" stroke=\"#ddd\" stroke-width=\"1\" opacity=\"1\"></line><line transform=\"translate(67,-200)\" x2=\"0\" y2=\"200\" stroke=\"#ddd\" stroke-width=\"1\" opacity=\"1\"></line><line transform=\"translate(111,-200)\" x2=\"0\" y2=\"200\" stroke=\"#ddd\" stroke-width=\"1\" opacity=\"1\"></line><line transform=\"translate(156,-200)\" x2=\"0\" y2=\"200\" stroke=\"#ddd\" stroke-width=\"1\" opacity=\"1\"></line><line transform=\"translate(200,-200)\" x2=\"0\" y2=\"200\" stroke=\"#ddd\" stroke-width=\"1\" opacity=\"1\"></line></g></g><path class=\"foreground\" aria-hidden=\"true\" d=\"\" pointer-events=\"none\" display=\"none\"></path></g></g><g class=\"mark-group role-axis\" aria-hidden=\"true\"><g transform=\"translate(0.5,0.5)\"><path class=\"background\" aria-hidden=\"true\" d=\"M0,0h0v0h0Z\" pointer-events=\"none\"></path><g><g class=\"mark-rule role-axis-grid\" pointer-events=\"none\"><line transform=\"translate(0,200)\" x2=\"200\" y2=\"0\" stroke=\"#ddd\" stroke-width=\"1\" opacity=\"1\"></line><line transform=\"translate(0,171)\" x2=\"200\" y2=\"0\" stroke=\"#ddd\" stroke-width=\"1\" opacity=\"1\"></line><line transform=\"translate(0,143)\" x2=\"200\" y2=\"0\" stroke=\"#ddd\" stroke-width=\"1\" opacity=\"1\"></line><line transform=\"translate(0,114)\" x2=\"200\" y2=\"0\" stroke=\"#ddd\" stroke-width=\"1\" opacity=\"1\"></line><line transform=\"translate(0,86)\" x2=\"200\" y2=\"0\" stroke=\"#ddd\" stroke-width=\"1\" opacity=\"1\"></line><line transform=\"translate(0,57)\" x2=\"200\" y2=\"0\" stroke=\"#ddd\" stroke-width=\"1\" opacity=\"1\"></line><line transform=\"translate(0,29)\" x2=\"200\" y2=\"0\" stroke=\"#ddd\" stroke-width=\"1\" opacity=\"1\"></line><line transform=\"translate(0,0)\" x2=\"200\" y2=\"0\" stroke=\"#ddd\" stroke-width=\"1\" opacity=\"1\"></line></g></g><path class=\"foreground\" aria-hidden=\"true\" d=\"\" pointer-events=\"none\" display=\"none\"></path></g></g><g class=\"mark-group role-axis\" role=\"graphics-symbol\" aria-roledescription=\"axis\" aria-label=\"X-axis titled 'x1' for a linear scale with values from -3 to 2\"><g transform=\"translate(0.5,200.5)\"><path class=\"background\" aria-hidden=\"true\" d=\"M0,0h0v0h0Z\" pointer-events=\"none\"></path><g><g class=\"mark-rule role-axis-tick\" pointer-events=\"none\"><line transform=\"translate(22,0)\" x2=\"0\" y2=\"5\" stroke=\"#888\" stroke-width=\"1\" opacity=\"1\"></line><line transform=\"translate(67,0)\" x2=\"0\" y2=\"5\" stroke=\"#888\" stroke-width=\"1\" opacity=\"1\"></line><line transform=\"translate(111,0)\" x2=\"0\" y2=\"5\" stroke=\"#888\" stroke-width=\"1\" opacity=\"1\"></line><line transform=\"translate(156,0)\" x2=\"0\" y2=\"5\" stroke=\"#888\" stroke-width=\"1\" opacity=\"1\"></line><line transform=\"translate(200,0)\" x2=\"0\" y2=\"5\" stroke=\"#888\" stroke-width=\"1\" opacity=\"1\"></line></g><g class=\"mark-text role-axis-label\" pointer-events=\"none\"><text text-anchor=\"middle\" transform=\"translate(22.22222222222222,15)\" font-family=\"sans-serif\" font-size=\"10px\" fill=\"#000\" opacity=\"1\">-2</text><text text-anchor=\"middle\" transform=\"translate(66.66666666666666,15)\" font-family=\"sans-serif\" font-size=\"10px\" fill=\"#000\" opacity=\"1\">-1</text><text text-anchor=\"middle\" transform=\"translate(111.11111111111111,15)\" font-family=\"sans-serif\" font-size=\"10px\" fill=\"#000\" opacity=\"1\">0</text><text text-anchor=\"middle\" transform=\"translate(155.55555555555557,15)\" font-family=\"sans-serif\" font-size=\"10px\" fill=\"#000\" opacity=\"1\">1</text><text text-anchor=\"end\" transform=\"translate(200,15)\" font-family=\"sans-serif\" font-size=\"10px\" fill=\"#000\" opacity=\"1\">2</text></g><g class=\"mark-rule role-axis-domain\" pointer-events=\"none\"><line transform=\"translate(0,0)\" x2=\"200\" y2=\"0\" stroke=\"#888\" stroke-width=\"1\" opacity=\"1\"></line></g><g class=\"mark-text role-axis-title\" pointer-events=\"none\"><text text-anchor=\"middle\" transform=\"translate(100,30)\" font-family=\"sans-serif\" font-size=\"11px\" font-weight=\"bold\" fill=\"#000\" opacity=\"1\">x1</text></g></g><path class=\"foreground\" aria-hidden=\"true\" d=\"\" pointer-events=\"none\" display=\"none\"></path></g></g><g class=\"mark-group role-axis\" role=\"graphics-symbol\" aria-roledescription=\"axis\" aria-label=\"Y-axis titled 'x2' for a linear scale with values from -1.5 to 2.0\"><g transform=\"translate(0.5,0.5)\"><path class=\"background\" aria-hidden=\"true\" d=\"M0,0h0v0h0Z\" pointer-events=\"none\"></path><g><g class=\"mark-rule role-axis-tick\" pointer-events=\"none\"><line transform=\"translate(0,200)\" x2=\"-5\" y2=\"0\" stroke=\"#888\" stroke-width=\"1\" opacity=\"1\"></line><line transform=\"translate(0,171)\" x2=\"-5\" y2=\"0\" stroke=\"#888\" stroke-width=\"1\" opacity=\"1\"></line><line transform=\"translate(0,143)\" x2=\"-5\" y2=\"0\" stroke=\"#888\" stroke-width=\"1\" opacity=\"1\"></line><line transform=\"translate(0,114)\" x2=\"-5\" y2=\"0\" stroke=\"#888\" stroke-width=\"1\" opacity=\"1\"></line><line transform=\"translate(0,86)\" x2=\"-5\" y2=\"0\" stroke=\"#888\" stroke-width=\"1\" opacity=\"1\"></line><line transform=\"translate(0,57)\" x2=\"-5\" y2=\"0\" stroke=\"#888\" stroke-width=\"1\" opacity=\"1\"></line><line transform=\"translate(0,29)\" x2=\"-5\" y2=\"0\" stroke=\"#888\" stroke-width=\"1\" opacity=\"1\"></line><line transform=\"translate(0,0)\" x2=\"-5\" y2=\"0\" stroke=\"#888\" stroke-width=\"1\" opacity=\"1\"></line></g><g class=\"mark-text role-axis-label\" pointer-events=\"none\"><text text-anchor=\"end\" transform=\"translate(-7,203)\" font-family=\"sans-serif\" font-size=\"10px\" fill=\"#000\" opacity=\"1\">-1.5</text><text text-anchor=\"end\" transform=\"translate(-7,174.42857142857144)\" font-family=\"sans-serif\" font-size=\"10px\" fill=\"#000\" opacity=\"1\">-1.0</text><text text-anchor=\"end\" transform=\"translate(-7,145.85714285714286)\" font-family=\"sans-serif\" font-size=\"10px\" fill=\"#000\" opacity=\"1\">-0.5</text><text text-anchor=\"end\" transform=\"translate(-7,117.28571428571428)\" font-family=\"sans-serif\" font-size=\"10px\" fill=\"#000\" opacity=\"1\">0.0</text><text text-anchor=\"end\" transform=\"translate(-7,88.71428571428572)\" font-family=\"sans-serif\" font-size=\"10px\" fill=\"#000\" opacity=\"1\">0.5</text><text text-anchor=\"end\" transform=\"translate(-7,60.14285714285714)\" font-family=\"sans-serif\" font-size=\"10px\" fill=\"#000\" opacity=\"1\">1.0</text><text text-anchor=\"end\" transform=\"translate(-7,31.57142857142858)\" font-family=\"sans-serif\" font-size=\"10px\" fill=\"#000\" opacity=\"1\">1.5</text><text text-anchor=\"end\" transform=\"translate(-7,3)\" font-family=\"sans-serif\" font-size=\"10px\" fill=\"#000\" opacity=\"1\">2.0</text></g><g class=\"mark-rule role-axis-domain\" pointer-events=\"none\"><line transform=\"translate(0,200)\" x2=\"0\" y2=\"-200\" stroke=\"#888\" stroke-width=\"1\" opacity=\"1\"></line></g><g class=\"mark-text role-axis-title\" pointer-events=\"none\"><text text-anchor=\"middle\" transform=\"translate(-28,100) rotate(-90) translate(0,-2)\" font-family=\"sans-serif\" font-size=\"11px\" font-weight=\"bold\" fill=\"#000\" opacity=\"1\">x2</text></g></g><path class=\"foreground\" aria-hidden=\"true\" d=\"\" pointer-events=\"none\" display=\"none\"></path></g></g><g class=\"mark-symbol role-mark marks\" role=\"graphics-object\" aria-roledescription=\"symbol mark container\"><path aria-label=\"x1: 0.337690257251; x2: 0.699376283571; y: 1\" role=\"graphics-symbol\" aria-roledescription=\"circle\" transform=\"translate(126.11956698891846,74.32135522449461)\" d=\"M2.7386127875258306,0A2.7386127875258306,2.7386127875258306,0,1,1,-2.7386127875258306,0A2.7386127875258306,2.7386127875258306,0,1,1,2.7386127875258306,0\" fill=\"#f58518\" stroke-width=\"2\" opacity=\"0.7\"></path><path aria-label=\"x1: 0.91337676242; x2: 0.0256293510654; y: 1\" role=\"graphics-symbol\" aria-roledescription=\"circle\" transform=\"translate(151.7056338853287,112.82117993912277)\" d=\"M2.7386127875258306,0A2.7386127875258306,2.7386127875258306,0,1,1,-2.7386127875258306,0A2.7386127875258306,2.7386127875258306,0,1,1,2.7386127875258306,0\" fill=\"#f58518\" stroke-width=\"2\" opacity=\"0.7\"></path><path aria-label=\"x1: 1.39874807148; x2: 0.223682726691; y: 1\" role=\"graphics-symbol\" aria-roledescription=\"circle\" transform=\"translate(173.2776920659027,101.5038441891056)\" d=\"M2.7386127875258306,0A2.7386127875258306,2.7386127875258306,0,1,1,-2.7386127875258306,0A2.7386127875258306,2.7386127875258306,0,1,1,2.7386127875258306,0\" fill=\"#f58518\" stroke-width=\"2\" opacity=\"0.7\"></path><path aria-label=\"x1: -0.110210878159; x2: -0.369423101043; y: 1\" role=\"graphics-symbol\" aria-roledescription=\"circle\" transform=\"translate(106.21284985957993,135.395605773861)\" d=\"M2.7386127875258306,0A2.7386127875258306,2.7386127875258306,0,1,1,-2.7386127875258306,0A2.7386127875258306,2.7386127875258306,0,1,1,2.7386127875258306,0\" fill=\"#f58518\" stroke-width=\"2\" opacity=\"0.7\"></path><path aria-label=\"x1: 0.166186866326; x2: -0.227496740666; y: 0\" role=\"graphics-symbol\" aria-roledescription=\"circle\" transform=\"translate(118.49719405891253,127.28552803808519)\" d=\"M2.7386127875258306,0A2.7386127875258306,2.7386127875258306,0,1,1,-2.7386127875258306,0A2.7386127875258306,2.7386127875258306,0,1,1,2.7386127875258306,0\" fill=\"#4c78a8\" stroke-width=\"2\" opacity=\"0.7\"></path><path aria-label=\"x1: 0.783904173213; x2: -0.460139738974; y: 0\" role=\"graphics-symbol\" aria-roledescription=\"circle\" transform=\"translate(145.95129658724804,140.5794136556387)\" d=\"M2.7386127875258306,0A2.7386127875258306,2.7386127875258306,0,1,1,-2.7386127875258306,0A2.7386127875258306,2.7386127875258306,0,1,1,2.7386127875258306,0\" fill=\"#4c78a8\" stroke-width=\"2\" opacity=\"0.7\"></path><path aria-label=\"x1: -0.00586846592665; x2: -0.102573298704; y: 0\" role=\"graphics-symbol\" aria-roledescription=\"circle\" transform=\"translate(110.85029040326013,120.14704564023889)\" d=\"M2.7386127875258306,0A2.7386127875258306,2.7386127875258306,0,1,1,-2.7386127875258306,0A2.7386127875258306,2.7386127875258306,0,1,1,2.7386127875258306,0\" fill=\"#4c78a8\" stroke-width=\"2\" opacity=\"0.7\"></path><path aria-label=\"x1: 0.458429996723; x2: -0.245545284513; y: 1\" role=\"graphics-symbol\" aria-roledescription=\"circle\" transform=\"translate(131.48577763211355,128.3168734007566)\" d=\"M2.7386127875258306,0A2.7386127875258306,2.7386127875258306,0,1,1,-2.7386127875258306,0A2.7386127875258306,2.7386127875258306,0,1,1,2.7386127875258306,0\" fill=\"#f58518\" stroke-width=\"2\" opacity=\"0.7\"></path><path aria-label=\"x1: -0.440613129243; x2: 0.021539906816; y: 1\" role=\"graphics-symbol\" aria-roledescription=\"circle\" transform=\"translate(91.52830536698082,113.05486246765429)\" d=\"M2.7386127875258306,0A2.7386127875258306,2.7386127875258306,0,1,1,-2.7386127875258306,0A2.7386127875258306,2.7386127875258306,0,1,1,2.7386127875258306,0\" fill=\"#f58518\" stroke-width=\"2\" opacity=\"0.7\"></path><path aria-label=\"x1: -0.304476590469; x2: -0.5041240232; y: 0\" role=\"graphics-symbol\" aria-roledescription=\"circle\" transform=\"translate(97.57881820137374,143.09280132573846)\" d=\"M2.7386127875258306,0A2.7386127875258306,2.7386127875258306,0,1,1,-2.7386127875258306,0A2.7386127875258306,2.7386127875258306,0,1,1,2.7386127875258306,0\" fill=\"#4c78a8\" stroke-width=\"2\" opacity=\"0.7\"></path><path aria-label=\"x1: -0.763214795032; x2: -1.03102587176; y: 0\" role=\"graphics-symbol\" aria-roledescription=\"circle\" transform=\"translate(77.19045355415504,173.20147838627426)\" d=\"M2.7386127875258306,0A2.7386127875258306,2.7386127875258306,0,1,1,-2.7386127875258306,0A2.7386127875258306,2.7386127875258306,0,1,1,2.7386127875258306,0\" fill=\"#4c78a8\" stroke-width=\"2\" opacity=\"0.7\"></path><path aria-label=\"x1: 0.707660651084; x2: -0.641622825841; y: 1\" role=\"graphics-symbol\" aria-roledescription=\"circle\" transform=\"translate(142.56269560373894,150.94987576235704)\" d=\"M2.7386127875258306,0A2.7386127875258306,2.7386127875258306,0,1,1,-2.7386127875258306,0A2.7386127875258306,2.7386127875258306,0,1,1,2.7386127875258306,0\" fill=\"#f58518\" stroke-width=\"2\" opacity=\"0.7\"></path><path aria-label=\"x1: -0.809088256215; x2: 0.0849464936776; y: 0\" role=\"graphics-symbol\" aria-roledescription=\"circle\" transform=\"translate(75.15163305709356,109.43162893270899)\" d=\"M2.7386127875258306,0A2.7386127875258306,2.7386127875258306,0,1,1,-2.7386127875258306,0A2.7386127875258306,2.7386127875258306,0,1,1,2.7386127875258306,0\" fill=\"#4c78a8\" stroke-width=\"2\" opacity=\"0.7\"></path><path aria-label=\"x1: -0.645742430274; x2: 0.0556210693488; y: 1\" role=\"graphics-symbol\" aria-roledescription=\"circle\" transform=\"translate(82.41144754336649,111.10736746578328)\" d=\"M2.7386127875258306,0A2.7386127875258306,2.7386127875258306,0,1,1,-2.7386127875258306,0A2.7386127875258306,2.7386127875258306,0,1,1,2.7386127875258306,0\" fill=\"#f58518\" stroke-width=\"2\" opacity=\"0.7\"></path><path aria-label=\"x1: 0.0733785607144; x2: -0.406804346243; y: 0\" role=\"graphics-symbol\" aria-roledescription=\"circle\" transform=\"translate(114.3723804761934,137.53167692818923)\" d=\"M2.7386127875258306,0A2.7386127875258306,2.7386127875258306,0,1,1,-2.7386127875258306,0A2.7386127875258306,2.7386127875258306,0,1,1,2.7386127875258306,0\" fill=\"#4c78a8\" stroke-width=\"2\" opacity=\"0.7\"></path><path aria-label=\"x1: -0.826064754306; x2: 0.496081257409; y: 1\" role=\"graphics-symbol\" aria-roledescription=\"circle\" transform=\"translate(74.39712203083535,85.93821386236178)\" d=\"M2.7386127875258306,0A2.7386127875258306,2.7386127875258306,0,1,1,-2.7386127875258306,0A2.7386127875258306,2.7386127875258306,0,1,1,2.7386127875258306,0\" fill=\"#f58518\" stroke-width=\"2\" opacity=\"0.7\"></path><path aria-label=\"x1: -0.438581857004; x2: -1.27382652138; y: 1\" role=\"graphics-symbol\" aria-roledescription=\"circle\" transform=\"translate(91.61858413313877,187.07580122150495)\" d=\"M2.7386127875258306,0A2.7386127875258306,2.7386127875258306,0,1,1,-2.7386127875258306,0A2.7386127875258306,2.7386127875258306,0,1,1,2.7386127875258306,0\" fill=\"#f58518\" stroke-width=\"2\" opacity=\"0.7\"></path><path aria-label=\"x1: 0.222482655639; x2: -0.373476399043; y: 0\" role=\"graphics-symbol\" aria-roledescription=\"circle\" transform=\"translate(120.99922913949932,135.62722280243818)\" d=\"M2.7386127875258306,0A2.7386127875258306,2.7386127875258306,0,1,1,-2.7386127875258306,0A2.7386127875258306,2.7386127875258306,0,1,1,2.7386127875258306,0\" fill=\"#4c78a8\" stroke-width=\"2\" opacity=\"0.7\"></path><path aria-label=\"x1: -0.885878354957; x2: 0.41485032339; y: 1\" role=\"graphics-symbol\" aria-roledescription=\"circle\" transform=\"translate(71.7387397797014,90.57998152054716)\" d=\"M2.7386127875258306,0A2.7386127875258306,2.7386127875258306,0,1,1,-2.7386127875258306,0A2.7386127875258306,2.7386127875258306,0,1,1,2.7386127875258306,0\" fill=\"#f58518\" stroke-width=\"2\" opacity=\"0.7\"></path><path aria-label=\"x1: 0.213234514285; x2: 0.0187043785128; y: 0\" role=\"graphics-symbol\" aria-roledescription=\"circle\" transform=\"translate(120.58820063489759,113.2168926564094)\" d=\"M2.7386127875258306,0A2.7386127875258306,2.7386127875258306,0,1,1,-2.7386127875258306,0A2.7386127875258306,2.7386127875258306,0,1,1,2.7386127875258306,0\" fill=\"#4c78a8\" stroke-width=\"2\" opacity=\"0.7\"></path><path aria-label=\"x1: -0.736999236462; x2: 0.139760656064; y: 0\" role=\"graphics-symbol\" aria-roledescription=\"circle\" transform=\"translate(78.35558949056659,106.29939108206221)\" d=\"M2.7386127875258306,0A2.7386127875258306,2.7386127875258306,0,1,1,-2.7386127875258306,0A2.7386127875258306,2.7386127875258306,0,1,1,2.7386127875258306,0\" fill=\"#4c78a8\" stroke-width=\"2\" opacity=\"0.7\"></path><path aria-label=\"x1: 0.554910248857; x2: 0.861751332886; y: 0\" role=\"graphics-symbol\" aria-roledescription=\"circle\" transform=\"translate(135.77378883810132,65.0427809779714)\" d=\"M2.7386127875258306,0A2.7386127875258306,2.7386127875258306,0,1,1,-2.7386127875258306,0A2.7386127875258306,2.7386127875258306,0,1,1,2.7386127875258306,0\" fill=\"#4c78a8\" stroke-width=\"2\" opacity=\"0.7\"></path><path aria-label=\"x1: 0.38705145149; x2: 0.3542677836; y: 0\" role=\"graphics-symbol\" aria-roledescription=\"circle\" transform=\"translate(128.31339784401717,94.04184093711486)\" d=\"M2.7386127875258306,0A2.7386127875258306,2.7386127875258306,0,1,1,-2.7386127875258306,0A2.7386127875258306,2.7386127875258306,0,1,1,2.7386127875258306,0\" fill=\"#4c78a8\" stroke-width=\"2\" opacity=\"0.7\"></path><path aria-label=\"x1: 0.172272143127; x2: -0.51145622531; y: 1\" role=\"graphics-symbol\" aria-roledescription=\"circle\" transform=\"translate(118.76765080563025,143.51178430341355)\" d=\"M2.7386127875258306,0A2.7386127875258306,2.7386127875258306,0,1,1,-2.7386127875258306,0A2.7386127875258306,2.7386127875258306,0,1,1,2.7386127875258306,0\" fill=\"#f58518\" stroke-width=\"2\" opacity=\"0.7\"></path><path aria-label=\"x1: -0.223697664748; x2: -0.476202680076; y: 0\" role=\"graphics-symbol\" aria-roledescription=\"circle\" transform=\"translate(101.16899267784527,141.49729600433324)\" d=\"M2.7386127875258306,0A2.7386127875258306,2.7386127875258306,0,1,1,-2.7386127875258306,0A2.7386127875258306,2.7386127875258306,0,1,1,2.7386127875258306,0\" fill=\"#4c78a8\" stroke-width=\"2\" opacity=\"0.7\"></path><path aria-label=\"x1: -0.571588231238; x2: 0.762136531436; y: 1\" role=\"graphics-symbol\" aria-roledescription=\"circle\" transform=\"translate(85.70718972274295,70.73505534651876)\" d=\"M2.7386127875258306,0A2.7386127875258306,2.7386127875258306,0,1,1,-2.7386127875258306,0A2.7386127875258306,2.7386127875258306,0,1,1,2.7386127875258306,0\" fill=\"#f58518\" stroke-width=\"2\" opacity=\"0.7\"></path><path aria-label=\"x1: -0.793790421956; x2: -1.16186322481; y: 1\" role=\"graphics-symbol\" aria-roledescription=\"circle\" transform=\"translate(75.83153680195839,180.67789856040972)\" d=\"M2.7386127875258306,0A2.7386127875258306,2.7386127875258306,0,1,1,-2.7386127875258306,0A2.7386127875258306,2.7386127875258306,0,1,1,2.7386127875258306,0\" fill=\"#f58518\" stroke-width=\"2\" opacity=\"0.7\"></path><path aria-label=\"x1: -0.751274444351; x2: -0.907534113065; y: 1\" role=\"graphics-symbol\" aria-roledescription=\"circle\" transform=\"translate(77.72113580660417,166.14480646088325)\" d=\"M2.7386127875258306,0A2.7386127875258306,2.7386127875258306,0,1,1,-2.7386127875258306,0A2.7386127875258306,2.7386127875258306,0,1,1,2.7386127875258306,0\" fill=\"#f58518\" stroke-width=\"2\" opacity=\"0.7\"></path><path aria-label=\"x1: 0.703107146879; x2: 0.299822298761; y: 1\" role=\"graphics-symbol\" aria-roledescription=\"circle\" transform=\"translate(142.3603176390835,97.1530114993801)\" d=\"M2.7386127875258306,0A2.7386127875258306,2.7386127875258306,0,1,1,-2.7386127875258306,0A2.7386127875258306,2.7386127875258306,0,1,1,2.7386127875258306,0\" fill=\"#f58518\" stroke-width=\"2\" opacity=\"0.7\"></path><path aria-label=\"x1: -0.825285028524; x2: 0.286828381273; y: 1\" role=\"graphics-symbol\" aria-roledescription=\"circle\" transform=\"translate(74.43177651004414,97.89552107009627)\" d=\"M2.7386127875258306,0A2.7386127875258306,2.7386127875258306,0,1,1,-2.7386127875258306,0A2.7386127875258306,2.7386127875258306,0,1,1,2.7386127875258306,0\" fill=\"#f58518\" stroke-width=\"2\" opacity=\"0.7\"></path><path aria-label=\"x1: 0.565617133647; x2: 0.28094412535; y: 0\" role=\"graphics-symbol\" aria-roledescription=\"circle\" transform=\"translate(136.2496503843281,98.23176426569897)\" d=\"M2.7386127875258306,0A2.7386127875258306,2.7386127875258306,0,1,1,-2.7386127875258306,0A2.7386127875258306,2.7386127875258306,0,1,1,2.7386127875258306,0\" fill=\"#4c78a8\" stroke-width=\"2\" opacity=\"0.7\"></path><path aria-label=\"x1: 0.0884376101128; x2: 0.731304615694; y: 0\" role=\"graphics-symbol\" aria-roledescription=\"circle\" transform=\"translate(115.04167156057102,72.49687910317787)\" d=\"M2.7386127875258306,0A2.7386127875258306,2.7386127875258306,0,1,1,-2.7386127875258306,0A2.7386127875258306,2.7386127875258306,0,1,1,2.7386127875258306,0\" fill=\"#4c78a8\" stroke-width=\"2\" opacity=\"0.7\"></path><path aria-label=\"x1: -0.621844838474; x2: 0.00335560402517; y: 0\" role=\"graphics-symbol\" aria-roledescription=\"circle\" transform=\"translate(83.47356273449223,114.09396548427581)\" d=\"M2.7386127875258306,0A2.7386127875258306,2.7386127875258306,0,1,1,-2.7386127875258306,0A2.7386127875258306,2.7386127875258306,0,1,1,2.7386127875258306,0\" fill=\"#4c78a8\" stroke-width=\"2\" opacity=\"0.7\"></path><path aria-label=\"x1: -0.575205148024; x2: -0.142627219572; y: 0\" role=\"graphics-symbol\" aria-roledescription=\"circle\" transform=\"translate(85.54643786561145,122.43584111839452)\" d=\"M2.7386127875258306,0A2.7386127875258306,2.7386127875258306,0,1,1,-2.7386127875258306,0A2.7386127875258306,2.7386127875258306,0,1,1,2.7386127875258306,0\" fill=\"#4c78a8\" stroke-width=\"2\" opacity=\"0.7\"></path><path aria-label=\"x1: 0.414393252804; x2: 0.468179929951; y: 0\" role=\"graphics-symbol\" aria-roledescription=\"circle\" transform=\"translate(129.52858901349103,87.53257543136397)\" d=\"M2.7386127875258306,0A2.7386127875258306,2.7386127875258306,0,1,1,-2.7386127875258306,0A2.7386127875258306,2.7386127875258306,0,1,1,2.7386127875258306,0\" fill=\"#4c78a8\" stroke-width=\"2\" opacity=\"0.7\"></path><path aria-label=\"x1: 0.317387904139; x2: 0.271627946061; y: 1\" role=\"graphics-symbol\" aria-roledescription=\"circle\" transform=\"translate(125.21724018393749,98.7641173679682)\" d=\"M2.7386127875258306,0A2.7386127875258306,2.7386127875258306,0,1,1,-2.7386127875258306,0A2.7386127875258306,2.7386127875258306,0,1,1,2.7386127875258306,0\" fill=\"#f58518\" stroke-width=\"2\" opacity=\"0.7\"></path><path aria-label=\"x1: -0.373080363217; x2: 1.12375991292; y: 1\" role=\"graphics-symbol\" aria-roledescription=\"circle\" transform=\"translate(94.5297616348015,50.070862118926286)\" d=\"M2.7386127875258306,0A2.7386127875258306,2.7386127875258306,0,1,1,-2.7386127875258306,0A2.7386127875258306,2.7386127875258306,0,1,1,2.7386127875258306,0\" fill=\"#f58518\" stroke-width=\"2\" opacity=\"0.7\"></path><path aria-label=\"x1: -0.982841806005; x2: -0.179954364081; y: 0\" role=\"graphics-symbol\" aria-roledescription=\"circle\" transform=\"translate(67.42925306643157,124.56882080465502)\" d=\"M2.7386127875258306,0A2.7386127875258306,2.7386127875258306,0,1,1,-2.7386127875258306,0A2.7386127875258306,2.7386127875258306,0,1,1,2.7386127875258306,0\" fill=\"#4c78a8\" stroke-width=\"2\" opacity=\"0.7\"></path><path aria-label=\"x1: -0.506134715303; x2: 0.231360697064; y: 0\" role=\"graphics-symbol\" aria-roledescription=\"circle\" transform=\"translate(88.61623487542002,101.06510302492086)\" d=\"M2.7386127875258306,0A2.7386127875258306,2.7386127875258306,0,1,1,-2.7386127875258306,0A2.7386127875258306,2.7386127875258306,0,1,1,2.7386127875258306,0\" fill=\"#4c78a8\" stroke-width=\"2\" opacity=\"0.7\"></path><path aria-label=\"x1: -0.298201031123; x2: -0.85602303315; y: 1\" role=\"graphics-symbol\" aria-roledescription=\"circle\" transform=\"translate(97.85773195006719,163.2013161799749)\" d=\"M2.7386127875258306,0A2.7386127875258306,2.7386127875258306,0,1,1,-2.7386127875258306,0A2.7386127875258306,2.7386127875258306,0,1,1,2.7386127875258306,0\" fill=\"#f58518\" stroke-width=\"2\" opacity=\"0.7\"></path><path aria-label=\"x1: -1.7896564491; x2: -0.0673864331018; y: 1\" role=\"graphics-symbol\" aria-roledescription=\"circle\" transform=\"translate(31.570824484323623,118.1363676058147)\" d=\"M2.7386127875258306,0A2.7386127875258306,2.7386127875258306,0,1,1,-2.7386127875258306,0A2.7386127875258306,2.7386127875258306,0,1,1,2.7386127875258306,0\" fill=\"#f58518\" stroke-width=\"2\" opacity=\"0.7\"></path><path aria-label=\"x1: 0.813813591146; x2: -0.369270136882; y: 1\" role=\"graphics-symbol\" aria-roledescription=\"circle\" transform=\"translate(147.28060405095312,135.3868649646869)\" d=\"M2.7386127875258306,0A2.7386127875258306,2.7386127875258306,0,1,1,-2.7386127875258306,0A2.7386127875258306,2.7386127875258306,0,1,1,2.7386127875258306,0\" fill=\"#f58518\" stroke-width=\"2\" opacity=\"0.7\"></path><path aria-label=\"x1: 0.163905423216; x2: -0.0869961273839; y: 0\" role=\"graphics-symbol\" aria-roledescription=\"circle\" transform=\"translate(118.39579658739797,119.25692156479349)\" d=\"M2.7386127875258306,0A2.7386127875258306,2.7386127875258306,0,1,1,-2.7386127875258306,0A2.7386127875258306,2.7386127875258306,0,1,1,2.7386127875258306,0\" fill=\"#4c78a8\" stroke-width=\"2\" opacity=\"0.7\"></path><path aria-label=\"x1: 0.0586820179834; x2: -0.187782480235; y: 0\" role=\"graphics-symbol\" aria-roledescription=\"circle\" transform=\"translate(113.71920079926218,125.01614172770941)\" d=\"M2.7386127875258306,0A2.7386127875258306,2.7386127875258306,0,1,1,-2.7386127875258306,0A2.7386127875258306,2.7386127875258306,0,1,1,2.7386127875258306,0\" fill=\"#4c78a8\" stroke-width=\"2\" opacity=\"0.7\"></path><path aria-label=\"x1: 0.291907573513; x2: -0.256270823708; y: 1\" role=\"graphics-symbol\" aria-roledescription=\"circle\" transform=\"translate(124.08478104501664,128.9297613547144)\" d=\"M2.7386127875258306,0A2.7386127875258306,2.7386127875258306,0,1,1,-2.7386127875258306,0A2.7386127875258306,2.7386127875258306,0,1,1,2.7386127875258306,0\" fill=\"#f58518\" stroke-width=\"2\" opacity=\"0.7\"></path><path aria-label=\"x1: 0.0445382674449; x2: 0.403600585151; y: 0\" role=\"graphics-symbol\" aria-roledescription=\"circle\" transform=\"translate(113.09058966421838,91.2228237056476)\" d=\"M2.7386127875258306,0A2.7386127875258306,2.7386127875258306,0,1,1,-2.7386127875258306,0A2.7386127875258306,2.7386127875258306,0,1,1,2.7386127875258306,0\" fill=\"#4c78a8\" stroke-width=\"2\" opacity=\"0.7\"></path><path aria-label=\"x1: -0.261943544113; x2: -0.347059668114; y: 0\" role=\"graphics-symbol\" aria-roledescription=\"circle\" transform=\"translate(99.46917581720214,134.11769532079614)\" d=\"M2.7386127875258306,0A2.7386127875258306,2.7386127875258306,0,1,1,-2.7386127875258306,0A2.7386127875258306,2.7386127875258306,0,1,1,2.7386127875258306,0\" fill=\"#4c78a8\" stroke-width=\"2\" opacity=\"0.7\"></path><path aria-label=\"x1: -0.339944697752; x2: 0.350788081542; y: 1\" role=\"graphics-symbol\" aria-roledescription=\"circle\" transform=\"translate(96.00245787768186,94.24068105474261)\" d=\"M2.7386127875258306,0A2.7386127875258306,2.7386127875258306,0,1,1,-2.7386127875258306,0A2.7386127875258306,2.7386127875258306,0,1,1,2.7386127875258306,0\" fill=\"#f58518\" stroke-width=\"2\" opacity=\"0.7\"></path><path aria-label=\"x1: -0.710665113109; x2: 0.525955945481; y: 1\" role=\"graphics-symbol\" aria-roledescription=\"circle\" transform=\"translate(79.52599497294854,84.23108882963118)\" d=\"M2.7386127875258306,0A2.7386127875258306,2.7386127875258306,0,1,1,-2.7386127875258306,0A2.7386127875258306,2.7386127875258306,0,1,1,2.7386127875258306,0\" fill=\"#f58518\" stroke-width=\"2\" opacity=\"0.7\"></path><path aria-label=\"x1: 0.465413713128; x2: -0.842274098552; y: 1\" role=\"graphics-symbol\" aria-roledescription=\"circle\" transform=\"translate(131.79616502791873,162.41566277442547)\" d=\"M2.7386127875258306,0A2.7386127875258306,2.7386127875258306,0,1,1,-2.7386127875258306,0A2.7386127875258306,2.7386127875258306,0,1,1,2.7386127875258306,0\" fill=\"#f58518\" stroke-width=\"2\" opacity=\"0.7\"></path><path aria-label=\"x1: -0.260413307579; x2: 0.106071419798; y: 0\" role=\"graphics-symbol\" aria-roledescription=\"circle\" transform=\"translate(99.53718632984102,108.22449029725351)\" d=\"M2.7386127875258306,0A2.7386127875258306,2.7386127875258306,0,1,1,-2.7386127875258306,0A2.7386127875258306,2.7386127875258306,0,1,1,2.7386127875258306,0\" fill=\"#4c78a8\" stroke-width=\"2\" opacity=\"0.7\"></path><path aria-label=\"x1: 0.859823704909; x2: -0.157336302049; y: 1\" role=\"graphics-symbol\" aria-roledescription=\"circle\" transform=\"translate(149.32549799593968,123.27636011710896)\" d=\"M2.7386127875258306,0A2.7386127875258306,2.7386127875258306,0,1,1,-2.7386127875258306,0A2.7386127875258306,2.7386127875258306,0,1,1,2.7386127875258306,0\" fill=\"#f58518\" stroke-width=\"2\" opacity=\"0.7\"></path><path aria-label=\"x1: -0.788870691931; x2: -0.52390355555; y: 1\" role=\"graphics-symbol\" aria-roledescription=\"circle\" transform=\"translate(76.05019146974132,144.2230603171703)\" d=\"M2.7386127875258306,0A2.7386127875258306,2.7386127875258306,0,1,1,-2.7386127875258306,0A2.7386127875258306,2.7386127875258306,0,1,1,2.7386127875258306,0\" fill=\"#f58518\" stroke-width=\"2\" opacity=\"0.7\"></path><path aria-label=\"x1: 1.19327004945; x2: 0.92285784482; y: 1\" role=\"graphics-symbol\" aria-roledescription=\"circle\" transform=\"translate(164.14533553114177,61.5509802959729)\" d=\"M2.7386127875258306,0A2.7386127875258306,2.7386127875258306,0,1,1,-2.7386127875258306,0A2.7386127875258306,2.7386127875258306,0,1,1,2.7386127875258306,0\" fill=\"#f58518\" stroke-width=\"2\" opacity=\"0.7\"></path><path aria-label=\"x1: 0.2876035142; x2: 0.969568629597; y: 1\" role=\"graphics-symbol\" aria-roledescription=\"circle\" transform=\"translate(123.89348952001926,58.88179259446969)\" d=\"M2.7386127875258306,0A2.7386127875258306,2.7386127875258306,0,1,1,-2.7386127875258306,0A2.7386127875258306,2.7386127875258306,0,1,1,2.7386127875258306,0\" fill=\"#f58518\" stroke-width=\"2\" opacity=\"0.7\"></path><path aria-label=\"x1: -2.41085473448; x2: 0.217541414008; y: 1\" role=\"graphics-symbol\" aria-roledescription=\"circle\" transform=\"translate(3.962011800743702,101.8547763424026)\" d=\"M2.7386127875258306,0A2.7386127875258306,2.7386127875258306,0,1,1,-2.7386127875258306,0A2.7386127875258306,2.7386127875258306,0,1,1,2.7386127875258306,0\" fill=\"#f58518\" stroke-width=\"2\" opacity=\"0.7\"></path><path aria-label=\"x1: 1.38797365537; x2: -0.469558750682; y: 1\" role=\"graphics-symbol\" aria-roledescription=\"circle\" transform=\"translate(172.798829127767,141.117642896103)\" d=\"M2.7386127875258306,0A2.7386127875258306,2.7386127875258306,0,1,1,-2.7386127875258306,0A2.7386127875258306,2.7386127875258306,0,1,1,2.7386127875258306,0\" fill=\"#f58518\" stroke-width=\"2\" opacity=\"0.7\"></path><path aria-label=\"x1: 0.782987694395; x2: -1.32384906177; y: 1\" role=\"graphics-symbol\" aria-roledescription=\"circle\" transform=\"translate(145.91056419533703,189.9342321010295)\" d=\"M2.7386127875258306,0A2.7386127875258306,2.7386127875258306,0,1,1,-2.7386127875258306,0A2.7386127875258306,2.7386127875258306,0,1,1,2.7386127875258306,0\" fill=\"#f58518\" stroke-width=\"2\" opacity=\"0.7\"></path><path aria-label=\"x1: -0.720309398794; x2: -0.164694484333; y: 0\" role=\"graphics-symbol\" aria-roledescription=\"circle\" transform=\"translate(79.0973600536066,123.69682767619653)\" d=\"M2.7386127875258306,0A2.7386127875258306,2.7386127875258306,0,1,1,-2.7386127875258306,0A2.7386127875258306,2.7386127875258306,0,1,1,2.7386127875258306,0\" fill=\"#4c78a8\" stroke-width=\"2\" opacity=\"0.7\"></path><path aria-label=\"x1: 0.389561669521; x2: 0.0173127708783; y: 0\" role=\"graphics-symbol\" aria-roledescription=\"circle\" transform=\"translate(128.42496308981984,113.29641309266596)\" d=\"M2.7386127875258306,0A2.7386127875258306,2.7386127875258306,0,1,1,-2.7386127875258306,0A2.7386127875258306,2.7386127875258306,0,1,1,2.7386127875258306,0\" fill=\"#4c78a8\" stroke-width=\"2\" opacity=\"0.7\"></path><path aria-label=\"x1: 0.30873829068; x2: -1.14523305233; y: 1\" role=\"graphics-symbol\" aria-roledescription=\"circle\" transform=\"translate(124.83281291910701,179.7276029904934)\" d=\"M2.7386127875258306,0A2.7386127875258306,2.7386127875258306,0,1,1,-2.7386127875258306,0A2.7386127875258306,2.7386127875258306,0,1,1,2.7386127875258306,0\" fill=\"#f58518\" stroke-width=\"2\" opacity=\"0.7\"></path><path aria-label=\"x1: -0.698609559074; x2: 1.76724481297; y: 1\" role=\"graphics-symbol\" aria-roledescription=\"circle\" transform=\"translate(80.0617973744852,13.300296401920297)\" d=\"M2.7386127875258306,0A2.7386127875258306,2.7386127875258306,0,1,1,-2.7386127875258306,0A2.7386127875258306,2.7386127875258306,0,1,1,2.7386127875258306,0\" fill=\"#f58518\" stroke-width=\"2\" opacity=\"0.7\"></path><path aria-label=\"x1: 0.574868538945; x2: 0.288523671007; y: 1\" role=\"graphics-symbol\" aria-roledescription=\"circle\" transform=\"translate(136.66082395309667,97.79864737105335)\" d=\"M2.7386127875258306,0A2.7386127875258306,2.7386127875258306,0,1,1,-2.7386127875258306,0A2.7386127875258306,2.7386127875258306,0,1,1,2.7386127875258306,0\" fill=\"#f58518\" stroke-width=\"2\" opacity=\"0.7\"></path><path aria-label=\"x1: 0.0715974905023; x2: -0.611757778044; y: 0\" role=\"graphics-symbol\" aria-roledescription=\"circle\" transform=\"translate(114.29322180010313,149.24330160252728)\" d=\"M2.7386127875258306,0A2.7386127875258306,2.7386127875258306,0,1,1,-2.7386127875258306,0A2.7386127875258306,2.7386127875258306,0,1,1,2.7386127875258306,0\" fill=\"#4c78a8\" stroke-width=\"2\" opacity=\"0.7\"></path><path aria-label=\"x1: -0.161682719407; x2: -0.658135460818; y: 0\" role=\"graphics-symbol\" aria-roledescription=\"circle\" transform=\"translate(103.92521247081783,151.89345490391108)\" d=\"M2.7386127875258306,0A2.7386127875258306,2.7386127875258306,0,1,1,-2.7386127875258306,0A2.7386127875258306,2.7386127875258306,0,1,1,2.7386127875258306,0\" fill=\"#4c78a8\" stroke-width=\"2\" opacity=\"0.7\"></path><path aria-label=\"x1: -0.0818207359386; x2: -1.19778079334; y: 1\" role=\"graphics-symbol\" aria-roledescription=\"circle\" transform=\"translate(107.47463395828348,182.73033104821826)\" d=\"M2.7386127875258306,0A2.7386127875258306,2.7386127875258306,0,1,1,-2.7386127875258306,0A2.7386127875258306,2.7386127875258306,0,1,1,2.7386127875258306,0\" fill=\"#f58518\" stroke-width=\"2\" opacity=\"0.7\"></path><path aria-label=\"x1: -0.365602243458; x2: 1.72549147832; y: 1\" role=\"graphics-symbol\" aria-roledescription=\"circle\" transform=\"translate(94.86212251297613,15.686201238711872)\" d=\"M2.7386127875258306,0A2.7386127875258306,2.7386127875258306,0,1,1,-2.7386127875258306,0A2.7386127875258306,2.7386127875258306,0,1,1,2.7386127875258306,0\" fill=\"#f58518\" stroke-width=\"2\" opacity=\"0.7\"></path><path aria-label=\"x1: -0.0252928672579; x2: -0.623950751301; y: 0\" role=\"graphics-symbol\" aria-roledescription=\"circle\" transform=\"translate(109.98698367742861,149.9400429314822)\" d=\"M2.7386127875258306,0A2.7386127875258306,2.7386127875258306,0,1,1,-2.7386127875258306,0A2.7386127875258306,2.7386127875258306,0,1,1,2.7386127875258306,0\" fill=\"#4c78a8\" stroke-width=\"2\" opacity=\"0.7\"></path><path aria-label=\"x1: -0.533621978015; x2: -0.124320844607; y: 0\" role=\"graphics-symbol\" aria-roledescription=\"circle\" transform=\"translate(87.39457875488493,121.3897625489953)\" d=\"M2.7386127875258306,0A2.7386127875258306,2.7386127875258306,0,1,1,-2.7386127875258306,0A2.7386127875258306,2.7386127875258306,0,1,1,2.7386127875258306,0\" fill=\"#4c78a8\" stroke-width=\"2\" opacity=\"0.7\"></path><path aria-label=\"x1: -0.363165257888; x2: -0.955356547304; y: 1\" role=\"graphics-symbol\" aria-roledescription=\"circle\" transform=\"translate(94.97043298276844,168.8775169887872)\" d=\"M2.7386127875258306,0A2.7386127875258306,2.7386127875258306,0,1,1,-2.7386127875258306,0A2.7386127875258306,2.7386127875258306,0,1,1,2.7386127875258306,0\" fill=\"#f58518\" stroke-width=\"2\" opacity=\"0.7\"></path><path aria-label=\"x1: -0.247305715632; x2: 1.38304926352; y: 1\" role=\"graphics-symbol\" aria-roledescription=\"circle\" transform=\"translate(100.11974597193091,35.25432779870543)\" d=\"M2.7386127875258306,0A2.7386127875258306,2.7386127875258306,0,1,1,-2.7386127875258306,0A2.7386127875258306,2.7386127875258306,0,1,1,2.7386127875258306,0\" fill=\"#f58518\" stroke-width=\"2\" opacity=\"0.7\"></path><path aria-label=\"x1: 0.340686571949; x2: 0.350142989742; y: 0\" role=\"graphics-symbol\" aria-roledescription=\"circle\" transform=\"translate(126.25273653106197,94.2775434433218)\" d=\"M2.7386127875258306,0A2.7386127875258306,2.7386127875258306,0,1,1,-2.7386127875258306,0A2.7386127875258306,2.7386127875258306,0,1,1,2.7386127875258306,0\" fill=\"#4c78a8\" stroke-width=\"2\" opacity=\"0.7\"></path><path aria-label=\"x1: -0.581521800691; x2: -0.175775313326; y: 0\" role=\"graphics-symbol\" aria-roledescription=\"circle\" transform=\"translate(85.26569774708445,124.33001790433696)\" d=\"M2.7386127875258306,0A2.7386127875258306,2.7386127875258306,0,1,1,-2.7386127875258306,0A2.7386127875258306,2.7386127875258306,0,1,1,2.7386127875258306,0\" fill=\"#4c78a8\" stroke-width=\"2\" opacity=\"0.7\"></path><path aria-label=\"x1: -0.466177266065; x2: 0.577399800149; y: 0\" role=\"graphics-symbol\" aria-roledescription=\"circle\" transform=\"translate(90.39212150824221,81.29143999146254)\" d=\"M2.7386127875258306,0A2.7386127875258306,2.7386127875258306,0,1,1,-2.7386127875258306,0A2.7386127875258306,2.7386127875258306,0,1,1,2.7386127875258306,0\" fill=\"#4c78a8\" stroke-width=\"2\" opacity=\"0.7\"></path><path aria-label=\"x1: -0.202085044039; x2: -0.502894697816; y: 1\" role=\"graphics-symbol\" aria-roledescription=\"circle\" transform=\"translate(102.12955359827347,143.022554160917)\" d=\"M2.7386127875258306,0A2.7386127875258306,2.7386127875258306,0,1,1,-2.7386127875258306,0A2.7386127875258306,2.7386127875258306,0,1,1,2.7386127875258306,0\" fill=\"#f58518\" stroke-width=\"2\" opacity=\"0.7\"></path><path aria-label=\"x1: 0.499295143935; x2: 0.105512266775; y: 0\" role=\"graphics-symbol\" aria-roledescription=\"circle\" transform=\"translate(133.30200639709707,108.25644189855583)\" d=\"M2.7386127875258306,0A2.7386127875258306,2.7386127875258306,0,1,1,-2.7386127875258306,0A2.7386127875258306,2.7386127875258306,0,1,1,2.7386127875258306,0\" fill=\"#4c78a8\" stroke-width=\"2\" opacity=\"0.7\"></path><path aria-label=\"x1: 0.507243112098; x2: -1.46510352418; y: 1\" role=\"graphics-symbol\" aria-roledescription=\"circle\" transform=\"translate(133.65524942655816,198.00591566716503)\" d=\"M2.7386127875258306,0A2.7386127875258306,2.7386127875258306,0,1,1,-2.7386127875258306,0A2.7386127875258306,2.7386127875258306,0,1,1,2.7386127875258306,0\" fill=\"#f58518\" stroke-width=\"2\" opacity=\"0.7\"></path><path aria-label=\"x1: -0.0681384580644; x2: -1.17379504771; y: 1\" role=\"graphics-symbol\" aria-roledescription=\"circle\" transform=\"translate(108.0827351971394,181.35971701215337)\" d=\"M2.7386127875258306,0A2.7386127875258306,2.7386127875258306,0,1,1,-2.7386127875258306,0A2.7386127875258306,2.7386127875258306,0,1,1,2.7386127875258306,0\" fill=\"#f58518\" stroke-width=\"2\" opacity=\"0.7\"></path><path aria-label=\"x1: 0.423520649533; x2: -1.04448318993; y: 0\" role=\"graphics-symbol\" aria-roledescription=\"circle\" transform=\"translate(129.93425109035024,173.97046799588534)\" d=\"M2.7386127875258306,0A2.7386127875258306,2.7386127875258306,0,1,1,-2.7386127875258306,0A2.7386127875258306,2.7386127875258306,0,1,1,2.7386127875258306,0\" fill=\"#4c78a8\" stroke-width=\"2\" opacity=\"0.7\"></path><path aria-label=\"x1: -0.543086090596; x2: 0.64911527262; y: 1\" role=\"graphics-symbol\" aria-roledescription=\"circle\" transform=\"translate(86.97395152908288,77.19341299312357)\" d=\"M2.7386127875258306,0A2.7386127875258306,2.7386127875258306,0,1,1,-2.7386127875258306,0A2.7386127875258306,2.7386127875258306,0,1,1,2.7386127875258306,0\" fill=\"#f58518\" stroke-width=\"2\" opacity=\"0.7\"></path><path aria-label=\"x1: -0.103956077518; x2: -0.657218134666; y: 0\" role=\"graphics-symbol\" aria-roledescription=\"circle\" transform=\"translate(106.49084099920631,151.84103626663642)\" d=\"M2.7386127875258306,0A2.7386127875258306,2.7386127875258306,0,1,1,-2.7386127875258306,0A2.7386127875258306,2.7386127875258306,0,1,1,2.7386127875258306,0\" fill=\"#4c78a8\" stroke-width=\"2\" opacity=\"0.7\"></path><path aria-label=\"x1: 0.136911658288; x2: 0.821252935104; y: 1\" role=\"graphics-symbol\" aria-roledescription=\"circle\" transform=\"translate(117.19607370167513,67.35697513692827)\" d=\"M2.7386127875258306,0A2.7386127875258306,2.7386127875258306,0,1,1,-2.7386127875258306,0A2.7386127875258306,2.7386127875258306,0,1,1,2.7386127875258306,0\" fill=\"#f58518\" stroke-width=\"2\" opacity=\"0.7\"></path><path aria-label=\"x1: -0.385353559594; x2: -0.972566014417; y: 1\" role=\"graphics-symbol\" aria-roledescription=\"circle\" transform=\"translate(93.98428624024481,169.8609151095197)\" d=\"M2.7386127875258306,0A2.7386127875258306,2.7386127875258306,0,1,1,-2.7386127875258306,0A2.7386127875258306,2.7386127875258306,0,1,1,2.7386127875258306,0\" fill=\"#f58518\" stroke-width=\"2\" opacity=\"0.7\"></path><path aria-label=\"x1: 0.517519146825; x2: -0.726067323303; y: 0\" role=\"graphics-symbol\" aria-roledescription=\"circle\" transform=\"translate(134.11196208111002,155.77527561728752)\" d=\"M2.7386127875258306,0A2.7386127875258306,2.7386127875258306,0,1,1,-2.7386127875258306,0A2.7386127875258306,2.7386127875258306,0,1,1,2.7386127875258306,0\" fill=\"#4c78a8\" stroke-width=\"2\" opacity=\"0.7\"></path><path aria-label=\"x1: 1.62580792441; x2: 0.258698334451; y: 1\" role=\"graphics-symbol\" aria-roledescription=\"circle\" transform=\"translate(183.36924108490683,99.50295231706501)\" d=\"M2.7386127875258306,0A2.7386127875258306,2.7386127875258306,0,1,1,-2.7386127875258306,0A2.7386127875258306,2.7386127875258306,0,1,1,2.7386127875258306,0\" fill=\"#f58518\" stroke-width=\"2\" opacity=\"0.7\"></path><path aria-label=\"x1: 0.732190024614; x2: 1.82538810884; y: 1\" role=\"graphics-symbol\" aria-roledescription=\"circle\" transform=\"translate(143.65288998283515,9.977822351976906)\" d=\"M2.7386127875258306,0A2.7386127875258306,2.7386127875258306,0,1,1,-2.7386127875258306,0A2.7386127875258306,2.7386127875258306,0,1,1,2.7386127875258306,0\" fill=\"#f58518\" stroke-width=\"2\" opacity=\"0.7\"></path><path aria-label=\"x1: -0.0407020019641; x2: 0.313675814248; y: 0\" role=\"graphics-symbol\" aria-roledescription=\"circle\" transform=\"translate(109.30213324603848,96.36138204297828)\" d=\"M2.7386127875258306,0A2.7386127875258306,2.7386127875258306,0,1,1,-2.7386127875258306,0A2.7386127875258306,2.7386127875258306,0,1,1,2.7386127875258306,0\" fill=\"#4c78a8\" stroke-width=\"2\" opacity=\"0.7\"></path><path aria-label=\"x1: 0.522229526561; x2: 0.267329016422; y: 0\" role=\"graphics-symbol\" aria-roledescription=\"circle\" transform=\"translate(134.32131229160012,99.0097704901491)\" d=\"M2.7386127875258306,0A2.7386127875258306,2.7386127875258306,0,1,1,-2.7386127875258306,0A2.7386127875258306,2.7386127875258306,0,1,1,2.7386127875258306,0\" fill=\"#4c78a8\" stroke-width=\"2\" opacity=\"0.7\"></path><path aria-label=\"x1: 1.71583965619; x2: -1.26027047727; y: 1\" role=\"graphics-symbol\" aria-roledescription=\"circle\" transform=\"translate(187.37065138629043,186.3011701297657)\" d=\"M2.7386127875258306,0A2.7386127875258306,2.7386127875258306,0,1,1,-2.7386127875258306,0A2.7386127875258306,2.7386127875258306,0,1,1,2.7386127875258306,0\" fill=\"#f58518\" stroke-width=\"2\" opacity=\"0.7\"></path><path aria-label=\"x1: 0.217776509148; x2: 0.617233105938; y: 0\" role=\"graphics-symbol\" aria-roledescription=\"circle\" transform=\"translate(120.79006707324069,79.01525108923776)\" d=\"M2.7386127875258306,0A2.7386127875258306,2.7386127875258306,0,1,1,-2.7386127875258306,0A2.7386127875258306,2.7386127875258306,0,1,1,2.7386127875258306,0\" fill=\"#4c78a8\" stroke-width=\"2\" opacity=\"0.7\"></path><path aria-label=\"x1: -0.0823941852832; x2: -0.222043827154; y: 0\" role=\"graphics-symbol\" aria-roledescription=\"circle\" transform=\"translate(107.44914732074564,126.9739329802002)\" d=\"M2.7386127875258306,0A2.7386127875258306,2.7386127875258306,0,1,1,-2.7386127875258306,0A2.7386127875258306,2.7386127875258306,0,1,1,2.7386127875258306,0\" fill=\"#4c78a8\" stroke-width=\"2\" opacity=\"0.7\"></path><path aria-label=\"x1: -0.744793203588; x2: 0.241520099631; y: 0\" role=\"graphics-symbol\" aria-roledescription=\"circle\" transform=\"translate(78.00919095163665,100.48456573535253)\" d=\"M2.7386127875258306,0A2.7386127875258306,2.7386127875258306,0,1,1,-2.7386127875258306,0A2.7386127875258306,2.7386127875258306,0,1,1,2.7386127875258306,0\" fill=\"#4c78a8\" stroke-width=\"2\" opacity=\"0.7\"></path><path aria-label=\"x1: 0.0945427049298; x2: 1.06624723767; y: 0\" role=\"graphics-symbol\" aria-roledescription=\"circle\" transform=\"translate(115.31300910799109,53.357300704686295)\" d=\"M2.7386127875258306,0A2.7386127875258306,2.7386127875258306,0,1,1,-2.7386127875258306,0A2.7386127875258306,2.7386127875258306,0,1,1,2.7386127875258306,0\" fill=\"#4c78a8\" stroke-width=\"2\" opacity=\"0.7\"></path><path aria-label=\"x1: -0.462152787915; x2: -0.849459209293; y: 0\" role=\"graphics-symbol\" aria-roledescription=\"circle\" transform=\"translate(90.57098720375795,162.82624053104158)\" d=\"M2.7386127875258306,0A2.7386127875258306,2.7386127875258306,0,1,1,-2.7386127875258306,0A2.7386127875258306,2.7386127875258306,0,1,1,2.7386127875258306,0\" fill=\"#4c78a8\" stroke-width=\"2\" opacity=\"0.7\"></path><path aria-label=\"x1: -0.716234286295; x2: -0.512457132506; y: 0\" role=\"graphics-symbol\" aria-roledescription=\"circle\" transform=\"translate(79.2784761646561,143.56897900032732)\" d=\"M2.7386127875258306,0A2.7386127875258306,2.7386127875258306,0,1,1,-2.7386127875258306,0A2.7386127875258306,2.7386127875258306,0,1,1,2.7386127875258306,0\" fill=\"#4c78a8\" stroke-width=\"2\" opacity=\"0.7\"></path><path aria-label=\"x1: -0.500345011041; x2: -0.204352521142; y: 1\" role=\"graphics-symbol\" aria-roledescription=\"circle\" transform=\"translate(88.87355506484992,125.96300120811125)\" d=\"M2.7386127875258306,0A2.7386127875258306,2.7386127875258306,0,1,1,-2.7386127875258306,0A2.7386127875258306,2.7386127875258306,0,1,1,2.7386127875258306,0\" fill=\"#f58518\" stroke-width=\"2\" opacity=\"0.7\"></path><path aria-label=\"x1: 0.283059952248; x2: -0.42022068266; y: 0\" role=\"graphics-symbol\" aria-roledescription=\"circle\" transform=\"translate(123.69155343324829,138.29832472341232)\" d=\"M2.7386127875258306,0A2.7386127875258306,2.7386127875258306,0,1,1,-2.7386127875258306,0A2.7386127875258306,2.7386127875258306,0,1,1,2.7386127875258306,0\" fill=\"#4c78a8\" stroke-width=\"2\" opacity=\"0.7\"></path><path aria-label=\"x1: 0.780584028967; x2: 0.13455453459; y: 0\" role=\"graphics-symbol\" aria-roledescription=\"circle\" transform=\"translate(145.8037346207385,106.59688373771358)\" d=\"M2.7386127875258306,0A2.7386127875258306,2.7386127875258306,0,1,1,-2.7386127875258306,0A2.7386127875258306,2.7386127875258306,0,1,1,2.7386127875258306,0\" fill=\"#4c78a8\" stroke-width=\"2\" opacity=\"0.7\"></path><path aria-label=\"x1: 0.557294829737; x2: 0.461209941537; y: 0\" role=\"graphics-symbol\" aria-roledescription=\"circle\" transform=\"translate(135.87977021055505,87.93086048360594)\" d=\"M2.7386127875258306,0A2.7386127875258306,2.7386127875258306,0,1,1,-2.7386127875258306,0A2.7386127875258306,2.7386127875258306,0,1,1,2.7386127875258306,0\" fill=\"#4c78a8\" stroke-width=\"2\" opacity=\"0.7\"></path><path aria-label=\"x1: -0.396350514908; x2: -0.447833544268; y: 0\" role=\"graphics-symbol\" aria-roledescription=\"circle\" transform=\"translate(93.49553267077754,139.8762025296148)\" d=\"M2.7386127875258306,0A2.7386127875258306,2.7386127875258306,0,1,1,-2.7386127875258306,0A2.7386127875258306,2.7386127875258306,0,1,1,2.7386127875258306,0\" fill=\"#4c78a8\" stroke-width=\"2\" opacity=\"0.7\"></path></g><g class=\"mark-group role-legend\" role=\"graphics-symbol\" aria-roledescription=\"legend\" aria-label=\"Symbol legend titled 'y' for fill color with 2 values: 0, 1\"><g transform=\"translate(218,0)\"><path class=\"background\" aria-hidden=\"true\" d=\"M0,0h21v40h-21Z\" pointer-events=\"none\"></path><g><g class=\"mark-group role-legend-entry\"><g transform=\"translate(0,16)\"><path class=\"background\" aria-hidden=\"true\" d=\"M0,0h0v0h0Z\" pointer-events=\"none\"></path><g><g class=\"mark-group role-scope\" role=\"graphics-object\" aria-roledescription=\"group mark container\"><g transform=\"translate(0,0)\"><path class=\"background\" aria-hidden=\"true\" d=\"M0,0h21v11h-21Z\" pointer-events=\"none\" opacity=\"1\"></path><g><g class=\"mark-symbol role-legend-symbol\" pointer-events=\"none\"><path transform=\"translate(6,6)\" d=\"M5,0A5,5,0,1,1,-5,0A5,5,0,1,1,5,0\" fill=\"#4c78a8\" stroke-width=\"1.5\" opacity=\"0.7\"></path></g><g class=\"mark-text role-legend-label\" pointer-events=\"none\"><text text-anchor=\"start\" transform=\"translate(16,9)\" font-family=\"sans-serif\" font-size=\"10px\" fill=\"#000\" opacity=\"1\">0</text></g></g><path class=\"foreground\" aria-hidden=\"true\" d=\"\" pointer-events=\"none\" display=\"none\"></path></g><g transform=\"translate(0,13)\"><path class=\"background\" aria-hidden=\"true\" d=\"M0,0h21v11h-21Z\" pointer-events=\"none\" opacity=\"1\"></path><g><g class=\"mark-symbol role-legend-symbol\" pointer-events=\"none\"><path transform=\"translate(6,6)\" d=\"M5,0A5,5,0,1,1,-5,0A5,5,0,1,1,5,0\" fill=\"#f58518\" stroke-width=\"1.5\" opacity=\"0.7\"></path></g><g class=\"mark-text role-legend-label\" pointer-events=\"none\"><text text-anchor=\"start\" transform=\"translate(16,9)\" font-family=\"sans-serif\" font-size=\"10px\" fill=\"#000\" opacity=\"1\">1</text></g></g><path class=\"foreground\" aria-hidden=\"true\" d=\"\" pointer-events=\"none\" display=\"none\"></path></g></g></g><path class=\"foreground\" aria-hidden=\"true\" d=\"\" pointer-events=\"none\" display=\"none\"></path></g></g><g class=\"mark-text role-legend-title\" pointer-events=\"none\"><text text-anchor=\"start\" transform=\"translate(0,9)\" font-family=\"sans-serif\" font-size=\"11px\" font-weight=\"bold\" fill=\"#000\" opacity=\"1\">y</text></g></g><path class=\"foreground\" aria-hidden=\"true\" d=\"\" pointer-events=\"none\" display=\"none\"></path></g></g></g><path class=\"foreground\" aria-hidden=\"true\" d=\"\" display=\"none\"></path></g></g></g></svg>\n"
      ],
      "text/plain": [
       "@vlplot(\n",
       "    mark=\"circle\",\n",
       "    encoding={\n",
       "        x={\n",
       "            field=\"x1\"\n",
       "        },\n",
       "        y={\n",
       "            field=\"x2\"\n",
       "        },\n",
       "        color={\n",
       "            field=\"y\",\n",
       "            type=\"nominal\"\n",
       "        }\n",
       "    },\n",
       "    data={\n",
       "        values=...\n",
       "    }\n",
       ")"
      ]
     },
     "execution_count": 7,
     "metadata": {},
     "output_type": "execute_result"
    }
   ],
   "source": [
    "dfCircles |> @vlplot(:circle, x=:x1, y=:x2, color = :\"y:n\") "
   ]
  },
  {
   "cell_type": "markdown",
   "metadata": {},
   "source": [
    "##  Sampling from Two Interleaved Half-Circles\n",
    "\n",
    "The function **make_moons** generates `n` examples sampling from two interleaved half-circles returning the `n x 2` matrix of points and a vector of membership (0, 1) depending on whether the points are on the half-circle on the left (0) or on the right (1).  The input arguments are:  \n",
    "* `shuffle=true`:   whether to shuffle the resulting points,\n",
    "* `noise=0.1`:      standard deviation of the gaussian noise added to the data,\n",
    "* `xshift=1.0`:     horizontal translation of the second center with respect to the first one.\n",
    "* `yshift=0.3`:     vertical translation of the second center with respect to the first one.\n",
    "                    \n",
    "                    \n",
    "**make_moons** is useful in clustering and classification machine learning models as well. \n"
   ]
  },
  {
   "cell_type": "code",
   "execution_count": 8,
   "metadata": {},
   "outputs": [
    {
     "data": {
      "text/html": [
       "<table class=\"data-frame\"><thead><tr><th></th><th>x1</th><th>x2</th><th>y</th></tr><tr><th></th><th>Float64</th><th>Float64</th><th>Cat…</th></tr></thead><tbody><p>100 rows × 3 columns</p><tr><th>1</th><td>-1.10471</td><td>-0.0278162</td><td>0</td></tr><tr><th>2</th><td>-0.0837225</td><td>1.01048</td><td>0</td></tr><tr><th>3</th><td>-0.253319</td><td>1.32256</td><td>0</td></tr><tr><th>4</th><td>2.86429</td><td>0.0627405</td><td>1</td></tr><tr><th>5</th><td>0.662783</td><td>0.462371</td><td>0</td></tr><tr><th>6</th><td>0.855233</td><td>0.0402073</td><td>1</td></tr><tr><th>7</th><td>-0.0425329</td><td>-0.30716</td><td>1</td></tr><tr><th>8</th><td>-0.401498</td><td>0.143834</td><td>1</td></tr><tr><th>9</th><td>1.59789</td><td>-0.842948</td><td>1</td></tr><tr><th>10</th><td>2.40278</td><td>-0.00690529</td><td>1</td></tr><tr><th>11</th><td>0.119515</td><td>-0.403313</td><td>1</td></tr><tr><th>12</th><td>1.49472</td><td>-0.197746</td><td>1</td></tr><tr><th>13</th><td>0.377798</td><td>1.03961</td><td>0</td></tr><tr><th>14</th><td>2.00394</td><td>-1.07953</td><td>1</td></tr><tr><th>15</th><td>-1.57398</td><td>1.22912</td><td>0</td></tr><tr><th>16</th><td>0.842696</td><td>0.391562</td><td>0</td></tr><tr><th>17</th><td>1.68075</td><td>0.532001</td><td>1</td></tr><tr><th>18</th><td>-1.01569</td><td>0.399063</td><td>0</td></tr><tr><th>19</th><td>-0.543141</td><td>1.23782</td><td>0</td></tr><tr><th>20</th><td>1.92863</td><td>-0.999643</td><td>1</td></tr><tr><th>21</th><td>1.01057</td><td>1.28216</td><td>0</td></tr><tr><th>22</th><td>1.49109</td><td>0.392061</td><td>1</td></tr><tr><th>23</th><td>1.01353</td><td>-0.564523</td><td>1</td></tr><tr><th>24</th><td>0.433125</td><td>-0.486264</td><td>1</td></tr><tr><th>25</th><td>1.51343</td><td>-0.554385</td><td>1</td></tr><tr><th>26</th><td>0.63969</td><td>-0.522485</td><td>1</td></tr><tr><th>27</th><td>0.379717</td><td>0.403472</td><td>0</td></tr><tr><th>28</th><td>1.01735</td><td>-0.133814</td><td>0</td></tr><tr><th>29</th><td>0.73572</td><td>0.76562</td><td>0</td></tr><tr><th>30</th><td>-0.369169</td><td>1.11883</td><td>0</td></tr><tr><th>&vellip;</th><td>&vellip;</td><td>&vellip;</td><td>&vellip;</td></tr></tbody></table>"
      ],
      "text/latex": [
       "\\begin{tabular}{r|ccc}\n",
       "\t& x1 & x2 & y\\\\\n",
       "\t\\hline\n",
       "\t& Float64 & Float64 & Cat…\\\\\n",
       "\t\\hline\n",
       "\t1 & -1.10471 & -0.0278162 & 0 \\\\\n",
       "\t2 & -0.0837225 & 1.01048 & 0 \\\\\n",
       "\t3 & -0.253319 & 1.32256 & 0 \\\\\n",
       "\t4 & 2.86429 & 0.0627405 & 1 \\\\\n",
       "\t5 & 0.662783 & 0.462371 & 0 \\\\\n",
       "\t6 & 0.855233 & 0.0402073 & 1 \\\\\n",
       "\t7 & -0.0425329 & -0.30716 & 1 \\\\\n",
       "\t8 & -0.401498 & 0.143834 & 1 \\\\\n",
       "\t9 & 1.59789 & -0.842948 & 1 \\\\\n",
       "\t10 & 2.40278 & -0.00690529 & 1 \\\\\n",
       "\t11 & 0.119515 & -0.403313 & 1 \\\\\n",
       "\t12 & 1.49472 & -0.197746 & 1 \\\\\n",
       "\t13 & 0.377798 & 1.03961 & 0 \\\\\n",
       "\t14 & 2.00394 & -1.07953 & 1 \\\\\n",
       "\t15 & -1.57398 & 1.22912 & 0 \\\\\n",
       "\t16 & 0.842696 & 0.391562 & 0 \\\\\n",
       "\t17 & 1.68075 & 0.532001 & 1 \\\\\n",
       "\t18 & -1.01569 & 0.399063 & 0 \\\\\n",
       "\t19 & -0.543141 & 1.23782 & 0 \\\\\n",
       "\t20 & 1.92863 & -0.999643 & 1 \\\\\n",
       "\t21 & 1.01057 & 1.28216 & 0 \\\\\n",
       "\t22 & 1.49109 & 0.392061 & 1 \\\\\n",
       "\t23 & 1.01353 & -0.564523 & 1 \\\\\n",
       "\t24 & 0.433125 & -0.486264 & 1 \\\\\n",
       "\t25 & 1.51343 & -0.554385 & 1 \\\\\n",
       "\t26 & 0.63969 & -0.522485 & 1 \\\\\n",
       "\t27 & 0.379717 & 0.403472 & 0 \\\\\n",
       "\t28 & 1.01735 & -0.133814 & 0 \\\\\n",
       "\t29 & 0.73572 & 0.76562 & 0 \\\\\n",
       "\t30 & -0.369169 & 1.11883 & 0 \\\\\n",
       "\t$\\dots$ & $\\dots$ & $\\dots$ & $\\dots$ \\\\\n",
       "\\end{tabular}\n"
      ],
      "text/plain": [
       "100×3 DataFrame\n",
       "│ Row │ x1         │ x2          │ y    │\n",
       "│     │ \u001b[90mFloat64\u001b[39m    │ \u001b[90mFloat64\u001b[39m     │ \u001b[90mCat…\u001b[39m │\n",
       "├─────┼────────────┼─────────────┼──────┤\n",
       "│ 1   │ -1.10471   │ -0.0278162  │ 0    │\n",
       "│ 2   │ -0.0837225 │ 1.01048     │ 0    │\n",
       "│ 3   │ -0.253319  │ 1.32256     │ 0    │\n",
       "│ 4   │ 2.86429    │ 0.0627405   │ 1    │\n",
       "│ 5   │ 0.662783   │ 0.462371    │ 0    │\n",
       "│ 6   │ 0.855233   │ 0.0402073   │ 1    │\n",
       "│ 7   │ -0.0425329 │ -0.30716    │ 1    │\n",
       "│ 8   │ -0.401498  │ 0.143834    │ 1    │\n",
       "│ 9   │ 1.59789    │ -0.842948   │ 1    │\n",
       "│ 10  │ 2.40278    │ -0.00690529 │ 1    │\n",
       "⋮\n",
       "│ 90  │ -0.278028  │ 0.787356    │ 0    │\n",
       "│ 91  │ 1.8665     │ 0.225863    │ 1    │\n",
       "│ 92  │ 1.07657    │ -0.332429   │ 1    │\n",
       "│ 93  │ 0.483525   │ 1.22777     │ 0    │\n",
       "│ 94  │ -0.223443  │ 1.13336     │ 1    │\n",
       "│ 95  │ 0.911839   │ 0.299155    │ 1    │\n",
       "│ 96  │ -0.847     │ -0.691358   │ 1    │\n",
       "│ 97  │ -1.12231   │ 0.0858691   │ 0    │\n",
       "│ 98  │ 1.26553    │ -0.792457   │ 1    │\n",
       "│ 99  │ 1.85954    │ -0.0793352  │ 1    │\n",
       "│ 100 │ 1.15635    │ -0.376867   │ 0    │"
      ]
     },
     "execution_count": 8,
     "metadata": {},
     "output_type": "execute_result"
    }
   ],
   "source": [
    "X, y = make_moons(100; noise=0.5)\n",
    "dfHalfCircles = copy(DataFrame(X))\n",
    "dfHalfCircles.y = y\n",
    "dfHalfCircles"
   ]
  },
  {
   "cell_type": "code",
   "execution_count": 9,
   "metadata": {},
   "outputs": [
    {
     "data": {
      "application/vnd.vegalite.v4+json": {
       "data": {
        "values": [
         {
          "x1": -1.104709218117021,
          "x2": -0.02781621905124637,
          "y": 0
         },
         {
          "x1": -0.08372250224675694,
          "x2": 1.0104806199478424,
          "y": 0
         },
         {
          "x1": -0.2533185797594829,
          "x2": 1.3225637420837058,
          "y": 0
         },
         {
          "x1": 2.864290466851617,
          "x2": 0.06274049207886401,
          "y": 1
         },
         {
          "x1": 0.6627832534871029,
          "x2": 0.46237131344081905,
          "y": 0
         },
         {
          "x1": 0.855232903018113,
          "x2": 0.04020731640956954,
          "y": 1
         },
         {
          "x1": -0.04253294816478348,
          "x2": -0.3071603554606031,
          "y": 1
         },
         {
          "x1": -0.40149843796435525,
          "x2": 0.1438335177821884,
          "y": 1
         },
         {
          "x1": 1.5978935273557582,
          "x2": -0.8429483890522673,
          "y": 1
         },
         {
          "x1": 2.402778044816279,
          "x2": -0.006905286784917863,
          "y": 1
         },
         {
          "x1": 0.11951530212254936,
          "x2": -0.4033125076953573,
          "y": 1
         },
         {
          "x1": 1.4947168535180904,
          "x2": -0.19774566851835657,
          "y": 1
         },
         {
          "x1": 0.37779761681408647,
          "x2": 1.0396054240899315,
          "y": 0
         },
         {
          "x1": 2.0039402752433055,
          "x2": -1.0795252558541972,
          "y": 1
         },
         {
          "x1": -1.5739781888236266,
          "x2": 1.229118904453499,
          "y": 0
         },
         {
          "x1": 0.8426962913656731,
          "x2": 0.3915624869064475,
          "y": 0
         },
         {
          "x1": 1.6807487305483486,
          "x2": 0.5320009282785315,
          "y": 1
         },
         {
          "x1": -1.0156851874466923,
          "x2": 0.39906273967433603,
          "y": 0
         },
         {
          "x1": -0.5431409221105987,
          "x2": 1.2378176828038514,
          "y": 0
         },
         {
          "x1": 1.9286278974625917,
          "x2": -0.9996433049313997,
          "y": 1
         },
         {
          "x1": 1.010573344384055,
          "x2": 1.282158356372633,
          "y": 0
         },
         {
          "x1": 1.4910869605798198,
          "x2": 0.39206101861983134,
          "y": 1
         },
         {
          "x1": 1.0135340761260687,
          "x2": -0.5645226263677781,
          "y": 1
         },
         {
          "x1": 0.4331254570799976,
          "x2": -0.4862637274616852,
          "y": 1
         },
         {
          "x1": 1.5134307191205254,
          "x2": -0.5543845336794779,
          "y": 1
         },
         {
          "x1": 0.6396895148021144,
          "x2": -0.5224845238802303,
          "y": 1
         },
         {
          "x1": 0.3797172004752646,
          "x2": 0.4034720293279174,
          "y": 0
         },
         {
          "x1": 1.0173465288439125,
          "x2": -0.13381421278635763,
          "y": 0
         },
         {
          "x1": 0.7357201142519447,
          "x2": 0.7656201163466783,
          "y": 0
         },
         {
          "x1": -0.36916895640731323,
          "x2": 1.118829547257146,
          "y": 0
         },
         {
          "x1": 1.7625324908766458,
          "x2": -0.25546945405774457,
          "y": 0
         },
         {
          "x1": 1.2941285950947705,
          "x2": 0.6384503845228732,
          "y": 0
         },
         {
          "x1": 0.14343226806200854,
          "x2": -0.7073750071324434,
          "y": 1
         },
         {
          "x1": 1.4211196631918421,
          "x2": -0.8611729225150514,
          "y": 1
         },
         {
          "x1": 1.480437106288647,
          "x2": 0.32071121745100456,
          "y": 0
         },
         {
          "x1": -0.8070290960664804,
          "x2": 0.09853258093634093,
          "y": 1
         },
         {
          "x1": 1.8183790179916464,
          "x2": 0.739266743739458,
          "y": 0
         },
         {
          "x1": 0.30249228668212896,
          "x2": 0.3373424173150503,
          "y": 0
         },
         {
          "x1": 1.1713368238913962,
          "x2": -0.7063571156251104,
          "y": 1
         },
         {
          "x1": -0.6186986399128022,
          "x2": 0.6768110972965304,
          "y": 0
         },
         {
          "x1": 1.5685472730203296,
          "x2": -0.6439942566145341,
          "y": 1
         },
         {
          "x1": 0.23922410710845404,
          "x2": 1.7255147105794595,
          "y": 0
         },
         {
          "x1": 1.3905511333731777,
          "x2": -0.08753573859390745,
          "y": 1
         },
         {
          "x1": 0.6572760245840849,
          "x2": -0.4776130890297315,
          "y": 0
         },
         {
          "x1": -1.3648748714135288,
          "x2": -0.11779190994079342,
          "y": 0
         },
         {
          "x1": 0.9464426432026574,
          "x2": -1.0219696007820387,
          "y": 1
         },
         {
          "x1": 1.1164885608398636,
          "x2": 1.1192048483191377,
          "y": 0
         },
         {
          "x1": -0.1079466896587836,
          "x2": 1.1372981061506728,
          "y": 0
         },
         {
          "x1": 1.679291850856325,
          "x2": -1.4721678302890215,
          "y": 1
         },
         {
          "x1": -0.30336424860675626,
          "x2": 0.9979293482908623,
          "y": 0
         },
         {
          "x1": -0.14087331972645598,
          "x2": 0.2613542632574287,
          "y": 0
         },
         {
          "x1": 0.3451969555131782,
          "x2": 0.15124295390579967,
          "y": 0
         },
         {
          "x1": -1.1800968235782234,
          "x2": 0.7050113117476576,
          "y": 0
         },
         {
          "x1": 0.08406680903090183,
          "x2": 0.5704299537887307,
          "y": 0
         },
         {
          "x1": 1.3724442797478322,
          "x2": -0.35571716950817767,
          "y": 1
         },
         {
          "x1": -0.7734844700765139,
          "x2": 0.3152347175253556,
          "y": 0
         },
         {
          "x1": -1.6541550037930053,
          "x2": -0.2980059639899789,
          "y": 0
         },
         {
          "x1": 0.01991011015951194,
          "x2": 1.4401694859011474,
          "y": 0
         },
         {
          "x1": 1.450713662753918,
          "x2": 1.385115695866991,
          "y": 0
         },
         {
          "x1": 1.7984763991023753,
          "x2": 0.552854585888279,
          "y": 1
         },
         {
          "x1": 1.1058417136942147,
          "x2": -1.131226223771426,
          "y": 1
         },
         {
          "x1": -0.9850647580105,
          "x2": -0.18694779555500846,
          "y": 0
         },
         {
          "x1": 0.08881990605829886,
          "x2": -0.23089044403562226,
          "y": 1
         },
         {
          "x1": 0.604738622268814,
          "x2": -0.48789708104569307,
          "y": 1
         },
         {
          "x1": -1.3878508318279423,
          "x2": 0.5164532313765927,
          "y": 0
         },
         {
          "x1": 0.37307280454627545,
          "x2": -0.09303732277659527,
          "y": 1
         },
         {
          "x1": 1.6371520996520341,
          "x2": -0.6538541206195323,
          "y": 1
         },
         {
          "x1": 1.8810340822316198,
          "x2": -1.7071452757209482,
          "y": 1
         },
         {
          "x1": 0.2070123142104119,
          "x2": -0.6967841329445851,
          "y": 1
         },
         {
          "x1": 2.1489578198011796,
          "x2": -0.5150430940849492,
          "y": 1
         },
         {
          "x1": 1.6644669351998969,
          "x2": -0.5110930267661655,
          "y": 1
         },
         {
          "x1": 1.9559843957878278,
          "x2": 0.5155526133990114,
          "y": 1
         },
         {
          "x1": 1.2949081401596128,
          "x2": -0.5064475369546433,
          "y": 1
         },
         {
          "x1": 0.5184581652863575,
          "x2": -0.9895052915334153,
          "y": 1
         },
         {
          "x1": 0.07298621864679627,
          "x2": 0.09989205087100897,
          "y": 1
         },
         {
          "x1": 0.20044449202986594,
          "x2": -0.5778088675924955,
          "y": 1
         },
         {
          "x1": -0.45987430442143434,
          "x2": 1.4846461359267047,
          "y": 0
         },
         {
          "x1": -0.36252154727818836,
          "x2": 0.41639871387599203,
          "y": 0
         },
         {
          "x1": 0.9724375263197045,
          "x2": -1.290673656325996,
          "y": 1
         },
         {
          "x1": -1.0445795441524655,
          "x2": 0.5152441123646525,
          "y": 0
         },
         {
          "x1": -0.9161763227729727,
          "x2": 1.9299663163370853,
          "y": 0
         },
         {
          "x1": -0.09583700505210357,
          "x2": -0.4520551055917833,
          "y": 0
         },
         {
          "x1": 0.961573650181567,
          "x2": -1.2315401953708824,
          "y": 1
         },
         {
          "x1": 0.8332194106259786,
          "x2": -0.5676669566944514,
          "y": 1
         },
         {
          "x1": -1.106181600107003,
          "x2": -0.25814776288058516,
          "y": 0
         },
         {
          "x1": -1.5007614177061837,
          "x2": 0.8782130842425835,
          "y": 0
         },
         {
          "x1": -0.2922210013369006,
          "x2": 1.8984736619401537,
          "y": 0
         },
         {
          "x1": 0.34006521041731863,
          "x2": 1.3650672969652395,
          "y": 0
         },
         {
          "x1": -0.48972063910427,
          "x2": 0.2670270239406807,
          "y": 0
         },
         {
          "x1": -0.2780282881069906,
          "x2": 0.7873557577646579,
          "y": 0
         },
         {
          "x1": 1.8665028939320876,
          "x2": 0.22586349925002697,
          "y": 1
         },
         {
          "x1": 1.0765669680333905,
          "x2": -0.33242880713416195,
          "y": 1
         },
         {
          "x1": 0.4835250353653666,
          "x2": 1.2277661696461033,
          "y": 0
         },
         {
          "x1": -0.22344268980467066,
          "x2": 1.1333589568320361,
          "y": 1
         },
         {
          "x1": 0.9118392546919396,
          "x2": 0.2991548505684953,
          "y": 1
         },
         {
          "x1": -0.8470004582226207,
          "x2": -0.6913583812094721,
          "y": 1
         },
         {
          "x1": -1.122311846834661,
          "x2": 0.08586910393411862,
          "y": 0
         },
         {
          "x1": 1.2655283600313314,
          "x2": -0.7924572775257521,
          "y": 1
         },
         {
          "x1": 1.859535927505888,
          "x2": -0.07933516679526012,
          "y": 1
         },
         {
          "x1": 1.1563460637348133,
          "x2": -0.37686674640839707,
          "y": 0
         }
        ]
       },
       "encoding": {
        "color": {
         "field": "y",
         "type": "nominal"
        },
        "x": {
         "field": "x1",
         "type": "quantitative"
        },
        "y": {
         "field": "x2",
         "type": "quantitative"
        }
       },
       "mark": "circle"
      },
      "image/png": "[encoded data removed]",
      "image/svg+xml": [
       "<?xml version=\"1.0\" encoding=\"utf-8\"?>\n",
       "<!DOCTYPE svg PUBLIC \"-//W3C//DTD SVG 1.1//EN\" \"http://www.w3.org/Graphics/SVG/1.1/DTD/svg11.dtd\">\n",
       "<svg class=\"marks\" width=\"280\" height=\"247\" viewBox=\"0 0 280 247\" version=\"1.1\" xmlns=\"http://www.w3.org/2000/svg\" xmlns:xlink=\"http://www.w3.org/1999/xlink\"><rect width=\"280\" height=\"247\" fill=\"white\"></rect><g fill=\"none\" stroke-miterlimit=\"10\" transform=\"translate(36,10)\"><g class=\"mark-group role-frame root\" role=\"graphics-object\" aria-roledescription=\"group mark container\"><g transform=\"translate(0,0)\"><path class=\"background\" aria-hidden=\"true\" d=\"M0.5,0.5h200v200h-200Z\" stroke=\"#ddd\"></path><g><g class=\"mark-group role-axis\" aria-hidden=\"true\"><g transform=\"translate(0.5,200.5)\"><path class=\"background\" aria-hidden=\"true\" d=\"M0,0h0v0h0Z\" pointer-events=\"none\"></path><g><g class=\"mark-rule role-axis-grid\" pointer-events=\"none\"><line transform=\"translate(0,-200)\" x2=\"0\" y2=\"200\" stroke=\"#ddd\" stroke-width=\"1\" opacity=\"1\"></line><line transform=\"translate(40,-200)\" x2=\"0\" y2=\"200\" stroke=\"#ddd\" stroke-width=\"1\" opacity=\"1\"></line><line transform=\"translate(80,-200)\" x2=\"0\" y2=\"200\" stroke=\"#ddd\" stroke-width=\"1\" opacity=\"1\"></line><line transform=\"translate(120,-200)\" x2=\"0\" y2=\"200\" stroke=\"#ddd\" stroke-width=\"1\" opacity=\"1\"></line><line transform=\"translate(160,-200)\" x2=\"0\" y2=\"200\" stroke=\"#ddd\" stroke-width=\"1\" opacity=\"1\"></line><line transform=\"translate(200,-200)\" x2=\"0\" y2=\"200\" stroke=\"#ddd\" stroke-width=\"1\" opacity=\"1\"></line></g></g><path class=\"foreground\" aria-hidden=\"true\" d=\"\" pointer-events=\"none\" display=\"none\"></path></g></g><g class=\"mark-group role-axis\" aria-hidden=\"true\"><g transform=\"translate(0.5,0.5)\"><path class=\"background\" aria-hidden=\"true\" d=\"M0,0h0v0h0Z\" pointer-events=\"none\"></path><g><g class=\"mark-rule role-axis-grid\" pointer-events=\"none\"><line transform=\"translate(0,200)\" x2=\"200\" y2=\"0\" stroke=\"#ddd\" stroke-width=\"1\" opacity=\"1\"></line><line transform=\"translate(0,150)\" x2=\"200\" y2=\"0\" stroke=\"#ddd\" stroke-width=\"1\" opacity=\"1\"></line><line transform=\"translate(0,100)\" x2=\"200\" y2=\"0\" stroke=\"#ddd\" stroke-width=\"1\" opacity=\"1\"></line><line transform=\"translate(0,50)\" x2=\"200\" y2=\"0\" stroke=\"#ddd\" stroke-width=\"1\" opacity=\"1\"></line><line transform=\"translate(0,0)\" x2=\"200\" y2=\"0\" stroke=\"#ddd\" stroke-width=\"1\" opacity=\"1\"></line></g></g><path class=\"foreground\" aria-hidden=\"true\" d=\"\" pointer-events=\"none\" display=\"none\"></path></g></g><g class=\"mark-group role-axis\" role=\"graphics-symbol\" aria-roledescription=\"axis\" aria-label=\"X-axis titled 'x1' for a linear scale with values from -2 to 3\"><g transform=\"translate(0.5,200.5)\"><path class=\"background\" aria-hidden=\"true\" d=\"M0,0h0v0h0Z\" pointer-events=\"none\"></path><g><g class=\"mark-rule role-axis-tick\" pointer-events=\"none\"><line transform=\"translate(0,0)\" x2=\"0\" y2=\"5\" stroke=\"#888\" stroke-width=\"1\" opacity=\"1\"></line><line transform=\"translate(40,0)\" x2=\"0\" y2=\"5\" stroke=\"#888\" stroke-width=\"1\" opacity=\"1\"></line><line transform=\"translate(80,0)\" x2=\"0\" y2=\"5\" stroke=\"#888\" stroke-width=\"1\" opacity=\"1\"></line><line transform=\"translate(120,0)\" x2=\"0\" y2=\"5\" stroke=\"#888\" stroke-width=\"1\" opacity=\"1\"></line><line transform=\"translate(160,0)\" x2=\"0\" y2=\"5\" stroke=\"#888\" stroke-width=\"1\" opacity=\"1\"></line><line transform=\"translate(200,0)\" x2=\"0\" y2=\"5\" stroke=\"#888\" stroke-width=\"1\" opacity=\"1\"></line></g><g class=\"mark-text role-axis-label\" pointer-events=\"none\"><text text-anchor=\"start\" transform=\"translate(0,15)\" font-family=\"sans-serif\" font-size=\"10px\" fill=\"#000\" opacity=\"1\">-2</text><text text-anchor=\"middle\" transform=\"translate(40,15)\" font-family=\"sans-serif\" font-size=\"10px\" fill=\"#000\" opacity=\"1\">-1</text><text text-anchor=\"middle\" transform=\"translate(80,15)\" font-family=\"sans-serif\" font-size=\"10px\" fill=\"#000\" opacity=\"1\">0</text><text text-anchor=\"middle\" transform=\"translate(120,15)\" font-family=\"sans-serif\" font-size=\"10px\" fill=\"#000\" opacity=\"1\">1</text><text text-anchor=\"middle\" transform=\"translate(160,15)\" font-family=\"sans-serif\" font-size=\"10px\" fill=\"#000\" opacity=\"1\">2</text><text text-anchor=\"end\" transform=\"translate(200,15)\" font-family=\"sans-serif\" font-size=\"10px\" fill=\"#000\" opacity=\"1\">3</text></g><g class=\"mark-rule role-axis-domain\" pointer-events=\"none\"><line transform=\"translate(0,0)\" x2=\"200\" y2=\"0\" stroke=\"#888\" stroke-width=\"1\" opacity=\"1\"></line></g><g class=\"mark-text role-axis-title\" pointer-events=\"none\"><text text-anchor=\"middle\" transform=\"translate(100,30)\" font-family=\"sans-serif\" font-size=\"11px\" font-weight=\"bold\" fill=\"#000\" opacity=\"1\">x1</text></g></g><path class=\"foreground\" aria-hidden=\"true\" d=\"\" pointer-events=\"none\" display=\"none\"></path></g></g><g class=\"mark-group role-axis\" role=\"graphics-symbol\" aria-roledescription=\"axis\" aria-label=\"Y-axis titled 'x2' for a linear scale with values from -2 to 2\"><g transform=\"translate(0.5,0.5)\"><path class=\"background\" aria-hidden=\"true\" d=\"M0,0h0v0h0Z\" pointer-events=\"none\"></path><g><g class=\"mark-rule role-axis-tick\" pointer-events=\"none\"><line transform=\"translate(0,200)\" x2=\"-5\" y2=\"0\" stroke=\"#888\" stroke-width=\"1\" opacity=\"1\"></line><line transform=\"translate(0,150)\" x2=\"-5\" y2=\"0\" stroke=\"#888\" stroke-width=\"1\" opacity=\"1\"></line><line transform=\"translate(0,100)\" x2=\"-5\" y2=\"0\" stroke=\"#888\" stroke-width=\"1\" opacity=\"1\"></line><line transform=\"translate(0,50)\" x2=\"-5\" y2=\"0\" stroke=\"#888\" stroke-width=\"1\" opacity=\"1\"></line><line transform=\"translate(0,0)\" x2=\"-5\" y2=\"0\" stroke=\"#888\" stroke-width=\"1\" opacity=\"1\"></line></g><g class=\"mark-text role-axis-label\" pointer-events=\"none\"><text text-anchor=\"end\" transform=\"translate(-7,203)\" font-family=\"sans-serif\" font-size=\"10px\" fill=\"#000\" opacity=\"1\">-2</text><text text-anchor=\"end\" transform=\"translate(-7,153)\" font-family=\"sans-serif\" font-size=\"10px\" fill=\"#000\" opacity=\"1\">-1</text><text text-anchor=\"end\" transform=\"translate(-7,103)\" font-family=\"sans-serif\" font-size=\"10px\" fill=\"#000\" opacity=\"1\">0</text><text text-anchor=\"end\" transform=\"translate(-7,53)\" font-family=\"sans-serif\" font-size=\"10px\" fill=\"#000\" opacity=\"1\">1</text><text text-anchor=\"end\" transform=\"translate(-7,3)\" font-family=\"sans-serif\" font-size=\"10px\" fill=\"#000\" opacity=\"1\">2</text></g><g class=\"mark-rule role-axis-domain\" pointer-events=\"none\"><line transform=\"translate(0,200)\" x2=\"0\" y2=\"-200\" stroke=\"#888\" stroke-width=\"1\" opacity=\"1\"></line></g><g class=\"mark-text role-axis-title\" pointer-events=\"none\"><text text-anchor=\"middle\" transform=\"translate(-20,100) rotate(-90) translate(0,-2)\" font-family=\"sans-serif\" font-size=\"11px\" font-weight=\"bold\" fill=\"#000\" opacity=\"1\">x2</text></g></g><path class=\"foreground\" aria-hidden=\"true\" d=\"\" pointer-events=\"none\" display=\"none\"></path></g></g><g class=\"mark-symbol role-mark marks\" role=\"graphics-object\" aria-roledescription=\"symbol mark container\"><path aria-label=\"x1: -1.10470921812; x2: -0.0278162190512; y: 0\" role=\"graphics-symbol\" aria-roledescription=\"circle\" transform=\"translate(35.81163127531916,101.3908109525623)\" d=\"M2.7386127875258306,0A2.7386127875258306,2.7386127875258306,0,1,1,-2.7386127875258306,0A2.7386127875258306,2.7386127875258306,0,1,1,2.7386127875258306,0\" fill=\"#4c78a8\" stroke-width=\"2\" opacity=\"0.7\"></path><path aria-label=\"x1: -0.0837225022468; x2: 1.01048061995; y: 0\" role=\"graphics-symbol\" aria-roledescription=\"circle\" transform=\"translate(76.65109991012973,49.47596900260787)\" d=\"M2.7386127875258306,0A2.7386127875258306,2.7386127875258306,0,1,1,-2.7386127875258306,0A2.7386127875258306,2.7386127875258306,0,1,1,2.7386127875258306,0\" fill=\"#4c78a8\" stroke-width=\"2\" opacity=\"0.7\"></path><path aria-label=\"x1: -0.253318579759; x2: 1.32256374208; y: 0\" role=\"graphics-symbol\" aria-roledescription=\"circle\" transform=\"translate(69.8672568096207,33.87181289581471)\" d=\"M2.7386127875258306,0A2.7386127875258306,2.7386127875258306,0,1,1,-2.7386127875258306,0A2.7386127875258306,2.7386127875258306,0,1,1,2.7386127875258306,0\" fill=\"#4c78a8\" stroke-width=\"2\" opacity=\"0.7\"></path><path aria-label=\"x1: 2.86429046685; x2: 0.0627404920789; y: 1\" role=\"graphics-symbol\" aria-roledescription=\"circle\" transform=\"translate(194.5716186740647,96.8629753960568)\" d=\"M2.7386127875258306,0A2.7386127875258306,2.7386127875258306,0,1,1,-2.7386127875258306,0A2.7386127875258306,2.7386127875258306,0,1,1,2.7386127875258306,0\" fill=\"#f58518\" stroke-width=\"2\" opacity=\"0.7\"></path><path aria-label=\"x1: 0.662783253487; x2: 0.462371313441; y: 0\" role=\"graphics-symbol\" aria-roledescription=\"circle\" transform=\"translate(106.51133013948413,76.88143432795904)\" d=\"M2.7386127875258306,0A2.7386127875258306,2.7386127875258306,0,1,1,-2.7386127875258306,0A2.7386127875258306,2.7386127875258306,0,1,1,2.7386127875258306,0\" fill=\"#4c78a8\" stroke-width=\"2\" opacity=\"0.7\"></path><path aria-label=\"x1: 0.855232903018; x2: 0.0402073164096; y: 1\" role=\"graphics-symbol\" aria-roledescription=\"circle\" transform=\"translate(114.20931612072454,97.98963417952153)\" d=\"M2.7386127875258306,0A2.7386127875258306,2.7386127875258306,0,1,1,-2.7386127875258306,0A2.7386127875258306,2.7386127875258306,0,1,1,2.7386127875258306,0\" fill=\"#f58518\" stroke-width=\"2\" opacity=\"0.7\"></path><path aria-label=\"x1: -0.0425329481648; x2: -0.307160355461; y: 1\" role=\"graphics-symbol\" aria-roledescription=\"circle\" transform=\"translate(78.29868207340866,115.35801777303014)\" d=\"M2.7386127875258306,0A2.7386127875258306,2.7386127875258306,0,1,1,-2.7386127875258306,0A2.7386127875258306,2.7386127875258306,0,1,1,2.7386127875258306,0\" fill=\"#f58518\" stroke-width=\"2\" opacity=\"0.7\"></path><path aria-label=\"x1: -0.401498437964; x2: 0.143833517782; y: 1\" role=\"graphics-symbol\" aria-roledescription=\"circle\" transform=\"translate(63.9400624814258,92.80832411089057)\" d=\"M2.7386127875258306,0A2.7386127875258306,2.7386127875258306,0,1,1,-2.7386127875258306,0A2.7386127875258306,2.7386127875258306,0,1,1,2.7386127875258306,0\" fill=\"#f58518\" stroke-width=\"2\" opacity=\"0.7\"></path><path aria-label=\"x1: 1.59789352736; x2: -0.842948389052; y: 1\" role=\"graphics-symbol\" aria-roledescription=\"circle\" transform=\"translate(143.91574109423033,142.14741945261338)\" d=\"M2.7386127875258306,0A2.7386127875258306,2.7386127875258306,0,1,1,-2.7386127875258306,0A2.7386127875258306,2.7386127875258306,0,1,1,2.7386127875258306,0\" fill=\"#f58518\" stroke-width=\"2\" opacity=\"0.7\"></path><path aria-label=\"x1: 2.40277804482; x2: -0.00690528678492; y: 1\" role=\"graphics-symbol\" aria-roledescription=\"circle\" transform=\"translate(176.11112179265115,100.34526433924589)\" d=\"M2.7386127875258306,0A2.7386127875258306,2.7386127875258306,0,1,1,-2.7386127875258306,0A2.7386127875258306,2.7386127875258306,0,1,1,2.7386127875258306,0\" fill=\"#f58518\" stroke-width=\"2\" opacity=\"0.7\"></path><path aria-label=\"x1: 0.119515302123; x2: -0.403312507695; y: 1\" role=\"graphics-symbol\" aria-roledescription=\"circle\" transform=\"translate(84.78061208490197,120.16562538476788)\" d=\"M2.7386127875258306,0A2.7386127875258306,2.7386127875258306,0,1,1,-2.7386127875258306,0A2.7386127875258306,2.7386127875258306,0,1,1,2.7386127875258306,0\" fill=\"#f58518\" stroke-width=\"2\" opacity=\"0.7\"></path><path aria-label=\"x1: 1.49471685352; x2: -0.197745668518; y: 1\" role=\"graphics-symbol\" aria-roledescription=\"circle\" transform=\"translate(139.78867414072363,109.88728342591783)\" d=\"M2.7386127875258306,0A2.7386127875258306,2.7386127875258306,0,1,1,-2.7386127875258306,0A2.7386127875258306,2.7386127875258306,0,1,1,2.7386127875258306,0\" fill=\"#f58518\" stroke-width=\"2\" opacity=\"0.7\"></path><path aria-label=\"x1: 0.377797616814; x2: 1.03960542409; y: 0\" role=\"graphics-symbol\" aria-roledescription=\"circle\" transform=\"translate(95.11190467256347,48.019728795503426)\" d=\"M2.7386127875258306,0A2.7386127875258306,2.7386127875258306,0,1,1,-2.7386127875258306,0A2.7386127875258306,2.7386127875258306,0,1,1,2.7386127875258306,0\" fill=\"#4c78a8\" stroke-width=\"2\" opacity=\"0.7\"></path><path aria-label=\"x1: 2.00394027524; x2: -1.07952525585; y: 1\" role=\"graphics-symbol\" aria-roledescription=\"circle\" transform=\"translate(160.15761100973222,153.97626279270986)\" d=\"M2.7386127875258306,0A2.7386127875258306,2.7386127875258306,0,1,1,-2.7386127875258306,0A2.7386127875258306,2.7386127875258306,0,1,1,2.7386127875258306,0\" fill=\"#f58518\" stroke-width=\"2\" opacity=\"0.7\"></path><path aria-label=\"x1: -1.57397818882; x2: 1.22911890445; y: 0\" role=\"graphics-symbol\" aria-roledescription=\"circle\" transform=\"translate(17.040872447054937,38.54405477732505)\" d=\"M2.7386127875258306,0A2.7386127875258306,2.7386127875258306,0,1,1,-2.7386127875258306,0A2.7386127875258306,2.7386127875258306,0,1,1,2.7386127875258306,0\" fill=\"#4c78a8\" stroke-width=\"2\" opacity=\"0.7\"></path><path aria-label=\"x1: 0.842696291366; x2: 0.391562486906; y: 0\" role=\"graphics-symbol\" aria-roledescription=\"circle\" transform=\"translate(113.70785165462691,80.42187565467762)\" d=\"M2.7386127875258306,0A2.7386127875258306,2.7386127875258306,0,1,1,-2.7386127875258306,0A2.7386127875258306,2.7386127875258306,0,1,1,2.7386127875258306,0\" fill=\"#4c78a8\" stroke-width=\"2\" opacity=\"0.7\"></path><path aria-label=\"x1: 1.68074873055; x2: 0.532000928279; y: 1\" role=\"graphics-symbol\" aria-roledescription=\"circle\" transform=\"translate(147.22994922193394,73.39995358607342)\" d=\"M2.7386127875258306,0A2.7386127875258306,2.7386127875258306,0,1,1,-2.7386127875258306,0A2.7386127875258306,2.7386127875258306,0,1,1,2.7386127875258306,0\" fill=\"#f58518\" stroke-width=\"2\" opacity=\"0.7\"></path><path aria-label=\"x1: -1.01568518745; x2: 0.399062739674; y: 0\" role=\"graphics-symbol\" aria-roledescription=\"circle\" transform=\"translate(39.372592502132306,80.04686301628321)\" d=\"M2.7386127875258306,0A2.7386127875258306,2.7386127875258306,0,1,1,-2.7386127875258306,0A2.7386127875258306,2.7386127875258306,0,1,1,2.7386127875258306,0\" fill=\"#4c78a8\" stroke-width=\"2\" opacity=\"0.7\"></path><path aria-label=\"x1: -0.543140922111; x2: 1.2378176828; y: 0\" role=\"graphics-symbol\" aria-roledescription=\"circle\" transform=\"translate(58.27436311557606,38.10911585980743)\" d=\"M2.7386127875258306,0A2.7386127875258306,2.7386127875258306,0,1,1,-2.7386127875258306,0A2.7386127875258306,2.7386127875258306,0,1,1,2.7386127875258306,0\" fill=\"#4c78a8\" stroke-width=\"2\" opacity=\"0.7\"></path><path aria-label=\"x1: 1.92862789746; x2: -0.999643304931; y: 1\" role=\"graphics-symbol\" aria-roledescription=\"circle\" transform=\"translate(157.1451158985037,149.98216524657)\" d=\"M2.7386127875258306,0A2.7386127875258306,2.7386127875258306,0,1,1,-2.7386127875258306,0A2.7386127875258306,2.7386127875258306,0,1,1,2.7386127875258306,0\" fill=\"#f58518\" stroke-width=\"2\" opacity=\"0.7\"></path><path aria-label=\"x1: 1.01057334438; x2: 1.28215835637; y: 0\" role=\"graphics-symbol\" aria-roledescription=\"circle\" transform=\"translate(120.4229337753622,35.892082181368345)\" d=\"M2.7386127875258306,0A2.7386127875258306,2.7386127875258306,0,1,1,-2.7386127875258306,0A2.7386127875258306,2.7386127875258306,0,1,1,2.7386127875258306,0\" fill=\"#4c78a8\" stroke-width=\"2\" opacity=\"0.7\"></path><path aria-label=\"x1: 1.49108696058; x2: 0.39206101862; y: 1\" role=\"graphics-symbol\" aria-roledescription=\"circle\" transform=\"translate(139.6434784231928,80.39694906900843)\" d=\"M2.7386127875258306,0A2.7386127875258306,2.7386127875258306,0,1,1,-2.7386127875258306,0A2.7386127875258306,2.7386127875258306,0,1,1,2.7386127875258306,0\" fill=\"#f58518\" stroke-width=\"2\" opacity=\"0.7\"></path><path aria-label=\"x1: 1.01353407613; x2: -0.564522626368; y: 1\" role=\"graphics-symbol\" aria-roledescription=\"circle\" transform=\"translate(120.54136304504274,128.22613131838892)\" d=\"M2.7386127875258306,0A2.7386127875258306,2.7386127875258306,0,1,1,-2.7386127875258306,0A2.7386127875258306,2.7386127875258306,0,1,1,2.7386127875258306,0\" fill=\"#f58518\" stroke-width=\"2\" opacity=\"0.7\"></path><path aria-label=\"x1: 0.43312545708; x2: -0.486263727462; y: 1\" role=\"graphics-symbol\" aria-roledescription=\"circle\" transform=\"translate(97.3250182831999,124.31318637308426)\" d=\"M2.7386127875258306,0A2.7386127875258306,2.7386127875258306,0,1,1,-2.7386127875258306,0A2.7386127875258306,2.7386127875258306,0,1,1,2.7386127875258306,0\" fill=\"#f58518\" stroke-width=\"2\" opacity=\"0.7\"></path><path aria-label=\"x1: 1.51343071912; x2: -0.554384533679; y: 1\" role=\"graphics-symbol\" aria-roledescription=\"circle\" transform=\"translate(140.537228764821,127.71922668397391)\" d=\"M2.7386127875258306,0A2.7386127875258306,2.7386127875258306,0,1,1,-2.7386127875258306,0A2.7386127875258306,2.7386127875258306,0,1,1,2.7386127875258306,0\" fill=\"#f58518\" stroke-width=\"2\" opacity=\"0.7\"></path><path aria-label=\"x1: 0.639689514802; x2: -0.52248452388; y: 1\" role=\"graphics-symbol\" aria-roledescription=\"circle\" transform=\"translate(105.58758059208458,126.12422619401151)\" d=\"M2.7386127875258306,0A2.7386127875258306,2.7386127875258306,0,1,1,-2.7386127875258306,0A2.7386127875258306,2.7386127875258306,0,1,1,2.7386127875258306,0\" fill=\"#f58518\" stroke-width=\"2\" opacity=\"0.7\"></path><path aria-label=\"x1: 0.379717200475; x2: 0.403472029328; y: 0\" role=\"graphics-symbol\" aria-roledescription=\"circle\" transform=\"translate(95.1886880190106,79.82639853360413)\" d=\"M2.7386127875258306,0A2.7386127875258306,2.7386127875258306,0,1,1,-2.7386127875258306,0A2.7386127875258306,2.7386127875258306,0,1,1,2.7386127875258306,0\" fill=\"#4c78a8\" stroke-width=\"2\" opacity=\"0.7\"></path><path aria-label=\"x1: 1.01734652884; x2: -0.133814212786; y: 0\" role=\"graphics-symbol\" aria-roledescription=\"circle\" transform=\"translate(120.69386115375652,106.69071063931787)\" d=\"M2.7386127875258306,0A2.7386127875258306,2.7386127875258306,0,1,1,-2.7386127875258306,0A2.7386127875258306,2.7386127875258306,0,1,1,2.7386127875258306,0\" fill=\"#4c78a8\" stroke-width=\"2\" opacity=\"0.7\"></path><path aria-label=\"x1: 0.735720114252; x2: 0.765620116347; y: 0\" role=\"graphics-symbol\" aria-roledescription=\"circle\" transform=\"translate(109.42880457007777,61.71899418266609)\" d=\"M2.7386127875258306,0A2.7386127875258306,2.7386127875258306,0,1,1,-2.7386127875258306,0A2.7386127875258306,2.7386127875258306,0,1,1,2.7386127875258306,0\" fill=\"#4c78a8\" stroke-width=\"2\" opacity=\"0.7\"></path><path aria-label=\"x1: -0.369168956407; x2: 1.11882954726; y: 0\" role=\"graphics-symbol\" aria-roledescription=\"circle\" transform=\"translate(65.23324174370747,44.058522637142694)\" d=\"M2.7386127875258306,0A2.7386127875258306,2.7386127875258306,0,1,1,-2.7386127875258306,0A2.7386127875258306,2.7386127875258306,0,1,1,2.7386127875258306,0\" fill=\"#4c78a8\" stroke-width=\"2\" opacity=\"0.7\"></path><path aria-label=\"x1: 1.76253249088; x2: -0.255469454058; y: 0\" role=\"graphics-symbol\" aria-roledescription=\"circle\" transform=\"translate(150.50129963506583,112.77347270288722)\" d=\"M2.7386127875258306,0A2.7386127875258306,2.7386127875258306,0,1,1,-2.7386127875258306,0A2.7386127875258306,2.7386127875258306,0,1,1,2.7386127875258306,0\" fill=\"#4c78a8\" stroke-width=\"2\" opacity=\"0.7\"></path><path aria-label=\"x1: 1.29412859509; x2: 0.638450384523; y: 0\" role=\"graphics-symbol\" aria-roledescription=\"circle\" transform=\"translate(131.76514380379083,68.07748077385634)\" d=\"M2.7386127875258306,0A2.7386127875258306,2.7386127875258306,0,1,1,-2.7386127875258306,0A2.7386127875258306,2.7386127875258306,0,1,1,2.7386127875258306,0\" fill=\"#4c78a8\" stroke-width=\"2\" opacity=\"0.7\"></path><path aria-label=\"x1: 0.143432268062; x2: -0.707375007132; y: 1\" role=\"graphics-symbol\" aria-roledescription=\"circle\" transform=\"translate(85.73729072248032,135.36875035662217)\" d=\"M2.7386127875258306,0A2.7386127875258306,2.7386127875258306,0,1,1,-2.7386127875258306,0A2.7386127875258306,2.7386127875258306,0,1,1,2.7386127875258306,0\" fill=\"#f58518\" stroke-width=\"2\" opacity=\"0.7\"></path><path aria-label=\"x1: 1.42111966319; x2: -0.861172922515; y: 1\" role=\"graphics-symbol\" aria-roledescription=\"circle\" transform=\"translate(136.84478652767368,143.05864612575257)\" d=\"M2.7386127875258306,0A2.7386127875258306,2.7386127875258306,0,1,1,-2.7386127875258306,0A2.7386127875258306,2.7386127875258306,0,1,1,2.7386127875258306,0\" fill=\"#f58518\" stroke-width=\"2\" opacity=\"0.7\"></path><path aria-label=\"x1: 1.48043710629; x2: 0.320711217451; y: 0\" role=\"graphics-symbol\" aria-roledescription=\"circle\" transform=\"translate(139.21748425154587,83.96443912744978)\" d=\"M2.7386127875258306,0A2.7386127875258306,2.7386127875258306,0,1,1,-2.7386127875258306,0A2.7386127875258306,2.7386127875258306,0,1,1,2.7386127875258306,0\" fill=\"#4c78a8\" stroke-width=\"2\" opacity=\"0.7\"></path><path aria-label=\"x1: -0.807029096066; x2: 0.0985325809363; y: 1\" role=\"graphics-symbol\" aria-roledescription=\"circle\" transform=\"translate(47.718836157340775,95.07337095318296)\" d=\"M2.7386127875258306,0A2.7386127875258306,2.7386127875258306,0,1,1,-2.7386127875258306,0A2.7386127875258306,2.7386127875258306,0,1,1,2.7386127875258306,0\" fill=\"#f58518\" stroke-width=\"2\" opacity=\"0.7\"></path><path aria-label=\"x1: 1.81837901799; x2: 0.739266743739; y: 0\" role=\"graphics-symbol\" aria-roledescription=\"circle\" transform=\"translate(152.73516071966586,63.03666281302709)\" d=\"M2.7386127875258306,0A2.7386127875258306,2.7386127875258306,0,1,1,-2.7386127875258306,0A2.7386127875258306,2.7386127875258306,0,1,1,2.7386127875258306,0\" fill=\"#4c78a8\" stroke-width=\"2\" opacity=\"0.7\"></path><path aria-label=\"x1: 0.302492286682; x2: 0.337342417315; y: 0\" role=\"graphics-symbol\" aria-roledescription=\"circle\" transform=\"translate(92.09969146728515,83.13287913424747)\" d=\"M2.7386127875258306,0A2.7386127875258306,2.7386127875258306,0,1,1,-2.7386127875258306,0A2.7386127875258306,2.7386127875258306,0,1,1,2.7386127875258306,0\" fill=\"#4c78a8\" stroke-width=\"2\" opacity=\"0.7\"></path><path aria-label=\"x1: 1.17133682389; x2: -0.706357115625; y: 1\" role=\"graphics-symbol\" aria-roledescription=\"circle\" transform=\"translate(126.85347295565586,135.31785578125553)\" d=\"M2.7386127875258306,0A2.7386127875258306,2.7386127875258306,0,1,1,-2.7386127875258306,0A2.7386127875258306,2.7386127875258306,0,1,1,2.7386127875258306,0\" fill=\"#f58518\" stroke-width=\"2\" opacity=\"0.7\"></path><path aria-label=\"x1: -0.618698639913; x2: 0.676811097297; y: 0\" role=\"graphics-symbol\" aria-roledescription=\"circle\" transform=\"translate(55.25205440348792,66.15944513517347)\" d=\"M2.7386127875258306,0A2.7386127875258306,2.7386127875258306,0,1,1,-2.7386127875258306,0A2.7386127875258306,2.7386127875258306,0,1,1,2.7386127875258306,0\" fill=\"#4c78a8\" stroke-width=\"2\" opacity=\"0.7\"></path><path aria-label=\"x1: 1.56854727302; x2: -0.643994256615; y: 1\" role=\"graphics-symbol\" aria-roledescription=\"circle\" transform=\"translate(142.74189092081318,132.19971283072672)\" d=\"M2.7386127875258306,0A2.7386127875258306,2.7386127875258306,0,1,1,-2.7386127875258306,0A2.7386127875258306,2.7386127875258306,0,1,1,2.7386127875258306,0\" fill=\"#f58518\" stroke-width=\"2\" opacity=\"0.7\"></path><path aria-label=\"x1: 0.239224107108; x2: 1.72551471058; y: 0\" role=\"graphics-symbol\" aria-roledescription=\"circle\" transform=\"translate(89.56896428433816,13.724264471027015)\" d=\"M2.7386127875258306,0A2.7386127875258306,2.7386127875258306,0,1,1,-2.7386127875258306,0A2.7386127875258306,2.7386127875258306,0,1,1,2.7386127875258306,0\" fill=\"#4c78a8\" stroke-width=\"2\" opacity=\"0.7\"></path><path aria-label=\"x1: 1.39055113337; x2: -0.0875357385939; y: 1\" role=\"graphics-symbol\" aria-roledescription=\"circle\" transform=\"translate(135.6220453349271,104.37678692969538)\" d=\"M2.7386127875258306,0A2.7386127875258306,2.7386127875258306,0,1,1,-2.7386127875258306,0A2.7386127875258306,2.7386127875258306,0,1,1,2.7386127875258306,0\" fill=\"#f58518\" stroke-width=\"2\" opacity=\"0.7\"></path><path aria-label=\"x1: 0.657276024584; x2: -0.47761308903; y: 0\" role=\"graphics-symbol\" aria-roledescription=\"circle\" transform=\"translate(106.29104098336339,123.88065445148658)\" d=\"M2.7386127875258306,0A2.7386127875258306,2.7386127875258306,0,1,1,-2.7386127875258306,0A2.7386127875258306,2.7386127875258306,0,1,1,2.7386127875258306,0\" fill=\"#4c78a8\" stroke-width=\"2\" opacity=\"0.7\"></path><path aria-label=\"x1: -1.36487487141; x2: -0.117791909941; y: 0\" role=\"graphics-symbol\" aria-roledescription=\"circle\" transform=\"translate(25.405005143458848,105.88959549703966)\" d=\"M2.7386127875258306,0A2.7386127875258306,2.7386127875258306,0,1,1,-2.7386127875258306,0A2.7386127875258306,2.7386127875258306,0,1,1,2.7386127875258306,0\" fill=\"#4c78a8\" stroke-width=\"2\" opacity=\"0.7\"></path><path aria-label=\"x1: 0.946442643203; x2: -1.02196960078; y: 1\" role=\"graphics-symbol\" aria-roledescription=\"circle\" transform=\"translate(117.8577057281063,151.09848003910193)\" d=\"M2.7386127875258306,0A2.7386127875258306,2.7386127875258306,0,1,1,-2.7386127875258306,0A2.7386127875258306,2.7386127875258306,0,1,1,2.7386127875258306,0\" fill=\"#f58518\" stroke-width=\"2\" opacity=\"0.7\"></path><path aria-label=\"x1: 1.11648856084; x2: 1.11920484832; y: 0\" role=\"graphics-symbol\" aria-roledescription=\"circle\" transform=\"translate(124.65954243359457,44.03975758404313)\" d=\"M2.7386127875258306,0A2.7386127875258306,2.7386127875258306,0,1,1,-2.7386127875258306,0A2.7386127875258306,2.7386127875258306,0,1,1,2.7386127875258306,0\" fill=\"#4c78a8\" stroke-width=\"2\" opacity=\"0.7\"></path><path aria-label=\"x1: -0.107946689659; x2: 1.13729810615; y: 0\" role=\"graphics-symbol\" aria-roledescription=\"circle\" transform=\"translate(75.68213241364866,43.13509469246637)\" d=\"M2.7386127875258306,0A2.7386127875258306,2.7386127875258306,0,1,1,-2.7386127875258306,0A2.7386127875258306,2.7386127875258306,0,1,1,2.7386127875258306,0\" fill=\"#4c78a8\" stroke-width=\"2\" opacity=\"0.7\"></path><path aria-label=\"x1: 1.67929185086; x2: -1.47216783029; y: 1\" role=\"graphics-symbol\" aria-roledescription=\"circle\" transform=\"translate(147.171674034253,173.60839151445106)\" d=\"M2.7386127875258306,0A2.7386127875258306,2.7386127875258306,0,1,1,-2.7386127875258306,0A2.7386127875258306,2.7386127875258306,0,1,1,2.7386127875258306,0\" fill=\"#f58518\" stroke-width=\"2\" opacity=\"0.7\"></path><path aria-label=\"x1: -0.303364248607; x2: 0.997929348291; y: 0\" role=\"graphics-symbol\" aria-roledescription=\"circle\" transform=\"translate(67.86543005572975,50.103532585456875)\" d=\"M2.7386127875258306,0A2.7386127875258306,2.7386127875258306,0,1,1,-2.7386127875258306,0A2.7386127875258306,2.7386127875258306,0,1,1,2.7386127875258306,0\" fill=\"#4c78a8\" stroke-width=\"2\" opacity=\"0.7\"></path><path aria-label=\"x1: -0.140873319726; x2: 0.261354263257; y: 0\" role=\"graphics-symbol\" aria-roledescription=\"circle\" transform=\"translate(74.36506721094176,86.93228683712857)\" d=\"M2.7386127875258306,0A2.7386127875258306,2.7386127875258306,0,1,1,-2.7386127875258306,0A2.7386127875258306,2.7386127875258306,0,1,1,2.7386127875258306,0\" fill=\"#4c78a8\" stroke-width=\"2\" opacity=\"0.7\"></path><path aria-label=\"x1: 0.345196955513; x2: 0.151242953906; y: 0\" role=\"graphics-symbol\" aria-roledescription=\"circle\" transform=\"translate(93.80787822052714,92.43785230471002)\" d=\"M2.7386127875258306,0A2.7386127875258306,2.7386127875258306,0,1,1,-2.7386127875258306,0A2.7386127875258306,2.7386127875258306,0,1,1,2.7386127875258306,0\" fill=\"#4c78a8\" stroke-width=\"2\" opacity=\"0.7\"></path><path aria-label=\"x1: -1.18009682358; x2: 0.705011311748; y: 0\" role=\"graphics-symbol\" aria-roledescription=\"circle\" transform=\"translate(32.79612705687106,64.74943441261712)\" d=\"M2.7386127875258306,0A2.7386127875258306,2.7386127875258306,0,1,1,-2.7386127875258306,0A2.7386127875258306,2.7386127875258306,0,1,1,2.7386127875258306,0\" fill=\"#4c78a8\" stroke-width=\"2\" opacity=\"0.7\"></path><path aria-label=\"x1: 0.0840668090309; x2: 0.570429953789; y: 0\" role=\"graphics-symbol\" aria-roledescription=\"circle\" transform=\"translate(83.36267236123606,71.47850231056347)\" d=\"M2.7386127875258306,0A2.7386127875258306,2.7386127875258306,0,1,1,-2.7386127875258306,0A2.7386127875258306,2.7386127875258306,0,1,1,2.7386127875258306,0\" fill=\"#4c78a8\" stroke-width=\"2\" opacity=\"0.7\"></path><path aria-label=\"x1: 1.37244427975; x2: -0.355717169508; y: 1\" role=\"graphics-symbol\" aria-roledescription=\"circle\" transform=\"translate(134.89777118991327,117.78585847540887)\" d=\"M2.7386127875258306,0A2.7386127875258306,2.7386127875258306,0,1,1,-2.7386127875258306,0A2.7386127875258306,2.7386127875258306,0,1,1,2.7386127875258306,0\" fill=\"#f58518\" stroke-width=\"2\" opacity=\"0.7\"></path><path aria-label=\"x1: -0.773484470077; x2: 0.315234717525; y: 0\" role=\"graphics-symbol\" aria-roledescription=\"circle\" transform=\"translate(49.060621196939444,84.23826412373221)\" d=\"M2.7386127875258306,0A2.7386127875258306,2.7386127875258306,0,1,1,-2.7386127875258306,0A2.7386127875258306,2.7386127875258306,0,1,1,2.7386127875258306,0\" fill=\"#4c78a8\" stroke-width=\"2\" opacity=\"0.7\"></path><path aria-label=\"x1: -1.65415500379; x2: -0.29800596399; y: 0\" role=\"graphics-symbol\" aria-roledescription=\"circle\" transform=\"translate(13.833799848279787,114.90029819949893)\" d=\"M2.7386127875258306,0A2.7386127875258306,2.7386127875258306,0,1,1,-2.7386127875258306,0A2.7386127875258306,2.7386127875258306,0,1,1,2.7386127875258306,0\" fill=\"#4c78a8\" stroke-width=\"2\" opacity=\"0.7\"></path><path aria-label=\"x1: 0.0199101101595; x2: 1.4401694859; y: 0\" role=\"graphics-symbol\" aria-roledescription=\"circle\" transform=\"translate(80.79640440638049,27.99152570494263)\" d=\"M2.7386127875258306,0A2.7386127875258306,2.7386127875258306,0,1,1,-2.7386127875258306,0A2.7386127875258306,2.7386127875258306,0,1,1,2.7386127875258306,0\" fill=\"#4c78a8\" stroke-width=\"2\" opacity=\"0.7\"></path><path aria-label=\"x1: 1.45071366275; x2: 1.38511569587; y: 0\" role=\"graphics-symbol\" aria-roledescription=\"circle\" transform=\"translate(138.02854651015673,30.74421520665045)\" d=\"M2.7386127875258306,0A2.7386127875258306,2.7386127875258306,0,1,1,-2.7386127875258306,0A2.7386127875258306,2.7386127875258306,0,1,1,2.7386127875258306,0\" fill=\"#4c78a8\" stroke-width=\"2\" opacity=\"0.7\"></path><path aria-label=\"x1: 1.7984763991; x2: 0.552854585888; y: 1\" role=\"graphics-symbol\" aria-roledescription=\"circle\" transform=\"translate(151.93905596409502,72.35727070558605)\" d=\"M2.7386127875258306,0A2.7386127875258306,2.7386127875258306,0,1,1,-2.7386127875258306,0A2.7386127875258306,2.7386127875258306,0,1,1,2.7386127875258306,0\" fill=\"#f58518\" stroke-width=\"2\" opacity=\"0.7\"></path><path aria-label=\"x1: 1.10584171369; x2: -1.13122622377; y: 1\" role=\"graphics-symbol\" aria-roledescription=\"circle\" transform=\"translate(124.23366854776859,156.5613111885713)\" d=\"M2.7386127875258306,0A2.7386127875258306,2.7386127875258306,0,1,1,-2.7386127875258306,0A2.7386127875258306,2.7386127875258306,0,1,1,2.7386127875258306,0\" fill=\"#f58518\" stroke-width=\"2\" opacity=\"0.7\"></path><path aria-label=\"x1: -0.98506475801; x2: -0.186947795555; y: 0\" role=\"graphics-symbol\" aria-roledescription=\"circle\" transform=\"translate(40.59740967958,109.34738977775042)\" d=\"M2.7386127875258306,0A2.7386127875258306,2.7386127875258306,0,1,1,-2.7386127875258306,0A2.7386127875258306,2.7386127875258306,0,1,1,2.7386127875258306,0\" fill=\"#4c78a8\" stroke-width=\"2\" opacity=\"0.7\"></path><path aria-label=\"x1: 0.0888199060583; x2: -0.230890444036; y: 1\" role=\"graphics-symbol\" aria-roledescription=\"circle\" transform=\"translate(83.55279624233197,111.5445222017811)\" d=\"M2.7386127875258306,0A2.7386127875258306,2.7386127875258306,0,1,1,-2.7386127875258306,0A2.7386127875258306,2.7386127875258306,0,1,1,2.7386127875258306,0\" fill=\"#f58518\" stroke-width=\"2\" opacity=\"0.7\"></path><path aria-label=\"x1: 0.604738622269; x2: -0.487897081046; y: 1\" role=\"graphics-symbol\" aria-roledescription=\"circle\" transform=\"translate(104.18954489075256,124.39485405228466)\" d=\"M2.7386127875258306,0A2.7386127875258306,2.7386127875258306,0,1,1,-2.7386127875258306,0A2.7386127875258306,2.7386127875258306,0,1,1,2.7386127875258306,0\" fill=\"#f58518\" stroke-width=\"2\" opacity=\"0.7\"></path><path aria-label=\"x1: -1.38785083183; x2: 0.516453231377; y: 0\" role=\"graphics-symbol\" aria-roledescription=\"circle\" transform=\"translate(24.485966726882307,74.17733843117036)\" d=\"M2.7386127875258306,0A2.7386127875258306,2.7386127875258306,0,1,1,-2.7386127875258306,0A2.7386127875258306,2.7386127875258306,0,1,1,2.7386127875258306,0\" fill=\"#4c78a8\" stroke-width=\"2\" opacity=\"0.7\"></path><path aria-label=\"x1: 0.373072804546; x2: -0.0930373227766; y: 1\" role=\"graphics-symbol\" aria-roledescription=\"circle\" transform=\"translate(94.92291218185102,104.65186613882977)\" d=\"M2.7386127875258306,0A2.7386127875258306,2.7386127875258306,0,1,1,-2.7386127875258306,0A2.7386127875258306,2.7386127875258306,0,1,1,2.7386127875258306,0\" fill=\"#f58518\" stroke-width=\"2\" opacity=\"0.7\"></path><path aria-label=\"x1: 1.63715209965; x2: -0.65385412062; y: 1\" role=\"graphics-symbol\" aria-roledescription=\"circle\" transform=\"translate(145.48608398608135,132.6927060309766)\" d=\"M2.7386127875258306,0A2.7386127875258306,2.7386127875258306,0,1,1,-2.7386127875258306,0A2.7386127875258306,2.7386127875258306,0,1,1,2.7386127875258306,0\" fill=\"#f58518\" stroke-width=\"2\" opacity=\"0.7\"></path><path aria-label=\"x1: 1.88103408223; x2: -1.70714527572; y: 1\" role=\"graphics-symbol\" aria-roledescription=\"circle\" transform=\"translate(155.2413632892648,185.3572637860474)\" d=\"M2.7386127875258306,0A2.7386127875258306,2.7386127875258306,0,1,1,-2.7386127875258306,0A2.7386127875258306,2.7386127875258306,0,1,1,2.7386127875258306,0\" fill=\"#f58518\" stroke-width=\"2\" opacity=\"0.7\"></path><path aria-label=\"x1: 0.20701231421; x2: -0.696784132945; y: 1\" role=\"graphics-symbol\" aria-roledescription=\"circle\" transform=\"translate(88.28049256841648,134.83920664722925)\" d=\"M2.7386127875258306,0A2.7386127875258306,2.7386127875258306,0,1,1,-2.7386127875258306,0A2.7386127875258306,2.7386127875258306,0,1,1,2.7386127875258306,0\" fill=\"#f58518\" stroke-width=\"2\" opacity=\"0.7\"></path><path aria-label=\"x1: 2.1489578198; x2: -0.515043094085; y: 1\" role=\"graphics-symbol\" aria-roledescription=\"circle\" transform=\"translate(165.95831279204717,125.75215470424746)\" d=\"M2.7386127875258306,0A2.7386127875258306,2.7386127875258306,0,1,1,-2.7386127875258306,0A2.7386127875258306,2.7386127875258306,0,1,1,2.7386127875258306,0\" fill=\"#f58518\" stroke-width=\"2\" opacity=\"0.7\"></path><path aria-label=\"x1: 1.6644669352; x2: -0.511093026766; y: 1\" role=\"graphics-symbol\" aria-roledescription=\"circle\" transform=\"translate(146.57867740799588,125.55465133830828)\" d=\"M2.7386127875258306,0A2.7386127875258306,2.7386127875258306,0,1,1,-2.7386127875258306,0A2.7386127875258306,2.7386127875258306,0,1,1,2.7386127875258306,0\" fill=\"#f58518\" stroke-width=\"2\" opacity=\"0.7\"></path><path aria-label=\"x1: 1.95598439579; x2: 0.515552613399; y: 1\" role=\"graphics-symbol\" aria-roledescription=\"circle\" transform=\"translate(158.23937583151312,74.22236933004945)\" d=\"M2.7386127875258306,0A2.7386127875258306,2.7386127875258306,0,1,1,-2.7386127875258306,0A2.7386127875258306,2.7386127875258306,0,1,1,2.7386127875258306,0\" fill=\"#f58518\" stroke-width=\"2\" opacity=\"0.7\"></path><path aria-label=\"x1: 1.29490814016; x2: -0.506447536955; y: 1\" role=\"graphics-symbol\" aria-roledescription=\"circle\" transform=\"translate(131.7963256063845,125.32237684773216)\" d=\"M2.7386127875258306,0A2.7386127875258306,2.7386127875258306,0,1,1,-2.7386127875258306,0A2.7386127875258306,2.7386127875258306,0,1,1,2.7386127875258306,0\" fill=\"#f58518\" stroke-width=\"2\" opacity=\"0.7\"></path><path aria-label=\"x1: 0.518458165286; x2: -0.989505291533; y: 1\" role=\"graphics-symbol\" aria-roledescription=\"circle\" transform=\"translate(100.7383266114543,149.47526457667078)\" d=\"M2.7386127875258306,0A2.7386127875258306,2.7386127875258306,0,1,1,-2.7386127875258306,0A2.7386127875258306,2.7386127875258306,0,1,1,2.7386127875258306,0\" fill=\"#f58518\" stroke-width=\"2\" opacity=\"0.7\"></path><path aria-label=\"x1: 0.0729862186468; x2: 0.099892050871; y: 1\" role=\"graphics-symbol\" aria-roledescription=\"circle\" transform=\"translate(82.91944874587186,95.00539745644956)\" d=\"M2.7386127875258306,0A2.7386127875258306,2.7386127875258306,0,1,1,-2.7386127875258306,0A2.7386127875258306,2.7386127875258306,0,1,1,2.7386127875258306,0\" fill=\"#f58518\" stroke-width=\"2\" opacity=\"0.7\"></path><path aria-label=\"x1: 0.20044449203; x2: -0.577808867592; y: 1\" role=\"graphics-symbol\" aria-roledescription=\"circle\" transform=\"translate(88.01777968119463,128.8904433796248)\" d=\"M2.7386127875258306,0A2.7386127875258306,2.7386127875258306,0,1,1,-2.7386127875258306,0A2.7386127875258306,2.7386127875258306,0,1,1,2.7386127875258306,0\" fill=\"#f58518\" stroke-width=\"2\" opacity=\"0.7\"></path><path aria-label=\"x1: -0.459874304421; x2: 1.48464613593; y: 0\" role=\"graphics-symbol\" aria-roledescription=\"circle\" transform=\"translate(61.60502782314262,25.767693203664766)\" d=\"M2.7386127875258306,0A2.7386127875258306,2.7386127875258306,0,1,1,-2.7386127875258306,0A2.7386127875258306,2.7386127875258306,0,1,1,2.7386127875258306,0\" fill=\"#4c78a8\" stroke-width=\"2\" opacity=\"0.7\"></path><path aria-label=\"x1: -0.362521547278; x2: 0.416398713876; y: 0\" role=\"graphics-symbol\" aria-roledescription=\"circle\" transform=\"translate(65.49913810887247,79.18006430620039)\" d=\"M2.7386127875258306,0A2.7386127875258306,2.7386127875258306,0,1,1,-2.7386127875258306,0A2.7386127875258306,2.7386127875258306,0,1,1,2.7386127875258306,0\" fill=\"#4c78a8\" stroke-width=\"2\" opacity=\"0.7\"></path><path aria-label=\"x1: 0.97243752632; x2: -1.29067365633; y: 1\" role=\"graphics-symbol\" aria-roledescription=\"circle\" transform=\"translate(118.89750105278819,164.5336828162998)\" d=\"M2.7386127875258306,0A2.7386127875258306,2.7386127875258306,0,1,1,-2.7386127875258306,0A2.7386127875258306,2.7386127875258306,0,1,1,2.7386127875258306,0\" fill=\"#f58518\" stroke-width=\"2\" opacity=\"0.7\"></path><path aria-label=\"x1: -1.04457954415; x2: 0.515244112365; y: 0\" role=\"graphics-symbol\" aria-roledescription=\"circle\" transform=\"translate(38.216818233901385,74.23779438176736)\" d=\"M2.7386127875258306,0A2.7386127875258306,2.7386127875258306,0,1,1,-2.7386127875258306,0A2.7386127875258306,2.7386127875258306,0,1,1,2.7386127875258306,0\" fill=\"#4c78a8\" stroke-width=\"2\" opacity=\"0.7\"></path><path aria-label=\"x1: -0.916176322773; x2: 1.92996631634; y: 0\" role=\"graphics-symbol\" aria-roledescription=\"circle\" transform=\"translate(43.3529470890811,3.501684183145737)\" d=\"M2.7386127875258306,0A2.7386127875258306,2.7386127875258306,0,1,1,-2.7386127875258306,0A2.7386127875258306,2.7386127875258306,0,1,1,2.7386127875258306,0\" fill=\"#4c78a8\" stroke-width=\"2\" opacity=\"0.7\"></path><path aria-label=\"x1: -0.0958370050521; x2: -0.452055105592; y: 0\" role=\"graphics-symbol\" aria-roledescription=\"circle\" transform=\"translate(76.16651979791585,122.60275527958918)\" d=\"M2.7386127875258306,0A2.7386127875258306,2.7386127875258306,0,1,1,-2.7386127875258306,0A2.7386127875258306,2.7386127875258306,0,1,1,2.7386127875258306,0\" fill=\"#4c78a8\" stroke-width=\"2\" opacity=\"0.7\"></path><path aria-label=\"x1: 0.961573650182; x2: -1.23154019537; y: 1\" role=\"graphics-symbol\" aria-roledescription=\"circle\" transform=\"translate(118.46294600726269,161.57700976854412)\" d=\"M2.7386127875258306,0A2.7386127875258306,2.7386127875258306,0,1,1,-2.7386127875258306,0A2.7386127875258306,2.7386127875258306,0,1,1,2.7386127875258306,0\" fill=\"#f58518\" stroke-width=\"2\" opacity=\"0.7\"></path><path aria-label=\"x1: 0.833219410626; x2: -0.567666956694; y: 1\" role=\"graphics-symbol\" aria-roledescription=\"circle\" transform=\"translate(113.32877642503915,128.38334783472257)\" d=\"M2.7386127875258306,0A2.7386127875258306,2.7386127875258306,0,1,1,-2.7386127875258306,0A2.7386127875258306,2.7386127875258306,0,1,1,2.7386127875258306,0\" fill=\"#f58518\" stroke-width=\"2\" opacity=\"0.7\"></path><path aria-label=\"x1: -1.10618160011; x2: -0.258147762881; y: 0\" role=\"graphics-symbol\" aria-roledescription=\"circle\" transform=\"translate(35.752735995719874,112.90738814402926)\" d=\"M2.7386127875258306,0A2.7386127875258306,2.7386127875258306,0,1,1,-2.7386127875258306,0A2.7386127875258306,2.7386127875258306,0,1,1,2.7386127875258306,0\" fill=\"#4c78a8\" stroke-width=\"2\" opacity=\"0.7\"></path><path aria-label=\"x1: -1.50076141771; x2: 0.878213084243; y: 0\" role=\"graphics-symbol\" aria-roledescription=\"circle\" transform=\"translate(19.969543291752654,56.08934578787084)\" d=\"M2.7386127875258306,0A2.7386127875258306,2.7386127875258306,0,1,1,-2.7386127875258306,0A2.7386127875258306,2.7386127875258306,0,1,1,2.7386127875258306,0\" fill=\"#4c78a8\" stroke-width=\"2\" opacity=\"0.7\"></path><path aria-label=\"x1: -0.292221001337; x2: 1.89847366194; y: 0\" role=\"graphics-symbol\" aria-roledescription=\"circle\" transform=\"translate(68.31115994652397,5.076316902992328)\" d=\"M2.7386127875258306,0A2.7386127875258306,2.7386127875258306,0,1,1,-2.7386127875258306,0A2.7386127875258306,2.7386127875258306,0,1,1,2.7386127875258306,0\" fill=\"#4c78a8\" stroke-width=\"2\" opacity=\"0.7\"></path><path aria-label=\"x1: 0.340065210417; x2: 1.36506729697; y: 0\" role=\"graphics-symbol\" aria-roledescription=\"circle\" transform=\"translate(93.60260841669275,31.746635151738012)\" d=\"M2.7386127875258306,0A2.7386127875258306,2.7386127875258306,0,1,1,-2.7386127875258306,0A2.7386127875258306,2.7386127875258306,0,1,1,2.7386127875258306,0\" fill=\"#4c78a8\" stroke-width=\"2\" opacity=\"0.7\"></path><path aria-label=\"x1: -0.489720639104; x2: 0.267027023941; y: 0\" role=\"graphics-symbol\" aria-roledescription=\"circle\" transform=\"translate(60.411174435829196,86.64864880296597)\" d=\"M2.7386127875258306,0A2.7386127875258306,2.7386127875258306,0,1,1,-2.7386127875258306,0A2.7386127875258306,2.7386127875258306,0,1,1,2.7386127875258306,0\" fill=\"#4c78a8\" stroke-width=\"2\" opacity=\"0.7\"></path><path aria-label=\"x1: -0.278028288107; x2: 0.787355757765; y: 0\" role=\"graphics-symbol\" aria-roledescription=\"circle\" transform=\"translate(68.87886847572038,60.6322121117671)\" d=\"M2.7386127875258306,0A2.7386127875258306,2.7386127875258306,0,1,1,-2.7386127875258306,0A2.7386127875258306,2.7386127875258306,0,1,1,2.7386127875258306,0\" fill=\"#4c78a8\" stroke-width=\"2\" opacity=\"0.7\"></path><path aria-label=\"x1: 1.86650289393; x2: 0.22586349925; y: 1\" role=\"graphics-symbol\" aria-roledescription=\"circle\" transform=\"translate(154.6601157572835,88.70682503749865)\" d=\"M2.7386127875258306,0A2.7386127875258306,2.7386127875258306,0,1,1,-2.7386127875258306,0A2.7386127875258306,2.7386127875258306,0,1,1,2.7386127875258306,0\" fill=\"#f58518\" stroke-width=\"2\" opacity=\"0.7\"></path><path aria-label=\"x1: 1.07656696803; x2: -0.332428807134; y: 1\" role=\"graphics-symbol\" aria-roledescription=\"circle\" transform=\"translate(123.06267872133563,116.62144035670809)\" d=\"M2.7386127875258306,0A2.7386127875258306,2.7386127875258306,0,1,1,-2.7386127875258306,0A2.7386127875258306,2.7386127875258306,0,1,1,2.7386127875258306,0\" fill=\"#f58518\" stroke-width=\"2\" opacity=\"0.7\"></path><path aria-label=\"x1: 0.483525035365; x2: 1.22776616965; y: 0\" role=\"graphics-symbol\" aria-roledescription=\"circle\" transform=\"translate(99.34100141461467,38.61169151769484)\" d=\"M2.7386127875258306,0A2.7386127875258306,2.7386127875258306,0,1,1,-2.7386127875258306,0A2.7386127875258306,2.7386127875258306,0,1,1,2.7386127875258306,0\" fill=\"#4c78a8\" stroke-width=\"2\" opacity=\"0.7\"></path><path aria-label=\"x1: -0.223442689805; x2: 1.13335895683; y: 1\" role=\"graphics-symbol\" aria-roledescription=\"circle\" transform=\"translate(71.06229240781317,43.33205215839819)\" d=\"M2.7386127875258306,0A2.7386127875258306,2.7386127875258306,0,1,1,-2.7386127875258306,0A2.7386127875258306,2.7386127875258306,0,1,1,2.7386127875258306,0\" fill=\"#f58518\" stroke-width=\"2\" opacity=\"0.7\"></path><path aria-label=\"x1: 0.911839254692; x2: 0.299154850568; y: 1\" role=\"graphics-symbol\" aria-roledescription=\"circle\" transform=\"translate(116.4735701876776,85.04225747157523)\" d=\"M2.7386127875258306,0A2.7386127875258306,2.7386127875258306,0,1,1,-2.7386127875258306,0A2.7386127875258306,2.7386127875258306,0,1,1,2.7386127875258306,0\" fill=\"#f58518\" stroke-width=\"2\" opacity=\"0.7\"></path><path aria-label=\"x1: -0.847000458223; x2: -0.691358381209; y: 1\" role=\"graphics-symbol\" aria-roledescription=\"circle\" transform=\"translate(46.119981671095175,134.5679190604736)\" d=\"M2.7386127875258306,0A2.7386127875258306,2.7386127875258306,0,1,1,-2.7386127875258306,0A2.7386127875258306,2.7386127875258306,0,1,1,2.7386127875258306,0\" fill=\"#f58518\" stroke-width=\"2\" opacity=\"0.7\"></path><path aria-label=\"x1: -1.12231184683; x2: 0.0858691039341; y: 0\" role=\"graphics-symbol\" aria-roledescription=\"circle\" transform=\"translate(35.107526126613564,95.70654480329407)\" d=\"M2.7386127875258306,0A2.7386127875258306,2.7386127875258306,0,1,1,-2.7386127875258306,0A2.7386127875258306,2.7386127875258306,0,1,1,2.7386127875258306,0\" fill=\"#4c78a8\" stroke-width=\"2\" opacity=\"0.7\"></path><path aria-label=\"x1: 1.26552836003; x2: -0.792457277526; y: 1\" role=\"graphics-symbol\" aria-roledescription=\"circle\" transform=\"translate(130.62113440125327,139.62286387628762)\" d=\"M2.7386127875258306,0A2.7386127875258306,2.7386127875258306,0,1,1,-2.7386127875258306,0A2.7386127875258306,2.7386127875258306,0,1,1,2.7386127875258306,0\" fill=\"#f58518\" stroke-width=\"2\" opacity=\"0.7\"></path><path aria-label=\"x1: 1.85953592751; x2: -0.0793351667953; y: 1\" role=\"graphics-symbol\" aria-roledescription=\"circle\" transform=\"translate(154.38143710023553,103.966758339763)\" d=\"M2.7386127875258306,0A2.7386127875258306,2.7386127875258306,0,1,1,-2.7386127875258306,0A2.7386127875258306,2.7386127875258306,0,1,1,2.7386127875258306,0\" fill=\"#f58518\" stroke-width=\"2\" opacity=\"0.7\"></path><path aria-label=\"x1: 1.15634606373; x2: -0.376866746408; y: 0\" role=\"graphics-symbol\" aria-roledescription=\"circle\" transform=\"translate(126.25384254939252,118.84333732041985)\" d=\"M2.7386127875258306,0A2.7386127875258306,2.7386127875258306,0,1,1,-2.7386127875258306,0A2.7386127875258306,2.7386127875258306,0,1,1,2.7386127875258306,0\" fill=\"#4c78a8\" stroke-width=\"2\" opacity=\"0.7\"></path></g><g class=\"mark-group role-legend\" role=\"graphics-symbol\" aria-roledescription=\"legend\" aria-label=\"Symbol legend titled 'y' for fill color with 2 values: 0, 1\"><g transform=\"translate(218,0)\"><path class=\"background\" aria-hidden=\"true\" d=\"M0,0h21v40h-21Z\" pointer-events=\"none\"></path><g><g class=\"mark-group role-legend-entry\"><g transform=\"translate(0,16)\"><path class=\"background\" aria-hidden=\"true\" d=\"M0,0h0v0h0Z\" pointer-events=\"none\"></path><g><g class=\"mark-group role-scope\" role=\"graphics-object\" aria-roledescription=\"group mark container\"><g transform=\"translate(0,0)\"><path class=\"background\" aria-hidden=\"true\" d=\"M0,0h21v11h-21Z\" pointer-events=\"none\" opacity=\"1\"></path><g><g class=\"mark-symbol role-legend-symbol\" pointer-events=\"none\"><path transform=\"translate(6,6)\" d=\"M5,0A5,5,0,1,1,-5,0A5,5,0,1,1,5,0\" fill=\"#4c78a8\" stroke-width=\"1.5\" opacity=\"0.7\"></path></g><g class=\"mark-text role-legend-label\" pointer-events=\"none\"><text text-anchor=\"start\" transform=\"translate(16,9)\" font-family=\"sans-serif\" font-size=\"10px\" fill=\"#000\" opacity=\"1\">0</text></g></g><path class=\"foreground\" aria-hidden=\"true\" d=\"\" pointer-events=\"none\" display=\"none\"></path></g><g transform=\"translate(0,13)\"><path class=\"background\" aria-hidden=\"true\" d=\"M0,0h21v11h-21Z\" pointer-events=\"none\" opacity=\"1\"></path><g><g class=\"mark-symbol role-legend-symbol\" pointer-events=\"none\"><path transform=\"translate(6,6)\" d=\"M5,0A5,5,0,1,1,-5,0A5,5,0,1,1,5,0\" fill=\"#f58518\" stroke-width=\"1.5\" opacity=\"0.7\"></path></g><g class=\"mark-text role-legend-label\" pointer-events=\"none\"><text text-anchor=\"start\" transform=\"translate(16,9)\" font-family=\"sans-serif\" font-size=\"10px\" fill=\"#000\" opacity=\"1\">1</text></g></g><path class=\"foreground\" aria-hidden=\"true\" d=\"\" pointer-events=\"none\" display=\"none\"></path></g></g></g><path class=\"foreground\" aria-hidden=\"true\" d=\"\" pointer-events=\"none\" display=\"none\"></path></g></g><g class=\"mark-text role-legend-title\" pointer-events=\"none\"><text text-anchor=\"start\" transform=\"translate(0,9)\" font-family=\"sans-serif\" font-size=\"11px\" font-weight=\"bold\" fill=\"#000\" opacity=\"1\">y</text></g></g><path class=\"foreground\" aria-hidden=\"true\" d=\"\" pointer-events=\"none\" display=\"none\"></path></g></g></g><path class=\"foreground\" aria-hidden=\"true\" d=\"\" display=\"none\"></path></g></g></g></svg>\n"
      ],
      "text/plain": [
       "@vlplot(\n",
       "    mark=\"circle\",\n",
       "    encoding={\n",
       "        x={\n",
       "            field=\"x1\"\n",
       "        },\n",
       "        y={\n",
       "            field=\"x2\"\n",
       "        },\n",
       "        color={\n",
       "            field=\"y\",\n",
       "            type=\"nominal\"\n",
       "        }\n",
       "    },\n",
       "    data={\n",
       "        values=...\n",
       "    }\n",
       ")"
      ]
     },
     "execution_count": 9,
     "metadata": {},
     "output_type": "execute_result"
    }
   ],
   "source": [
    "dfHalfCircles |> @vlplot(:circle, x=:x1, y=:x2, color = :\"y:n\") "
   ]
  },
  {
   "cell_type": "markdown",
   "metadata": {},
   "source": [
    "## Generating Linear Regression\n",
    "\n",
    "Let us not forget about linear regression.  The function **make_regression** generates data useful to test linear regression models.  The input arguments are:\n",
    "\n",
    "* `intercept=true`:\twhether to generate data from a model with intercept,\n",
    "* `sparse=0`:\t\tportion of the generating weight vector that is sparse,\n",
    "* `noise=0.1`:\t\tstandard deviation of the gaussian noise added to the response,\n",
    "* `outliers=0`:\t\tportion of the response vector to make as outliers by ading a random quantity with high variance. (Only applied if `binary` is `false`)\n",
    "* `binary=false`:\twhether the target should be binarized (via a sigmoid).\n",
    "\n",
    "\n",
    "Next are 5 predictors and target *Y* that can be used for testing in a multivariable linear regression."
   ]
  },
  {
   "cell_type": "code",
   "execution_count": 10,
   "metadata": {},
   "outputs": [
    {
     "data": {
      "text/html": [
       "<table class=\"data-frame\"><thead><tr><th></th><th>x1</th><th>x2</th><th>x3</th><th>x4</th><th>x5</th><th>y</th></tr><tr><th></th><th>Float64</th><th>Float64</th><th>Float64</th><th>Float64</th><th>Float64</th><th>Float64</th></tr></thead><tbody><p>100 rows × 6 columns</p><tr><th>1</th><td>0.719501</td><td>2.02814</td><td>-0.394187</td><td>0.220278</td><td>-0.492069</td><td>-4.11994</td></tr><tr><th>2</th><td>-0.313062</td><td>1.03202</td><td>0.378857</td><td>1.31031</td><td>-0.404306</td><td>-2.3975</td></tr><tr><th>3</th><td>-1.3293</td><td>0.696048</td><td>-0.765997</td><td>1.17801</td><td>0.491798</td><td>-0.310831</td></tr><tr><th>4</th><td>-0.643634</td><td>-0.524536</td><td>0.765439</td><td>0.43294</td><td>1.14025</td><td>2.26331</td></tr><tr><th>5</th><td>-1.19567</td><td>0.593586</td><td>-0.246381</td><td>-0.411864</td><td>0.435686</td><td>0.270744</td></tr><tr><th>6</th><td>0.746536</td><td>-0.600715</td><td>-1.65274</td><td>0.0706253</td><td>1.43854</td><td>3.10131</td></tr><tr><th>7</th><td>-0.468623</td><td>-1.92497</td><td>0.102802</td><td>0.540004</td><td>-1.04083</td><td>4.17229</td></tr><tr><th>8</th><td>-0.120229</td><td>-1.07884</td><td>-2.60317</td><td>-1.30022</td><td>1.04621</td><td>3.1305</td></tr><tr><th>9</th><td>-1.54855</td><td>0.754663</td><td>0.95779</td><td>-0.931267</td><td>-0.351091</td><td>-1.90939</td></tr><tr><th>10</th><td>2.05555</td><td>-2.08312</td><td>2.08616</td><td>-0.298315</td><td>0.369173</td><td>4.48806</td></tr><tr><th>11</th><td>-0.103083</td><td>-2.65866</td><td>-1.26542</td><td>1.36967</td><td>-1.23255</td><td>4.98186</td></tr><tr><th>12</th><td>-0.169778</td><td>-0.363706</td><td>-0.0792501</td><td>0.779084</td><td>1.77651</td><td>2.98397</td></tr><tr><th>13</th><td>0.987934</td><td>-1.19776</td><td>-1.79047</td><td>-0.431914</td><td>0.357396</td><td>32.7513</td></tr><tr><th>14</th><td>0.598906</td><td>1.23987</td><td>0.95994</td><td>0.832544</td><td>-0.990228</td><td>-3.21167</td></tr><tr><th>15</th><td>0.557039</td><td>-0.261003</td><td>-1.41657</td><td>1.46018</td><td>0.855508</td><td>0.902846</td></tr><tr><th>16</th><td>1.28946</td><td>-1.45626</td><td>-0.507334</td><td>0.0161642</td><td>0.575238</td><td>3.29768</td></tr><tr><th>17</th><td>-0.895437</td><td>-0.910544</td><td>0.565866</td><td>0.922252</td><td>-0.838253</td><td>1.86168</td></tr><tr><th>18</th><td>0.594808</td><td>0.239584</td><td>-0.532058</td><td>0.654895</td><td>1.4004</td><td>-0.0707393</td></tr><tr><th>19</th><td>0.851738</td><td>-2.14784</td><td>0.47629</td><td>1.22495</td><td>-0.0450048</td><td>-18.8634</td></tr><tr><th>20</th><td>-1.74797</td><td>-1.18398</td><td>0.00743074</td><td>-0.104415</td><td>0.983197</td><td>3.37287</td></tr><tr><th>21</th><td>0.30705</td><td>-0.972464</td><td>0.700693</td><td>-0.140534</td><td>1.31818</td><td>3.80939</td></tr><tr><th>22</th><td>-0.950069</td><td>1.28566</td><td>1.6587</td><td>-0.86335</td><td>-0.162274</td><td>-2.62606</td></tr><tr><th>23</th><td>0.885289</td><td>0.877291</td><td>-0.423001</td><td>-0.540262</td><td>-1.65002</td><td>-1.91439</td></tr><tr><th>24</th><td>-1.30257</td><td>1.14163</td><td>0.139379</td><td>-0.167148</td><td>0.539385</td><td>-2.22847</td></tr><tr><th>25</th><td>0.560595</td><td>2.63615</td><td>0.81445</td><td>1.89124</td><td>0.142562</td><td>-5.8927</td></tr><tr><th>26</th><td>0.31589</td><td>0.105635</td><td>-0.627545</td><td>0.830487</td><td>-1.89206</td><td>-1.6689</td></tr><tr><th>27</th><td>-0.459024</td><td>-1.2757</td><td>0.415075</td><td>-0.517036</td><td>-1.97611</td><td>1.17051</td></tr><tr><th>28</th><td>0.702882</td><td>0.230906</td><td>-1.53747</td><td>-0.632936</td><td>0.0161813</td><td>-0.762524</td></tr><tr><th>29</th><td>-0.356555</td><td>-0.166312</td><td>0.454073</td><td>-1.13222</td><td>0.993744</td><td>1.69508</td></tr><tr><th>30</th><td>-1.27074</td><td>1.7953</td><td>1.05033</td><td>0.813194</td><td>-0.947359</td><td>-4.04757</td></tr><tr><th>&vellip;</th><td>&vellip;</td><td>&vellip;</td><td>&vellip;</td><td>&vellip;</td><td>&vellip;</td><td>&vellip;</td></tr></tbody></table>"
      ],
      "text/latex": [
       "\\begin{tabular}{r|cccccc}\n",
       "\t& x1 & x2 & x3 & x4 & x5 & y\\\\\n",
       "\t\\hline\n",
       "\t& Float64 & Float64 & Float64 & Float64 & Float64 & Float64\\\\\n",
       "\t\\hline\n",
       "\t1 & 0.719501 & 2.02814 & -0.394187 & 0.220278 & -0.492069 & -4.11994 \\\\\n",
       "\t2 & -0.313062 & 1.03202 & 0.378857 & 1.31031 & -0.404306 & -2.3975 \\\\\n",
       "\t3 & -1.3293 & 0.696048 & -0.765997 & 1.17801 & 0.491798 & -0.310831 \\\\\n",
       "\t4 & -0.643634 & -0.524536 & 0.765439 & 0.43294 & 1.14025 & 2.26331 \\\\\n",
       "\t5 & -1.19567 & 0.593586 & -0.246381 & -0.411864 & 0.435686 & 0.270744 \\\\\n",
       "\t6 & 0.746536 & -0.600715 & -1.65274 & 0.0706253 & 1.43854 & 3.10131 \\\\\n",
       "\t7 & -0.468623 & -1.92497 & 0.102802 & 0.540004 & -1.04083 & 4.17229 \\\\\n",
       "\t8 & -0.120229 & -1.07884 & -2.60317 & -1.30022 & 1.04621 & 3.1305 \\\\\n",
       "\t9 & -1.54855 & 0.754663 & 0.95779 & -0.931267 & -0.351091 & -1.90939 \\\\\n",
       "\t10 & 2.05555 & -2.08312 & 2.08616 & -0.298315 & 0.369173 & 4.48806 \\\\\n",
       "\t11 & -0.103083 & -2.65866 & -1.26542 & 1.36967 & -1.23255 & 4.98186 \\\\\n",
       "\t12 & -0.169778 & -0.363706 & -0.0792501 & 0.779084 & 1.77651 & 2.98397 \\\\\n",
       "\t13 & 0.987934 & -1.19776 & -1.79047 & -0.431914 & 0.357396 & 32.7513 \\\\\n",
       "\t14 & 0.598906 & 1.23987 & 0.95994 & 0.832544 & -0.990228 & -3.21167 \\\\\n",
       "\t15 & 0.557039 & -0.261003 & -1.41657 & 1.46018 & 0.855508 & 0.902846 \\\\\n",
       "\t16 & 1.28946 & -1.45626 & -0.507334 & 0.0161642 & 0.575238 & 3.29768 \\\\\n",
       "\t17 & -0.895437 & -0.910544 & 0.565866 & 0.922252 & -0.838253 & 1.86168 \\\\\n",
       "\t18 & 0.594808 & 0.239584 & -0.532058 & 0.654895 & 1.4004 & -0.0707393 \\\\\n",
       "\t19 & 0.851738 & -2.14784 & 0.47629 & 1.22495 & -0.0450048 & -18.8634 \\\\\n",
       "\t20 & -1.74797 & -1.18398 & 0.00743074 & -0.104415 & 0.983197 & 3.37287 \\\\\n",
       "\t21 & 0.30705 & -0.972464 & 0.700693 & -0.140534 & 1.31818 & 3.80939 \\\\\n",
       "\t22 & -0.950069 & 1.28566 & 1.6587 & -0.86335 & -0.162274 & -2.62606 \\\\\n",
       "\t23 & 0.885289 & 0.877291 & -0.423001 & -0.540262 & -1.65002 & -1.91439 \\\\\n",
       "\t24 & -1.30257 & 1.14163 & 0.139379 & -0.167148 & 0.539385 & -2.22847 \\\\\n",
       "\t25 & 0.560595 & 2.63615 & 0.81445 & 1.89124 & 0.142562 & -5.8927 \\\\\n",
       "\t26 & 0.31589 & 0.105635 & -0.627545 & 0.830487 & -1.89206 & -1.6689 \\\\\n",
       "\t27 & -0.459024 & -1.2757 & 0.415075 & -0.517036 & -1.97611 & 1.17051 \\\\\n",
       "\t28 & 0.702882 & 0.230906 & -1.53747 & -0.632936 & 0.0161813 & -0.762524 \\\\\n",
       "\t29 & -0.356555 & -0.166312 & 0.454073 & -1.13222 & 0.993744 & 1.69508 \\\\\n",
       "\t30 & -1.27074 & 1.7953 & 1.05033 & 0.813194 & -0.947359 & -4.04757 \\\\\n",
       "\t$\\dots$ & $\\dots$ & $\\dots$ & $\\dots$ & $\\dots$ & $\\dots$ & $\\dots$ \\\\\n",
       "\\end{tabular}\n"
      ],
      "text/plain": [
       "100×6 DataFrame. Omitted printing of 1 columns\n",
       "│ Row │ x1        │ x2        │ x3        │ x4         │ x5        │\n",
       "│     │ \u001b[90mFloat64\u001b[39m   │ \u001b[90mFloat64\u001b[39m   │ \u001b[90mFloat64\u001b[39m   │ \u001b[90mFloat64\u001b[39m    │ \u001b[90mFloat64\u001b[39m   │\n",
       "├─────┼───────────┼───────────┼───────────┼────────────┼───────────┤\n",
       "│ 1   │ 0.719501  │ 2.02814   │ -0.394187 │ 0.220278   │ -0.492069 │\n",
       "│ 2   │ -0.313062 │ 1.03202   │ 0.378857  │ 1.31031    │ -0.404306 │\n",
       "│ 3   │ -1.3293   │ 0.696048  │ -0.765997 │ 1.17801    │ 0.491798  │\n",
       "│ 4   │ -0.643634 │ -0.524536 │ 0.765439  │ 0.43294    │ 1.14025   │\n",
       "│ 5   │ -1.19567  │ 0.593586  │ -0.246381 │ -0.411864  │ 0.435686  │\n",
       "│ 6   │ 0.746536  │ -0.600715 │ -1.65274  │ 0.0706253  │ 1.43854   │\n",
       "│ 7   │ -0.468623 │ -1.92497  │ 0.102802  │ 0.540004   │ -1.04083  │\n",
       "│ 8   │ -0.120229 │ -1.07884  │ -2.60317  │ -1.30022   │ 1.04621   │\n",
       "│ 9   │ -1.54855  │ 0.754663  │ 0.95779   │ -0.931267  │ -0.351091 │\n",
       "│ 10  │ 2.05555   │ -2.08312  │ 2.08616   │ -0.298315  │ 0.369173  │\n",
       "⋮\n",
       "│ 90  │ -0.35175  │ -0.433809 │ -0.503905 │ -0.951791  │ 0.262554  │\n",
       "│ 91  │ 0.554136  │ 0.341631  │ 1.0138    │ -0.442362  │ 0.82807   │\n",
       "│ 92  │ 0.866074  │ 1.13285   │ 0.452862  │ 1.1174     │ -0.166543 │\n",
       "│ 93  │ -0.26318  │ -1.21937  │ 0.224385  │ -0.742185  │ -0.187664 │\n",
       "│ 94  │ -1.28564  │ 0.0848335 │ -0.534222 │ -0.154595  │ 0.551465  │\n",
       "│ 95  │ 0.50446   │ -0.165068 │ 1.27557   │ -0.230789  │ -0.737531 │\n",
       "│ 96  │ -0.396227 │ -0.372429 │ -0.541378 │ 0.125703   │ 1.02954   │\n",
       "│ 97  │ 1.00929   │ 1.30734   │ -0.978393 │ 0.260359   │ 1.61216   │\n",
       "│ 98  │ -0.646594 │ 0.210065  │ 0.226703  │ -0.753666  │ 0.877568  │\n",
       "│ 99  │ 0.995084  │ -0.113885 │ -1.02765  │ -0.388493  │ -1.19273  │\n",
       "│ 100 │ -0.354365 │ 0.528577  │ 1.0688    │ -0.0744238 │ 1.01052   │"
      ]
     },
     "execution_count": 10,
     "metadata": {},
     "output_type": "execute_result"
    }
   ],
   "source": [
    "X, y = make_regression(100, 5; noise=0.5, sparse=0.2, outliers=0.1)\n",
    "dfRegression = copy(DataFrame(X))\n",
    "dfRegression.y = y\n",
    "dfRegression"
   ]
  }
 ],
 "metadata": {
  "kernelspec": {
   "display_name": "Julia 1.4.2",
   "language": "julia",
   "name": "julia-1.4"
  },
  "language_info": {
   "file_extension": ".jl",
   "mimetype": "application/julia",
   "name": "julia",
   "version": "1.4.2"
  }
 },
 "nbformat": 4,
 "nbformat_minor": 4
}
