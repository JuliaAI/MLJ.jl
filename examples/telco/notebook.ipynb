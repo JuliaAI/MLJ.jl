{
 "cells": [
  {
   "cell_type": "markdown",
   "metadata": {},
   "source": [
    "# MLJ for Data Scientists in Two Hours"
   ]
  },
  {
   "cell_type": "markdown",
   "metadata": {},
   "source": [
    "An application of the [MLJ\n",
    "toolbox](https://alan-turing-institute.github.io/MLJ.jl/dev/) to the\n",
    "Telco Customer Churn dataset, aimed at practicing data scientists\n",
    "new to MLJ (Machine Learning in Julia). This tutorial does not\n",
    "cover exploratory data analysis."
   ]
  },
  {
   "cell_type": "markdown",
   "metadata": {},
   "source": [
    "MLJ is a *multi-paradigm* machine learning toolbox (i.e., not just\n",
    "deep-learning)."
   ]
  },
  {
   "cell_type": "markdown",
   "metadata": {},
   "source": [
    "For other MLJ learning resources see the [Learning\n",
    "MLJ](https://alan-turing-institute.github.io/MLJ.jl/dev/learning_mlj/)\n",
    "section of the\n",
    "[manual](https://alan-turing-institute.github.io/MLJ.jl/dev/)."
   ]
  },
  {
   "cell_type": "markdown",
   "metadata": {},
   "source": [
    "**Topics covered**: Grabbing and preparing a dataset, basic\n",
    "fit/predict workflow, constructing a pipeline to include data\n",
    "pre-processing, estimating performance metrics, ROC curves, confusion\n",
    "matrices, feature importance, basic feature selection, controlling iterative\n",
    "models, hyper-parameter optimization (tuning)."
   ]
  },
  {
   "cell_type": "markdown",
   "metadata": {},
   "source": [
    "**Prerequisites for this tutorial.** Previous experience building,\n",
    "evaluating, and optimizing machine learning models using\n",
    "scikit-learn, caret, MLR, weka, or similar tool. No previous\n",
    "experience with MLJ. Only fairly basic familiarity with Julia is\n",
    "required. Uses\n",
    "[DataFrames.jl](https://dataframes.juliadata.org/stable/) but in a\n",
    "minimal way ([this\n",
    "cheatsheet](https://ahsmart.com/pub/data-wrangling-with-data-frames-jl-cheat-sheet/index.html)\n",
    "may help)."
   ]
  },
  {
   "cell_type": "markdown",
   "metadata": {},
   "source": [
    "**Time.** Between two and three hours, first time through."
   ]
  },
  {
   "cell_type": "markdown",
   "metadata": {},
   "source": [
    "## Summary of methods and types introduced"
   ]
  },
  {
   "cell_type": "markdown",
   "metadata": {},
   "source": [
    "|code   | purpose|\n",
    "|:-------|:-------------------------------------------------------|\n",
    "|`OpenML.load(id)` | grab a dataset from [OpenML.org](https://www.openml.org)|\n",
    "|`scitype(X)`      | inspect the scientific type (scitype) of object `X`|\n",
    "|`schema(X)`       | inspect the column scitypes (scientific types) of a table `X`|\n",
    "|`coerce(X, ...)`   | fix column encodings to get appropriate scitypes|\n",
    "|`partition(data, frac1, frac2, ...; rng=...)` | vertically split `data`, which can be a table, vector or matrix|\n",
    "|`unpack(table, f1, f2, ...)` | horizontally split `table` based on conditions `f1`, `f2`, ..., applied to column names|\n",
    "|`@load ModelType pkg=...`           | load code defining a model type|\n",
    "|`input_scitype(model)` | inspect the scitype that a model requires for features (inputs)|\n",
    "|`target_scitype(model)`| inspect the scitype that a model requires for the target (labels)|\n",
    "|`ContinuousEncoder`   | built-in model type for re-encoding all features as `Continuous`|# |`model1 |> model2` |> ...` | combine multiple models into a pipeline\n",
    "| `measures(\"under curve\")` | list all measures (metrics) with string \"under curve\" in documentation\n",
    "| `accuracy(yhat, y)` | compute accuracy of predictions `yhat` against ground truth observations `y`\n",
    "| `auc(yhat, y)`, `brier_loss(yhat, y)` | evaluate two probabilistic measures (`yhat` a vector of probability distributions)\n",
    "| `machine(model, X, y)` | bind `model` to training data `X` (features) and `y` (target)\n",
    "| `fit!(mach, rows=...)` | train machine using specified rows (observation indices)\n",
    "| `predict(mach, rows=...)`, | make in-sample model predictions given specified rows\n",
    "| `predict(mach, Xnew)` | make predictions given new features `Xnew`\n",
    "| `fitted_params(mach)` | inspect learned parameters\n",
    "| `report(mach)`        | inspect other outcomes of training\n",
    "| `confmat(yhat, y)`    | confusion matrix for predictions `yhat` and ground truth `y`\n",
    "| `roc(yhat, y)` | compute points on the receiver-operator Characteristic\n",
    "| `StratifiedCV(nfolds=6)` | 6-fold stratified cross-validation resampling strategy\n",
    "| `Holdout(fraction_train=0.7)` | holdout resampling strategy\n",
    "| `evaluate(model, X, y; resampling=..., options...)` | estimate performance metrics `model` using the data `X`, `y`\n",
    "| `FeatureSelector()` | transformer for selecting features\n",
    "| `Step(3)` | iteration control for stepping 3 iterations\n",
    "| `NumberSinceBest(6)`, `TimeLimit(60/5), InvalidValue()` | iteration control stopping criteria\n",
    "| `IteratedModel(model=..., controls=..., options...)` | wrap an iterative `model` in control strategies\n",
    "| `range(model,  :some_hyperparam, lower=..., upper=...)` | define a numeric range\n",
    "| `RandomSearch()` | random search tuning strategy\n",
    "| `TunedModel(model=..., tuning=..., options...)` | wrap the supervised `model` in specified `tuning` strategy"
   ]
  },
  {
   "cell_type": "markdown",
   "metadata": {},
   "source": [
    "## Instantiate a Julia environment"
   ]
  },
  {
   "cell_type": "markdown",
   "metadata": {},
   "source": [
    "The following code replicates precisely the set of Julia packages\n",
    "used to develop this tutorial. If this is your first time running\n",
    "the notebook, package instantiation and pre-compilation may take a\n",
    "minute or so to complete. **This step will fail** if the [correct\n",
    "Manifest.toml and Project.toml\n",
    "files](https://github.com/alan-turing-institute/MLJ.jl/tree/dev/examples/telco)\n",
    "are not in the same directory as this notebook."
   ]
  },
  {
   "cell_type": "code",
   "execution_count": 1,
   "metadata": {
    "collapsed": true
   },
   "outputs": [
    {
     "name": "stderr",
     "output_type": "stream",
     "text": [
      "\u001b[32m\u001b[1m  Activating\u001b[22m\u001b[39m environment at `~/GoogleDrive/Julia/MLJ/MLJ/examples/telco/Project.toml`\n",
      "\u001b[32m\u001b[1mPrecompiling\u001b[22m\u001b[39m project...\n",
      "\u001b[32m  ✓ \u001b[39mPlots\n",
      "  1 dependency successfully precompiled in 48 seconds (204 already precompiled)\n"
     ]
    }
   ],
   "source": [
    "using Pkg\n",
    "Pkg.activate(@__DIR__) # get env from TOML files in same directory as this notebook\n",
    "Pkg.instantiate()"
   ]
  },
  {
   "cell_type": "markdown",
   "metadata": {},
   "source": [
    "## Warm up: Building a model for the iris dataset"
   ]
  },
  {
   "cell_type": "markdown",
   "metadata": {},
   "source": [
    "Before turning to the Telco Customer Churn dataset, we very quickly\n",
    "build a predictive model for Fisher's well-known iris data set, as way of\n",
    "introducing the main actors in any MLJ workflow. Details that you\n",
    "don't fully grasp should become clearer in the Telco study."
   ]
  },
  {
   "cell_type": "markdown",
   "metadata": {},
   "source": [
    "This section is a condensed adaption of the [Getting Started\n",
    "example](https://alan-turing-institute.github.io/MLJ.jl/dev/getting_started/#Fit-and-predict)\n",
    "in the MLJ documentation."
   ]
  },
  {
   "cell_type": "markdown",
   "metadata": {},
   "source": [
    "First, using the built-in iris dataset, we load and inspect the features\n",
    "`X_iris` (a table) and target variable `y_iris` (a vector):"
   ]
  },
  {
   "cell_type": "code",
   "execution_count": 2,
   "metadata": {},
   "outputs": [],
   "source": [
    "using MLJ"
   ]
  },
  {
   "cell_type": "code",
   "execution_count": 3,
   "metadata": {},
   "outputs": [
    {
     "data": {
      "text/plain": [
       "┌──────────────┬────────────┬─────────┐\n",
       "│\u001b[22m names        \u001b[0m│\u001b[22m scitypes   \u001b[0m│\u001b[22m types   \u001b[0m│\n",
       "├──────────────┼────────────┼─────────┤\n",
       "│ sepal_length │ Continuous │ Float64 │\n",
       "│ sepal_width  │ Continuous │ Float64 │\n",
       "│ petal_length │ Continuous │ Float64 │\n",
       "│ petal_width  │ Continuous │ Float64 │\n",
       "└──────────────┴────────────┴─────────┘\n"
      ]
     },
     "execution_count": 3,
     "metadata": {},
     "output_type": "execute_result"
    }
   ],
   "source": [
    "const X_iris, y_iris = @load_iris;\n",
    "schema(X_iris)"
   ]
  },
  {
   "cell_type": "code",
   "execution_count": 4,
   "metadata": {},
   "outputs": [
    {
     "data": {
      "text/plain": [
       "4-element CategoricalArrays.CategoricalArray{String,1,UInt32}:\n",
       " \"setosa\"\n",
       " \"setosa\"\n",
       " \"setosa\"\n",
       " \"setosa\""
      ]
     },
     "execution_count": 4,
     "metadata": {},
     "output_type": "execute_result"
    }
   ],
   "source": [
    "y_iris[1:4]"
   ]
  },
  {
   "cell_type": "code",
   "execution_count": 5,
   "metadata": {},
   "outputs": [
    {
     "data": {
      "text/plain": [
       "3-element Vector{String}:\n",
       " \"setosa\"\n",
       " \"versicolor\"\n",
       " \"virginica\""
      ]
     },
     "execution_count": 5,
     "metadata": {},
     "output_type": "execute_result"
    }
   ],
   "source": [
    "levels(y_iris)"
   ]
  },
  {
   "cell_type": "markdown",
   "metadata": {},
   "source": [
    "We load a decision tree model, from the package DecisionTree.jl:"
   ]
  },
  {
   "cell_type": "code",
   "execution_count": 6,
   "metadata": {},
   "outputs": [
    {
     "name": "stderr",
     "output_type": "stream",
     "text": [
      "┌ Info: For silent loading, specify `verbosity=0`. \n",
      "└ @ Main /Users/anthony/.julia/packages/MLJModels/38NmP/src/loading.jl:168\n"
     ]
    },
    {
     "name": "stdout",
     "output_type": "stream",
     "text": [
      "import MLJDecisionTreeInterface ✔\n"
     ]
    },
    {
     "data": {
      "text/plain": [
       "DecisionTreeClassifier(\n",
       "    max_depth = -1,\n",
       "    min_samples_leaf = 1,\n",
       "    min_samples_split = 5,\n",
       "    min_purity_increase = 0.0,\n",
       "    n_subfeatures = 0,\n",
       "    post_prune = false,\n",
       "    merge_purity_threshold = 1.0,\n",
       "    display_depth = 5,\n",
       "    rng = Random._GLOBAL_RNG())"
      ]
     },
     "execution_count": 6,
     "metadata": {},
     "output_type": "execute_result"
    }
   ],
   "source": [
    "DecisionTree = @load DecisionTreeClassifier pkg=DecisionTree # model type\n",
    "model = DecisionTree(min_samples_split=5)                    # model instance"
   ]
  },
  {
   "cell_type": "markdown",
   "metadata": {},
   "source": [
    "In MLJ, a *model* is just a container for hyper-parameters of\n",
    "some learning algorithm. It does not store learned parameters."
   ]
  },
  {
   "cell_type": "markdown",
   "metadata": {},
   "source": [
    "Next, we bind the model together with the available data in what's\n",
    "called a *machine*:"
   ]
  },
  {
   "cell_type": "code",
   "execution_count": 7,
   "metadata": {},
   "outputs": [
    {
     "data": {
      "text/plain": [
       "Machine{DecisionTreeClassifier,…} trained 0 times; caches data\n",
       "  model: MLJDecisionTreeInterface.DecisionTreeClassifier\n",
       "  args: \n",
       "    1:\tSource @355 ⏎ `Table{AbstractVector{Continuous}}`\n",
       "    2:\tSource @137 ⏎ `AbstractVector{Multiclass{3}}`\n"
      ]
     },
     "execution_count": 7,
     "metadata": {},
     "output_type": "execute_result"
    }
   ],
   "source": [
    "mach = machine(model, X_iris, y_iris)"
   ]
  },
  {
   "cell_type": "markdown",
   "metadata": {},
   "source": [
    "A machine is essentially just a model (ie, hyper-parameters) plus data, but\n",
    "it additionally stores *learned parameters* (the tree) once it is\n",
    "trained on some view of the data:"
   ]
  },
  {
   "cell_type": "code",
   "execution_count": 8,
   "metadata": {},
   "outputs": [
    {
     "name": "stderr",
     "output_type": "stream",
     "text": [
      "┌ Info: Training Machine{DecisionTreeClassifier,…}.\n",
      "└ @ MLJBase /Users/anthony/.julia/packages/MLJBase/hHa7b/src/machines.jl:464\n"
     ]
    },
    {
     "data": {
      "text/plain": [
       "(tree = Decision Tree\n",
       "Leaves: 5\n",
       "Depth:  3,\n",
       " encoding = Dict{CategoricalArrays.CategoricalValue{String, UInt32}, UInt32}(\"virginica\" => 0x00000003, \"setosa\" => 0x00000001, \"versicolor\" => 0x00000002),\n",
       " features = [:sepal_length, :sepal_width, :petal_length, :petal_width],)"
      ]
     },
     "execution_count": 8,
     "metadata": {},
     "output_type": "execute_result"
    }
   ],
   "source": [
    "train_rows = vcat(1:60, 91:150); # some row indices (observations are rows not columns)\n",
    "fit!(mach, rows=train_rows)\n",
    "fitted_params(mach)"
   ]
  },
  {
   "cell_type": "markdown",
   "metadata": {},
   "source": [
    "A machine stores some other information enabling [warm\n",
    "restart](https://alan-turing-institute.github.io/MLJ.jl/dev/machines/#Warm-restarts)\n",
    "for some models, but we won't go into that here. You are allowed to\n",
    "access and mutate the `model` parameter:"
   ]
  },
  {
   "cell_type": "code",
   "execution_count": 9,
   "metadata": {},
   "outputs": [
    {
     "name": "stderr",
     "output_type": "stream",
     "text": [
      "┌ Info: Updating Machine{DecisionTreeClassifier,…}.\n",
      "└ @ MLJBase /Users/anthony/.julia/packages/MLJBase/hHa7b/src/machines.jl:465\n"
     ]
    },
    {
     "data": {
      "text/plain": [
       "Machine{DecisionTreeClassifier,…} trained 2 times; caches data\n",
       "  model: MLJDecisionTreeInterface.DecisionTreeClassifier\n",
       "  args: \n",
       "    1:\tSource @355 ⏎ `Table{AbstractVector{Continuous}}`\n",
       "    2:\tSource @137 ⏎ `AbstractVector{Multiclass{3}}`\n"
      ]
     },
     "execution_count": 9,
     "metadata": {},
     "output_type": "execute_result"
    }
   ],
   "source": [
    "mach.model.min_samples_split  = 10\n",
    "fit!(mach, rows=train_rows) # re-train with new hyper-parameter"
   ]
  },
  {
   "cell_type": "markdown",
   "metadata": {},
   "source": [
    "Now we can make predictions on some other view of the data, as in"
   ]
  },
  {
   "cell_type": "code",
   "execution_count": 10,
   "metadata": {},
   "outputs": [
    {
     "data": {
      "text/plain": [
       "3-element CategoricalDistributions.UnivariateFiniteVector{Multiclass{3}, String, UInt32, Float64}:\n",
       " UnivariateFinite{Multiclass{3}}(setosa=>0.0, versicolor=>0.0, virginica=>1.0)\n",
       " UnivariateFinite{Multiclass{3}}(setosa=>0.0, versicolor=>1.0, virginica=>0.0)\n",
       " UnivariateFinite{Multiclass{3}}(setosa=>0.0, versicolor=>0.25, virginica=>0.75)"
      ]
     },
     "execution_count": 10,
     "metadata": {},
     "output_type": "execute_result"
    }
   ],
   "source": [
    "predict(mach, rows=71:73)"
   ]
  },
  {
   "cell_type": "markdown",
   "metadata": {},
   "source": [
    "or on completely new data, as in"
   ]
  },
  {
   "cell_type": "code",
   "execution_count": 11,
   "metadata": {},
   "outputs": [
    {
     "data": {
      "text/plain": [
       "2-element CategoricalDistributions.UnivariateFiniteVector{Multiclass{3}, String, UInt32, Float64}:\n",
       " UnivariateFinite{Multiclass{3}}(setosa=>1.0, versicolor=>0.0, virginica=>0.0)\n",
       " UnivariateFinite{Multiclass{3}}(setosa=>0.0, versicolor=>0.25, virginica=>0.75)"
      ]
     },
     "execution_count": 11,
     "metadata": {},
     "output_type": "execute_result"
    }
   ],
   "source": [
    "Xnew = (sepal_length = [5.1, 6.3],\n",
    "        sepal_width = [3.0, 2.5],\n",
    "        petal_length = [1.4, 4.9],\n",
    "        petal_width = [0.3, 1.5])\n",
    "yhat = predict(mach, Xnew)"
   ]
  },
  {
   "cell_type": "markdown",
   "metadata": {},
   "source": [
    "These are probabilistic predictions which can be manipulated using a\n",
    "widely adopted interface defined in the Distributions.jl\n",
    "package. For example, we can get raw probabilities like this:"
   ]
  },
  {
   "cell_type": "code",
   "execution_count": 12,
   "metadata": {},
   "outputs": [
    {
     "data": {
      "text/plain": [
       "2-element Vector{Float64}:\n",
       " 0.0\n",
       " 0.75"
      ]
     },
     "execution_count": 12,
     "metadata": {},
     "output_type": "execute_result"
    }
   ],
   "source": [
    "pdf.(yhat, \"virginica\")"
   ]
  },
  {
   "cell_type": "markdown",
   "metadata": {},
   "source": [
    "We now turn to the Telco dataset."
   ]
  },
  {
   "cell_type": "markdown",
   "metadata": {},
   "source": [
    "## Getting the Telco data"
   ]
  },
  {
   "cell_type": "code",
   "execution_count": 13,
   "metadata": {},
   "outputs": [],
   "source": [
    "import DataFrames"
   ]
  },
  {
   "cell_type": "code",
   "execution_count": 14,
   "metadata": {},
   "outputs": [
    {
     "data": {
      "text/html": [
       "<div class=\"data-frame\"><p>4 rows × 21 columns (omitted printing of 13 columns)</p><table class=\"data-frame\"><thead><tr><th></th><th>customerID</th><th>gender</th><th>SeniorCitizen</th><th>Partner</th><th>Dependents</th><th>tenure</th><th>PhoneService</th><th>MultipleLines</th></tr><tr><th></th><th title=\"String\">String</th><th title=\"String\">String</th><th title=\"Float64\">Float64</th><th title=\"String\">String</th><th title=\"String\">String</th><th title=\"Float64\">Float64</th><th title=\"String\">String</th><th title=\"String\">String</th></tr></thead><tbody><tr><th>1</th><td>7590-VHVEG</td><td>Female</td><td>0.0</td><td>Yes</td><td>No</td><td>1.0</td><td>No</td><td>No phone service</td></tr><tr><th>2</th><td>5575-GNVDE</td><td>Male</td><td>0.0</td><td>No</td><td>No</td><td>34.0</td><td>Yes</td><td>No</td></tr><tr><th>3</th><td>3668-QPYBK</td><td>Male</td><td>0.0</td><td>No</td><td>No</td><td>2.0</td><td>Yes</td><td>No</td></tr><tr><th>4</th><td>7795-CFOCW</td><td>Male</td><td>0.0</td><td>No</td><td>No</td><td>45.0</td><td>No</td><td>No phone service</td></tr></tbody></table></div>"
      ],
      "text/latex": [
       "\\begin{tabular}{r|ccccccccc}\n",
       "\t& customerID & gender & SeniorCitizen & Partner & Dependents & tenure & PhoneService & MultipleLines & \\\\\n",
       "\t\\hline\n",
       "\t& String & String & Float64 & String & String & Float64 & String & String & \\\\\n",
       "\t\\hline\n",
       "\t1 & 7590-VHVEG & Female & 0.0 & Yes & No & 1.0 & No & No phone service & $\\dots$ \\\\\n",
       "\t2 & 5575-GNVDE & Male & 0.0 & No & No & 34.0 & Yes & No & $\\dots$ \\\\\n",
       "\t3 & 3668-QPYBK & Male & 0.0 & No & No & 2.0 & Yes & No & $\\dots$ \\\\\n",
       "\t4 & 7795-CFOCW & Male & 0.0 & No & No & 45.0 & No & No phone service & $\\dots$ \\\\\n",
       "\\end{tabular}\n"
      ],
      "text/plain": [
       "\u001b[1m4×21 DataFrame\u001b[0m\n",
       "\u001b[1m Row \u001b[0m│\u001b[1m customerID \u001b[0m\u001b[1m gender \u001b[0m\u001b[1m SeniorCitizen \u001b[0m\u001b[1m Partner \u001b[0m\u001b[1m Dependents \u001b[0m\u001b[1m tenure  \u001b[0m\u001b[1m PhoneS\u001b[0m ⋯\n",
       "\u001b[1m     \u001b[0m│\u001b[90m String     \u001b[0m\u001b[90m String \u001b[0m\u001b[90m Float64       \u001b[0m\u001b[90m String  \u001b[0m\u001b[90m String     \u001b[0m\u001b[90m Float64 \u001b[0m\u001b[90m String\u001b[0m ⋯\n",
       "─────┼──────────────────────────────────────────────────────────────────────────\n",
       "   1 │ 7590-VHVEG  Female            0.0  Yes      No              1.0  No     ⋯\n",
       "   2 │ 5575-GNVDE  Male              0.0  No       No             34.0  Yes\n",
       "   3 │ 3668-QPYBK  Male              0.0  No       No              2.0  Yes\n",
       "   4 │ 7795-CFOCW  Male              0.0  No       No             45.0  No\n",
       "\u001b[36m                                                              15 columns omitted\u001b[0m"
      ]
     },
     "execution_count": 14,
     "metadata": {},
     "output_type": "execute_result"
    }
   ],
   "source": [
    "data = OpenML.load(42178) # data set from OpenML.org\n",
    "df0 = DataFrames.DataFrame(data)\n",
    "first(df0, 4)"
   ]
  },
  {
   "cell_type": "markdown",
   "metadata": {},
   "source": [
    "The object of this tutorial is to build and evaluate supervised\n",
    "learning models to predict the `:Churn` variable, a binary variable\n",
    "measuring customer retention, based on other variables that are\n",
    "relevant."
   ]
  },
  {
   "cell_type": "markdown",
   "metadata": {},
   "source": [
    "In the table, observations correspond to rows, and features to\n",
    "columns, which is the convention for representing all\n",
    "two-dimensional data in MLJ."
   ]
  },
  {
   "cell_type": "markdown",
   "metadata": {},
   "source": [
    "## Type coercion"
   ]
  },
  {
   "cell_type": "markdown",
   "metadata": {},
   "source": [
    "> Introduces: `scitype`, `schema`, `coerce`"
   ]
  },
  {
   "cell_type": "markdown",
   "metadata": {},
   "source": [
    "A [\"scientific\n",
    "type\"](https://juliaai.github.io/ScientificTypes.jl/dev/) or\n",
    "*scitype* indicates how MLJ will *interpret* data. For example,\n",
    "`typeof(3.14) == Float64`, while `scitype(3.14) == Continuous` and\n",
    "also `scitype(3.14f0) == Continuous`. In MLJ, model data\n",
    "requirements are articulated using scitypes."
   ]
  },
  {
   "cell_type": "markdown",
   "metadata": {},
   "source": [
    "Here are common \"scalar\" scitypes:"
   ]
  },
  {
   "cell_type": "markdown",
   "metadata": {},
   "source": [
    "![](assets/scitypes.png)"
   ]
  },
  {
   "cell_type": "markdown",
   "metadata": {},
   "source": [
    "There are also container scitypes. For example, the scitype of any\n",
    "`N`-dimensional array is `AbstractArray{S, N}`, where `S` is the scitype of the\n",
    "elements:"
   ]
  },
  {
   "cell_type": "code",
   "execution_count": 15,
   "metadata": {},
   "outputs": [
    {
     "data": {
      "text/plain": [
       "AbstractVector{Textual} (alias for AbstractArray{Textual, 1})"
      ]
     },
     "execution_count": 15,
     "metadata": {},
     "output_type": "execute_result"
    }
   ],
   "source": [
    "scitype([\"cat\", \"mouse\", \"dog\"])"
   ]
  },
  {
   "cell_type": "markdown",
   "metadata": {},
   "source": [
    "The `schema` operator summarizes the column scitypes of a table:"
   ]
  },
  {
   "cell_type": "code",
   "execution_count": 16,
   "metadata": {},
   "outputs": [
    {
     "data": {
      "text/html": [
       "<div class=\"data-frame\"><p>21 rows × 3 columns</p><table class=\"data-frame\"><thead><tr><th></th><th>names</th><th>scitypes</th><th>types</th></tr><tr><th></th><th title=\"Symbol\">Symbol</th><th title=\"DataType\">DataType</th><th title=\"DataType\">DataType</th></tr></thead><tbody><tr><th>1</th><td>customerID</td><td>Textual</td><td>String</td></tr><tr><th>2</th><td>gender</td><td>Textual</td><td>String</td></tr><tr><th>3</th><td>SeniorCitizen</td><td>Continuous</td><td>Float64</td></tr><tr><th>4</th><td>Partner</td><td>Textual</td><td>String</td></tr><tr><th>5</th><td>Dependents</td><td>Textual</td><td>String</td></tr><tr><th>6</th><td>tenure</td><td>Continuous</td><td>Float64</td></tr><tr><th>7</th><td>PhoneService</td><td>Textual</td><td>String</td></tr><tr><th>8</th><td>MultipleLines</td><td>Textual</td><td>String</td></tr><tr><th>9</th><td>InternetService</td><td>Textual</td><td>String</td></tr><tr><th>10</th><td>OnlineSecurity</td><td>Textual</td><td>String</td></tr><tr><th>11</th><td>OnlineBackup</td><td>Textual</td><td>String</td></tr><tr><th>12</th><td>DeviceProtection</td><td>Textual</td><td>String</td></tr><tr><th>13</th><td>TechSupport</td><td>Textual</td><td>String</td></tr><tr><th>14</th><td>StreamingTV</td><td>Textual</td><td>String</td></tr><tr><th>15</th><td>StreamingMovies</td><td>Textual</td><td>String</td></tr><tr><th>16</th><td>Contract</td><td>Textual</td><td>String</td></tr><tr><th>17</th><td>PaperlessBilling</td><td>Textual</td><td>String</td></tr><tr><th>18</th><td>PaymentMethod</td><td>Textual</td><td>String</td></tr><tr><th>19</th><td>MonthlyCharges</td><td>Continuous</td><td>Float64</td></tr><tr><th>20</th><td>TotalCharges</td><td>Textual</td><td>String</td></tr><tr><th>21</th><td>Churn</td><td>Textual</td><td>String</td></tr></tbody></table></div>"
      ],
      "text/latex": [
       "\\begin{tabular}{r|ccc}\n",
       "\t& names & scitypes & types\\\\\n",
       "\t\\hline\n",
       "\t& Symbol & DataType & DataType\\\\\n",
       "\t\\hline\n",
       "\t1 & customerID & Textual & String \\\\\n",
       "\t2 & gender & Textual & String \\\\\n",
       "\t3 & SeniorCitizen & Continuous & Float64 \\\\\n",
       "\t4 & Partner & Textual & String \\\\\n",
       "\t5 & Dependents & Textual & String \\\\\n",
       "\t6 & tenure & Continuous & Float64 \\\\\n",
       "\t7 & PhoneService & Textual & String \\\\\n",
       "\t8 & MultipleLines & Textual & String \\\\\n",
       "\t9 & InternetService & Textual & String \\\\\n",
       "\t10 & OnlineSecurity & Textual & String \\\\\n",
       "\t11 & OnlineBackup & Textual & String \\\\\n",
       "\t12 & DeviceProtection & Textual & String \\\\\n",
       "\t13 & TechSupport & Textual & String \\\\\n",
       "\t14 & StreamingTV & Textual & String \\\\\n",
       "\t15 & StreamingMovies & Textual & String \\\\\n",
       "\t16 & Contract & Textual & String \\\\\n",
       "\t17 & PaperlessBilling & Textual & String \\\\\n",
       "\t18 & PaymentMethod & Textual & String \\\\\n",
       "\t19 & MonthlyCharges & Continuous & Float64 \\\\\n",
       "\t20 & TotalCharges & Textual & String \\\\\n",
       "\t21 & Churn & Textual & String \\\\\n",
       "\\end{tabular}\n"
      ],
      "text/plain": [
       "\u001b[1m21×3 DataFrame\u001b[0m\n",
       "\u001b[1m Row \u001b[0m│\u001b[1m names            \u001b[0m\u001b[1m scitypes   \u001b[0m\u001b[1m types    \u001b[0m\n",
       "\u001b[1m     \u001b[0m│\u001b[90m Symbol           \u001b[0m\u001b[90m DataType   \u001b[0m\u001b[90m DataType \u001b[0m\n",
       "─────┼────────────────────────────────────────\n",
       "   1 │ customerID        Textual     String\n",
       "   2 │ gender            Textual     String\n",
       "   3 │ SeniorCitizen     Continuous  Float64\n",
       "   4 │ Partner           Textual     String\n",
       "   5 │ Dependents        Textual     String\n",
       "   6 │ tenure            Continuous  Float64\n",
       "   7 │ PhoneService      Textual     String\n",
       "   8 │ MultipleLines     Textual     String\n",
       "   9 │ InternetService   Textual     String\n",
       "  10 │ OnlineSecurity    Textual     String\n",
       "  11 │ OnlineBackup      Textual     String\n",
       "  12 │ DeviceProtection  Textual     String\n",
       "  13 │ TechSupport       Textual     String\n",
       "  14 │ StreamingTV       Textual     String\n",
       "  15 │ StreamingMovies   Textual     String\n",
       "  16 │ Contract          Textual     String\n",
       "  17 │ PaperlessBilling  Textual     String\n",
       "  18 │ PaymentMethod     Textual     String\n",
       "  19 │ MonthlyCharges    Continuous  Float64\n",
       "  20 │ TotalCharges      Textual     String\n",
       "  21 │ Churn             Textual     String"
      ]
     },
     "execution_count": 16,
     "metadata": {},
     "output_type": "execute_result"
    }
   ],
   "source": [
    "schema(df0) |> DataFrames.DataFrame  # converted to DataFrame for better display"
   ]
  },
  {
   "cell_type": "markdown",
   "metadata": {},
   "source": [
    "All of the fields being interpreted as `Textual` are really\n",
    "something else, either `Multiclass` or, in the case of\n",
    "`:TotalCharges`, `Continuous`. In fact, `:TotalCharges` is\n",
    "mostly floats wrapped as strings. However, it needs special\n",
    "treatment because some elements consist of a single space, \" \",\n",
    "which we'll treat as \"0.0\"."
   ]
  },
  {
   "cell_type": "code",
   "execution_count": 17,
   "metadata": {},
   "outputs": [],
   "source": [
    "fix_blanks(v) = map(v) do x\n",
    "    if x == \" \"\n",
    "        return \"0.0\"\n",
    "    else\n",
    "        return x\n",
    "    end\n",
    "end\n",
    "\n",
    "df0.TotalCharges = fix_blanks(df0.TotalCharges);"
   ]
  },
  {
   "cell_type": "markdown",
   "metadata": {},
   "source": [
    "Coercing the `:TotalCharges` type to ensure a `Continuous` scitype:"
   ]
  },
  {
   "cell_type": "code",
   "execution_count": 18,
   "metadata": {},
   "outputs": [],
   "source": [
    "coerce!(df0, :TotalCharges => Continuous);"
   ]
  },
  {
   "cell_type": "markdown",
   "metadata": {},
   "source": [
    "Coercing all remaining `Textual` data to `Multiclass`:"
   ]
  },
  {
   "cell_type": "code",
   "execution_count": 19,
   "metadata": {},
   "outputs": [],
   "source": [
    "coerce!(df0, Textual => Multiclass);"
   ]
  },
  {
   "cell_type": "markdown",
   "metadata": {},
   "source": [
    "Finally, we'll coerce our target variable `:Churn` to be\n",
    "`OrderedFactor`, rather than `Multiclass`, to enable a reliable\n",
    "interpretation of metrics like \"true positive rate\".  By convention,\n",
    "the first class is the negative one:"
   ]
  },
  {
   "cell_type": "code",
   "execution_count": 20,
   "metadata": {},
   "outputs": [
    {
     "data": {
      "text/plain": [
       "2-element Vector{String}:\n",
       " \"No\"\n",
       " \"Yes\""
      ]
     },
     "execution_count": 20,
     "metadata": {},
     "output_type": "execute_result"
    }
   ],
   "source": [
    "coerce!(df0, :Churn => OrderedFactor)\n",
    "levels(df0.Churn) # to check order"
   ]
  },
  {
   "cell_type": "markdown",
   "metadata": {},
   "source": [
    "Re-inspecting the scitypes:"
   ]
  },
  {
   "cell_type": "code",
   "execution_count": 21,
   "metadata": {},
   "outputs": [
    {
     "data": {
      "text/html": [
       "<div class=\"data-frame\"><p>21 rows × 3 columns</p><table class=\"data-frame\"><thead><tr><th></th><th>names</th><th>scitypes</th><th>types</th></tr><tr><th></th><th title=\"Symbol\">Symbol</th><th title=\"DataType\">DataType</th><th title=\"DataType\">DataType</th></tr></thead><tbody><tr><th>1</th><td>customerID</td><td>Multiclass{7043}</td><td>CategoricalValue{String, UInt32}</td></tr><tr><th>2</th><td>gender</td><td>Multiclass{2}</td><td>CategoricalValue{String, UInt32}</td></tr><tr><th>3</th><td>SeniorCitizen</td><td>Continuous</td><td>Float64</td></tr><tr><th>4</th><td>Partner</td><td>Multiclass{2}</td><td>CategoricalValue{String, UInt32}</td></tr><tr><th>5</th><td>Dependents</td><td>Multiclass{2}</td><td>CategoricalValue{String, UInt32}</td></tr><tr><th>6</th><td>tenure</td><td>Continuous</td><td>Float64</td></tr><tr><th>7</th><td>PhoneService</td><td>Multiclass{2}</td><td>CategoricalValue{String, UInt32}</td></tr><tr><th>8</th><td>MultipleLines</td><td>Multiclass{3}</td><td>CategoricalValue{String, UInt32}</td></tr><tr><th>9</th><td>InternetService</td><td>Multiclass{3}</td><td>CategoricalValue{String, UInt32}</td></tr><tr><th>10</th><td>OnlineSecurity</td><td>Multiclass{3}</td><td>CategoricalValue{String, UInt32}</td></tr><tr><th>11</th><td>OnlineBackup</td><td>Multiclass{3}</td><td>CategoricalValue{String, UInt32}</td></tr><tr><th>12</th><td>DeviceProtection</td><td>Multiclass{3}</td><td>CategoricalValue{String, UInt32}</td></tr><tr><th>13</th><td>TechSupport</td><td>Multiclass{3}</td><td>CategoricalValue{String, UInt32}</td></tr><tr><th>14</th><td>StreamingTV</td><td>Multiclass{3}</td><td>CategoricalValue{String, UInt32}</td></tr><tr><th>15</th><td>StreamingMovies</td><td>Multiclass{3}</td><td>CategoricalValue{String, UInt32}</td></tr><tr><th>16</th><td>Contract</td><td>Multiclass{3}</td><td>CategoricalValue{String, UInt32}</td></tr><tr><th>17</th><td>PaperlessBilling</td><td>Multiclass{2}</td><td>CategoricalValue{String, UInt32}</td></tr><tr><th>18</th><td>PaymentMethod</td><td>Multiclass{4}</td><td>CategoricalValue{String, UInt32}</td></tr><tr><th>19</th><td>MonthlyCharges</td><td>Continuous</td><td>Float64</td></tr><tr><th>20</th><td>TotalCharges</td><td>Continuous</td><td>Float64</td></tr><tr><th>21</th><td>Churn</td><td>OrderedFactor{2}</td><td>CategoricalValue{String, UInt32}</td></tr></tbody></table></div>"
      ],
      "text/latex": [
       "\\begin{tabular}{r|ccc}\n",
       "\t& names & scitypes & types\\\\\n",
       "\t\\hline\n",
       "\t& Symbol & DataType & DataType\\\\\n",
       "\t\\hline\n",
       "\t1 & customerID & Multiclass\\{7043\\} & CategoricalValue\\{String, UInt32\\} \\\\\n",
       "\t2 & gender & Multiclass\\{2\\} & CategoricalValue\\{String, UInt32\\} \\\\\n",
       "\t3 & SeniorCitizen & Continuous & Float64 \\\\\n",
       "\t4 & Partner & Multiclass\\{2\\} & CategoricalValue\\{String, UInt32\\} \\\\\n",
       "\t5 & Dependents & Multiclass\\{2\\} & CategoricalValue\\{String, UInt32\\} \\\\\n",
       "\t6 & tenure & Continuous & Float64 \\\\\n",
       "\t7 & PhoneService & Multiclass\\{2\\} & CategoricalValue\\{String, UInt32\\} \\\\\n",
       "\t8 & MultipleLines & Multiclass\\{3\\} & CategoricalValue\\{String, UInt32\\} \\\\\n",
       "\t9 & InternetService & Multiclass\\{3\\} & CategoricalValue\\{String, UInt32\\} \\\\\n",
       "\t10 & OnlineSecurity & Multiclass\\{3\\} & CategoricalValue\\{String, UInt32\\} \\\\\n",
       "\t11 & OnlineBackup & Multiclass\\{3\\} & CategoricalValue\\{String, UInt32\\} \\\\\n",
       "\t12 & DeviceProtection & Multiclass\\{3\\} & CategoricalValue\\{String, UInt32\\} \\\\\n",
       "\t13 & TechSupport & Multiclass\\{3\\} & CategoricalValue\\{String, UInt32\\} \\\\\n",
       "\t14 & StreamingTV & Multiclass\\{3\\} & CategoricalValue\\{String, UInt32\\} \\\\\n",
       "\t15 & StreamingMovies & Multiclass\\{3\\} & CategoricalValue\\{String, UInt32\\} \\\\\n",
       "\t16 & Contract & Multiclass\\{3\\} & CategoricalValue\\{String, UInt32\\} \\\\\n",
       "\t17 & PaperlessBilling & Multiclass\\{2\\} & CategoricalValue\\{String, UInt32\\} \\\\\n",
       "\t18 & PaymentMethod & Multiclass\\{4\\} & CategoricalValue\\{String, UInt32\\} \\\\\n",
       "\t19 & MonthlyCharges & Continuous & Float64 \\\\\n",
       "\t20 & TotalCharges & Continuous & Float64 \\\\\n",
       "\t21 & Churn & OrderedFactor\\{2\\} & CategoricalValue\\{String, UInt32\\} \\\\\n",
       "\\end{tabular}\n"
      ],
      "text/plain": [
       "\u001b[1m21×3 DataFrame\u001b[0m\n",
       "\u001b[1m Row \u001b[0m│\u001b[1m names            \u001b[0m\u001b[1m scitypes         \u001b[0m\u001b[1m types                            \u001b[0m\n",
       "\u001b[1m     \u001b[0m│\u001b[90m Symbol           \u001b[0m\u001b[90m DataType         \u001b[0m\u001b[90m DataType                         \u001b[0m\n",
       "─────┼──────────────────────────────────────────────────────────────────────\n",
       "   1 │ customerID        Multiclass{7043}  CategoricalValue{String, UInt32}\n",
       "   2 │ gender            Multiclass{2}     CategoricalValue{String, UInt32}\n",
       "   3 │ SeniorCitizen     Continuous        Float64\n",
       "   4 │ Partner           Multiclass{2}     CategoricalValue{String, UInt32}\n",
       "   5 │ Dependents        Multiclass{2}     CategoricalValue{String, UInt32}\n",
       "   6 │ tenure            Continuous        Float64\n",
       "   7 │ PhoneService      Multiclass{2}     CategoricalValue{String, UInt32}\n",
       "   8 │ MultipleLines     Multiclass{3}     CategoricalValue{String, UInt32}\n",
       "   9 │ InternetService   Multiclass{3}     CategoricalValue{String, UInt32}\n",
       "  10 │ OnlineSecurity    Multiclass{3}     CategoricalValue{String, UInt32}\n",
       "  11 │ OnlineBackup      Multiclass{3}     CategoricalValue{String, UInt32}\n",
       "  12 │ DeviceProtection  Multiclass{3}     CategoricalValue{String, UInt32}\n",
       "  13 │ TechSupport       Multiclass{3}     CategoricalValue{String, UInt32}\n",
       "  14 │ StreamingTV       Multiclass{3}     CategoricalValue{String, UInt32}\n",
       "  15 │ StreamingMovies   Multiclass{3}     CategoricalValue{String, UInt32}\n",
       "  16 │ Contract          Multiclass{3}     CategoricalValue{String, UInt32}\n",
       "  17 │ PaperlessBilling  Multiclass{2}     CategoricalValue{String, UInt32}\n",
       "  18 │ PaymentMethod     Multiclass{4}     CategoricalValue{String, UInt32}\n",
       "  19 │ MonthlyCharges    Continuous        Float64\n",
       "  20 │ TotalCharges      Continuous        Float64\n",
       "  21 │ Churn             OrderedFactor{2}  CategoricalValue{String, UInt32}"
      ]
     },
     "execution_count": 21,
     "metadata": {},
     "output_type": "execute_result"
    }
   ],
   "source": [
    "schema(df0) |> DataFrames.DataFrame"
   ]
  },
  {
   "cell_type": "markdown",
   "metadata": {},
   "source": [
    "## Preparing a holdout set for final testing"
   ]
  },
  {
   "cell_type": "markdown",
   "metadata": {},
   "source": [
    "> Introduces: `partition`"
   ]
  },
  {
   "cell_type": "markdown",
   "metadata": {},
   "source": [
    "To reduce training times for the purposes of this tutorial, we're\n",
    "going to dump 90% of observations (after shuffling) and split off\n",
    "30% of the remainder for use as a lock-and-throw-away-the-key\n",
    "holdout set:"
   ]
  },
  {
   "cell_type": "code",
   "execution_count": 22,
   "metadata": {},
   "outputs": [],
   "source": [
    "df, df_test, df_dumped = partition(df0, 0.07, 0.03, # in ratios 7:3:90\n",
    "                                   stratify=df0.Churn,\n",
    "                                   rng=123);"
   ]
  },
  {
   "cell_type": "markdown",
   "metadata": {},
   "source": [
    "The reader interested in including all data can instead do\n",
    "`df, df_test = partition(df0, 0.7, rng=123)`."
   ]
  },
  {
   "cell_type": "markdown",
   "metadata": {},
   "source": [
    "## Splitting data into target and features"
   ]
  },
  {
   "cell_type": "markdown",
   "metadata": {},
   "source": [
    "> Introduces: `unpack`"
   ]
  },
  {
   "cell_type": "markdown",
   "metadata": {},
   "source": [
    "In the following call, the column with name `:Churn` is copied over\n",
    "to a vector `y`, and every remaining column, except `:customerID`\n",
    "(which contains no useful information) goes into a table `X`. Here\n",
    "`:Churn` is the target variable for which we seek predictions, given\n",
    "new versions of the features `X`."
   ]
  },
  {
   "cell_type": "code",
   "execution_count": 23,
   "metadata": {},
   "outputs": [
    {
     "data": {
      "text/plain": [
       "(:gender, :SeniorCitizen, :Partner, :Dependents, :tenure, :PhoneService, :MultipleLines, :InternetService, :OnlineSecurity, :OnlineBackup, :DeviceProtection, :TechSupport, :StreamingTV, :StreamingMovies, :Contract, :PaperlessBilling, :PaymentMethod, :MonthlyCharges, :TotalCharges)"
      ]
     },
     "execution_count": 23,
     "metadata": {},
     "output_type": "execute_result"
    }
   ],
   "source": [
    "const y, X = unpack(df, ==(:Churn), !=(:customerID));\n",
    "schema(X).names"
   ]
  },
  {
   "cell_type": "code",
   "execution_count": 24,
   "metadata": {},
   "outputs": [
    {
     "data": {
      "text/plain": [
       "Symbol[]"
      ]
     },
     "execution_count": 24,
     "metadata": {},
     "output_type": "execute_result"
    }
   ],
   "source": [
    "intersect([:Churn, :customerID], schema(X).names)"
   ]
  },
  {
   "cell_type": "markdown",
   "metadata": {},
   "source": [
    "We'll do the same for the holdout data:"
   ]
  },
  {
   "cell_type": "code",
   "execution_count": 25,
   "metadata": {},
   "outputs": [],
   "source": [
    "const ytest, Xtest = unpack(df_test, ==(:Churn), !=(:customerID));"
   ]
  },
  {
   "cell_type": "markdown",
   "metadata": {},
   "source": [
    "## Loading a model and checking type requirements"
   ]
  },
  {
   "cell_type": "markdown",
   "metadata": {},
   "source": [
    "> Introduces: `@load`, `input_scitype`, `target_scitype`"
   ]
  },
  {
   "cell_type": "markdown",
   "metadata": {},
   "source": [
    "For tools helping us to identify suitable models, see the [Model\n",
    "Search](https://alan-turing-institute.github.io/MLJ.jl/dev/model_search/#model_search)\n",
    "section of the manual. We will build a gradient tree-boosting model,\n",
    "a popular first choice for structured data like we have here. Model\n",
    "code is contained in a third-party package called\n",
    "[EvoTrees.jl](https://github.com/Evovest/EvoTrees.jl) which is\n",
    "loaded as follows:"
   ]
  },
  {
   "cell_type": "code",
   "execution_count": 26,
   "metadata": {},
   "outputs": [
    {
     "name": "stdout",
     "output_type": "stream",
     "text": [
      "import EvoTrees"
     ]
    },
    {
     "name": "stderr",
     "output_type": "stream",
     "text": [
      "┌ Info: For silent loading, specify `verbosity=0`. \n",
      "└ @ Main /Users/anthony/.julia/packages/MLJModels/38NmP/src/loading.jl:168\n"
     ]
    },
    {
     "name": "stdout",
     "output_type": "stream",
     "text": [
      " ✔\n"
     ]
    },
    {
     "data": {
      "text/plain": [
       "EvoTrees.EvoTreeClassifier"
      ]
     },
     "execution_count": 26,
     "metadata": {},
     "output_type": "execute_result"
    }
   ],
   "source": [
    "Booster = @load EvoTreeClassifier pkg=EvoTrees"
   ]
  },
  {
   "cell_type": "markdown",
   "metadata": {},
   "source": [
    "Recall that a *model* is just a container for some algorithm's\n",
    "hyper-parameters. Let's create a `Booster` with default values for\n",
    "the hyper-parameters:"
   ]
  },
  {
   "cell_type": "code",
   "execution_count": 27,
   "metadata": {},
   "outputs": [
    {
     "data": {
      "text/plain": [
       "EvoTreeClassifier(\n",
       "    loss = EvoTrees.Softmax(),\n",
       "    nrounds = 10,\n",
       "    λ = 0.0,\n",
       "    γ = 0.0,\n",
       "    η = 0.1,\n",
       "    max_depth = 5,\n",
       "    min_weight = 1.0,\n",
       "    rowsample = 1.0,\n",
       "    colsample = 1.0,\n",
       "    nbins = 64,\n",
       "    α = 0.5,\n",
       "    metric = :mlogloss,\n",
       "    rng = MersenneTwister(123),\n",
       "    device = \"cpu\")"
      ]
     },
     "execution_count": 27,
     "metadata": {},
     "output_type": "execute_result"
    }
   ],
   "source": [
    "booster = Booster()"
   ]
  },
  {
   "cell_type": "markdown",
   "metadata": {},
   "source": [
    "This model is appropriate for the kind of target variable we have because of\n",
    "the following passing test:"
   ]
  },
  {
   "cell_type": "code",
   "execution_count": 28,
   "metadata": {},
   "outputs": [
    {
     "data": {
      "text/plain": [
       "true"
      ]
     },
     "execution_count": 28,
     "metadata": {},
     "output_type": "execute_result"
    }
   ],
   "source": [
    "scitype(y) <: target_scitype(booster)"
   ]
  },
  {
   "cell_type": "markdown",
   "metadata": {},
   "source": [
    "However, our features `X` cannot be directly used with `booster`:"
   ]
  },
  {
   "cell_type": "code",
   "execution_count": 29,
   "metadata": {},
   "outputs": [
    {
     "data": {
      "text/plain": [
       "false"
      ]
     },
     "execution_count": 29,
     "metadata": {},
     "output_type": "execute_result"
    }
   ],
   "source": [
    "scitype(X) <: input_scitype(booster)"
   ]
  },
  {
   "cell_type": "markdown",
   "metadata": {},
   "source": [
    "As it turns out, this is because `booster`, like the majority of MLJ\n",
    "supervised models, expects the features to be `Continuous`. (With\n",
    "some experience, this can be gleaned from `input_scitype(booster)`.)\n",
    "So we need categorical feature encoding, discussed next."
   ]
  },
  {
   "cell_type": "markdown",
   "metadata": {},
   "source": [
    "## Building a model pipeline to incorporate feature encoding"
   ]
  },
  {
   "cell_type": "markdown",
   "metadata": {},
   "source": [
    "> Introduces: `ContinuousEncoder`, pipeline operator `|>`"
   ]
  },
  {
   "cell_type": "markdown",
   "metadata": {},
   "source": [
    "The built-in `ContinuousEncoder` model transforms an arbitrary table\n",
    "to a table whose features are all `Continuous` (dropping any fields\n",
    "it does not know how to encode). In particular, all `Multiclass`\n",
    "features are one-hot encoded."
   ]
  },
  {
   "cell_type": "markdown",
   "metadata": {},
   "source": [
    "A *pipeline* is a stand-alone model that internally combines one or\n",
    "more models in a linear (non-branching) pipeline. Here's a pipeline\n",
    "that adds the `ContinuousEncoder` as a pre-processor to the\n",
    "gradient tree-boosting model above:"
   ]
  },
  {
   "cell_type": "code",
   "execution_count": 30,
   "metadata": {},
   "outputs": [
    {
     "data": {
      "text/plain": [
       "ProbabilisticPipeline(\n",
       "    continuous_encoder = ContinuousEncoder(\n",
       "            drop_last = false,\n",
       "            one_hot_ordered_factors = false),\n",
       "    evo_tree_classifier = EvoTreeClassifier(\n",
       "            loss = EvoTrees.Softmax(),\n",
       "            nrounds = 10,\n",
       "            λ = 0.0,\n",
       "            γ = 0.0,\n",
       "            η = 0.1,\n",
       "            max_depth = 5,\n",
       "            min_weight = 1.0,\n",
       "            rowsample = 1.0,\n",
       "            colsample = 1.0,\n",
       "            nbins = 64,\n",
       "            α = 0.5,\n",
       "            metric = :mlogloss,\n",
       "            rng = MersenneTwister(123),\n",
       "            device = \"cpu\"),\n",
       "    cache = true)"
      ]
     },
     "execution_count": 30,
     "metadata": {},
     "output_type": "execute_result"
    }
   ],
   "source": [
    "pipe = ContinuousEncoder() |> booster"
   ]
  },
  {
   "cell_type": "markdown",
   "metadata": {},
   "source": [
    "Note that the component models appear as hyper-parameters of\n",
    "`pipe`. Pipelines are an implementation of a more general [model\n",
    "composition](https://alan-turing-institute.github.io/MLJ.jl/dev/composing_models/#Composing-Models)\n",
    "interface provided by MLJ that advanced users may want to learn about."
   ]
  },
  {
   "cell_type": "markdown",
   "metadata": {},
   "source": [
    "From the above display, we see that component model hyper-parameters\n",
    "are now *nested*, but they are still accessible (important in hyper-parameter\n",
    "optimization):"
   ]
  },
  {
   "cell_type": "code",
   "execution_count": 31,
   "metadata": {},
   "outputs": [
    {
     "data": {
      "text/plain": [
       "5"
      ]
     },
     "execution_count": 31,
     "metadata": {},
     "output_type": "execute_result"
    }
   ],
   "source": [
    "pipe.evo_tree_classifier.max_depth"
   ]
  },
  {
   "cell_type": "markdown",
   "metadata": {},
   "source": [
    "## Evaluating the pipeline model's performance"
   ]
  },
  {
   "cell_type": "markdown",
   "metadata": {},
   "source": [
    "> Introduces: `measures` (function), **measures:** `brier_loss`, `auc`, `accuracy`;\n",
    "> `machine`, `fit!`, `predict`, `fitted_params`, `report`, `roc`, **resampling strategy** `StratifiedCV`, `evaluate`, `FeatureSelector`"
   ]
  },
  {
   "cell_type": "markdown",
   "metadata": {},
   "source": [
    "Without touching our test set `Xtest`, `ytest`, we will estimate the\n",
    "performance of our pipeline model, with default hyper-parameters, in\n",
    "two different ways:"
   ]
  },
  {
   "cell_type": "markdown",
   "metadata": {},
   "source": [
    "**Evaluating by hand.** First, we'll do this \"by hand\" using the `fit!` and `predict`\n",
    "workflow illustrated for the iris data set above, using a\n",
    "holdout resampling strategy. At the same time we'll see how to\n",
    "generate a **confusion matrix**, **ROC curve**, and inspect\n",
    "**feature importances**."
   ]
  },
  {
   "cell_type": "markdown",
   "metadata": {},
   "source": [
    "**Automated performance evaluation.** Next we'll apply the more\n",
    "typical and convenient `evaluate` workflow, but using `StratifiedCV`\n",
    "(stratified cross-validation) which is more informative."
   ]
  },
  {
   "cell_type": "markdown",
   "metadata": {},
   "source": [
    "In any case, we need to choose some measures (metrics) to quantify\n",
    "the performance of our model. For a complete list of measures, one\n",
    "does `measures()`. Or we also can do:"
   ]
  },
  {
   "cell_type": "code",
   "execution_count": 32,
   "metadata": {},
   "outputs": [
    {
     "data": {
      "text/plain": [
       "2-element Vector{NamedTuple{(:name, :instances, :human_name, :target_scitype, :supports_weights, :supports_class_weights, :prediction_type, :orientation, :reports_each_observation, :aggregation, :is_feature_dependent, :docstring, :distribution_type), T} where T<:Tuple}:\n",
       " (name = BrierLoss, instances = [brier_loss], ...)\n",
       " (name = BrierScore, instances = [brier_score], ...)"
      ]
     },
     "execution_count": 32,
     "metadata": {},
     "output_type": "execute_result"
    }
   ],
   "source": [
    "measures(\"Brier\")"
   ]
  },
  {
   "cell_type": "markdown",
   "metadata": {},
   "source": [
    "We will be primarily using `brier_loss`, but also `auc` (area under\n",
    "the ROC curve) and `accuracy`."
   ]
  },
  {
   "cell_type": "markdown",
   "metadata": {},
   "source": [
    "### Evaluating by hand (with a holdout set)"
   ]
  },
  {
   "cell_type": "markdown",
   "metadata": {},
   "source": [
    "Our pipeline model can be trained just like the decision tree model\n",
    "we built for the iris data set. Binding all non-test data to the\n",
    "pipeline model:"
   ]
  },
  {
   "cell_type": "code",
   "execution_count": 33,
   "metadata": {},
   "outputs": [
    {
     "data": {
      "text/plain": [
       "Machine{ProbabilisticPipeline{NamedTuple{,…},…},…} trained 0 times; caches data\n",
       "  model: MLJBase.ProbabilisticPipeline{NamedTuple{(:continuous_encoder, :evo_tree_classifier), Tuple{Unsupervised, Probabilistic}}, MLJModelInterface.predict}\n",
       "  args: \n",
       "    1:\tSource @100 ⏎ `Table{Union{AbstractVector{Continuous}, AbstractVector{Multiclass{2}}, AbstractVector{Multiclass{4}}, AbstractVector{Multiclass{3}}}}`\n",
       "    2:\tSource @049 ⏎ `AbstractVector{OrderedFactor{2}}`\n"
      ]
     },
     "execution_count": 33,
     "metadata": {},
     "output_type": "execute_result"
    }
   ],
   "source": [
    "mach_pipe = machine(pipe, X, y)"
   ]
  },
  {
   "cell_type": "markdown",
   "metadata": {},
   "source": [
    "We already encountered the `partition` method above. Here we apply\n",
    "it to row indices, instead of data containers, as `fit!` and\n",
    "`predict` only need a *view* of the data to work."
   ]
  },
  {
   "cell_type": "code",
   "execution_count": 34,
   "metadata": {},
   "outputs": [
    {
     "name": "stderr",
     "output_type": "stream",
     "text": [
      "┌ Info: Training Machine{ProbabilisticPipeline{NamedTuple{,…},…},…}.\n",
      "└ @ MLJBase /Users/anthony/.julia/packages/MLJBase/hHa7b/src/machines.jl:464\n",
      "┌ Info: Training Machine{ContinuousEncoder,…}.\n",
      "└ @ MLJBase /Users/anthony/.julia/packages/MLJBase/hHa7b/src/machines.jl:464\n",
      "┌ Info: Training Machine{EvoTreeClassifier{Float64,…},…}.\n",
      "└ @ MLJBase /Users/anthony/.julia/packages/MLJBase/hHa7b/src/machines.jl:464\n"
     ]
    },
    {
     "data": {
      "text/plain": [
       "Machine{ProbabilisticPipeline{NamedTuple{,…},…},…} trained 1 time; caches data\n",
       "  model: MLJBase.ProbabilisticPipeline{NamedTuple{(:continuous_encoder, :evo_tree_classifier), Tuple{Unsupervised, Probabilistic}}, MLJModelInterface.predict}\n",
       "  args: \n",
       "    1:\tSource @100 ⏎ `Table{Union{AbstractVector{Continuous}, AbstractVector{Multiclass{2}}, AbstractVector{Multiclass{4}}, AbstractVector{Multiclass{3}}}}`\n",
       "    2:\tSource @049 ⏎ `AbstractVector{OrderedFactor{2}}`\n"
      ]
     },
     "execution_count": 34,
     "metadata": {},
     "output_type": "execute_result"
    }
   ],
   "source": [
    "train, validation = partition(1:length(y), 0.7)\n",
    "fit!(mach_pipe, rows=train)"
   ]
  },
  {
   "cell_type": "markdown",
   "metadata": {},
   "source": [
    "We note in passing that we can access two kinds of information from a trained machine:"
   ]
  },
  {
   "cell_type": "markdown",
   "metadata": {},
   "source": [
    "- The **learned parameters** (eg, coefficients of a linear model): We use `fitted_params(mach_pipe)`\n",
    "- Other **by-products of training** (eg, feature importances): We use `report(mach_pipe)`"
   ]
  },
  {
   "cell_type": "code",
   "execution_count": 35,
   "metadata": {},
   "outputs": [
    {
     "data": {
      "text/plain": [
       "(:evo_tree_classifier, :continuous_encoder, :machines, :fitted_params_given_machine)"
      ]
     },
     "execution_count": 35,
     "metadata": {},
     "output_type": "execute_result"
    }
   ],
   "source": [
    "fp = fitted_params(mach_pipe);\n",
    "keys(fp)"
   ]
  },
  {
   "cell_type": "markdown",
   "metadata": {},
   "source": [
    "For example, we can check that the encoder did not actually drop any features:"
   ]
  },
  {
   "cell_type": "code",
   "execution_count": 36,
   "metadata": {},
   "outputs": [
    {
     "data": {
      "text/plain": [
       "true"
      ]
     },
     "execution_count": 36,
     "metadata": {},
     "output_type": "execute_result"
    }
   ],
   "source": [
    "Set(fp.continuous_encoder.features_to_keep) == Set(schema(X).names)"
   ]
  },
  {
   "cell_type": "markdown",
   "metadata": {},
   "source": [
    "And, from the report, extract feature importances:"
   ]
  },
  {
   "cell_type": "code",
   "execution_count": 37,
   "metadata": {},
   "outputs": [
    {
     "data": {
      "text/plain": [
       "(:feature_importances,)"
      ]
     },
     "execution_count": 37,
     "metadata": {},
     "output_type": "execute_result"
    }
   ],
   "source": [
    "rpt = report(mach_pipe)\n",
    "keys(rpt.evo_tree_classifier)"
   ]
  },
  {
   "cell_type": "code",
   "execution_count": 38,
   "metadata": {},
   "outputs": [
    {
     "data": {
      "text/html": [
       "<div class=\"data-frame\"><p>45 rows × 2 columns</p><table class=\"data-frame\"><thead><tr><th></th><th>feature</th><th>importance</th></tr><tr><th></th><th title=\"Symbol\">Symbol</th><th title=\"Float64\">Float64</th></tr></thead><tbody><tr><th>1</th><td>tenure</td><td>0.339006</td></tr><tr><th>2</th><td>MonthlyCharges</td><td>0.179065</td></tr><tr><th>3</th><td>Contract__Month-to-month</td><td>0.143517</td></tr><tr><th>4</th><td>TotalCharges</td><td>0.0808519</td></tr><tr><th>5</th><td>PaymentMethod__Bank transfer (automatic)</td><td>0.0332562</td></tr><tr><th>6</th><td>SeniorCitizen</td><td>0.0327449</td></tr><tr><th>7</th><td>TechSupport__No</td><td>0.0301126</td></tr><tr><th>8</th><td>PaperlessBilling__No</td><td>0.0271853</td></tr><tr><th>9</th><td>StreamingMovies__Yes</td><td>0.0182164</td></tr><tr><th>10</th><td>Dependents__No</td><td>0.017089</td></tr><tr><th>11</th><td>PaperlessBilling__Yes</td><td>0.0135949</td></tr><tr><th>12</th><td>gender__Female</td><td>0.0122897</td></tr><tr><th>13</th><td>DeviceProtection__No</td><td>0.00952897</td></tr><tr><th>14</th><td>Dependents__Yes</td><td>0.00872813</td></tr><tr><th>15</th><td>OnlineBackup__Yes</td><td>0.0077387</td></tr><tr><th>16</th><td>StreamingMovies__No</td><td>0.00751297</td></tr><tr><th>17</th><td>TechSupport__Yes</td><td>0.00745764</td></tr><tr><th>18</th><td>OnlineSecurity__No</td><td>0.00729202</td></tr><tr><th>19</th><td>DeviceProtection__Yes</td><td>0.00673942</td></tr><tr><th>20</th><td>Partner__Yes</td><td>0.00659092</td></tr><tr><th>21</th><td>OnlineBackup__No</td><td>0.00436309</td></tr><tr><th>22</th><td>Partner__No</td><td>0.00271873</td></tr><tr><th>23</th><td>Contract__Two year</td><td>0.0014937</td></tr><tr><th>24</th><td>Contract__One year</td><td>0.00143396</td></tr><tr><th>25</th><td>gender__Male</td><td>0.00139943</td></tr><tr><th>26</th><td>InternetService__DSL</td><td>7.35606e-5</td></tr><tr><th>27</th><td>OnlineSecurity__No internet service</td><td>0.0</td></tr><tr><th>28</th><td>PaymentMethod__Mailed check</td><td>0.0</td></tr><tr><th>29</th><td>PaymentMethod__Electronic check</td><td>0.0</td></tr><tr><th>30</th><td>OnlineSecurity__Yes</td><td>0.0</td></tr><tr><th>&vellip;</th><td>&vellip;</td><td>&vellip;</td></tr></tbody></table></div>"
      ],
      "text/latex": [
       "\\begin{tabular}{r|cc}\n",
       "\t& feature & importance\\\\\n",
       "\t\\hline\n",
       "\t& Symbol & Float64\\\\\n",
       "\t\\hline\n",
       "\t1 & tenure & 0.339006 \\\\\n",
       "\t2 & MonthlyCharges & 0.179065 \\\\\n",
       "\t3 & Contract\\_\\_Month-to-month & 0.143517 \\\\\n",
       "\t4 & TotalCharges & 0.0808519 \\\\\n",
       "\t5 & PaymentMethod\\_\\_Bank transfer (automatic) & 0.0332562 \\\\\n",
       "\t6 & SeniorCitizen & 0.0327449 \\\\\n",
       "\t7 & TechSupport\\_\\_No & 0.0301126 \\\\\n",
       "\t8 & PaperlessBilling\\_\\_No & 0.0271853 \\\\\n",
       "\t9 & StreamingMovies\\_\\_Yes & 0.0182164 \\\\\n",
       "\t10 & Dependents\\_\\_No & 0.017089 \\\\\n",
       "\t11 & PaperlessBilling\\_\\_Yes & 0.0135949 \\\\\n",
       "\t12 & gender\\_\\_Female & 0.0122897 \\\\\n",
       "\t13 & DeviceProtection\\_\\_No & 0.00952897 \\\\\n",
       "\t14 & Dependents\\_\\_Yes & 0.00872813 \\\\\n",
       "\t15 & OnlineBackup\\_\\_Yes & 0.0077387 \\\\\n",
       "\t16 & StreamingMovies\\_\\_No & 0.00751297 \\\\\n",
       "\t17 & TechSupport\\_\\_Yes & 0.00745764 \\\\\n",
       "\t18 & OnlineSecurity\\_\\_No & 0.00729202 \\\\\n",
       "\t19 & DeviceProtection\\_\\_Yes & 0.00673942 \\\\\n",
       "\t20 & Partner\\_\\_Yes & 0.00659092 \\\\\n",
       "\t21 & OnlineBackup\\_\\_No & 0.00436309 \\\\\n",
       "\t22 & Partner\\_\\_No & 0.00271873 \\\\\n",
       "\t23 & Contract\\_\\_Two year & 0.0014937 \\\\\n",
       "\t24 & Contract\\_\\_One year & 0.00143396 \\\\\n",
       "\t25 & gender\\_\\_Male & 0.00139943 \\\\\n",
       "\t26 & InternetService\\_\\_DSL & 7.35606e-5 \\\\\n",
       "\t27 & OnlineSecurity\\_\\_No internet service & 0.0 \\\\\n",
       "\t28 & PaymentMethod\\_\\_Mailed check & 0.0 \\\\\n",
       "\t29 & PaymentMethod\\_\\_Electronic check & 0.0 \\\\\n",
       "\t30 & OnlineSecurity\\_\\_Yes & 0.0 \\\\\n",
       "\t$\\dots$ & $\\dots$ & $\\dots$ \\\\\n",
       "\\end{tabular}\n"
      ],
      "text/plain": [
       "\u001b[1m45×2 DataFrame\u001b[0m\n",
       "\u001b[1m Row \u001b[0m│\u001b[1m feature                           \u001b[0m\u001b[1m importance \u001b[0m\n",
       "\u001b[1m     \u001b[0m│\u001b[90m Symbol                            \u001b[0m\u001b[90m Float64    \u001b[0m\n",
       "─────┼───────────────────────────────────────────────\n",
       "   1 │ tenure                             0.339006\n",
       "   2 │ MonthlyCharges                     0.179065\n",
       "   3 │ Contract__Month-to-month           0.143517\n",
       "   4 │ TotalCharges                       0.0808519\n",
       "   5 │ PaymentMethod__Bank transfer (au…  0.0332562\n",
       "   6 │ SeniorCitizen                      0.0327449\n",
       "   7 │ TechSupport__No                    0.0301126\n",
       "   8 │ PaperlessBilling__No               0.0271853\n",
       "   9 │ StreamingMovies__Yes               0.0182164\n",
       "  10 │ Dependents__No                     0.017089\n",
       "  11 │ PaperlessBilling__Yes              0.0135949\n",
       "  ⋮  │                 ⋮                      ⋮\n",
       "  36 │ PhoneService__Yes                  0.0\n",
       "  37 │ DeviceProtection__No internet se…  0.0\n",
       "  38 │ StreamingTV__No internet service   0.0\n",
       "  39 │ StreamingMovies__No internet ser…  0.0\n",
       "  40 │ TechSupport__No internet service   0.0\n",
       "  41 │ StreamingTV__No                    0.0\n",
       "  42 │ MultipleLines__No                  0.0\n",
       "  43 │ PaymentMethod__Credit card (auto…  0.0\n",
       "  44 │ MultipleLines__Yes                 0.0\n",
       "  45 │ MultipleLines__No phone service    0.0\n",
       "\u001b[36m                                      24 rows omitted\u001b[0m"
      ]
     },
     "execution_count": 38,
     "metadata": {},
     "output_type": "execute_result"
    }
   ],
   "source": [
    "fi = rpt.evo_tree_classifier.feature_importances\n",
    "feature_importance_table =\n",
    "    (feature=Symbol.(first.(fi)), importance=last.(fi)) |> DataFrames.DataFrame"
   ]
  },
  {
   "cell_type": "markdown",
   "metadata": {},
   "source": [
    "For models not reporting feature importances, we recommend the\n",
    "[Shapley.jl](https://expandingman.gitlab.io/Shapley.jl/) package."
   ]
  },
  {
   "cell_type": "markdown",
   "metadata": {},
   "source": [
    "Returning to predictions and evaluations of our measures:"
   ]
  },
  {
   "cell_type": "code",
   "execution_count": 39,
   "metadata": {},
   "outputs": [
    {
     "name": "stderr",
     "output_type": "stream",
     "text": [
      "┌ Info: Measurements\n",
      "│   brier_loss(ŷ, y[validation]) |> mean = 0.2700436048904324\n",
      "│   auc(ŷ, y[validation]) = 0.8350461133069829\n",
      "│   accuracy(mode.(ŷ), y[validation]) = 0.8108108108108107\n",
      "└ @ Main In[39]:2\n"
     ]
    }
   ],
   "source": [
    "ŷ = predict(mach_pipe, rows=validation);\n",
    "@info(\"Measurements\",\n",
    "      brier_loss(ŷ, y[validation]) |> mean,\n",
    "      auc(ŷ, y[validation]),\n",
    "      accuracy(mode.(ŷ), y[validation])\n",
    "      )"
   ]
  },
  {
   "cell_type": "markdown",
   "metadata": {},
   "source": [
    "Note that we need `mode` in the last case because `accuracy` expects\n",
    "point predictions, not probabilistic ones. (One can alternatively\n",
    "use `predict_mode` to generate the predictions.)"
   ]
  },
  {
   "cell_type": "markdown",
   "metadata": {},
   "source": [
    "While we're here, lets also generate a **confusion matrix** and\n",
    "[receiver-operator\n",
    "characteristic](https://en.wikipedia.org/wiki/Receiver_operating_characteristic)\n",
    "(ROC):"
   ]
  },
  {
   "cell_type": "code",
   "execution_count": 40,
   "metadata": {},
   "outputs": [
    {
     "data": {
      "text/plain": [
       "              ┌───────────────────────────┐\n",
       "              │       Ground Truth        │\n",
       "┌─────────────┼─────────────┬─────────────┤\n",
       "│  Predicted  │     No      │     Yes     │\n",
       "├─────────────┼─────────────┼─────────────┤\n",
       "│     No      │     101     │     14      │\n",
       "├─────────────┼─────────────┼─────────────┤\n",
       "│     Yes     │     14      │     19      │\n",
       "└─────────────┴─────────────┴─────────────┘\n"
      ]
     },
     "execution_count": 40,
     "metadata": {},
     "output_type": "execute_result"
    }
   ],
   "source": [
    "confmat(mode.(ŷ), y[validation])"
   ]
  },
  {
   "cell_type": "markdown",
   "metadata": {},
   "source": [
    "Note: Importing the plotting package and calling the plotting\n",
    "functions for the first time can take a minute or so."
   ]
  },
  {
   "cell_type": "code",
   "execution_count": 41,
   "metadata": {},
   "outputs": [
    {
     "name": "stderr",
     "output_type": "stream",
     "text": [
      "┌ Info: Precompiling Plots [91a5bcdd-55d7-5caf-9e0b-520d859cae80]\n",
      "└ @ Base loading.jl:1342\n"
     ]
    }
   ],
   "source": [
    "using Plots"
   ]
  },
  {
   "cell_type": "code",
   "execution_count": 42,
   "metadata": {},
   "outputs": [
    {
     "data": {
      "image/svg+xml": [
       "<?xml version=\"1.0\" encoding=\"utf-8\"?>\n",
       "<svg xmlns=\"http://www.w3.org/2000/svg\" xmlns:xlink=\"http://www.w3.org/1999/xlink\" width=\"600\" height=\"400\" viewBox=\"0 0 2400 1600\">\n",
       "<defs>\n",
       "  <clipPath id=\"clip740\">\n",
       "    <rect x=\"0\" y=\"0\" width=\"2400\" height=\"1600\"/>\n",
       "  </clipPath>\n",
       "</defs>\n",
       "<path clip-path=\"url(#clip740)\" d=\"\n",
       "M0 1600 L2400 1600 L2400 0 L0 0  Z\n",
       "  \" fill=\"#ffffff\" fill-rule=\"evenodd\" fill-opacity=\"1\"/>\n",
       "<defs>\n",
       "  <clipPath id=\"clip741\">\n",
       "    <rect x=\"480\" y=\"0\" width=\"1681\" height=\"1600\"/>\n",
       "  </clipPath>\n",
       "</defs>\n",
       "<path clip-path=\"url(#clip740)\" d=\"\n",
       "M249.542 1423.18 L2352.76 1423.18 L2352.76 47.2441 L249.542 47.2441  Z\n",
       "  \" fill=\"#ffffff\" fill-rule=\"evenodd\" fill-opacity=\"1\"/>\n",
       "<defs>\n",
       "  <clipPath id=\"clip742\">\n",
       "    <rect x=\"249\" y=\"47\" width=\"2104\" height=\"1377\"/>\n",
       "  </clipPath>\n",
       "</defs>\n",
       "<polyline clip-path=\"url(#clip742)\" style=\"stroke:#000000; stroke-linecap:butt; stroke-linejoin:round; stroke-width:2; stroke-opacity:0.1; fill:none\" points=\"\n",
       "  309.067,1423.18 309.067,47.2441 \n",
       "  \"/>\n",
       "<polyline clip-path=\"url(#clip742)\" style=\"stroke:#000000; stroke-linecap:butt; stroke-linejoin:round; stroke-width:2; stroke-opacity:0.1; fill:none\" points=\"\n",
       "  805.108,1423.18 805.108,47.2441 \n",
       "  \"/>\n",
       "<polyline clip-path=\"url(#clip742)\" style=\"stroke:#000000; stroke-linecap:butt; stroke-linejoin:round; stroke-width:2; stroke-opacity:0.1; fill:none\" points=\"\n",
       "  1301.15,1423.18 1301.15,47.2441 \n",
       "  \"/>\n",
       "<polyline clip-path=\"url(#clip742)\" style=\"stroke:#000000; stroke-linecap:butt; stroke-linejoin:round; stroke-width:2; stroke-opacity:0.1; fill:none\" points=\"\n",
       "  1797.19,1423.18 1797.19,47.2441 \n",
       "  \"/>\n",
       "<polyline clip-path=\"url(#clip742)\" style=\"stroke:#000000; stroke-linecap:butt; stroke-linejoin:round; stroke-width:2; stroke-opacity:0.1; fill:none\" points=\"\n",
       "  2293.23,1423.18 2293.23,47.2441 \n",
       "  \"/>\n",
       "<polyline clip-path=\"url(#clip740)\" style=\"stroke:#000000; stroke-linecap:butt; stroke-linejoin:round; stroke-width:4; stroke-opacity:1; fill:none\" points=\"\n",
       "  249.542,1423.18 2352.76,1423.18 \n",
       "  \"/>\n",
       "<polyline clip-path=\"url(#clip740)\" style=\"stroke:#000000; stroke-linecap:butt; stroke-linejoin:round; stroke-width:4; stroke-opacity:1; fill:none\" points=\"\n",
       "  309.067,1423.18 309.067,1404.28 \n",
       "  \"/>\n",
       "<polyline clip-path=\"url(#clip740)\" style=\"stroke:#000000; stroke-linecap:butt; stroke-linejoin:round; stroke-width:4; stroke-opacity:1; fill:none\" points=\"\n",
       "  805.108,1423.18 805.108,1404.28 \n",
       "  \"/>\n",
       "<polyline clip-path=\"url(#clip740)\" style=\"stroke:#000000; stroke-linecap:butt; stroke-linejoin:round; stroke-width:4; stroke-opacity:1; fill:none\" points=\"\n",
       "  1301.15,1423.18 1301.15,1404.28 \n",
       "  \"/>\n",
       "<polyline clip-path=\"url(#clip740)\" style=\"stroke:#000000; stroke-linecap:butt; stroke-linejoin:round; stroke-width:4; stroke-opacity:1; fill:none\" points=\"\n",
       "  1797.19,1423.18 1797.19,1404.28 \n",
       "  \"/>\n",
       "<polyline clip-path=\"url(#clip740)\" style=\"stroke:#000000; stroke-linecap:butt; stroke-linejoin:round; stroke-width:4; stroke-opacity:1; fill:none\" points=\"\n",
       "  2293.23,1423.18 2293.23,1404.28 \n",
       "  \"/>\n",
       "<path clip-path=\"url(#clip740)\" d=\"M271.37 1454.1 Q267.759 1454.1 265.931 1457.66 Q264.125 1461.2 264.125 1468.33 Q264.125 1475.44 265.931 1479.01 Q267.759 1482.55 271.37 1482.55 Q275.005 1482.55 276.81 1479.01 Q278.639 1475.44 278.639 1468.33 Q278.639 1461.2 276.81 1457.66 Q275.005 1454.1 271.37 1454.1 M271.37 1450.39 Q277.181 1450.39 280.236 1455 Q283.315 1459.58 283.315 1468.33 Q283.315 1477.06 280.236 1481.67 Q277.181 1486.25 271.37 1486.25 Q265.56 1486.25 262.482 1481.67 Q259.426 1477.06 259.426 1468.33 Q259.426 1459.58 262.482 1455 Q265.56 1450.39 271.37 1450.39 Z\" fill=\"#000000\" fill-rule=\"evenodd\" fill-opacity=\"1\" /><path clip-path=\"url(#clip740)\" d=\"M291.532 1479.7 L296.417 1479.7 L296.417 1485.58 L291.532 1485.58 L291.532 1479.7 Z\" fill=\"#000000\" fill-rule=\"evenodd\" fill-opacity=\"1\" /><path clip-path=\"url(#clip740)\" d=\"M316.602 1454.1 Q312.991 1454.1 311.162 1457.66 Q309.356 1461.2 309.356 1468.33 Q309.356 1475.44 311.162 1479.01 Q312.991 1482.55 316.602 1482.55 Q320.236 1482.55 322.041 1479.01 Q323.87 1475.44 323.87 1468.33 Q323.87 1461.2 322.041 1457.66 Q320.236 1454.1 316.602 1454.1 M316.602 1450.39 Q322.412 1450.39 325.467 1455 Q328.546 1459.58 328.546 1468.33 Q328.546 1477.06 325.467 1481.67 Q322.412 1486.25 316.602 1486.25 Q310.791 1486.25 307.713 1481.67 Q304.657 1477.06 304.657 1468.33 Q304.657 1459.58 307.713 1455 Q310.791 1450.39 316.602 1450.39 Z\" fill=\"#000000\" fill-rule=\"evenodd\" fill-opacity=\"1\" /><path clip-path=\"url(#clip740)\" d=\"M346.764 1454.1 Q343.152 1454.1 341.324 1457.66 Q339.518 1461.2 339.518 1468.33 Q339.518 1475.44 341.324 1479.01 Q343.152 1482.55 346.764 1482.55 Q350.398 1482.55 352.203 1479.01 Q354.032 1475.44 354.032 1468.33 Q354.032 1461.2 352.203 1457.66 Q350.398 1454.1 346.764 1454.1 M346.764 1450.39 Q352.574 1450.39 355.629 1455 Q358.708 1459.58 358.708 1468.33 Q358.708 1477.06 355.629 1481.67 Q352.574 1486.25 346.764 1486.25 Q340.953 1486.25 337.875 1481.67 Q334.819 1477.06 334.819 1468.33 Q334.819 1459.58 337.875 1455 Q340.953 1450.39 346.764 1450.39 Z\" fill=\"#000000\" fill-rule=\"evenodd\" fill-opacity=\"1\" /><path clip-path=\"url(#clip740)\" d=\"M767.909 1454.1 Q764.298 1454.1 762.469 1457.66 Q760.664 1461.2 760.664 1468.33 Q760.664 1475.44 762.469 1479.01 Q764.298 1482.55 767.909 1482.55 Q771.543 1482.55 773.349 1479.01 Q775.178 1475.44 775.178 1468.33 Q775.178 1461.2 773.349 1457.66 Q771.543 1454.1 767.909 1454.1 M767.909 1450.39 Q773.719 1450.39 776.775 1455 Q779.853 1459.58 779.853 1468.33 Q779.853 1477.06 776.775 1481.67 Q773.719 1486.25 767.909 1486.25 Q762.099 1486.25 759.02 1481.67 Q755.965 1477.06 755.965 1468.33 Q755.965 1459.58 759.02 1455 Q762.099 1450.39 767.909 1450.39 Z\" fill=\"#000000\" fill-rule=\"evenodd\" fill-opacity=\"1\" /><path clip-path=\"url(#clip740)\" d=\"M788.071 1479.7 L792.955 1479.7 L792.955 1485.58 L788.071 1485.58 L788.071 1479.7 Z\" fill=\"#000000\" fill-rule=\"evenodd\" fill-opacity=\"1\" /><path clip-path=\"url(#clip740)\" d=\"M807.168 1481.64 L823.487 1481.64 L823.487 1485.58 L801.543 1485.58 L801.543 1481.64 Q804.205 1478.89 808.788 1474.26 Q813.395 1469.61 814.576 1468.27 Q816.821 1465.74 817.7 1464.01 Q818.603 1462.25 818.603 1460.56 Q818.603 1457.8 816.659 1456.07 Q814.738 1454.33 811.636 1454.33 Q809.437 1454.33 806.983 1455.09 Q804.552 1455.86 801.775 1457.41 L801.775 1452.69 Q804.599 1451.55 807.052 1450.97 Q809.506 1450.39 811.543 1450.39 Q816.913 1450.39 820.108 1453.08 Q823.302 1455.77 823.302 1460.26 Q823.302 1462.39 822.492 1464.31 Q821.705 1466.2 819.599 1468.8 Q819.02 1469.47 815.918 1472.69 Q812.816 1475.88 807.168 1481.64 Z\" fill=\"#000000\" fill-rule=\"evenodd\" fill-opacity=\"1\" /><path clip-path=\"url(#clip740)\" d=\"M833.349 1451.02 L851.705 1451.02 L851.705 1454.96 L837.631 1454.96 L837.631 1463.43 Q838.649 1463.08 839.668 1462.92 Q840.686 1462.73 841.705 1462.73 Q847.492 1462.73 850.872 1465.9 Q854.251 1469.08 854.251 1474.49 Q854.251 1480.07 850.779 1483.17 Q847.307 1486.25 840.987 1486.25 Q838.811 1486.25 836.543 1485.88 Q834.298 1485.51 831.89 1484.77 L831.89 1480.07 Q833.974 1481.2 836.196 1481.76 Q838.418 1482.32 840.895 1482.32 Q844.899 1482.32 847.237 1480.21 Q849.575 1478.1 849.575 1474.49 Q849.575 1470.88 847.237 1468.77 Q844.899 1466.67 840.895 1466.67 Q839.02 1466.67 837.145 1467.08 Q835.293 1467.5 833.349 1468.38 L833.349 1451.02 Z\" fill=\"#000000\" fill-rule=\"evenodd\" fill-opacity=\"1\" /><path clip-path=\"url(#clip740)\" d=\"M1263.45 1454.1 Q1259.84 1454.1 1258.01 1457.66 Q1256.21 1461.2 1256.21 1468.33 Q1256.21 1475.44 1258.01 1479.01 Q1259.84 1482.55 1263.45 1482.55 Q1267.09 1482.55 1268.89 1479.01 Q1270.72 1475.44 1270.72 1468.33 Q1270.72 1461.2 1268.89 1457.66 Q1267.09 1454.1 1263.45 1454.1 M1263.45 1450.39 Q1269.26 1450.39 1272.32 1455 Q1275.4 1459.58 1275.4 1468.33 Q1275.4 1477.06 1272.32 1481.67 Q1269.26 1486.25 1263.45 1486.25 Q1257.64 1486.25 1254.56 1481.67 Q1251.51 1477.06 1251.51 1468.33 Q1251.51 1459.58 1254.56 1455 Q1257.64 1450.39 1263.45 1450.39 Z\" fill=\"#000000\" fill-rule=\"evenodd\" fill-opacity=\"1\" /><path clip-path=\"url(#clip740)\" d=\"M1283.61 1479.7 L1288.5 1479.7 L1288.5 1485.58 L1283.61 1485.58 L1283.61 1479.7 Z\" fill=\"#000000\" fill-rule=\"evenodd\" fill-opacity=\"1\" /><path clip-path=\"url(#clip740)\" d=\"M1298.73 1451.02 L1317.09 1451.02 L1317.09 1454.96 L1303.01 1454.96 L1303.01 1463.43 Q1304.03 1463.08 1305.05 1462.92 Q1306.07 1462.73 1307.09 1462.73 Q1312.87 1462.73 1316.25 1465.9 Q1319.63 1469.08 1319.63 1474.49 Q1319.63 1480.07 1316.16 1483.17 Q1312.69 1486.25 1306.37 1486.25 Q1304.19 1486.25 1301.92 1485.88 Q1299.68 1485.51 1297.27 1484.77 L1297.27 1480.07 Q1299.35 1481.2 1301.58 1481.76 Q1303.8 1482.32 1306.28 1482.32 Q1310.28 1482.32 1312.62 1480.21 Q1314.96 1478.1 1314.96 1474.49 Q1314.96 1470.88 1312.62 1468.77 Q1310.28 1466.67 1306.28 1466.67 Q1304.4 1466.67 1302.53 1467.08 Q1300.67 1467.5 1298.73 1468.38 L1298.73 1451.02 Z\" fill=\"#000000\" fill-rule=\"evenodd\" fill-opacity=\"1\" /><path clip-path=\"url(#clip740)\" d=\"M1338.85 1454.1 Q1335.23 1454.1 1333.41 1457.66 Q1331.6 1461.2 1331.6 1468.33 Q1331.6 1475.44 1333.41 1479.01 Q1335.23 1482.55 1338.85 1482.55 Q1342.48 1482.55 1344.29 1479.01 Q1346.11 1475.44 1346.11 1468.33 Q1346.11 1461.2 1344.29 1457.66 Q1342.48 1454.1 1338.85 1454.1 M1338.85 1450.39 Q1344.66 1450.39 1347.71 1455 Q1350.79 1459.58 1350.79 1468.33 Q1350.79 1477.06 1347.71 1481.67 Q1344.66 1486.25 1338.85 1486.25 Q1333.04 1486.25 1329.96 1481.67 Q1326.9 1477.06 1326.9 1468.33 Q1326.9 1459.58 1329.96 1455 Q1333.04 1450.39 1338.85 1450.39 Z\" fill=\"#000000\" fill-rule=\"evenodd\" fill-opacity=\"1\" /><path clip-path=\"url(#clip740)\" d=\"M1759.99 1454.1 Q1756.38 1454.1 1754.55 1457.66 Q1752.75 1461.2 1752.75 1468.33 Q1752.75 1475.44 1754.55 1479.01 Q1756.38 1482.55 1759.99 1482.55 Q1763.63 1482.55 1765.43 1479.01 Q1767.26 1475.44 1767.26 1468.33 Q1767.26 1461.2 1765.43 1457.66 Q1763.63 1454.1 1759.99 1454.1 M1759.99 1450.39 Q1765.8 1450.39 1768.86 1455 Q1771.94 1459.58 1771.94 1468.33 Q1771.94 1477.06 1768.86 1481.67 Q1765.8 1486.25 1759.99 1486.25 Q1754.18 1486.25 1751.1 1481.67 Q1748.05 1477.06 1748.05 1468.33 Q1748.05 1459.58 1751.1 1455 Q1754.18 1450.39 1759.99 1450.39 Z\" fill=\"#000000\" fill-rule=\"evenodd\" fill-opacity=\"1\" /><path clip-path=\"url(#clip740)\" d=\"M1780.15 1479.7 L1785.04 1479.7 L1785.04 1485.58 L1780.15 1485.58 L1780.15 1479.7 Z\" fill=\"#000000\" fill-rule=\"evenodd\" fill-opacity=\"1\" /><path clip-path=\"url(#clip740)\" d=\"M1794.04 1451.02 L1816.26 1451.02 L1816.26 1453.01 L1803.72 1485.58 L1798.83 1485.58 L1810.64 1454.96 L1794.04 1454.96 L1794.04 1451.02 Z\" fill=\"#000000\" fill-rule=\"evenodd\" fill-opacity=\"1\" /><path clip-path=\"url(#clip740)\" d=\"M1825.43 1451.02 L1843.79 1451.02 L1843.79 1454.96 L1829.71 1454.96 L1829.71 1463.43 Q1830.73 1463.08 1831.75 1462.92 Q1832.77 1462.73 1833.79 1462.73 Q1839.57 1462.73 1842.95 1465.9 Q1846.33 1469.08 1846.33 1474.49 Q1846.33 1480.07 1842.86 1483.17 Q1839.39 1486.25 1833.07 1486.25 Q1830.89 1486.25 1828.62 1485.88 Q1826.38 1485.51 1823.97 1484.77 L1823.97 1480.07 Q1826.06 1481.2 1828.28 1481.76 Q1830.5 1482.32 1832.98 1482.32 Q1836.98 1482.32 1839.32 1480.21 Q1841.66 1478.1 1841.66 1474.49 Q1841.66 1470.88 1839.32 1468.77 Q1836.98 1466.67 1832.98 1466.67 Q1831.1 1466.67 1829.23 1467.08 Q1827.38 1467.5 1825.43 1468.38 L1825.43 1451.02 Z\" fill=\"#000000\" fill-rule=\"evenodd\" fill-opacity=\"1\" /><path clip-path=\"url(#clip740)\" d=\"M2245.3 1481.64 L2252.94 1481.64 L2252.94 1455.28 L2244.63 1456.95 L2244.63 1452.69 L2252.9 1451.02 L2257.57 1451.02 L2257.57 1481.64 L2265.21 1481.64 L2265.21 1485.58 L2245.3 1485.58 L2245.3 1481.64 Z\" fill=\"#000000\" fill-rule=\"evenodd\" fill-opacity=\"1\" /><path clip-path=\"url(#clip740)\" d=\"M2274.65 1479.7 L2279.54 1479.7 L2279.54 1485.58 L2274.65 1485.58 L2274.65 1479.7 Z\" fill=\"#000000\" fill-rule=\"evenodd\" fill-opacity=\"1\" /><path clip-path=\"url(#clip740)\" d=\"M2299.72 1454.1 Q2296.11 1454.1 2294.28 1457.66 Q2292.48 1461.2 2292.48 1468.33 Q2292.48 1475.44 2294.28 1479.01 Q2296.11 1482.55 2299.72 1482.55 Q2303.36 1482.55 2305.16 1479.01 Q2306.99 1475.44 2306.99 1468.33 Q2306.99 1461.2 2305.16 1457.66 Q2303.36 1454.1 2299.72 1454.1 M2299.72 1450.39 Q2305.53 1450.39 2308.59 1455 Q2311.67 1459.58 2311.67 1468.33 Q2311.67 1477.06 2308.59 1481.67 Q2305.53 1486.25 2299.72 1486.25 Q2293.91 1486.25 2290.84 1481.67 Q2287.78 1477.06 2287.78 1468.33 Q2287.78 1459.58 2290.84 1455 Q2293.91 1450.39 2299.72 1450.39 Z\" fill=\"#000000\" fill-rule=\"evenodd\" fill-opacity=\"1\" /><path clip-path=\"url(#clip740)\" d=\"M2329.89 1454.1 Q2326.27 1454.1 2324.45 1457.66 Q2322.64 1461.2 2322.64 1468.33 Q2322.64 1475.44 2324.45 1479.01 Q2326.27 1482.55 2329.89 1482.55 Q2333.52 1482.55 2335.33 1479.01 Q2337.15 1475.44 2337.15 1468.33 Q2337.15 1461.2 2335.33 1457.66 Q2333.52 1454.1 2329.89 1454.1 M2329.89 1450.39 Q2335.7 1450.39 2338.75 1455 Q2341.83 1459.58 2341.83 1468.33 Q2341.83 1477.06 2338.75 1481.67 Q2335.7 1486.25 2329.89 1486.25 Q2324.08 1486.25 2321 1481.67 Q2317.94 1477.06 2317.94 1468.33 Q2317.94 1459.58 2321 1455 Q2324.08 1450.39 2329.89 1450.39 Z\" fill=\"#000000\" fill-rule=\"evenodd\" fill-opacity=\"1\" /><path clip-path=\"url(#clip740)\" d=\"M1034.03 1518.52 L1034.03 1523.39 L1028.43 1523.39 Q1025.28 1523.39 1024.03 1524.66 Q1022.82 1525.93 1022.82 1529.24 L1022.82 1532.4 L1032.47 1532.4 L1032.47 1536.95 L1022.82 1536.95 L1022.82 1568.04 L1016.94 1568.04 L1016.94 1536.95 L1011.33 1536.95 L1011.33 1532.4 L1016.94 1532.4 L1016.94 1529.91 Q1016.94 1523.96 1019.71 1521.26 Q1022.47 1518.52 1028.49 1518.52 L1034.03 1518.52 Z\" fill=\"#000000\" fill-rule=\"evenodd\" fill-opacity=\"1\" /><path clip-path=\"url(#clip740)\" d=\"M1055.13 1550.12 Q1048.03 1550.12 1045.3 1551.75 Q1042.56 1553.37 1042.56 1557.29 Q1042.56 1560.4 1044.6 1562.25 Q1046.66 1564.07 1050.2 1564.07 Q1055.07 1564.07 1057.99 1560.63 Q1060.95 1557.16 1060.95 1551.43 L1060.95 1550.12 L1055.13 1550.12 M1066.81 1547.71 L1066.81 1568.04 L1060.95 1568.04 L1060.95 1562.63 Q1058.95 1565.88 1055.96 1567.44 Q1052.97 1568.97 1048.64 1568.97 Q1043.16 1568.97 1039.92 1565.91 Q1036.7 1562.82 1036.7 1557.67 Q1036.7 1551.65 1040.71 1548.6 Q1044.75 1545.54 1052.74 1545.54 L1060.95 1545.54 L1060.95 1544.97 Q1060.95 1540.93 1058.28 1538.73 Q1055.64 1536.5 1050.83 1536.5 Q1047.78 1536.5 1044.88 1537.23 Q1041.99 1537.97 1039.31 1539.43 L1039.31 1534.02 Q1042.53 1532.78 1045.55 1532.17 Q1048.57 1531.54 1051.44 1531.54 Q1059.17 1531.54 1062.99 1535.55 Q1066.81 1539.56 1066.81 1547.71 Z\" fill=\"#000000\" fill-rule=\"evenodd\" fill-opacity=\"1\" /><path clip-path=\"url(#clip740)\" d=\"M1078.87 1518.52 L1084.73 1518.52 L1084.73 1568.04 L1078.87 1568.04 L1078.87 1518.52 Z\" fill=\"#000000\" fill-rule=\"evenodd\" fill-opacity=\"1\" /><path clip-path=\"url(#clip740)\" d=\"M1119.71 1533.45 L1119.71 1538.98 Q1117.23 1537.71 1114.55 1537.07 Q1111.88 1536.44 1109.02 1536.44 Q1104.66 1536.44 1102.46 1537.77 Q1100.3 1539.11 1100.3 1541.79 Q1100.3 1543.82 1101.85 1545 Q1103.41 1546.15 1108.12 1547.2 L1110.13 1547.64 Q1116.37 1548.98 1118.98 1551.43 Q1121.62 1553.85 1121.62 1558.21 Q1121.62 1563.17 1117.67 1566.07 Q1113.76 1568.97 1106.88 1568.97 Q1104.02 1568.97 1100.9 1568.39 Q1097.81 1567.85 1094.37 1566.74 L1094.37 1560.69 Q1097.62 1562.38 1100.77 1563.24 Q1103.92 1564.07 1107.01 1564.07 Q1111.15 1564.07 1113.38 1562.66 Q1115.6 1561.23 1115.6 1558.65 Q1115.6 1556.27 1113.98 1554.99 Q1112.39 1553.72 1106.95 1552.54 L1104.91 1552.07 Q1099.47 1550.92 1097.05 1548.56 Q1094.63 1546.18 1094.63 1542.04 Q1094.63 1537.01 1098.19 1534.27 Q1101.76 1531.54 1108.32 1531.54 Q1111.56 1531.54 1114.43 1532.01 Q1117.29 1532.49 1119.71 1533.45 Z\" fill=\"#000000\" fill-rule=\"evenodd\" fill-opacity=\"1\" /><path clip-path=\"url(#clip740)\" d=\"M1161.44 1548.76 L1161.44 1551.62 L1134.51 1551.62 Q1134.89 1557.67 1138.14 1560.85 Q1141.42 1564 1147.24 1564 Q1150.62 1564 1153.77 1563.17 Q1156.95 1562.35 1160.07 1560.69 L1160.07 1566.23 Q1156.92 1567.57 1153.61 1568.27 Q1150.3 1568.97 1146.89 1568.97 Q1138.36 1568.97 1133.36 1564 Q1128.4 1559.04 1128.4 1550.57 Q1128.4 1541.82 1133.11 1536.69 Q1137.85 1531.54 1145.87 1531.54 Q1153.07 1531.54 1157.24 1536.18 Q1161.44 1540.8 1161.44 1548.76 M1155.58 1547.04 Q1155.52 1542.23 1152.88 1539.37 Q1150.27 1536.5 1145.94 1536.5 Q1141.04 1536.5 1138.08 1539.27 Q1135.15 1542.04 1134.7 1547.07 L1155.58 1547.04 Z\" fill=\"#000000\" fill-rule=\"evenodd\" fill-opacity=\"1\" /><path clip-path=\"url(#clip740)\" d=\"M1197.44 1562.7 L1197.44 1581.6 L1191.55 1581.6 L1191.55 1532.4 L1197.44 1532.4 L1197.44 1537.81 Q1199.28 1534.62 1202.08 1533.1 Q1204.92 1531.54 1208.83 1531.54 Q1215.32 1531.54 1219.37 1536.69 Q1223.44 1541.85 1223.44 1550.25 Q1223.44 1558.65 1219.37 1563.81 Q1215.32 1568.97 1208.83 1568.97 Q1204.92 1568.97 1202.08 1567.44 Q1199.28 1565.88 1197.44 1562.7 M1217.36 1550.25 Q1217.36 1543.79 1214.69 1540.13 Q1212.04 1536.44 1207.4 1536.44 Q1202.75 1536.44 1200.08 1540.13 Q1197.44 1543.79 1197.44 1550.25 Q1197.44 1556.71 1200.08 1560.4 Q1202.75 1564.07 1207.4 1564.07 Q1212.04 1564.07 1214.69 1560.4 Q1217.36 1556.71 1217.36 1550.25 Z\" fill=\"#000000\" fill-rule=\"evenodd\" fill-opacity=\"1\" /><path clip-path=\"url(#clip740)\" d=\"M1246.96 1536.5 Q1242.25 1536.5 1239.51 1540.19 Q1236.78 1543.85 1236.78 1550.25 Q1236.78 1556.65 1239.48 1560.34 Q1242.22 1564 1246.96 1564 Q1251.64 1564 1254.38 1560.31 Q1257.11 1556.62 1257.11 1550.25 Q1257.11 1543.92 1254.38 1540.23 Q1251.64 1536.5 1246.96 1536.5 M1246.96 1531.54 Q1254.6 1531.54 1258.96 1536.5 Q1263.32 1541.47 1263.32 1550.25 Q1263.32 1559 1258.96 1564 Q1254.6 1568.97 1246.96 1568.97 Q1239.29 1568.97 1234.93 1564 Q1230.6 1559 1230.6 1550.25 Q1230.6 1541.47 1234.93 1536.5 Q1239.29 1531.54 1246.96 1531.54 Z\" fill=\"#000000\" fill-rule=\"evenodd\" fill-opacity=\"1\" /><path clip-path=\"url(#clip740)\" d=\"M1295.75 1533.45 L1295.75 1538.98 Q1293.27 1537.71 1290.6 1537.07 Q1287.92 1536.44 1285.06 1536.44 Q1280.7 1536.44 1278.5 1537.77 Q1276.34 1539.11 1276.34 1541.79 Q1276.34 1543.82 1277.9 1545 Q1279.46 1546.15 1284.17 1547.2 L1286.17 1547.64 Q1292.41 1548.98 1295.02 1551.43 Q1297.66 1553.85 1297.66 1558.21 Q1297.66 1563.17 1293.72 1566.07 Q1289.8 1568.97 1282.93 1568.97 Q1280.06 1568.97 1276.94 1568.39 Q1273.86 1567.85 1270.42 1566.74 L1270.42 1560.69 Q1273.67 1562.38 1276.82 1563.24 Q1279.97 1564.07 1283.05 1564.07 Q1287.19 1564.07 1289.42 1562.66 Q1291.65 1561.23 1291.65 1558.65 Q1291.65 1556.27 1290.02 1554.99 Q1288.43 1553.72 1282.99 1552.54 L1280.95 1552.07 Q1275.51 1550.92 1273.09 1548.56 Q1270.67 1546.18 1270.67 1542.04 Q1270.67 1537.01 1274.24 1534.27 Q1277.8 1531.54 1284.36 1531.54 Q1287.61 1531.54 1290.47 1532.01 Q1293.34 1532.49 1295.75 1533.45 Z\" fill=\"#000000\" fill-rule=\"evenodd\" fill-opacity=\"1\" /><path clip-path=\"url(#clip740)\" d=\"M1306.99 1532.4 L1312.85 1532.4 L1312.85 1568.04 L1306.99 1568.04 L1306.99 1532.4 M1306.99 1518.52 L1312.85 1518.52 L1312.85 1525.93 L1306.99 1525.93 L1306.99 1518.52 Z\" fill=\"#000000\" fill-rule=\"evenodd\" fill-opacity=\"1\" /><path clip-path=\"url(#clip740)\" d=\"M1330.89 1522.27 L1330.89 1532.4 L1342.96 1532.4 L1342.96 1536.95 L1330.89 1536.95 L1330.89 1556.3 Q1330.89 1560.66 1332.07 1561.9 Q1333.28 1563.14 1336.94 1563.14 L1342.96 1563.14 L1342.96 1568.04 L1336.94 1568.04 Q1330.16 1568.04 1327.58 1565.53 Q1325 1562.98 1325 1556.3 L1325 1536.95 L1320.71 1536.95 L1320.71 1532.4 L1325 1532.4 L1325 1522.27 L1330.89 1522.27 Z\" fill=\"#000000\" fill-rule=\"evenodd\" fill-opacity=\"1\" /><path clip-path=\"url(#clip740)\" d=\"M1350.66 1532.4 L1356.51 1532.4 L1356.51 1568.04 L1350.66 1568.04 L1350.66 1532.4 M1350.66 1518.52 L1356.51 1518.52 L1356.51 1525.93 L1350.66 1525.93 L1350.66 1518.52 Z\" fill=\"#000000\" fill-rule=\"evenodd\" fill-opacity=\"1\" /><path clip-path=\"url(#clip740)\" d=\"M1364.57 1532.4 L1370.77 1532.4 L1381.91 1562.31 L1393.05 1532.4 L1399.26 1532.4 L1385.89 1568.04 L1377.94 1568.04 L1364.57 1532.4 Z\" fill=\"#000000\" fill-rule=\"evenodd\" fill-opacity=\"1\" /><path clip-path=\"url(#clip740)\" d=\"M1437.84 1548.76 L1437.84 1551.62 L1410.91 1551.62 Q1411.29 1557.67 1414.54 1560.85 Q1417.82 1564 1423.64 1564 Q1427.01 1564 1430.17 1563.17 Q1433.35 1562.35 1436.47 1560.69 L1436.47 1566.23 Q1433.32 1567.57 1430.01 1568.27 Q1426.7 1568.97 1423.29 1568.97 Q1414.76 1568.97 1409.76 1564 Q1404.8 1559.04 1404.8 1550.57 Q1404.8 1541.82 1409.51 1536.69 Q1414.25 1531.54 1422.27 1531.54 Q1429.47 1531.54 1433.64 1536.18 Q1437.84 1540.8 1437.84 1548.76 M1431.98 1547.04 Q1431.92 1542.23 1429.27 1539.37 Q1426.66 1536.5 1422.34 1536.5 Q1417.43 1536.5 1414.47 1539.27 Q1411.55 1542.04 1411.1 1547.07 L1431.98 1547.04 Z\" fill=\"#000000\" fill-rule=\"evenodd\" fill-opacity=\"1\" /><path clip-path=\"url(#clip740)\" d=\"M1488.83 1537.87 Q1487.84 1537.3 1486.66 1537.04 Q1485.52 1536.76 1484.12 1536.76 Q1479.15 1536.76 1476.48 1540 Q1473.83 1543.22 1473.83 1549.27 L1473.83 1568.04 L1467.95 1568.04 L1467.95 1532.4 L1473.83 1532.4 L1473.83 1537.93 Q1475.68 1534.69 1478.64 1533.13 Q1481.6 1531.54 1485.83 1531.54 Q1486.44 1531.54 1487.17 1531.63 Q1487.9 1531.7 1488.79 1531.85 L1488.83 1537.87 Z\" fill=\"#000000\" fill-rule=\"evenodd\" fill-opacity=\"1\" /><path clip-path=\"url(#clip740)\" d=\"M1511.17 1550.12 Q1504.07 1550.12 1501.33 1551.75 Q1498.6 1553.37 1498.6 1557.29 Q1498.6 1560.4 1500.63 1562.25 Q1502.7 1564.07 1506.24 1564.07 Q1511.11 1564.07 1514.03 1560.63 Q1516.99 1557.16 1516.99 1551.43 L1516.99 1550.12 L1511.17 1550.12 M1522.85 1547.71 L1522.85 1568.04 L1516.99 1568.04 L1516.99 1562.63 Q1514.99 1565.88 1512 1567.44 Q1509.01 1568.97 1504.68 1568.97 Q1499.2 1568.97 1495.96 1565.91 Q1492.74 1562.82 1492.74 1557.67 Q1492.74 1551.65 1496.75 1548.6 Q1500.79 1545.54 1508.78 1545.54 L1516.99 1545.54 L1516.99 1544.97 Q1516.99 1540.93 1514.32 1538.73 Q1511.68 1536.5 1506.87 1536.5 Q1503.82 1536.5 1500.92 1537.23 Q1498.02 1537.97 1495.35 1539.43 L1495.35 1534.02 Q1498.57 1532.78 1501.59 1532.17 Q1504.61 1531.54 1507.48 1531.54 Q1515.21 1531.54 1519.03 1535.55 Q1522.85 1539.56 1522.85 1547.71 Z\" fill=\"#000000\" fill-rule=\"evenodd\" fill-opacity=\"1\" /><path clip-path=\"url(#clip740)\" d=\"M1540.71 1522.27 L1540.71 1532.4 L1552.77 1532.4 L1552.77 1536.95 L1540.71 1536.95 L1540.71 1556.3 Q1540.71 1560.66 1541.88 1561.9 Q1543.09 1563.14 1546.75 1563.14 L1552.77 1563.14 L1552.77 1568.04 L1546.75 1568.04 Q1539.97 1568.04 1537.4 1565.53 Q1534.82 1562.98 1534.82 1556.3 L1534.82 1536.95 L1530.52 1536.95 L1530.52 1532.4 L1534.82 1532.4 L1534.82 1522.27 L1540.71 1522.27 Z\" fill=\"#000000\" fill-rule=\"evenodd\" fill-opacity=\"1\" /><path clip-path=\"url(#clip740)\" d=\"M1590.96 1548.76 L1590.96 1551.62 L1564.04 1551.62 Q1564.42 1557.67 1567.67 1560.85 Q1570.94 1564 1576.77 1564 Q1580.14 1564 1583.29 1563.17 Q1586.48 1562.35 1589.6 1560.69 L1589.6 1566.23 Q1586.44 1567.57 1583.13 1568.27 Q1579.82 1568.97 1576.42 1568.97 Q1567.89 1568.97 1562.89 1564 Q1557.93 1559.04 1557.93 1550.57 Q1557.93 1541.82 1562.64 1536.69 Q1567.38 1531.54 1575.4 1531.54 Q1582.59 1531.54 1586.76 1536.18 Q1590.96 1540.8 1590.96 1548.76 M1585.11 1547.04 Q1585.04 1542.23 1582.4 1539.37 Q1579.79 1536.5 1575.46 1536.5 Q1570.56 1536.5 1567.6 1539.27 Q1564.67 1542.04 1564.23 1547.07 L1585.11 1547.04 Z\" fill=\"#000000\" fill-rule=\"evenodd\" fill-opacity=\"1\" /><polyline clip-path=\"url(#clip742)\" style=\"stroke:#000000; stroke-linecap:butt; stroke-linejoin:round; stroke-width:2; stroke-opacity:0.1; fill:none\" points=\"\n",
       "  249.542,1384.24 2352.76,1384.24 \n",
       "  \"/>\n",
       "<polyline clip-path=\"url(#clip742)\" style=\"stroke:#000000; stroke-linecap:butt; stroke-linejoin:round; stroke-width:2; stroke-opacity:0.1; fill:none\" points=\"\n",
       "  249.542,1059.73 2352.76,1059.73 \n",
       "  \"/>\n",
       "<polyline clip-path=\"url(#clip742)\" style=\"stroke:#000000; stroke-linecap:butt; stroke-linejoin:round; stroke-width:2; stroke-opacity:0.1; fill:none\" points=\"\n",
       "  249.542,735.212 2352.76,735.212 \n",
       "  \"/>\n",
       "<polyline clip-path=\"url(#clip742)\" style=\"stroke:#000000; stroke-linecap:butt; stroke-linejoin:round; stroke-width:2; stroke-opacity:0.1; fill:none\" points=\"\n",
       "  249.542,410.699 2352.76,410.699 \n",
       "  \"/>\n",
       "<polyline clip-path=\"url(#clip742)\" style=\"stroke:#000000; stroke-linecap:butt; stroke-linejoin:round; stroke-width:2; stroke-opacity:0.1; fill:none\" points=\"\n",
       "  249.542,86.1857 2352.76,86.1857 \n",
       "  \"/>\n",
       "<polyline clip-path=\"url(#clip740)\" style=\"stroke:#000000; stroke-linecap:butt; stroke-linejoin:round; stroke-width:4; stroke-opacity:1; fill:none\" points=\"\n",
       "  249.542,1423.18 249.542,47.2441 \n",
       "  \"/>\n",
       "<polyline clip-path=\"url(#clip740)\" style=\"stroke:#000000; stroke-linecap:butt; stroke-linejoin:round; stroke-width:4; stroke-opacity:1; fill:none\" points=\"\n",
       "  249.542,1384.24 268.44,1384.24 \n",
       "  \"/>\n",
       "<polyline clip-path=\"url(#clip740)\" style=\"stroke:#000000; stroke-linecap:butt; stroke-linejoin:round; stroke-width:4; stroke-opacity:1; fill:none\" points=\"\n",
       "  249.542,1059.73 268.44,1059.73 \n",
       "  \"/>\n",
       "<polyline clip-path=\"url(#clip740)\" style=\"stroke:#000000; stroke-linecap:butt; stroke-linejoin:round; stroke-width:4; stroke-opacity:1; fill:none\" points=\"\n",
       "  249.542,735.212 268.44,735.212 \n",
       "  \"/>\n",
       "<polyline clip-path=\"url(#clip740)\" style=\"stroke:#000000; stroke-linecap:butt; stroke-linejoin:round; stroke-width:4; stroke-opacity:1; fill:none\" points=\"\n",
       "  249.542,410.699 268.44,410.699 \n",
       "  \"/>\n",
       "<polyline clip-path=\"url(#clip740)\" style=\"stroke:#000000; stroke-linecap:butt; stroke-linejoin:round; stroke-width:4; stroke-opacity:1; fill:none\" points=\"\n",
       "  249.542,86.1857 268.44,86.1857 \n",
       "  \"/>\n",
       "<path clip-path=\"url(#clip740)\" d=\"M126.205 1370.04 Q122.593 1370.04 120.765 1373.6 Q118.959 1377.14 118.959 1384.27 Q118.959 1391.38 120.765 1394.94 Q122.593 1398.49 126.205 1398.49 Q129.839 1398.49 131.644 1394.94 Q133.473 1391.38 133.473 1384.27 Q133.473 1377.14 131.644 1373.6 Q129.839 1370.04 126.205 1370.04 M126.205 1366.33 Q132.015 1366.33 135.07 1370.94 Q138.149 1375.52 138.149 1384.27 Q138.149 1393 135.07 1397.61 Q132.015 1402.19 126.205 1402.19 Q120.394 1402.19 117.316 1397.61 Q114.26 1393 114.26 1384.27 Q114.26 1375.52 117.316 1370.94 Q120.394 1366.33 126.205 1366.33 Z\" fill=\"#000000\" fill-rule=\"evenodd\" fill-opacity=\"1\" /><path clip-path=\"url(#clip740)\" d=\"M146.366 1395.64 L151.251 1395.64 L151.251 1401.52 L146.366 1401.52 L146.366 1395.64 Z\" fill=\"#000000\" fill-rule=\"evenodd\" fill-opacity=\"1\" /><path clip-path=\"url(#clip740)\" d=\"M171.436 1370.04 Q167.825 1370.04 165.996 1373.6 Q164.19 1377.14 164.19 1384.27 Q164.19 1391.38 165.996 1394.94 Q167.825 1398.49 171.436 1398.49 Q175.07 1398.49 176.876 1394.94 Q178.704 1391.38 178.704 1384.27 Q178.704 1377.14 176.876 1373.6 Q175.07 1370.04 171.436 1370.04 M171.436 1366.33 Q177.246 1366.33 180.301 1370.94 Q183.38 1375.52 183.38 1384.27 Q183.38 1393 180.301 1397.61 Q177.246 1402.19 171.436 1402.19 Q165.626 1402.19 162.547 1397.61 Q159.491 1393 159.491 1384.27 Q159.491 1375.52 162.547 1370.94 Q165.626 1366.33 171.436 1366.33 Z\" fill=\"#000000\" fill-rule=\"evenodd\" fill-opacity=\"1\" /><path clip-path=\"url(#clip740)\" d=\"M201.598 1370.04 Q197.987 1370.04 196.158 1373.6 Q194.352 1377.14 194.352 1384.27 Q194.352 1391.38 196.158 1394.94 Q197.987 1398.49 201.598 1398.49 Q205.232 1398.49 207.037 1394.94 Q208.866 1391.38 208.866 1384.27 Q208.866 1377.14 207.037 1373.6 Q205.232 1370.04 201.598 1370.04 M201.598 1366.33 Q207.408 1366.33 210.463 1370.94 Q213.542 1375.52 213.542 1384.27 Q213.542 1393 210.463 1397.61 Q207.408 1402.19 201.598 1402.19 Q195.787 1402.19 192.709 1397.61 Q189.653 1393 189.653 1384.27 Q189.653 1375.52 192.709 1370.94 Q195.787 1366.33 201.598 1366.33 Z\" fill=\"#000000\" fill-rule=\"evenodd\" fill-opacity=\"1\" /><path clip-path=\"url(#clip740)\" d=\"M127.2 1045.52 Q123.589 1045.52 121.76 1049.09 Q119.955 1052.63 119.955 1059.76 Q119.955 1066.87 121.76 1070.43 Q123.589 1073.97 127.2 1073.97 Q130.834 1073.97 132.64 1070.43 Q134.468 1066.87 134.468 1059.76 Q134.468 1052.63 132.64 1049.09 Q130.834 1045.52 127.2 1045.52 M127.2 1041.82 Q133.01 1041.82 136.066 1046.43 Q139.144 1051.01 139.144 1059.76 Q139.144 1068.49 136.066 1073.09 Q133.01 1077.68 127.2 1077.68 Q121.39 1077.68 118.311 1073.09 Q115.256 1068.49 115.256 1059.76 Q115.256 1051.01 118.311 1046.43 Q121.39 1041.82 127.2 1041.82 Z\" fill=\"#000000\" fill-rule=\"evenodd\" fill-opacity=\"1\" /><path clip-path=\"url(#clip740)\" d=\"M147.362 1071.13 L152.246 1071.13 L152.246 1077.01 L147.362 1077.01 L147.362 1071.13 Z\" fill=\"#000000\" fill-rule=\"evenodd\" fill-opacity=\"1\" /><path clip-path=\"url(#clip740)\" d=\"M166.459 1073.07 L182.778 1073.07 L182.778 1077.01 L160.834 1077.01 L160.834 1073.07 Q163.496 1070.32 168.079 1065.69 Q172.686 1061.03 173.866 1059.69 Q176.112 1057.17 176.991 1055.43 Q177.894 1053.67 177.894 1051.98 Q177.894 1049.23 175.95 1047.49 Q174.028 1045.76 170.927 1045.76 Q168.727 1045.76 166.274 1046.52 Q163.843 1047.28 161.065 1048.83 L161.065 1044.11 Q163.89 1042.98 166.343 1042.4 Q168.797 1041.82 170.834 1041.82 Q176.204 1041.82 179.399 1044.51 Q182.593 1047.19 182.593 1051.68 Q182.593 1053.81 181.783 1055.73 Q180.996 1057.63 178.889 1060.22 Q178.311 1060.89 175.209 1064.11 Q172.107 1067.31 166.459 1073.07 Z\" fill=\"#000000\" fill-rule=\"evenodd\" fill-opacity=\"1\" /><path clip-path=\"url(#clip740)\" d=\"M192.639 1042.45 L210.996 1042.45 L210.996 1046.38 L196.922 1046.38 L196.922 1054.85 Q197.94 1054.51 198.959 1054.34 Q199.977 1054.16 200.996 1054.16 Q206.783 1054.16 210.162 1057.33 Q213.542 1060.5 213.542 1065.92 Q213.542 1071.5 210.07 1074.6 Q206.598 1077.68 200.278 1077.68 Q198.102 1077.68 195.834 1077.31 Q193.588 1076.94 191.181 1076.19 L191.181 1071.5 Q193.264 1072.63 195.487 1073.19 Q197.709 1073.74 200.186 1073.74 Q204.19 1073.74 206.528 1071.63 Q208.866 1069.53 208.866 1065.92 Q208.866 1062.31 206.528 1060.2 Q204.19 1058.09 200.186 1058.09 Q198.311 1058.09 196.436 1058.51 Q194.584 1058.93 192.639 1059.81 L192.639 1042.45 Z\" fill=\"#000000\" fill-rule=\"evenodd\" fill-opacity=\"1\" /><path clip-path=\"url(#clip740)\" d=\"M126.205 721.011 Q122.593 721.011 120.765 724.575 Q118.959 728.117 118.959 735.247 Q118.959 742.353 120.765 745.918 Q122.593 749.46 126.205 749.46 Q129.839 749.46 131.644 745.918 Q133.473 742.353 133.473 735.247 Q133.473 728.117 131.644 724.575 Q129.839 721.011 126.205 721.011 M126.205 717.307 Q132.015 717.307 135.07 721.913 Q138.149 726.497 138.149 735.247 Q138.149 743.973 135.07 748.58 Q132.015 753.163 126.205 753.163 Q120.394 753.163 117.316 748.58 Q114.26 743.973 114.26 735.247 Q114.26 726.497 117.316 721.913 Q120.394 717.307 126.205 717.307 Z\" fill=\"#000000\" fill-rule=\"evenodd\" fill-opacity=\"1\" /><path clip-path=\"url(#clip740)\" d=\"M146.366 746.612 L151.251 746.612 L151.251 752.492 L146.366 752.492 L146.366 746.612 Z\" fill=\"#000000\" fill-rule=\"evenodd\" fill-opacity=\"1\" /><path clip-path=\"url(#clip740)\" d=\"M161.482 717.932 L179.839 717.932 L179.839 721.867 L165.765 721.867 L165.765 730.339 Q166.783 729.992 167.802 729.83 Q168.82 729.645 169.839 729.645 Q175.626 729.645 179.005 732.816 Q182.385 735.987 182.385 741.404 Q182.385 746.983 178.913 750.085 Q175.44 753.163 169.121 753.163 Q166.945 753.163 164.677 752.793 Q162.431 752.423 160.024 751.682 L160.024 746.983 Q162.107 748.117 164.329 748.673 Q166.552 749.228 169.028 749.228 Q173.033 749.228 175.371 747.122 Q177.709 745.015 177.709 741.404 Q177.709 737.793 175.371 735.687 Q173.033 733.58 169.028 733.58 Q167.153 733.58 165.278 733.997 Q163.427 734.413 161.482 735.293 L161.482 717.932 Z\" fill=\"#000000\" fill-rule=\"evenodd\" fill-opacity=\"1\" /><path clip-path=\"url(#clip740)\" d=\"M201.598 721.011 Q197.987 721.011 196.158 724.575 Q194.352 728.117 194.352 735.247 Q194.352 742.353 196.158 745.918 Q197.987 749.46 201.598 749.46 Q205.232 749.46 207.037 745.918 Q208.866 742.353 208.866 735.247 Q208.866 728.117 207.037 724.575 Q205.232 721.011 201.598 721.011 M201.598 717.307 Q207.408 717.307 210.463 721.913 Q213.542 726.497 213.542 735.247 Q213.542 743.973 210.463 748.58 Q207.408 753.163 201.598 753.163 Q195.787 753.163 192.709 748.58 Q189.653 743.973 189.653 735.247 Q189.653 726.497 192.709 721.913 Q195.787 717.307 201.598 717.307 Z\" fill=\"#000000\" fill-rule=\"evenodd\" fill-opacity=\"1\" /><path clip-path=\"url(#clip740)\" d=\"M127.2 396.498 Q123.589 396.498 121.76 400.062 Q119.955 403.604 119.955 410.734 Q119.955 417.84 121.76 421.405 Q123.589 424.946 127.2 424.946 Q130.834 424.946 132.64 421.405 Q134.468 417.84 134.468 410.734 Q134.468 403.604 132.64 400.062 Q130.834 396.498 127.2 396.498 M127.2 392.794 Q133.01 392.794 136.066 397.4 Q139.144 401.984 139.144 410.734 Q139.144 419.46 136.066 424.067 Q133.01 428.65 127.2 428.65 Q121.39 428.65 118.311 424.067 Q115.256 419.46 115.256 410.734 Q115.256 401.984 118.311 397.4 Q121.39 392.794 127.2 392.794 Z\" fill=\"#000000\" fill-rule=\"evenodd\" fill-opacity=\"1\" /><path clip-path=\"url(#clip740)\" d=\"M147.362 422.099 L152.246 422.099 L152.246 427.979 L147.362 427.979 L147.362 422.099 Z\" fill=\"#000000\" fill-rule=\"evenodd\" fill-opacity=\"1\" /><path clip-path=\"url(#clip740)\" d=\"M161.251 393.419 L183.473 393.419 L183.473 395.41 L170.927 427.979 L166.042 427.979 L177.848 397.354 L161.251 397.354 L161.251 393.419 Z\" fill=\"#000000\" fill-rule=\"evenodd\" fill-opacity=\"1\" /><path clip-path=\"url(#clip740)\" d=\"M192.639 393.419 L210.996 393.419 L210.996 397.354 L196.922 397.354 L196.922 405.826 Q197.94 405.479 198.959 405.317 Q199.977 405.132 200.996 405.132 Q206.783 405.132 210.162 408.303 Q213.542 411.474 213.542 416.891 Q213.542 422.47 210.07 425.571 Q206.598 428.65 200.278 428.65 Q198.102 428.65 195.834 428.28 Q193.588 427.909 191.181 427.169 L191.181 422.47 Q193.264 423.604 195.487 424.159 Q197.709 424.715 200.186 424.715 Q204.19 424.715 206.528 422.608 Q208.866 420.502 208.866 416.891 Q208.866 413.28 206.528 411.173 Q204.19 409.067 200.186 409.067 Q198.311 409.067 196.436 409.484 Q194.584 409.9 192.639 410.78 L192.639 393.419 Z\" fill=\"#000000\" fill-rule=\"evenodd\" fill-opacity=\"1\" /><path clip-path=\"url(#clip740)\" d=\"M117.015 99.5305 L124.654 99.5305 L124.654 73.1649 L116.343 74.8316 L116.343 70.5723 L124.607 68.9057 L129.283 68.9057 L129.283 99.5305 L136.922 99.5305 L136.922 103.466 L117.015 103.466 L117.015 99.5305 Z\" fill=\"#000000\" fill-rule=\"evenodd\" fill-opacity=\"1\" /><path clip-path=\"url(#clip740)\" d=\"M146.366 97.5861 L151.251 97.5861 L151.251 103.466 L146.366 103.466 L146.366 97.5861 Z\" fill=\"#000000\" fill-rule=\"evenodd\" fill-opacity=\"1\" /><path clip-path=\"url(#clip740)\" d=\"M171.436 71.9844 Q167.825 71.9844 165.996 75.5492 Q164.19 79.0908 164.19 86.2204 Q164.19 93.3268 165.996 96.8916 Q167.825 100.433 171.436 100.433 Q175.07 100.433 176.876 96.8916 Q178.704 93.3268 178.704 86.2204 Q178.704 79.0908 176.876 75.5492 Q175.07 71.9844 171.436 71.9844 M171.436 68.2807 Q177.246 68.2807 180.301 72.8871 Q183.38 77.4704 183.38 86.2204 Q183.38 94.9472 180.301 99.5537 Q177.246 104.137 171.436 104.137 Q165.626 104.137 162.547 99.5537 Q159.491 94.9472 159.491 86.2204 Q159.491 77.4704 162.547 72.8871 Q165.626 68.2807 171.436 68.2807 Z\" fill=\"#000000\" fill-rule=\"evenodd\" fill-opacity=\"1\" /><path clip-path=\"url(#clip740)\" d=\"M201.598 71.9844 Q197.987 71.9844 196.158 75.5492 Q194.352 79.0908 194.352 86.2204 Q194.352 93.3268 196.158 96.8916 Q197.987 100.433 201.598 100.433 Q205.232 100.433 207.037 96.8916 Q208.866 93.3268 208.866 86.2204 Q208.866 79.0908 207.037 75.5492 Q205.232 71.9844 201.598 71.9844 M201.598 68.2807 Q207.408 68.2807 210.463 72.8871 Q213.542 77.4704 213.542 86.2204 Q213.542 94.9472 210.463 99.5537 Q207.408 104.137 201.598 104.137 Q195.787 104.137 192.709 99.5537 Q189.653 94.9472 189.653 86.2204 Q189.653 77.4704 192.709 72.8871 Q195.787 68.2807 201.598 68.2807 Z\" fill=\"#000000\" fill-rule=\"evenodd\" fill-opacity=\"1\" /><path clip-path=\"url(#clip740)\" d=\"M18.2347 1004.07 L28.3562 1004.07 L28.3562 992.005 L32.9077 992.005 L32.9077 1004.07 L52.2594 1004.07 Q56.6199 1004.07 57.8613 1002.89 Q59.1026 1001.68 59.1026 998.02 L59.1026 992.005 L64.0042 992.005 L64.0042 998.02 Q64.0042 1004.8 61.4897 1007.38 Q58.9434 1009.96 52.2594 1009.96 L32.9077 1009.96 L32.9077 1014.25 L28.3562 1014.25 L28.3562 1009.96 L18.2347 1009.96 L18.2347 1004.07 Z\" fill=\"#000000\" fill-rule=\"evenodd\" fill-opacity=\"1\" /><path clip-path=\"url(#clip740)\" d=\"M33.8307 963.645 Q33.2578 964.632 33.0032 965.81 Q32.7167 966.956 32.7167 968.356 Q32.7167 973.321 35.9632 975.995 Q39.1779 978.637 45.2253 978.637 L64.0042 978.637 L64.0042 984.525 L28.3562 984.525 L28.3562 978.637 L33.8944 978.637 Q30.6479 976.791 29.0883 973.83 Q27.4968 970.87 27.4968 966.637 Q27.4968 966.032 27.5923 965.3 Q27.656 964.568 27.8151 963.677 L33.8307 963.645 Z\" fill=\"#000000\" fill-rule=\"evenodd\" fill-opacity=\"1\" /><path clip-path=\"url(#clip740)\" d=\"M49.9359 958.107 L28.3562 958.107 L28.3562 952.251 L49.7131 952.251 Q54.7739 952.251 57.3202 950.277 Q59.8346 948.304 59.8346 944.357 Q59.8346 939.615 56.8109 936.878 Q53.7872 934.108 48.5673 934.108 L28.3562 934.108 L28.3562 928.252 L64.0042 928.252 L64.0042 934.108 L58.5296 934.108 Q61.7762 936.241 63.3676 939.074 Q64.9272 941.875 64.9272 945.599 Q64.9272 951.741 61.1078 954.924 Q57.2883 958.107 49.9359 958.107 M27.4968 943.371 L27.4968 943.371 Z\" fill=\"#000000\" fill-rule=\"evenodd\" fill-opacity=\"1\" /><path clip-path=\"url(#clip740)\" d=\"M44.7161 885.697 L47.5806 885.697 L47.5806 912.624 Q53.6281 912.242 56.8109 908.996 Q59.9619 905.717 59.9619 899.893 Q59.9619 896.519 59.1344 893.368 Q58.3069 890.185 56.6518 887.066 L62.1899 887.066 Q63.5267 890.217 64.227 893.527 Q64.9272 896.837 64.9272 900.243 Q64.9272 908.773 59.9619 913.77 Q54.9967 918.735 46.5303 918.735 Q37.7774 918.735 32.6531 914.025 Q27.4968 909.282 27.4968 901.261 Q27.4968 894.068 32.1438 889.899 Q36.7589 885.697 44.7161 885.697 M42.9973 891.554 Q38.1912 891.617 35.3266 894.259 Q32.4621 896.869 32.4621 901.198 Q32.4621 906.099 35.2312 909.059 Q38.0002 911.988 43.0292 912.433 L42.9973 891.554 Z\" fill=\"#000000\" fill-rule=\"evenodd\" fill-opacity=\"1\" /><path clip-path=\"url(#clip740)\" d=\"M58.657 849.699 L77.5631 849.699 L77.5631 855.587 L28.3562 855.587 L28.3562 849.699 L33.7671 849.699 Q30.5842 847.853 29.0564 845.052 Q27.4968 842.219 27.4968 838.305 Q27.4968 831.812 32.6531 827.769 Q37.8093 823.695 46.212 823.695 Q54.6147 823.695 59.771 827.769 Q64.9272 831.812 64.9272 838.305 Q64.9272 842.219 63.3994 845.052 Q61.8398 847.853 58.657 849.699 M46.212 829.775 Q39.7508 829.775 36.0905 832.448 Q32.3984 835.09 32.3984 839.737 Q32.3984 844.384 36.0905 847.057 Q39.7508 849.699 46.212 849.699 Q52.6732 849.699 56.3653 847.057 Q60.0256 844.384 60.0256 839.737 Q60.0256 835.09 56.3653 832.448 Q52.6732 829.775 46.212 829.775 Z\" fill=\"#000000\" fill-rule=\"evenodd\" fill-opacity=\"1\" /><path clip-path=\"url(#clip740)\" d=\"M32.4621 800.174 Q32.4621 804.885 36.1542 807.622 Q39.8145 810.359 46.212 810.359 Q52.6095 810.359 56.3017 807.654 Q59.9619 804.916 59.9619 800.174 Q59.9619 795.495 56.2698 792.758 Q52.5777 790.021 46.212 790.021 Q39.8781 790.021 36.186 792.758 Q32.4621 795.495 32.4621 800.174 M27.4968 800.174 Q27.4968 792.535 32.4621 788.175 Q37.4273 783.814 46.212 783.814 Q54.9649 783.814 59.9619 788.175 Q64.9272 792.535 64.9272 800.174 Q64.9272 807.845 59.9619 812.205 Q54.9649 816.534 46.212 816.534 Q37.4273 816.534 32.4621 812.205 Q27.4968 807.845 27.4968 800.174 Z\" fill=\"#000000\" fill-rule=\"evenodd\" fill-opacity=\"1\" /><path clip-path=\"url(#clip740)\" d=\"M29.4065 751.381 L34.9447 751.381 Q33.6716 753.863 33.035 756.537 Q32.3984 759.211 32.3984 762.075 Q32.3984 766.436 33.7352 768.632 Q35.072 770.796 37.7456 770.796 Q39.7826 770.796 40.9603 769.237 Q42.1061 767.677 43.1565 762.966 L43.6021 760.961 Q44.9389 754.723 47.3897 752.113 Q49.8086 749.471 54.1691 749.471 Q59.1344 749.471 62.0308 753.418 Q64.9272 757.333 64.9272 764.208 Q64.9272 767.072 64.3543 770.192 Q63.8132 773.279 62.6992 776.716 L56.6518 776.716 Q58.3387 773.47 59.198 770.319 Q60.0256 767.168 60.0256 764.08 Q60.0256 759.943 58.6251 757.715 Q57.1929 755.487 54.6147 755.487 Q52.2276 755.487 50.9545 757.11 Q49.6813 758.701 48.5037 764.144 L48.0262 766.181 Q46.8804 771.624 44.5251 774.043 Q42.138 776.462 38.0002 776.462 Q32.9713 776.462 30.2341 772.897 Q27.4968 769.332 27.4968 762.775 Q27.4968 759.529 27.9743 756.664 Q28.4517 753.8 29.4065 751.381 Z\" fill=\"#000000\" fill-rule=\"evenodd\" fill-opacity=\"1\" /><path clip-path=\"url(#clip740)\" d=\"M28.3562 740.145 L28.3562 734.289 L64.0042 734.289 L64.0042 740.145 L28.3562 740.145 M14.479 740.145 L14.479 734.289 L21.895 734.289 L21.895 740.145 L14.479 740.145 Z\" fill=\"#000000\" fill-rule=\"evenodd\" fill-opacity=\"1\" /><path clip-path=\"url(#clip740)\" d=\"M18.2347 716.242 L28.3562 716.242 L28.3562 704.179 L32.9077 704.179 L32.9077 716.242 L52.2594 716.242 Q56.6199 716.242 57.8613 715.065 Q59.1026 713.855 59.1026 710.195 L59.1026 704.179 L64.0042 704.179 L64.0042 710.195 Q64.0042 716.974 61.4897 719.552 Q58.9434 722.13 52.2594 722.13 L32.9077 722.13 L32.9077 726.427 L28.3562 726.427 L28.3562 722.13 L18.2347 722.13 L18.2347 716.242 Z\" fill=\"#000000\" fill-rule=\"evenodd\" fill-opacity=\"1\" /><path clip-path=\"url(#clip740)\" d=\"M28.3562 696.477 L28.3562 690.62 L64.0042 690.62 L64.0042 696.477 L28.3562 696.477 M14.479 696.477 L14.479 690.62 L21.895 690.62 L21.895 696.477 L14.479 696.477 Z\" fill=\"#000000\" fill-rule=\"evenodd\" fill-opacity=\"1\" /><path clip-path=\"url(#clip740)\" d=\"M28.3562 682.568 L28.3562 676.361 L58.275 665.221 L28.3562 654.081 L28.3562 647.874 L64.0042 661.242 L64.0042 669.2 L28.3562 682.568 Z\" fill=\"#000000\" fill-rule=\"evenodd\" fill-opacity=\"1\" /><path clip-path=\"url(#clip740)\" d=\"M44.7161 609.298 L47.5806 609.298 L47.5806 636.225 Q53.6281 635.843 56.8109 632.597 Q59.9619 629.318 59.9619 623.494 Q59.9619 620.12 59.1344 616.969 Q58.3069 613.786 56.6518 610.667 L62.1899 610.667 Q63.5267 613.818 64.227 617.128 Q64.9272 620.438 64.9272 623.844 Q64.9272 632.374 59.9619 637.371 Q54.9967 642.336 46.5303 642.336 Q37.7774 642.336 32.6531 637.626 Q27.4968 632.883 27.4968 624.862 Q27.4968 617.669 32.1438 613.5 Q36.7589 609.298 44.7161 609.298 M42.9973 615.155 Q38.1912 615.218 35.3266 617.86 Q32.4621 620.47 32.4621 624.799 Q32.4621 629.7 35.2312 632.66 Q38.0002 635.589 43.0292 636.034 L42.9973 615.155 Z\" fill=\"#000000\" fill-rule=\"evenodd\" fill-opacity=\"1\" /><path clip-path=\"url(#clip740)\" d=\"M33.8307 558.309 Q33.2578 559.296 33.0032 560.473 Q32.7167 561.619 32.7167 563.02 Q32.7167 567.985 35.9632 570.658 Q39.1779 573.3 45.2253 573.3 L64.0042 573.3 L64.0042 579.188 L28.3562 579.188 L28.3562 573.3 L33.8944 573.3 Q30.6479 571.454 29.0883 568.494 Q27.4968 565.534 27.4968 561.301 Q27.4968 560.696 27.5923 559.964 Q27.656 559.232 27.8151 558.341 L33.8307 558.309 Z\" fill=\"#000000\" fill-rule=\"evenodd\" fill-opacity=\"1\" /><path clip-path=\"url(#clip740)\" d=\"M46.0847 535.965 Q46.0847 543.063 47.7079 545.8 Q49.3312 548.538 53.2461 548.538 Q56.3653 548.538 58.2114 546.501 Q60.0256 544.432 60.0256 540.899 Q60.0256 536.029 56.5881 533.101 Q53.1188 530.141 47.3897 530.141 L46.0847 530.141 L46.0847 535.965 M43.6657 524.284 L64.0042 524.284 L64.0042 530.141 L58.5933 530.141 Q61.8398 532.146 63.3994 535.138 Q64.9272 538.13 64.9272 542.458 Q64.9272 547.933 61.8716 551.179 Q58.7843 554.394 53.6281 554.394 Q47.6125 554.394 44.5569 550.384 Q41.5014 546.341 41.5014 538.352 L41.5014 530.141 L40.9285 530.141 Q36.8862 530.141 34.6901 532.814 Q32.4621 535.456 32.4621 540.262 Q32.4621 543.318 33.1941 546.214 Q33.9262 549.111 35.3903 551.784 L29.9795 551.784 Q28.7381 548.569 28.1334 545.546 Q27.4968 542.522 27.4968 539.657 Q27.4968 531.923 31.5072 528.104 Q35.5176 524.284 43.6657 524.284 Z\" fill=\"#000000\" fill-rule=\"evenodd\" fill-opacity=\"1\" /><path clip-path=\"url(#clip740)\" d=\"M18.2347 506.428 L28.3562 506.428 L28.3562 494.365 L32.9077 494.365 L32.9077 506.428 L52.2594 506.428 Q56.6199 506.428 57.8613 505.251 Q59.1026 504.041 59.1026 500.381 L59.1026 494.365 L64.0042 494.365 L64.0042 500.381 Q64.0042 507.161 61.4897 509.739 Q58.9434 512.317 52.2594 512.317 L32.9077 512.317 L32.9077 516.614 L28.3562 516.614 L28.3562 512.317 L18.2347 512.317 L18.2347 506.428 Z\" fill=\"#000000\" fill-rule=\"evenodd\" fill-opacity=\"1\" /><path clip-path=\"url(#clip740)\" d=\"M44.7161 456.171 L47.5806 456.171 L47.5806 483.098 Q53.6281 482.716 56.8109 479.47 Q59.9619 476.191 59.9619 470.367 Q59.9619 466.993 59.1344 463.842 Q58.3069 460.659 56.6518 457.54 L62.1899 457.54 Q63.5267 460.691 64.227 464.001 Q64.9272 467.311 64.9272 470.717 Q64.9272 479.247 59.9619 484.244 Q54.9967 489.209 46.5303 489.209 Q37.7774 489.209 32.6531 484.499 Q27.4968 479.756 27.4968 471.735 Q27.4968 464.542 32.1438 460.373 Q36.7589 456.171 44.7161 456.171 M42.9973 462.028 Q38.1912 462.091 35.3266 464.733 Q32.4621 467.343 32.4621 471.672 Q32.4621 476.573 35.2312 479.533 Q38.0002 482.462 43.0292 482.907 L42.9973 462.028 Z\" fill=\"#000000\" fill-rule=\"evenodd\" fill-opacity=\"1\" /><circle clip-path=\"url(#clip742)\" cx=\"309.067\" cy=\"1384.24\" r=\"14\" fill=\"#009af9\" fill-rule=\"evenodd\" fill-opacity=\"1\" stroke=\"#000000\" stroke-opacity=\"1\" stroke-width=\"3.2\"/>\n",
       "<circle clip-path=\"url(#clip742)\" cx=\"309.067\" cy=\"1344.9\" r=\"14\" fill=\"#009af9\" fill-rule=\"evenodd\" fill-opacity=\"1\" stroke=\"#000000\" stroke-opacity=\"1\" stroke-width=\"3.2\"/>\n",
       "<circle clip-path=\"url(#clip742)\" cx=\"309.067\" cy=\"1266.23\" r=\"14\" fill=\"#009af9\" fill-rule=\"evenodd\" fill-opacity=\"1\" stroke=\"#000000\" stroke-opacity=\"1\" stroke-width=\"3.2\"/>\n",
       "<circle clip-path=\"url(#clip742)\" cx=\"309.067\" cy=\"1226.9\" r=\"14\" fill=\"#009af9\" fill-rule=\"evenodd\" fill-opacity=\"1\" stroke=\"#000000\" stroke-opacity=\"1\" stroke-width=\"3.2\"/>\n",
       "<circle clip-path=\"url(#clip742)\" cx=\"309.067\" cy=\"1187.56\" r=\"14\" fill=\"#009af9\" fill-rule=\"evenodd\" fill-opacity=\"1\" stroke=\"#000000\" stroke-opacity=\"1\" stroke-width=\"3.2\"/>\n",
       "<circle clip-path=\"url(#clip742)\" cx=\"326.321\" cy=\"1187.56\" r=\"14\" fill=\"#009af9\" fill-rule=\"evenodd\" fill-opacity=\"1\" stroke=\"#000000\" stroke-opacity=\"1\" stroke-width=\"3.2\"/>\n",
       "<circle clip-path=\"url(#clip742)\" cx=\"326.321\" cy=\"1148.23\" r=\"14\" fill=\"#009af9\" fill-rule=\"evenodd\" fill-opacity=\"1\" stroke=\"#000000\" stroke-opacity=\"1\" stroke-width=\"3.2\"/>\n",
       "<circle clip-path=\"url(#clip742)\" cx=\"326.321\" cy=\"1108.89\" r=\"14\" fill=\"#009af9\" fill-rule=\"evenodd\" fill-opacity=\"1\" stroke=\"#000000\" stroke-opacity=\"1\" stroke-width=\"3.2\"/>\n",
       "<circle clip-path=\"url(#clip742)\" cx=\"343.574\" cy=\"1108.89\" r=\"14\" fill=\"#009af9\" fill-rule=\"evenodd\" fill-opacity=\"1\" stroke=\"#000000\" stroke-opacity=\"1\" stroke-width=\"3.2\"/>\n",
       "<circle clip-path=\"url(#clip742)\" cx=\"360.828\" cy=\"1108.89\" r=\"14\" fill=\"#009af9\" fill-rule=\"evenodd\" fill-opacity=\"1\" stroke=\"#000000\" stroke-opacity=\"1\" stroke-width=\"3.2\"/>\n",
       "<circle clip-path=\"url(#clip742)\" cx=\"360.828\" cy=\"1069.56\" r=\"14\" fill=\"#009af9\" fill-rule=\"evenodd\" fill-opacity=\"1\" stroke=\"#000000\" stroke-opacity=\"1\" stroke-width=\"3.2\"/>\n",
       "<circle clip-path=\"url(#clip742)\" cx=\"378.081\" cy=\"1069.56\" r=\"14\" fill=\"#009af9\" fill-rule=\"evenodd\" fill-opacity=\"1\" stroke=\"#000000\" stroke-opacity=\"1\" stroke-width=\"3.2\"/>\n",
       "<circle clip-path=\"url(#clip742)\" cx=\"378.081\" cy=\"1030.22\" r=\"14\" fill=\"#009af9\" fill-rule=\"evenodd\" fill-opacity=\"1\" stroke=\"#000000\" stroke-opacity=\"1\" stroke-width=\"3.2\"/>\n",
       "<circle clip-path=\"url(#clip742)\" cx=\"378.081\" cy=\"951.554\" r=\"14\" fill=\"#009af9\" fill-rule=\"evenodd\" fill-opacity=\"1\" stroke=\"#000000\" stroke-opacity=\"1\" stroke-width=\"3.2\"/>\n",
       "<circle clip-path=\"url(#clip742)\" cx=\"378.081\" cy=\"912.219\" r=\"14\" fill=\"#009af9\" fill-rule=\"evenodd\" fill-opacity=\"1\" stroke=\"#000000\" stroke-opacity=\"1\" stroke-width=\"3.2\"/>\n",
       "<circle clip-path=\"url(#clip742)\" cx=\"395.335\" cy=\"912.219\" r=\"14\" fill=\"#009af9\" fill-rule=\"evenodd\" fill-opacity=\"1\" stroke=\"#000000\" stroke-opacity=\"1\" stroke-width=\"3.2\"/>\n",
       "<circle clip-path=\"url(#clip742)\" cx=\"412.589\" cy=\"912.219\" r=\"14\" fill=\"#009af9\" fill-rule=\"evenodd\" fill-opacity=\"1\" stroke=\"#000000\" stroke-opacity=\"1\" stroke-width=\"3.2\"/>\n",
       "<circle clip-path=\"url(#clip742)\" cx=\"412.589\" cy=\"872.884\" r=\"14\" fill=\"#009af9\" fill-rule=\"evenodd\" fill-opacity=\"1\" stroke=\"#000000\" stroke-opacity=\"1\" stroke-width=\"3.2\"/>\n",
       "<circle clip-path=\"url(#clip742)\" cx=\"412.589\" cy=\"833.549\" r=\"14\" fill=\"#009af9\" fill-rule=\"evenodd\" fill-opacity=\"1\" stroke=\"#000000\" stroke-opacity=\"1\" stroke-width=\"3.2\"/>\n",
       "<circle clip-path=\"url(#clip742)\" cx=\"429.842\" cy=\"833.549\" r=\"14\" fill=\"#009af9\" fill-rule=\"evenodd\" fill-opacity=\"1\" stroke=\"#000000\" stroke-opacity=\"1\" stroke-width=\"3.2\"/>\n",
       "<circle clip-path=\"url(#clip742)\" cx=\"447.096\" cy=\"833.549\" r=\"14\" fill=\"#009af9\" fill-rule=\"evenodd\" fill-opacity=\"1\" stroke=\"#000000\" stroke-opacity=\"1\" stroke-width=\"3.2\"/>\n",
       "<circle clip-path=\"url(#clip742)\" cx=\"464.349\" cy=\"833.549\" r=\"14\" fill=\"#009af9\" fill-rule=\"evenodd\" fill-opacity=\"1\" stroke=\"#000000\" stroke-opacity=\"1\" stroke-width=\"3.2\"/>\n",
       "<circle clip-path=\"url(#clip742)\" cx=\"481.603\" cy=\"794.214\" r=\"14\" fill=\"#009af9\" fill-rule=\"evenodd\" fill-opacity=\"1\" stroke=\"#000000\" stroke-opacity=\"1\" stroke-width=\"3.2\"/>\n",
       "<circle clip-path=\"url(#clip742)\" cx=\"498.857\" cy=\"794.214\" r=\"14\" fill=\"#009af9\" fill-rule=\"evenodd\" fill-opacity=\"1\" stroke=\"#000000\" stroke-opacity=\"1\" stroke-width=\"3.2\"/>\n",
       "<circle clip-path=\"url(#clip742)\" cx=\"498.857\" cy=\"754.879\" r=\"14\" fill=\"#009af9\" fill-rule=\"evenodd\" fill-opacity=\"1\" stroke=\"#000000\" stroke-opacity=\"1\" stroke-width=\"3.2\"/>\n",
       "<circle clip-path=\"url(#clip742)\" cx=\"516.11\" cy=\"754.879\" r=\"14\" fill=\"#009af9\" fill-rule=\"evenodd\" fill-opacity=\"1\" stroke=\"#000000\" stroke-opacity=\"1\" stroke-width=\"3.2\"/>\n",
       "<circle clip-path=\"url(#clip742)\" cx=\"516.11\" cy=\"715.545\" r=\"14\" fill=\"#009af9\" fill-rule=\"evenodd\" fill-opacity=\"1\" stroke=\"#000000\" stroke-opacity=\"1\" stroke-width=\"3.2\"/>\n",
       "<circle clip-path=\"url(#clip742)\" cx=\"533.364\" cy=\"715.545\" r=\"14\" fill=\"#009af9\" fill-rule=\"evenodd\" fill-opacity=\"1\" stroke=\"#000000\" stroke-opacity=\"1\" stroke-width=\"3.2\"/>\n",
       "<circle clip-path=\"url(#clip742)\" cx=\"550.617\" cy=\"715.545\" r=\"14\" fill=\"#009af9\" fill-rule=\"evenodd\" fill-opacity=\"1\" stroke=\"#000000\" stroke-opacity=\"1\" stroke-width=\"3.2\"/>\n",
       "<circle clip-path=\"url(#clip742)\" cx=\"550.617\" cy=\"676.21\" r=\"14\" fill=\"#009af9\" fill-rule=\"evenodd\" fill-opacity=\"1\" stroke=\"#000000\" stroke-opacity=\"1\" stroke-width=\"3.2\"/>\n",
       "<circle clip-path=\"url(#clip742)\" cx=\"550.617\" cy=\"636.875\" r=\"14\" fill=\"#009af9\" fill-rule=\"evenodd\" fill-opacity=\"1\" stroke=\"#000000\" stroke-opacity=\"1\" stroke-width=\"3.2\"/>\n",
       "<circle clip-path=\"url(#clip742)\" cx=\"567.871\" cy=\"636.875\" r=\"14\" fill=\"#009af9\" fill-rule=\"evenodd\" fill-opacity=\"1\" stroke=\"#000000\" stroke-opacity=\"1\" stroke-width=\"3.2\"/>\n",
       "<circle clip-path=\"url(#clip742)\" cx=\"602.378\" cy=\"636.875\" r=\"14\" fill=\"#009af9\" fill-rule=\"evenodd\" fill-opacity=\"1\" stroke=\"#000000\" stroke-opacity=\"1\" stroke-width=\"3.2\"/>\n",
       "<circle clip-path=\"url(#clip742)\" cx=\"602.378\" cy=\"597.54\" r=\"14\" fill=\"#009af9\" fill-rule=\"evenodd\" fill-opacity=\"1\" stroke=\"#000000\" stroke-opacity=\"1\" stroke-width=\"3.2\"/>\n",
       "<circle clip-path=\"url(#clip742)\" cx=\"619.632\" cy=\"597.54\" r=\"14\" fill=\"#009af9\" fill-rule=\"evenodd\" fill-opacity=\"1\" stroke=\"#000000\" stroke-opacity=\"1\" stroke-width=\"3.2\"/>\n",
       "<circle clip-path=\"url(#clip742)\" cx=\"619.632\" cy=\"558.205\" r=\"14\" fill=\"#009af9\" fill-rule=\"evenodd\" fill-opacity=\"1\" stroke=\"#000000\" stroke-opacity=\"1\" stroke-width=\"3.2\"/>\n",
       "<circle clip-path=\"url(#clip742)\" cx=\"636.885\" cy=\"558.205\" r=\"14\" fill=\"#009af9\" fill-rule=\"evenodd\" fill-opacity=\"1\" stroke=\"#000000\" stroke-opacity=\"1\" stroke-width=\"3.2\"/>\n",
       "<circle clip-path=\"url(#clip742)\" cx=\"671.393\" cy=\"558.205\" r=\"14\" fill=\"#009af9\" fill-rule=\"evenodd\" fill-opacity=\"1\" stroke=\"#000000\" stroke-opacity=\"1\" stroke-width=\"3.2\"/>\n",
       "<circle clip-path=\"url(#clip742)\" cx=\"688.646\" cy=\"558.205\" r=\"14\" fill=\"#009af9\" fill-rule=\"evenodd\" fill-opacity=\"1\" stroke=\"#000000\" stroke-opacity=\"1\" stroke-width=\"3.2\"/>\n",
       "<circle clip-path=\"url(#clip742)\" cx=\"688.646\" cy=\"518.87\" r=\"14\" fill=\"#009af9\" fill-rule=\"evenodd\" fill-opacity=\"1\" stroke=\"#000000\" stroke-opacity=\"1\" stroke-width=\"3.2\"/>\n",
       "<circle clip-path=\"url(#clip742)\" cx=\"705.9\" cy=\"518.87\" r=\"14\" fill=\"#009af9\" fill-rule=\"evenodd\" fill-opacity=\"1\" stroke=\"#000000\" stroke-opacity=\"1\" stroke-width=\"3.2\"/>\n",
       "<circle clip-path=\"url(#clip742)\" cx=\"723.153\" cy=\"518.87\" r=\"14\" fill=\"#009af9\" fill-rule=\"evenodd\" fill-opacity=\"1\" stroke=\"#000000\" stroke-opacity=\"1\" stroke-width=\"3.2\"/>\n",
       "<circle clip-path=\"url(#clip742)\" cx=\"740.407\" cy=\"518.87\" r=\"14\" fill=\"#009af9\" fill-rule=\"evenodd\" fill-opacity=\"1\" stroke=\"#000000\" stroke-opacity=\"1\" stroke-width=\"3.2\"/>\n",
       "<circle clip-path=\"url(#clip742)\" cx=\"740.407\" cy=\"479.535\" r=\"14\" fill=\"#009af9\" fill-rule=\"evenodd\" fill-opacity=\"1\" stroke=\"#000000\" stroke-opacity=\"1\" stroke-width=\"3.2\"/>\n",
       "<circle clip-path=\"url(#clip742)\" cx=\"740.407\" cy=\"440.2\" r=\"14\" fill=\"#009af9\" fill-rule=\"evenodd\" fill-opacity=\"1\" stroke=\"#000000\" stroke-opacity=\"1\" stroke-width=\"3.2\"/>\n",
       "<circle clip-path=\"url(#clip742)\" cx=\"774.914\" cy=\"400.865\" r=\"14\" fill=\"#009af9\" fill-rule=\"evenodd\" fill-opacity=\"1\" stroke=\"#000000\" stroke-opacity=\"1\" stroke-width=\"3.2\"/>\n",
       "<circle clip-path=\"url(#clip742)\" cx=\"792.168\" cy=\"400.865\" r=\"14\" fill=\"#009af9\" fill-rule=\"evenodd\" fill-opacity=\"1\" stroke=\"#000000\" stroke-opacity=\"1\" stroke-width=\"3.2\"/>\n",
       "<circle clip-path=\"url(#clip742)\" cx=\"809.421\" cy=\"400.865\" r=\"14\" fill=\"#009af9\" fill-rule=\"evenodd\" fill-opacity=\"1\" stroke=\"#000000\" stroke-opacity=\"1\" stroke-width=\"3.2\"/>\n",
       "<circle clip-path=\"url(#clip742)\" cx=\"809.421\" cy=\"361.53\" r=\"14\" fill=\"#009af9\" fill-rule=\"evenodd\" fill-opacity=\"1\" stroke=\"#000000\" stroke-opacity=\"1\" stroke-width=\"3.2\"/>\n",
       "<circle clip-path=\"url(#clip742)\" cx=\"826.675\" cy=\"361.53\" r=\"14\" fill=\"#009af9\" fill-rule=\"evenodd\" fill-opacity=\"1\" stroke=\"#000000\" stroke-opacity=\"1\" stroke-width=\"3.2\"/>\n",
       "<circle clip-path=\"url(#clip742)\" cx=\"826.675\" cy=\"322.195\" r=\"14\" fill=\"#009af9\" fill-rule=\"evenodd\" fill-opacity=\"1\" stroke=\"#000000\" stroke-opacity=\"1\" stroke-width=\"3.2\"/>\n",
       "<circle clip-path=\"url(#clip742)\" cx=\"826.675\" cy=\"282.86\" r=\"14\" fill=\"#009af9\" fill-rule=\"evenodd\" fill-opacity=\"1\" stroke=\"#000000\" stroke-opacity=\"1\" stroke-width=\"3.2\"/>\n",
       "<circle clip-path=\"url(#clip742)\" cx=\"843.929\" cy=\"282.86\" r=\"14\" fill=\"#009af9\" fill-rule=\"evenodd\" fill-opacity=\"1\" stroke=\"#000000\" stroke-opacity=\"1\" stroke-width=\"3.2\"/>\n",
       "<circle clip-path=\"url(#clip742)\" cx=\"861.182\" cy=\"282.86\" r=\"14\" fill=\"#009af9\" fill-rule=\"evenodd\" fill-opacity=\"1\" stroke=\"#000000\" stroke-opacity=\"1\" stroke-width=\"3.2\"/>\n",
       "<circle clip-path=\"url(#clip742)\" cx=\"878.436\" cy=\"282.86\" r=\"14\" fill=\"#009af9\" fill-rule=\"evenodd\" fill-opacity=\"1\" stroke=\"#000000\" stroke-opacity=\"1\" stroke-width=\"3.2\"/>\n",
       "<circle clip-path=\"url(#clip742)\" cx=\"895.689\" cy=\"282.86\" r=\"14\" fill=\"#009af9\" fill-rule=\"evenodd\" fill-opacity=\"1\" stroke=\"#000000\" stroke-opacity=\"1\" stroke-width=\"3.2\"/>\n",
       "<circle clip-path=\"url(#clip742)\" cx=\"912.943\" cy=\"282.86\" r=\"14\" fill=\"#009af9\" fill-rule=\"evenodd\" fill-opacity=\"1\" stroke=\"#000000\" stroke-opacity=\"1\" stroke-width=\"3.2\"/>\n",
       "<circle clip-path=\"url(#clip742)\" cx=\"930.197\" cy=\"282.86\" r=\"14\" fill=\"#009af9\" fill-rule=\"evenodd\" fill-opacity=\"1\" stroke=\"#000000\" stroke-opacity=\"1\" stroke-width=\"3.2\"/>\n",
       "<circle clip-path=\"url(#clip742)\" cx=\"947.45\" cy=\"282.86\" r=\"14\" fill=\"#009af9\" fill-rule=\"evenodd\" fill-opacity=\"1\" stroke=\"#000000\" stroke-opacity=\"1\" stroke-width=\"3.2\"/>\n",
       "<circle clip-path=\"url(#clip742)\" cx=\"964.704\" cy=\"282.86\" r=\"14\" fill=\"#009af9\" fill-rule=\"evenodd\" fill-opacity=\"1\" stroke=\"#000000\" stroke-opacity=\"1\" stroke-width=\"3.2\"/>\n",
       "<circle clip-path=\"url(#clip742)\" cx=\"981.957\" cy=\"282.86\" r=\"14\" fill=\"#009af9\" fill-rule=\"evenodd\" fill-opacity=\"1\" stroke=\"#000000\" stroke-opacity=\"1\" stroke-width=\"3.2\"/>\n",
       "<circle clip-path=\"url(#clip742)\" cx=\"999.211\" cy=\"282.86\" r=\"14\" fill=\"#009af9\" fill-rule=\"evenodd\" fill-opacity=\"1\" stroke=\"#000000\" stroke-opacity=\"1\" stroke-width=\"3.2\"/>\n",
       "<circle clip-path=\"url(#clip742)\" cx=\"1016.46\" cy=\"282.86\" r=\"14\" fill=\"#009af9\" fill-rule=\"evenodd\" fill-opacity=\"1\" stroke=\"#000000\" stroke-opacity=\"1\" stroke-width=\"3.2\"/>\n",
       "<circle clip-path=\"url(#clip742)\" cx=\"1033.72\" cy=\"282.86\" r=\"14\" fill=\"#009af9\" fill-rule=\"evenodd\" fill-opacity=\"1\" stroke=\"#000000\" stroke-opacity=\"1\" stroke-width=\"3.2\"/>\n",
       "<circle clip-path=\"url(#clip742)\" cx=\"1050.97\" cy=\"282.86\" r=\"14\" fill=\"#009af9\" fill-rule=\"evenodd\" fill-opacity=\"1\" stroke=\"#000000\" stroke-opacity=\"1\" stroke-width=\"3.2\"/>\n",
       "<circle clip-path=\"url(#clip742)\" cx=\"1068.23\" cy=\"282.86\" r=\"14\" fill=\"#009af9\" fill-rule=\"evenodd\" fill-opacity=\"1\" stroke=\"#000000\" stroke-opacity=\"1\" stroke-width=\"3.2\"/>\n",
       "<circle clip-path=\"url(#clip742)\" cx=\"1085.48\" cy=\"282.86\" r=\"14\" fill=\"#009af9\" fill-rule=\"evenodd\" fill-opacity=\"1\" stroke=\"#000000\" stroke-opacity=\"1\" stroke-width=\"3.2\"/>\n",
       "<circle clip-path=\"url(#clip742)\" cx=\"1102.73\" cy=\"282.86\" r=\"14\" fill=\"#009af9\" fill-rule=\"evenodd\" fill-opacity=\"1\" stroke=\"#000000\" stroke-opacity=\"1\" stroke-width=\"3.2\"/>\n",
       "<circle clip-path=\"url(#clip742)\" cx=\"1119.99\" cy=\"282.86\" r=\"14\" fill=\"#009af9\" fill-rule=\"evenodd\" fill-opacity=\"1\" stroke=\"#000000\" stroke-opacity=\"1\" stroke-width=\"3.2\"/>\n",
       "<circle clip-path=\"url(#clip742)\" cx=\"1154.49\" cy=\"282.86\" r=\"14\" fill=\"#009af9\" fill-rule=\"evenodd\" fill-opacity=\"1\" stroke=\"#000000\" stroke-opacity=\"1\" stroke-width=\"3.2\"/>\n",
       "<circle clip-path=\"url(#clip742)\" cx=\"1171.75\" cy=\"282.86\" r=\"14\" fill=\"#009af9\" fill-rule=\"evenodd\" fill-opacity=\"1\" stroke=\"#000000\" stroke-opacity=\"1\" stroke-width=\"3.2\"/>\n",
       "<circle clip-path=\"url(#clip742)\" cx=\"1189\" cy=\"282.86\" r=\"14\" fill=\"#009af9\" fill-rule=\"evenodd\" fill-opacity=\"1\" stroke=\"#000000\" stroke-opacity=\"1\" stroke-width=\"3.2\"/>\n",
       "<circle clip-path=\"url(#clip742)\" cx=\"1206.25\" cy=\"282.86\" r=\"14\" fill=\"#009af9\" fill-rule=\"evenodd\" fill-opacity=\"1\" stroke=\"#000000\" stroke-opacity=\"1\" stroke-width=\"3.2\"/>\n",
       "<circle clip-path=\"url(#clip742)\" cx=\"1206.25\" cy=\"243.525\" r=\"14\" fill=\"#009af9\" fill-rule=\"evenodd\" fill-opacity=\"1\" stroke=\"#000000\" stroke-opacity=\"1\" stroke-width=\"3.2\"/>\n",
       "<circle clip-path=\"url(#clip742)\" cx=\"1223.51\" cy=\"243.525\" r=\"14\" fill=\"#009af9\" fill-rule=\"evenodd\" fill-opacity=\"1\" stroke=\"#000000\" stroke-opacity=\"1\" stroke-width=\"3.2\"/>\n",
       "<circle clip-path=\"url(#clip742)\" cx=\"1240.76\" cy=\"243.525\" r=\"14\" fill=\"#009af9\" fill-rule=\"evenodd\" fill-opacity=\"1\" stroke=\"#000000\" stroke-opacity=\"1\" stroke-width=\"3.2\"/>\n",
       "<circle clip-path=\"url(#clip742)\" cx=\"1240.76\" cy=\"204.19\" r=\"14\" fill=\"#009af9\" fill-rule=\"evenodd\" fill-opacity=\"1\" stroke=\"#000000\" stroke-opacity=\"1\" stroke-width=\"3.2\"/>\n",
       "<circle clip-path=\"url(#clip742)\" cx=\"1258.01\" cy=\"204.19\" r=\"14\" fill=\"#009af9\" fill-rule=\"evenodd\" fill-opacity=\"1\" stroke=\"#000000\" stroke-opacity=\"1\" stroke-width=\"3.2\"/>\n",
       "<circle clip-path=\"url(#clip742)\" cx=\"1275.27\" cy=\"204.19\" r=\"14\" fill=\"#009af9\" fill-rule=\"evenodd\" fill-opacity=\"1\" stroke=\"#000000\" stroke-opacity=\"1\" stroke-width=\"3.2\"/>\n",
       "<circle clip-path=\"url(#clip742)\" cx=\"1292.52\" cy=\"204.19\" r=\"14\" fill=\"#009af9\" fill-rule=\"evenodd\" fill-opacity=\"1\" stroke=\"#000000\" stroke-opacity=\"1\" stroke-width=\"3.2\"/>\n",
       "<circle clip-path=\"url(#clip742)\" cx=\"1309.78\" cy=\"204.19\" r=\"14\" fill=\"#009af9\" fill-rule=\"evenodd\" fill-opacity=\"1\" stroke=\"#000000\" stroke-opacity=\"1\" stroke-width=\"3.2\"/>\n",
       "<circle clip-path=\"url(#clip742)\" cx=\"1309.78\" cy=\"164.856\" r=\"14\" fill=\"#009af9\" fill-rule=\"evenodd\" fill-opacity=\"1\" stroke=\"#000000\" stroke-opacity=\"1\" stroke-width=\"3.2\"/>\n",
       "<circle clip-path=\"url(#clip742)\" cx=\"1327.03\" cy=\"164.856\" r=\"14\" fill=\"#009af9\" fill-rule=\"evenodd\" fill-opacity=\"1\" stroke=\"#000000\" stroke-opacity=\"1\" stroke-width=\"3.2\"/>\n",
       "<circle clip-path=\"url(#clip742)\" cx=\"1344.28\" cy=\"164.856\" r=\"14\" fill=\"#009af9\" fill-rule=\"evenodd\" fill-opacity=\"1\" stroke=\"#000000\" stroke-opacity=\"1\" stroke-width=\"3.2\"/>\n",
       "<circle clip-path=\"url(#clip742)\" cx=\"1361.54\" cy=\"164.856\" r=\"14\" fill=\"#009af9\" fill-rule=\"evenodd\" fill-opacity=\"1\" stroke=\"#000000\" stroke-opacity=\"1\" stroke-width=\"3.2\"/>\n",
       "<circle clip-path=\"url(#clip742)\" cx=\"1378.79\" cy=\"164.856\" r=\"14\" fill=\"#009af9\" fill-rule=\"evenodd\" fill-opacity=\"1\" stroke=\"#000000\" stroke-opacity=\"1\" stroke-width=\"3.2\"/>\n",
       "<circle clip-path=\"url(#clip742)\" cx=\"1396.04\" cy=\"164.856\" r=\"14\" fill=\"#009af9\" fill-rule=\"evenodd\" fill-opacity=\"1\" stroke=\"#000000\" stroke-opacity=\"1\" stroke-width=\"3.2\"/>\n",
       "<circle clip-path=\"url(#clip742)\" cx=\"1396.04\" cy=\"125.521\" r=\"14\" fill=\"#009af9\" fill-rule=\"evenodd\" fill-opacity=\"1\" stroke=\"#000000\" stroke-opacity=\"1\" stroke-width=\"3.2\"/>\n",
       "<circle clip-path=\"url(#clip742)\" cx=\"1413.3\" cy=\"125.521\" r=\"14\" fill=\"#009af9\" fill-rule=\"evenodd\" fill-opacity=\"1\" stroke=\"#000000\" stroke-opacity=\"1\" stroke-width=\"3.2\"/>\n",
       "<circle clip-path=\"url(#clip742)\" cx=\"1430.55\" cy=\"125.521\" r=\"14\" fill=\"#009af9\" fill-rule=\"evenodd\" fill-opacity=\"1\" stroke=\"#000000\" stroke-opacity=\"1\" stroke-width=\"3.2\"/>\n",
       "<circle clip-path=\"url(#clip742)\" cx=\"1447.8\" cy=\"125.521\" r=\"14\" fill=\"#009af9\" fill-rule=\"evenodd\" fill-opacity=\"1\" stroke=\"#000000\" stroke-opacity=\"1\" stroke-width=\"3.2\"/>\n",
       "<circle clip-path=\"url(#clip742)\" cx=\"1465.06\" cy=\"125.521\" r=\"14\" fill=\"#009af9\" fill-rule=\"evenodd\" fill-opacity=\"1\" stroke=\"#000000\" stroke-opacity=\"1\" stroke-width=\"3.2\"/>\n",
       "<circle clip-path=\"url(#clip742)\" cx=\"1482.31\" cy=\"125.521\" r=\"14\" fill=\"#009af9\" fill-rule=\"evenodd\" fill-opacity=\"1\" stroke=\"#000000\" stroke-opacity=\"1\" stroke-width=\"3.2\"/>\n",
       "<circle clip-path=\"url(#clip742)\" cx=\"1499.57\" cy=\"125.521\" r=\"14\" fill=\"#009af9\" fill-rule=\"evenodd\" fill-opacity=\"1\" stroke=\"#000000\" stroke-opacity=\"1\" stroke-width=\"3.2\"/>\n",
       "<circle clip-path=\"url(#clip742)\" cx=\"1516.82\" cy=\"125.521\" r=\"14\" fill=\"#009af9\" fill-rule=\"evenodd\" fill-opacity=\"1\" stroke=\"#000000\" stroke-opacity=\"1\" stroke-width=\"3.2\"/>\n",
       "<circle clip-path=\"url(#clip742)\" cx=\"1551.33\" cy=\"125.521\" r=\"14\" fill=\"#009af9\" fill-rule=\"evenodd\" fill-opacity=\"1\" stroke=\"#000000\" stroke-opacity=\"1\" stroke-width=\"3.2\"/>\n",
       "<circle clip-path=\"url(#clip742)\" cx=\"1568.58\" cy=\"125.521\" r=\"14\" fill=\"#009af9\" fill-rule=\"evenodd\" fill-opacity=\"1\" stroke=\"#000000\" stroke-opacity=\"1\" stroke-width=\"3.2\"/>\n",
       "<circle clip-path=\"url(#clip742)\" cx=\"1585.83\" cy=\"125.521\" r=\"14\" fill=\"#009af9\" fill-rule=\"evenodd\" fill-opacity=\"1\" stroke=\"#000000\" stroke-opacity=\"1\" stroke-width=\"3.2\"/>\n",
       "<circle clip-path=\"url(#clip742)\" cx=\"1603.09\" cy=\"125.521\" r=\"14\" fill=\"#009af9\" fill-rule=\"evenodd\" fill-opacity=\"1\" stroke=\"#000000\" stroke-opacity=\"1\" stroke-width=\"3.2\"/>\n",
       "<circle clip-path=\"url(#clip742)\" cx=\"1654.85\" cy=\"125.521\" r=\"14\" fill=\"#009af9\" fill-rule=\"evenodd\" fill-opacity=\"1\" stroke=\"#000000\" stroke-opacity=\"1\" stroke-width=\"3.2\"/>\n",
       "<circle clip-path=\"url(#clip742)\" cx=\"1672.1\" cy=\"125.521\" r=\"14\" fill=\"#009af9\" fill-rule=\"evenodd\" fill-opacity=\"1\" stroke=\"#000000\" stroke-opacity=\"1\" stroke-width=\"3.2\"/>\n",
       "<circle clip-path=\"url(#clip742)\" cx=\"1689.35\" cy=\"125.521\" r=\"14\" fill=\"#009af9\" fill-rule=\"evenodd\" fill-opacity=\"1\" stroke=\"#000000\" stroke-opacity=\"1\" stroke-width=\"3.2\"/>\n",
       "<circle clip-path=\"url(#clip742)\" cx=\"1706.61\" cy=\"125.521\" r=\"14\" fill=\"#009af9\" fill-rule=\"evenodd\" fill-opacity=\"1\" stroke=\"#000000\" stroke-opacity=\"1\" stroke-width=\"3.2\"/>\n",
       "<circle clip-path=\"url(#clip742)\" cx=\"1723.86\" cy=\"125.521\" r=\"14\" fill=\"#009af9\" fill-rule=\"evenodd\" fill-opacity=\"1\" stroke=\"#000000\" stroke-opacity=\"1\" stroke-width=\"3.2\"/>\n",
       "<circle clip-path=\"url(#clip742)\" cx=\"1741.12\" cy=\"125.521\" r=\"14\" fill=\"#009af9\" fill-rule=\"evenodd\" fill-opacity=\"1\" stroke=\"#000000\" stroke-opacity=\"1\" stroke-width=\"3.2\"/>\n",
       "<circle clip-path=\"url(#clip742)\" cx=\"1741.12\" cy=\"86.1857\" r=\"14\" fill=\"#009af9\" fill-rule=\"evenodd\" fill-opacity=\"1\" stroke=\"#000000\" stroke-opacity=\"1\" stroke-width=\"3.2\"/>\n",
       "<circle clip-path=\"url(#clip742)\" cx=\"1758.37\" cy=\"86.1857\" r=\"14\" fill=\"#009af9\" fill-rule=\"evenodd\" fill-opacity=\"1\" stroke=\"#000000\" stroke-opacity=\"1\" stroke-width=\"3.2\"/>\n",
       "<circle clip-path=\"url(#clip742)\" cx=\"1775.62\" cy=\"86.1857\" r=\"14\" fill=\"#009af9\" fill-rule=\"evenodd\" fill-opacity=\"1\" stroke=\"#000000\" stroke-opacity=\"1\" stroke-width=\"3.2\"/>\n",
       "<circle clip-path=\"url(#clip742)\" cx=\"1792.88\" cy=\"86.1857\" r=\"14\" fill=\"#009af9\" fill-rule=\"evenodd\" fill-opacity=\"1\" stroke=\"#000000\" stroke-opacity=\"1\" stroke-width=\"3.2\"/>\n",
       "<circle clip-path=\"url(#clip742)\" cx=\"1810.13\" cy=\"86.1857\" r=\"14\" fill=\"#009af9\" fill-rule=\"evenodd\" fill-opacity=\"1\" stroke=\"#000000\" stroke-opacity=\"1\" stroke-width=\"3.2\"/>\n",
       "<circle clip-path=\"url(#clip742)\" cx=\"1827.38\" cy=\"86.1857\" r=\"14\" fill=\"#009af9\" fill-rule=\"evenodd\" fill-opacity=\"1\" stroke=\"#000000\" stroke-opacity=\"1\" stroke-width=\"3.2\"/>\n",
       "<circle clip-path=\"url(#clip742)\" cx=\"1844.64\" cy=\"86.1857\" r=\"14\" fill=\"#009af9\" fill-rule=\"evenodd\" fill-opacity=\"1\" stroke=\"#000000\" stroke-opacity=\"1\" stroke-width=\"3.2\"/>\n",
       "<circle clip-path=\"url(#clip742)\" cx=\"1861.89\" cy=\"86.1857\" r=\"14\" fill=\"#009af9\" fill-rule=\"evenodd\" fill-opacity=\"1\" stroke=\"#000000\" stroke-opacity=\"1\" stroke-width=\"3.2\"/>\n",
       "<circle clip-path=\"url(#clip742)\" cx=\"1913.65\" cy=\"86.1857\" r=\"14\" fill=\"#009af9\" fill-rule=\"evenodd\" fill-opacity=\"1\" stroke=\"#000000\" stroke-opacity=\"1\" stroke-width=\"3.2\"/>\n",
       "<circle clip-path=\"url(#clip742)\" cx=\"1965.41\" cy=\"86.1857\" r=\"14\" fill=\"#009af9\" fill-rule=\"evenodd\" fill-opacity=\"1\" stroke=\"#000000\" stroke-opacity=\"1\" stroke-width=\"3.2\"/>\n",
       "<circle clip-path=\"url(#clip742)\" cx=\"1982.67\" cy=\"86.1857\" r=\"14\" fill=\"#009af9\" fill-rule=\"evenodd\" fill-opacity=\"1\" stroke=\"#000000\" stroke-opacity=\"1\" stroke-width=\"3.2\"/>\n",
       "<circle clip-path=\"url(#clip742)\" cx=\"1999.92\" cy=\"86.1857\" r=\"14\" fill=\"#009af9\" fill-rule=\"evenodd\" fill-opacity=\"1\" stroke=\"#000000\" stroke-opacity=\"1\" stroke-width=\"3.2\"/>\n",
       "<circle clip-path=\"url(#clip742)\" cx=\"2017.17\" cy=\"86.1857\" r=\"14\" fill=\"#009af9\" fill-rule=\"evenodd\" fill-opacity=\"1\" stroke=\"#000000\" stroke-opacity=\"1\" stroke-width=\"3.2\"/>\n",
       "<circle clip-path=\"url(#clip742)\" cx=\"2034.43\" cy=\"86.1857\" r=\"14\" fill=\"#009af9\" fill-rule=\"evenodd\" fill-opacity=\"1\" stroke=\"#000000\" stroke-opacity=\"1\" stroke-width=\"3.2\"/>\n",
       "<circle clip-path=\"url(#clip742)\" cx=\"2086.19\" cy=\"86.1857\" r=\"14\" fill=\"#009af9\" fill-rule=\"evenodd\" fill-opacity=\"1\" stroke=\"#000000\" stroke-opacity=\"1\" stroke-width=\"3.2\"/>\n",
       "<circle clip-path=\"url(#clip742)\" cx=\"2103.44\" cy=\"86.1857\" r=\"14\" fill=\"#009af9\" fill-rule=\"evenodd\" fill-opacity=\"1\" stroke=\"#000000\" stroke-opacity=\"1\" stroke-width=\"3.2\"/>\n",
       "<circle clip-path=\"url(#clip742)\" cx=\"2120.69\" cy=\"86.1857\" r=\"14\" fill=\"#009af9\" fill-rule=\"evenodd\" fill-opacity=\"1\" stroke=\"#000000\" stroke-opacity=\"1\" stroke-width=\"3.2\"/>\n",
       "<circle clip-path=\"url(#clip742)\" cx=\"2189.71\" cy=\"86.1857\" r=\"14\" fill=\"#009af9\" fill-rule=\"evenodd\" fill-opacity=\"1\" stroke=\"#000000\" stroke-opacity=\"1\" stroke-width=\"3.2\"/>\n",
       "<circle clip-path=\"url(#clip742)\" cx=\"2206.96\" cy=\"86.1857\" r=\"14\" fill=\"#009af9\" fill-rule=\"evenodd\" fill-opacity=\"1\" stroke=\"#000000\" stroke-opacity=\"1\" stroke-width=\"3.2\"/>\n",
       "<circle clip-path=\"url(#clip742)\" cx=\"2224.22\" cy=\"86.1857\" r=\"14\" fill=\"#009af9\" fill-rule=\"evenodd\" fill-opacity=\"1\" stroke=\"#000000\" stroke-opacity=\"1\" stroke-width=\"3.2\"/>\n",
       "<circle clip-path=\"url(#clip742)\" cx=\"2241.47\" cy=\"86.1857\" r=\"14\" fill=\"#009af9\" fill-rule=\"evenodd\" fill-opacity=\"1\" stroke=\"#000000\" stroke-opacity=\"1\" stroke-width=\"3.2\"/>\n",
       "<circle clip-path=\"url(#clip742)\" cx=\"2275.98\" cy=\"86.1857\" r=\"14\" fill=\"#009af9\" fill-rule=\"evenodd\" fill-opacity=\"1\" stroke=\"#000000\" stroke-opacity=\"1\" stroke-width=\"3.2\"/>\n",
       "<circle clip-path=\"url(#clip742)\" cx=\"2293.23\" cy=\"86.1857\" r=\"14\" fill=\"#009af9\" fill-rule=\"evenodd\" fill-opacity=\"1\" stroke=\"#000000\" stroke-opacity=\"1\" stroke-width=\"3.2\"/>\n",
       "<polyline clip-path=\"url(#clip742)\" style=\"stroke:#000000; stroke-linecap:butt; stroke-linejoin:round; stroke-width:8; stroke-opacity:1; fill:none\" stroke-dasharray=\"32, 20\" points=\"\n",
       "  309.067,1384.24 2293.23,86.1857 \n",
       "  \"/>\n",
       "</svg>\n"
      ]
     },
     "execution_count": 42,
     "metadata": {},
     "output_type": "execute_result"
    }
   ],
   "source": [
    "roc_curve = roc(ŷ, y[validation])\n",
    "plt = scatter(roc_curve, legend=false)\n",
    "plot!(plt, xlab=\"false positive rate\", ylab=\"true positive rate\")\n",
    "plot!([0, 1], [0, 1], linewidth=2, linestyle=:dash, color=:black)"
   ]
  },
  {
   "cell_type": "markdown",
   "metadata": {},
   "source": [
    "### Automated performance evaluation (more typical workflow)"
   ]
  },
  {
   "cell_type": "markdown",
   "metadata": {},
   "source": [
    "We can also get performance estimates with a single call to the\n",
    "`evaluate` function, which also allows for more complicated\n",
    "resampling - in this case stratified cross-validation. To make this\n",
    "more comprehensive, we set `repeats=3` below to make our\n",
    "cross-validation \"Monte Carlo\" (3 random size-6 partitions of the\n",
    "observation space, for a total of 18 folds) and set\n",
    "`acceleration=CPUThreads()` to parallelize the computation."
   ]
  },
  {
   "cell_type": "markdown",
   "metadata": {},
   "source": [
    "We choose a `StratifiedCV` resampling strategy; the complete list of options is\n",
    "[here](https://alan-turing-institute.github.io/MLJ.jl/dev/evaluating_model_performance/#Built-in-resampling-strategies)."
   ]
  },
  {
   "cell_type": "code",
   "execution_count": 43,
   "metadata": {},
   "outputs": [
    {
     "name": "stderr",
     "output_type": "stream",
     "text": [
      "┌ Info: Performing evaluations using 5 threads.\n",
      "└ @ MLJBase /Users/anthony/.julia/packages/MLJBase/hHa7b/src/resampling.jl:1177\n",
      "\u001b[33mEvaluating over 18 folds: 100%[=========================] Time: 0:00:03\u001b[39m\n"
     ]
    },
    {
     "data": {
      "text/plain": [
       "PerformanceEvaluation object with these fields:\n",
       "  measure, measurement, operation, per_fold,\n",
       "  per_observation, fitted_params_per_fold,\n",
       "  report_per_fold, train_test_pairs\n",
       "Extract:\n",
       "┌──────────────────┬─────────────┬──────────────┬───────────────────────────────\n",
       "│\u001b[22m measure          \u001b[0m│\u001b[22m measurement \u001b[0m│\u001b[22m operation    \u001b[0m│\u001b[22m per_fold                    \u001b[0m ⋯\n",
       "├──────────────────┼─────────────┼──────────────┼───────────────────────────────\n",
       "│ BrierLoss()      │ 0.313       │ predict      │ [0.296, 0.346, 0.289, 0.337, ⋯\n",
       "│ AreaUnderCurve() │ 0.789       │ predict      │ [0.791, 0.732, 0.8, 0.778, 0 ⋯\n",
       "│ Accuracy()       │ 0.781       │ predict_mode │ [0.795, 0.78, 0.768, 0.744,  ⋯\n",
       "└──────────────────┴─────────────┴──────────────┴───────────────────────────────\n",
       "\u001b[36m                                                                1 column omitted\u001b[0m\n"
      ]
     },
     "execution_count": 43,
     "metadata": {},
     "output_type": "execute_result"
    }
   ],
   "source": [
    "e_pipe = evaluate(pipe, X, y,\n",
    "                  resampling=StratifiedCV(nfolds=6, rng=123),\n",
    "                  measures=[brier_loss, auc, accuracy],\n",
    "                  repeats=3,\n",
    "                  acceleration=CPUThreads())"
   ]
  },
  {
   "cell_type": "markdown",
   "metadata": {},
   "source": [
    "(There is also a version of `evaluate` for machines. Query the\n",
    "`evaluate` and `evaluate!` doc-strings to learn more about these\n",
    "functions and what the `PerformanceEvaluation` object `e_pipe` records.)"
   ]
  },
  {
   "cell_type": "markdown",
   "metadata": {},
   "source": [
    "While [less than ideal](https://arxiv.org/abs/2104.00673), let's\n",
    "adopt the common practice of using the standard error of a\n",
    "cross-validation score as an estimate of the uncertainty of a\n",
    "performance measure's expected value. Here's a utility function to\n",
    "calculate confidence intervals for our performance estimates based\n",
    "on this practice, and it's application to the current evaluation:"
   ]
  },
  {
   "cell_type": "code",
   "execution_count": 44,
   "metadata": {},
   "outputs": [],
   "source": [
    "using Measurements"
   ]
  },
  {
   "cell_type": "code",
   "execution_count": 45,
   "metadata": {},
   "outputs": [
    {
     "data": {
      "text/html": [
       "<div class=\"data-frame\"><p>3 rows × 2 columns</p><table class=\"data-frame\"><thead><tr><th></th><th>measure</th><th>measurement</th></tr><tr><th></th><th title=\"MLJBase.Measure\">Measure</th><th title=\"Measurement{Float64}\">Measurem…</th></tr></thead><tbody><tr><th>1</th><td>BrierLoss()</td><td>0.3131±0.0071</td></tr><tr><th>2</th><td>AreaUnderCurve()</td><td>0.789±0.011</td></tr><tr><th>3</th><td>Accuracy()</td><td>0.7809±0.0072</td></tr></tbody></table></div>"
      ],
      "text/latex": [
       "\\begin{tabular}{r|cc}\n",
       "\t& measure & measurement\\\\\n",
       "\t\\hline\n",
       "\t& Measure & Measurem…\\\\\n",
       "\t\\hline\n",
       "\t1 & BrierLoss() & $0.3131 \\pm 0.0071$ \\\\\n",
       "\t2 & AreaUnderCurve() & $0.789 \\pm 0.011$ \\\\\n",
       "\t3 & Accuracy() & $0.7809 \\pm 0.0072$ \\\\\n",
       "\\end{tabular}\n"
      ],
      "text/plain": [
       "\u001b[1m3×2 DataFrame\u001b[0m\n",
       "\u001b[1m Row \u001b[0m│\u001b[1m measure          \u001b[0m\u001b[1m measurement   \u001b[0m\n",
       "\u001b[1m     \u001b[0m│\u001b[90m Measure          \u001b[0m\u001b[90m Measuremen…   \u001b[0m\n",
       "─────┼─────────────────────────────────\n",
       "   1 │ BrierLoss()       0.3131±0.0071\n",
       "   2 │ AreaUnderCurve()  0.789±0.011\n",
       "   3 │ Accuracy()        0.7809±0.0072"
      ]
     },
     "execution_count": 45,
     "metadata": {},
     "output_type": "execute_result"
    }
   ],
   "source": [
    "function confidence_intervals(e)\n",
    "    measure = e.measure\n",
    "    nfolds = length(e.per_fold[1])\n",
    "    measurement = [e.measurement[j] ± std(e.per_fold[j])/sqrt(nfolds - 1)\n",
    "                   for j in eachindex(measure)]\n",
    "    table = (measure=measure, measurement=measurement)\n",
    "    return DataFrames.DataFrame(table)\n",
    "end\n",
    "\n",
    "const confidence_intervals_basic_model = confidence_intervals(e_pipe)"
   ]
  },
  {
   "cell_type": "markdown",
   "metadata": {},
   "source": [
    "## Filtering out unimportant features"
   ]
  },
  {
   "cell_type": "markdown",
   "metadata": {},
   "source": [
    "> Introduces: `FeatureSelector`"
   ]
  },
  {
   "cell_type": "markdown",
   "metadata": {},
   "source": [
    "Before continuing, we'll modify our pipeline to drop those features\n",
    "with low feature importance, to speed up later optimization:"
   ]
  },
  {
   "cell_type": "code",
   "execution_count": 46,
   "metadata": {},
   "outputs": [
    {
     "data": {
      "text/plain": [
       "ProbabilisticPipeline(\n",
       "    continuous_encoder = ContinuousEncoder(\n",
       "            drop_last = false,\n",
       "            one_hot_ordered_factors = false),\n",
       "    feature_selector = FeatureSelector(\n",
       "            features = [:OnlineBackup__No, :Partner__No, Symbol(\"Contract__Two year\"), Symbol(\"Contract__One year\"), :gender__Male, :InternetService__DSL, Symbol(\"OnlineSecurity__No internet service\"), Symbol(\"PaymentMethod__Mailed check\"), Symbol(\"PaymentMethod__Electronic check\"), :OnlineSecurity__Yes  …  :PhoneService__Yes, Symbol(\"DeviceProtection__No internet service\"), Symbol(\"StreamingTV__No internet service\"), Symbol(\"StreamingMovies__No internet service\"), Symbol(\"TechSupport__No internet service\"), :StreamingTV__No, :MultipleLines__No, Symbol(\"PaymentMethod__Credit card (automatic)\"), :MultipleLines__Yes, Symbol(\"MultipleLines__No phone service\")],\n",
       "            ignore = true),\n",
       "    evo_tree_classifier = EvoTreeClassifier(\n",
       "            loss = EvoTrees.Softmax(),\n",
       "            nrounds = 10,\n",
       "            λ = 0.0,\n",
       "            γ = 0.0,\n",
       "            η = 0.1,\n",
       "            max_depth = 5,\n",
       "            min_weight = 1.0,\n",
       "            rowsample = 1.0,\n",
       "            colsample = 1.0,\n",
       "            nbins = 64,\n",
       "            α = 0.5,\n",
       "            metric = :mlogloss,\n",
       "            rng = MersenneTwister(123, (0, 86172, 85170, 780)),\n",
       "            device = \"cpu\"),\n",
       "    cache = true)"
      ]
     },
     "execution_count": 46,
     "metadata": {},
     "output_type": "execute_result"
    }
   ],
   "source": [
    "unimportant_features = filter(:importance => <(0.005), feature_importance_table).feature\n",
    "\n",
    "pipe2 = ContinuousEncoder() |>\n",
    "    FeatureSelector(features=unimportant_features, ignore=true) |> booster"
   ]
  },
  {
   "cell_type": "markdown",
   "metadata": {},
   "source": [
    "## Wrapping our iterative model in control strategies"
   ]
  },
  {
   "cell_type": "markdown",
   "metadata": {},
   "source": [
    "> Introduces: **control strategies:** `Step`, `NumberSinceBest`, `TimeLimit`, `InvalidValue`, **model wrapper** `IteratedModel`, **resampling strategy:** `Holdout`"
   ]
  },
  {
   "cell_type": "markdown",
   "metadata": {},
   "source": [
    "We want to optimize the hyper-parameters of our model. Since our\n",
    "model is iterative, these parameters include the (nested) iteration\n",
    "parameter `pipe.evo_tree_classifier.nrounds`. Sometimes this\n",
    "parameter is optimized first, fixed, and then maybe optimized again\n",
    "after the other parameters. Here we take a more principled approach,\n",
    "**wrapping our model in a control strategy** that makes it\n",
    "\"self-iterating\". The strategy applies a stopping criterion to\n",
    "*out-of-sample* estimates of the model performance, constructed\n",
    "using an internally constructed holdout set. In this way, we avoid\n",
    "some data hygiene issues, and, when we subsequently optimize other\n",
    "parameters, we will always being using an optimal number of\n",
    "iterations."
   ]
  },
  {
   "cell_type": "markdown",
   "metadata": {},
   "source": [
    "Note that this approach can be applied to any iterative MLJ model,\n",
    "eg, the neural network models provided by\n",
    "[MLJFlux.jl](https://github.com/FluxML/MLJFlux.jl)."
   ]
  },
  {
   "cell_type": "markdown",
   "metadata": {},
   "source": [
    "First, we select appropriate controls from [this\n",
    "list](https://alan-turing-institute.github.io/MLJ.jl/dev/controlling_iterative_models/#Controls-provided):"
   ]
  },
  {
   "cell_type": "code",
   "execution_count": 47,
   "metadata": {},
   "outputs": [
    {
     "data": {
      "text/plain": [
       "4-element Vector{Any}:\n",
       " Step(1)\n",
       " NumberSinceBest(4)\n",
       " TimeLimit(Dates.Millisecond(2000))\n",
       " InvalidValue()"
      ]
     },
     "execution_count": 47,
     "metadata": {},
     "output_type": "execute_result"
    }
   ],
   "source": [
    "controls = [\n",
    "    Step(1),              # to increment iteration parameter (`pipe.nrounds`)\n",
    "    NumberSinceBest(4),   # main stopping criterion\n",
    "    TimeLimit(2/3600),    # never train more than 2 sec\n",
    "    InvalidValue()        # stop if NaN or ±Inf encountered\n",
    "]"
   ]
  },
  {
   "cell_type": "markdown",
   "metadata": {},
   "source": [
    "Now we wrap our pipeline model using the `IteratedModel` wrapper,\n",
    "being sure to specify the `measure` on which internal estimates of\n",
    "the out-of-sample performance will be based:"
   ]
  },
  {
   "cell_type": "code",
   "execution_count": 48,
   "metadata": {},
   "outputs": [
    {
     "data": {
      "text/plain": [
       "ProbabilisticIteratedModel(\n",
       "    model = ProbabilisticPipeline(\n",
       "            continuous_encoder = ContinuousEncoder,\n",
       "            feature_selector = FeatureSelector,\n",
       "            evo_tree_classifier = EvoTreeClassifier{Float64,…},\n",
       "            cache = true),\n",
       "    controls = Any[Step(1), NumberSinceBest(4), TimeLimit(Dates.Millisecond(2000)), InvalidValue()],\n",
       "    resampling = Holdout(\n",
       "            fraction_train = 0.7,\n",
       "            shuffle = false,\n",
       "            rng = Random._GLOBAL_RNG()),\n",
       "    measure = BrierLoss(),\n",
       "    weights = nothing,\n",
       "    class_weights = nothing,\n",
       "    operation = MLJModelInterface.predict,\n",
       "    retrain = false,\n",
       "    check_measure = true,\n",
       "    iteration_parameter = nothing,\n",
       "    cache = true)"
      ]
     },
     "execution_count": 48,
     "metadata": {},
     "output_type": "execute_result"
    }
   ],
   "source": [
    "iterated_pipe = IteratedModel(model=pipe2,\n",
    "                              controls=controls,\n",
    "                              measure=brier_loss,\n",
    "                              resampling=Holdout(fraction_train=0.7))"
   ]
  },
  {
   "cell_type": "markdown",
   "metadata": {},
   "source": [
    "We've set `resampling=Holdout(fraction_train=0.7)` to arrange that\n",
    "data attached to our model should be internally split into a train\n",
    "set (70%) and a holdout set (30%) for determining the out-of-sample\n",
    "estimate of the Brier loss."
   ]
  },
  {
   "cell_type": "markdown",
   "metadata": {},
   "source": [
    "For demonstration purposes, let's bind `iterated_model` to all data\n",
    "not in our don't-touch holdout set, and train on all of that data:"
   ]
  },
  {
   "cell_type": "code",
   "execution_count": 49,
   "metadata": {},
   "outputs": [
    {
     "name": "stderr",
     "output_type": "stream",
     "text": [
      "┌ Info: Training Machine{ProbabilisticIteratedModel{ProbabilisticPipeline{NamedTuple{,…},…}},…}.\n",
      "└ @ MLJBase /Users/anthony/.julia/packages/MLJBase/hHa7b/src/machines.jl:464\n",
      "┌ Info: No iteration parameter specified. Using `iteration_parameter=:(evo_tree_classifier.nrounds)`. \n",
      "└ @ MLJIteration /Users/anthony/.julia/packages/MLJIteration/LXjxi/src/core.jl:62\n",
      "┌ Info: final loss: 0.2630163172395482\n",
      "└ @ IterationControl /Users/anthony/.julia/packages/IterationControl/lO4bA/src/train.jl:44\n",
      "┌ Info: Stop triggered by NumberSinceBest(4) stopping criterion. \n",
      "└ @ IterationControl /Users/anthony/.julia/packages/IterationControl/lO4bA/src/stopping_controls.jl:54\n",
      "┌ Info: Total of 24 iterations. \n",
      "└ @ MLJIteration /Users/anthony/.julia/packages/MLJIteration/LXjxi/src/core.jl:35\n"
     ]
    }
   ],
   "source": [
    "mach_iterated_pipe = machine(iterated_pipe, X, y)\n",
    "fit!(mach_iterated_pipe);"
   ]
  },
  {
   "cell_type": "markdown",
   "metadata": {},
   "source": [
    "To recap, internally this training is split into two separate steps:"
   ]
  },
  {
   "cell_type": "markdown",
   "metadata": {},
   "source": [
    "- A controlled iteration step, training on the holdout set, with the total number of iterations determined by the specified stopping criteria (based on the out-of-sample performance estimates)\n",
    "- A final step that trains the atomic model on *all* available\n",
    "  data using the number of iterations determined in the first step. Calling `predict` on `mach_iterated_pipe` means using the learned parameters of the second step."
   ]
  },
  {
   "cell_type": "markdown",
   "metadata": {},
   "source": [
    "## Hyper-parameter optimization (model tuning)"
   ]
  },
  {
   "cell_type": "markdown",
   "metadata": {},
   "source": [
    "> Introduces: `range`, **model wrapper** `TunedModel`, `RandomSearch`"
   ]
  },
  {
   "cell_type": "markdown",
   "metadata": {},
   "source": [
    "We now turn to hyper-parameter optimization. A tool not discussed\n",
    "here is the `learning_curve` function, which can be useful when\n",
    "wanting to visualize the effect of changes to a *single*\n",
    "hyper-parameter (which could be an iteration parameter). See, for\n",
    "example, [this section of the\n",
    "manual](https://alan-turing-institute.github.io/MLJ.jl/dev/learning_curves/)\n",
    "or [this\n",
    "tutorial](https://github.com/ablaom/MLJTutorial.jl/blob/dev/notebooks/04_tuning/notebook.ipynb)."
   ]
  },
  {
   "cell_type": "markdown",
   "metadata": {},
   "source": [
    "Fine tuning the hyper-parameters of a gradient booster can be\n",
    "somewhat involved. Here we settle for simultaneously optimizing two\n",
    "key parameters: `max_depth` and `η` (learning_rate)."
   ]
  },
  {
   "cell_type": "markdown",
   "metadata": {},
   "source": [
    "Like iteration control, **model optimization in MLJ is implemented as\n",
    "a model wrapper**, called `TunedModel`. After wrapping a model in a\n",
    "tuning strategy and binding the wrapped model to data in a machine\n",
    "called `mach`, calling `fit!(mach)` instigates a search for optimal\n",
    "model hyperparameters, within a specified range, and then uses all\n",
    "supplied data to train the best model. To predict using that model,\n",
    "one then calls `predict(mach, Xnew)`. In this way the wrapped model\n",
    "may be viewed as a \"self-tuning\" version of the unwrapped\n",
    "model. That is, wrapping the model simply transforms certain\n",
    "hyper-parameters into learned parameters (just as `IteratedModel`\n",
    "does for an iteration parameter)."
   ]
  },
  {
   "cell_type": "markdown",
   "metadata": {},
   "source": [
    "To start with, we define ranges for the parameters of\n",
    "interest. Since these parameters are nested, let's force a\n",
    "display of our model to a larger depth:"
   ]
  },
  {
   "cell_type": "code",
   "execution_count": 50,
   "metadata": {},
   "outputs": [
    {
     "name": "stdout",
     "output_type": "stream",
     "text": [
      "ProbabilisticIteratedModel(\n",
      "    model = ProbabilisticPipeline(\n",
      "            continuous_encoder = ContinuousEncoder(\n",
      "                    drop_last = false,\n",
      "                    one_hot_ordered_factors = false),\n",
      "            feature_selector = FeatureSelector(\n",
      "                    features = [:OnlineBackup__No, :Partner__No, Symbol(\"Contract__Two year\"), Symbol(\"Contract__One year\"), :gender__Male, :InternetService__DSL, Symbol(\"OnlineSecurity__No internet service\"), Symbol(\"PaymentMethod__Mailed check\"), Symbol(\"PaymentMethod__Electronic check\"), :OnlineSecurity__Yes, Symbol(\"InternetService__Fiber optic\"), Symbol(\"OnlineBackup__No internet service\"), :InternetService__No, :StreamingTV__Yes, :PhoneService__No, :PhoneService__Yes, Symbol(\"DeviceProtection__No internet service\"), Symbol(\"StreamingTV__No internet service\"), Symbol(\"StreamingMovies__No internet service\"), Symbol(\"TechSupport__No internet service\"), :StreamingTV__No, :MultipleLines__No, Symbol(\"PaymentMethod__Credit card (automatic)\"), :MultipleLines__Yes, Symbol(\"MultipleLines__No phone service\")],\n",
      "                    ignore = true),\n",
      "            evo_tree_classifier = EvoTreeClassifier(\n",
      "                    loss = EvoTrees.Softmax(),\n",
      "                    nrounds = 10,\n",
      "                    λ = 0.0,\n",
      "                    γ = 0.0,\n",
      "                    η = 0.1,\n",
      "                    max_depth = 5,\n",
      "                    min_weight = 1.0,\n",
      "                    rowsample = 1.0,\n",
      "                    colsample = 1.0,\n",
      "                    nbins = 64,\n",
      "                    α = 0.5,\n",
      "                    metric = :mlogloss,\n",
      "                    rng = MersenneTwister(123, (0, 86172, 85170, 780)),\n",
      "                    device = \"cpu\"),\n",
      "            cache = true),\n",
      "    controls = Any[Step(1), NumberSinceBest(4), TimeLimit(Dates.Millisecond(2000)), InvalidValue()],\n",
      "    resampling = Holdout(\n",
      "            fraction_train = 0.7,\n",
      "            shuffle = false,\n",
      "            rng = Random._GLOBAL_RNG()),\n",
      "    measure = BrierLoss(),\n",
      "    weights = nothing,\n",
      "    class_weights = nothing,\n",
      "    operation = MLJModelInterface.predict,\n",
      "    retrain = false,\n",
      "    check_measure = true,\n",
      "    iteration_parameter = nothing,\n",
      "    cache = true)"
     ]
    }
   ],
   "source": [
    "show(iterated_pipe, 2)"
   ]
  },
  {
   "cell_type": "code",
   "execution_count": 51,
   "metadata": {},
   "outputs": [
    {
     "data": {
      "text/plain": [
       "NumericRange(2 ≤ model.evo_tree_classifier.max_depth ≤ 6; origin=4.0, unit=2.0)"
      ]
     },
     "execution_count": 51,
     "metadata": {},
     "output_type": "execute_result"
    }
   ],
   "source": [
    "p1 = :(model.evo_tree_classifier.η)\n",
    "p2 = :(model.evo_tree_classifier.max_depth)\n",
    "\n",
    "r1 = range(iterated_pipe, p1, lower=-2, upper=-0.5, scale=x->10^x)\n",
    "r2 = range(iterated_pipe, p2, lower=2, upper=6)"
   ]
  },
  {
   "cell_type": "markdown",
   "metadata": {},
   "source": [
    "Nominal ranges are defined by specifying `values` instead of `lower`\n",
    "and `upper`."
   ]
  },
  {
   "cell_type": "markdown",
   "metadata": {},
   "source": [
    "Next, we choose an optimization strategy from [this\n",
    "list](https://alan-turing-institute.github.io/MLJ.jl/dev/tuning_models/#Tuning-Models):"
   ]
  },
  {
   "cell_type": "code",
   "execution_count": 52,
   "metadata": {},
   "outputs": [
    {
     "data": {
      "text/plain": [
       "RandomSearch(\n",
       "    bounded = Distributions.Uniform,\n",
       "    positive_unbounded = Distributions.Gamma,\n",
       "    other = Distributions.Normal,\n",
       "    rng = MersenneTwister(123))"
      ]
     },
     "execution_count": 52,
     "metadata": {},
     "output_type": "execute_result"
    }
   ],
   "source": [
    "tuning = RandomSearch(rng=123)"
   ]
  },
  {
   "cell_type": "markdown",
   "metadata": {},
   "source": [
    "Then we wrap the model, specifying a `resampling` strategy and a\n",
    "`measure`, as we did for `IteratedModel`.  In fact, we can include a\n",
    "battery of `measures`; by default, optimization is with respect to\n",
    "performance estimates based on the first measure, but estimates for\n",
    "all measures can be accessed from the model's `report`."
   ]
  },
  {
   "cell_type": "markdown",
   "metadata": {},
   "source": [
    "The keyword `n` specifies the total number of models (sets of\n",
    "hyper-parameters) to evaluate."
   ]
  },
  {
   "cell_type": "code",
   "execution_count": 53,
   "metadata": {},
   "outputs": [
    {
     "data": {
      "text/plain": [
       "ProbabilisticTunedModel(\n",
       "    model = ProbabilisticIteratedModel(\n",
       "            model = ProbabilisticPipeline{NamedTuple{,…},…},\n",
       "            controls = Any[Step(1), NumberSinceBest(4), TimeLimit(Dates.Millisecond(2000)), InvalidValue()],\n",
       "            resampling = Holdout,\n",
       "            measure = BrierLoss(),\n",
       "            weights = nothing,\n",
       "            class_weights = nothing,\n",
       "            operation = MLJModelInterface.predict,\n",
       "            retrain = false,\n",
       "            check_measure = true,\n",
       "            iteration_parameter = nothing,\n",
       "            cache = true),\n",
       "    tuning = RandomSearch(\n",
       "            bounded = Distributions.Uniform,\n",
       "            positive_unbounded = Distributions.Gamma,\n",
       "            other = Distributions.Normal,\n",
       "            rng = MersenneTwister(123)),\n",
       "    resampling = StratifiedCV(\n",
       "            nfolds = 6,\n",
       "            shuffle = true,\n",
       "            rng = MersenneTwister(123)),\n",
       "    measure = MLJBase.Measure[BrierLoss(), AreaUnderCurve(), Accuracy()],\n",
       "    weights = nothing,\n",
       "    operation = nothing,\n",
       "    range = MLJBase.NumericRange{T, MLJBase.Bounded, D} where {T, D}[transformed NumericRange(-2.0 ≤ model.evo_tree_classifier.η ≤ -0.5; origin=-1.25, unit=0.75), NumericRange(2 ≤ model.evo_tree_classifier.max_depth ≤ 6; origin=4.0, unit=2.0)],\n",
       "    selection_heuristic = MLJTuning.NaiveSelection(nothing),\n",
       "    train_best = true,\n",
       "    repeats = 1,\n",
       "    n = 40,\n",
       "    acceleration = CPUThreads{Int64}(5),\n",
       "    acceleration_resampling = CPU1{Nothing}(nothing),\n",
       "    check_measure = true,\n",
       "    cache = true)"
      ]
     },
     "execution_count": 53,
     "metadata": {},
     "output_type": "execute_result"
    }
   ],
   "source": [
    "tuned_iterated_pipe = TunedModel(model=iterated_pipe,\n",
    "                                 range=[r1, r2],\n",
    "                                 tuning=tuning,\n",
    "                                 measures=[brier_loss, auc, accuracy],\n",
    "                                 resampling=StratifiedCV(nfolds=6, rng=123),\n",
    "                                 acceleration=CPUThreads(),\n",
    "                                 n=40)"
   ]
  },
  {
   "cell_type": "markdown",
   "metadata": {},
   "source": [
    "To save time, we skip the `repeats` here."
   ]
  },
  {
   "cell_type": "markdown",
   "metadata": {},
   "source": [
    "Binding our final model to data and training:"
   ]
  },
  {
   "cell_type": "code",
   "execution_count": 54,
   "metadata": {},
   "outputs": [
    {
     "name": "stderr",
     "output_type": "stream",
     "text": [
      "┌ Info: Training Machine{ProbabilisticTunedModel{RandomSearch,…},…}.\n",
      "└ @ MLJBase /Users/anthony/.julia/packages/MLJBase/hHa7b/src/machines.jl:464\n",
      "┌ Info: Attempting to evaluate 40 models.\n",
      "└ @ MLJTuning /Users/anthony/.julia/packages/MLJTuning/Al9yX/src/tuned_models.jl:680\n",
      "\u001b[33mEvaluating over 40 metamodels: 100%[=========================] Time: 0:00:42\u001b[39m\n"
     ]
    },
    {
     "data": {
      "text/plain": [
       "Machine{ProbabilisticTunedModel{RandomSearch,…},…} trained 1 time; caches data\n",
       "  model: MLJTuning.ProbabilisticTunedModel{RandomSearch, MLJIteration.ProbabilisticIteratedModel{MLJBase.ProbabilisticPipeline{NamedTuple{(:continuous_encoder, :feature_selector, :evo_tree_classifier), Tuple{Unsupervised, Unsupervised, Probabilistic}}, MLJModelInterface.predict}}}\n",
       "  args: \n",
       "    1:\tSource @974 ⏎ `Table{Union{AbstractVector{Continuous}, AbstractVector{Multiclass{2}}, AbstractVector{Multiclass{4}}, AbstractVector{Multiclass{3}}}}`\n",
       "    2:\tSource @709 ⏎ `AbstractVector{OrderedFactor{2}}`\n"
      ]
     },
     "execution_count": 54,
     "metadata": {},
     "output_type": "execute_result"
    }
   ],
   "source": [
    "mach_tuned_iterated_pipe = machine(tuned_iterated_pipe, X, y)\n",
    "fit!(mach_tuned_iterated_pipe)"
   ]
  },
  {
   "cell_type": "markdown",
   "metadata": {},
   "source": [
    "As explained above, the training we have just performed was split\n",
    "internally into two separate steps:"
   ]
  },
  {
   "cell_type": "markdown",
   "metadata": {},
   "source": [
    "- A step to determine the parameter values that optimize the aggregated cross-validation scores\n",
    "- A final step that trains the optimal model on *all* available data. Future predictions `predict(mach_tuned_iterated_pipe, ...)` are based on this final training step."
   ]
  },
  {
   "cell_type": "markdown",
   "metadata": {},
   "source": [
    "From `report(mach_tuned_iterated_pipe)` we can extract details about\n",
    "the optimization procedure. For example:"
   ]
  },
  {
   "cell_type": "code",
   "execution_count": 55,
   "metadata": {},
   "outputs": [
    {
     "data": {
      "text/plain": [
       "EvoTreeClassifier(\n",
       "    loss = EvoTrees.Softmax(),\n",
       "    nrounds = 10,\n",
       "    λ = 0.0,\n",
       "    γ = 0.0,\n",
       "    η = 0.14682597477521467,\n",
       "    max_depth = 2,\n",
       "    min_weight = 1.0,\n",
       "    rowsample = 1.0,\n",
       "    colsample = 1.0,\n",
       "    nbins = 64,\n",
       "    α = 0.5,\n",
       "    metric = :mlogloss,\n",
       "    rng = MersenneTwister(123, (0, 86172, 85170, 780)),\n",
       "    device = \"cpu\")"
      ]
     },
     "execution_count": 55,
     "metadata": {},
     "output_type": "execute_result"
    }
   ],
   "source": [
    "rpt2 = report(mach_tuned_iterated_pipe);\n",
    "best_booster = rpt2.best_model.model.evo_tree_classifier"
   ]
  },
  {
   "cell_type": "code",
   "execution_count": 56,
   "metadata": {},
   "outputs": [
    {
     "name": "stderr",
     "output_type": "stream",
     "text": [
      "┌ Info: Optimal hyper-parameters:\n",
      "│   best_booster.max_depth = 2\n",
      "│   best_booster.η = 0.14682597477521467\n",
      "└ @ Main In[56]:1\n"
     ]
    }
   ],
   "source": [
    "@info \"Optimal hyper-parameters:\" best_booster.max_depth best_booster.η;"
   ]
  },
  {
   "cell_type": "markdown",
   "metadata": {},
   "source": [
    "Using the `confidence_intervals` function we defined earlier:"
   ]
  },
  {
   "cell_type": "code",
   "execution_count": 57,
   "metadata": {},
   "outputs": [
    {
     "data": {
      "text/html": [
       "<div class=\"data-frame\"><p>3 rows × 2 columns</p><table class=\"data-frame\"><thead><tr><th></th><th>measure</th><th>measurement</th></tr><tr><th></th><th title=\"MLJBase.Measure\">Measure</th><th title=\"Measurement{Float64}\">Measurem…</th></tr></thead><tbody><tr><th>1</th><td>BrierLoss()</td><td>0.292±0.017</td></tr><tr><th>2</th><td>AreaUnderCurve()</td><td>0.814±0.028</td></tr><tr><th>3</th><td>Accuracy()</td><td>0.797±0.016</td></tr></tbody></table></div>"
      ],
      "text/latex": [
       "\\begin{tabular}{r|cc}\n",
       "\t& measure & measurement\\\\\n",
       "\t\\hline\n",
       "\t& Measure & Measurem…\\\\\n",
       "\t\\hline\n",
       "\t1 & BrierLoss() & $0.292 \\pm 0.017$ \\\\\n",
       "\t2 & AreaUnderCurve() & $0.814 \\pm 0.028$ \\\\\n",
       "\t3 & Accuracy() & $0.797 \\pm 0.016$ \\\\\n",
       "\\end{tabular}\n"
      ],
      "text/plain": [
       "\u001b[1m3×2 DataFrame\u001b[0m\n",
       "\u001b[1m Row \u001b[0m│\u001b[1m measure          \u001b[0m\u001b[1m measurement \u001b[0m\n",
       "\u001b[1m     \u001b[0m│\u001b[90m Measure          \u001b[0m\u001b[90m Measuremen… \u001b[0m\n",
       "─────┼───────────────────────────────\n",
       "   1 │ BrierLoss()       0.292±0.017\n",
       "   2 │ AreaUnderCurve()  0.814±0.028\n",
       "   3 │ Accuracy()        0.797±0.016"
      ]
     },
     "execution_count": 57,
     "metadata": {},
     "output_type": "execute_result"
    }
   ],
   "source": [
    "e_best = rpt2.best_history_entry\n",
    "confidence_intervals(e_best)"
   ]
  },
  {
   "cell_type": "markdown",
   "metadata": {},
   "source": [
    "Digging a little deeper, we can learn what stopping criterion was\n",
    "applied in the case of the optimal model, and how many iterations\n",
    "were required:"
   ]
  },
  {
   "cell_type": "code",
   "execution_count": 58,
   "metadata": {},
   "outputs": [
    {
     "data": {
      "text/plain": [
       "4-element Vector{Tuple{Any, NamedTuple}}:\n",
       " (Step(1), (new_iterations = 26,))\n",
       " (NumberSinceBest(4), (done = true, log = \"Stop triggered by NumberSinceBest(4) stopping criterion. \"))\n",
       " (TimeLimit(Dates.Millisecond(2000)), (done = false, log = \"\"))\n",
       " (InvalidValue(), (done = false, log = \"\"))"
      ]
     },
     "execution_count": 58,
     "metadata": {},
     "output_type": "execute_result"
    }
   ],
   "source": [
    "rpt2.best_report.controls |> collect"
   ]
  },
  {
   "cell_type": "markdown",
   "metadata": {},
   "source": [
    "Finally, we can visualize the optimization results:"
   ]
  },
  {
   "cell_type": "code",
   "execution_count": 59,
   "metadata": {},
   "outputs": [
    {
     "data": {
      "image/svg+xml": [
       "<?xml version=\"1.0\" encoding=\"utf-8\"?>\n",
       "<svg xmlns=\"http://www.w3.org/2000/svg\" xmlns:xlink=\"http://www.w3.org/1999/xlink\" width=\"600\" height=\"450\" viewBox=\"0 0 2400 1800\">\n",
       "<defs>\n",
       "  <clipPath id=\"clip780\">\n",
       "    <rect x=\"0\" y=\"0\" width=\"2400\" height=\"1800\"/>\n",
       "  </clipPath>\n",
       "</defs>\n",
       "<path clip-path=\"url(#clip780)\" d=\"\n",
       "M0 1800 L2400 1800 L2400 0 L0 0  Z\n",
       "  \" fill=\"#ffffff\" fill-rule=\"evenodd\" fill-opacity=\"1\"/>\n",
       "<defs>\n",
       "  <clipPath id=\"clip781\">\n",
       "    <rect x=\"480\" y=\"0\" width=\"1681\" height=\"1681\"/>\n",
       "  </clipPath>\n",
       "</defs>\n",
       "<path clip-path=\"url(#clip780)\" d=\"\n",
       "M255.968 745.524 L1152.76 745.524 L1152.76 47.2441 L255.968 47.2441  Z\n",
       "  \" fill=\"#ffffff\" fill-rule=\"evenodd\" fill-opacity=\"1\"/>\n",
       "<defs>\n",
       "  <clipPath id=\"clip782\">\n",
       "    <rect x=\"255\" y=\"47\" width=\"898\" height=\"699\"/>\n",
       "  </clipPath>\n",
       "</defs>\n",
       "<polyline clip-path=\"url(#clip782)\" style=\"stroke:#000000; stroke-linecap:butt; stroke-linejoin:round; stroke-width:2; stroke-opacity:0.1; fill:none\" points=\"\n",
       "  397.337,745.524 397.337,47.2441 \n",
       "  \"/>\n",
       "<polyline clip-path=\"url(#clip782)\" style=\"stroke:#000000; stroke-linecap:butt; stroke-linejoin:round; stroke-width:2; stroke-opacity:0.1; fill:none\" points=\"\n",
       "  543.498,745.524 543.498,47.2441 \n",
       "  \"/>\n",
       "<polyline clip-path=\"url(#clip782)\" style=\"stroke:#000000; stroke-linecap:butt; stroke-linejoin:round; stroke-width:2; stroke-opacity:0.1; fill:none\" points=\"\n",
       "  689.658,745.524 689.658,47.2441 \n",
       "  \"/>\n",
       "<polyline clip-path=\"url(#clip782)\" style=\"stroke:#000000; stroke-linecap:butt; stroke-linejoin:round; stroke-width:2; stroke-opacity:0.1; fill:none\" points=\"\n",
       "  835.819,745.524 835.819,47.2441 \n",
       "  \"/>\n",
       "<polyline clip-path=\"url(#clip782)\" style=\"stroke:#000000; stroke-linecap:butt; stroke-linejoin:round; stroke-width:2; stroke-opacity:0.1; fill:none\" points=\"\n",
       "  981.979,745.524 981.979,47.2441 \n",
       "  \"/>\n",
       "<polyline clip-path=\"url(#clip782)\" style=\"stroke:#000000; stroke-linecap:butt; stroke-linejoin:round; stroke-width:2; stroke-opacity:0.1; fill:none\" points=\"\n",
       "  1128.14,745.524 1128.14,47.2441 \n",
       "  \"/>\n",
       "<polyline clip-path=\"url(#clip780)\" style=\"stroke:#000000; stroke-linecap:butt; stroke-linejoin:round; stroke-width:4; stroke-opacity:1; fill:none\" points=\"\n",
       "  255.968,745.524 1152.76,745.524 \n",
       "  \"/>\n",
       "<polyline clip-path=\"url(#clip780)\" style=\"stroke:#000000; stroke-linecap:butt; stroke-linejoin:round; stroke-width:4; stroke-opacity:1; fill:none\" points=\"\n",
       "  255.968,47.2441 1152.76,47.2441 \n",
       "  \"/>\n",
       "<polyline clip-path=\"url(#clip780)\" style=\"stroke:#000000; stroke-linecap:butt; stroke-linejoin:round; stroke-width:4; stroke-opacity:1; fill:none\" points=\"\n",
       "  397.337,745.524 397.337,726.626 \n",
       "  \"/>\n",
       "<polyline clip-path=\"url(#clip780)\" style=\"stroke:#000000; stroke-linecap:butt; stroke-linejoin:round; stroke-width:4; stroke-opacity:1; fill:none\" points=\"\n",
       "  543.498,745.524 543.498,726.626 \n",
       "  \"/>\n",
       "<polyline clip-path=\"url(#clip780)\" style=\"stroke:#000000; stroke-linecap:butt; stroke-linejoin:round; stroke-width:4; stroke-opacity:1; fill:none\" points=\"\n",
       "  689.658,745.524 689.658,726.626 \n",
       "  \"/>\n",
       "<polyline clip-path=\"url(#clip780)\" style=\"stroke:#000000; stroke-linecap:butt; stroke-linejoin:round; stroke-width:4; stroke-opacity:1; fill:none\" points=\"\n",
       "  835.819,745.524 835.819,726.626 \n",
       "  \"/>\n",
       "<polyline clip-path=\"url(#clip780)\" style=\"stroke:#000000; stroke-linecap:butt; stroke-linejoin:round; stroke-width:4; stroke-opacity:1; fill:none\" points=\"\n",
       "  981.979,745.524 981.979,726.626 \n",
       "  \"/>\n",
       "<polyline clip-path=\"url(#clip780)\" style=\"stroke:#000000; stroke-linecap:butt; stroke-linejoin:round; stroke-width:4; stroke-opacity:1; fill:none\" points=\"\n",
       "  1128.14,745.524 1128.14,726.626 \n",
       "  \"/>\n",
       "<path clip-path=\"url(#clip780)\" d=\"M360.138 776.443 Q356.527 776.443 354.698 780.007 Q352.893 783.549 352.893 790.679 Q352.893 797.785 354.698 801.35 Q356.527 804.891 360.138 804.891 Q363.772 804.891 365.578 801.35 Q367.407 797.785 367.407 790.679 Q367.407 783.549 365.578 780.007 Q363.772 776.443 360.138 776.443 M360.138 772.739 Q365.948 772.739 369.004 777.345 Q372.083 781.929 372.083 790.679 Q372.083 799.405 369.004 804.012 Q365.948 808.595 360.138 808.595 Q354.328 808.595 351.249 804.012 Q348.194 799.405 348.194 790.679 Q348.194 781.929 351.249 777.345 Q354.328 772.739 360.138 772.739 Z\" fill=\"#000000\" fill-rule=\"evenodd\" fill-opacity=\"1\" /><path clip-path=\"url(#clip780)\" d=\"M380.3 802.044 L385.184 802.044 L385.184 807.924 L380.3 807.924 L380.3 802.044 Z\" fill=\"#000000\" fill-rule=\"evenodd\" fill-opacity=\"1\" /><path clip-path=\"url(#clip780)\" d=\"M405.369 776.443 Q401.758 776.443 399.93 780.007 Q398.124 783.549 398.124 790.679 Q398.124 797.785 399.93 801.35 Q401.758 804.891 405.369 804.891 Q409.004 804.891 410.809 801.35 Q412.638 797.785 412.638 790.679 Q412.638 783.549 410.809 780.007 Q409.004 776.443 405.369 776.443 M405.369 772.739 Q411.18 772.739 414.235 777.345 Q417.314 781.929 417.314 790.679 Q417.314 799.405 414.235 804.012 Q411.18 808.595 405.369 808.595 Q399.559 808.595 396.481 804.012 Q393.425 799.405 393.425 790.679 Q393.425 781.929 396.481 777.345 Q399.559 772.739 405.369 772.739 Z\" fill=\"#000000\" fill-rule=\"evenodd\" fill-opacity=\"1\" /><path clip-path=\"url(#clip780)\" d=\"M425.578 773.364 L443.934 773.364 L443.934 777.299 L429.86 777.299 L429.86 785.771 Q430.879 785.424 431.897 785.262 Q432.916 785.077 433.934 785.077 Q439.721 785.077 443.101 788.248 Q446.48 791.419 446.48 796.836 Q446.48 802.415 443.008 805.516 Q439.536 808.595 433.217 808.595 Q431.041 808.595 428.772 808.225 Q426.527 807.854 424.119 807.114 L424.119 802.415 Q426.203 803.549 428.425 804.104 Q430.647 804.66 433.124 804.66 Q437.129 804.66 439.467 802.554 Q441.804 800.447 441.804 796.836 Q441.804 793.225 439.467 791.118 Q437.129 789.012 433.124 789.012 Q431.249 789.012 429.374 789.429 Q427.522 789.845 425.578 790.725 L425.578 773.364 Z\" fill=\"#000000\" fill-rule=\"evenodd\" fill-opacity=\"1\" /><path clip-path=\"url(#clip780)\" d=\"M505.801 776.443 Q502.19 776.443 500.361 780.007 Q498.556 783.549 498.556 790.679 Q498.556 797.785 500.361 801.35 Q502.19 804.891 505.801 804.891 Q509.435 804.891 511.241 801.35 Q513.07 797.785 513.07 790.679 Q513.07 783.549 511.241 780.007 Q509.435 776.443 505.801 776.443 M505.801 772.739 Q511.611 772.739 514.667 777.345 Q517.746 781.929 517.746 790.679 Q517.746 799.405 514.667 804.012 Q511.611 808.595 505.801 808.595 Q499.991 808.595 496.912 804.012 Q493.857 799.405 493.857 790.679 Q493.857 781.929 496.912 777.345 Q499.991 772.739 505.801 772.739 Z\" fill=\"#000000\" fill-rule=\"evenodd\" fill-opacity=\"1\" /><path clip-path=\"url(#clip780)\" d=\"M525.963 802.044 L530.847 802.044 L530.847 807.924 L525.963 807.924 L525.963 802.044 Z\" fill=\"#000000\" fill-rule=\"evenodd\" fill-opacity=\"1\" /><path clip-path=\"url(#clip780)\" d=\"M541.843 803.989 L549.481 803.989 L549.481 777.623 L541.171 779.29 L541.171 775.031 L549.435 773.364 L554.111 773.364 L554.111 803.989 L561.75 803.989 L561.75 807.924 L541.843 807.924 L541.843 803.989 Z\" fill=\"#000000\" fill-rule=\"evenodd\" fill-opacity=\"1\" /><path clip-path=\"url(#clip780)\" d=\"M581.194 776.443 Q577.583 776.443 575.754 780.007 Q573.949 783.549 573.949 790.679 Q573.949 797.785 575.754 801.35 Q577.583 804.891 581.194 804.891 Q584.829 804.891 586.634 801.35 Q588.463 797.785 588.463 790.679 Q588.463 783.549 586.634 780.007 Q584.829 776.443 581.194 776.443 M581.194 772.739 Q587.004 772.739 590.06 777.345 Q593.139 781.929 593.139 790.679 Q593.139 799.405 590.06 804.012 Q587.004 808.595 581.194 808.595 Q575.384 808.595 572.305 804.012 Q569.25 799.405 569.25 790.679 Q569.25 781.929 572.305 777.345 Q575.384 772.739 581.194 772.739 Z\" fill=\"#000000\" fill-rule=\"evenodd\" fill-opacity=\"1\" /><path clip-path=\"url(#clip780)\" d=\"M652.459 776.443 Q648.848 776.443 647.02 780.007 Q645.214 783.549 645.214 790.679 Q645.214 797.785 647.02 801.35 Q648.848 804.891 652.459 804.891 Q656.094 804.891 657.899 801.35 Q659.728 797.785 659.728 790.679 Q659.728 783.549 657.899 780.007 Q656.094 776.443 652.459 776.443 M652.459 772.739 Q658.27 772.739 661.325 777.345 Q664.404 781.929 664.404 790.679 Q664.404 799.405 661.325 804.012 Q658.27 808.595 652.459 808.595 Q646.649 808.595 643.571 804.012 Q640.515 799.405 640.515 790.679 Q640.515 781.929 643.571 777.345 Q646.649 772.739 652.459 772.739 Z\" fill=\"#000000\" fill-rule=\"evenodd\" fill-opacity=\"1\" /><path clip-path=\"url(#clip780)\" d=\"M672.621 802.044 L677.506 802.044 L677.506 807.924 L672.621 807.924 L672.621 802.044 Z\" fill=\"#000000\" fill-rule=\"evenodd\" fill-opacity=\"1\" /><path clip-path=\"url(#clip780)\" d=\"M688.501 803.989 L696.14 803.989 L696.14 777.623 L687.83 779.29 L687.83 775.031 L696.093 773.364 L700.769 773.364 L700.769 803.989 L708.408 803.989 L708.408 807.924 L688.501 807.924 L688.501 803.989 Z\" fill=\"#000000\" fill-rule=\"evenodd\" fill-opacity=\"1\" /><path clip-path=\"url(#clip780)\" d=\"M717.899 773.364 L736.255 773.364 L736.255 777.299 L722.181 777.299 L722.181 785.771 Q723.2 785.424 724.218 785.262 Q725.237 785.077 726.255 785.077 Q732.042 785.077 735.422 788.248 Q738.802 791.419 738.802 796.836 Q738.802 802.415 735.329 805.516 Q731.857 808.595 725.538 808.595 Q723.362 808.595 721.093 808.225 Q718.848 807.854 716.441 807.114 L716.441 802.415 Q718.524 803.549 720.746 804.104 Q722.968 804.66 725.445 804.66 Q729.45 804.66 731.788 802.554 Q734.126 800.447 734.126 796.836 Q734.126 793.225 731.788 791.118 Q729.45 789.012 725.445 789.012 Q723.57 789.012 721.695 789.429 Q719.843 789.845 717.899 790.725 L717.899 773.364 Z\" fill=\"#000000\" fill-rule=\"evenodd\" fill-opacity=\"1\" /><path clip-path=\"url(#clip780)\" d=\"M798.122 776.443 Q794.511 776.443 792.683 780.007 Q790.877 783.549 790.877 790.679 Q790.877 797.785 792.683 801.35 Q794.511 804.891 798.122 804.891 Q801.757 804.891 803.562 801.35 Q805.391 797.785 805.391 790.679 Q805.391 783.549 803.562 780.007 Q801.757 776.443 798.122 776.443 M798.122 772.739 Q803.932 772.739 806.988 777.345 Q810.067 781.929 810.067 790.679 Q810.067 799.405 806.988 804.012 Q803.932 808.595 798.122 808.595 Q792.312 808.595 789.233 804.012 Q786.178 799.405 786.178 790.679 Q786.178 781.929 789.233 777.345 Q792.312 772.739 798.122 772.739 Z\" fill=\"#000000\" fill-rule=\"evenodd\" fill-opacity=\"1\" /><path clip-path=\"url(#clip780)\" d=\"M818.284 802.044 L823.168 802.044 L823.168 807.924 L818.284 807.924 L818.284 802.044 Z\" fill=\"#000000\" fill-rule=\"evenodd\" fill-opacity=\"1\" /><path clip-path=\"url(#clip780)\" d=\"M837.381 803.989 L853.701 803.989 L853.701 807.924 L831.756 807.924 L831.756 803.989 Q834.418 801.234 839.002 796.604 Q843.608 791.952 844.789 790.609 Q847.034 788.086 847.914 786.35 Q848.816 784.591 848.816 782.901 Q848.816 780.146 846.872 778.41 Q844.951 776.674 841.849 776.674 Q839.65 776.674 837.196 777.438 Q834.766 778.202 831.988 779.753 L831.988 775.031 Q834.812 773.896 837.266 773.318 Q839.719 772.739 841.756 772.739 Q847.127 772.739 850.321 775.424 Q853.516 778.109 853.516 782.6 Q853.516 784.73 852.705 786.651 Q851.918 788.549 849.812 791.142 Q849.233 791.813 846.131 795.03 Q843.029 798.225 837.381 803.989 Z\" fill=\"#000000\" fill-rule=\"evenodd\" fill-opacity=\"1\" /><path clip-path=\"url(#clip780)\" d=\"M873.515 776.443 Q869.904 776.443 868.076 780.007 Q866.27 783.549 866.27 790.679 Q866.27 797.785 868.076 801.35 Q869.904 804.891 873.515 804.891 Q877.15 804.891 878.955 801.35 Q880.784 797.785 880.784 790.679 Q880.784 783.549 878.955 780.007 Q877.15 776.443 873.515 776.443 M873.515 772.739 Q879.326 772.739 882.381 777.345 Q885.46 781.929 885.46 790.679 Q885.46 799.405 882.381 804.012 Q879.326 808.595 873.515 808.595 Q867.705 808.595 864.627 804.012 Q861.571 799.405 861.571 790.679 Q861.571 781.929 864.627 777.345 Q867.705 772.739 873.515 772.739 Z\" fill=\"#000000\" fill-rule=\"evenodd\" fill-opacity=\"1\" /><path clip-path=\"url(#clip780)\" d=\"M944.781 776.443 Q941.169 776.443 939.341 780.007 Q937.535 783.549 937.535 790.679 Q937.535 797.785 939.341 801.35 Q941.169 804.891 944.781 804.891 Q948.415 804.891 950.22 801.35 Q952.049 797.785 952.049 790.679 Q952.049 783.549 950.22 780.007 Q948.415 776.443 944.781 776.443 M944.781 772.739 Q950.591 772.739 953.646 777.345 Q956.725 781.929 956.725 790.679 Q956.725 799.405 953.646 804.012 Q950.591 808.595 944.781 808.595 Q938.97 808.595 935.892 804.012 Q932.836 799.405 932.836 790.679 Q932.836 781.929 935.892 777.345 Q938.97 772.739 944.781 772.739 Z\" fill=\"#000000\" fill-rule=\"evenodd\" fill-opacity=\"1\" /><path clip-path=\"url(#clip780)\" d=\"M964.943 802.044 L969.827 802.044 L969.827 807.924 L964.943 807.924 L964.943 802.044 Z\" fill=\"#000000\" fill-rule=\"evenodd\" fill-opacity=\"1\" /><path clip-path=\"url(#clip780)\" d=\"M984.04 803.989 L1000.36 803.989 L1000.36 807.924 L978.415 807.924 L978.415 803.989 Q981.077 801.234 985.66 796.604 Q990.266 791.952 991.447 790.609 Q993.692 788.086 994.572 786.35 Q995.475 784.591 995.475 782.901 Q995.475 780.146 993.53 778.41 Q991.609 776.674 988.507 776.674 Q986.308 776.674 983.854 777.438 Q981.424 778.202 978.646 779.753 L978.646 775.031 Q981.47 773.896 983.924 773.318 Q986.378 772.739 988.415 772.739 Q993.785 772.739 996.979 775.424 Q1000.17 778.109 1000.17 782.6 Q1000.17 784.73 999.364 786.651 Q998.577 788.549 996.47 791.142 Q995.891 791.813 992.79 795.03 Q989.688 798.225 984.04 803.989 Z\" fill=\"#000000\" fill-rule=\"evenodd\" fill-opacity=\"1\" /><path clip-path=\"url(#clip780)\" d=\"M1010.22 773.364 L1028.58 773.364 L1028.58 777.299 L1014.5 777.299 L1014.5 785.771 Q1015.52 785.424 1016.54 785.262 Q1017.56 785.077 1018.58 785.077 Q1024.36 785.077 1027.74 788.248 Q1031.12 791.419 1031.12 796.836 Q1031.12 802.415 1027.65 805.516 Q1024.18 808.595 1017.86 808.595 Q1015.68 808.595 1013.41 808.225 Q1011.17 807.854 1008.76 807.114 L1008.76 802.415 Q1010.85 803.549 1013.07 804.104 Q1015.29 804.66 1017.77 804.66 Q1021.77 804.66 1024.11 802.554 Q1026.45 800.447 1026.45 796.836 Q1026.45 793.225 1024.11 791.118 Q1021.77 789.012 1017.77 789.012 Q1015.89 789.012 1014.02 789.429 Q1012.16 789.845 1010.22 790.725 L1010.22 773.364 Z\" fill=\"#000000\" fill-rule=\"evenodd\" fill-opacity=\"1\" /><path clip-path=\"url(#clip780)\" d=\"M1090.44 776.443 Q1086.83 776.443 1085 780.007 Q1083.2 783.549 1083.2 790.679 Q1083.2 797.785 1085 801.35 Q1086.83 804.891 1090.44 804.891 Q1094.08 804.891 1095.88 801.35 Q1097.71 797.785 1097.71 790.679 Q1097.71 783.549 1095.88 780.007 Q1094.08 776.443 1090.44 776.443 M1090.44 772.739 Q1096.25 772.739 1099.31 777.345 Q1102.39 781.929 1102.39 790.679 Q1102.39 799.405 1099.31 804.012 Q1096.25 808.595 1090.44 808.595 Q1084.63 808.595 1081.55 804.012 Q1078.5 799.405 1078.5 790.679 Q1078.5 781.929 1081.55 777.345 Q1084.63 772.739 1090.44 772.739 Z\" fill=\"#000000\" fill-rule=\"evenodd\" fill-opacity=\"1\" /><path clip-path=\"url(#clip780)\" d=\"M1110.61 802.044 L1115.49 802.044 L1115.49 807.924 L1110.61 807.924 L1110.61 802.044 Z\" fill=\"#000000\" fill-rule=\"evenodd\" fill-opacity=\"1\" /><path clip-path=\"url(#clip780)\" d=\"M1139.84 789.29 Q1143.2 790.007 1145.07 792.276 Q1146.97 794.544 1146.97 797.878 Q1146.97 802.993 1143.45 805.794 Q1139.93 808.595 1133.45 808.595 Q1131.28 808.595 1128.96 808.155 Q1126.67 807.739 1124.22 806.882 L1124.22 802.368 Q1126.16 803.503 1128.48 804.081 Q1130.79 804.66 1133.31 804.66 Q1137.71 804.66 1140 802.924 Q1142.32 801.188 1142.32 797.878 Q1142.32 794.822 1140.17 793.109 Q1138.04 791.373 1134.22 791.373 L1130.19 791.373 L1130.19 787.53 L1134.4 787.53 Q1137.85 787.53 1139.68 786.165 Q1141.51 784.776 1141.51 782.183 Q1141.51 779.521 1139.61 778.109 Q1137.73 776.674 1134.22 776.674 Q1132.3 776.674 1130.1 777.091 Q1127.9 777.507 1125.26 778.387 L1125.26 774.22 Q1127.92 773.48 1130.23 773.109 Q1132.57 772.739 1134.63 772.739 Q1139.96 772.739 1143.06 775.169 Q1146.16 777.577 1146.16 781.697 Q1146.16 784.568 1144.52 786.558 Q1142.87 788.526 1139.84 789.29 Z\" fill=\"#000000\" fill-rule=\"evenodd\" fill-opacity=\"1\" /><path clip-path=\"url(#clip780)\" d=\"M1165.84 776.443 Q1162.23 776.443 1160.4 780.007 Q1158.59 783.549 1158.59 790.679 Q1158.59 797.785 1160.4 801.35 Q1162.23 804.891 1165.84 804.891 Q1169.47 804.891 1171.28 801.35 Q1173.11 797.785 1173.11 790.679 Q1173.11 783.549 1171.28 780.007 Q1169.47 776.443 1165.84 776.443 M1165.84 772.739 Q1171.65 772.739 1174.7 777.345 Q1177.78 781.929 1177.78 790.679 Q1177.78 799.405 1174.7 804.012 Q1171.65 808.595 1165.84 808.595 Q1160.03 808.595 1156.95 804.012 Q1153.89 799.405 1153.89 790.679 Q1153.89 781.929 1156.95 777.345 Q1160.03 772.739 1165.84 772.739 Z\" fill=\"#000000\" fill-rule=\"evenodd\" fill-opacity=\"1\" /><polyline clip-path=\"url(#clip782)\" style=\"stroke:#000000; stroke-linecap:butt; stroke-linejoin:round; stroke-width:2; stroke-opacity:0.1; fill:none\" points=\"\n",
       "  255.968,624.755 1152.76,624.755 \n",
       "  \"/>\n",
       "<polyline clip-path=\"url(#clip782)\" style=\"stroke:#000000; stroke-linecap:butt; stroke-linejoin:round; stroke-width:2; stroke-opacity:0.1; fill:none\" points=\"\n",
       "  255.968,494.759 1152.76,494.759 \n",
       "  \"/>\n",
       "<polyline clip-path=\"url(#clip782)\" style=\"stroke:#000000; stroke-linecap:butt; stroke-linejoin:round; stroke-width:2; stroke-opacity:0.1; fill:none\" points=\"\n",
       "  255.968,364.764 1152.76,364.764 \n",
       "  \"/>\n",
       "<polyline clip-path=\"url(#clip782)\" style=\"stroke:#000000; stroke-linecap:butt; stroke-linejoin:round; stroke-width:2; stroke-opacity:0.1; fill:none\" points=\"\n",
       "  255.968,234.768 1152.76,234.768 \n",
       "  \"/>\n",
       "<polyline clip-path=\"url(#clip782)\" style=\"stroke:#000000; stroke-linecap:butt; stroke-linejoin:round; stroke-width:2; stroke-opacity:0.1; fill:none\" points=\"\n",
       "  255.968,104.773 1152.76,104.773 \n",
       "  \"/>\n",
       "<polyline clip-path=\"url(#clip780)\" style=\"stroke:#000000; stroke-linecap:butt; stroke-linejoin:round; stroke-width:4; stroke-opacity:1; fill:none\" points=\"\n",
       "  255.968,745.524 255.968,47.2441 \n",
       "  \"/>\n",
       "<polyline clip-path=\"url(#clip780)\" style=\"stroke:#000000; stroke-linecap:butt; stroke-linejoin:round; stroke-width:4; stroke-opacity:1; fill:none\" points=\"\n",
       "  1152.76,745.524 1152.76,47.2441 \n",
       "  \"/>\n",
       "<polyline clip-path=\"url(#clip780)\" style=\"stroke:#000000; stroke-linecap:butt; stroke-linejoin:round; stroke-width:4; stroke-opacity:1; fill:none\" points=\"\n",
       "  255.968,624.755 274.866,624.755 \n",
       "  \"/>\n",
       "<polyline clip-path=\"url(#clip780)\" style=\"stroke:#000000; stroke-linecap:butt; stroke-linejoin:round; stroke-width:4; stroke-opacity:1; fill:none\" points=\"\n",
       "  255.968,494.759 274.866,494.759 \n",
       "  \"/>\n",
       "<polyline clip-path=\"url(#clip780)\" style=\"stroke:#000000; stroke-linecap:butt; stroke-linejoin:round; stroke-width:4; stroke-opacity:1; fill:none\" points=\"\n",
       "  255.968,364.764 274.866,364.764 \n",
       "  \"/>\n",
       "<polyline clip-path=\"url(#clip780)\" style=\"stroke:#000000; stroke-linecap:butt; stroke-linejoin:round; stroke-width:4; stroke-opacity:1; fill:none\" points=\"\n",
       "  255.968,234.768 274.866,234.768 \n",
       "  \"/>\n",
       "<polyline clip-path=\"url(#clip780)\" style=\"stroke:#000000; stroke-linecap:butt; stroke-linejoin:round; stroke-width:4; stroke-opacity:1; fill:none\" points=\"\n",
       "  255.968,104.773 274.866,104.773 \n",
       "  \"/>\n",
       "<path clip-path=\"url(#clip780)\" d=\"M132.631 610.553 Q129.02 610.553 127.191 614.118 Q125.385 617.66 125.385 624.789 Q125.385 631.896 127.191 635.461 Q129.02 639.002 132.631 639.002 Q136.265 639.002 138.07 635.461 Q139.899 631.896 139.899 624.789 Q139.899 617.66 138.07 614.118 Q136.265 610.553 132.631 610.553 M132.631 606.85 Q138.441 606.85 141.496 611.456 Q144.575 616.039 144.575 624.789 Q144.575 633.516 141.496 638.123 Q138.441 642.706 132.631 642.706 Q126.82 642.706 123.742 638.123 Q120.686 633.516 120.686 624.789 Q120.686 616.039 123.742 611.456 Q126.82 606.85 132.631 606.85 Z\" fill=\"#000000\" fill-rule=\"evenodd\" fill-opacity=\"1\" /><path clip-path=\"url(#clip780)\" d=\"M152.793 636.155 L157.677 636.155 L157.677 642.035 L152.793 642.035 L152.793 636.155 Z\" fill=\"#000000\" fill-rule=\"evenodd\" fill-opacity=\"1\" /><path clip-path=\"url(#clip780)\" d=\"M182.029 623.4 Q185.385 624.118 187.26 626.387 Q189.158 628.655 189.158 631.988 Q189.158 637.104 185.64 639.905 Q182.121 642.706 175.64 642.706 Q173.464 642.706 171.149 642.266 Q168.857 641.849 166.404 640.993 L166.404 636.479 Q168.348 637.613 170.663 638.192 Q172.978 638.771 175.501 638.771 Q179.899 638.771 182.191 637.035 Q184.505 635.299 184.505 631.988 Q184.505 628.933 182.353 627.22 Q180.223 625.484 176.404 625.484 L172.376 625.484 L172.376 621.641 L176.589 621.641 Q180.038 621.641 181.866 620.275 Q183.695 618.887 183.695 616.294 Q183.695 613.632 181.797 612.22 Q179.922 610.785 176.404 610.785 Q174.482 610.785 172.283 611.201 Q170.084 611.618 167.445 612.498 L167.445 608.331 Q170.107 607.59 172.422 607.22 Q174.76 606.85 176.82 606.85 Q182.144 606.85 185.246 609.28 Q188.348 611.688 188.348 615.808 Q188.348 618.678 186.704 620.669 Q185.061 622.637 182.029 623.4 Z\" fill=\"#000000\" fill-rule=\"evenodd\" fill-opacity=\"1\" /><path clip-path=\"url(#clip780)\" d=\"M208.024 610.553 Q204.413 610.553 202.584 614.118 Q200.778 617.66 200.778 624.789 Q200.778 631.896 202.584 635.461 Q204.413 639.002 208.024 639.002 Q211.658 639.002 213.464 635.461 Q215.292 631.896 215.292 624.789 Q215.292 617.66 213.464 614.118 Q211.658 610.553 208.024 610.553 M208.024 606.85 Q213.834 606.85 216.889 611.456 Q219.968 616.039 219.968 624.789 Q219.968 633.516 216.889 638.123 Q213.834 642.706 208.024 642.706 Q202.214 642.706 199.135 638.123 Q196.079 633.516 196.079 624.789 Q196.079 616.039 199.135 611.456 Q202.214 606.85 208.024 606.85 Z\" fill=\"#000000\" fill-rule=\"evenodd\" fill-opacity=\"1\" /><path clip-path=\"url(#clip780)\" d=\"M133.857 480.558 Q130.246 480.558 128.418 484.123 Q126.612 487.664 126.612 494.794 Q126.612 501.9 128.418 505.465 Q130.246 509.007 133.857 509.007 Q137.492 509.007 139.297 505.465 Q141.126 501.9 141.126 494.794 Q141.126 487.664 139.297 484.123 Q137.492 480.558 133.857 480.558 M133.857 476.854 Q139.668 476.854 142.723 481.461 Q145.802 486.044 145.802 494.794 Q145.802 503.521 142.723 508.127 Q139.668 512.71 133.857 512.71 Q128.047 512.71 124.969 508.127 Q121.913 503.521 121.913 494.794 Q121.913 486.044 124.969 481.461 Q128.047 476.854 133.857 476.854 Z\" fill=\"#000000\" fill-rule=\"evenodd\" fill-opacity=\"1\" /><path clip-path=\"url(#clip780)\" d=\"M154.019 506.16 L158.904 506.16 L158.904 512.039 L154.019 512.039 L154.019 506.16 Z\" fill=\"#000000\" fill-rule=\"evenodd\" fill-opacity=\"1\" /><path clip-path=\"url(#clip780)\" d=\"M183.255 493.405 Q186.612 494.123 188.487 496.391 Q190.385 498.66 190.385 501.993 Q190.385 507.109 186.866 509.91 Q183.348 512.71 176.867 512.71 Q174.691 512.71 172.376 512.271 Q170.084 511.854 167.63 510.997 L167.63 506.484 Q169.575 507.618 171.89 508.197 Q174.204 508.775 176.728 508.775 Q181.126 508.775 183.417 507.039 Q185.732 505.303 185.732 501.993 Q185.732 498.937 183.579 497.224 Q181.45 495.488 177.63 495.488 L173.603 495.488 L173.603 491.646 L177.816 491.646 Q181.265 491.646 183.093 490.28 Q184.922 488.891 184.922 486.299 Q184.922 483.637 183.024 482.224 Q181.149 480.789 177.63 480.789 Q175.709 480.789 173.51 481.206 Q171.311 481.623 168.672 482.502 L168.672 478.336 Q171.334 477.595 173.649 477.225 Q175.987 476.854 178.047 476.854 Q183.371 476.854 186.473 479.285 Q189.575 481.692 189.575 485.812 Q189.575 488.683 187.931 490.674 Q186.288 492.641 183.255 493.405 Z\" fill=\"#000000\" fill-rule=\"evenodd\" fill-opacity=\"1\" /><path clip-path=\"url(#clip780)\" d=\"M200.061 508.104 L207.7 508.104 L207.7 481.738 L199.39 483.405 L199.39 479.146 L207.653 477.479 L212.329 477.479 L212.329 508.104 L219.968 508.104 L219.968 512.039 L200.061 512.039 L200.061 508.104 Z\" fill=\"#000000\" fill-rule=\"evenodd\" fill-opacity=\"1\" /><path clip-path=\"url(#clip780)\" d=\"M134.228 350.562 Q130.617 350.562 128.788 354.127 Q126.983 357.669 126.983 364.798 Q126.983 371.905 128.788 375.47 Q130.617 379.011 134.228 379.011 Q137.862 379.011 139.668 375.47 Q141.496 371.905 141.496 364.798 Q141.496 357.669 139.668 354.127 Q137.862 350.562 134.228 350.562 M134.228 346.859 Q140.038 346.859 143.094 351.465 Q146.172 356.048 146.172 364.798 Q146.172 373.525 143.094 378.132 Q140.038 382.715 134.228 382.715 Q128.418 382.715 125.339 378.132 Q122.283 373.525 122.283 364.798 Q122.283 356.048 125.339 351.465 Q128.418 346.859 134.228 346.859 Z\" fill=\"#000000\" fill-rule=\"evenodd\" fill-opacity=\"1\" /><path clip-path=\"url(#clip780)\" d=\"M154.39 376.164 L159.274 376.164 L159.274 382.044 L154.39 382.044 L154.39 376.164 Z\" fill=\"#000000\" fill-rule=\"evenodd\" fill-opacity=\"1\" /><path clip-path=\"url(#clip780)\" d=\"M183.626 363.409 Q186.982 364.127 188.857 366.396 Q190.755 368.664 190.755 371.997 Q190.755 377.113 187.237 379.914 Q183.718 382.715 177.237 382.715 Q175.061 382.715 172.746 382.275 Q170.455 381.858 168.001 381.002 L168.001 376.488 Q169.945 377.622 172.26 378.201 Q174.575 378.78 177.098 378.78 Q181.496 378.78 183.788 377.044 Q186.103 375.308 186.103 371.997 Q186.103 368.942 183.95 367.229 Q181.82 365.493 178.001 365.493 L173.973 365.493 L173.973 361.65 L178.186 361.65 Q181.635 361.65 183.464 360.285 Q185.292 358.896 185.292 356.303 Q185.292 353.641 183.394 352.229 Q181.519 350.794 178.001 350.794 Q176.079 350.794 173.88 351.21 Q171.681 351.627 169.042 352.507 L169.042 348.34 Q171.705 347.599 174.019 347.229 Q176.357 346.859 178.417 346.859 Q183.741 346.859 186.843 349.289 Q189.945 351.697 189.945 355.817 Q189.945 358.687 188.302 360.678 Q186.658 362.646 183.626 363.409 Z\" fill=\"#000000\" fill-rule=\"evenodd\" fill-opacity=\"1\" /><path clip-path=\"url(#clip780)\" d=\"M203.649 378.108 L219.968 378.108 L219.968 382.044 L198.024 382.044 L198.024 378.108 Q200.686 375.354 205.269 370.724 Q209.876 366.072 211.056 364.729 Q213.302 362.206 214.181 360.47 Q215.084 358.71 215.084 357.021 Q215.084 354.266 213.139 352.53 Q211.218 350.794 208.116 350.794 Q205.917 350.794 203.464 351.558 Q201.033 352.322 198.255 353.873 L198.255 349.15 Q201.079 348.016 203.533 347.437 Q205.987 346.859 208.024 346.859 Q213.394 346.859 216.589 349.544 Q219.783 352.229 219.783 356.72 Q219.783 358.849 218.973 360.771 Q218.186 362.669 216.079 365.261 Q215.501 365.933 212.399 369.15 Q209.297 372.345 203.649 378.108 Z\" fill=\"#000000\" fill-rule=\"evenodd\" fill-opacity=\"1\" /><path clip-path=\"url(#clip780)\" d=\"M133.279 220.567 Q129.668 220.567 127.839 224.132 Q126.033 227.673 126.033 234.803 Q126.033 241.909 127.839 245.474 Q129.668 249.016 133.279 249.016 Q136.913 249.016 138.719 245.474 Q140.547 241.909 140.547 234.803 Q140.547 227.673 138.719 224.132 Q136.913 220.567 133.279 220.567 M133.279 216.863 Q139.089 216.863 142.144 221.47 Q145.223 226.053 145.223 234.803 Q145.223 243.53 142.144 248.136 Q139.089 252.719 133.279 252.719 Q127.469 252.719 124.39 248.136 Q121.334 243.53 121.334 234.803 Q121.334 226.053 124.39 221.47 Q127.469 216.863 133.279 216.863 Z\" fill=\"#000000\" fill-rule=\"evenodd\" fill-opacity=\"1\" /><path clip-path=\"url(#clip780)\" d=\"M153.441 246.169 L158.325 246.169 L158.325 252.048 L153.441 252.048 L153.441 246.169 Z\" fill=\"#000000\" fill-rule=\"evenodd\" fill-opacity=\"1\" /><path clip-path=\"url(#clip780)\" d=\"M182.677 233.414 Q186.033 234.132 187.908 236.4 Q189.806 238.669 189.806 242.002 Q189.806 247.118 186.288 249.919 Q182.769 252.719 176.288 252.719 Q174.112 252.719 171.797 252.28 Q169.505 251.863 167.052 251.006 L167.052 246.493 Q168.996 247.627 171.311 248.206 Q173.626 248.784 176.149 248.784 Q180.547 248.784 182.839 247.048 Q185.154 245.312 185.154 242.002 Q185.154 238.946 183.001 237.233 Q180.871 235.497 177.052 235.497 L173.024 235.497 L173.024 231.655 L177.237 231.655 Q180.686 231.655 182.515 230.289 Q184.343 228.9 184.343 226.308 Q184.343 223.646 182.445 222.234 Q180.57 220.798 177.052 220.798 Q175.13 220.798 172.931 221.215 Q170.732 221.632 168.093 222.511 L168.093 218.345 Q170.755 217.604 173.07 217.234 Q175.408 216.863 177.468 216.863 Q182.792 216.863 185.894 219.294 Q188.996 221.701 188.996 225.821 Q188.996 228.692 187.353 230.683 Q185.709 232.65 182.677 233.414 Z\" fill=\"#000000\" fill-rule=\"evenodd\" fill-opacity=\"1\" /><path clip-path=\"url(#clip780)\" d=\"M212.839 233.414 Q216.195 234.132 218.07 236.4 Q219.968 238.669 219.968 242.002 Q219.968 247.118 216.45 249.919 Q212.931 252.719 206.45 252.719 Q204.274 252.719 201.959 252.28 Q199.667 251.863 197.214 251.006 L197.214 246.493 Q199.158 247.627 201.473 248.206 Q203.788 248.784 206.311 248.784 Q210.709 248.784 213.001 247.048 Q215.315 245.312 215.315 242.002 Q215.315 238.946 213.163 237.233 Q211.033 235.497 207.214 235.497 L203.186 235.497 L203.186 231.655 L207.399 231.655 Q210.848 231.655 212.677 230.289 Q214.505 228.9 214.505 226.308 Q214.505 223.646 212.607 222.234 Q210.732 220.798 207.214 220.798 Q205.292 220.798 203.093 221.215 Q200.894 221.632 198.255 222.511 L198.255 218.345 Q200.917 217.604 203.232 217.234 Q205.57 216.863 207.63 216.863 Q212.954 216.863 216.056 219.294 Q219.158 221.701 219.158 225.821 Q219.158 228.692 217.514 230.683 Q215.871 232.65 212.839 233.414 Z\" fill=\"#000000\" fill-rule=\"evenodd\" fill-opacity=\"1\" /><path clip-path=\"url(#clip780)\" d=\"M132.145 90.5714 Q128.533 90.5714 126.705 94.1362 Q124.899 97.6778 124.899 104.807 Q124.899 111.914 126.705 115.479 Q128.533 119.02 132.145 119.02 Q135.779 119.02 137.584 115.479 Q139.413 111.914 139.413 104.807 Q139.413 97.6778 137.584 94.1362 Q135.779 90.5714 132.145 90.5714 M132.145 86.8677 Q137.955 86.8677 141.01 91.4741 Q144.089 96.0574 144.089 104.807 Q144.089 113.534 141.01 118.141 Q137.955 122.724 132.145 122.724 Q126.334 122.724 123.256 118.141 Q120.2 113.534 120.2 104.807 Q120.2 96.0574 123.256 91.4741 Q126.334 86.8677 132.145 86.8677 Z\" fill=\"#000000\" fill-rule=\"evenodd\" fill-opacity=\"1\" /><path clip-path=\"url(#clip780)\" d=\"M152.306 116.173 L157.191 116.173 L157.191 122.053 L152.306 122.053 L152.306 116.173 Z\" fill=\"#000000\" fill-rule=\"evenodd\" fill-opacity=\"1\" /><path clip-path=\"url(#clip780)\" d=\"M181.542 103.419 Q184.899 104.136 186.774 106.405 Q188.672 108.673 188.672 112.006 Q188.672 117.122 185.154 119.923 Q181.635 122.724 175.154 122.724 Q172.978 122.724 170.663 122.284 Q168.371 121.867 165.918 121.011 L165.918 116.497 Q167.862 117.631 170.177 118.21 Q172.492 118.789 175.015 118.789 Q179.413 118.789 181.704 117.053 Q184.019 115.317 184.019 112.006 Q184.019 108.951 181.866 107.238 Q179.737 105.502 175.917 105.502 L171.89 105.502 L171.89 101.659 L176.103 101.659 Q179.552 101.659 181.38 100.294 Q183.209 98.9046 183.209 96.3121 Q183.209 93.65 181.311 92.238 Q179.436 90.8028 175.917 90.8028 Q173.996 90.8028 171.797 91.2195 Q169.598 91.6362 166.959 92.5158 L166.959 88.3491 Q169.621 87.6084 171.936 87.238 Q174.274 86.8677 176.334 86.8677 Q181.658 86.8677 184.76 89.2982 Q187.862 91.7056 187.862 95.826 Q187.862 98.6963 186.218 100.687 Q184.575 102.655 181.542 103.419 Z\" fill=\"#000000\" fill-rule=\"evenodd\" fill-opacity=\"1\" /><path clip-path=\"url(#clip780)\" d=\"M210.385 91.5667 L198.579 110.016 L210.385 110.016 L210.385 91.5667 M209.158 87.4927 L215.038 87.4927 L215.038 110.016 L219.968 110.016 L219.968 113.905 L215.038 113.905 L215.038 122.053 L210.385 122.053 L210.385 113.905 L194.783 113.905 L194.783 109.391 L209.158 87.4927 Z\" fill=\"#000000\" fill-rule=\"evenodd\" fill-opacity=\"1\" /><path clip-path=\"url(#clip780)\" d=\"M47.2504 534.918 L64.6606 534.918 L64.6606 524.605 Q64.6606 519.417 62.5281 516.935 Q60.3638 514.42 55.9396 514.42 Q51.4836 514.42 49.3829 516.935 Q47.2504 519.417 47.2504 524.605 L47.2504 534.918 M27.7077 534.918 L42.0305 534.918 L42.0305 525.401 Q42.0305 520.69 40.28 518.399 Q38.4976 516.075 34.8691 516.075 Q31.2725 516.075 29.4901 518.399 Q27.7077 520.69 27.7077 525.401 L27.7077 534.918 M22.4242 541.347 L22.4242 524.924 Q22.4242 517.571 25.4797 513.593 Q28.5352 509.614 34.1689 509.614 Q38.5294 509.614 41.1075 511.651 Q43.6856 513.688 44.3222 517.635 Q45.3407 512.892 48.5872 510.282 Q51.8019 507.641 56.6398 507.641 Q63.0055 507.641 66.4748 511.969 Q69.9442 516.298 69.9442 524.287 L69.9442 541.347 L22.4242 541.347 Z\" fill=\"#000000\" fill-rule=\"evenodd\" fill-opacity=\"1\" /><path clip-path=\"url(#clip780)\" d=\"M39.7707 476.226 Q39.1978 477.213 38.9432 478.39 Q38.6567 479.536 38.6567 480.936 Q38.6567 485.902 41.9032 488.575 Q45.1179 491.217 51.1653 491.217 L69.9442 491.217 L69.9442 497.105 L34.2962 497.105 L34.2962 491.217 L39.8344 491.217 Q36.5879 489.371 35.0283 486.411 Q33.4368 483.451 33.4368 479.218 Q33.4368 478.613 33.5323 477.881 Q33.596 477.149 33.7551 476.258 L39.7707 476.226 Z\" fill=\"#000000\" fill-rule=\"evenodd\" fill-opacity=\"1\" /><path clip-path=\"url(#clip780)\" d=\"M34.2962 470.083 L34.2962 464.226 L69.9442 464.226 L69.9442 470.083 L34.2962 470.083 M20.419 470.083 L20.419 464.226 L27.835 464.226 L27.835 470.083 L20.419 470.083 Z\" fill=\"#000000\" fill-rule=\"evenodd\" fill-opacity=\"1\" /><path clip-path=\"url(#clip780)\" d=\"M50.6561 421.481 L53.5206 421.481 L53.5206 448.408 Q59.5681 448.026 62.7509 444.779 Q65.9019 441.501 65.9019 435.676 Q65.9019 432.302 65.0744 429.151 Q64.2469 425.969 62.5918 422.849 L68.1299 422.849 Q69.4667 426 70.167 429.311 Q70.8672 432.621 70.8672 436.026 Q70.8672 444.556 65.9019 449.554 Q60.9367 454.519 52.4703 454.519 Q43.7174 454.519 38.5931 449.808 Q33.4368 445.066 33.4368 437.045 Q33.4368 429.852 38.0838 425.682 Q42.6989 421.481 50.6561 421.481 M48.9373 427.337 Q44.1312 427.401 41.2666 430.043 Q38.4021 432.653 38.4021 436.981 Q38.4021 441.883 41.1712 444.843 Q43.9402 447.771 48.9692 448.217 L48.9373 427.337 Z\" fill=\"#000000\" fill-rule=\"evenodd\" fill-opacity=\"1\" /><path clip-path=\"url(#clip780)\" d=\"M39.7707 391.212 Q39.1978 392.199 38.9432 393.376 Q38.6567 394.522 38.6567 395.922 Q38.6567 400.888 41.9032 403.561 Q45.1179 406.203 51.1653 406.203 L69.9442 406.203 L69.9442 412.091 L34.2962 412.091 L34.2962 406.203 L39.8344 406.203 Q36.5879 404.357 35.0283 401.397 Q33.4368 398.437 33.4368 394.204 Q33.4368 393.599 33.5323 392.867 Q33.596 392.135 33.7551 391.244 L39.7707 391.212 Z\" fill=\"#000000\" fill-rule=\"evenodd\" fill-opacity=\"1\" /><path clip-path=\"url(#clip780)\" d=\"M22.4242 384.814 L22.4242 378.385 L64.5333 378.385 L64.5333 355.246 L69.9442 355.246 L69.9442 384.814 L22.4242 384.814 Z\" fill=\"#000000\" fill-rule=\"evenodd\" fill-opacity=\"1\" /><path clip-path=\"url(#clip780)\" d=\"M38.4021 336.085 Q38.4021 340.795 42.0942 343.533 Q45.7545 346.27 52.152 346.27 Q58.5495 346.27 62.2417 343.565 Q65.9019 340.827 65.9019 336.085 Q65.9019 331.406 62.2098 328.669 Q58.5177 325.932 52.152 325.932 Q45.8181 325.932 42.126 328.669 Q38.4021 331.406 38.4021 336.085 M33.4368 336.085 Q33.4368 328.446 38.4021 324.085 Q43.3673 319.725 52.152 319.725 Q60.9049 319.725 65.9019 324.085 Q70.8672 328.446 70.8672 336.085 Q70.8672 343.755 65.9019 348.116 Q60.9049 352.445 52.152 352.445 Q43.3673 352.445 38.4021 348.116 Q33.4368 343.755 33.4368 336.085 Z\" fill=\"#000000\" fill-rule=\"evenodd\" fill-opacity=\"1\" /><path clip-path=\"url(#clip780)\" d=\"M35.3465 287.292 L40.8847 287.292 Q39.6116 289.774 38.975 292.448 Q38.3384 295.121 38.3384 297.986 Q38.3384 302.347 39.6752 304.543 Q41.012 306.707 43.6856 306.707 Q45.7226 306.707 46.9003 305.147 Q48.0461 303.588 49.0965 298.877 L49.5421 296.872 Q50.8789 290.634 53.3297 288.024 Q55.7486 285.382 60.1091 285.382 Q65.0744 285.382 67.9708 289.329 Q70.8672 293.244 70.8672 300.119 Q70.8672 302.983 70.2943 306.102 Q69.7532 309.19 68.6392 312.627 L62.5918 312.627 Q64.2787 309.381 65.138 306.23 Q65.9656 303.079 65.9656 299.991 Q65.9656 295.854 64.5651 293.626 Q63.1329 291.398 60.5547 291.398 Q58.1676 291.398 56.8945 293.021 Q55.6213 294.612 54.4437 300.055 L53.9662 302.092 Q52.8204 307.535 50.4651 309.954 Q48.078 312.373 43.9402 312.373 Q38.9113 312.373 36.1741 308.808 Q33.4368 305.243 33.4368 298.686 Q33.4368 295.44 33.9143 292.575 Q34.3917 289.711 35.3465 287.292 Z\" fill=\"#000000\" fill-rule=\"evenodd\" fill-opacity=\"1\" /><path clip-path=\"url(#clip780)\" d=\"M35.3465 253.331 L40.8847 253.331 Q39.6116 255.813 38.975 258.487 Q38.3384 261.16 38.3384 264.025 Q38.3384 268.386 39.6752 270.582 Q41.012 272.746 43.6856 272.746 Q45.7226 272.746 46.9003 271.186 Q48.0461 269.627 49.0965 264.916 L49.5421 262.911 Q50.8789 256.673 53.3297 254.063 Q55.7486 251.421 60.1091 251.421 Q65.0744 251.421 67.9708 255.368 Q70.8672 259.283 70.8672 266.158 Q70.8672 269.022 70.2943 272.141 Q69.7532 275.229 68.6392 278.666 L62.5918 278.666 Q64.2787 275.42 65.138 272.269 Q65.9656 269.118 65.9656 266.03 Q65.9656 261.893 64.5651 259.665 Q63.1329 257.437 60.5547 257.437 Q58.1676 257.437 56.8945 259.06 Q55.6213 260.651 54.4437 266.094 L53.9662 268.131 Q52.8204 273.574 50.4651 275.993 Q48.078 278.412 43.9402 278.412 Q38.9113 278.412 36.1741 274.847 Q33.4368 271.282 33.4368 264.725 Q33.4368 261.479 33.9143 258.614 Q34.3917 255.75 35.3465 253.331 Z\" fill=\"#000000\" fill-rule=\"evenodd\" fill-opacity=\"1\" /><circle clip-path=\"url(#clip782)\" cx=\"550.954\" cy=\"120.093\" r=\"14\" fill=\"#009af9\" fill-rule=\"evenodd\" fill-opacity=\"1\" stroke=\"#000000\" stroke-opacity=\"1\" stroke-width=\"3.6\"/>\n",
       "<circle clip-path=\"url(#clip782)\" cx=\"337.42\" cy=\"369.31\" r=\"14\" fill=\"#009af9\" fill-rule=\"evenodd\" fill-opacity=\"1\" stroke=\"#000000\" stroke-opacity=\"1\" stroke-width=\"3.6\"/>\n",
       "<circle clip-path=\"url(#clip782)\" cx=\"325.106\" cy=\"675.355\" r=\"14\" fill=\"#009af9\" fill-rule=\"evenodd\" fill-opacity=\"1\" stroke=\"#000000\" stroke-opacity=\"1\" stroke-width=\"3.6\"/>\n",
       "<circle clip-path=\"url(#clip782)\" cx=\"400.933\" cy=\"691.333\" r=\"14\" fill=\"#009af9\" fill-rule=\"evenodd\" fill-opacity=\"1\" stroke=\"#000000\" stroke-opacity=\"1\" stroke-width=\"3.6\"/>\n",
       "<circle clip-path=\"url(#clip782)\" cx=\"329.593\" cy=\"579.009\" r=\"14\" fill=\"#009af9\" fill-rule=\"evenodd\" fill-opacity=\"1\" stroke=\"#000000\" stroke-opacity=\"1\" stroke-width=\"3.6\"/>\n",
       "<circle clip-path=\"url(#clip782)\" cx=\"326.963\" cy=\"573.646\" r=\"14\" fill=\"#009af9\" fill-rule=\"evenodd\" fill-opacity=\"1\" stroke=\"#000000\" stroke-opacity=\"1\" stroke-width=\"3.6\"/>\n",
       "<circle clip-path=\"url(#clip782)\" cx=\"321.944\" cy=\"433.392\" r=\"14\" fill=\"#009af9\" fill-rule=\"evenodd\" fill-opacity=\"1\" stroke=\"#000000\" stroke-opacity=\"1\" stroke-width=\"3.6\"/>\n",
       "<circle clip-path=\"url(#clip782)\" cx=\"703.3\" cy=\"658.816\" r=\"14\" fill=\"#009af9\" fill-rule=\"evenodd\" fill-opacity=\"1\" stroke=\"#000000\" stroke-opacity=\"1\" stroke-width=\"3.6\"/>\n",
       "<circle clip-path=\"url(#clip782)\" cx=\"947.976\" cy=\"420.839\" r=\"14\" fill=\"#009af9\" fill-rule=\"evenodd\" fill-opacity=\"1\" stroke=\"#000000\" stroke-opacity=\"1\" stroke-width=\"3.6\"/>\n",
       "<circle clip-path=\"url(#clip782)\" cx=\"450.41\" cy=\"77.2191\" r=\"14\" fill=\"#009af9\" fill-rule=\"evenodd\" fill-opacity=\"1\" stroke=\"#000000\" stroke-opacity=\"1\" stroke-width=\"3.6\"/>\n",
       "<circle clip-path=\"url(#clip782)\" cx=\"699.057\" cy=\"695.651\" r=\"14\" fill=\"#009af9\" fill-rule=\"evenodd\" fill-opacity=\"1\" stroke=\"#000000\" stroke-opacity=\"1\" stroke-width=\"3.6\"/>\n",
       "<circle clip-path=\"url(#clip782)\" cx=\"283.806\" cy=\"528.173\" r=\"14\" fill=\"#009af9\" fill-rule=\"evenodd\" fill-opacity=\"1\" stroke=\"#000000\" stroke-opacity=\"1\" stroke-width=\"3.6\"/>\n",
       "<circle clip-path=\"url(#clip782)\" cx=\"501.17\" cy=\"67.0067\" r=\"14\" fill=\"#009af9\" fill-rule=\"evenodd\" fill-opacity=\"1\" stroke=\"#000000\" stroke-opacity=\"1\" stroke-width=\"3.6\"/>\n",
       "<circle clip-path=\"url(#clip782)\" cx=\"460.964\" cy=\"667.853\" r=\"14\" fill=\"#009af9\" fill-rule=\"evenodd\" fill-opacity=\"1\" stroke=\"#000000\" stroke-opacity=\"1\" stroke-width=\"3.6\"/>\n",
       "<circle clip-path=\"url(#clip782)\" cx=\"654.35\" cy=\"664.36\" r=\"14\" fill=\"#009af9\" fill-rule=\"evenodd\" fill-opacity=\"1\" stroke=\"#000000\" stroke-opacity=\"1\" stroke-width=\"3.6\"/>\n",
       "<circle clip-path=\"url(#clip782)\" cx=\"292.137\" cy=\"441.338\" r=\"14\" fill=\"#009af9\" fill-rule=\"evenodd\" fill-opacity=\"1\" stroke=\"#000000\" stroke-opacity=\"1\" stroke-width=\"3.6\"/>\n",
       "<circle clip-path=\"url(#clip782)\" cx=\"444.47\" cy=\"379.908\" r=\"14\" fill=\"#009af9\" fill-rule=\"evenodd\" fill-opacity=\"1\" stroke=\"#000000\" stroke-opacity=\"1\" stroke-width=\"3.6\"/>\n",
       "<circle clip-path=\"url(#clip782)\" cx=\"424.11\" cy=\"317.122\" r=\"14\" fill=\"#009af9\" fill-rule=\"evenodd\" fill-opacity=\"1\" stroke=\"#000000\" stroke-opacity=\"1\" stroke-width=\"3.6\"/>\n",
       "<circle clip-path=\"url(#clip782)\" cx=\"334.021\" cy=\"374.564\" r=\"14\" fill=\"#009af9\" fill-rule=\"evenodd\" fill-opacity=\"1\" stroke=\"#000000\" stroke-opacity=\"1\" stroke-width=\"3.6\"/>\n",
       "<circle clip-path=\"url(#clip782)\" cx=\"397.964\" cy=\"511.158\" r=\"14\" fill=\"#009af9\" fill-rule=\"evenodd\" fill-opacity=\"1\" stroke=\"#000000\" stroke-opacity=\"1\" stroke-width=\"3.6\"/>\n",
       "<circle clip-path=\"url(#clip782)\" cx=\"680.38\" cy=\"725.761\" r=\"14\" fill=\"#009af9\" fill-rule=\"evenodd\" fill-opacity=\"1\" stroke=\"#000000\" stroke-opacity=\"1\" stroke-width=\"3.6\"/>\n",
       "<circle clip-path=\"url(#clip782)\" cx=\"964.535\" cy=\"566.985\" r=\"14\" fill=\"#009af9\" fill-rule=\"evenodd\" fill-opacity=\"1\" stroke=\"#000000\" stroke-opacity=\"1\" stroke-width=\"3.6\"/>\n",
       "<circle clip-path=\"url(#clip782)\" cx=\"295.41\" cy=\"356.205\" r=\"14\" fill=\"#009af9\" fill-rule=\"evenodd\" fill-opacity=\"1\" stroke=\"#000000\" stroke-opacity=\"1\" stroke-width=\"3.6\"/>\n",
       "<circle clip-path=\"url(#clip782)\" cx=\"465.501\" cy=\"594.498\" r=\"14\" fill=\"#009af9\" fill-rule=\"evenodd\" fill-opacity=\"1\" stroke=\"#000000\" stroke-opacity=\"1\" stroke-width=\"3.6\"/>\n",
       "<circle clip-path=\"url(#clip782)\" cx=\"281.349\" cy=\"248.267\" r=\"14\" fill=\"#009af9\" fill-rule=\"evenodd\" fill-opacity=\"1\" stroke=\"#000000\" stroke-opacity=\"1\" stroke-width=\"3.6\"/>\n",
       "<circle clip-path=\"url(#clip782)\" cx=\"786.7\" cy=\"86.5822\" r=\"14\" fill=\"#009af9\" fill-rule=\"evenodd\" fill-opacity=\"1\" stroke=\"#000000\" stroke-opacity=\"1\" stroke-width=\"3.6\"/>\n",
       "<circle clip-path=\"url(#clip782)\" cx=\"812.808\" cy=\"183.258\" r=\"14\" fill=\"#009af9\" fill-rule=\"evenodd\" fill-opacity=\"1\" stroke=\"#000000\" stroke-opacity=\"1\" stroke-width=\"3.6\"/>\n",
       "<circle clip-path=\"url(#clip782)\" cx=\"355.195\" cy=\"632.71\" r=\"14\" fill=\"#009af9\" fill-rule=\"evenodd\" fill-opacity=\"1\" stroke=\"#000000\" stroke-opacity=\"1\" stroke-width=\"3.6\"/>\n",
       "<circle clip-path=\"url(#clip782)\" cx=\"865.957\" cy=\"579.463\" r=\"14\" fill=\"#009af9\" fill-rule=\"evenodd\" fill-opacity=\"1\" stroke=\"#000000\" stroke-opacity=\"1\" stroke-width=\"3.6\"/>\n",
       "<circle clip-path=\"url(#clip782)\" cx=\"326.603\" cy=\"236.905\" r=\"14\" fill=\"#009af9\" fill-rule=\"evenodd\" fill-opacity=\"1\" stroke=\"#000000\" stroke-opacity=\"1\" stroke-width=\"3.6\"/>\n",
       "<circle clip-path=\"url(#clip782)\" cx=\"518.764\" cy=\"685.64\" r=\"14\" fill=\"#009af9\" fill-rule=\"evenodd\" fill-opacity=\"1\" stroke=\"#000000\" stroke-opacity=\"1\" stroke-width=\"3.6\"/>\n",
       "<circle clip-path=\"url(#clip782)\" cx=\"766.729\" cy=\"687.021\" r=\"14\" fill=\"#009af9\" fill-rule=\"evenodd\" fill-opacity=\"1\" stroke=\"#000000\" stroke-opacity=\"1\" stroke-width=\"3.6\"/>\n",
       "<circle clip-path=\"url(#clip782)\" cx=\"375.537\" cy=\"592.9\" r=\"14\" fill=\"#009af9\" fill-rule=\"evenodd\" fill-opacity=\"1\" stroke=\"#000000\" stroke-opacity=\"1\" stroke-width=\"3.6\"/>\n",
       "<circle clip-path=\"url(#clip782)\" cx=\"304.268\" cy=\"642.075\" r=\"14\" fill=\"#009af9\" fill-rule=\"evenodd\" fill-opacity=\"1\" stroke=\"#000000\" stroke-opacity=\"1\" stroke-width=\"3.6\"/>\n",
       "<circle clip-path=\"url(#clip782)\" cx=\"1062.64\" cy=\"81.3744\" r=\"14\" fill=\"#009af9\" fill-rule=\"evenodd\" fill-opacity=\"1\" stroke=\"#000000\" stroke-opacity=\"1\" stroke-width=\"3.6\"/>\n",
       "<circle clip-path=\"url(#clip782)\" cx=\"1127.38\" cy=\"271.843\" r=\"14\" fill=\"#009af9\" fill-rule=\"evenodd\" fill-opacity=\"1\" stroke=\"#000000\" stroke-opacity=\"1\" stroke-width=\"3.6\"/>\n",
       "<circle clip-path=\"url(#clip782)\" cx=\"340.29\" cy=\"591.545\" r=\"14\" fill=\"#009af9\" fill-rule=\"evenodd\" fill-opacity=\"1\" stroke=\"#000000\" stroke-opacity=\"1\" stroke-width=\"3.6\"/>\n",
       "<circle clip-path=\"url(#clip782)\" cx=\"326.947\" cy=\"581.982\" r=\"14\" fill=\"#009af9\" fill-rule=\"evenodd\" fill-opacity=\"1\" stroke=\"#000000\" stroke-opacity=\"1\" stroke-width=\"3.6\"/>\n",
       "<circle clip-path=\"url(#clip782)\" cx=\"376.228\" cy=\"601.647\" r=\"14\" fill=\"#009af9\" fill-rule=\"evenodd\" fill-opacity=\"1\" stroke=\"#000000\" stroke-opacity=\"1\" stroke-width=\"3.6\"/>\n",
       "<circle clip-path=\"url(#clip782)\" cx=\"576.361\" cy=\"586.987\" r=\"14\" fill=\"#009af9\" fill-rule=\"evenodd\" fill-opacity=\"1\" stroke=\"#000000\" stroke-opacity=\"1\" stroke-width=\"3.6\"/>\n",
       "<path clip-path=\"url(#clip780)\" d=\"\n",
       "M1455.97 745.524 L2352.76 745.524 L2352.76 47.2441 L1455.97 47.2441  Z\n",
       "  \" fill=\"#ffffff\" fill-rule=\"evenodd\" fill-opacity=\"1\"/>\n",
       "<defs>\n",
       "  <clipPath id=\"clip783\">\n",
       "    <rect x=\"1455\" y=\"47\" width=\"898\" height=\"699\"/>\n",
       "  </clipPath>\n",
       "</defs>\n",
       "<path clip-path=\"url(#clip780)\" d=\"\n",
       "M255.968 1610.92 L1152.76 1610.92 L1152.76 912.64 L255.968 912.64  Z\n",
       "  \" fill=\"#ffffff\" fill-rule=\"evenodd\" fill-opacity=\"1\"/>\n",
       "<defs>\n",
       "  <clipPath id=\"clip784\">\n",
       "    <rect x=\"255\" y=\"912\" width=\"898\" height=\"699\"/>\n",
       "  </clipPath>\n",
       "</defs>\n",
       "<polyline clip-path=\"url(#clip784)\" style=\"stroke:#000000; stroke-linecap:butt; stroke-linejoin:round; stroke-width:2; stroke-opacity:0.1; fill:none\" points=\"\n",
       "  397.337,1610.92 397.337,912.64 \n",
       "  \"/>\n",
       "<polyline clip-path=\"url(#clip784)\" style=\"stroke:#000000; stroke-linecap:butt; stroke-linejoin:round; stroke-width:2; stroke-opacity:0.1; fill:none\" points=\"\n",
       "  543.498,1610.92 543.498,912.64 \n",
       "  \"/>\n",
       "<polyline clip-path=\"url(#clip784)\" style=\"stroke:#000000; stroke-linecap:butt; stroke-linejoin:round; stroke-width:2; stroke-opacity:0.1; fill:none\" points=\"\n",
       "  689.658,1610.92 689.658,912.64 \n",
       "  \"/>\n",
       "<polyline clip-path=\"url(#clip784)\" style=\"stroke:#000000; stroke-linecap:butt; stroke-linejoin:round; stroke-width:2; stroke-opacity:0.1; fill:none\" points=\"\n",
       "  835.819,1610.92 835.819,912.64 \n",
       "  \"/>\n",
       "<polyline clip-path=\"url(#clip784)\" style=\"stroke:#000000; stroke-linecap:butt; stroke-linejoin:round; stroke-width:2; stroke-opacity:0.1; fill:none\" points=\"\n",
       "  981.979,1610.92 981.979,912.64 \n",
       "  \"/>\n",
       "<polyline clip-path=\"url(#clip784)\" style=\"stroke:#000000; stroke-linecap:butt; stroke-linejoin:round; stroke-width:2; stroke-opacity:0.1; fill:none\" points=\"\n",
       "  1128.14,1610.92 1128.14,912.64 \n",
       "  \"/>\n",
       "<polyline clip-path=\"url(#clip780)\" style=\"stroke:#000000; stroke-linecap:butt; stroke-linejoin:round; stroke-width:4; stroke-opacity:1; fill:none\" points=\"\n",
       "  255.968,1610.92 1152.76,1610.92 \n",
       "  \"/>\n",
       "<polyline clip-path=\"url(#clip780)\" style=\"stroke:#000000; stroke-linecap:butt; stroke-linejoin:round; stroke-width:4; stroke-opacity:1; fill:none\" points=\"\n",
       "  255.968,912.64 1152.76,912.64 \n",
       "  \"/>\n",
       "<polyline clip-path=\"url(#clip780)\" style=\"stroke:#000000; stroke-linecap:butt; stroke-linejoin:round; stroke-width:4; stroke-opacity:1; fill:none\" points=\"\n",
       "  397.337,1610.92 397.337,1592.02 \n",
       "  \"/>\n",
       "<polyline clip-path=\"url(#clip780)\" style=\"stroke:#000000; stroke-linecap:butt; stroke-linejoin:round; stroke-width:4; stroke-opacity:1; fill:none\" points=\"\n",
       "  543.498,1610.92 543.498,1592.02 \n",
       "  \"/>\n",
       "<polyline clip-path=\"url(#clip780)\" style=\"stroke:#000000; stroke-linecap:butt; stroke-linejoin:round; stroke-width:4; stroke-opacity:1; fill:none\" points=\"\n",
       "  689.658,1610.92 689.658,1592.02 \n",
       "  \"/>\n",
       "<polyline clip-path=\"url(#clip780)\" style=\"stroke:#000000; stroke-linecap:butt; stroke-linejoin:round; stroke-width:4; stroke-opacity:1; fill:none\" points=\"\n",
       "  835.819,1610.92 835.819,1592.02 \n",
       "  \"/>\n",
       "<polyline clip-path=\"url(#clip780)\" style=\"stroke:#000000; stroke-linecap:butt; stroke-linejoin:round; stroke-width:4; stroke-opacity:1; fill:none\" points=\"\n",
       "  981.979,1610.92 981.979,1592.02 \n",
       "  \"/>\n",
       "<polyline clip-path=\"url(#clip780)\" style=\"stroke:#000000; stroke-linecap:butt; stroke-linejoin:round; stroke-width:4; stroke-opacity:1; fill:none\" points=\"\n",
       "  1128.14,1610.92 1128.14,1592.02 \n",
       "  \"/>\n",
       "<path clip-path=\"url(#clip780)\" d=\"M360.138 1641.84 Q356.527 1641.84 354.698 1645.4 Q352.893 1648.94 352.893 1656.07 Q352.893 1663.18 354.698 1666.75 Q356.527 1670.29 360.138 1670.29 Q363.772 1670.29 365.578 1666.75 Q367.407 1663.18 367.407 1656.07 Q367.407 1648.94 365.578 1645.4 Q363.772 1641.84 360.138 1641.84 M360.138 1638.13 Q365.948 1638.13 369.004 1642.74 Q372.083 1647.32 372.083 1656.07 Q372.083 1664.8 369.004 1669.41 Q365.948 1673.99 360.138 1673.99 Q354.328 1673.99 351.249 1669.41 Q348.194 1664.8 348.194 1656.07 Q348.194 1647.32 351.249 1642.74 Q354.328 1638.13 360.138 1638.13 Z\" fill=\"#000000\" fill-rule=\"evenodd\" fill-opacity=\"1\" /><path clip-path=\"url(#clip780)\" d=\"M380.3 1667.44 L385.184 1667.44 L385.184 1673.32 L380.3 1673.32 L380.3 1667.44 Z\" fill=\"#000000\" fill-rule=\"evenodd\" fill-opacity=\"1\" /><path clip-path=\"url(#clip780)\" d=\"M405.369 1641.84 Q401.758 1641.84 399.93 1645.4 Q398.124 1648.94 398.124 1656.07 Q398.124 1663.18 399.93 1666.75 Q401.758 1670.29 405.369 1670.29 Q409.004 1670.29 410.809 1666.75 Q412.638 1663.18 412.638 1656.07 Q412.638 1648.94 410.809 1645.4 Q409.004 1641.84 405.369 1641.84 M405.369 1638.13 Q411.18 1638.13 414.235 1642.74 Q417.314 1647.32 417.314 1656.07 Q417.314 1664.8 414.235 1669.41 Q411.18 1673.99 405.369 1673.99 Q399.559 1673.99 396.481 1669.41 Q393.425 1664.8 393.425 1656.07 Q393.425 1647.32 396.481 1642.74 Q399.559 1638.13 405.369 1638.13 Z\" fill=\"#000000\" fill-rule=\"evenodd\" fill-opacity=\"1\" /><path clip-path=\"url(#clip780)\" d=\"M425.578 1638.76 L443.934 1638.76 L443.934 1642.7 L429.86 1642.7 L429.86 1651.17 Q430.879 1650.82 431.897 1650.66 Q432.916 1650.47 433.934 1650.47 Q439.721 1650.47 443.101 1653.64 Q446.48 1656.82 446.48 1662.23 Q446.48 1667.81 443.008 1670.91 Q439.536 1673.99 433.217 1673.99 Q431.041 1673.99 428.772 1673.62 Q426.527 1673.25 424.119 1672.51 L424.119 1667.81 Q426.203 1668.94 428.425 1669.5 Q430.647 1670.06 433.124 1670.06 Q437.129 1670.06 439.467 1667.95 Q441.804 1665.84 441.804 1662.23 Q441.804 1658.62 439.467 1656.51 Q437.129 1654.41 433.124 1654.41 Q431.249 1654.41 429.374 1654.82 Q427.522 1655.24 425.578 1656.12 L425.578 1638.76 Z\" fill=\"#000000\" fill-rule=\"evenodd\" fill-opacity=\"1\" /><path clip-path=\"url(#clip780)\" d=\"M505.801 1641.84 Q502.19 1641.84 500.361 1645.4 Q498.556 1648.94 498.556 1656.07 Q498.556 1663.18 500.361 1666.75 Q502.19 1670.29 505.801 1670.29 Q509.435 1670.29 511.241 1666.75 Q513.07 1663.18 513.07 1656.07 Q513.07 1648.94 511.241 1645.4 Q509.435 1641.84 505.801 1641.84 M505.801 1638.13 Q511.611 1638.13 514.667 1642.74 Q517.746 1647.32 517.746 1656.07 Q517.746 1664.8 514.667 1669.41 Q511.611 1673.99 505.801 1673.99 Q499.991 1673.99 496.912 1669.41 Q493.857 1664.8 493.857 1656.07 Q493.857 1647.32 496.912 1642.74 Q499.991 1638.13 505.801 1638.13 Z\" fill=\"#000000\" fill-rule=\"evenodd\" fill-opacity=\"1\" /><path clip-path=\"url(#clip780)\" d=\"M525.963 1667.44 L530.847 1667.44 L530.847 1673.32 L525.963 1673.32 L525.963 1667.44 Z\" fill=\"#000000\" fill-rule=\"evenodd\" fill-opacity=\"1\" /><path clip-path=\"url(#clip780)\" d=\"M541.843 1669.38 L549.481 1669.38 L549.481 1643.02 L541.171 1644.69 L541.171 1640.43 L549.435 1638.76 L554.111 1638.76 L554.111 1669.38 L561.75 1669.38 L561.75 1673.32 L541.843 1673.32 L541.843 1669.38 Z\" fill=\"#000000\" fill-rule=\"evenodd\" fill-opacity=\"1\" /><path clip-path=\"url(#clip780)\" d=\"M581.194 1641.84 Q577.583 1641.84 575.754 1645.4 Q573.949 1648.94 573.949 1656.07 Q573.949 1663.18 575.754 1666.75 Q577.583 1670.29 581.194 1670.29 Q584.829 1670.29 586.634 1666.75 Q588.463 1663.18 588.463 1656.07 Q588.463 1648.94 586.634 1645.4 Q584.829 1641.84 581.194 1641.84 M581.194 1638.13 Q587.004 1638.13 590.06 1642.74 Q593.139 1647.32 593.139 1656.07 Q593.139 1664.8 590.06 1669.41 Q587.004 1673.99 581.194 1673.99 Q575.384 1673.99 572.305 1669.41 Q569.25 1664.8 569.25 1656.07 Q569.25 1647.32 572.305 1642.74 Q575.384 1638.13 581.194 1638.13 Z\" fill=\"#000000\" fill-rule=\"evenodd\" fill-opacity=\"1\" /><path clip-path=\"url(#clip780)\" d=\"M652.459 1641.84 Q648.848 1641.84 647.02 1645.4 Q645.214 1648.94 645.214 1656.07 Q645.214 1663.18 647.02 1666.75 Q648.848 1670.29 652.459 1670.29 Q656.094 1670.29 657.899 1666.75 Q659.728 1663.18 659.728 1656.07 Q659.728 1648.94 657.899 1645.4 Q656.094 1641.84 652.459 1641.84 M652.459 1638.13 Q658.27 1638.13 661.325 1642.74 Q664.404 1647.32 664.404 1656.07 Q664.404 1664.8 661.325 1669.41 Q658.27 1673.99 652.459 1673.99 Q646.649 1673.99 643.571 1669.41 Q640.515 1664.8 640.515 1656.07 Q640.515 1647.32 643.571 1642.74 Q646.649 1638.13 652.459 1638.13 Z\" fill=\"#000000\" fill-rule=\"evenodd\" fill-opacity=\"1\" /><path clip-path=\"url(#clip780)\" d=\"M672.621 1667.44 L677.506 1667.44 L677.506 1673.32 L672.621 1673.32 L672.621 1667.44 Z\" fill=\"#000000\" fill-rule=\"evenodd\" fill-opacity=\"1\" /><path clip-path=\"url(#clip780)\" d=\"M688.501 1669.38 L696.14 1669.38 L696.14 1643.02 L687.83 1644.69 L687.83 1640.43 L696.093 1638.76 L700.769 1638.76 L700.769 1669.38 L708.408 1669.38 L708.408 1673.32 L688.501 1673.32 L688.501 1669.38 Z\" fill=\"#000000\" fill-rule=\"evenodd\" fill-opacity=\"1\" /><path clip-path=\"url(#clip780)\" d=\"M717.899 1638.76 L736.255 1638.76 L736.255 1642.7 L722.181 1642.7 L722.181 1651.17 Q723.2 1650.82 724.218 1650.66 Q725.237 1650.47 726.255 1650.47 Q732.042 1650.47 735.422 1653.64 Q738.802 1656.82 738.802 1662.23 Q738.802 1667.81 735.329 1670.91 Q731.857 1673.99 725.538 1673.99 Q723.362 1673.99 721.093 1673.62 Q718.848 1673.25 716.441 1672.51 L716.441 1667.81 Q718.524 1668.94 720.746 1669.5 Q722.968 1670.06 725.445 1670.06 Q729.45 1670.06 731.788 1667.95 Q734.126 1665.84 734.126 1662.23 Q734.126 1658.62 731.788 1656.51 Q729.45 1654.41 725.445 1654.41 Q723.57 1654.41 721.695 1654.82 Q719.843 1655.24 717.899 1656.12 L717.899 1638.76 Z\" fill=\"#000000\" fill-rule=\"evenodd\" fill-opacity=\"1\" /><path clip-path=\"url(#clip780)\" d=\"M798.122 1641.84 Q794.511 1641.84 792.683 1645.4 Q790.877 1648.94 790.877 1656.07 Q790.877 1663.18 792.683 1666.75 Q794.511 1670.29 798.122 1670.29 Q801.757 1670.29 803.562 1666.75 Q805.391 1663.18 805.391 1656.07 Q805.391 1648.94 803.562 1645.4 Q801.757 1641.84 798.122 1641.84 M798.122 1638.13 Q803.932 1638.13 806.988 1642.74 Q810.067 1647.32 810.067 1656.07 Q810.067 1664.8 806.988 1669.41 Q803.932 1673.99 798.122 1673.99 Q792.312 1673.99 789.233 1669.41 Q786.178 1664.8 786.178 1656.07 Q786.178 1647.32 789.233 1642.74 Q792.312 1638.13 798.122 1638.13 Z\" fill=\"#000000\" fill-rule=\"evenodd\" fill-opacity=\"1\" /><path clip-path=\"url(#clip780)\" d=\"M818.284 1667.44 L823.168 1667.44 L823.168 1673.32 L818.284 1673.32 L818.284 1667.44 Z\" fill=\"#000000\" fill-rule=\"evenodd\" fill-opacity=\"1\" /><path clip-path=\"url(#clip780)\" d=\"M837.381 1669.38 L853.701 1669.38 L853.701 1673.32 L831.756 1673.32 L831.756 1669.38 Q834.418 1666.63 839.002 1662 Q843.608 1657.35 844.789 1656.01 Q847.034 1653.48 847.914 1651.75 Q848.816 1649.99 848.816 1648.3 Q848.816 1645.54 846.872 1643.81 Q844.951 1642.07 841.849 1642.07 Q839.65 1642.07 837.196 1642.83 Q834.766 1643.6 831.988 1645.15 L831.988 1640.43 Q834.812 1639.29 837.266 1638.71 Q839.719 1638.13 841.756 1638.13 Q847.127 1638.13 850.321 1640.82 Q853.516 1643.51 853.516 1648 Q853.516 1650.13 852.705 1652.05 Q851.918 1653.94 849.812 1656.54 Q849.233 1657.21 846.131 1660.43 Q843.029 1663.62 837.381 1669.38 Z\" fill=\"#000000\" fill-rule=\"evenodd\" fill-opacity=\"1\" /><path clip-path=\"url(#clip780)\" d=\"M873.515 1641.84 Q869.904 1641.84 868.076 1645.4 Q866.27 1648.94 866.27 1656.07 Q866.27 1663.18 868.076 1666.75 Q869.904 1670.29 873.515 1670.29 Q877.15 1670.29 878.955 1666.75 Q880.784 1663.18 880.784 1656.07 Q880.784 1648.94 878.955 1645.4 Q877.15 1641.84 873.515 1641.84 M873.515 1638.13 Q879.326 1638.13 882.381 1642.74 Q885.46 1647.32 885.46 1656.07 Q885.46 1664.8 882.381 1669.41 Q879.326 1673.99 873.515 1673.99 Q867.705 1673.99 864.627 1669.41 Q861.571 1664.8 861.571 1656.07 Q861.571 1647.32 864.627 1642.74 Q867.705 1638.13 873.515 1638.13 Z\" fill=\"#000000\" fill-rule=\"evenodd\" fill-opacity=\"1\" /><path clip-path=\"url(#clip780)\" d=\"M944.781 1641.84 Q941.169 1641.84 939.341 1645.4 Q937.535 1648.94 937.535 1656.07 Q937.535 1663.18 939.341 1666.75 Q941.169 1670.29 944.781 1670.29 Q948.415 1670.29 950.22 1666.75 Q952.049 1663.18 952.049 1656.07 Q952.049 1648.94 950.22 1645.4 Q948.415 1641.84 944.781 1641.84 M944.781 1638.13 Q950.591 1638.13 953.646 1642.74 Q956.725 1647.32 956.725 1656.07 Q956.725 1664.8 953.646 1669.41 Q950.591 1673.99 944.781 1673.99 Q938.97 1673.99 935.892 1669.41 Q932.836 1664.8 932.836 1656.07 Q932.836 1647.32 935.892 1642.74 Q938.97 1638.13 944.781 1638.13 Z\" fill=\"#000000\" fill-rule=\"evenodd\" fill-opacity=\"1\" /><path clip-path=\"url(#clip780)\" d=\"M964.943 1667.44 L969.827 1667.44 L969.827 1673.32 L964.943 1673.32 L964.943 1667.44 Z\" fill=\"#000000\" fill-rule=\"evenodd\" fill-opacity=\"1\" /><path clip-path=\"url(#clip780)\" d=\"M984.04 1669.38 L1000.36 1669.38 L1000.36 1673.32 L978.415 1673.32 L978.415 1669.38 Q981.077 1666.63 985.66 1662 Q990.266 1657.35 991.447 1656.01 Q993.692 1653.48 994.572 1651.75 Q995.475 1649.99 995.475 1648.3 Q995.475 1645.54 993.53 1643.81 Q991.609 1642.07 988.507 1642.07 Q986.308 1642.07 983.854 1642.83 Q981.424 1643.6 978.646 1645.15 L978.646 1640.43 Q981.47 1639.29 983.924 1638.71 Q986.378 1638.13 988.415 1638.13 Q993.785 1638.13 996.979 1640.82 Q1000.17 1643.51 1000.17 1648 Q1000.17 1650.13 999.364 1652.05 Q998.577 1653.94 996.47 1656.54 Q995.891 1657.21 992.79 1660.43 Q989.688 1663.62 984.04 1669.38 Z\" fill=\"#000000\" fill-rule=\"evenodd\" fill-opacity=\"1\" /><path clip-path=\"url(#clip780)\" d=\"M1010.22 1638.76 L1028.58 1638.76 L1028.58 1642.7 L1014.5 1642.7 L1014.5 1651.17 Q1015.52 1650.82 1016.54 1650.66 Q1017.56 1650.47 1018.58 1650.47 Q1024.36 1650.47 1027.74 1653.64 Q1031.12 1656.82 1031.12 1662.23 Q1031.12 1667.81 1027.65 1670.91 Q1024.18 1673.99 1017.86 1673.99 Q1015.68 1673.99 1013.41 1673.62 Q1011.17 1673.25 1008.76 1672.51 L1008.76 1667.81 Q1010.85 1668.94 1013.07 1669.5 Q1015.29 1670.06 1017.77 1670.06 Q1021.77 1670.06 1024.11 1667.95 Q1026.45 1665.84 1026.45 1662.23 Q1026.45 1658.62 1024.11 1656.51 Q1021.77 1654.41 1017.77 1654.41 Q1015.89 1654.41 1014.02 1654.82 Q1012.16 1655.24 1010.22 1656.12 L1010.22 1638.76 Z\" fill=\"#000000\" fill-rule=\"evenodd\" fill-opacity=\"1\" /><path clip-path=\"url(#clip780)\" d=\"M1090.44 1641.84 Q1086.83 1641.84 1085 1645.4 Q1083.2 1648.94 1083.2 1656.07 Q1083.2 1663.18 1085 1666.75 Q1086.83 1670.29 1090.44 1670.29 Q1094.08 1670.29 1095.88 1666.75 Q1097.71 1663.18 1097.71 1656.07 Q1097.71 1648.94 1095.88 1645.4 Q1094.08 1641.84 1090.44 1641.84 M1090.44 1638.13 Q1096.25 1638.13 1099.31 1642.74 Q1102.39 1647.32 1102.39 1656.07 Q1102.39 1664.8 1099.31 1669.41 Q1096.25 1673.99 1090.44 1673.99 Q1084.63 1673.99 1081.55 1669.41 Q1078.5 1664.8 1078.5 1656.07 Q1078.5 1647.32 1081.55 1642.74 Q1084.63 1638.13 1090.44 1638.13 Z\" fill=\"#000000\" fill-rule=\"evenodd\" fill-opacity=\"1\" /><path clip-path=\"url(#clip780)\" d=\"M1110.61 1667.44 L1115.49 1667.44 L1115.49 1673.32 L1110.61 1673.32 L1110.61 1667.44 Z\" fill=\"#000000\" fill-rule=\"evenodd\" fill-opacity=\"1\" /><path clip-path=\"url(#clip780)\" d=\"M1139.84 1654.69 Q1143.2 1655.4 1145.07 1657.67 Q1146.97 1659.94 1146.97 1663.27 Q1146.97 1668.39 1143.45 1671.19 Q1139.93 1673.99 1133.45 1673.99 Q1131.28 1673.99 1128.96 1673.55 Q1126.67 1673.13 1124.22 1672.28 L1124.22 1667.76 Q1126.16 1668.9 1128.48 1669.48 Q1130.79 1670.06 1133.31 1670.06 Q1137.71 1670.06 1140 1668.32 Q1142.32 1666.58 1142.32 1663.27 Q1142.32 1660.22 1140.17 1658.51 Q1138.04 1656.77 1134.22 1656.77 L1130.19 1656.77 L1130.19 1652.93 L1134.4 1652.93 Q1137.85 1652.93 1139.68 1651.56 Q1141.51 1650.17 1141.51 1647.58 Q1141.51 1644.92 1139.61 1643.51 Q1137.73 1642.07 1134.22 1642.07 Q1132.3 1642.07 1130.1 1642.49 Q1127.9 1642.9 1125.26 1643.78 L1125.26 1639.62 Q1127.92 1638.88 1130.23 1638.51 Q1132.57 1638.13 1134.63 1638.13 Q1139.96 1638.13 1143.06 1640.57 Q1146.16 1642.97 1146.16 1647.09 Q1146.16 1649.96 1144.52 1651.95 Q1142.87 1653.92 1139.84 1654.69 Z\" fill=\"#000000\" fill-rule=\"evenodd\" fill-opacity=\"1\" /><path clip-path=\"url(#clip780)\" d=\"M1165.84 1641.84 Q1162.23 1641.84 1160.4 1645.4 Q1158.59 1648.94 1158.59 1656.07 Q1158.59 1663.18 1160.4 1666.75 Q1162.23 1670.29 1165.84 1670.29 Q1169.47 1670.29 1171.28 1666.75 Q1173.11 1663.18 1173.11 1656.07 Q1173.11 1648.94 1171.28 1645.4 Q1169.47 1641.84 1165.84 1641.84 M1165.84 1638.13 Q1171.65 1638.13 1174.7 1642.74 Q1177.78 1647.32 1177.78 1656.07 Q1177.78 1664.8 1174.7 1669.41 Q1171.65 1673.99 1165.84 1673.99 Q1160.03 1673.99 1156.95 1669.41 Q1153.89 1664.8 1153.89 1656.07 Q1153.89 1647.32 1156.95 1642.74 Q1160.03 1638.13 1165.84 1638.13 Z\" fill=\"#000000\" fill-rule=\"evenodd\" fill-opacity=\"1\" /><path clip-path=\"url(#clip780)\" d=\"M296.814 1726.98 Q299.01 1723.03 302.065 1721.15 Q305.121 1719.28 309.259 1719.28 Q314.829 1719.28 317.852 1723.19 Q320.876 1727.07 320.876 1734.27 L320.876 1755.78 L314.988 1755.78 L314.988 1734.46 Q314.988 1729.33 313.173 1726.85 Q311.359 1724.37 307.635 1724.37 Q303.084 1724.37 300.442 1727.39 Q297.8 1730.42 297.8 1735.64 L297.8 1755.78 L291.912 1755.78 L291.912 1734.46 Q291.912 1729.3 290.098 1726.85 Q288.284 1724.37 284.496 1724.37 Q280.008 1724.37 277.366 1727.42 Q274.725 1730.45 274.725 1735.64 L274.725 1755.78 L268.836 1755.78 L268.836 1720.14 L274.725 1720.14 L274.725 1725.67 Q276.73 1722.4 279.531 1720.84 Q282.332 1719.28 286.183 1719.28 Q290.066 1719.28 292.771 1721.25 Q295.509 1723.22 296.814 1726.98 Z\" fill=\"#000000\" fill-rule=\"evenodd\" fill-opacity=\"1\" /><path clip-path=\"url(#clip780)\" d=\"M346.371 1724.24 Q341.66 1724.24 338.923 1727.93 Q336.185 1731.59 336.185 1737.99 Q336.185 1744.39 338.891 1748.08 Q341.628 1751.74 346.371 1751.74 Q351.049 1751.74 353.787 1748.05 Q356.524 1744.36 356.524 1737.99 Q356.524 1731.66 353.787 1727.97 Q351.049 1724.24 346.371 1724.24 M346.371 1719.28 Q354.009 1719.28 358.37 1724.24 Q362.73 1729.21 362.73 1737.99 Q362.73 1746.74 358.37 1751.74 Q354.009 1756.71 346.371 1756.71 Q338.7 1756.71 334.339 1751.74 Q330.011 1746.74 330.011 1737.99 Q330.011 1729.21 334.339 1724.24 Q338.7 1719.28 346.371 1719.28 Z\" fill=\"#000000\" fill-rule=\"evenodd\" fill-opacity=\"1\" /><path clip-path=\"url(#clip780)\" d=\"M395.896 1725.55 L395.896 1706.26 L401.752 1706.26 L401.752 1755.78 L395.896 1755.78 L395.896 1750.44 Q394.05 1753.62 391.217 1755.18 Q388.416 1756.71 384.469 1756.71 Q378.008 1756.71 373.934 1751.55 Q369.892 1746.39 369.892 1737.99 Q369.892 1729.59 373.934 1724.43 Q378.008 1719.28 384.469 1719.28 Q388.416 1719.28 391.217 1720.84 Q394.05 1722.36 395.896 1725.55 M375.939 1737.99 Q375.939 1744.45 378.581 1748.14 Q381.255 1751.81 385.902 1751.81 Q390.549 1751.81 393.222 1748.14 Q395.896 1744.45 395.896 1737.99 Q395.896 1731.53 393.222 1727.87 Q390.549 1724.18 385.902 1724.18 Q381.255 1724.18 378.581 1727.87 Q375.939 1731.53 375.939 1737.99 Z\" fill=\"#000000\" fill-rule=\"evenodd\" fill-opacity=\"1\" /><path clip-path=\"url(#clip780)\" d=\"M444.307 1736.5 L444.307 1739.36 L417.38 1739.36 Q417.762 1745.41 421.009 1748.59 Q424.287 1751.74 430.111 1751.74 Q433.485 1751.74 436.636 1750.91 Q439.819 1750.09 442.938 1748.43 L442.938 1753.97 Q439.787 1755.31 436.477 1756.01 Q433.167 1756.71 429.761 1756.71 Q421.231 1756.71 416.234 1751.74 Q411.269 1746.78 411.269 1738.31 Q411.269 1729.56 415.98 1724.43 Q420.722 1719.28 428.743 1719.28 Q435.936 1719.28 440.106 1723.92 Q444.307 1728.54 444.307 1736.5 M438.451 1734.78 Q438.387 1729.97 435.745 1727.11 Q433.135 1724.24 428.806 1724.24 Q423.905 1724.24 420.945 1727.01 Q418.017 1729.78 417.571 1734.81 L438.451 1734.78 Z\" fill=\"#000000\" fill-rule=\"evenodd\" fill-opacity=\"1\" /><path clip-path=\"url(#clip780)\" d=\"M453.919 1706.26 L459.776 1706.26 L459.776 1755.78 L453.919 1755.78 L453.919 1706.26 Z\" fill=\"#000000\" fill-rule=\"evenodd\" fill-opacity=\"1\" /><path clip-path=\"url(#clip780)\" d=\"M472.857 1747.7 L479.573 1747.7 L479.573 1755.78 L472.857 1755.78 L472.857 1747.7 Z\" fill=\"#000000\" fill-rule=\"evenodd\" fill-opacity=\"1\" /><path clip-path=\"url(#clip780)\" d=\"M523.242 1736.5 L523.242 1739.36 L496.315 1739.36 Q496.697 1745.41 499.943 1748.59 Q503.222 1751.74 509.046 1751.74 Q512.42 1751.74 515.571 1750.91 Q518.754 1750.09 521.873 1748.43 L521.873 1753.97 Q518.722 1755.31 515.412 1756.01 Q512.102 1756.71 508.696 1756.71 Q500.166 1756.71 495.169 1751.74 Q490.204 1746.78 490.204 1738.31 Q490.204 1729.56 494.914 1724.43 Q499.657 1719.28 507.678 1719.28 Q514.871 1719.28 519.04 1723.92 Q523.242 1728.54 523.242 1736.5 M517.385 1734.78 Q517.322 1729.97 514.68 1727.11 Q512.07 1724.24 507.741 1724.24 Q502.84 1724.24 499.88 1727.01 Q496.951 1729.78 496.506 1734.81 L517.385 1734.78 Z\" fill=\"#000000\" fill-rule=\"evenodd\" fill-opacity=\"1\" /><path clip-path=\"url(#clip780)\" d=\"M528.653 1720.14 L534.859 1720.14 L545.999 1750.05 L557.139 1720.14 L563.346 1720.14 L549.978 1755.78 L542.021 1755.78 L528.653 1720.14 Z\" fill=\"#000000\" fill-rule=\"evenodd\" fill-opacity=\"1\" /><path clip-path=\"url(#clip780)\" d=\"M585.244 1724.24 Q580.533 1724.24 577.796 1727.93 Q575.059 1731.59 575.059 1737.99 Q575.059 1744.39 577.764 1748.08 Q580.501 1751.74 585.244 1751.74 Q589.923 1751.74 592.66 1748.05 Q595.397 1744.36 595.397 1737.99 Q595.397 1731.66 592.66 1727.97 Q589.923 1724.24 585.244 1724.24 M585.244 1719.28 Q592.883 1719.28 597.243 1724.24 Q601.604 1729.21 601.604 1737.99 Q601.604 1746.74 597.243 1751.74 Q592.883 1756.71 585.244 1756.71 Q577.573 1756.71 573.213 1751.74 Q568.884 1746.74 568.884 1737.99 Q568.884 1729.21 573.213 1724.24 Q577.573 1719.28 585.244 1719.28 Z\" fill=\"#000000\" fill-rule=\"evenodd\" fill-opacity=\"1\" /><path clip-path=\"url(#clip780)\" d=\"M638.397 1766.61 L638.397 1771.16 L604.532 1771.16 L604.532 1766.61 L638.397 1766.61 Z\" fill=\"#000000\" fill-rule=\"evenodd\" fill-opacity=\"1\" /><path clip-path=\"url(#clip780)\" d=\"M649.697 1710.01 L649.697 1720.14 L661.76 1720.14 L661.76 1724.69 L649.697 1724.69 L649.697 1744.04 Q649.697 1748.4 650.874 1749.64 Q652.084 1750.88 655.744 1750.88 L661.76 1750.88 L661.76 1755.78 L655.744 1755.78 Q648.964 1755.78 646.386 1753.27 Q643.808 1750.72 643.808 1744.04 L643.808 1724.69 L639.511 1724.69 L639.511 1720.14 L643.808 1720.14 L643.808 1710.01 L649.697 1710.01 Z\" fill=\"#000000\" fill-rule=\"evenodd\" fill-opacity=\"1\" /><path clip-path=\"url(#clip780)\" d=\"M690.119 1725.61 Q689.132 1725.04 687.954 1724.78 Q686.809 1724.5 685.408 1724.5 Q680.443 1724.5 677.769 1727.74 Q675.128 1730.96 675.128 1737.01 L675.128 1755.78 L669.239 1755.78 L669.239 1720.14 L675.128 1720.14 L675.128 1725.67 Q676.974 1722.43 679.934 1720.87 Q682.894 1719.28 687.127 1719.28 Q687.732 1719.28 688.464 1719.37 Q689.196 1719.44 690.087 1719.59 L690.119 1725.61 Z\" fill=\"#000000\" fill-rule=\"evenodd\" fill-opacity=\"1\" /><path clip-path=\"url(#clip780)\" d=\"M725.321 1736.5 L725.321 1739.36 L698.394 1739.36 Q698.776 1745.41 702.023 1748.59 Q705.301 1751.74 711.126 1751.74 Q714.499 1751.74 717.65 1750.91 Q720.833 1750.09 723.952 1748.43 L723.952 1753.97 Q720.801 1755.31 717.491 1756.01 Q714.181 1756.71 710.775 1756.71 Q702.245 1756.71 697.248 1751.74 Q692.283 1746.78 692.283 1738.31 Q692.283 1729.56 696.994 1724.43 Q701.736 1719.28 709.757 1719.28 Q716.95 1719.28 721.12 1723.92 Q725.321 1728.54 725.321 1736.5 M719.465 1734.78 Q719.401 1729.97 716.759 1727.11 Q714.149 1724.24 709.821 1724.24 Q704.919 1724.24 701.959 1727.01 Q699.031 1729.78 698.585 1734.81 L719.465 1734.78 Z\" fill=\"#000000\" fill-rule=\"evenodd\" fill-opacity=\"1\" /><path clip-path=\"url(#clip780)\" d=\"M765.425 1736.5 L765.425 1739.36 L738.498 1739.36 Q738.88 1745.41 742.127 1748.59 Q745.405 1751.74 751.23 1751.74 Q754.603 1751.74 757.754 1750.91 Q760.937 1750.09 764.056 1748.43 L764.056 1753.97 Q760.905 1755.31 757.595 1756.01 Q754.285 1756.71 750.879 1756.71 Q742.349 1756.71 737.352 1751.74 Q732.387 1746.78 732.387 1738.31 Q732.387 1729.56 737.098 1724.43 Q741.84 1719.28 749.861 1719.28 Q757.054 1719.28 761.224 1723.92 Q765.425 1728.54 765.425 1736.5 M759.569 1734.78 Q759.505 1729.97 756.863 1727.11 Q754.253 1724.24 749.925 1724.24 Q745.023 1724.24 742.063 1727.01 Q739.135 1729.78 738.689 1734.81 L759.569 1734.78 Z\" fill=\"#000000\" fill-rule=\"evenodd\" fill-opacity=\"1\" /><path clip-path=\"url(#clip780)\" d=\"M802.123 1766.61 L802.123 1771.16 L768.258 1771.16 L768.258 1766.61 L802.123 1766.61 Z\" fill=\"#000000\" fill-rule=\"evenodd\" fill-opacity=\"1\" /><path clip-path=\"url(#clip780)\" d=\"M833.283 1721.5 L833.283 1726.98 Q830.801 1725.61 828.286 1724.94 Q825.804 1724.24 823.258 1724.24 Q817.56 1724.24 814.409 1727.87 Q811.258 1731.47 811.258 1737.99 Q811.258 1744.52 814.409 1748.14 Q817.56 1751.74 823.258 1751.74 Q825.804 1751.74 828.286 1751.07 Q830.801 1750.37 833.283 1749 L833.283 1754.42 Q830.833 1755.56 828.191 1756.13 Q825.581 1756.71 822.621 1756.71 Q814.568 1756.71 809.826 1751.65 Q805.083 1746.59 805.083 1737.99 Q805.083 1729.27 809.858 1724.27 Q814.664 1719.28 823.003 1719.28 Q825.708 1719.28 828.286 1719.85 Q830.865 1720.39 833.283 1721.5 Z\" fill=\"#000000\" fill-rule=\"evenodd\" fill-opacity=\"1\" /><path clip-path=\"url(#clip780)\" d=\"M843.469 1706.26 L849.325 1706.26 L849.325 1755.78 L843.469 1755.78 L843.469 1706.26 Z\" fill=\"#000000\" fill-rule=\"evenodd\" fill-opacity=\"1\" /><path clip-path=\"url(#clip780)\" d=\"M877.78 1737.86 Q870.682 1737.86 867.945 1739.49 Q865.208 1741.11 865.208 1745.03 Q865.208 1748.14 867.245 1749.99 Q869.313 1751.81 872.846 1751.81 Q877.716 1751.81 880.644 1748.37 Q883.604 1744.9 883.604 1739.17 L883.604 1737.86 L877.78 1737.86 M889.461 1735.45 L889.461 1755.78 L883.604 1755.78 L883.604 1750.37 Q881.599 1753.62 878.607 1755.18 Q875.615 1756.71 871.287 1756.71 Q865.812 1756.71 862.566 1753.65 Q859.351 1750.56 859.351 1745.41 Q859.351 1739.39 863.361 1736.34 Q867.404 1733.28 875.393 1733.28 L883.604 1733.28 L883.604 1732.71 Q883.604 1728.67 880.931 1726.47 Q878.289 1724.24 873.483 1724.24 Q870.427 1724.24 867.531 1724.97 Q864.635 1725.71 861.961 1727.17 L861.961 1721.76 Q865.176 1720.52 868.199 1719.91 Q871.223 1719.28 874.088 1719.28 Q881.822 1719.28 885.641 1723.29 Q889.461 1727.3 889.461 1735.45 Z\" fill=\"#000000\" fill-rule=\"evenodd\" fill-opacity=\"1\" /><path clip-path=\"url(#clip780)\" d=\"M924.249 1721.19 L924.249 1726.72 Q921.767 1725.45 919.093 1724.81 Q916.42 1724.18 913.555 1724.18 Q909.195 1724.18 906.998 1725.51 Q904.834 1726.85 904.834 1729.53 Q904.834 1731.56 906.394 1732.74 Q907.953 1733.89 912.664 1734.94 L914.669 1735.38 Q920.907 1736.72 923.517 1739.17 Q926.159 1741.59 926.159 1745.95 Q926.159 1750.91 922.212 1753.81 Q918.298 1756.71 911.423 1756.71 Q908.558 1756.71 905.439 1756.13 Q902.351 1755.59 898.914 1754.48 L898.914 1748.43 Q902.16 1750.12 905.311 1750.98 Q908.462 1751.81 911.55 1751.81 Q915.688 1751.81 917.916 1750.4 Q920.144 1748.97 920.144 1746.39 Q920.144 1744.01 918.52 1742.73 Q916.929 1741.46 911.486 1740.28 L909.449 1739.81 Q904.006 1738.66 901.588 1736.3 Q899.169 1733.92 899.169 1729.78 Q899.169 1724.75 902.733 1722.01 Q906.298 1719.28 912.855 1719.28 Q916.101 1719.28 918.966 1719.75 Q921.83 1720.23 924.249 1721.19 Z\" fill=\"#000000\" fill-rule=\"evenodd\" fill-opacity=\"1\" /><path clip-path=\"url(#clip780)\" d=\"M958.21 1721.19 L958.21 1726.72 Q955.728 1725.45 953.054 1724.81 Q950.381 1724.18 947.516 1724.18 Q943.156 1724.18 940.959 1725.51 Q938.795 1726.85 938.795 1729.53 Q938.795 1731.56 940.355 1732.74 Q941.914 1733.89 946.625 1734.94 L948.63 1735.38 Q954.868 1736.72 957.478 1739.17 Q960.12 1741.59 960.12 1745.95 Q960.12 1750.91 956.173 1753.81 Q952.259 1756.71 945.384 1756.71 Q942.519 1756.71 939.4 1756.13 Q936.312 1755.59 932.875 1754.48 L932.875 1748.43 Q936.121 1750.12 939.273 1750.98 Q942.424 1751.81 945.511 1751.81 Q949.649 1751.81 951.877 1750.4 Q954.105 1748.97 954.105 1746.39 Q954.105 1744.01 952.481 1742.73 Q950.89 1741.46 945.447 1740.28 L943.41 1739.81 Q937.968 1738.66 935.549 1736.3 Q933.13 1733.92 933.13 1729.78 Q933.13 1724.75 936.694 1722.01 Q940.259 1719.28 946.816 1719.28 Q950.062 1719.28 952.927 1719.75 Q955.792 1720.23 958.21 1721.19 Z\" fill=\"#000000\" fill-rule=\"evenodd\" fill-opacity=\"1\" /><path clip-path=\"url(#clip780)\" d=\"M969.446 1720.14 L975.302 1720.14 L975.302 1755.78 L969.446 1755.78 L969.446 1720.14 M969.446 1706.26 L975.302 1706.26 L975.302 1713.67 L969.446 1713.67 L969.446 1706.26 Z\" fill=\"#000000\" fill-rule=\"evenodd\" fill-opacity=\"1\" /><path clip-path=\"url(#clip780)\" d=\"M1005.6 1706.26 L1005.6 1711.13 L1000 1711.13 Q996.85 1711.13 995.609 1712.4 Q994.4 1713.67 994.4 1716.98 L994.4 1720.14 L1004.04 1720.14 L1004.04 1724.69 L994.4 1724.69 L994.4 1755.78 L988.511 1755.78 L988.511 1724.69 L982.909 1724.69 L982.909 1720.14 L988.511 1720.14 L988.511 1717.65 Q988.511 1711.7 991.28 1709 Q994.049 1706.26 1000.07 1706.26 L1005.6 1706.26 Z\" fill=\"#000000\" fill-rule=\"evenodd\" fill-opacity=\"1\" /><path clip-path=\"url(#clip780)\" d=\"M1010.5 1720.14 L1016.36 1720.14 L1016.36 1755.78 L1010.5 1755.78 L1010.5 1720.14 M1010.5 1706.26 L1016.36 1706.26 L1016.36 1713.67 L1010.5 1713.67 L1010.5 1706.26 Z\" fill=\"#000000\" fill-rule=\"evenodd\" fill-opacity=\"1\" /><path clip-path=\"url(#clip780)\" d=\"M1059.11 1736.5 L1059.11 1739.36 L1032.18 1739.36 Q1032.56 1745.41 1035.81 1748.59 Q1039.09 1751.74 1044.91 1751.74 Q1048.29 1751.74 1051.44 1750.91 Q1054.62 1750.09 1057.74 1748.43 L1057.74 1753.97 Q1054.59 1755.31 1051.28 1756.01 Q1047.97 1756.71 1044.56 1756.71 Q1036.03 1756.71 1031.03 1751.74 Q1026.07 1746.78 1026.07 1738.31 Q1026.07 1729.56 1030.78 1724.43 Q1035.52 1719.28 1043.54 1719.28 Q1050.74 1719.28 1054.91 1723.92 Q1059.11 1728.54 1059.11 1736.5 M1053.25 1734.78 Q1053.19 1729.97 1050.55 1727.11 Q1047.94 1724.24 1043.61 1724.24 Q1038.7 1724.24 1035.74 1727.01 Q1032.82 1729.78 1032.37 1734.81 L1053.25 1734.78 Z\" fill=\"#000000\" fill-rule=\"evenodd\" fill-opacity=\"1\" /><path clip-path=\"url(#clip780)\" d=\"M1089.38 1725.61 Q1088.39 1725.04 1087.21 1724.78 Q1086.07 1724.5 1084.67 1724.5 Q1079.7 1724.5 1077.03 1727.74 Q1074.38 1730.96 1074.38 1737.01 L1074.38 1755.78 L1068.5 1755.78 L1068.5 1720.14 L1074.38 1720.14 L1074.38 1725.67 Q1076.23 1722.43 1079.19 1720.87 Q1082.15 1719.28 1086.38 1719.28 Q1086.99 1719.28 1087.72 1719.37 Q1088.45 1719.44 1089.34 1719.59 L1089.38 1725.61 Z\" fill=\"#000000\" fill-rule=\"evenodd\" fill-opacity=\"1\" /><path clip-path=\"url(#clip780)\" d=\"M1090.36 1747.7 L1097.08 1747.7 L1097.08 1755.78 L1090.36 1755.78 L1090.36 1747.7 Z\" fill=\"#000000\" fill-rule=\"evenodd\" fill-opacity=\"1\" /><path clip-path=\"url(#clip780)\" d=\"M1139.89 1734.27 L1139.89 1769.34 L1134.03 1769.34 L1134.03 1734.46 Q1134.03 1729.4 1132.06 1726.88 Q1130.08 1724.37 1126.14 1724.37 Q1121.4 1724.37 1118.66 1727.39 Q1115.92 1730.42 1115.92 1735.64 L1115.92 1755.78 L1110.03 1755.78 L1110.03 1720.14 L1115.92 1720.14 L1115.92 1725.67 Q1118.02 1722.46 1120.85 1720.87 Q1123.72 1719.28 1127.44 1719.28 Q1133.59 1719.28 1136.74 1723.06 Q1139.89 1726.88 1139.89 1734.27 Z\" fill=\"#000000\" fill-rule=\"evenodd\" fill-opacity=\"1\" /><polyline clip-path=\"url(#clip784)\" style=\"stroke:#000000; stroke-linecap:butt; stroke-linejoin:round; stroke-width:2; stroke-opacity:0.1; fill:none\" points=\"\n",
       "  255.968,1591.16 1152.76,1591.16 \n",
       "  \"/>\n",
       "<polyline clip-path=\"url(#clip784)\" style=\"stroke:#000000; stroke-linecap:butt; stroke-linejoin:round; stroke-width:2; stroke-opacity:0.1; fill:none\" points=\"\n",
       "  255.968,1426.47 1152.76,1426.47 \n",
       "  \"/>\n",
       "<polyline clip-path=\"url(#clip784)\" style=\"stroke:#000000; stroke-linecap:butt; stroke-linejoin:round; stroke-width:2; stroke-opacity:0.1; fill:none\" points=\"\n",
       "  255.968,1261.78 1152.76,1261.78 \n",
       "  \"/>\n",
       "<polyline clip-path=\"url(#clip784)\" style=\"stroke:#000000; stroke-linecap:butt; stroke-linejoin:round; stroke-width:2; stroke-opacity:0.1; fill:none\" points=\"\n",
       "  255.968,1097.09 1152.76,1097.09 \n",
       "  \"/>\n",
       "<polyline clip-path=\"url(#clip784)\" style=\"stroke:#000000; stroke-linecap:butt; stroke-linejoin:round; stroke-width:2; stroke-opacity:0.1; fill:none\" points=\"\n",
       "  255.968,932.403 1152.76,932.403 \n",
       "  \"/>\n",
       "<polyline clip-path=\"url(#clip780)\" style=\"stroke:#000000; stroke-linecap:butt; stroke-linejoin:round; stroke-width:4; stroke-opacity:1; fill:none\" points=\"\n",
       "  255.968,1610.92 255.968,912.64 \n",
       "  \"/>\n",
       "<polyline clip-path=\"url(#clip780)\" style=\"stroke:#000000; stroke-linecap:butt; stroke-linejoin:round; stroke-width:4; stroke-opacity:1; fill:none\" points=\"\n",
       "  1152.76,1610.92 1152.76,912.64 \n",
       "  \"/>\n",
       "<polyline clip-path=\"url(#clip780)\" style=\"stroke:#000000; stroke-linecap:butt; stroke-linejoin:round; stroke-width:4; stroke-opacity:1; fill:none\" points=\"\n",
       "  255.968,1591.16 274.866,1591.16 \n",
       "  \"/>\n",
       "<polyline clip-path=\"url(#clip780)\" style=\"stroke:#000000; stroke-linecap:butt; stroke-linejoin:round; stroke-width:4; stroke-opacity:1; fill:none\" points=\"\n",
       "  255.968,1426.47 274.866,1426.47 \n",
       "  \"/>\n",
       "<polyline clip-path=\"url(#clip780)\" style=\"stroke:#000000; stroke-linecap:butt; stroke-linejoin:round; stroke-width:4; stroke-opacity:1; fill:none\" points=\"\n",
       "  255.968,1261.78 274.866,1261.78 \n",
       "  \"/>\n",
       "<polyline clip-path=\"url(#clip780)\" style=\"stroke:#000000; stroke-linecap:butt; stroke-linejoin:round; stroke-width:4; stroke-opacity:1; fill:none\" points=\"\n",
       "  255.968,1097.09 274.866,1097.09 \n",
       "  \"/>\n",
       "<polyline clip-path=\"url(#clip780)\" style=\"stroke:#000000; stroke-linecap:butt; stroke-linejoin:round; stroke-width:4; stroke-opacity:1; fill:none\" points=\"\n",
       "  255.968,932.403 274.866,932.403 \n",
       "  \"/>\n",
       "<path clip-path=\"url(#clip780)\" d=\"M203.649 1604.5 L219.968 1604.5 L219.968 1608.44 L198.024 1608.44 L198.024 1604.5 Q200.686 1601.75 205.269 1597.12 Q209.876 1592.47 211.056 1591.12 Q213.302 1588.6 214.181 1586.86 Q215.084 1585.1 215.084 1583.41 Q215.084 1580.66 213.139 1578.92 Q211.218 1577.19 208.116 1577.19 Q205.917 1577.19 203.464 1577.95 Q201.033 1578.72 198.255 1580.27 L198.255 1575.54 Q201.079 1574.41 203.533 1573.83 Q205.987 1573.25 208.024 1573.25 Q213.394 1573.25 216.589 1575.94 Q219.783 1578.62 219.783 1583.11 Q219.783 1585.24 218.973 1587.16 Q218.186 1589.06 216.079 1591.65 Q215.501 1592.33 212.399 1595.54 Q209.297 1598.74 203.649 1604.5 Z\" fill=\"#000000\" fill-rule=\"evenodd\" fill-opacity=\"1\" /><path clip-path=\"url(#clip780)\" d=\"M212.839 1425.11 Q216.195 1425.83 218.07 1428.1 Q219.968 1430.37 219.968 1433.7 Q219.968 1438.82 216.45 1441.62 Q212.931 1444.42 206.45 1444.42 Q204.274 1444.42 201.959 1443.98 Q199.667 1443.56 197.214 1442.71 L197.214 1438.19 Q199.158 1439.33 201.473 1439.91 Q203.788 1440.48 206.311 1440.48 Q210.709 1440.48 213.001 1438.75 Q215.315 1437.01 215.315 1433.7 Q215.315 1430.65 213.163 1428.93 Q211.033 1427.2 207.214 1427.2 L203.186 1427.2 L203.186 1423.36 L207.399 1423.36 Q210.848 1423.36 212.677 1421.99 Q214.505 1420.6 214.505 1418.01 Q214.505 1415.35 212.607 1413.93 Q210.732 1412.5 207.214 1412.5 Q205.292 1412.5 203.093 1412.92 Q200.894 1413.33 198.255 1414.21 L198.255 1410.05 Q200.917 1409.3 203.232 1408.93 Q205.57 1408.56 207.63 1408.56 Q212.954 1408.56 216.056 1410.99 Q219.158 1413.4 219.158 1417.52 Q219.158 1420.39 217.514 1422.38 Q215.871 1424.35 212.839 1425.11 Z\" fill=\"#000000\" fill-rule=\"evenodd\" fill-opacity=\"1\" /><path clip-path=\"url(#clip780)\" d=\"M210.385 1248.57 L198.579 1267.02 L210.385 1267.02 L210.385 1248.57 M209.158 1244.5 L215.038 1244.5 L215.038 1267.02 L219.968 1267.02 L219.968 1270.91 L215.038 1270.91 L215.038 1279.06 L210.385 1279.06 L210.385 1270.91 L194.783 1270.91 L194.783 1266.4 L209.158 1244.5 Z\" fill=\"#000000\" fill-rule=\"evenodd\" fill-opacity=\"1\" /><path clip-path=\"url(#clip780)\" d=\"M199.065 1079.81 L217.422 1079.81 L217.422 1083.75 L203.348 1083.75 L203.348 1092.22 Q204.366 1091.87 205.385 1091.71 Q206.403 1091.52 207.422 1091.52 Q213.209 1091.52 216.589 1094.7 Q219.968 1097.87 219.968 1103.28 Q219.968 1108.86 216.496 1111.96 Q213.024 1115.04 206.704 1115.04 Q204.528 1115.04 202.26 1114.67 Q200.015 1114.3 197.607 1113.56 L197.607 1108.86 Q199.69 1110 201.913 1110.55 Q204.135 1111.11 206.612 1111.11 Q210.616 1111.11 212.954 1109 Q215.292 1106.89 215.292 1103.28 Q215.292 1099.67 212.954 1097.57 Q210.616 1095.46 206.612 1095.46 Q204.737 1095.46 202.862 1095.88 Q201.01 1096.29 199.065 1097.17 L199.065 1079.81 Z\" fill=\"#000000\" fill-rule=\"evenodd\" fill-opacity=\"1\" /><path clip-path=\"url(#clip780)\" d=\"M208.44 930.539 Q205.292 930.539 203.44 932.692 Q201.612 934.845 201.612 938.595 Q201.612 942.322 203.44 944.498 Q205.292 946.65 208.44 946.65 Q211.589 946.65 213.417 944.498 Q215.269 942.322 215.269 938.595 Q215.269 934.845 213.417 932.692 Q211.589 930.539 208.44 930.539 M217.723 915.887 L217.723 920.146 Q215.964 919.313 214.158 918.873 Q212.376 918.433 210.616 918.433 Q205.987 918.433 203.533 921.558 Q201.103 924.683 200.755 931.002 Q202.121 928.988 204.181 927.924 Q206.241 926.836 208.718 926.836 Q213.927 926.836 216.936 930.007 Q219.968 933.155 219.968 938.595 Q219.968 943.919 216.82 947.136 Q213.672 950.354 208.44 950.354 Q202.445 950.354 199.274 945.771 Q196.103 941.164 196.103 932.437 Q196.103 924.243 199.991 919.382 Q203.88 914.498 210.431 914.498 Q212.19 914.498 213.973 914.845 Q215.778 915.192 217.723 915.887 Z\" fill=\"#000000\" fill-rule=\"evenodd\" fill-opacity=\"1\" /><path clip-path=\"url(#clip780)\" d=\"M115.722 1830.84 Q111.776 1828.65 109.898 1825.59 Q108.02 1822.54 108.02 1818.4 Q108.02 1812.83 111.935 1809.8 Q115.818 1806.78 123.011 1806.78 L144.527 1806.78 L144.527 1812.67 L123.202 1812.67 Q118.078 1812.67 115.595 1814.48 Q113.112 1816.3 113.112 1820.02 Q113.112 1824.57 116.136 1827.21 Q119.16 1829.86 124.38 1829.86 L144.527 1829.86 L144.527 1835.74 L123.202 1835.74 Q118.046 1835.74 115.595 1837.56 Q113.112 1839.37 113.112 1843.16 Q113.112 1847.65 116.168 1850.29 Q119.192 1852.93 124.38 1852.93 L144.527 1852.93 L144.527 1858.82 L108.879 1858.82 L108.879 1852.93 L114.417 1852.93 Q111.139 1850.93 109.579 1848.13 Q108.02 1845.32 108.02 1841.47 Q108.02 1837.59 109.993 1834.88 Q111.967 1832.15 115.722 1830.84 Z\" fill=\"#000000\" fill-rule=\"evenodd\" fill-opacity=\"1\" /><path clip-path=\"url(#clip780)\" d=\"M112.985 1781.29 Q112.985 1786 116.677 1788.73 Q120.337 1791.47 126.735 1791.47 Q133.132 1791.47 136.825 1788.76 Q140.485 1786.03 140.485 1781.29 Q140.485 1776.61 136.793 1773.87 Q133.101 1771.13 126.735 1771.13 Q120.401 1771.13 116.709 1773.87 Q112.985 1776.61 112.985 1781.29 M108.02 1781.29 Q108.02 1773.65 112.985 1769.29 Q117.95 1764.93 126.735 1764.93 Q135.488 1764.93 140.485 1769.29 Q145.45 1773.65 145.45 1781.29 Q145.45 1788.96 140.485 1793.32 Q135.488 1797.65 126.735 1797.65 Q117.95 1797.65 112.985 1793.32 Q108.02 1788.96 108.02 1781.29 Z\" fill=\"#000000\" fill-rule=\"evenodd\" fill-opacity=\"1\" /><path clip-path=\"url(#clip780)\" d=\"M114.29 1731.76 L95.0019 1731.76 L95.0019 1725.9 L144.527 1725.9 L144.527 1731.76 L139.18 1731.76 Q142.363 1733.61 143.922 1736.44 Q145.45 1739.24 145.45 1743.19 Q145.45 1749.65 140.294 1753.72 Q135.138 1757.76 126.735 1757.76 Q118.332 1757.76 113.176 1753.72 Q108.02 1749.65 108.02 1743.19 Q108.02 1739.24 109.579 1736.44 Q111.107 1733.61 114.29 1731.76 M126.735 1751.72 Q133.196 1751.72 136.888 1749.07 Q140.549 1746.4 140.549 1741.75 Q140.549 1737.11 136.888 1734.43 Q133.196 1731.76 126.735 1731.76 Q120.274 1731.76 116.613 1734.43 Q112.921 1737.11 112.921 1741.75 Q112.921 1746.4 116.613 1749.07 Q120.274 1751.72 126.735 1751.72 Z\" fill=\"#000000\" fill-rule=\"evenodd\" fill-opacity=\"1\" /><path clip-path=\"url(#clip780)\" d=\"M125.239 1683.35 L128.104 1683.35 L128.104 1710.28 Q134.151 1709.89 137.334 1706.65 Q140.485 1703.37 140.485 1697.54 Q140.485 1694.17 139.657 1691.02 Q138.83 1687.84 137.175 1684.72 L142.713 1684.72 Q144.05 1687.87 144.75 1691.18 Q145.45 1694.49 145.45 1697.89 Q145.45 1706.42 140.485 1711.42 Q135.52 1716.39 127.053 1716.39 Q118.3 1716.39 113.176 1711.68 Q108.02 1706.93 108.02 1698.91 Q108.02 1691.72 112.667 1687.55 Q117.282 1683.35 125.239 1683.35 M123.52 1689.21 Q118.714 1689.27 115.85 1691.91 Q112.985 1694.52 112.985 1698.85 Q112.985 1703.75 115.754 1706.71 Q118.523 1709.64 123.552 1710.08 L123.52 1689.21 Z\" fill=\"#000000\" fill-rule=\"evenodd\" fill-opacity=\"1\" /><path clip-path=\"url(#clip780)\" d=\"M95.0019 1673.74 L95.0019 1667.88 L144.527 1667.88 L144.527 1673.74 L95.0019 1673.74 Z\" fill=\"#000000\" fill-rule=\"evenodd\" fill-opacity=\"1\" /><path clip-path=\"url(#clip780)\" d=\"M136.443 1654.8 L136.443 1648.08 L144.527 1648.08 L144.527 1654.8 L136.443 1654.8 Z\" fill=\"#000000\" fill-rule=\"evenodd\" fill-opacity=\"1\" /><path clip-path=\"url(#clip780)\" d=\"M125.239 1604.41 L128.104 1604.41 L128.104 1631.34 Q134.151 1630.96 137.334 1627.71 Q140.485 1624.43 140.485 1618.61 Q140.485 1615.24 139.657 1612.08 Q138.83 1608.9 137.175 1605.78 L142.713 1605.78 Q144.05 1608.93 144.75 1612.24 Q145.45 1615.55 145.45 1618.96 Q145.45 1627.49 140.485 1632.49 Q135.52 1637.45 127.053 1637.45 Q118.3 1637.45 113.176 1632.74 Q108.02 1628 108.02 1619.98 Q108.02 1612.79 112.667 1608.62 Q117.282 1604.41 125.239 1604.41 M123.52 1610.27 Q118.714 1610.33 115.85 1612.98 Q112.985 1615.59 112.985 1619.91 Q112.985 1624.82 115.754 1627.78 Q118.523 1630.7 123.552 1631.15 L123.52 1610.27 Z\" fill=\"#000000\" fill-rule=\"evenodd\" fill-opacity=\"1\" /><path clip-path=\"url(#clip780)\" d=\"M108.879 1599 L108.879 1592.8 L138.798 1581.66 L108.879 1570.52 L108.879 1564.31 L144.527 1577.68 L144.527 1585.64 L108.879 1599 Z\" fill=\"#000000\" fill-rule=\"evenodd\" fill-opacity=\"1\" /><path clip-path=\"url(#clip780)\" d=\"M112.985 1542.41 Q112.985 1547.12 116.677 1549.86 Q120.337 1552.6 126.735 1552.6 Q133.132 1552.6 136.825 1549.89 Q140.485 1547.15 140.485 1542.41 Q140.485 1537.73 136.793 1535 Q133.101 1532.26 126.735 1532.26 Q120.401 1532.26 116.709 1535 Q112.985 1537.73 112.985 1542.41 M108.02 1542.41 Q108.02 1534.77 112.985 1530.41 Q117.95 1526.05 126.735 1526.05 Q135.488 1526.05 140.485 1530.41 Q145.45 1534.77 145.45 1542.41 Q145.45 1550.08 140.485 1554.44 Q135.488 1558.77 126.735 1558.77 Q117.95 1558.77 112.985 1554.44 Q108.02 1550.08 108.02 1542.41 Z\" fill=\"#000000\" fill-rule=\"evenodd\" fill-opacity=\"1\" /><path clip-path=\"url(#clip780)\" d=\"M155.349 1489.26 L159.9 1489.26 L159.9 1523.12 L155.349 1523.12 L155.349 1489.26 Z\" fill=\"#000000\" fill-rule=\"evenodd\" fill-opacity=\"1\" /><path clip-path=\"url(#clip780)\" d=\"M98.7577 1477.96 L108.879 1477.96 L108.879 1465.9 L113.431 1465.9 L113.431 1477.96 L132.782 1477.96 Q137.143 1477.96 138.384 1476.78 Q139.625 1475.57 139.625 1471.91 L139.625 1465.9 L144.527 1465.9 L144.527 1471.91 Q144.527 1478.69 142.013 1481.27 Q139.466 1483.85 132.782 1483.85 L113.431 1483.85 L113.431 1488.14 L108.879 1488.14 L108.879 1483.85 L98.7577 1483.85 L98.7577 1477.96 Z\" fill=\"#000000\" fill-rule=\"evenodd\" fill-opacity=\"1\" /><path clip-path=\"url(#clip780)\" d=\"M114.354 1437.54 Q113.781 1438.52 113.526 1439.7 Q113.24 1440.85 113.24 1442.25 Q113.24 1447.21 116.486 1449.89 Q119.701 1452.53 125.748 1452.53 L144.527 1452.53 L144.527 1458.42 L108.879 1458.42 L108.879 1452.53 L114.417 1452.53 Q111.171 1450.68 109.611 1447.72 Q108.02 1444.76 108.02 1440.53 Q108.02 1439.92 108.115 1439.19 Q108.179 1438.46 108.338 1437.57 L114.354 1437.54 Z\" fill=\"#000000\" fill-rule=\"evenodd\" fill-opacity=\"1\" /><path clip-path=\"url(#clip780)\" d=\"M125.239 1402.33 L128.104 1402.33 L128.104 1429.26 Q134.151 1428.88 137.334 1425.63 Q140.485 1422.35 140.485 1416.53 Q140.485 1413.16 139.657 1410.01 Q138.83 1406.82 137.175 1403.7 L142.713 1403.7 Q144.05 1406.85 144.75 1410.16 Q145.45 1413.47 145.45 1416.88 Q145.45 1425.41 140.485 1430.41 Q135.52 1435.37 127.053 1435.37 Q118.3 1435.37 113.176 1430.66 Q108.02 1425.92 108.02 1417.9 Q108.02 1410.71 112.667 1406.54 Q117.282 1402.33 125.239 1402.33 M123.52 1408.19 Q118.714 1408.25 115.85 1410.9 Q112.985 1413.51 112.985 1417.84 Q112.985 1422.74 115.754 1425.7 Q118.523 1428.63 123.552 1429.07 L123.52 1408.19 Z\" fill=\"#000000\" fill-rule=\"evenodd\" fill-opacity=\"1\" /><path clip-path=\"url(#clip780)\" d=\"M125.239 1362.23 L128.104 1362.23 L128.104 1389.16 Q134.151 1388.78 137.334 1385.53 Q140.485 1382.25 140.485 1376.43 Q140.485 1373.05 139.657 1369.9 Q138.83 1366.72 137.175 1363.6 L142.713 1363.6 Q144.05 1366.75 144.75 1370.06 Q145.45 1373.37 145.45 1376.78 Q145.45 1385.31 140.485 1390.3 Q135.52 1395.27 127.053 1395.27 Q118.3 1395.27 113.176 1390.56 Q108.02 1385.82 108.02 1377.79 Q108.02 1370.6 112.667 1366.43 Q117.282 1362.23 125.239 1362.23 M123.52 1368.09 Q118.714 1368.15 115.85 1370.79 Q112.985 1373.4 112.985 1377.73 Q112.985 1382.63 115.754 1385.59 Q118.523 1388.52 123.552 1388.97 L123.52 1368.09 Z\" fill=\"#000000\" fill-rule=\"evenodd\" fill-opacity=\"1\" /><path clip-path=\"url(#clip780)\" d=\"M155.349 1325.53 L159.9 1325.53 L159.9 1359.4 L155.349 1359.4 L155.349 1325.53 Z\" fill=\"#000000\" fill-rule=\"evenodd\" fill-opacity=\"1\" /><path clip-path=\"url(#clip780)\" d=\"M110.248 1294.37 L115.722 1294.37 Q114.354 1296.86 113.685 1299.37 Q112.985 1301.85 112.985 1304.4 Q112.985 1310.1 116.613 1313.25 Q120.21 1316.4 126.735 1316.4 Q133.26 1316.4 136.888 1313.25 Q140.485 1310.1 140.485 1304.4 Q140.485 1301.85 139.816 1299.37 Q139.116 1296.86 137.748 1294.37 L143.158 1294.37 Q144.304 1296.82 144.877 1299.46 Q145.45 1302.07 145.45 1305.03 Q145.45 1313.09 140.389 1317.83 Q135.329 1322.57 126.735 1322.57 Q118.014 1322.57 113.017 1317.8 Q108.02 1312.99 108.02 1304.65 Q108.02 1301.95 108.593 1299.37 Q109.134 1296.79 110.248 1294.37 Z\" fill=\"#000000\" fill-rule=\"evenodd\" fill-opacity=\"1\" /><path clip-path=\"url(#clip780)\" d=\"M95.0019 1284.19 L95.0019 1278.33 L144.527 1278.33 L144.527 1284.19 L95.0019 1284.19 Z\" fill=\"#000000\" fill-rule=\"evenodd\" fill-opacity=\"1\" /><path clip-path=\"url(#clip780)\" d=\"M126.608 1249.88 Q126.608 1256.97 128.231 1259.71 Q129.854 1262.45 133.769 1262.45 Q136.888 1262.45 138.734 1260.41 Q140.549 1258.34 140.549 1254.81 Q140.549 1249.94 137.111 1247.01 Q133.642 1244.05 127.913 1244.05 L126.608 1244.05 L126.608 1249.88 M124.189 1238.2 L144.527 1238.2 L144.527 1244.05 L139.116 1244.05 Q142.363 1246.06 143.922 1249.05 Q145.45 1252.04 145.45 1256.37 Q145.45 1261.84 142.395 1265.09 Q139.307 1268.3 134.151 1268.3 Q128.135 1268.3 125.08 1264.29 Q122.024 1260.25 122.024 1252.26 L122.024 1244.05 L121.451 1244.05 Q117.409 1244.05 115.213 1246.73 Q112.985 1249.37 112.985 1254.17 Q112.985 1257.23 113.717 1260.12 Q114.449 1263.02 115.913 1265.69 L110.502 1265.69 Q109.261 1262.48 108.656 1259.46 Q108.02 1256.43 108.02 1253.57 Q108.02 1245.83 112.03 1242.01 Q116.041 1238.2 124.189 1238.2 Z\" fill=\"#000000\" fill-rule=\"evenodd\" fill-opacity=\"1\" /><path clip-path=\"url(#clip780)\" d=\"M109.929 1203.41 L115.468 1203.41 Q114.194 1205.89 113.558 1208.56 Q112.921 1211.24 112.921 1214.1 Q112.921 1218.46 114.258 1220.66 Q115.595 1222.82 118.269 1222.82 Q120.306 1222.82 121.483 1221.26 Q122.629 1219.7 123.679 1214.99 L124.125 1212.99 Q125.462 1206.75 127.913 1204.14 Q130.332 1201.5 134.692 1201.5 Q139.657 1201.5 142.554 1205.44 Q145.45 1209.36 145.45 1216.23 Q145.45 1219.1 144.877 1222.22 Q144.336 1225.3 143.222 1228.74 L137.175 1228.74 Q138.862 1225.5 139.721 1222.34 Q140.549 1219.19 140.549 1216.11 Q140.549 1211.97 139.148 1209.74 Q137.716 1207.51 135.138 1207.51 Q132.751 1207.51 131.477 1209.14 Q130.204 1210.73 129.027 1216.17 L128.549 1218.21 Q127.403 1223.65 125.048 1226.07 Q122.661 1228.49 118.523 1228.49 Q113.494 1228.49 110.757 1224.92 Q108.02 1221.36 108.02 1214.8 Q108.02 1211.55 108.497 1208.69 Q108.975 1205.83 109.929 1203.41 Z\" fill=\"#000000\" fill-rule=\"evenodd\" fill-opacity=\"1\" /><path clip-path=\"url(#clip780)\" d=\"M109.929 1169.45 L115.468 1169.45 Q114.194 1171.93 113.558 1174.6 Q112.921 1177.28 112.921 1180.14 Q112.921 1184.5 114.258 1186.7 Q115.595 1188.86 118.269 1188.86 Q120.306 1188.86 121.483 1187.3 Q122.629 1185.74 123.679 1181.03 L124.125 1179.03 Q125.462 1172.79 127.913 1170.18 Q130.332 1167.54 134.692 1167.54 Q139.657 1167.54 142.554 1171.48 Q145.45 1175.4 145.45 1182.27 Q145.45 1185.14 144.877 1188.26 Q144.336 1191.34 143.222 1194.78 L137.175 1194.78 Q138.862 1191.53 139.721 1188.38 Q140.549 1185.23 140.549 1182.14 Q140.549 1178.01 139.148 1175.78 Q137.716 1173.55 135.138 1173.55 Q132.751 1173.55 131.477 1175.17 Q130.204 1176.77 129.027 1182.21 L128.549 1184.25 Q127.403 1189.69 125.048 1192.11 Q122.661 1194.53 118.523 1194.53 Q113.494 1194.53 110.757 1190.96 Q108.02 1187.4 108.02 1180.84 Q108.02 1177.59 108.497 1174.73 Q108.975 1171.86 109.929 1169.45 Z\" fill=\"#000000\" fill-rule=\"evenodd\" fill-opacity=\"1\" /><path clip-path=\"url(#clip780)\" d=\"M108.879 1158.21 L108.879 1152.35 L144.527 1152.35 L144.527 1158.21 L108.879 1158.21 M95.0019 1158.21 L95.0019 1152.35 L102.418 1152.35 L102.418 1158.21 L95.0019 1158.21 Z\" fill=\"#000000\" fill-rule=\"evenodd\" fill-opacity=\"1\" /><path clip-path=\"url(#clip780)\" d=\"M95.0019 1122.05 L99.8717 1122.05 L99.8717 1127.65 Q99.8717 1130.81 101.145 1132.05 Q102.418 1133.26 105.728 1133.26 L108.879 1133.26 L108.879 1123.61 L113.431 1123.61 L113.431 1133.26 L144.527 1133.26 L144.527 1139.14 L113.431 1139.14 L113.431 1144.75 L108.879 1144.75 L108.879 1139.14 L106.397 1139.14 Q100.445 1139.14 97.7391 1136.38 Q95.0019 1133.61 95.0019 1127.59 L95.0019 1122.05 Z\" fill=\"#000000\" fill-rule=\"evenodd\" fill-opacity=\"1\" /><path clip-path=\"url(#clip780)\" d=\"M108.879 1117.15 L108.879 1111.29 L144.527 1111.29 L144.527 1117.15 L108.879 1117.15 M95.0019 1117.15 L95.0019 1111.29 L102.418 1111.29 L102.418 1117.15 L95.0019 1117.15 Z\" fill=\"#000000\" fill-rule=\"evenodd\" fill-opacity=\"1\" /><path clip-path=\"url(#clip780)\" d=\"M125.239 1068.55 L128.104 1068.55 L128.104 1095.48 Q134.151 1095.09 137.334 1091.85 Q140.485 1088.57 140.485 1082.74 Q140.485 1079.37 139.657 1076.22 Q138.83 1073.04 137.175 1069.92 L142.713 1069.92 Q144.05 1073.07 144.75 1076.38 Q145.45 1079.69 145.45 1083.09 Q145.45 1091.62 140.485 1096.62 Q135.52 1101.59 127.053 1101.59 Q118.3 1101.59 113.176 1096.88 Q108.02 1092.13 108.02 1084.11 Q108.02 1076.92 112.667 1072.75 Q117.282 1068.55 125.239 1068.55 M123.52 1074.41 Q118.714 1074.47 115.85 1077.11 Q112.985 1079.72 112.985 1084.05 Q112.985 1088.95 115.754 1091.91 Q118.523 1094.84 123.552 1095.28 L123.52 1074.41 Z\" fill=\"#000000\" fill-rule=\"evenodd\" fill-opacity=\"1\" /><path clip-path=\"url(#clip780)\" d=\"M114.354 1038.28 Q113.781 1039.27 113.526 1040.44 Q113.24 1041.59 113.24 1042.99 Q113.24 1047.96 116.486 1050.63 Q119.701 1053.27 125.748 1053.27 L144.527 1053.27 L144.527 1059.16 L108.879 1059.16 L108.879 1053.27 L114.417 1053.27 Q111.171 1051.43 109.611 1048.47 Q108.02 1045.51 108.02 1041.27 Q108.02 1040.67 108.115 1039.94 Q108.179 1039.2 108.338 1038.31 L114.354 1038.28 Z\" fill=\"#000000\" fill-rule=\"evenodd\" fill-opacity=\"1\" /><path clip-path=\"url(#clip780)\" d=\"M136.443 1037.29 L136.443 1030.58 L144.527 1030.58 L144.527 1037.29 L136.443 1037.29 Z\" fill=\"#000000\" fill-rule=\"evenodd\" fill-opacity=\"1\" /><path clip-path=\"url(#clip780)\" d=\"M115.722 989.646 Q111.776 987.45 109.898 984.394 Q108.02 981.339 108.02 977.201 Q108.02 971.631 111.935 968.607 Q115.818 965.584 123.011 965.584 L144.527 965.584 L144.527 971.472 L123.202 971.472 Q118.078 971.472 115.595 973.286 Q113.112 975.1 113.112 978.824 Q113.112 983.376 116.136 986.018 Q119.16 988.659 124.38 988.659 L144.527 988.659 L144.527 994.548 L123.202 994.548 Q118.046 994.548 115.595 996.362 Q113.112 998.176 113.112 1001.96 Q113.112 1006.45 116.168 1009.09 Q119.192 1011.74 124.38 1011.74 L144.527 1011.74 L144.527 1017.62 L108.879 1017.62 L108.879 1011.74 L114.417 1011.74 Q111.139 1009.73 109.579 1006.93 Q108.02 1004.13 108.02 1000.28 Q108.02 996.394 109.993 993.688 Q111.967 990.951 115.722 989.646 Z\" fill=\"#000000\" fill-rule=\"evenodd\" fill-opacity=\"1\" /><path clip-path=\"url(#clip780)\" d=\"M126.608 937.702 Q126.608 944.8 128.231 947.537 Q129.854 950.274 133.769 950.274 Q136.888 950.274 138.734 948.237 Q140.549 946.168 140.549 942.635 Q140.549 937.765 137.111 934.837 Q133.642 931.877 127.913 931.877 L126.608 931.877 L126.608 937.702 M124.189 926.021 L144.527 926.021 L144.527 931.877 L139.116 931.877 Q142.363 933.882 143.922 936.874 Q145.45 939.866 145.45 944.195 Q145.45 949.669 142.395 952.916 Q139.307 956.131 134.151 956.131 Q128.135 956.131 125.08 952.12 Q122.024 948.078 122.024 940.089 L122.024 931.877 L121.451 931.877 Q117.409 931.877 115.213 934.551 Q112.985 937.193 112.985 941.999 Q112.985 945.054 113.717 947.951 Q114.449 950.847 115.913 953.521 L110.502 953.521 Q109.261 950.306 108.656 947.282 Q108.02 944.259 108.02 941.394 Q108.02 933.66 112.03 929.84 Q116.041 926.021 124.189 926.021 Z\" fill=\"#000000\" fill-rule=\"evenodd\" fill-opacity=\"1\" /><path clip-path=\"url(#clip780)\" d=\"M108.879 884.325 L126.226 897.216 L144.527 883.657 L144.527 890.564 L130.523 900.94 L144.527 911.316 L144.527 918.223 L125.876 904.377 L108.879 917.045 L108.879 910.138 L121.579 900.685 L108.879 891.232 L108.879 884.325 Z\" fill=\"#000000\" fill-rule=\"evenodd\" fill-opacity=\"1\" /><path clip-path=\"url(#clip780)\" d=\"M155.349 848.295 L159.9 848.295 L159.9 882.161 L155.349 882.161 L155.349 848.295 Z\" fill=\"#000000\" fill-rule=\"evenodd\" fill-opacity=\"1\" /><path clip-path=\"url(#clip780)\" d=\"M114.29 819.332 L95.0019 819.332 L95.0019 813.475 L144.527 813.475 L144.527 819.332 L139.18 819.332 Q142.363 821.178 143.922 824.01 Q145.45 826.811 145.45 830.758 Q145.45 837.219 140.294 841.293 Q135.138 845.335 126.735 845.335 Q118.332 845.335 113.176 841.293 Q108.02 837.219 108.02 830.758 Q108.02 826.811 109.579 824.01 Q111.107 821.178 114.29 819.332 M126.735 839.288 Q133.196 839.288 136.888 836.646 Q140.549 833.973 140.549 829.326 Q140.549 824.679 136.888 822.005 Q133.196 819.332 126.735 819.332 Q120.274 819.332 116.613 822.005 Q112.921 824.679 112.921 829.326 Q112.921 833.973 116.613 836.646 Q120.274 839.288 126.735 839.288 Z\" fill=\"#000000\" fill-rule=\"evenodd\" fill-opacity=\"1\" /><path clip-path=\"url(#clip780)\" d=\"M125.239 770.92 L128.104 770.92 L128.104 797.847 Q134.151 797.465 137.334 794.219 Q140.485 790.94 140.485 785.116 Q140.485 781.742 139.657 778.591 Q138.83 775.408 137.175 772.289 L142.713 772.289 Q144.05 775.44 144.75 778.75 Q145.45 782.06 145.45 785.466 Q145.45 793.996 140.485 798.993 Q135.52 803.958 127.053 803.958 Q118.3 803.958 113.176 799.248 Q108.02 794.505 108.02 786.484 Q108.02 779.291 112.667 775.122 Q117.282 770.92 125.239 770.92 M123.52 776.777 Q118.714 776.84 115.85 779.482 Q112.985 782.092 112.985 786.421 Q112.985 791.322 115.754 794.282 Q118.523 797.211 123.552 797.656 L123.52 776.777 Z\" fill=\"#000000\" fill-rule=\"evenodd\" fill-opacity=\"1\" /><path clip-path=\"url(#clip780)\" d=\"M139.18 755.643 L158.086 755.643 L158.086 761.531 L108.879 761.531 L108.879 755.643 L114.29 755.643 Q111.107 753.797 109.579 750.996 Q108.02 748.163 108.02 744.248 Q108.02 737.755 113.176 733.713 Q118.332 729.639 126.735 729.639 Q135.138 729.639 140.294 733.713 Q145.45 737.755 145.45 744.248 Q145.45 748.163 143.922 750.996 Q142.363 753.797 139.18 755.643 M126.735 735.718 Q120.274 735.718 116.613 738.392 Q112.921 741.033 112.921 745.68 Q112.921 750.327 116.613 753.001 Q120.274 755.643 126.735 755.643 Q133.196 755.643 136.888 753.001 Q140.549 750.327 140.549 745.68 Q140.549 741.033 136.888 738.392 Q133.196 735.718 126.735 735.718 Z\" fill=\"#000000\" fill-rule=\"evenodd\" fill-opacity=\"1\" /><path clip-path=\"url(#clip780)\" d=\"M98.7577 714.138 L108.879 714.138 L108.879 702.075 L113.431 702.075 L113.431 714.138 L132.782 714.138 Q137.143 714.138 138.384 712.961 Q139.625 711.751 139.625 708.091 L139.625 702.075 L144.527 702.075 L144.527 708.091 Q144.527 714.87 142.013 717.448 Q139.466 720.026 132.782 720.026 L113.431 720.026 L113.431 724.323 L108.879 724.323 L108.879 720.026 L98.7577 720.026 L98.7577 714.138 Z\" fill=\"#000000\" fill-rule=\"evenodd\" fill-opacity=\"1\" /><path clip-path=\"url(#clip780)\" d=\"M123.011 664.74 L144.527 664.74 L144.527 670.597 L123.202 670.597 Q118.141 670.597 115.627 672.57 Q113.112 674.544 113.112 678.49 Q113.112 683.233 116.136 685.97 Q119.16 688.707 124.38 688.707 L144.527 688.707 L144.527 694.595 L95.0019 694.595 L95.0019 688.707 L114.417 688.707 Q111.203 686.607 109.611 683.774 Q108.02 680.909 108.02 677.185 Q108.02 671.042 111.839 667.891 Q115.627 664.74 123.011 664.74 Z\" fill=\"#000000\" fill-rule=\"evenodd\" fill-opacity=\"1\" /><circle clip-path=\"url(#clip784)\" cx=\"550.954\" cy=\"932.403\" r=\"56\" fill=\"#f3df54\" fill-rule=\"evenodd\" fill-opacity=\"1\" stroke=\"#000000\" stroke-opacity=\"1\" stroke-width=\"3.6\"/>\n",
       "<circle clip-path=\"url(#clip784)\" cx=\"337.42\" cy=\"1097.09\" r=\"35\" fill=\"#c93f4a\" fill-rule=\"evenodd\" fill-opacity=\"1\" stroke=\"#000000\" stroke-opacity=\"1\" stroke-width=\"3.6\"/>\n",
       "<circle clip-path=\"url(#clip784)\" cx=\"325.106\" cy=\"1591.16\" r=\"8\" fill=\"#0f092c\" fill-rule=\"evenodd\" fill-opacity=\"1\" stroke=\"#000000\" stroke-opacity=\"1\" stroke-width=\"3.6\"/>\n",
       "<circle clip-path=\"url(#clip784)\" cx=\"400.933\" cy=\"1426.47\" r=\"6\" fill=\"#07051d\" fill-rule=\"evenodd\" fill-opacity=\"1\" stroke=\"#000000\" stroke-opacity=\"1\" stroke-width=\"3.6\"/>\n",
       "<circle clip-path=\"url(#clip784)\" cx=\"329.593\" cy=\"1261.78\" r=\"16\" fill=\"#4b0c6b\" fill-rule=\"evenodd\" fill-opacity=\"1\" stroke=\"#000000\" stroke-opacity=\"1\" stroke-width=\"3.6\"/>\n",
       "<circle clip-path=\"url(#clip784)\" cx=\"326.963\" cy=\"1261.78\" r=\"17\" fill=\"#4e0d6c\" fill-rule=\"evenodd\" fill-opacity=\"1\" stroke=\"#000000\" stroke-opacity=\"1\" stroke-width=\"3.6\"/>\n",
       "<circle clip-path=\"url(#clip784)\" cx=\"321.944\" cy=\"1097.09\" r=\"29\" fill=\"#a52c60\" fill-rule=\"evenodd\" fill-opacity=\"1\" stroke=\"#000000\" stroke-opacity=\"1\" stroke-width=\"3.6\"/>\n",
       "<circle clip-path=\"url(#clip784)\" cx=\"703.3\" cy=\"1426.47\" r=\"9\" fill=\"#170b3b\" fill-rule=\"evenodd\" fill-opacity=\"1\" stroke=\"#000000\" stroke-opacity=\"1\" stroke-width=\"3.6\"/>\n",
       "<circle clip-path=\"url(#clip784)\" cx=\"947.976\" cy=\"1261.78\" r=\"30\" fill=\"#ac2f5c\" fill-rule=\"evenodd\" fill-opacity=\"1\" stroke=\"#000000\" stroke-opacity=\"1\" stroke-width=\"3.6\"/>\n",
       "<circle clip-path=\"url(#clip784)\" cx=\"450.41\" cy=\"932.403\" r=\"60\" fill=\"#f6fa95\" fill-rule=\"evenodd\" fill-opacity=\"1\" stroke=\"#000000\" stroke-opacity=\"1\" stroke-width=\"3.6\"/>\n",
       "<circle clip-path=\"url(#clip784)\" cx=\"699.057\" cy=\"1426.47\" r=\"6\" fill=\"#06041a\" fill-rule=\"evenodd\" fill-opacity=\"1\" stroke=\"#000000\" stroke-opacity=\"1\" stroke-width=\"3.6\"/>\n",
       "<circle clip-path=\"url(#clip784)\" cx=\"283.806\" cy=\"1261.78\" r=\"21\" fill=\"#6a176e\" fill-rule=\"evenodd\" fill-opacity=\"1\" stroke=\"#000000\" stroke-opacity=\"1\" stroke-width=\"3.6\"/>\n",
       "<circle clip-path=\"url(#clip784)\" cx=\"501.17\" cy=\"932.403\" r=\"61\" fill=\"#fcfea4\" fill-rule=\"evenodd\" fill-opacity=\"1\" stroke=\"#000000\" stroke-opacity=\"1\" stroke-width=\"3.6\"/>\n",
       "<circle clip-path=\"url(#clip784)\" cx=\"460.964\" cy=\"1426.47\" r=\"8\" fill=\"#120a33\" fill-rule=\"evenodd\" fill-opacity=\"1\" stroke=\"#000000\" stroke-opacity=\"1\" stroke-width=\"3.6\"/>\n",
       "<circle clip-path=\"url(#clip784)\" cx=\"654.35\" cy=\"1426.47\" r=\"9\" fill=\"#140a36\" fill-rule=\"evenodd\" fill-opacity=\"1\" stroke=\"#000000\" stroke-opacity=\"1\" stroke-width=\"3.6\"/>\n",
       "<circle clip-path=\"url(#clip784)\" cx=\"292.137\" cy=\"1097.09\" r=\"29\" fill=\"#a02a62\" fill-rule=\"evenodd\" fill-opacity=\"1\" stroke=\"#000000\" stroke-opacity=\"1\" stroke-width=\"3.6\"/>\n",
       "<circle clip-path=\"url(#clip784)\" cx=\"444.47\" cy=\"1591.16\" r=\"34\" fill=\"#c43c4e\" fill-rule=\"evenodd\" fill-opacity=\"1\" stroke=\"#000000\" stroke-opacity=\"1\" stroke-width=\"3.6\"/>\n",
       "<circle clip-path=\"url(#clip784)\" cx=\"424.11\" cy=\"1097.09\" r=\"39\" fill=\"#e25733\" fill-rule=\"evenodd\" fill-opacity=\"1\" stroke=\"#000000\" stroke-opacity=\"1\" stroke-width=\"3.6\"/>\n",
       "<circle clip-path=\"url(#clip784)\" cx=\"334.021\" cy=\"1097.09\" r=\"34\" fill=\"#c63d4c\" fill-rule=\"evenodd\" fill-opacity=\"1\" stroke=\"#000000\" stroke-opacity=\"1\" stroke-width=\"3.6\"/>\n",
       "<circle clip-path=\"url(#clip784)\" cx=\"397.964\" cy=\"1261.78\" r=\"22\" fill=\"#751b6d\" fill-rule=\"evenodd\" fill-opacity=\"1\" stroke=\"#000000\" stroke-opacity=\"1\" stroke-width=\"3.6\"/>\n",
       "<circle clip-path=\"url(#clip784)\" cx=\"680.38\" cy=\"1591.16\" r=\"3\" fill=\"#000003\" fill-rule=\"evenodd\" fill-opacity=\"1\" stroke=\"#000000\" stroke-opacity=\"1\" stroke-width=\"3.6\"/>\n",
       "<circle clip-path=\"url(#clip784)\" cx=\"964.535\" cy=\"1426.47\" r=\"17\" fill=\"#530e6c\" fill-rule=\"evenodd\" fill-opacity=\"1\" stroke=\"#000000\" stroke-opacity=\"1\" stroke-width=\"3.6\"/>\n",
       "<circle clip-path=\"url(#clip784)\" cx=\"295.41\" cy=\"1097.09\" r=\"36\" fill=\"#d04544\" fill-rule=\"evenodd\" fill-opacity=\"1\" stroke=\"#000000\" stroke-opacity=\"1\" stroke-width=\"3.6\"/>\n",
       "<circle clip-path=\"url(#clip784)\" cx=\"465.501\" cy=\"1426.47\" r=\"15\" fill=\"#410967\" fill-rule=\"evenodd\" fill-opacity=\"1\" stroke=\"#000000\" stroke-opacity=\"1\" stroke-width=\"3.6\"/>\n",
       "<circle clip-path=\"url(#clip784)\" cx=\"281.349\" cy=\"932.403\" r=\"45\" fill=\"#f68111\" fill-rule=\"evenodd\" fill-opacity=\"1\" stroke=\"#000000\" stroke-opacity=\"1\" stroke-width=\"3.6\"/>\n",
       "<circle clip-path=\"url(#clip784)\" cx=\"786.7\" cy=\"932.403\" r=\"59\" fill=\"#f2f587\" fill-rule=\"evenodd\" fill-opacity=\"1\" stroke=\"#000000\" stroke-opacity=\"1\" stroke-width=\"3.6\"/>\n",
       "<circle clip-path=\"url(#clip784)\" cx=\"812.808\" cy=\"932.403\" r=\"51\" fill=\"#fbb014\" fill-rule=\"evenodd\" fill-opacity=\"1\" stroke=\"#000000\" stroke-opacity=\"1\" stroke-width=\"3.6\"/>\n",
       "<circle clip-path=\"url(#clip784)\" cx=\"355.195\" cy=\"1261.78\" r=\"12\" fill=\"#270b53\" fill-rule=\"evenodd\" fill-opacity=\"1\" stroke=\"#000000\" stroke-opacity=\"1\" stroke-width=\"3.6\"/>\n",
       "<circle clip-path=\"url(#clip784)\" cx=\"865.957\" cy=\"1097.09\" r=\"16\" fill=\"#4b0b6b\" fill-rule=\"evenodd\" fill-opacity=\"1\" stroke=\"#000000\" stroke-opacity=\"1\" stroke-width=\"3.6\"/>\n",
       "<circle clip-path=\"url(#clip784)\" cx=\"326.603\" cy=\"932.403\" r=\"46\" fill=\"#f8890c\" fill-rule=\"evenodd\" fill-opacity=\"1\" stroke=\"#000000\" stroke-opacity=\"1\" stroke-width=\"3.6\"/>\n",
       "<circle clip-path=\"url(#clip784)\" cx=\"518.764\" cy=\"1426.47\" r=\"7\" fill=\"#0a0622\" fill-rule=\"evenodd\" fill-opacity=\"1\" stroke=\"#000000\" stroke-opacity=\"1\" stroke-width=\"3.6\"/>\n",
       "<circle clip-path=\"url(#clip784)\" cx=\"766.729\" cy=\"1426.47\" r=\"7\" fill=\"#090621\" fill-rule=\"evenodd\" fill-opacity=\"1\" stroke=\"#000000\" stroke-opacity=\"1\" stroke-width=\"3.6\"/>\n",
       "<circle clip-path=\"url(#clip784)\" cx=\"375.537\" cy=\"1591.16\" r=\"15\" fill=\"#420967\" fill-rule=\"evenodd\" fill-opacity=\"1\" stroke=\"#000000\" stroke-opacity=\"1\" stroke-width=\"3.6\"/>\n",
       "<circle clip-path=\"url(#clip784)\" cx=\"304.268\" cy=\"1426.47\" r=\"11\" fill=\"#210c4b\" fill-rule=\"evenodd\" fill-opacity=\"1\" stroke=\"#000000\" stroke-opacity=\"1\" stroke-width=\"3.6\"/>\n",
       "<circle clip-path=\"url(#clip784)\" cx=\"1062.64\" cy=\"932.403\" r=\"59\" fill=\"#f4f88f\" fill-rule=\"evenodd\" fill-opacity=\"1\" stroke=\"#000000\" stroke-opacity=\"1\" stroke-width=\"3.6\"/>\n",
       "<circle clip-path=\"url(#clip784)\" cx=\"1127.38\" cy=\"1097.09\" r=\"43\" fill=\"#f1721d\" fill-rule=\"evenodd\" fill-opacity=\"1\" stroke=\"#000000\" stroke-opacity=\"1\" stroke-width=\"3.6\"/>\n",
       "<circle clip-path=\"url(#clip784)\" cx=\"340.29\" cy=\"1591.16\" r=\"15\" fill=\"#430a68\" fill-rule=\"evenodd\" fill-opacity=\"1\" stroke=\"#000000\" stroke-opacity=\"1\" stroke-width=\"3.6\"/>\n",
       "<circle clip-path=\"url(#clip784)\" cx=\"326.947\" cy=\"1591.16\" r=\"16\" fill=\"#490b6a\" fill-rule=\"evenodd\" fill-opacity=\"1\" stroke=\"#000000\" stroke-opacity=\"1\" stroke-width=\"3.6\"/>\n",
       "<circle clip-path=\"url(#clip784)\" cx=\"376.228\" cy=\"1261.78\" r=\"14\" fill=\"#3c0965\" fill-rule=\"evenodd\" fill-opacity=\"1\" stroke=\"#000000\" stroke-opacity=\"1\" stroke-width=\"3.6\"/>\n",
       "<circle clip-path=\"url(#clip784)\" cx=\"576.361\" cy=\"1261.78\" r=\"16\" fill=\"#460a69\" fill-rule=\"evenodd\" fill-opacity=\"1\" stroke=\"#000000\" stroke-opacity=\"1\" stroke-width=\"3.6\"/>\n",
       "<path clip-path=\"url(#clip780)\" d=\"\n",
       "M1455.97 1610.92 L2352.76 1610.92 L2352.76 912.64 L1455.97 912.64  Z\n",
       "  \" fill=\"#ffffff\" fill-rule=\"evenodd\" fill-opacity=\"1\"/>\n",
       "<defs>\n",
       "  <clipPath id=\"clip785\">\n",
       "    <rect x=\"1455\" y=\"912\" width=\"898\" height=\"699\"/>\n",
       "  </clipPath>\n",
       "</defs>\n",
       "<polyline clip-path=\"url(#clip785)\" style=\"stroke:#000000; stroke-linecap:butt; stroke-linejoin:round; stroke-width:2; stroke-opacity:0.1; fill:none\" points=\"\n",
       "  1481.35,1610.92 1481.35,912.64 \n",
       "  \"/>\n",
       "<polyline clip-path=\"url(#clip785)\" style=\"stroke:#000000; stroke-linecap:butt; stroke-linejoin:round; stroke-width:2; stroke-opacity:0.1; fill:none\" points=\"\n",
       "  1692.86,1610.92 1692.86,912.64 \n",
       "  \"/>\n",
       "<polyline clip-path=\"url(#clip785)\" style=\"stroke:#000000; stroke-linecap:butt; stroke-linejoin:round; stroke-width:2; stroke-opacity:0.1; fill:none\" points=\"\n",
       "  1904.36,1610.92 1904.36,912.64 \n",
       "  \"/>\n",
       "<polyline clip-path=\"url(#clip785)\" style=\"stroke:#000000; stroke-linecap:butt; stroke-linejoin:round; stroke-width:2; stroke-opacity:0.1; fill:none\" points=\"\n",
       "  2115.87,1610.92 2115.87,912.64 \n",
       "  \"/>\n",
       "<polyline clip-path=\"url(#clip785)\" style=\"stroke:#000000; stroke-linecap:butt; stroke-linejoin:round; stroke-width:2; stroke-opacity:0.1; fill:none\" points=\"\n",
       "  2327.38,1610.92 2327.38,912.64 \n",
       "  \"/>\n",
       "<polyline clip-path=\"url(#clip780)\" style=\"stroke:#000000; stroke-linecap:butt; stroke-linejoin:round; stroke-width:4; stroke-opacity:1; fill:none\" points=\"\n",
       "  1455.97,1610.92 2352.76,1610.92 \n",
       "  \"/>\n",
       "<polyline clip-path=\"url(#clip780)\" style=\"stroke:#000000; stroke-linecap:butt; stroke-linejoin:round; stroke-width:4; stroke-opacity:1; fill:none\" points=\"\n",
       "  1455.97,912.64 2352.76,912.64 \n",
       "  \"/>\n",
       "<polyline clip-path=\"url(#clip780)\" style=\"stroke:#000000; stroke-linecap:butt; stroke-linejoin:round; stroke-width:4; stroke-opacity:1; fill:none\" points=\"\n",
       "  1481.35,1610.92 1481.35,1592.02 \n",
       "  \"/>\n",
       "<polyline clip-path=\"url(#clip780)\" style=\"stroke:#000000; stroke-linecap:butt; stroke-linejoin:round; stroke-width:4; stroke-opacity:1; fill:none\" points=\"\n",
       "  1692.86,1610.92 1692.86,1592.02 \n",
       "  \"/>\n",
       "<polyline clip-path=\"url(#clip780)\" style=\"stroke:#000000; stroke-linecap:butt; stroke-linejoin:round; stroke-width:4; stroke-opacity:1; fill:none\" points=\"\n",
       "  1904.36,1610.92 1904.36,1592.02 \n",
       "  \"/>\n",
       "<polyline clip-path=\"url(#clip780)\" style=\"stroke:#000000; stroke-linecap:butt; stroke-linejoin:round; stroke-width:4; stroke-opacity:1; fill:none\" points=\"\n",
       "  2115.87,1610.92 2115.87,1592.02 \n",
       "  \"/>\n",
       "<polyline clip-path=\"url(#clip780)\" style=\"stroke:#000000; stroke-linecap:butt; stroke-linejoin:round; stroke-width:4; stroke-opacity:1; fill:none\" points=\"\n",
       "  2327.38,1610.92 2327.38,1592.02 \n",
       "  \"/>\n",
       "<path clip-path=\"url(#clip780)\" d=\"M1476 1669.38 L1492.32 1669.38 L1492.32 1673.32 L1470.38 1673.32 L1470.38 1669.38 Q1473.04 1666.63 1477.62 1662 Q1482.23 1657.35 1483.41 1656.01 Q1485.65 1653.48 1486.53 1651.75 Q1487.44 1649.99 1487.44 1648.3 Q1487.44 1645.54 1485.49 1643.81 Q1483.57 1642.07 1480.47 1642.07 Q1478.27 1642.07 1475.82 1642.83 Q1473.39 1643.6 1470.61 1645.15 L1470.61 1640.43 Q1473.43 1639.29 1475.89 1638.71 Q1478.34 1638.13 1480.38 1638.13 Q1485.75 1638.13 1488.94 1640.82 Q1492.14 1643.51 1492.14 1648 Q1492.14 1650.13 1491.33 1652.05 Q1490.54 1653.94 1488.43 1656.54 Q1487.85 1657.21 1484.75 1660.43 Q1481.65 1663.62 1476 1669.38 Z\" fill=\"#000000\" fill-rule=\"evenodd\" fill-opacity=\"1\" /><path clip-path=\"url(#clip780)\" d=\"M1697.1 1654.69 Q1700.46 1655.4 1702.33 1657.67 Q1704.23 1659.94 1704.23 1663.27 Q1704.23 1668.39 1700.71 1671.19 Q1697.2 1673.99 1690.71 1673.99 Q1688.54 1673.99 1686.22 1673.55 Q1683.93 1673.13 1681.48 1672.28 L1681.48 1667.76 Q1683.42 1668.9 1685.74 1669.48 Q1688.05 1670.06 1690.58 1670.06 Q1694.97 1670.06 1697.27 1668.32 Q1699.58 1666.58 1699.58 1663.27 Q1699.58 1660.22 1697.43 1658.51 Q1695.3 1656.77 1691.48 1656.77 L1687.45 1656.77 L1687.45 1652.93 L1691.66 1652.93 Q1695.11 1652.93 1696.94 1651.56 Q1698.77 1650.17 1698.77 1647.58 Q1698.77 1644.92 1696.87 1643.51 Q1695 1642.07 1691.48 1642.07 Q1689.56 1642.07 1687.36 1642.49 Q1685.16 1642.9 1682.52 1643.78 L1682.52 1639.62 Q1685.18 1638.88 1687.5 1638.51 Q1689.83 1638.13 1691.89 1638.13 Q1697.22 1638.13 1700.32 1640.57 Q1703.42 1642.97 1703.42 1647.09 Q1703.42 1649.96 1701.78 1651.95 Q1700.14 1653.92 1697.1 1654.69 Z\" fill=\"#000000\" fill-rule=\"evenodd\" fill-opacity=\"1\" /><path clip-path=\"url(#clip780)\" d=\"M1907.37 1642.83 L1895.57 1661.28 L1907.37 1661.28 L1907.37 1642.83 M1906.14 1638.76 L1912.02 1638.76 L1912.02 1661.28 L1916.95 1661.28 L1916.95 1665.17 L1912.02 1665.17 L1912.02 1673.32 L1907.37 1673.32 L1907.37 1665.17 L1891.77 1665.17 L1891.77 1660.66 L1906.14 1638.76 Z\" fill=\"#000000\" fill-rule=\"evenodd\" fill-opacity=\"1\" /><path clip-path=\"url(#clip780)\" d=\"M2106.15 1638.76 L2124.5 1638.76 L2124.5 1642.7 L2110.43 1642.7 L2110.43 1651.17 Q2111.45 1650.82 2112.47 1650.66 Q2113.48 1650.47 2114.5 1650.47 Q2120.29 1650.47 2123.67 1653.64 Q2127.05 1656.82 2127.05 1662.23 Q2127.05 1667.81 2123.58 1670.91 Q2120.1 1673.99 2113.79 1673.99 Q2111.61 1673.99 2109.34 1673.62 Q2107.1 1673.25 2104.69 1672.51 L2104.69 1667.81 Q2106.77 1668.94 2108.99 1669.5 Q2111.22 1670.06 2113.69 1670.06 Q2117.7 1670.06 2120.04 1667.95 Q2122.37 1665.84 2122.37 1662.23 Q2122.37 1658.62 2120.04 1656.51 Q2117.7 1654.41 2113.69 1654.41 Q2111.82 1654.41 2109.94 1654.82 Q2108.09 1655.24 2106.15 1656.12 L2106.15 1638.76 Z\" fill=\"#000000\" fill-rule=\"evenodd\" fill-opacity=\"1\" /><path clip-path=\"url(#clip780)\" d=\"M2327.78 1654.18 Q2324.63 1654.18 2322.78 1656.33 Q2320.95 1658.48 2320.95 1662.23 Q2320.95 1665.96 2322.78 1668.13 Q2324.63 1670.29 2327.78 1670.29 Q2330.93 1670.29 2332.76 1668.13 Q2334.61 1665.96 2334.61 1662.23 Q2334.61 1658.48 2332.76 1656.33 Q2330.93 1654.18 2327.78 1654.18 M2337.06 1639.52 L2337.06 1643.78 Q2335.3 1642.95 2333.5 1642.51 Q2331.72 1642.07 2329.96 1642.07 Q2325.33 1642.07 2322.87 1645.19 Q2320.44 1648.32 2320.1 1654.64 Q2321.46 1652.63 2323.52 1651.56 Q2325.58 1650.47 2328.06 1650.47 Q2333.27 1650.47 2336.28 1653.64 Q2339.31 1656.79 2339.31 1662.23 Q2339.31 1667.56 2336.16 1670.77 Q2333.01 1673.99 2327.78 1673.99 Q2321.78 1673.99 2318.61 1669.41 Q2315.44 1664.8 2315.44 1656.07 Q2315.44 1647.88 2319.33 1643.02 Q2323.22 1638.13 2329.77 1638.13 Q2331.53 1638.13 2333.31 1638.48 Q2335.12 1638.83 2337.06 1639.52 Z\" fill=\"#000000\" fill-rule=\"evenodd\" fill-opacity=\"1\" /><path clip-path=\"url(#clip780)\" d=\"M1335.3 1726.98 Q1337.5 1723.03 1340.55 1721.15 Q1343.61 1719.28 1347.74 1719.28 Q1353.31 1719.28 1356.34 1723.19 Q1359.36 1727.07 1359.36 1734.27 L1359.36 1755.78 L1353.47 1755.78 L1353.47 1734.46 Q1353.47 1729.33 1351.66 1726.85 Q1349.85 1724.37 1346.12 1724.37 Q1341.57 1724.37 1338.93 1727.39 Q1336.29 1730.42 1336.29 1735.64 L1336.29 1755.78 L1330.4 1755.78 L1330.4 1734.46 Q1330.4 1729.3 1328.58 1726.85 Q1326.77 1724.37 1322.98 1724.37 Q1318.49 1724.37 1315.85 1727.42 Q1313.21 1730.45 1313.21 1735.64 L1313.21 1755.78 L1307.32 1755.78 L1307.32 1720.14 L1313.21 1720.14 L1313.21 1725.67 Q1315.22 1722.4 1318.02 1720.84 Q1320.82 1719.28 1324.67 1719.28 Q1328.55 1719.28 1331.26 1721.25 Q1333.99 1723.22 1335.3 1726.98 Z\" fill=\"#000000\" fill-rule=\"evenodd\" fill-opacity=\"1\" /><path clip-path=\"url(#clip780)\" d=\"M1384.86 1724.24 Q1380.15 1724.24 1377.41 1727.93 Q1374.67 1731.59 1374.67 1737.99 Q1374.67 1744.39 1377.38 1748.08 Q1380.11 1751.74 1384.86 1751.74 Q1389.54 1751.74 1392.27 1748.05 Q1395.01 1744.36 1395.01 1737.99 Q1395.01 1731.66 1392.27 1727.97 Q1389.54 1724.24 1384.86 1724.24 M1384.86 1719.28 Q1392.5 1719.28 1396.86 1724.24 Q1401.22 1729.21 1401.22 1737.99 Q1401.22 1746.74 1396.86 1751.74 Q1392.5 1756.71 1384.86 1756.71 Q1377.19 1756.71 1372.83 1751.74 Q1368.5 1746.74 1368.5 1737.99 Q1368.5 1729.21 1372.83 1724.24 Q1377.19 1719.28 1384.86 1719.28 Z\" fill=\"#000000\" fill-rule=\"evenodd\" fill-opacity=\"1\" /><path clip-path=\"url(#clip780)\" d=\"M1434.38 1725.55 L1434.38 1706.26 L1440.24 1706.26 L1440.24 1755.78 L1434.38 1755.78 L1434.38 1750.44 Q1432.54 1753.62 1429.7 1755.18 Q1426.9 1756.71 1422.96 1756.71 Q1416.49 1756.71 1412.42 1751.55 Q1408.38 1746.39 1408.38 1737.99 Q1408.38 1729.59 1412.42 1724.43 Q1416.49 1719.28 1422.96 1719.28 Q1426.9 1719.28 1429.7 1720.84 Q1432.54 1722.36 1434.38 1725.55 M1414.43 1737.99 Q1414.43 1744.45 1417.07 1748.14 Q1419.74 1751.81 1424.39 1751.81 Q1429.03 1751.81 1431.71 1748.14 Q1434.38 1744.45 1434.38 1737.99 Q1434.38 1731.53 1431.71 1727.87 Q1429.03 1724.18 1424.39 1724.18 Q1419.74 1724.18 1417.07 1727.87 Q1414.43 1731.53 1414.43 1737.99 Z\" fill=\"#000000\" fill-rule=\"evenodd\" fill-opacity=\"1\" /><path clip-path=\"url(#clip780)\" d=\"M1482.79 1736.5 L1482.79 1739.36 L1455.87 1739.36 Q1456.25 1745.41 1459.49 1748.59 Q1462.77 1751.74 1468.6 1751.74 Q1471.97 1751.74 1475.12 1750.91 Q1478.31 1750.09 1481.42 1748.43 L1481.42 1753.97 Q1478.27 1755.31 1474.96 1756.01 Q1471.65 1756.71 1468.25 1756.71 Q1459.72 1756.71 1454.72 1751.74 Q1449.76 1746.78 1449.76 1738.31 Q1449.76 1729.56 1454.47 1724.43 Q1459.21 1719.28 1467.23 1719.28 Q1474.42 1719.28 1478.59 1723.92 Q1482.79 1728.54 1482.79 1736.5 M1476.94 1734.78 Q1476.87 1729.97 1474.23 1727.11 Q1471.62 1724.24 1467.29 1724.24 Q1462.39 1724.24 1459.43 1727.01 Q1456.5 1729.78 1456.06 1734.81 L1476.94 1734.78 Z\" fill=\"#000000\" fill-rule=\"evenodd\" fill-opacity=\"1\" /><path clip-path=\"url(#clip780)\" d=\"M1492.41 1706.26 L1498.26 1706.26 L1498.26 1755.78 L1492.41 1755.78 L1492.41 1706.26 Z\" fill=\"#000000\" fill-rule=\"evenodd\" fill-opacity=\"1\" /><path clip-path=\"url(#clip780)\" d=\"M1511.34 1747.7 L1518.06 1747.7 L1518.06 1755.78 L1511.34 1755.78 L1511.34 1747.7 Z\" fill=\"#000000\" fill-rule=\"evenodd\" fill-opacity=\"1\" /><path clip-path=\"url(#clip780)\" d=\"M1561.73 1736.5 L1561.73 1739.36 L1534.8 1739.36 Q1535.18 1745.41 1538.43 1748.59 Q1541.71 1751.74 1547.53 1751.74 Q1550.91 1751.74 1554.06 1750.91 Q1557.24 1750.09 1560.36 1748.43 L1560.36 1753.97 Q1557.21 1755.31 1553.9 1756.01 Q1550.59 1756.71 1547.18 1756.71 Q1538.65 1756.71 1533.66 1751.74 Q1528.69 1746.78 1528.69 1738.31 Q1528.69 1729.56 1533.4 1724.43 Q1538.14 1719.28 1546.16 1719.28 Q1553.36 1719.28 1557.53 1723.92 Q1561.73 1728.54 1561.73 1736.5 M1555.87 1734.78 Q1555.81 1729.97 1553.17 1727.11 Q1550.56 1724.24 1546.23 1724.24 Q1541.33 1724.24 1538.37 1727.01 Q1535.44 1729.78 1534.99 1734.81 L1555.87 1734.78 Z\" fill=\"#000000\" fill-rule=\"evenodd\" fill-opacity=\"1\" /><path clip-path=\"url(#clip780)\" d=\"M1567.14 1720.14 L1573.35 1720.14 L1584.49 1750.05 L1595.63 1720.14 L1601.83 1720.14 L1588.46 1755.78 L1580.51 1755.78 L1567.14 1720.14 Z\" fill=\"#000000\" fill-rule=\"evenodd\" fill-opacity=\"1\" /><path clip-path=\"url(#clip780)\" d=\"M1623.73 1724.24 Q1619.02 1724.24 1616.28 1727.93 Q1613.54 1731.59 1613.54 1737.99 Q1613.54 1744.39 1616.25 1748.08 Q1618.99 1751.74 1623.73 1751.74 Q1628.41 1751.74 1631.15 1748.05 Q1633.88 1744.36 1633.88 1737.99 Q1633.88 1731.66 1631.15 1727.97 Q1628.41 1724.24 1623.73 1724.24 M1623.73 1719.28 Q1631.37 1719.28 1635.73 1724.24 Q1640.09 1729.21 1640.09 1737.99 Q1640.09 1746.74 1635.73 1751.74 Q1631.37 1756.71 1623.73 1756.71 Q1616.06 1756.71 1611.7 1751.74 Q1607.37 1746.74 1607.37 1737.99 Q1607.37 1729.21 1611.7 1724.24 Q1616.06 1719.28 1623.73 1719.28 Z\" fill=\"#000000\" fill-rule=\"evenodd\" fill-opacity=\"1\" /><path clip-path=\"url(#clip780)\" d=\"M1676.88 1766.61 L1676.88 1771.16 L1643.02 1771.16 L1643.02 1766.61 L1676.88 1766.61 Z\" fill=\"#000000\" fill-rule=\"evenodd\" fill-opacity=\"1\" /><path clip-path=\"url(#clip780)\" d=\"M1688.18 1710.01 L1688.18 1720.14 L1700.25 1720.14 L1700.25 1724.69 L1688.18 1724.69 L1688.18 1744.04 Q1688.18 1748.4 1689.36 1749.64 Q1690.57 1750.88 1694.23 1750.88 L1700.25 1750.88 L1700.25 1755.78 L1694.23 1755.78 Q1687.45 1755.78 1684.87 1753.27 Q1682.29 1750.72 1682.29 1744.04 L1682.29 1724.69 L1678 1724.69 L1678 1720.14 L1682.29 1720.14 L1682.29 1710.01 L1688.18 1710.01 Z\" fill=\"#000000\" fill-rule=\"evenodd\" fill-opacity=\"1\" /><path clip-path=\"url(#clip780)\" d=\"M1728.6 1725.61 Q1727.62 1725.04 1726.44 1724.78 Q1725.29 1724.5 1723.89 1724.5 Q1718.93 1724.5 1716.26 1727.74 Q1713.61 1730.96 1713.61 1737.01 L1713.61 1755.78 L1707.73 1755.78 L1707.73 1720.14 L1713.61 1720.14 L1713.61 1725.67 Q1715.46 1722.43 1718.42 1720.87 Q1721.38 1719.28 1725.61 1719.28 Q1726.22 1719.28 1726.95 1719.37 Q1727.68 1719.44 1728.57 1719.59 L1728.6 1725.61 Z\" fill=\"#000000\" fill-rule=\"evenodd\" fill-opacity=\"1\" /><path clip-path=\"url(#clip780)\" d=\"M1763.81 1736.5 L1763.81 1739.36 L1736.88 1739.36 Q1737.26 1745.41 1740.51 1748.59 Q1743.79 1751.74 1749.61 1751.74 Q1752.99 1751.74 1756.14 1750.91 Q1759.32 1750.09 1762.44 1748.43 L1762.44 1753.97 Q1759.29 1755.31 1755.98 1756.01 Q1752.67 1756.71 1749.26 1756.71 Q1740.73 1756.71 1735.73 1751.74 Q1730.77 1746.78 1730.77 1738.31 Q1730.77 1729.56 1735.48 1724.43 Q1740.22 1719.28 1748.24 1719.28 Q1755.44 1719.28 1759.61 1723.92 Q1763.81 1728.54 1763.81 1736.5 M1757.95 1734.78 Q1757.89 1729.97 1755.25 1727.11 Q1752.64 1724.24 1748.31 1724.24 Q1743.41 1724.24 1740.45 1727.01 Q1737.52 1729.78 1737.07 1734.81 L1757.95 1734.78 Z\" fill=\"#000000\" fill-rule=\"evenodd\" fill-opacity=\"1\" /><path clip-path=\"url(#clip780)\" d=\"M1803.91 1736.5 L1803.91 1739.36 L1776.98 1739.36 Q1777.37 1745.41 1780.61 1748.59 Q1783.89 1751.74 1789.72 1751.74 Q1793.09 1751.74 1796.24 1750.91 Q1799.42 1750.09 1802.54 1748.43 L1802.54 1753.97 Q1799.39 1755.31 1796.08 1756.01 Q1792.77 1756.71 1789.37 1756.71 Q1780.84 1756.71 1775.84 1751.74 Q1770.87 1746.78 1770.87 1738.31 Q1770.87 1729.56 1775.58 1724.43 Q1780.33 1719.28 1788.35 1719.28 Q1795.54 1719.28 1799.71 1723.92 Q1803.91 1728.54 1803.91 1736.5 M1798.05 1734.78 Q1797.99 1729.97 1795.35 1727.11 Q1792.74 1724.24 1788.41 1724.24 Q1783.51 1724.24 1780.55 1727.01 Q1777.62 1729.78 1777.18 1734.81 L1798.05 1734.78 Z\" fill=\"#000000\" fill-rule=\"evenodd\" fill-opacity=\"1\" /><path clip-path=\"url(#clip780)\" d=\"M1840.61 1766.61 L1840.61 1771.16 L1806.74 1771.16 L1806.74 1766.61 L1840.61 1766.61 Z\" fill=\"#000000\" fill-rule=\"evenodd\" fill-opacity=\"1\" /><path clip-path=\"url(#clip780)\" d=\"M1871.77 1721.5 L1871.77 1726.98 Q1869.29 1725.61 1866.77 1724.94 Q1864.29 1724.24 1861.74 1724.24 Q1856.05 1724.24 1852.9 1727.87 Q1849.74 1731.47 1849.74 1737.99 Q1849.74 1744.52 1852.9 1748.14 Q1856.05 1751.74 1861.74 1751.74 Q1864.29 1751.74 1866.77 1751.07 Q1869.29 1750.37 1871.77 1749 L1871.77 1754.42 Q1869.32 1755.56 1866.68 1756.13 Q1864.07 1756.71 1861.11 1756.71 Q1853.05 1756.71 1848.31 1751.65 Q1843.57 1746.59 1843.57 1737.99 Q1843.57 1729.27 1848.34 1724.27 Q1853.15 1719.28 1861.49 1719.28 Q1864.19 1719.28 1866.77 1719.85 Q1869.35 1720.39 1871.77 1721.5 Z\" fill=\"#000000\" fill-rule=\"evenodd\" fill-opacity=\"1\" /><path clip-path=\"url(#clip780)\" d=\"M1881.95 1706.26 L1887.81 1706.26 L1887.81 1755.78 L1881.95 1755.78 L1881.95 1706.26 Z\" fill=\"#000000\" fill-rule=\"evenodd\" fill-opacity=\"1\" /><path clip-path=\"url(#clip780)\" d=\"M1916.27 1737.86 Q1909.17 1737.86 1906.43 1739.49 Q1903.69 1741.11 1903.69 1745.03 Q1903.69 1748.14 1905.73 1749.99 Q1907.8 1751.81 1911.33 1751.81 Q1916.2 1751.81 1919.13 1748.37 Q1922.09 1744.9 1922.09 1739.17 L1922.09 1737.86 L1916.27 1737.86 M1927.95 1735.45 L1927.95 1755.78 L1922.09 1755.78 L1922.09 1750.37 Q1920.09 1753.62 1917.09 1755.18 Q1914.1 1756.71 1909.77 1756.71 Q1904.3 1756.71 1901.05 1753.65 Q1897.84 1750.56 1897.84 1745.41 Q1897.84 1739.39 1901.85 1736.34 Q1905.89 1733.28 1913.88 1733.28 L1922.09 1733.28 L1922.09 1732.71 Q1922.09 1728.67 1919.42 1726.47 Q1916.78 1724.24 1911.97 1724.24 Q1908.91 1724.24 1906.02 1724.97 Q1903.12 1725.71 1900.45 1727.17 L1900.45 1721.76 Q1903.66 1720.52 1906.69 1719.91 Q1909.71 1719.28 1912.57 1719.28 Q1920.31 1719.28 1924.13 1723.29 Q1927.95 1727.3 1927.95 1735.45 Z\" fill=\"#000000\" fill-rule=\"evenodd\" fill-opacity=\"1\" /><path clip-path=\"url(#clip780)\" d=\"M1962.74 1721.19 L1962.74 1726.72 Q1960.25 1725.45 1957.58 1724.81 Q1954.91 1724.18 1952.04 1724.18 Q1947.68 1724.18 1945.48 1725.51 Q1943.32 1726.85 1943.32 1729.53 Q1943.32 1731.56 1944.88 1732.74 Q1946.44 1733.89 1951.15 1734.94 L1953.16 1735.38 Q1959.39 1736.72 1962 1739.17 Q1964.65 1741.59 1964.65 1745.95 Q1964.65 1750.91 1960.7 1753.81 Q1956.78 1756.71 1949.91 1756.71 Q1947.04 1756.71 1943.92 1756.13 Q1940.84 1755.59 1937.4 1754.48 L1937.4 1748.43 Q1940.65 1750.12 1943.8 1750.98 Q1946.95 1751.81 1950.04 1751.81 Q1954.17 1751.81 1956.4 1750.4 Q1958.63 1748.97 1958.63 1746.39 Q1958.63 1744.01 1957.01 1742.73 Q1955.41 1741.46 1949.97 1740.28 L1947.94 1739.81 Q1942.49 1738.66 1940.07 1736.3 Q1937.65 1733.92 1937.65 1729.78 Q1937.65 1724.75 1941.22 1722.01 Q1944.78 1719.28 1951.34 1719.28 Q1954.59 1719.28 1957.45 1719.75 Q1960.32 1720.23 1962.74 1721.19 Z\" fill=\"#000000\" fill-rule=\"evenodd\" fill-opacity=\"1\" /><path clip-path=\"url(#clip780)\" d=\"M1996.7 1721.19 L1996.7 1726.72 Q1994.21 1725.45 1991.54 1724.81 Q1988.87 1724.18 1986 1724.18 Q1981.64 1724.18 1979.45 1725.51 Q1977.28 1726.85 1977.28 1729.53 Q1977.28 1731.56 1978.84 1732.74 Q1980.4 1733.89 1985.11 1734.94 L1987.12 1735.38 Q1993.35 1736.72 1995.96 1739.17 Q1998.61 1741.59 1998.61 1745.95 Q1998.61 1750.91 1994.66 1753.81 Q1990.74 1756.71 1983.87 1756.71 Q1981.01 1756.71 1977.89 1756.13 Q1974.8 1755.59 1971.36 1754.48 L1971.36 1748.43 Q1974.61 1750.12 1977.76 1750.98 Q1980.91 1751.81 1984 1751.81 Q1988.13 1751.81 1990.36 1750.4 Q1992.59 1748.97 1992.59 1746.39 Q1992.59 1744.01 1990.97 1742.73 Q1989.38 1741.46 1983.93 1740.28 L1981.9 1739.81 Q1976.45 1738.66 1974.03 1736.3 Q1971.62 1733.92 1971.62 1729.78 Q1971.62 1724.75 1975.18 1722.01 Q1978.75 1719.28 1985.3 1719.28 Q1988.55 1719.28 1991.41 1719.75 Q1994.28 1720.23 1996.7 1721.19 Z\" fill=\"#000000\" fill-rule=\"evenodd\" fill-opacity=\"1\" /><path clip-path=\"url(#clip780)\" d=\"M2007.93 1720.14 L2013.79 1720.14 L2013.79 1755.78 L2007.93 1755.78 L2007.93 1720.14 M2007.93 1706.26 L2013.79 1706.26 L2013.79 1713.67 L2007.93 1713.67 L2007.93 1706.26 Z\" fill=\"#000000\" fill-rule=\"evenodd\" fill-opacity=\"1\" /><path clip-path=\"url(#clip780)\" d=\"M2044.09 1706.26 L2044.09 1711.13 L2038.49 1711.13 Q2035.34 1711.13 2034.1 1712.4 Q2032.89 1713.67 2032.89 1716.98 L2032.89 1720.14 L2042.53 1720.14 L2042.53 1724.69 L2032.89 1724.69 L2032.89 1755.78 L2027 1755.78 L2027 1724.69 L2021.4 1724.69 L2021.4 1720.14 L2027 1720.14 L2027 1717.65 Q2027 1711.7 2029.77 1709 Q2032.54 1706.26 2038.55 1706.26 L2044.09 1706.26 Z\" fill=\"#000000\" fill-rule=\"evenodd\" fill-opacity=\"1\" /><path clip-path=\"url(#clip780)\" d=\"M2048.99 1720.14 L2054.85 1720.14 L2054.85 1755.78 L2048.99 1755.78 L2048.99 1720.14 M2048.99 1706.26 L2054.85 1706.26 L2054.85 1713.67 L2048.99 1713.67 L2048.99 1706.26 Z\" fill=\"#000000\" fill-rule=\"evenodd\" fill-opacity=\"1\" /><path clip-path=\"url(#clip780)\" d=\"M2097.59 1736.5 L2097.59 1739.36 L2070.67 1739.36 Q2071.05 1745.41 2074.29 1748.59 Q2077.57 1751.74 2083.4 1751.74 Q2086.77 1751.74 2089.92 1750.91 Q2093.11 1750.09 2096.22 1748.43 L2096.22 1753.97 Q2093.07 1755.31 2089.76 1756.01 Q2086.45 1756.71 2083.05 1756.71 Q2074.52 1756.71 2069.52 1751.74 Q2064.56 1746.78 2064.56 1738.31 Q2064.56 1729.56 2069.27 1724.43 Q2074.01 1719.28 2082.03 1719.28 Q2089.22 1719.28 2093.39 1723.92 Q2097.59 1728.54 2097.59 1736.5 M2091.74 1734.78 Q2091.67 1729.97 2089.03 1727.11 Q2086.42 1724.24 2082.09 1724.24 Q2077.19 1724.24 2074.23 1727.01 Q2071.3 1729.78 2070.86 1734.81 L2091.74 1734.78 Z\" fill=\"#000000\" fill-rule=\"evenodd\" fill-opacity=\"1\" /><path clip-path=\"url(#clip780)\" d=\"M2127.86 1725.61 Q2126.88 1725.04 2125.7 1724.78 Q2124.55 1724.5 2123.15 1724.5 Q2118.19 1724.5 2115.51 1727.74 Q2112.87 1730.96 2112.87 1737.01 L2112.87 1755.78 L2106.98 1755.78 L2106.98 1720.14 L2112.87 1720.14 L2112.87 1725.67 Q2114.72 1722.43 2117.68 1720.87 Q2120.64 1719.28 2124.87 1719.28 Q2125.47 1719.28 2126.21 1719.37 Q2126.94 1719.44 2127.83 1719.59 L2127.86 1725.61 Z\" fill=\"#000000\" fill-rule=\"evenodd\" fill-opacity=\"1\" /><path clip-path=\"url(#clip780)\" d=\"M2128.85 1747.7 L2135.56 1747.7 L2135.56 1755.78 L2128.85 1755.78 L2128.85 1747.7 Z\" fill=\"#000000\" fill-rule=\"evenodd\" fill-opacity=\"1\" /><path clip-path=\"url(#clip780)\" d=\"M2176.5 1726.98 Q2178.69 1723.03 2181.75 1721.15 Q2184.8 1719.28 2188.94 1719.28 Q2194.51 1719.28 2197.53 1723.19 Q2200.56 1727.07 2200.56 1734.27 L2200.56 1755.78 L2194.67 1755.78 L2194.67 1734.46 Q2194.67 1729.33 2192.86 1726.85 Q2191.04 1724.37 2187.32 1724.37 Q2182.77 1724.37 2180.12 1727.39 Q2177.48 1730.42 2177.48 1735.64 L2177.48 1755.78 L2171.59 1755.78 L2171.59 1734.46 Q2171.59 1729.3 2169.78 1726.85 Q2167.97 1724.37 2164.18 1724.37 Q2159.69 1724.37 2157.05 1727.42 Q2154.41 1730.45 2154.41 1735.64 L2154.41 1755.78 L2148.52 1755.78 L2148.52 1720.14 L2154.41 1720.14 L2154.41 1725.67 Q2156.41 1722.4 2159.21 1720.84 Q2162.01 1719.28 2165.87 1719.28 Q2169.75 1719.28 2172.45 1721.25 Q2175.19 1723.22 2176.5 1726.98 Z\" fill=\"#000000\" fill-rule=\"evenodd\" fill-opacity=\"1\" /><path clip-path=\"url(#clip780)\" d=\"M2228.44 1737.86 Q2221.34 1737.86 2218.61 1739.49 Q2215.87 1741.11 2215.87 1745.03 Q2215.87 1748.14 2217.9 1749.99 Q2219.97 1751.81 2223.51 1751.81 Q2228.38 1751.81 2231.3 1748.37 Q2234.26 1744.9 2234.26 1739.17 L2234.26 1737.86 L2228.44 1737.86 M2240.12 1735.45 L2240.12 1755.78 L2234.26 1755.78 L2234.26 1750.37 Q2232.26 1753.62 2229.27 1755.18 Q2226.28 1756.71 2221.95 1756.71 Q2216.47 1756.71 2213.23 1753.65 Q2210.01 1750.56 2210.01 1745.41 Q2210.01 1739.39 2214.02 1736.34 Q2218.06 1733.28 2226.05 1733.28 L2234.26 1733.28 L2234.26 1732.71 Q2234.26 1728.67 2231.59 1726.47 Q2228.95 1724.24 2224.14 1724.24 Q2221.09 1724.24 2218.19 1724.97 Q2215.29 1725.71 2212.62 1727.17 L2212.62 1721.76 Q2215.84 1720.52 2218.86 1719.91 Q2221.88 1719.28 2224.75 1719.28 Q2232.48 1719.28 2236.3 1723.29 Q2240.12 1727.3 2240.12 1735.45 Z\" fill=\"#000000\" fill-rule=\"evenodd\" fill-opacity=\"1\" /><path clip-path=\"url(#clip780)\" d=\"M2281.82 1720.14 L2268.93 1737.48 L2282.48 1755.78 L2275.58 1755.78 L2265.2 1741.78 L2254.83 1755.78 L2247.92 1755.78 L2261.76 1737.13 L2249.1 1720.14 L2256 1720.14 L2265.46 1732.84 L2274.91 1720.14 L2281.82 1720.14 Z\" fill=\"#000000\" fill-rule=\"evenodd\" fill-opacity=\"1\" /><path clip-path=\"url(#clip780)\" d=\"M2317.85 1766.61 L2317.85 1771.16 L2283.98 1771.16 L2283.98 1766.61 L2317.85 1766.61 Z\" fill=\"#000000\" fill-rule=\"evenodd\" fill-opacity=\"1\" /><path clip-path=\"url(#clip780)\" d=\"M2346.81 1725.55 L2346.81 1706.26 L2352.67 1706.26 L2352.67 1755.78 L2346.81 1755.78 L2346.81 1750.44 Q2344.96 1753.62 2342.13 1755.18 Q2339.33 1756.71 2335.38 1756.71 Q2328.92 1756.71 2324.85 1751.55 Q2320.81 1746.39 2320.81 1737.99 Q2320.81 1729.59 2324.85 1724.43 Q2328.92 1719.28 2335.38 1719.28 Q2339.33 1719.28 2342.13 1720.84 Q2344.96 1722.36 2346.81 1725.55 M2326.85 1737.99 Q2326.85 1744.45 2329.5 1748.14 Q2332.17 1751.81 2336.82 1751.81 Q2341.46 1751.81 2344.14 1748.14 Q2346.81 1744.45 2346.81 1737.99 Q2346.81 1731.53 2344.14 1727.87 Q2341.46 1724.18 2336.82 1724.18 Q2332.17 1724.18 2329.5 1727.87 Q2326.85 1731.53 2326.85 1737.99 Z\" fill=\"#000000\" fill-rule=\"evenodd\" fill-opacity=\"1\" /><path clip-path=\"url(#clip780)\" d=\"M2395.22 1736.5 L2395.22 1739.36 L2368.29 1739.36 Q2368.68 1745.41 2371.92 1748.59 Q2375.2 1751.74 2381.03 1751.74 Q2384.4 1751.74 2387.55 1750.91 Q2390.73 1750.09 2393.85 1748.43 L2393.85 1753.97 Q2390.7 1755.31 2387.39 1756.01 Q2384.08 1756.71 2380.68 1756.71 Q2372.15 1756.71 2367.15 1751.74 Q2362.18 1746.78 2362.18 1738.31 Q2362.18 1729.56 2366.89 1724.43 Q2371.64 1719.28 2379.66 1719.28 Q2386.85 1719.28 2391.02 1723.92 Q2395.22 1728.54 2395.22 1736.5 M2389.37 1734.78 Q2389.3 1729.97 2386.66 1727.11 Q2384.05 1724.24 2379.72 1724.24 Q2374.82 1724.24 2371.86 1727.01 Q2368.93 1729.78 2368.49 1734.81 L2389.37 1734.78 Z\" fill=\"#000000\" fill-rule=\"evenodd\" fill-opacity=\"1\" /><path clip-path=\"url(#clip780)\" d=\"M2410.5 1750.44 L2410.5 1769.34 L2404.61 1769.34 L2404.61 1720.14 L2410.5 1720.14 L2410.5 1725.55 Q2412.35 1722.36 2415.15 1720.84 Q2417.98 1719.28 2421.89 1719.28 Q2428.39 1719.28 2432.43 1724.43 Q2436.5 1729.59 2436.5 1737.99 Q2436.5 1746.39 2432.43 1751.55 Q2428.39 1756.71 2421.89 1756.71 Q2417.98 1756.71 2415.15 1755.18 Q2412.35 1753.62 2410.5 1750.44 M2430.42 1737.99 Q2430.42 1731.53 2427.75 1727.87 Q2425.11 1724.18 2420.46 1724.18 Q2415.81 1724.18 2413.14 1727.87 Q2410.5 1731.53 2410.5 1737.99 Q2410.5 1744.45 2413.14 1748.14 Q2415.81 1751.81 2420.46 1751.81 Q2425.11 1751.81 2427.75 1748.14 Q2430.42 1744.45 2430.42 1737.99 Z\" fill=\"#000000\" fill-rule=\"evenodd\" fill-opacity=\"1\" /><path clip-path=\"url(#clip780)\" d=\"M2452 1710.01 L2452 1720.14 L2464.07 1720.14 L2464.07 1724.69 L2452 1724.69 L2452 1744.04 Q2452 1748.4 2453.18 1749.64 Q2454.39 1750.88 2458.05 1750.88 L2464.07 1750.88 L2464.07 1755.78 L2458.05 1755.78 Q2451.27 1755.78 2448.69 1753.27 Q2446.12 1750.72 2446.12 1744.04 L2446.12 1724.69 L2441.82 1724.69 L2441.82 1720.14 L2446.12 1720.14 L2446.12 1710.01 L2452 1710.01 Z\" fill=\"#000000\" fill-rule=\"evenodd\" fill-opacity=\"1\" /><path clip-path=\"url(#clip780)\" d=\"M2501.4 1734.27 L2501.4 1755.78 L2495.55 1755.78 L2495.55 1734.46 Q2495.55 1729.4 2493.57 1726.88 Q2491.6 1724.37 2487.65 1724.37 Q2482.91 1724.37 2480.17 1727.39 Q2477.43 1730.42 2477.43 1735.64 L2477.43 1755.78 L2471.55 1755.78 L2471.55 1706.26 L2477.43 1706.26 L2477.43 1725.67 Q2479.54 1722.46 2482.37 1720.87 Q2485.23 1719.28 2488.96 1719.28 Q2495.1 1719.28 2498.25 1723.1 Q2501.4 1726.88 2501.4 1734.27 Z\" fill=\"#000000\" fill-rule=\"evenodd\" fill-opacity=\"1\" /><polyline clip-path=\"url(#clip785)\" style=\"stroke:#000000; stroke-linecap:butt; stroke-linejoin:round; stroke-width:2; stroke-opacity:0.1; fill:none\" points=\"\n",
       "  1455.97,1490.15 2352.76,1490.15 \n",
       "  \"/>\n",
       "<polyline clip-path=\"url(#clip785)\" style=\"stroke:#000000; stroke-linecap:butt; stroke-linejoin:round; stroke-width:2; stroke-opacity:0.1; fill:none\" points=\"\n",
       "  1455.97,1360.16 2352.76,1360.16 \n",
       "  \"/>\n",
       "<polyline clip-path=\"url(#clip785)\" style=\"stroke:#000000; stroke-linecap:butt; stroke-linejoin:round; stroke-width:2; stroke-opacity:0.1; fill:none\" points=\"\n",
       "  1455.97,1230.16 2352.76,1230.16 \n",
       "  \"/>\n",
       "<polyline clip-path=\"url(#clip785)\" style=\"stroke:#000000; stroke-linecap:butt; stroke-linejoin:round; stroke-width:2; stroke-opacity:0.1; fill:none\" points=\"\n",
       "  1455.97,1100.16 2352.76,1100.16 \n",
       "  \"/>\n",
       "<polyline clip-path=\"url(#clip785)\" style=\"stroke:#000000; stroke-linecap:butt; stroke-linejoin:round; stroke-width:2; stroke-opacity:0.1; fill:none\" points=\"\n",
       "  1455.97,970.169 2352.76,970.169 \n",
       "  \"/>\n",
       "<polyline clip-path=\"url(#clip780)\" style=\"stroke:#000000; stroke-linecap:butt; stroke-linejoin:round; stroke-width:4; stroke-opacity:1; fill:none\" points=\"\n",
       "  1455.97,1610.92 1455.97,912.64 \n",
       "  \"/>\n",
       "<polyline clip-path=\"url(#clip780)\" style=\"stroke:#000000; stroke-linecap:butt; stroke-linejoin:round; stroke-width:4; stroke-opacity:1; fill:none\" points=\"\n",
       "  2352.76,1610.92 2352.76,912.64 \n",
       "  \"/>\n",
       "<polyline clip-path=\"url(#clip780)\" style=\"stroke:#000000; stroke-linecap:butt; stroke-linejoin:round; stroke-width:4; stroke-opacity:1; fill:none\" points=\"\n",
       "  1455.97,1490.15 1474.87,1490.15 \n",
       "  \"/>\n",
       "<polyline clip-path=\"url(#clip780)\" style=\"stroke:#000000; stroke-linecap:butt; stroke-linejoin:round; stroke-width:4; stroke-opacity:1; fill:none\" points=\"\n",
       "  1455.97,1360.16 1474.87,1360.16 \n",
       "  \"/>\n",
       "<polyline clip-path=\"url(#clip780)\" style=\"stroke:#000000; stroke-linecap:butt; stroke-linejoin:round; stroke-width:4; stroke-opacity:1; fill:none\" points=\"\n",
       "  1455.97,1230.16 1474.87,1230.16 \n",
       "  \"/>\n",
       "<polyline clip-path=\"url(#clip780)\" style=\"stroke:#000000; stroke-linecap:butt; stroke-linejoin:round; stroke-width:4; stroke-opacity:1; fill:none\" points=\"\n",
       "  1455.97,1100.16 1474.87,1100.16 \n",
       "  \"/>\n",
       "<polyline clip-path=\"url(#clip780)\" style=\"stroke:#000000; stroke-linecap:butt; stroke-linejoin:round; stroke-width:4; stroke-opacity:1; fill:none\" points=\"\n",
       "  1455.97,970.169 1474.87,970.169 \n",
       "  \"/>\n",
       "<path clip-path=\"url(#clip780)\" d=\"M1332.63 1475.95 Q1329.02 1475.95 1327.19 1479.51 Q1325.39 1483.06 1325.39 1490.19 Q1325.39 1497.29 1327.19 1500.86 Q1329.02 1504.4 1332.63 1504.4 Q1336.26 1504.4 1338.07 1500.86 Q1339.9 1497.29 1339.9 1490.19 Q1339.9 1483.06 1338.07 1479.51 Q1336.26 1475.95 1332.63 1475.95 M1332.63 1472.25 Q1338.44 1472.25 1341.5 1476.85 Q1344.58 1481.44 1344.58 1490.19 Q1344.58 1498.91 1341.5 1503.52 Q1338.44 1508.1 1332.63 1508.1 Q1326.82 1508.1 1323.74 1503.52 Q1320.69 1498.91 1320.69 1490.19 Q1320.69 1481.44 1323.74 1476.85 Q1326.82 1472.25 1332.63 1472.25 Z\" fill=\"#000000\" fill-rule=\"evenodd\" fill-opacity=\"1\" /><path clip-path=\"url(#clip780)\" d=\"M1352.79 1501.55 L1357.68 1501.55 L1357.68 1507.43 L1352.79 1507.43 L1352.79 1501.55 Z\" fill=\"#000000\" fill-rule=\"evenodd\" fill-opacity=\"1\" /><path clip-path=\"url(#clip780)\" d=\"M1382.03 1488.8 Q1385.38 1489.51 1387.26 1491.78 Q1389.16 1494.05 1389.16 1497.38 Q1389.16 1502.5 1385.64 1505.3 Q1382.12 1508.1 1375.64 1508.1 Q1373.46 1508.1 1371.15 1507.66 Q1368.86 1507.25 1366.4 1506.39 L1366.4 1501.88 Q1368.35 1503.01 1370.66 1503.59 Q1372.98 1504.17 1375.5 1504.17 Q1379.9 1504.17 1382.19 1502.43 Q1384.51 1500.69 1384.51 1497.38 Q1384.51 1494.33 1382.35 1492.62 Q1380.22 1490.88 1376.4 1490.88 L1372.38 1490.88 L1372.38 1487.04 L1376.59 1487.04 Q1380.04 1487.04 1381.87 1485.67 Q1383.7 1484.28 1383.7 1481.69 Q1383.7 1479.03 1381.8 1477.62 Q1379.92 1476.18 1376.4 1476.18 Q1374.48 1476.18 1372.28 1476.6 Q1370.08 1477.01 1367.45 1477.89 L1367.45 1473.73 Q1370.11 1472.99 1372.42 1472.62 Q1374.76 1472.25 1376.82 1472.25 Q1382.14 1472.25 1385.25 1474.68 Q1388.35 1477.08 1388.35 1481.2 Q1388.35 1484.07 1386.7 1486.06 Q1385.06 1488.03 1382.03 1488.8 Z\" fill=\"#000000\" fill-rule=\"evenodd\" fill-opacity=\"1\" /><path clip-path=\"url(#clip780)\" d=\"M1408.02 1475.95 Q1404.41 1475.95 1402.58 1479.51 Q1400.78 1483.06 1400.78 1490.19 Q1400.78 1497.29 1402.58 1500.86 Q1404.41 1504.4 1408.02 1504.4 Q1411.66 1504.4 1413.46 1500.86 Q1415.29 1497.29 1415.29 1490.19 Q1415.29 1483.06 1413.46 1479.51 Q1411.66 1475.95 1408.02 1475.95 M1408.02 1472.25 Q1413.83 1472.25 1416.89 1476.85 Q1419.97 1481.44 1419.97 1490.19 Q1419.97 1498.91 1416.89 1503.52 Q1413.83 1508.1 1408.02 1508.1 Q1402.21 1508.1 1399.13 1503.52 Q1396.08 1498.91 1396.08 1490.19 Q1396.08 1481.44 1399.13 1476.85 Q1402.21 1472.25 1408.02 1472.25 Z\" fill=\"#000000\" fill-rule=\"evenodd\" fill-opacity=\"1\" /><path clip-path=\"url(#clip780)\" d=\"M1333.86 1345.95 Q1330.25 1345.95 1328.42 1349.52 Q1326.61 1353.06 1326.61 1360.19 Q1326.61 1367.3 1328.42 1370.86 Q1330.25 1374.4 1333.86 1374.4 Q1337.49 1374.4 1339.3 1370.86 Q1341.13 1367.3 1341.13 1360.19 Q1341.13 1353.06 1339.3 1349.52 Q1337.49 1345.95 1333.86 1345.95 M1333.86 1342.25 Q1339.67 1342.25 1342.72 1346.86 Q1345.8 1351.44 1345.8 1360.19 Q1345.8 1368.92 1342.72 1373.52 Q1339.67 1378.11 1333.86 1378.11 Q1328.05 1378.11 1324.97 1373.52 Q1321.91 1368.92 1321.91 1360.19 Q1321.91 1351.44 1324.97 1346.86 Q1328.05 1342.25 1333.86 1342.25 Z\" fill=\"#000000\" fill-rule=\"evenodd\" fill-opacity=\"1\" /><path clip-path=\"url(#clip780)\" d=\"M1354.02 1371.56 L1358.9 1371.56 L1358.9 1377.44 L1354.02 1377.44 L1354.02 1371.56 Z\" fill=\"#000000\" fill-rule=\"evenodd\" fill-opacity=\"1\" /><path clip-path=\"url(#clip780)\" d=\"M1383.26 1358.8 Q1386.61 1359.52 1388.49 1361.79 Q1390.38 1364.06 1390.38 1367.39 Q1390.38 1372.5 1386.87 1375.31 Q1383.35 1378.11 1376.87 1378.11 Q1374.69 1378.11 1372.38 1377.67 Q1370.08 1377.25 1367.63 1376.39 L1367.63 1371.88 Q1369.57 1373.01 1371.89 1373.59 Q1374.2 1374.17 1376.73 1374.17 Q1381.13 1374.17 1383.42 1372.44 Q1385.73 1370.7 1385.73 1367.39 Q1385.73 1364.33 1383.58 1362.62 Q1381.45 1360.88 1377.63 1360.88 L1373.6 1360.88 L1373.6 1357.04 L1377.82 1357.04 Q1381.26 1357.04 1383.09 1355.68 Q1384.92 1354.29 1384.92 1351.69 Q1384.92 1349.03 1383.02 1347.62 Q1381.15 1346.19 1377.63 1346.19 Q1375.71 1346.19 1373.51 1346.6 Q1371.31 1347.02 1368.67 1347.9 L1368.67 1343.73 Q1371.33 1342.99 1373.65 1342.62 Q1375.99 1342.25 1378.05 1342.25 Q1383.37 1342.25 1386.47 1344.68 Q1389.57 1347.09 1389.57 1351.21 Q1389.57 1354.08 1387.93 1356.07 Q1386.29 1358.04 1383.26 1358.8 Z\" fill=\"#000000\" fill-rule=\"evenodd\" fill-opacity=\"1\" /><path clip-path=\"url(#clip780)\" d=\"M1400.06 1373.5 L1407.7 1373.5 L1407.7 1347.13 L1399.39 1348.8 L1399.39 1344.54 L1407.65 1342.88 L1412.33 1342.88 L1412.33 1373.5 L1419.97 1373.5 L1419.97 1377.44 L1400.06 1377.44 L1400.06 1373.5 Z\" fill=\"#000000\" fill-rule=\"evenodd\" fill-opacity=\"1\" /><path clip-path=\"url(#clip780)\" d=\"M1334.23 1215.96 Q1330.62 1215.96 1328.79 1219.52 Q1326.98 1223.06 1326.98 1230.19 Q1326.98 1237.3 1328.79 1240.87 Q1330.62 1244.41 1334.23 1244.41 Q1337.86 1244.41 1339.67 1240.87 Q1341.5 1237.3 1341.5 1230.19 Q1341.5 1223.06 1339.67 1219.52 Q1337.86 1215.96 1334.23 1215.96 M1334.23 1212.25 Q1340.04 1212.25 1343.09 1216.86 Q1346.17 1221.44 1346.17 1230.19 Q1346.17 1238.92 1343.09 1243.53 Q1340.04 1248.11 1334.23 1248.11 Q1328.42 1248.11 1325.34 1243.53 Q1322.28 1238.92 1322.28 1230.19 Q1322.28 1221.44 1325.34 1216.86 Q1328.42 1212.25 1334.23 1212.25 Z\" fill=\"#000000\" fill-rule=\"evenodd\" fill-opacity=\"1\" /><path clip-path=\"url(#clip780)\" d=\"M1354.39 1241.56 L1359.27 1241.56 L1359.27 1247.44 L1354.39 1247.44 L1354.39 1241.56 Z\" fill=\"#000000\" fill-rule=\"evenodd\" fill-opacity=\"1\" /><path clip-path=\"url(#clip780)\" d=\"M1383.63 1228.81 Q1386.98 1229.52 1388.86 1231.79 Q1390.76 1234.06 1390.76 1237.39 Q1390.76 1242.51 1387.24 1245.31 Q1383.72 1248.11 1377.24 1248.11 Q1375.06 1248.11 1372.75 1247.67 Q1370.45 1247.25 1368 1246.4 L1368 1241.88 Q1369.95 1243.02 1372.26 1243.6 Q1374.57 1244.18 1377.1 1244.18 Q1381.5 1244.18 1383.79 1242.44 Q1386.1 1240.7 1386.1 1237.39 Q1386.1 1234.34 1383.95 1232.62 Q1381.82 1230.89 1378 1230.89 L1373.97 1230.89 L1373.97 1227.05 L1378.19 1227.05 Q1381.64 1227.05 1383.46 1225.68 Q1385.29 1224.29 1385.29 1221.7 Q1385.29 1219.04 1383.39 1217.62 Q1381.52 1216.19 1378 1216.19 Q1376.08 1216.19 1373.88 1216.61 Q1371.68 1217.02 1369.04 1217.9 L1369.04 1213.74 Q1371.7 1213 1374.02 1212.63 Q1376.36 1212.25 1378.42 1212.25 Q1383.74 1212.25 1386.84 1214.69 Q1389.95 1217.09 1389.95 1221.21 Q1389.95 1224.08 1388.3 1226.07 Q1386.66 1228.04 1383.63 1228.81 Z\" fill=\"#000000\" fill-rule=\"evenodd\" fill-opacity=\"1\" /><path clip-path=\"url(#clip780)\" d=\"M1403.65 1243.5 L1419.97 1243.5 L1419.97 1247.44 L1398.02 1247.44 L1398.02 1243.5 Q1400.69 1240.75 1405.27 1236.12 Q1409.88 1231.47 1411.06 1230.12 Q1413.3 1227.6 1414.18 1225.87 Q1415.08 1224.11 1415.08 1222.42 Q1415.08 1219.66 1413.14 1217.93 Q1411.22 1216.19 1408.12 1216.19 Q1405.92 1216.19 1403.46 1216.95 Q1401.03 1217.72 1398.26 1219.27 L1398.26 1214.55 Q1401.08 1213.41 1403.53 1212.83 Q1405.99 1212.25 1408.02 1212.25 Q1413.39 1212.25 1416.59 1214.94 Q1419.78 1217.62 1419.78 1222.12 Q1419.78 1224.25 1418.97 1226.17 Q1418.19 1228.06 1416.08 1230.66 Q1415.5 1231.33 1412.4 1234.55 Q1409.3 1237.74 1403.65 1243.5 Z\" fill=\"#000000\" fill-rule=\"evenodd\" fill-opacity=\"1\" /><path clip-path=\"url(#clip780)\" d=\"M1333.28 1085.96 Q1329.67 1085.96 1327.84 1089.53 Q1326.03 1093.07 1326.03 1100.2 Q1326.03 1107.31 1327.84 1110.87 Q1329.67 1114.41 1333.28 1114.41 Q1336.91 1114.41 1338.72 1110.87 Q1340.55 1107.31 1340.55 1100.2 Q1340.55 1093.07 1338.72 1089.53 Q1336.91 1085.96 1333.28 1085.96 M1333.28 1082.26 Q1339.09 1082.26 1342.14 1086.87 Q1345.22 1091.45 1345.22 1100.2 Q1345.22 1108.93 1342.14 1113.53 Q1339.09 1118.12 1333.28 1118.12 Q1327.47 1118.12 1324.39 1113.53 Q1321.33 1108.93 1321.33 1100.2 Q1321.33 1091.45 1324.39 1086.87 Q1327.47 1082.26 1333.28 1082.26 Z\" fill=\"#000000\" fill-rule=\"evenodd\" fill-opacity=\"1\" /><path clip-path=\"url(#clip780)\" d=\"M1353.44 1111.56 L1358.32 1111.56 L1358.32 1117.44 L1353.44 1117.44 L1353.44 1111.56 Z\" fill=\"#000000\" fill-rule=\"evenodd\" fill-opacity=\"1\" /><path clip-path=\"url(#clip780)\" d=\"M1382.68 1098.81 Q1386.03 1099.53 1387.91 1101.8 Q1389.81 1104.06 1389.81 1107.4 Q1389.81 1112.51 1386.29 1115.31 Q1382.77 1118.12 1376.29 1118.12 Q1374.11 1118.12 1371.8 1117.68 Q1369.51 1117.26 1367.05 1116.4 L1367.05 1111.89 Q1369 1113.02 1371.31 1113.6 Q1373.63 1114.18 1376.15 1114.18 Q1380.55 1114.18 1382.84 1112.44 Q1385.15 1110.71 1385.15 1107.4 Q1385.15 1104.34 1383 1102.63 Q1380.87 1100.89 1377.05 1100.89 L1373.02 1100.89 L1373.02 1097.05 L1377.24 1097.05 Q1380.69 1097.05 1382.51 1095.69 Q1384.34 1094.3 1384.34 1091.7 Q1384.34 1089.04 1382.45 1087.63 Q1380.57 1086.19 1377.05 1086.19 Q1375.13 1086.19 1372.93 1086.61 Q1370.73 1087.03 1368.09 1087.91 L1368.09 1083.74 Q1370.76 1083 1373.07 1082.63 Q1375.41 1082.26 1377.47 1082.26 Q1382.79 1082.26 1385.89 1084.69 Q1389 1087.1 1389 1091.22 Q1389 1094.09 1387.35 1096.08 Q1385.71 1098.05 1382.68 1098.81 Z\" fill=\"#000000\" fill-rule=\"evenodd\" fill-opacity=\"1\" /><path clip-path=\"url(#clip780)\" d=\"M1412.84 1098.81 Q1416.2 1099.53 1418.07 1101.8 Q1419.97 1104.06 1419.97 1107.4 Q1419.97 1112.51 1416.45 1115.31 Q1412.93 1118.12 1406.45 1118.12 Q1404.27 1118.12 1401.96 1117.68 Q1399.67 1117.26 1397.21 1116.4 L1397.21 1111.89 Q1399.16 1113.02 1401.47 1113.6 Q1403.79 1114.18 1406.31 1114.18 Q1410.71 1114.18 1413 1112.44 Q1415.32 1110.71 1415.32 1107.4 Q1415.32 1104.34 1413.16 1102.63 Q1411.03 1100.89 1407.21 1100.89 L1403.19 1100.89 L1403.19 1097.05 L1407.4 1097.05 Q1410.85 1097.05 1412.68 1095.69 Q1414.51 1094.3 1414.51 1091.7 Q1414.51 1089.04 1412.61 1087.63 Q1410.73 1086.19 1407.21 1086.19 Q1405.29 1086.19 1403.09 1086.61 Q1400.89 1087.03 1398.26 1087.91 L1398.26 1083.74 Q1400.92 1083 1403.23 1082.63 Q1405.57 1082.26 1407.63 1082.26 Q1412.95 1082.26 1416.06 1084.69 Q1419.16 1087.1 1419.16 1091.22 Q1419.16 1094.09 1417.51 1096.08 Q1415.87 1098.05 1412.84 1098.81 Z\" fill=\"#000000\" fill-rule=\"evenodd\" fill-opacity=\"1\" /><path clip-path=\"url(#clip780)\" d=\"M1332.14 955.967 Q1328.53 955.967 1326.7 959.532 Q1324.9 963.074 1324.9 970.203 Q1324.9 977.31 1326.7 980.875 Q1328.53 984.416 1332.14 984.416 Q1335.78 984.416 1337.58 980.875 Q1339.41 977.31 1339.41 970.203 Q1339.41 963.074 1337.58 959.532 Q1335.78 955.967 1332.14 955.967 M1332.14 952.264 Q1337.95 952.264 1341.01 956.87 Q1344.09 961.453 1344.09 970.203 Q1344.09 978.93 1341.01 983.537 Q1337.95 988.12 1332.14 988.12 Q1326.33 988.12 1323.26 983.537 Q1320.2 978.93 1320.2 970.203 Q1320.2 961.453 1323.26 956.87 Q1326.33 952.264 1332.14 952.264 Z\" fill=\"#000000\" fill-rule=\"evenodd\" fill-opacity=\"1\" /><path clip-path=\"url(#clip780)\" d=\"M1352.31 981.569 L1357.19 981.569 L1357.19 987.449 L1352.31 987.449 L1352.31 981.569 Z\" fill=\"#000000\" fill-rule=\"evenodd\" fill-opacity=\"1\" /><path clip-path=\"url(#clip780)\" d=\"M1381.54 968.814 Q1384.9 969.532 1386.77 971.801 Q1388.67 974.069 1388.67 977.402 Q1388.67 982.518 1385.15 985.319 Q1381.64 988.12 1375.15 988.12 Q1372.98 988.12 1370.66 987.68 Q1368.37 987.263 1365.92 986.407 L1365.92 981.893 Q1367.86 983.027 1370.18 983.606 Q1372.49 984.185 1375.01 984.185 Q1379.41 984.185 1381.7 982.449 Q1384.02 980.713 1384.02 977.402 Q1384.02 974.347 1381.87 972.634 Q1379.74 970.898 1375.92 970.898 L1371.89 970.898 L1371.89 967.055 L1376.1 967.055 Q1379.55 967.055 1381.38 965.69 Q1383.21 964.301 1383.21 961.708 Q1383.21 959.046 1381.31 957.634 Q1379.44 956.199 1375.92 956.199 Q1374 956.199 1371.8 956.615 Q1369.6 957.032 1366.96 957.912 L1366.96 953.745 Q1369.62 953.004 1371.94 952.634 Q1374.27 952.264 1376.33 952.264 Q1381.66 952.264 1384.76 954.694 Q1387.86 957.102 1387.86 961.222 Q1387.86 964.092 1386.22 966.083 Q1384.57 968.051 1381.54 968.814 Z\" fill=\"#000000\" fill-rule=\"evenodd\" fill-opacity=\"1\" /><path clip-path=\"url(#clip780)\" d=\"M1410.38 956.963 L1398.58 975.412 L1410.38 975.412 L1410.38 956.963 M1409.16 952.889 L1415.04 952.889 L1415.04 975.412 L1419.97 975.412 L1419.97 979.301 L1415.04 979.301 L1415.04 987.449 L1410.38 987.449 L1410.38 979.301 L1394.78 979.301 L1394.78 974.787 L1409.16 952.889 Z\" fill=\"#000000\" fill-rule=\"evenodd\" fill-opacity=\"1\" /><path clip-path=\"url(#clip780)\" d=\"M1247.25 1400.31 L1264.66 1400.31 L1264.66 1390 Q1264.66 1384.81 1262.53 1382.33 Q1260.36 1379.82 1255.94 1379.82 Q1251.48 1379.82 1249.38 1382.33 Q1247.25 1384.81 1247.25 1390 L1247.25 1400.31 M1227.71 1400.31 L1242.03 1400.31 L1242.03 1390.8 Q1242.03 1386.09 1240.28 1383.79 Q1238.5 1381.47 1234.87 1381.47 Q1231.27 1381.47 1229.49 1383.79 Q1227.71 1386.09 1227.71 1390.8 L1227.71 1400.31 M1222.42 1406.74 L1222.42 1390.32 Q1222.42 1382.97 1225.48 1378.99 Q1228.54 1375.01 1234.17 1375.01 Q1238.53 1375.01 1241.11 1377.05 Q1243.69 1379.08 1244.32 1383.03 Q1245.34 1378.29 1248.59 1375.68 Q1251.8 1373.04 1256.64 1373.04 Q1263.01 1373.04 1266.47 1377.37 Q1269.94 1381.69 1269.94 1389.68 L1269.94 1406.74 L1222.42 1406.74 Z\" fill=\"#000000\" fill-rule=\"evenodd\" fill-opacity=\"1\" /><path clip-path=\"url(#clip780)\" d=\"M1239.77 1341.62 Q1239.2 1342.61 1238.94 1343.79 Q1238.66 1344.93 1238.66 1346.33 Q1238.66 1351.3 1241.9 1353.97 Q1245.12 1356.61 1251.17 1356.61 L1269.94 1356.61 L1269.94 1362.5 L1234.3 1362.5 L1234.3 1356.61 L1239.83 1356.61 Q1236.59 1354.77 1235.03 1351.81 Q1233.44 1348.85 1233.44 1344.61 Q1233.44 1344.01 1233.53 1343.28 Q1233.6 1342.54 1233.76 1341.65 L1239.77 1341.62 Z\" fill=\"#000000\" fill-rule=\"evenodd\" fill-opacity=\"1\" /><path clip-path=\"url(#clip780)\" d=\"M1234.3 1335.48 L1234.3 1329.62 L1269.94 1329.62 L1269.94 1335.48 L1234.3 1335.48 M1220.42 1335.48 L1220.42 1329.62 L1227.84 1329.62 L1227.84 1335.48 L1220.42 1335.48 Z\" fill=\"#000000\" fill-rule=\"evenodd\" fill-opacity=\"1\" /><path clip-path=\"url(#clip780)\" d=\"M1250.66 1286.88 L1253.52 1286.88 L1253.52 1313.8 Q1259.57 1313.42 1262.75 1310.18 Q1265.9 1306.9 1265.9 1301.07 Q1265.9 1297.7 1265.07 1294.55 Q1264.25 1291.36 1262.59 1288.25 L1268.13 1288.25 Q1269.47 1291.4 1270.17 1294.71 Q1270.87 1298.02 1270.87 1301.42 Q1270.87 1309.95 1265.9 1314.95 Q1260.94 1319.91 1252.47 1319.91 Q1243.72 1319.91 1238.59 1315.2 Q1233.44 1310.46 1233.44 1302.44 Q1233.44 1295.25 1238.08 1291.08 Q1242.7 1286.88 1250.66 1286.88 M1248.94 1292.73 Q1244.13 1292.8 1241.27 1295.44 Q1238.4 1298.05 1238.4 1302.38 Q1238.4 1307.28 1241.17 1310.24 Q1243.94 1313.17 1248.97 1313.61 L1248.94 1292.73 Z\" fill=\"#000000\" fill-rule=\"evenodd\" fill-opacity=\"1\" /><path clip-path=\"url(#clip780)\" d=\"M1239.77 1256.61 Q1239.2 1257.59 1238.94 1258.77 Q1238.66 1259.92 1238.66 1261.32 Q1238.66 1266.28 1241.9 1268.96 Q1245.12 1271.6 1251.17 1271.6 L1269.94 1271.6 L1269.94 1277.49 L1234.3 1277.49 L1234.3 1271.6 L1239.83 1271.6 Q1236.59 1269.75 1235.03 1266.79 Q1233.44 1263.83 1233.44 1259.6 Q1233.44 1258.99 1233.53 1258.26 Q1233.6 1257.53 1233.76 1256.64 L1239.77 1256.61 Z\" fill=\"#000000\" fill-rule=\"evenodd\" fill-opacity=\"1\" /><path clip-path=\"url(#clip780)\" d=\"M1222.42 1250.21 L1222.42 1243.78 L1264.53 1243.78 L1264.53 1220.64 L1269.94 1220.64 L1269.94 1250.21 L1222.42 1250.21 Z\" fill=\"#000000\" fill-rule=\"evenodd\" fill-opacity=\"1\" /><path clip-path=\"url(#clip780)\" d=\"M1238.4 1201.48 Q1238.4 1206.19 1242.09 1208.93 Q1245.75 1211.67 1252.15 1211.67 Q1258.55 1211.67 1262.24 1208.96 Q1265.9 1206.22 1265.9 1201.48 Q1265.9 1196.8 1262.21 1194.06 Q1258.52 1191.33 1252.15 1191.33 Q1245.82 1191.33 1242.13 1194.06 Q1238.4 1196.8 1238.4 1201.48 M1233.44 1201.48 Q1233.44 1193.84 1238.4 1189.48 Q1243.37 1185.12 1252.15 1185.12 Q1260.9 1185.12 1265.9 1189.48 Q1270.87 1193.84 1270.87 1201.48 Q1270.87 1209.15 1265.9 1213.51 Q1260.9 1217.84 1252.15 1217.84 Q1243.37 1217.84 1238.4 1213.51 Q1233.44 1209.15 1233.44 1201.48 Z\" fill=\"#000000\" fill-rule=\"evenodd\" fill-opacity=\"1\" /><path clip-path=\"url(#clip780)\" d=\"M1235.35 1152.69 L1240.88 1152.69 Q1239.61 1155.17 1238.97 1157.84 Q1238.34 1160.52 1238.34 1163.38 Q1238.34 1167.74 1239.68 1169.94 Q1241.01 1172.1 1243.69 1172.1 Q1245.72 1172.1 1246.9 1170.54 Q1248.05 1168.98 1249.1 1164.27 L1249.54 1162.27 Q1250.88 1156.03 1253.33 1153.42 Q1255.75 1150.78 1260.11 1150.78 Q1265.07 1150.78 1267.97 1154.72 Q1270.87 1158.64 1270.87 1165.51 Q1270.87 1168.38 1270.29 1171.5 Q1269.75 1174.59 1268.64 1178.02 L1262.59 1178.02 Q1264.28 1174.78 1265.14 1171.63 Q1265.97 1168.47 1265.97 1165.39 Q1265.97 1161.25 1264.57 1159.02 Q1263.13 1156.79 1260.55 1156.79 Q1258.17 1156.79 1256.89 1158.42 Q1255.62 1160.01 1254.44 1165.45 L1253.97 1167.49 Q1252.82 1172.93 1250.47 1175.35 Q1248.08 1177.77 1243.94 1177.77 Q1238.91 1177.77 1236.17 1174.2 Q1233.44 1170.64 1233.44 1164.08 Q1233.44 1160.84 1233.91 1157.97 Q1234.39 1155.11 1235.35 1152.69 Z\" fill=\"#000000\" fill-rule=\"evenodd\" fill-opacity=\"1\" /><path clip-path=\"url(#clip780)\" d=\"M1235.35 1118.73 L1240.88 1118.73 Q1239.61 1121.21 1238.97 1123.88 Q1238.34 1126.56 1238.34 1129.42 Q1238.34 1133.78 1239.68 1135.98 Q1241.01 1138.14 1243.69 1138.14 Q1245.72 1138.14 1246.9 1136.58 Q1248.05 1135.02 1249.1 1130.31 L1249.54 1128.31 Q1250.88 1122.07 1253.33 1119.46 Q1255.75 1116.82 1260.11 1116.82 Q1265.07 1116.82 1267.97 1120.76 Q1270.87 1124.68 1270.87 1131.55 Q1270.87 1134.42 1270.29 1137.54 Q1269.75 1140.62 1268.64 1144.06 L1262.59 1144.06 Q1264.28 1140.82 1265.14 1137.66 Q1265.97 1134.51 1265.97 1131.43 Q1265.97 1127.29 1264.57 1125.06 Q1263.13 1122.83 1260.55 1122.83 Q1258.17 1122.83 1256.89 1124.46 Q1255.62 1126.05 1254.44 1131.49 L1253.97 1133.53 Q1252.82 1138.97 1250.47 1141.39 Q1248.08 1143.81 1243.94 1143.81 Q1238.91 1143.81 1236.17 1140.24 Q1233.44 1136.68 1233.44 1130.12 Q1233.44 1126.87 1233.91 1124.01 Q1234.39 1121.15 1235.35 1118.73 Z\" fill=\"#000000\" fill-rule=\"evenodd\" fill-opacity=\"1\" /><circle clip-path=\"url(#clip785)\" cx=\"2327.38\" cy=\"985.489\" r=\"14\" fill=\"#009af9\" fill-rule=\"evenodd\" fill-opacity=\"1\" stroke=\"#000000\" stroke-opacity=\"1\" stroke-width=\"3.6\"/>\n",
       "<circle clip-path=\"url(#clip785)\" cx=\"2115.87\" cy=\"1234.71\" r=\"14\" fill=\"#009af9\" fill-rule=\"evenodd\" fill-opacity=\"1\" stroke=\"#000000\" stroke-opacity=\"1\" stroke-width=\"3.6\"/>\n",
       "<circle clip-path=\"url(#clip785)\" cx=\"1481.35\" cy=\"1540.75\" r=\"14\" fill=\"#009af9\" fill-rule=\"evenodd\" fill-opacity=\"1\" stroke=\"#000000\" stroke-opacity=\"1\" stroke-width=\"3.6\"/>\n",
       "<circle clip-path=\"url(#clip785)\" cx=\"1692.86\" cy=\"1556.73\" r=\"14\" fill=\"#009af9\" fill-rule=\"evenodd\" fill-opacity=\"1\" stroke=\"#000000\" stroke-opacity=\"1\" stroke-width=\"3.6\"/>\n",
       "<circle clip-path=\"url(#clip785)\" cx=\"1904.36\" cy=\"1444.4\" r=\"14\" fill=\"#009af9\" fill-rule=\"evenodd\" fill-opacity=\"1\" stroke=\"#000000\" stroke-opacity=\"1\" stroke-width=\"3.6\"/>\n",
       "<circle clip-path=\"url(#clip785)\" cx=\"1904.36\" cy=\"1439.04\" r=\"14\" fill=\"#009af9\" fill-rule=\"evenodd\" fill-opacity=\"1\" stroke=\"#000000\" stroke-opacity=\"1\" stroke-width=\"3.6\"/>\n",
       "<circle clip-path=\"url(#clip785)\" cx=\"2115.87\" cy=\"1298.79\" r=\"14\" fill=\"#009af9\" fill-rule=\"evenodd\" fill-opacity=\"1\" stroke=\"#000000\" stroke-opacity=\"1\" stroke-width=\"3.6\"/>\n",
       "<circle clip-path=\"url(#clip785)\" cx=\"1692.86\" cy=\"1524.21\" r=\"14\" fill=\"#009af9\" fill-rule=\"evenodd\" fill-opacity=\"1\" stroke=\"#000000\" stroke-opacity=\"1\" stroke-width=\"3.6\"/>\n",
       "<circle clip-path=\"url(#clip785)\" cx=\"1904.36\" cy=\"1286.23\" r=\"14\" fill=\"#009af9\" fill-rule=\"evenodd\" fill-opacity=\"1\" stroke=\"#000000\" stroke-opacity=\"1\" stroke-width=\"3.6\"/>\n",
       "<circle clip-path=\"url(#clip785)\" cx=\"2327.38\" cy=\"942.615\" r=\"14\" fill=\"#009af9\" fill-rule=\"evenodd\" fill-opacity=\"1\" stroke=\"#000000\" stroke-opacity=\"1\" stroke-width=\"3.6\"/>\n",
       "<circle clip-path=\"url(#clip785)\" cx=\"1692.86\" cy=\"1561.05\" r=\"14\" fill=\"#009af9\" fill-rule=\"evenodd\" fill-opacity=\"1\" stroke=\"#000000\" stroke-opacity=\"1\" stroke-width=\"3.6\"/>\n",
       "<circle clip-path=\"url(#clip785)\" cx=\"1904.36\" cy=\"1393.57\" r=\"14\" fill=\"#009af9\" fill-rule=\"evenodd\" fill-opacity=\"1\" stroke=\"#000000\" stroke-opacity=\"1\" stroke-width=\"3.6\"/>\n",
       "<circle clip-path=\"url(#clip785)\" cx=\"2327.38\" cy=\"932.403\" r=\"14\" fill=\"#009af9\" fill-rule=\"evenodd\" fill-opacity=\"1\" stroke=\"#000000\" stroke-opacity=\"1\" stroke-width=\"3.6\"/>\n",
       "<circle clip-path=\"url(#clip785)\" cx=\"1692.86\" cy=\"1533.25\" r=\"14\" fill=\"#009af9\" fill-rule=\"evenodd\" fill-opacity=\"1\" stroke=\"#000000\" stroke-opacity=\"1\" stroke-width=\"3.6\"/>\n",
       "<circle clip-path=\"url(#clip785)\" cx=\"1692.86\" cy=\"1529.76\" r=\"14\" fill=\"#009af9\" fill-rule=\"evenodd\" fill-opacity=\"1\" stroke=\"#000000\" stroke-opacity=\"1\" stroke-width=\"3.6\"/>\n",
       "<circle clip-path=\"url(#clip785)\" cx=\"2115.87\" cy=\"1306.73\" r=\"14\" fill=\"#009af9\" fill-rule=\"evenodd\" fill-opacity=\"1\" stroke=\"#000000\" stroke-opacity=\"1\" stroke-width=\"3.6\"/>\n",
       "<circle clip-path=\"url(#clip785)\" cx=\"1481.35\" cy=\"1245.3\" r=\"14\" fill=\"#009af9\" fill-rule=\"evenodd\" fill-opacity=\"1\" stroke=\"#000000\" stroke-opacity=\"1\" stroke-width=\"3.6\"/>\n",
       "<circle clip-path=\"url(#clip785)\" cx=\"2115.87\" cy=\"1182.52\" r=\"14\" fill=\"#009af9\" fill-rule=\"evenodd\" fill-opacity=\"1\" stroke=\"#000000\" stroke-opacity=\"1\" stroke-width=\"3.6\"/>\n",
       "<circle clip-path=\"url(#clip785)\" cx=\"2115.87\" cy=\"1239.96\" r=\"14\" fill=\"#009af9\" fill-rule=\"evenodd\" fill-opacity=\"1\" stroke=\"#000000\" stroke-opacity=\"1\" stroke-width=\"3.6\"/>\n",
       "<circle clip-path=\"url(#clip785)\" cx=\"1904.36\" cy=\"1376.55\" r=\"14\" fill=\"#009af9\" fill-rule=\"evenodd\" fill-opacity=\"1\" stroke=\"#000000\" stroke-opacity=\"1\" stroke-width=\"3.6\"/>\n",
       "<circle clip-path=\"url(#clip785)\" cx=\"1481.35\" cy=\"1591.16\" r=\"14\" fill=\"#009af9\" fill-rule=\"evenodd\" fill-opacity=\"1\" stroke=\"#000000\" stroke-opacity=\"1\" stroke-width=\"3.6\"/>\n",
       "<circle clip-path=\"url(#clip785)\" cx=\"1692.86\" cy=\"1432.38\" r=\"14\" fill=\"#009af9\" fill-rule=\"evenodd\" fill-opacity=\"1\" stroke=\"#000000\" stroke-opacity=\"1\" stroke-width=\"3.6\"/>\n",
       "<circle clip-path=\"url(#clip785)\" cx=\"2115.87\" cy=\"1221.6\" r=\"14\" fill=\"#009af9\" fill-rule=\"evenodd\" fill-opacity=\"1\" stroke=\"#000000\" stroke-opacity=\"1\" stroke-width=\"3.6\"/>\n",
       "<circle clip-path=\"url(#clip785)\" cx=\"1692.86\" cy=\"1459.89\" r=\"14\" fill=\"#009af9\" fill-rule=\"evenodd\" fill-opacity=\"1\" stroke=\"#000000\" stroke-opacity=\"1\" stroke-width=\"3.6\"/>\n",
       "<circle clip-path=\"url(#clip785)\" cx=\"2327.38\" cy=\"1113.66\" r=\"14\" fill=\"#009af9\" fill-rule=\"evenodd\" fill-opacity=\"1\" stroke=\"#000000\" stroke-opacity=\"1\" stroke-width=\"3.6\"/>\n",
       "<circle clip-path=\"url(#clip785)\" cx=\"2327.38\" cy=\"951.978\" r=\"14\" fill=\"#009af9\" fill-rule=\"evenodd\" fill-opacity=\"1\" stroke=\"#000000\" stroke-opacity=\"1\" stroke-width=\"3.6\"/>\n",
       "<circle clip-path=\"url(#clip785)\" cx=\"2327.38\" cy=\"1048.65\" r=\"14\" fill=\"#009af9\" fill-rule=\"evenodd\" fill-opacity=\"1\" stroke=\"#000000\" stroke-opacity=\"1\" stroke-width=\"3.6\"/>\n",
       "<circle clip-path=\"url(#clip785)\" cx=\"1904.36\" cy=\"1498.11\" r=\"14\" fill=\"#009af9\" fill-rule=\"evenodd\" fill-opacity=\"1\" stroke=\"#000000\" stroke-opacity=\"1\" stroke-width=\"3.6\"/>\n",
       "<circle clip-path=\"url(#clip785)\" cx=\"2115.87\" cy=\"1444.86\" r=\"14\" fill=\"#009af9\" fill-rule=\"evenodd\" fill-opacity=\"1\" stroke=\"#000000\" stroke-opacity=\"1\" stroke-width=\"3.6\"/>\n",
       "<circle clip-path=\"url(#clip785)\" cx=\"2327.38\" cy=\"1102.3\" r=\"14\" fill=\"#009af9\" fill-rule=\"evenodd\" fill-opacity=\"1\" stroke=\"#000000\" stroke-opacity=\"1\" stroke-width=\"3.6\"/>\n",
       "<circle clip-path=\"url(#clip785)\" cx=\"1692.86\" cy=\"1551.04\" r=\"14\" fill=\"#009af9\" fill-rule=\"evenodd\" fill-opacity=\"1\" stroke=\"#000000\" stroke-opacity=\"1\" stroke-width=\"3.6\"/>\n",
       "<circle clip-path=\"url(#clip785)\" cx=\"1692.86\" cy=\"1552.42\" r=\"14\" fill=\"#009af9\" fill-rule=\"evenodd\" fill-opacity=\"1\" stroke=\"#000000\" stroke-opacity=\"1\" stroke-width=\"3.6\"/>\n",
       "<circle clip-path=\"url(#clip785)\" cx=\"1481.35\" cy=\"1458.3\" r=\"14\" fill=\"#009af9\" fill-rule=\"evenodd\" fill-opacity=\"1\" stroke=\"#000000\" stroke-opacity=\"1\" stroke-width=\"3.6\"/>\n",
       "<circle clip-path=\"url(#clip785)\" cx=\"1692.86\" cy=\"1507.47\" r=\"14\" fill=\"#009af9\" fill-rule=\"evenodd\" fill-opacity=\"1\" stroke=\"#000000\" stroke-opacity=\"1\" stroke-width=\"3.6\"/>\n",
       "<circle clip-path=\"url(#clip785)\" cx=\"2327.38\" cy=\"946.77\" r=\"14\" fill=\"#009af9\" fill-rule=\"evenodd\" fill-opacity=\"1\" stroke=\"#000000\" stroke-opacity=\"1\" stroke-width=\"3.6\"/>\n",
       "<circle clip-path=\"url(#clip785)\" cx=\"2115.87\" cy=\"1137.24\" r=\"14\" fill=\"#009af9\" fill-rule=\"evenodd\" fill-opacity=\"1\" stroke=\"#000000\" stroke-opacity=\"1\" stroke-width=\"3.6\"/>\n",
       "<circle clip-path=\"url(#clip785)\" cx=\"1481.35\" cy=\"1456.94\" r=\"14\" fill=\"#009af9\" fill-rule=\"evenodd\" fill-opacity=\"1\" stroke=\"#000000\" stroke-opacity=\"1\" stroke-width=\"3.6\"/>\n",
       "<circle clip-path=\"url(#clip785)\" cx=\"1481.35\" cy=\"1447.38\" r=\"14\" fill=\"#009af9\" fill-rule=\"evenodd\" fill-opacity=\"1\" stroke=\"#000000\" stroke-opacity=\"1\" stroke-width=\"3.6\"/>\n",
       "<circle clip-path=\"url(#clip785)\" cx=\"1904.36\" cy=\"1467.04\" r=\"14\" fill=\"#009af9\" fill-rule=\"evenodd\" fill-opacity=\"1\" stroke=\"#000000\" stroke-opacity=\"1\" stroke-width=\"3.6\"/>\n",
       "<circle clip-path=\"url(#clip785)\" cx=\"1904.36\" cy=\"1452.38\" r=\"14\" fill=\"#009af9\" fill-rule=\"evenodd\" fill-opacity=\"1\" stroke=\"#000000\" stroke-opacity=\"1\" stroke-width=\"3.6\"/>\n",
       "</svg>\n"
      ]
     },
     "execution_count": 59,
     "metadata": {},
     "output_type": "execute_result"
    }
   ],
   "source": [
    "plot(mach_tuned_iterated_pipe, size=(600,450))"
   ]
  },
  {
   "cell_type": "markdown",
   "metadata": {},
   "source": [
    "## Saving our model"
   ]
  },
  {
   "cell_type": "markdown",
   "metadata": {},
   "source": [
    "> Introduces: `MLJ.save`"
   ]
  },
  {
   "cell_type": "markdown",
   "metadata": {},
   "source": [
    "Here's how to serialize our final, trained self-iterating,\n",
    "self-tuning pipeline machine:"
   ]
  },
  {
   "cell_type": "code",
   "execution_count": 60,
   "metadata": {},
   "outputs": [],
   "source": [
    "MLJ.save(\"tuned_iterated_pipe.jlso\", mach_tuned_iterated_pipe)"
   ]
  },
  {
   "cell_type": "markdown",
   "metadata": {},
   "source": [
    "We'll deserialize this in \"Testing the final model\" below."
   ]
  },
  {
   "cell_type": "markdown",
   "metadata": {},
   "source": [
    "## Final performance estimate"
   ]
  },
  {
   "cell_type": "markdown",
   "metadata": {},
   "source": [
    "Finally, to get an even more accurate estimate of performance, we\n",
    "can evaluate our model using stratified cross-validation and all the\n",
    "data attached to our machine. Because this evaluation implies\n",
    "[nested\n",
    "resampling](https://mlr.mlr-org.com/articles/tutorial/nested_resampling.html),\n",
    "this computation takes quite a bit longer than the previous one\n",
    "(which is being repeated six times, using 5/6th of the data each\n",
    "time):"
   ]
  },
  {
   "cell_type": "code",
   "execution_count": 61,
   "metadata": {},
   "outputs": [
    {
     "name": "stderr",
     "output_type": "stream",
     "text": [
      "\u001b[33mEvaluating over 6 folds: 100%[=========================] Time: 0:03:51\u001b[39m\n"
     ]
    },
    {
     "data": {
      "text/plain": [
       "PerformanceEvaluation object with these fields:\n",
       "  measure, measurement, operation, per_fold,\n",
       "  per_observation, fitted_params_per_fold,\n",
       "  report_per_fold, train_test_pairs\n",
       "Extract:\n",
       "┌──────────────────┬─────────────┬──────────────┬───────────────────────────────\n",
       "│\u001b[22m measure          \u001b[0m│\u001b[22m measurement \u001b[0m│\u001b[22m operation    \u001b[0m│\u001b[22m per_fold                    \u001b[0m ⋯\n",
       "├──────────────────┼─────────────┼──────────────┼───────────────────────────────\n",
       "│ BrierLoss()      │ 0.295       │ predict      │ [0.308, 0.337, 0.265, 0.288, ⋯\n",
       "│ AreaUnderCurve() │ 0.809       │ predict      │ [0.793, 0.729, 0.82, 0.851,  ⋯\n",
       "│ Accuracy()       │ 0.791       │ predict_mode │ [0.795, 0.793, 0.805, 0.78,  ⋯\n",
       "└──────────────────┴─────────────┴──────────────┴───────────────────────────────\n",
       "\u001b[36m                                                                1 column omitted\u001b[0m\n"
      ]
     },
     "execution_count": 61,
     "metadata": {},
     "output_type": "execute_result"
    }
   ],
   "source": [
    "e_tuned_iterated_pipe = evaluate(tuned_iterated_pipe, X, y,\n",
    "                                 resampling=StratifiedCV(nfolds=6, rng=123),\n",
    "                                 measures=[brier_loss, auc, accuracy])"
   ]
  },
  {
   "cell_type": "code",
   "execution_count": 62,
   "metadata": {},
   "outputs": [
    {
     "data": {
      "text/html": [
       "<div class=\"data-frame\"><p>3 rows × 2 columns</p><table class=\"data-frame\"><thead><tr><th></th><th>measure</th><th>measurement</th></tr><tr><th></th><th title=\"MLJBase.Measure\">Measure</th><th title=\"Measurement{Float64}\">Measurem…</th></tr></thead><tbody><tr><th>1</th><td>BrierLoss()</td><td>0.295±0.016</td></tr><tr><th>2</th><td>AreaUnderCurve()</td><td>0.809±0.029</td></tr><tr><th>3</th><td>Accuracy()</td><td>0.7911±0.0064</td></tr></tbody></table></div>"
      ],
      "text/latex": [
       "\\begin{tabular}{r|cc}\n",
       "\t& measure & measurement\\\\\n",
       "\t\\hline\n",
       "\t& Measure & Measurem…\\\\\n",
       "\t\\hline\n",
       "\t1 & BrierLoss() & $0.295 \\pm 0.016$ \\\\\n",
       "\t2 & AreaUnderCurve() & $0.809 \\pm 0.029$ \\\\\n",
       "\t3 & Accuracy() & $0.7911 \\pm 0.0064$ \\\\\n",
       "\\end{tabular}\n"
      ],
      "text/plain": [
       "\u001b[1m3×2 DataFrame\u001b[0m\n",
       "\u001b[1m Row \u001b[0m│\u001b[1m measure          \u001b[0m\u001b[1m measurement   \u001b[0m\n",
       "\u001b[1m     \u001b[0m│\u001b[90m Measure          \u001b[0m\u001b[90m Measuremen…   \u001b[0m\n",
       "─────┼─────────────────────────────────\n",
       "   1 │ BrierLoss()       0.295±0.016\n",
       "   2 │ AreaUnderCurve()  0.809±0.029\n",
       "   3 │ Accuracy()        0.7911±0.0064"
      ]
     },
     "execution_count": 62,
     "metadata": {},
     "output_type": "execute_result"
    }
   ],
   "source": [
    "confidence_intervals(e_tuned_iterated_pipe)"
   ]
  },
  {
   "cell_type": "markdown",
   "metadata": {},
   "source": [
    "For comparison, here are the confidence intervals for the basic\n",
    "pipeline model (no feature selection and default hyperparameters):"
   ]
  },
  {
   "cell_type": "code",
   "execution_count": 63,
   "metadata": {},
   "outputs": [
    {
     "data": {
      "text/html": [
       "<div class=\"data-frame\"><p>3 rows × 2 columns</p><table class=\"data-frame\"><thead><tr><th></th><th>measure</th><th>measurement</th></tr><tr><th></th><th title=\"MLJBase.Measure\">Measure</th><th title=\"Measurement{Float64}\">Measurem…</th></tr></thead><tbody><tr><th>1</th><td>BrierLoss()</td><td>0.3131±0.0071</td></tr><tr><th>2</th><td>AreaUnderCurve()</td><td>0.789±0.011</td></tr><tr><th>3</th><td>Accuracy()</td><td>0.7809±0.0072</td></tr></tbody></table></div>"
      ],
      "text/latex": [
       "\\begin{tabular}{r|cc}\n",
       "\t& measure & measurement\\\\\n",
       "\t\\hline\n",
       "\t& Measure & Measurem…\\\\\n",
       "\t\\hline\n",
       "\t1 & BrierLoss() & $0.3131 \\pm 0.0071$ \\\\\n",
       "\t2 & AreaUnderCurve() & $0.789 \\pm 0.011$ \\\\\n",
       "\t3 & Accuracy() & $0.7809 \\pm 0.0072$ \\\\\n",
       "\\end{tabular}\n"
      ],
      "text/plain": [
       "\u001b[1m3×2 DataFrame\u001b[0m\n",
       "\u001b[1m Row \u001b[0m│\u001b[1m measure          \u001b[0m\u001b[1m measurement   \u001b[0m\n",
       "\u001b[1m     \u001b[0m│\u001b[90m Measure          \u001b[0m\u001b[90m Measuremen…   \u001b[0m\n",
       "─────┼─────────────────────────────────\n",
       "   1 │ BrierLoss()       0.3131±0.0071\n",
       "   2 │ AreaUnderCurve()  0.789±0.011\n",
       "   3 │ Accuracy()        0.7809±0.0072"
      ]
     },
     "execution_count": 63,
     "metadata": {},
     "output_type": "execute_result"
    }
   ],
   "source": [
    "confidence_intervals_basic_model"
   ]
  },
  {
   "cell_type": "markdown",
   "metadata": {},
   "source": [
    "As each pair of intervals overlap, it's doubtful the small changes\n",
    "here can be assigned statistical significance. Default `booster`\n",
    "hyper-parameters do a pretty good job."
   ]
  },
  {
   "cell_type": "markdown",
   "metadata": {},
   "source": [
    "## Testing the final model"
   ]
  },
  {
   "cell_type": "markdown",
   "metadata": {},
   "source": [
    "We now determine the performance of our model on our\n",
    "lock-and-throw-away-the-key holdout set. To demonstrate\n",
    "deserialization, we'll pretend we're in a new Julia session (but\n",
    "have called `import`/`using` on the same packages). Then the\n",
    "following should suffice to recover our model trained under\n",
    "\"Hyper-parameter optimization\" above:"
   ]
  },
  {
   "cell_type": "code",
   "execution_count": 64,
   "metadata": {},
   "outputs": [
    {
     "data": {
      "text/plain": [
       "Machine{ProbabilisticTunedModel{RandomSearch,…},…} trained 1 time; caches data\n",
       "  model: MLJTuning.ProbabilisticTunedModel{RandomSearch, MLJIteration.ProbabilisticIteratedModel{MLJBase.ProbabilisticPipeline{NamedTuple{(:continuous_encoder, :feature_selector, :evo_tree_classifier), Tuple{Unsupervised, Unsupervised, Probabilistic}}, MLJModelInterface.predict}}}\n",
       "  args: \n"
      ]
     },
     "execution_count": 64,
     "metadata": {},
     "output_type": "execute_result"
    }
   ],
   "source": [
    "mach_restored = machine(\"tuned_iterated_pipe.jlso\")"
   ]
  },
  {
   "cell_type": "markdown",
   "metadata": {},
   "source": [
    "We compute predictions on the holdout set:"
   ]
  },
  {
   "cell_type": "code",
   "execution_count": 65,
   "metadata": {},
   "outputs": [
    {
     "data": {
      "text/plain": [
       "             \u001b[1mUnivariateFinite{Multiclass{2}}\u001b[22m      \n",
       "       \u001b[90m┌                                        ┐\u001b[39m \n",
       "    \u001b[0mNo \u001b[90m┤\u001b[39m\u001b[38;5;2m■■■■■■■■■■■■■■■■■\u001b[39m\u001b[0m 0.45987161928543624   \u001b[90m \u001b[39m \n",
       "   \u001b[0mYes \u001b[90m┤\u001b[39m\u001b[38;5;2m■■■■■■■■■■■■■■■■■■■■\u001b[39m\u001b[0m 0.5401283807145638 \u001b[90m \u001b[39m \n",
       "       \u001b[90m└                                        ┘\u001b[39m "
      ]
     },
     "execution_count": 65,
     "metadata": {},
     "output_type": "execute_result"
    }
   ],
   "source": [
    "ŷ_tuned = predict(mach_restored, Xtest);\n",
    "ŷ_tuned[1]"
   ]
  },
  {
   "cell_type": "markdown",
   "metadata": {},
   "source": [
    "And can compute the final performance measures:"
   ]
  },
  {
   "cell_type": "code",
   "execution_count": 66,
   "metadata": {},
   "outputs": [
    {
     "name": "stderr",
     "output_type": "stream",
     "text": [
      "┌ Info: Tuned model measurements on test:\n",
      "│   brier_loss(ŷ_tuned, ytest) |> mean = 0.26876013030554674\n",
      "│   auc(ŷ_tuned, ytest) = 0.8494239631336405\n",
      "│   accuracy(mode.(ŷ_tuned), ytest) = 0.8104265402843602\n",
      "└ @ Main In[66]:1\n"
     ]
    }
   ],
   "source": [
    "@info(\"Tuned model measurements on test:\",\n",
    "      brier_loss(ŷ_tuned, ytest) |> mean,\n",
    "      auc(ŷ_tuned, ytest),\n",
    "      accuracy(mode.(ŷ_tuned), ytest)\n",
    "      )"
   ]
  },
  {
   "cell_type": "markdown",
   "metadata": {},
   "source": [
    "For comparison, here's the performance for the basic pipeline model"
   ]
  },
  {
   "cell_type": "code",
   "execution_count": 67,
   "metadata": {},
   "outputs": [
    {
     "name": "stderr",
     "output_type": "stream",
     "text": [
      "┌ Info: Basic model measurements on test set:\n",
      "│   brier_loss(ŷ_basic, ytest) |> mean = 0.2815220182102922\n",
      "│   auc(ŷ_basic, ytest) = 0.8496543778801844\n",
      "│   accuracy(mode.(ŷ_basic), ytest) = 0.8009478672985781\n",
      "└ @ Main In[67]:6\n"
     ]
    }
   ],
   "source": [
    "mach_basic = machine(pipe, X, y)\n",
    "fit!(mach_basic, verbosity=0)\n",
    "\n",
    "ŷ_basic = predict(mach_basic, Xtest);\n",
    "\n",
    "@info(\"Basic model measurements on test set:\",\n",
    "      brier_loss(ŷ_basic, ytest) |> mean,\n",
    "      auc(ŷ_basic, ytest),\n",
    "      accuracy(mode.(ŷ_basic), ytest)\n",
    "      )"
   ]
  },
  {
   "cell_type": "markdown",
   "metadata": {},
   "source": [
    "---\n",
    "\n",
    "*This notebook was generated using [Literate.jl](https://github.com/fredrikekre/Literate.jl).*"
   ]
  }
 ],
 "metadata": {
  "kernelspec": {
   "display_name": "Julia 1.6.5",
   "language": "julia",
   "name": "julia-1.6"
  },
  "language_info": {
   "file_extension": ".jl",
   "mimetype": "application/julia",
   "name": "julia",
   "version": "1.6.5"
  }
 },
 "nbformat": 4,
 "nbformat_minor": 3
}
