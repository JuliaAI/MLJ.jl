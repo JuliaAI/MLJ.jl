{
 "cells": [
  {
   "cell_type": "markdown",
   "metadata": {},
   "source": [
    "# MLJ for Data Scientists in Two Hours"
   ]
  },
  {
   "cell_type": "markdown",
   "metadata": {},
   "source": [
    "An application of the [MLJ\n",
    "toolbox](https://alan-turing-institute.github.io/MLJ.jl/dev/) to the\n",
    "Telco Customer Churn dataset, aimed at practicing data scientists\n",
    "new to MLJ (Machine Learning in Julia). This tutorial does not\n",
    "cover exploratory data analysis."
   ]
  },
  {
   "cell_type": "markdown",
   "metadata": {},
   "source": [
    "MLJ is a *multi-paradigm* machine learning toolbox (i.e., not just\n",
    "deep-learning)."
   ]
  },
  {
   "cell_type": "markdown",
   "metadata": {},
   "source": [
    "**New to machine learning?**\n",
    "Try the \"Introduction to Statistical Learning\" notebooks at [Data\n",
    "Science\n",
    "Tutorials](https://juliaai.github.io/DataScienceTutorials.jl/),\n",
    "starting with [this\n",
    "tutorial](https://juliaai.github.io/DataScienceTutorials.jl/isl/lab-2/).\n",
    "Or have a look at the [Julia Data\n",
    "Science](https://github.com/JuliaDataScience/JuliaDataScience) book."
   ]
  },
  {
   "cell_type": "markdown",
   "metadata": {},
   "source": [
    "**Want a shorter tour of key MLJ functionality?**\n",
    "Try this [Lightning\n",
    "Tour](https://github.com/alan-turing-institute/MLJ.jl/blob/dev/examples/lightning_tour/lightning_tour.ipynb)."
   ]
  },
  {
   "cell_type": "markdown",
   "metadata": {},
   "source": [
    "**Something more leisurely?** See\n",
    "[MLJTutorial](https://github.com/ablaom/MLJTutorial.jl)."
   ]
  },
  {
   "cell_type": "markdown",
   "metadata": {},
   "source": [
    "**Completely new to Julia?** Browse [these\n",
    "resources](https://julialang.org/learning/) or visit\n",
    "[HelloJulia](https://github.com/ablaom/HelloJulia.jl)."
   ]
  },
  {
   "cell_type": "markdown",
   "metadata": {},
   "source": [
    "For more end-to-end examples, see [Data Science\n",
    "Tutorials](https://juliaai.github.io/DataScienceTutorials.jl)."
   ]
  },
  {
   "cell_type": "markdown",
   "metadata": {},
   "source": [
    "**Topics covered**: Grabbing and preparing a dataset, basic\n",
    "fit/predict workflow, constructing a pipeline to include data\n",
    "pre-processing, estimating performance metrics, ROC curves, confusion\n",
    "matrices, feature importance, basic feature selection, controlling iterative\n",
    "models, hyper-parameter optimization (tuning)."
   ]
  },
  {
   "cell_type": "markdown",
   "metadata": {},
   "source": [
    "**Prerequisites for this tutorial.** Previous experience building,\n",
    "evaluating, and optimizing machine learning models using\n",
    "scikit-learn, caret, MLR, weka, or similar tool. No previous\n",
    "experience with MLJ. Only fairly basic familiarity with Julia is\n",
    "required. Uses\n",
    "[DataFrames.jl](https://dataframes.juliadata.org/stable/) but in a\n",
    "minimal way ([this\n",
    "cheatsheet](https://ahsmart.com/pub/data-wrangling-with-data-frames-jl-cheat-sheet/index.html)\n",
    "may help)."
   ]
  },
  {
   "cell_type": "markdown",
   "metadata": {},
   "source": [
    "**Time.** Between two and three hours, first time through."
   ]
  },
  {
   "cell_type": "markdown",
   "metadata": {},
   "source": [
    "## Summary of methods and types introduced"
   ]
  },
  {
   "cell_type": "markdown",
   "metadata": {},
   "source": [
    "|code   | purpose|\n",
    "|:-------|:-------------------------------------------------------|\n",
    "|`OpenML.load(id)` | grab a dataset from [OpenML.org](https://www.openml.org)|\n",
    "|`scitype(X)`      | inspect the scientific type (scitype) of object `X`|\n",
    "|`schema(X)`       | inspect the column scitypes (scientific types) of a table `X`|\n",
    "|`coerce(X, ...)`   | fix column encodings to get appropriate scitypes|\n",
    "|`partition(data, frac1, frac2, ...; rng=...)` | vertically split `data`, which can be a table, vector or matrix|\n",
    "|`unpack(table, f1, f2, ...)` | horizontally split `table` based on conditions `f1`, `f2`, ..., applied to column names|\n",
    "|`@load ModelType pkg=...`           | load code defining a model type|\n",
    "|`input_scitype(model)` | inspect the scitype that a model requires for features (inputs)|\n",
    "|`target_scitype(model)`| inspect the scitype that a model requires for the target (labels)|\n",
    "|`ContinuousEncoder`   | built-in model type for re-encoding all features as `Continuous`|# |`model1 |> model2` |> ...` | combine multiple models into a pipeline\n",
    "| `measures(\"under curve\")` | list all measures (metrics) with string \"under curve\" in documentation\n",
    "| `accuracy(yhat, y)` | compute accuracy of predictions `yhat` against ground truth observations `y`\n",
    "| `auc(yhat, y)`, `brier_loss(yhat, y)` | evaluate two probabilistic measures (`yhat` a vector of probability distributions)\n",
    "| `machine(model, X, y)` | bind `model` to training data `X` (features) and `y` (target)\n",
    "| `fit!(mach, rows=...)` | train machine using specified rows (observation indices)\n",
    "| `predict(mach, rows=...)`, | make in-sample model predictions given specified rows\n",
    "| `predict(mach, Xnew)` | make predictions given new features `Xnew`\n",
    "| `fitted_params(mach)` | inspect learned parameters\n",
    "| `report(mach)`        | inspect other outcomes of training\n",
    "| `confmat(yhat, y)`    | confusion matrix for predictions `yhat` and ground truth `y`\n",
    "| `roc(yhat, y)` | compute points on the receiver-operator Characteristic\n",
    "| `StratifiedCV(nfolds=6)` | 6-fold stratified cross-validation resampling strategy\n",
    "| `Holdout(fraction_train=0.7)` | holdout resampling strategy\n",
    "| `evaluate(model, X, y; resampling=..., options...)` | estimate performance metrics `model` using the data `X`, `y`\n",
    "| `FeatureSelector()` | transformer for selecting features\n",
    "| `Step(3)` | iteration control for stepping 3 iterations\n",
    "| `NumberSinceBest(6)`, `TimeLimit(60/5), InvalidValue()` | iteration control stopping criteria\n",
    "| `IteratedModel(model=..., controls=..., options...)` | wrap an iterative `model` in control strategies\n",
    "| `range(model,  :some_hyperparam, lower=..., upper=...)` | define a numeric range\n",
    "| `RandomSearch()` | random search tuning strategy\n",
    "| `TunedModel(model=..., tuning=..., options...)` | wrap the supervised `model` in specified `tuning` strategy"
   ]
  },
  {
   "cell_type": "markdown",
   "metadata": {},
   "source": [
    "## Instantiate a Julia environment"
   ]
  },
  {
   "cell_type": "markdown",
   "metadata": {},
   "source": [
    "The following code replicates precisely the set of Julia packages\n",
    "used to develop this tutorial. If this is your first time running\n",
    "the notebook, package instantiation and pre-compilation may take a\n",
    "minute or so to complete. **This step will fail** if the [correct Manifest.toml \n",
    "and Project.toml files](https://github.com/alan-turing-institute/MLJ.jl/tree/dev/examples/telco) are not in the same directory as this notebook. "
   ]
  },
  {
   "cell_type": "code",
   "execution_count": 1,
   "metadata": {},
   "outputs": [
    {
     "name": "stderr",
     "output_type": "stream",
     "text": [
      "\u001b[32m\u001b[1m  Activating\u001b[22m\u001b[39m environment at `~/GoogleDrive/Julia/MLJ/MLJ/examples/telco/Project.toml`\n",
      "\u001b[32m\u001b[1mPrecompiling\u001b[22m\u001b[39m project...\n",
      "\u001b[32m  ✓ \u001b[39m\u001b[90mWayland_protocols_jll\u001b[39m\n",
      "\u001b[32m  ✓ \u001b[39m\u001b[90mXorg_libpthread_stubs_jll\u001b[39m\n",
      "\u001b[32m  ✓ \u001b[39m\u001b[90mXorg_xtrans_jll\u001b[39m\n",
      "\u001b[32m  ✓ \u001b[39m\u001b[90mLibmount_jll\u001b[39m\n",
      "\u001b[32m  ✓ \u001b[39m\u001b[90mLibgpg_error_jll\u001b[39m\n",
      "\u001b[32m  ✓ \u001b[39m\u001b[90mXorg_libXdmcp_jll\u001b[39m\n",
      "\u001b[32m  ✓ \u001b[39m\u001b[90mXorg_libXau_jll\u001b[39m\n",
      "\u001b[32m  ✓ \u001b[39m\u001b[90mWayland_jll\u001b[39m\n",
      "\u001b[32m  ✓ \u001b[39m\u001b[90mJpegTurbo_jll\u001b[39m\n",
      "\u001b[32m  ✓ \u001b[39m\u001b[90mGlib_jll\u001b[39m\n",
      "\u001b[32m  ✓ \u001b[39m\u001b[90mLibgcrypt_jll\u001b[39m\n",
      "\u001b[32m  ✓ \u001b[39m\u001b[90mLibtiff_jll\u001b[39m\n",
      "\u001b[32m  ✓ \u001b[39m\u001b[90mXSLT_jll\u001b[39m\n",
      "\u001b[32m  ✓ \u001b[39m\u001b[90mXorg_libxcb_jll\u001b[39m\n",
      "\u001b[32m  ✓ \u001b[39m\u001b[90mXorg_xcb_util_jll\u001b[39m\n",
      "\u001b[32m  ✓ \u001b[39m\u001b[90mXorg_libX11_jll\u001b[39m\n",
      "\u001b[32m  ✓ \u001b[39m\u001b[90mXorg_xcb_util_image_jll\u001b[39m\n",
      "\u001b[32m  ✓ \u001b[39m\u001b[90mXorg_xcb_util_renderutil_jll\u001b[39m\n",
      "\u001b[32m  ✓ \u001b[39m\u001b[90mXorg_xcb_util_keysyms_jll\u001b[39m\n",
      "\u001b[32m  ✓ \u001b[39m\u001b[90mXorg_xcb_util_wm_jll\u001b[39m\n",
      "\u001b[32m  ✓ \u001b[39m\u001b[90mXorg_libXext_jll\u001b[39m\n",
      "\u001b[32m  ✓ \u001b[39m\u001b[90mXorg_libXrender_jll\u001b[39m\n",
      "\u001b[32m  ✓ \u001b[39m\u001b[90mXorg_libxkbfile_jll\u001b[39m\n",
      "\u001b[32m  ✓ \u001b[39m\u001b[90mXorg_libXfixes_jll\u001b[39m\n",
      "\u001b[32m  ✓ \u001b[39m\u001b[90mXorg_libXinerama_jll\u001b[39m\n",
      "\u001b[32m  ✓ \u001b[39m\u001b[90mLibglvnd_jll\u001b[39m\n",
      "\u001b[32m  ✓ \u001b[39m\u001b[90mXorg_libXrandr_jll\u001b[39m\n",
      "\u001b[32m  ✓ \u001b[39m\u001b[90mXorg_xkbcomp_jll\u001b[39m\n",
      "\u001b[32m  ✓ \u001b[39m\u001b[90mXorg_libXcursor_jll\u001b[39m\n",
      "\u001b[32m  ✓ \u001b[39m\u001b[90mXorg_libXi_jll\u001b[39m\n",
      "\u001b[32m  ✓ \u001b[39m\u001b[90mCairo_jll\u001b[39m\n",
      "\u001b[32m  ✓ \u001b[39m\u001b[90mXorg_xkeyboard_config_jll\u001b[39m\n",
      "\u001b[32m  ✓ \u001b[39m\u001b[90mGLFW_jll\u001b[39m\n",
      "\u001b[32m  ✓ \u001b[39m\u001b[90mHarfBuzz_jll\u001b[39m\n",
      "\u001b[32m  ✓ \u001b[39m\u001b[90mxkbcommon_jll\u001b[39m\n",
      "\u001b[32m  ✓ \u001b[39m\u001b[90mlibass_jll\u001b[39m\n",
      "\u001b[32m  ✓ \u001b[39m\u001b[90mQt5Base_jll\u001b[39m\n",
      "\u001b[32m  ✓ \u001b[39m\u001b[90mFFMPEG_jll\u001b[39m\n",
      "\u001b[32m  ✓ \u001b[39m\u001b[90mFFMPEG\u001b[39m\n",
      "\u001b[32m  ✓ \u001b[39m\u001b[90mGR_jll\u001b[39m\n",
      "\u001b[32m  ✓ \u001b[39m\u001b[90mGR\u001b[39m\n",
      "\u001b[32m  ✓ \u001b[39mPlots\n",
      "  42 dependencies successfully precompiled in 52 seconds (158 already precompiled)\n"
     ]
    }
   ],
   "source": [
    "using Pkg\n",
    "Pkg.activate(@__DIR__) # get env from TOML files in same directory as this notebook\n",
    "Pkg.instantiate()"
   ]
  },
  {
   "cell_type": "markdown",
   "metadata": {},
   "source": [
    "## Warm up: Building a model for the iris dataset"
   ]
  },
  {
   "cell_type": "markdown",
   "metadata": {},
   "source": [
    "Before turning to the Telco Customer Churn dataset, we very quickly\n",
    "build a predictive model for Fisher's well-known iris data set, as way of\n",
    "introducing the main actors in any MLJ workflow. Details that you\n",
    "don't fully grasp should become clearer in the Telco study."
   ]
  },
  {
   "cell_type": "markdown",
   "metadata": {},
   "source": [
    "This section is a condensed adaption of the [Getting Started\n",
    "example](https://alan-turing-institute.github.io/MLJ.jl/dev/getting_started/#Fit-and-predict)\n",
    "in the MLJ documentation."
   ]
  },
  {
   "cell_type": "markdown",
   "metadata": {},
   "source": [
    "First, using the built-in iris dataset, we load and inspect the features\n",
    "`X_iris` (a table) and target variable `y_iris` (a vector):"
   ]
  },
  {
   "cell_type": "code",
   "execution_count": 2,
   "metadata": {},
   "outputs": [],
   "source": [
    "using MLJ"
   ]
  },
  {
   "cell_type": "code",
   "execution_count": 3,
   "metadata": {},
   "outputs": [
    {
     "data": {
      "text/plain": [
       "┌──────────────┬────────────┬─────────┐\n",
       "│\u001b[22m names        \u001b[0m│\u001b[22m scitypes   \u001b[0m│\u001b[22m types   \u001b[0m│\n",
       "├──────────────┼────────────┼─────────┤\n",
       "│ sepal_length │ Continuous │ Float64 │\n",
       "│ sepal_width  │ Continuous │ Float64 │\n",
       "│ petal_length │ Continuous │ Float64 │\n",
       "│ petal_width  │ Continuous │ Float64 │\n",
       "└──────────────┴────────────┴─────────┘\n"
      ]
     },
     "execution_count": 3,
     "metadata": {},
     "output_type": "execute_result"
    }
   ],
   "source": [
    "const X_iris, y_iris = @load_iris;\n",
    "schema(X_iris)"
   ]
  },
  {
   "cell_type": "code",
   "execution_count": 4,
   "metadata": {},
   "outputs": [
    {
     "data": {
      "text/plain": [
       "4-element CategoricalArrays.CategoricalArray{String,1,UInt32}:\n",
       " \"setosa\"\n",
       " \"setosa\"\n",
       " \"setosa\"\n",
       " \"setosa\""
      ]
     },
     "execution_count": 4,
     "metadata": {},
     "output_type": "execute_result"
    }
   ],
   "source": [
    "y_iris[1:4]"
   ]
  },
  {
   "cell_type": "code",
   "execution_count": 5,
   "metadata": {},
   "outputs": [
    {
     "data": {
      "text/plain": [
       "3-element Vector{String}:\n",
       " \"setosa\"\n",
       " \"versicolor\"\n",
       " \"virginica\""
      ]
     },
     "execution_count": 5,
     "metadata": {},
     "output_type": "execute_result"
    }
   ],
   "source": [
    "levels(y_iris)"
   ]
  },
  {
   "cell_type": "markdown",
   "metadata": {},
   "source": [
    "We load a decision tree model, from the package DecisionTree.jl:"
   ]
  },
  {
   "cell_type": "code",
   "execution_count": 6,
   "metadata": {},
   "outputs": [
    {
     "name": "stderr",
     "output_type": "stream",
     "text": [
      "┌ Info: For silent loading, specify `verbosity=0`. \n",
      "└ @ Main /Users/anthony/.julia/packages/MLJModels/EhaRK/src/loading.jl:168\n"
     ]
    },
    {
     "name": "stdout",
     "output_type": "stream",
     "text": [
      "import MLJDecisionTreeInterface ✔\n"
     ]
    },
    {
     "data": {
      "text/plain": [
       "DecisionTreeClassifier(\n",
       "    max_depth = -1,\n",
       "    min_samples_leaf = 1,\n",
       "    min_samples_split = 5,\n",
       "    min_purity_increase = 0.0,\n",
       "    n_subfeatures = 0,\n",
       "    post_prune = false,\n",
       "    merge_purity_threshold = 1.0,\n",
       "    pdf_smoothing = 0.0,\n",
       "    display_depth = 5,\n",
       "    rng = Random._GLOBAL_RNG())"
      ]
     },
     "execution_count": 6,
     "metadata": {},
     "output_type": "execute_result"
    }
   ],
   "source": [
    "DecisionTree = @load DecisionTreeClassifier pkg=DecisionTree # model type\n",
    "model = DecisionTree(min_samples_split=5)                    # model instance"
   ]
  },
  {
   "cell_type": "markdown",
   "metadata": {},
   "source": [
    "In MLJ, a *model* is just a container for hyper-parameters of\n",
    "some learning algorithm. It does not store learned parameters."
   ]
  },
  {
   "cell_type": "markdown",
   "metadata": {},
   "source": [
    "Next, we bind the model together with the available data in what's\n",
    "called a *machine*:"
   ]
  },
  {
   "cell_type": "code",
   "execution_count": 7,
   "metadata": {},
   "outputs": [
    {
     "data": {
      "text/plain": [
       "Machine{DecisionTreeClassifier,…} trained 0 times; caches data\n",
       "  model: MLJDecisionTreeInterface.DecisionTreeClassifier\n",
       "  args: \n",
       "    1:\tSource @524 ⏎ `Table{AbstractVector{Continuous}}`\n",
       "    2:\tSource @882 ⏎ `AbstractVector{Multiclass{3}}`\n"
      ]
     },
     "execution_count": 7,
     "metadata": {},
     "output_type": "execute_result"
    }
   ],
   "source": [
    "mach = machine(model, X_iris, y_iris)"
   ]
  },
  {
   "cell_type": "markdown",
   "metadata": {},
   "source": [
    "A machine is essentially just a model (ie, hyper-parameters) plus data, but\n",
    "it additionally stores *learned parameters* (the tree) once it is\n",
    "trained on some view of the data:"
   ]
  },
  {
   "cell_type": "code",
   "execution_count": 8,
   "metadata": {},
   "outputs": [
    {
     "name": "stderr",
     "output_type": "stream",
     "text": [
      "┌ Info: Training Machine{DecisionTreeClassifier,…}.\n",
      "└ @ MLJBase /Users/anthony/.julia/packages/MLJBase/pCiRR/src/machines.jl:464\n"
     ]
    },
    {
     "data": {
      "text/plain": [
       "(tree = Decision Tree\n",
       "Leaves: 5\n",
       "Depth:  3,\n",
       " encoding = Dict{CategoricalArrays.CategoricalValue{String, UInt32}, UInt32}(\"virginica\" => 0x00000003, \"setosa\" => 0x00000001, \"versicolor\" => 0x00000002),)"
      ]
     },
     "execution_count": 8,
     "metadata": {},
     "output_type": "execute_result"
    }
   ],
   "source": [
    "train_rows = vcat(1:60, 91:150); # some row indices (observations are rows not columns)\n",
    "fit!(mach, rows=train_rows)\n",
    "fitted_params(mach)"
   ]
  },
  {
   "cell_type": "markdown",
   "metadata": {},
   "source": [
    "A machine stores some other information enabling [warm\n",
    "restart](https://alan-turing-institute.github.io/MLJ.jl/dev/machines/#Warm-restarts)\n",
    "for some models, but we won't go into that here. You are allowed to\n",
    "access and mutate the `model` parameter:"
   ]
  },
  {
   "cell_type": "code",
   "execution_count": 9,
   "metadata": {},
   "outputs": [
    {
     "name": "stderr",
     "output_type": "stream",
     "text": [
      "┌ Info: Updating Machine{DecisionTreeClassifier,…}.\n",
      "└ @ MLJBase /Users/anthony/.julia/packages/MLJBase/pCiRR/src/machines.jl:465\n"
     ]
    },
    {
     "data": {
      "text/plain": [
       "Machine{DecisionTreeClassifier,…} trained 2 times; caches data\n",
       "  model: MLJDecisionTreeInterface.DecisionTreeClassifier\n",
       "  args: \n",
       "    1:\tSource @524 ⏎ `Table{AbstractVector{Continuous}}`\n",
       "    2:\tSource @882 ⏎ `AbstractVector{Multiclass{3}}`\n"
      ]
     },
     "execution_count": 9,
     "metadata": {},
     "output_type": "execute_result"
    }
   ],
   "source": [
    "mach.model.min_samples_split  = 10\n",
    "fit!(mach, rows=train_rows) # re-train with new hyper-parameter"
   ]
  },
  {
   "cell_type": "markdown",
   "metadata": {},
   "source": [
    "Now we can make predictions on some other view of the data, as in"
   ]
  },
  {
   "cell_type": "code",
   "execution_count": 10,
   "metadata": {},
   "outputs": [
    {
     "data": {
      "text/plain": [
       "3-element CategoricalDistributions.UnivariateFiniteVector{Multiclass{3}, String, UInt32, Float64}:\n",
       " UnivariateFinite{Multiclass{3}}(setosa=>0.0, versicolor=>0.0, virginica=>1.0)\n",
       " UnivariateFinite{Multiclass{3}}(setosa=>0.0, versicolor=>1.0, virginica=>0.0)\n",
       " UnivariateFinite{Multiclass{3}}(setosa=>0.0, versicolor=>0.25, virginica=>0.75)"
      ]
     },
     "execution_count": 10,
     "metadata": {},
     "output_type": "execute_result"
    }
   ],
   "source": [
    "predict(mach, rows=71:73)"
   ]
  },
  {
   "cell_type": "markdown",
   "metadata": {},
   "source": [
    "or on completely new data, as in"
   ]
  },
  {
   "cell_type": "code",
   "execution_count": 11,
   "metadata": {},
   "outputs": [
    {
     "data": {
      "text/plain": [
       "2-element CategoricalDistributions.UnivariateFiniteVector{Multiclass{3}, String, UInt32, Float64}:\n",
       " UnivariateFinite{Multiclass{3}}(setosa=>1.0, versicolor=>0.0, virginica=>0.0)\n",
       " UnivariateFinite{Multiclass{3}}(setosa=>0.0, versicolor=>0.25, virginica=>0.75)"
      ]
     },
     "execution_count": 11,
     "metadata": {},
     "output_type": "execute_result"
    }
   ],
   "source": [
    "Xnew = (sepal_length = [5.1, 6.3],\n",
    "        sepal_width = [3.0, 2.5],\n",
    "        petal_length = [1.4, 4.9],\n",
    "        petal_width = [0.3, 1.5])\n",
    "yhat = predict(mach, Xnew)"
   ]
  },
  {
   "cell_type": "markdown",
   "metadata": {},
   "source": [
    "These are probabilistic predictions which can be manipulated using a\n",
    "widely adopted interface defined in the Distributions.jl\n",
    "package. For example, we can get raw probabilities like this:"
   ]
  },
  {
   "cell_type": "code",
   "execution_count": 12,
   "metadata": {},
   "outputs": [
    {
     "data": {
      "text/plain": [
       "2-element Vector{Float64}:\n",
       " 0.0\n",
       " 0.75"
      ]
     },
     "execution_count": 12,
     "metadata": {},
     "output_type": "execute_result"
    }
   ],
   "source": [
    "pdf.(yhat, \"virginica\")"
   ]
  },
  {
   "cell_type": "markdown",
   "metadata": {},
   "source": [
    "We now turn to the Telco dataset."
   ]
  },
  {
   "cell_type": "markdown",
   "metadata": {},
   "source": [
    "## Getting the Telco data"
   ]
  },
  {
   "cell_type": "code",
   "execution_count": 13,
   "metadata": {},
   "outputs": [],
   "source": [
    "import DataFrames"
   ]
  },
  {
   "cell_type": "code",
   "execution_count": 14,
   "metadata": {},
   "outputs": [
    {
     "data": {
      "text/html": [
       "<div class=\"data-frame\"><p>4 rows × 21 columns (omitted printing of 13 columns)</p><table class=\"data-frame\"><thead><tr><th></th><th>customerID</th><th>gender</th><th>SeniorCitizen</th><th>Partner</th><th>Dependents</th><th>tenure</th><th>PhoneService</th><th>MultipleLines</th></tr><tr><th></th><th title=\"String\">String</th><th title=\"String\">String</th><th title=\"Float64\">Float64</th><th title=\"String\">String</th><th title=\"String\">String</th><th title=\"Float64\">Float64</th><th title=\"String\">String</th><th title=\"String\">String</th></tr></thead><tbody><tr><th>1</th><td>7590-VHVEG</td><td>Female</td><td>0.0</td><td>Yes</td><td>No</td><td>1.0</td><td>No</td><td>No phone service</td></tr><tr><th>2</th><td>5575-GNVDE</td><td>Male</td><td>0.0</td><td>No</td><td>No</td><td>34.0</td><td>Yes</td><td>No</td></tr><tr><th>3</th><td>3668-QPYBK</td><td>Male</td><td>0.0</td><td>No</td><td>No</td><td>2.0</td><td>Yes</td><td>No</td></tr><tr><th>4</th><td>7795-CFOCW</td><td>Male</td><td>0.0</td><td>No</td><td>No</td><td>45.0</td><td>No</td><td>No phone service</td></tr></tbody></table></div>"
      ],
      "text/latex": [
       "\\begin{tabular}{r|ccccccccc}\n",
       "\t& customerID & gender & SeniorCitizen & Partner & Dependents & tenure & PhoneService & MultipleLines & \\\\\n",
       "\t\\hline\n",
       "\t& String & String & Float64 & String & String & Float64 & String & String & \\\\\n",
       "\t\\hline\n",
       "\t1 & 7590-VHVEG & Female & 0.0 & Yes & No & 1.0 & No & No phone service & $\\dots$ \\\\\n",
       "\t2 & 5575-GNVDE & Male & 0.0 & No & No & 34.0 & Yes & No & $\\dots$ \\\\\n",
       "\t3 & 3668-QPYBK & Male & 0.0 & No & No & 2.0 & Yes & No & $\\dots$ \\\\\n",
       "\t4 & 7795-CFOCW & Male & 0.0 & No & No & 45.0 & No & No phone service & $\\dots$ \\\\\n",
       "\\end{tabular}\n"
      ],
      "text/plain": [
       "\u001b[1m4×21 DataFrame\u001b[0m\n",
       "\u001b[1m Row \u001b[0m│\u001b[1m customerID \u001b[0m\u001b[1m gender \u001b[0m\u001b[1m SeniorCitizen \u001b[0m\u001b[1m Partner \u001b[0m\u001b[1m Dependents \u001b[0m\u001b[1m tenure  \u001b[0m\u001b[1m PhoneS\u001b[0m ⋯\n",
       "\u001b[1m     \u001b[0m│\u001b[90m String     \u001b[0m\u001b[90m String \u001b[0m\u001b[90m Float64       \u001b[0m\u001b[90m String  \u001b[0m\u001b[90m String     \u001b[0m\u001b[90m Float64 \u001b[0m\u001b[90m String\u001b[0m ⋯\n",
       "─────┼──────────────────────────────────────────────────────────────────────────\n",
       "   1 │ 7590-VHVEG  Female            0.0  Yes      No              1.0  No     ⋯\n",
       "   2 │ 5575-GNVDE  Male              0.0  No       No             34.0  Yes\n",
       "   3 │ 3668-QPYBK  Male              0.0  No       No              2.0  Yes\n",
       "   4 │ 7795-CFOCW  Male              0.0  No       No             45.0  No\n",
       "\u001b[36m                                                              15 columns omitted\u001b[0m"
      ]
     },
     "execution_count": 14,
     "metadata": {},
     "output_type": "execute_result"
    }
   ],
   "source": [
    "data = OpenML.load(42178) # data set from OpenML.org\n",
    "df0 = DataFrames.DataFrame(data)\n",
    "first(df0, 4)"
   ]
  },
  {
   "cell_type": "markdown",
   "metadata": {},
   "source": [
    "The object of this tutorial is to build and evaluate supervised\n",
    "learning models to predict the `:Churn` variable, a binary variable\n",
    "measuring customer retention, based on other variables that are\n",
    "relevant."
   ]
  },
  {
   "cell_type": "markdown",
   "metadata": {},
   "source": [
    "In the table, observations correspond to rows, and features to\n",
    "columns, which is the convention for representing all\n",
    "two-dimensional data in MLJ."
   ]
  },
  {
   "cell_type": "markdown",
   "metadata": {},
   "source": [
    "## Type coercion"
   ]
  },
  {
   "cell_type": "markdown",
   "metadata": {},
   "source": [
    "> Introduces: `scitype`, `schema`, `coerce`"
   ]
  },
  {
   "cell_type": "markdown",
   "metadata": {},
   "source": [
    "A [\"scientific\n",
    "type\"](https://juliaai.github.io/ScientificTypes.jl/dev/) or\n",
    "*scitype* indicates how MLJ will *interpret* data. For example,\n",
    "`typeof(3.14) == Float64`, while `scitype(3.14) == Continuous` and\n",
    "also `scitype(3.14f0) == Continuous`. In MLJ, model data\n",
    "requirements are articulated using scitypes."
   ]
  },
  {
   "cell_type": "markdown",
   "metadata": {},
   "source": [
    "Here are common \"scalar\" scitypes:"
   ]
  },
  {
   "cell_type": "markdown",
   "metadata": {},
   "source": [
    "![](assets/scitypes.png)"
   ]
  },
  {
   "cell_type": "markdown",
   "metadata": {},
   "source": [
    "There are also container scitypes. For example, the scitype of any\n",
    "`N`-dimensional array is `AbstractArray{S, N}`, where `S` is the scitype of the\n",
    "elements:"
   ]
  },
  {
   "cell_type": "code",
   "execution_count": 15,
   "metadata": {},
   "outputs": [
    {
     "data": {
      "text/plain": [
       "AbstractVector{Textual} (alias for AbstractArray{Textual, 1})"
      ]
     },
     "execution_count": 15,
     "metadata": {},
     "output_type": "execute_result"
    }
   ],
   "source": [
    "scitype([\"cat\", \"mouse\", \"dog\"])"
   ]
  },
  {
   "cell_type": "markdown",
   "metadata": {},
   "source": [
    "The `schema` operator summarizes the column scitypes of a table:"
   ]
  },
  {
   "cell_type": "code",
   "execution_count": 16,
   "metadata": {},
   "outputs": [
    {
     "data": {
      "text/html": [
       "<div class=\"data-frame\"><p>21 rows × 3 columns</p><table class=\"data-frame\"><thead><tr><th></th><th>names</th><th>scitypes</th><th>types</th></tr><tr><th></th><th title=\"Symbol\">Symbol</th><th title=\"DataType\">DataType</th><th title=\"DataType\">DataType</th></tr></thead><tbody><tr><th>1</th><td>customerID</td><td>Textual</td><td>String</td></tr><tr><th>2</th><td>gender</td><td>Textual</td><td>String</td></tr><tr><th>3</th><td>SeniorCitizen</td><td>Continuous</td><td>Float64</td></tr><tr><th>4</th><td>Partner</td><td>Textual</td><td>String</td></tr><tr><th>5</th><td>Dependents</td><td>Textual</td><td>String</td></tr><tr><th>6</th><td>tenure</td><td>Continuous</td><td>Float64</td></tr><tr><th>7</th><td>PhoneService</td><td>Textual</td><td>String</td></tr><tr><th>8</th><td>MultipleLines</td><td>Textual</td><td>String</td></tr><tr><th>9</th><td>InternetService</td><td>Textual</td><td>String</td></tr><tr><th>10</th><td>OnlineSecurity</td><td>Textual</td><td>String</td></tr><tr><th>11</th><td>OnlineBackup</td><td>Textual</td><td>String</td></tr><tr><th>12</th><td>DeviceProtection</td><td>Textual</td><td>String</td></tr><tr><th>13</th><td>TechSupport</td><td>Textual</td><td>String</td></tr><tr><th>14</th><td>StreamingTV</td><td>Textual</td><td>String</td></tr><tr><th>15</th><td>StreamingMovies</td><td>Textual</td><td>String</td></tr><tr><th>16</th><td>Contract</td><td>Textual</td><td>String</td></tr><tr><th>17</th><td>PaperlessBilling</td><td>Textual</td><td>String</td></tr><tr><th>18</th><td>PaymentMethod</td><td>Textual</td><td>String</td></tr><tr><th>19</th><td>MonthlyCharges</td><td>Continuous</td><td>Float64</td></tr><tr><th>20</th><td>TotalCharges</td><td>Textual</td><td>String</td></tr><tr><th>21</th><td>Churn</td><td>Textual</td><td>String</td></tr></tbody></table></div>"
      ],
      "text/latex": [
       "\\begin{tabular}{r|ccc}\n",
       "\t& names & scitypes & types\\\\\n",
       "\t\\hline\n",
       "\t& Symbol & DataType & DataType\\\\\n",
       "\t\\hline\n",
       "\t1 & customerID & Textual & String \\\\\n",
       "\t2 & gender & Textual & String \\\\\n",
       "\t3 & SeniorCitizen & Continuous & Float64 \\\\\n",
       "\t4 & Partner & Textual & String \\\\\n",
       "\t5 & Dependents & Textual & String \\\\\n",
       "\t6 & tenure & Continuous & Float64 \\\\\n",
       "\t7 & PhoneService & Textual & String \\\\\n",
       "\t8 & MultipleLines & Textual & String \\\\\n",
       "\t9 & InternetService & Textual & String \\\\\n",
       "\t10 & OnlineSecurity & Textual & String \\\\\n",
       "\t11 & OnlineBackup & Textual & String \\\\\n",
       "\t12 & DeviceProtection & Textual & String \\\\\n",
       "\t13 & TechSupport & Textual & String \\\\\n",
       "\t14 & StreamingTV & Textual & String \\\\\n",
       "\t15 & StreamingMovies & Textual & String \\\\\n",
       "\t16 & Contract & Textual & String \\\\\n",
       "\t17 & PaperlessBilling & Textual & String \\\\\n",
       "\t18 & PaymentMethod & Textual & String \\\\\n",
       "\t19 & MonthlyCharges & Continuous & Float64 \\\\\n",
       "\t20 & TotalCharges & Textual & String \\\\\n",
       "\t21 & Churn & Textual & String \\\\\n",
       "\\end{tabular}\n"
      ],
      "text/plain": [
       "\u001b[1m21×3 DataFrame\u001b[0m\n",
       "\u001b[1m Row \u001b[0m│\u001b[1m names            \u001b[0m\u001b[1m scitypes   \u001b[0m\u001b[1m types    \u001b[0m\n",
       "\u001b[1m     \u001b[0m│\u001b[90m Symbol           \u001b[0m\u001b[90m DataType   \u001b[0m\u001b[90m DataType \u001b[0m\n",
       "─────┼────────────────────────────────────────\n",
       "   1 │ customerID        Textual     String\n",
       "   2 │ gender            Textual     String\n",
       "   3 │ SeniorCitizen     Continuous  Float64\n",
       "   4 │ Partner           Textual     String\n",
       "   5 │ Dependents        Textual     String\n",
       "   6 │ tenure            Continuous  Float64\n",
       "   7 │ PhoneService      Textual     String\n",
       "   8 │ MultipleLines     Textual     String\n",
       "   9 │ InternetService   Textual     String\n",
       "  10 │ OnlineSecurity    Textual     String\n",
       "  11 │ OnlineBackup      Textual     String\n",
       "  12 │ DeviceProtection  Textual     String\n",
       "  13 │ TechSupport       Textual     String\n",
       "  14 │ StreamingTV       Textual     String\n",
       "  15 │ StreamingMovies   Textual     String\n",
       "  16 │ Contract          Textual     String\n",
       "  17 │ PaperlessBilling  Textual     String\n",
       "  18 │ PaymentMethod     Textual     String\n",
       "  19 │ MonthlyCharges    Continuous  Float64\n",
       "  20 │ TotalCharges      Textual     String\n",
       "  21 │ Churn             Textual     String"
      ]
     },
     "execution_count": 16,
     "metadata": {},
     "output_type": "execute_result"
    }
   ],
   "source": [
    "schema(df0) |> DataFrames.DataFrame  # converted to DataFrame for better display"
   ]
  },
  {
   "cell_type": "markdown",
   "metadata": {},
   "source": [
    "All of the fields being interpreted as `Textual` are really\n",
    "something else, either `Multiclass` or, in the case of\n",
    "`:TotalCharges`, `Continuous`. In fact, `:TotalCharges` is\n",
    "mostly floats wrapped as strings. However, it needs special\n",
    "treatment because some elements consist of a single space, \" \",\n",
    "which we'll treat as \"0.0\"."
   ]
  },
  {
   "cell_type": "code",
   "execution_count": 17,
   "metadata": {},
   "outputs": [],
   "source": [
    "fix_blanks(v) = map(v) do x\n",
    "    if x == \" \"\n",
    "        return \"0.0\"\n",
    "    else\n",
    "        return x\n",
    "    end\n",
    "end\n",
    "\n",
    "df0.TotalCharges = fix_blanks(df0.TotalCharges);"
   ]
  },
  {
   "cell_type": "markdown",
   "metadata": {},
   "source": [
    "Coercing the `:TotalCharges` type to ensure a `Continuous` scitype:"
   ]
  },
  {
   "cell_type": "code",
   "execution_count": 18,
   "metadata": {},
   "outputs": [],
   "source": [
    "coerce!(df0, :TotalCharges => Continuous);"
   ]
  },
  {
   "cell_type": "markdown",
   "metadata": {},
   "source": [
    "Coercing all remaining `Textual` data to `Multiclass`:"
   ]
  },
  {
   "cell_type": "code",
   "execution_count": 19,
   "metadata": {},
   "outputs": [],
   "source": [
    "coerce!(df0, Textual => Multiclass);"
   ]
  },
  {
   "cell_type": "markdown",
   "metadata": {},
   "source": [
    "Finally, we'll coerce our target variable `:Churn` to be\n",
    "`OrderedFactor`, rather than `Multiclass`, to enable a reliable\n",
    "interpretation of metrics like \"true positive rate\".  By convention,\n",
    "the first class is the negative one:"
   ]
  },
  {
   "cell_type": "code",
   "execution_count": 20,
   "metadata": {},
   "outputs": [
    {
     "data": {
      "text/plain": [
       "2-element Vector{String}:\n",
       " \"No\"\n",
       " \"Yes\""
      ]
     },
     "execution_count": 20,
     "metadata": {},
     "output_type": "execute_result"
    }
   ],
   "source": [
    "coerce!(df0, :Churn => OrderedFactor)\n",
    "levels(df0.Churn) # to check order"
   ]
  },
  {
   "cell_type": "markdown",
   "metadata": {},
   "source": [
    "Re-inspecting the scitypes:"
   ]
  },
  {
   "cell_type": "code",
   "execution_count": 21,
   "metadata": {},
   "outputs": [
    {
     "data": {
      "text/html": [
       "<div class=\"data-frame\"><p>21 rows × 3 columns</p><table class=\"data-frame\"><thead><tr><th></th><th>names</th><th>scitypes</th><th>types</th></tr><tr><th></th><th title=\"Symbol\">Symbol</th><th title=\"DataType\">DataType</th><th title=\"DataType\">DataType</th></tr></thead><tbody><tr><th>1</th><td>customerID</td><td>Multiclass{7043}</td><td>CategoricalValue{String, UInt32}</td></tr><tr><th>2</th><td>gender</td><td>Multiclass{2}</td><td>CategoricalValue{String, UInt32}</td></tr><tr><th>3</th><td>SeniorCitizen</td><td>Continuous</td><td>Float64</td></tr><tr><th>4</th><td>Partner</td><td>Multiclass{2}</td><td>CategoricalValue{String, UInt32}</td></tr><tr><th>5</th><td>Dependents</td><td>Multiclass{2}</td><td>CategoricalValue{String, UInt32}</td></tr><tr><th>6</th><td>tenure</td><td>Continuous</td><td>Float64</td></tr><tr><th>7</th><td>PhoneService</td><td>Multiclass{2}</td><td>CategoricalValue{String, UInt32}</td></tr><tr><th>8</th><td>MultipleLines</td><td>Multiclass{3}</td><td>CategoricalValue{String, UInt32}</td></tr><tr><th>9</th><td>InternetService</td><td>Multiclass{3}</td><td>CategoricalValue{String, UInt32}</td></tr><tr><th>10</th><td>OnlineSecurity</td><td>Multiclass{3}</td><td>CategoricalValue{String, UInt32}</td></tr><tr><th>11</th><td>OnlineBackup</td><td>Multiclass{3}</td><td>CategoricalValue{String, UInt32}</td></tr><tr><th>12</th><td>DeviceProtection</td><td>Multiclass{3}</td><td>CategoricalValue{String, UInt32}</td></tr><tr><th>13</th><td>TechSupport</td><td>Multiclass{3}</td><td>CategoricalValue{String, UInt32}</td></tr><tr><th>14</th><td>StreamingTV</td><td>Multiclass{3}</td><td>CategoricalValue{String, UInt32}</td></tr><tr><th>15</th><td>StreamingMovies</td><td>Multiclass{3}</td><td>CategoricalValue{String, UInt32}</td></tr><tr><th>16</th><td>Contract</td><td>Multiclass{3}</td><td>CategoricalValue{String, UInt32}</td></tr><tr><th>17</th><td>PaperlessBilling</td><td>Multiclass{2}</td><td>CategoricalValue{String, UInt32}</td></tr><tr><th>18</th><td>PaymentMethod</td><td>Multiclass{4}</td><td>CategoricalValue{String, UInt32}</td></tr><tr><th>19</th><td>MonthlyCharges</td><td>Continuous</td><td>Float64</td></tr><tr><th>20</th><td>TotalCharges</td><td>Continuous</td><td>Float64</td></tr><tr><th>21</th><td>Churn</td><td>OrderedFactor{2}</td><td>CategoricalValue{String, UInt32}</td></tr></tbody></table></div>"
      ],
      "text/latex": [
       "\\begin{tabular}{r|ccc}\n",
       "\t& names & scitypes & types\\\\\n",
       "\t\\hline\n",
       "\t& Symbol & DataType & DataType\\\\\n",
       "\t\\hline\n",
       "\t1 & customerID & Multiclass\\{7043\\} & CategoricalValue\\{String, UInt32\\} \\\\\n",
       "\t2 & gender & Multiclass\\{2\\} & CategoricalValue\\{String, UInt32\\} \\\\\n",
       "\t3 & SeniorCitizen & Continuous & Float64 \\\\\n",
       "\t4 & Partner & Multiclass\\{2\\} & CategoricalValue\\{String, UInt32\\} \\\\\n",
       "\t5 & Dependents & Multiclass\\{2\\} & CategoricalValue\\{String, UInt32\\} \\\\\n",
       "\t6 & tenure & Continuous & Float64 \\\\\n",
       "\t7 & PhoneService & Multiclass\\{2\\} & CategoricalValue\\{String, UInt32\\} \\\\\n",
       "\t8 & MultipleLines & Multiclass\\{3\\} & CategoricalValue\\{String, UInt32\\} \\\\\n",
       "\t9 & InternetService & Multiclass\\{3\\} & CategoricalValue\\{String, UInt32\\} \\\\\n",
       "\t10 & OnlineSecurity & Multiclass\\{3\\} & CategoricalValue\\{String, UInt32\\} \\\\\n",
       "\t11 & OnlineBackup & Multiclass\\{3\\} & CategoricalValue\\{String, UInt32\\} \\\\\n",
       "\t12 & DeviceProtection & Multiclass\\{3\\} & CategoricalValue\\{String, UInt32\\} \\\\\n",
       "\t13 & TechSupport & Multiclass\\{3\\} & CategoricalValue\\{String, UInt32\\} \\\\\n",
       "\t14 & StreamingTV & Multiclass\\{3\\} & CategoricalValue\\{String, UInt32\\} \\\\\n",
       "\t15 & StreamingMovies & Multiclass\\{3\\} & CategoricalValue\\{String, UInt32\\} \\\\\n",
       "\t16 & Contract & Multiclass\\{3\\} & CategoricalValue\\{String, UInt32\\} \\\\\n",
       "\t17 & PaperlessBilling & Multiclass\\{2\\} & CategoricalValue\\{String, UInt32\\} \\\\\n",
       "\t18 & PaymentMethod & Multiclass\\{4\\} & CategoricalValue\\{String, UInt32\\} \\\\\n",
       "\t19 & MonthlyCharges & Continuous & Float64 \\\\\n",
       "\t20 & TotalCharges & Continuous & Float64 \\\\\n",
       "\t21 & Churn & OrderedFactor\\{2\\} & CategoricalValue\\{String, UInt32\\} \\\\\n",
       "\\end{tabular}\n"
      ],
      "text/plain": [
       "\u001b[1m21×3 DataFrame\u001b[0m\n",
       "\u001b[1m Row \u001b[0m│\u001b[1m names            \u001b[0m\u001b[1m scitypes         \u001b[0m\u001b[1m types                            \u001b[0m\n",
       "\u001b[1m     \u001b[0m│\u001b[90m Symbol           \u001b[0m\u001b[90m DataType         \u001b[0m\u001b[90m DataType                         \u001b[0m\n",
       "─────┼──────────────────────────────────────────────────────────────────────\n",
       "   1 │ customerID        Multiclass{7043}  CategoricalValue{String, UInt32}\n",
       "   2 │ gender            Multiclass{2}     CategoricalValue{String, UInt32}\n",
       "   3 │ SeniorCitizen     Continuous        Float64\n",
       "   4 │ Partner           Multiclass{2}     CategoricalValue{String, UInt32}\n",
       "   5 │ Dependents        Multiclass{2}     CategoricalValue{String, UInt32}\n",
       "   6 │ tenure            Continuous        Float64\n",
       "   7 │ PhoneService      Multiclass{2}     CategoricalValue{String, UInt32}\n",
       "   8 │ MultipleLines     Multiclass{3}     CategoricalValue{String, UInt32}\n",
       "   9 │ InternetService   Multiclass{3}     CategoricalValue{String, UInt32}\n",
       "  10 │ OnlineSecurity    Multiclass{3}     CategoricalValue{String, UInt32}\n",
       "  11 │ OnlineBackup      Multiclass{3}     CategoricalValue{String, UInt32}\n",
       "  12 │ DeviceProtection  Multiclass{3}     CategoricalValue{String, UInt32}\n",
       "  13 │ TechSupport       Multiclass{3}     CategoricalValue{String, UInt32}\n",
       "  14 │ StreamingTV       Multiclass{3}     CategoricalValue{String, UInt32}\n",
       "  15 │ StreamingMovies   Multiclass{3}     CategoricalValue{String, UInt32}\n",
       "  16 │ Contract          Multiclass{3}     CategoricalValue{String, UInt32}\n",
       "  17 │ PaperlessBilling  Multiclass{2}     CategoricalValue{String, UInt32}\n",
       "  18 │ PaymentMethod     Multiclass{4}     CategoricalValue{String, UInt32}\n",
       "  19 │ MonthlyCharges    Continuous        Float64\n",
       "  20 │ TotalCharges      Continuous        Float64\n",
       "  21 │ Churn             OrderedFactor{2}  CategoricalValue{String, UInt32}"
      ]
     },
     "execution_count": 21,
     "metadata": {},
     "output_type": "execute_result"
    }
   ],
   "source": [
    "schema(df0) |> DataFrames.DataFrame"
   ]
  },
  {
   "cell_type": "markdown",
   "metadata": {},
   "source": [
    "## Preparing a holdout set for final testing"
   ]
  },
  {
   "cell_type": "markdown",
   "metadata": {},
   "source": [
    "> Introduces: `partition`"
   ]
  },
  {
   "cell_type": "markdown",
   "metadata": {},
   "source": [
    "To reduce training times for the purposes of this tutorial, we're\n",
    "going to dump 90% of observations (after shuffling) and split off\n",
    "30% of the remainder for use as a lock-and-throw-away-the-key\n",
    "holdout set:"
   ]
  },
  {
   "cell_type": "code",
   "execution_count": 22,
   "metadata": {},
   "outputs": [],
   "source": [
    "df, df_test, df_dumped = partition(df0, 0.07, 0.03, # in ratios 7:3:90\n",
    "                                   stratify=df0.Churn,\n",
    "                                   rng=123);"
   ]
  },
  {
   "cell_type": "markdown",
   "metadata": {},
   "source": [
    "The reader interested in including all data can instead do\n",
    "`df, df_test = partition(df0, 0.7, rng=123)`."
   ]
  },
  {
   "cell_type": "markdown",
   "metadata": {},
   "source": [
    "## Splitting data into target and features"
   ]
  },
  {
   "cell_type": "markdown",
   "metadata": {},
   "source": [
    "> Introduces: `unpack`"
   ]
  },
  {
   "cell_type": "markdown",
   "metadata": {},
   "source": [
    "In the following call, the column with name `:Churn` is copied over\n",
    "to a vector `y`, and every remaining column, except `:customerID`\n",
    "(which contains no useful information) goes into a table `X`. Here\n",
    "`:Churn` is the target variable for which we seek predictions, given\n",
    "new versions of the features `X`."
   ]
  },
  {
   "cell_type": "code",
   "execution_count": 23,
   "metadata": {},
   "outputs": [
    {
     "data": {
      "text/plain": [
       "(:gender, :SeniorCitizen, :Partner, :Dependents, :tenure, :PhoneService, :MultipleLines, :InternetService, :OnlineSecurity, :OnlineBackup, :DeviceProtection, :TechSupport, :StreamingTV, :StreamingMovies, :Contract, :PaperlessBilling, :PaymentMethod, :MonthlyCharges, :TotalCharges)"
      ]
     },
     "execution_count": 23,
     "metadata": {},
     "output_type": "execute_result"
    }
   ],
   "source": [
    "const y, X = unpack(df, ==(:Churn), !=(:customerID));\n",
    "schema(X).names"
   ]
  },
  {
   "cell_type": "code",
   "execution_count": 24,
   "metadata": {},
   "outputs": [
    {
     "data": {
      "text/plain": [
       "Symbol[]"
      ]
     },
     "execution_count": 24,
     "metadata": {},
     "output_type": "execute_result"
    }
   ],
   "source": [
    "intersect([:Churn, :customerID], schema(X).names)"
   ]
  },
  {
   "cell_type": "markdown",
   "metadata": {},
   "source": [
    "We'll do the same for the holdout data:"
   ]
  },
  {
   "cell_type": "code",
   "execution_count": 25,
   "metadata": {},
   "outputs": [],
   "source": [
    "const ytest, Xtest = unpack(df_test, ==(:Churn), !=(:customerID));"
   ]
  },
  {
   "cell_type": "markdown",
   "metadata": {},
   "source": [
    "## Loading a model and checking type requirements"
   ]
  },
  {
   "cell_type": "markdown",
   "metadata": {},
   "source": [
    "> Introduces: `@load`, `input_scitype`, `target_scitype`"
   ]
  },
  {
   "cell_type": "markdown",
   "metadata": {},
   "source": [
    "For tools helping us to identify suitable models, see the [Model\n",
    "Search](https://alan-turing-institute.github.io/MLJ.jl/dev/model_search/#model_search)\n",
    "section of the manual. We will build a gradient tree-boosting model,\n",
    "a popular first choice for structured data like we have here. Model\n",
    "code is contained in a third-party package called\n",
    "[EvoTrees.jl](https://github.com/Evovest/EvoTrees.jl) which is\n",
    "loaded as follows:"
   ]
  },
  {
   "cell_type": "code",
   "execution_count": 26,
   "metadata": {},
   "outputs": [
    {
     "name": "stdout",
     "output_type": "stream",
     "text": [
      "import EvoTrees"
     ]
    },
    {
     "name": "stderr",
     "output_type": "stream",
     "text": [
      "┌ Info: For silent loading, specify `verbosity=0`. \n",
      "└ @ Main /Users/anthony/.julia/packages/MLJModels/EhaRK/src/loading.jl:168\n"
     ]
    },
    {
     "name": "stdout",
     "output_type": "stream",
     "text": [
      " ✔\n"
     ]
    },
    {
     "data": {
      "text/plain": [
       "EvoTrees.EvoTreeClassifier"
      ]
     },
     "execution_count": 26,
     "metadata": {},
     "output_type": "execute_result"
    }
   ],
   "source": [
    "Booster = @load EvoTreeClassifier pkg=EvoTrees"
   ]
  },
  {
   "cell_type": "markdown",
   "metadata": {},
   "source": [
    "Recall that a *model* is just a container for some algorithm's\n",
    "hyper-parameters. Let's create a `Booster` with default values for\n",
    "the hyper-parameters:"
   ]
  },
  {
   "cell_type": "code",
   "execution_count": 27,
   "metadata": {},
   "outputs": [
    {
     "data": {
      "text/plain": [
       "EvoTreeClassifier(\n",
       "    loss = EvoTrees.Softmax(),\n",
       "    nrounds = 10,\n",
       "    λ = 0.0,\n",
       "    γ = 0.0,\n",
       "    η = 0.1,\n",
       "    max_depth = 5,\n",
       "    min_weight = 1.0,\n",
       "    rowsample = 1.0,\n",
       "    colsample = 1.0,\n",
       "    nbins = 64,\n",
       "    α = 0.5,\n",
       "    metric = :mlogloss,\n",
       "    rng = MersenneTwister(123),\n",
       "    device = \"cpu\")"
      ]
     },
     "execution_count": 27,
     "metadata": {},
     "output_type": "execute_result"
    }
   ],
   "source": [
    "booster = Booster()"
   ]
  },
  {
   "cell_type": "markdown",
   "metadata": {},
   "source": [
    "This model is appropriate for the kind of target variable we have because of\n",
    "the following passing test:"
   ]
  },
  {
   "cell_type": "code",
   "execution_count": 28,
   "metadata": {},
   "outputs": [
    {
     "data": {
      "text/plain": [
       "true"
      ]
     },
     "execution_count": 28,
     "metadata": {},
     "output_type": "execute_result"
    }
   ],
   "source": [
    "scitype(y) <: target_scitype(booster)"
   ]
  },
  {
   "cell_type": "markdown",
   "metadata": {},
   "source": [
    "However, our features `X` cannot be directly used with `booster`:"
   ]
  },
  {
   "cell_type": "code",
   "execution_count": 29,
   "metadata": {},
   "outputs": [
    {
     "data": {
      "text/plain": [
       "false"
      ]
     },
     "execution_count": 29,
     "metadata": {},
     "output_type": "execute_result"
    }
   ],
   "source": [
    "scitype(X) <: input_scitype(booster)"
   ]
  },
  {
   "cell_type": "markdown",
   "metadata": {},
   "source": [
    "As it turns out, this is because `booster`, like the majority of MLJ\n",
    "supervised models, expects the features to be `Continuous`. (With\n",
    "some experience, this can be gleaned from `input_scitype(booster)`.)\n",
    "So we need categorical feature encoding, discussed next."
   ]
  },
  {
   "cell_type": "markdown",
   "metadata": {},
   "source": [
    "## Building a model pipeline to incorporate feature encoding"
   ]
  },
  {
   "cell_type": "markdown",
   "metadata": {},
   "source": [
    "> Introduces: `ContinuousEncoder`, pipeline operator `|>`"
   ]
  },
  {
   "cell_type": "markdown",
   "metadata": {},
   "source": [
    "The built-in `ContinuousEncoder` model transforms an arbitrary table\n",
    "to a table whose features are all `Continuous` (dropping any fields\n",
    "it does not know how to encode). In particular, all `Multiclass`\n",
    "features are one-hot encoded."
   ]
  },
  {
   "cell_type": "markdown",
   "metadata": {},
   "source": [
    "A *pipeline* is a stand-alone model that internally combines one or\n",
    "more models in a linear (non-branching) pipeline. Here's a pipeline\n",
    "that adds the `ContinuousEncoder` as a pre-processor to the\n",
    "gradient tree-boosting model above:"
   ]
  },
  {
   "cell_type": "code",
   "execution_count": 30,
   "metadata": {},
   "outputs": [
    {
     "data": {
      "text/plain": [
       "ProbabilisticPipeline(\n",
       "    continuous_encoder = ContinuousEncoder(\n",
       "            drop_last = false,\n",
       "            one_hot_ordered_factors = false),\n",
       "    evo_tree_classifier = EvoTreeClassifier(\n",
       "            loss = EvoTrees.Softmax(),\n",
       "            nrounds = 10,\n",
       "            λ = 0.0,\n",
       "            γ = 0.0,\n",
       "            η = 0.1,\n",
       "            max_depth = 5,\n",
       "            min_weight = 1.0,\n",
       "            rowsample = 1.0,\n",
       "            colsample = 1.0,\n",
       "            nbins = 64,\n",
       "            α = 0.5,\n",
       "            metric = :mlogloss,\n",
       "            rng = MersenneTwister(123),\n",
       "            device = \"cpu\"),\n",
       "    cache = true)"
      ]
     },
     "execution_count": 30,
     "metadata": {},
     "output_type": "execute_result"
    }
   ],
   "source": [
    "pipe = ContinuousEncoder() |> booster"
   ]
  },
  {
   "cell_type": "markdown",
   "metadata": {},
   "source": [
    "Note that the component models appear as hyper-parameters of\n",
    "`pipe`. Pipelines are an implementation of a more general [model\n",
    "composition](https://alan-turing-institute.github.io/MLJ.jl/dev/composing_models/#Composing-Models)\n",
    "interface provided by MLJ that advanced users may want to learn about."
   ]
  },
  {
   "cell_type": "markdown",
   "metadata": {},
   "source": [
    "From the above display, we see that component model hyper-parameters\n",
    "are now *nested*, but they are still accessible (important in hyper-parameter\n",
    "optimization):"
   ]
  },
  {
   "cell_type": "code",
   "execution_count": 31,
   "metadata": {},
   "outputs": [
    {
     "data": {
      "text/plain": [
       "5"
      ]
     },
     "execution_count": 31,
     "metadata": {},
     "output_type": "execute_result"
    }
   ],
   "source": [
    "pipe.evo_tree_classifier.max_depth"
   ]
  },
  {
   "cell_type": "markdown",
   "metadata": {},
   "source": [
    "## Evaluating the pipeline model's performance"
   ]
  },
  {
   "cell_type": "markdown",
   "metadata": {},
   "source": [
    "> Introduces: `measures` (function), **measures:** `brier_loss`, `auc`, `accuracy`;\n",
    "> `machine`, `fit!`, `predict`, `fitted_params`, `report`, `roc`, **resampling strategy** `StratifiedCV`, `evaluate`, `FeatureSelector`"
   ]
  },
  {
   "cell_type": "markdown",
   "metadata": {},
   "source": [
    "Without touching our test set `Xtest`, `ytest`, we will estimate the\n",
    "performance of our pipeline model, with default hyper-parameters, in\n",
    "two different ways:"
   ]
  },
  {
   "cell_type": "markdown",
   "metadata": {},
   "source": [
    "**Evaluating by hand.** First, we'll do this \"by hand\" using the `fit!` and `predict`\n",
    "workflow illustrated for the iris data set above, using a\n",
    "holdout resampling strategy. At the same time we'll see how to\n",
    "generate a **confusion matrix**, **ROC curve**, and inspect\n",
    "**feature importances**."
   ]
  },
  {
   "cell_type": "markdown",
   "metadata": {},
   "source": [
    "**Automated performance evaluation.** Next we'll apply the more\n",
    "typical and convenient `evaluate` workflow, but using `StratifiedCV`\n",
    "(stratified cross-validation) which is more informative."
   ]
  },
  {
   "cell_type": "markdown",
   "metadata": {},
   "source": [
    "In any case, we need to choose some measures (metrics) to quantify\n",
    "the performance of our model. For a complete list of measures, one\n",
    "does `measures()`. Or we also can do:"
   ]
  },
  {
   "cell_type": "code",
   "execution_count": 32,
   "metadata": {},
   "outputs": [
    {
     "data": {
      "text/plain": [
       "2-element Vector{NamedTuple{(:name, :instances, :human_name, :target_scitype, :supports_weights, :supports_class_weights, :prediction_type, :orientation, :reports_each_observation, :aggregation, :is_feature_dependent, :docstring, :distribution_type), T} where T<:Tuple}:\n",
       " (name = BrierLoss, instances = [brier_loss], ...)\n",
       " (name = BrierScore, instances = [brier_score], ...)"
      ]
     },
     "execution_count": 32,
     "metadata": {},
     "output_type": "execute_result"
    }
   ],
   "source": [
    "measures(\"Brier\")"
   ]
  },
  {
   "cell_type": "markdown",
   "metadata": {},
   "source": [
    "We will be primarily using `brier_loss`, but also `auc` (area under\n",
    "the ROC curve) and `accuracy`."
   ]
  },
  {
   "cell_type": "markdown",
   "metadata": {},
   "source": [
    "### Evaluating by hand (with a holdout set)"
   ]
  },
  {
   "cell_type": "markdown",
   "metadata": {},
   "source": [
    "Our pipeline model can be trained just like the decision tree model\n",
    "we built for the iris data set. Binding all non-test data to the\n",
    "pipeline model:"
   ]
  },
  {
   "cell_type": "code",
   "execution_count": 33,
   "metadata": {},
   "outputs": [
    {
     "data": {
      "text/plain": [
       "Machine{ProbabilisticPipeline{NamedTuple{,…},…},…} trained 0 times; caches data\n",
       "  model: MLJBase.ProbabilisticPipeline{NamedTuple{(:continuous_encoder, :evo_tree_classifier), Tuple{Unsupervised, Probabilistic}}, MLJModelInterface.predict}\n",
       "  args: \n",
       "    1:\tSource @903 ⏎ `Table{Union{AbstractVector{Continuous}, AbstractVector{Multiclass{2}}, AbstractVector{Multiclass{4}}, AbstractVector{Multiclass{3}}}}`\n",
       "    2:\tSource @192 ⏎ `AbstractVector{OrderedFactor{2}}`\n"
      ]
     },
     "execution_count": 33,
     "metadata": {},
     "output_type": "execute_result"
    }
   ],
   "source": [
    "mach_pipe = machine(pipe, X, y)"
   ]
  },
  {
   "cell_type": "markdown",
   "metadata": {},
   "source": [
    "We already encountered the `partition` method above. Here we apply\n",
    "it to row indices, instead of data containers, as `fit!` and\n",
    "`predict` only need a *view* of the data to work."
   ]
  },
  {
   "cell_type": "code",
   "execution_count": 34,
   "metadata": {},
   "outputs": [
    {
     "name": "stderr",
     "output_type": "stream",
     "text": [
      "┌ Info: Training Machine{ProbabilisticPipeline{NamedTuple{,…},…},…}.\n",
      "└ @ MLJBase /Users/anthony/.julia/packages/MLJBase/pCiRR/src/machines.jl:464\n",
      "┌ Info: Training Machine{ContinuousEncoder,…}.\n",
      "└ @ MLJBase /Users/anthony/.julia/packages/MLJBase/pCiRR/src/machines.jl:464\n",
      "┌ Info: Training Machine{EvoTreeClassifier{Float64,…},…}.\n",
      "└ @ MLJBase /Users/anthony/.julia/packages/MLJBase/pCiRR/src/machines.jl:464\n"
     ]
    },
    {
     "data": {
      "text/plain": [
       "Machine{ProbabilisticPipeline{NamedTuple{,…},…},…} trained 1 time; caches data\n",
       "  model: MLJBase.ProbabilisticPipeline{NamedTuple{(:continuous_encoder, :evo_tree_classifier), Tuple{Unsupervised, Probabilistic}}, MLJModelInterface.predict}\n",
       "  args: \n",
       "    1:\tSource @903 ⏎ `Table{Union{AbstractVector{Continuous}, AbstractVector{Multiclass{2}}, AbstractVector{Multiclass{4}}, AbstractVector{Multiclass{3}}}}`\n",
       "    2:\tSource @192 ⏎ `AbstractVector{OrderedFactor{2}}`\n"
      ]
     },
     "execution_count": 34,
     "metadata": {},
     "output_type": "execute_result"
    }
   ],
   "source": [
    "train, validation = partition(1:length(y), 0.7)\n",
    "fit!(mach_pipe, rows=train)"
   ]
  },
  {
   "cell_type": "markdown",
   "metadata": {},
   "source": [
    "We note in passing that we can access two kinds of information from a trained machine:"
   ]
  },
  {
   "cell_type": "markdown",
   "metadata": {},
   "source": [
    "- The **learned parameters** (eg, coefficients of a linear model): We use `fitted_params(mach_pipe)`\n",
    "- Other **by-products of training** (eg, feature importances): We use `report(mach_pipe)`"
   ]
  },
  {
   "cell_type": "code",
   "execution_count": 35,
   "metadata": {},
   "outputs": [
    {
     "data": {
      "text/plain": [
       "(:evo_tree_classifier, :continuous_encoder, :machines, :fitted_params_given_machine)"
      ]
     },
     "execution_count": 35,
     "metadata": {},
     "output_type": "execute_result"
    }
   ],
   "source": [
    "fp = fitted_params(mach_pipe);\n",
    "keys(fp)"
   ]
  },
  {
   "cell_type": "markdown",
   "metadata": {},
   "source": [
    "For example, we can check that the encoder did not actually drop any features:"
   ]
  },
  {
   "cell_type": "code",
   "execution_count": 36,
   "metadata": {},
   "outputs": [
    {
     "data": {
      "text/plain": [
       "true"
      ]
     },
     "execution_count": 36,
     "metadata": {},
     "output_type": "execute_result"
    }
   ],
   "source": [
    "Set(fp.continuous_encoder.features_to_keep) == Set(schema(X).names)"
   ]
  },
  {
   "cell_type": "markdown",
   "metadata": {},
   "source": [
    "And, from the report, extract feature importances:"
   ]
  },
  {
   "cell_type": "code",
   "execution_count": 37,
   "metadata": {},
   "outputs": [
    {
     "data": {
      "text/plain": [
       "(:feature_importances,)"
      ]
     },
     "execution_count": 37,
     "metadata": {},
     "output_type": "execute_result"
    }
   ],
   "source": [
    "rpt = report(mach_pipe)\n",
    "keys(rpt.evo_tree_classifier)"
   ]
  },
  {
   "cell_type": "code",
   "execution_count": 38,
   "metadata": {},
   "outputs": [
    {
     "data": {
      "text/html": [
       "<div class=\"data-frame\"><p>45 rows × 2 columns</p><table class=\"data-frame\"><thead><tr><th></th><th>feature</th><th>importance</th></tr><tr><th></th><th title=\"Symbol\">Symbol</th><th title=\"Float64\">Float64</th></tr></thead><tbody><tr><th>1</th><td>tenure</td><td>0.339006</td></tr><tr><th>2</th><td>MonthlyCharges</td><td>0.179065</td></tr><tr><th>3</th><td>Contract__Month-to-month</td><td>0.143517</td></tr><tr><th>4</th><td>TotalCharges</td><td>0.0808519</td></tr><tr><th>5</th><td>PaymentMethod__Bank transfer (automatic)</td><td>0.0332562</td></tr><tr><th>6</th><td>SeniorCitizen</td><td>0.0327449</td></tr><tr><th>7</th><td>TechSupport__No</td><td>0.0301126</td></tr><tr><th>8</th><td>PaperlessBilling__No</td><td>0.0271853</td></tr><tr><th>9</th><td>StreamingMovies__Yes</td><td>0.0182164</td></tr><tr><th>10</th><td>Dependents__No</td><td>0.017089</td></tr><tr><th>11</th><td>PaperlessBilling__Yes</td><td>0.0135949</td></tr><tr><th>12</th><td>gender__Female</td><td>0.0122897</td></tr><tr><th>13</th><td>DeviceProtection__No</td><td>0.00952897</td></tr><tr><th>14</th><td>Dependents__Yes</td><td>0.00872813</td></tr><tr><th>15</th><td>OnlineBackup__Yes</td><td>0.0077387</td></tr><tr><th>16</th><td>StreamingMovies__No</td><td>0.00751297</td></tr><tr><th>17</th><td>TechSupport__Yes</td><td>0.00745764</td></tr><tr><th>18</th><td>OnlineSecurity__No</td><td>0.00729202</td></tr><tr><th>19</th><td>DeviceProtection__Yes</td><td>0.00673942</td></tr><tr><th>20</th><td>Partner__Yes</td><td>0.00659092</td></tr><tr><th>21</th><td>OnlineBackup__No</td><td>0.00436309</td></tr><tr><th>22</th><td>Partner__No</td><td>0.00271873</td></tr><tr><th>23</th><td>Contract__Two year</td><td>0.0014937</td></tr><tr><th>24</th><td>Contract__One year</td><td>0.00143396</td></tr><tr><th>25</th><td>gender__Male</td><td>0.00139943</td></tr><tr><th>26</th><td>InternetService__DSL</td><td>7.35606e-5</td></tr><tr><th>27</th><td>OnlineSecurity__No internet service</td><td>0.0</td></tr><tr><th>28</th><td>PaymentMethod__Mailed check</td><td>0.0</td></tr><tr><th>29</th><td>PaymentMethod__Electronic check</td><td>0.0</td></tr><tr><th>30</th><td>OnlineSecurity__Yes</td><td>0.0</td></tr><tr><th>&vellip;</th><td>&vellip;</td><td>&vellip;</td></tr></tbody></table></div>"
      ],
      "text/latex": [
       "\\begin{tabular}{r|cc}\n",
       "\t& feature & importance\\\\\n",
       "\t\\hline\n",
       "\t& Symbol & Float64\\\\\n",
       "\t\\hline\n",
       "\t1 & tenure & 0.339006 \\\\\n",
       "\t2 & MonthlyCharges & 0.179065 \\\\\n",
       "\t3 & Contract\\_\\_Month-to-month & 0.143517 \\\\\n",
       "\t4 & TotalCharges & 0.0808519 \\\\\n",
       "\t5 & PaymentMethod\\_\\_Bank transfer (automatic) & 0.0332562 \\\\\n",
       "\t6 & SeniorCitizen & 0.0327449 \\\\\n",
       "\t7 & TechSupport\\_\\_No & 0.0301126 \\\\\n",
       "\t8 & PaperlessBilling\\_\\_No & 0.0271853 \\\\\n",
       "\t9 & StreamingMovies\\_\\_Yes & 0.0182164 \\\\\n",
       "\t10 & Dependents\\_\\_No & 0.017089 \\\\\n",
       "\t11 & PaperlessBilling\\_\\_Yes & 0.0135949 \\\\\n",
       "\t12 & gender\\_\\_Female & 0.0122897 \\\\\n",
       "\t13 & DeviceProtection\\_\\_No & 0.00952897 \\\\\n",
       "\t14 & Dependents\\_\\_Yes & 0.00872813 \\\\\n",
       "\t15 & OnlineBackup\\_\\_Yes & 0.0077387 \\\\\n",
       "\t16 & StreamingMovies\\_\\_No & 0.00751297 \\\\\n",
       "\t17 & TechSupport\\_\\_Yes & 0.00745764 \\\\\n",
       "\t18 & OnlineSecurity\\_\\_No & 0.00729202 \\\\\n",
       "\t19 & DeviceProtection\\_\\_Yes & 0.00673942 \\\\\n",
       "\t20 & Partner\\_\\_Yes & 0.00659092 \\\\\n",
       "\t21 & OnlineBackup\\_\\_No & 0.00436309 \\\\\n",
       "\t22 & Partner\\_\\_No & 0.00271873 \\\\\n",
       "\t23 & Contract\\_\\_Two year & 0.0014937 \\\\\n",
       "\t24 & Contract\\_\\_One year & 0.00143396 \\\\\n",
       "\t25 & gender\\_\\_Male & 0.00139943 \\\\\n",
       "\t26 & InternetService\\_\\_DSL & 7.35606e-5 \\\\\n",
       "\t27 & OnlineSecurity\\_\\_No internet service & 0.0 \\\\\n",
       "\t28 & PaymentMethod\\_\\_Mailed check & 0.0 \\\\\n",
       "\t29 & PaymentMethod\\_\\_Electronic check & 0.0 \\\\\n",
       "\t30 & OnlineSecurity\\_\\_Yes & 0.0 \\\\\n",
       "\t$\\dots$ & $\\dots$ & $\\dots$ \\\\\n",
       "\\end{tabular}\n"
      ],
      "text/plain": [
       "\u001b[1m45×2 DataFrame\u001b[0m\n",
       "\u001b[1m Row \u001b[0m│\u001b[1m feature                           \u001b[0m\u001b[1m importance \u001b[0m\n",
       "\u001b[1m     \u001b[0m│\u001b[90m Symbol                            \u001b[0m\u001b[90m Float64    \u001b[0m\n",
       "─────┼───────────────────────────────────────────────\n",
       "   1 │ tenure                             0.339006\n",
       "   2 │ MonthlyCharges                     0.179065\n",
       "   3 │ Contract__Month-to-month           0.143517\n",
       "   4 │ TotalCharges                       0.0808519\n",
       "   5 │ PaymentMethod__Bank transfer (au…  0.0332562\n",
       "   6 │ SeniorCitizen                      0.0327449\n",
       "   7 │ TechSupport__No                    0.0301126\n",
       "   8 │ PaperlessBilling__No               0.0271853\n",
       "   9 │ StreamingMovies__Yes               0.0182164\n",
       "  10 │ Dependents__No                     0.017089\n",
       "  11 │ PaperlessBilling__Yes              0.0135949\n",
       "  ⋮  │                 ⋮                      ⋮\n",
       "  36 │ PhoneService__Yes                  0.0\n",
       "  37 │ DeviceProtection__No internet se…  0.0\n",
       "  38 │ StreamingTV__No internet service   0.0\n",
       "  39 │ StreamingMovies__No internet ser…  0.0\n",
       "  40 │ TechSupport__No internet service   0.0\n",
       "  41 │ StreamingTV__No                    0.0\n",
       "  42 │ MultipleLines__No                  0.0\n",
       "  43 │ PaymentMethod__Credit card (auto…  0.0\n",
       "  44 │ MultipleLines__Yes                 0.0\n",
       "  45 │ MultipleLines__No phone service    0.0\n",
       "\u001b[36m                                      24 rows omitted\u001b[0m"
      ]
     },
     "execution_count": 38,
     "metadata": {},
     "output_type": "execute_result"
    }
   ],
   "source": [
    "fi = rpt.evo_tree_classifier.feature_importances\n",
    "feature_importance_table =\n",
    "    (feature=Symbol.(first.(fi)), importance=last.(fi)) |> DataFrames.DataFrame"
   ]
  },
  {
   "cell_type": "markdown",
   "metadata": {},
   "source": [
    "For models not reporting feature importances, we recommend the\n",
    "[Shapley.jl](https://expandingman.gitlab.io/Shapley.jl/) package."
   ]
  },
  {
   "cell_type": "markdown",
   "metadata": {},
   "source": [
    "Returning to predictions and evaluations of our measures:"
   ]
  },
  {
   "cell_type": "code",
   "execution_count": 39,
   "metadata": {},
   "outputs": [
    {
     "name": "stderr",
     "output_type": "stream",
     "text": [
      "┌ Info: Measurements\n",
      "│   brier_loss(ŷ, y[validation]) |> mean = 0.2700436048904324\n",
      "│   auc(ŷ, y[validation]) = 0.8350461133069829\n",
      "│   accuracy(mode.(ŷ), y[validation]) = 0.8108108108108107\n",
      "└ @ Main In[39]:2\n"
     ]
    }
   ],
   "source": [
    "ŷ = predict(mach_pipe, rows=validation);\n",
    "@info(\"Measurements\",\n",
    "      brier_loss(ŷ, y[validation]) |> mean,\n",
    "      auc(ŷ, y[validation]),\n",
    "      accuracy(mode.(ŷ), y[validation])\n",
    "      )"
   ]
  },
  {
   "cell_type": "markdown",
   "metadata": {},
   "source": [
    "Note that we need `mode` in the last case because `accuracy` expects\n",
    "point predictions, not probabilistic ones. (One can alternatively\n",
    "use `predict_mode` to generate the predictions.)"
   ]
  },
  {
   "cell_type": "markdown",
   "metadata": {},
   "source": [
    "While we're here, lets also generate a **confusion matrix** and\n",
    "[receiver-operator\n",
    "characteristic](https://en.wikipedia.org/wiki/Receiver_operating_characteristic)\n",
    "(ROC):"
   ]
  },
  {
   "cell_type": "code",
   "execution_count": 40,
   "metadata": {},
   "outputs": [
    {
     "data": {
      "text/plain": [
       "              ┌───────────────────────────┐\n",
       "              │       Ground Truth        │\n",
       "┌─────────────┼─────────────┬─────────────┤\n",
       "│  Predicted  │     No      │     Yes     │\n",
       "├─────────────┼─────────────┼─────────────┤\n",
       "│     No      │     101     │     14      │\n",
       "├─────────────┼─────────────┼─────────────┤\n",
       "│     Yes     │     14      │     19      │\n",
       "└─────────────┴─────────────┴─────────────┘\n"
      ]
     },
     "execution_count": 40,
     "metadata": {},
     "output_type": "execute_result"
    }
   ],
   "source": [
    "confmat(mode.(ŷ), y[validation])"
   ]
  },
  {
   "cell_type": "markdown",
   "metadata": {},
   "source": [
    "Note: Importing the plotting package and calling the plotting\n",
    "functions for the first time can take a minute or so."
   ]
  },
  {
   "cell_type": "code",
   "execution_count": 41,
   "metadata": {},
   "outputs": [
    {
     "name": "stderr",
     "output_type": "stream",
     "text": [
      "┌ Info: Precompiling Plots [91a5bcdd-55d7-5caf-9e0b-520d859cae80]\n",
      "└ @ Base loading.jl:1342\n"
     ]
    }
   ],
   "source": [
    "using Plots"
   ]
  },
  {
   "cell_type": "code",
   "execution_count": 42,
   "metadata": {},
   "outputs": [
    {
     "name": "stderr",
     "output_type": "stream",
     "text": [
      "┌ Info: Precompiling GR_jll [d2c73de3-f751-5644-a686-071e5b155ba9]\n",
      "└ @ Base loading.jl:1342\n"
     ]
    },
    {
     "data": {
      "image/svg+xml": [
       "<?xml version=\"1.0\" encoding=\"utf-8\"?>\n",
       "<svg xmlns=\"http://www.w3.org/2000/svg\" xmlns:xlink=\"http://www.w3.org/1999/xlink\" width=\"600\" height=\"400\" viewBox=\"0 0 2400 1600\">\n",
       "<defs>\n",
       "  <clipPath id=\"clip250\">\n",
       "    <rect x=\"0\" y=\"0\" width=\"2400\" height=\"1600\"/>\n",
       "  </clipPath>\n",
       "</defs>\n",
       "<path clip-path=\"url(#clip250)\" d=\"\n",
       "M0 1600 L2400 1600 L2400 0 L0 0  Z\n",
       "  \" fill=\"#ffffff\" fill-rule=\"evenodd\" fill-opacity=\"1\"/>\n",
       "<defs>\n",
       "  <clipPath id=\"clip251\">\n",
       "    <rect x=\"480\" y=\"0\" width=\"1681\" height=\"1600\"/>\n",
       "  </clipPath>\n",
       "</defs>\n",
       "<path clip-path=\"url(#clip250)\" d=\"\n",
       "M249.542 1423.18 L2352.76 1423.18 L2352.76 47.2441 L249.542 47.2441  Z\n",
       "  \" fill=\"#ffffff\" fill-rule=\"evenodd\" fill-opacity=\"1\"/>\n",
       "<defs>\n",
       "  <clipPath id=\"clip252\">\n",
       "    <rect x=\"249\" y=\"47\" width=\"2104\" height=\"1377\"/>\n",
       "  </clipPath>\n",
       "</defs>\n",
       "<polyline clip-path=\"url(#clip252)\" style=\"stroke:#000000; stroke-linecap:butt; stroke-linejoin:round; stroke-width:2; stroke-opacity:0.1; fill:none\" points=\"\n",
       "  309.067,1423.18 309.067,47.2441 \n",
       "  \"/>\n",
       "<polyline clip-path=\"url(#clip252)\" style=\"stroke:#000000; stroke-linecap:butt; stroke-linejoin:round; stroke-width:2; stroke-opacity:0.1; fill:none\" points=\"\n",
       "  805.108,1423.18 805.108,47.2441 \n",
       "  \"/>\n",
       "<polyline clip-path=\"url(#clip252)\" style=\"stroke:#000000; stroke-linecap:butt; stroke-linejoin:round; stroke-width:2; stroke-opacity:0.1; fill:none\" points=\"\n",
       "  1301.15,1423.18 1301.15,47.2441 \n",
       "  \"/>\n",
       "<polyline clip-path=\"url(#clip252)\" style=\"stroke:#000000; stroke-linecap:butt; stroke-linejoin:round; stroke-width:2; stroke-opacity:0.1; fill:none\" points=\"\n",
       "  1797.19,1423.18 1797.19,47.2441 \n",
       "  \"/>\n",
       "<polyline clip-path=\"url(#clip252)\" style=\"stroke:#000000; stroke-linecap:butt; stroke-linejoin:round; stroke-width:2; stroke-opacity:0.1; fill:none\" points=\"\n",
       "  2293.23,1423.18 2293.23,47.2441 \n",
       "  \"/>\n",
       "<polyline clip-path=\"url(#clip250)\" style=\"stroke:#000000; stroke-linecap:butt; stroke-linejoin:round; stroke-width:4; stroke-opacity:1; fill:none\" points=\"\n",
       "  249.542,1423.18 2352.76,1423.18 \n",
       "  \"/>\n",
       "<polyline clip-path=\"url(#clip250)\" style=\"stroke:#000000; stroke-linecap:butt; stroke-linejoin:round; stroke-width:4; stroke-opacity:1; fill:none\" points=\"\n",
       "  309.067,1423.18 309.067,1404.28 \n",
       "  \"/>\n",
       "<polyline clip-path=\"url(#clip250)\" style=\"stroke:#000000; stroke-linecap:butt; stroke-linejoin:round; stroke-width:4; stroke-opacity:1; fill:none\" points=\"\n",
       "  805.108,1423.18 805.108,1404.28 \n",
       "  \"/>\n",
       "<polyline clip-path=\"url(#clip250)\" style=\"stroke:#000000; stroke-linecap:butt; stroke-linejoin:round; stroke-width:4; stroke-opacity:1; fill:none\" points=\"\n",
       "  1301.15,1423.18 1301.15,1404.28 \n",
       "  \"/>\n",
       "<polyline clip-path=\"url(#clip250)\" style=\"stroke:#000000; stroke-linecap:butt; stroke-linejoin:round; stroke-width:4; stroke-opacity:1; fill:none\" points=\"\n",
       "  1797.19,1423.18 1797.19,1404.28 \n",
       "  \"/>\n",
       "<polyline clip-path=\"url(#clip250)\" style=\"stroke:#000000; stroke-linecap:butt; stroke-linejoin:round; stroke-width:4; stroke-opacity:1; fill:none\" points=\"\n",
       "  2293.23,1423.18 2293.23,1404.28 \n",
       "  \"/>\n",
       "<path clip-path=\"url(#clip250)\" d=\"M271.37 1454.1 Q267.759 1454.1 265.931 1457.66 Q264.125 1461.2 264.125 1468.33 Q264.125 1475.44 265.931 1479.01 Q267.759 1482.55 271.37 1482.55 Q275.005 1482.55 276.81 1479.01 Q278.639 1475.44 278.639 1468.33 Q278.639 1461.2 276.81 1457.66 Q275.005 1454.1 271.37 1454.1 M271.37 1450.39 Q277.181 1450.39 280.236 1455 Q283.315 1459.58 283.315 1468.33 Q283.315 1477.06 280.236 1481.67 Q277.181 1486.25 271.37 1486.25 Q265.56 1486.25 262.482 1481.67 Q259.426 1477.06 259.426 1468.33 Q259.426 1459.58 262.482 1455 Q265.56 1450.39 271.37 1450.39 Z\" fill=\"#000000\" fill-rule=\"evenodd\" fill-opacity=\"1\" /><path clip-path=\"url(#clip250)\" d=\"M291.532 1479.7 L296.417 1479.7 L296.417 1485.58 L291.532 1485.58 L291.532 1479.7 Z\" fill=\"#000000\" fill-rule=\"evenodd\" fill-opacity=\"1\" /><path clip-path=\"url(#clip250)\" d=\"M316.602 1454.1 Q312.991 1454.1 311.162 1457.66 Q309.356 1461.2 309.356 1468.33 Q309.356 1475.44 311.162 1479.01 Q312.991 1482.55 316.602 1482.55 Q320.236 1482.55 322.041 1479.01 Q323.87 1475.44 323.87 1468.33 Q323.87 1461.2 322.041 1457.66 Q320.236 1454.1 316.602 1454.1 M316.602 1450.39 Q322.412 1450.39 325.467 1455 Q328.546 1459.58 328.546 1468.33 Q328.546 1477.06 325.467 1481.67 Q322.412 1486.25 316.602 1486.25 Q310.791 1486.25 307.713 1481.67 Q304.657 1477.06 304.657 1468.33 Q304.657 1459.58 307.713 1455 Q310.791 1450.39 316.602 1450.39 Z\" fill=\"#000000\" fill-rule=\"evenodd\" fill-opacity=\"1\" /><path clip-path=\"url(#clip250)\" d=\"M346.764 1454.1 Q343.152 1454.1 341.324 1457.66 Q339.518 1461.2 339.518 1468.33 Q339.518 1475.44 341.324 1479.01 Q343.152 1482.55 346.764 1482.55 Q350.398 1482.55 352.203 1479.01 Q354.032 1475.44 354.032 1468.33 Q354.032 1461.2 352.203 1457.66 Q350.398 1454.1 346.764 1454.1 M346.764 1450.39 Q352.574 1450.39 355.629 1455 Q358.708 1459.58 358.708 1468.33 Q358.708 1477.06 355.629 1481.67 Q352.574 1486.25 346.764 1486.25 Q340.953 1486.25 337.875 1481.67 Q334.819 1477.06 334.819 1468.33 Q334.819 1459.58 337.875 1455 Q340.953 1450.39 346.764 1450.39 Z\" fill=\"#000000\" fill-rule=\"evenodd\" fill-opacity=\"1\" /><path clip-path=\"url(#clip250)\" d=\"M767.909 1454.1 Q764.298 1454.1 762.469 1457.66 Q760.664 1461.2 760.664 1468.33 Q760.664 1475.44 762.469 1479.01 Q764.298 1482.55 767.909 1482.55 Q771.543 1482.55 773.349 1479.01 Q775.178 1475.44 775.178 1468.33 Q775.178 1461.2 773.349 1457.66 Q771.543 1454.1 767.909 1454.1 M767.909 1450.39 Q773.719 1450.39 776.775 1455 Q779.853 1459.58 779.853 1468.33 Q779.853 1477.06 776.775 1481.67 Q773.719 1486.25 767.909 1486.25 Q762.099 1486.25 759.02 1481.67 Q755.965 1477.06 755.965 1468.33 Q755.965 1459.58 759.02 1455 Q762.099 1450.39 767.909 1450.39 Z\" fill=\"#000000\" fill-rule=\"evenodd\" fill-opacity=\"1\" /><path clip-path=\"url(#clip250)\" d=\"M788.071 1479.7 L792.955 1479.7 L792.955 1485.58 L788.071 1485.58 L788.071 1479.7 Z\" fill=\"#000000\" fill-rule=\"evenodd\" fill-opacity=\"1\" /><path clip-path=\"url(#clip250)\" d=\"M807.168 1481.64 L823.487 1481.64 L823.487 1485.58 L801.543 1485.58 L801.543 1481.64 Q804.205 1478.89 808.788 1474.26 Q813.395 1469.61 814.576 1468.27 Q816.821 1465.74 817.7 1464.01 Q818.603 1462.25 818.603 1460.56 Q818.603 1457.8 816.659 1456.07 Q814.738 1454.33 811.636 1454.33 Q809.437 1454.33 806.983 1455.09 Q804.552 1455.86 801.775 1457.41 L801.775 1452.69 Q804.599 1451.55 807.052 1450.97 Q809.506 1450.39 811.543 1450.39 Q816.913 1450.39 820.108 1453.08 Q823.302 1455.77 823.302 1460.26 Q823.302 1462.39 822.492 1464.31 Q821.705 1466.2 819.599 1468.8 Q819.02 1469.47 815.918 1472.69 Q812.816 1475.88 807.168 1481.64 Z\" fill=\"#000000\" fill-rule=\"evenodd\" fill-opacity=\"1\" /><path clip-path=\"url(#clip250)\" d=\"M833.349 1451.02 L851.705 1451.02 L851.705 1454.96 L837.631 1454.96 L837.631 1463.43 Q838.649 1463.08 839.668 1462.92 Q840.686 1462.73 841.705 1462.73 Q847.492 1462.73 850.872 1465.9 Q854.251 1469.08 854.251 1474.49 Q854.251 1480.07 850.779 1483.17 Q847.307 1486.25 840.987 1486.25 Q838.811 1486.25 836.543 1485.88 Q834.298 1485.51 831.89 1484.77 L831.89 1480.07 Q833.974 1481.2 836.196 1481.76 Q838.418 1482.32 840.895 1482.32 Q844.899 1482.32 847.237 1480.21 Q849.575 1478.1 849.575 1474.49 Q849.575 1470.88 847.237 1468.77 Q844.899 1466.67 840.895 1466.67 Q839.02 1466.67 837.145 1467.08 Q835.293 1467.5 833.349 1468.38 L833.349 1451.02 Z\" fill=\"#000000\" fill-rule=\"evenodd\" fill-opacity=\"1\" /><path clip-path=\"url(#clip250)\" d=\"M1263.45 1454.1 Q1259.84 1454.1 1258.01 1457.66 Q1256.21 1461.2 1256.21 1468.33 Q1256.21 1475.44 1258.01 1479.01 Q1259.84 1482.55 1263.45 1482.55 Q1267.09 1482.55 1268.89 1479.01 Q1270.72 1475.44 1270.72 1468.33 Q1270.72 1461.2 1268.89 1457.66 Q1267.09 1454.1 1263.45 1454.1 M1263.45 1450.39 Q1269.26 1450.39 1272.32 1455 Q1275.4 1459.58 1275.4 1468.33 Q1275.4 1477.06 1272.32 1481.67 Q1269.26 1486.25 1263.45 1486.25 Q1257.64 1486.25 1254.56 1481.67 Q1251.51 1477.06 1251.51 1468.33 Q1251.51 1459.58 1254.56 1455 Q1257.64 1450.39 1263.45 1450.39 Z\" fill=\"#000000\" fill-rule=\"evenodd\" fill-opacity=\"1\" /><path clip-path=\"url(#clip250)\" d=\"M1283.61 1479.7 L1288.5 1479.7 L1288.5 1485.58 L1283.61 1485.58 L1283.61 1479.7 Z\" fill=\"#000000\" fill-rule=\"evenodd\" fill-opacity=\"1\" /><path clip-path=\"url(#clip250)\" d=\"M1298.73 1451.02 L1317.09 1451.02 L1317.09 1454.96 L1303.01 1454.96 L1303.01 1463.43 Q1304.03 1463.08 1305.05 1462.92 Q1306.07 1462.73 1307.09 1462.73 Q1312.87 1462.73 1316.25 1465.9 Q1319.63 1469.08 1319.63 1474.49 Q1319.63 1480.07 1316.16 1483.17 Q1312.69 1486.25 1306.37 1486.25 Q1304.19 1486.25 1301.92 1485.88 Q1299.68 1485.51 1297.27 1484.77 L1297.27 1480.07 Q1299.35 1481.2 1301.58 1481.76 Q1303.8 1482.32 1306.28 1482.32 Q1310.28 1482.32 1312.62 1480.21 Q1314.96 1478.1 1314.96 1474.49 Q1314.96 1470.88 1312.62 1468.77 Q1310.28 1466.67 1306.28 1466.67 Q1304.4 1466.67 1302.53 1467.08 Q1300.67 1467.5 1298.73 1468.38 L1298.73 1451.02 Z\" fill=\"#000000\" fill-rule=\"evenodd\" fill-opacity=\"1\" /><path clip-path=\"url(#clip250)\" d=\"M1338.85 1454.1 Q1335.23 1454.1 1333.41 1457.66 Q1331.6 1461.2 1331.6 1468.33 Q1331.6 1475.44 1333.41 1479.01 Q1335.23 1482.55 1338.85 1482.55 Q1342.48 1482.55 1344.29 1479.01 Q1346.11 1475.44 1346.11 1468.33 Q1346.11 1461.2 1344.29 1457.66 Q1342.48 1454.1 1338.85 1454.1 M1338.85 1450.39 Q1344.66 1450.39 1347.71 1455 Q1350.79 1459.58 1350.79 1468.33 Q1350.79 1477.06 1347.71 1481.67 Q1344.66 1486.25 1338.85 1486.25 Q1333.04 1486.25 1329.96 1481.67 Q1326.9 1477.06 1326.9 1468.33 Q1326.9 1459.58 1329.96 1455 Q1333.04 1450.39 1338.85 1450.39 Z\" fill=\"#000000\" fill-rule=\"evenodd\" fill-opacity=\"1\" /><path clip-path=\"url(#clip250)\" d=\"M1759.99 1454.1 Q1756.38 1454.1 1754.55 1457.66 Q1752.75 1461.2 1752.75 1468.33 Q1752.75 1475.44 1754.55 1479.01 Q1756.38 1482.55 1759.99 1482.55 Q1763.63 1482.55 1765.43 1479.01 Q1767.26 1475.44 1767.26 1468.33 Q1767.26 1461.2 1765.43 1457.66 Q1763.63 1454.1 1759.99 1454.1 M1759.99 1450.39 Q1765.8 1450.39 1768.86 1455 Q1771.94 1459.58 1771.94 1468.33 Q1771.94 1477.06 1768.86 1481.67 Q1765.8 1486.25 1759.99 1486.25 Q1754.18 1486.25 1751.1 1481.67 Q1748.05 1477.06 1748.05 1468.33 Q1748.05 1459.58 1751.1 1455 Q1754.18 1450.39 1759.99 1450.39 Z\" fill=\"#000000\" fill-rule=\"evenodd\" fill-opacity=\"1\" /><path clip-path=\"url(#clip250)\" d=\"M1780.15 1479.7 L1785.04 1479.7 L1785.04 1485.58 L1780.15 1485.58 L1780.15 1479.7 Z\" fill=\"#000000\" fill-rule=\"evenodd\" fill-opacity=\"1\" /><path clip-path=\"url(#clip250)\" d=\"M1794.04 1451.02 L1816.26 1451.02 L1816.26 1453.01 L1803.72 1485.58 L1798.83 1485.58 L1810.64 1454.96 L1794.04 1454.96 L1794.04 1451.02 Z\" fill=\"#000000\" fill-rule=\"evenodd\" fill-opacity=\"1\" /><path clip-path=\"url(#clip250)\" d=\"M1825.43 1451.02 L1843.79 1451.02 L1843.79 1454.96 L1829.71 1454.96 L1829.71 1463.43 Q1830.73 1463.08 1831.75 1462.92 Q1832.77 1462.73 1833.79 1462.73 Q1839.57 1462.73 1842.95 1465.9 Q1846.33 1469.08 1846.33 1474.49 Q1846.33 1480.07 1842.86 1483.17 Q1839.39 1486.25 1833.07 1486.25 Q1830.89 1486.25 1828.62 1485.88 Q1826.38 1485.51 1823.97 1484.77 L1823.97 1480.07 Q1826.06 1481.2 1828.28 1481.76 Q1830.5 1482.32 1832.98 1482.32 Q1836.98 1482.32 1839.32 1480.21 Q1841.66 1478.1 1841.66 1474.49 Q1841.66 1470.88 1839.32 1468.77 Q1836.98 1466.67 1832.98 1466.67 Q1831.1 1466.67 1829.23 1467.08 Q1827.38 1467.5 1825.43 1468.38 L1825.43 1451.02 Z\" fill=\"#000000\" fill-rule=\"evenodd\" fill-opacity=\"1\" /><path clip-path=\"url(#clip250)\" d=\"M2245.3 1481.64 L2252.94 1481.64 L2252.94 1455.28 L2244.63 1456.95 L2244.63 1452.69 L2252.9 1451.02 L2257.57 1451.02 L2257.57 1481.64 L2265.21 1481.64 L2265.21 1485.58 L2245.3 1485.58 L2245.3 1481.64 Z\" fill=\"#000000\" fill-rule=\"evenodd\" fill-opacity=\"1\" /><path clip-path=\"url(#clip250)\" d=\"M2274.65 1479.7 L2279.54 1479.7 L2279.54 1485.58 L2274.65 1485.58 L2274.65 1479.7 Z\" fill=\"#000000\" fill-rule=\"evenodd\" fill-opacity=\"1\" /><path clip-path=\"url(#clip250)\" d=\"M2299.72 1454.1 Q2296.11 1454.1 2294.28 1457.66 Q2292.48 1461.2 2292.48 1468.33 Q2292.48 1475.44 2294.28 1479.01 Q2296.11 1482.55 2299.72 1482.55 Q2303.36 1482.55 2305.16 1479.01 Q2306.99 1475.44 2306.99 1468.33 Q2306.99 1461.2 2305.16 1457.66 Q2303.36 1454.1 2299.72 1454.1 M2299.72 1450.39 Q2305.53 1450.39 2308.59 1455 Q2311.67 1459.58 2311.67 1468.33 Q2311.67 1477.06 2308.59 1481.67 Q2305.53 1486.25 2299.72 1486.25 Q2293.91 1486.25 2290.84 1481.67 Q2287.78 1477.06 2287.78 1468.33 Q2287.78 1459.58 2290.84 1455 Q2293.91 1450.39 2299.72 1450.39 Z\" fill=\"#000000\" fill-rule=\"evenodd\" fill-opacity=\"1\" /><path clip-path=\"url(#clip250)\" d=\"M2329.89 1454.1 Q2326.27 1454.1 2324.45 1457.66 Q2322.64 1461.2 2322.64 1468.33 Q2322.64 1475.44 2324.45 1479.01 Q2326.27 1482.55 2329.89 1482.55 Q2333.52 1482.55 2335.33 1479.01 Q2337.15 1475.44 2337.15 1468.33 Q2337.15 1461.2 2335.33 1457.66 Q2333.52 1454.1 2329.89 1454.1 M2329.89 1450.39 Q2335.7 1450.39 2338.75 1455 Q2341.83 1459.58 2341.83 1468.33 Q2341.83 1477.06 2338.75 1481.67 Q2335.7 1486.25 2329.89 1486.25 Q2324.08 1486.25 2321 1481.67 Q2317.94 1477.06 2317.94 1468.33 Q2317.94 1459.58 2321 1455 Q2324.08 1450.39 2329.89 1450.39 Z\" fill=\"#000000\" fill-rule=\"evenodd\" fill-opacity=\"1\" /><path clip-path=\"url(#clip250)\" d=\"M1034.03 1518.52 L1034.03 1523.39 L1028.43 1523.39 Q1025.28 1523.39 1024.03 1524.66 Q1022.82 1525.93 1022.82 1529.24 L1022.82 1532.4 L1032.47 1532.4 L1032.47 1536.95 L1022.82 1536.95 L1022.82 1568.04 L1016.94 1568.04 L1016.94 1536.95 L1011.33 1536.95 L1011.33 1532.4 L1016.94 1532.4 L1016.94 1529.91 Q1016.94 1523.96 1019.71 1521.26 Q1022.47 1518.52 1028.49 1518.52 L1034.03 1518.52 Z\" fill=\"#000000\" fill-rule=\"evenodd\" fill-opacity=\"1\" /><path clip-path=\"url(#clip250)\" d=\"M1055.13 1550.12 Q1048.03 1550.12 1045.3 1551.75 Q1042.56 1553.37 1042.56 1557.29 Q1042.56 1560.4 1044.6 1562.25 Q1046.66 1564.07 1050.2 1564.07 Q1055.07 1564.07 1057.99 1560.63 Q1060.95 1557.16 1060.95 1551.43 L1060.95 1550.12 L1055.13 1550.12 M1066.81 1547.71 L1066.81 1568.04 L1060.95 1568.04 L1060.95 1562.63 Q1058.95 1565.88 1055.96 1567.44 Q1052.97 1568.97 1048.64 1568.97 Q1043.16 1568.97 1039.92 1565.91 Q1036.7 1562.82 1036.7 1557.67 Q1036.7 1551.65 1040.71 1548.6 Q1044.75 1545.54 1052.74 1545.54 L1060.95 1545.54 L1060.95 1544.97 Q1060.95 1540.93 1058.28 1538.73 Q1055.64 1536.5 1050.83 1536.5 Q1047.78 1536.5 1044.88 1537.23 Q1041.99 1537.97 1039.31 1539.43 L1039.31 1534.02 Q1042.53 1532.78 1045.55 1532.17 Q1048.57 1531.54 1051.44 1531.54 Q1059.17 1531.54 1062.99 1535.55 Q1066.81 1539.56 1066.81 1547.71 Z\" fill=\"#000000\" fill-rule=\"evenodd\" fill-opacity=\"1\" /><path clip-path=\"url(#clip250)\" d=\"M1078.87 1518.52 L1084.73 1518.52 L1084.73 1568.04 L1078.87 1568.04 L1078.87 1518.52 Z\" fill=\"#000000\" fill-rule=\"evenodd\" fill-opacity=\"1\" /><path clip-path=\"url(#clip250)\" d=\"M1119.71 1533.45 L1119.71 1538.98 Q1117.23 1537.71 1114.55 1537.07 Q1111.88 1536.44 1109.02 1536.44 Q1104.66 1536.44 1102.46 1537.77 Q1100.3 1539.11 1100.3 1541.79 Q1100.3 1543.82 1101.85 1545 Q1103.41 1546.15 1108.12 1547.2 L1110.13 1547.64 Q1116.37 1548.98 1118.98 1551.43 Q1121.62 1553.85 1121.62 1558.21 Q1121.62 1563.17 1117.67 1566.07 Q1113.76 1568.97 1106.88 1568.97 Q1104.02 1568.97 1100.9 1568.39 Q1097.81 1567.85 1094.37 1566.74 L1094.37 1560.69 Q1097.62 1562.38 1100.77 1563.24 Q1103.92 1564.07 1107.01 1564.07 Q1111.15 1564.07 1113.38 1562.66 Q1115.6 1561.23 1115.6 1558.65 Q1115.6 1556.27 1113.98 1554.99 Q1112.39 1553.72 1106.95 1552.54 L1104.91 1552.07 Q1099.47 1550.92 1097.05 1548.56 Q1094.63 1546.18 1094.63 1542.04 Q1094.63 1537.01 1098.19 1534.27 Q1101.76 1531.54 1108.32 1531.54 Q1111.56 1531.54 1114.43 1532.01 Q1117.29 1532.49 1119.71 1533.45 Z\" fill=\"#000000\" fill-rule=\"evenodd\" fill-opacity=\"1\" /><path clip-path=\"url(#clip250)\" d=\"M1161.44 1548.76 L1161.44 1551.62 L1134.51 1551.62 Q1134.89 1557.67 1138.14 1560.85 Q1141.42 1564 1147.24 1564 Q1150.62 1564 1153.77 1563.17 Q1156.95 1562.35 1160.07 1560.69 L1160.07 1566.23 Q1156.92 1567.57 1153.61 1568.27 Q1150.3 1568.97 1146.89 1568.97 Q1138.36 1568.97 1133.36 1564 Q1128.4 1559.04 1128.4 1550.57 Q1128.4 1541.82 1133.11 1536.69 Q1137.85 1531.54 1145.87 1531.54 Q1153.07 1531.54 1157.24 1536.18 Q1161.44 1540.8 1161.44 1548.76 M1155.58 1547.04 Q1155.52 1542.23 1152.88 1539.37 Q1150.27 1536.5 1145.94 1536.5 Q1141.04 1536.5 1138.08 1539.27 Q1135.15 1542.04 1134.7 1547.07 L1155.58 1547.04 Z\" fill=\"#000000\" fill-rule=\"evenodd\" fill-opacity=\"1\" /><path clip-path=\"url(#clip250)\" d=\"M1197.44 1562.7 L1197.44 1581.6 L1191.55 1581.6 L1191.55 1532.4 L1197.44 1532.4 L1197.44 1537.81 Q1199.28 1534.62 1202.08 1533.1 Q1204.92 1531.54 1208.83 1531.54 Q1215.32 1531.54 1219.37 1536.69 Q1223.44 1541.85 1223.44 1550.25 Q1223.44 1558.65 1219.37 1563.81 Q1215.32 1568.97 1208.83 1568.97 Q1204.92 1568.97 1202.08 1567.44 Q1199.28 1565.88 1197.44 1562.7 M1217.36 1550.25 Q1217.36 1543.79 1214.69 1540.13 Q1212.04 1536.44 1207.4 1536.44 Q1202.75 1536.44 1200.08 1540.13 Q1197.44 1543.79 1197.44 1550.25 Q1197.44 1556.71 1200.08 1560.4 Q1202.75 1564.07 1207.4 1564.07 Q1212.04 1564.07 1214.69 1560.4 Q1217.36 1556.71 1217.36 1550.25 Z\" fill=\"#000000\" fill-rule=\"evenodd\" fill-opacity=\"1\" /><path clip-path=\"url(#clip250)\" d=\"M1246.96 1536.5 Q1242.25 1536.5 1239.51 1540.19 Q1236.78 1543.85 1236.78 1550.25 Q1236.78 1556.65 1239.48 1560.34 Q1242.22 1564 1246.96 1564 Q1251.64 1564 1254.38 1560.31 Q1257.11 1556.62 1257.11 1550.25 Q1257.11 1543.92 1254.38 1540.23 Q1251.64 1536.5 1246.96 1536.5 M1246.96 1531.54 Q1254.6 1531.54 1258.96 1536.5 Q1263.32 1541.47 1263.32 1550.25 Q1263.32 1559 1258.96 1564 Q1254.6 1568.97 1246.96 1568.97 Q1239.29 1568.97 1234.93 1564 Q1230.6 1559 1230.6 1550.25 Q1230.6 1541.47 1234.93 1536.5 Q1239.29 1531.54 1246.96 1531.54 Z\" fill=\"#000000\" fill-rule=\"evenodd\" fill-opacity=\"1\" /><path clip-path=\"url(#clip250)\" d=\"M1295.75 1533.45 L1295.75 1538.98 Q1293.27 1537.71 1290.6 1537.07 Q1287.92 1536.44 1285.06 1536.44 Q1280.7 1536.44 1278.5 1537.77 Q1276.34 1539.11 1276.34 1541.79 Q1276.34 1543.82 1277.9 1545 Q1279.46 1546.15 1284.17 1547.2 L1286.17 1547.64 Q1292.41 1548.98 1295.02 1551.43 Q1297.66 1553.85 1297.66 1558.21 Q1297.66 1563.17 1293.72 1566.07 Q1289.8 1568.97 1282.93 1568.97 Q1280.06 1568.97 1276.94 1568.39 Q1273.86 1567.85 1270.42 1566.74 L1270.42 1560.69 Q1273.67 1562.38 1276.82 1563.24 Q1279.97 1564.07 1283.05 1564.07 Q1287.19 1564.07 1289.42 1562.66 Q1291.65 1561.23 1291.65 1558.65 Q1291.65 1556.27 1290.02 1554.99 Q1288.43 1553.72 1282.99 1552.54 L1280.95 1552.07 Q1275.51 1550.92 1273.09 1548.56 Q1270.67 1546.18 1270.67 1542.04 Q1270.67 1537.01 1274.24 1534.27 Q1277.8 1531.54 1284.36 1531.54 Q1287.61 1531.54 1290.47 1532.01 Q1293.34 1532.49 1295.75 1533.45 Z\" fill=\"#000000\" fill-rule=\"evenodd\" fill-opacity=\"1\" /><path clip-path=\"url(#clip250)\" d=\"M1306.99 1532.4 L1312.85 1532.4 L1312.85 1568.04 L1306.99 1568.04 L1306.99 1532.4 M1306.99 1518.52 L1312.85 1518.52 L1312.85 1525.93 L1306.99 1525.93 L1306.99 1518.52 Z\" fill=\"#000000\" fill-rule=\"evenodd\" fill-opacity=\"1\" /><path clip-path=\"url(#clip250)\" d=\"M1330.89 1522.27 L1330.89 1532.4 L1342.96 1532.4 L1342.96 1536.95 L1330.89 1536.95 L1330.89 1556.3 Q1330.89 1560.66 1332.07 1561.9 Q1333.28 1563.14 1336.94 1563.14 L1342.96 1563.14 L1342.96 1568.04 L1336.94 1568.04 Q1330.16 1568.04 1327.58 1565.53 Q1325 1562.98 1325 1556.3 L1325 1536.95 L1320.71 1536.95 L1320.71 1532.4 L1325 1532.4 L1325 1522.27 L1330.89 1522.27 Z\" fill=\"#000000\" fill-rule=\"evenodd\" fill-opacity=\"1\" /><path clip-path=\"url(#clip250)\" d=\"M1350.66 1532.4 L1356.51 1532.4 L1356.51 1568.04 L1350.66 1568.04 L1350.66 1532.4 M1350.66 1518.52 L1356.51 1518.52 L1356.51 1525.93 L1350.66 1525.93 L1350.66 1518.52 Z\" fill=\"#000000\" fill-rule=\"evenodd\" fill-opacity=\"1\" /><path clip-path=\"url(#clip250)\" d=\"M1364.57 1532.4 L1370.77 1532.4 L1381.91 1562.31 L1393.05 1532.4 L1399.26 1532.4 L1385.89 1568.04 L1377.94 1568.04 L1364.57 1532.4 Z\" fill=\"#000000\" fill-rule=\"evenodd\" fill-opacity=\"1\" /><path clip-path=\"url(#clip250)\" d=\"M1437.84 1548.76 L1437.84 1551.62 L1410.91 1551.62 Q1411.29 1557.67 1414.54 1560.85 Q1417.82 1564 1423.64 1564 Q1427.01 1564 1430.17 1563.17 Q1433.35 1562.35 1436.47 1560.69 L1436.47 1566.23 Q1433.32 1567.57 1430.01 1568.27 Q1426.7 1568.97 1423.29 1568.97 Q1414.76 1568.97 1409.76 1564 Q1404.8 1559.04 1404.8 1550.57 Q1404.8 1541.82 1409.51 1536.69 Q1414.25 1531.54 1422.27 1531.54 Q1429.47 1531.54 1433.64 1536.18 Q1437.84 1540.8 1437.84 1548.76 M1431.98 1547.04 Q1431.92 1542.23 1429.27 1539.37 Q1426.66 1536.5 1422.34 1536.5 Q1417.43 1536.5 1414.47 1539.27 Q1411.55 1542.04 1411.1 1547.07 L1431.98 1547.04 Z\" fill=\"#000000\" fill-rule=\"evenodd\" fill-opacity=\"1\" /><path clip-path=\"url(#clip250)\" d=\"M1488.83 1537.87 Q1487.84 1537.3 1486.66 1537.04 Q1485.52 1536.76 1484.12 1536.76 Q1479.15 1536.76 1476.48 1540 Q1473.83 1543.22 1473.83 1549.27 L1473.83 1568.04 L1467.95 1568.04 L1467.95 1532.4 L1473.83 1532.4 L1473.83 1537.93 Q1475.68 1534.69 1478.64 1533.13 Q1481.6 1531.54 1485.83 1531.54 Q1486.44 1531.54 1487.17 1531.63 Q1487.9 1531.7 1488.79 1531.85 L1488.83 1537.87 Z\" fill=\"#000000\" fill-rule=\"evenodd\" fill-opacity=\"1\" /><path clip-path=\"url(#clip250)\" d=\"M1511.17 1550.12 Q1504.07 1550.12 1501.33 1551.75 Q1498.6 1553.37 1498.6 1557.29 Q1498.6 1560.4 1500.63 1562.25 Q1502.7 1564.07 1506.24 1564.07 Q1511.11 1564.07 1514.03 1560.63 Q1516.99 1557.16 1516.99 1551.43 L1516.99 1550.12 L1511.17 1550.12 M1522.85 1547.71 L1522.85 1568.04 L1516.99 1568.04 L1516.99 1562.63 Q1514.99 1565.88 1512 1567.44 Q1509.01 1568.97 1504.68 1568.97 Q1499.2 1568.97 1495.96 1565.91 Q1492.74 1562.82 1492.74 1557.67 Q1492.74 1551.65 1496.75 1548.6 Q1500.79 1545.54 1508.78 1545.54 L1516.99 1545.54 L1516.99 1544.97 Q1516.99 1540.93 1514.32 1538.73 Q1511.68 1536.5 1506.87 1536.5 Q1503.82 1536.5 1500.92 1537.23 Q1498.02 1537.97 1495.35 1539.43 L1495.35 1534.02 Q1498.57 1532.78 1501.59 1532.17 Q1504.61 1531.54 1507.48 1531.54 Q1515.21 1531.54 1519.03 1535.55 Q1522.85 1539.56 1522.85 1547.71 Z\" fill=\"#000000\" fill-rule=\"evenodd\" fill-opacity=\"1\" /><path clip-path=\"url(#clip250)\" d=\"M1540.71 1522.27 L1540.71 1532.4 L1552.77 1532.4 L1552.77 1536.95 L1540.71 1536.95 L1540.71 1556.3 Q1540.71 1560.66 1541.88 1561.9 Q1543.09 1563.14 1546.75 1563.14 L1552.77 1563.14 L1552.77 1568.04 L1546.75 1568.04 Q1539.97 1568.04 1537.4 1565.53 Q1534.82 1562.98 1534.82 1556.3 L1534.82 1536.95 L1530.52 1536.95 L1530.52 1532.4 L1534.82 1532.4 L1534.82 1522.27 L1540.71 1522.27 Z\" fill=\"#000000\" fill-rule=\"evenodd\" fill-opacity=\"1\" /><path clip-path=\"url(#clip250)\" d=\"M1590.96 1548.76 L1590.96 1551.62 L1564.04 1551.62 Q1564.42 1557.67 1567.67 1560.85 Q1570.94 1564 1576.77 1564 Q1580.14 1564 1583.29 1563.17 Q1586.48 1562.35 1589.6 1560.69 L1589.6 1566.23 Q1586.44 1567.57 1583.13 1568.27 Q1579.82 1568.97 1576.42 1568.97 Q1567.89 1568.97 1562.89 1564 Q1557.93 1559.04 1557.93 1550.57 Q1557.93 1541.82 1562.64 1536.69 Q1567.38 1531.54 1575.4 1531.54 Q1582.59 1531.54 1586.76 1536.18 Q1590.96 1540.8 1590.96 1548.76 M1585.11 1547.04 Q1585.04 1542.23 1582.4 1539.37 Q1579.79 1536.5 1575.46 1536.5 Q1570.56 1536.5 1567.6 1539.27 Q1564.67 1542.04 1564.23 1547.07 L1585.11 1547.04 Z\" fill=\"#000000\" fill-rule=\"evenodd\" fill-opacity=\"1\" /><polyline clip-path=\"url(#clip252)\" style=\"stroke:#000000; stroke-linecap:butt; stroke-linejoin:round; stroke-width:2; stroke-opacity:0.1; fill:none\" points=\"\n",
       "  249.542,1384.24 2352.76,1384.24 \n",
       "  \"/>\n",
       "<polyline clip-path=\"url(#clip252)\" style=\"stroke:#000000; stroke-linecap:butt; stroke-linejoin:round; stroke-width:2; stroke-opacity:0.1; fill:none\" points=\"\n",
       "  249.542,1059.73 2352.76,1059.73 \n",
       "  \"/>\n",
       "<polyline clip-path=\"url(#clip252)\" style=\"stroke:#000000; stroke-linecap:butt; stroke-linejoin:round; stroke-width:2; stroke-opacity:0.1; fill:none\" points=\"\n",
       "  249.542,735.212 2352.76,735.212 \n",
       "  \"/>\n",
       "<polyline clip-path=\"url(#clip252)\" style=\"stroke:#000000; stroke-linecap:butt; stroke-linejoin:round; stroke-width:2; stroke-opacity:0.1; fill:none\" points=\"\n",
       "  249.542,410.699 2352.76,410.699 \n",
       "  \"/>\n",
       "<polyline clip-path=\"url(#clip252)\" style=\"stroke:#000000; stroke-linecap:butt; stroke-linejoin:round; stroke-width:2; stroke-opacity:0.1; fill:none\" points=\"\n",
       "  249.542,86.1857 2352.76,86.1857 \n",
       "  \"/>\n",
       "<polyline clip-path=\"url(#clip250)\" style=\"stroke:#000000; stroke-linecap:butt; stroke-linejoin:round; stroke-width:4; stroke-opacity:1; fill:none\" points=\"\n",
       "  249.542,1423.18 249.542,47.2441 \n",
       "  \"/>\n",
       "<polyline clip-path=\"url(#clip250)\" style=\"stroke:#000000; stroke-linecap:butt; stroke-linejoin:round; stroke-width:4; stroke-opacity:1; fill:none\" points=\"\n",
       "  249.542,1384.24 268.44,1384.24 \n",
       "  \"/>\n",
       "<polyline clip-path=\"url(#clip250)\" style=\"stroke:#000000; stroke-linecap:butt; stroke-linejoin:round; stroke-width:4; stroke-opacity:1; fill:none\" points=\"\n",
       "  249.542,1059.73 268.44,1059.73 \n",
       "  \"/>\n",
       "<polyline clip-path=\"url(#clip250)\" style=\"stroke:#000000; stroke-linecap:butt; stroke-linejoin:round; stroke-width:4; stroke-opacity:1; fill:none\" points=\"\n",
       "  249.542,735.212 268.44,735.212 \n",
       "  \"/>\n",
       "<polyline clip-path=\"url(#clip250)\" style=\"stroke:#000000; stroke-linecap:butt; stroke-linejoin:round; stroke-width:4; stroke-opacity:1; fill:none\" points=\"\n",
       "  249.542,410.699 268.44,410.699 \n",
       "  \"/>\n",
       "<polyline clip-path=\"url(#clip250)\" style=\"stroke:#000000; stroke-linecap:butt; stroke-linejoin:round; stroke-width:4; stroke-opacity:1; fill:none\" points=\"\n",
       "  249.542,86.1857 268.44,86.1857 \n",
       "  \"/>\n",
       "<path clip-path=\"url(#clip250)\" d=\"M126.205 1370.04 Q122.593 1370.04 120.765 1373.6 Q118.959 1377.14 118.959 1384.27 Q118.959 1391.38 120.765 1394.94 Q122.593 1398.49 126.205 1398.49 Q129.839 1398.49 131.644 1394.94 Q133.473 1391.38 133.473 1384.27 Q133.473 1377.14 131.644 1373.6 Q129.839 1370.04 126.205 1370.04 M126.205 1366.33 Q132.015 1366.33 135.07 1370.94 Q138.149 1375.52 138.149 1384.27 Q138.149 1393 135.07 1397.61 Q132.015 1402.19 126.205 1402.19 Q120.394 1402.19 117.316 1397.61 Q114.26 1393 114.26 1384.27 Q114.26 1375.52 117.316 1370.94 Q120.394 1366.33 126.205 1366.33 Z\" fill=\"#000000\" fill-rule=\"evenodd\" fill-opacity=\"1\" /><path clip-path=\"url(#clip250)\" d=\"M146.366 1395.64 L151.251 1395.64 L151.251 1401.52 L146.366 1401.52 L146.366 1395.64 Z\" fill=\"#000000\" fill-rule=\"evenodd\" fill-opacity=\"1\" /><path clip-path=\"url(#clip250)\" d=\"M171.436 1370.04 Q167.825 1370.04 165.996 1373.6 Q164.19 1377.14 164.19 1384.27 Q164.19 1391.38 165.996 1394.94 Q167.825 1398.49 171.436 1398.49 Q175.07 1398.49 176.876 1394.94 Q178.704 1391.38 178.704 1384.27 Q178.704 1377.14 176.876 1373.6 Q175.07 1370.04 171.436 1370.04 M171.436 1366.33 Q177.246 1366.33 180.301 1370.94 Q183.38 1375.52 183.38 1384.27 Q183.38 1393 180.301 1397.61 Q177.246 1402.19 171.436 1402.19 Q165.626 1402.19 162.547 1397.61 Q159.491 1393 159.491 1384.27 Q159.491 1375.52 162.547 1370.94 Q165.626 1366.33 171.436 1366.33 Z\" fill=\"#000000\" fill-rule=\"evenodd\" fill-opacity=\"1\" /><path clip-path=\"url(#clip250)\" d=\"M201.598 1370.04 Q197.987 1370.04 196.158 1373.6 Q194.352 1377.14 194.352 1384.27 Q194.352 1391.38 196.158 1394.94 Q197.987 1398.49 201.598 1398.49 Q205.232 1398.49 207.037 1394.94 Q208.866 1391.38 208.866 1384.27 Q208.866 1377.14 207.037 1373.6 Q205.232 1370.04 201.598 1370.04 M201.598 1366.33 Q207.408 1366.33 210.463 1370.94 Q213.542 1375.52 213.542 1384.27 Q213.542 1393 210.463 1397.61 Q207.408 1402.19 201.598 1402.19 Q195.787 1402.19 192.709 1397.61 Q189.653 1393 189.653 1384.27 Q189.653 1375.52 192.709 1370.94 Q195.787 1366.33 201.598 1366.33 Z\" fill=\"#000000\" fill-rule=\"evenodd\" fill-opacity=\"1\" /><path clip-path=\"url(#clip250)\" d=\"M127.2 1045.52 Q123.589 1045.52 121.76 1049.09 Q119.955 1052.63 119.955 1059.76 Q119.955 1066.87 121.76 1070.43 Q123.589 1073.97 127.2 1073.97 Q130.834 1073.97 132.64 1070.43 Q134.468 1066.87 134.468 1059.76 Q134.468 1052.63 132.64 1049.09 Q130.834 1045.52 127.2 1045.52 M127.2 1041.82 Q133.01 1041.82 136.066 1046.43 Q139.144 1051.01 139.144 1059.76 Q139.144 1068.49 136.066 1073.09 Q133.01 1077.68 127.2 1077.68 Q121.39 1077.68 118.311 1073.09 Q115.256 1068.49 115.256 1059.76 Q115.256 1051.01 118.311 1046.43 Q121.39 1041.82 127.2 1041.82 Z\" fill=\"#000000\" fill-rule=\"evenodd\" fill-opacity=\"1\" /><path clip-path=\"url(#clip250)\" d=\"M147.362 1071.13 L152.246 1071.13 L152.246 1077.01 L147.362 1077.01 L147.362 1071.13 Z\" fill=\"#000000\" fill-rule=\"evenodd\" fill-opacity=\"1\" /><path clip-path=\"url(#clip250)\" d=\"M166.459 1073.07 L182.778 1073.07 L182.778 1077.01 L160.834 1077.01 L160.834 1073.07 Q163.496 1070.32 168.079 1065.69 Q172.686 1061.03 173.866 1059.69 Q176.112 1057.17 176.991 1055.43 Q177.894 1053.67 177.894 1051.98 Q177.894 1049.23 175.95 1047.49 Q174.028 1045.76 170.927 1045.76 Q168.727 1045.76 166.274 1046.52 Q163.843 1047.28 161.065 1048.83 L161.065 1044.11 Q163.89 1042.98 166.343 1042.4 Q168.797 1041.82 170.834 1041.82 Q176.204 1041.82 179.399 1044.51 Q182.593 1047.19 182.593 1051.68 Q182.593 1053.81 181.783 1055.73 Q180.996 1057.63 178.889 1060.22 Q178.311 1060.89 175.209 1064.11 Q172.107 1067.31 166.459 1073.07 Z\" fill=\"#000000\" fill-rule=\"evenodd\" fill-opacity=\"1\" /><path clip-path=\"url(#clip250)\" d=\"M192.639 1042.45 L210.996 1042.45 L210.996 1046.38 L196.922 1046.38 L196.922 1054.85 Q197.94 1054.51 198.959 1054.34 Q199.977 1054.16 200.996 1054.16 Q206.783 1054.16 210.162 1057.33 Q213.542 1060.5 213.542 1065.92 Q213.542 1071.5 210.07 1074.6 Q206.598 1077.68 200.278 1077.68 Q198.102 1077.68 195.834 1077.31 Q193.588 1076.94 191.181 1076.19 L191.181 1071.5 Q193.264 1072.63 195.487 1073.19 Q197.709 1073.74 200.186 1073.74 Q204.19 1073.74 206.528 1071.63 Q208.866 1069.53 208.866 1065.92 Q208.866 1062.31 206.528 1060.2 Q204.19 1058.09 200.186 1058.09 Q198.311 1058.09 196.436 1058.51 Q194.584 1058.93 192.639 1059.81 L192.639 1042.45 Z\" fill=\"#000000\" fill-rule=\"evenodd\" fill-opacity=\"1\" /><path clip-path=\"url(#clip250)\" d=\"M126.205 721.011 Q122.593 721.011 120.765 724.575 Q118.959 728.117 118.959 735.247 Q118.959 742.353 120.765 745.918 Q122.593 749.46 126.205 749.46 Q129.839 749.46 131.644 745.918 Q133.473 742.353 133.473 735.247 Q133.473 728.117 131.644 724.575 Q129.839 721.011 126.205 721.011 M126.205 717.307 Q132.015 717.307 135.07 721.913 Q138.149 726.497 138.149 735.247 Q138.149 743.973 135.07 748.58 Q132.015 753.163 126.205 753.163 Q120.394 753.163 117.316 748.58 Q114.26 743.973 114.26 735.247 Q114.26 726.497 117.316 721.913 Q120.394 717.307 126.205 717.307 Z\" fill=\"#000000\" fill-rule=\"evenodd\" fill-opacity=\"1\" /><path clip-path=\"url(#clip250)\" d=\"M146.366 746.612 L151.251 746.612 L151.251 752.492 L146.366 752.492 L146.366 746.612 Z\" fill=\"#000000\" fill-rule=\"evenodd\" fill-opacity=\"1\" /><path clip-path=\"url(#clip250)\" d=\"M161.482 717.932 L179.839 717.932 L179.839 721.867 L165.765 721.867 L165.765 730.339 Q166.783 729.992 167.802 729.83 Q168.82 729.645 169.839 729.645 Q175.626 729.645 179.005 732.816 Q182.385 735.987 182.385 741.404 Q182.385 746.983 178.913 750.085 Q175.44 753.163 169.121 753.163 Q166.945 753.163 164.677 752.793 Q162.431 752.423 160.024 751.682 L160.024 746.983 Q162.107 748.117 164.329 748.673 Q166.552 749.228 169.028 749.228 Q173.033 749.228 175.371 747.122 Q177.709 745.015 177.709 741.404 Q177.709 737.793 175.371 735.687 Q173.033 733.58 169.028 733.58 Q167.153 733.58 165.278 733.997 Q163.427 734.413 161.482 735.293 L161.482 717.932 Z\" fill=\"#000000\" fill-rule=\"evenodd\" fill-opacity=\"1\" /><path clip-path=\"url(#clip250)\" d=\"M201.598 721.011 Q197.987 721.011 196.158 724.575 Q194.352 728.117 194.352 735.247 Q194.352 742.353 196.158 745.918 Q197.987 749.46 201.598 749.46 Q205.232 749.46 207.037 745.918 Q208.866 742.353 208.866 735.247 Q208.866 728.117 207.037 724.575 Q205.232 721.011 201.598 721.011 M201.598 717.307 Q207.408 717.307 210.463 721.913 Q213.542 726.497 213.542 735.247 Q213.542 743.973 210.463 748.58 Q207.408 753.163 201.598 753.163 Q195.787 753.163 192.709 748.58 Q189.653 743.973 189.653 735.247 Q189.653 726.497 192.709 721.913 Q195.787 717.307 201.598 717.307 Z\" fill=\"#000000\" fill-rule=\"evenodd\" fill-opacity=\"1\" /><path clip-path=\"url(#clip250)\" d=\"M127.2 396.498 Q123.589 396.498 121.76 400.062 Q119.955 403.604 119.955 410.734 Q119.955 417.84 121.76 421.405 Q123.589 424.946 127.2 424.946 Q130.834 424.946 132.64 421.405 Q134.468 417.84 134.468 410.734 Q134.468 403.604 132.64 400.062 Q130.834 396.498 127.2 396.498 M127.2 392.794 Q133.01 392.794 136.066 397.4 Q139.144 401.984 139.144 410.734 Q139.144 419.46 136.066 424.067 Q133.01 428.65 127.2 428.65 Q121.39 428.65 118.311 424.067 Q115.256 419.46 115.256 410.734 Q115.256 401.984 118.311 397.4 Q121.39 392.794 127.2 392.794 Z\" fill=\"#000000\" fill-rule=\"evenodd\" fill-opacity=\"1\" /><path clip-path=\"url(#clip250)\" d=\"M147.362 422.099 L152.246 422.099 L152.246 427.979 L147.362 427.979 L147.362 422.099 Z\" fill=\"#000000\" fill-rule=\"evenodd\" fill-opacity=\"1\" /><path clip-path=\"url(#clip250)\" d=\"M161.251 393.419 L183.473 393.419 L183.473 395.41 L170.927 427.979 L166.042 427.979 L177.848 397.354 L161.251 397.354 L161.251 393.419 Z\" fill=\"#000000\" fill-rule=\"evenodd\" fill-opacity=\"1\" /><path clip-path=\"url(#clip250)\" d=\"M192.639 393.419 L210.996 393.419 L210.996 397.354 L196.922 397.354 L196.922 405.826 Q197.94 405.479 198.959 405.317 Q199.977 405.132 200.996 405.132 Q206.783 405.132 210.162 408.303 Q213.542 411.474 213.542 416.891 Q213.542 422.47 210.07 425.571 Q206.598 428.65 200.278 428.65 Q198.102 428.65 195.834 428.28 Q193.588 427.909 191.181 427.169 L191.181 422.47 Q193.264 423.604 195.487 424.159 Q197.709 424.715 200.186 424.715 Q204.19 424.715 206.528 422.608 Q208.866 420.502 208.866 416.891 Q208.866 413.28 206.528 411.173 Q204.19 409.067 200.186 409.067 Q198.311 409.067 196.436 409.484 Q194.584 409.9 192.639 410.78 L192.639 393.419 Z\" fill=\"#000000\" fill-rule=\"evenodd\" fill-opacity=\"1\" /><path clip-path=\"url(#clip250)\" d=\"M117.015 99.5305 L124.654 99.5305 L124.654 73.1649 L116.343 74.8316 L116.343 70.5723 L124.607 68.9057 L129.283 68.9057 L129.283 99.5305 L136.922 99.5305 L136.922 103.466 L117.015 103.466 L117.015 99.5305 Z\" fill=\"#000000\" fill-rule=\"evenodd\" fill-opacity=\"1\" /><path clip-path=\"url(#clip250)\" d=\"M146.366 97.5861 L151.251 97.5861 L151.251 103.466 L146.366 103.466 L146.366 97.5861 Z\" fill=\"#000000\" fill-rule=\"evenodd\" fill-opacity=\"1\" /><path clip-path=\"url(#clip250)\" d=\"M171.436 71.9844 Q167.825 71.9844 165.996 75.5492 Q164.19 79.0908 164.19 86.2204 Q164.19 93.3268 165.996 96.8916 Q167.825 100.433 171.436 100.433 Q175.07 100.433 176.876 96.8916 Q178.704 93.3268 178.704 86.2204 Q178.704 79.0908 176.876 75.5492 Q175.07 71.9844 171.436 71.9844 M171.436 68.2807 Q177.246 68.2807 180.301 72.8871 Q183.38 77.4704 183.38 86.2204 Q183.38 94.9472 180.301 99.5537 Q177.246 104.137 171.436 104.137 Q165.626 104.137 162.547 99.5537 Q159.491 94.9472 159.491 86.2204 Q159.491 77.4704 162.547 72.8871 Q165.626 68.2807 171.436 68.2807 Z\" fill=\"#000000\" fill-rule=\"evenodd\" fill-opacity=\"1\" /><path clip-path=\"url(#clip250)\" d=\"M201.598 71.9844 Q197.987 71.9844 196.158 75.5492 Q194.352 79.0908 194.352 86.2204 Q194.352 93.3268 196.158 96.8916 Q197.987 100.433 201.598 100.433 Q205.232 100.433 207.037 96.8916 Q208.866 93.3268 208.866 86.2204 Q208.866 79.0908 207.037 75.5492 Q205.232 71.9844 201.598 71.9844 M201.598 68.2807 Q207.408 68.2807 210.463 72.8871 Q213.542 77.4704 213.542 86.2204 Q213.542 94.9472 210.463 99.5537 Q207.408 104.137 201.598 104.137 Q195.787 104.137 192.709 99.5537 Q189.653 94.9472 189.653 86.2204 Q189.653 77.4704 192.709 72.8871 Q195.787 68.2807 201.598 68.2807 Z\" fill=\"#000000\" fill-rule=\"evenodd\" fill-opacity=\"1\" /><path clip-path=\"url(#clip250)\" d=\"M18.2347 1004.07 L28.3562 1004.07 L28.3562 992.005 L32.9077 992.005 L32.9077 1004.07 L52.2594 1004.07 Q56.6199 1004.07 57.8613 1002.89 Q59.1026 1001.68 59.1026 998.02 L59.1026 992.005 L64.0042 992.005 L64.0042 998.02 Q64.0042 1004.8 61.4897 1007.38 Q58.9434 1009.96 52.2594 1009.96 L32.9077 1009.96 L32.9077 1014.25 L28.3562 1014.25 L28.3562 1009.96 L18.2347 1009.96 L18.2347 1004.07 Z\" fill=\"#000000\" fill-rule=\"evenodd\" fill-opacity=\"1\" /><path clip-path=\"url(#clip250)\" d=\"M33.8307 963.645 Q33.2578 964.632 33.0032 965.81 Q32.7167 966.956 32.7167 968.356 Q32.7167 973.321 35.9632 975.995 Q39.1779 978.637 45.2253 978.637 L64.0042 978.637 L64.0042 984.525 L28.3562 984.525 L28.3562 978.637 L33.8944 978.637 Q30.6479 976.791 29.0883 973.83 Q27.4968 970.87 27.4968 966.637 Q27.4968 966.032 27.5923 965.3 Q27.656 964.568 27.8151 963.677 L33.8307 963.645 Z\" fill=\"#000000\" fill-rule=\"evenodd\" fill-opacity=\"1\" /><path clip-path=\"url(#clip250)\" d=\"M49.9359 958.107 L28.3562 958.107 L28.3562 952.251 L49.7131 952.251 Q54.7739 952.251 57.3202 950.277 Q59.8346 948.304 59.8346 944.357 Q59.8346 939.615 56.8109 936.878 Q53.7872 934.108 48.5673 934.108 L28.3562 934.108 L28.3562 928.252 L64.0042 928.252 L64.0042 934.108 L58.5296 934.108 Q61.7762 936.241 63.3676 939.074 Q64.9272 941.875 64.9272 945.599 Q64.9272 951.741 61.1078 954.924 Q57.2883 958.107 49.9359 958.107 M27.4968 943.371 L27.4968 943.371 Z\" fill=\"#000000\" fill-rule=\"evenodd\" fill-opacity=\"1\" /><path clip-path=\"url(#clip250)\" d=\"M44.7161 885.697 L47.5806 885.697 L47.5806 912.624 Q53.6281 912.242 56.8109 908.996 Q59.9619 905.717 59.9619 899.893 Q59.9619 896.519 59.1344 893.368 Q58.3069 890.185 56.6518 887.066 L62.1899 887.066 Q63.5267 890.217 64.227 893.527 Q64.9272 896.837 64.9272 900.243 Q64.9272 908.773 59.9619 913.77 Q54.9967 918.735 46.5303 918.735 Q37.7774 918.735 32.6531 914.025 Q27.4968 909.282 27.4968 901.261 Q27.4968 894.068 32.1438 889.899 Q36.7589 885.697 44.7161 885.697 M42.9973 891.554 Q38.1912 891.617 35.3266 894.259 Q32.4621 896.869 32.4621 901.198 Q32.4621 906.099 35.2312 909.059 Q38.0002 911.988 43.0292 912.433 L42.9973 891.554 Z\" fill=\"#000000\" fill-rule=\"evenodd\" fill-opacity=\"1\" /><path clip-path=\"url(#clip250)\" d=\"M58.657 849.699 L77.5631 849.699 L77.5631 855.587 L28.3562 855.587 L28.3562 849.699 L33.7671 849.699 Q30.5842 847.853 29.0564 845.052 Q27.4968 842.219 27.4968 838.305 Q27.4968 831.812 32.6531 827.769 Q37.8093 823.695 46.212 823.695 Q54.6147 823.695 59.771 827.769 Q64.9272 831.812 64.9272 838.305 Q64.9272 842.219 63.3994 845.052 Q61.8398 847.853 58.657 849.699 M46.212 829.775 Q39.7508 829.775 36.0905 832.448 Q32.3984 835.09 32.3984 839.737 Q32.3984 844.384 36.0905 847.057 Q39.7508 849.699 46.212 849.699 Q52.6732 849.699 56.3653 847.057 Q60.0256 844.384 60.0256 839.737 Q60.0256 835.09 56.3653 832.448 Q52.6732 829.775 46.212 829.775 Z\" fill=\"#000000\" fill-rule=\"evenodd\" fill-opacity=\"1\" /><path clip-path=\"url(#clip250)\" d=\"M32.4621 800.174 Q32.4621 804.885 36.1542 807.622 Q39.8145 810.359 46.212 810.359 Q52.6095 810.359 56.3017 807.654 Q59.9619 804.916 59.9619 800.174 Q59.9619 795.495 56.2698 792.758 Q52.5777 790.021 46.212 790.021 Q39.8781 790.021 36.186 792.758 Q32.4621 795.495 32.4621 800.174 M27.4968 800.174 Q27.4968 792.535 32.4621 788.175 Q37.4273 783.814 46.212 783.814 Q54.9649 783.814 59.9619 788.175 Q64.9272 792.535 64.9272 800.174 Q64.9272 807.845 59.9619 812.205 Q54.9649 816.534 46.212 816.534 Q37.4273 816.534 32.4621 812.205 Q27.4968 807.845 27.4968 800.174 Z\" fill=\"#000000\" fill-rule=\"evenodd\" fill-opacity=\"1\" /><path clip-path=\"url(#clip250)\" d=\"M29.4065 751.381 L34.9447 751.381 Q33.6716 753.863 33.035 756.537 Q32.3984 759.211 32.3984 762.075 Q32.3984 766.436 33.7352 768.632 Q35.072 770.796 37.7456 770.796 Q39.7826 770.796 40.9603 769.237 Q42.1061 767.677 43.1565 762.966 L43.6021 760.961 Q44.9389 754.723 47.3897 752.113 Q49.8086 749.471 54.1691 749.471 Q59.1344 749.471 62.0308 753.418 Q64.9272 757.333 64.9272 764.208 Q64.9272 767.072 64.3543 770.192 Q63.8132 773.279 62.6992 776.716 L56.6518 776.716 Q58.3387 773.47 59.198 770.319 Q60.0256 767.168 60.0256 764.08 Q60.0256 759.943 58.6251 757.715 Q57.1929 755.487 54.6147 755.487 Q52.2276 755.487 50.9545 757.11 Q49.6813 758.701 48.5037 764.144 L48.0262 766.181 Q46.8804 771.624 44.5251 774.043 Q42.138 776.462 38.0002 776.462 Q32.9713 776.462 30.2341 772.897 Q27.4968 769.332 27.4968 762.775 Q27.4968 759.529 27.9743 756.664 Q28.4517 753.8 29.4065 751.381 Z\" fill=\"#000000\" fill-rule=\"evenodd\" fill-opacity=\"1\" /><path clip-path=\"url(#clip250)\" d=\"M28.3562 740.145 L28.3562 734.289 L64.0042 734.289 L64.0042 740.145 L28.3562 740.145 M14.479 740.145 L14.479 734.289 L21.895 734.289 L21.895 740.145 L14.479 740.145 Z\" fill=\"#000000\" fill-rule=\"evenodd\" fill-opacity=\"1\" /><path clip-path=\"url(#clip250)\" d=\"M18.2347 716.242 L28.3562 716.242 L28.3562 704.179 L32.9077 704.179 L32.9077 716.242 L52.2594 716.242 Q56.6199 716.242 57.8613 715.065 Q59.1026 713.855 59.1026 710.195 L59.1026 704.179 L64.0042 704.179 L64.0042 710.195 Q64.0042 716.974 61.4897 719.552 Q58.9434 722.13 52.2594 722.13 L32.9077 722.13 L32.9077 726.427 L28.3562 726.427 L28.3562 722.13 L18.2347 722.13 L18.2347 716.242 Z\" fill=\"#000000\" fill-rule=\"evenodd\" fill-opacity=\"1\" /><path clip-path=\"url(#clip250)\" d=\"M28.3562 696.477 L28.3562 690.62 L64.0042 690.62 L64.0042 696.477 L28.3562 696.477 M14.479 696.477 L14.479 690.62 L21.895 690.62 L21.895 696.477 L14.479 696.477 Z\" fill=\"#000000\" fill-rule=\"evenodd\" fill-opacity=\"1\" /><path clip-path=\"url(#clip250)\" d=\"M28.3562 682.568 L28.3562 676.361 L58.275 665.221 L28.3562 654.081 L28.3562 647.874 L64.0042 661.242 L64.0042 669.2 L28.3562 682.568 Z\" fill=\"#000000\" fill-rule=\"evenodd\" fill-opacity=\"1\" /><path clip-path=\"url(#clip250)\" d=\"M44.7161 609.298 L47.5806 609.298 L47.5806 636.225 Q53.6281 635.843 56.8109 632.597 Q59.9619 629.318 59.9619 623.494 Q59.9619 620.12 59.1344 616.969 Q58.3069 613.786 56.6518 610.667 L62.1899 610.667 Q63.5267 613.818 64.227 617.128 Q64.9272 620.438 64.9272 623.844 Q64.9272 632.374 59.9619 637.371 Q54.9967 642.336 46.5303 642.336 Q37.7774 642.336 32.6531 637.626 Q27.4968 632.883 27.4968 624.862 Q27.4968 617.669 32.1438 613.5 Q36.7589 609.298 44.7161 609.298 M42.9973 615.155 Q38.1912 615.218 35.3266 617.86 Q32.4621 620.47 32.4621 624.799 Q32.4621 629.7 35.2312 632.66 Q38.0002 635.589 43.0292 636.034 L42.9973 615.155 Z\" fill=\"#000000\" fill-rule=\"evenodd\" fill-opacity=\"1\" /><path clip-path=\"url(#clip250)\" d=\"M33.8307 558.309 Q33.2578 559.296 33.0032 560.473 Q32.7167 561.619 32.7167 563.02 Q32.7167 567.985 35.9632 570.658 Q39.1779 573.3 45.2253 573.3 L64.0042 573.3 L64.0042 579.188 L28.3562 579.188 L28.3562 573.3 L33.8944 573.3 Q30.6479 571.454 29.0883 568.494 Q27.4968 565.534 27.4968 561.301 Q27.4968 560.696 27.5923 559.964 Q27.656 559.232 27.8151 558.341 L33.8307 558.309 Z\" fill=\"#000000\" fill-rule=\"evenodd\" fill-opacity=\"1\" /><path clip-path=\"url(#clip250)\" d=\"M46.0847 535.965 Q46.0847 543.063 47.7079 545.8 Q49.3312 548.538 53.2461 548.538 Q56.3653 548.538 58.2114 546.501 Q60.0256 544.432 60.0256 540.899 Q60.0256 536.029 56.5881 533.101 Q53.1188 530.141 47.3897 530.141 L46.0847 530.141 L46.0847 535.965 M43.6657 524.284 L64.0042 524.284 L64.0042 530.141 L58.5933 530.141 Q61.8398 532.146 63.3994 535.138 Q64.9272 538.13 64.9272 542.458 Q64.9272 547.933 61.8716 551.179 Q58.7843 554.394 53.6281 554.394 Q47.6125 554.394 44.5569 550.384 Q41.5014 546.341 41.5014 538.352 L41.5014 530.141 L40.9285 530.141 Q36.8862 530.141 34.6901 532.814 Q32.4621 535.456 32.4621 540.262 Q32.4621 543.318 33.1941 546.214 Q33.9262 549.111 35.3903 551.784 L29.9795 551.784 Q28.7381 548.569 28.1334 545.546 Q27.4968 542.522 27.4968 539.657 Q27.4968 531.923 31.5072 528.104 Q35.5176 524.284 43.6657 524.284 Z\" fill=\"#000000\" fill-rule=\"evenodd\" fill-opacity=\"1\" /><path clip-path=\"url(#clip250)\" d=\"M18.2347 506.428 L28.3562 506.428 L28.3562 494.365 L32.9077 494.365 L32.9077 506.428 L52.2594 506.428 Q56.6199 506.428 57.8613 505.251 Q59.1026 504.041 59.1026 500.381 L59.1026 494.365 L64.0042 494.365 L64.0042 500.381 Q64.0042 507.161 61.4897 509.739 Q58.9434 512.317 52.2594 512.317 L32.9077 512.317 L32.9077 516.614 L28.3562 516.614 L28.3562 512.317 L18.2347 512.317 L18.2347 506.428 Z\" fill=\"#000000\" fill-rule=\"evenodd\" fill-opacity=\"1\" /><path clip-path=\"url(#clip250)\" d=\"M44.7161 456.171 L47.5806 456.171 L47.5806 483.098 Q53.6281 482.716 56.8109 479.47 Q59.9619 476.191 59.9619 470.367 Q59.9619 466.993 59.1344 463.842 Q58.3069 460.659 56.6518 457.54 L62.1899 457.54 Q63.5267 460.691 64.227 464.001 Q64.9272 467.311 64.9272 470.717 Q64.9272 479.247 59.9619 484.244 Q54.9967 489.209 46.5303 489.209 Q37.7774 489.209 32.6531 484.499 Q27.4968 479.756 27.4968 471.735 Q27.4968 464.542 32.1438 460.373 Q36.7589 456.171 44.7161 456.171 M42.9973 462.028 Q38.1912 462.091 35.3266 464.733 Q32.4621 467.343 32.4621 471.672 Q32.4621 476.573 35.2312 479.533 Q38.0002 482.462 43.0292 482.907 L42.9973 462.028 Z\" fill=\"#000000\" fill-rule=\"evenodd\" fill-opacity=\"1\" /><circle clip-path=\"url(#clip252)\" cx=\"309.067\" cy=\"1384.24\" r=\"14\" fill=\"#009af9\" fill-rule=\"evenodd\" fill-opacity=\"1\" stroke=\"#000000\" stroke-opacity=\"1\" stroke-width=\"3.2\"/>\n",
       "<circle clip-path=\"url(#clip252)\" cx=\"309.067\" cy=\"1344.9\" r=\"14\" fill=\"#009af9\" fill-rule=\"evenodd\" fill-opacity=\"1\" stroke=\"#000000\" stroke-opacity=\"1\" stroke-width=\"3.2\"/>\n",
       "<circle clip-path=\"url(#clip252)\" cx=\"309.067\" cy=\"1266.23\" r=\"14\" fill=\"#009af9\" fill-rule=\"evenodd\" fill-opacity=\"1\" stroke=\"#000000\" stroke-opacity=\"1\" stroke-width=\"3.2\"/>\n",
       "<circle clip-path=\"url(#clip252)\" cx=\"309.067\" cy=\"1226.9\" r=\"14\" fill=\"#009af9\" fill-rule=\"evenodd\" fill-opacity=\"1\" stroke=\"#000000\" stroke-opacity=\"1\" stroke-width=\"3.2\"/>\n",
       "<circle clip-path=\"url(#clip252)\" cx=\"309.067\" cy=\"1187.56\" r=\"14\" fill=\"#009af9\" fill-rule=\"evenodd\" fill-opacity=\"1\" stroke=\"#000000\" stroke-opacity=\"1\" stroke-width=\"3.2\"/>\n",
       "<circle clip-path=\"url(#clip252)\" cx=\"326.321\" cy=\"1187.56\" r=\"14\" fill=\"#009af9\" fill-rule=\"evenodd\" fill-opacity=\"1\" stroke=\"#000000\" stroke-opacity=\"1\" stroke-width=\"3.2\"/>\n",
       "<circle clip-path=\"url(#clip252)\" cx=\"326.321\" cy=\"1148.23\" r=\"14\" fill=\"#009af9\" fill-rule=\"evenodd\" fill-opacity=\"1\" stroke=\"#000000\" stroke-opacity=\"1\" stroke-width=\"3.2\"/>\n",
       "<circle clip-path=\"url(#clip252)\" cx=\"326.321\" cy=\"1108.89\" r=\"14\" fill=\"#009af9\" fill-rule=\"evenodd\" fill-opacity=\"1\" stroke=\"#000000\" stroke-opacity=\"1\" stroke-width=\"3.2\"/>\n",
       "<circle clip-path=\"url(#clip252)\" cx=\"343.574\" cy=\"1108.89\" r=\"14\" fill=\"#009af9\" fill-rule=\"evenodd\" fill-opacity=\"1\" stroke=\"#000000\" stroke-opacity=\"1\" stroke-width=\"3.2\"/>\n",
       "<circle clip-path=\"url(#clip252)\" cx=\"360.828\" cy=\"1108.89\" r=\"14\" fill=\"#009af9\" fill-rule=\"evenodd\" fill-opacity=\"1\" stroke=\"#000000\" stroke-opacity=\"1\" stroke-width=\"3.2\"/>\n",
       "<circle clip-path=\"url(#clip252)\" cx=\"360.828\" cy=\"1069.56\" r=\"14\" fill=\"#009af9\" fill-rule=\"evenodd\" fill-opacity=\"1\" stroke=\"#000000\" stroke-opacity=\"1\" stroke-width=\"3.2\"/>\n",
       "<circle clip-path=\"url(#clip252)\" cx=\"378.081\" cy=\"1069.56\" r=\"14\" fill=\"#009af9\" fill-rule=\"evenodd\" fill-opacity=\"1\" stroke=\"#000000\" stroke-opacity=\"1\" stroke-width=\"3.2\"/>\n",
       "<circle clip-path=\"url(#clip252)\" cx=\"378.081\" cy=\"1030.22\" r=\"14\" fill=\"#009af9\" fill-rule=\"evenodd\" fill-opacity=\"1\" stroke=\"#000000\" stroke-opacity=\"1\" stroke-width=\"3.2\"/>\n",
       "<circle clip-path=\"url(#clip252)\" cx=\"378.081\" cy=\"951.554\" r=\"14\" fill=\"#009af9\" fill-rule=\"evenodd\" fill-opacity=\"1\" stroke=\"#000000\" stroke-opacity=\"1\" stroke-width=\"3.2\"/>\n",
       "<circle clip-path=\"url(#clip252)\" cx=\"378.081\" cy=\"912.219\" r=\"14\" fill=\"#009af9\" fill-rule=\"evenodd\" fill-opacity=\"1\" stroke=\"#000000\" stroke-opacity=\"1\" stroke-width=\"3.2\"/>\n",
       "<circle clip-path=\"url(#clip252)\" cx=\"395.335\" cy=\"912.219\" r=\"14\" fill=\"#009af9\" fill-rule=\"evenodd\" fill-opacity=\"1\" stroke=\"#000000\" stroke-opacity=\"1\" stroke-width=\"3.2\"/>\n",
       "<circle clip-path=\"url(#clip252)\" cx=\"412.589\" cy=\"912.219\" r=\"14\" fill=\"#009af9\" fill-rule=\"evenodd\" fill-opacity=\"1\" stroke=\"#000000\" stroke-opacity=\"1\" stroke-width=\"3.2\"/>\n",
       "<circle clip-path=\"url(#clip252)\" cx=\"412.589\" cy=\"872.884\" r=\"14\" fill=\"#009af9\" fill-rule=\"evenodd\" fill-opacity=\"1\" stroke=\"#000000\" stroke-opacity=\"1\" stroke-width=\"3.2\"/>\n",
       "<circle clip-path=\"url(#clip252)\" cx=\"412.589\" cy=\"833.549\" r=\"14\" fill=\"#009af9\" fill-rule=\"evenodd\" fill-opacity=\"1\" stroke=\"#000000\" stroke-opacity=\"1\" stroke-width=\"3.2\"/>\n",
       "<circle clip-path=\"url(#clip252)\" cx=\"429.842\" cy=\"833.549\" r=\"14\" fill=\"#009af9\" fill-rule=\"evenodd\" fill-opacity=\"1\" stroke=\"#000000\" stroke-opacity=\"1\" stroke-width=\"3.2\"/>\n",
       "<circle clip-path=\"url(#clip252)\" cx=\"447.096\" cy=\"833.549\" r=\"14\" fill=\"#009af9\" fill-rule=\"evenodd\" fill-opacity=\"1\" stroke=\"#000000\" stroke-opacity=\"1\" stroke-width=\"3.2\"/>\n",
       "<circle clip-path=\"url(#clip252)\" cx=\"464.349\" cy=\"833.549\" r=\"14\" fill=\"#009af9\" fill-rule=\"evenodd\" fill-opacity=\"1\" stroke=\"#000000\" stroke-opacity=\"1\" stroke-width=\"3.2\"/>\n",
       "<circle clip-path=\"url(#clip252)\" cx=\"481.603\" cy=\"794.214\" r=\"14\" fill=\"#009af9\" fill-rule=\"evenodd\" fill-opacity=\"1\" stroke=\"#000000\" stroke-opacity=\"1\" stroke-width=\"3.2\"/>\n",
       "<circle clip-path=\"url(#clip252)\" cx=\"498.857\" cy=\"794.214\" r=\"14\" fill=\"#009af9\" fill-rule=\"evenodd\" fill-opacity=\"1\" stroke=\"#000000\" stroke-opacity=\"1\" stroke-width=\"3.2\"/>\n",
       "<circle clip-path=\"url(#clip252)\" cx=\"498.857\" cy=\"754.879\" r=\"14\" fill=\"#009af9\" fill-rule=\"evenodd\" fill-opacity=\"1\" stroke=\"#000000\" stroke-opacity=\"1\" stroke-width=\"3.2\"/>\n",
       "<circle clip-path=\"url(#clip252)\" cx=\"516.11\" cy=\"754.879\" r=\"14\" fill=\"#009af9\" fill-rule=\"evenodd\" fill-opacity=\"1\" stroke=\"#000000\" stroke-opacity=\"1\" stroke-width=\"3.2\"/>\n",
       "<circle clip-path=\"url(#clip252)\" cx=\"516.11\" cy=\"715.545\" r=\"14\" fill=\"#009af9\" fill-rule=\"evenodd\" fill-opacity=\"1\" stroke=\"#000000\" stroke-opacity=\"1\" stroke-width=\"3.2\"/>\n",
       "<circle clip-path=\"url(#clip252)\" cx=\"533.364\" cy=\"715.545\" r=\"14\" fill=\"#009af9\" fill-rule=\"evenodd\" fill-opacity=\"1\" stroke=\"#000000\" stroke-opacity=\"1\" stroke-width=\"3.2\"/>\n",
       "<circle clip-path=\"url(#clip252)\" cx=\"550.617\" cy=\"715.545\" r=\"14\" fill=\"#009af9\" fill-rule=\"evenodd\" fill-opacity=\"1\" stroke=\"#000000\" stroke-opacity=\"1\" stroke-width=\"3.2\"/>\n",
       "<circle clip-path=\"url(#clip252)\" cx=\"550.617\" cy=\"676.21\" r=\"14\" fill=\"#009af9\" fill-rule=\"evenodd\" fill-opacity=\"1\" stroke=\"#000000\" stroke-opacity=\"1\" stroke-width=\"3.2\"/>\n",
       "<circle clip-path=\"url(#clip252)\" cx=\"550.617\" cy=\"636.875\" r=\"14\" fill=\"#009af9\" fill-rule=\"evenodd\" fill-opacity=\"1\" stroke=\"#000000\" stroke-opacity=\"1\" stroke-width=\"3.2\"/>\n",
       "<circle clip-path=\"url(#clip252)\" cx=\"567.871\" cy=\"636.875\" r=\"14\" fill=\"#009af9\" fill-rule=\"evenodd\" fill-opacity=\"1\" stroke=\"#000000\" stroke-opacity=\"1\" stroke-width=\"3.2\"/>\n",
       "<circle clip-path=\"url(#clip252)\" cx=\"602.378\" cy=\"636.875\" r=\"14\" fill=\"#009af9\" fill-rule=\"evenodd\" fill-opacity=\"1\" stroke=\"#000000\" stroke-opacity=\"1\" stroke-width=\"3.2\"/>\n",
       "<circle clip-path=\"url(#clip252)\" cx=\"602.378\" cy=\"597.54\" r=\"14\" fill=\"#009af9\" fill-rule=\"evenodd\" fill-opacity=\"1\" stroke=\"#000000\" stroke-opacity=\"1\" stroke-width=\"3.2\"/>\n",
       "<circle clip-path=\"url(#clip252)\" cx=\"619.632\" cy=\"597.54\" r=\"14\" fill=\"#009af9\" fill-rule=\"evenodd\" fill-opacity=\"1\" stroke=\"#000000\" stroke-opacity=\"1\" stroke-width=\"3.2\"/>\n",
       "<circle clip-path=\"url(#clip252)\" cx=\"619.632\" cy=\"558.205\" r=\"14\" fill=\"#009af9\" fill-rule=\"evenodd\" fill-opacity=\"1\" stroke=\"#000000\" stroke-opacity=\"1\" stroke-width=\"3.2\"/>\n",
       "<circle clip-path=\"url(#clip252)\" cx=\"636.885\" cy=\"558.205\" r=\"14\" fill=\"#009af9\" fill-rule=\"evenodd\" fill-opacity=\"1\" stroke=\"#000000\" stroke-opacity=\"1\" stroke-width=\"3.2\"/>\n",
       "<circle clip-path=\"url(#clip252)\" cx=\"671.393\" cy=\"558.205\" r=\"14\" fill=\"#009af9\" fill-rule=\"evenodd\" fill-opacity=\"1\" stroke=\"#000000\" stroke-opacity=\"1\" stroke-width=\"3.2\"/>\n",
       "<circle clip-path=\"url(#clip252)\" cx=\"688.646\" cy=\"558.205\" r=\"14\" fill=\"#009af9\" fill-rule=\"evenodd\" fill-opacity=\"1\" stroke=\"#000000\" stroke-opacity=\"1\" stroke-width=\"3.2\"/>\n",
       "<circle clip-path=\"url(#clip252)\" cx=\"688.646\" cy=\"518.87\" r=\"14\" fill=\"#009af9\" fill-rule=\"evenodd\" fill-opacity=\"1\" stroke=\"#000000\" stroke-opacity=\"1\" stroke-width=\"3.2\"/>\n",
       "<circle clip-path=\"url(#clip252)\" cx=\"705.9\" cy=\"518.87\" r=\"14\" fill=\"#009af9\" fill-rule=\"evenodd\" fill-opacity=\"1\" stroke=\"#000000\" stroke-opacity=\"1\" stroke-width=\"3.2\"/>\n",
       "<circle clip-path=\"url(#clip252)\" cx=\"723.153\" cy=\"518.87\" r=\"14\" fill=\"#009af9\" fill-rule=\"evenodd\" fill-opacity=\"1\" stroke=\"#000000\" stroke-opacity=\"1\" stroke-width=\"3.2\"/>\n",
       "<circle clip-path=\"url(#clip252)\" cx=\"740.407\" cy=\"518.87\" r=\"14\" fill=\"#009af9\" fill-rule=\"evenodd\" fill-opacity=\"1\" stroke=\"#000000\" stroke-opacity=\"1\" stroke-width=\"3.2\"/>\n",
       "<circle clip-path=\"url(#clip252)\" cx=\"740.407\" cy=\"479.535\" r=\"14\" fill=\"#009af9\" fill-rule=\"evenodd\" fill-opacity=\"1\" stroke=\"#000000\" stroke-opacity=\"1\" stroke-width=\"3.2\"/>\n",
       "<circle clip-path=\"url(#clip252)\" cx=\"740.407\" cy=\"440.2\" r=\"14\" fill=\"#009af9\" fill-rule=\"evenodd\" fill-opacity=\"1\" stroke=\"#000000\" stroke-opacity=\"1\" stroke-width=\"3.2\"/>\n",
       "<circle clip-path=\"url(#clip252)\" cx=\"774.914\" cy=\"400.865\" r=\"14\" fill=\"#009af9\" fill-rule=\"evenodd\" fill-opacity=\"1\" stroke=\"#000000\" stroke-opacity=\"1\" stroke-width=\"3.2\"/>\n",
       "<circle clip-path=\"url(#clip252)\" cx=\"792.168\" cy=\"400.865\" r=\"14\" fill=\"#009af9\" fill-rule=\"evenodd\" fill-opacity=\"1\" stroke=\"#000000\" stroke-opacity=\"1\" stroke-width=\"3.2\"/>\n",
       "<circle clip-path=\"url(#clip252)\" cx=\"809.421\" cy=\"400.865\" r=\"14\" fill=\"#009af9\" fill-rule=\"evenodd\" fill-opacity=\"1\" stroke=\"#000000\" stroke-opacity=\"1\" stroke-width=\"3.2\"/>\n",
       "<circle clip-path=\"url(#clip252)\" cx=\"809.421\" cy=\"361.53\" r=\"14\" fill=\"#009af9\" fill-rule=\"evenodd\" fill-opacity=\"1\" stroke=\"#000000\" stroke-opacity=\"1\" stroke-width=\"3.2\"/>\n",
       "<circle clip-path=\"url(#clip252)\" cx=\"826.675\" cy=\"361.53\" r=\"14\" fill=\"#009af9\" fill-rule=\"evenodd\" fill-opacity=\"1\" stroke=\"#000000\" stroke-opacity=\"1\" stroke-width=\"3.2\"/>\n",
       "<circle clip-path=\"url(#clip252)\" cx=\"826.675\" cy=\"322.195\" r=\"14\" fill=\"#009af9\" fill-rule=\"evenodd\" fill-opacity=\"1\" stroke=\"#000000\" stroke-opacity=\"1\" stroke-width=\"3.2\"/>\n",
       "<circle clip-path=\"url(#clip252)\" cx=\"826.675\" cy=\"282.86\" r=\"14\" fill=\"#009af9\" fill-rule=\"evenodd\" fill-opacity=\"1\" stroke=\"#000000\" stroke-opacity=\"1\" stroke-width=\"3.2\"/>\n",
       "<circle clip-path=\"url(#clip252)\" cx=\"843.929\" cy=\"282.86\" r=\"14\" fill=\"#009af9\" fill-rule=\"evenodd\" fill-opacity=\"1\" stroke=\"#000000\" stroke-opacity=\"1\" stroke-width=\"3.2\"/>\n",
       "<circle clip-path=\"url(#clip252)\" cx=\"861.182\" cy=\"282.86\" r=\"14\" fill=\"#009af9\" fill-rule=\"evenodd\" fill-opacity=\"1\" stroke=\"#000000\" stroke-opacity=\"1\" stroke-width=\"3.2\"/>\n",
       "<circle clip-path=\"url(#clip252)\" cx=\"878.436\" cy=\"282.86\" r=\"14\" fill=\"#009af9\" fill-rule=\"evenodd\" fill-opacity=\"1\" stroke=\"#000000\" stroke-opacity=\"1\" stroke-width=\"3.2\"/>\n",
       "<circle clip-path=\"url(#clip252)\" cx=\"895.689\" cy=\"282.86\" r=\"14\" fill=\"#009af9\" fill-rule=\"evenodd\" fill-opacity=\"1\" stroke=\"#000000\" stroke-opacity=\"1\" stroke-width=\"3.2\"/>\n",
       "<circle clip-path=\"url(#clip252)\" cx=\"912.943\" cy=\"282.86\" r=\"14\" fill=\"#009af9\" fill-rule=\"evenodd\" fill-opacity=\"1\" stroke=\"#000000\" stroke-opacity=\"1\" stroke-width=\"3.2\"/>\n",
       "<circle clip-path=\"url(#clip252)\" cx=\"930.197\" cy=\"282.86\" r=\"14\" fill=\"#009af9\" fill-rule=\"evenodd\" fill-opacity=\"1\" stroke=\"#000000\" stroke-opacity=\"1\" stroke-width=\"3.2\"/>\n",
       "<circle clip-path=\"url(#clip252)\" cx=\"947.45\" cy=\"282.86\" r=\"14\" fill=\"#009af9\" fill-rule=\"evenodd\" fill-opacity=\"1\" stroke=\"#000000\" stroke-opacity=\"1\" stroke-width=\"3.2\"/>\n",
       "<circle clip-path=\"url(#clip252)\" cx=\"964.704\" cy=\"282.86\" r=\"14\" fill=\"#009af9\" fill-rule=\"evenodd\" fill-opacity=\"1\" stroke=\"#000000\" stroke-opacity=\"1\" stroke-width=\"3.2\"/>\n",
       "<circle clip-path=\"url(#clip252)\" cx=\"981.957\" cy=\"282.86\" r=\"14\" fill=\"#009af9\" fill-rule=\"evenodd\" fill-opacity=\"1\" stroke=\"#000000\" stroke-opacity=\"1\" stroke-width=\"3.2\"/>\n",
       "<circle clip-path=\"url(#clip252)\" cx=\"999.211\" cy=\"282.86\" r=\"14\" fill=\"#009af9\" fill-rule=\"evenodd\" fill-opacity=\"1\" stroke=\"#000000\" stroke-opacity=\"1\" stroke-width=\"3.2\"/>\n",
       "<circle clip-path=\"url(#clip252)\" cx=\"1016.46\" cy=\"282.86\" r=\"14\" fill=\"#009af9\" fill-rule=\"evenodd\" fill-opacity=\"1\" stroke=\"#000000\" stroke-opacity=\"1\" stroke-width=\"3.2\"/>\n",
       "<circle clip-path=\"url(#clip252)\" cx=\"1033.72\" cy=\"282.86\" r=\"14\" fill=\"#009af9\" fill-rule=\"evenodd\" fill-opacity=\"1\" stroke=\"#000000\" stroke-opacity=\"1\" stroke-width=\"3.2\"/>\n",
       "<circle clip-path=\"url(#clip252)\" cx=\"1050.97\" cy=\"282.86\" r=\"14\" fill=\"#009af9\" fill-rule=\"evenodd\" fill-opacity=\"1\" stroke=\"#000000\" stroke-opacity=\"1\" stroke-width=\"3.2\"/>\n",
       "<circle clip-path=\"url(#clip252)\" cx=\"1068.23\" cy=\"282.86\" r=\"14\" fill=\"#009af9\" fill-rule=\"evenodd\" fill-opacity=\"1\" stroke=\"#000000\" stroke-opacity=\"1\" stroke-width=\"3.2\"/>\n",
       "<circle clip-path=\"url(#clip252)\" cx=\"1085.48\" cy=\"282.86\" r=\"14\" fill=\"#009af9\" fill-rule=\"evenodd\" fill-opacity=\"1\" stroke=\"#000000\" stroke-opacity=\"1\" stroke-width=\"3.2\"/>\n",
       "<circle clip-path=\"url(#clip252)\" cx=\"1102.73\" cy=\"282.86\" r=\"14\" fill=\"#009af9\" fill-rule=\"evenodd\" fill-opacity=\"1\" stroke=\"#000000\" stroke-opacity=\"1\" stroke-width=\"3.2\"/>\n",
       "<circle clip-path=\"url(#clip252)\" cx=\"1119.99\" cy=\"282.86\" r=\"14\" fill=\"#009af9\" fill-rule=\"evenodd\" fill-opacity=\"1\" stroke=\"#000000\" stroke-opacity=\"1\" stroke-width=\"3.2\"/>\n",
       "<circle clip-path=\"url(#clip252)\" cx=\"1154.49\" cy=\"282.86\" r=\"14\" fill=\"#009af9\" fill-rule=\"evenodd\" fill-opacity=\"1\" stroke=\"#000000\" stroke-opacity=\"1\" stroke-width=\"3.2\"/>\n",
       "<circle clip-path=\"url(#clip252)\" cx=\"1171.75\" cy=\"282.86\" r=\"14\" fill=\"#009af9\" fill-rule=\"evenodd\" fill-opacity=\"1\" stroke=\"#000000\" stroke-opacity=\"1\" stroke-width=\"3.2\"/>\n",
       "<circle clip-path=\"url(#clip252)\" cx=\"1189\" cy=\"282.86\" r=\"14\" fill=\"#009af9\" fill-rule=\"evenodd\" fill-opacity=\"1\" stroke=\"#000000\" stroke-opacity=\"1\" stroke-width=\"3.2\"/>\n",
       "<circle clip-path=\"url(#clip252)\" cx=\"1206.25\" cy=\"282.86\" r=\"14\" fill=\"#009af9\" fill-rule=\"evenodd\" fill-opacity=\"1\" stroke=\"#000000\" stroke-opacity=\"1\" stroke-width=\"3.2\"/>\n",
       "<circle clip-path=\"url(#clip252)\" cx=\"1206.25\" cy=\"243.525\" r=\"14\" fill=\"#009af9\" fill-rule=\"evenodd\" fill-opacity=\"1\" stroke=\"#000000\" stroke-opacity=\"1\" stroke-width=\"3.2\"/>\n",
       "<circle clip-path=\"url(#clip252)\" cx=\"1223.51\" cy=\"243.525\" r=\"14\" fill=\"#009af9\" fill-rule=\"evenodd\" fill-opacity=\"1\" stroke=\"#000000\" stroke-opacity=\"1\" stroke-width=\"3.2\"/>\n",
       "<circle clip-path=\"url(#clip252)\" cx=\"1240.76\" cy=\"243.525\" r=\"14\" fill=\"#009af9\" fill-rule=\"evenodd\" fill-opacity=\"1\" stroke=\"#000000\" stroke-opacity=\"1\" stroke-width=\"3.2\"/>\n",
       "<circle clip-path=\"url(#clip252)\" cx=\"1240.76\" cy=\"204.19\" r=\"14\" fill=\"#009af9\" fill-rule=\"evenodd\" fill-opacity=\"1\" stroke=\"#000000\" stroke-opacity=\"1\" stroke-width=\"3.2\"/>\n",
       "<circle clip-path=\"url(#clip252)\" cx=\"1258.01\" cy=\"204.19\" r=\"14\" fill=\"#009af9\" fill-rule=\"evenodd\" fill-opacity=\"1\" stroke=\"#000000\" stroke-opacity=\"1\" stroke-width=\"3.2\"/>\n",
       "<circle clip-path=\"url(#clip252)\" cx=\"1275.27\" cy=\"204.19\" r=\"14\" fill=\"#009af9\" fill-rule=\"evenodd\" fill-opacity=\"1\" stroke=\"#000000\" stroke-opacity=\"1\" stroke-width=\"3.2\"/>\n",
       "<circle clip-path=\"url(#clip252)\" cx=\"1292.52\" cy=\"204.19\" r=\"14\" fill=\"#009af9\" fill-rule=\"evenodd\" fill-opacity=\"1\" stroke=\"#000000\" stroke-opacity=\"1\" stroke-width=\"3.2\"/>\n",
       "<circle clip-path=\"url(#clip252)\" cx=\"1309.78\" cy=\"204.19\" r=\"14\" fill=\"#009af9\" fill-rule=\"evenodd\" fill-opacity=\"1\" stroke=\"#000000\" stroke-opacity=\"1\" stroke-width=\"3.2\"/>\n",
       "<circle clip-path=\"url(#clip252)\" cx=\"1309.78\" cy=\"164.856\" r=\"14\" fill=\"#009af9\" fill-rule=\"evenodd\" fill-opacity=\"1\" stroke=\"#000000\" stroke-opacity=\"1\" stroke-width=\"3.2\"/>\n",
       "<circle clip-path=\"url(#clip252)\" cx=\"1327.03\" cy=\"164.856\" r=\"14\" fill=\"#009af9\" fill-rule=\"evenodd\" fill-opacity=\"1\" stroke=\"#000000\" stroke-opacity=\"1\" stroke-width=\"3.2\"/>\n",
       "<circle clip-path=\"url(#clip252)\" cx=\"1344.28\" cy=\"164.856\" r=\"14\" fill=\"#009af9\" fill-rule=\"evenodd\" fill-opacity=\"1\" stroke=\"#000000\" stroke-opacity=\"1\" stroke-width=\"3.2\"/>\n",
       "<circle clip-path=\"url(#clip252)\" cx=\"1361.54\" cy=\"164.856\" r=\"14\" fill=\"#009af9\" fill-rule=\"evenodd\" fill-opacity=\"1\" stroke=\"#000000\" stroke-opacity=\"1\" stroke-width=\"3.2\"/>\n",
       "<circle clip-path=\"url(#clip252)\" cx=\"1378.79\" cy=\"164.856\" r=\"14\" fill=\"#009af9\" fill-rule=\"evenodd\" fill-opacity=\"1\" stroke=\"#000000\" stroke-opacity=\"1\" stroke-width=\"3.2\"/>\n",
       "<circle clip-path=\"url(#clip252)\" cx=\"1396.04\" cy=\"164.856\" r=\"14\" fill=\"#009af9\" fill-rule=\"evenodd\" fill-opacity=\"1\" stroke=\"#000000\" stroke-opacity=\"1\" stroke-width=\"3.2\"/>\n",
       "<circle clip-path=\"url(#clip252)\" cx=\"1396.04\" cy=\"125.521\" r=\"14\" fill=\"#009af9\" fill-rule=\"evenodd\" fill-opacity=\"1\" stroke=\"#000000\" stroke-opacity=\"1\" stroke-width=\"3.2\"/>\n",
       "<circle clip-path=\"url(#clip252)\" cx=\"1413.3\" cy=\"125.521\" r=\"14\" fill=\"#009af9\" fill-rule=\"evenodd\" fill-opacity=\"1\" stroke=\"#000000\" stroke-opacity=\"1\" stroke-width=\"3.2\"/>\n",
       "<circle clip-path=\"url(#clip252)\" cx=\"1430.55\" cy=\"125.521\" r=\"14\" fill=\"#009af9\" fill-rule=\"evenodd\" fill-opacity=\"1\" stroke=\"#000000\" stroke-opacity=\"1\" stroke-width=\"3.2\"/>\n",
       "<circle clip-path=\"url(#clip252)\" cx=\"1447.8\" cy=\"125.521\" r=\"14\" fill=\"#009af9\" fill-rule=\"evenodd\" fill-opacity=\"1\" stroke=\"#000000\" stroke-opacity=\"1\" stroke-width=\"3.2\"/>\n",
       "<circle clip-path=\"url(#clip252)\" cx=\"1465.06\" cy=\"125.521\" r=\"14\" fill=\"#009af9\" fill-rule=\"evenodd\" fill-opacity=\"1\" stroke=\"#000000\" stroke-opacity=\"1\" stroke-width=\"3.2\"/>\n",
       "<circle clip-path=\"url(#clip252)\" cx=\"1482.31\" cy=\"125.521\" r=\"14\" fill=\"#009af9\" fill-rule=\"evenodd\" fill-opacity=\"1\" stroke=\"#000000\" stroke-opacity=\"1\" stroke-width=\"3.2\"/>\n",
       "<circle clip-path=\"url(#clip252)\" cx=\"1499.57\" cy=\"125.521\" r=\"14\" fill=\"#009af9\" fill-rule=\"evenodd\" fill-opacity=\"1\" stroke=\"#000000\" stroke-opacity=\"1\" stroke-width=\"3.2\"/>\n",
       "<circle clip-path=\"url(#clip252)\" cx=\"1516.82\" cy=\"125.521\" r=\"14\" fill=\"#009af9\" fill-rule=\"evenodd\" fill-opacity=\"1\" stroke=\"#000000\" stroke-opacity=\"1\" stroke-width=\"3.2\"/>\n",
       "<circle clip-path=\"url(#clip252)\" cx=\"1551.33\" cy=\"125.521\" r=\"14\" fill=\"#009af9\" fill-rule=\"evenodd\" fill-opacity=\"1\" stroke=\"#000000\" stroke-opacity=\"1\" stroke-width=\"3.2\"/>\n",
       "<circle clip-path=\"url(#clip252)\" cx=\"1568.58\" cy=\"125.521\" r=\"14\" fill=\"#009af9\" fill-rule=\"evenodd\" fill-opacity=\"1\" stroke=\"#000000\" stroke-opacity=\"1\" stroke-width=\"3.2\"/>\n",
       "<circle clip-path=\"url(#clip252)\" cx=\"1585.83\" cy=\"125.521\" r=\"14\" fill=\"#009af9\" fill-rule=\"evenodd\" fill-opacity=\"1\" stroke=\"#000000\" stroke-opacity=\"1\" stroke-width=\"3.2\"/>\n",
       "<circle clip-path=\"url(#clip252)\" cx=\"1603.09\" cy=\"125.521\" r=\"14\" fill=\"#009af9\" fill-rule=\"evenodd\" fill-opacity=\"1\" stroke=\"#000000\" stroke-opacity=\"1\" stroke-width=\"3.2\"/>\n",
       "<circle clip-path=\"url(#clip252)\" cx=\"1654.85\" cy=\"125.521\" r=\"14\" fill=\"#009af9\" fill-rule=\"evenodd\" fill-opacity=\"1\" stroke=\"#000000\" stroke-opacity=\"1\" stroke-width=\"3.2\"/>\n",
       "<circle clip-path=\"url(#clip252)\" cx=\"1672.1\" cy=\"125.521\" r=\"14\" fill=\"#009af9\" fill-rule=\"evenodd\" fill-opacity=\"1\" stroke=\"#000000\" stroke-opacity=\"1\" stroke-width=\"3.2\"/>\n",
       "<circle clip-path=\"url(#clip252)\" cx=\"1689.35\" cy=\"125.521\" r=\"14\" fill=\"#009af9\" fill-rule=\"evenodd\" fill-opacity=\"1\" stroke=\"#000000\" stroke-opacity=\"1\" stroke-width=\"3.2\"/>\n",
       "<circle clip-path=\"url(#clip252)\" cx=\"1706.61\" cy=\"125.521\" r=\"14\" fill=\"#009af9\" fill-rule=\"evenodd\" fill-opacity=\"1\" stroke=\"#000000\" stroke-opacity=\"1\" stroke-width=\"3.2\"/>\n",
       "<circle clip-path=\"url(#clip252)\" cx=\"1723.86\" cy=\"125.521\" r=\"14\" fill=\"#009af9\" fill-rule=\"evenodd\" fill-opacity=\"1\" stroke=\"#000000\" stroke-opacity=\"1\" stroke-width=\"3.2\"/>\n",
       "<circle clip-path=\"url(#clip252)\" cx=\"1741.12\" cy=\"125.521\" r=\"14\" fill=\"#009af9\" fill-rule=\"evenodd\" fill-opacity=\"1\" stroke=\"#000000\" stroke-opacity=\"1\" stroke-width=\"3.2\"/>\n",
       "<circle clip-path=\"url(#clip252)\" cx=\"1741.12\" cy=\"86.1857\" r=\"14\" fill=\"#009af9\" fill-rule=\"evenodd\" fill-opacity=\"1\" stroke=\"#000000\" stroke-opacity=\"1\" stroke-width=\"3.2\"/>\n",
       "<circle clip-path=\"url(#clip252)\" cx=\"1758.37\" cy=\"86.1857\" r=\"14\" fill=\"#009af9\" fill-rule=\"evenodd\" fill-opacity=\"1\" stroke=\"#000000\" stroke-opacity=\"1\" stroke-width=\"3.2\"/>\n",
       "<circle clip-path=\"url(#clip252)\" cx=\"1775.62\" cy=\"86.1857\" r=\"14\" fill=\"#009af9\" fill-rule=\"evenodd\" fill-opacity=\"1\" stroke=\"#000000\" stroke-opacity=\"1\" stroke-width=\"3.2\"/>\n",
       "<circle clip-path=\"url(#clip252)\" cx=\"1792.88\" cy=\"86.1857\" r=\"14\" fill=\"#009af9\" fill-rule=\"evenodd\" fill-opacity=\"1\" stroke=\"#000000\" stroke-opacity=\"1\" stroke-width=\"3.2\"/>\n",
       "<circle clip-path=\"url(#clip252)\" cx=\"1810.13\" cy=\"86.1857\" r=\"14\" fill=\"#009af9\" fill-rule=\"evenodd\" fill-opacity=\"1\" stroke=\"#000000\" stroke-opacity=\"1\" stroke-width=\"3.2\"/>\n",
       "<circle clip-path=\"url(#clip252)\" cx=\"1827.38\" cy=\"86.1857\" r=\"14\" fill=\"#009af9\" fill-rule=\"evenodd\" fill-opacity=\"1\" stroke=\"#000000\" stroke-opacity=\"1\" stroke-width=\"3.2\"/>\n",
       "<circle clip-path=\"url(#clip252)\" cx=\"1844.64\" cy=\"86.1857\" r=\"14\" fill=\"#009af9\" fill-rule=\"evenodd\" fill-opacity=\"1\" stroke=\"#000000\" stroke-opacity=\"1\" stroke-width=\"3.2\"/>\n",
       "<circle clip-path=\"url(#clip252)\" cx=\"1861.89\" cy=\"86.1857\" r=\"14\" fill=\"#009af9\" fill-rule=\"evenodd\" fill-opacity=\"1\" stroke=\"#000000\" stroke-opacity=\"1\" stroke-width=\"3.2\"/>\n",
       "<circle clip-path=\"url(#clip252)\" cx=\"1913.65\" cy=\"86.1857\" r=\"14\" fill=\"#009af9\" fill-rule=\"evenodd\" fill-opacity=\"1\" stroke=\"#000000\" stroke-opacity=\"1\" stroke-width=\"3.2\"/>\n",
       "<circle clip-path=\"url(#clip252)\" cx=\"1965.41\" cy=\"86.1857\" r=\"14\" fill=\"#009af9\" fill-rule=\"evenodd\" fill-opacity=\"1\" stroke=\"#000000\" stroke-opacity=\"1\" stroke-width=\"3.2\"/>\n",
       "<circle clip-path=\"url(#clip252)\" cx=\"1982.67\" cy=\"86.1857\" r=\"14\" fill=\"#009af9\" fill-rule=\"evenodd\" fill-opacity=\"1\" stroke=\"#000000\" stroke-opacity=\"1\" stroke-width=\"3.2\"/>\n",
       "<circle clip-path=\"url(#clip252)\" cx=\"1999.92\" cy=\"86.1857\" r=\"14\" fill=\"#009af9\" fill-rule=\"evenodd\" fill-opacity=\"1\" stroke=\"#000000\" stroke-opacity=\"1\" stroke-width=\"3.2\"/>\n",
       "<circle clip-path=\"url(#clip252)\" cx=\"2017.17\" cy=\"86.1857\" r=\"14\" fill=\"#009af9\" fill-rule=\"evenodd\" fill-opacity=\"1\" stroke=\"#000000\" stroke-opacity=\"1\" stroke-width=\"3.2\"/>\n",
       "<circle clip-path=\"url(#clip252)\" cx=\"2034.43\" cy=\"86.1857\" r=\"14\" fill=\"#009af9\" fill-rule=\"evenodd\" fill-opacity=\"1\" stroke=\"#000000\" stroke-opacity=\"1\" stroke-width=\"3.2\"/>\n",
       "<circle clip-path=\"url(#clip252)\" cx=\"2086.19\" cy=\"86.1857\" r=\"14\" fill=\"#009af9\" fill-rule=\"evenodd\" fill-opacity=\"1\" stroke=\"#000000\" stroke-opacity=\"1\" stroke-width=\"3.2\"/>\n",
       "<circle clip-path=\"url(#clip252)\" cx=\"2103.44\" cy=\"86.1857\" r=\"14\" fill=\"#009af9\" fill-rule=\"evenodd\" fill-opacity=\"1\" stroke=\"#000000\" stroke-opacity=\"1\" stroke-width=\"3.2\"/>\n",
       "<circle clip-path=\"url(#clip252)\" cx=\"2120.69\" cy=\"86.1857\" r=\"14\" fill=\"#009af9\" fill-rule=\"evenodd\" fill-opacity=\"1\" stroke=\"#000000\" stroke-opacity=\"1\" stroke-width=\"3.2\"/>\n",
       "<circle clip-path=\"url(#clip252)\" cx=\"2189.71\" cy=\"86.1857\" r=\"14\" fill=\"#009af9\" fill-rule=\"evenodd\" fill-opacity=\"1\" stroke=\"#000000\" stroke-opacity=\"1\" stroke-width=\"3.2\"/>\n",
       "<circle clip-path=\"url(#clip252)\" cx=\"2206.96\" cy=\"86.1857\" r=\"14\" fill=\"#009af9\" fill-rule=\"evenodd\" fill-opacity=\"1\" stroke=\"#000000\" stroke-opacity=\"1\" stroke-width=\"3.2\"/>\n",
       "<circle clip-path=\"url(#clip252)\" cx=\"2224.22\" cy=\"86.1857\" r=\"14\" fill=\"#009af9\" fill-rule=\"evenodd\" fill-opacity=\"1\" stroke=\"#000000\" stroke-opacity=\"1\" stroke-width=\"3.2\"/>\n",
       "<circle clip-path=\"url(#clip252)\" cx=\"2241.47\" cy=\"86.1857\" r=\"14\" fill=\"#009af9\" fill-rule=\"evenodd\" fill-opacity=\"1\" stroke=\"#000000\" stroke-opacity=\"1\" stroke-width=\"3.2\"/>\n",
       "<circle clip-path=\"url(#clip252)\" cx=\"2275.98\" cy=\"86.1857\" r=\"14\" fill=\"#009af9\" fill-rule=\"evenodd\" fill-opacity=\"1\" stroke=\"#000000\" stroke-opacity=\"1\" stroke-width=\"3.2\"/>\n",
       "<circle clip-path=\"url(#clip252)\" cx=\"2293.23\" cy=\"86.1857\" r=\"14\" fill=\"#009af9\" fill-rule=\"evenodd\" fill-opacity=\"1\" stroke=\"#000000\" stroke-opacity=\"1\" stroke-width=\"3.2\"/>\n",
       "<polyline clip-path=\"url(#clip252)\" style=\"stroke:#000000; stroke-linecap:butt; stroke-linejoin:round; stroke-width:8; stroke-opacity:1; fill:none\" stroke-dasharray=\"32, 20\" points=\"\n",
       "  309.067,1384.24 2293.23,86.1857 \n",
       "  \"/>\n",
       "</svg>\n"
      ]
     },
     "execution_count": 42,
     "metadata": {},
     "output_type": "execute_result"
    }
   ],
   "source": [
    "roc_curve = roc(ŷ, y[validation])\n",
    "plt = scatter(roc_curve, legend=false)\n",
    "plot!(plt, xlab=\"false positive rate\", ylab=\"true positive rate\")\n",
    "plot!([0, 1], [0, 1], linewidth=2, linestyle=:dash, color=:black)"
   ]
  },
  {
   "cell_type": "markdown",
   "metadata": {},
   "source": [
    "### Automated performance evaluation (more typical workflow)"
   ]
  },
  {
   "cell_type": "markdown",
   "metadata": {},
   "source": [
    "We can also get performance estimates with a single call to the\n",
    "`evaluate` function, which also allows for more complicated\n",
    "resampling - in this case stratified cross-validation. To make this\n",
    "more comprehensive, we set `repeats=3` below to make our\n",
    "cross-validation \"Monte Carlo\" (3 random size-6 partitions of the\n",
    "observation space, for a total of 18 folds) and set\n",
    "`acceleration=CPUThreads()` to parallelize the computation."
   ]
  },
  {
   "cell_type": "markdown",
   "metadata": {},
   "source": [
    "We choose a `StratifiedCV` resampling strategy; the complete list of options is\n",
    "[here](https://alan-turing-institute.github.io/MLJ.jl/dev/evaluating_model_performance/#Built-in-resampling-strategies)."
   ]
  },
  {
   "cell_type": "code",
   "execution_count": 43,
   "metadata": {},
   "outputs": [
    {
     "name": "stderr",
     "output_type": "stream",
     "text": [
      "┌ Info: Performing evaluations using 5 threads.\n",
      "└ @ MLJBase /Users/anthony/.julia/packages/MLJBase/pCiRR/src/resampling.jl:1177\n",
      "\u001b[33mEvaluating over 18 folds: 100%[=========================] Time: 0:00:02\u001b[39m\n"
     ]
    },
    {
     "data": {
      "text/plain": [
       "PerformanceEvaluation object with these fields:\n",
       "  measure, measurement, operation, per_fold,\n",
       "  per_observation, fitted_params_per_fold,\n",
       "  report_per_fold, train_test_pairs\n",
       "Extract:\n",
       "┌──────────────────┬─────────────┬──────────────┬───────────────────────────────\n",
       "│\u001b[22m measure          \u001b[0m│\u001b[22m measurement \u001b[0m│\u001b[22m operation    \u001b[0m│\u001b[22m per_fold                    \u001b[0m ⋯\n",
       "├──────────────────┼─────────────┼──────────────┼───────────────────────────────\n",
       "│ BrierLoss()      │ 0.313       │ predict      │ [0.296, 0.346, 0.289, 0.337, ⋯\n",
       "│ AreaUnderCurve() │ 0.789       │ predict      │ [0.791, 0.732, 0.8, 0.778, 0 ⋯\n",
       "│ Accuracy()       │ 0.781       │ predict_mode │ [0.795, 0.78, 0.768, 0.744,  ⋯\n",
       "└──────────────────┴─────────────┴──────────────┴───────────────────────────────\n",
       "\u001b[36m                                                                1 column omitted\u001b[0m\n"
      ]
     },
     "execution_count": 43,
     "metadata": {},
     "output_type": "execute_result"
    }
   ],
   "source": [
    "e_pipe = evaluate(pipe, X, y,\n",
    "                  resampling=StratifiedCV(nfolds=6, rng=123),\n",
    "                  measures=[brier_loss, auc, accuracy],\n",
    "                  repeats=3,\n",
    "                  acceleration=CPUThreads())"
   ]
  },
  {
   "cell_type": "markdown",
   "metadata": {},
   "source": [
    "(There is also a version of `evaluate` for machines. Query the\n",
    "`evaluate` and `evaluate!` doc-strings to learn more about these\n",
    "functions and what the `PerformanceEvaluation` object `e_pipe` records.)"
   ]
  },
  {
   "cell_type": "markdown",
   "metadata": {},
   "source": [
    "While [less than ideal](https://arxiv.org/abs/2104.00673), let's\n",
    "adopt the common practice of using the standard error of a\n",
    "cross-validation score as an estimate of the uncertainty of a\n",
    "performance measure's expected value. Here's a utility function to\n",
    "calculate confidence intervals for our performance estimates based\n",
    "on this practice, and it's application to the current evaluation:"
   ]
  },
  {
   "cell_type": "code",
   "execution_count": 44,
   "metadata": {},
   "outputs": [],
   "source": [
    "using Measurements"
   ]
  },
  {
   "cell_type": "code",
   "execution_count": 45,
   "metadata": {},
   "outputs": [
    {
     "data": {
      "text/html": [
       "<div class=\"data-frame\"><p>3 rows × 2 columns</p><table class=\"data-frame\"><thead><tr><th></th><th>measure</th><th>measurement</th></tr><tr><th></th><th title=\"MLJBase.Measure\">Measure</th><th title=\"Measurement{Float64}\">Measurem…</th></tr></thead><tbody><tr><th>1</th><td>BrierLoss()</td><td>0.313±0.021</td></tr><tr><th>2</th><td>AreaUnderCurve()</td><td>0.789±0.033</td></tr><tr><th>3</th><td>Accuracy()</td><td>0.781±0.021</td></tr></tbody></table></div>"
      ],
      "text/latex": [
       "\\begin{tabular}{r|cc}\n",
       "\t& measure & measurement\\\\\n",
       "\t\\hline\n",
       "\t& Measure & Measurem…\\\\\n",
       "\t\\hline\n",
       "\t1 & BrierLoss() & $0.313 \\pm 0.021$ \\\\\n",
       "\t2 & AreaUnderCurve() & $0.789 \\pm 0.033$ \\\\\n",
       "\t3 & Accuracy() & $0.781 \\pm 0.021$ \\\\\n",
       "\\end{tabular}\n"
      ],
      "text/plain": [
       "\u001b[1m3×2 DataFrame\u001b[0m\n",
       "\u001b[1m Row \u001b[0m│\u001b[1m measure          \u001b[0m\u001b[1m measurement \u001b[0m\n",
       "\u001b[1m     \u001b[0m│\u001b[90m Measure          \u001b[0m\u001b[90m Measuremen… \u001b[0m\n",
       "─────┼───────────────────────────────\n",
       "   1 │ BrierLoss()       0.313±0.021\n",
       "   2 │ AreaUnderCurve()  0.789±0.033\n",
       "   3 │ Accuracy()        0.781±0.021"
      ]
     },
     "execution_count": 45,
     "metadata": {},
     "output_type": "execute_result"
    }
   ],
   "source": [
    "function confidence_intervals(e)\n",
    "    measure = e.measure\n",
    "    nfolds = length(measure)\n",
    "    measurement = [e.measurement[j] ± std(e.per_fold[j])/sqrt(nfolds - 1)\n",
    "                   for j in eachindex(measure)]\n",
    "    table = (measure=measure, measurement=measurement)\n",
    "    return DataFrames.DataFrame(table)\n",
    "end\n",
    "\n",
    "const confidence_intervals_basic_model = confidence_intervals(e_pipe)"
   ]
  },
  {
   "cell_type": "markdown",
   "metadata": {},
   "source": [
    "## Filtering out unimportant features"
   ]
  },
  {
   "cell_type": "markdown",
   "metadata": {},
   "source": [
    "> Introduces: `FeatureSelector`"
   ]
  },
  {
   "cell_type": "markdown",
   "metadata": {},
   "source": [
    "Before continuing, we'll modify our pipeline to drop those features\n",
    "with low feature importance, to speed up later optimization:"
   ]
  },
  {
   "cell_type": "code",
   "execution_count": 46,
   "metadata": {},
   "outputs": [
    {
     "data": {
      "text/plain": [
       "ProbabilisticPipeline(\n",
       "    continuous_encoder = ContinuousEncoder(\n",
       "            drop_last = false,\n",
       "            one_hot_ordered_factors = false),\n",
       "    feature_selector = FeatureSelector(\n",
       "            features = [:OnlineBackup__No, :Partner__No, Symbol(\"Contract__Two year\"), Symbol(\"Contract__One year\"), :gender__Male, :InternetService__DSL, Symbol(\"OnlineSecurity__No internet service\"), Symbol(\"PaymentMethod__Mailed check\"), Symbol(\"PaymentMethod__Electronic check\"), :OnlineSecurity__Yes  …  :PhoneService__Yes, Symbol(\"DeviceProtection__No internet service\"), Symbol(\"StreamingTV__No internet service\"), Symbol(\"StreamingMovies__No internet service\"), Symbol(\"TechSupport__No internet service\"), :StreamingTV__No, :MultipleLines__No, Symbol(\"PaymentMethod__Credit card (automatic)\"), :MultipleLines__Yes, Symbol(\"MultipleLines__No phone service\")],\n",
       "            ignore = true),\n",
       "    evo_tree_classifier = EvoTreeClassifier(\n",
       "            loss = EvoTrees.Softmax(),\n",
       "            nrounds = 10,\n",
       "            λ = 0.0,\n",
       "            γ = 0.0,\n",
       "            η = 0.1,\n",
       "            max_depth = 5,\n",
       "            min_weight = 1.0,\n",
       "            rowsample = 1.0,\n",
       "            colsample = 1.0,\n",
       "            nbins = 64,\n",
       "            α = 0.5,\n",
       "            metric = :mlogloss,\n",
       "            rng = MersenneTwister(123, (0, 87174, 86172, 142)),\n",
       "            device = \"cpu\"),\n",
       "    cache = true)"
      ]
     },
     "execution_count": 46,
     "metadata": {},
     "output_type": "execute_result"
    }
   ],
   "source": [
    "unimportant_features = filter(:importance => <(0.005), feature_importance_table).feature\n",
    "\n",
    "pipe2 = ContinuousEncoder() |>\n",
    "    FeatureSelector(features=unimportant_features, ignore=true) |> booster"
   ]
  },
  {
   "cell_type": "markdown",
   "metadata": {},
   "source": [
    "## Wrapping our model in control strategies."
   ]
  },
  {
   "cell_type": "markdown",
   "metadata": {},
   "source": [
    "> Introduces: **control strategies:** `Step`, `NumberSinceBest`, `TimeLimit`, `InvalidValue`, **model wrapper** `IteratedModel`, **resampling strategy:** `Holdout`"
   ]
  },
  {
   "cell_type": "markdown",
   "metadata": {},
   "source": [
    "We want to optimize the hyper-parameters of our model. Since our\n",
    "model is iterative, these parameters include the (nested) iteration\n",
    "parameter `pipe.evo_tree_classifier.nrounds`. Sometimes this\n",
    "parameter is optimized first, fixed, and then maybe optimized again\n",
    "after the other parameters. Here we take a more principled approach,\n",
    "**wrapping our model in a control strategy** that makes it\n",
    "\"self-iterating\". The strategy applies a stopping criterion to\n",
    "*out-of-sample* estimates of the model performance, constructed\n",
    "using an internally constructed holdout set. In this way, we avoid\n",
    "some data hygiene issues, and, when we subsequently optimize other\n",
    "parameters, we will always being using an optimal number of\n",
    "iterations."
   ]
  },
  {
   "cell_type": "markdown",
   "metadata": {},
   "source": [
    "Note that this approach can be applied to any iterative MLJ model,\n",
    "eg, the neural network models provided by\n",
    "[MLJFlux.jl](https://github.com/FluxML/MLJFlux.jl)."
   ]
  },
  {
   "cell_type": "markdown",
   "metadata": {},
   "source": [
    "First, we select appropriate controls from [this\n",
    "list](https://alan-turing-institute.github.io/MLJ.jl/dev/controlling_iterative_models/#Controls-provided):"
   ]
  },
  {
   "cell_type": "code",
   "execution_count": 47,
   "metadata": {},
   "outputs": [
    {
     "data": {
      "text/plain": [
       "4-element Vector{Any}:\n",
       " Step(1)\n",
       " NumberSinceBest(6)\n",
       " TimeLimit(Dates.Millisecond(30000))\n",
       " InvalidValue()"
      ]
     },
     "execution_count": 47,
     "metadata": {},
     "output_type": "execute_result"
    }
   ],
   "source": [
    "controls = [\n",
    "    Step(1),              # to increment iteration parameter (`pipe.nrounds`)\n",
    "    NumberSinceBest(n=6), # main stopping criterion\n",
    "    TimeLimit(0.5/60),    # never train longer than half a minute\n",
    "    InvalidValue()        # stop if NaN or ±Inf encountered\n",
    "]"
   ]
  },
  {
   "cell_type": "markdown",
   "metadata": {},
   "source": [
    "Now we wrap our pipeline model using the `IteratedModel` wrapper,\n",
    "being sure to specify the `measure` on which internal estimates of\n",
    "the out-of-sample performance will be based:"
   ]
  },
  {
   "cell_type": "code",
   "execution_count": 48,
   "metadata": {},
   "outputs": [
    {
     "data": {
      "text/plain": [
       "ProbabilisticIteratedModel(\n",
       "    model = ProbabilisticPipeline(\n",
       "            continuous_encoder = ContinuousEncoder,\n",
       "            feature_selector = FeatureSelector,\n",
       "            evo_tree_classifier = EvoTreeClassifier{Float64,…},\n",
       "            cache = true),\n",
       "    controls = Any[Step(1), NumberSinceBest(6), TimeLimit(Dates.Millisecond(30000)), InvalidValue()],\n",
       "    resampling = Holdout(\n",
       "            fraction_train = 0.7,\n",
       "            shuffle = false,\n",
       "            rng = Random._GLOBAL_RNG()),\n",
       "    measure = BrierLoss(),\n",
       "    weights = nothing,\n",
       "    class_weights = nothing,\n",
       "    operation = MLJModelInterface.predict,\n",
       "    retrain = false,\n",
       "    check_measure = true,\n",
       "    iteration_parameter = nothing,\n",
       "    cache = true)"
      ]
     },
     "execution_count": 48,
     "metadata": {},
     "output_type": "execute_result"
    }
   ],
   "source": [
    "iterated_pipe = IteratedModel(model=pipe2,\n",
    "                              controls=controls,\n",
    "                              measure=brier_loss, # or BrierLoss()\n",
    "                              resampling=Holdout(fraction_train=0.7))"
   ]
  },
  {
   "cell_type": "markdown",
   "metadata": {},
   "source": [
    "We've set `resampling=Holdout(fraction_train=0.7)` to arrange that\n",
    "data attached to our model should be internally split into a train\n",
    "set (70%) and a holdout set (30%) for determining the out-of-sample\n",
    "estimate of the Brier loss."
   ]
  },
  {
   "cell_type": "markdown",
   "metadata": {},
   "source": [
    "For demonstration purposes, let's bind `iterated_model` to all data\n",
    "not in our don't-touch holdout set, and train on all of that data:"
   ]
  },
  {
   "cell_type": "code",
   "execution_count": 49,
   "metadata": {},
   "outputs": [
    {
     "name": "stderr",
     "output_type": "stream",
     "text": [
      "┌ Info: Training Machine{ProbabilisticIteratedModel{ProbabilisticPipeline{NamedTuple{,…},…}},…}.\n",
      "└ @ MLJBase /Users/anthony/.julia/packages/MLJBase/pCiRR/src/machines.jl:464\n",
      "┌ Info: No iteration parameter specified. Using `iteration_parameter=:(evo_tree_classifier.nrounds)`. \n",
      "└ @ MLJIteration /Users/anthony/.julia/packages/MLJIteration/Wc51L/src/core.jl:62\n",
      "┌ Info: final loss: 0.26511731073780337\n",
      "└ @ IterationControl /Users/anthony/.julia/packages/IterationControl/lO4bA/src/train.jl:44\n",
      "┌ Info: Stop triggered by NumberSinceBest(6) stopping criterion. \n",
      "└ @ IterationControl /Users/anthony/.julia/packages/IterationControl/lO4bA/src/stopping_controls.jl:54\n",
      "┌ Info: Total of 26 iterations. \n",
      "└ @ MLJIteration /Users/anthony/.julia/packages/MLJIteration/Wc51L/src/core.jl:35\n"
     ]
    }
   ],
   "source": [
    "mach_iterated_pipe = machine(iterated_pipe, X, y)\n",
    "fit!(mach_iterated_pipe, force=true);"
   ]
  },
  {
   "cell_type": "markdown",
   "metadata": {},
   "source": [
    "To recap, internally this training is split into two separate steps:"
   ]
  },
  {
   "cell_type": "markdown",
   "metadata": {},
   "source": [
    "- A controlled iteration step, training on the holdout set, with the total number of iterations determined by the specified stopping criteria (based on the out-of-sample performance estimates)\n",
    "- A final step that trains the atomic model on *all* available\n",
    "  data using the number of iterations determined in the first step. Calling `predict` on `mach_iterated_pipe` means using the learned parameters of the second step."
   ]
  },
  {
   "cell_type": "markdown",
   "metadata": {},
   "source": [
    "## Hyper-parameter optimization (model tuning)"
   ]
  },
  {
   "cell_type": "markdown",
   "metadata": {},
   "source": [
    "> Introduces: `range`, **model wrapper** `TunedModel`, `RandomSearch`"
   ]
  },
  {
   "cell_type": "markdown",
   "metadata": {},
   "source": [
    "We now turn to hyper-parameter optimization. A tool not discussed\n",
    "here is the `learning_curve` function, which can be useful when\n",
    "wanting to visualize the effect of changes to a *single*\n",
    "hyper-parameter (which could be an iteration parameter). See, for\n",
    "example, [this section of the\n",
    "manual](https://alan-turing-institute.github.io/MLJ.jl/dev/learning_curves/)\n",
    "or [this\n",
    "tutorial](https://github.com/ablaom/MLJTutorial.jl/blob/dev/notebooks/04_tuning/notebook.ipynb)."
   ]
  },
  {
   "cell_type": "markdown",
   "metadata": {},
   "source": [
    "Fine tuning the hyper-parameters of a gradient booster can be\n",
    "somewhat involved. Here we settle for simultaneously optimizing two\n",
    "key parameters: `max_depth` and `η` (learning_rate)."
   ]
  },
  {
   "cell_type": "markdown",
   "metadata": {},
   "source": [
    "Like iteration control, **model optimization in MLJ is implemented as\n",
    "a model wrapper**, called `TunedModel`. After wrapping a model in a\n",
    "tuning strategy and binding the wrapped model to data in a machine\n",
    "called `mach`, calling `fit!(mach)` instigates a search for optimal\n",
    "model hyperparameters, within a specified range, and then uses all\n",
    "supplied data to train the best model. To predict using that model,\n",
    "one then calls `predict(mach, Xnew)`. In this way the wrapped model\n",
    "may be viewed as a \"self-tuning\" version of the unwrapped\n",
    "model. That is, wrapping the model simply transforms certain\n",
    "hyper-parameters into learned parameters (just as `IteratedModel`\n",
    "does for an iteration parameter)."
   ]
  },
  {
   "cell_type": "markdown",
   "metadata": {},
   "source": [
    "To start with, we define ranges for the parameters of\n",
    "interest. Since these parameters are nested, let's force a\n",
    "display of our model to a larger depth:"
   ]
  },
  {
   "cell_type": "code",
   "execution_count": 50,
   "metadata": {},
   "outputs": [
    {
     "name": "stdout",
     "output_type": "stream",
     "text": [
      "ProbabilisticIteratedModel(\n",
      "    model = ProbabilisticPipeline(\n",
      "            continuous_encoder = ContinuousEncoder(\n",
      "                    drop_last = false,\n",
      "                    one_hot_ordered_factors = false),\n",
      "            feature_selector = FeatureSelector(\n",
      "                    features = [:OnlineBackup__No, :Partner__No, Symbol(\"Contract__Two year\"), Symbol(\"Contract__One year\"), :gender__Male, :InternetService__DSL, Symbol(\"OnlineSecurity__No internet service\"), Symbol(\"PaymentMethod__Mailed check\"), Symbol(\"PaymentMethod__Electronic check\"), :OnlineSecurity__Yes, Symbol(\"InternetService__Fiber optic\"), Symbol(\"OnlineBackup__No internet service\"), :InternetService__No, :StreamingTV__Yes, :PhoneService__No, :PhoneService__Yes, Symbol(\"DeviceProtection__No internet service\"), Symbol(\"StreamingTV__No internet service\"), Symbol(\"StreamingMovies__No internet service\"), Symbol(\"TechSupport__No internet service\"), :StreamingTV__No, :MultipleLines__No, Symbol(\"PaymentMethod__Credit card (automatic)\"), :MultipleLines__Yes, Symbol(\"MultipleLines__No phone service\")],\n",
      "                    ignore = true),\n",
      "            evo_tree_classifier = EvoTreeClassifier(\n",
      "                    loss = EvoTrees.Softmax(),\n",
      "                    nrounds = 10,\n",
      "                    λ = 0.0,\n",
      "                    γ = 0.0,\n",
      "                    η = 0.1,\n",
      "                    max_depth = 5,\n",
      "                    min_weight = 1.0,\n",
      "                    rowsample = 1.0,\n",
      "                    colsample = 1.0,\n",
      "                    nbins = 64,\n",
      "                    α = 0.5,\n",
      "                    metric = :mlogloss,\n",
      "                    rng = MersenneTwister(123, (0, 87174, 86172, 142)),\n",
      "                    device = \"cpu\"),\n",
      "            cache = true),\n",
      "    controls = Any[Step(1), NumberSinceBest(6), TimeLimit(Dates.Millisecond(30000)), InvalidValue()],\n",
      "    resampling = Holdout(\n",
      "            fraction_train = 0.7,\n",
      "            shuffle = false,\n",
      "            rng = Random._GLOBAL_RNG()),\n",
      "    measure = BrierLoss(),\n",
      "    weights = nothing,\n",
      "    class_weights = nothing,\n",
      "    operation = MLJModelInterface.predict,\n",
      "    retrain = false,\n",
      "    check_measure = true,\n",
      "    iteration_parameter = nothing,\n",
      "    cache = true)"
     ]
    }
   ],
   "source": [
    "show(iterated_pipe, 2)"
   ]
  },
  {
   "cell_type": "code",
   "execution_count": 51,
   "metadata": {},
   "outputs": [
    {
     "data": {
      "text/plain": [
       "NumericRange(2 ≤ model.evo_tree_classifier.max_depth ≤ 6; origin=4.0, unit=2.0)"
      ]
     },
     "execution_count": 51,
     "metadata": {},
     "output_type": "execute_result"
    }
   ],
   "source": [
    "p1 = :(model.evo_tree_classifier.η)\n",
    "p2 = :(model.evo_tree_classifier.max_depth)\n",
    "\n",
    "r1 = range(iterated_pipe, p1, lower=-3, upper=-2, scale=x->10^x)\n",
    "r2 = range(iterated_pipe, p2, lower=2, upper=6)"
   ]
  },
  {
   "cell_type": "markdown",
   "metadata": {},
   "source": [
    "Nominal ranges are defined by specifying `values` instead of `lower`\n",
    "and `upper`."
   ]
  },
  {
   "cell_type": "markdown",
   "metadata": {},
   "source": [
    "Next, we choose an optimization strategy from [this\n",
    "list](https://alan-turing-institute.github.io/MLJ.jl/dev/tuning_models/#Tuning-Models):"
   ]
  },
  {
   "cell_type": "code",
   "execution_count": 52,
   "metadata": {},
   "outputs": [
    {
     "data": {
      "text/plain": [
       "RandomSearch(\n",
       "    bounded = Distributions.Uniform,\n",
       "    positive_unbounded = Distributions.Gamma,\n",
       "    other = Distributions.Normal,\n",
       "    rng = MersenneTwister(123))"
      ]
     },
     "execution_count": 52,
     "metadata": {},
     "output_type": "execute_result"
    }
   ],
   "source": [
    "tuning = RandomSearch(rng=123)"
   ]
  },
  {
   "cell_type": "markdown",
   "metadata": {},
   "source": [
    "Then we wrap the model, specifying a `resampling` strategy and a\n",
    "`measure`, as we did for `IteratedModel`.  In fact, we can include a\n",
    "battery of `measures`; by default, optimization is with respect to\n",
    "performance estimates based on the first measure, but estimates for\n",
    "all measures can be accessed from the model's `report`."
   ]
  },
  {
   "cell_type": "markdown",
   "metadata": {},
   "source": [
    "The keyword `n` specifies the total number of models (sets of\n",
    "hyper-parameters) to evaluate."
   ]
  },
  {
   "cell_type": "code",
   "execution_count": 53,
   "metadata": {},
   "outputs": [
    {
     "data": {
      "text/plain": [
       "ProbabilisticTunedModel(\n",
       "    model = ProbabilisticIteratedModel(\n",
       "            model = ProbabilisticPipeline{NamedTuple{,…},…},\n",
       "            controls = Any[Step(1), NumberSinceBest(6), TimeLimit(Dates.Millisecond(30000)), InvalidValue()],\n",
       "            resampling = Holdout,\n",
       "            measure = BrierLoss(),\n",
       "            weights = nothing,\n",
       "            class_weights = nothing,\n",
       "            operation = MLJModelInterface.predict,\n",
       "            retrain = false,\n",
       "            check_measure = true,\n",
       "            iteration_parameter = nothing,\n",
       "            cache = true),\n",
       "    tuning = RandomSearch(\n",
       "            bounded = Distributions.Uniform,\n",
       "            positive_unbounded = Distributions.Gamma,\n",
       "            other = Distributions.Normal,\n",
       "            rng = MersenneTwister(123)),\n",
       "    resampling = StratifiedCV(\n",
       "            nfolds = 6,\n",
       "            shuffle = true,\n",
       "            rng = MersenneTwister(123)),\n",
       "    measure = MLJBase.Measure[BrierLoss(), AreaUnderCurve(), Accuracy()],\n",
       "    weights = nothing,\n",
       "    operation = nothing,\n",
       "    range = MLJBase.NumericRange{T, MLJBase.Bounded, D} where {T, D}[transformed NumericRange(-3.0 ≤ model.evo_tree_classifier.η ≤ -2.0; origin=-2.5, unit=0.5), NumericRange(2 ≤ model.evo_tree_classifier.max_depth ≤ 6; origin=4.0, unit=2.0)],\n",
       "    selection_heuristic = MLJTuning.NaiveSelection(nothing),\n",
       "    train_best = true,\n",
       "    repeats = 1,\n",
       "    n = 25,\n",
       "    acceleration = CPUThreads{Int64}(5),\n",
       "    acceleration_resampling = CPU1{Nothing}(nothing),\n",
       "    check_measure = true,\n",
       "    cache = true)"
      ]
     },
     "execution_count": 53,
     "metadata": {},
     "output_type": "execute_result"
    }
   ],
   "source": [
    "tuned_iterated_pipe = TunedModel(model=iterated_pipe,\n",
    "                                 range=[r1, r2],\n",
    "                                 tuning=tuning,\n",
    "                                 measures=[brier_loss, auc, accuracy],\n",
    "                                 resampling=StratifiedCV(nfolds=6, rng=123),\n",
    "                                 acceleration=CPUThreads(),\n",
    "                                 n=25)"
   ]
  },
  {
   "cell_type": "markdown",
   "metadata": {},
   "source": [
    "To save time, we skip the `repeats` here."
   ]
  },
  {
   "cell_type": "markdown",
   "metadata": {},
   "source": [
    "Binding our final model to data and training:"
   ]
  },
  {
   "cell_type": "code",
   "execution_count": 54,
   "metadata": {},
   "outputs": [
    {
     "name": "stderr",
     "output_type": "stream",
     "text": [
      "┌ Info: Training Machine{ProbabilisticTunedModel{RandomSearch,…},…}.\n",
      "└ @ MLJBase /Users/anthony/.julia/packages/MLJBase/pCiRR/src/machines.jl:464\n",
      "┌ Info: Attempting to evaluate 25 models.\n",
      "└ @ MLJTuning /Users/anthony/.julia/packages/MLJTuning/Al9yX/src/tuned_models.jl:680\n",
      "\u001b[33mEvaluating over 25 metamodels: 100%[=========================] Time: 0:09:19\u001b[39m\n"
     ]
    },
    {
     "data": {
      "text/plain": [
       "Machine{ProbabilisticTunedModel{RandomSearch,…},…} trained 1 time; caches data\n",
       "  model: MLJTuning.ProbabilisticTunedModel{RandomSearch, MLJIteration.ProbabilisticIteratedModel{MLJBase.ProbabilisticPipeline{NamedTuple{(:continuous_encoder, :feature_selector, :evo_tree_classifier), Tuple{Unsupervised, Unsupervised, Probabilistic}}, MLJModelInterface.predict}}}\n",
       "  args: \n",
       "    1:\tSource @261 ⏎ `Table{Union{AbstractVector{Continuous}, AbstractVector{Multiclass{2}}, AbstractVector{Multiclass{4}}, AbstractVector{Multiclass{3}}}}`\n",
       "    2:\tSource @842 ⏎ `AbstractVector{OrderedFactor{2}}`\n"
      ]
     },
     "execution_count": 54,
     "metadata": {},
     "output_type": "execute_result"
    }
   ],
   "source": [
    "mach_tuned_iterated_pipe = machine(tuned_iterated_pipe, X, y)\n",
    "fit!(mach_tuned_iterated_pipe)"
   ]
  },
  {
   "cell_type": "markdown",
   "metadata": {},
   "source": [
    "As explained above, the training we have just performed was split\n",
    "internally into two separate steps:"
   ]
  },
  {
   "cell_type": "markdown",
   "metadata": {},
   "source": [
    "- A step to determine the parameter values that optimize the aggregated cross-validation scores\n",
    "- A final step that trains the optimal model on *all* available data. Future predictions `predict(mach_tuned_iterated_pipe, ...)` are based on this final training step."
   ]
  },
  {
   "cell_type": "markdown",
   "metadata": {},
   "source": [
    "From `report(mach_tuned_iterated_pipe)` we can extract details about\n",
    "the optimization procedure. For example:"
   ]
  },
  {
   "cell_type": "code",
   "execution_count": 55,
   "metadata": {},
   "outputs": [
    {
     "data": {
      "text/plain": [
       "EvoTreeClassifier(\n",
       "    loss = EvoTrees.Softmax(),\n",
       "    nrounds = 10,\n",
       "    λ = 0.0,\n",
       "    γ = 0.0,\n",
       "    η = 0.0018562632580365456,\n",
       "    max_depth = 2,\n",
       "    min_weight = 1.0,\n",
       "    rowsample = 1.0,\n",
       "    colsample = 1.0,\n",
       "    nbins = 64,\n",
       "    α = 0.5,\n",
       "    metric = :mlogloss,\n",
       "    rng = MersenneTwister(123, (0, 87174, 86172, 142)),\n",
       "    device = \"cpu\")"
      ]
     },
     "execution_count": 55,
     "metadata": {},
     "output_type": "execute_result"
    }
   ],
   "source": [
    "rpt2 = report(mach_tuned_iterated_pipe);\n",
    "best_booster = rpt2.best_model.model.evo_tree_classifier"
   ]
  },
  {
   "cell_type": "code",
   "execution_count": 56,
   "metadata": {},
   "outputs": [
    {
     "name": "stderr",
     "output_type": "stream",
     "text": [
      "┌ Info: Optimal hyper-parameters:\n",
      "│   best_booster.max_depth = 2\n",
      "│   best_booster.η = 0.0018562632580365456\n",
      "└ @ Main In[56]:1\n"
     ]
    }
   ],
   "source": [
    "@info \"Optimal hyper-parameters:\" best_booster.max_depth best_booster.η;"
   ]
  },
  {
   "cell_type": "markdown",
   "metadata": {},
   "source": [
    "Using the `confidence_intervals` function we defined earlier:"
   ]
  },
  {
   "cell_type": "code",
   "execution_count": 57,
   "metadata": {},
   "outputs": [
    {
     "data": {
      "text/html": [
       "<div class=\"data-frame\"><p>3 rows × 2 columns</p><table class=\"data-frame\"><thead><tr><th></th><th>measure</th><th>measurement</th></tr><tr><th></th><th title=\"MLJBase.Measure\">Measure</th><th title=\"Measurement{Float64}\">Measurem…</th></tr></thead><tbody><tr><th>1</th><td>BrierLoss()</td><td>0.295±0.013</td></tr><tr><th>2</th><td>AreaUnderCurve()</td><td>0.816±0.03</td></tr><tr><th>3</th><td>Accuracy()</td><td>0.781±0.019</td></tr></tbody></table></div>"
      ],
      "text/latex": [
       "\\begin{tabular}{r|cc}\n",
       "\t& measure & measurement\\\\\n",
       "\t\\hline\n",
       "\t& Measure & Measurem…\\\\\n",
       "\t\\hline\n",
       "\t1 & BrierLoss() & $0.295 \\pm 0.013$ \\\\\n",
       "\t2 & AreaUnderCurve() & $0.816 \\pm 0.03$ \\\\\n",
       "\t3 & Accuracy() & $0.781 \\pm 0.019$ \\\\\n",
       "\\end{tabular}\n"
      ],
      "text/plain": [
       "\u001b[1m3×2 DataFrame\u001b[0m\n",
       "\u001b[1m Row \u001b[0m│\u001b[1m measure          \u001b[0m\u001b[1m measurement \u001b[0m\n",
       "\u001b[1m     \u001b[0m│\u001b[90m Measure          \u001b[0m\u001b[90m Measuremen… \u001b[0m\n",
       "─────┼───────────────────────────────\n",
       "   1 │ BrierLoss()       0.295±0.013\n",
       "   2 │ AreaUnderCurve()  0.816±0.03\n",
       "   3 │ Accuracy()        0.781±0.019"
      ]
     },
     "execution_count": 57,
     "metadata": {},
     "output_type": "execute_result"
    }
   ],
   "source": [
    "e_best = rpt2.best_history_entry\n",
    "confidence_intervals(e_best)"
   ]
  },
  {
   "cell_type": "markdown",
   "metadata": {},
   "source": [
    "And we can visualize the optimization results:"
   ]
  },
  {
   "cell_type": "code",
   "execution_count": 58,
   "metadata": {},
   "outputs": [
    {
     "data": {
      "image/svg+xml": [
       "<?xml version=\"1.0\" encoding=\"utf-8\"?>\n",
       "<svg xmlns=\"http://www.w3.org/2000/svg\" xmlns:xlink=\"http://www.w3.org/1999/xlink\" width=\"600\" height=\"450\" viewBox=\"0 0 2400 1800\">\n",
       "<defs>\n",
       "  <clipPath id=\"clip290\">\n",
       "    <rect x=\"0\" y=\"0\" width=\"2400\" height=\"1800\"/>\n",
       "  </clipPath>\n",
       "</defs>\n",
       "<path clip-path=\"url(#clip290)\" d=\"\n",
       "M0 1800 L2400 1800 L2400 0 L0 0  Z\n",
       "  \" fill=\"#ffffff\" fill-rule=\"evenodd\" fill-opacity=\"1\"/>\n",
       "<defs>\n",
       "  <clipPath id=\"clip291\">\n",
       "    <rect x=\"480\" y=\"0\" width=\"1681\" height=\"1681\"/>\n",
       "  </clipPath>\n",
       "</defs>\n",
       "<path clip-path=\"url(#clip290)\" d=\"\n",
       "M286.13 745.524 L1167.84 745.524 L1167.84 47.2441 L286.13 47.2441  Z\n",
       "  \" fill=\"#ffffff\" fill-rule=\"evenodd\" fill-opacity=\"1\"/>\n",
       "<defs>\n",
       "  <clipPath id=\"clip292\">\n",
       "    <rect x=\"286\" y=\"47\" width=\"883\" height=\"699\"/>\n",
       "  </clipPath>\n",
       "</defs>\n",
       "<polyline clip-path=\"url(#clip292)\" style=\"stroke:#000000; stroke-linecap:butt; stroke-linejoin:round; stroke-width:2; stroke-opacity:0.1; fill:none\" points=\"\n",
       "  311.084,745.524 311.084,47.2441 \n",
       "  \"/>\n",
       "<polyline clip-path=\"url(#clip292)\" style=\"stroke:#000000; stroke-linecap:butt; stroke-linejoin:round; stroke-width:2; stroke-opacity:0.1; fill:none\" points=\"\n",
       "  519.034,745.524 519.034,47.2441 \n",
       "  \"/>\n",
       "<polyline clip-path=\"url(#clip292)\" style=\"stroke:#000000; stroke-linecap:butt; stroke-linejoin:round; stroke-width:2; stroke-opacity:0.1; fill:none\" points=\"\n",
       "  726.983,745.524 726.983,47.2441 \n",
       "  \"/>\n",
       "<polyline clip-path=\"url(#clip292)\" style=\"stroke:#000000; stroke-linecap:butt; stroke-linejoin:round; stroke-width:2; stroke-opacity:0.1; fill:none\" points=\"\n",
       "  934.933,745.524 934.933,47.2441 \n",
       "  \"/>\n",
       "<polyline clip-path=\"url(#clip292)\" style=\"stroke:#000000; stroke-linecap:butt; stroke-linejoin:round; stroke-width:2; stroke-opacity:0.1; fill:none\" points=\"\n",
       "  1142.88,745.524 1142.88,47.2441 \n",
       "  \"/>\n",
       "<polyline clip-path=\"url(#clip290)\" style=\"stroke:#000000; stroke-linecap:butt; stroke-linejoin:round; stroke-width:4; stroke-opacity:1; fill:none\" points=\"\n",
       "  286.13,745.524 1167.84,745.524 \n",
       "  \"/>\n",
       "<polyline clip-path=\"url(#clip290)\" style=\"stroke:#000000; stroke-linecap:butt; stroke-linejoin:round; stroke-width:4; stroke-opacity:1; fill:none\" points=\"\n",
       "  286.13,47.2441 1167.84,47.2441 \n",
       "  \"/>\n",
       "<polyline clip-path=\"url(#clip290)\" style=\"stroke:#000000; stroke-linecap:butt; stroke-linejoin:round; stroke-width:4; stroke-opacity:1; fill:none\" points=\"\n",
       "  311.084,745.524 311.084,726.626 \n",
       "  \"/>\n",
       "<polyline clip-path=\"url(#clip290)\" style=\"stroke:#000000; stroke-linecap:butt; stroke-linejoin:round; stroke-width:4; stroke-opacity:1; fill:none\" points=\"\n",
       "  519.034,745.524 519.034,726.626 \n",
       "  \"/>\n",
       "<polyline clip-path=\"url(#clip290)\" style=\"stroke:#000000; stroke-linecap:butt; stroke-linejoin:round; stroke-width:4; stroke-opacity:1; fill:none\" points=\"\n",
       "  726.983,745.524 726.983,726.626 \n",
       "  \"/>\n",
       "<polyline clip-path=\"url(#clip290)\" style=\"stroke:#000000; stroke-linecap:butt; stroke-linejoin:round; stroke-width:4; stroke-opacity:1; fill:none\" points=\"\n",
       "  934.933,745.524 934.933,726.626 \n",
       "  \"/>\n",
       "<polyline clip-path=\"url(#clip290)\" style=\"stroke:#000000; stroke-linecap:butt; stroke-linejoin:round; stroke-width:4; stroke-opacity:1; fill:none\" points=\"\n",
       "  1142.88,745.524 1142.88,726.626 \n",
       "  \"/>\n",
       "<path clip-path=\"url(#clip290)\" d=\"M305.737 803.989 L322.056 803.989 L322.056 807.924 L300.112 807.924 L300.112 803.989 Q302.774 801.234 307.357 796.604 Q311.964 791.952 313.144 790.609 Q315.39 788.086 316.269 786.35 Q317.172 784.591 317.172 782.901 Q317.172 780.146 315.227 778.41 Q313.306 776.674 310.204 776.674 Q308.005 776.674 305.552 777.438 Q303.121 778.202 300.343 779.753 L300.343 775.031 Q303.167 773.896 305.621 773.318 Q308.075 772.739 310.112 772.739 Q315.482 772.739 318.677 775.424 Q321.871 778.109 321.871 782.6 Q321.871 784.73 321.061 786.651 Q320.274 788.549 318.167 791.142 Q317.589 791.813 314.487 795.03 Q311.385 798.225 305.737 803.989 Z\" fill=\"#000000\" fill-rule=\"evenodd\" fill-opacity=\"1\" /><path clip-path=\"url(#clip290)\" d=\"M523.281 789.29 Q526.638 790.007 528.513 792.276 Q530.411 794.544 530.411 797.878 Q530.411 802.993 526.892 805.794 Q523.374 808.595 516.893 808.595 Q514.717 808.595 512.402 808.155 Q510.11 807.739 507.656 806.882 L507.656 802.368 Q509.601 803.503 511.916 804.081 Q514.23 804.66 516.754 804.66 Q521.152 804.66 523.443 802.924 Q525.758 801.188 525.758 797.878 Q525.758 794.822 523.605 793.109 Q521.476 791.373 517.656 791.373 L513.629 791.373 L513.629 787.53 L517.842 787.53 Q521.291 787.53 523.119 786.165 Q524.948 784.776 524.948 782.183 Q524.948 779.521 523.05 778.109 Q521.175 776.674 517.656 776.674 Q515.735 776.674 513.536 777.091 Q511.337 777.507 508.698 778.387 L508.698 774.22 Q511.36 773.48 513.675 773.109 Q516.013 772.739 518.073 772.739 Q523.397 772.739 526.499 775.169 Q529.601 777.577 529.601 781.697 Q529.601 784.568 527.957 786.558 Q526.314 788.526 523.281 789.29 Z\" fill=\"#000000\" fill-rule=\"evenodd\" fill-opacity=\"1\" /><path clip-path=\"url(#clip290)\" d=\"M729.993 777.438 L718.187 795.887 L729.993 795.887 L729.993 777.438 M728.766 773.364 L734.645 773.364 L734.645 795.887 L739.576 795.887 L739.576 799.776 L734.645 799.776 L734.645 807.924 L729.993 807.924 L729.993 799.776 L714.391 799.776 L714.391 795.262 L728.766 773.364 Z\" fill=\"#000000\" fill-rule=\"evenodd\" fill-opacity=\"1\" /><path clip-path=\"url(#clip290)\" d=\"M925.211 773.364 L943.567 773.364 L943.567 777.299 L929.493 777.299 L929.493 785.771 Q930.512 785.424 931.53 785.262 Q932.549 785.077 933.567 785.077 Q939.354 785.077 942.734 788.248 Q946.114 791.419 946.114 796.836 Q946.114 802.415 942.641 805.516 Q939.169 808.595 932.85 808.595 Q930.674 808.595 928.405 808.225 Q926.16 807.854 923.753 807.114 L923.753 802.415 Q925.836 803.549 928.058 804.104 Q930.28 804.66 932.757 804.66 Q936.762 804.66 939.1 802.554 Q941.438 800.447 941.438 796.836 Q941.438 793.225 939.1 791.118 Q936.762 789.012 932.757 789.012 Q930.882 789.012 929.007 789.429 Q927.155 789.845 925.211 790.725 L925.211 773.364 Z\" fill=\"#000000\" fill-rule=\"evenodd\" fill-opacity=\"1\" /><path clip-path=\"url(#clip290)\" d=\"M1143.29 788.78 Q1140.14 788.78 1138.29 790.933 Q1136.46 793.086 1136.46 796.836 Q1136.46 800.563 1138.29 802.739 Q1140.14 804.891 1143.29 804.891 Q1146.44 804.891 1148.26 802.739 Q1150.12 800.563 1150.12 796.836 Q1150.12 793.086 1148.26 790.933 Q1146.44 788.78 1143.29 788.78 M1152.57 774.128 L1152.57 778.387 Q1150.81 777.554 1149.01 777.114 Q1147.22 776.674 1145.46 776.674 Q1140.83 776.674 1138.38 779.799 Q1135.95 782.924 1135.6 789.243 Q1136.97 787.23 1139.03 786.165 Q1141.09 785.077 1143.57 785.077 Q1148.77 785.077 1151.78 788.248 Q1154.82 791.396 1154.82 796.836 Q1154.82 802.16 1151.67 805.378 Q1148.52 808.595 1143.29 808.595 Q1137.29 808.595 1134.12 804.012 Q1130.95 799.405 1130.95 790.679 Q1130.95 782.484 1134.84 777.623 Q1138.73 772.739 1145.28 772.739 Q1147.04 772.739 1148.82 773.086 Q1150.63 773.433 1152.57 774.128 Z\" fill=\"#000000\" fill-rule=\"evenodd\" fill-opacity=\"1\" /><polyline clip-path=\"url(#clip292)\" style=\"stroke:#000000; stroke-linecap:butt; stroke-linejoin:round; stroke-width:2; stroke-opacity:0.1; fill:none\" points=\"\n",
       "  286.13,700.458 1167.84,700.458 \n",
       "  \"/>\n",
       "<polyline clip-path=\"url(#clip292)\" style=\"stroke:#000000; stroke-linecap:butt; stroke-linejoin:round; stroke-width:2; stroke-opacity:0.1; fill:none\" points=\"\n",
       "  286.13,600.975 1167.84,600.975 \n",
       "  \"/>\n",
       "<polyline clip-path=\"url(#clip292)\" style=\"stroke:#000000; stroke-linecap:butt; stroke-linejoin:round; stroke-width:2; stroke-opacity:0.1; fill:none\" points=\"\n",
       "  286.13,501.492 1167.84,501.492 \n",
       "  \"/>\n",
       "<polyline clip-path=\"url(#clip292)\" style=\"stroke:#000000; stroke-linecap:butt; stroke-linejoin:round; stroke-width:2; stroke-opacity:0.1; fill:none\" points=\"\n",
       "  286.13,402.008 1167.84,402.008 \n",
       "  \"/>\n",
       "<polyline clip-path=\"url(#clip292)\" style=\"stroke:#000000; stroke-linecap:butt; stroke-linejoin:round; stroke-width:2; stroke-opacity:0.1; fill:none\" points=\"\n",
       "  286.13,302.525 1167.84,302.525 \n",
       "  \"/>\n",
       "<polyline clip-path=\"url(#clip292)\" style=\"stroke:#000000; stroke-linecap:butt; stroke-linejoin:round; stroke-width:2; stroke-opacity:0.1; fill:none\" points=\"\n",
       "  286.13,203.042 1167.84,203.042 \n",
       "  \"/>\n",
       "<polyline clip-path=\"url(#clip292)\" style=\"stroke:#000000; stroke-linecap:butt; stroke-linejoin:round; stroke-width:2; stroke-opacity:0.1; fill:none\" points=\"\n",
       "  286.13,103.559 1167.84,103.559 \n",
       "  \"/>\n",
       "<polyline clip-path=\"url(#clip290)\" style=\"stroke:#000000; stroke-linecap:butt; stroke-linejoin:round; stroke-width:4; stroke-opacity:1; fill:none\" points=\"\n",
       "  286.13,745.524 286.13,47.2441 \n",
       "  \"/>\n",
       "<polyline clip-path=\"url(#clip290)\" style=\"stroke:#000000; stroke-linecap:butt; stroke-linejoin:round; stroke-width:4; stroke-opacity:1; fill:none\" points=\"\n",
       "  1167.84,745.524 1167.84,47.2441 \n",
       "  \"/>\n",
       "<polyline clip-path=\"url(#clip290)\" style=\"stroke:#000000; stroke-linecap:butt; stroke-linejoin:round; stroke-width:4; stroke-opacity:1; fill:none\" points=\"\n",
       "  286.13,700.458 305.028,700.458 \n",
       "  \"/>\n",
       "<polyline clip-path=\"url(#clip290)\" style=\"stroke:#000000; stroke-linecap:butt; stroke-linejoin:round; stroke-width:4; stroke-opacity:1; fill:none\" points=\"\n",
       "  286.13,600.975 305.028,600.975 \n",
       "  \"/>\n",
       "<polyline clip-path=\"url(#clip290)\" style=\"stroke:#000000; stroke-linecap:butt; stroke-linejoin:round; stroke-width:4; stroke-opacity:1; fill:none\" points=\"\n",
       "  286.13,501.492 305.028,501.492 \n",
       "  \"/>\n",
       "<polyline clip-path=\"url(#clip290)\" style=\"stroke:#000000; stroke-linecap:butt; stroke-linejoin:round; stroke-width:4; stroke-opacity:1; fill:none\" points=\"\n",
       "  286.13,402.008 305.028,402.008 \n",
       "  \"/>\n",
       "<polyline clip-path=\"url(#clip290)\" style=\"stroke:#000000; stroke-linecap:butt; stroke-linejoin:round; stroke-width:4; stroke-opacity:1; fill:none\" points=\"\n",
       "  286.13,302.525 305.028,302.525 \n",
       "  \"/>\n",
       "<polyline clip-path=\"url(#clip290)\" style=\"stroke:#000000; stroke-linecap:butt; stroke-linejoin:round; stroke-width:4; stroke-opacity:1; fill:none\" points=\"\n",
       "  286.13,203.042 305.028,203.042 \n",
       "  \"/>\n",
       "<polyline clip-path=\"url(#clip290)\" style=\"stroke:#000000; stroke-linecap:butt; stroke-linejoin:round; stroke-width:4; stroke-opacity:1; fill:none\" points=\"\n",
       "  286.13,103.559 305.028,103.559 \n",
       "  \"/>\n",
       "<path clip-path=\"url(#clip290)\" d=\"M162.793 686.257 Q159.181 686.257 157.353 689.821 Q155.547 693.363 155.547 700.493 Q155.547 707.599 157.353 711.164 Q159.181 714.706 162.793 714.706 Q166.427 714.706 168.232 711.164 Q170.061 707.599 170.061 700.493 Q170.061 693.363 168.232 689.821 Q166.427 686.257 162.793 686.257 M162.793 682.553 Q168.603 682.553 171.658 687.159 Q174.737 691.743 174.737 700.493 Q174.737 709.22 171.658 713.826 Q168.603 718.409 162.793 718.409 Q156.982 718.409 153.904 713.826 Q150.848 709.22 150.848 700.493 Q150.848 691.743 153.904 687.159 Q156.982 682.553 162.793 682.553 Z\" fill=\"#000000\" fill-rule=\"evenodd\" fill-opacity=\"1\" /><path clip-path=\"url(#clip290)\" d=\"M182.954 711.858 L187.839 711.858 L187.839 717.738 L182.954 717.738 L182.954 711.858 Z\" fill=\"#000000\" fill-rule=\"evenodd\" fill-opacity=\"1\" /><path clip-path=\"url(#clip290)\" d=\"M212.19 699.104 Q215.547 699.821 217.422 702.09 Q219.32 704.358 219.32 707.692 Q219.32 712.807 215.801 715.608 Q212.283 718.409 205.802 718.409 Q203.626 718.409 201.311 717.969 Q199.019 717.553 196.565 716.696 L196.565 712.182 Q198.51 713.317 200.825 713.895 Q203.14 714.474 205.663 714.474 Q210.061 714.474 212.352 712.738 Q214.667 711.002 214.667 707.692 Q214.667 704.636 212.514 702.923 Q210.385 701.187 206.565 701.187 L202.538 701.187 L202.538 697.345 L206.751 697.345 Q210.2 697.345 212.028 695.979 Q213.857 694.59 213.857 691.997 Q213.857 689.335 211.959 687.923 Q210.084 686.488 206.565 686.488 Q204.644 686.488 202.445 686.905 Q200.246 687.322 197.607 688.201 L197.607 684.034 Q200.269 683.294 202.584 682.923 Q204.922 682.553 206.982 682.553 Q212.306 682.553 215.408 684.984 Q218.51 687.391 218.51 691.511 Q218.51 694.382 216.866 696.372 Q215.223 698.34 212.19 699.104 Z\" fill=\"#000000\" fill-rule=\"evenodd\" fill-opacity=\"1\" /><path clip-path=\"url(#clip290)\" d=\"M238.186 686.257 Q234.575 686.257 232.746 689.821 Q230.94 693.363 230.94 700.493 Q230.94 707.599 232.746 711.164 Q234.575 714.706 238.186 714.706 Q241.82 714.706 243.625 711.164 Q245.454 707.599 245.454 700.493 Q245.454 693.363 243.625 689.821 Q241.82 686.257 238.186 686.257 M238.186 682.553 Q243.996 682.553 247.051 687.159 Q250.13 691.743 250.13 700.493 Q250.13 709.22 247.051 713.826 Q243.996 718.409 238.186 718.409 Q232.375 718.409 229.297 713.826 Q226.241 709.22 226.241 700.493 Q226.241 691.743 229.297 687.159 Q232.375 682.553 238.186 682.553 Z\" fill=\"#000000\" fill-rule=\"evenodd\" fill-opacity=\"1\" /><path clip-path=\"url(#clip290)\" d=\"M164.39 586.773 Q160.779 586.773 158.95 590.338 Q157.144 593.88 157.144 601.01 Q157.144 608.116 158.95 611.681 Q160.779 615.222 164.39 615.222 Q168.024 615.222 169.83 611.681 Q171.658 608.116 171.658 601.01 Q171.658 593.88 169.83 590.338 Q168.024 586.773 164.39 586.773 M164.39 583.07 Q170.2 583.07 173.255 587.676 Q176.334 592.26 176.334 601.01 Q176.334 609.736 173.255 614.343 Q170.2 618.926 164.39 618.926 Q158.58 618.926 155.501 614.343 Q152.445 609.736 152.445 601.01 Q152.445 592.26 155.501 587.676 Q158.58 583.07 164.39 583.07 Z\" fill=\"#000000\" fill-rule=\"evenodd\" fill-opacity=\"1\" /><path clip-path=\"url(#clip290)\" d=\"M184.552 612.375 L189.436 612.375 L189.436 618.255 L184.552 618.255 L184.552 612.375 Z\" fill=\"#000000\" fill-rule=\"evenodd\" fill-opacity=\"1\" /><path clip-path=\"url(#clip290)\" d=\"M213.788 599.621 Q217.144 600.338 219.019 602.607 Q220.917 604.875 220.917 608.209 Q220.917 613.324 217.399 616.125 Q213.88 618.926 207.399 618.926 Q205.223 618.926 202.908 618.486 Q200.616 618.07 198.163 617.213 L198.163 612.699 Q200.107 613.834 202.422 614.412 Q204.737 614.991 207.26 614.991 Q211.658 614.991 213.95 613.255 Q216.264 611.519 216.264 608.209 Q216.264 605.153 214.112 603.44 Q211.982 601.704 208.163 601.704 L204.135 601.704 L204.135 597.861 L208.348 597.861 Q211.797 597.861 213.626 596.496 Q215.454 595.107 215.454 592.514 Q215.454 589.852 213.556 588.44 Q211.681 587.005 208.163 587.005 Q206.241 587.005 204.042 587.422 Q201.843 587.838 199.204 588.718 L199.204 584.551 Q201.866 583.811 204.181 583.44 Q206.519 583.07 208.579 583.07 Q213.903 583.07 217.005 585.5 Q220.107 587.908 220.107 592.028 Q220.107 594.898 218.464 596.889 Q216.82 598.857 213.788 599.621 Z\" fill=\"#000000\" fill-rule=\"evenodd\" fill-opacity=\"1\" /><path clip-path=\"url(#clip290)\" d=\"M233.811 614.32 L250.13 614.32 L250.13 618.255 L228.186 618.255 L228.186 614.32 Q230.848 611.565 235.431 606.935 Q240.037 602.283 241.218 600.94 Q243.463 598.417 244.343 596.681 Q245.246 594.922 245.246 593.232 Q245.246 590.477 243.301 588.741 Q241.38 587.005 238.278 587.005 Q236.079 587.005 233.625 587.769 Q231.195 588.533 228.417 590.084 L228.417 585.361 Q231.241 584.227 233.695 583.649 Q236.149 583.07 238.186 583.07 Q243.556 583.07 246.75 585.755 Q249.945 588.44 249.945 592.931 Q249.945 595.06 249.135 596.982 Q248.348 598.88 246.241 601.472 Q245.662 602.144 242.561 605.361 Q239.459 608.556 233.811 614.32 Z\" fill=\"#000000\" fill-rule=\"evenodd\" fill-opacity=\"1\" /><path clip-path=\"url(#clip290)\" d=\"M162.306 487.29 Q158.695 487.29 156.867 490.855 Q155.061 494.397 155.061 501.526 Q155.061 508.633 156.867 512.198 Q158.695 515.739 162.306 515.739 Q165.941 515.739 167.746 512.198 Q169.575 508.633 169.575 501.526 Q169.575 494.397 167.746 490.855 Q165.941 487.29 162.306 487.29 M162.306 483.587 Q168.117 483.587 171.172 488.193 Q174.251 492.776 174.251 501.526 Q174.251 510.253 171.172 514.86 Q168.117 519.443 162.306 519.443 Q156.496 519.443 153.418 514.86 Q150.362 510.253 150.362 501.526 Q150.362 492.776 153.418 488.193 Q156.496 483.587 162.306 483.587 Z\" fill=\"#000000\" fill-rule=\"evenodd\" fill-opacity=\"1\" /><path clip-path=\"url(#clip290)\" d=\"M182.468 512.892 L187.353 512.892 L187.353 518.772 L182.468 518.772 L182.468 512.892 Z\" fill=\"#000000\" fill-rule=\"evenodd\" fill-opacity=\"1\" /><path clip-path=\"url(#clip290)\" d=\"M211.704 500.137 Q215.061 500.855 216.936 503.124 Q218.834 505.392 218.834 508.725 Q218.834 513.841 215.315 516.642 Q211.797 519.443 205.315 519.443 Q203.14 519.443 200.825 519.003 Q198.533 518.586 196.079 517.73 L196.079 513.216 Q198.024 514.35 200.339 514.929 Q202.653 515.508 205.177 515.508 Q209.575 515.508 211.866 513.772 Q214.181 512.036 214.181 508.725 Q214.181 505.67 212.028 503.957 Q209.899 502.221 206.079 502.221 L202.052 502.221 L202.052 498.378 L206.265 498.378 Q209.714 498.378 211.542 497.012 Q213.371 495.624 213.371 493.031 Q213.371 490.369 211.473 488.957 Q209.598 487.522 206.079 487.522 Q204.158 487.522 201.959 487.938 Q199.76 488.355 197.121 489.235 L197.121 485.068 Q199.783 484.327 202.098 483.957 Q204.436 483.587 206.496 483.587 Q211.82 483.587 214.922 486.017 Q218.024 488.425 218.024 492.545 Q218.024 495.415 216.38 497.406 Q214.737 499.374 211.704 500.137 Z\" fill=\"#000000\" fill-rule=\"evenodd\" fill-opacity=\"1\" /><path clip-path=\"url(#clip290)\" d=\"M240.547 488.286 L228.741 506.735 L240.547 506.735 L240.547 488.286 M239.32 484.212 L245.199 484.212 L245.199 506.735 L250.13 506.735 L250.13 510.623 L245.199 510.623 L245.199 518.772 L240.547 518.772 L240.547 510.623 L224.945 510.623 L224.945 506.11 L239.32 484.212 Z\" fill=\"#000000\" fill-rule=\"evenodd\" fill-opacity=\"1\" /><path clip-path=\"url(#clip290)\" d=\"M162.63 387.807 Q159.019 387.807 157.191 391.372 Q155.385 394.914 155.385 402.043 Q155.385 409.15 157.191 412.714 Q159.019 416.256 162.63 416.256 Q166.265 416.256 168.07 412.714 Q169.899 409.15 169.899 402.043 Q169.899 394.914 168.07 391.372 Q166.265 387.807 162.63 387.807 M162.63 384.103 Q168.441 384.103 171.496 388.71 Q174.575 393.293 174.575 402.043 Q174.575 410.77 171.496 415.376 Q168.441 419.96 162.63 419.96 Q156.82 419.96 153.742 415.376 Q150.686 410.77 150.686 402.043 Q150.686 393.293 153.742 388.71 Q156.82 384.103 162.63 384.103 Z\" fill=\"#000000\" fill-rule=\"evenodd\" fill-opacity=\"1\" /><path clip-path=\"url(#clip290)\" d=\"M182.792 413.409 L187.677 413.409 L187.677 419.288 L182.792 419.288 L182.792 413.409 Z\" fill=\"#000000\" fill-rule=\"evenodd\" fill-opacity=\"1\" /><path clip-path=\"url(#clip290)\" d=\"M212.028 400.654 Q215.385 401.372 217.26 403.64 Q219.158 405.909 219.158 409.242 Q219.158 414.358 215.639 417.159 Q212.121 419.96 205.64 419.96 Q203.464 419.96 201.149 419.52 Q198.857 419.103 196.403 418.247 L196.403 413.733 Q198.348 414.867 200.663 415.446 Q202.977 416.025 205.501 416.025 Q209.899 416.025 212.19 414.288 Q214.505 412.552 214.505 409.242 Q214.505 406.187 212.352 404.474 Q210.223 402.738 206.403 402.738 L202.376 402.738 L202.376 398.895 L206.589 398.895 Q210.038 398.895 211.866 397.529 Q213.695 396.14 213.695 393.548 Q213.695 390.886 211.797 389.474 Q209.922 388.039 206.403 388.039 Q204.482 388.039 202.283 388.455 Q200.084 388.872 197.445 389.752 L197.445 385.585 Q200.107 384.844 202.422 384.474 Q204.76 384.103 206.82 384.103 Q212.144 384.103 215.246 386.534 Q218.348 388.941 218.348 393.062 Q218.348 395.932 216.704 397.923 Q215.061 399.89 212.028 400.654 Z\" fill=\"#000000\" fill-rule=\"evenodd\" fill-opacity=\"1\" /><path clip-path=\"url(#clip290)\" d=\"M238.602 400.145 Q235.454 400.145 233.602 402.298 Q231.774 404.451 231.774 408.2 Q231.774 411.927 233.602 414.103 Q235.454 416.256 238.602 416.256 Q241.75 416.256 243.579 414.103 Q245.431 411.927 245.431 408.2 Q245.431 404.451 243.579 402.298 Q241.75 400.145 238.602 400.145 M247.885 385.492 L247.885 389.752 Q246.125 388.918 244.32 388.478 Q242.537 388.039 240.778 388.039 Q236.149 388.039 233.695 391.164 Q231.264 394.289 230.917 400.608 Q232.283 398.594 234.343 397.529 Q236.403 396.441 238.88 396.441 Q244.088 396.441 247.098 399.613 Q250.13 402.761 250.13 408.2 Q250.13 413.525 246.982 416.742 Q243.834 419.96 238.602 419.96 Q232.607 419.96 229.436 415.376 Q226.264 410.77 226.264 402.043 Q226.264 393.849 230.153 388.988 Q234.042 384.103 240.593 384.103 Q242.352 384.103 244.135 384.451 Q245.94 384.798 247.885 385.492 Z\" fill=\"#000000\" fill-rule=\"evenodd\" fill-opacity=\"1\" /><path clip-path=\"url(#clip290)\" d=\"M162.885 288.324 Q159.274 288.324 157.445 291.889 Q155.64 295.43 155.64 302.56 Q155.64 309.666 157.445 313.231 Q159.274 316.773 162.885 316.773 Q166.519 316.773 168.325 313.231 Q170.154 309.666 170.154 302.56 Q170.154 295.43 168.325 291.889 Q166.519 288.324 162.885 288.324 M162.885 284.62 Q168.695 284.62 171.751 289.227 Q174.829 293.81 174.829 302.56 Q174.829 311.287 171.751 315.893 Q168.695 320.476 162.885 320.476 Q157.075 320.476 153.996 315.893 Q150.941 311.287 150.941 302.56 Q150.941 293.81 153.996 289.227 Q157.075 284.62 162.885 284.62 Z\" fill=\"#000000\" fill-rule=\"evenodd\" fill-opacity=\"1\" /><path clip-path=\"url(#clip290)\" d=\"M183.047 313.926 L187.931 313.926 L187.931 319.805 L183.047 319.805 L183.047 313.926 Z\" fill=\"#000000\" fill-rule=\"evenodd\" fill-opacity=\"1\" /><path clip-path=\"url(#clip290)\" d=\"M212.283 301.171 Q215.639 301.889 217.514 304.157 Q219.413 306.426 219.413 309.759 Q219.413 314.875 215.894 317.676 Q212.376 320.476 205.894 320.476 Q203.718 320.476 201.403 320.037 Q199.112 319.62 196.658 318.764 L196.658 314.25 Q198.603 315.384 200.917 315.963 Q203.232 316.541 205.755 316.541 Q210.153 316.541 212.445 314.805 Q214.76 313.069 214.76 309.759 Q214.76 306.703 212.607 304.99 Q210.477 303.254 206.658 303.254 L202.63 303.254 L202.63 299.412 L206.843 299.412 Q210.292 299.412 212.121 298.046 Q213.95 296.657 213.95 294.065 Q213.95 291.403 212.052 289.991 Q210.177 288.555 206.658 288.555 Q204.737 288.555 202.538 288.972 Q200.339 289.389 197.7 290.268 L197.7 286.102 Q200.362 285.361 202.677 284.991 Q205.015 284.62 207.075 284.62 Q212.399 284.62 215.501 287.051 Q218.602 289.458 218.602 293.578 Q218.602 296.449 216.959 298.44 Q215.315 300.407 212.283 301.171 Z\" fill=\"#000000\" fill-rule=\"evenodd\" fill-opacity=\"1\" /><path clip-path=\"url(#clip290)\" d=\"M238.278 303.393 Q234.945 303.393 233.024 305.176 Q231.125 306.958 231.125 310.083 Q231.125 313.208 233.024 314.99 Q234.945 316.773 238.278 316.773 Q241.612 316.773 243.533 314.99 Q245.454 313.185 245.454 310.083 Q245.454 306.958 243.533 305.176 Q241.635 303.393 238.278 303.393 M233.602 301.402 Q230.593 300.662 228.903 298.602 Q227.237 296.541 227.237 293.578 Q227.237 289.435 230.176 287.028 Q233.139 284.62 238.278 284.62 Q243.44 284.62 246.38 287.028 Q249.32 289.435 249.32 293.578 Q249.32 296.541 247.63 298.602 Q245.963 300.662 242.977 301.402 Q246.357 302.19 248.232 304.481 Q250.13 306.773 250.13 310.083 Q250.13 315.106 247.051 317.791 Q243.996 320.476 238.278 320.476 Q232.561 320.476 229.482 317.791 Q226.426 315.106 226.426 310.083 Q226.426 306.773 228.325 304.481 Q230.223 302.19 233.602 301.402 M231.889 294.018 Q231.889 296.703 233.556 298.208 Q235.246 299.713 238.278 299.713 Q241.287 299.713 242.977 298.208 Q244.69 296.703 244.69 294.018 Q244.69 291.333 242.977 289.828 Q241.287 288.324 238.278 288.324 Q235.246 288.324 233.556 289.828 Q231.889 291.333 231.889 294.018 Z\" fill=\"#000000\" fill-rule=\"evenodd\" fill-opacity=\"1\" /><path clip-path=\"url(#clip290)\" d=\"M162.793 188.841 Q159.181 188.841 157.353 192.405 Q155.547 195.947 155.547 203.077 Q155.547 210.183 157.353 213.748 Q159.181 217.29 162.793 217.29 Q166.427 217.29 168.232 213.748 Q170.061 210.183 170.061 203.077 Q170.061 195.947 168.232 192.405 Q166.427 188.841 162.793 188.841 M162.793 185.137 Q168.603 185.137 171.658 189.743 Q174.737 194.327 174.737 203.077 Q174.737 211.803 171.658 216.41 Q168.603 220.993 162.793 220.993 Q156.982 220.993 153.904 216.41 Q150.848 211.803 150.848 203.077 Q150.848 194.327 153.904 189.743 Q156.982 185.137 162.793 185.137 Z\" fill=\"#000000\" fill-rule=\"evenodd\" fill-opacity=\"1\" /><path clip-path=\"url(#clip290)\" d=\"M182.954 214.442 L187.839 214.442 L187.839 220.322 L182.954 220.322 L182.954 214.442 Z\" fill=\"#000000\" fill-rule=\"evenodd\" fill-opacity=\"1\" /><path clip-path=\"url(#clip290)\" d=\"M210.871 189.836 L199.065 208.285 L210.871 208.285 L210.871 189.836 M209.644 185.762 L215.524 185.762 L215.524 208.285 L220.454 208.285 L220.454 212.174 L215.524 212.174 L215.524 220.322 L210.871 220.322 L210.871 212.174 L195.269 212.174 L195.269 207.66 L209.644 185.762 Z\" fill=\"#000000\" fill-rule=\"evenodd\" fill-opacity=\"1\" /><path clip-path=\"url(#clip290)\" d=\"M238.186 188.841 Q234.575 188.841 232.746 192.405 Q230.94 195.947 230.94 203.077 Q230.94 210.183 232.746 213.748 Q234.575 217.29 238.186 217.29 Q241.82 217.29 243.625 213.748 Q245.454 210.183 245.454 203.077 Q245.454 195.947 243.625 192.405 Q241.82 188.841 238.186 188.841 M238.186 185.137 Q243.996 185.137 247.051 189.743 Q250.13 194.327 250.13 203.077 Q250.13 211.803 247.051 216.41 Q243.996 220.993 238.186 220.993 Q232.375 220.993 229.297 216.41 Q226.241 211.803 226.241 203.077 Q226.241 194.327 229.297 189.743 Q232.375 185.137 238.186 185.137 Z\" fill=\"#000000\" fill-rule=\"evenodd\" fill-opacity=\"1\" /><path clip-path=\"url(#clip290)\" d=\"M164.39 89.3575 Q160.779 89.3575 158.95 92.9222 Q157.144 96.4639 157.144 103.593 Q157.144 110.7 158.95 114.265 Q160.779 117.806 164.39 117.806 Q168.024 117.806 169.83 114.265 Q171.658 110.7 171.658 103.593 Q171.658 96.4639 169.83 92.9222 Q168.024 89.3575 164.39 89.3575 M164.39 85.6538 Q170.2 85.6538 173.255 90.2602 Q176.334 94.8435 176.334 103.593 Q176.334 112.32 173.255 116.927 Q170.2 121.51 164.39 121.51 Q158.58 121.51 155.501 116.927 Q152.445 112.32 152.445 103.593 Q152.445 94.8435 155.501 90.2602 Q158.58 85.6538 164.39 85.6538 Z\" fill=\"#000000\" fill-rule=\"evenodd\" fill-opacity=\"1\" /><path clip-path=\"url(#clip290)\" d=\"M184.552 114.959 L189.436 114.959 L189.436 120.839 L184.552 120.839 L184.552 114.959 Z\" fill=\"#000000\" fill-rule=\"evenodd\" fill-opacity=\"1\" /><path clip-path=\"url(#clip290)\" d=\"M212.468 90.3528 L200.663 108.802 L212.468 108.802 L212.468 90.3528 M211.241 86.2788 L217.121 86.2788 L217.121 108.802 L222.051 108.802 L222.051 112.691 L217.121 112.691 L217.121 120.839 L212.468 120.839 L212.468 112.691 L196.866 112.691 L196.866 108.177 L211.241 86.2788 Z\" fill=\"#000000\" fill-rule=\"evenodd\" fill-opacity=\"1\" /><path clip-path=\"url(#clip290)\" d=\"M233.811 116.904 L250.13 116.904 L250.13 120.839 L228.186 120.839 L228.186 116.904 Q230.848 114.149 235.431 109.519 Q240.037 104.867 241.218 103.524 Q243.463 101.001 244.343 99.2648 Q245.246 97.5056 245.246 95.8158 Q245.246 93.0611 243.301 91.325 Q241.38 89.5889 238.278 89.5889 Q236.079 89.5889 233.625 90.3528 Q231.195 91.1167 228.417 92.6676 L228.417 87.9454 Q231.241 86.8112 233.695 86.2325 Q236.149 85.6538 238.186 85.6538 Q243.556 85.6538 246.75 88.3389 Q249.945 91.0241 249.945 95.5148 Q249.945 97.6444 249.135 99.5657 Q248.348 101.464 246.241 104.056 Q245.662 104.728 242.561 107.945 Q239.459 111.14 233.811 116.904 Z\" fill=\"#000000\" fill-rule=\"evenodd\" fill-opacity=\"1\" /><path clip-path=\"url(#clip290)\" d=\"M77.4123 534.918 L94.8225 534.918 L94.8225 524.605 Q94.8225 519.417 92.69 516.935 Q90.5256 514.42 86.1015 514.42 Q81.6455 514.42 79.5448 516.935 Q77.4123 519.417 77.4123 524.605 L77.4123 534.918 M57.8696 534.918 L72.1924 534.918 L72.1924 525.401 Q72.1924 520.69 70.4418 518.399 Q68.6594 516.075 65.031 516.075 Q61.4344 516.075 59.652 518.399 Q57.8696 520.69 57.8696 525.401 L57.8696 534.918 M52.586 541.347 L52.586 524.924 Q52.586 517.571 55.6416 513.593 Q58.6971 509.614 64.3308 509.614 Q68.6913 509.614 71.2694 511.651 Q73.8475 513.688 74.4841 517.635 Q75.5026 512.892 78.7491 510.282 Q81.9638 507.641 86.8017 507.641 Q93.1674 507.641 96.6367 511.969 Q100.106 516.298 100.106 524.287 L100.106 541.347 L52.586 541.347 Z\" fill=\"#000000\" fill-rule=\"evenodd\" fill-opacity=\"1\" /><path clip-path=\"url(#clip290)\" d=\"M69.9326 476.226 Q69.3597 477.213 69.105 478.39 Q68.8186 479.536 68.8186 480.936 Q68.8186 485.902 72.0651 488.575 Q75.2798 491.217 81.3272 491.217 L100.106 491.217 L100.106 497.105 L64.4581 497.105 L64.4581 491.217 L69.9962 491.217 Q66.7497 489.371 65.1901 486.411 Q63.5987 483.451 63.5987 479.218 Q63.5987 478.613 63.6942 477.881 Q63.7578 477.149 63.917 476.258 L69.9326 476.226 Z\" fill=\"#000000\" fill-rule=\"evenodd\" fill-opacity=\"1\" /><path clip-path=\"url(#clip290)\" d=\"M64.4581 470.083 L64.4581 464.226 L100.106 464.226 L100.106 470.083 L64.4581 470.083 M50.5808 470.083 L50.5808 464.226 L57.9969 464.226 L57.9969 470.083 L50.5808 470.083 Z\" fill=\"#000000\" fill-rule=\"evenodd\" fill-opacity=\"1\" /><path clip-path=\"url(#clip290)\" d=\"M80.8179 421.481 L83.6825 421.481 L83.6825 448.408 Q89.7299 448.026 92.9128 444.779 Q96.0638 441.501 96.0638 435.676 Q96.0638 432.302 95.2363 429.151 Q94.4087 425.969 92.7536 422.849 L98.2918 422.849 Q99.6286 426 100.329 429.311 Q101.029 432.621 101.029 436.026 Q101.029 444.556 96.0638 449.554 Q91.0986 454.519 82.6322 454.519 Q73.8793 454.519 68.7549 449.808 Q63.5987 445.066 63.5987 437.045 Q63.5987 429.852 68.2457 425.682 Q72.8608 421.481 80.8179 421.481 M79.0992 427.337 Q74.2931 427.401 71.4285 430.043 Q68.564 432.653 68.564 436.981 Q68.564 441.883 71.333 444.843 Q74.1021 447.771 79.131 448.217 L79.0992 427.337 Z\" fill=\"#000000\" fill-rule=\"evenodd\" fill-opacity=\"1\" /><path clip-path=\"url(#clip290)\" d=\"M69.9326 391.212 Q69.3597 392.199 69.105 393.376 Q68.8186 394.522 68.8186 395.922 Q68.8186 400.888 72.0651 403.561 Q75.2798 406.203 81.3272 406.203 L100.106 406.203 L100.106 412.091 L64.4581 412.091 L64.4581 406.203 L69.9962 406.203 Q66.7497 404.357 65.1901 401.397 Q63.5987 398.437 63.5987 394.204 Q63.5987 393.599 63.6942 392.867 Q63.7578 392.135 63.917 391.244 L69.9326 391.212 Z\" fill=\"#000000\" fill-rule=\"evenodd\" fill-opacity=\"1\" /><path clip-path=\"url(#clip290)\" d=\"M52.586 384.814 L52.586 378.385 L94.6952 378.385 L94.6952 355.246 L100.106 355.246 L100.106 384.814 L52.586 384.814 Z\" fill=\"#000000\" fill-rule=\"evenodd\" fill-opacity=\"1\" /><path clip-path=\"url(#clip290)\" d=\"M68.564 336.085 Q68.564 340.795 72.2561 343.533 Q75.9163 346.27 82.3139 346.27 Q88.7114 346.27 92.4035 343.565 Q96.0638 340.827 96.0638 336.085 Q96.0638 331.406 92.3717 328.669 Q88.6796 325.932 82.3139 325.932 Q75.98 325.932 72.2879 328.669 Q68.564 331.406 68.564 336.085 M63.5987 336.085 Q63.5987 328.446 68.564 324.085 Q73.5292 319.725 82.3139 319.725 Q91.0667 319.725 96.0638 324.085 Q101.029 328.446 101.029 336.085 Q101.029 343.755 96.0638 348.116 Q91.0667 352.445 82.3139 352.445 Q73.5292 352.445 68.564 348.116 Q63.5987 343.755 63.5987 336.085 Z\" fill=\"#000000\" fill-rule=\"evenodd\" fill-opacity=\"1\" /><path clip-path=\"url(#clip290)\" d=\"M65.5084 287.292 L71.0466 287.292 Q69.7734 289.774 69.1369 292.448 Q68.5003 295.121 68.5003 297.986 Q68.5003 302.347 69.8371 304.543 Q71.1739 306.707 73.8475 306.707 Q75.8845 306.707 77.0622 305.147 Q78.208 303.588 79.2583 298.877 L79.7039 296.872 Q81.0407 290.634 83.4915 288.024 Q85.9105 285.382 90.271 285.382 Q95.2363 285.382 98.1327 289.329 Q101.029 293.244 101.029 300.119 Q101.029 302.983 100.456 306.102 Q99.9151 309.19 98.8011 312.627 L92.7536 312.627 Q94.4406 309.381 95.2999 306.23 Q96.1275 303.079 96.1275 299.991 Q96.1275 295.854 94.727 293.626 Q93.2947 291.398 90.7166 291.398 Q88.3295 291.398 87.0563 293.021 Q85.7832 294.612 84.6055 300.055 L84.1281 302.092 Q82.9823 307.535 80.627 309.954 Q78.2398 312.373 74.1021 312.373 Q69.0732 312.373 66.336 308.808 Q63.5987 305.243 63.5987 298.686 Q63.5987 295.44 64.0761 292.575 Q64.5536 289.711 65.5084 287.292 Z\" fill=\"#000000\" fill-rule=\"evenodd\" fill-opacity=\"1\" /><path clip-path=\"url(#clip290)\" d=\"M65.5084 253.331 L71.0466 253.331 Q69.7734 255.813 69.1369 258.487 Q68.5003 261.16 68.5003 264.025 Q68.5003 268.386 69.8371 270.582 Q71.1739 272.746 73.8475 272.746 Q75.8845 272.746 77.0622 271.186 Q78.208 269.627 79.2583 264.916 L79.7039 262.911 Q81.0407 256.673 83.4915 254.063 Q85.9105 251.421 90.271 251.421 Q95.2363 251.421 98.1327 255.368 Q101.029 259.283 101.029 266.158 Q101.029 269.022 100.456 272.141 Q99.9151 275.229 98.8011 278.666 L92.7536 278.666 Q94.4406 275.42 95.2999 272.269 Q96.1275 269.118 96.1275 266.03 Q96.1275 261.893 94.727 259.665 Q93.2947 257.437 90.7166 257.437 Q88.3295 257.437 87.0563 259.06 Q85.7832 260.651 84.6055 266.094 L84.1281 268.131 Q82.9823 273.574 80.627 275.993 Q78.2398 278.412 74.1021 278.412 Q69.0732 278.412 66.336 274.847 Q63.5987 271.282 63.5987 264.725 Q63.5987 261.479 64.0761 258.614 Q64.5536 255.75 65.5084 253.331 Z\" fill=\"#000000\" fill-rule=\"evenodd\" fill-opacity=\"1\" /><circle clip-path=\"url(#clip292)\" cx=\"1142.88\" cy=\"508.136\" r=\"14\" fill=\"#009af9\" fill-rule=\"evenodd\" fill-opacity=\"1\" stroke=\"#000000\" stroke-opacity=\"1\" stroke-width=\"3.6\"/>\n",
       "<circle clip-path=\"url(#clip292)\" cx=\"934.933\" cy=\"631.134\" r=\"14\" fill=\"#009af9\" fill-rule=\"evenodd\" fill-opacity=\"1\" stroke=\"#000000\" stroke-opacity=\"1\" stroke-width=\"3.6\"/>\n",
       "<circle clip-path=\"url(#clip292)\" cx=\"311.084\" cy=\"725.761\" r=\"14\" fill=\"#009af9\" fill-rule=\"evenodd\" fill-opacity=\"1\" stroke=\"#000000\" stroke-opacity=\"1\" stroke-width=\"3.6\"/>\n",
       "<circle clip-path=\"url(#clip292)\" cx=\"519.034\" cy=\"703.648\" r=\"14\" fill=\"#009af9\" fill-rule=\"evenodd\" fill-opacity=\"1\" stroke=\"#000000\" stroke-opacity=\"1\" stroke-width=\"3.6\"/>\n",
       "<circle clip-path=\"url(#clip292)\" cx=\"726.983\" cy=\"657.616\" r=\"14\" fill=\"#009af9\" fill-rule=\"evenodd\" fill-opacity=\"1\" stroke=\"#000000\" stroke-opacity=\"1\" stroke-width=\"3.6\"/>\n",
       "<circle clip-path=\"url(#clip292)\" cx=\"726.983\" cy=\"674.089\" r=\"14\" fill=\"#009af9\" fill-rule=\"evenodd\" fill-opacity=\"1\" stroke=\"#000000\" stroke-opacity=\"1\" stroke-width=\"3.6\"/>\n",
       "<circle clip-path=\"url(#clip292)\" cx=\"934.933\" cy=\"611.999\" r=\"14\" fill=\"#009af9\" fill-rule=\"evenodd\" fill-opacity=\"1\" stroke=\"#000000\" stroke-opacity=\"1\" stroke-width=\"3.6\"/>\n",
       "<circle clip-path=\"url(#clip292)\" cx=\"519.034\" cy=\"722.233\" r=\"14\" fill=\"#009af9\" fill-rule=\"evenodd\" fill-opacity=\"1\" stroke=\"#000000\" stroke-opacity=\"1\" stroke-width=\"3.6\"/>\n",
       "<circle clip-path=\"url(#clip292)\" cx=\"726.983\" cy=\"678.571\" r=\"14\" fill=\"#009af9\" fill-rule=\"evenodd\" fill-opacity=\"1\" stroke=\"#000000\" stroke-opacity=\"1\" stroke-width=\"3.6\"/>\n",
       "<circle clip-path=\"url(#clip292)\" cx=\"1142.88\" cy=\"553.817\" r=\"14\" fill=\"#009af9\" fill-rule=\"evenodd\" fill-opacity=\"1\" stroke=\"#000000\" stroke-opacity=\"1\" stroke-width=\"3.6\"/>\n",
       "<circle clip-path=\"url(#clip292)\" cx=\"519.034\" cy=\"713.885\" r=\"14\" fill=\"#009af9\" fill-rule=\"evenodd\" fill-opacity=\"1\" stroke=\"#000000\" stroke-opacity=\"1\" stroke-width=\"3.6\"/>\n",
       "<circle clip-path=\"url(#clip292)\" cx=\"726.983\" cy=\"692.957\" r=\"14\" fill=\"#009af9\" fill-rule=\"evenodd\" fill-opacity=\"1\" stroke=\"#000000\" stroke-opacity=\"1\" stroke-width=\"3.6\"/>\n",
       "<circle clip-path=\"url(#clip292)\" cx=\"1142.88\" cy=\"556.049\" r=\"14\" fill=\"#009af9\" fill-rule=\"evenodd\" fill-opacity=\"1\" stroke=\"#000000\" stroke-opacity=\"1\" stroke-width=\"3.6\"/>\n",
       "<circle clip-path=\"url(#clip292)\" cx=\"519.034\" cy=\"693.858\" r=\"14\" fill=\"#009af9\" fill-rule=\"evenodd\" fill-opacity=\"1\" stroke=\"#000000\" stroke-opacity=\"1\" stroke-width=\"3.6\"/>\n",
       "<circle clip-path=\"url(#clip292)\" cx=\"519.034\" cy=\"697.124\" r=\"14\" fill=\"#009af9\" fill-rule=\"evenodd\" fill-opacity=\"1\" stroke=\"#000000\" stroke-opacity=\"1\" stroke-width=\"3.6\"/>\n",
       "<circle clip-path=\"url(#clip292)\" cx=\"934.933\" cy=\"67.0067\" r=\"14\" fill=\"#009af9\" fill-rule=\"evenodd\" fill-opacity=\"1\" stroke=\"#000000\" stroke-opacity=\"1\" stroke-width=\"3.6\"/>\n",
       "<circle clip-path=\"url(#clip292)\" cx=\"311.084\" cy=\"708.814\" r=\"14\" fill=\"#009af9\" fill-rule=\"evenodd\" fill-opacity=\"1\" stroke=\"#000000\" stroke-opacity=\"1\" stroke-width=\"3.6\"/>\n",
       "<circle clip-path=\"url(#clip292)\" cx=\"934.933\" cy=\"600.588\" r=\"14\" fill=\"#009af9\" fill-rule=\"evenodd\" fill-opacity=\"1\" stroke=\"#000000\" stroke-opacity=\"1\" stroke-width=\"3.6\"/>\n",
       "<circle clip-path=\"url(#clip292)\" cx=\"934.933\" cy=\"595.811\" r=\"14\" fill=\"#009af9\" fill-rule=\"evenodd\" fill-opacity=\"1\" stroke=\"#000000\" stroke-opacity=\"1\" stroke-width=\"3.6\"/>\n",
       "<circle clip-path=\"url(#clip292)\" cx=\"726.983\" cy=\"679.896\" r=\"14\" fill=\"#009af9\" fill-rule=\"evenodd\" fill-opacity=\"1\" stroke=\"#000000\" stroke-opacity=\"1\" stroke-width=\"3.6\"/>\n",
       "<circle clip-path=\"url(#clip292)\" cx=\"311.084\" cy=\"707.174\" r=\"14\" fill=\"#009af9\" fill-rule=\"evenodd\" fill-opacity=\"1\" stroke=\"#000000\" stroke-opacity=\"1\" stroke-width=\"3.6\"/>\n",
       "<circle clip-path=\"url(#clip292)\" cx=\"519.034\" cy=\"681.652\" r=\"14\" fill=\"#009af9\" fill-rule=\"evenodd\" fill-opacity=\"1\" stroke=\"#000000\" stroke-opacity=\"1\" stroke-width=\"3.6\"/>\n",
       "<circle clip-path=\"url(#clip292)\" cx=\"934.933\" cy=\"600.153\" r=\"14\" fill=\"#009af9\" fill-rule=\"evenodd\" fill-opacity=\"1\" stroke=\"#000000\" stroke-opacity=\"1\" stroke-width=\"3.6\"/>\n",
       "<circle clip-path=\"url(#clip292)\" cx=\"519.034\" cy=\"673.895\" r=\"14\" fill=\"#009af9\" fill-rule=\"evenodd\" fill-opacity=\"1\" stroke=\"#000000\" stroke-opacity=\"1\" stroke-width=\"3.6\"/>\n",
       "<circle clip-path=\"url(#clip292)\" cx=\"1142.88\" cy=\"575.986\" r=\"14\" fill=\"#009af9\" fill-rule=\"evenodd\" fill-opacity=\"1\" stroke=\"#000000\" stroke-opacity=\"1\" stroke-width=\"3.6\"/>\n",
       "<path clip-path=\"url(#clip290)\" d=\"\n",
       "M1471.05 745.524 L2352.76 745.524 L2352.76 47.2441 L1471.05 47.2441  Z\n",
       "  \" fill=\"#ffffff\" fill-rule=\"evenodd\" fill-opacity=\"1\"/>\n",
       "<defs>\n",
       "  <clipPath id=\"clip293\">\n",
       "    <rect x=\"1471\" y=\"47\" width=\"883\" height=\"699\"/>\n",
       "  </clipPath>\n",
       "</defs>\n",
       "<path clip-path=\"url(#clip290)\" d=\"\n",
       "M286.13 1610.92 L1167.84 1610.92 L1167.84 912.64 L286.13 912.64  Z\n",
       "  \" fill=\"#ffffff\" fill-rule=\"evenodd\" fill-opacity=\"1\"/>\n",
       "<defs>\n",
       "  <clipPath id=\"clip294\">\n",
       "    <rect x=\"286\" y=\"912\" width=\"883\" height=\"699\"/>\n",
       "  </clipPath>\n",
       "</defs>\n",
       "<polyline clip-path=\"url(#clip294)\" style=\"stroke:#000000; stroke-linecap:butt; stroke-linejoin:round; stroke-width:2; stroke-opacity:0.1; fill:none\" points=\"\n",
       "  311.084,1610.92 311.084,912.64 \n",
       "  \"/>\n",
       "<polyline clip-path=\"url(#clip294)\" style=\"stroke:#000000; stroke-linecap:butt; stroke-linejoin:round; stroke-width:2; stroke-opacity:0.1; fill:none\" points=\"\n",
       "  519.034,1610.92 519.034,912.64 \n",
       "  \"/>\n",
       "<polyline clip-path=\"url(#clip294)\" style=\"stroke:#000000; stroke-linecap:butt; stroke-linejoin:round; stroke-width:2; stroke-opacity:0.1; fill:none\" points=\"\n",
       "  726.983,1610.92 726.983,912.64 \n",
       "  \"/>\n",
       "<polyline clip-path=\"url(#clip294)\" style=\"stroke:#000000; stroke-linecap:butt; stroke-linejoin:round; stroke-width:2; stroke-opacity:0.1; fill:none\" points=\"\n",
       "  934.933,1610.92 934.933,912.64 \n",
       "  \"/>\n",
       "<polyline clip-path=\"url(#clip294)\" style=\"stroke:#000000; stroke-linecap:butt; stroke-linejoin:round; stroke-width:2; stroke-opacity:0.1; fill:none\" points=\"\n",
       "  1142.88,1610.92 1142.88,912.64 \n",
       "  \"/>\n",
       "<polyline clip-path=\"url(#clip290)\" style=\"stroke:#000000; stroke-linecap:butt; stroke-linejoin:round; stroke-width:4; stroke-opacity:1; fill:none\" points=\"\n",
       "  286.13,1610.92 1167.84,1610.92 \n",
       "  \"/>\n",
       "<polyline clip-path=\"url(#clip290)\" style=\"stroke:#000000; stroke-linecap:butt; stroke-linejoin:round; stroke-width:4; stroke-opacity:1; fill:none\" points=\"\n",
       "  286.13,912.64 1167.84,912.64 \n",
       "  \"/>\n",
       "<polyline clip-path=\"url(#clip290)\" style=\"stroke:#000000; stroke-linecap:butt; stroke-linejoin:round; stroke-width:4; stroke-opacity:1; fill:none\" points=\"\n",
       "  311.084,1610.92 311.084,1592.02 \n",
       "  \"/>\n",
       "<polyline clip-path=\"url(#clip290)\" style=\"stroke:#000000; stroke-linecap:butt; stroke-linejoin:round; stroke-width:4; stroke-opacity:1; fill:none\" points=\"\n",
       "  519.034,1610.92 519.034,1592.02 \n",
       "  \"/>\n",
       "<polyline clip-path=\"url(#clip290)\" style=\"stroke:#000000; stroke-linecap:butt; stroke-linejoin:round; stroke-width:4; stroke-opacity:1; fill:none\" points=\"\n",
       "  726.983,1610.92 726.983,1592.02 \n",
       "  \"/>\n",
       "<polyline clip-path=\"url(#clip290)\" style=\"stroke:#000000; stroke-linecap:butt; stroke-linejoin:round; stroke-width:4; stroke-opacity:1; fill:none\" points=\"\n",
       "  934.933,1610.92 934.933,1592.02 \n",
       "  \"/>\n",
       "<polyline clip-path=\"url(#clip290)\" style=\"stroke:#000000; stroke-linecap:butt; stroke-linejoin:round; stroke-width:4; stroke-opacity:1; fill:none\" points=\"\n",
       "  1142.88,1610.92 1142.88,1592.02 \n",
       "  \"/>\n",
       "<path clip-path=\"url(#clip290)\" d=\"M305.737 1669.38 L322.056 1669.38 L322.056 1673.32 L300.112 1673.32 L300.112 1669.38 Q302.774 1666.63 307.357 1662 Q311.964 1657.35 313.144 1656.01 Q315.39 1653.48 316.269 1651.75 Q317.172 1649.99 317.172 1648.3 Q317.172 1645.54 315.227 1643.81 Q313.306 1642.07 310.204 1642.07 Q308.005 1642.07 305.552 1642.83 Q303.121 1643.6 300.343 1645.15 L300.343 1640.43 Q303.167 1639.29 305.621 1638.71 Q308.075 1638.13 310.112 1638.13 Q315.482 1638.13 318.677 1640.82 Q321.871 1643.51 321.871 1648 Q321.871 1650.13 321.061 1652.05 Q320.274 1653.94 318.167 1656.54 Q317.589 1657.21 314.487 1660.43 Q311.385 1663.62 305.737 1669.38 Z\" fill=\"#000000\" fill-rule=\"evenodd\" fill-opacity=\"1\" /><path clip-path=\"url(#clip290)\" d=\"M523.281 1654.69 Q526.638 1655.4 528.513 1657.67 Q530.411 1659.94 530.411 1663.27 Q530.411 1668.39 526.892 1671.19 Q523.374 1673.99 516.893 1673.99 Q514.717 1673.99 512.402 1673.55 Q510.11 1673.13 507.656 1672.28 L507.656 1667.76 Q509.601 1668.9 511.916 1669.48 Q514.23 1670.06 516.754 1670.06 Q521.152 1670.06 523.443 1668.32 Q525.758 1666.58 525.758 1663.27 Q525.758 1660.22 523.605 1658.51 Q521.476 1656.77 517.656 1656.77 L513.629 1656.77 L513.629 1652.93 L517.842 1652.93 Q521.291 1652.93 523.119 1651.56 Q524.948 1650.17 524.948 1647.58 Q524.948 1644.92 523.05 1643.51 Q521.175 1642.07 517.656 1642.07 Q515.735 1642.07 513.536 1642.49 Q511.337 1642.9 508.698 1643.78 L508.698 1639.62 Q511.36 1638.88 513.675 1638.51 Q516.013 1638.13 518.073 1638.13 Q523.397 1638.13 526.499 1640.57 Q529.601 1642.97 529.601 1647.09 Q529.601 1649.96 527.957 1651.95 Q526.314 1653.92 523.281 1654.69 Z\" fill=\"#000000\" fill-rule=\"evenodd\" fill-opacity=\"1\" /><path clip-path=\"url(#clip290)\" d=\"M729.993 1642.83 L718.187 1661.28 L729.993 1661.28 L729.993 1642.83 M728.766 1638.76 L734.645 1638.76 L734.645 1661.28 L739.576 1661.28 L739.576 1665.17 L734.645 1665.17 L734.645 1673.32 L729.993 1673.32 L729.993 1665.17 L714.391 1665.17 L714.391 1660.66 L728.766 1638.76 Z\" fill=\"#000000\" fill-rule=\"evenodd\" fill-opacity=\"1\" /><path clip-path=\"url(#clip290)\" d=\"M925.211 1638.76 L943.567 1638.76 L943.567 1642.7 L929.493 1642.7 L929.493 1651.17 Q930.512 1650.82 931.53 1650.66 Q932.549 1650.47 933.567 1650.47 Q939.354 1650.47 942.734 1653.64 Q946.114 1656.82 946.114 1662.23 Q946.114 1667.81 942.641 1670.91 Q939.169 1673.99 932.85 1673.99 Q930.674 1673.99 928.405 1673.62 Q926.16 1673.25 923.753 1672.51 L923.753 1667.81 Q925.836 1668.94 928.058 1669.5 Q930.28 1670.06 932.757 1670.06 Q936.762 1670.06 939.1 1667.95 Q941.438 1665.84 941.438 1662.23 Q941.438 1658.62 939.1 1656.51 Q936.762 1654.41 932.757 1654.41 Q930.882 1654.41 929.007 1654.82 Q927.155 1655.24 925.211 1656.12 L925.211 1638.76 Z\" fill=\"#000000\" fill-rule=\"evenodd\" fill-opacity=\"1\" /><path clip-path=\"url(#clip290)\" d=\"M1143.29 1654.18 Q1140.14 1654.18 1138.29 1656.33 Q1136.46 1658.48 1136.46 1662.23 Q1136.46 1665.96 1138.29 1668.13 Q1140.14 1670.29 1143.29 1670.29 Q1146.44 1670.29 1148.26 1668.13 Q1150.12 1665.96 1150.12 1662.23 Q1150.12 1658.48 1148.26 1656.33 Q1146.44 1654.18 1143.29 1654.18 M1152.57 1639.52 L1152.57 1643.78 Q1150.81 1642.95 1149.01 1642.51 Q1147.22 1642.07 1145.46 1642.07 Q1140.83 1642.07 1138.38 1645.19 Q1135.95 1648.32 1135.6 1654.64 Q1136.97 1652.63 1139.03 1651.56 Q1141.09 1650.47 1143.57 1650.47 Q1148.77 1650.47 1151.78 1653.64 Q1154.82 1656.79 1154.82 1662.23 Q1154.82 1667.56 1151.67 1670.77 Q1148.52 1673.99 1143.29 1673.99 Q1137.29 1673.99 1134.12 1669.41 Q1130.95 1664.8 1130.95 1656.07 Q1130.95 1647.88 1134.84 1643.02 Q1138.73 1638.13 1145.28 1638.13 Q1147.04 1638.13 1148.82 1638.48 Q1150.63 1638.83 1152.57 1639.52 Z\" fill=\"#000000\" fill-rule=\"evenodd\" fill-opacity=\"1\" /><path clip-path=\"url(#clip290)\" d=\"M157.921 1726.98 Q160.117 1723.03 163.173 1721.15 Q166.228 1719.28 170.366 1719.28 Q175.936 1719.28 178.96 1723.19 Q181.983 1727.07 181.983 1734.27 L181.983 1755.78 L176.095 1755.78 L176.095 1734.46 Q176.095 1729.33 174.281 1726.85 Q172.467 1724.37 168.743 1724.37 Q164.191 1724.37 161.55 1727.39 Q158.908 1730.42 158.908 1735.64 L158.908 1755.78 L153.019 1755.78 L153.019 1734.46 Q153.019 1729.3 151.205 1726.85 Q149.391 1724.37 145.603 1724.37 Q141.116 1724.37 138.474 1727.42 Q135.832 1730.45 135.832 1735.64 L135.832 1755.78 L129.944 1755.78 L129.944 1720.14 L135.832 1720.14 L135.832 1725.67 Q137.837 1722.4 140.638 1720.84 Q143.439 1719.28 147.29 1719.28 Q151.173 1719.28 153.879 1721.25 Q156.616 1723.22 157.921 1726.98 Z\" fill=\"#000000\" fill-rule=\"evenodd\" fill-opacity=\"1\" /><path clip-path=\"url(#clip290)\" d=\"M207.478 1724.24 Q202.767 1724.24 200.03 1727.93 Q197.293 1731.59 197.293 1737.99 Q197.293 1744.39 199.998 1748.08 Q202.736 1751.74 207.478 1751.74 Q212.157 1751.74 214.894 1748.05 Q217.631 1744.36 217.631 1737.99 Q217.631 1731.66 214.894 1727.97 Q212.157 1724.24 207.478 1724.24 M207.478 1719.28 Q215.117 1719.28 219.477 1724.24 Q223.838 1729.21 223.838 1737.99 Q223.838 1746.74 219.477 1751.74 Q215.117 1756.71 207.478 1756.71 Q199.807 1756.71 195.447 1751.74 Q191.118 1746.74 191.118 1737.99 Q191.118 1729.21 195.447 1724.24 Q199.807 1719.28 207.478 1719.28 Z\" fill=\"#000000\" fill-rule=\"evenodd\" fill-opacity=\"1\" /><path clip-path=\"url(#clip290)\" d=\"M257.003 1725.55 L257.003 1706.26 L262.86 1706.26 L262.86 1755.78 L257.003 1755.78 L257.003 1750.44 Q255.157 1753.62 252.325 1755.18 Q249.524 1756.71 245.577 1756.71 Q239.116 1756.71 235.042 1751.55 Q230.999 1746.39 230.999 1737.99 Q230.999 1729.59 235.042 1724.43 Q239.116 1719.28 245.577 1719.28 Q249.524 1719.28 252.325 1720.84 Q255.157 1722.36 257.003 1725.55 M237.047 1737.99 Q237.047 1744.45 239.689 1748.14 Q242.362 1751.81 247.009 1751.81 Q251.656 1751.81 254.33 1748.14 Q257.003 1744.45 257.003 1737.99 Q257.003 1731.53 254.33 1727.87 Q251.656 1724.18 247.009 1724.18 Q242.362 1724.18 239.689 1727.87 Q237.047 1731.53 237.047 1737.99 Z\" fill=\"#000000\" fill-rule=\"evenodd\" fill-opacity=\"1\" /><path clip-path=\"url(#clip290)\" d=\"M305.415 1736.5 L305.415 1739.36 L278.488 1739.36 Q278.87 1745.41 282.116 1748.59 Q285.394 1751.74 291.219 1751.74 Q294.593 1751.74 297.744 1750.91 Q300.927 1750.09 304.046 1748.43 L304.046 1753.97 Q300.895 1755.31 297.585 1756.01 Q294.275 1756.71 290.869 1756.71 Q282.339 1756.71 277.342 1751.74 Q272.376 1746.78 272.376 1738.31 Q272.376 1729.56 277.087 1724.43 Q281.83 1719.28 289.85 1719.28 Q297.044 1719.28 301.213 1723.92 Q305.415 1728.54 305.415 1736.5 M299.558 1734.78 Q299.494 1729.97 296.853 1727.11 Q294.243 1724.24 289.914 1724.24 Q285.012 1724.24 282.052 1727.01 Q279.124 1729.78 278.679 1734.81 L299.558 1734.78 Z\" fill=\"#000000\" fill-rule=\"evenodd\" fill-opacity=\"1\" /><path clip-path=\"url(#clip290)\" d=\"M315.027 1706.26 L320.883 1706.26 L320.883 1755.78 L315.027 1755.78 L315.027 1706.26 Z\" fill=\"#000000\" fill-rule=\"evenodd\" fill-opacity=\"1\" /><path clip-path=\"url(#clip290)\" d=\"M333.965 1747.7 L340.681 1747.7 L340.681 1755.78 L333.965 1755.78 L333.965 1747.7 Z\" fill=\"#000000\" fill-rule=\"evenodd\" fill-opacity=\"1\" /><path clip-path=\"url(#clip290)\" d=\"M384.349 1736.5 L384.349 1739.36 L357.422 1739.36 Q357.804 1745.41 361.051 1748.59 Q364.329 1751.74 370.154 1751.74 Q373.528 1751.74 376.679 1750.91 Q379.861 1750.09 382.981 1748.43 L382.981 1753.97 Q379.83 1755.31 376.519 1756.01 Q373.209 1756.71 369.804 1756.71 Q361.274 1756.71 356.277 1751.74 Q351.311 1746.78 351.311 1738.31 Q351.311 1729.56 356.022 1724.43 Q360.764 1719.28 368.785 1719.28 Q375.978 1719.28 380.148 1723.92 Q384.349 1728.54 384.349 1736.5 M378.493 1734.78 Q378.429 1729.97 375.787 1727.11 Q373.177 1724.24 368.849 1724.24 Q363.947 1724.24 360.987 1727.01 Q358.059 1729.78 357.613 1734.81 L378.493 1734.78 Z\" fill=\"#000000\" fill-rule=\"evenodd\" fill-opacity=\"1\" /><path clip-path=\"url(#clip290)\" d=\"M389.76 1720.14 L395.967 1720.14 L407.107 1750.05 L418.247 1720.14 L424.453 1720.14 L411.085 1755.78 L403.128 1755.78 L389.76 1720.14 Z\" fill=\"#000000\" fill-rule=\"evenodd\" fill-opacity=\"1\" /><path clip-path=\"url(#clip290)\" d=\"M446.351 1724.24 Q441.641 1724.24 438.903 1727.93 Q436.166 1731.59 436.166 1737.99 Q436.166 1744.39 438.872 1748.08 Q441.609 1751.74 446.351 1751.74 Q451.03 1751.74 453.767 1748.05 Q456.505 1744.36 456.505 1737.99 Q456.505 1731.66 453.767 1727.97 Q451.03 1724.24 446.351 1724.24 M446.351 1719.28 Q453.99 1719.28 458.351 1724.24 Q462.711 1729.21 462.711 1737.99 Q462.711 1746.74 458.351 1751.74 Q453.99 1756.71 446.351 1756.71 Q438.681 1756.71 434.32 1751.74 Q429.991 1746.74 429.991 1737.99 Q429.991 1729.21 434.32 1724.24 Q438.681 1719.28 446.351 1719.28 Z\" fill=\"#000000\" fill-rule=\"evenodd\" fill-opacity=\"1\" /><path clip-path=\"url(#clip290)\" d=\"M499.505 1766.61 L499.505 1771.16 L465.639 1771.16 L465.639 1766.61 L499.505 1766.61 Z\" fill=\"#000000\" fill-rule=\"evenodd\" fill-opacity=\"1\" /><path clip-path=\"url(#clip290)\" d=\"M510.804 1710.01 L510.804 1720.14 L522.867 1720.14 L522.867 1724.69 L510.804 1724.69 L510.804 1744.04 Q510.804 1748.4 511.982 1749.64 Q513.191 1750.88 516.851 1750.88 L522.867 1750.88 L522.867 1755.78 L516.851 1755.78 Q510.072 1755.78 507.494 1753.27 Q504.916 1750.72 504.916 1744.04 L504.916 1724.69 L500.619 1724.69 L500.619 1720.14 L504.916 1720.14 L504.916 1710.01 L510.804 1710.01 Z\" fill=\"#000000\" fill-rule=\"evenodd\" fill-opacity=\"1\" /><path clip-path=\"url(#clip290)\" d=\"M551.226 1725.61 Q550.24 1725.04 549.062 1724.78 Q547.916 1724.5 546.516 1724.5 Q541.55 1724.5 538.877 1727.74 Q536.235 1730.96 536.235 1737.01 L536.235 1755.78 L530.347 1755.78 L530.347 1720.14 L536.235 1720.14 L536.235 1725.67 Q538.081 1722.43 541.041 1720.87 Q544.001 1719.28 548.234 1719.28 Q548.839 1719.28 549.571 1719.37 Q550.303 1719.44 551.194 1719.59 L551.226 1725.61 Z\" fill=\"#000000\" fill-rule=\"evenodd\" fill-opacity=\"1\" /><path clip-path=\"url(#clip290)\" d=\"M586.429 1736.5 L586.429 1739.36 L559.502 1739.36 Q559.884 1745.41 563.13 1748.59 Q566.408 1751.74 572.233 1751.74 Q575.607 1751.74 578.758 1750.91 Q581.941 1750.09 585.06 1748.43 L585.06 1753.97 Q581.909 1755.31 578.599 1756.01 Q575.289 1756.71 571.883 1756.71 Q563.353 1756.71 558.356 1751.74 Q553.391 1746.78 553.391 1738.31 Q553.391 1729.56 558.101 1724.43 Q562.844 1719.28 570.864 1719.28 Q578.058 1719.28 582.227 1723.92 Q586.429 1728.54 586.429 1736.5 M580.572 1734.78 Q580.509 1729.97 577.867 1727.11 Q575.257 1724.24 570.928 1724.24 Q566.027 1724.24 563.066 1727.01 Q560.138 1729.78 559.693 1734.81 L580.572 1734.78 Z\" fill=\"#000000\" fill-rule=\"evenodd\" fill-opacity=\"1\" /><path clip-path=\"url(#clip290)\" d=\"M626.533 1736.5 L626.533 1739.36 L599.606 1739.36 Q599.988 1745.41 603.234 1748.59 Q606.512 1751.74 612.337 1751.74 Q615.711 1751.74 618.862 1750.91 Q622.045 1750.09 625.164 1748.43 L625.164 1753.97 Q622.013 1755.31 618.703 1756.01 Q615.393 1756.71 611.987 1756.71 Q603.457 1756.71 598.46 1751.74 Q593.495 1746.78 593.495 1738.31 Q593.495 1729.56 598.205 1724.43 Q602.948 1719.28 610.968 1719.28 Q618.162 1719.28 622.331 1723.92 Q626.533 1728.54 626.533 1736.5 M620.676 1734.78 Q620.612 1729.97 617.971 1727.11 Q615.361 1724.24 611.032 1724.24 Q606.13 1724.24 603.17 1727.01 Q600.242 1729.78 599.797 1734.81 L620.676 1734.78 Z\" fill=\"#000000\" fill-rule=\"evenodd\" fill-opacity=\"1\" /><path clip-path=\"url(#clip290)\" d=\"M663.231 1766.61 L663.231 1771.16 L629.365 1771.16 L629.365 1766.61 L663.231 1766.61 Z\" fill=\"#000000\" fill-rule=\"evenodd\" fill-opacity=\"1\" /><path clip-path=\"url(#clip290)\" d=\"M694.391 1721.5 L694.391 1726.98 Q691.908 1725.61 689.394 1724.94 Q686.911 1724.24 684.365 1724.24 Q678.668 1724.24 675.517 1727.87 Q672.366 1731.47 672.366 1737.99 Q672.366 1744.52 675.517 1748.14 Q678.668 1751.74 684.365 1751.74 Q686.911 1751.74 689.394 1751.07 Q691.908 1750.37 694.391 1749 L694.391 1754.42 Q691.94 1755.56 689.298 1756.13 Q686.689 1756.71 683.728 1756.71 Q675.676 1756.71 670.933 1751.65 Q666.191 1746.59 666.191 1737.99 Q666.191 1729.27 670.965 1724.27 Q675.771 1719.28 684.11 1719.28 Q686.816 1719.28 689.394 1719.85 Q691.972 1720.39 694.391 1721.5 Z\" fill=\"#000000\" fill-rule=\"evenodd\" fill-opacity=\"1\" /><path clip-path=\"url(#clip290)\" d=\"M704.576 1706.26 L710.433 1706.26 L710.433 1755.78 L704.576 1755.78 L704.576 1706.26 Z\" fill=\"#000000\" fill-rule=\"evenodd\" fill-opacity=\"1\" /><path clip-path=\"url(#clip290)\" d=\"M738.887 1737.86 Q731.79 1737.86 729.052 1739.49 Q726.315 1741.11 726.315 1745.03 Q726.315 1748.14 728.352 1749.99 Q730.421 1751.81 733.954 1751.81 Q738.824 1751.81 741.752 1748.37 Q744.712 1744.9 744.712 1739.17 L744.712 1737.86 L738.887 1737.86 M750.568 1735.45 L750.568 1755.78 L744.712 1755.78 L744.712 1750.37 Q742.707 1753.62 739.715 1755.18 Q736.723 1756.71 732.394 1756.71 Q726.92 1756.71 723.673 1753.65 Q720.459 1750.56 720.459 1745.41 Q720.459 1739.39 724.469 1736.34 Q728.511 1733.28 736.5 1733.28 L744.712 1733.28 L744.712 1732.71 Q744.712 1728.67 742.038 1726.47 Q739.397 1724.24 734.59 1724.24 Q731.535 1724.24 728.639 1724.97 Q725.742 1725.71 723.069 1727.17 L723.069 1721.76 Q726.283 1720.52 729.307 1719.91 Q732.331 1719.28 735.195 1719.28 Q742.93 1719.28 746.749 1723.29 Q750.568 1727.3 750.568 1735.45 Z\" fill=\"#000000\" fill-rule=\"evenodd\" fill-opacity=\"1\" /><path clip-path=\"url(#clip290)\" d=\"M785.357 1721.19 L785.357 1726.72 Q782.874 1725.45 780.201 1724.81 Q777.527 1724.18 774.663 1724.18 Q770.302 1724.18 768.106 1725.51 Q765.942 1726.85 765.942 1729.53 Q765.942 1731.56 767.501 1732.74 Q769.061 1733.89 773.771 1734.94 L775.777 1735.38 Q782.015 1736.72 784.625 1739.17 Q787.267 1741.59 787.267 1745.95 Q787.267 1750.91 783.32 1753.81 Q779.405 1756.71 772.53 1756.71 Q769.665 1756.71 766.546 1756.13 Q763.459 1755.59 760.021 1754.48 L760.021 1748.43 Q763.268 1750.12 766.419 1750.98 Q769.57 1751.81 772.657 1751.81 Q776.795 1751.81 779.023 1750.4 Q781.251 1748.97 781.251 1746.39 Q781.251 1744.01 779.628 1742.73 Q778.036 1741.46 772.594 1740.28 L770.557 1739.81 Q765.114 1738.66 762.695 1736.3 Q760.276 1733.92 760.276 1729.78 Q760.276 1724.75 763.841 1722.01 Q767.406 1719.28 773.962 1719.28 Q777.209 1719.28 780.073 1719.75 Q782.938 1720.23 785.357 1721.19 Z\" fill=\"#000000\" fill-rule=\"evenodd\" fill-opacity=\"1\" /><path clip-path=\"url(#clip290)\" d=\"M819.318 1721.19 L819.318 1726.72 Q816.835 1725.45 814.162 1724.81 Q811.488 1724.18 808.624 1724.18 Q804.263 1724.18 802.067 1725.51 Q799.903 1726.85 799.903 1729.53 Q799.903 1731.56 801.462 1732.74 Q803.022 1733.89 807.732 1734.94 L809.738 1735.38 Q815.976 1736.72 818.586 1739.17 Q821.228 1741.59 821.228 1745.95 Q821.228 1750.91 817.281 1753.81 Q813.366 1756.71 806.491 1756.71 Q803.627 1756.71 800.507 1756.13 Q797.42 1755.59 793.982 1754.48 L793.982 1748.43 Q797.229 1750.12 800.38 1750.98 Q803.531 1751.81 806.618 1751.81 Q810.756 1751.81 812.984 1750.4 Q815.212 1748.97 815.212 1746.39 Q815.212 1744.01 813.589 1742.73 Q811.997 1741.46 806.555 1740.28 L804.518 1739.81 Q799.075 1738.66 796.656 1736.3 Q794.237 1733.92 794.237 1729.78 Q794.237 1724.75 797.802 1722.01 Q801.367 1719.28 807.923 1719.28 Q811.17 1719.28 814.034 1719.75 Q816.899 1720.23 819.318 1721.19 Z\" fill=\"#000000\" fill-rule=\"evenodd\" fill-opacity=\"1\" /><path clip-path=\"url(#clip290)\" d=\"M830.553 1720.14 L836.41 1720.14 L836.41 1755.78 L830.553 1755.78 L830.553 1720.14 M830.553 1706.26 L836.41 1706.26 L836.41 1713.67 L830.553 1713.67 L830.553 1706.26 Z\" fill=\"#000000\" fill-rule=\"evenodd\" fill-opacity=\"1\" /><path clip-path=\"url(#clip290)\" d=\"M866.711 1706.26 L866.711 1711.13 L861.109 1711.13 Q857.958 1711.13 856.717 1712.4 Q855.507 1713.67 855.507 1716.98 L855.507 1720.14 L865.151 1720.14 L865.151 1724.69 L855.507 1724.69 L855.507 1755.78 L849.619 1755.78 L849.619 1724.69 L844.017 1724.69 L844.017 1720.14 L849.619 1720.14 L849.619 1717.65 Q849.619 1711.7 852.388 1709 Q855.157 1706.26 861.173 1706.26 L866.711 1706.26 Z\" fill=\"#000000\" fill-rule=\"evenodd\" fill-opacity=\"1\" /><path clip-path=\"url(#clip290)\" d=\"M871.612 1720.14 L877.469 1720.14 L877.469 1755.78 L871.612 1755.78 L871.612 1720.14 M871.612 1706.26 L877.469 1706.26 L877.469 1713.67 L871.612 1713.67 L871.612 1706.26 Z\" fill=\"#000000\" fill-rule=\"evenodd\" fill-opacity=\"1\" /><path clip-path=\"url(#clip290)\" d=\"M920.214 1736.5 L920.214 1739.36 L893.288 1739.36 Q893.669 1745.41 896.916 1748.59 Q900.194 1751.74 906.019 1751.74 Q909.393 1751.74 912.544 1750.91 Q915.727 1750.09 918.846 1748.43 L918.846 1753.97 Q915.695 1755.31 912.385 1756.01 Q909.074 1756.71 905.669 1756.71 Q897.139 1756.71 892.142 1751.74 Q887.176 1746.78 887.176 1738.31 Q887.176 1729.56 891.887 1724.43 Q896.63 1719.28 904.65 1719.28 Q911.844 1719.28 916.013 1723.92 Q920.214 1728.54 920.214 1736.5 M914.358 1734.78 Q914.294 1729.97 911.653 1727.11 Q909.043 1724.24 904.714 1724.24 Q899.812 1724.24 896.852 1727.01 Q893.924 1729.78 893.478 1734.81 L914.358 1734.78 Z\" fill=\"#000000\" fill-rule=\"evenodd\" fill-opacity=\"1\" /><path clip-path=\"url(#clip290)\" d=\"M950.483 1725.61 Q949.497 1725.04 948.319 1724.78 Q947.173 1724.5 945.773 1724.5 Q940.808 1724.5 938.134 1727.74 Q935.492 1730.96 935.492 1737.01 L935.492 1755.78 L929.604 1755.78 L929.604 1720.14 L935.492 1720.14 L935.492 1725.67 Q937.338 1722.43 940.298 1720.87 Q943.258 1719.28 947.492 1719.28 Q948.096 1719.28 948.828 1719.37 Q949.56 1719.44 950.452 1719.59 L950.483 1725.61 Z\" fill=\"#000000\" fill-rule=\"evenodd\" fill-opacity=\"1\" /><path clip-path=\"url(#clip290)\" d=\"M951.47 1747.7 L958.186 1747.7 L958.186 1755.78 L951.47 1755.78 L951.47 1747.7 Z\" fill=\"#000000\" fill-rule=\"evenodd\" fill-opacity=\"1\" /><path clip-path=\"url(#clip290)\" d=\"M999.117 1726.98 Q1001.31 1723.03 1004.37 1721.15 Q1007.42 1719.28 1011.56 1719.28 Q1017.13 1719.28 1020.16 1723.19 Q1023.18 1727.07 1023.18 1734.27 L1023.18 1755.78 L1017.29 1755.78 L1017.29 1734.46 Q1017.29 1729.33 1015.48 1726.85 Q1013.66 1724.37 1009.94 1724.37 Q1005.39 1724.37 1002.75 1727.39 Q1000.1 1730.42 1000.1 1735.64 L1000.1 1755.78 L994.216 1755.78 L994.216 1734.46 Q994.216 1729.3 992.402 1726.85 Q990.587 1724.37 986.8 1724.37 Q982.312 1724.37 979.67 1727.42 Q977.028 1730.45 977.028 1735.64 L977.028 1755.78 L971.14 1755.78 L971.14 1720.14 L977.028 1720.14 L977.028 1725.67 Q979.034 1722.4 981.834 1720.84 Q984.635 1719.28 988.487 1719.28 Q992.37 1719.28 995.075 1721.25 Q997.812 1723.22 999.117 1726.98 Z\" fill=\"#000000\" fill-rule=\"evenodd\" fill-opacity=\"1\" /><path clip-path=\"url(#clip290)\" d=\"M1051.06 1737.86 Q1043.96 1737.86 1041.23 1739.49 Q1038.49 1741.11 1038.49 1745.03 Q1038.49 1748.14 1040.53 1749.99 Q1042.6 1751.81 1046.13 1751.81 Q1051 1751.81 1053.93 1748.37 Q1056.89 1744.9 1056.89 1739.17 L1056.89 1737.86 L1051.06 1737.86 M1062.74 1735.45 L1062.74 1755.78 L1056.89 1755.78 L1056.89 1750.37 Q1054.88 1753.62 1051.89 1755.18 Q1048.9 1756.71 1044.57 1756.71 Q1039.09 1756.71 1035.85 1753.65 Q1032.63 1750.56 1032.63 1745.41 Q1032.63 1739.39 1036.64 1736.34 Q1040.69 1733.28 1048.67 1733.28 L1056.89 1733.28 L1056.89 1732.71 Q1056.89 1728.67 1054.21 1726.47 Q1051.57 1724.24 1046.76 1724.24 Q1043.71 1724.24 1040.81 1724.97 Q1037.92 1725.71 1035.24 1727.17 L1035.24 1721.76 Q1038.46 1720.52 1041.48 1719.91 Q1044.5 1719.28 1047.37 1719.28 Q1055.1 1719.28 1058.92 1723.29 Q1062.74 1727.3 1062.74 1735.45 Z\" fill=\"#000000\" fill-rule=\"evenodd\" fill-opacity=\"1\" /><path clip-path=\"url(#clip290)\" d=\"M1104.44 1720.14 L1091.55 1737.48 L1105.11 1755.78 L1098.2 1755.78 L1087.82 1741.78 L1077.45 1755.78 L1070.54 1755.78 L1084.39 1737.13 L1071.72 1720.14 L1078.63 1720.14 L1088.08 1732.84 L1097.53 1720.14 L1104.44 1720.14 Z\" fill=\"#000000\" fill-rule=\"evenodd\" fill-opacity=\"1\" /><path clip-path=\"url(#clip290)\" d=\"M1140.47 1766.61 L1140.47 1771.16 L1106.6 1771.16 L1106.6 1766.61 L1140.47 1766.61 Z\" fill=\"#000000\" fill-rule=\"evenodd\" fill-opacity=\"1\" /><path clip-path=\"url(#clip290)\" d=\"M1169.43 1725.55 L1169.43 1706.26 L1175.29 1706.26 L1175.29 1755.78 L1169.43 1755.78 L1169.43 1750.44 Q1167.59 1753.62 1164.75 1755.18 Q1161.95 1756.71 1158.01 1756.71 Q1151.54 1756.71 1147.47 1751.55 Q1143.43 1746.39 1143.43 1737.99 Q1143.43 1729.59 1147.47 1724.43 Q1151.54 1719.28 1158.01 1719.28 Q1161.95 1719.28 1164.75 1720.84 Q1167.59 1722.36 1169.43 1725.55 M1149.48 1737.99 Q1149.48 1744.45 1152.12 1748.14 Q1154.79 1751.81 1159.44 1751.81 Q1164.08 1751.81 1166.76 1748.14 Q1169.43 1744.45 1169.43 1737.99 Q1169.43 1731.53 1166.76 1727.87 Q1164.08 1724.18 1159.44 1724.18 Q1154.79 1724.18 1152.12 1727.87 Q1149.48 1731.53 1149.48 1737.99 Z\" fill=\"#000000\" fill-rule=\"evenodd\" fill-opacity=\"1\" /><path clip-path=\"url(#clip290)\" d=\"M1217.84 1736.5 L1217.84 1739.36 L1190.92 1739.36 Q1191.3 1745.41 1194.54 1748.59 Q1197.82 1751.74 1203.65 1751.74 Q1207.02 1751.74 1210.17 1750.91 Q1213.36 1750.09 1216.47 1748.43 L1216.47 1753.97 Q1213.32 1755.31 1210.01 1756.01 Q1206.7 1756.71 1203.3 1756.71 Q1194.77 1756.71 1189.77 1751.74 Q1184.81 1746.78 1184.81 1738.31 Q1184.81 1729.56 1189.52 1724.43 Q1194.26 1719.28 1202.28 1719.28 Q1209.47 1719.28 1213.64 1723.92 Q1217.84 1728.54 1217.84 1736.5 M1211.99 1734.78 Q1211.92 1729.97 1209.28 1727.11 Q1206.67 1724.24 1202.34 1724.24 Q1197.44 1724.24 1194.48 1727.01 Q1191.55 1729.78 1191.11 1734.81 L1211.99 1734.78 Z\" fill=\"#000000\" fill-rule=\"evenodd\" fill-opacity=\"1\" /><path clip-path=\"url(#clip290)\" d=\"M1233.12 1750.44 L1233.12 1769.34 L1227.23 1769.34 L1227.23 1720.14 L1233.12 1720.14 L1233.12 1725.55 Q1234.97 1722.36 1237.77 1720.84 Q1240.6 1719.28 1244.52 1719.28 Q1251.01 1719.28 1255.05 1724.43 Q1259.12 1729.59 1259.12 1737.99 Q1259.12 1746.39 1255.05 1751.55 Q1251.01 1756.71 1244.52 1756.71 Q1240.6 1756.71 1237.77 1755.18 Q1234.97 1753.62 1233.12 1750.44 M1253.05 1737.99 Q1253.05 1731.53 1250.37 1727.87 Q1247.73 1724.18 1243.08 1724.18 Q1238.44 1724.18 1235.76 1727.87 Q1233.12 1731.53 1233.12 1737.99 Q1233.12 1744.45 1235.76 1748.14 Q1238.44 1751.81 1243.08 1751.81 Q1247.73 1751.81 1250.37 1748.14 Q1253.05 1744.45 1253.05 1737.99 Z\" fill=\"#000000\" fill-rule=\"evenodd\" fill-opacity=\"1\" /><path clip-path=\"url(#clip290)\" d=\"M1274.63 1710.01 L1274.63 1720.14 L1286.69 1720.14 L1286.69 1724.69 L1274.63 1724.69 L1274.63 1744.04 Q1274.63 1748.4 1275.8 1749.64 Q1277.01 1750.88 1280.67 1750.88 L1286.69 1750.88 L1286.69 1755.78 L1280.67 1755.78 Q1273.89 1755.78 1271.32 1753.27 Q1268.74 1750.72 1268.74 1744.04 L1268.74 1724.69 L1264.44 1724.69 L1264.44 1720.14 L1268.74 1720.14 L1268.74 1710.01 L1274.63 1710.01 Z\" fill=\"#000000\" fill-rule=\"evenodd\" fill-opacity=\"1\" /><path clip-path=\"url(#clip290)\" d=\"M1324.02 1734.27 L1324.02 1755.78 L1318.17 1755.78 L1318.17 1734.46 Q1318.17 1729.4 1316.19 1726.88 Q1314.22 1724.37 1310.27 1724.37 Q1305.53 1724.37 1302.79 1727.39 Q1300.06 1730.42 1300.06 1735.64 L1300.06 1755.78 L1294.17 1755.78 L1294.17 1706.26 L1300.06 1706.26 L1300.06 1725.67 Q1302.16 1722.46 1304.99 1720.87 Q1307.85 1719.28 1311.58 1719.28 Q1317.72 1719.28 1320.87 1723.1 Q1324.02 1726.88 1324.02 1734.27 Z\" fill=\"#000000\" fill-rule=\"evenodd\" fill-opacity=\"1\" /><polyline clip-path=\"url(#clip294)\" style=\"stroke:#000000; stroke-linecap:butt; stroke-linejoin:round; stroke-width:2; stroke-opacity:0.1; fill:none\" points=\"\n",
       "  286.13,1503.94 1167.84,1503.94 \n",
       "  \"/>\n",
       "<polyline clip-path=\"url(#clip294)\" style=\"stroke:#000000; stroke-linecap:butt; stroke-linejoin:round; stroke-width:2; stroke-opacity:0.1; fill:none\" points=\"\n",
       "  286.13,1325.7 1167.84,1325.7 \n",
       "  \"/>\n",
       "<polyline clip-path=\"url(#clip294)\" style=\"stroke:#000000; stroke-linecap:butt; stroke-linejoin:round; stroke-width:2; stroke-opacity:0.1; fill:none\" points=\"\n",
       "  286.13,1147.47 1167.84,1147.47 \n",
       "  \"/>\n",
       "<polyline clip-path=\"url(#clip294)\" style=\"stroke:#000000; stroke-linecap:butt; stroke-linejoin:round; stroke-width:2; stroke-opacity:0.1; fill:none\" points=\"\n",
       "  286.13,969.233 1167.84,969.233 \n",
       "  \"/>\n",
       "<polyline clip-path=\"url(#clip290)\" style=\"stroke:#000000; stroke-linecap:butt; stroke-linejoin:round; stroke-width:4; stroke-opacity:1; fill:none\" points=\"\n",
       "  286.13,1610.92 286.13,912.64 \n",
       "  \"/>\n",
       "<polyline clip-path=\"url(#clip290)\" style=\"stroke:#000000; stroke-linecap:butt; stroke-linejoin:round; stroke-width:4; stroke-opacity:1; fill:none\" points=\"\n",
       "  1167.84,1610.92 1167.84,912.64 \n",
       "  \"/>\n",
       "<polyline clip-path=\"url(#clip290)\" style=\"stroke:#000000; stroke-linecap:butt; stroke-linejoin:round; stroke-width:4; stroke-opacity:1; fill:none\" points=\"\n",
       "  286.13,1503.94 305.028,1503.94 \n",
       "  \"/>\n",
       "<polyline clip-path=\"url(#clip290)\" style=\"stroke:#000000; stroke-linecap:butt; stroke-linejoin:round; stroke-width:4; stroke-opacity:1; fill:none\" points=\"\n",
       "  286.13,1325.7 305.028,1325.7 \n",
       "  \"/>\n",
       "<polyline clip-path=\"url(#clip290)\" style=\"stroke:#000000; stroke-linecap:butt; stroke-linejoin:round; stroke-width:4; stroke-opacity:1; fill:none\" points=\"\n",
       "  286.13,1147.47 305.028,1147.47 \n",
       "  \"/>\n",
       "<polyline clip-path=\"url(#clip290)\" style=\"stroke:#000000; stroke-linecap:butt; stroke-linejoin:round; stroke-width:4; stroke-opacity:1; fill:none\" points=\"\n",
       "  286.13,969.233 305.028,969.233 \n",
       "  \"/>\n",
       "<path clip-path=\"url(#clip290)\" d=\"M134.228 1489.74 Q130.617 1489.74 128.788 1493.3 Q126.983 1496.85 126.983 1503.97 Q126.983 1511.08 128.788 1514.65 Q130.617 1518.19 134.228 1518.19 Q137.862 1518.19 139.668 1514.65 Q141.496 1511.08 141.496 1503.97 Q141.496 1496.85 139.668 1493.3 Q137.862 1489.74 134.228 1489.74 M134.228 1486.04 Q140.038 1486.04 143.094 1490.64 Q146.172 1495.22 146.172 1503.97 Q146.172 1512.7 143.094 1517.31 Q140.038 1521.89 134.228 1521.89 Q128.418 1521.89 125.339 1517.31 Q122.283 1512.7 122.283 1503.97 Q122.283 1495.22 125.339 1490.64 Q128.418 1486.04 134.228 1486.04 Z\" fill=\"#000000\" fill-rule=\"evenodd\" fill-opacity=\"1\" /><path clip-path=\"url(#clip290)\" d=\"M154.39 1515.34 L159.274 1515.34 L159.274 1521.22 L154.39 1521.22 L154.39 1515.34 Z\" fill=\"#000000\" fill-rule=\"evenodd\" fill-opacity=\"1\" /><path clip-path=\"url(#clip290)\" d=\"M179.459 1489.74 Q175.848 1489.74 174.019 1493.3 Q172.214 1496.85 172.214 1503.97 Q172.214 1511.08 174.019 1514.65 Q175.848 1518.19 179.459 1518.19 Q183.093 1518.19 184.899 1514.65 Q186.728 1511.08 186.728 1503.97 Q186.728 1496.85 184.899 1493.3 Q183.093 1489.74 179.459 1489.74 M179.459 1486.04 Q185.269 1486.04 188.325 1490.64 Q191.403 1495.22 191.403 1503.97 Q191.403 1512.7 188.325 1517.31 Q185.269 1521.89 179.459 1521.89 Q173.649 1521.89 170.57 1517.31 Q167.515 1512.7 167.515 1503.97 Q167.515 1495.22 170.57 1490.64 Q173.649 1486.04 179.459 1486.04 Z\" fill=\"#000000\" fill-rule=\"evenodd\" fill-opacity=\"1\" /><path clip-path=\"url(#clip290)\" d=\"M209.621 1489.74 Q206.01 1489.74 204.181 1493.3 Q202.376 1496.85 202.376 1503.97 Q202.376 1511.08 204.181 1514.65 Q206.01 1518.19 209.621 1518.19 Q213.255 1518.19 215.061 1514.65 Q216.889 1511.08 216.889 1503.97 Q216.889 1496.85 215.061 1493.3 Q213.255 1489.74 209.621 1489.74 M209.621 1486.04 Q215.431 1486.04 218.487 1490.64 Q221.565 1495.22 221.565 1503.97 Q221.565 1512.7 218.487 1517.31 Q215.431 1521.89 209.621 1521.89 Q203.811 1521.89 200.732 1517.31 Q197.677 1512.7 197.677 1503.97 Q197.677 1495.22 200.732 1490.64 Q203.811 1486.04 209.621 1486.04 Z\" fill=\"#000000\" fill-rule=\"evenodd\" fill-opacity=\"1\" /><path clip-path=\"url(#clip290)\" d=\"M233.811 1517.29 L250.13 1517.29 L250.13 1521.22 L228.186 1521.22 L228.186 1517.29 Q230.848 1514.53 235.431 1509.9 Q240.037 1505.25 241.218 1503.91 Q243.463 1501.38 244.343 1499.65 Q245.246 1497.89 245.246 1496.2 Q245.246 1493.44 243.301 1491.71 Q241.38 1489.97 238.278 1489.97 Q236.079 1489.97 233.625 1490.73 Q231.195 1491.5 228.417 1493.05 L228.417 1488.33 Q231.241 1487.19 233.695 1486.61 Q236.149 1486.04 238.186 1486.04 Q243.556 1486.04 246.75 1488.72 Q249.945 1491.41 249.945 1495.9 Q249.945 1498.03 249.135 1499.95 Q248.348 1501.85 246.241 1504.44 Q245.662 1505.11 242.561 1508.33 Q239.459 1511.52 233.811 1517.29 Z\" fill=\"#000000\" fill-rule=\"evenodd\" fill-opacity=\"1\" /><path clip-path=\"url(#clip290)\" d=\"M132.145 1311.5 Q128.533 1311.5 126.705 1315.07 Q124.899 1318.61 124.899 1325.74 Q124.899 1332.85 126.705 1336.41 Q128.533 1339.95 132.145 1339.95 Q135.779 1339.95 137.584 1336.41 Q139.413 1332.85 139.413 1325.74 Q139.413 1318.61 137.584 1315.07 Q135.779 1311.5 132.145 1311.5 M132.145 1307.8 Q137.955 1307.8 141.01 1312.41 Q144.089 1316.99 144.089 1325.74 Q144.089 1334.47 141.01 1339.07 Q137.955 1343.66 132.145 1343.66 Q126.334 1343.66 123.256 1339.07 Q120.2 1334.47 120.2 1325.74 Q120.2 1316.99 123.256 1312.41 Q126.334 1307.8 132.145 1307.8 Z\" fill=\"#000000\" fill-rule=\"evenodd\" fill-opacity=\"1\" /><path clip-path=\"url(#clip290)\" d=\"M152.306 1337.1 L157.191 1337.1 L157.191 1342.98 L152.306 1342.98 L152.306 1337.1 Z\" fill=\"#000000\" fill-rule=\"evenodd\" fill-opacity=\"1\" /><path clip-path=\"url(#clip290)\" d=\"M177.376 1311.5 Q173.765 1311.5 171.936 1315.07 Q170.13 1318.61 170.13 1325.74 Q170.13 1332.85 171.936 1336.41 Q173.765 1339.95 177.376 1339.95 Q181.01 1339.95 182.816 1336.41 Q184.644 1332.85 184.644 1325.74 Q184.644 1318.61 182.816 1315.07 Q181.01 1311.5 177.376 1311.5 M177.376 1307.8 Q183.186 1307.8 186.241 1312.41 Q189.32 1316.99 189.32 1325.74 Q189.32 1334.47 186.241 1339.07 Q183.186 1343.66 177.376 1343.66 Q171.566 1343.66 168.487 1339.07 Q165.431 1334.47 165.431 1325.74 Q165.431 1316.99 168.487 1312.41 Q171.566 1307.8 177.376 1307.8 Z\" fill=\"#000000\" fill-rule=\"evenodd\" fill-opacity=\"1\" /><path clip-path=\"url(#clip290)\" d=\"M207.538 1311.5 Q203.927 1311.5 202.098 1315.07 Q200.292 1318.61 200.292 1325.74 Q200.292 1332.85 202.098 1336.41 Q203.927 1339.95 207.538 1339.95 Q211.172 1339.95 212.977 1336.41 Q214.806 1332.85 214.806 1325.74 Q214.806 1318.61 212.977 1315.07 Q211.172 1311.5 207.538 1311.5 M207.538 1307.8 Q213.348 1307.8 216.403 1312.41 Q219.482 1316.99 219.482 1325.74 Q219.482 1334.47 216.403 1339.07 Q213.348 1343.66 207.538 1343.66 Q201.727 1343.66 198.649 1339.07 Q195.593 1334.47 195.593 1325.74 Q195.593 1316.99 198.649 1312.41 Q201.727 1307.8 207.538 1307.8 Z\" fill=\"#000000\" fill-rule=\"evenodd\" fill-opacity=\"1\" /><path clip-path=\"url(#clip290)\" d=\"M240.547 1312.5 L228.741 1330.95 L240.547 1330.95 L240.547 1312.5 M239.32 1308.42 L245.199 1308.42 L245.199 1330.95 L250.13 1330.95 L250.13 1334.84 L245.199 1334.84 L245.199 1342.98 L240.547 1342.98 L240.547 1334.84 L224.945 1334.84 L224.945 1330.32 L239.32 1308.42 Z\" fill=\"#000000\" fill-rule=\"evenodd\" fill-opacity=\"1\" /><path clip-path=\"url(#clip290)\" d=\"M132.469 1133.27 Q128.858 1133.27 127.029 1136.83 Q125.223 1140.37 125.223 1147.5 Q125.223 1154.61 127.029 1158.17 Q128.858 1161.72 132.469 1161.72 Q136.103 1161.72 137.908 1158.17 Q139.737 1154.61 139.737 1147.5 Q139.737 1140.37 137.908 1136.83 Q136.103 1133.27 132.469 1133.27 M132.469 1129.56 Q138.279 1129.56 141.334 1134.17 Q144.413 1138.75 144.413 1147.5 Q144.413 1156.23 141.334 1160.84 Q138.279 1165.42 132.469 1165.42 Q126.658 1165.42 123.58 1160.84 Q120.524 1156.23 120.524 1147.5 Q120.524 1138.75 123.58 1134.17 Q126.658 1129.56 132.469 1129.56 Z\" fill=\"#000000\" fill-rule=\"evenodd\" fill-opacity=\"1\" /><path clip-path=\"url(#clip290)\" d=\"M152.631 1158.87 L157.515 1158.87 L157.515 1164.75 L152.631 1164.75 L152.631 1158.87 Z\" fill=\"#000000\" fill-rule=\"evenodd\" fill-opacity=\"1\" /><path clip-path=\"url(#clip290)\" d=\"M177.7 1133.27 Q174.089 1133.27 172.26 1136.83 Q170.455 1140.37 170.455 1147.5 Q170.455 1154.61 172.26 1158.17 Q174.089 1161.72 177.7 1161.72 Q181.334 1161.72 183.14 1158.17 Q184.968 1154.61 184.968 1147.5 Q184.968 1140.37 183.14 1136.83 Q181.334 1133.27 177.7 1133.27 M177.7 1129.56 Q183.51 1129.56 186.566 1134.17 Q189.644 1138.75 189.644 1147.5 Q189.644 1156.23 186.566 1160.84 Q183.51 1165.42 177.7 1165.42 Q171.89 1165.42 168.811 1160.84 Q165.755 1156.23 165.755 1147.5 Q165.755 1138.75 168.811 1134.17 Q171.89 1129.56 177.7 1129.56 Z\" fill=\"#000000\" fill-rule=\"evenodd\" fill-opacity=\"1\" /><path clip-path=\"url(#clip290)\" d=\"M207.862 1133.27 Q204.251 1133.27 202.422 1136.83 Q200.616 1140.37 200.616 1147.5 Q200.616 1154.61 202.422 1158.17 Q204.251 1161.72 207.862 1161.72 Q211.496 1161.72 213.302 1158.17 Q215.13 1154.61 215.13 1147.5 Q215.13 1140.37 213.302 1136.83 Q211.496 1133.27 207.862 1133.27 M207.862 1129.56 Q213.672 1129.56 216.727 1134.17 Q219.806 1138.75 219.806 1147.5 Q219.806 1156.23 216.727 1160.84 Q213.672 1165.42 207.862 1165.42 Q202.052 1165.42 198.973 1160.84 Q195.917 1156.23 195.917 1147.5 Q195.917 1138.75 198.973 1134.17 Q202.052 1129.56 207.862 1129.56 Z\" fill=\"#000000\" fill-rule=\"evenodd\" fill-opacity=\"1\" /><path clip-path=\"url(#clip290)\" d=\"M238.602 1145.61 Q235.454 1145.61 233.602 1147.76 Q231.774 1149.91 231.774 1153.66 Q231.774 1157.39 233.602 1159.56 Q235.454 1161.72 238.602 1161.72 Q241.75 1161.72 243.579 1159.56 Q245.431 1157.39 245.431 1153.66 Q245.431 1149.91 243.579 1147.76 Q241.75 1145.61 238.602 1145.61 M247.885 1130.95 L247.885 1135.21 Q246.125 1134.38 244.32 1133.94 Q242.537 1133.5 240.778 1133.5 Q236.149 1133.5 233.695 1136.62 Q231.264 1139.75 230.917 1146.07 Q232.283 1144.05 234.343 1142.99 Q236.403 1141.9 238.88 1141.9 Q244.088 1141.9 247.098 1145.07 Q250.13 1148.22 250.13 1153.66 Q250.13 1158.98 246.982 1162.2 Q243.834 1165.42 238.602 1165.42 Q232.607 1165.42 229.436 1160.84 Q226.264 1156.23 226.264 1147.5 Q226.264 1139.31 230.153 1134.45 Q234.042 1129.56 240.593 1129.56 Q242.352 1129.56 244.135 1129.91 Q245.94 1130.26 247.885 1130.95 Z\" fill=\"#000000\" fill-rule=\"evenodd\" fill-opacity=\"1\" /><path clip-path=\"url(#clip290)\" d=\"M132.723 955.031 Q129.112 955.031 127.283 958.596 Q125.478 962.138 125.478 969.267 Q125.478 976.374 127.283 979.939 Q129.112 983.48 132.723 983.48 Q136.357 983.48 138.163 979.939 Q139.992 976.374 139.992 969.267 Q139.992 962.138 138.163 958.596 Q136.357 955.031 132.723 955.031 M132.723 951.328 Q138.533 951.328 141.589 955.934 Q144.668 960.517 144.668 969.267 Q144.668 977.994 141.589 982.601 Q138.533 987.184 132.723 987.184 Q126.913 987.184 123.834 982.601 Q120.779 977.994 120.779 969.267 Q120.779 960.517 123.834 955.934 Q126.913 951.328 132.723 951.328 Z\" fill=\"#000000\" fill-rule=\"evenodd\" fill-opacity=\"1\" /><path clip-path=\"url(#clip290)\" d=\"M152.885 980.633 L157.769 980.633 L157.769 986.513 L152.885 986.513 L152.885 980.633 Z\" fill=\"#000000\" fill-rule=\"evenodd\" fill-opacity=\"1\" /><path clip-path=\"url(#clip290)\" d=\"M177.954 955.031 Q174.343 955.031 172.515 958.596 Q170.709 962.138 170.709 969.267 Q170.709 976.374 172.515 979.939 Q174.343 983.48 177.954 983.48 Q181.589 983.48 183.394 979.939 Q185.223 976.374 185.223 969.267 Q185.223 962.138 183.394 958.596 Q181.589 955.031 177.954 955.031 M177.954 951.328 Q183.765 951.328 186.82 955.934 Q189.899 960.517 189.899 969.267 Q189.899 977.994 186.82 982.601 Q183.765 987.184 177.954 987.184 Q172.144 987.184 169.066 982.601 Q166.01 977.994 166.01 969.267 Q166.01 960.517 169.066 955.934 Q172.144 951.328 177.954 951.328 Z\" fill=\"#000000\" fill-rule=\"evenodd\" fill-opacity=\"1\" /><path clip-path=\"url(#clip290)\" d=\"M208.116 955.031 Q204.505 955.031 202.677 958.596 Q200.871 962.138 200.871 969.267 Q200.871 976.374 202.677 979.939 Q204.505 983.48 208.116 983.48 Q211.751 983.48 213.556 979.939 Q215.385 976.374 215.385 969.267 Q215.385 962.138 213.556 958.596 Q211.751 955.031 208.116 955.031 M208.116 951.328 Q213.927 951.328 216.982 955.934 Q220.061 960.517 220.061 969.267 Q220.061 977.994 216.982 982.601 Q213.927 987.184 208.116 987.184 Q202.306 987.184 199.228 982.601 Q196.172 977.994 196.172 969.267 Q196.172 960.517 199.228 955.934 Q202.306 951.328 208.116 951.328 Z\" fill=\"#000000\" fill-rule=\"evenodd\" fill-opacity=\"1\" /><path clip-path=\"url(#clip290)\" d=\"M238.278 970.101 Q234.945 970.101 233.024 971.883 Q231.125 973.665 231.125 976.79 Q231.125 979.915 233.024 981.698 Q234.945 983.48 238.278 983.48 Q241.612 983.48 243.533 981.698 Q245.454 979.892 245.454 976.79 Q245.454 973.665 243.533 971.883 Q241.635 970.101 238.278 970.101 M233.602 968.11 Q230.593 967.369 228.903 965.309 Q227.237 963.249 227.237 960.286 Q227.237 956.142 230.176 953.735 Q233.139 951.328 238.278 951.328 Q243.44 951.328 246.38 953.735 Q249.32 956.142 249.32 960.286 Q249.32 963.249 247.63 965.309 Q245.963 967.369 242.977 968.11 Q246.357 968.897 248.232 971.189 Q250.13 973.48 250.13 976.79 Q250.13 981.814 247.051 984.499 Q243.996 987.184 238.278 987.184 Q232.561 987.184 229.482 984.499 Q226.426 981.814 226.426 976.79 Q226.426 973.48 228.325 971.189 Q230.223 968.897 233.602 968.11 M231.889 960.726 Q231.889 963.411 233.556 964.916 Q235.246 966.42 238.278 966.42 Q241.287 966.42 242.977 964.916 Q244.69 963.411 244.69 960.726 Q244.69 958.041 242.977 956.536 Q241.287 955.031 238.278 955.031 Q235.246 955.031 233.556 956.536 Q231.889 958.041 231.889 960.726 Z\" fill=\"#000000\" fill-rule=\"evenodd\" fill-opacity=\"1\" /><path clip-path=\"url(#clip290)\" d=\"M41.1393 1669.33 Q37.1926 1667.13 35.3147 1664.08 Q33.4368 1661.02 33.4368 1656.88 Q33.4368 1651.31 37.3517 1648.29 Q41.2348 1645.27 48.4281 1645.27 L69.9442 1645.27 L69.9442 1651.15 L48.619 1651.15 Q43.4946 1651.15 41.012 1652.97 Q38.5294 1654.78 38.5294 1658.51 Q38.5294 1663.06 41.5531 1665.7 Q44.5768 1668.34 49.7967 1668.34 L69.9442 1668.34 L69.9442 1674.23 L48.619 1674.23 Q43.4628 1674.23 41.012 1676.04 Q38.5294 1677.86 38.5294 1681.65 Q38.5294 1686.13 41.5849 1688.78 Q44.6086 1691.42 49.7967 1691.42 L69.9442 1691.42 L69.9442 1697.31 L34.2962 1697.31 L34.2962 1691.42 L39.8344 1691.42 Q36.556 1689.41 34.9964 1686.61 Q33.4368 1683.81 33.4368 1679.96 Q33.4368 1676.08 35.4102 1673.37 Q37.3836 1670.63 41.1393 1669.33 Z\" fill=\"#000000\" fill-rule=\"evenodd\" fill-opacity=\"1\" /><path clip-path=\"url(#clip290)\" d=\"M38.4021 1619.77 Q38.4021 1624.48 42.0942 1627.22 Q45.7545 1629.96 52.152 1629.96 Q58.5495 1629.96 62.2417 1627.25 Q65.9019 1624.51 65.9019 1619.77 Q65.9019 1615.09 62.2098 1612.36 Q58.5177 1609.62 52.152 1609.62 Q45.8181 1609.62 42.126 1612.36 Q38.4021 1615.09 38.4021 1619.77 M33.4368 1619.77 Q33.4368 1612.13 38.4021 1607.77 Q43.3673 1603.41 52.152 1603.41 Q60.9049 1603.41 65.9019 1607.77 Q70.8672 1612.13 70.8672 1619.77 Q70.8672 1627.44 65.9019 1631.8 Q60.9049 1636.13 52.152 1636.13 Q43.3673 1636.13 38.4021 1631.8 Q33.4368 1627.44 33.4368 1619.77 Z\" fill=\"#000000\" fill-rule=\"evenodd\" fill-opacity=\"1\" /><path clip-path=\"url(#clip290)\" d=\"M39.7071 1570.25 L20.419 1570.25 L20.419 1564.39 L69.9442 1564.39 L69.9442 1570.25 L64.597 1570.25 Q67.7798 1572.09 69.3394 1574.92 Q70.8672 1577.73 70.8672 1581.67 Q70.8672 1588.13 65.711 1592.21 Q60.5547 1596.25 52.152 1596.25 Q43.7493 1596.25 38.5931 1592.21 Q33.4368 1588.13 33.4368 1581.67 Q33.4368 1577.73 34.9964 1574.92 Q36.5242 1572.09 39.7071 1570.25 M52.152 1590.2 Q58.6132 1590.2 62.3053 1587.56 Q65.9656 1584.89 65.9656 1580.24 Q65.9656 1575.59 62.3053 1572.92 Q58.6132 1570.25 52.152 1570.25 Q45.6908 1570.25 42.0305 1572.92 Q38.3384 1575.59 38.3384 1580.24 Q38.3384 1584.89 42.0305 1587.56 Q45.6908 1590.2 52.152 1590.2 Z\" fill=\"#000000\" fill-rule=\"evenodd\" fill-opacity=\"1\" /><path clip-path=\"url(#clip290)\" d=\"M50.6561 1521.83 L53.5206 1521.83 L53.5206 1548.76 Q59.5681 1548.38 62.7509 1545.13 Q65.9019 1541.86 65.9019 1536.03 Q65.9019 1532.66 65.0744 1529.51 Q64.2469 1526.32 62.5918 1523.2 L68.1299 1523.2 Q69.4667 1526.35 70.167 1529.66 Q70.8672 1532.97 70.8672 1536.38 Q70.8672 1544.91 65.9019 1549.91 Q60.9367 1554.87 52.4703 1554.87 Q43.7174 1554.87 38.5931 1550.16 Q33.4368 1545.42 33.4368 1537.4 Q33.4368 1530.21 38.0838 1526.04 Q42.6989 1521.83 50.6561 1521.83 M48.9373 1527.69 Q44.1312 1527.76 41.2666 1530.4 Q38.4021 1533.01 38.4021 1537.34 Q38.4021 1542.24 41.1712 1545.2 Q43.9402 1548.13 48.9692 1548.57 L48.9373 1527.69 Z\" fill=\"#000000\" fill-rule=\"evenodd\" fill-opacity=\"1\" /><path clip-path=\"url(#clip290)\" d=\"M20.419 1512.22 L20.419 1506.37 L69.9442 1506.37 L69.9442 1512.22 L20.419 1512.22 Z\" fill=\"#000000\" fill-rule=\"evenodd\" fill-opacity=\"1\" /><path clip-path=\"url(#clip290)\" d=\"M61.8597 1493.28 L61.8597 1486.57 L69.9442 1486.57 L69.9442 1493.28 L61.8597 1493.28 Z\" fill=\"#000000\" fill-rule=\"evenodd\" fill-opacity=\"1\" /><path clip-path=\"url(#clip290)\" d=\"M50.6561 1442.9 L53.5206 1442.9 L53.5206 1469.83 Q59.5681 1469.45 62.7509 1466.2 Q65.9019 1462.92 65.9019 1457.1 Q65.9019 1453.72 65.0744 1450.57 Q64.2469 1447.39 62.5918 1444.27 L68.1299 1444.27 Q69.4667 1447.42 70.167 1450.73 Q70.8672 1454.04 70.8672 1457.45 Q70.8672 1465.98 65.9019 1470.97 Q60.9367 1475.94 52.4703 1475.94 Q43.7174 1475.94 38.5931 1471.23 Q33.4368 1466.49 33.4368 1458.46 Q33.4368 1451.27 38.0838 1447.1 Q42.6989 1442.9 50.6561 1442.9 M48.9373 1448.76 Q44.1312 1448.82 41.2666 1451.46 Q38.4021 1454.07 38.4021 1458.4 Q38.4021 1463.3 41.1712 1466.26 Q43.9402 1469.19 48.9692 1469.64 L48.9373 1448.76 Z\" fill=\"#000000\" fill-rule=\"evenodd\" fill-opacity=\"1\" /><path clip-path=\"url(#clip290)\" d=\"M34.2962 1437.49 L34.2962 1431.28 L64.215 1420.14 L34.2962 1409 L34.2962 1402.8 L69.9442 1416.16 L69.9442 1424.12 L34.2962 1437.49 Z\" fill=\"#000000\" fill-rule=\"evenodd\" fill-opacity=\"1\" /><path clip-path=\"url(#clip290)\" d=\"M38.4021 1380.9 Q38.4021 1385.61 42.0942 1388.35 Q45.7545 1391.08 52.152 1391.08 Q58.5495 1391.08 62.2417 1388.38 Q65.9019 1385.64 65.9019 1380.9 Q65.9019 1376.22 62.2098 1373.48 Q58.5177 1370.74 52.152 1370.74 Q45.8181 1370.74 42.126 1373.48 Q38.4021 1376.22 38.4021 1380.9 M33.4368 1380.9 Q33.4368 1373.26 38.4021 1368.9 Q43.3673 1364.54 52.152 1364.54 Q60.9049 1364.54 65.9019 1368.9 Q70.8672 1373.26 70.8672 1380.9 Q70.8672 1388.57 65.9019 1392.93 Q60.9049 1397.26 52.152 1397.26 Q43.3673 1397.26 38.4021 1392.93 Q33.4368 1388.57 33.4368 1380.9 Z\" fill=\"#000000\" fill-rule=\"evenodd\" fill-opacity=\"1\" /><path clip-path=\"url(#clip290)\" d=\"M80.7659 1327.74 L85.3173 1327.74 L85.3173 1361.61 L80.7659 1361.61 L80.7659 1327.74 Z\" fill=\"#000000\" fill-rule=\"evenodd\" fill-opacity=\"1\" /><path clip-path=\"url(#clip290)\" d=\"M24.1747 1316.45 L34.2962 1316.45 L34.2962 1304.38 L38.8477 1304.38 L38.8477 1316.45 L58.1994 1316.45 Q62.5599 1316.45 63.8013 1315.27 Q65.0426 1314.06 65.0426 1310.4 L65.0426 1304.38 L69.9442 1304.38 L69.9442 1310.4 Q69.9442 1317.18 67.4297 1319.76 Q64.8834 1322.33 58.1994 1322.33 L38.8477 1322.33 L38.8477 1326.63 L34.2962 1326.63 L34.2962 1322.33 L24.1747 1322.33 L24.1747 1316.45 Z\" fill=\"#000000\" fill-rule=\"evenodd\" fill-opacity=\"1\" /><path clip-path=\"url(#clip290)\" d=\"M39.7707 1276.02 Q39.1978 1277.01 38.9432 1278.19 Q38.6567 1279.33 38.6567 1280.73 Q38.6567 1285.7 41.9032 1288.37 Q45.1179 1291.01 51.1653 1291.01 L69.9442 1291.01 L69.9442 1296.9 L34.2962 1296.9 L34.2962 1291.01 L39.8344 1291.01 Q36.5879 1289.17 35.0283 1286.21 Q33.4368 1283.25 33.4368 1279.02 Q33.4368 1278.41 33.5323 1277.68 Q33.596 1276.95 33.7551 1276.06 L39.7707 1276.02 Z\" fill=\"#000000\" fill-rule=\"evenodd\" fill-opacity=\"1\" /><path clip-path=\"url(#clip290)\" d=\"M50.6561 1240.82 L53.5206 1240.82 L53.5206 1267.75 Q59.5681 1267.37 62.7509 1264.12 Q65.9019 1260.84 65.9019 1255.02 Q65.9019 1251.64 65.0744 1248.49 Q64.2469 1245.31 62.5918 1242.19 L68.1299 1242.19 Q69.4667 1245.34 70.167 1248.65 Q70.8672 1251.96 70.8672 1255.37 Q70.8672 1263.9 65.9019 1268.89 Q60.9367 1273.86 52.4703 1273.86 Q43.7174 1273.86 38.5931 1269.15 Q33.4368 1264.41 33.4368 1256.39 Q33.4368 1249.19 38.0838 1245.02 Q42.6989 1240.82 50.6561 1240.82 M48.9373 1246.68 Q44.1312 1246.74 41.2666 1249.38 Q38.4021 1251.99 38.4021 1256.32 Q38.4021 1261.22 41.1712 1264.18 Q43.9402 1267.11 48.9692 1267.56 L48.9373 1246.68 Z\" fill=\"#000000\" fill-rule=\"evenodd\" fill-opacity=\"1\" /><path clip-path=\"url(#clip290)\" d=\"M50.6561 1200.72 L53.5206 1200.72 L53.5206 1227.64 Q59.5681 1227.26 62.7509 1224.02 Q65.9019 1220.74 65.9019 1214.91 Q65.9019 1211.54 65.0744 1208.39 Q64.2469 1205.2 62.5918 1202.09 L68.1299 1202.09 Q69.4667 1205.24 70.167 1208.55 Q70.8672 1211.86 70.8672 1215.26 Q70.8672 1223.79 65.9019 1228.79 Q60.9367 1233.75 52.4703 1233.75 Q43.7174 1233.75 38.5931 1229.04 Q33.4368 1224.3 33.4368 1216.28 Q33.4368 1209.09 38.0838 1204.92 Q42.6989 1200.72 50.6561 1200.72 M48.9373 1206.57 Q44.1312 1206.64 41.2666 1209.28 Q38.4021 1211.89 38.4021 1216.22 Q38.4021 1221.12 41.1712 1224.08 Q43.9402 1227.01 48.9692 1227.45 L48.9373 1206.57 Z\" fill=\"#000000\" fill-rule=\"evenodd\" fill-opacity=\"1\" /><path clip-path=\"url(#clip290)\" d=\"M80.7659 1164.02 L85.3173 1164.02 L85.3173 1197.88 L80.7659 1197.88 L80.7659 1164.02 Z\" fill=\"#000000\" fill-rule=\"evenodd\" fill-opacity=\"1\" /><path clip-path=\"url(#clip290)\" d=\"M35.6648 1132.86 L41.1393 1132.86 Q39.7707 1135.34 39.1023 1137.86 Q38.4021 1140.34 38.4021 1142.88 Q38.4021 1148.58 42.0305 1151.73 Q45.6272 1154.88 52.152 1154.88 Q58.6769 1154.88 62.3053 1151.73 Q65.9019 1148.58 65.9019 1142.88 Q65.9019 1140.34 65.2335 1137.86 Q64.5333 1135.34 63.1647 1132.86 L68.5755 1132.86 Q69.7214 1135.31 70.2943 1137.95 Q70.8672 1140.56 70.8672 1143.52 Q70.8672 1151.57 65.8064 1156.32 Q60.7457 1161.06 52.152 1161.06 Q43.431 1161.06 38.4339 1156.28 Q33.4368 1151.48 33.4368 1143.14 Q33.4368 1140.43 34.0097 1137.86 Q34.5508 1135.28 35.6648 1132.86 Z\" fill=\"#000000\" fill-rule=\"evenodd\" fill-opacity=\"1\" /><path clip-path=\"url(#clip290)\" d=\"M20.419 1122.67 L20.419 1116.82 L69.9442 1116.82 L69.9442 1122.67 L20.419 1122.67 Z\" fill=\"#000000\" fill-rule=\"evenodd\" fill-opacity=\"1\" /><path clip-path=\"url(#clip290)\" d=\"M52.0247 1088.36 Q52.0247 1095.46 53.6479 1098.2 Q55.2712 1100.93 59.1861 1100.93 Q62.3053 1100.93 64.1514 1098.9 Q65.9656 1096.83 65.9656 1093.3 Q65.9656 1088.43 62.5281 1085.5 Q59.0588 1082.54 53.3297 1082.54 L52.0247 1082.54 L52.0247 1088.36 M49.6057 1076.68 L69.9442 1076.68 L69.9442 1082.54 L64.5333 1082.54 Q67.7798 1084.54 69.3394 1087.53 Q70.8672 1090.53 70.8672 1094.86 Q70.8672 1100.33 67.8116 1103.58 Q64.7243 1106.79 59.5681 1106.79 Q53.5525 1106.79 50.4969 1102.78 Q47.4414 1098.74 47.4414 1090.75 L47.4414 1082.54 L46.8685 1082.54 Q42.8262 1082.54 40.6301 1085.21 Q38.4021 1087.85 38.4021 1092.66 Q38.4021 1095.71 39.1341 1098.61 Q39.8662 1101.51 41.3303 1104.18 L35.9195 1104.18 Q34.6781 1100.97 34.0734 1097.94 Q33.4368 1094.92 33.4368 1092.05 Q33.4368 1084.32 37.4472 1080.5 Q41.4576 1076.68 49.6057 1076.68 Z\" fill=\"#000000\" fill-rule=\"evenodd\" fill-opacity=\"1\" /><path clip-path=\"url(#clip290)\" d=\"M35.3465 1041.89 L40.8847 1041.89 Q39.6116 1044.38 38.975 1047.05 Q38.3384 1049.72 38.3384 1052.59 Q38.3384 1056.95 39.6752 1059.14 Q41.012 1061.31 43.6856 1061.31 Q45.7226 1061.31 46.9003 1059.75 Q48.0461 1058.19 49.0965 1053.48 L49.5421 1051.47 Q50.8789 1045.23 53.3297 1042.62 Q55.7486 1039.98 60.1091 1039.98 Q65.0744 1039.98 67.9708 1043.93 Q70.8672 1047.84 70.8672 1054.72 Q70.8672 1057.58 70.2943 1060.7 Q69.7532 1063.79 68.6392 1067.23 L62.5918 1067.23 Q64.2787 1063.98 65.138 1060.83 Q65.9656 1057.68 65.9656 1054.59 Q65.9656 1050.45 64.5651 1048.23 Q63.1329 1046 60.5547 1046 Q58.1676 1046 56.8945 1047.62 Q55.6213 1049.21 54.4437 1054.66 L53.9662 1056.69 Q52.8204 1062.14 50.4651 1064.55 Q48.078 1066.97 43.9402 1066.97 Q38.9113 1066.97 36.1741 1063.41 Q33.4368 1059.84 33.4368 1053.29 Q33.4368 1050.04 33.9143 1047.18 Q34.3917 1044.31 35.3465 1041.89 Z\" fill=\"#000000\" fill-rule=\"evenodd\" fill-opacity=\"1\" /><path clip-path=\"url(#clip290)\" d=\"M35.3465 1007.93 L40.8847 1007.93 Q39.6116 1010.41 38.975 1013.09 Q38.3384 1015.76 38.3384 1018.63 Q38.3384 1022.99 39.6752 1025.18 Q41.012 1027.35 43.6856 1027.35 Q45.7226 1027.35 46.9003 1025.79 Q48.0461 1024.23 49.0965 1019.52 L49.5421 1017.51 Q50.8789 1011.27 53.3297 1008.66 Q55.7486 1006.02 60.1091 1006.02 Q65.0744 1006.02 67.9708 1009.97 Q70.8672 1013.88 70.8672 1020.76 Q70.8672 1023.62 70.2943 1026.74 Q69.7532 1029.83 68.6392 1033.27 L62.5918 1033.27 Q64.2787 1030.02 65.138 1026.87 Q65.9656 1023.72 65.9656 1020.63 Q65.9656 1016.49 64.5651 1014.27 Q63.1329 1012.04 60.5547 1012.04 Q58.1676 1012.04 56.8945 1013.66 Q55.6213 1015.25 54.4437 1020.69 L53.9662 1022.73 Q52.8204 1028.17 50.4651 1030.59 Q48.078 1033.01 43.9402 1033.01 Q38.9113 1033.01 36.1741 1029.45 Q33.4368 1025.88 33.4368 1019.33 Q33.4368 1016.08 33.9143 1013.22 Q34.3917 1010.35 35.3465 1007.93 Z\" fill=\"#000000\" fill-rule=\"evenodd\" fill-opacity=\"1\" /><path clip-path=\"url(#clip290)\" d=\"M34.2962 996.696 L34.2962 990.84 L69.9442 990.84 L69.9442 996.696 L34.2962 996.696 M20.419 996.696 L20.419 990.84 L27.835 990.84 L27.835 996.696 L20.419 996.696 Z\" fill=\"#000000\" fill-rule=\"evenodd\" fill-opacity=\"1\" /><path clip-path=\"url(#clip290)\" d=\"M20.419 960.539 L25.2887 960.539 L25.2887 966.141 Q25.2887 969.292 26.5619 970.533 Q27.835 971.742 31.1452 971.742 L34.2962 971.742 L34.2962 962.098 L38.8477 962.098 L38.8477 971.742 L69.9442 971.742 L69.9442 977.631 L38.8477 977.631 L38.8477 983.233 L34.2962 983.233 L34.2962 977.631 L31.8136 977.631 Q25.8616 977.631 23.1562 974.862 Q20.419 972.093 20.419 966.077 L20.419 960.539 Z\" fill=\"#000000\" fill-rule=\"evenodd\" fill-opacity=\"1\" /><path clip-path=\"url(#clip290)\" d=\"M34.2962 955.637 L34.2962 949.781 L69.9442 949.781 L69.9442 955.637 L34.2962 955.637 M20.419 955.637 L20.419 949.781 L27.835 949.781 L27.835 955.637 L20.419 955.637 Z\" fill=\"#000000\" fill-rule=\"evenodd\" fill-opacity=\"1\" /><path clip-path=\"url(#clip290)\" d=\"M50.6561 907.035 L53.5206 907.035 L53.5206 933.962 Q59.5681 933.58 62.7509 930.334 Q65.9019 927.055 65.9019 921.231 Q65.9019 917.857 65.0744 914.706 Q64.2469 911.523 62.5918 908.404 L68.1299 908.404 Q69.4667 911.555 70.167 914.865 Q70.8672 918.175 70.8672 921.581 Q70.8672 930.111 65.9019 935.108 Q60.9367 940.073 52.4703 940.073 Q43.7174 940.073 38.5931 935.362 Q33.4368 930.62 33.4368 922.599 Q33.4368 915.406 38.0838 911.236 Q42.6989 907.035 50.6561 907.035 M48.9373 912.891 Q44.1312 912.955 41.2666 915.597 Q38.4021 918.207 38.4021 922.536 Q38.4021 927.437 41.1712 930.397 Q43.9402 933.325 48.9692 933.771 L48.9373 912.891 Z\" fill=\"#000000\" fill-rule=\"evenodd\" fill-opacity=\"1\" /><path clip-path=\"url(#clip290)\" d=\"M39.7707 876.766 Q39.1978 877.753 38.9432 878.93 Q38.6567 880.076 38.6567 881.477 Q38.6567 886.442 41.9032 889.116 Q45.1179 891.757 51.1653 891.757 L69.9442 891.757 L69.9442 897.646 L34.2962 897.646 L34.2962 891.757 L39.8344 891.757 Q36.5879 889.911 35.0283 886.951 Q33.4368 883.991 33.4368 879.758 Q33.4368 879.153 33.5323 878.421 Q33.596 877.689 33.7551 876.798 L39.7707 876.766 Z\" fill=\"#000000\" fill-rule=\"evenodd\" fill-opacity=\"1\" /><path clip-path=\"url(#clip290)\" d=\"M61.8597 875.779 L61.8597 869.064 L69.9442 869.064 L69.9442 875.779 L61.8597 875.779 Z\" fill=\"#000000\" fill-rule=\"evenodd\" fill-opacity=\"1\" /><path clip-path=\"url(#clip290)\" d=\"M48.4281 826.254 L83.5031 826.254 L83.5031 832.111 L48.619 832.111 Q43.5583 832.111 41.0438 834.084 Q38.5294 836.057 38.5294 840.004 Q38.5294 844.747 41.5531 847.484 Q44.5768 850.221 49.7967 850.221 L69.9442 850.221 L69.9442 856.109 L34.2962 856.109 L34.2962 850.221 L39.8344 850.221 Q36.6197 848.12 35.0283 845.288 Q33.4368 842.423 33.4368 838.699 Q33.4368 832.556 37.2244 829.405 Q41.0438 826.254 48.4281 826.254 Z\" fill=\"#000000\" fill-rule=\"evenodd\" fill-opacity=\"1\" /><circle clip-path=\"url(#clip294)\" cx=\"1142.88\" cy=\"1261.52\" r=\"23\" fill=\"#771b6d\" fill-rule=\"evenodd\" fill-opacity=\"1\" stroke=\"#000000\" stroke-opacity=\"1\" stroke-width=\"3.6\"/>\n",
       "<circle clip-path=\"url(#clip294)\" cx=\"934.933\" cy=\"1498.86\" r=\"12\" fill=\"#280b54\" fill-rule=\"evenodd\" fill-opacity=\"1\" stroke=\"#000000\" stroke-opacity=\"1\" stroke-width=\"3.6\"/>\n",
       "<circle clip-path=\"url(#clip294)\" cx=\"311.084\" cy=\"1516.75\" r=\"3\" fill=\"#000003\" fill-rule=\"evenodd\" fill-opacity=\"1\" stroke=\"#000000\" stroke-opacity=\"1\" stroke-width=\"3.6\"/>\n",
       "<circle clip-path=\"url(#clip294)\" cx=\"519.034\" cy=\"1417.34\" r=\"5\" fill=\"#030313\" fill-rule=\"evenodd\" fill-opacity=\"1\" stroke=\"#000000\" stroke-opacity=\"1\" stroke-width=\"3.6\"/>\n",
       "<circle clip-path=\"url(#clip294)\" cx=\"726.983\" cy=\"1510.12\" r=\"10\" fill=\"#180b3c\" fill-rule=\"evenodd\" fill-opacity=\"1\" stroke=\"#000000\" stroke-opacity=\"1\" stroke-width=\"3.6\"/>\n",
       "<circle clip-path=\"url(#clip294)\" cx=\"726.983\" cy=\"1513.99\" r=\"8\" fill=\"#0f092d\" fill-rule=\"evenodd\" fill-opacity=\"1\" stroke=\"#000000\" stroke-opacity=\"1\" stroke-width=\"3.6\"/>\n",
       "<circle clip-path=\"url(#clip294)\" cx=\"934.933\" cy=\"1521.5\" r=\"14\" fill=\"#350960\" fill-rule=\"evenodd\" fill-opacity=\"1\" stroke=\"#000000\" stroke-opacity=\"1\" stroke-width=\"3.6\"/>\n",
       "<circle clip-path=\"url(#clip294)\" cx=\"519.034\" cy=\"1128.96\" r=\"3\" fill=\"#000005\" fill-rule=\"evenodd\" fill-opacity=\"1\" stroke=\"#000000\" stroke-opacity=\"1\" stroke-width=\"3.6\"/>\n",
       "<circle clip-path=\"url(#clip294)\" cx=\"726.983\" cy=\"944.051\" r=\"8\" fill=\"#0d0829\" fill-rule=\"evenodd\" fill-opacity=\"1\" stroke=\"#000000\" stroke-opacity=\"1\" stroke-width=\"3.6\"/>\n",
       "<circle clip-path=\"url(#clip294)\" cx=\"1142.88\" cy=\"1361.82\" r=\"19\" fill=\"#5b116d\" fill-rule=\"evenodd\" fill-opacity=\"1\" stroke=\"#000000\" stroke-opacity=\"1\" stroke-width=\"3.6\"/>\n",
       "<circle clip-path=\"url(#clip294)\" cx=\"519.034\" cy=\"1132.43\" r=\"4\" fill=\"#01010b\" fill-rule=\"evenodd\" fill-opacity=\"1\" stroke=\"#000000\" stroke-opacity=\"1\" stroke-width=\"3.6\"/>\n",
       "<circle clip-path=\"url(#clip294)\" cx=\"726.983\" cy=\"1586.28\" r=\"6\" fill=\"#07051c\" fill-rule=\"evenodd\" fill-opacity=\"1\" stroke=\"#000000\" stroke-opacity=\"1\" stroke-width=\"3.6\"/>\n",
       "<circle clip-path=\"url(#clip294)\" cx=\"1142.88\" cy=\"1309.49\" r=\"19\" fill=\"#59106d\" fill-rule=\"evenodd\" fill-opacity=\"1\" stroke=\"#000000\" stroke-opacity=\"1\" stroke-width=\"3.6\"/>\n",
       "<circle clip-path=\"url(#clip294)\" cx=\"519.034\" cy=\"1350.6\" r=\"6\" fill=\"#06051b\" fill-rule=\"evenodd\" fill-opacity=\"1\" stroke=\"#000000\" stroke-opacity=\"1\" stroke-width=\"3.6\"/>\n",
       "<circle clip-path=\"url(#clip294)\" cx=\"519.034\" cy=\"1169.65\" r=\"6\" fill=\"#050419\" fill-rule=\"evenodd\" fill-opacity=\"1\" stroke=\"#000000\" stroke-opacity=\"1\" stroke-width=\"3.6\"/>\n",
       "<circle clip-path=\"url(#clip294)\" cx=\"934.933\" cy=\"1570.58\" r=\"61\" fill=\"#fcfea4\" fill-rule=\"evenodd\" fill-opacity=\"1\" stroke=\"#000000\" stroke-opacity=\"1\" stroke-width=\"3.6\"/>\n",
       "<circle clip-path=\"url(#clip294)\" cx=\"311.084\" cy=\"1368.22\" r=\"5\" fill=\"#02020f\" fill-rule=\"evenodd\" fill-opacity=\"1\" stroke=\"#000000\" stroke-opacity=\"1\" stroke-width=\"3.6\"/>\n",
       "<circle clip-path=\"url(#clip294)\" cx=\"934.933\" cy=\"1390.67\" r=\"15\" fill=\"#3d0965\" fill-rule=\"evenodd\" fill-opacity=\"1\" stroke=\"#000000\" stroke-opacity=\"1\" stroke-width=\"3.6\"/>\n",
       "<circle clip-path=\"url(#clip294)\" cx=\"934.933\" cy=\"1503.7\" r=\"15\" fill=\"#400967\" fill-rule=\"evenodd\" fill-opacity=\"1\" stroke=\"#000000\" stroke-opacity=\"1\" stroke-width=\"3.6\"/>\n",
       "<circle clip-path=\"url(#clip294)\" cx=\"726.983\" cy=\"1420.85\" r=\"7\" fill=\"#0c0828\" fill-rule=\"evenodd\" fill-opacity=\"1\" stroke=\"#000000\" stroke-opacity=\"1\" stroke-width=\"3.6\"/>\n",
       "<circle clip-path=\"url(#clip294)\" cx=\"311.084\" cy=\"1147.82\" r=\"5\" fill=\"#030210\" fill-rule=\"evenodd\" fill-opacity=\"1\" stroke=\"#000000\" stroke-opacity=\"1\" stroke-width=\"3.6\"/>\n",
       "<circle clip-path=\"url(#clip294)\" cx=\"519.034\" cy=\"932.403\" r=\"7\" fill=\"#0c0726\" fill-rule=\"evenodd\" fill-opacity=\"1\" stroke=\"#000000\" stroke-opacity=\"1\" stroke-width=\"3.6\"/>\n",
       "<circle clip-path=\"url(#clip294)\" cx=\"934.933\" cy=\"1564.71\" r=\"15\" fill=\"#3d0965\" fill-rule=\"evenodd\" fill-opacity=\"1\" stroke=\"#000000\" stroke-opacity=\"1\" stroke-width=\"3.6\"/>\n",
       "<circle clip-path=\"url(#clip294)\" cx=\"519.034\" cy=\"1345.84\" r=\"8\" fill=\"#0f092d\" fill-rule=\"evenodd\" fill-opacity=\"1\" stroke=\"#000000\" stroke-opacity=\"1\" stroke-width=\"3.6\"/>\n",
       "<circle clip-path=\"url(#clip294)\" cx=\"1142.88\" cy=\"1591.16\" r=\"17\" fill=\"#4d0c6b\" fill-rule=\"evenodd\" fill-opacity=\"1\" stroke=\"#000000\" stroke-opacity=\"1\" stroke-width=\"3.6\"/>\n",
       "<path clip-path=\"url(#clip290)\" d=\"\n",
       "M1471.05 1610.92 L2352.76 1610.92 L2352.76 912.64 L1471.05 912.64  Z\n",
       "  \" fill=\"#ffffff\" fill-rule=\"evenodd\" fill-opacity=\"1\"/>\n",
       "<defs>\n",
       "  <clipPath id=\"clip295\">\n",
       "    <rect x=\"1471\" y=\"912\" width=\"883\" height=\"699\"/>\n",
       "  </clipPath>\n",
       "</defs>\n",
       "<polyline clip-path=\"url(#clip295)\" style=\"stroke:#000000; stroke-linecap:butt; stroke-linejoin:round; stroke-width:2; stroke-opacity:0.1; fill:none\" points=\"\n",
       "  1606.13,1610.92 1606.13,912.64 \n",
       "  \"/>\n",
       "<polyline clip-path=\"url(#clip295)\" style=\"stroke:#000000; stroke-linecap:butt; stroke-linejoin:round; stroke-width:2; stroke-opacity:0.1; fill:none\" points=\"\n",
       "  1831.19,1610.92 1831.19,912.64 \n",
       "  \"/>\n",
       "<polyline clip-path=\"url(#clip295)\" style=\"stroke:#000000; stroke-linecap:butt; stroke-linejoin:round; stroke-width:2; stroke-opacity:0.1; fill:none\" points=\"\n",
       "  2056.24,1610.92 2056.24,912.64 \n",
       "  \"/>\n",
       "<polyline clip-path=\"url(#clip295)\" style=\"stroke:#000000; stroke-linecap:butt; stroke-linejoin:round; stroke-width:2; stroke-opacity:0.1; fill:none\" points=\"\n",
       "  2281.3,1610.92 2281.3,912.64 \n",
       "  \"/>\n",
       "<polyline clip-path=\"url(#clip290)\" style=\"stroke:#000000; stroke-linecap:butt; stroke-linejoin:round; stroke-width:4; stroke-opacity:1; fill:none\" points=\"\n",
       "  1471.05,1610.92 2352.76,1610.92 \n",
       "  \"/>\n",
       "<polyline clip-path=\"url(#clip290)\" style=\"stroke:#000000; stroke-linecap:butt; stroke-linejoin:round; stroke-width:4; stroke-opacity:1; fill:none\" points=\"\n",
       "  1471.05,912.64 2352.76,912.64 \n",
       "  \"/>\n",
       "<polyline clip-path=\"url(#clip290)\" style=\"stroke:#000000; stroke-linecap:butt; stroke-linejoin:round; stroke-width:4; stroke-opacity:1; fill:none\" points=\"\n",
       "  1606.13,1610.92 1606.13,1592.02 \n",
       "  \"/>\n",
       "<polyline clip-path=\"url(#clip290)\" style=\"stroke:#000000; stroke-linecap:butt; stroke-linejoin:round; stroke-width:4; stroke-opacity:1; fill:none\" points=\"\n",
       "  1831.19,1610.92 1831.19,1592.02 \n",
       "  \"/>\n",
       "<polyline clip-path=\"url(#clip290)\" style=\"stroke:#000000; stroke-linecap:butt; stroke-linejoin:round; stroke-width:4; stroke-opacity:1; fill:none\" points=\"\n",
       "  2056.24,1610.92 2056.24,1592.02 \n",
       "  \"/>\n",
       "<polyline clip-path=\"url(#clip290)\" style=\"stroke:#000000; stroke-linecap:butt; stroke-linejoin:round; stroke-width:4; stroke-opacity:1; fill:none\" points=\"\n",
       "  2281.3,1610.92 2281.3,1592.02 \n",
       "  \"/>\n",
       "<path clip-path=\"url(#clip290)\" d=\"M1554.15 1641.84 Q1550.54 1641.84 1548.71 1645.4 Q1546.91 1648.94 1546.91 1656.07 Q1546.91 1663.18 1548.71 1666.75 Q1550.54 1670.29 1554.15 1670.29 Q1557.79 1670.29 1559.59 1666.75 Q1561.42 1663.18 1561.42 1656.07 Q1561.42 1648.94 1559.59 1645.4 Q1557.79 1641.84 1554.15 1641.84 M1554.15 1638.13 Q1559.96 1638.13 1563.02 1642.74 Q1566.1 1647.32 1566.1 1656.07 Q1566.1 1664.8 1563.02 1669.41 Q1559.96 1673.99 1554.15 1673.99 Q1548.34 1673.99 1545.26 1669.41 Q1542.21 1664.8 1542.21 1656.07 Q1542.21 1647.32 1545.26 1642.74 Q1548.34 1638.13 1554.15 1638.13 Z\" fill=\"#000000\" fill-rule=\"evenodd\" fill-opacity=\"1\" /><path clip-path=\"url(#clip290)\" d=\"M1574.31 1667.44 L1579.2 1667.44 L1579.2 1673.32 L1574.31 1673.32 L1574.31 1667.44 Z\" fill=\"#000000\" fill-rule=\"evenodd\" fill-opacity=\"1\" /><path clip-path=\"url(#clip290)\" d=\"M1599.38 1641.84 Q1595.77 1641.84 1593.94 1645.4 Q1592.14 1648.94 1592.14 1656.07 Q1592.14 1663.18 1593.94 1666.75 Q1595.77 1670.29 1599.38 1670.29 Q1603.02 1670.29 1604.82 1666.75 Q1606.65 1663.18 1606.65 1656.07 Q1606.65 1648.94 1604.82 1645.4 Q1603.02 1641.84 1599.38 1641.84 M1599.38 1638.13 Q1605.19 1638.13 1608.25 1642.74 Q1611.33 1647.32 1611.33 1656.07 Q1611.33 1664.8 1608.25 1669.41 Q1605.19 1673.99 1599.38 1673.99 Q1593.57 1673.99 1590.49 1669.41 Q1587.44 1664.8 1587.44 1656.07 Q1587.44 1647.32 1590.49 1642.74 Q1593.57 1638.13 1599.38 1638.13 Z\" fill=\"#000000\" fill-rule=\"evenodd\" fill-opacity=\"1\" /><path clip-path=\"url(#clip290)\" d=\"M1629.54 1641.84 Q1625.93 1641.84 1624.11 1645.4 Q1622.3 1648.94 1622.3 1656.07 Q1622.3 1663.18 1624.11 1666.75 Q1625.93 1670.29 1629.54 1670.29 Q1633.18 1670.29 1634.98 1666.75 Q1636.81 1663.18 1636.81 1656.07 Q1636.81 1648.94 1634.98 1645.4 Q1633.18 1641.84 1629.54 1641.84 M1629.54 1638.13 Q1635.35 1638.13 1638.41 1642.74 Q1641.49 1647.32 1641.49 1656.07 Q1641.49 1664.8 1638.41 1669.41 Q1635.35 1673.99 1629.54 1673.99 Q1623.73 1673.99 1620.66 1669.41 Q1617.6 1664.8 1617.6 1656.07 Q1617.6 1647.32 1620.66 1642.74 Q1623.73 1638.13 1629.54 1638.13 Z\" fill=\"#000000\" fill-rule=\"evenodd\" fill-opacity=\"1\" /><path clip-path=\"url(#clip290)\" d=\"M1653.73 1669.38 L1670.05 1669.38 L1670.05 1673.32 L1648.11 1673.32 L1648.11 1669.38 Q1650.77 1666.63 1655.35 1662 Q1659.96 1657.35 1661.14 1656.01 Q1663.39 1653.48 1664.27 1651.75 Q1665.17 1649.99 1665.17 1648.3 Q1665.17 1645.54 1663.23 1643.81 Q1661.3 1642.07 1658.2 1642.07 Q1656 1642.07 1653.55 1642.83 Q1651.12 1643.6 1648.34 1645.15 L1648.34 1640.43 Q1651.17 1639.29 1653.62 1638.71 Q1656.07 1638.13 1658.11 1638.13 Q1663.48 1638.13 1666.67 1640.82 Q1669.87 1643.51 1669.87 1648 Q1669.87 1650.13 1669.06 1652.05 Q1668.27 1653.94 1666.16 1656.54 Q1665.59 1657.21 1662.48 1660.43 Q1659.38 1663.62 1653.73 1669.38 Z\" fill=\"#000000\" fill-rule=\"evenodd\" fill-opacity=\"1\" /><path clip-path=\"url(#clip290)\" d=\"M1778.17 1641.84 Q1774.55 1641.84 1772.73 1645.4 Q1770.92 1648.94 1770.92 1656.07 Q1770.92 1663.18 1772.73 1666.75 Q1774.55 1670.29 1778.17 1670.29 Q1781.8 1670.29 1783.61 1666.75 Q1785.43 1663.18 1785.43 1656.07 Q1785.43 1648.94 1783.61 1645.4 Q1781.8 1641.84 1778.17 1641.84 M1778.17 1638.13 Q1783.98 1638.13 1787.03 1642.74 Q1790.11 1647.32 1790.11 1656.07 Q1790.11 1664.8 1787.03 1669.41 Q1783.98 1673.99 1778.17 1673.99 Q1772.36 1673.99 1769.28 1669.41 Q1766.22 1664.8 1766.22 1656.07 Q1766.22 1647.32 1769.28 1642.74 Q1772.36 1638.13 1778.17 1638.13 Z\" fill=\"#000000\" fill-rule=\"evenodd\" fill-opacity=\"1\" /><path clip-path=\"url(#clip290)\" d=\"M1798.33 1667.44 L1803.21 1667.44 L1803.21 1673.32 L1798.33 1673.32 L1798.33 1667.44 Z\" fill=\"#000000\" fill-rule=\"evenodd\" fill-opacity=\"1\" /><path clip-path=\"url(#clip290)\" d=\"M1823.4 1641.84 Q1819.79 1641.84 1817.96 1645.4 Q1816.15 1648.94 1816.15 1656.07 Q1816.15 1663.18 1817.96 1666.75 Q1819.79 1670.29 1823.4 1670.29 Q1827.03 1670.29 1828.84 1666.75 Q1830.67 1663.18 1830.67 1656.07 Q1830.67 1648.94 1828.84 1645.4 Q1827.03 1641.84 1823.4 1641.84 M1823.4 1638.13 Q1829.21 1638.13 1832.26 1642.74 Q1835.34 1647.32 1835.34 1656.07 Q1835.34 1664.8 1832.26 1669.41 Q1829.21 1673.99 1823.4 1673.99 Q1817.59 1673.99 1814.51 1669.41 Q1811.45 1664.8 1811.45 1656.07 Q1811.45 1647.32 1814.51 1642.74 Q1817.59 1638.13 1823.4 1638.13 Z\" fill=\"#000000\" fill-rule=\"evenodd\" fill-opacity=\"1\" /><path clip-path=\"url(#clip290)\" d=\"M1853.56 1641.84 Q1849.95 1641.84 1848.12 1645.4 Q1846.31 1648.94 1846.31 1656.07 Q1846.31 1663.18 1848.12 1666.75 Q1849.95 1670.29 1853.56 1670.29 Q1857.19 1670.29 1859 1666.75 Q1860.83 1663.18 1860.83 1656.07 Q1860.83 1648.94 1859 1645.4 Q1857.19 1641.84 1853.56 1641.84 M1853.56 1638.13 Q1859.37 1638.13 1862.42 1642.74 Q1865.5 1647.32 1865.5 1656.07 Q1865.5 1664.8 1862.42 1669.41 Q1859.37 1673.99 1853.56 1673.99 Q1847.75 1673.99 1844.67 1669.41 Q1841.61 1664.8 1841.61 1656.07 Q1841.61 1647.32 1844.67 1642.74 Q1847.75 1638.13 1853.56 1638.13 Z\" fill=\"#000000\" fill-rule=\"evenodd\" fill-opacity=\"1\" /><path clip-path=\"url(#clip290)\" d=\"M1886.57 1642.83 L1874.76 1661.28 L1886.57 1661.28 L1886.57 1642.83 M1885.34 1638.76 L1891.22 1638.76 L1891.22 1661.28 L1896.15 1661.28 L1896.15 1665.17 L1891.22 1665.17 L1891.22 1673.32 L1886.57 1673.32 L1886.57 1665.17 L1870.97 1665.17 L1870.97 1660.66 L1885.34 1638.76 Z\" fill=\"#000000\" fill-rule=\"evenodd\" fill-opacity=\"1\" /><path clip-path=\"url(#clip290)\" d=\"M2003.38 1641.84 Q1999.77 1641.84 1997.94 1645.4 Q1996.14 1648.94 1996.14 1656.07 Q1996.14 1663.18 1997.94 1666.75 Q1999.77 1670.29 2003.38 1670.29 Q2007.02 1670.29 2008.82 1666.75 Q2010.65 1663.18 2010.65 1656.07 Q2010.65 1648.94 2008.82 1645.4 Q2007.02 1641.84 2003.38 1641.84 M2003.38 1638.13 Q2009.19 1638.13 2012.25 1642.74 Q2015.33 1647.32 2015.33 1656.07 Q2015.33 1664.8 2012.25 1669.41 Q2009.19 1673.99 2003.38 1673.99 Q1997.57 1673.99 1994.49 1669.41 Q1991.44 1664.8 1991.44 1656.07 Q1991.44 1647.32 1994.49 1642.74 Q1997.57 1638.13 2003.38 1638.13 Z\" fill=\"#000000\" fill-rule=\"evenodd\" fill-opacity=\"1\" /><path clip-path=\"url(#clip290)\" d=\"M2023.55 1667.44 L2028.43 1667.44 L2028.43 1673.32 L2023.55 1673.32 L2023.55 1667.44 Z\" fill=\"#000000\" fill-rule=\"evenodd\" fill-opacity=\"1\" /><path clip-path=\"url(#clip290)\" d=\"M2048.61 1641.84 Q2045 1641.84 2043.17 1645.4 Q2041.37 1648.94 2041.37 1656.07 Q2041.37 1663.18 2043.17 1666.75 Q2045 1670.29 2048.61 1670.29 Q2052.25 1670.29 2054.05 1666.75 Q2055.88 1663.18 2055.88 1656.07 Q2055.88 1648.94 2054.05 1645.4 Q2052.25 1641.84 2048.61 1641.84 M2048.61 1638.13 Q2054.42 1638.13 2057.48 1642.74 Q2060.56 1647.32 2060.56 1656.07 Q2060.56 1664.8 2057.48 1669.41 Q2054.42 1673.99 2048.61 1673.99 Q2042.8 1673.99 2039.73 1669.41 Q2036.67 1664.8 2036.67 1656.07 Q2036.67 1647.32 2039.73 1642.74 Q2042.8 1638.13 2048.61 1638.13 Z\" fill=\"#000000\" fill-rule=\"evenodd\" fill-opacity=\"1\" /><path clip-path=\"url(#clip290)\" d=\"M2078.78 1641.84 Q2075.17 1641.84 2073.34 1645.4 Q2071.53 1648.94 2071.53 1656.07 Q2071.53 1663.18 2073.34 1666.75 Q2075.17 1670.29 2078.78 1670.29 Q2082.41 1670.29 2084.22 1666.75 Q2086.04 1663.18 2086.04 1656.07 Q2086.04 1648.94 2084.22 1645.4 Q2082.41 1641.84 2078.78 1641.84 M2078.78 1638.13 Q2084.59 1638.13 2087.64 1642.74 Q2090.72 1647.32 2090.72 1656.07 Q2090.72 1664.8 2087.64 1669.41 Q2084.59 1673.99 2078.78 1673.99 Q2072.97 1673.99 2069.89 1669.41 Q2066.83 1664.8 2066.83 1656.07 Q2066.83 1647.32 2069.89 1642.74 Q2072.97 1638.13 2078.78 1638.13 Z\" fill=\"#000000\" fill-rule=\"evenodd\" fill-opacity=\"1\" /><path clip-path=\"url(#clip290)\" d=\"M2109.52 1654.18 Q2106.37 1654.18 2104.52 1656.33 Q2102.69 1658.48 2102.69 1662.23 Q2102.69 1665.96 2104.52 1668.13 Q2106.37 1670.29 2109.52 1670.29 Q2112.67 1670.29 2114.49 1668.13 Q2116.35 1665.96 2116.35 1662.23 Q2116.35 1658.48 2114.49 1656.33 Q2112.67 1654.18 2109.52 1654.18 M2118.8 1639.52 L2118.8 1643.78 Q2117.04 1642.95 2115.23 1642.51 Q2113.45 1642.07 2111.69 1642.07 Q2107.06 1642.07 2104.61 1645.19 Q2102.18 1648.32 2101.83 1654.64 Q2103.2 1652.63 2105.26 1651.56 Q2107.32 1650.47 2109.79 1650.47 Q2115 1650.47 2118.01 1653.64 Q2121.04 1656.79 2121.04 1662.23 Q2121.04 1667.56 2117.9 1670.77 Q2114.75 1673.99 2109.52 1673.99 Q2103.52 1673.99 2100.35 1669.41 Q2097.18 1664.8 2097.18 1656.07 Q2097.18 1647.88 2101.07 1643.02 Q2104.96 1638.13 2111.51 1638.13 Q2113.27 1638.13 2115.05 1638.48 Q2116.85 1638.83 2118.8 1639.52 Z\" fill=\"#000000\" fill-rule=\"evenodd\" fill-opacity=\"1\" /><path clip-path=\"url(#clip290)\" d=\"M2228.57 1641.84 Q2224.96 1641.84 2223.13 1645.4 Q2221.32 1648.94 2221.32 1656.07 Q2221.32 1663.18 2223.13 1666.75 Q2224.96 1670.29 2228.57 1670.29 Q2232.2 1670.29 2234.01 1666.75 Q2235.83 1663.18 2235.83 1656.07 Q2235.83 1648.94 2234.01 1645.4 Q2232.2 1641.84 2228.57 1641.84 M2228.57 1638.13 Q2234.38 1638.13 2237.43 1642.74 Q2240.51 1647.32 2240.51 1656.07 Q2240.51 1664.8 2237.43 1669.41 Q2234.38 1673.99 2228.57 1673.99 Q2222.76 1673.99 2219.68 1669.41 Q2216.62 1664.8 2216.62 1656.07 Q2216.62 1647.32 2219.68 1642.74 Q2222.76 1638.13 2228.57 1638.13 Z\" fill=\"#000000\" fill-rule=\"evenodd\" fill-opacity=\"1\" /><path clip-path=\"url(#clip290)\" d=\"M2248.73 1667.44 L2253.61 1667.44 L2253.61 1673.32 L2248.73 1673.32 L2248.73 1667.44 Z\" fill=\"#000000\" fill-rule=\"evenodd\" fill-opacity=\"1\" /><path clip-path=\"url(#clip290)\" d=\"M2273.8 1641.84 Q2270.19 1641.84 2268.36 1645.4 Q2266.55 1648.94 2266.55 1656.07 Q2266.55 1663.18 2268.36 1666.75 Q2270.19 1670.29 2273.8 1670.29 Q2277.43 1670.29 2279.24 1666.75 Q2281.07 1663.18 2281.07 1656.07 Q2281.07 1648.94 2279.24 1645.4 Q2277.43 1641.84 2273.8 1641.84 M2273.8 1638.13 Q2279.61 1638.13 2282.66 1642.74 Q2285.74 1647.32 2285.74 1656.07 Q2285.74 1664.8 2282.66 1669.41 Q2279.61 1673.99 2273.8 1673.99 Q2267.99 1673.99 2264.91 1669.41 Q2261.85 1664.8 2261.85 1656.07 Q2261.85 1647.32 2264.91 1642.74 Q2267.99 1638.13 2273.8 1638.13 Z\" fill=\"#000000\" fill-rule=\"evenodd\" fill-opacity=\"1\" /><path clip-path=\"url(#clip290)\" d=\"M2303.96 1641.84 Q2300.35 1641.84 2298.52 1645.4 Q2296.71 1648.94 2296.71 1656.07 Q2296.71 1663.18 2298.52 1666.75 Q2300.35 1670.29 2303.96 1670.29 Q2307.59 1670.29 2309.4 1666.75 Q2311.23 1663.18 2311.23 1656.07 Q2311.23 1648.94 2309.4 1645.4 Q2307.59 1641.84 2303.96 1641.84 M2303.96 1638.13 Q2309.77 1638.13 2312.82 1642.74 Q2315.9 1647.32 2315.9 1656.07 Q2315.9 1664.8 2312.82 1669.41 Q2309.77 1673.99 2303.96 1673.99 Q2298.15 1673.99 2295.07 1669.41 Q2292.01 1664.8 2292.01 1656.07 Q2292.01 1647.32 2295.07 1642.74 Q2298.15 1638.13 2303.96 1638.13 Z\" fill=\"#000000\" fill-rule=\"evenodd\" fill-opacity=\"1\" /><path clip-path=\"url(#clip290)\" d=\"M2334.12 1656.91 Q2330.79 1656.91 2328.87 1658.69 Q2326.97 1660.47 2326.97 1663.6 Q2326.97 1666.72 2328.87 1668.51 Q2330.79 1670.29 2334.12 1670.29 Q2337.45 1670.29 2339.38 1668.51 Q2341.3 1666.7 2341.3 1663.6 Q2341.3 1660.47 2339.38 1658.69 Q2337.48 1656.91 2334.12 1656.91 M2329.45 1654.92 Q2326.44 1654.18 2324.75 1652.12 Q2323.08 1650.06 2323.08 1647.09 Q2323.08 1642.95 2326.02 1640.54 Q2328.98 1638.13 2334.12 1638.13 Q2339.28 1638.13 2342.22 1640.54 Q2345.16 1642.95 2345.16 1647.09 Q2345.16 1650.06 2343.47 1652.12 Q2341.81 1654.18 2338.82 1654.92 Q2342.2 1655.7 2344.07 1658 Q2345.97 1660.29 2345.97 1663.6 Q2345.97 1668.62 2342.89 1671.31 Q2339.84 1673.99 2334.12 1673.99 Q2328.4 1673.99 2325.32 1671.31 Q2322.27 1668.62 2322.27 1663.6 Q2322.27 1660.29 2324.17 1658 Q2326.07 1655.7 2329.45 1654.92 M2327.73 1647.53 Q2327.73 1650.22 2329.4 1651.72 Q2331.09 1653.23 2334.12 1653.23 Q2337.13 1653.23 2338.82 1651.72 Q2340.53 1650.22 2340.53 1647.53 Q2340.53 1644.85 2338.82 1643.34 Q2337.13 1641.84 2334.12 1641.84 Q2331.09 1641.84 2329.4 1643.34 Q2327.73 1644.85 2327.73 1647.53 Z\" fill=\"#000000\" fill-rule=\"evenodd\" fill-opacity=\"1\" /><path clip-path=\"url(#clip290)\" d=\"M1504.35 1726.98 Q1506.55 1723.03 1509.61 1721.15 Q1512.66 1719.28 1516.8 1719.28 Q1522.37 1719.28 1525.39 1723.19 Q1528.42 1727.07 1528.42 1734.27 L1528.42 1755.78 L1522.53 1755.78 L1522.53 1734.46 Q1522.53 1729.33 1520.71 1726.85 Q1518.9 1724.37 1515.18 1724.37 Q1510.62 1724.37 1507.98 1727.39 Q1505.34 1730.42 1505.34 1735.64 L1505.34 1755.78 L1499.45 1755.78 L1499.45 1734.46 Q1499.45 1729.3 1497.64 1726.85 Q1495.82 1724.37 1492.04 1724.37 Q1487.55 1724.37 1484.91 1727.42 Q1482.27 1730.45 1482.27 1735.64 L1482.27 1755.78 L1476.38 1755.78 L1476.38 1720.14 L1482.27 1720.14 L1482.27 1725.67 Q1484.27 1722.4 1487.07 1720.84 Q1489.87 1719.28 1493.72 1719.28 Q1497.61 1719.28 1500.31 1721.25 Q1503.05 1723.22 1504.35 1726.98 Z\" fill=\"#000000\" fill-rule=\"evenodd\" fill-opacity=\"1\" /><path clip-path=\"url(#clip290)\" d=\"M1553.91 1724.24 Q1549.2 1724.24 1546.46 1727.93 Q1543.73 1731.59 1543.73 1737.99 Q1543.73 1744.39 1546.43 1748.08 Q1549.17 1751.74 1553.91 1751.74 Q1558.59 1751.74 1561.33 1748.05 Q1564.06 1744.36 1564.06 1737.99 Q1564.06 1731.66 1561.33 1727.97 Q1558.59 1724.24 1553.91 1724.24 M1553.91 1719.28 Q1561.55 1719.28 1565.91 1724.24 Q1570.27 1729.21 1570.27 1737.99 Q1570.27 1746.74 1565.91 1751.74 Q1561.55 1756.71 1553.91 1756.71 Q1546.24 1756.71 1541.88 1751.74 Q1537.55 1746.74 1537.55 1737.99 Q1537.55 1729.21 1541.88 1724.24 Q1546.24 1719.28 1553.91 1719.28 Z\" fill=\"#000000\" fill-rule=\"evenodd\" fill-opacity=\"1\" /><path clip-path=\"url(#clip290)\" d=\"M1603.44 1725.55 L1603.44 1706.26 L1609.29 1706.26 L1609.29 1755.78 L1603.44 1755.78 L1603.44 1750.44 Q1601.59 1753.62 1598.76 1755.18 Q1595.96 1756.71 1592.01 1756.71 Q1585.55 1756.71 1581.47 1751.55 Q1577.43 1746.39 1577.43 1737.99 Q1577.43 1729.59 1581.47 1724.43 Q1585.55 1719.28 1592.01 1719.28 Q1595.96 1719.28 1598.76 1720.84 Q1601.59 1722.36 1603.44 1725.55 M1583.48 1737.99 Q1583.48 1744.45 1586.12 1748.14 Q1588.8 1751.81 1593.44 1751.81 Q1598.09 1751.81 1600.76 1748.14 Q1603.44 1744.45 1603.44 1737.99 Q1603.44 1731.53 1600.76 1727.87 Q1598.09 1724.18 1593.44 1724.18 Q1588.8 1724.18 1586.12 1727.87 Q1583.48 1731.53 1583.48 1737.99 Z\" fill=\"#000000\" fill-rule=\"evenodd\" fill-opacity=\"1\" /><path clip-path=\"url(#clip290)\" d=\"M1651.85 1736.5 L1651.85 1739.36 L1624.92 1739.36 Q1625.3 1745.41 1628.55 1748.59 Q1631.83 1751.74 1637.65 1751.74 Q1641.03 1751.74 1644.18 1750.91 Q1647.36 1750.09 1650.48 1748.43 L1650.48 1753.97 Q1647.33 1755.31 1644.02 1756.01 Q1640.71 1756.71 1637.3 1756.71 Q1628.77 1756.71 1623.77 1751.74 Q1618.81 1746.78 1618.81 1738.31 Q1618.81 1729.56 1623.52 1724.43 Q1628.26 1719.28 1636.28 1719.28 Q1643.48 1719.28 1647.65 1723.92 Q1651.85 1728.54 1651.85 1736.5 M1645.99 1734.78 Q1645.93 1729.97 1643.29 1727.11 Q1640.68 1724.24 1636.35 1724.24 Q1631.45 1724.24 1628.49 1727.01 Q1625.56 1729.78 1625.11 1734.81 L1645.99 1734.78 Z\" fill=\"#000000\" fill-rule=\"evenodd\" fill-opacity=\"1\" /><path clip-path=\"url(#clip290)\" d=\"M1661.46 1706.26 L1667.32 1706.26 L1667.32 1755.78 L1661.46 1755.78 L1661.46 1706.26 Z\" fill=\"#000000\" fill-rule=\"evenodd\" fill-opacity=\"1\" /><path clip-path=\"url(#clip290)\" d=\"M1680.4 1747.7 L1687.11 1747.7 L1687.11 1755.78 L1680.4 1755.78 L1680.4 1747.7 Z\" fill=\"#000000\" fill-rule=\"evenodd\" fill-opacity=\"1\" /><path clip-path=\"url(#clip290)\" d=\"M1730.78 1736.5 L1730.78 1739.36 L1703.86 1739.36 Q1704.24 1745.41 1707.48 1748.59 Q1710.76 1751.74 1716.59 1751.74 Q1719.96 1751.74 1723.11 1750.91 Q1726.29 1750.09 1729.41 1748.43 L1729.41 1753.97 Q1726.26 1755.31 1722.95 1756.01 Q1719.64 1756.71 1716.24 1756.71 Q1707.71 1756.71 1702.71 1751.74 Q1697.74 1746.78 1697.74 1738.31 Q1697.74 1729.56 1702.45 1724.43 Q1707.2 1719.28 1715.22 1719.28 Q1722.41 1719.28 1726.58 1723.92 Q1730.78 1728.54 1730.78 1736.5 M1724.93 1734.78 Q1724.86 1729.97 1722.22 1727.11 Q1719.61 1724.24 1715.28 1724.24 Q1710.38 1724.24 1707.42 1727.01 Q1704.49 1729.78 1704.05 1734.81 L1724.93 1734.78 Z\" fill=\"#000000\" fill-rule=\"evenodd\" fill-opacity=\"1\" /><path clip-path=\"url(#clip290)\" d=\"M1736.19 1720.14 L1742.4 1720.14 L1753.54 1750.05 L1764.68 1720.14 L1770.89 1720.14 L1757.52 1755.78 L1749.56 1755.78 L1736.19 1720.14 Z\" fill=\"#000000\" fill-rule=\"evenodd\" fill-opacity=\"1\" /><path clip-path=\"url(#clip290)\" d=\"M1792.78 1724.24 Q1788.07 1724.24 1785.34 1727.93 Q1782.6 1731.59 1782.6 1737.99 Q1782.6 1744.39 1785.3 1748.08 Q1788.04 1751.74 1792.78 1751.74 Q1797.46 1751.74 1800.2 1748.05 Q1802.94 1744.36 1802.94 1737.99 Q1802.94 1731.66 1800.2 1727.97 Q1797.46 1724.24 1792.78 1724.24 M1792.78 1719.28 Q1800.42 1719.28 1804.78 1724.24 Q1809.14 1729.21 1809.14 1737.99 Q1809.14 1746.74 1804.78 1751.74 Q1800.42 1756.71 1792.78 1756.71 Q1785.11 1756.71 1780.75 1751.74 Q1776.42 1746.74 1776.42 1737.99 Q1776.42 1729.21 1780.75 1724.24 Q1785.11 1719.28 1792.78 1719.28 Z\" fill=\"#000000\" fill-rule=\"evenodd\" fill-opacity=\"1\" /><path clip-path=\"url(#clip290)\" d=\"M1845.94 1766.61 L1845.94 1771.16 L1812.07 1771.16 L1812.07 1766.61 L1845.94 1766.61 Z\" fill=\"#000000\" fill-rule=\"evenodd\" fill-opacity=\"1\" /><path clip-path=\"url(#clip290)\" d=\"M1857.24 1710.01 L1857.24 1720.14 L1869.3 1720.14 L1869.3 1724.69 L1857.24 1724.69 L1857.24 1744.04 Q1857.24 1748.4 1858.41 1749.64 Q1859.62 1750.88 1863.28 1750.88 L1869.3 1750.88 L1869.3 1755.78 L1863.28 1755.78 Q1856.5 1755.78 1853.93 1753.27 Q1851.35 1750.72 1851.35 1744.04 L1851.35 1724.69 L1847.05 1724.69 L1847.05 1720.14 L1851.35 1720.14 L1851.35 1710.01 L1857.24 1710.01 Z\" fill=\"#000000\" fill-rule=\"evenodd\" fill-opacity=\"1\" /><path clip-path=\"url(#clip290)\" d=\"M1897.66 1725.61 Q1896.67 1725.04 1895.49 1724.78 Q1894.35 1724.5 1892.95 1724.5 Q1887.98 1724.5 1885.31 1727.74 Q1882.67 1730.96 1882.67 1737.01 L1882.67 1755.78 L1876.78 1755.78 L1876.78 1720.14 L1882.67 1720.14 L1882.67 1725.67 Q1884.51 1722.43 1887.47 1720.87 Q1890.43 1719.28 1894.67 1719.28 Q1895.27 1719.28 1896 1719.37 Q1896.74 1719.44 1897.63 1719.59 L1897.66 1725.61 Z\" fill=\"#000000\" fill-rule=\"evenodd\" fill-opacity=\"1\" /><path clip-path=\"url(#clip290)\" d=\"M1932.86 1736.5 L1932.86 1739.36 L1905.93 1739.36 Q1906.32 1745.41 1909.56 1748.59 Q1912.84 1751.74 1918.67 1751.74 Q1922.04 1751.74 1925.19 1750.91 Q1928.37 1750.09 1931.49 1748.43 L1931.49 1753.97 Q1928.34 1755.31 1925.03 1756.01 Q1921.72 1756.71 1918.32 1756.71 Q1909.79 1756.71 1904.79 1751.74 Q1899.82 1746.78 1899.82 1738.31 Q1899.82 1729.56 1904.53 1724.43 Q1909.28 1719.28 1917.3 1719.28 Q1924.49 1719.28 1928.66 1723.92 Q1932.86 1728.54 1932.86 1736.5 M1927.01 1734.78 Q1926.94 1729.97 1924.3 1727.11 Q1921.69 1724.24 1917.36 1724.24 Q1912.46 1724.24 1909.5 1727.01 Q1906.57 1729.78 1906.13 1734.81 L1927.01 1734.78 Z\" fill=\"#000000\" fill-rule=\"evenodd\" fill-opacity=\"1\" /><path clip-path=\"url(#clip290)\" d=\"M1972.97 1736.5 L1972.97 1739.36 L1946.04 1739.36 Q1946.42 1745.41 1949.67 1748.59 Q1952.95 1751.74 1958.77 1751.74 Q1962.14 1751.74 1965.29 1750.91 Q1968.48 1750.09 1971.6 1748.43 L1971.6 1753.97 Q1968.45 1755.31 1965.14 1756.01 Q1961.83 1756.71 1958.42 1756.71 Q1949.89 1756.71 1944.89 1751.74 Q1939.93 1746.78 1939.93 1738.31 Q1939.93 1729.56 1944.64 1724.43 Q1949.38 1719.28 1957.4 1719.28 Q1964.59 1719.28 1968.76 1723.92 Q1972.97 1728.54 1972.97 1736.5 M1967.11 1734.78 Q1967.05 1729.97 1964.4 1727.11 Q1961.79 1724.24 1957.47 1724.24 Q1952.56 1724.24 1949.6 1727.01 Q1946.68 1729.78 1946.23 1734.81 L1967.11 1734.78 Z\" fill=\"#000000\" fill-rule=\"evenodd\" fill-opacity=\"1\" /><path clip-path=\"url(#clip290)\" d=\"M2009.66 1766.61 L2009.66 1771.16 L1975.8 1771.16 L1975.8 1766.61 L2009.66 1766.61 Z\" fill=\"#000000\" fill-rule=\"evenodd\" fill-opacity=\"1\" /><path clip-path=\"url(#clip290)\" d=\"M2040.82 1721.5 L2040.82 1726.98 Q2038.34 1725.61 2035.83 1724.94 Q2033.34 1724.24 2030.8 1724.24 Q2025.1 1724.24 2021.95 1727.87 Q2018.8 1731.47 2018.8 1737.99 Q2018.8 1744.52 2021.95 1748.14 Q2025.1 1751.74 2030.8 1751.74 Q2033.34 1751.74 2035.83 1751.07 Q2038.34 1750.37 2040.82 1749 L2040.82 1754.42 Q2038.37 1755.56 2035.73 1756.13 Q2033.12 1756.71 2030.16 1756.71 Q2022.11 1756.71 2017.37 1751.65 Q2012.62 1746.59 2012.62 1737.99 Q2012.62 1729.27 2017.4 1724.27 Q2022.2 1719.28 2030.54 1719.28 Q2033.25 1719.28 2035.83 1719.85 Q2038.4 1720.39 2040.82 1721.5 Z\" fill=\"#000000\" fill-rule=\"evenodd\" fill-opacity=\"1\" /><path clip-path=\"url(#clip290)\" d=\"M2051.01 1706.26 L2056.87 1706.26 L2056.87 1755.78 L2051.01 1755.78 L2051.01 1706.26 Z\" fill=\"#000000\" fill-rule=\"evenodd\" fill-opacity=\"1\" /><path clip-path=\"url(#clip290)\" d=\"M2085.32 1737.86 Q2078.22 1737.86 2075.49 1739.49 Q2072.75 1741.11 2072.75 1745.03 Q2072.75 1748.14 2074.79 1749.99 Q2076.85 1751.81 2080.39 1751.81 Q2085.26 1751.81 2088.18 1748.37 Q2091.14 1744.9 2091.14 1739.17 L2091.14 1737.86 L2085.32 1737.86 M2097 1735.45 L2097 1755.78 L2091.14 1755.78 L2091.14 1750.37 Q2089.14 1753.62 2086.15 1755.18 Q2083.16 1756.71 2078.83 1756.71 Q2073.35 1756.71 2070.11 1753.65 Q2066.89 1750.56 2066.89 1745.41 Q2066.89 1739.39 2070.9 1736.34 Q2074.94 1733.28 2082.93 1733.28 L2091.14 1733.28 L2091.14 1732.71 Q2091.14 1728.67 2088.47 1726.47 Q2085.83 1724.24 2081.02 1724.24 Q2077.97 1724.24 2075.07 1724.97 Q2072.18 1725.71 2069.5 1727.17 L2069.5 1721.76 Q2072.72 1720.52 2075.74 1719.91 Q2078.76 1719.28 2081.63 1719.28 Q2089.36 1719.28 2093.18 1723.29 Q2097 1727.3 2097 1735.45 Z\" fill=\"#000000\" fill-rule=\"evenodd\" fill-opacity=\"1\" /><path clip-path=\"url(#clip290)\" d=\"M2131.79 1721.19 L2131.79 1726.72 Q2129.31 1725.45 2126.63 1724.81 Q2123.96 1724.18 2121.1 1724.18 Q2116.74 1724.18 2114.54 1725.51 Q2112.37 1726.85 2112.37 1729.53 Q2112.37 1731.56 2113.93 1732.74 Q2115.49 1733.89 2120.2 1734.94 L2122.21 1735.38 Q2128.45 1736.72 2131.06 1739.17 Q2133.7 1741.59 2133.7 1745.95 Q2133.7 1750.91 2129.75 1753.81 Q2125.84 1756.71 2118.96 1756.71 Q2116.1 1756.71 2112.98 1756.13 Q2109.89 1755.59 2106.45 1754.48 L2106.45 1748.43 Q2109.7 1750.12 2112.85 1750.98 Q2116 1751.81 2119.09 1751.81 Q2123.23 1751.81 2125.46 1750.4 Q2127.68 1748.97 2127.68 1746.39 Q2127.68 1744.01 2126.06 1742.73 Q2124.47 1741.46 2119.03 1740.28 L2116.99 1739.81 Q2111.55 1738.66 2109.13 1736.3 Q2106.71 1733.92 2106.71 1729.78 Q2106.71 1724.75 2110.27 1722.01 Q2113.84 1719.28 2120.4 1719.28 Q2123.64 1719.28 2126.51 1719.75 Q2129.37 1720.23 2131.79 1721.19 Z\" fill=\"#000000\" fill-rule=\"evenodd\" fill-opacity=\"1\" /><path clip-path=\"url(#clip290)\" d=\"M2165.75 1721.19 L2165.75 1726.72 Q2163.27 1725.45 2160.59 1724.81 Q2157.92 1724.18 2155.06 1724.18 Q2150.7 1724.18 2148.5 1725.51 Q2146.34 1726.85 2146.34 1729.53 Q2146.34 1731.56 2147.9 1732.74 Q2149.45 1733.89 2154.17 1734.94 L2156.17 1735.38 Q2162.41 1736.72 2165.02 1739.17 Q2167.66 1741.59 2167.66 1745.95 Q2167.66 1750.91 2163.71 1753.81 Q2159.8 1756.71 2152.92 1756.71 Q2150.06 1756.71 2146.94 1756.13 Q2143.85 1755.59 2140.42 1754.48 L2140.42 1748.43 Q2143.66 1750.12 2146.81 1750.98 Q2149.96 1751.81 2153.05 1751.81 Q2157.19 1751.81 2159.42 1750.4 Q2161.65 1748.97 2161.65 1746.39 Q2161.65 1744.01 2160.02 1742.73 Q2158.43 1741.46 2152.99 1740.28 L2150.95 1739.81 Q2145.51 1738.66 2143.09 1736.3 Q2140.67 1733.92 2140.67 1729.78 Q2140.67 1724.75 2144.23 1722.01 Q2147.8 1719.28 2154.36 1719.28 Q2157.6 1719.28 2160.47 1719.75 Q2163.33 1720.23 2165.75 1721.19 Z\" fill=\"#000000\" fill-rule=\"evenodd\" fill-opacity=\"1\" /><path clip-path=\"url(#clip290)\" d=\"M2176.99 1720.14 L2182.84 1720.14 L2182.84 1755.78 L2176.99 1755.78 L2176.99 1720.14 M2176.99 1706.26 L2182.84 1706.26 L2182.84 1713.67 L2176.99 1713.67 L2176.99 1706.26 Z\" fill=\"#000000\" fill-rule=\"evenodd\" fill-opacity=\"1\" /><path clip-path=\"url(#clip290)\" d=\"M2213.14 1706.26 L2213.14 1711.13 L2207.54 1711.13 Q2204.39 1711.13 2203.15 1712.4 Q2201.94 1713.67 2201.94 1716.98 L2201.94 1720.14 L2211.58 1720.14 L2211.58 1724.69 L2201.94 1724.69 L2201.94 1755.78 L2196.05 1755.78 L2196.05 1724.69 L2190.45 1724.69 L2190.45 1720.14 L2196.05 1720.14 L2196.05 1717.65 Q2196.05 1711.7 2198.82 1709 Q2201.59 1706.26 2207.61 1706.26 L2213.14 1706.26 Z\" fill=\"#000000\" fill-rule=\"evenodd\" fill-opacity=\"1\" /><path clip-path=\"url(#clip290)\" d=\"M2218.05 1720.14 L2223.9 1720.14 L2223.9 1755.78 L2218.05 1755.78 L2218.05 1720.14 M2218.05 1706.26 L2223.9 1706.26 L2223.9 1713.67 L2218.05 1713.67 L2218.05 1706.26 Z\" fill=\"#000000\" fill-rule=\"evenodd\" fill-opacity=\"1\" /><path clip-path=\"url(#clip290)\" d=\"M2266.65 1736.5 L2266.65 1739.36 L2239.72 1739.36 Q2240.1 1745.41 2243.35 1748.59 Q2246.63 1751.74 2252.45 1751.74 Q2255.83 1751.74 2258.98 1750.91 Q2262.16 1750.09 2265.28 1748.43 L2265.28 1753.97 Q2262.13 1755.31 2258.82 1756.01 Q2255.51 1756.71 2252.1 1756.71 Q2243.57 1756.71 2238.57 1751.74 Q2233.61 1746.78 2233.61 1738.31 Q2233.61 1729.56 2238.32 1724.43 Q2243.06 1719.28 2251.08 1719.28 Q2258.28 1719.28 2262.45 1723.92 Q2266.65 1728.54 2266.65 1736.5 M2260.79 1734.78 Q2260.73 1729.97 2258.09 1727.11 Q2255.48 1724.24 2251.15 1724.24 Q2246.25 1724.24 2243.29 1727.01 Q2240.36 1729.78 2239.91 1734.81 L2260.79 1734.78 Z\" fill=\"#000000\" fill-rule=\"evenodd\" fill-opacity=\"1\" /><path clip-path=\"url(#clip290)\" d=\"M2296.92 1725.61 Q2295.93 1725.04 2294.75 1724.78 Q2293.61 1724.5 2292.21 1724.5 Q2287.24 1724.5 2284.57 1727.74 Q2281.93 1730.96 2281.93 1737.01 L2281.93 1755.78 L2276.04 1755.78 L2276.04 1720.14 L2281.93 1720.14 L2281.93 1725.67 Q2283.77 1722.43 2286.73 1720.87 Q2289.69 1719.28 2293.92 1719.28 Q2294.53 1719.28 2295.26 1719.37 Q2295.99 1719.44 2296.88 1719.59 L2296.92 1725.61 Z\" fill=\"#000000\" fill-rule=\"evenodd\" fill-opacity=\"1\" /><path clip-path=\"url(#clip290)\" d=\"M2297.9 1747.7 L2304.62 1747.7 L2304.62 1755.78 L2297.9 1755.78 L2297.9 1747.7 Z\" fill=\"#000000\" fill-rule=\"evenodd\" fill-opacity=\"1\" /><path clip-path=\"url(#clip290)\" d=\"M2347.43 1734.27 L2347.43 1769.34 L2341.57 1769.34 L2341.57 1734.46 Q2341.57 1729.4 2339.6 1726.88 Q2337.63 1724.37 2333.68 1724.37 Q2328.94 1724.37 2326.2 1727.39 Q2323.46 1730.42 2323.46 1735.64 L2323.46 1755.78 L2317.57 1755.78 L2317.57 1720.14 L2323.46 1720.14 L2323.46 1725.67 Q2325.56 1722.46 2328.39 1720.87 Q2331.26 1719.28 2334.98 1719.28 Q2341.13 1719.28 2344.28 1723.06 Q2347.43 1726.88 2347.43 1734.27 Z\" fill=\"#000000\" fill-rule=\"evenodd\" fill-opacity=\"1\" /><polyline clip-path=\"url(#clip295)\" style=\"stroke:#000000; stroke-linecap:butt; stroke-linejoin:round; stroke-width:2; stroke-opacity:0.1; fill:none\" points=\"\n",
       "  1471.05,1565.85 2352.76,1565.85 \n",
       "  \"/>\n",
       "<polyline clip-path=\"url(#clip295)\" style=\"stroke:#000000; stroke-linecap:butt; stroke-linejoin:round; stroke-width:2; stroke-opacity:0.1; fill:none\" points=\"\n",
       "  1471.05,1466.37 2352.76,1466.37 \n",
       "  \"/>\n",
       "<polyline clip-path=\"url(#clip295)\" style=\"stroke:#000000; stroke-linecap:butt; stroke-linejoin:round; stroke-width:2; stroke-opacity:0.1; fill:none\" points=\"\n",
       "  1471.05,1366.89 2352.76,1366.89 \n",
       "  \"/>\n",
       "<polyline clip-path=\"url(#clip295)\" style=\"stroke:#000000; stroke-linecap:butt; stroke-linejoin:round; stroke-width:2; stroke-opacity:0.1; fill:none\" points=\"\n",
       "  1471.05,1267.4 2352.76,1267.4 \n",
       "  \"/>\n",
       "<polyline clip-path=\"url(#clip295)\" style=\"stroke:#000000; stroke-linecap:butt; stroke-linejoin:round; stroke-width:2; stroke-opacity:0.1; fill:none\" points=\"\n",
       "  1471.05,1167.92 2352.76,1167.92 \n",
       "  \"/>\n",
       "<polyline clip-path=\"url(#clip295)\" style=\"stroke:#000000; stroke-linecap:butt; stroke-linejoin:round; stroke-width:2; stroke-opacity:0.1; fill:none\" points=\"\n",
       "  1471.05,1068.44 2352.76,1068.44 \n",
       "  \"/>\n",
       "<polyline clip-path=\"url(#clip295)\" style=\"stroke:#000000; stroke-linecap:butt; stroke-linejoin:round; stroke-width:2; stroke-opacity:0.1; fill:none\" points=\"\n",
       "  1471.05,968.955 2352.76,968.955 \n",
       "  \"/>\n",
       "<polyline clip-path=\"url(#clip290)\" style=\"stroke:#000000; stroke-linecap:butt; stroke-linejoin:round; stroke-width:4; stroke-opacity:1; fill:none\" points=\"\n",
       "  1471.05,1610.92 1471.05,912.64 \n",
       "  \"/>\n",
       "<polyline clip-path=\"url(#clip290)\" style=\"stroke:#000000; stroke-linecap:butt; stroke-linejoin:round; stroke-width:4; stroke-opacity:1; fill:none\" points=\"\n",
       "  2352.76,1610.92 2352.76,912.64 \n",
       "  \"/>\n",
       "<polyline clip-path=\"url(#clip290)\" style=\"stroke:#000000; stroke-linecap:butt; stroke-linejoin:round; stroke-width:4; stroke-opacity:1; fill:none\" points=\"\n",
       "  1471.05,1565.85 1489.95,1565.85 \n",
       "  \"/>\n",
       "<polyline clip-path=\"url(#clip290)\" style=\"stroke:#000000; stroke-linecap:butt; stroke-linejoin:round; stroke-width:4; stroke-opacity:1; fill:none\" points=\"\n",
       "  1471.05,1466.37 1489.95,1466.37 \n",
       "  \"/>\n",
       "<polyline clip-path=\"url(#clip290)\" style=\"stroke:#000000; stroke-linecap:butt; stroke-linejoin:round; stroke-width:4; stroke-opacity:1; fill:none\" points=\"\n",
       "  1471.05,1366.89 1489.95,1366.89 \n",
       "  \"/>\n",
       "<polyline clip-path=\"url(#clip290)\" style=\"stroke:#000000; stroke-linecap:butt; stroke-linejoin:round; stroke-width:4; stroke-opacity:1; fill:none\" points=\"\n",
       "  1471.05,1267.4 1489.95,1267.4 \n",
       "  \"/>\n",
       "<polyline clip-path=\"url(#clip290)\" style=\"stroke:#000000; stroke-linecap:butt; stroke-linejoin:round; stroke-width:4; stroke-opacity:1; fill:none\" points=\"\n",
       "  1471.05,1167.92 1489.95,1167.92 \n",
       "  \"/>\n",
       "<polyline clip-path=\"url(#clip290)\" style=\"stroke:#000000; stroke-linecap:butt; stroke-linejoin:round; stroke-width:4; stroke-opacity:1; fill:none\" points=\"\n",
       "  1471.05,1068.44 1489.95,1068.44 \n",
       "  \"/>\n",
       "<polyline clip-path=\"url(#clip290)\" style=\"stroke:#000000; stroke-linecap:butt; stroke-linejoin:round; stroke-width:4; stroke-opacity:1; fill:none\" points=\"\n",
       "  1471.05,968.955 1489.95,968.955 \n",
       "  \"/>\n",
       "<path clip-path=\"url(#clip290)\" d=\"M1347.71 1551.65 Q1344.1 1551.65 1342.27 1555.22 Q1340.47 1558.76 1340.47 1565.89 Q1340.47 1573 1342.27 1576.56 Q1344.1 1580.1 1347.71 1580.1 Q1351.35 1580.1 1353.15 1576.56 Q1354.98 1573 1354.98 1565.89 Q1354.98 1558.76 1353.15 1555.22 Q1351.35 1551.65 1347.71 1551.65 M1347.71 1547.95 Q1353.52 1547.95 1356.58 1552.56 Q1359.66 1557.14 1359.66 1565.89 Q1359.66 1574.62 1356.58 1579.22 Q1353.52 1583.81 1347.71 1583.81 Q1341.9 1583.81 1338.82 1579.22 Q1335.77 1574.62 1335.77 1565.89 Q1335.77 1557.14 1338.82 1552.56 Q1341.9 1547.95 1347.71 1547.95 Z\" fill=\"#000000\" fill-rule=\"evenodd\" fill-opacity=\"1\" /><path clip-path=\"url(#clip290)\" d=\"M1367.87 1577.25 L1372.76 1577.25 L1372.76 1583.13 L1367.87 1583.13 L1367.87 1577.25 Z\" fill=\"#000000\" fill-rule=\"evenodd\" fill-opacity=\"1\" /><path clip-path=\"url(#clip290)\" d=\"M1397.11 1564.5 Q1400.47 1565.22 1402.34 1567.49 Q1404.24 1569.75 1404.24 1573.09 Q1404.24 1578.2 1400.72 1581 Q1397.2 1583.81 1390.72 1583.81 Q1388.54 1583.81 1386.23 1583.37 Q1383.94 1582.95 1381.48 1582.09 L1381.48 1577.58 Q1383.43 1578.71 1385.74 1579.29 Q1388.06 1579.87 1390.58 1579.87 Q1394.98 1579.87 1397.27 1578.13 Q1399.59 1576.4 1399.59 1573.09 Q1399.59 1570.03 1397.43 1568.32 Q1395.3 1566.58 1391.48 1566.58 L1387.46 1566.58 L1387.46 1562.74 L1391.67 1562.74 Q1395.12 1562.74 1396.95 1561.37 Q1398.78 1559.99 1398.78 1557.39 Q1398.78 1554.73 1396.88 1553.32 Q1395 1551.88 1391.48 1551.88 Q1389.56 1551.88 1387.36 1552.3 Q1385.17 1552.72 1382.53 1553.6 L1382.53 1549.43 Q1385.19 1548.69 1387.5 1548.32 Q1389.84 1547.95 1391.9 1547.95 Q1397.23 1547.95 1400.33 1550.38 Q1403.43 1552.79 1403.43 1556.91 Q1403.43 1559.78 1401.79 1561.77 Q1400.14 1563.74 1397.11 1564.5 Z\" fill=\"#000000\" fill-rule=\"evenodd\" fill-opacity=\"1\" /><path clip-path=\"url(#clip290)\" d=\"M1423.1 1551.65 Q1419.49 1551.65 1417.66 1555.22 Q1415.86 1558.76 1415.86 1565.89 Q1415.86 1573 1417.66 1576.56 Q1419.49 1580.1 1423.1 1580.1 Q1426.74 1580.1 1428.54 1576.56 Q1430.37 1573 1430.37 1565.89 Q1430.37 1558.76 1428.54 1555.22 Q1426.74 1551.65 1423.1 1551.65 M1423.1 1547.95 Q1428.91 1547.95 1431.97 1552.56 Q1435.05 1557.14 1435.05 1565.89 Q1435.05 1574.62 1431.97 1579.22 Q1428.91 1583.81 1423.1 1583.81 Q1417.29 1583.81 1414.22 1579.22 Q1411.16 1574.62 1411.16 1565.89 Q1411.16 1557.14 1414.22 1552.56 Q1417.29 1547.95 1423.1 1547.95 Z\" fill=\"#000000\" fill-rule=\"evenodd\" fill-opacity=\"1\" /><path clip-path=\"url(#clip290)\" d=\"M1349.31 1452.17 Q1345.7 1452.17 1343.87 1455.73 Q1342.06 1459.28 1342.06 1466.41 Q1342.06 1473.51 1343.87 1477.08 Q1345.7 1480.62 1349.31 1480.62 Q1352.94 1480.62 1354.75 1477.08 Q1356.58 1473.51 1356.58 1466.41 Q1356.58 1459.28 1354.75 1455.73 Q1352.94 1452.17 1349.31 1452.17 M1349.31 1448.47 Q1355.12 1448.47 1358.17 1453.07 Q1361.25 1457.66 1361.25 1466.41 Q1361.25 1475.13 1358.17 1479.74 Q1355.12 1484.32 1349.31 1484.32 Q1343.5 1484.32 1340.42 1479.74 Q1337.36 1475.13 1337.36 1466.41 Q1337.36 1457.66 1340.42 1453.07 Q1343.5 1448.47 1349.31 1448.47 Z\" fill=\"#000000\" fill-rule=\"evenodd\" fill-opacity=\"1\" /><path clip-path=\"url(#clip290)\" d=\"M1369.47 1477.77 L1374.35 1477.77 L1374.35 1483.65 L1369.47 1483.65 L1369.47 1477.77 Z\" fill=\"#000000\" fill-rule=\"evenodd\" fill-opacity=\"1\" /><path clip-path=\"url(#clip290)\" d=\"M1398.71 1465.02 Q1402.06 1465.73 1403.94 1468 Q1405.84 1470.27 1405.84 1473.6 Q1405.84 1478.72 1402.32 1481.52 Q1398.8 1484.32 1392.32 1484.32 Q1390.14 1484.32 1387.83 1483.88 Q1385.54 1483.47 1383.08 1482.61 L1383.08 1478.1 Q1385.03 1479.23 1387.34 1479.81 Q1389.66 1480.39 1392.18 1480.39 Q1396.58 1480.39 1398.87 1478.65 Q1401.18 1476.91 1401.18 1473.6 Q1401.18 1470.55 1399.03 1468.84 Q1396.9 1467.1 1393.08 1467.1 L1389.05 1467.1 L1389.05 1463.26 L1393.27 1463.26 Q1396.72 1463.26 1398.54 1461.89 Q1400.37 1460.5 1400.37 1457.91 Q1400.37 1455.25 1398.48 1453.84 Q1396.6 1452.4 1393.08 1452.4 Q1391.16 1452.4 1388.96 1452.82 Q1386.76 1453.23 1384.12 1454.11 L1384.12 1449.95 Q1386.79 1449.21 1389.1 1448.84 Q1391.44 1448.47 1393.5 1448.47 Q1398.82 1448.47 1401.92 1450.9 Q1405.03 1453.3 1405.03 1457.42 Q1405.03 1460.29 1403.38 1462.29 Q1401.74 1464.25 1398.71 1465.02 Z\" fill=\"#000000\" fill-rule=\"evenodd\" fill-opacity=\"1\" /><path clip-path=\"url(#clip290)\" d=\"M1418.73 1479.72 L1435.05 1479.72 L1435.05 1483.65 L1413.1 1483.65 L1413.1 1479.72 Q1415.77 1476.96 1420.35 1472.33 Q1424.96 1467.68 1426.14 1466.34 Q1428.38 1463.81 1429.26 1462.08 Q1430.16 1460.32 1430.16 1458.63 Q1430.16 1455.87 1428.22 1454.14 Q1426.3 1452.4 1423.2 1452.4 Q1421 1452.4 1418.54 1453.16 Q1416.11 1453.93 1413.34 1455.48 L1413.34 1450.76 Q1416.16 1449.62 1418.61 1449.04 Q1421.07 1448.47 1423.1 1448.47 Q1428.48 1448.47 1431.67 1451.15 Q1434.86 1453.84 1434.86 1458.33 Q1434.86 1460.46 1434.05 1462.38 Q1433.27 1464.28 1431.16 1466.87 Q1430.58 1467.54 1427.48 1470.76 Q1424.38 1473.95 1418.73 1479.72 Z\" fill=\"#000000\" fill-rule=\"evenodd\" fill-opacity=\"1\" /><path clip-path=\"url(#clip290)\" d=\"M1347.23 1352.69 Q1343.61 1352.69 1341.79 1356.25 Q1339.98 1359.79 1339.98 1366.92 Q1339.98 1374.03 1341.79 1377.59 Q1343.61 1381.14 1347.23 1381.14 Q1350.86 1381.14 1352.67 1377.59 Q1354.49 1374.03 1354.49 1366.92 Q1354.49 1359.79 1352.67 1356.25 Q1350.86 1352.69 1347.23 1352.69 M1347.23 1348.98 Q1353.04 1348.98 1356.09 1353.59 Q1359.17 1358.17 1359.17 1366.92 Q1359.17 1375.65 1356.09 1380.26 Q1353.04 1384.84 1347.23 1384.84 Q1341.42 1384.84 1338.34 1380.26 Q1335.28 1375.65 1335.28 1366.92 Q1335.28 1358.17 1338.34 1353.59 Q1341.42 1348.98 1347.23 1348.98 Z\" fill=\"#000000\" fill-rule=\"evenodd\" fill-opacity=\"1\" /><path clip-path=\"url(#clip290)\" d=\"M1367.39 1378.29 L1372.27 1378.29 L1372.27 1384.17 L1367.39 1384.17 L1367.39 1378.29 Z\" fill=\"#000000\" fill-rule=\"evenodd\" fill-opacity=\"1\" /><path clip-path=\"url(#clip290)\" d=\"M1396.62 1365.53 Q1399.98 1366.25 1401.85 1368.52 Q1403.75 1370.79 1403.75 1374.12 Q1403.75 1379.24 1400.23 1382.04 Q1396.72 1384.84 1390.23 1384.84 Q1388.06 1384.84 1385.74 1384.4 Q1383.45 1383.98 1381 1383.13 L1381 1378.61 Q1382.94 1379.75 1385.26 1380.33 Q1387.57 1380.9 1390.1 1380.9 Q1394.49 1380.9 1396.79 1379.17 Q1399.1 1377.43 1399.1 1374.12 Q1399.1 1371.07 1396.95 1369.35 Q1394.82 1367.62 1391 1367.62 L1386.97 1367.62 L1386.97 1363.77 L1391.18 1363.77 Q1394.63 1363.77 1396.46 1362.41 Q1398.29 1361.02 1398.29 1358.43 Q1398.29 1355.76 1396.39 1354.35 Q1394.52 1352.92 1391 1352.92 Q1389.08 1352.92 1386.88 1353.33 Q1384.68 1353.75 1382.04 1354.63 L1382.04 1350.46 Q1384.7 1349.72 1387.02 1349.35 Q1389.35 1348.98 1391.42 1348.98 Q1396.74 1348.98 1399.84 1351.41 Q1402.94 1353.82 1402.94 1357.94 Q1402.94 1360.81 1401.3 1362.8 Q1399.66 1364.77 1396.62 1365.53 Z\" fill=\"#000000\" fill-rule=\"evenodd\" fill-opacity=\"1\" /><path clip-path=\"url(#clip290)\" d=\"M1425.47 1353.68 L1413.66 1372.13 L1425.47 1372.13 L1425.47 1353.68 M1424.24 1349.61 L1430.12 1349.61 L1430.12 1372.13 L1435.05 1372.13 L1435.05 1376.02 L1430.12 1376.02 L1430.12 1384.17 L1425.47 1384.17 L1425.47 1376.02 L1409.86 1376.02 L1409.86 1371.51 L1424.24 1349.61 Z\" fill=\"#000000\" fill-rule=\"evenodd\" fill-opacity=\"1\" /><path clip-path=\"url(#clip290)\" d=\"M1347.55 1253.2 Q1343.94 1253.2 1342.11 1256.77 Q1340.3 1260.31 1340.3 1267.44 Q1340.3 1274.55 1342.11 1278.11 Q1343.94 1281.65 1347.55 1281.65 Q1351.18 1281.65 1352.99 1278.11 Q1354.82 1274.55 1354.82 1267.44 Q1354.82 1260.31 1352.99 1256.77 Q1351.18 1253.2 1347.55 1253.2 M1347.55 1249.5 Q1353.36 1249.5 1356.42 1254.11 Q1359.49 1258.69 1359.49 1267.44 Q1359.49 1276.17 1356.42 1280.77 Q1353.36 1285.36 1347.55 1285.36 Q1341.74 1285.36 1338.66 1280.77 Q1335.61 1276.17 1335.61 1267.44 Q1335.61 1258.69 1338.66 1254.11 Q1341.74 1249.5 1347.55 1249.5 Z\" fill=\"#000000\" fill-rule=\"evenodd\" fill-opacity=\"1\" /><path clip-path=\"url(#clip290)\" d=\"M1367.71 1278.8 L1372.6 1278.8 L1372.6 1284.68 L1367.71 1284.68 L1367.71 1278.8 Z\" fill=\"#000000\" fill-rule=\"evenodd\" fill-opacity=\"1\" /><path clip-path=\"url(#clip290)\" d=\"M1396.95 1266.05 Q1400.3 1266.77 1402.18 1269.04 Q1404.08 1271.3 1404.08 1274.64 Q1404.08 1279.75 1400.56 1282.55 Q1397.04 1285.36 1390.56 1285.36 Q1388.38 1285.36 1386.07 1284.92 Q1383.78 1284.5 1381.32 1283.64 L1381.32 1279.13 Q1383.27 1280.26 1385.58 1280.84 Q1387.9 1281.42 1390.42 1281.42 Q1394.82 1281.42 1397.11 1279.68 Q1399.42 1277.95 1399.42 1274.64 Q1399.42 1271.58 1397.27 1269.87 Q1395.14 1268.13 1391.32 1268.13 L1387.29 1268.13 L1387.29 1264.29 L1391.51 1264.29 Q1394.96 1264.29 1396.79 1262.93 Q1398.61 1261.54 1398.61 1258.94 Q1398.61 1256.28 1396.72 1254.87 Q1394.84 1253.43 1391.32 1253.43 Q1389.4 1253.43 1387.2 1253.85 Q1385 1254.27 1382.36 1255.15 L1382.36 1250.98 Q1385.03 1250.24 1387.34 1249.87 Q1389.68 1249.5 1391.74 1249.5 Q1397.06 1249.5 1400.17 1251.93 Q1403.27 1254.34 1403.27 1258.46 Q1403.27 1261.33 1401.62 1263.32 Q1399.98 1265.29 1396.95 1266.05 Z\" fill=\"#000000\" fill-rule=\"evenodd\" fill-opacity=\"1\" /><path clip-path=\"url(#clip290)\" d=\"M1423.52 1265.54 Q1420.37 1265.54 1418.52 1267.69 Q1416.69 1269.85 1416.69 1273.6 Q1416.69 1277.32 1418.52 1279.5 Q1420.37 1281.65 1423.52 1281.65 Q1426.67 1281.65 1428.5 1279.5 Q1430.35 1277.32 1430.35 1273.6 Q1430.35 1269.85 1428.5 1267.69 Q1426.67 1265.54 1423.52 1265.54 M1432.8 1250.89 L1432.8 1255.15 Q1431.04 1254.31 1429.24 1253.87 Q1427.46 1253.43 1425.7 1253.43 Q1421.07 1253.43 1418.61 1256.56 Q1416.18 1259.68 1415.84 1266 Q1417.2 1263.99 1419.26 1262.93 Q1421.32 1261.84 1423.8 1261.84 Q1429.01 1261.84 1432.02 1265.01 Q1435.05 1268.16 1435.05 1273.6 Q1435.05 1278.92 1431.9 1282.14 Q1428.75 1285.36 1423.52 1285.36 Q1417.53 1285.36 1414.35 1280.77 Q1411.18 1276.17 1411.18 1267.44 Q1411.18 1259.24 1415.07 1254.38 Q1418.96 1249.5 1425.51 1249.5 Q1427.27 1249.5 1429.05 1249.85 Q1430.86 1250.19 1432.8 1250.89 Z\" fill=\"#000000\" fill-rule=\"evenodd\" fill-opacity=\"1\" /><path clip-path=\"url(#clip290)\" d=\"M1347.8 1153.72 Q1344.19 1153.72 1342.36 1157.28 Q1340.56 1160.83 1340.56 1167.96 Q1340.56 1175.06 1342.36 1178.63 Q1344.19 1182.17 1347.8 1182.17 Q1351.44 1182.17 1353.24 1178.63 Q1355.07 1175.06 1355.07 1167.96 Q1355.07 1160.83 1353.24 1157.28 Q1351.44 1153.72 1347.8 1153.72 M1347.8 1150.02 Q1353.61 1150.02 1356.67 1154.62 Q1359.75 1159.21 1359.75 1167.96 Q1359.75 1176.68 1356.67 1181.29 Q1353.61 1185.87 1347.8 1185.87 Q1341.99 1185.87 1338.92 1181.29 Q1335.86 1176.68 1335.86 1167.96 Q1335.86 1159.21 1338.92 1154.62 Q1341.99 1150.02 1347.8 1150.02 Z\" fill=\"#000000\" fill-rule=\"evenodd\" fill-opacity=\"1\" /><path clip-path=\"url(#clip290)\" d=\"M1367.97 1179.32 L1372.85 1179.32 L1372.85 1185.2 L1367.97 1185.2 L1367.97 1179.32 Z\" fill=\"#000000\" fill-rule=\"evenodd\" fill-opacity=\"1\" /><path clip-path=\"url(#clip290)\" d=\"M1397.2 1166.57 Q1400.56 1167.28 1402.43 1169.55 Q1404.33 1171.82 1404.33 1175.15 Q1404.33 1180.27 1400.81 1183.07 Q1397.29 1185.87 1390.81 1185.87 Q1388.64 1185.87 1386.32 1185.43 Q1384.03 1185.02 1381.58 1184.16 L1381.58 1179.65 Q1383.52 1180.78 1385.84 1181.36 Q1388.15 1181.94 1390.67 1181.94 Q1395.07 1181.94 1397.36 1180.2 Q1399.68 1178.47 1399.68 1175.15 Q1399.68 1172.1 1397.53 1170.39 Q1395.4 1168.65 1391.58 1168.65 L1387.55 1168.65 L1387.55 1164.81 L1391.76 1164.81 Q1395.21 1164.81 1397.04 1163.44 Q1398.87 1162.05 1398.87 1159.46 Q1398.87 1156.8 1396.97 1155.39 Q1395.1 1153.95 1391.58 1153.95 Q1389.66 1153.95 1387.46 1154.37 Q1385.26 1154.78 1382.62 1155.66 L1382.62 1151.5 Q1385.28 1150.76 1387.6 1150.39 Q1389.93 1150.02 1391.99 1150.02 Q1397.32 1150.02 1400.42 1152.45 Q1403.52 1154.85 1403.52 1158.97 Q1403.52 1161.84 1401.88 1163.84 Q1400.23 1165.8 1397.2 1166.57 Z\" fill=\"#000000\" fill-rule=\"evenodd\" fill-opacity=\"1\" /><path clip-path=\"url(#clip290)\" d=\"M1423.2 1168.79 Q1419.86 1168.79 1417.94 1170.57 Q1416.04 1172.35 1416.04 1175.48 Q1416.04 1178.6 1417.94 1180.39 Q1419.86 1182.17 1423.2 1182.17 Q1426.53 1182.17 1428.45 1180.39 Q1430.37 1178.58 1430.37 1175.48 Q1430.37 1172.35 1428.45 1170.57 Q1426.55 1168.79 1423.2 1168.79 M1418.52 1166.8 Q1415.51 1166.06 1413.82 1164 Q1412.16 1161.94 1412.16 1158.97 Q1412.16 1154.83 1415.1 1152.42 Q1418.06 1150.02 1423.2 1150.02 Q1428.36 1150.02 1431.3 1152.42 Q1434.24 1154.83 1434.24 1158.97 Q1434.24 1161.94 1432.55 1164 Q1430.88 1166.06 1427.9 1166.8 Q1431.28 1167.59 1433.15 1169.88 Q1435.05 1172.17 1435.05 1175.48 Q1435.05 1180.5 1431.97 1183.19 Q1428.91 1185.87 1423.2 1185.87 Q1417.48 1185.87 1414.4 1183.19 Q1411.35 1180.5 1411.35 1175.48 Q1411.35 1172.17 1413.24 1169.88 Q1415.14 1167.59 1418.52 1166.8 M1416.81 1159.41 Q1416.81 1162.1 1418.48 1163.6 Q1420.16 1165.11 1423.2 1165.11 Q1426.21 1165.11 1427.9 1163.6 Q1429.61 1162.1 1429.61 1159.41 Q1429.61 1156.73 1427.9 1155.22 Q1426.21 1153.72 1423.2 1153.72 Q1420.16 1153.72 1418.48 1155.22 Q1416.81 1156.73 1416.81 1159.41 Z\" fill=\"#000000\" fill-rule=\"evenodd\" fill-opacity=\"1\" /><path clip-path=\"url(#clip290)\" d=\"M1347.71 1054.24 Q1344.1 1054.24 1342.27 1057.8 Q1340.47 1061.34 1340.47 1068.47 Q1340.47 1075.58 1342.27 1079.14 Q1344.1 1082.69 1347.71 1082.69 Q1351.35 1082.69 1353.15 1079.14 Q1354.98 1075.58 1354.98 1068.47 Q1354.98 1061.34 1353.15 1057.8 Q1351.35 1054.24 1347.71 1054.24 M1347.71 1050.53 Q1353.52 1050.53 1356.58 1055.14 Q1359.66 1059.72 1359.66 1068.47 Q1359.66 1077.2 1356.58 1081.81 Q1353.52 1086.39 1347.71 1086.39 Q1341.9 1086.39 1338.82 1081.81 Q1335.77 1077.2 1335.77 1068.47 Q1335.77 1059.72 1338.82 1055.14 Q1341.9 1050.53 1347.71 1050.53 Z\" fill=\"#000000\" fill-rule=\"evenodd\" fill-opacity=\"1\" /><path clip-path=\"url(#clip290)\" d=\"M1367.87 1079.84 L1372.76 1079.84 L1372.76 1085.72 L1367.87 1085.72 L1367.87 1079.84 Z\" fill=\"#000000\" fill-rule=\"evenodd\" fill-opacity=\"1\" /><path clip-path=\"url(#clip290)\" d=\"M1395.79 1055.23 L1383.98 1073.68 L1395.79 1073.68 L1395.79 1055.23 M1394.56 1051.16 L1400.44 1051.16 L1400.44 1073.68 L1405.37 1073.68 L1405.37 1077.57 L1400.44 1077.57 L1400.44 1085.72 L1395.79 1085.72 L1395.79 1077.57 L1380.19 1077.57 L1380.19 1073.06 L1394.56 1051.16 Z\" fill=\"#000000\" fill-rule=\"evenodd\" fill-opacity=\"1\" /><path clip-path=\"url(#clip290)\" d=\"M1423.1 1054.24 Q1419.49 1054.24 1417.66 1057.8 Q1415.86 1061.34 1415.86 1068.47 Q1415.86 1075.58 1417.66 1079.14 Q1419.49 1082.69 1423.1 1082.69 Q1426.74 1082.69 1428.54 1079.14 Q1430.37 1075.58 1430.37 1068.47 Q1430.37 1061.34 1428.54 1057.8 Q1426.74 1054.24 1423.1 1054.24 M1423.1 1050.53 Q1428.91 1050.53 1431.97 1055.14 Q1435.05 1059.72 1435.05 1068.47 Q1435.05 1077.2 1431.97 1081.81 Q1428.91 1086.39 1423.1 1086.39 Q1417.29 1086.39 1414.22 1081.81 Q1411.16 1077.2 1411.16 1068.47 Q1411.16 1059.72 1414.22 1055.14 Q1417.29 1050.53 1423.1 1050.53 Z\" fill=\"#000000\" fill-rule=\"evenodd\" fill-opacity=\"1\" /><path clip-path=\"url(#clip290)\" d=\"M1349.31 954.753 Q1345.7 954.753 1343.87 958.318 Q1342.06 961.86 1342.06 968.989 Q1342.06 976.096 1343.87 979.661 Q1345.7 983.202 1349.31 983.202 Q1352.94 983.202 1354.75 979.661 Q1356.58 976.096 1356.58 968.989 Q1356.58 961.86 1354.75 958.318 Q1352.94 954.753 1349.31 954.753 M1349.31 951.05 Q1355.12 951.05 1358.17 955.656 Q1361.25 960.24 1361.25 968.989 Q1361.25 977.716 1358.17 982.323 Q1355.12 986.906 1349.31 986.906 Q1343.5 986.906 1340.42 982.323 Q1337.36 977.716 1337.36 968.989 Q1337.36 960.24 1340.42 955.656 Q1343.5 951.05 1349.31 951.05 Z\" fill=\"#000000\" fill-rule=\"evenodd\" fill-opacity=\"1\" /><path clip-path=\"url(#clip290)\" d=\"M1369.47 980.355 L1374.35 980.355 L1374.35 986.235 L1369.47 986.235 L1369.47 980.355 Z\" fill=\"#000000\" fill-rule=\"evenodd\" fill-opacity=\"1\" /><path clip-path=\"url(#clip290)\" d=\"M1397.39 955.749 L1385.58 974.198 L1397.39 974.198 L1397.39 955.749 M1396.16 951.675 L1402.04 951.675 L1402.04 974.198 L1406.97 974.198 L1406.97 978.087 L1402.04 978.087 L1402.04 986.235 L1397.39 986.235 L1397.39 978.087 L1381.79 978.087 L1381.79 973.573 L1396.16 951.675 Z\" fill=\"#000000\" fill-rule=\"evenodd\" fill-opacity=\"1\" /><path clip-path=\"url(#clip290)\" d=\"M1418.73 982.3 L1435.05 982.3 L1435.05 986.235 L1413.1 986.235 L1413.1 982.3 Q1415.77 979.545 1420.35 974.915 Q1424.96 970.263 1426.14 968.92 Q1428.38 966.397 1429.26 964.661 Q1430.16 962.902 1430.16 961.212 Q1430.16 958.457 1428.22 956.721 Q1426.3 954.985 1423.2 954.985 Q1421 954.985 1418.54 955.749 Q1416.11 956.513 1413.34 958.064 L1413.34 953.341 Q1416.16 952.207 1418.61 951.628 Q1421.07 951.05 1423.1 951.05 Q1428.48 951.05 1431.67 953.735 Q1434.86 956.42 1434.86 960.911 Q1434.86 963.04 1434.05 964.962 Q1433.27 966.86 1431.16 969.452 Q1430.58 970.124 1427.48 973.341 Q1424.38 976.536 1418.73 982.3 Z\" fill=\"#000000\" fill-rule=\"evenodd\" fill-opacity=\"1\" /><path clip-path=\"url(#clip290)\" d=\"M1262.33 1400.31 L1279.74 1400.31 L1279.74 1390 Q1279.74 1384.81 1277.61 1382.33 Q1275.44 1379.82 1271.02 1379.82 Q1266.56 1379.82 1264.46 1382.33 Q1262.33 1384.81 1262.33 1390 L1262.33 1400.31 M1242.79 1400.31 L1257.11 1400.31 L1257.11 1390.8 Q1257.11 1386.09 1255.36 1383.79 Q1253.58 1381.47 1249.95 1381.47 Q1246.35 1381.47 1244.57 1383.79 Q1242.79 1386.09 1242.79 1390.8 L1242.79 1400.31 M1237.51 1406.74 L1237.51 1390.32 Q1237.51 1382.97 1240.56 1378.99 Q1243.62 1375.01 1249.25 1375.01 Q1253.61 1375.01 1256.19 1377.05 Q1258.77 1379.08 1259.4 1383.03 Q1260.42 1378.29 1263.67 1375.68 Q1266.88 1373.04 1271.72 1373.04 Q1278.09 1373.04 1281.56 1377.37 Q1285.03 1381.69 1285.03 1389.68 L1285.03 1406.74 L1237.51 1406.74 Z\" fill=\"#000000\" fill-rule=\"evenodd\" fill-opacity=\"1\" /><path clip-path=\"url(#clip290)\" d=\"M1254.85 1341.62 Q1254.28 1342.61 1254.02 1343.79 Q1253.74 1344.93 1253.74 1346.33 Q1253.74 1351.3 1256.98 1353.97 Q1260.2 1356.61 1266.25 1356.61 L1285.03 1356.61 L1285.03 1362.5 L1249.38 1362.5 L1249.38 1356.61 L1254.92 1356.61 Q1251.67 1354.77 1250.11 1351.81 Q1248.52 1348.85 1248.52 1344.61 Q1248.52 1344.01 1248.61 1343.28 Q1248.68 1342.54 1248.84 1341.65 L1254.85 1341.62 Z\" fill=\"#000000\" fill-rule=\"evenodd\" fill-opacity=\"1\" /><path clip-path=\"url(#clip290)\" d=\"M1249.38 1335.48 L1249.38 1329.62 L1285.03 1329.62 L1285.03 1335.48 L1249.38 1335.48 M1235.5 1335.48 L1235.5 1329.62 L1242.92 1329.62 L1242.92 1335.48 L1235.5 1335.48 Z\" fill=\"#000000\" fill-rule=\"evenodd\" fill-opacity=\"1\" /><path clip-path=\"url(#clip290)\" d=\"M1265.74 1286.88 L1268.6 1286.88 L1268.6 1313.8 Q1274.65 1313.42 1277.83 1310.18 Q1280.98 1306.9 1280.98 1301.07 Q1280.98 1297.7 1280.16 1294.55 Q1279.33 1291.36 1277.67 1288.25 L1283.21 1288.25 Q1284.55 1291.4 1285.25 1294.71 Q1285.95 1298.02 1285.95 1301.42 Q1285.95 1309.95 1280.98 1314.95 Q1276.02 1319.91 1267.55 1319.91 Q1258.8 1319.91 1253.67 1315.2 Q1248.52 1310.46 1248.52 1302.44 Q1248.52 1295.25 1253.16 1291.08 Q1257.78 1286.88 1265.74 1286.88 M1264.02 1292.73 Q1259.21 1292.8 1256.35 1295.44 Q1253.48 1298.05 1253.48 1302.38 Q1253.48 1307.28 1256.25 1310.24 Q1259.02 1313.17 1264.05 1313.61 L1264.02 1292.73 Z\" fill=\"#000000\" fill-rule=\"evenodd\" fill-opacity=\"1\" /><path clip-path=\"url(#clip290)\" d=\"M1254.85 1256.61 Q1254.28 1257.59 1254.02 1258.77 Q1253.74 1259.92 1253.74 1261.32 Q1253.74 1266.28 1256.98 1268.96 Q1260.2 1271.6 1266.25 1271.6 L1285.03 1271.6 L1285.03 1277.49 L1249.38 1277.49 L1249.38 1271.6 L1254.92 1271.6 Q1251.67 1269.75 1250.11 1266.79 Q1248.52 1263.83 1248.52 1259.6 Q1248.52 1258.99 1248.61 1258.26 Q1248.68 1257.53 1248.84 1256.64 L1254.85 1256.61 Z\" fill=\"#000000\" fill-rule=\"evenodd\" fill-opacity=\"1\" /><path clip-path=\"url(#clip290)\" d=\"M1237.51 1250.21 L1237.51 1243.78 L1279.61 1243.78 L1279.61 1220.64 L1285.03 1220.64 L1285.03 1250.21 L1237.51 1250.21 Z\" fill=\"#000000\" fill-rule=\"evenodd\" fill-opacity=\"1\" /><path clip-path=\"url(#clip290)\" d=\"M1253.48 1201.48 Q1253.48 1206.19 1257.18 1208.93 Q1260.84 1211.67 1267.23 1211.67 Q1273.63 1211.67 1277.32 1208.96 Q1280.98 1206.22 1280.98 1201.48 Q1280.98 1196.8 1277.29 1194.06 Q1273.6 1191.33 1267.23 1191.33 Q1260.9 1191.33 1257.21 1194.06 Q1253.48 1196.8 1253.48 1201.48 M1248.52 1201.48 Q1248.52 1193.84 1253.48 1189.48 Q1258.45 1185.12 1267.23 1185.12 Q1275.99 1185.12 1280.98 1189.48 Q1285.95 1193.84 1285.95 1201.48 Q1285.95 1209.15 1280.98 1213.51 Q1275.99 1217.84 1267.23 1217.84 Q1258.45 1217.84 1253.48 1213.51 Q1248.52 1209.15 1248.52 1201.48 Z\" fill=\"#000000\" fill-rule=\"evenodd\" fill-opacity=\"1\" /><path clip-path=\"url(#clip290)\" d=\"M1250.43 1152.69 L1255.97 1152.69 Q1254.69 1155.17 1254.06 1157.84 Q1253.42 1160.52 1253.42 1163.38 Q1253.42 1167.74 1254.76 1169.94 Q1256.09 1172.1 1258.77 1172.1 Q1260.8 1172.1 1261.98 1170.54 Q1263.13 1168.98 1264.18 1164.27 L1264.62 1162.27 Q1265.96 1156.03 1268.41 1153.42 Q1270.83 1150.78 1275.19 1150.78 Q1280.16 1150.78 1283.05 1154.72 Q1285.95 1158.64 1285.95 1165.51 Q1285.95 1168.38 1285.38 1171.5 Q1284.83 1174.59 1283.72 1178.02 L1277.67 1178.02 Q1279.36 1174.78 1280.22 1171.63 Q1281.05 1168.47 1281.05 1165.39 Q1281.05 1161.25 1279.65 1159.02 Q1278.21 1156.79 1275.64 1156.79 Q1273.25 1156.79 1271.98 1158.42 Q1270.7 1160.01 1269.52 1165.45 L1269.05 1167.49 Q1267.9 1172.93 1265.55 1175.35 Q1263.16 1177.77 1259.02 1177.77 Q1253.99 1177.77 1251.26 1174.2 Q1248.52 1170.64 1248.52 1164.08 Q1248.52 1160.84 1249 1157.97 Q1249.47 1155.11 1250.43 1152.69 Z\" fill=\"#000000\" fill-rule=\"evenodd\" fill-opacity=\"1\" /><path clip-path=\"url(#clip290)\" d=\"M1250.43 1118.73 L1255.97 1118.73 Q1254.69 1121.21 1254.06 1123.88 Q1253.42 1126.56 1253.42 1129.42 Q1253.42 1133.78 1254.76 1135.98 Q1256.09 1138.14 1258.77 1138.14 Q1260.8 1138.14 1261.98 1136.58 Q1263.13 1135.02 1264.18 1130.31 L1264.62 1128.31 Q1265.96 1122.07 1268.41 1119.46 Q1270.83 1116.82 1275.19 1116.82 Q1280.16 1116.82 1283.05 1120.76 Q1285.95 1124.68 1285.95 1131.55 Q1285.95 1134.42 1285.38 1137.54 Q1284.83 1140.62 1283.72 1144.06 L1277.67 1144.06 Q1279.36 1140.82 1280.22 1137.66 Q1281.05 1134.51 1281.05 1131.43 Q1281.05 1127.29 1279.65 1125.06 Q1278.21 1122.83 1275.64 1122.83 Q1273.25 1122.83 1271.98 1124.46 Q1270.7 1126.05 1269.52 1131.49 L1269.05 1133.53 Q1267.9 1138.97 1265.55 1141.39 Q1263.16 1143.81 1259.02 1143.81 Q1253.99 1143.81 1251.26 1140.24 Q1248.52 1136.68 1248.52 1130.12 Q1248.52 1126.87 1249 1124.01 Q1249.47 1121.15 1250.43 1118.73 Z\" fill=\"#000000\" fill-rule=\"evenodd\" fill-opacity=\"1\" /><circle clip-path=\"url(#clip295)\" cx=\"1912.23\" cy=\"1373.53\" r=\"14\" fill=\"#009af9\" fill-rule=\"evenodd\" fill-opacity=\"1\" stroke=\"#000000\" stroke-opacity=\"1\" stroke-width=\"3.6\"/>\n",
       "<circle clip-path=\"url(#clip295)\" cx=\"1612.55\" cy=\"1496.53\" r=\"14\" fill=\"#009af9\" fill-rule=\"evenodd\" fill-opacity=\"1\" stroke=\"#000000\" stroke-opacity=\"1\" stroke-width=\"3.6\"/>\n",
       "<circle clip-path=\"url(#clip295)\" cx=\"1589.96\" cy=\"1591.16\" r=\"14\" fill=\"#009af9\" fill-rule=\"evenodd\" fill-opacity=\"1\" stroke=\"#000000\" stroke-opacity=\"1\" stroke-width=\"3.6\"/>\n",
       "<circle clip-path=\"url(#clip295)\" cx=\"1715.48\" cy=\"1569.04\" r=\"14\" fill=\"#009af9\" fill-rule=\"evenodd\" fill-opacity=\"1\" stroke=\"#000000\" stroke-opacity=\"1\" stroke-width=\"3.6\"/>\n",
       "<circle clip-path=\"url(#clip295)\" cx=\"1598.32\" cy=\"1523.01\" r=\"14\" fill=\"#009af9\" fill-rule=\"evenodd\" fill-opacity=\"1\" stroke=\"#000000\" stroke-opacity=\"1\" stroke-width=\"3.6\"/>\n",
       "<circle clip-path=\"url(#clip295)\" cx=\"1593.44\" cy=\"1539.49\" r=\"14\" fill=\"#009af9\" fill-rule=\"evenodd\" fill-opacity=\"1\" stroke=\"#000000\" stroke-opacity=\"1\" stroke-width=\"3.6\"/>\n",
       "<circle clip-path=\"url(#clip295)\" cx=\"1583.96\" cy=\"1477.4\" r=\"14\" fill=\"#009af9\" fill-rule=\"evenodd\" fill-opacity=\"1\" stroke=\"#000000\" stroke-opacity=\"1\" stroke-width=\"3.6\"/>\n",
       "<circle clip-path=\"url(#clip295)\" cx=\"2079.61\" cy=\"1587.63\" r=\"14\" fill=\"#009af9\" fill-rule=\"evenodd\" fill-opacity=\"1\" stroke=\"#000000\" stroke-opacity=\"1\" stroke-width=\"3.6\"/>\n",
       "<circle clip-path=\"url(#clip295)\" cx=\"2313.09\" cy=\"1543.97\" r=\"14\" fill=\"#009af9\" fill-rule=\"evenodd\" fill-opacity=\"1\" stroke=\"#000000\" stroke-opacity=\"1\" stroke-width=\"3.6\"/>\n",
       "<circle clip-path=\"url(#clip295)\" cx=\"1785.58\" cy=\"1419.21\" r=\"14\" fill=\"#009af9\" fill-rule=\"evenodd\" fill-opacity=\"1\" stroke=\"#000000\" stroke-opacity=\"1\" stroke-width=\"3.6\"/>\n",
       "<circle clip-path=\"url(#clip295)\" cx=\"2075.24\" cy=\"1579.28\" r=\"14\" fill=\"#009af9\" fill-rule=\"evenodd\" fill-opacity=\"1\" stroke=\"#000000\" stroke-opacity=\"1\" stroke-width=\"3.6\"/>\n",
       "<circle clip-path=\"url(#clip295)\" cx=\"1502.16\" cy=\"1558.35\" r=\"14\" fill=\"#009af9\" fill-rule=\"evenodd\" fill-opacity=\"1\" stroke=\"#000000\" stroke-opacity=\"1\" stroke-width=\"3.6\"/>\n",
       "<circle clip-path=\"url(#clip295)\" cx=\"1851.66\" cy=\"1421.44\" r=\"14\" fill=\"#009af9\" fill-rule=\"evenodd\" fill-opacity=\"1\" stroke=\"#000000\" stroke-opacity=\"1\" stroke-width=\"3.6\"/>\n",
       "<circle clip-path=\"url(#clip295)\" cx=\"1799.75\" cy=\"1559.25\" r=\"14\" fill=\"#009af9\" fill-rule=\"evenodd\" fill-opacity=\"1\" stroke=\"#000000\" stroke-opacity=\"1\" stroke-width=\"3.6\"/>\n",
       "<circle clip-path=\"url(#clip295)\" cx=\"2028.24\" cy=\"1562.52\" r=\"14\" fill=\"#009af9\" fill-rule=\"evenodd\" fill-opacity=\"1\" stroke=\"#000000\" stroke-opacity=\"1\" stroke-width=\"3.6\"/>\n",
       "<circle clip-path=\"url(#clip295)\" cx=\"1521.98\" cy=\"932.403\" r=\"14\" fill=\"#009af9\" fill-rule=\"evenodd\" fill-opacity=\"1\" stroke=\"#000000\" stroke-opacity=\"1\" stroke-width=\"3.6\"/>\n",
       "<circle clip-path=\"url(#clip295)\" cx=\"1777.5\" cy=\"1574.21\" r=\"14\" fill=\"#009af9\" fill-rule=\"evenodd\" fill-opacity=\"1\" stroke=\"#000000\" stroke-opacity=\"1\" stroke-width=\"3.6\"/>\n",
       "<circle clip-path=\"url(#clip295)\" cx=\"1749.15\" cy=\"1465.98\" r=\"14\" fill=\"#009af9\" fill-rule=\"evenodd\" fill-opacity=\"1\" stroke=\"#000000\" stroke-opacity=\"1\" stroke-width=\"3.6\"/>\n",
       "<circle clip-path=\"url(#clip295)\" cx=\"1606.43\" cy=\"1461.21\" r=\"14\" fill=\"#009af9\" fill-rule=\"evenodd\" fill-opacity=\"1\" stroke=\"#000000\" stroke-opacity=\"1\" stroke-width=\"3.6\"/>\n",
       "<circle clip-path=\"url(#clip295)\" cx=\"1711.05\" cy=\"1545.29\" r=\"14\" fill=\"#009af9\" fill-rule=\"evenodd\" fill-opacity=\"1\" stroke=\"#000000\" stroke-opacity=\"1\" stroke-width=\"3.6\"/>\n",
       "<circle clip-path=\"url(#clip295)\" cx=\"2055.8\" cy=\"1572.57\" r=\"14\" fill=\"#009af9\" fill-rule=\"evenodd\" fill-opacity=\"1\" stroke=\"#000000\" stroke-opacity=\"1\" stroke-width=\"3.6\"/>\n",
       "<circle clip-path=\"url(#clip295)\" cx=\"2327.8\" cy=\"1547.05\" r=\"14\" fill=\"#009af9\" fill-rule=\"evenodd\" fill-opacity=\"1\" stroke=\"#000000\" stroke-opacity=\"1\" stroke-width=\"3.6\"/>\n",
       "<circle clip-path=\"url(#clip295)\" cx=\"1529.39\" cy=\"1465.55\" r=\"14\" fill=\"#009af9\" fill-rule=\"evenodd\" fill-opacity=\"1\" stroke=\"#000000\" stroke-opacity=\"1\" stroke-width=\"3.6\"/>\n",
       "<circle clip-path=\"url(#clip295)\" cx=\"1805.76\" cy=\"1539.29\" r=\"14\" fill=\"#009af9\" fill-rule=\"evenodd\" fill-opacity=\"1\" stroke=\"#000000\" stroke-opacity=\"1\" stroke-width=\"3.6\"/>\n",
       "<circle clip-path=\"url(#clip295)\" cx=\"1496\" cy=\"1441.38\" r=\"14\" fill=\"#009af9\" fill-rule=\"evenodd\" fill-opacity=\"1\" stroke=\"#000000\" stroke-opacity=\"1\" stroke-width=\"3.6\"/>\n",
       "</svg>\n"
      ]
     },
     "execution_count": 58,
     "metadata": {},
     "output_type": "execute_result"
    }
   ],
   "source": [
    "plot(mach_tuned_iterated_pipe, size=(600,450))"
   ]
  },
  {
   "cell_type": "markdown",
   "metadata": {},
   "source": [
    "## Saving our model"
   ]
  },
  {
   "cell_type": "markdown",
   "metadata": {},
   "source": [
    "> Introduces: `MLJ.save`"
   ]
  },
  {
   "cell_type": "markdown",
   "metadata": {},
   "source": [
    "Here's how to serialize our final, trained self-iterating,\n",
    "self-tuning pipeline machine:"
   ]
  },
  {
   "cell_type": "code",
   "execution_count": 59,
   "metadata": {},
   "outputs": [],
   "source": [
    "MLJ.save(\"tuned_iterated_pipe.jlso\", mach_tuned_iterated_pipe)"
   ]
  },
  {
   "cell_type": "markdown",
   "metadata": {},
   "source": [
    "We'll deserialize this in \"Testing the final model\" below."
   ]
  },
  {
   "cell_type": "markdown",
   "metadata": {},
   "source": [
    "## Final performance estimate"
   ]
  },
  {
   "cell_type": "markdown",
   "metadata": {},
   "source": [
    "Finally, to get an even more accurate estimate of performance, we\n",
    "can evaluate our model using stratified cross-validation and all the\n",
    "data attached to our machine. Because this evaluation implies\n",
    "[nested\n",
    "resampling](https://mlr.mlr-org.com/articles/tutorial/nested_resampling.html),\n",
    "this computation takes quite a bit longer than the previous one\n",
    "(which is being repeated six times, using 5/6th of the data each\n",
    "time):"
   ]
  },
  {
   "cell_type": "code",
   "execution_count": 60,
   "metadata": {},
   "outputs": [
    {
     "name": "stderr",
     "output_type": "stream",
     "text": [
      "\u001b[33mEvaluating over 6 folds: 100%[=========================] Time: 1:02:10\u001b[39m\n"
     ]
    },
    {
     "data": {
      "text/plain": [
       "PerformanceEvaluation object with these fields:\n",
       "  measure, measurement, operation, per_fold,\n",
       "  per_observation, fitted_params_per_fold,\n",
       "  report_per_fold, train_test_pairs\n",
       "Extract:\n",
       "┌──────────────────┬─────────────┬──────────────┬───────────────────────────────\n",
       "│\u001b[22m measure          \u001b[0m│\u001b[22m measurement \u001b[0m│\u001b[22m operation    \u001b[0m│\u001b[22m per_fold                    \u001b[0m ⋯\n",
       "├──────────────────┼─────────────┼──────────────┼───────────────────────────────\n",
       "│ BrierLoss()      │ 0.305       │ predict      │ [0.308, 0.346, 0.266, 0.309, ⋯\n",
       "│ AreaUnderCurve() │ 0.809       │ predict      │ [0.805, 0.717, 0.824, 0.835, ⋯\n",
       "│ Accuracy()       │ 0.783       │ predict_mode │ [0.771, 0.78, 0.829, 0.768,  ⋯\n",
       "└──────────────────┴─────────────┴──────────────┴───────────────────────────────\n",
       "\u001b[36m                                                                1 column omitted\u001b[0m\n"
      ]
     },
     "execution_count": 60,
     "metadata": {},
     "output_type": "execute_result"
    }
   ],
   "source": [
    "e_tuned_iterated_pipe = evaluate(tuned_iterated_pipe, X, y,\n",
    "                                 resampling=StratifiedCV(nfolds=6, rng=123),\n",
    "                                 measures=[brier_loss, auc, accuracy])"
   ]
  },
  {
   "cell_type": "code",
   "execution_count": 61,
   "metadata": {},
   "outputs": [
    {
     "data": {
      "text/html": [
       "<div class=\"data-frame\"><p>3 rows × 2 columns</p><table class=\"data-frame\"><thead><tr><th></th><th>measure</th><th>measurement</th></tr><tr><th></th><th title=\"MLJBase.Measure\">Measure</th><th title=\"Measurement{Float64}\">Measurem…</th></tr></thead><tbody><tr><th>1</th><td>BrierLoss()</td><td>0.305±0.022</td></tr><tr><th>2</th><td>AreaUnderCurve()</td><td>0.809±0.048</td></tr><tr><th>3</th><td>Accuracy()</td><td>0.783±0.021</td></tr></tbody></table></div>"
      ],
      "text/latex": [
       "\\begin{tabular}{r|cc}\n",
       "\t& measure & measurement\\\\\n",
       "\t\\hline\n",
       "\t& Measure & Measurem…\\\\\n",
       "\t\\hline\n",
       "\t1 & BrierLoss() & $0.305 \\pm 0.022$ \\\\\n",
       "\t2 & AreaUnderCurve() & $0.809 \\pm 0.048$ \\\\\n",
       "\t3 & Accuracy() & $0.783 \\pm 0.021$ \\\\\n",
       "\\end{tabular}\n"
      ],
      "text/plain": [
       "\u001b[1m3×2 DataFrame\u001b[0m\n",
       "\u001b[1m Row \u001b[0m│\u001b[1m measure          \u001b[0m\u001b[1m measurement \u001b[0m\n",
       "\u001b[1m     \u001b[0m│\u001b[90m Measure          \u001b[0m\u001b[90m Measuremen… \u001b[0m\n",
       "─────┼───────────────────────────────\n",
       "   1 │ BrierLoss()       0.305±0.022\n",
       "   2 │ AreaUnderCurve()  0.809±0.048\n",
       "   3 │ Accuracy()        0.783±0.021"
      ]
     },
     "execution_count": 61,
     "metadata": {},
     "output_type": "execute_result"
    }
   ],
   "source": [
    "confidence_intervals(e_tuned_iterated_pipe)"
   ]
  },
  {
   "cell_type": "markdown",
   "metadata": {},
   "source": [
    "For comparison, here are the confidence intervals for the basic\n",
    "pipeline model (no feature selection and default hyperparameters):"
   ]
  },
  {
   "cell_type": "code",
   "execution_count": 62,
   "metadata": {},
   "outputs": [
    {
     "data": {
      "text/html": [
       "<div class=\"data-frame\"><p>3 rows × 2 columns</p><table class=\"data-frame\"><thead><tr><th></th><th>measure</th><th>measurement</th></tr><tr><th></th><th title=\"MLJBase.Measure\">Measure</th><th title=\"Measurement{Float64}\">Measurem…</th></tr></thead><tbody><tr><th>1</th><td>BrierLoss()</td><td>0.313±0.021</td></tr><tr><th>2</th><td>AreaUnderCurve()</td><td>0.789±0.033</td></tr><tr><th>3</th><td>Accuracy()</td><td>0.781±0.021</td></tr></tbody></table></div>"
      ],
      "text/latex": [
       "\\begin{tabular}{r|cc}\n",
       "\t& measure & measurement\\\\\n",
       "\t\\hline\n",
       "\t& Measure & Measurem…\\\\\n",
       "\t\\hline\n",
       "\t1 & BrierLoss() & $0.313 \\pm 0.021$ \\\\\n",
       "\t2 & AreaUnderCurve() & $0.789 \\pm 0.033$ \\\\\n",
       "\t3 & Accuracy() & $0.781 \\pm 0.021$ \\\\\n",
       "\\end{tabular}\n"
      ],
      "text/plain": [
       "\u001b[1m3×2 DataFrame\u001b[0m\n",
       "\u001b[1m Row \u001b[0m│\u001b[1m measure          \u001b[0m\u001b[1m measurement \u001b[0m\n",
       "\u001b[1m     \u001b[0m│\u001b[90m Measure          \u001b[0m\u001b[90m Measuremen… \u001b[0m\n",
       "─────┼───────────────────────────────\n",
       "   1 │ BrierLoss()       0.313±0.021\n",
       "   2 │ AreaUnderCurve()  0.789±0.033\n",
       "   3 │ Accuracy()        0.781±0.021"
      ]
     },
     "execution_count": 62,
     "metadata": {},
     "output_type": "execute_result"
    }
   ],
   "source": [
    "confidence_intervals_basic_model"
   ]
  },
  {
   "cell_type": "markdown",
   "metadata": {},
   "source": [
    "We do see a small improvement in the scores, but these are not statistically significant improvements. Default `booster` hyper-parameters do a pretty good job!"
   ]
  },
  {
   "cell_type": "markdown",
   "metadata": {},
   "source": [
    "## Testing the final model"
   ]
  },
  {
   "cell_type": "markdown",
   "metadata": {},
   "source": [
    "We now determine the performance of our model on our\n",
    "lock-and-throw-away-the-key holdout set. To demonstrate\n",
    "deserialization, we'll pretend we're in a new Julia session (but\n",
    "have called `import`/`using` on the same packages). Then the\n",
    "following should suffice to recover our model trained under\n",
    "\"Hyper-parameter optimization\" above:"
   ]
  },
  {
   "cell_type": "code",
   "execution_count": 63,
   "metadata": {},
   "outputs": [
    {
     "data": {
      "text/plain": [
       "Machine{ProbabilisticTunedModel{RandomSearch,…},…} trained 1 time; caches data\n",
       "  model: MLJTuning.ProbabilisticTunedModel{RandomSearch, MLJIteration.ProbabilisticIteratedModel{MLJBase.ProbabilisticPipeline{NamedTuple{(:continuous_encoder, :feature_selector, :evo_tree_classifier), Tuple{Unsupervised, Unsupervised, Probabilistic}}, MLJModelInterface.predict}}}\n",
       "  args: \n"
      ]
     },
     "execution_count": 63,
     "metadata": {},
     "output_type": "execute_result"
    }
   ],
   "source": [
    "mach_restored = machine(\"tuned_iterated_pipe.jlso\")"
   ]
  },
  {
   "cell_type": "markdown",
   "metadata": {},
   "source": [
    "We compute predictions on the holdout set:"
   ]
  },
  {
   "cell_type": "code",
   "execution_count": 64,
   "metadata": {},
   "outputs": [
    {
     "data": {
      "text/plain": [
       "             \u001b[1mUnivariateFinite{Multiclass{2}}\u001b[22m      \n",
       "       \u001b[90m┌                                        ┐\u001b[39m \n",
       "    \u001b[0mNo \u001b[90m┤\u001b[39m\u001b[38;5;2m■■■■■■■■■■■■■■■■■\u001b[39m\u001b[0m 0.45439897531317175   \u001b[90m \u001b[39m \n",
       "   \u001b[0mYes \u001b[90m┤\u001b[39m\u001b[38;5;2m■■■■■■■■■■■■■■■■■■■■\u001b[39m\u001b[0m 0.5456010246868284 \u001b[90m \u001b[39m \n",
       "       \u001b[90m└                                        ┘\u001b[39m "
      ]
     },
     "execution_count": 64,
     "metadata": {},
     "output_type": "execute_result"
    }
   ],
   "source": [
    "ŷ_tuned = predict(mach_restored, Xtest);\n",
    "ŷ_tuned[1]"
   ]
  },
  {
   "cell_type": "markdown",
   "metadata": {},
   "source": [
    "And can compute the final performance measures:"
   ]
  },
  {
   "cell_type": "code",
   "execution_count": 65,
   "metadata": {},
   "outputs": [
    {
     "name": "stderr",
     "output_type": "stream",
     "text": [
      "┌ Info: Tuned model measurements on test:\n",
      "│   brier_loss(ŷ_tuned, ytest) |> mean = 0.2841771883940755\n",
      "│   auc(ŷ_tuned, ytest) = 0.8457373271889401\n",
      "│   accuracy(mode.(ŷ_tuned), ytest) = 0.7962085308056872\n",
      "└ @ Main In[65]:1\n"
     ]
    }
   ],
   "source": [
    "@info(\"Tuned model measurements on test:\",\n",
    "      brier_loss(ŷ_tuned, ytest) |> mean,\n",
    "      auc(ŷ_tuned, ytest),\n",
    "      accuracy(mode.(ŷ_tuned), ytest)\n",
    "      )"
   ]
  },
  {
   "cell_type": "markdown",
   "metadata": {},
   "source": [
    "For comparison, here's the performance for the basic pipeline model"
   ]
  },
  {
   "cell_type": "code",
   "execution_count": 66,
   "metadata": {},
   "outputs": [
    {
     "name": "stderr",
     "output_type": "stream",
     "text": [
      "┌ Info: Basic model measurements on test set:\n",
      "│   brier_loss(ŷ_basic, ytest) |> mean = 0.2815220182102922\n",
      "│   auc(ŷ_basic, ytest) = 0.8496543778801844\n",
      "│   accuracy(mode.(ŷ_basic), ytest) = 0.8009478672985781\n",
      "└ @ Main In[66]:6\n"
     ]
    }
   ],
   "source": [
    "mach_basic = machine(pipe, X, y)\n",
    "fit!(mach_basic, verbosity=0)\n",
    "\n",
    "ŷ_basic = predict(mach_basic, Xtest);\n",
    "\n",
    "@info(\"Basic model measurements on test set:\",\n",
    "      brier_loss(ŷ_basic, ytest) |> mean,\n",
    "      auc(ŷ_basic, ytest),\n",
    "      accuracy(mode.(ŷ_basic), ytest)\n",
    "      )"
   ]
  },
  {
   "cell_type": "markdown",
   "metadata": {},
   "source": [
    "---\n",
    "\n",
    "*This notebook was generated using [Literate.jl](https://github.com/fredrikekre/Literate.jl).*"
   ]
  }
 ],
 "metadata": {
  "kernelspec": {
   "display_name": "Julia 1.6.5",
   "language": "julia",
   "name": "julia-1.6"
  },
  "language_info": {
   "file_extension": ".jl",
   "mimetype": "application/julia",
   "name": "julia",
   "version": "1.6.5"
  }
 },
 "nbformat": 4,
 "nbformat_minor": 3
}
