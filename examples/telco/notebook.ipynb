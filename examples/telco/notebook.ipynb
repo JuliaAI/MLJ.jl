{
 "cells": [
  {
   "cell_type": "markdown",
   "metadata": {},
   "source": [
    "# MLJ for Data Scientists in Two Hours"
   ]
  },
  {
   "cell_type": "markdown",
   "metadata": {},
   "source": [
    "An application of the [MLJ\n",
    "toolbox](https://alan-turing-institute.github.io/MLJ.jl/dev/) to the\n",
    "Telco Customer Churn dataset, aimed at practicing data scientists\n",
    "new to MLJ (Machine Learning in Julia). This tutorial does not\n",
    "cover exploratory data analysis."
   ]
  },
  {
   "cell_type": "markdown",
   "metadata": {},
   "source": [
    "MLJ is a *multi-paradigm* machine learning toolbox (i.e., not just\n",
    "deep-learning)."
   ]
  },
  {
   "cell_type": "markdown",
   "metadata": {},
   "source": [
    "For other MLJ learning resources see the [Learning\n",
    "MLJ](https://alan-turing-institute.github.io/MLJ.jl/dev/learning_mlj/)\n",
    "section of the\n",
    "[manual](https://alan-turing-institute.github.io/MLJ.jl/dev/)."
   ]
  },
  {
   "cell_type": "markdown",
   "metadata": {},
   "source": [
    "**Topics covered**: Grabbing and preparing a dataset, basic\n",
    "fit/predict workflow, constructing a pipeline to include data\n",
    "pre-processing, estimating performance metrics, ROC curves, confusion\n",
    "matrices, feature importance, basic feature selection, controlling iterative\n",
    "models, hyper-parameter optimization (tuning)."
   ]
  },
  {
   "cell_type": "markdown",
   "metadata": {},
   "source": [
    "**Prerequisites for this tutorial.** Previous experience building,\n",
    "evaluating, and optimizing machine learning models using\n",
    "scikit-learn, caret, MLR, weka, or similar tool. No previous\n",
    "experience with MLJ. Only fairly basic familiarity with Julia is\n",
    "required. Uses\n",
    "[DataFrames.jl](https://dataframes.juliadata.org/stable/) but in a\n",
    "minimal way ([this\n",
    "cheatsheet](https://ahsmart.com/pub/data-wrangling-with-data-frames-jl-cheat-sheet/index.html)\n",
    "may help)."
   ]
  },
  {
   "cell_type": "markdown",
   "metadata": {},
   "source": [
    "**Time.** Between two and three hours, first time through."
   ]
  },
  {
   "cell_type": "markdown",
   "metadata": {},
   "source": [
    "## Summary of methods and types introduced"
   ]
  },
  {
   "cell_type": "markdown",
   "metadata": {},
   "source": [
    "|code   | purpose|\n",
    "|:-------|:-------------------------------------------------------|\n",
    "| `OpenML.load(id)` | grab a dataset from [OpenML.org](https://www.openml.org)|\n",
    "| `scitype(X)`      | inspect the scientific type (scitype) of object `X`|\n",
    "| `schema(X)`       | inspect the column scitypes (scientific types) of a table `X`|\n",
    "| `coerce(X, ...)`   | fix column encodings to get appropriate scitypes|\n",
    "| `partition(data, frac1, frac2, ...; rng=...)` | vertically split `data`, which can be a table, vector or matrix|\n",
    "| `unpack(table, f1, f2, ...)` | horizontally split `table` based on conditions `f1`, `f2`, ..., applied to column names|\n",
    "| `@load ModelType pkg=...`           | load code defining a model type|\n",
    "| `input_scitype(model)` | inspect the scitype that a model requires for features (inputs)|\n",
    "| `target_scitype(model)`| inspect the scitype that a model requires for the target (labels)|\n",
    "| `ContinuousEncoder`   | built-in model type for re-encoding all features as `Continuous`|\n",
    "| `model1 ∣> model2 ∣> ...` | combine multiple models into a pipeline|\n",
    "| `measures(\"under curve\")` | list all measures (metrics) with string \"under curve\" in documentation|\n",
    "| `accuracy(yhat, y)` | compute accuracy of predictions `yhat` against ground truth observations `y`|\n",
    "| `auc(yhat, y)`, `brier_loss(yhat, y)` | evaluate two probabilistic measures (`yhat` a vector of probability distributions)|\n",
    "| `machine(model, X, y)` | bind `model` to training data `X` (features) and `y` (target)|\n",
    "| `fit!(mach, rows=...)` | train machine using specified rows (observation indices)|\n",
    "| `predict(mach, rows=...)`, | make in-sample model predictions given specified rows|\n",
    "| `predict(mach, Xnew)` | make predictions given new features `Xnew`|\n",
    "| `fitted_params(mach)` | inspect learned parameters|\n",
    "| `report(mach)`        | inspect other outcomes of training|\n",
    "| `confmat(yhat, y)`    | confusion matrix for predictions `yhat` and ground truth `y`|\n",
    "| `roc(yhat, y)` | compute points on the receiver-operator Characteristic|\n",
    "| `StratifiedCV(nfolds=6)` | 6-fold stratified cross-validation resampling strategy|\n",
    "| `Holdout(fraction_train=0.7)` | holdout resampling strategy|\n",
    "| `evaluate(model, X, y; resampling=..., options...)` | estimate performance metrics `model` using the data `X`, `y`|\n",
    "| `FeatureSelector()` | transformer for selecting features|\n",
    "| `Step(3)` | iteration control for stepping 3 iterations|\n",
    "| `NumberSinceBest(6)`, `TimeLimit(60/5), InvalidValue()` | iteration control stopping criteria|\n",
    "| `IteratedModel(model=..., controls=..., options...)` | wrap an iterative `model` in control strategies|\n",
    "| `range(model,  :some_hyperparam, lower=..., upper=...)` | define a numeric range|\n",
    "| `RandomSearch()` | random search tuning strategy|\n",
    "| `TunedModel(model=..., tuning=..., options...)` | wrap the supervised `model` in specified `tuning` strategy|"
   ]
  },
  {
   "cell_type": "markdown",
   "metadata": {},
   "source": [
    "## Instantiate a Julia environment"
   ]
  },
  {
   "cell_type": "markdown",
   "metadata": {},
   "source": [
    "The following code replicates precisely the set of Julia packages\n",
    "used to develop this tutorial. If this is your first time running\n",
    "the notebook, package instantiation and pre-compilation may take a\n",
    "minute or so to complete. **This step will fail** if the [correct\n",
    "Manifest.toml and Project.toml\n",
    "files](https://github.com/alan-turing-institute/MLJ.jl/tree/dev/examples/telco)\n",
    "are not in the same directory as this notebook."
   ]
  },
  {
   "cell_type": "code",
   "execution_count": 1,
   "metadata": {},
   "outputs": [
    {
     "name": "stderr",
     "output_type": "stream",
     "text": [
      "\u001b[32m\u001b[1m  Activating\u001b[22m\u001b[39m environment at `~/GoogleDrive/Julia/MLJ/MLJ/examples/telco/Project.toml`\n",
      "\u001b[32m\u001b[1mPrecompiling\u001b[22m\u001b[39m project...\n",
      "\u001b[32m  ✓ \u001b[39m\u001b[90mOpenSSL_jll\u001b[39m\n",
      "\u001b[32m  ✓ \u001b[39m\u001b[90mDualNumbers\u001b[39m\n",
      "\u001b[32m  ✓ \u001b[39m\u001b[90mFFMPEG_jll\u001b[39m\n",
      "\u001b[32m  ✓ \u001b[39m\u001b[90mQt5Base_jll\u001b[39m\n",
      "\u001b[32m  ✓ \u001b[39m\u001b[90mHypergeometricFunctions\u001b[39m\n",
      "\u001b[32m  ✓ \u001b[39m\u001b[90mFFMPEG\u001b[39m\n",
      "\u001b[32m  ✓ \u001b[39m\u001b[90mGPUArrays\u001b[39m\n",
      "\u001b[32m  ✓ \u001b[39m\u001b[90mGR_jll\u001b[39m\n",
      "\u001b[32m  ✓ \u001b[39m\u001b[90mStatsFuns\u001b[39m\n",
      "\u001b[32m  ✓ \u001b[39m\u001b[90mGR\u001b[39m\n",
      "\u001b[32m  ✓ \u001b[39mDistributions\n",
      "\u001b[32m  ✓ \u001b[39m\u001b[90mScientificTypes\u001b[39m\n",
      "\u001b[32m  ✓ \u001b[39m\u001b[90mCategoricalDistributions\u001b[39m\n",
      "\u001b[32m  ✓ \u001b[39m\u001b[90mMLJModels\u001b[39m\n",
      "\u001b[32m  ✓ \u001b[39m\u001b[90mMLJBase\u001b[39m\n",
      "\u001b[32m  ✓ \u001b[39m\u001b[90mMLJEnsembles\u001b[39m\n",
      "\u001b[32m  ✓ \u001b[39m\u001b[90mMLJTuning\u001b[39m\n",
      "\u001b[32m  ✓ \u001b[39m\u001b[90mMLJIteration\u001b[39m\n",
      "\u001b[32m  ✓ \u001b[39m\u001b[90mMLJSerialization\u001b[39m\n",
      "\u001b[32m  ✓ \u001b[39mMLJ\n",
      "\u001b[32m  ✓ \u001b[39m\u001b[90mCUDA\u001b[39m\n",
      "\u001b[32m  ✓ \u001b[39mPlots\n",
      "\u001b[32m  ✓ \u001b[39mEvoTrees\n",
      "  23 dependencies successfully precompiled in 54 seconds (182 already precompiled)\n"
     ]
    }
   ],
   "source": [
    "using Pkg\n",
    "Pkg.activate(@__DIR__) # get env from TOML files in same directory as this notebook\n",
    "Pkg.instantiate()"
   ]
  },
  {
   "cell_type": "markdown",
   "metadata": {},
   "source": [
    "## Warm up: Building a model for the iris dataset"
   ]
  },
  {
   "cell_type": "markdown",
   "metadata": {},
   "source": [
    "Before turning to the Telco Customer Churn dataset, we very quickly\n",
    "build a predictive model for Fisher's well-known iris data set, as way of\n",
    "introducing the main actors in any MLJ workflow. Details that you\n",
    "don't fully grasp should become clearer in the Telco study."
   ]
  },
  {
   "cell_type": "markdown",
   "metadata": {},
   "source": [
    "This section is a condensed adaption of the [Getting Started\n",
    "example](https://alan-turing-institute.github.io/MLJ.jl/dev/getting_started/#Fit-and-predict)\n",
    "in the MLJ documentation."
   ]
  },
  {
   "cell_type": "markdown",
   "metadata": {},
   "source": [
    "First, using the built-in iris dataset, we load and inspect the features\n",
    "`X_iris` (a table) and target variable `y_iris` (a vector):"
   ]
  },
  {
   "cell_type": "code",
   "execution_count": 2,
   "metadata": {},
   "outputs": [
    {
     "name": "stderr",
     "output_type": "stream",
     "text": [
      "┌ Info: Precompiling MLJ [add582a8-e3ab-11e8-2d5e-e98b27df1bc7]\n",
      "└ @ Base loading.jl:1342\n"
     ]
    }
   ],
   "source": [
    "using MLJ"
   ]
  },
  {
   "cell_type": "code",
   "execution_count": 3,
   "metadata": {},
   "outputs": [
    {
     "data": {
      "text/plain": [
       "┌──────────────┬────────────┬─────────┐\n",
       "│\u001b[22m names        \u001b[0m│\u001b[22m scitypes   \u001b[0m│\u001b[22m types   \u001b[0m│\n",
       "├──────────────┼────────────┼─────────┤\n",
       "│ sepal_length │ Continuous │ Float64 │\n",
       "│ sepal_width  │ Continuous │ Float64 │\n",
       "│ petal_length │ Continuous │ Float64 │\n",
       "│ petal_width  │ Continuous │ Float64 │\n",
       "└──────────────┴────────────┴─────────┘\n"
      ]
     },
     "execution_count": 3,
     "metadata": {},
     "output_type": "execute_result"
    }
   ],
   "source": [
    "const X_iris, y_iris = @load_iris;\n",
    "schema(X_iris)"
   ]
  },
  {
   "cell_type": "code",
   "execution_count": 4,
   "metadata": {},
   "outputs": [
    {
     "data": {
      "text/plain": [
       "4-element CategoricalArrays.CategoricalArray{String,1,UInt32}:\n",
       " \"setosa\"\n",
       " \"setosa\"\n",
       " \"setosa\"\n",
       " \"setosa\""
      ]
     },
     "execution_count": 4,
     "metadata": {},
     "output_type": "execute_result"
    }
   ],
   "source": [
    "y_iris[1:4]"
   ]
  },
  {
   "cell_type": "code",
   "execution_count": 5,
   "metadata": {},
   "outputs": [
    {
     "data": {
      "text/plain": [
       "3-element Vector{String}:\n",
       " \"setosa\"\n",
       " \"versicolor\"\n",
       " \"virginica\""
      ]
     },
     "execution_count": 5,
     "metadata": {},
     "output_type": "execute_result"
    }
   ],
   "source": [
    "levels(y_iris)"
   ]
  },
  {
   "cell_type": "markdown",
   "metadata": {},
   "source": [
    "We load a decision tree model, from the package DecisionTree.jl:"
   ]
  },
  {
   "cell_type": "code",
   "execution_count": 6,
   "metadata": {},
   "outputs": [
    {
     "name": "stderr",
     "output_type": "stream",
     "text": [
      "┌ Info: For silent loading, specify `verbosity=0`. \n",
      "└ @ Main /Users/anthony/.julia/packages/MLJModels/38NmP/src/loading.jl:168\n"
     ]
    },
    {
     "name": "stdout",
     "output_type": "stream",
     "text": [
      "import MLJDecisionTreeInterface ✔\n"
     ]
    },
    {
     "data": {
      "text/plain": [
       "DecisionTreeClassifier(\n",
       "    max_depth = -1,\n",
       "    min_samples_leaf = 1,\n",
       "    min_samples_split = 5,\n",
       "    min_purity_increase = 0.0,\n",
       "    n_subfeatures = 0,\n",
       "    post_prune = false,\n",
       "    merge_purity_threshold = 1.0,\n",
       "    display_depth = 5,\n",
       "    rng = Random._GLOBAL_RNG())"
      ]
     },
     "execution_count": 6,
     "metadata": {},
     "output_type": "execute_result"
    }
   ],
   "source": [
    "DecisionTree = @load DecisionTreeClassifier pkg=DecisionTree # model type\n",
    "model = DecisionTree(min_samples_split=5)                    # model instance"
   ]
  },
  {
   "cell_type": "markdown",
   "metadata": {},
   "source": [
    "In MLJ, a *model* is just a container for hyper-parameters of\n",
    "some learning algorithm. It does not store learned parameters."
   ]
  },
  {
   "cell_type": "markdown",
   "metadata": {},
   "source": [
    "Next, we bind the model together with the available data in what's\n",
    "called a *machine*:"
   ]
  },
  {
   "cell_type": "code",
   "execution_count": 7,
   "metadata": {},
   "outputs": [
    {
     "data": {
      "text/plain": [
       "Machine{DecisionTreeClassifier,…} trained 0 times; caches data\n",
       "  model: MLJDecisionTreeInterface.DecisionTreeClassifier\n",
       "  args: \n",
       "    1:\tSource @824 ⏎ `Table{AbstractVector{Continuous}}`\n",
       "    2:\tSource @910 ⏎ `AbstractVector{Multiclass{3}}`\n"
      ]
     },
     "execution_count": 7,
     "metadata": {},
     "output_type": "execute_result"
    }
   ],
   "source": [
    "mach = machine(model, X_iris, y_iris)"
   ]
  },
  {
   "cell_type": "markdown",
   "metadata": {},
   "source": [
    "A machine is essentially just a model (ie, hyper-parameters) plus data, but\n",
    "it additionally stores *learned parameters* (the tree) once it is\n",
    "trained on some view of the data:"
   ]
  },
  {
   "cell_type": "code",
   "execution_count": 8,
   "metadata": {},
   "outputs": [
    {
     "name": "stderr",
     "output_type": "stream",
     "text": [
      "┌ Info: Training Machine{DecisionTreeClassifier,…}.\n",
      "└ @ MLJBase /Users/anthony/.julia/packages/MLJBase/hHa7b/src/machines.jl:464\n"
     ]
    },
    {
     "data": {
      "text/plain": [
       "(tree = Decision Tree\n",
       "Leaves: 5\n",
       "Depth:  3,\n",
       " encoding = Dict{CategoricalArrays.CategoricalValue{String, UInt32}, UInt32}(\"virginica\" => 0x00000003, \"setosa\" => 0x00000001, \"versicolor\" => 0x00000002),\n",
       " features = [:sepal_length, :sepal_width, :petal_length, :petal_width],)"
      ]
     },
     "execution_count": 8,
     "metadata": {},
     "output_type": "execute_result"
    }
   ],
   "source": [
    "train_rows = vcat(1:60, 91:150); # some row indices (observations are rows not columns)\n",
    "fit!(mach, rows=train_rows)\n",
    "fitted_params(mach)"
   ]
  },
  {
   "cell_type": "markdown",
   "metadata": {},
   "source": [
    "A machine stores some other information enabling [warm\n",
    "restart](https://alan-turing-institute.github.io/MLJ.jl/dev/machines/#Warm-restarts)\n",
    "for some models, but we won't go into that here. You are allowed to\n",
    "access and mutate the `model` parameter:"
   ]
  },
  {
   "cell_type": "code",
   "execution_count": 9,
   "metadata": {},
   "outputs": [
    {
     "name": "stderr",
     "output_type": "stream",
     "text": [
      "┌ Info: Updating Machine{DecisionTreeClassifier,…}.\n",
      "└ @ MLJBase /Users/anthony/.julia/packages/MLJBase/hHa7b/src/machines.jl:465\n"
     ]
    },
    {
     "data": {
      "text/plain": [
       "Machine{DecisionTreeClassifier,…} trained 2 times; caches data\n",
       "  model: MLJDecisionTreeInterface.DecisionTreeClassifier\n",
       "  args: \n",
       "    1:\tSource @824 ⏎ `Table{AbstractVector{Continuous}}`\n",
       "    2:\tSource @910 ⏎ `AbstractVector{Multiclass{3}}`\n"
      ]
     },
     "execution_count": 9,
     "metadata": {},
     "output_type": "execute_result"
    }
   ],
   "source": [
    "mach.model.min_samples_split  = 10\n",
    "fit!(mach, rows=train_rows) # re-train with new hyper-parameter"
   ]
  },
  {
   "cell_type": "markdown",
   "metadata": {},
   "source": [
    "Now we can make predictions on some other view of the data, as in"
   ]
  },
  {
   "cell_type": "code",
   "execution_count": 10,
   "metadata": {},
   "outputs": [
    {
     "data": {
      "text/plain": [
       "3-element CategoricalDistributions.UnivariateFiniteVector{Multiclass{3}, String, UInt32, Float64}:\n",
       " UnivariateFinite{Multiclass{3}}(setosa=>0.0, versicolor=>0.0, virginica=>1.0)\n",
       " UnivariateFinite{Multiclass{3}}(setosa=>0.0, versicolor=>1.0, virginica=>0.0)\n",
       " UnivariateFinite{Multiclass{3}}(setosa=>0.0, versicolor=>0.25, virginica=>0.75)"
      ]
     },
     "execution_count": 10,
     "metadata": {},
     "output_type": "execute_result"
    }
   ],
   "source": [
    "predict(mach, rows=71:73)"
   ]
  },
  {
   "cell_type": "markdown",
   "metadata": {},
   "source": [
    "or on completely new data, as in"
   ]
  },
  {
   "cell_type": "code",
   "execution_count": 11,
   "metadata": {},
   "outputs": [
    {
     "data": {
      "text/plain": [
       "2-element CategoricalDistributions.UnivariateFiniteVector{Multiclass{3}, String, UInt32, Float64}:\n",
       " UnivariateFinite{Multiclass{3}}(setosa=>1.0, versicolor=>0.0, virginica=>0.0)\n",
       " UnivariateFinite{Multiclass{3}}(setosa=>0.0, versicolor=>0.25, virginica=>0.75)"
      ]
     },
     "execution_count": 11,
     "metadata": {},
     "output_type": "execute_result"
    }
   ],
   "source": [
    "Xnew = (sepal_length = [5.1, 6.3],\n",
    "        sepal_width = [3.0, 2.5],\n",
    "        petal_length = [1.4, 4.9],\n",
    "        petal_width = [0.3, 1.5])\n",
    "yhat = predict(mach, Xnew)"
   ]
  },
  {
   "cell_type": "markdown",
   "metadata": {},
   "source": [
    "These are probabilistic predictions which can be manipulated using a\n",
    "widely adopted interface defined in the Distributions.jl\n",
    "package. For example, we can get raw probabilities like this:"
   ]
  },
  {
   "cell_type": "code",
   "execution_count": 12,
   "metadata": {},
   "outputs": [
    {
     "data": {
      "text/plain": [
       "2-element Vector{Float64}:\n",
       " 0.0\n",
       " 0.75"
      ]
     },
     "execution_count": 12,
     "metadata": {},
     "output_type": "execute_result"
    }
   ],
   "source": [
    "pdf.(yhat, \"virginica\")"
   ]
  },
  {
   "cell_type": "markdown",
   "metadata": {},
   "source": [
    "We now turn to the Telco dataset."
   ]
  },
  {
   "cell_type": "markdown",
   "metadata": {},
   "source": [
    "## Getting the Telco data"
   ]
  },
  {
   "cell_type": "code",
   "execution_count": 13,
   "metadata": {},
   "outputs": [],
   "source": [
    "import DataFrames"
   ]
  },
  {
   "cell_type": "code",
   "execution_count": 14,
   "metadata": {},
   "outputs": [
    {
     "data": {
      "text/html": [
       "<div class=\"data-frame\"><p>4 rows × 21 columns (omitted printing of 13 columns)</p><table class=\"data-frame\"><thead><tr><th></th><th>customerID</th><th>gender</th><th>SeniorCitizen</th><th>Partner</th><th>Dependents</th><th>tenure</th><th>PhoneService</th><th>MultipleLines</th></tr><tr><th></th><th title=\"String\">String</th><th title=\"String\">String</th><th title=\"Float64\">Float64</th><th title=\"String\">String</th><th title=\"String\">String</th><th title=\"Float64\">Float64</th><th title=\"String\">String</th><th title=\"String\">String</th></tr></thead><tbody><tr><th>1</th><td>7590-VHVEG</td><td>Female</td><td>0.0</td><td>Yes</td><td>No</td><td>1.0</td><td>No</td><td>No phone service</td></tr><tr><th>2</th><td>5575-GNVDE</td><td>Male</td><td>0.0</td><td>No</td><td>No</td><td>34.0</td><td>Yes</td><td>No</td></tr><tr><th>3</th><td>3668-QPYBK</td><td>Male</td><td>0.0</td><td>No</td><td>No</td><td>2.0</td><td>Yes</td><td>No</td></tr><tr><th>4</th><td>7795-CFOCW</td><td>Male</td><td>0.0</td><td>No</td><td>No</td><td>45.0</td><td>No</td><td>No phone service</td></tr></tbody></table></div>"
      ],
      "text/latex": [
       "\\begin{tabular}{r|ccccccccc}\n",
       "\t& customerID & gender & SeniorCitizen & Partner & Dependents & tenure & PhoneService & MultipleLines & \\\\\n",
       "\t\\hline\n",
       "\t& String & String & Float64 & String & String & Float64 & String & String & \\\\\n",
       "\t\\hline\n",
       "\t1 & 7590-VHVEG & Female & 0.0 & Yes & No & 1.0 & No & No phone service & $\\dots$ \\\\\n",
       "\t2 & 5575-GNVDE & Male & 0.0 & No & No & 34.0 & Yes & No & $\\dots$ \\\\\n",
       "\t3 & 3668-QPYBK & Male & 0.0 & No & No & 2.0 & Yes & No & $\\dots$ \\\\\n",
       "\t4 & 7795-CFOCW & Male & 0.0 & No & No & 45.0 & No & No phone service & $\\dots$ \\\\\n",
       "\\end{tabular}\n"
      ],
      "text/plain": [
       "\u001b[1m4×21 DataFrame\u001b[0m\n",
       "\u001b[1m Row \u001b[0m│\u001b[1m customerID \u001b[0m\u001b[1m gender \u001b[0m\u001b[1m SeniorCitizen \u001b[0m\u001b[1m Partner \u001b[0m\u001b[1m Dependents \u001b[0m\u001b[1m tenure  \u001b[0m\u001b[1m PhoneS\u001b[0m ⋯\n",
       "\u001b[1m     \u001b[0m│\u001b[90m String     \u001b[0m\u001b[90m String \u001b[0m\u001b[90m Float64       \u001b[0m\u001b[90m String  \u001b[0m\u001b[90m String     \u001b[0m\u001b[90m Float64 \u001b[0m\u001b[90m String\u001b[0m ⋯\n",
       "─────┼──────────────────────────────────────────────────────────────────────────\n",
       "   1 │ 7590-VHVEG  Female            0.0  Yes      No              1.0  No     ⋯\n",
       "   2 │ 5575-GNVDE  Male              0.0  No       No             34.0  Yes\n",
       "   3 │ 3668-QPYBK  Male              0.0  No       No              2.0  Yes\n",
       "   4 │ 7795-CFOCW  Male              0.0  No       No             45.0  No\n",
       "\u001b[36m                                                              15 columns omitted\u001b[0m"
      ]
     },
     "execution_count": 14,
     "metadata": {},
     "output_type": "execute_result"
    }
   ],
   "source": [
    "data = OpenML.load(42178) # data set from OpenML.org\n",
    "df0 = DataFrames.DataFrame(data)\n",
    "first(df0, 4)"
   ]
  },
  {
   "cell_type": "markdown",
   "metadata": {},
   "source": [
    "The object of this tutorial is to build and evaluate supervised\n",
    "learning models to predict the `:Churn` variable, a binary variable\n",
    "measuring customer retention, based on other variables that are\n",
    "relevant."
   ]
  },
  {
   "cell_type": "markdown",
   "metadata": {},
   "source": [
    "In the table, observations correspond to rows, and features to\n",
    "columns, which is the convention for representing all\n",
    "two-dimensional data in MLJ."
   ]
  },
  {
   "cell_type": "markdown",
   "metadata": {},
   "source": [
    "## Type coercion"
   ]
  },
  {
   "cell_type": "markdown",
   "metadata": {},
   "source": [
    "> Introduces: `scitype`, `schema`, `coerce`"
   ]
  },
  {
   "cell_type": "markdown",
   "metadata": {},
   "source": [
    "A [\"scientific\n",
    "type\"](https://juliaai.github.io/ScientificTypes.jl/dev/) or\n",
    "*scitype* indicates how MLJ will *interpret* data. For example,\n",
    "`typeof(3.14) == Float64`, while `scitype(3.14) == Continuous` and\n",
    "also `scitype(3.14f0) == Continuous`. In MLJ, model data\n",
    "requirements are articulated using scitypes."
   ]
  },
  {
   "cell_type": "markdown",
   "metadata": {},
   "source": [
    "Here are common \"scalar\" scitypes:"
   ]
  },
  {
   "cell_type": "markdown",
   "metadata": {},
   "source": [
    "![](assets/scitypes.png)"
   ]
  },
  {
   "cell_type": "markdown",
   "metadata": {},
   "source": [
    "There are also container scitypes. For example, the scitype of any\n",
    "`N`-dimensional array is `AbstractArray{S, N}`, where `S` is the scitype of the\n",
    "elements:"
   ]
  },
  {
   "cell_type": "code",
   "execution_count": 15,
   "metadata": {},
   "outputs": [
    {
     "data": {
      "text/plain": [
       "AbstractVector{Textual} (alias for AbstractArray{Textual, 1})"
      ]
     },
     "execution_count": 15,
     "metadata": {},
     "output_type": "execute_result"
    }
   ],
   "source": [
    "scitype([\"cat\", \"mouse\", \"dog\"])"
   ]
  },
  {
   "cell_type": "markdown",
   "metadata": {},
   "source": [
    "The `schema` operator summarizes the column scitypes of a table:"
   ]
  },
  {
   "cell_type": "code",
   "execution_count": 16,
   "metadata": {},
   "outputs": [
    {
     "data": {
      "text/html": [
       "<div class=\"data-frame\"><p>21 rows × 3 columns</p><table class=\"data-frame\"><thead><tr><th></th><th>names</th><th>scitypes</th><th>types</th></tr><tr><th></th><th title=\"Symbol\">Symbol</th><th title=\"DataType\">DataType</th><th title=\"DataType\">DataType</th></tr></thead><tbody><tr><th>1</th><td>customerID</td><td>Textual</td><td>String</td></tr><tr><th>2</th><td>gender</td><td>Textual</td><td>String</td></tr><tr><th>3</th><td>SeniorCitizen</td><td>Continuous</td><td>Float64</td></tr><tr><th>4</th><td>Partner</td><td>Textual</td><td>String</td></tr><tr><th>5</th><td>Dependents</td><td>Textual</td><td>String</td></tr><tr><th>6</th><td>tenure</td><td>Continuous</td><td>Float64</td></tr><tr><th>7</th><td>PhoneService</td><td>Textual</td><td>String</td></tr><tr><th>8</th><td>MultipleLines</td><td>Textual</td><td>String</td></tr><tr><th>9</th><td>InternetService</td><td>Textual</td><td>String</td></tr><tr><th>10</th><td>OnlineSecurity</td><td>Textual</td><td>String</td></tr><tr><th>11</th><td>OnlineBackup</td><td>Textual</td><td>String</td></tr><tr><th>12</th><td>DeviceProtection</td><td>Textual</td><td>String</td></tr><tr><th>13</th><td>TechSupport</td><td>Textual</td><td>String</td></tr><tr><th>14</th><td>StreamingTV</td><td>Textual</td><td>String</td></tr><tr><th>15</th><td>StreamingMovies</td><td>Textual</td><td>String</td></tr><tr><th>16</th><td>Contract</td><td>Textual</td><td>String</td></tr><tr><th>17</th><td>PaperlessBilling</td><td>Textual</td><td>String</td></tr><tr><th>18</th><td>PaymentMethod</td><td>Textual</td><td>String</td></tr><tr><th>19</th><td>MonthlyCharges</td><td>Continuous</td><td>Float64</td></tr><tr><th>20</th><td>TotalCharges</td><td>Textual</td><td>String</td></tr><tr><th>21</th><td>Churn</td><td>Textual</td><td>String</td></tr></tbody></table></div>"
      ],
      "text/latex": [
       "\\begin{tabular}{r|ccc}\n",
       "\t& names & scitypes & types\\\\\n",
       "\t\\hline\n",
       "\t& Symbol & DataType & DataType\\\\\n",
       "\t\\hline\n",
       "\t1 & customerID & Textual & String \\\\\n",
       "\t2 & gender & Textual & String \\\\\n",
       "\t3 & SeniorCitizen & Continuous & Float64 \\\\\n",
       "\t4 & Partner & Textual & String \\\\\n",
       "\t5 & Dependents & Textual & String \\\\\n",
       "\t6 & tenure & Continuous & Float64 \\\\\n",
       "\t7 & PhoneService & Textual & String \\\\\n",
       "\t8 & MultipleLines & Textual & String \\\\\n",
       "\t9 & InternetService & Textual & String \\\\\n",
       "\t10 & OnlineSecurity & Textual & String \\\\\n",
       "\t11 & OnlineBackup & Textual & String \\\\\n",
       "\t12 & DeviceProtection & Textual & String \\\\\n",
       "\t13 & TechSupport & Textual & String \\\\\n",
       "\t14 & StreamingTV & Textual & String \\\\\n",
       "\t15 & StreamingMovies & Textual & String \\\\\n",
       "\t16 & Contract & Textual & String \\\\\n",
       "\t17 & PaperlessBilling & Textual & String \\\\\n",
       "\t18 & PaymentMethod & Textual & String \\\\\n",
       "\t19 & MonthlyCharges & Continuous & Float64 \\\\\n",
       "\t20 & TotalCharges & Textual & String \\\\\n",
       "\t21 & Churn & Textual & String \\\\\n",
       "\\end{tabular}\n"
      ],
      "text/plain": [
       "\u001b[1m21×3 DataFrame\u001b[0m\n",
       "\u001b[1m Row \u001b[0m│\u001b[1m names            \u001b[0m\u001b[1m scitypes   \u001b[0m\u001b[1m types    \u001b[0m\n",
       "\u001b[1m     \u001b[0m│\u001b[90m Symbol           \u001b[0m\u001b[90m DataType   \u001b[0m\u001b[90m DataType \u001b[0m\n",
       "─────┼────────────────────────────────────────\n",
       "   1 │ customerID        Textual     String\n",
       "   2 │ gender            Textual     String\n",
       "   3 │ SeniorCitizen     Continuous  Float64\n",
       "   4 │ Partner           Textual     String\n",
       "   5 │ Dependents        Textual     String\n",
       "   6 │ tenure            Continuous  Float64\n",
       "   7 │ PhoneService      Textual     String\n",
       "   8 │ MultipleLines     Textual     String\n",
       "   9 │ InternetService   Textual     String\n",
       "  10 │ OnlineSecurity    Textual     String\n",
       "  11 │ OnlineBackup      Textual     String\n",
       "  12 │ DeviceProtection  Textual     String\n",
       "  13 │ TechSupport       Textual     String\n",
       "  14 │ StreamingTV       Textual     String\n",
       "  15 │ StreamingMovies   Textual     String\n",
       "  16 │ Contract          Textual     String\n",
       "  17 │ PaperlessBilling  Textual     String\n",
       "  18 │ PaymentMethod     Textual     String\n",
       "  19 │ MonthlyCharges    Continuous  Float64\n",
       "  20 │ TotalCharges      Textual     String\n",
       "  21 │ Churn             Textual     String"
      ]
     },
     "execution_count": 16,
     "metadata": {},
     "output_type": "execute_result"
    }
   ],
   "source": [
    "schema(df0) |> DataFrames.DataFrame  # converted to DataFrame for better display"
   ]
  },
  {
   "cell_type": "markdown",
   "metadata": {},
   "source": [
    "All of the fields being interpreted as `Textual` are really\n",
    "something else, either `Multiclass` or, in the case of\n",
    "`:TotalCharges`, `Continuous`. In fact, `:TotalCharges` is\n",
    "mostly floats wrapped as strings. However, it needs special\n",
    "treatment because some elements consist of a single space, \" \",\n",
    "which we'll treat as \"0.0\"."
   ]
  },
  {
   "cell_type": "code",
   "execution_count": 17,
   "metadata": {},
   "outputs": [],
   "source": [
    "fix_blanks(v) = map(v) do x\n",
    "    if x == \" \"\n",
    "        return \"0.0\"\n",
    "    else\n",
    "        return x\n",
    "    end\n",
    "end\n",
    "\n",
    "df0.TotalCharges = fix_blanks(df0.TotalCharges);"
   ]
  },
  {
   "cell_type": "markdown",
   "metadata": {},
   "source": [
    "Coercing the `:TotalCharges` type to ensure a `Continuous` scitype:"
   ]
  },
  {
   "cell_type": "code",
   "execution_count": 18,
   "metadata": {},
   "outputs": [],
   "source": [
    "coerce!(df0, :TotalCharges => Continuous);"
   ]
  },
  {
   "cell_type": "markdown",
   "metadata": {},
   "source": [
    "Coercing all remaining `Textual` data to `Multiclass`:"
   ]
  },
  {
   "cell_type": "code",
   "execution_count": 19,
   "metadata": {},
   "outputs": [],
   "source": [
    "coerce!(df0, Textual => Multiclass);"
   ]
  },
  {
   "cell_type": "markdown",
   "metadata": {},
   "source": [
    "Finally, we'll coerce our target variable `:Churn` to be\n",
    "`OrderedFactor`, rather than `Multiclass`, to enable a reliable\n",
    "interpretation of metrics like \"true positive rate\".  By convention,\n",
    "the first class is the negative one:"
   ]
  },
  {
   "cell_type": "code",
   "execution_count": 20,
   "metadata": {},
   "outputs": [
    {
     "data": {
      "text/plain": [
       "2-element Vector{String}:\n",
       " \"No\"\n",
       " \"Yes\""
      ]
     },
     "execution_count": 20,
     "metadata": {},
     "output_type": "execute_result"
    }
   ],
   "source": [
    "coerce!(df0, :Churn => OrderedFactor)\n",
    "levels(df0.Churn) # to check order"
   ]
  },
  {
   "cell_type": "markdown",
   "metadata": {},
   "source": [
    "Re-inspecting the scitypes:"
   ]
  },
  {
   "cell_type": "code",
   "execution_count": 21,
   "metadata": {},
   "outputs": [
    {
     "data": {
      "text/html": [
       "<div class=\"data-frame\"><p>21 rows × 3 columns</p><table class=\"data-frame\"><thead><tr><th></th><th>names</th><th>scitypes</th><th>types</th></tr><tr><th></th><th title=\"Symbol\">Symbol</th><th title=\"DataType\">DataType</th><th title=\"DataType\">DataType</th></tr></thead><tbody><tr><th>1</th><td>customerID</td><td>Multiclass{7043}</td><td>CategoricalValue{String, UInt32}</td></tr><tr><th>2</th><td>gender</td><td>Multiclass{2}</td><td>CategoricalValue{String, UInt32}</td></tr><tr><th>3</th><td>SeniorCitizen</td><td>Continuous</td><td>Float64</td></tr><tr><th>4</th><td>Partner</td><td>Multiclass{2}</td><td>CategoricalValue{String, UInt32}</td></tr><tr><th>5</th><td>Dependents</td><td>Multiclass{2}</td><td>CategoricalValue{String, UInt32}</td></tr><tr><th>6</th><td>tenure</td><td>Continuous</td><td>Float64</td></tr><tr><th>7</th><td>PhoneService</td><td>Multiclass{2}</td><td>CategoricalValue{String, UInt32}</td></tr><tr><th>8</th><td>MultipleLines</td><td>Multiclass{3}</td><td>CategoricalValue{String, UInt32}</td></tr><tr><th>9</th><td>InternetService</td><td>Multiclass{3}</td><td>CategoricalValue{String, UInt32}</td></tr><tr><th>10</th><td>OnlineSecurity</td><td>Multiclass{3}</td><td>CategoricalValue{String, UInt32}</td></tr><tr><th>11</th><td>OnlineBackup</td><td>Multiclass{3}</td><td>CategoricalValue{String, UInt32}</td></tr><tr><th>12</th><td>DeviceProtection</td><td>Multiclass{3}</td><td>CategoricalValue{String, UInt32}</td></tr><tr><th>13</th><td>TechSupport</td><td>Multiclass{3}</td><td>CategoricalValue{String, UInt32}</td></tr><tr><th>14</th><td>StreamingTV</td><td>Multiclass{3}</td><td>CategoricalValue{String, UInt32}</td></tr><tr><th>15</th><td>StreamingMovies</td><td>Multiclass{3}</td><td>CategoricalValue{String, UInt32}</td></tr><tr><th>16</th><td>Contract</td><td>Multiclass{3}</td><td>CategoricalValue{String, UInt32}</td></tr><tr><th>17</th><td>PaperlessBilling</td><td>Multiclass{2}</td><td>CategoricalValue{String, UInt32}</td></tr><tr><th>18</th><td>PaymentMethod</td><td>Multiclass{4}</td><td>CategoricalValue{String, UInt32}</td></tr><tr><th>19</th><td>MonthlyCharges</td><td>Continuous</td><td>Float64</td></tr><tr><th>20</th><td>TotalCharges</td><td>Continuous</td><td>Float64</td></tr><tr><th>21</th><td>Churn</td><td>OrderedFactor{2}</td><td>CategoricalValue{String, UInt32}</td></tr></tbody></table></div>"
      ],
      "text/latex": [
       "\\begin{tabular}{r|ccc}\n",
       "\t& names & scitypes & types\\\\\n",
       "\t\\hline\n",
       "\t& Symbol & DataType & DataType\\\\\n",
       "\t\\hline\n",
       "\t1 & customerID & Multiclass\\{7043\\} & CategoricalValue\\{String, UInt32\\} \\\\\n",
       "\t2 & gender & Multiclass\\{2\\} & CategoricalValue\\{String, UInt32\\} \\\\\n",
       "\t3 & SeniorCitizen & Continuous & Float64 \\\\\n",
       "\t4 & Partner & Multiclass\\{2\\} & CategoricalValue\\{String, UInt32\\} \\\\\n",
       "\t5 & Dependents & Multiclass\\{2\\} & CategoricalValue\\{String, UInt32\\} \\\\\n",
       "\t6 & tenure & Continuous & Float64 \\\\\n",
       "\t7 & PhoneService & Multiclass\\{2\\} & CategoricalValue\\{String, UInt32\\} \\\\\n",
       "\t8 & MultipleLines & Multiclass\\{3\\} & CategoricalValue\\{String, UInt32\\} \\\\\n",
       "\t9 & InternetService & Multiclass\\{3\\} & CategoricalValue\\{String, UInt32\\} \\\\\n",
       "\t10 & OnlineSecurity & Multiclass\\{3\\} & CategoricalValue\\{String, UInt32\\} \\\\\n",
       "\t11 & OnlineBackup & Multiclass\\{3\\} & CategoricalValue\\{String, UInt32\\} \\\\\n",
       "\t12 & DeviceProtection & Multiclass\\{3\\} & CategoricalValue\\{String, UInt32\\} \\\\\n",
       "\t13 & TechSupport & Multiclass\\{3\\} & CategoricalValue\\{String, UInt32\\} \\\\\n",
       "\t14 & StreamingTV & Multiclass\\{3\\} & CategoricalValue\\{String, UInt32\\} \\\\\n",
       "\t15 & StreamingMovies & Multiclass\\{3\\} & CategoricalValue\\{String, UInt32\\} \\\\\n",
       "\t16 & Contract & Multiclass\\{3\\} & CategoricalValue\\{String, UInt32\\} \\\\\n",
       "\t17 & PaperlessBilling & Multiclass\\{2\\} & CategoricalValue\\{String, UInt32\\} \\\\\n",
       "\t18 & PaymentMethod & Multiclass\\{4\\} & CategoricalValue\\{String, UInt32\\} \\\\\n",
       "\t19 & MonthlyCharges & Continuous & Float64 \\\\\n",
       "\t20 & TotalCharges & Continuous & Float64 \\\\\n",
       "\t21 & Churn & OrderedFactor\\{2\\} & CategoricalValue\\{String, UInt32\\} \\\\\n",
       "\\end{tabular}\n"
      ],
      "text/plain": [
       "\u001b[1m21×3 DataFrame\u001b[0m\n",
       "\u001b[1m Row \u001b[0m│\u001b[1m names            \u001b[0m\u001b[1m scitypes         \u001b[0m\u001b[1m types                            \u001b[0m\n",
       "\u001b[1m     \u001b[0m│\u001b[90m Symbol           \u001b[0m\u001b[90m DataType         \u001b[0m\u001b[90m DataType                         \u001b[0m\n",
       "─────┼──────────────────────────────────────────────────────────────────────\n",
       "   1 │ customerID        Multiclass{7043}  CategoricalValue{String, UInt32}\n",
       "   2 │ gender            Multiclass{2}     CategoricalValue{String, UInt32}\n",
       "   3 │ SeniorCitizen     Continuous        Float64\n",
       "   4 │ Partner           Multiclass{2}     CategoricalValue{String, UInt32}\n",
       "   5 │ Dependents        Multiclass{2}     CategoricalValue{String, UInt32}\n",
       "   6 │ tenure            Continuous        Float64\n",
       "   7 │ PhoneService      Multiclass{2}     CategoricalValue{String, UInt32}\n",
       "   8 │ MultipleLines     Multiclass{3}     CategoricalValue{String, UInt32}\n",
       "   9 │ InternetService   Multiclass{3}     CategoricalValue{String, UInt32}\n",
       "  10 │ OnlineSecurity    Multiclass{3}     CategoricalValue{String, UInt32}\n",
       "  11 │ OnlineBackup      Multiclass{3}     CategoricalValue{String, UInt32}\n",
       "  12 │ DeviceProtection  Multiclass{3}     CategoricalValue{String, UInt32}\n",
       "  13 │ TechSupport       Multiclass{3}     CategoricalValue{String, UInt32}\n",
       "  14 │ StreamingTV       Multiclass{3}     CategoricalValue{String, UInt32}\n",
       "  15 │ StreamingMovies   Multiclass{3}     CategoricalValue{String, UInt32}\n",
       "  16 │ Contract          Multiclass{3}     CategoricalValue{String, UInt32}\n",
       "  17 │ PaperlessBilling  Multiclass{2}     CategoricalValue{String, UInt32}\n",
       "  18 │ PaymentMethod     Multiclass{4}     CategoricalValue{String, UInt32}\n",
       "  19 │ MonthlyCharges    Continuous        Float64\n",
       "  20 │ TotalCharges      Continuous        Float64\n",
       "  21 │ Churn             OrderedFactor{2}  CategoricalValue{String, UInt32}"
      ]
     },
     "execution_count": 21,
     "metadata": {},
     "output_type": "execute_result"
    }
   ],
   "source": [
    "schema(df0) |> DataFrames.DataFrame"
   ]
  },
  {
   "cell_type": "markdown",
   "metadata": {},
   "source": [
    "## Preparing a holdout set for final testing"
   ]
  },
  {
   "cell_type": "markdown",
   "metadata": {},
   "source": [
    "> Introduces: `partition`"
   ]
  },
  {
   "cell_type": "markdown",
   "metadata": {},
   "source": [
    "To reduce training times for the purposes of this tutorial, we're\n",
    "going to dump 90% of observations (after shuffling) and split off\n",
    "30% of the remainder for use as a lock-and-throw-away-the-key\n",
    "holdout set:"
   ]
  },
  {
   "cell_type": "code",
   "execution_count": 22,
   "metadata": {},
   "outputs": [],
   "source": [
    "df, df_test, df_dumped = partition(df0, 0.07, 0.03, # in ratios 7:3:90\n",
    "                                   stratify=df0.Churn,\n",
    "                                   rng=123);"
   ]
  },
  {
   "cell_type": "markdown",
   "metadata": {},
   "source": [
    "The reader interested in including all data can instead do\n",
    "`df, df_test = partition(df0, 0.7, rng=123)`."
   ]
  },
  {
   "cell_type": "markdown",
   "metadata": {},
   "source": [
    "## Splitting data into target and features"
   ]
  },
  {
   "cell_type": "markdown",
   "metadata": {},
   "source": [
    "> Introduces: `unpack`"
   ]
  },
  {
   "cell_type": "markdown",
   "metadata": {},
   "source": [
    "In the following call, the column with name `:Churn` is copied over\n",
    "to a vector `y`, and every remaining column, except `:customerID`\n",
    "(which contains no useful information) goes into a table `X`. Here\n",
    "`:Churn` is the target variable for which we seek predictions, given\n",
    "new versions of the features `X`."
   ]
  },
  {
   "cell_type": "code",
   "execution_count": 23,
   "metadata": {},
   "outputs": [
    {
     "data": {
      "text/plain": [
       "(:gender, :SeniorCitizen, :Partner, :Dependents, :tenure, :PhoneService, :MultipleLines, :InternetService, :OnlineSecurity, :OnlineBackup, :DeviceProtection, :TechSupport, :StreamingTV, :StreamingMovies, :Contract, :PaperlessBilling, :PaymentMethod, :MonthlyCharges, :TotalCharges)"
      ]
     },
     "execution_count": 23,
     "metadata": {},
     "output_type": "execute_result"
    }
   ],
   "source": [
    "const y, X = unpack(df, ==(:Churn), !=(:customerID));\n",
    "schema(X).names"
   ]
  },
  {
   "cell_type": "code",
   "execution_count": 24,
   "metadata": {},
   "outputs": [
    {
     "data": {
      "text/plain": [
       "Symbol[]"
      ]
     },
     "execution_count": 24,
     "metadata": {},
     "output_type": "execute_result"
    }
   ],
   "source": [
    "intersect([:Churn, :customerID], schema(X).names)"
   ]
  },
  {
   "cell_type": "markdown",
   "metadata": {},
   "source": [
    "We'll do the same for the holdout data:"
   ]
  },
  {
   "cell_type": "code",
   "execution_count": 25,
   "metadata": {},
   "outputs": [],
   "source": [
    "const ytest, Xtest = unpack(df_test, ==(:Churn), !=(:customerID));"
   ]
  },
  {
   "cell_type": "markdown",
   "metadata": {},
   "source": [
    "## Loading a model and checking type requirements"
   ]
  },
  {
   "cell_type": "markdown",
   "metadata": {},
   "source": [
    "> Introduces: `@load`, `input_scitype`, `target_scitype`"
   ]
  },
  {
   "cell_type": "markdown",
   "metadata": {},
   "source": [
    "For tools helping us to identify suitable models, see the [Model\n",
    "Search](https://alan-turing-institute.github.io/MLJ.jl/dev/model_search/#model_search)\n",
    "section of the manual. We will build a gradient tree-boosting model,\n",
    "a popular first choice for structured data like we have here. Model\n",
    "code is contained in a third-party package called\n",
    "[EvoTrees.jl](https://github.com/Evovest/EvoTrees.jl) which is\n",
    "loaded as follows:"
   ]
  },
  {
   "cell_type": "code",
   "execution_count": 26,
   "metadata": {},
   "outputs": [
    {
     "name": "stdout",
     "output_type": "stream",
     "text": [
      "import EvoTrees"
     ]
    },
    {
     "name": "stderr",
     "output_type": "stream",
     "text": [
      "┌ Info: For silent loading, specify `verbosity=0`. \n",
      "└ @ Main /Users/anthony/.julia/packages/MLJModels/38NmP/src/loading.jl:168\n",
      "┌ Info: Precompiling EvoTrees [f6006082-12f8-11e9-0c9c-0d5d367ab1e5]\n",
      "└ @ Base loading.jl:1342\n"
     ]
    },
    {
     "name": "stdout",
     "output_type": "stream",
     "text": [
      " ✔\n"
     ]
    },
    {
     "data": {
      "text/plain": [
       "EvoTrees.EvoTreeClassifier"
      ]
     },
     "execution_count": 26,
     "metadata": {},
     "output_type": "execute_result"
    }
   ],
   "source": [
    "Booster = @load EvoTreeClassifier pkg=EvoTrees"
   ]
  },
  {
   "cell_type": "markdown",
   "metadata": {},
   "source": [
    "Recall that a *model* is just a container for some algorithm's\n",
    "hyper-parameters. Let's create a `Booster` with default values for\n",
    "the hyper-parameters:"
   ]
  },
  {
   "cell_type": "code",
   "execution_count": 27,
   "metadata": {},
   "outputs": [
    {
     "data": {
      "text/plain": [
       "EvoTreeClassifier(\n",
       "    loss = EvoTrees.Softmax(),\n",
       "    nrounds = 10,\n",
       "    λ = 0.0,\n",
       "    γ = 0.0,\n",
       "    η = 0.1,\n",
       "    max_depth = 5,\n",
       "    min_weight = 1.0,\n",
       "    rowsample = 1.0,\n",
       "    colsample = 1.0,\n",
       "    nbins = 64,\n",
       "    α = 0.5,\n",
       "    metric = :mlogloss,\n",
       "    rng = MersenneTwister(123),\n",
       "    device = \"cpu\")"
      ]
     },
     "execution_count": 27,
     "metadata": {},
     "output_type": "execute_result"
    }
   ],
   "source": [
    "booster = Booster()"
   ]
  },
  {
   "cell_type": "markdown",
   "metadata": {},
   "source": [
    "This model is appropriate for the kind of target variable we have because of\n",
    "the following passing test:"
   ]
  },
  {
   "cell_type": "code",
   "execution_count": 28,
   "metadata": {},
   "outputs": [
    {
     "data": {
      "text/plain": [
       "true"
      ]
     },
     "execution_count": 28,
     "metadata": {},
     "output_type": "execute_result"
    }
   ],
   "source": [
    "scitype(y) <: target_scitype(booster)"
   ]
  },
  {
   "cell_type": "markdown",
   "metadata": {},
   "source": [
    "However, our features `X` cannot be directly used with `booster`:"
   ]
  },
  {
   "cell_type": "code",
   "execution_count": 29,
   "metadata": {},
   "outputs": [
    {
     "data": {
      "text/plain": [
       "false"
      ]
     },
     "execution_count": 29,
     "metadata": {},
     "output_type": "execute_result"
    }
   ],
   "source": [
    "scitype(X) <: input_scitype(booster)"
   ]
  },
  {
   "cell_type": "markdown",
   "metadata": {},
   "source": [
    "As it turns out, this is because `booster`, like the majority of MLJ\n",
    "supervised models, expects the features to be `Continuous`. (With\n",
    "some experience, this can be gleaned from `input_scitype(booster)`.)\n",
    "So we need categorical feature encoding, discussed next."
   ]
  },
  {
   "cell_type": "markdown",
   "metadata": {},
   "source": [
    "## Building a model pipeline to incorporate feature encoding"
   ]
  },
  {
   "cell_type": "markdown",
   "metadata": {},
   "source": [
    "> Introduces: `ContinuousEncoder`, pipeline operator `|>`"
   ]
  },
  {
   "cell_type": "markdown",
   "metadata": {},
   "source": [
    "The built-in `ContinuousEncoder` model transforms an arbitrary table\n",
    "to a table whose features are all `Continuous` (dropping any fields\n",
    "it does not know how to encode). In particular, all `Multiclass`\n",
    "features are one-hot encoded."
   ]
  },
  {
   "cell_type": "markdown",
   "metadata": {},
   "source": [
    "A *pipeline* is a stand-alone model that internally combines one or\n",
    "more models in a linear (non-branching) pipeline. Here's a pipeline\n",
    "that adds the `ContinuousEncoder` as a pre-processor to the\n",
    "gradient tree-boosting model above:"
   ]
  },
  {
   "cell_type": "code",
   "execution_count": 30,
   "metadata": {},
   "outputs": [
    {
     "data": {
      "text/plain": [
       "ProbabilisticPipeline(\n",
       "    continuous_encoder = ContinuousEncoder(\n",
       "            drop_last = false,\n",
       "            one_hot_ordered_factors = false),\n",
       "    evo_tree_classifier = EvoTreeClassifier(\n",
       "            loss = EvoTrees.Softmax(),\n",
       "            nrounds = 10,\n",
       "            λ = 0.0,\n",
       "            γ = 0.0,\n",
       "            η = 0.1,\n",
       "            max_depth = 5,\n",
       "            min_weight = 1.0,\n",
       "            rowsample = 1.0,\n",
       "            colsample = 1.0,\n",
       "            nbins = 64,\n",
       "            α = 0.5,\n",
       "            metric = :mlogloss,\n",
       "            rng = MersenneTwister(123),\n",
       "            device = \"cpu\"),\n",
       "    cache = true)"
      ]
     },
     "execution_count": 30,
     "metadata": {},
     "output_type": "execute_result"
    }
   ],
   "source": [
    "pipe = ContinuousEncoder() |> booster"
   ]
  },
  {
   "cell_type": "markdown",
   "metadata": {},
   "source": [
    "Note that the component models appear as hyper-parameters of\n",
    "`pipe`. Pipelines are an implementation of a more general [model\n",
    "composition](https://alan-turing-institute.github.io/MLJ.jl/dev/composing_models/#Composing-Models)\n",
    "interface provided by MLJ that advanced users may want to learn about."
   ]
  },
  {
   "cell_type": "markdown",
   "metadata": {},
   "source": [
    "From the above display, we see that component model hyper-parameters\n",
    "are now *nested*, but they are still accessible (important in hyper-parameter\n",
    "optimization):"
   ]
  },
  {
   "cell_type": "code",
   "execution_count": 31,
   "metadata": {},
   "outputs": [
    {
     "data": {
      "text/plain": [
       "5"
      ]
     },
     "execution_count": 31,
     "metadata": {},
     "output_type": "execute_result"
    }
   ],
   "source": [
    "pipe.evo_tree_classifier.max_depth"
   ]
  },
  {
   "cell_type": "markdown",
   "metadata": {},
   "source": [
    "## Evaluating the pipeline model's performance"
   ]
  },
  {
   "cell_type": "markdown",
   "metadata": {},
   "source": [
    "> Introduces: `measures` (function), **measures:** `brier_loss`, `auc`, `accuracy`;\n",
    "> `machine`, `fit!`, `predict`, `fitted_params`, `report`, `roc`, **resampling strategy** `StratifiedCV`, `evaluate`, `FeatureSelector`"
   ]
  },
  {
   "cell_type": "markdown",
   "metadata": {},
   "source": [
    "Without touching our test set `Xtest`, `ytest`, we will estimate the\n",
    "performance of our pipeline model, with default hyper-parameters, in\n",
    "two different ways:"
   ]
  },
  {
   "cell_type": "markdown",
   "metadata": {},
   "source": [
    "**Evaluating by hand.** First, we'll do this \"by hand\" using the `fit!` and `predict`\n",
    "workflow illustrated for the iris data set above, using a\n",
    "holdout resampling strategy. At the same time we'll see how to\n",
    "generate a **confusion matrix**, **ROC curve**, and inspect\n",
    "**feature importances**."
   ]
  },
  {
   "cell_type": "markdown",
   "metadata": {},
   "source": [
    "**Automated performance evaluation.** Next we'll apply the more\n",
    "typical and convenient `evaluate` workflow, but using `StratifiedCV`\n",
    "(stratified cross-validation) which is more informative."
   ]
  },
  {
   "cell_type": "markdown",
   "metadata": {},
   "source": [
    "In any case, we need to choose some measures (metrics) to quantify\n",
    "the performance of our model. For a complete list of measures, one\n",
    "does `measures()`. Or we also can do:"
   ]
  },
  {
   "cell_type": "code",
   "execution_count": 32,
   "metadata": {},
   "outputs": [
    {
     "data": {
      "text/plain": [
       "2-element Vector{NamedTuple{(:name, :instances, :human_name, :target_scitype, :supports_weights, :supports_class_weights, :prediction_type, :orientation, :reports_each_observation, :aggregation, :is_feature_dependent, :docstring, :distribution_type), T} where T<:Tuple}:\n",
       " (name = BrierLoss, instances = [brier_loss], ...)\n",
       " (name = BrierScore, instances = [brier_score], ...)"
      ]
     },
     "execution_count": 32,
     "metadata": {},
     "output_type": "execute_result"
    }
   ],
   "source": [
    "measures(\"Brier\")"
   ]
  },
  {
   "cell_type": "markdown",
   "metadata": {},
   "source": [
    "We will be primarily using `brier_loss`, but also `auc` (area under\n",
    "the ROC curve) and `accuracy`."
   ]
  },
  {
   "cell_type": "markdown",
   "metadata": {},
   "source": [
    "### Evaluating by hand (with a holdout set)"
   ]
  },
  {
   "cell_type": "markdown",
   "metadata": {},
   "source": [
    "Our pipeline model can be trained just like the decision tree model\n",
    "we built for the iris data set. Binding all non-test data to the\n",
    "pipeline model:"
   ]
  },
  {
   "cell_type": "code",
   "execution_count": 33,
   "metadata": {},
   "outputs": [
    {
     "data": {
      "text/plain": [
       "Machine{ProbabilisticPipeline{NamedTuple{,…},…},…} trained 0 times; caches data\n",
       "  model: MLJBase.ProbabilisticPipeline{NamedTuple{(:continuous_encoder, :evo_tree_classifier), Tuple{Unsupervised, Probabilistic}}, MLJModelInterface.predict}\n",
       "  args: \n",
       "    1:\tSource @237 ⏎ `Table{Union{AbstractVector{Continuous}, AbstractVector{Multiclass{2}}, AbstractVector{Multiclass{4}}, AbstractVector{Multiclass{3}}}}`\n",
       "    2:\tSource @039 ⏎ `AbstractVector{OrderedFactor{2}}`\n"
      ]
     },
     "execution_count": 33,
     "metadata": {},
     "output_type": "execute_result"
    }
   ],
   "source": [
    "mach_pipe = machine(pipe, X, y)"
   ]
  },
  {
   "cell_type": "markdown",
   "metadata": {},
   "source": [
    "We already encountered the `partition` method above. Here we apply\n",
    "it to row indices, instead of data containers, as `fit!` and\n",
    "`predict` only need a *view* of the data to work."
   ]
  },
  {
   "cell_type": "code",
   "execution_count": 34,
   "metadata": {},
   "outputs": [
    {
     "name": "stderr",
     "output_type": "stream",
     "text": [
      "┌ Info: Training Machine{ProbabilisticPipeline{NamedTuple{,…},…},…}.\n",
      "└ @ MLJBase /Users/anthony/.julia/packages/MLJBase/hHa7b/src/machines.jl:464\n",
      "┌ Info: Training Machine{ContinuousEncoder,…}.\n",
      "└ @ MLJBase /Users/anthony/.julia/packages/MLJBase/hHa7b/src/machines.jl:464\n",
      "┌ Info: Training Machine{EvoTreeClassifier{Float64,…},…}.\n",
      "└ @ MLJBase /Users/anthony/.julia/packages/MLJBase/hHa7b/src/machines.jl:464\n"
     ]
    },
    {
     "data": {
      "text/plain": [
       "Machine{ProbabilisticPipeline{NamedTuple{,…},…},…} trained 1 time; caches data\n",
       "  model: MLJBase.ProbabilisticPipeline{NamedTuple{(:continuous_encoder, :evo_tree_classifier), Tuple{Unsupervised, Probabilistic}}, MLJModelInterface.predict}\n",
       "  args: \n",
       "    1:\tSource @237 ⏎ `Table{Union{AbstractVector{Continuous}, AbstractVector{Multiclass{2}}, AbstractVector{Multiclass{4}}, AbstractVector{Multiclass{3}}}}`\n",
       "    2:\tSource @039 ⏎ `AbstractVector{OrderedFactor{2}}`\n"
      ]
     },
     "execution_count": 34,
     "metadata": {},
     "output_type": "execute_result"
    }
   ],
   "source": [
    "train, validation = partition(1:length(y), 0.7)\n",
    "fit!(mach_pipe, rows=train)"
   ]
  },
  {
   "cell_type": "markdown",
   "metadata": {},
   "source": [
    "We note in passing that we can access two kinds of information from a trained machine:"
   ]
  },
  {
   "cell_type": "markdown",
   "metadata": {},
   "source": [
    "- The **learned parameters** (eg, coefficients of a linear model): We use `fitted_params(mach_pipe)`\n",
    "- Other **by-products of training** (eg, feature importances): We use `report(mach_pipe)`"
   ]
  },
  {
   "cell_type": "code",
   "execution_count": 35,
   "metadata": {},
   "outputs": [
    {
     "data": {
      "text/plain": [
       "(:evo_tree_classifier, :continuous_encoder, :machines, :fitted_params_given_machine)"
      ]
     },
     "execution_count": 35,
     "metadata": {},
     "output_type": "execute_result"
    }
   ],
   "source": [
    "fp = fitted_params(mach_pipe);\n",
    "keys(fp)"
   ]
  },
  {
   "cell_type": "markdown",
   "metadata": {},
   "source": [
    "For example, we can check that the encoder did not actually drop any features:"
   ]
  },
  {
   "cell_type": "code",
   "execution_count": 36,
   "metadata": {},
   "outputs": [
    {
     "data": {
      "text/plain": [
       "true"
      ]
     },
     "execution_count": 36,
     "metadata": {},
     "output_type": "execute_result"
    }
   ],
   "source": [
    "Set(fp.continuous_encoder.features_to_keep) == Set(schema(X).names)"
   ]
  },
  {
   "cell_type": "markdown",
   "metadata": {},
   "source": [
    "And, from the report, extract feature importances:"
   ]
  },
  {
   "cell_type": "code",
   "execution_count": 37,
   "metadata": {},
   "outputs": [
    {
     "data": {
      "text/plain": [
       "(:feature_importances,)"
      ]
     },
     "execution_count": 37,
     "metadata": {},
     "output_type": "execute_result"
    }
   ],
   "source": [
    "rpt = report(mach_pipe)\n",
    "keys(rpt.evo_tree_classifier)"
   ]
  },
  {
   "cell_type": "code",
   "execution_count": 38,
   "metadata": {},
   "outputs": [
    {
     "data": {
      "text/html": [
       "<div class=\"data-frame\"><p>45 rows × 2 columns</p><table class=\"data-frame\"><thead><tr><th></th><th>feature</th><th>importance</th></tr><tr><th></th><th title=\"Symbol\">Symbol</th><th title=\"Float64\">Float64</th></tr></thead><tbody><tr><th>1</th><td>tenure</td><td>0.339006</td></tr><tr><th>2</th><td>MonthlyCharges</td><td>0.179065</td></tr><tr><th>3</th><td>Contract__Month-to-month</td><td>0.143517</td></tr><tr><th>4</th><td>TotalCharges</td><td>0.0808519</td></tr><tr><th>5</th><td>PaymentMethod__Bank transfer (automatic)</td><td>0.0332562</td></tr><tr><th>6</th><td>SeniorCitizen</td><td>0.0327449</td></tr><tr><th>7</th><td>TechSupport__No</td><td>0.0301126</td></tr><tr><th>8</th><td>PaperlessBilling__No</td><td>0.0271853</td></tr><tr><th>9</th><td>StreamingMovies__Yes</td><td>0.0182164</td></tr><tr><th>10</th><td>Dependents__No</td><td>0.017089</td></tr><tr><th>11</th><td>PaperlessBilling__Yes</td><td>0.0135949</td></tr><tr><th>12</th><td>gender__Female</td><td>0.0122897</td></tr><tr><th>13</th><td>DeviceProtection__No</td><td>0.00952897</td></tr><tr><th>14</th><td>Dependents__Yes</td><td>0.00872813</td></tr><tr><th>15</th><td>OnlineBackup__Yes</td><td>0.0077387</td></tr><tr><th>16</th><td>StreamingMovies__No</td><td>0.00751297</td></tr><tr><th>17</th><td>TechSupport__Yes</td><td>0.00745764</td></tr><tr><th>18</th><td>OnlineSecurity__No</td><td>0.00729202</td></tr><tr><th>19</th><td>DeviceProtection__Yes</td><td>0.00673942</td></tr><tr><th>20</th><td>Partner__Yes</td><td>0.00659092</td></tr><tr><th>21</th><td>OnlineBackup__No</td><td>0.00436309</td></tr><tr><th>22</th><td>Partner__No</td><td>0.00271873</td></tr><tr><th>23</th><td>Contract__Two year</td><td>0.0014937</td></tr><tr><th>24</th><td>Contract__One year</td><td>0.00143396</td></tr><tr><th>25</th><td>gender__Male</td><td>0.00139943</td></tr><tr><th>26</th><td>InternetService__DSL</td><td>7.35606e-5</td></tr><tr><th>27</th><td>OnlineSecurity__No internet service</td><td>0.0</td></tr><tr><th>28</th><td>PaymentMethod__Mailed check</td><td>0.0</td></tr><tr><th>29</th><td>PaymentMethod__Electronic check</td><td>0.0</td></tr><tr><th>30</th><td>OnlineSecurity__Yes</td><td>0.0</td></tr><tr><th>&vellip;</th><td>&vellip;</td><td>&vellip;</td></tr></tbody></table></div>"
      ],
      "text/latex": [
       "\\begin{tabular}{r|cc}\n",
       "\t& feature & importance\\\\\n",
       "\t\\hline\n",
       "\t& Symbol & Float64\\\\\n",
       "\t\\hline\n",
       "\t1 & tenure & 0.339006 \\\\\n",
       "\t2 & MonthlyCharges & 0.179065 \\\\\n",
       "\t3 & Contract\\_\\_Month-to-month & 0.143517 \\\\\n",
       "\t4 & TotalCharges & 0.0808519 \\\\\n",
       "\t5 & PaymentMethod\\_\\_Bank transfer (automatic) & 0.0332562 \\\\\n",
       "\t6 & SeniorCitizen & 0.0327449 \\\\\n",
       "\t7 & TechSupport\\_\\_No & 0.0301126 \\\\\n",
       "\t8 & PaperlessBilling\\_\\_No & 0.0271853 \\\\\n",
       "\t9 & StreamingMovies\\_\\_Yes & 0.0182164 \\\\\n",
       "\t10 & Dependents\\_\\_No & 0.017089 \\\\\n",
       "\t11 & PaperlessBilling\\_\\_Yes & 0.0135949 \\\\\n",
       "\t12 & gender\\_\\_Female & 0.0122897 \\\\\n",
       "\t13 & DeviceProtection\\_\\_No & 0.00952897 \\\\\n",
       "\t14 & Dependents\\_\\_Yes & 0.00872813 \\\\\n",
       "\t15 & OnlineBackup\\_\\_Yes & 0.0077387 \\\\\n",
       "\t16 & StreamingMovies\\_\\_No & 0.00751297 \\\\\n",
       "\t17 & TechSupport\\_\\_Yes & 0.00745764 \\\\\n",
       "\t18 & OnlineSecurity\\_\\_No & 0.00729202 \\\\\n",
       "\t19 & DeviceProtection\\_\\_Yes & 0.00673942 \\\\\n",
       "\t20 & Partner\\_\\_Yes & 0.00659092 \\\\\n",
       "\t21 & OnlineBackup\\_\\_No & 0.00436309 \\\\\n",
       "\t22 & Partner\\_\\_No & 0.00271873 \\\\\n",
       "\t23 & Contract\\_\\_Two year & 0.0014937 \\\\\n",
       "\t24 & Contract\\_\\_One year & 0.00143396 \\\\\n",
       "\t25 & gender\\_\\_Male & 0.00139943 \\\\\n",
       "\t26 & InternetService\\_\\_DSL & 7.35606e-5 \\\\\n",
       "\t27 & OnlineSecurity\\_\\_No internet service & 0.0 \\\\\n",
       "\t28 & PaymentMethod\\_\\_Mailed check & 0.0 \\\\\n",
       "\t29 & PaymentMethod\\_\\_Electronic check & 0.0 \\\\\n",
       "\t30 & OnlineSecurity\\_\\_Yes & 0.0 \\\\\n",
       "\t$\\dots$ & $\\dots$ & $\\dots$ \\\\\n",
       "\\end{tabular}\n"
      ],
      "text/plain": [
       "\u001b[1m45×2 DataFrame\u001b[0m\n",
       "\u001b[1m Row \u001b[0m│\u001b[1m feature                           \u001b[0m\u001b[1m importance \u001b[0m\n",
       "\u001b[1m     \u001b[0m│\u001b[90m Symbol                            \u001b[0m\u001b[90m Float64    \u001b[0m\n",
       "─────┼───────────────────────────────────────────────\n",
       "   1 │ tenure                             0.339006\n",
       "   2 │ MonthlyCharges                     0.179065\n",
       "   3 │ Contract__Month-to-month           0.143517\n",
       "   4 │ TotalCharges                       0.0808519\n",
       "   5 │ PaymentMethod__Bank transfer (au…  0.0332562\n",
       "   6 │ SeniorCitizen                      0.0327449\n",
       "   7 │ TechSupport__No                    0.0301126\n",
       "   8 │ PaperlessBilling__No               0.0271853\n",
       "   9 │ StreamingMovies__Yes               0.0182164\n",
       "  10 │ Dependents__No                     0.017089\n",
       "  11 │ PaperlessBilling__Yes              0.0135949\n",
       "  ⋮  │                 ⋮                      ⋮\n",
       "  36 │ PhoneService__Yes                  0.0\n",
       "  37 │ DeviceProtection__No internet se…  0.0\n",
       "  38 │ StreamingTV__No internet service   0.0\n",
       "  39 │ StreamingMovies__No internet ser…  0.0\n",
       "  40 │ TechSupport__No internet service   0.0\n",
       "  41 │ StreamingTV__No                    0.0\n",
       "  42 │ MultipleLines__No                  0.0\n",
       "  43 │ PaymentMethod__Credit card (auto…  0.0\n",
       "  44 │ MultipleLines__Yes                 0.0\n",
       "  45 │ MultipleLines__No phone service    0.0\n",
       "\u001b[36m                                      24 rows omitted\u001b[0m"
      ]
     },
     "execution_count": 38,
     "metadata": {},
     "output_type": "execute_result"
    }
   ],
   "source": [
    "fi = rpt.evo_tree_classifier.feature_importances\n",
    "feature_importance_table =\n",
    "    (feature=Symbol.(first.(fi)), importance=last.(fi)) |> DataFrames.DataFrame"
   ]
  },
  {
   "cell_type": "markdown",
   "metadata": {},
   "source": [
    "For models not reporting feature importances, we recommend the\n",
    "[Shapley.jl](https://expandingman.gitlab.io/Shapley.jl/) package."
   ]
  },
  {
   "cell_type": "markdown",
   "metadata": {},
   "source": [
    "Returning to predictions and evaluations of our measures:"
   ]
  },
  {
   "cell_type": "code",
   "execution_count": 39,
   "metadata": {},
   "outputs": [
    {
     "name": "stderr",
     "output_type": "stream",
     "text": [
      "┌ Info: Measurements\n",
      "│   brier_loss(ŷ, y[validation]) |> mean = 0.2700436048904324\n",
      "│   auc(ŷ, y[validation]) = 0.8350461133069829\n",
      "│   accuracy(mode.(ŷ), y[validation]) = 0.8108108108108107\n",
      "└ @ Main In[39]:2\n"
     ]
    }
   ],
   "source": [
    "ŷ = predict(mach_pipe, rows=validation);\n",
    "@info(\"Measurements\",\n",
    "      brier_loss(ŷ, y[validation]) |> mean,\n",
    "      auc(ŷ, y[validation]),\n",
    "      accuracy(mode.(ŷ), y[validation])\n",
    "      )"
   ]
  },
  {
   "cell_type": "markdown",
   "metadata": {},
   "source": [
    "Note that we need `mode` in the last case because `accuracy` expects\n",
    "point predictions, not probabilistic ones. (One can alternatively\n",
    "use `predict_mode` to generate the predictions.)"
   ]
  },
  {
   "cell_type": "markdown",
   "metadata": {},
   "source": [
    "While we're here, lets also generate a **confusion matrix** and\n",
    "[receiver-operator\n",
    "characteristic](https://en.wikipedia.org/wiki/Receiver_operating_characteristic)\n",
    "(ROC):"
   ]
  },
  {
   "cell_type": "code",
   "execution_count": 40,
   "metadata": {},
   "outputs": [
    {
     "data": {
      "text/plain": [
       "              ┌───────────────────────────┐\n",
       "              │       Ground Truth        │\n",
       "┌─────────────┼─────────────┬─────────────┤\n",
       "│  Predicted  │     No      │     Yes     │\n",
       "├─────────────┼─────────────┼─────────────┤\n",
       "│     No      │     101     │     14      │\n",
       "├─────────────┼─────────────┼─────────────┤\n",
       "│     Yes     │     14      │     19      │\n",
       "└─────────────┴─────────────┴─────────────┘\n"
      ]
     },
     "execution_count": 40,
     "metadata": {},
     "output_type": "execute_result"
    }
   ],
   "source": [
    "confmat(mode.(ŷ), y[validation])"
   ]
  },
  {
   "cell_type": "markdown",
   "metadata": {},
   "source": [
    "Note: Importing the plotting package and calling the plotting\n",
    "functions for the first time can take a minute or so."
   ]
  },
  {
   "cell_type": "code",
   "execution_count": 41,
   "metadata": {},
   "outputs": [
    {
     "name": "stderr",
     "output_type": "stream",
     "text": [
      "┌ Info: Precompiling Plots [91a5bcdd-55d7-5caf-9e0b-520d859cae80]\n",
      "└ @ Base loading.jl:1342\n"
     ]
    }
   ],
   "source": [
    "using Plots"
   ]
  },
  {
   "cell_type": "code",
   "execution_count": 42,
   "metadata": {},
   "outputs": [
    {
     "name": "stderr",
     "output_type": "stream",
     "text": [
      "┌ Info: Precompiling GR_jll [d2c73de3-f751-5644-a686-071e5b155ba9]\n",
      "└ @ Base loading.jl:1342\n"
     ]
    },
    {
     "data": {
      "image/svg+xml": [
       "<?xml version=\"1.0\" encoding=\"utf-8\"?>\n",
       "<svg xmlns=\"http://www.w3.org/2000/svg\" xmlns:xlink=\"http://www.w3.org/1999/xlink\" width=\"600\" height=\"400\" viewBox=\"0 0 2400 1600\">\n",
       "<defs>\n",
       "  <clipPath id=\"clip400\">\n",
       "    <rect x=\"0\" y=\"0\" width=\"2400\" height=\"1600\"/>\n",
       "  </clipPath>\n",
       "</defs>\n",
       "<path clip-path=\"url(#clip400)\" d=\"\n",
       "M0 1600 L2400 1600 L2400 0 L0 0  Z\n",
       "  \" fill=\"#ffffff\" fill-rule=\"evenodd\" fill-opacity=\"1\"/>\n",
       "<defs>\n",
       "  <clipPath id=\"clip401\">\n",
       "    <rect x=\"480\" y=\"0\" width=\"1681\" height=\"1600\"/>\n",
       "  </clipPath>\n",
       "</defs>\n",
       "<path clip-path=\"url(#clip400)\" d=\"\n",
       "M249.542 1423.18 L2352.76 1423.18 L2352.76 47.2441 L249.542 47.2441  Z\n",
       "  \" fill=\"#ffffff\" fill-rule=\"evenodd\" fill-opacity=\"1\"/>\n",
       "<defs>\n",
       "  <clipPath id=\"clip402\">\n",
       "    <rect x=\"249\" y=\"47\" width=\"2104\" height=\"1377\"/>\n",
       "  </clipPath>\n",
       "</defs>\n",
       "<polyline clip-path=\"url(#clip402)\" style=\"stroke:#000000; stroke-linecap:butt; stroke-linejoin:round; stroke-width:2; stroke-opacity:0.1; fill:none\" points=\"\n",
       "  309.067,1423.18 309.067,47.2441 \n",
       "  \"/>\n",
       "<polyline clip-path=\"url(#clip402)\" style=\"stroke:#000000; stroke-linecap:butt; stroke-linejoin:round; stroke-width:2; stroke-opacity:0.1; fill:none\" points=\"\n",
       "  805.108,1423.18 805.108,47.2441 \n",
       "  \"/>\n",
       "<polyline clip-path=\"url(#clip402)\" style=\"stroke:#000000; stroke-linecap:butt; stroke-linejoin:round; stroke-width:2; stroke-opacity:0.1; fill:none\" points=\"\n",
       "  1301.15,1423.18 1301.15,47.2441 \n",
       "  \"/>\n",
       "<polyline clip-path=\"url(#clip402)\" style=\"stroke:#000000; stroke-linecap:butt; stroke-linejoin:round; stroke-width:2; stroke-opacity:0.1; fill:none\" points=\"\n",
       "  1797.19,1423.18 1797.19,47.2441 \n",
       "  \"/>\n",
       "<polyline clip-path=\"url(#clip402)\" style=\"stroke:#000000; stroke-linecap:butt; stroke-linejoin:round; stroke-width:2; stroke-opacity:0.1; fill:none\" points=\"\n",
       "  2293.23,1423.18 2293.23,47.2441 \n",
       "  \"/>\n",
       "<polyline clip-path=\"url(#clip400)\" style=\"stroke:#000000; stroke-linecap:butt; stroke-linejoin:round; stroke-width:4; stroke-opacity:1; fill:none\" points=\"\n",
       "  249.542,1423.18 2352.76,1423.18 \n",
       "  \"/>\n",
       "<polyline clip-path=\"url(#clip400)\" style=\"stroke:#000000; stroke-linecap:butt; stroke-linejoin:round; stroke-width:4; stroke-opacity:1; fill:none\" points=\"\n",
       "  309.067,1423.18 309.067,1404.28 \n",
       "  \"/>\n",
       "<polyline clip-path=\"url(#clip400)\" style=\"stroke:#000000; stroke-linecap:butt; stroke-linejoin:round; stroke-width:4; stroke-opacity:1; fill:none\" points=\"\n",
       "  805.108,1423.18 805.108,1404.28 \n",
       "  \"/>\n",
       "<polyline clip-path=\"url(#clip400)\" style=\"stroke:#000000; stroke-linecap:butt; stroke-linejoin:round; stroke-width:4; stroke-opacity:1; fill:none\" points=\"\n",
       "  1301.15,1423.18 1301.15,1404.28 \n",
       "  \"/>\n",
       "<polyline clip-path=\"url(#clip400)\" style=\"stroke:#000000; stroke-linecap:butt; stroke-linejoin:round; stroke-width:4; stroke-opacity:1; fill:none\" points=\"\n",
       "  1797.19,1423.18 1797.19,1404.28 \n",
       "  \"/>\n",
       "<polyline clip-path=\"url(#clip400)\" style=\"stroke:#000000; stroke-linecap:butt; stroke-linejoin:round; stroke-width:4; stroke-opacity:1; fill:none\" points=\"\n",
       "  2293.23,1423.18 2293.23,1404.28 \n",
       "  \"/>\n",
       "<path clip-path=\"url(#clip400)\" d=\"M271.37 1454.1 Q267.759 1454.1 265.931 1457.66 Q264.125 1461.2 264.125 1468.33 Q264.125 1475.44 265.931 1479.01 Q267.759 1482.55 271.37 1482.55 Q275.005 1482.55 276.81 1479.01 Q278.639 1475.44 278.639 1468.33 Q278.639 1461.2 276.81 1457.66 Q275.005 1454.1 271.37 1454.1 M271.37 1450.39 Q277.181 1450.39 280.236 1455 Q283.315 1459.58 283.315 1468.33 Q283.315 1477.06 280.236 1481.67 Q277.181 1486.25 271.37 1486.25 Q265.56 1486.25 262.482 1481.67 Q259.426 1477.06 259.426 1468.33 Q259.426 1459.58 262.482 1455 Q265.56 1450.39 271.37 1450.39 Z\" fill=\"#000000\" fill-rule=\"evenodd\" fill-opacity=\"1\" /><path clip-path=\"url(#clip400)\" d=\"M291.532 1479.7 L296.417 1479.7 L296.417 1485.58 L291.532 1485.58 L291.532 1479.7 Z\" fill=\"#000000\" fill-rule=\"evenodd\" fill-opacity=\"1\" /><path clip-path=\"url(#clip400)\" d=\"M316.602 1454.1 Q312.991 1454.1 311.162 1457.66 Q309.356 1461.2 309.356 1468.33 Q309.356 1475.44 311.162 1479.01 Q312.991 1482.55 316.602 1482.55 Q320.236 1482.55 322.041 1479.01 Q323.87 1475.44 323.87 1468.33 Q323.87 1461.2 322.041 1457.66 Q320.236 1454.1 316.602 1454.1 M316.602 1450.39 Q322.412 1450.39 325.467 1455 Q328.546 1459.58 328.546 1468.33 Q328.546 1477.06 325.467 1481.67 Q322.412 1486.25 316.602 1486.25 Q310.791 1486.25 307.713 1481.67 Q304.657 1477.06 304.657 1468.33 Q304.657 1459.58 307.713 1455 Q310.791 1450.39 316.602 1450.39 Z\" fill=\"#000000\" fill-rule=\"evenodd\" fill-opacity=\"1\" /><path clip-path=\"url(#clip400)\" d=\"M346.764 1454.1 Q343.152 1454.1 341.324 1457.66 Q339.518 1461.2 339.518 1468.33 Q339.518 1475.44 341.324 1479.01 Q343.152 1482.55 346.764 1482.55 Q350.398 1482.55 352.203 1479.01 Q354.032 1475.44 354.032 1468.33 Q354.032 1461.2 352.203 1457.66 Q350.398 1454.1 346.764 1454.1 M346.764 1450.39 Q352.574 1450.39 355.629 1455 Q358.708 1459.58 358.708 1468.33 Q358.708 1477.06 355.629 1481.67 Q352.574 1486.25 346.764 1486.25 Q340.953 1486.25 337.875 1481.67 Q334.819 1477.06 334.819 1468.33 Q334.819 1459.58 337.875 1455 Q340.953 1450.39 346.764 1450.39 Z\" fill=\"#000000\" fill-rule=\"evenodd\" fill-opacity=\"1\" /><path clip-path=\"url(#clip400)\" d=\"M767.909 1454.1 Q764.298 1454.1 762.469 1457.66 Q760.664 1461.2 760.664 1468.33 Q760.664 1475.44 762.469 1479.01 Q764.298 1482.55 767.909 1482.55 Q771.543 1482.55 773.349 1479.01 Q775.178 1475.44 775.178 1468.33 Q775.178 1461.2 773.349 1457.66 Q771.543 1454.1 767.909 1454.1 M767.909 1450.39 Q773.719 1450.39 776.775 1455 Q779.853 1459.58 779.853 1468.33 Q779.853 1477.06 776.775 1481.67 Q773.719 1486.25 767.909 1486.25 Q762.099 1486.25 759.02 1481.67 Q755.965 1477.06 755.965 1468.33 Q755.965 1459.58 759.02 1455 Q762.099 1450.39 767.909 1450.39 Z\" fill=\"#000000\" fill-rule=\"evenodd\" fill-opacity=\"1\" /><path clip-path=\"url(#clip400)\" d=\"M788.071 1479.7 L792.955 1479.7 L792.955 1485.58 L788.071 1485.58 L788.071 1479.7 Z\" fill=\"#000000\" fill-rule=\"evenodd\" fill-opacity=\"1\" /><path clip-path=\"url(#clip400)\" d=\"M807.168 1481.64 L823.487 1481.64 L823.487 1485.58 L801.543 1485.58 L801.543 1481.64 Q804.205 1478.89 808.788 1474.26 Q813.395 1469.61 814.576 1468.27 Q816.821 1465.74 817.7 1464.01 Q818.603 1462.25 818.603 1460.56 Q818.603 1457.8 816.659 1456.07 Q814.738 1454.33 811.636 1454.33 Q809.437 1454.33 806.983 1455.09 Q804.552 1455.86 801.775 1457.41 L801.775 1452.69 Q804.599 1451.55 807.052 1450.97 Q809.506 1450.39 811.543 1450.39 Q816.913 1450.39 820.108 1453.08 Q823.302 1455.77 823.302 1460.26 Q823.302 1462.39 822.492 1464.31 Q821.705 1466.2 819.599 1468.8 Q819.02 1469.47 815.918 1472.69 Q812.816 1475.88 807.168 1481.64 Z\" fill=\"#000000\" fill-rule=\"evenodd\" fill-opacity=\"1\" /><path clip-path=\"url(#clip400)\" d=\"M833.349 1451.02 L851.705 1451.02 L851.705 1454.96 L837.631 1454.96 L837.631 1463.43 Q838.649 1463.08 839.668 1462.92 Q840.686 1462.73 841.705 1462.73 Q847.492 1462.73 850.872 1465.9 Q854.251 1469.08 854.251 1474.49 Q854.251 1480.07 850.779 1483.17 Q847.307 1486.25 840.987 1486.25 Q838.811 1486.25 836.543 1485.88 Q834.298 1485.51 831.89 1484.77 L831.89 1480.07 Q833.974 1481.2 836.196 1481.76 Q838.418 1482.32 840.895 1482.32 Q844.899 1482.32 847.237 1480.21 Q849.575 1478.1 849.575 1474.49 Q849.575 1470.88 847.237 1468.77 Q844.899 1466.67 840.895 1466.67 Q839.02 1466.67 837.145 1467.08 Q835.293 1467.5 833.349 1468.38 L833.349 1451.02 Z\" fill=\"#000000\" fill-rule=\"evenodd\" fill-opacity=\"1\" /><path clip-path=\"url(#clip400)\" d=\"M1263.45 1454.1 Q1259.84 1454.1 1258.01 1457.66 Q1256.21 1461.2 1256.21 1468.33 Q1256.21 1475.44 1258.01 1479.01 Q1259.84 1482.55 1263.45 1482.55 Q1267.09 1482.55 1268.89 1479.01 Q1270.72 1475.44 1270.72 1468.33 Q1270.72 1461.2 1268.89 1457.66 Q1267.09 1454.1 1263.45 1454.1 M1263.45 1450.39 Q1269.26 1450.39 1272.32 1455 Q1275.4 1459.58 1275.4 1468.33 Q1275.4 1477.06 1272.32 1481.67 Q1269.26 1486.25 1263.45 1486.25 Q1257.64 1486.25 1254.56 1481.67 Q1251.51 1477.06 1251.51 1468.33 Q1251.51 1459.58 1254.56 1455 Q1257.64 1450.39 1263.45 1450.39 Z\" fill=\"#000000\" fill-rule=\"evenodd\" fill-opacity=\"1\" /><path clip-path=\"url(#clip400)\" d=\"M1283.61 1479.7 L1288.5 1479.7 L1288.5 1485.58 L1283.61 1485.58 L1283.61 1479.7 Z\" fill=\"#000000\" fill-rule=\"evenodd\" fill-opacity=\"1\" /><path clip-path=\"url(#clip400)\" d=\"M1298.73 1451.02 L1317.09 1451.02 L1317.09 1454.96 L1303.01 1454.96 L1303.01 1463.43 Q1304.03 1463.08 1305.05 1462.92 Q1306.07 1462.73 1307.09 1462.73 Q1312.87 1462.73 1316.25 1465.9 Q1319.63 1469.08 1319.63 1474.49 Q1319.63 1480.07 1316.16 1483.17 Q1312.69 1486.25 1306.37 1486.25 Q1304.19 1486.25 1301.92 1485.88 Q1299.68 1485.51 1297.27 1484.77 L1297.27 1480.07 Q1299.35 1481.2 1301.58 1481.76 Q1303.8 1482.32 1306.28 1482.32 Q1310.28 1482.32 1312.62 1480.21 Q1314.96 1478.1 1314.96 1474.49 Q1314.96 1470.88 1312.62 1468.77 Q1310.28 1466.67 1306.28 1466.67 Q1304.4 1466.67 1302.53 1467.08 Q1300.67 1467.5 1298.73 1468.38 L1298.73 1451.02 Z\" fill=\"#000000\" fill-rule=\"evenodd\" fill-opacity=\"1\" /><path clip-path=\"url(#clip400)\" d=\"M1338.85 1454.1 Q1335.23 1454.1 1333.41 1457.66 Q1331.6 1461.2 1331.6 1468.33 Q1331.6 1475.44 1333.41 1479.01 Q1335.23 1482.55 1338.85 1482.55 Q1342.48 1482.55 1344.29 1479.01 Q1346.11 1475.44 1346.11 1468.33 Q1346.11 1461.2 1344.29 1457.66 Q1342.48 1454.1 1338.85 1454.1 M1338.85 1450.39 Q1344.66 1450.39 1347.71 1455 Q1350.79 1459.58 1350.79 1468.33 Q1350.79 1477.06 1347.71 1481.67 Q1344.66 1486.25 1338.85 1486.25 Q1333.04 1486.25 1329.96 1481.67 Q1326.9 1477.06 1326.9 1468.33 Q1326.9 1459.58 1329.96 1455 Q1333.04 1450.39 1338.85 1450.39 Z\" fill=\"#000000\" fill-rule=\"evenodd\" fill-opacity=\"1\" /><path clip-path=\"url(#clip400)\" d=\"M1759.99 1454.1 Q1756.38 1454.1 1754.55 1457.66 Q1752.75 1461.2 1752.75 1468.33 Q1752.75 1475.44 1754.55 1479.01 Q1756.38 1482.55 1759.99 1482.55 Q1763.63 1482.55 1765.43 1479.01 Q1767.26 1475.44 1767.26 1468.33 Q1767.26 1461.2 1765.43 1457.66 Q1763.63 1454.1 1759.99 1454.1 M1759.99 1450.39 Q1765.8 1450.39 1768.86 1455 Q1771.94 1459.58 1771.94 1468.33 Q1771.94 1477.06 1768.86 1481.67 Q1765.8 1486.25 1759.99 1486.25 Q1754.18 1486.25 1751.1 1481.67 Q1748.05 1477.06 1748.05 1468.33 Q1748.05 1459.58 1751.1 1455 Q1754.18 1450.39 1759.99 1450.39 Z\" fill=\"#000000\" fill-rule=\"evenodd\" fill-opacity=\"1\" /><path clip-path=\"url(#clip400)\" d=\"M1780.15 1479.7 L1785.04 1479.7 L1785.04 1485.58 L1780.15 1485.58 L1780.15 1479.7 Z\" fill=\"#000000\" fill-rule=\"evenodd\" fill-opacity=\"1\" /><path clip-path=\"url(#clip400)\" d=\"M1794.04 1451.02 L1816.26 1451.02 L1816.26 1453.01 L1803.72 1485.58 L1798.83 1485.58 L1810.64 1454.96 L1794.04 1454.96 L1794.04 1451.02 Z\" fill=\"#000000\" fill-rule=\"evenodd\" fill-opacity=\"1\" /><path clip-path=\"url(#clip400)\" d=\"M1825.43 1451.02 L1843.79 1451.02 L1843.79 1454.96 L1829.71 1454.96 L1829.71 1463.43 Q1830.73 1463.08 1831.75 1462.92 Q1832.77 1462.73 1833.79 1462.73 Q1839.57 1462.73 1842.95 1465.9 Q1846.33 1469.08 1846.33 1474.49 Q1846.33 1480.07 1842.86 1483.17 Q1839.39 1486.25 1833.07 1486.25 Q1830.89 1486.25 1828.62 1485.88 Q1826.38 1485.51 1823.97 1484.77 L1823.97 1480.07 Q1826.06 1481.2 1828.28 1481.76 Q1830.5 1482.32 1832.98 1482.32 Q1836.98 1482.32 1839.32 1480.21 Q1841.66 1478.1 1841.66 1474.49 Q1841.66 1470.88 1839.32 1468.77 Q1836.98 1466.67 1832.98 1466.67 Q1831.1 1466.67 1829.23 1467.08 Q1827.38 1467.5 1825.43 1468.38 L1825.43 1451.02 Z\" fill=\"#000000\" fill-rule=\"evenodd\" fill-opacity=\"1\" /><path clip-path=\"url(#clip400)\" d=\"M2245.3 1481.64 L2252.94 1481.64 L2252.94 1455.28 L2244.63 1456.95 L2244.63 1452.69 L2252.9 1451.02 L2257.57 1451.02 L2257.57 1481.64 L2265.21 1481.64 L2265.21 1485.58 L2245.3 1485.58 L2245.3 1481.64 Z\" fill=\"#000000\" fill-rule=\"evenodd\" fill-opacity=\"1\" /><path clip-path=\"url(#clip400)\" d=\"M2274.65 1479.7 L2279.54 1479.7 L2279.54 1485.58 L2274.65 1485.58 L2274.65 1479.7 Z\" fill=\"#000000\" fill-rule=\"evenodd\" fill-opacity=\"1\" /><path clip-path=\"url(#clip400)\" d=\"M2299.72 1454.1 Q2296.11 1454.1 2294.28 1457.66 Q2292.48 1461.2 2292.48 1468.33 Q2292.48 1475.44 2294.28 1479.01 Q2296.11 1482.55 2299.72 1482.55 Q2303.36 1482.55 2305.16 1479.01 Q2306.99 1475.44 2306.99 1468.33 Q2306.99 1461.2 2305.16 1457.66 Q2303.36 1454.1 2299.72 1454.1 M2299.72 1450.39 Q2305.53 1450.39 2308.59 1455 Q2311.67 1459.58 2311.67 1468.33 Q2311.67 1477.06 2308.59 1481.67 Q2305.53 1486.25 2299.72 1486.25 Q2293.91 1486.25 2290.84 1481.67 Q2287.78 1477.06 2287.78 1468.33 Q2287.78 1459.58 2290.84 1455 Q2293.91 1450.39 2299.72 1450.39 Z\" fill=\"#000000\" fill-rule=\"evenodd\" fill-opacity=\"1\" /><path clip-path=\"url(#clip400)\" d=\"M2329.89 1454.1 Q2326.27 1454.1 2324.45 1457.66 Q2322.64 1461.2 2322.64 1468.33 Q2322.64 1475.44 2324.45 1479.01 Q2326.27 1482.55 2329.89 1482.55 Q2333.52 1482.55 2335.33 1479.01 Q2337.15 1475.44 2337.15 1468.33 Q2337.15 1461.2 2335.33 1457.66 Q2333.52 1454.1 2329.89 1454.1 M2329.89 1450.39 Q2335.7 1450.39 2338.75 1455 Q2341.83 1459.58 2341.83 1468.33 Q2341.83 1477.06 2338.75 1481.67 Q2335.7 1486.25 2329.89 1486.25 Q2324.08 1486.25 2321 1481.67 Q2317.94 1477.06 2317.94 1468.33 Q2317.94 1459.58 2321 1455 Q2324.08 1450.39 2329.89 1450.39 Z\" fill=\"#000000\" fill-rule=\"evenodd\" fill-opacity=\"1\" /><path clip-path=\"url(#clip400)\" d=\"M1034.03 1518.52 L1034.03 1523.39 L1028.43 1523.39 Q1025.28 1523.39 1024.03 1524.66 Q1022.82 1525.93 1022.82 1529.24 L1022.82 1532.4 L1032.47 1532.4 L1032.47 1536.95 L1022.82 1536.95 L1022.82 1568.04 L1016.94 1568.04 L1016.94 1536.95 L1011.33 1536.95 L1011.33 1532.4 L1016.94 1532.4 L1016.94 1529.91 Q1016.94 1523.96 1019.71 1521.26 Q1022.47 1518.52 1028.49 1518.52 L1034.03 1518.52 Z\" fill=\"#000000\" fill-rule=\"evenodd\" fill-opacity=\"1\" /><path clip-path=\"url(#clip400)\" d=\"M1055.13 1550.12 Q1048.03 1550.12 1045.3 1551.75 Q1042.56 1553.37 1042.56 1557.29 Q1042.56 1560.4 1044.6 1562.25 Q1046.66 1564.07 1050.2 1564.07 Q1055.07 1564.07 1057.99 1560.63 Q1060.95 1557.16 1060.95 1551.43 L1060.95 1550.12 L1055.13 1550.12 M1066.81 1547.71 L1066.81 1568.04 L1060.95 1568.04 L1060.95 1562.63 Q1058.95 1565.88 1055.96 1567.44 Q1052.97 1568.97 1048.64 1568.97 Q1043.16 1568.97 1039.92 1565.91 Q1036.7 1562.82 1036.7 1557.67 Q1036.7 1551.65 1040.71 1548.6 Q1044.75 1545.54 1052.74 1545.54 L1060.95 1545.54 L1060.95 1544.97 Q1060.95 1540.93 1058.28 1538.73 Q1055.64 1536.5 1050.83 1536.5 Q1047.78 1536.5 1044.88 1537.23 Q1041.99 1537.97 1039.31 1539.43 L1039.31 1534.02 Q1042.53 1532.78 1045.55 1532.17 Q1048.57 1531.54 1051.44 1531.54 Q1059.17 1531.54 1062.99 1535.55 Q1066.81 1539.56 1066.81 1547.71 Z\" fill=\"#000000\" fill-rule=\"evenodd\" fill-opacity=\"1\" /><path clip-path=\"url(#clip400)\" d=\"M1078.87 1518.52 L1084.73 1518.52 L1084.73 1568.04 L1078.87 1568.04 L1078.87 1518.52 Z\" fill=\"#000000\" fill-rule=\"evenodd\" fill-opacity=\"1\" /><path clip-path=\"url(#clip400)\" d=\"M1119.71 1533.45 L1119.71 1538.98 Q1117.23 1537.71 1114.55 1537.07 Q1111.88 1536.44 1109.02 1536.44 Q1104.66 1536.44 1102.46 1537.77 Q1100.3 1539.11 1100.3 1541.79 Q1100.3 1543.82 1101.85 1545 Q1103.41 1546.15 1108.12 1547.2 L1110.13 1547.64 Q1116.37 1548.98 1118.98 1551.43 Q1121.62 1553.85 1121.62 1558.21 Q1121.62 1563.17 1117.67 1566.07 Q1113.76 1568.97 1106.88 1568.97 Q1104.02 1568.97 1100.9 1568.39 Q1097.81 1567.85 1094.37 1566.74 L1094.37 1560.69 Q1097.62 1562.38 1100.77 1563.24 Q1103.92 1564.07 1107.01 1564.07 Q1111.15 1564.07 1113.38 1562.66 Q1115.6 1561.23 1115.6 1558.65 Q1115.6 1556.27 1113.98 1554.99 Q1112.39 1553.72 1106.95 1552.54 L1104.91 1552.07 Q1099.47 1550.92 1097.05 1548.56 Q1094.63 1546.18 1094.63 1542.04 Q1094.63 1537.01 1098.19 1534.27 Q1101.76 1531.54 1108.32 1531.54 Q1111.56 1531.54 1114.43 1532.01 Q1117.29 1532.49 1119.71 1533.45 Z\" fill=\"#000000\" fill-rule=\"evenodd\" fill-opacity=\"1\" /><path clip-path=\"url(#clip400)\" d=\"M1161.44 1548.76 L1161.44 1551.62 L1134.51 1551.62 Q1134.89 1557.67 1138.14 1560.85 Q1141.42 1564 1147.24 1564 Q1150.62 1564 1153.77 1563.17 Q1156.95 1562.35 1160.07 1560.69 L1160.07 1566.23 Q1156.92 1567.57 1153.61 1568.27 Q1150.3 1568.97 1146.89 1568.97 Q1138.36 1568.97 1133.36 1564 Q1128.4 1559.04 1128.4 1550.57 Q1128.4 1541.82 1133.11 1536.69 Q1137.85 1531.54 1145.87 1531.54 Q1153.07 1531.54 1157.24 1536.18 Q1161.44 1540.8 1161.44 1548.76 M1155.58 1547.04 Q1155.52 1542.23 1152.88 1539.37 Q1150.27 1536.5 1145.94 1536.5 Q1141.04 1536.5 1138.08 1539.27 Q1135.15 1542.04 1134.7 1547.07 L1155.58 1547.04 Z\" fill=\"#000000\" fill-rule=\"evenodd\" fill-opacity=\"1\" /><path clip-path=\"url(#clip400)\" d=\"M1197.44 1562.7 L1197.44 1581.6 L1191.55 1581.6 L1191.55 1532.4 L1197.44 1532.4 L1197.44 1537.81 Q1199.28 1534.62 1202.08 1533.1 Q1204.92 1531.54 1208.83 1531.54 Q1215.32 1531.54 1219.37 1536.69 Q1223.44 1541.85 1223.44 1550.25 Q1223.44 1558.65 1219.37 1563.81 Q1215.32 1568.97 1208.83 1568.97 Q1204.92 1568.97 1202.08 1567.44 Q1199.28 1565.88 1197.44 1562.7 M1217.36 1550.25 Q1217.36 1543.79 1214.69 1540.13 Q1212.04 1536.44 1207.4 1536.44 Q1202.75 1536.44 1200.08 1540.13 Q1197.44 1543.79 1197.44 1550.25 Q1197.44 1556.71 1200.08 1560.4 Q1202.75 1564.07 1207.4 1564.07 Q1212.04 1564.07 1214.69 1560.4 Q1217.36 1556.71 1217.36 1550.25 Z\" fill=\"#000000\" fill-rule=\"evenodd\" fill-opacity=\"1\" /><path clip-path=\"url(#clip400)\" d=\"M1246.96 1536.5 Q1242.25 1536.5 1239.51 1540.19 Q1236.78 1543.85 1236.78 1550.25 Q1236.78 1556.65 1239.48 1560.34 Q1242.22 1564 1246.96 1564 Q1251.64 1564 1254.38 1560.31 Q1257.11 1556.62 1257.11 1550.25 Q1257.11 1543.92 1254.38 1540.23 Q1251.64 1536.5 1246.96 1536.5 M1246.96 1531.54 Q1254.6 1531.54 1258.96 1536.5 Q1263.32 1541.47 1263.32 1550.25 Q1263.32 1559 1258.96 1564 Q1254.6 1568.97 1246.96 1568.97 Q1239.29 1568.97 1234.93 1564 Q1230.6 1559 1230.6 1550.25 Q1230.6 1541.47 1234.93 1536.5 Q1239.29 1531.54 1246.96 1531.54 Z\" fill=\"#000000\" fill-rule=\"evenodd\" fill-opacity=\"1\" /><path clip-path=\"url(#clip400)\" d=\"M1295.75 1533.45 L1295.75 1538.98 Q1293.27 1537.71 1290.6 1537.07 Q1287.92 1536.44 1285.06 1536.44 Q1280.7 1536.44 1278.5 1537.77 Q1276.34 1539.11 1276.34 1541.79 Q1276.34 1543.82 1277.9 1545 Q1279.46 1546.15 1284.17 1547.2 L1286.17 1547.64 Q1292.41 1548.98 1295.02 1551.43 Q1297.66 1553.85 1297.66 1558.21 Q1297.66 1563.17 1293.72 1566.07 Q1289.8 1568.97 1282.93 1568.97 Q1280.06 1568.97 1276.94 1568.39 Q1273.86 1567.85 1270.42 1566.74 L1270.42 1560.69 Q1273.67 1562.38 1276.82 1563.24 Q1279.97 1564.07 1283.05 1564.07 Q1287.19 1564.07 1289.42 1562.66 Q1291.65 1561.23 1291.65 1558.65 Q1291.65 1556.27 1290.02 1554.99 Q1288.43 1553.72 1282.99 1552.54 L1280.95 1552.07 Q1275.51 1550.92 1273.09 1548.56 Q1270.67 1546.18 1270.67 1542.04 Q1270.67 1537.01 1274.24 1534.27 Q1277.8 1531.54 1284.36 1531.54 Q1287.61 1531.54 1290.47 1532.01 Q1293.34 1532.49 1295.75 1533.45 Z\" fill=\"#000000\" fill-rule=\"evenodd\" fill-opacity=\"1\" /><path clip-path=\"url(#clip400)\" d=\"M1306.99 1532.4 L1312.85 1532.4 L1312.85 1568.04 L1306.99 1568.04 L1306.99 1532.4 M1306.99 1518.52 L1312.85 1518.52 L1312.85 1525.93 L1306.99 1525.93 L1306.99 1518.52 Z\" fill=\"#000000\" fill-rule=\"evenodd\" fill-opacity=\"1\" /><path clip-path=\"url(#clip400)\" d=\"M1330.89 1522.27 L1330.89 1532.4 L1342.96 1532.4 L1342.96 1536.95 L1330.89 1536.95 L1330.89 1556.3 Q1330.89 1560.66 1332.07 1561.9 Q1333.28 1563.14 1336.94 1563.14 L1342.96 1563.14 L1342.96 1568.04 L1336.94 1568.04 Q1330.16 1568.04 1327.58 1565.53 Q1325 1562.98 1325 1556.3 L1325 1536.95 L1320.71 1536.95 L1320.71 1532.4 L1325 1532.4 L1325 1522.27 L1330.89 1522.27 Z\" fill=\"#000000\" fill-rule=\"evenodd\" fill-opacity=\"1\" /><path clip-path=\"url(#clip400)\" d=\"M1350.66 1532.4 L1356.51 1532.4 L1356.51 1568.04 L1350.66 1568.04 L1350.66 1532.4 M1350.66 1518.52 L1356.51 1518.52 L1356.51 1525.93 L1350.66 1525.93 L1350.66 1518.52 Z\" fill=\"#000000\" fill-rule=\"evenodd\" fill-opacity=\"1\" /><path clip-path=\"url(#clip400)\" d=\"M1364.57 1532.4 L1370.77 1532.4 L1381.91 1562.31 L1393.05 1532.4 L1399.26 1532.4 L1385.89 1568.04 L1377.94 1568.04 L1364.57 1532.4 Z\" fill=\"#000000\" fill-rule=\"evenodd\" fill-opacity=\"1\" /><path clip-path=\"url(#clip400)\" d=\"M1437.84 1548.76 L1437.84 1551.62 L1410.91 1551.62 Q1411.29 1557.67 1414.54 1560.85 Q1417.82 1564 1423.64 1564 Q1427.01 1564 1430.17 1563.17 Q1433.35 1562.35 1436.47 1560.69 L1436.47 1566.23 Q1433.32 1567.57 1430.01 1568.27 Q1426.7 1568.97 1423.29 1568.97 Q1414.76 1568.97 1409.76 1564 Q1404.8 1559.04 1404.8 1550.57 Q1404.8 1541.82 1409.51 1536.69 Q1414.25 1531.54 1422.27 1531.54 Q1429.47 1531.54 1433.64 1536.18 Q1437.84 1540.8 1437.84 1548.76 M1431.98 1547.04 Q1431.92 1542.23 1429.27 1539.37 Q1426.66 1536.5 1422.34 1536.5 Q1417.43 1536.5 1414.47 1539.27 Q1411.55 1542.04 1411.1 1547.07 L1431.98 1547.04 Z\" fill=\"#000000\" fill-rule=\"evenodd\" fill-opacity=\"1\" /><path clip-path=\"url(#clip400)\" d=\"M1488.83 1537.87 Q1487.84 1537.3 1486.66 1537.04 Q1485.52 1536.76 1484.12 1536.76 Q1479.15 1536.76 1476.48 1540 Q1473.83 1543.22 1473.83 1549.27 L1473.83 1568.04 L1467.95 1568.04 L1467.95 1532.4 L1473.83 1532.4 L1473.83 1537.93 Q1475.68 1534.69 1478.64 1533.13 Q1481.6 1531.54 1485.83 1531.54 Q1486.44 1531.54 1487.17 1531.63 Q1487.9 1531.7 1488.79 1531.85 L1488.83 1537.87 Z\" fill=\"#000000\" fill-rule=\"evenodd\" fill-opacity=\"1\" /><path clip-path=\"url(#clip400)\" d=\"M1511.17 1550.12 Q1504.07 1550.12 1501.33 1551.75 Q1498.6 1553.37 1498.6 1557.29 Q1498.6 1560.4 1500.63 1562.25 Q1502.7 1564.07 1506.24 1564.07 Q1511.11 1564.07 1514.03 1560.63 Q1516.99 1557.16 1516.99 1551.43 L1516.99 1550.12 L1511.17 1550.12 M1522.85 1547.71 L1522.85 1568.04 L1516.99 1568.04 L1516.99 1562.63 Q1514.99 1565.88 1512 1567.44 Q1509.01 1568.97 1504.68 1568.97 Q1499.2 1568.97 1495.96 1565.91 Q1492.74 1562.82 1492.74 1557.67 Q1492.74 1551.65 1496.75 1548.6 Q1500.79 1545.54 1508.78 1545.54 L1516.99 1545.54 L1516.99 1544.97 Q1516.99 1540.93 1514.32 1538.73 Q1511.68 1536.5 1506.87 1536.5 Q1503.82 1536.5 1500.92 1537.23 Q1498.02 1537.97 1495.35 1539.43 L1495.35 1534.02 Q1498.57 1532.78 1501.59 1532.17 Q1504.61 1531.54 1507.48 1531.54 Q1515.21 1531.54 1519.03 1535.55 Q1522.85 1539.56 1522.85 1547.71 Z\" fill=\"#000000\" fill-rule=\"evenodd\" fill-opacity=\"1\" /><path clip-path=\"url(#clip400)\" d=\"M1540.71 1522.27 L1540.71 1532.4 L1552.77 1532.4 L1552.77 1536.95 L1540.71 1536.95 L1540.71 1556.3 Q1540.71 1560.66 1541.88 1561.9 Q1543.09 1563.14 1546.75 1563.14 L1552.77 1563.14 L1552.77 1568.04 L1546.75 1568.04 Q1539.97 1568.04 1537.4 1565.53 Q1534.82 1562.98 1534.82 1556.3 L1534.82 1536.95 L1530.52 1536.95 L1530.52 1532.4 L1534.82 1532.4 L1534.82 1522.27 L1540.71 1522.27 Z\" fill=\"#000000\" fill-rule=\"evenodd\" fill-opacity=\"1\" /><path clip-path=\"url(#clip400)\" d=\"M1590.96 1548.76 L1590.96 1551.62 L1564.04 1551.62 Q1564.42 1557.67 1567.67 1560.85 Q1570.94 1564 1576.77 1564 Q1580.14 1564 1583.29 1563.17 Q1586.48 1562.35 1589.6 1560.69 L1589.6 1566.23 Q1586.44 1567.57 1583.13 1568.27 Q1579.82 1568.97 1576.42 1568.97 Q1567.89 1568.97 1562.89 1564 Q1557.93 1559.04 1557.93 1550.57 Q1557.93 1541.82 1562.64 1536.69 Q1567.38 1531.54 1575.4 1531.54 Q1582.59 1531.54 1586.76 1536.18 Q1590.96 1540.8 1590.96 1548.76 M1585.11 1547.04 Q1585.04 1542.23 1582.4 1539.37 Q1579.79 1536.5 1575.46 1536.5 Q1570.56 1536.5 1567.6 1539.27 Q1564.67 1542.04 1564.23 1547.07 L1585.11 1547.04 Z\" fill=\"#000000\" fill-rule=\"evenodd\" fill-opacity=\"1\" /><polyline clip-path=\"url(#clip402)\" style=\"stroke:#000000; stroke-linecap:butt; stroke-linejoin:round; stroke-width:2; stroke-opacity:0.1; fill:none\" points=\"\n",
       "  249.542,1384.24 2352.76,1384.24 \n",
       "  \"/>\n",
       "<polyline clip-path=\"url(#clip402)\" style=\"stroke:#000000; stroke-linecap:butt; stroke-linejoin:round; stroke-width:2; stroke-opacity:0.1; fill:none\" points=\"\n",
       "  249.542,1059.73 2352.76,1059.73 \n",
       "  \"/>\n",
       "<polyline clip-path=\"url(#clip402)\" style=\"stroke:#000000; stroke-linecap:butt; stroke-linejoin:round; stroke-width:2; stroke-opacity:0.1; fill:none\" points=\"\n",
       "  249.542,735.212 2352.76,735.212 \n",
       "  \"/>\n",
       "<polyline clip-path=\"url(#clip402)\" style=\"stroke:#000000; stroke-linecap:butt; stroke-linejoin:round; stroke-width:2; stroke-opacity:0.1; fill:none\" points=\"\n",
       "  249.542,410.699 2352.76,410.699 \n",
       "  \"/>\n",
       "<polyline clip-path=\"url(#clip402)\" style=\"stroke:#000000; stroke-linecap:butt; stroke-linejoin:round; stroke-width:2; stroke-opacity:0.1; fill:none\" points=\"\n",
       "  249.542,86.1857 2352.76,86.1857 \n",
       "  \"/>\n",
       "<polyline clip-path=\"url(#clip400)\" style=\"stroke:#000000; stroke-linecap:butt; stroke-linejoin:round; stroke-width:4; stroke-opacity:1; fill:none\" points=\"\n",
       "  249.542,1423.18 249.542,47.2441 \n",
       "  \"/>\n",
       "<polyline clip-path=\"url(#clip400)\" style=\"stroke:#000000; stroke-linecap:butt; stroke-linejoin:round; stroke-width:4; stroke-opacity:1; fill:none\" points=\"\n",
       "  249.542,1384.24 268.44,1384.24 \n",
       "  \"/>\n",
       "<polyline clip-path=\"url(#clip400)\" style=\"stroke:#000000; stroke-linecap:butt; stroke-linejoin:round; stroke-width:4; stroke-opacity:1; fill:none\" points=\"\n",
       "  249.542,1059.73 268.44,1059.73 \n",
       "  \"/>\n",
       "<polyline clip-path=\"url(#clip400)\" style=\"stroke:#000000; stroke-linecap:butt; stroke-linejoin:round; stroke-width:4; stroke-opacity:1; fill:none\" points=\"\n",
       "  249.542,735.212 268.44,735.212 \n",
       "  \"/>\n",
       "<polyline clip-path=\"url(#clip400)\" style=\"stroke:#000000; stroke-linecap:butt; stroke-linejoin:round; stroke-width:4; stroke-opacity:1; fill:none\" points=\"\n",
       "  249.542,410.699 268.44,410.699 \n",
       "  \"/>\n",
       "<polyline clip-path=\"url(#clip400)\" style=\"stroke:#000000; stroke-linecap:butt; stroke-linejoin:round; stroke-width:4; stroke-opacity:1; fill:none\" points=\"\n",
       "  249.542,86.1857 268.44,86.1857 \n",
       "  \"/>\n",
       "<path clip-path=\"url(#clip400)\" d=\"M126.205 1370.04 Q122.593 1370.04 120.765 1373.6 Q118.959 1377.14 118.959 1384.27 Q118.959 1391.38 120.765 1394.94 Q122.593 1398.49 126.205 1398.49 Q129.839 1398.49 131.644 1394.94 Q133.473 1391.38 133.473 1384.27 Q133.473 1377.14 131.644 1373.6 Q129.839 1370.04 126.205 1370.04 M126.205 1366.33 Q132.015 1366.33 135.07 1370.94 Q138.149 1375.52 138.149 1384.27 Q138.149 1393 135.07 1397.61 Q132.015 1402.19 126.205 1402.19 Q120.394 1402.19 117.316 1397.61 Q114.26 1393 114.26 1384.27 Q114.26 1375.52 117.316 1370.94 Q120.394 1366.33 126.205 1366.33 Z\" fill=\"#000000\" fill-rule=\"evenodd\" fill-opacity=\"1\" /><path clip-path=\"url(#clip400)\" d=\"M146.366 1395.64 L151.251 1395.64 L151.251 1401.52 L146.366 1401.52 L146.366 1395.64 Z\" fill=\"#000000\" fill-rule=\"evenodd\" fill-opacity=\"1\" /><path clip-path=\"url(#clip400)\" d=\"M171.436 1370.04 Q167.825 1370.04 165.996 1373.6 Q164.19 1377.14 164.19 1384.27 Q164.19 1391.38 165.996 1394.94 Q167.825 1398.49 171.436 1398.49 Q175.07 1398.49 176.876 1394.94 Q178.704 1391.38 178.704 1384.27 Q178.704 1377.14 176.876 1373.6 Q175.07 1370.04 171.436 1370.04 M171.436 1366.33 Q177.246 1366.33 180.301 1370.94 Q183.38 1375.52 183.38 1384.27 Q183.38 1393 180.301 1397.61 Q177.246 1402.19 171.436 1402.19 Q165.626 1402.19 162.547 1397.61 Q159.491 1393 159.491 1384.27 Q159.491 1375.52 162.547 1370.94 Q165.626 1366.33 171.436 1366.33 Z\" fill=\"#000000\" fill-rule=\"evenodd\" fill-opacity=\"1\" /><path clip-path=\"url(#clip400)\" d=\"M201.598 1370.04 Q197.987 1370.04 196.158 1373.6 Q194.352 1377.14 194.352 1384.27 Q194.352 1391.38 196.158 1394.94 Q197.987 1398.49 201.598 1398.49 Q205.232 1398.49 207.037 1394.94 Q208.866 1391.38 208.866 1384.27 Q208.866 1377.14 207.037 1373.6 Q205.232 1370.04 201.598 1370.04 M201.598 1366.33 Q207.408 1366.33 210.463 1370.94 Q213.542 1375.52 213.542 1384.27 Q213.542 1393 210.463 1397.61 Q207.408 1402.19 201.598 1402.19 Q195.787 1402.19 192.709 1397.61 Q189.653 1393 189.653 1384.27 Q189.653 1375.52 192.709 1370.94 Q195.787 1366.33 201.598 1366.33 Z\" fill=\"#000000\" fill-rule=\"evenodd\" fill-opacity=\"1\" /><path clip-path=\"url(#clip400)\" d=\"M127.2 1045.52 Q123.589 1045.52 121.76 1049.09 Q119.955 1052.63 119.955 1059.76 Q119.955 1066.87 121.76 1070.43 Q123.589 1073.97 127.2 1073.97 Q130.834 1073.97 132.64 1070.43 Q134.468 1066.87 134.468 1059.76 Q134.468 1052.63 132.64 1049.09 Q130.834 1045.52 127.2 1045.52 M127.2 1041.82 Q133.01 1041.82 136.066 1046.43 Q139.144 1051.01 139.144 1059.76 Q139.144 1068.49 136.066 1073.09 Q133.01 1077.68 127.2 1077.68 Q121.39 1077.68 118.311 1073.09 Q115.256 1068.49 115.256 1059.76 Q115.256 1051.01 118.311 1046.43 Q121.39 1041.82 127.2 1041.82 Z\" fill=\"#000000\" fill-rule=\"evenodd\" fill-opacity=\"1\" /><path clip-path=\"url(#clip400)\" d=\"M147.362 1071.13 L152.246 1071.13 L152.246 1077.01 L147.362 1077.01 L147.362 1071.13 Z\" fill=\"#000000\" fill-rule=\"evenodd\" fill-opacity=\"1\" /><path clip-path=\"url(#clip400)\" d=\"M166.459 1073.07 L182.778 1073.07 L182.778 1077.01 L160.834 1077.01 L160.834 1073.07 Q163.496 1070.32 168.079 1065.69 Q172.686 1061.03 173.866 1059.69 Q176.112 1057.17 176.991 1055.43 Q177.894 1053.67 177.894 1051.98 Q177.894 1049.23 175.95 1047.49 Q174.028 1045.76 170.927 1045.76 Q168.727 1045.76 166.274 1046.52 Q163.843 1047.28 161.065 1048.83 L161.065 1044.11 Q163.89 1042.98 166.343 1042.4 Q168.797 1041.82 170.834 1041.82 Q176.204 1041.82 179.399 1044.51 Q182.593 1047.19 182.593 1051.68 Q182.593 1053.81 181.783 1055.73 Q180.996 1057.63 178.889 1060.22 Q178.311 1060.89 175.209 1064.11 Q172.107 1067.31 166.459 1073.07 Z\" fill=\"#000000\" fill-rule=\"evenodd\" fill-opacity=\"1\" /><path clip-path=\"url(#clip400)\" d=\"M192.639 1042.45 L210.996 1042.45 L210.996 1046.38 L196.922 1046.38 L196.922 1054.85 Q197.94 1054.51 198.959 1054.34 Q199.977 1054.16 200.996 1054.16 Q206.783 1054.16 210.162 1057.33 Q213.542 1060.5 213.542 1065.92 Q213.542 1071.5 210.07 1074.6 Q206.598 1077.68 200.278 1077.68 Q198.102 1077.68 195.834 1077.31 Q193.588 1076.94 191.181 1076.19 L191.181 1071.5 Q193.264 1072.63 195.487 1073.19 Q197.709 1073.74 200.186 1073.74 Q204.19 1073.74 206.528 1071.63 Q208.866 1069.53 208.866 1065.92 Q208.866 1062.31 206.528 1060.2 Q204.19 1058.09 200.186 1058.09 Q198.311 1058.09 196.436 1058.51 Q194.584 1058.93 192.639 1059.81 L192.639 1042.45 Z\" fill=\"#000000\" fill-rule=\"evenodd\" fill-opacity=\"1\" /><path clip-path=\"url(#clip400)\" d=\"M126.205 721.011 Q122.593 721.011 120.765 724.575 Q118.959 728.117 118.959 735.247 Q118.959 742.353 120.765 745.918 Q122.593 749.46 126.205 749.46 Q129.839 749.46 131.644 745.918 Q133.473 742.353 133.473 735.247 Q133.473 728.117 131.644 724.575 Q129.839 721.011 126.205 721.011 M126.205 717.307 Q132.015 717.307 135.07 721.913 Q138.149 726.497 138.149 735.247 Q138.149 743.973 135.07 748.58 Q132.015 753.163 126.205 753.163 Q120.394 753.163 117.316 748.58 Q114.26 743.973 114.26 735.247 Q114.26 726.497 117.316 721.913 Q120.394 717.307 126.205 717.307 Z\" fill=\"#000000\" fill-rule=\"evenodd\" fill-opacity=\"1\" /><path clip-path=\"url(#clip400)\" d=\"M146.366 746.612 L151.251 746.612 L151.251 752.492 L146.366 752.492 L146.366 746.612 Z\" fill=\"#000000\" fill-rule=\"evenodd\" fill-opacity=\"1\" /><path clip-path=\"url(#clip400)\" d=\"M161.482 717.932 L179.839 717.932 L179.839 721.867 L165.765 721.867 L165.765 730.339 Q166.783 729.992 167.802 729.83 Q168.82 729.645 169.839 729.645 Q175.626 729.645 179.005 732.816 Q182.385 735.987 182.385 741.404 Q182.385 746.983 178.913 750.085 Q175.44 753.163 169.121 753.163 Q166.945 753.163 164.677 752.793 Q162.431 752.423 160.024 751.682 L160.024 746.983 Q162.107 748.117 164.329 748.673 Q166.552 749.228 169.028 749.228 Q173.033 749.228 175.371 747.122 Q177.709 745.015 177.709 741.404 Q177.709 737.793 175.371 735.687 Q173.033 733.58 169.028 733.58 Q167.153 733.58 165.278 733.997 Q163.427 734.413 161.482 735.293 L161.482 717.932 Z\" fill=\"#000000\" fill-rule=\"evenodd\" fill-opacity=\"1\" /><path clip-path=\"url(#clip400)\" d=\"M201.598 721.011 Q197.987 721.011 196.158 724.575 Q194.352 728.117 194.352 735.247 Q194.352 742.353 196.158 745.918 Q197.987 749.46 201.598 749.46 Q205.232 749.46 207.037 745.918 Q208.866 742.353 208.866 735.247 Q208.866 728.117 207.037 724.575 Q205.232 721.011 201.598 721.011 M201.598 717.307 Q207.408 717.307 210.463 721.913 Q213.542 726.497 213.542 735.247 Q213.542 743.973 210.463 748.58 Q207.408 753.163 201.598 753.163 Q195.787 753.163 192.709 748.58 Q189.653 743.973 189.653 735.247 Q189.653 726.497 192.709 721.913 Q195.787 717.307 201.598 717.307 Z\" fill=\"#000000\" fill-rule=\"evenodd\" fill-opacity=\"1\" /><path clip-path=\"url(#clip400)\" d=\"M127.2 396.498 Q123.589 396.498 121.76 400.062 Q119.955 403.604 119.955 410.734 Q119.955 417.84 121.76 421.405 Q123.589 424.946 127.2 424.946 Q130.834 424.946 132.64 421.405 Q134.468 417.84 134.468 410.734 Q134.468 403.604 132.64 400.062 Q130.834 396.498 127.2 396.498 M127.2 392.794 Q133.01 392.794 136.066 397.4 Q139.144 401.984 139.144 410.734 Q139.144 419.46 136.066 424.067 Q133.01 428.65 127.2 428.65 Q121.39 428.65 118.311 424.067 Q115.256 419.46 115.256 410.734 Q115.256 401.984 118.311 397.4 Q121.39 392.794 127.2 392.794 Z\" fill=\"#000000\" fill-rule=\"evenodd\" fill-opacity=\"1\" /><path clip-path=\"url(#clip400)\" d=\"M147.362 422.099 L152.246 422.099 L152.246 427.979 L147.362 427.979 L147.362 422.099 Z\" fill=\"#000000\" fill-rule=\"evenodd\" fill-opacity=\"1\" /><path clip-path=\"url(#clip400)\" d=\"M161.251 393.419 L183.473 393.419 L183.473 395.41 L170.927 427.979 L166.042 427.979 L177.848 397.354 L161.251 397.354 L161.251 393.419 Z\" fill=\"#000000\" fill-rule=\"evenodd\" fill-opacity=\"1\" /><path clip-path=\"url(#clip400)\" d=\"M192.639 393.419 L210.996 393.419 L210.996 397.354 L196.922 397.354 L196.922 405.826 Q197.94 405.479 198.959 405.317 Q199.977 405.132 200.996 405.132 Q206.783 405.132 210.162 408.303 Q213.542 411.474 213.542 416.891 Q213.542 422.47 210.07 425.571 Q206.598 428.65 200.278 428.65 Q198.102 428.65 195.834 428.28 Q193.588 427.909 191.181 427.169 L191.181 422.47 Q193.264 423.604 195.487 424.159 Q197.709 424.715 200.186 424.715 Q204.19 424.715 206.528 422.608 Q208.866 420.502 208.866 416.891 Q208.866 413.28 206.528 411.173 Q204.19 409.067 200.186 409.067 Q198.311 409.067 196.436 409.484 Q194.584 409.9 192.639 410.78 L192.639 393.419 Z\" fill=\"#000000\" fill-rule=\"evenodd\" fill-opacity=\"1\" /><path clip-path=\"url(#clip400)\" d=\"M117.015 99.5305 L124.654 99.5305 L124.654 73.1649 L116.343 74.8316 L116.343 70.5723 L124.607 68.9057 L129.283 68.9057 L129.283 99.5305 L136.922 99.5305 L136.922 103.466 L117.015 103.466 L117.015 99.5305 Z\" fill=\"#000000\" fill-rule=\"evenodd\" fill-opacity=\"1\" /><path clip-path=\"url(#clip400)\" d=\"M146.366 97.5861 L151.251 97.5861 L151.251 103.466 L146.366 103.466 L146.366 97.5861 Z\" fill=\"#000000\" fill-rule=\"evenodd\" fill-opacity=\"1\" /><path clip-path=\"url(#clip400)\" d=\"M171.436 71.9844 Q167.825 71.9844 165.996 75.5492 Q164.19 79.0908 164.19 86.2204 Q164.19 93.3268 165.996 96.8916 Q167.825 100.433 171.436 100.433 Q175.07 100.433 176.876 96.8916 Q178.704 93.3268 178.704 86.2204 Q178.704 79.0908 176.876 75.5492 Q175.07 71.9844 171.436 71.9844 M171.436 68.2807 Q177.246 68.2807 180.301 72.8871 Q183.38 77.4704 183.38 86.2204 Q183.38 94.9472 180.301 99.5537 Q177.246 104.137 171.436 104.137 Q165.626 104.137 162.547 99.5537 Q159.491 94.9472 159.491 86.2204 Q159.491 77.4704 162.547 72.8871 Q165.626 68.2807 171.436 68.2807 Z\" fill=\"#000000\" fill-rule=\"evenodd\" fill-opacity=\"1\" /><path clip-path=\"url(#clip400)\" d=\"M201.598 71.9844 Q197.987 71.9844 196.158 75.5492 Q194.352 79.0908 194.352 86.2204 Q194.352 93.3268 196.158 96.8916 Q197.987 100.433 201.598 100.433 Q205.232 100.433 207.037 96.8916 Q208.866 93.3268 208.866 86.2204 Q208.866 79.0908 207.037 75.5492 Q205.232 71.9844 201.598 71.9844 M201.598 68.2807 Q207.408 68.2807 210.463 72.8871 Q213.542 77.4704 213.542 86.2204 Q213.542 94.9472 210.463 99.5537 Q207.408 104.137 201.598 104.137 Q195.787 104.137 192.709 99.5537 Q189.653 94.9472 189.653 86.2204 Q189.653 77.4704 192.709 72.8871 Q195.787 68.2807 201.598 68.2807 Z\" fill=\"#000000\" fill-rule=\"evenodd\" fill-opacity=\"1\" /><path clip-path=\"url(#clip400)\" d=\"M18.2347 1004.07 L28.3562 1004.07 L28.3562 992.005 L32.9077 992.005 L32.9077 1004.07 L52.2594 1004.07 Q56.6199 1004.07 57.8613 1002.89 Q59.1026 1001.68 59.1026 998.02 L59.1026 992.005 L64.0042 992.005 L64.0042 998.02 Q64.0042 1004.8 61.4897 1007.38 Q58.9434 1009.96 52.2594 1009.96 L32.9077 1009.96 L32.9077 1014.25 L28.3562 1014.25 L28.3562 1009.96 L18.2347 1009.96 L18.2347 1004.07 Z\" fill=\"#000000\" fill-rule=\"evenodd\" fill-opacity=\"1\" /><path clip-path=\"url(#clip400)\" d=\"M33.8307 963.645 Q33.2578 964.632 33.0032 965.81 Q32.7167 966.956 32.7167 968.356 Q32.7167 973.321 35.9632 975.995 Q39.1779 978.637 45.2253 978.637 L64.0042 978.637 L64.0042 984.525 L28.3562 984.525 L28.3562 978.637 L33.8944 978.637 Q30.6479 976.791 29.0883 973.83 Q27.4968 970.87 27.4968 966.637 Q27.4968 966.032 27.5923 965.3 Q27.656 964.568 27.8151 963.677 L33.8307 963.645 Z\" fill=\"#000000\" fill-rule=\"evenodd\" fill-opacity=\"1\" /><path clip-path=\"url(#clip400)\" d=\"M49.9359 958.107 L28.3562 958.107 L28.3562 952.251 L49.7131 952.251 Q54.7739 952.251 57.3202 950.277 Q59.8346 948.304 59.8346 944.357 Q59.8346 939.615 56.8109 936.878 Q53.7872 934.108 48.5673 934.108 L28.3562 934.108 L28.3562 928.252 L64.0042 928.252 L64.0042 934.108 L58.5296 934.108 Q61.7762 936.241 63.3676 939.074 Q64.9272 941.875 64.9272 945.599 Q64.9272 951.741 61.1078 954.924 Q57.2883 958.107 49.9359 958.107 M27.4968 943.371 L27.4968 943.371 Z\" fill=\"#000000\" fill-rule=\"evenodd\" fill-opacity=\"1\" /><path clip-path=\"url(#clip400)\" d=\"M44.7161 885.697 L47.5806 885.697 L47.5806 912.624 Q53.6281 912.242 56.8109 908.996 Q59.9619 905.717 59.9619 899.893 Q59.9619 896.519 59.1344 893.368 Q58.3069 890.185 56.6518 887.066 L62.1899 887.066 Q63.5267 890.217 64.227 893.527 Q64.9272 896.837 64.9272 900.243 Q64.9272 908.773 59.9619 913.77 Q54.9967 918.735 46.5303 918.735 Q37.7774 918.735 32.6531 914.025 Q27.4968 909.282 27.4968 901.261 Q27.4968 894.068 32.1438 889.899 Q36.7589 885.697 44.7161 885.697 M42.9973 891.554 Q38.1912 891.617 35.3266 894.259 Q32.4621 896.869 32.4621 901.198 Q32.4621 906.099 35.2312 909.059 Q38.0002 911.988 43.0292 912.433 L42.9973 891.554 Z\" fill=\"#000000\" fill-rule=\"evenodd\" fill-opacity=\"1\" /><path clip-path=\"url(#clip400)\" d=\"M58.657 849.699 L77.5631 849.699 L77.5631 855.587 L28.3562 855.587 L28.3562 849.699 L33.7671 849.699 Q30.5842 847.853 29.0564 845.052 Q27.4968 842.219 27.4968 838.305 Q27.4968 831.812 32.6531 827.769 Q37.8093 823.695 46.212 823.695 Q54.6147 823.695 59.771 827.769 Q64.9272 831.812 64.9272 838.305 Q64.9272 842.219 63.3994 845.052 Q61.8398 847.853 58.657 849.699 M46.212 829.775 Q39.7508 829.775 36.0905 832.448 Q32.3984 835.09 32.3984 839.737 Q32.3984 844.384 36.0905 847.057 Q39.7508 849.699 46.212 849.699 Q52.6732 849.699 56.3653 847.057 Q60.0256 844.384 60.0256 839.737 Q60.0256 835.09 56.3653 832.448 Q52.6732 829.775 46.212 829.775 Z\" fill=\"#000000\" fill-rule=\"evenodd\" fill-opacity=\"1\" /><path clip-path=\"url(#clip400)\" d=\"M32.4621 800.174 Q32.4621 804.885 36.1542 807.622 Q39.8145 810.359 46.212 810.359 Q52.6095 810.359 56.3017 807.654 Q59.9619 804.916 59.9619 800.174 Q59.9619 795.495 56.2698 792.758 Q52.5777 790.021 46.212 790.021 Q39.8781 790.021 36.186 792.758 Q32.4621 795.495 32.4621 800.174 M27.4968 800.174 Q27.4968 792.535 32.4621 788.175 Q37.4273 783.814 46.212 783.814 Q54.9649 783.814 59.9619 788.175 Q64.9272 792.535 64.9272 800.174 Q64.9272 807.845 59.9619 812.205 Q54.9649 816.534 46.212 816.534 Q37.4273 816.534 32.4621 812.205 Q27.4968 807.845 27.4968 800.174 Z\" fill=\"#000000\" fill-rule=\"evenodd\" fill-opacity=\"1\" /><path clip-path=\"url(#clip400)\" d=\"M29.4065 751.381 L34.9447 751.381 Q33.6716 753.863 33.035 756.537 Q32.3984 759.211 32.3984 762.075 Q32.3984 766.436 33.7352 768.632 Q35.072 770.796 37.7456 770.796 Q39.7826 770.796 40.9603 769.237 Q42.1061 767.677 43.1565 762.966 L43.6021 760.961 Q44.9389 754.723 47.3897 752.113 Q49.8086 749.471 54.1691 749.471 Q59.1344 749.471 62.0308 753.418 Q64.9272 757.333 64.9272 764.208 Q64.9272 767.072 64.3543 770.192 Q63.8132 773.279 62.6992 776.716 L56.6518 776.716 Q58.3387 773.47 59.198 770.319 Q60.0256 767.168 60.0256 764.08 Q60.0256 759.943 58.6251 757.715 Q57.1929 755.487 54.6147 755.487 Q52.2276 755.487 50.9545 757.11 Q49.6813 758.701 48.5037 764.144 L48.0262 766.181 Q46.8804 771.624 44.5251 774.043 Q42.138 776.462 38.0002 776.462 Q32.9713 776.462 30.2341 772.897 Q27.4968 769.332 27.4968 762.775 Q27.4968 759.529 27.9743 756.664 Q28.4517 753.8 29.4065 751.381 Z\" fill=\"#000000\" fill-rule=\"evenodd\" fill-opacity=\"1\" /><path clip-path=\"url(#clip400)\" d=\"M28.3562 740.145 L28.3562 734.289 L64.0042 734.289 L64.0042 740.145 L28.3562 740.145 M14.479 740.145 L14.479 734.289 L21.895 734.289 L21.895 740.145 L14.479 740.145 Z\" fill=\"#000000\" fill-rule=\"evenodd\" fill-opacity=\"1\" /><path clip-path=\"url(#clip400)\" d=\"M18.2347 716.242 L28.3562 716.242 L28.3562 704.179 L32.9077 704.179 L32.9077 716.242 L52.2594 716.242 Q56.6199 716.242 57.8613 715.065 Q59.1026 713.855 59.1026 710.195 L59.1026 704.179 L64.0042 704.179 L64.0042 710.195 Q64.0042 716.974 61.4897 719.552 Q58.9434 722.13 52.2594 722.13 L32.9077 722.13 L32.9077 726.427 L28.3562 726.427 L28.3562 722.13 L18.2347 722.13 L18.2347 716.242 Z\" fill=\"#000000\" fill-rule=\"evenodd\" fill-opacity=\"1\" /><path clip-path=\"url(#clip400)\" d=\"M28.3562 696.477 L28.3562 690.62 L64.0042 690.62 L64.0042 696.477 L28.3562 696.477 M14.479 696.477 L14.479 690.62 L21.895 690.62 L21.895 696.477 L14.479 696.477 Z\" fill=\"#000000\" fill-rule=\"evenodd\" fill-opacity=\"1\" /><path clip-path=\"url(#clip400)\" d=\"M28.3562 682.568 L28.3562 676.361 L58.275 665.221 L28.3562 654.081 L28.3562 647.874 L64.0042 661.242 L64.0042 669.2 L28.3562 682.568 Z\" fill=\"#000000\" fill-rule=\"evenodd\" fill-opacity=\"1\" /><path clip-path=\"url(#clip400)\" d=\"M44.7161 609.298 L47.5806 609.298 L47.5806 636.225 Q53.6281 635.843 56.8109 632.597 Q59.9619 629.318 59.9619 623.494 Q59.9619 620.12 59.1344 616.969 Q58.3069 613.786 56.6518 610.667 L62.1899 610.667 Q63.5267 613.818 64.227 617.128 Q64.9272 620.438 64.9272 623.844 Q64.9272 632.374 59.9619 637.371 Q54.9967 642.336 46.5303 642.336 Q37.7774 642.336 32.6531 637.626 Q27.4968 632.883 27.4968 624.862 Q27.4968 617.669 32.1438 613.5 Q36.7589 609.298 44.7161 609.298 M42.9973 615.155 Q38.1912 615.218 35.3266 617.86 Q32.4621 620.47 32.4621 624.799 Q32.4621 629.7 35.2312 632.66 Q38.0002 635.589 43.0292 636.034 L42.9973 615.155 Z\" fill=\"#000000\" fill-rule=\"evenodd\" fill-opacity=\"1\" /><path clip-path=\"url(#clip400)\" d=\"M33.8307 558.309 Q33.2578 559.296 33.0032 560.473 Q32.7167 561.619 32.7167 563.02 Q32.7167 567.985 35.9632 570.658 Q39.1779 573.3 45.2253 573.3 L64.0042 573.3 L64.0042 579.188 L28.3562 579.188 L28.3562 573.3 L33.8944 573.3 Q30.6479 571.454 29.0883 568.494 Q27.4968 565.534 27.4968 561.301 Q27.4968 560.696 27.5923 559.964 Q27.656 559.232 27.8151 558.341 L33.8307 558.309 Z\" fill=\"#000000\" fill-rule=\"evenodd\" fill-opacity=\"1\" /><path clip-path=\"url(#clip400)\" d=\"M46.0847 535.965 Q46.0847 543.063 47.7079 545.8 Q49.3312 548.538 53.2461 548.538 Q56.3653 548.538 58.2114 546.501 Q60.0256 544.432 60.0256 540.899 Q60.0256 536.029 56.5881 533.101 Q53.1188 530.141 47.3897 530.141 L46.0847 530.141 L46.0847 535.965 M43.6657 524.284 L64.0042 524.284 L64.0042 530.141 L58.5933 530.141 Q61.8398 532.146 63.3994 535.138 Q64.9272 538.13 64.9272 542.458 Q64.9272 547.933 61.8716 551.179 Q58.7843 554.394 53.6281 554.394 Q47.6125 554.394 44.5569 550.384 Q41.5014 546.341 41.5014 538.352 L41.5014 530.141 L40.9285 530.141 Q36.8862 530.141 34.6901 532.814 Q32.4621 535.456 32.4621 540.262 Q32.4621 543.318 33.1941 546.214 Q33.9262 549.111 35.3903 551.784 L29.9795 551.784 Q28.7381 548.569 28.1334 545.546 Q27.4968 542.522 27.4968 539.657 Q27.4968 531.923 31.5072 528.104 Q35.5176 524.284 43.6657 524.284 Z\" fill=\"#000000\" fill-rule=\"evenodd\" fill-opacity=\"1\" /><path clip-path=\"url(#clip400)\" d=\"M18.2347 506.428 L28.3562 506.428 L28.3562 494.365 L32.9077 494.365 L32.9077 506.428 L52.2594 506.428 Q56.6199 506.428 57.8613 505.251 Q59.1026 504.041 59.1026 500.381 L59.1026 494.365 L64.0042 494.365 L64.0042 500.381 Q64.0042 507.161 61.4897 509.739 Q58.9434 512.317 52.2594 512.317 L32.9077 512.317 L32.9077 516.614 L28.3562 516.614 L28.3562 512.317 L18.2347 512.317 L18.2347 506.428 Z\" fill=\"#000000\" fill-rule=\"evenodd\" fill-opacity=\"1\" /><path clip-path=\"url(#clip400)\" d=\"M44.7161 456.171 L47.5806 456.171 L47.5806 483.098 Q53.6281 482.716 56.8109 479.47 Q59.9619 476.191 59.9619 470.367 Q59.9619 466.993 59.1344 463.842 Q58.3069 460.659 56.6518 457.54 L62.1899 457.54 Q63.5267 460.691 64.227 464.001 Q64.9272 467.311 64.9272 470.717 Q64.9272 479.247 59.9619 484.244 Q54.9967 489.209 46.5303 489.209 Q37.7774 489.209 32.6531 484.499 Q27.4968 479.756 27.4968 471.735 Q27.4968 464.542 32.1438 460.373 Q36.7589 456.171 44.7161 456.171 M42.9973 462.028 Q38.1912 462.091 35.3266 464.733 Q32.4621 467.343 32.4621 471.672 Q32.4621 476.573 35.2312 479.533 Q38.0002 482.462 43.0292 482.907 L42.9973 462.028 Z\" fill=\"#000000\" fill-rule=\"evenodd\" fill-opacity=\"1\" /><circle clip-path=\"url(#clip402)\" cx=\"309.067\" cy=\"1384.24\" r=\"14\" fill=\"#009af9\" fill-rule=\"evenodd\" fill-opacity=\"1\" stroke=\"#000000\" stroke-opacity=\"1\" stroke-width=\"3.2\"/>\n",
       "<circle clip-path=\"url(#clip402)\" cx=\"309.067\" cy=\"1344.9\" r=\"14\" fill=\"#009af9\" fill-rule=\"evenodd\" fill-opacity=\"1\" stroke=\"#000000\" stroke-opacity=\"1\" stroke-width=\"3.2\"/>\n",
       "<circle clip-path=\"url(#clip402)\" cx=\"309.067\" cy=\"1266.23\" r=\"14\" fill=\"#009af9\" fill-rule=\"evenodd\" fill-opacity=\"1\" stroke=\"#000000\" stroke-opacity=\"1\" stroke-width=\"3.2\"/>\n",
       "<circle clip-path=\"url(#clip402)\" cx=\"309.067\" cy=\"1226.9\" r=\"14\" fill=\"#009af9\" fill-rule=\"evenodd\" fill-opacity=\"1\" stroke=\"#000000\" stroke-opacity=\"1\" stroke-width=\"3.2\"/>\n",
       "<circle clip-path=\"url(#clip402)\" cx=\"309.067\" cy=\"1187.56\" r=\"14\" fill=\"#009af9\" fill-rule=\"evenodd\" fill-opacity=\"1\" stroke=\"#000000\" stroke-opacity=\"1\" stroke-width=\"3.2\"/>\n",
       "<circle clip-path=\"url(#clip402)\" cx=\"326.321\" cy=\"1187.56\" r=\"14\" fill=\"#009af9\" fill-rule=\"evenodd\" fill-opacity=\"1\" stroke=\"#000000\" stroke-opacity=\"1\" stroke-width=\"3.2\"/>\n",
       "<circle clip-path=\"url(#clip402)\" cx=\"326.321\" cy=\"1148.23\" r=\"14\" fill=\"#009af9\" fill-rule=\"evenodd\" fill-opacity=\"1\" stroke=\"#000000\" stroke-opacity=\"1\" stroke-width=\"3.2\"/>\n",
       "<circle clip-path=\"url(#clip402)\" cx=\"326.321\" cy=\"1108.89\" r=\"14\" fill=\"#009af9\" fill-rule=\"evenodd\" fill-opacity=\"1\" stroke=\"#000000\" stroke-opacity=\"1\" stroke-width=\"3.2\"/>\n",
       "<circle clip-path=\"url(#clip402)\" cx=\"343.574\" cy=\"1108.89\" r=\"14\" fill=\"#009af9\" fill-rule=\"evenodd\" fill-opacity=\"1\" stroke=\"#000000\" stroke-opacity=\"1\" stroke-width=\"3.2\"/>\n",
       "<circle clip-path=\"url(#clip402)\" cx=\"360.828\" cy=\"1108.89\" r=\"14\" fill=\"#009af9\" fill-rule=\"evenodd\" fill-opacity=\"1\" stroke=\"#000000\" stroke-opacity=\"1\" stroke-width=\"3.2\"/>\n",
       "<circle clip-path=\"url(#clip402)\" cx=\"360.828\" cy=\"1069.56\" r=\"14\" fill=\"#009af9\" fill-rule=\"evenodd\" fill-opacity=\"1\" stroke=\"#000000\" stroke-opacity=\"1\" stroke-width=\"3.2\"/>\n",
       "<circle clip-path=\"url(#clip402)\" cx=\"378.081\" cy=\"1069.56\" r=\"14\" fill=\"#009af9\" fill-rule=\"evenodd\" fill-opacity=\"1\" stroke=\"#000000\" stroke-opacity=\"1\" stroke-width=\"3.2\"/>\n",
       "<circle clip-path=\"url(#clip402)\" cx=\"378.081\" cy=\"1030.22\" r=\"14\" fill=\"#009af9\" fill-rule=\"evenodd\" fill-opacity=\"1\" stroke=\"#000000\" stroke-opacity=\"1\" stroke-width=\"3.2\"/>\n",
       "<circle clip-path=\"url(#clip402)\" cx=\"378.081\" cy=\"951.554\" r=\"14\" fill=\"#009af9\" fill-rule=\"evenodd\" fill-opacity=\"1\" stroke=\"#000000\" stroke-opacity=\"1\" stroke-width=\"3.2\"/>\n",
       "<circle clip-path=\"url(#clip402)\" cx=\"378.081\" cy=\"912.219\" r=\"14\" fill=\"#009af9\" fill-rule=\"evenodd\" fill-opacity=\"1\" stroke=\"#000000\" stroke-opacity=\"1\" stroke-width=\"3.2\"/>\n",
       "<circle clip-path=\"url(#clip402)\" cx=\"395.335\" cy=\"912.219\" r=\"14\" fill=\"#009af9\" fill-rule=\"evenodd\" fill-opacity=\"1\" stroke=\"#000000\" stroke-opacity=\"1\" stroke-width=\"3.2\"/>\n",
       "<circle clip-path=\"url(#clip402)\" cx=\"412.589\" cy=\"912.219\" r=\"14\" fill=\"#009af9\" fill-rule=\"evenodd\" fill-opacity=\"1\" stroke=\"#000000\" stroke-opacity=\"1\" stroke-width=\"3.2\"/>\n",
       "<circle clip-path=\"url(#clip402)\" cx=\"412.589\" cy=\"872.884\" r=\"14\" fill=\"#009af9\" fill-rule=\"evenodd\" fill-opacity=\"1\" stroke=\"#000000\" stroke-opacity=\"1\" stroke-width=\"3.2\"/>\n",
       "<circle clip-path=\"url(#clip402)\" cx=\"412.589\" cy=\"833.549\" r=\"14\" fill=\"#009af9\" fill-rule=\"evenodd\" fill-opacity=\"1\" stroke=\"#000000\" stroke-opacity=\"1\" stroke-width=\"3.2\"/>\n",
       "<circle clip-path=\"url(#clip402)\" cx=\"429.842\" cy=\"833.549\" r=\"14\" fill=\"#009af9\" fill-rule=\"evenodd\" fill-opacity=\"1\" stroke=\"#000000\" stroke-opacity=\"1\" stroke-width=\"3.2\"/>\n",
       "<circle clip-path=\"url(#clip402)\" cx=\"447.096\" cy=\"833.549\" r=\"14\" fill=\"#009af9\" fill-rule=\"evenodd\" fill-opacity=\"1\" stroke=\"#000000\" stroke-opacity=\"1\" stroke-width=\"3.2\"/>\n",
       "<circle clip-path=\"url(#clip402)\" cx=\"464.349\" cy=\"833.549\" r=\"14\" fill=\"#009af9\" fill-rule=\"evenodd\" fill-opacity=\"1\" stroke=\"#000000\" stroke-opacity=\"1\" stroke-width=\"3.2\"/>\n",
       "<circle clip-path=\"url(#clip402)\" cx=\"481.603\" cy=\"794.214\" r=\"14\" fill=\"#009af9\" fill-rule=\"evenodd\" fill-opacity=\"1\" stroke=\"#000000\" stroke-opacity=\"1\" stroke-width=\"3.2\"/>\n",
       "<circle clip-path=\"url(#clip402)\" cx=\"498.857\" cy=\"794.214\" r=\"14\" fill=\"#009af9\" fill-rule=\"evenodd\" fill-opacity=\"1\" stroke=\"#000000\" stroke-opacity=\"1\" stroke-width=\"3.2\"/>\n",
       "<circle clip-path=\"url(#clip402)\" cx=\"498.857\" cy=\"754.879\" r=\"14\" fill=\"#009af9\" fill-rule=\"evenodd\" fill-opacity=\"1\" stroke=\"#000000\" stroke-opacity=\"1\" stroke-width=\"3.2\"/>\n",
       "<circle clip-path=\"url(#clip402)\" cx=\"516.11\" cy=\"754.879\" r=\"14\" fill=\"#009af9\" fill-rule=\"evenodd\" fill-opacity=\"1\" stroke=\"#000000\" stroke-opacity=\"1\" stroke-width=\"3.2\"/>\n",
       "<circle clip-path=\"url(#clip402)\" cx=\"516.11\" cy=\"715.545\" r=\"14\" fill=\"#009af9\" fill-rule=\"evenodd\" fill-opacity=\"1\" stroke=\"#000000\" stroke-opacity=\"1\" stroke-width=\"3.2\"/>\n",
       "<circle clip-path=\"url(#clip402)\" cx=\"533.364\" cy=\"715.545\" r=\"14\" fill=\"#009af9\" fill-rule=\"evenodd\" fill-opacity=\"1\" stroke=\"#000000\" stroke-opacity=\"1\" stroke-width=\"3.2\"/>\n",
       "<circle clip-path=\"url(#clip402)\" cx=\"550.617\" cy=\"715.545\" r=\"14\" fill=\"#009af9\" fill-rule=\"evenodd\" fill-opacity=\"1\" stroke=\"#000000\" stroke-opacity=\"1\" stroke-width=\"3.2\"/>\n",
       "<circle clip-path=\"url(#clip402)\" cx=\"550.617\" cy=\"676.21\" r=\"14\" fill=\"#009af9\" fill-rule=\"evenodd\" fill-opacity=\"1\" stroke=\"#000000\" stroke-opacity=\"1\" stroke-width=\"3.2\"/>\n",
       "<circle clip-path=\"url(#clip402)\" cx=\"550.617\" cy=\"636.875\" r=\"14\" fill=\"#009af9\" fill-rule=\"evenodd\" fill-opacity=\"1\" stroke=\"#000000\" stroke-opacity=\"1\" stroke-width=\"3.2\"/>\n",
       "<circle clip-path=\"url(#clip402)\" cx=\"567.871\" cy=\"636.875\" r=\"14\" fill=\"#009af9\" fill-rule=\"evenodd\" fill-opacity=\"1\" stroke=\"#000000\" stroke-opacity=\"1\" stroke-width=\"3.2\"/>\n",
       "<circle clip-path=\"url(#clip402)\" cx=\"602.378\" cy=\"636.875\" r=\"14\" fill=\"#009af9\" fill-rule=\"evenodd\" fill-opacity=\"1\" stroke=\"#000000\" stroke-opacity=\"1\" stroke-width=\"3.2\"/>\n",
       "<circle clip-path=\"url(#clip402)\" cx=\"602.378\" cy=\"597.54\" r=\"14\" fill=\"#009af9\" fill-rule=\"evenodd\" fill-opacity=\"1\" stroke=\"#000000\" stroke-opacity=\"1\" stroke-width=\"3.2\"/>\n",
       "<circle clip-path=\"url(#clip402)\" cx=\"619.632\" cy=\"597.54\" r=\"14\" fill=\"#009af9\" fill-rule=\"evenodd\" fill-opacity=\"1\" stroke=\"#000000\" stroke-opacity=\"1\" stroke-width=\"3.2\"/>\n",
       "<circle clip-path=\"url(#clip402)\" cx=\"619.632\" cy=\"558.205\" r=\"14\" fill=\"#009af9\" fill-rule=\"evenodd\" fill-opacity=\"1\" stroke=\"#000000\" stroke-opacity=\"1\" stroke-width=\"3.2\"/>\n",
       "<circle clip-path=\"url(#clip402)\" cx=\"636.885\" cy=\"558.205\" r=\"14\" fill=\"#009af9\" fill-rule=\"evenodd\" fill-opacity=\"1\" stroke=\"#000000\" stroke-opacity=\"1\" stroke-width=\"3.2\"/>\n",
       "<circle clip-path=\"url(#clip402)\" cx=\"671.393\" cy=\"558.205\" r=\"14\" fill=\"#009af9\" fill-rule=\"evenodd\" fill-opacity=\"1\" stroke=\"#000000\" stroke-opacity=\"1\" stroke-width=\"3.2\"/>\n",
       "<circle clip-path=\"url(#clip402)\" cx=\"688.646\" cy=\"558.205\" r=\"14\" fill=\"#009af9\" fill-rule=\"evenodd\" fill-opacity=\"1\" stroke=\"#000000\" stroke-opacity=\"1\" stroke-width=\"3.2\"/>\n",
       "<circle clip-path=\"url(#clip402)\" cx=\"688.646\" cy=\"518.87\" r=\"14\" fill=\"#009af9\" fill-rule=\"evenodd\" fill-opacity=\"1\" stroke=\"#000000\" stroke-opacity=\"1\" stroke-width=\"3.2\"/>\n",
       "<circle clip-path=\"url(#clip402)\" cx=\"705.9\" cy=\"518.87\" r=\"14\" fill=\"#009af9\" fill-rule=\"evenodd\" fill-opacity=\"1\" stroke=\"#000000\" stroke-opacity=\"1\" stroke-width=\"3.2\"/>\n",
       "<circle clip-path=\"url(#clip402)\" cx=\"723.153\" cy=\"518.87\" r=\"14\" fill=\"#009af9\" fill-rule=\"evenodd\" fill-opacity=\"1\" stroke=\"#000000\" stroke-opacity=\"1\" stroke-width=\"3.2\"/>\n",
       "<circle clip-path=\"url(#clip402)\" cx=\"740.407\" cy=\"518.87\" r=\"14\" fill=\"#009af9\" fill-rule=\"evenodd\" fill-opacity=\"1\" stroke=\"#000000\" stroke-opacity=\"1\" stroke-width=\"3.2\"/>\n",
       "<circle clip-path=\"url(#clip402)\" cx=\"740.407\" cy=\"479.535\" r=\"14\" fill=\"#009af9\" fill-rule=\"evenodd\" fill-opacity=\"1\" stroke=\"#000000\" stroke-opacity=\"1\" stroke-width=\"3.2\"/>\n",
       "<circle clip-path=\"url(#clip402)\" cx=\"740.407\" cy=\"440.2\" r=\"14\" fill=\"#009af9\" fill-rule=\"evenodd\" fill-opacity=\"1\" stroke=\"#000000\" stroke-opacity=\"1\" stroke-width=\"3.2\"/>\n",
       "<circle clip-path=\"url(#clip402)\" cx=\"774.914\" cy=\"400.865\" r=\"14\" fill=\"#009af9\" fill-rule=\"evenodd\" fill-opacity=\"1\" stroke=\"#000000\" stroke-opacity=\"1\" stroke-width=\"3.2\"/>\n",
       "<circle clip-path=\"url(#clip402)\" cx=\"792.168\" cy=\"400.865\" r=\"14\" fill=\"#009af9\" fill-rule=\"evenodd\" fill-opacity=\"1\" stroke=\"#000000\" stroke-opacity=\"1\" stroke-width=\"3.2\"/>\n",
       "<circle clip-path=\"url(#clip402)\" cx=\"809.421\" cy=\"400.865\" r=\"14\" fill=\"#009af9\" fill-rule=\"evenodd\" fill-opacity=\"1\" stroke=\"#000000\" stroke-opacity=\"1\" stroke-width=\"3.2\"/>\n",
       "<circle clip-path=\"url(#clip402)\" cx=\"809.421\" cy=\"361.53\" r=\"14\" fill=\"#009af9\" fill-rule=\"evenodd\" fill-opacity=\"1\" stroke=\"#000000\" stroke-opacity=\"1\" stroke-width=\"3.2\"/>\n",
       "<circle clip-path=\"url(#clip402)\" cx=\"826.675\" cy=\"361.53\" r=\"14\" fill=\"#009af9\" fill-rule=\"evenodd\" fill-opacity=\"1\" stroke=\"#000000\" stroke-opacity=\"1\" stroke-width=\"3.2\"/>\n",
       "<circle clip-path=\"url(#clip402)\" cx=\"826.675\" cy=\"322.195\" r=\"14\" fill=\"#009af9\" fill-rule=\"evenodd\" fill-opacity=\"1\" stroke=\"#000000\" stroke-opacity=\"1\" stroke-width=\"3.2\"/>\n",
       "<circle clip-path=\"url(#clip402)\" cx=\"826.675\" cy=\"282.86\" r=\"14\" fill=\"#009af9\" fill-rule=\"evenodd\" fill-opacity=\"1\" stroke=\"#000000\" stroke-opacity=\"1\" stroke-width=\"3.2\"/>\n",
       "<circle clip-path=\"url(#clip402)\" cx=\"843.929\" cy=\"282.86\" r=\"14\" fill=\"#009af9\" fill-rule=\"evenodd\" fill-opacity=\"1\" stroke=\"#000000\" stroke-opacity=\"1\" stroke-width=\"3.2\"/>\n",
       "<circle clip-path=\"url(#clip402)\" cx=\"861.182\" cy=\"282.86\" r=\"14\" fill=\"#009af9\" fill-rule=\"evenodd\" fill-opacity=\"1\" stroke=\"#000000\" stroke-opacity=\"1\" stroke-width=\"3.2\"/>\n",
       "<circle clip-path=\"url(#clip402)\" cx=\"878.436\" cy=\"282.86\" r=\"14\" fill=\"#009af9\" fill-rule=\"evenodd\" fill-opacity=\"1\" stroke=\"#000000\" stroke-opacity=\"1\" stroke-width=\"3.2\"/>\n",
       "<circle clip-path=\"url(#clip402)\" cx=\"895.689\" cy=\"282.86\" r=\"14\" fill=\"#009af9\" fill-rule=\"evenodd\" fill-opacity=\"1\" stroke=\"#000000\" stroke-opacity=\"1\" stroke-width=\"3.2\"/>\n",
       "<circle clip-path=\"url(#clip402)\" cx=\"912.943\" cy=\"282.86\" r=\"14\" fill=\"#009af9\" fill-rule=\"evenodd\" fill-opacity=\"1\" stroke=\"#000000\" stroke-opacity=\"1\" stroke-width=\"3.2\"/>\n",
       "<circle clip-path=\"url(#clip402)\" cx=\"930.197\" cy=\"282.86\" r=\"14\" fill=\"#009af9\" fill-rule=\"evenodd\" fill-opacity=\"1\" stroke=\"#000000\" stroke-opacity=\"1\" stroke-width=\"3.2\"/>\n",
       "<circle clip-path=\"url(#clip402)\" cx=\"947.45\" cy=\"282.86\" r=\"14\" fill=\"#009af9\" fill-rule=\"evenodd\" fill-opacity=\"1\" stroke=\"#000000\" stroke-opacity=\"1\" stroke-width=\"3.2\"/>\n",
       "<circle clip-path=\"url(#clip402)\" cx=\"964.704\" cy=\"282.86\" r=\"14\" fill=\"#009af9\" fill-rule=\"evenodd\" fill-opacity=\"1\" stroke=\"#000000\" stroke-opacity=\"1\" stroke-width=\"3.2\"/>\n",
       "<circle clip-path=\"url(#clip402)\" cx=\"981.957\" cy=\"282.86\" r=\"14\" fill=\"#009af9\" fill-rule=\"evenodd\" fill-opacity=\"1\" stroke=\"#000000\" stroke-opacity=\"1\" stroke-width=\"3.2\"/>\n",
       "<circle clip-path=\"url(#clip402)\" cx=\"999.211\" cy=\"282.86\" r=\"14\" fill=\"#009af9\" fill-rule=\"evenodd\" fill-opacity=\"1\" stroke=\"#000000\" stroke-opacity=\"1\" stroke-width=\"3.2\"/>\n",
       "<circle clip-path=\"url(#clip402)\" cx=\"1016.46\" cy=\"282.86\" r=\"14\" fill=\"#009af9\" fill-rule=\"evenodd\" fill-opacity=\"1\" stroke=\"#000000\" stroke-opacity=\"1\" stroke-width=\"3.2\"/>\n",
       "<circle clip-path=\"url(#clip402)\" cx=\"1033.72\" cy=\"282.86\" r=\"14\" fill=\"#009af9\" fill-rule=\"evenodd\" fill-opacity=\"1\" stroke=\"#000000\" stroke-opacity=\"1\" stroke-width=\"3.2\"/>\n",
       "<circle clip-path=\"url(#clip402)\" cx=\"1050.97\" cy=\"282.86\" r=\"14\" fill=\"#009af9\" fill-rule=\"evenodd\" fill-opacity=\"1\" stroke=\"#000000\" stroke-opacity=\"1\" stroke-width=\"3.2\"/>\n",
       "<circle clip-path=\"url(#clip402)\" cx=\"1068.23\" cy=\"282.86\" r=\"14\" fill=\"#009af9\" fill-rule=\"evenodd\" fill-opacity=\"1\" stroke=\"#000000\" stroke-opacity=\"1\" stroke-width=\"3.2\"/>\n",
       "<circle clip-path=\"url(#clip402)\" cx=\"1085.48\" cy=\"282.86\" r=\"14\" fill=\"#009af9\" fill-rule=\"evenodd\" fill-opacity=\"1\" stroke=\"#000000\" stroke-opacity=\"1\" stroke-width=\"3.2\"/>\n",
       "<circle clip-path=\"url(#clip402)\" cx=\"1102.73\" cy=\"282.86\" r=\"14\" fill=\"#009af9\" fill-rule=\"evenodd\" fill-opacity=\"1\" stroke=\"#000000\" stroke-opacity=\"1\" stroke-width=\"3.2\"/>\n",
       "<circle clip-path=\"url(#clip402)\" cx=\"1119.99\" cy=\"282.86\" r=\"14\" fill=\"#009af9\" fill-rule=\"evenodd\" fill-opacity=\"1\" stroke=\"#000000\" stroke-opacity=\"1\" stroke-width=\"3.2\"/>\n",
       "<circle clip-path=\"url(#clip402)\" cx=\"1154.49\" cy=\"282.86\" r=\"14\" fill=\"#009af9\" fill-rule=\"evenodd\" fill-opacity=\"1\" stroke=\"#000000\" stroke-opacity=\"1\" stroke-width=\"3.2\"/>\n",
       "<circle clip-path=\"url(#clip402)\" cx=\"1171.75\" cy=\"282.86\" r=\"14\" fill=\"#009af9\" fill-rule=\"evenodd\" fill-opacity=\"1\" stroke=\"#000000\" stroke-opacity=\"1\" stroke-width=\"3.2\"/>\n",
       "<circle clip-path=\"url(#clip402)\" cx=\"1189\" cy=\"282.86\" r=\"14\" fill=\"#009af9\" fill-rule=\"evenodd\" fill-opacity=\"1\" stroke=\"#000000\" stroke-opacity=\"1\" stroke-width=\"3.2\"/>\n",
       "<circle clip-path=\"url(#clip402)\" cx=\"1206.25\" cy=\"282.86\" r=\"14\" fill=\"#009af9\" fill-rule=\"evenodd\" fill-opacity=\"1\" stroke=\"#000000\" stroke-opacity=\"1\" stroke-width=\"3.2\"/>\n",
       "<circle clip-path=\"url(#clip402)\" cx=\"1206.25\" cy=\"243.525\" r=\"14\" fill=\"#009af9\" fill-rule=\"evenodd\" fill-opacity=\"1\" stroke=\"#000000\" stroke-opacity=\"1\" stroke-width=\"3.2\"/>\n",
       "<circle clip-path=\"url(#clip402)\" cx=\"1223.51\" cy=\"243.525\" r=\"14\" fill=\"#009af9\" fill-rule=\"evenodd\" fill-opacity=\"1\" stroke=\"#000000\" stroke-opacity=\"1\" stroke-width=\"3.2\"/>\n",
       "<circle clip-path=\"url(#clip402)\" cx=\"1240.76\" cy=\"243.525\" r=\"14\" fill=\"#009af9\" fill-rule=\"evenodd\" fill-opacity=\"1\" stroke=\"#000000\" stroke-opacity=\"1\" stroke-width=\"3.2\"/>\n",
       "<circle clip-path=\"url(#clip402)\" cx=\"1240.76\" cy=\"204.19\" r=\"14\" fill=\"#009af9\" fill-rule=\"evenodd\" fill-opacity=\"1\" stroke=\"#000000\" stroke-opacity=\"1\" stroke-width=\"3.2\"/>\n",
       "<circle clip-path=\"url(#clip402)\" cx=\"1258.01\" cy=\"204.19\" r=\"14\" fill=\"#009af9\" fill-rule=\"evenodd\" fill-opacity=\"1\" stroke=\"#000000\" stroke-opacity=\"1\" stroke-width=\"3.2\"/>\n",
       "<circle clip-path=\"url(#clip402)\" cx=\"1275.27\" cy=\"204.19\" r=\"14\" fill=\"#009af9\" fill-rule=\"evenodd\" fill-opacity=\"1\" stroke=\"#000000\" stroke-opacity=\"1\" stroke-width=\"3.2\"/>\n",
       "<circle clip-path=\"url(#clip402)\" cx=\"1292.52\" cy=\"204.19\" r=\"14\" fill=\"#009af9\" fill-rule=\"evenodd\" fill-opacity=\"1\" stroke=\"#000000\" stroke-opacity=\"1\" stroke-width=\"3.2\"/>\n",
       "<circle clip-path=\"url(#clip402)\" cx=\"1309.78\" cy=\"204.19\" r=\"14\" fill=\"#009af9\" fill-rule=\"evenodd\" fill-opacity=\"1\" stroke=\"#000000\" stroke-opacity=\"1\" stroke-width=\"3.2\"/>\n",
       "<circle clip-path=\"url(#clip402)\" cx=\"1309.78\" cy=\"164.856\" r=\"14\" fill=\"#009af9\" fill-rule=\"evenodd\" fill-opacity=\"1\" stroke=\"#000000\" stroke-opacity=\"1\" stroke-width=\"3.2\"/>\n",
       "<circle clip-path=\"url(#clip402)\" cx=\"1327.03\" cy=\"164.856\" r=\"14\" fill=\"#009af9\" fill-rule=\"evenodd\" fill-opacity=\"1\" stroke=\"#000000\" stroke-opacity=\"1\" stroke-width=\"3.2\"/>\n",
       "<circle clip-path=\"url(#clip402)\" cx=\"1344.28\" cy=\"164.856\" r=\"14\" fill=\"#009af9\" fill-rule=\"evenodd\" fill-opacity=\"1\" stroke=\"#000000\" stroke-opacity=\"1\" stroke-width=\"3.2\"/>\n",
       "<circle clip-path=\"url(#clip402)\" cx=\"1361.54\" cy=\"164.856\" r=\"14\" fill=\"#009af9\" fill-rule=\"evenodd\" fill-opacity=\"1\" stroke=\"#000000\" stroke-opacity=\"1\" stroke-width=\"3.2\"/>\n",
       "<circle clip-path=\"url(#clip402)\" cx=\"1378.79\" cy=\"164.856\" r=\"14\" fill=\"#009af9\" fill-rule=\"evenodd\" fill-opacity=\"1\" stroke=\"#000000\" stroke-opacity=\"1\" stroke-width=\"3.2\"/>\n",
       "<circle clip-path=\"url(#clip402)\" cx=\"1396.04\" cy=\"164.856\" r=\"14\" fill=\"#009af9\" fill-rule=\"evenodd\" fill-opacity=\"1\" stroke=\"#000000\" stroke-opacity=\"1\" stroke-width=\"3.2\"/>\n",
       "<circle clip-path=\"url(#clip402)\" cx=\"1396.04\" cy=\"125.521\" r=\"14\" fill=\"#009af9\" fill-rule=\"evenodd\" fill-opacity=\"1\" stroke=\"#000000\" stroke-opacity=\"1\" stroke-width=\"3.2\"/>\n",
       "<circle clip-path=\"url(#clip402)\" cx=\"1413.3\" cy=\"125.521\" r=\"14\" fill=\"#009af9\" fill-rule=\"evenodd\" fill-opacity=\"1\" stroke=\"#000000\" stroke-opacity=\"1\" stroke-width=\"3.2\"/>\n",
       "<circle clip-path=\"url(#clip402)\" cx=\"1430.55\" cy=\"125.521\" r=\"14\" fill=\"#009af9\" fill-rule=\"evenodd\" fill-opacity=\"1\" stroke=\"#000000\" stroke-opacity=\"1\" stroke-width=\"3.2\"/>\n",
       "<circle clip-path=\"url(#clip402)\" cx=\"1447.8\" cy=\"125.521\" r=\"14\" fill=\"#009af9\" fill-rule=\"evenodd\" fill-opacity=\"1\" stroke=\"#000000\" stroke-opacity=\"1\" stroke-width=\"3.2\"/>\n",
       "<circle clip-path=\"url(#clip402)\" cx=\"1465.06\" cy=\"125.521\" r=\"14\" fill=\"#009af9\" fill-rule=\"evenodd\" fill-opacity=\"1\" stroke=\"#000000\" stroke-opacity=\"1\" stroke-width=\"3.2\"/>\n",
       "<circle clip-path=\"url(#clip402)\" cx=\"1482.31\" cy=\"125.521\" r=\"14\" fill=\"#009af9\" fill-rule=\"evenodd\" fill-opacity=\"1\" stroke=\"#000000\" stroke-opacity=\"1\" stroke-width=\"3.2\"/>\n",
       "<circle clip-path=\"url(#clip402)\" cx=\"1499.57\" cy=\"125.521\" r=\"14\" fill=\"#009af9\" fill-rule=\"evenodd\" fill-opacity=\"1\" stroke=\"#000000\" stroke-opacity=\"1\" stroke-width=\"3.2\"/>\n",
       "<circle clip-path=\"url(#clip402)\" cx=\"1516.82\" cy=\"125.521\" r=\"14\" fill=\"#009af9\" fill-rule=\"evenodd\" fill-opacity=\"1\" stroke=\"#000000\" stroke-opacity=\"1\" stroke-width=\"3.2\"/>\n",
       "<circle clip-path=\"url(#clip402)\" cx=\"1551.33\" cy=\"125.521\" r=\"14\" fill=\"#009af9\" fill-rule=\"evenodd\" fill-opacity=\"1\" stroke=\"#000000\" stroke-opacity=\"1\" stroke-width=\"3.2\"/>\n",
       "<circle clip-path=\"url(#clip402)\" cx=\"1568.58\" cy=\"125.521\" r=\"14\" fill=\"#009af9\" fill-rule=\"evenodd\" fill-opacity=\"1\" stroke=\"#000000\" stroke-opacity=\"1\" stroke-width=\"3.2\"/>\n",
       "<circle clip-path=\"url(#clip402)\" cx=\"1585.83\" cy=\"125.521\" r=\"14\" fill=\"#009af9\" fill-rule=\"evenodd\" fill-opacity=\"1\" stroke=\"#000000\" stroke-opacity=\"1\" stroke-width=\"3.2\"/>\n",
       "<circle clip-path=\"url(#clip402)\" cx=\"1603.09\" cy=\"125.521\" r=\"14\" fill=\"#009af9\" fill-rule=\"evenodd\" fill-opacity=\"1\" stroke=\"#000000\" stroke-opacity=\"1\" stroke-width=\"3.2\"/>\n",
       "<circle clip-path=\"url(#clip402)\" cx=\"1654.85\" cy=\"125.521\" r=\"14\" fill=\"#009af9\" fill-rule=\"evenodd\" fill-opacity=\"1\" stroke=\"#000000\" stroke-opacity=\"1\" stroke-width=\"3.2\"/>\n",
       "<circle clip-path=\"url(#clip402)\" cx=\"1672.1\" cy=\"125.521\" r=\"14\" fill=\"#009af9\" fill-rule=\"evenodd\" fill-opacity=\"1\" stroke=\"#000000\" stroke-opacity=\"1\" stroke-width=\"3.2\"/>\n",
       "<circle clip-path=\"url(#clip402)\" cx=\"1689.35\" cy=\"125.521\" r=\"14\" fill=\"#009af9\" fill-rule=\"evenodd\" fill-opacity=\"1\" stroke=\"#000000\" stroke-opacity=\"1\" stroke-width=\"3.2\"/>\n",
       "<circle clip-path=\"url(#clip402)\" cx=\"1706.61\" cy=\"125.521\" r=\"14\" fill=\"#009af9\" fill-rule=\"evenodd\" fill-opacity=\"1\" stroke=\"#000000\" stroke-opacity=\"1\" stroke-width=\"3.2\"/>\n",
       "<circle clip-path=\"url(#clip402)\" cx=\"1723.86\" cy=\"125.521\" r=\"14\" fill=\"#009af9\" fill-rule=\"evenodd\" fill-opacity=\"1\" stroke=\"#000000\" stroke-opacity=\"1\" stroke-width=\"3.2\"/>\n",
       "<circle clip-path=\"url(#clip402)\" cx=\"1741.12\" cy=\"125.521\" r=\"14\" fill=\"#009af9\" fill-rule=\"evenodd\" fill-opacity=\"1\" stroke=\"#000000\" stroke-opacity=\"1\" stroke-width=\"3.2\"/>\n",
       "<circle clip-path=\"url(#clip402)\" cx=\"1741.12\" cy=\"86.1857\" r=\"14\" fill=\"#009af9\" fill-rule=\"evenodd\" fill-opacity=\"1\" stroke=\"#000000\" stroke-opacity=\"1\" stroke-width=\"3.2\"/>\n",
       "<circle clip-path=\"url(#clip402)\" cx=\"1758.37\" cy=\"86.1857\" r=\"14\" fill=\"#009af9\" fill-rule=\"evenodd\" fill-opacity=\"1\" stroke=\"#000000\" stroke-opacity=\"1\" stroke-width=\"3.2\"/>\n",
       "<circle clip-path=\"url(#clip402)\" cx=\"1775.62\" cy=\"86.1857\" r=\"14\" fill=\"#009af9\" fill-rule=\"evenodd\" fill-opacity=\"1\" stroke=\"#000000\" stroke-opacity=\"1\" stroke-width=\"3.2\"/>\n",
       "<circle clip-path=\"url(#clip402)\" cx=\"1792.88\" cy=\"86.1857\" r=\"14\" fill=\"#009af9\" fill-rule=\"evenodd\" fill-opacity=\"1\" stroke=\"#000000\" stroke-opacity=\"1\" stroke-width=\"3.2\"/>\n",
       "<circle clip-path=\"url(#clip402)\" cx=\"1810.13\" cy=\"86.1857\" r=\"14\" fill=\"#009af9\" fill-rule=\"evenodd\" fill-opacity=\"1\" stroke=\"#000000\" stroke-opacity=\"1\" stroke-width=\"3.2\"/>\n",
       "<circle clip-path=\"url(#clip402)\" cx=\"1827.38\" cy=\"86.1857\" r=\"14\" fill=\"#009af9\" fill-rule=\"evenodd\" fill-opacity=\"1\" stroke=\"#000000\" stroke-opacity=\"1\" stroke-width=\"3.2\"/>\n",
       "<circle clip-path=\"url(#clip402)\" cx=\"1844.64\" cy=\"86.1857\" r=\"14\" fill=\"#009af9\" fill-rule=\"evenodd\" fill-opacity=\"1\" stroke=\"#000000\" stroke-opacity=\"1\" stroke-width=\"3.2\"/>\n",
       "<circle clip-path=\"url(#clip402)\" cx=\"1861.89\" cy=\"86.1857\" r=\"14\" fill=\"#009af9\" fill-rule=\"evenodd\" fill-opacity=\"1\" stroke=\"#000000\" stroke-opacity=\"1\" stroke-width=\"3.2\"/>\n",
       "<circle clip-path=\"url(#clip402)\" cx=\"1913.65\" cy=\"86.1857\" r=\"14\" fill=\"#009af9\" fill-rule=\"evenodd\" fill-opacity=\"1\" stroke=\"#000000\" stroke-opacity=\"1\" stroke-width=\"3.2\"/>\n",
       "<circle clip-path=\"url(#clip402)\" cx=\"1965.41\" cy=\"86.1857\" r=\"14\" fill=\"#009af9\" fill-rule=\"evenodd\" fill-opacity=\"1\" stroke=\"#000000\" stroke-opacity=\"1\" stroke-width=\"3.2\"/>\n",
       "<circle clip-path=\"url(#clip402)\" cx=\"1982.67\" cy=\"86.1857\" r=\"14\" fill=\"#009af9\" fill-rule=\"evenodd\" fill-opacity=\"1\" stroke=\"#000000\" stroke-opacity=\"1\" stroke-width=\"3.2\"/>\n",
       "<circle clip-path=\"url(#clip402)\" cx=\"1999.92\" cy=\"86.1857\" r=\"14\" fill=\"#009af9\" fill-rule=\"evenodd\" fill-opacity=\"1\" stroke=\"#000000\" stroke-opacity=\"1\" stroke-width=\"3.2\"/>\n",
       "<circle clip-path=\"url(#clip402)\" cx=\"2017.17\" cy=\"86.1857\" r=\"14\" fill=\"#009af9\" fill-rule=\"evenodd\" fill-opacity=\"1\" stroke=\"#000000\" stroke-opacity=\"1\" stroke-width=\"3.2\"/>\n",
       "<circle clip-path=\"url(#clip402)\" cx=\"2034.43\" cy=\"86.1857\" r=\"14\" fill=\"#009af9\" fill-rule=\"evenodd\" fill-opacity=\"1\" stroke=\"#000000\" stroke-opacity=\"1\" stroke-width=\"3.2\"/>\n",
       "<circle clip-path=\"url(#clip402)\" cx=\"2086.19\" cy=\"86.1857\" r=\"14\" fill=\"#009af9\" fill-rule=\"evenodd\" fill-opacity=\"1\" stroke=\"#000000\" stroke-opacity=\"1\" stroke-width=\"3.2\"/>\n",
       "<circle clip-path=\"url(#clip402)\" cx=\"2103.44\" cy=\"86.1857\" r=\"14\" fill=\"#009af9\" fill-rule=\"evenodd\" fill-opacity=\"1\" stroke=\"#000000\" stroke-opacity=\"1\" stroke-width=\"3.2\"/>\n",
       "<circle clip-path=\"url(#clip402)\" cx=\"2120.69\" cy=\"86.1857\" r=\"14\" fill=\"#009af9\" fill-rule=\"evenodd\" fill-opacity=\"1\" stroke=\"#000000\" stroke-opacity=\"1\" stroke-width=\"3.2\"/>\n",
       "<circle clip-path=\"url(#clip402)\" cx=\"2189.71\" cy=\"86.1857\" r=\"14\" fill=\"#009af9\" fill-rule=\"evenodd\" fill-opacity=\"1\" stroke=\"#000000\" stroke-opacity=\"1\" stroke-width=\"3.2\"/>\n",
       "<circle clip-path=\"url(#clip402)\" cx=\"2206.96\" cy=\"86.1857\" r=\"14\" fill=\"#009af9\" fill-rule=\"evenodd\" fill-opacity=\"1\" stroke=\"#000000\" stroke-opacity=\"1\" stroke-width=\"3.2\"/>\n",
       "<circle clip-path=\"url(#clip402)\" cx=\"2224.22\" cy=\"86.1857\" r=\"14\" fill=\"#009af9\" fill-rule=\"evenodd\" fill-opacity=\"1\" stroke=\"#000000\" stroke-opacity=\"1\" stroke-width=\"3.2\"/>\n",
       "<circle clip-path=\"url(#clip402)\" cx=\"2241.47\" cy=\"86.1857\" r=\"14\" fill=\"#009af9\" fill-rule=\"evenodd\" fill-opacity=\"1\" stroke=\"#000000\" stroke-opacity=\"1\" stroke-width=\"3.2\"/>\n",
       "<circle clip-path=\"url(#clip402)\" cx=\"2275.98\" cy=\"86.1857\" r=\"14\" fill=\"#009af9\" fill-rule=\"evenodd\" fill-opacity=\"1\" stroke=\"#000000\" stroke-opacity=\"1\" stroke-width=\"3.2\"/>\n",
       "<circle clip-path=\"url(#clip402)\" cx=\"2293.23\" cy=\"86.1857\" r=\"14\" fill=\"#009af9\" fill-rule=\"evenodd\" fill-opacity=\"1\" stroke=\"#000000\" stroke-opacity=\"1\" stroke-width=\"3.2\"/>\n",
       "<polyline clip-path=\"url(#clip402)\" style=\"stroke:#000000; stroke-linecap:butt; stroke-linejoin:round; stroke-width:8; stroke-opacity:1; fill:none\" stroke-dasharray=\"32, 20\" points=\"\n",
       "  309.067,1384.24 2293.23,86.1857 \n",
       "  \"/>\n",
       "</svg>\n"
      ]
     },
     "execution_count": 42,
     "metadata": {},
     "output_type": "execute_result"
    }
   ],
   "source": [
    "roc_curve = roc(ŷ, y[validation])\n",
    "plt = scatter(roc_curve, legend=false)\n",
    "plot!(plt, xlab=\"false positive rate\", ylab=\"true positive rate\")\n",
    "plot!([0, 1], [0, 1], linewidth=2, linestyle=:dash, color=:black)"
   ]
  },
  {
   "cell_type": "markdown",
   "metadata": {},
   "source": [
    "### Automated performance evaluation (more typical workflow)"
   ]
  },
  {
   "cell_type": "markdown",
   "metadata": {},
   "source": [
    "We can also get performance estimates with a single call to the\n",
    "`evaluate` function, which also allows for more complicated\n",
    "resampling - in this case stratified cross-validation. To make this\n",
    "more comprehensive, we set `repeats=3` below to make our\n",
    "cross-validation \"Monte Carlo\" (3 random size-6 partitions of the\n",
    "observation space, for a total of 18 folds) and set\n",
    "`acceleration=CPUThreads()` to parallelize the computation."
   ]
  },
  {
   "cell_type": "markdown",
   "metadata": {},
   "source": [
    "We choose a `StratifiedCV` resampling strategy; the complete list of options is\n",
    "[here](https://alan-turing-institute.github.io/MLJ.jl/dev/evaluating_model_performance/#Built-in-resampling-strategies)."
   ]
  },
  {
   "cell_type": "code",
   "execution_count": 43,
   "metadata": {},
   "outputs": [
    {
     "name": "stderr",
     "output_type": "stream",
     "text": [
      "┌ Info: Performing evaluations using 5 threads.\n",
      "└ @ MLJBase /Users/anthony/.julia/packages/MLJBase/hHa7b/src/resampling.jl:1177\n",
      "\u001b[33mEvaluating over 18 folds: 100%[=========================] Time: 0:00:02\u001b[39m\n"
     ]
    },
    {
     "data": {
      "text/plain": [
       "PerformanceEvaluation object with these fields:\n",
       "  measure, measurement, operation, per_fold,\n",
       "  per_observation, fitted_params_per_fold,\n",
       "  report_per_fold, train_test_pairs\n",
       "Extract:\n",
       "┌──────────────────┬─────────────┬──────────────┬───────────────────────────────\n",
       "│\u001b[22m measure          \u001b[0m│\u001b[22m measurement \u001b[0m│\u001b[22m operation    \u001b[0m│\u001b[22m per_fold                    \u001b[0m ⋯\n",
       "├──────────────────┼─────────────┼──────────────┼───────────────────────────────\n",
       "│ BrierLoss()      │ 0.313       │ predict      │ [0.296, 0.346, 0.289, 0.337, ⋯\n",
       "│ AreaUnderCurve() │ 0.789       │ predict      │ [0.791, 0.732, 0.8, 0.778, 0 ⋯\n",
       "│ Accuracy()       │ 0.781       │ predict_mode │ [0.795, 0.78, 0.768, 0.744,  ⋯\n",
       "└──────────────────┴─────────────┴──────────────┴───────────────────────────────\n",
       "\u001b[36m                                                                1 column omitted\u001b[0m\n"
      ]
     },
     "execution_count": 43,
     "metadata": {},
     "output_type": "execute_result"
    }
   ],
   "source": [
    "e_pipe = evaluate(pipe, X, y,\n",
    "                  resampling=StratifiedCV(nfolds=6, rng=123),\n",
    "                  measures=[brier_loss, auc, accuracy],\n",
    "                  repeats=3,\n",
    "                  acceleration=CPUThreads())"
   ]
  },
  {
   "cell_type": "markdown",
   "metadata": {},
   "source": [
    "(There is also a version of `evaluate` for machines. Query the\n",
    "`evaluate` and `evaluate!` doc-strings to learn more about these\n",
    "functions and what the `PerformanceEvaluation` object `e_pipe` records.)"
   ]
  },
  {
   "cell_type": "markdown",
   "metadata": {},
   "source": [
    "While [less than ideal](https://arxiv.org/abs/2104.00673), let's\n",
    "adopt the common practice of using the standard error of a\n",
    "cross-validation score as an estimate of the uncertainty of a\n",
    "performance measure's expected value. Here's a utility function to\n",
    "calculate confidence intervals for our performance estimates based\n",
    "on this practice, and it's application to the current evaluation:"
   ]
  },
  {
   "cell_type": "code",
   "execution_count": 44,
   "metadata": {},
   "outputs": [],
   "source": [
    "using Measurements"
   ]
  },
  {
   "cell_type": "code",
   "execution_count": 45,
   "metadata": {},
   "outputs": [
    {
     "data": {
      "text/html": [
       "<div class=\"data-frame\"><p>3 rows × 2 columns</p><table class=\"data-frame\"><thead><tr><th></th><th>measure</th><th>measurement</th></tr><tr><th></th><th title=\"MLJBase.Measure\">Measure</th><th title=\"Measurement{Float64}\">Measurem…</th></tr></thead><tbody><tr><th>1</th><td>BrierLoss()</td><td>0.3131±0.0071</td></tr><tr><th>2</th><td>AreaUnderCurve()</td><td>0.789±0.011</td></tr><tr><th>3</th><td>Accuracy()</td><td>0.7809±0.0072</td></tr></tbody></table></div>"
      ],
      "text/latex": [
       "\\begin{tabular}{r|cc}\n",
       "\t& measure & measurement\\\\\n",
       "\t\\hline\n",
       "\t& Measure & Measurem…\\\\\n",
       "\t\\hline\n",
       "\t1 & BrierLoss() & $0.3131 \\pm 0.0071$ \\\\\n",
       "\t2 & AreaUnderCurve() & $0.789 \\pm 0.011$ \\\\\n",
       "\t3 & Accuracy() & $0.7809 \\pm 0.0072$ \\\\\n",
       "\\end{tabular}\n"
      ],
      "text/plain": [
       "\u001b[1m3×2 DataFrame\u001b[0m\n",
       "\u001b[1m Row \u001b[0m│\u001b[1m measure          \u001b[0m\u001b[1m measurement   \u001b[0m\n",
       "\u001b[1m     \u001b[0m│\u001b[90m Measure          \u001b[0m\u001b[90m Measuremen…   \u001b[0m\n",
       "─────┼─────────────────────────────────\n",
       "   1 │ BrierLoss()       0.3131±0.0071\n",
       "   2 │ AreaUnderCurve()  0.789±0.011\n",
       "   3 │ Accuracy()        0.7809±0.0072"
      ]
     },
     "execution_count": 45,
     "metadata": {},
     "output_type": "execute_result"
    }
   ],
   "source": [
    "function confidence_intervals(e)\n",
    "    measure = e.measure\n",
    "    nfolds = length(e.per_fold[1])\n",
    "    measurement = [e.measurement[j] ± std(e.per_fold[j])/sqrt(nfolds - 1)\n",
    "                   for j in eachindex(measure)]\n",
    "    table = (measure=measure, measurement=measurement)\n",
    "    return DataFrames.DataFrame(table)\n",
    "end\n",
    "\n",
    "const confidence_intervals_basic_model = confidence_intervals(e_pipe)"
   ]
  },
  {
   "cell_type": "markdown",
   "metadata": {},
   "source": [
    "## Filtering out unimportant features"
   ]
  },
  {
   "cell_type": "markdown",
   "metadata": {},
   "source": [
    "> Introduces: `FeatureSelector`"
   ]
  },
  {
   "cell_type": "markdown",
   "metadata": {},
   "source": [
    "Before continuing, we'll modify our pipeline to drop those features\n",
    "with low feature importance, to speed up later optimization:"
   ]
  },
  {
   "cell_type": "code",
   "execution_count": 46,
   "metadata": {},
   "outputs": [
    {
     "data": {
      "text/plain": [
       "ProbabilisticPipeline(\n",
       "    continuous_encoder = ContinuousEncoder(\n",
       "            drop_last = false,\n",
       "            one_hot_ordered_factors = false),\n",
       "    feature_selector = FeatureSelector(\n",
       "            features = [:OnlineBackup__No, :Partner__No, Symbol(\"Contract__Two year\"), Symbol(\"Contract__One year\"), :gender__Male, :InternetService__DSL, Symbol(\"OnlineSecurity__No internet service\"), Symbol(\"PaymentMethod__Mailed check\"), Symbol(\"PaymentMethod__Electronic check\"), :OnlineSecurity__Yes  …  :PhoneService__Yes, Symbol(\"DeviceProtection__No internet service\"), Symbol(\"StreamingTV__No internet service\"), Symbol(\"StreamingMovies__No internet service\"), Symbol(\"TechSupport__No internet service\"), :StreamingTV__No, :MultipleLines__No, Symbol(\"PaymentMethod__Credit card (automatic)\"), :MultipleLines__Yes, Symbol(\"MultipleLines__No phone service\")],\n",
       "            ignore = true),\n",
       "    evo_tree_classifier = EvoTreeClassifier(\n",
       "            loss = EvoTrees.Softmax(),\n",
       "            nrounds = 10,\n",
       "            λ = 0.0,\n",
       "            γ = 0.0,\n",
       "            η = 0.1,\n",
       "            max_depth = 5,\n",
       "            min_weight = 1.0,\n",
       "            rowsample = 1.0,\n",
       "            colsample = 1.0,\n",
       "            nbins = 64,\n",
       "            α = 0.5,\n",
       "            metric = :mlogloss,\n",
       "            rng = MersenneTwister(123, (0, 87174, 86172, 491)),\n",
       "            device = \"cpu\"),\n",
       "    cache = true)"
      ]
     },
     "execution_count": 46,
     "metadata": {},
     "output_type": "execute_result"
    }
   ],
   "source": [
    "unimportant_features = filter(:importance => <(0.005), feature_importance_table).feature\n",
    "\n",
    "pipe2 = ContinuousEncoder() |>\n",
    "    FeatureSelector(features=unimportant_features, ignore=true) |> booster"
   ]
  },
  {
   "cell_type": "markdown",
   "metadata": {},
   "source": [
    "## Wrapping our iterative model in control strategies"
   ]
  },
  {
   "cell_type": "markdown",
   "metadata": {},
   "source": [
    "> Introduces: **control strategies:** `Step`, `NumberSinceBest`, `TimeLimit`, `InvalidValue`, **model wrapper** `IteratedModel`, **resampling strategy:** `Holdout`"
   ]
  },
  {
   "cell_type": "markdown",
   "metadata": {},
   "source": [
    "We want to optimize the hyper-parameters of our model. Since our\n",
    "model is iterative, these parameters include the (nested) iteration\n",
    "parameter `pipe.evo_tree_classifier.nrounds`. Sometimes this\n",
    "parameter is optimized first, fixed, and then maybe optimized again\n",
    "after the other parameters. Here we take a more principled approach,\n",
    "**wrapping our model in a control strategy** that makes it\n",
    "\"self-iterating\". The strategy applies a stopping criterion to\n",
    "*out-of-sample* estimates of the model performance, constructed\n",
    "using an internally constructed holdout set. In this way, we avoid\n",
    "some data hygiene issues, and, when we subsequently optimize other\n",
    "parameters, we will always being using an optimal number of\n",
    "iterations."
   ]
  },
  {
   "cell_type": "markdown",
   "metadata": {},
   "source": [
    "Note that this approach can be applied to any iterative MLJ model,\n",
    "eg, the neural network models provided by\n",
    "[MLJFlux.jl](https://github.com/FluxML/MLJFlux.jl)."
   ]
  },
  {
   "cell_type": "markdown",
   "metadata": {},
   "source": [
    "First, we select appropriate controls from [this\n",
    "list](https://alan-turing-institute.github.io/MLJ.jl/dev/controlling_iterative_models/#Controls-provided):"
   ]
  },
  {
   "cell_type": "code",
   "execution_count": 47,
   "metadata": {},
   "outputs": [
    {
     "data": {
      "text/plain": [
       "4-element Vector{Any}:\n",
       " Step(1)\n",
       " NumberSinceBest(4)\n",
       " TimeLimit(Dates.Millisecond(2000))\n",
       " InvalidValue()"
      ]
     },
     "execution_count": 47,
     "metadata": {},
     "output_type": "execute_result"
    }
   ],
   "source": [
    "controls = [\n",
    "    Step(1),              # to increment iteration parameter (`pipe.nrounds`)\n",
    "    NumberSinceBest(4),   # main stopping criterion\n",
    "    TimeLimit(2/3600),    # never train more than 2 sec\n",
    "    InvalidValue()        # stop if NaN or ±Inf encountered\n",
    "]"
   ]
  },
  {
   "cell_type": "markdown",
   "metadata": {},
   "source": [
    "Now we wrap our pipeline model using the `IteratedModel` wrapper,\n",
    "being sure to specify the `measure` on which internal estimates of\n",
    "the out-of-sample performance will be based:"
   ]
  },
  {
   "cell_type": "code",
   "execution_count": 48,
   "metadata": {},
   "outputs": [
    {
     "data": {
      "text/plain": [
       "ProbabilisticIteratedModel(\n",
       "    model = ProbabilisticPipeline(\n",
       "            continuous_encoder = ContinuousEncoder,\n",
       "            feature_selector = FeatureSelector,\n",
       "            evo_tree_classifier = EvoTreeClassifier{Float64,…},\n",
       "            cache = true),\n",
       "    controls = Any[Step(1), NumberSinceBest(4), TimeLimit(Dates.Millisecond(2000)), InvalidValue()],\n",
       "    resampling = Holdout(\n",
       "            fraction_train = 0.7,\n",
       "            shuffle = false,\n",
       "            rng = Random._GLOBAL_RNG()),\n",
       "    measure = BrierLoss(),\n",
       "    weights = nothing,\n",
       "    class_weights = nothing,\n",
       "    operation = MLJModelInterface.predict,\n",
       "    retrain = false,\n",
       "    check_measure = true,\n",
       "    iteration_parameter = nothing,\n",
       "    cache = true)"
      ]
     },
     "execution_count": 48,
     "metadata": {},
     "output_type": "execute_result"
    }
   ],
   "source": [
    "iterated_pipe = IteratedModel(model=pipe2,\n",
    "                              controls=controls,\n",
    "                              measure=brier_loss,\n",
    "                              resampling=Holdout(fraction_train=0.7))"
   ]
  },
  {
   "cell_type": "markdown",
   "metadata": {},
   "source": [
    "We've set `resampling=Holdout(fraction_train=0.7)` to arrange that\n",
    "data attached to our model should be internally split into a train\n",
    "set (70%) and a holdout set (30%) for determining the out-of-sample\n",
    "estimate of the Brier loss."
   ]
  },
  {
   "cell_type": "markdown",
   "metadata": {},
   "source": [
    "For demonstration purposes, let's bind `iterated_model` to all data\n",
    "not in our don't-touch holdout set, and train on all of that data:"
   ]
  },
  {
   "cell_type": "code",
   "execution_count": 49,
   "metadata": {},
   "outputs": [
    {
     "name": "stderr",
     "output_type": "stream",
     "text": [
      "┌ Info: Training Machine{ProbabilisticIteratedModel{ProbabilisticPipeline{NamedTuple{,…},…}},…}.\n",
      "└ @ MLJBase /Users/anthony/.julia/packages/MLJBase/hHa7b/src/machines.jl:464\n",
      "┌ Info: No iteration parameter specified. Using `iteration_parameter=:(evo_tree_classifier.nrounds)`. \n",
      "└ @ MLJIteration /Users/anthony/.julia/packages/MLJIteration/LXjxi/src/core.jl:62\n",
      "┌ Info: final loss: 0.2630163172395482\n",
      "└ @ IterationControl /Users/anthony/.julia/packages/IterationControl/lO4bA/src/train.jl:44\n",
      "┌ Info: Stop triggered by NumberSinceBest(4) stopping criterion. \n",
      "└ @ IterationControl /Users/anthony/.julia/packages/IterationControl/lO4bA/src/stopping_controls.jl:54\n",
      "┌ Info: Total of 24 iterations. \n",
      "└ @ MLJIteration /Users/anthony/.julia/packages/MLJIteration/LXjxi/src/core.jl:35\n"
     ]
    }
   ],
   "source": [
    "mach_iterated_pipe = machine(iterated_pipe, X, y)\n",
    "fit!(mach_iterated_pipe);"
   ]
  },
  {
   "cell_type": "markdown",
   "metadata": {},
   "source": [
    "To recap, internally this training is split into two separate steps:"
   ]
  },
  {
   "cell_type": "markdown",
   "metadata": {},
   "source": [
    "- A controlled iteration step, training on the holdout set, with the total number of iterations determined by the specified stopping criteria (based on the out-of-sample performance estimates)\n",
    "- A final step that trains the atomic model on *all* available\n",
    "  data using the number of iterations determined in the first step. Calling `predict` on `mach_iterated_pipe` means using the learned parameters of the second step."
   ]
  },
  {
   "cell_type": "markdown",
   "metadata": {},
   "source": [
    "## Hyper-parameter optimization (model tuning)"
   ]
  },
  {
   "cell_type": "markdown",
   "metadata": {},
   "source": [
    "> Introduces: `range`, **model wrapper** `TunedModel`, `RandomSearch`"
   ]
  },
  {
   "cell_type": "markdown",
   "metadata": {},
   "source": [
    "We now turn to hyper-parameter optimization. A tool not discussed\n",
    "here is the `learning_curve` function, which can be useful when\n",
    "wanting to visualize the effect of changes to a *single*\n",
    "hyper-parameter (which could be an iteration parameter). See, for\n",
    "example, [this section of the\n",
    "manual](https://alan-turing-institute.github.io/MLJ.jl/dev/learning_curves/)\n",
    "or [this\n",
    "tutorial](https://github.com/ablaom/MLJTutorial.jl/blob/dev/notebooks/04_tuning/notebook.ipynb)."
   ]
  },
  {
   "cell_type": "markdown",
   "metadata": {},
   "source": [
    "Fine tuning the hyper-parameters of a gradient booster can be\n",
    "somewhat involved. Here we settle for simultaneously optimizing two\n",
    "key parameters: `max_depth` and `η` (learning_rate)."
   ]
  },
  {
   "cell_type": "markdown",
   "metadata": {},
   "source": [
    "Like iteration control, **model optimization in MLJ is implemented as\n",
    "a model wrapper**, called `TunedModel`. After wrapping a model in a\n",
    "tuning strategy and binding the wrapped model to data in a machine\n",
    "called `mach`, calling `fit!(mach)` instigates a search for optimal\n",
    "model hyperparameters, within a specified range, and then uses all\n",
    "supplied data to train the best model. To predict using that model,\n",
    "one then calls `predict(mach, Xnew)`. In this way the wrapped model\n",
    "may be viewed as a \"self-tuning\" version of the unwrapped\n",
    "model. That is, wrapping the model simply transforms certain\n",
    "hyper-parameters into learned parameters (just as `IteratedModel`\n",
    "does for an iteration parameter)."
   ]
  },
  {
   "cell_type": "markdown",
   "metadata": {},
   "source": [
    "To start with, we define ranges for the parameters of\n",
    "interest. Since these parameters are nested, let's force a\n",
    "display of our model to a larger depth:"
   ]
  },
  {
   "cell_type": "code",
   "execution_count": 50,
   "metadata": {},
   "outputs": [
    {
     "name": "stdout",
     "output_type": "stream",
     "text": [
      "ProbabilisticIteratedModel(\n",
      "    model = ProbabilisticPipeline(\n",
      "            continuous_encoder = ContinuousEncoder(\n",
      "                    drop_last = false,\n",
      "                    one_hot_ordered_factors = false),\n",
      "            feature_selector = FeatureSelector(\n",
      "                    features = [:OnlineBackup__No, :Partner__No, Symbol(\"Contract__Two year\"), Symbol(\"Contract__One year\"), :gender__Male, :InternetService__DSL, Symbol(\"OnlineSecurity__No internet service\"), Symbol(\"PaymentMethod__Mailed check\"), Symbol(\"PaymentMethod__Electronic check\"), :OnlineSecurity__Yes, Symbol(\"InternetService__Fiber optic\"), Symbol(\"OnlineBackup__No internet service\"), :InternetService__No, :StreamingTV__Yes, :PhoneService__No, :PhoneService__Yes, Symbol(\"DeviceProtection__No internet service\"), Symbol(\"StreamingTV__No internet service\"), Symbol(\"StreamingMovies__No internet service\"), Symbol(\"TechSupport__No internet service\"), :StreamingTV__No, :MultipleLines__No, Symbol(\"PaymentMethod__Credit card (automatic)\"), :MultipleLines__Yes, Symbol(\"MultipleLines__No phone service\")],\n",
      "                    ignore = true),\n",
      "            evo_tree_classifier = EvoTreeClassifier(\n",
      "                    loss = EvoTrees.Softmax(),\n",
      "                    nrounds = 10,\n",
      "                    λ = 0.0,\n",
      "                    γ = 0.0,\n",
      "                    η = 0.1,\n",
      "                    max_depth = 5,\n",
      "                    min_weight = 1.0,\n",
      "                    rowsample = 1.0,\n",
      "                    colsample = 1.0,\n",
      "                    nbins = 64,\n",
      "                    α = 0.5,\n",
      "                    metric = :mlogloss,\n",
      "                    rng = MersenneTwister(123, (0, 87174, 86172, 491)),\n",
      "                    device = \"cpu\"),\n",
      "            cache = true),\n",
      "    controls = Any[Step(1), NumberSinceBest(4), TimeLimit(Dates.Millisecond(2000)), InvalidValue()],\n",
      "    resampling = Holdout(\n",
      "            fraction_train = 0.7,\n",
      "            shuffle = false,\n",
      "            rng = Random._GLOBAL_RNG()),\n",
      "    measure = BrierLoss(),\n",
      "    weights = nothing,\n",
      "    class_weights = nothing,\n",
      "    operation = MLJModelInterface.predict,\n",
      "    retrain = false,\n",
      "    check_measure = true,\n",
      "    iteration_parameter = nothing,\n",
      "    cache = true)"
     ]
    }
   ],
   "source": [
    "show(iterated_pipe, 2)"
   ]
  },
  {
   "cell_type": "code",
   "execution_count": 51,
   "metadata": {},
   "outputs": [
    {
     "data": {
      "text/plain": [
       "NumericRange(2 ≤ model.evo_tree_classifier.max_depth ≤ 6; origin=4.0, unit=2.0)"
      ]
     },
     "execution_count": 51,
     "metadata": {},
     "output_type": "execute_result"
    }
   ],
   "source": [
    "p1 = :(model.evo_tree_classifier.η)\n",
    "p2 = :(model.evo_tree_classifier.max_depth)\n",
    "\n",
    "r1 = range(iterated_pipe, p1, lower=-2, upper=-0.5, scale=x->10^x)\n",
    "r2 = range(iterated_pipe, p2, lower=2, upper=6)"
   ]
  },
  {
   "cell_type": "markdown",
   "metadata": {},
   "source": [
    "Nominal ranges are defined by specifying `values` instead of `lower`\n",
    "and `upper`."
   ]
  },
  {
   "cell_type": "markdown",
   "metadata": {},
   "source": [
    "Next, we choose an optimization strategy from [this\n",
    "list](https://alan-turing-institute.github.io/MLJ.jl/dev/tuning_models/#Tuning-Models):"
   ]
  },
  {
   "cell_type": "code",
   "execution_count": 52,
   "metadata": {},
   "outputs": [
    {
     "data": {
      "text/plain": [
       "RandomSearch(\n",
       "    bounded = Distributions.Uniform,\n",
       "    positive_unbounded = Distributions.Gamma,\n",
       "    other = Distributions.Normal,\n",
       "    rng = MersenneTwister(123))"
      ]
     },
     "execution_count": 52,
     "metadata": {},
     "output_type": "execute_result"
    }
   ],
   "source": [
    "tuning = RandomSearch(rng=123)"
   ]
  },
  {
   "cell_type": "markdown",
   "metadata": {},
   "source": [
    "Then we wrap the model, specifying a `resampling` strategy and a\n",
    "`measure`, as we did for `IteratedModel`.  In fact, we can include a\n",
    "battery of `measures`; by default, optimization is with respect to\n",
    "performance estimates based on the first measure, but estimates for\n",
    "all measures can be accessed from the model's `report`."
   ]
  },
  {
   "cell_type": "markdown",
   "metadata": {},
   "source": [
    "The keyword `n` specifies the total number of models (sets of\n",
    "hyper-parameters) to evaluate."
   ]
  },
  {
   "cell_type": "code",
   "execution_count": 53,
   "metadata": {},
   "outputs": [
    {
     "data": {
      "text/plain": [
       "ProbabilisticTunedModel(\n",
       "    model = ProbabilisticIteratedModel(\n",
       "            model = ProbabilisticPipeline{NamedTuple{,…},…},\n",
       "            controls = Any[Step(1), NumberSinceBest(4), TimeLimit(Dates.Millisecond(2000)), InvalidValue()],\n",
       "            resampling = Holdout,\n",
       "            measure = BrierLoss(),\n",
       "            weights = nothing,\n",
       "            class_weights = nothing,\n",
       "            operation = MLJModelInterface.predict,\n",
       "            retrain = false,\n",
       "            check_measure = true,\n",
       "            iteration_parameter = nothing,\n",
       "            cache = true),\n",
       "    tuning = RandomSearch(\n",
       "            bounded = Distributions.Uniform,\n",
       "            positive_unbounded = Distributions.Gamma,\n",
       "            other = Distributions.Normal,\n",
       "            rng = MersenneTwister(123)),\n",
       "    resampling = StratifiedCV(\n",
       "            nfolds = 6,\n",
       "            shuffle = true,\n",
       "            rng = MersenneTwister(123)),\n",
       "    measure = MLJBase.Measure[BrierLoss(), AreaUnderCurve(), Accuracy()],\n",
       "    weights = nothing,\n",
       "    operation = nothing,\n",
       "    range = MLJBase.NumericRange{T, MLJBase.Bounded, D} where {T, D}[transformed NumericRange(-2.0 ≤ model.evo_tree_classifier.η ≤ -0.5; origin=-1.25, unit=0.75), NumericRange(2 ≤ model.evo_tree_classifier.max_depth ≤ 6; origin=4.0, unit=2.0)],\n",
       "    selection_heuristic = MLJTuning.NaiveSelection(nothing),\n",
       "    train_best = true,\n",
       "    repeats = 1,\n",
       "    n = 40,\n",
       "    acceleration = CPUThreads{Int64}(5),\n",
       "    acceleration_resampling = CPU1{Nothing}(nothing),\n",
       "    check_measure = true,\n",
       "    cache = true)"
      ]
     },
     "execution_count": 53,
     "metadata": {},
     "output_type": "execute_result"
    }
   ],
   "source": [
    "tuned_iterated_pipe = TunedModel(model=iterated_pipe,\n",
    "                                 range=[r1, r2],\n",
    "                                 tuning=tuning,\n",
    "                                 measures=[brier_loss, auc, accuracy],\n",
    "                                 resampling=StratifiedCV(nfolds=6, rng=123),\n",
    "                                 acceleration=CPUThreads(),\n",
    "                                 n=40)"
   ]
  },
  {
   "cell_type": "markdown",
   "metadata": {},
   "source": [
    "To save time, we skip the `repeats` here."
   ]
  },
  {
   "cell_type": "markdown",
   "metadata": {},
   "source": [
    "Binding our final model to data and training:"
   ]
  },
  {
   "cell_type": "code",
   "execution_count": 54,
   "metadata": {},
   "outputs": [
    {
     "name": "stderr",
     "output_type": "stream",
     "text": [
      "┌ Info: Training Machine{ProbabilisticTunedModel{RandomSearch,…},…}.\n",
      "└ @ MLJBase /Users/anthony/.julia/packages/MLJBase/hHa7b/src/machines.jl:464\n",
      "┌ Info: Attempting to evaluate 40 models.\n",
      "└ @ MLJTuning /Users/anthony/.julia/packages/MLJTuning/Al9yX/src/tuned_models.jl:680\n",
      "\u001b[33mEvaluating over 40 metamodels: 100%[=========================] Time: 0:00:23\u001b[39m\n"
     ]
    },
    {
     "data": {
      "text/plain": [
       "Machine{ProbabilisticTunedModel{RandomSearch,…},…} trained 1 time; caches data\n",
       "  model: MLJTuning.ProbabilisticTunedModel{RandomSearch, MLJIteration.ProbabilisticIteratedModel{MLJBase.ProbabilisticPipeline{NamedTuple{(:continuous_encoder, :feature_selector, :evo_tree_classifier), Tuple{Unsupervised, Unsupervised, Probabilistic}}, MLJModelInterface.predict}}}\n",
       "  args: \n",
       "    1:\tSource @426 ⏎ `Table{Union{AbstractVector{Continuous}, AbstractVector{Multiclass{2}}, AbstractVector{Multiclass{4}}, AbstractVector{Multiclass{3}}}}`\n",
       "    2:\tSource @931 ⏎ `AbstractVector{OrderedFactor{2}}`\n"
      ]
     },
     "execution_count": 54,
     "metadata": {},
     "output_type": "execute_result"
    }
   ],
   "source": [
    "mach_tuned_iterated_pipe = machine(tuned_iterated_pipe, X, y)\n",
    "fit!(mach_tuned_iterated_pipe)"
   ]
  },
  {
   "cell_type": "markdown",
   "metadata": {},
   "source": [
    "As explained above, the training we have just performed was split\n",
    "internally into two separate steps:"
   ]
  },
  {
   "cell_type": "markdown",
   "metadata": {},
   "source": [
    "- A step to determine the parameter values that optimize the aggregated cross-validation scores\n",
    "- A final step that trains the optimal model on *all* available data. Future predictions `predict(mach_tuned_iterated_pipe, ...)` are based on this final training step."
   ]
  },
  {
   "cell_type": "markdown",
   "metadata": {},
   "source": [
    "From `report(mach_tuned_iterated_pipe)` we can extract details about\n",
    "the optimization procedure. For example:"
   ]
  },
  {
   "cell_type": "code",
   "execution_count": 55,
   "metadata": {},
   "outputs": [
    {
     "data": {
      "text/plain": [
       "EvoTreeClassifier(\n",
       "    loss = EvoTrees.Softmax(),\n",
       "    nrounds = 10,\n",
       "    λ = 0.0,\n",
       "    γ = 0.0,\n",
       "    η = 0.030484775278807642,\n",
       "    max_depth = 2,\n",
       "    min_weight = 1.0,\n",
       "    rowsample = 1.0,\n",
       "    colsample = 1.0,\n",
       "    nbins = 64,\n",
       "    α = 0.5,\n",
       "    metric = :mlogloss,\n",
       "    rng = MersenneTwister(123, (0, 87174, 86172, 491)),\n",
       "    device = \"cpu\")"
      ]
     },
     "execution_count": 55,
     "metadata": {},
     "output_type": "execute_result"
    }
   ],
   "source": [
    "rpt2 = report(mach_tuned_iterated_pipe);\n",
    "best_booster = rpt2.best_model.model.evo_tree_classifier"
   ]
  },
  {
   "cell_type": "code",
   "execution_count": 56,
   "metadata": {},
   "outputs": [
    {
     "name": "stderr",
     "output_type": "stream",
     "text": [
      "┌ Info: Optimal hyper-parameters:\n",
      "│   best_booster.max_depth = 2\n",
      "│   best_booster.η = 0.030484775278807642\n",
      "└ @ Main In[56]:1\n"
     ]
    }
   ],
   "source": [
    "@info \"Optimal hyper-parameters:\" best_booster.max_depth best_booster.η;"
   ]
  },
  {
   "cell_type": "markdown",
   "metadata": {},
   "source": [
    "Using the `confidence_intervals` function we defined earlier:"
   ]
  },
  {
   "cell_type": "code",
   "execution_count": 57,
   "metadata": {},
   "outputs": [
    {
     "data": {
      "text/html": [
       "<div class=\"data-frame\"><p>3 rows × 2 columns</p><table class=\"data-frame\"><thead><tr><th></th><th>measure</th><th>measurement</th></tr><tr><th></th><th title=\"MLJBase.Measure\">Measure</th><th title=\"Measurement{Float64}\">Measurem…</th></tr></thead><tbody><tr><th>1</th><td>BrierLoss()</td><td>0.291±0.017</td></tr><tr><th>2</th><td>AreaUnderCurve()</td><td>0.823±0.022</td></tr><tr><th>3</th><td>Accuracy()</td><td>0.795±0.023</td></tr></tbody></table></div>"
      ],
      "text/latex": [
       "\\begin{tabular}{r|cc}\n",
       "\t& measure & measurement\\\\\n",
       "\t\\hline\n",
       "\t& Measure & Measurem…\\\\\n",
       "\t\\hline\n",
       "\t1 & BrierLoss() & $0.291 \\pm 0.017$ \\\\\n",
       "\t2 & AreaUnderCurve() & $0.823 \\pm 0.022$ \\\\\n",
       "\t3 & Accuracy() & $0.795 \\pm 0.023$ \\\\\n",
       "\\end{tabular}\n"
      ],
      "text/plain": [
       "\u001b[1m3×2 DataFrame\u001b[0m\n",
       "\u001b[1m Row \u001b[0m│\u001b[1m measure          \u001b[0m\u001b[1m measurement \u001b[0m\n",
       "\u001b[1m     \u001b[0m│\u001b[90m Measure          \u001b[0m\u001b[90m Measuremen… \u001b[0m\n",
       "─────┼───────────────────────────────\n",
       "   1 │ BrierLoss()       0.291±0.017\n",
       "   2 │ AreaUnderCurve()  0.823±0.022\n",
       "   3 │ Accuracy()        0.795±0.023"
      ]
     },
     "execution_count": 57,
     "metadata": {},
     "output_type": "execute_result"
    }
   ],
   "source": [
    "e_best = rpt2.best_history_entry\n",
    "confidence_intervals(e_best)"
   ]
  },
  {
   "cell_type": "markdown",
   "metadata": {},
   "source": [
    "Digging a little deeper, we can learn what stopping criterion was\n",
    "applied in the case of the optimal model, and how many iterations\n",
    "were required:"
   ]
  },
  {
   "cell_type": "code",
   "execution_count": 58,
   "metadata": {},
   "outputs": [
    {
     "data": {
      "text/plain": [
       "4-element Vector{Tuple{Any, NamedTuple}}:\n",
       " (Step(1), (new_iterations = 181,))\n",
       " (NumberSinceBest(4), (done = true, log = \"Stop triggered by NumberSinceBest(4) stopping criterion. \"))\n",
       " (TimeLimit(Dates.Millisecond(2000)), (done = false, log = \"\"))\n",
       " (InvalidValue(), (done = false, log = \"\"))"
      ]
     },
     "execution_count": 58,
     "metadata": {},
     "output_type": "execute_result"
    }
   ],
   "source": [
    "rpt2.best_report.controls |> collect"
   ]
  },
  {
   "cell_type": "markdown",
   "metadata": {},
   "source": [
    "Finally, we can visualize the optimization results:"
   ]
  },
  {
   "cell_type": "code",
   "execution_count": 59,
   "metadata": {},
   "outputs": [
    {
     "data": {
      "image/svg+xml": [
       "<?xml version=\"1.0\" encoding=\"utf-8\"?>\n",
       "<svg xmlns=\"http://www.w3.org/2000/svg\" xmlns:xlink=\"http://www.w3.org/1999/xlink\" width=\"600\" height=\"450\" viewBox=\"0 0 2400 1800\">\n",
       "<defs>\n",
       "  <clipPath id=\"clip440\">\n",
       "    <rect x=\"0\" y=\"0\" width=\"2400\" height=\"1800\"/>\n",
       "  </clipPath>\n",
       "</defs>\n",
       "<path clip-path=\"url(#clip440)\" d=\"\n",
       "M0 1800 L2400 1800 L2400 0 L0 0  Z\n",
       "  \" fill=\"#ffffff\" fill-rule=\"evenodd\" fill-opacity=\"1\"/>\n",
       "<defs>\n",
       "  <clipPath id=\"clip441\">\n",
       "    <rect x=\"480\" y=\"0\" width=\"1681\" height=\"1681\"/>\n",
       "  </clipPath>\n",
       "</defs>\n",
       "<path clip-path=\"url(#clip440)\" d=\"\n",
       "M255.644 745.524 L1152.76 745.524 L1152.76 47.2441 L255.644 47.2441  Z\n",
       "  \" fill=\"#ffffff\" fill-rule=\"evenodd\" fill-opacity=\"1\"/>\n",
       "<defs>\n",
       "  <clipPath id=\"clip442\">\n",
       "    <rect x=\"255\" y=\"47\" width=\"898\" height=\"699\"/>\n",
       "  </clipPath>\n",
       "</defs>\n",
       "<polyline clip-path=\"url(#clip442)\" style=\"stroke:#000000; stroke-linecap:butt; stroke-linejoin:round; stroke-width:2; stroke-opacity:0.1; fill:none\" points=\"\n",
       "  397.064,745.524 397.064,47.2441 \n",
       "  \"/>\n",
       "<polyline clip-path=\"url(#clip442)\" style=\"stroke:#000000; stroke-linecap:butt; stroke-linejoin:round; stroke-width:2; stroke-opacity:0.1; fill:none\" points=\"\n",
       "  543.278,745.524 543.278,47.2441 \n",
       "  \"/>\n",
       "<polyline clip-path=\"url(#clip442)\" style=\"stroke:#000000; stroke-linecap:butt; stroke-linejoin:round; stroke-width:2; stroke-opacity:0.1; fill:none\" points=\"\n",
       "  689.491,745.524 689.491,47.2441 \n",
       "  \"/>\n",
       "<polyline clip-path=\"url(#clip442)\" style=\"stroke:#000000; stroke-linecap:butt; stroke-linejoin:round; stroke-width:2; stroke-opacity:0.1; fill:none\" points=\"\n",
       "  835.704,745.524 835.704,47.2441 \n",
       "  \"/>\n",
       "<polyline clip-path=\"url(#clip442)\" style=\"stroke:#000000; stroke-linecap:butt; stroke-linejoin:round; stroke-width:2; stroke-opacity:0.1; fill:none\" points=\"\n",
       "  981.918,745.524 981.918,47.2441 \n",
       "  \"/>\n",
       "<polyline clip-path=\"url(#clip442)\" style=\"stroke:#000000; stroke-linecap:butt; stroke-linejoin:round; stroke-width:2; stroke-opacity:0.1; fill:none\" points=\"\n",
       "  1128.13,745.524 1128.13,47.2441 \n",
       "  \"/>\n",
       "<polyline clip-path=\"url(#clip440)\" style=\"stroke:#000000; stroke-linecap:butt; stroke-linejoin:round; stroke-width:4; stroke-opacity:1; fill:none\" points=\"\n",
       "  255.644,745.524 1152.76,745.524 \n",
       "  \"/>\n",
       "<polyline clip-path=\"url(#clip440)\" style=\"stroke:#000000; stroke-linecap:butt; stroke-linejoin:round; stroke-width:4; stroke-opacity:1; fill:none\" points=\"\n",
       "  255.644,47.2441 1152.76,47.2441 \n",
       "  \"/>\n",
       "<polyline clip-path=\"url(#clip440)\" style=\"stroke:#000000; stroke-linecap:butt; stroke-linejoin:round; stroke-width:4; stroke-opacity:1; fill:none\" points=\"\n",
       "  397.064,745.524 397.064,726.626 \n",
       "  \"/>\n",
       "<polyline clip-path=\"url(#clip440)\" style=\"stroke:#000000; stroke-linecap:butt; stroke-linejoin:round; stroke-width:4; stroke-opacity:1; fill:none\" points=\"\n",
       "  543.278,745.524 543.278,726.626 \n",
       "  \"/>\n",
       "<polyline clip-path=\"url(#clip440)\" style=\"stroke:#000000; stroke-linecap:butt; stroke-linejoin:round; stroke-width:4; stroke-opacity:1; fill:none\" points=\"\n",
       "  689.491,745.524 689.491,726.626 \n",
       "  \"/>\n",
       "<polyline clip-path=\"url(#clip440)\" style=\"stroke:#000000; stroke-linecap:butt; stroke-linejoin:round; stroke-width:4; stroke-opacity:1; fill:none\" points=\"\n",
       "  835.704,745.524 835.704,726.626 \n",
       "  \"/>\n",
       "<polyline clip-path=\"url(#clip440)\" style=\"stroke:#000000; stroke-linecap:butt; stroke-linejoin:round; stroke-width:4; stroke-opacity:1; fill:none\" points=\"\n",
       "  981.918,745.524 981.918,726.626 \n",
       "  \"/>\n",
       "<polyline clip-path=\"url(#clip440)\" style=\"stroke:#000000; stroke-linecap:butt; stroke-linejoin:round; stroke-width:4; stroke-opacity:1; fill:none\" points=\"\n",
       "  1128.13,745.524 1128.13,726.626 \n",
       "  \"/>\n",
       "<path clip-path=\"url(#clip440)\" d=\"M359.865 776.443 Q356.254 776.443 354.425 780.007 Q352.62 783.549 352.62 790.679 Q352.62 797.785 354.425 801.35 Q356.254 804.891 359.865 804.891 Q363.5 804.891 365.305 801.35 Q367.134 797.785 367.134 790.679 Q367.134 783.549 365.305 780.007 Q363.5 776.443 359.865 776.443 M359.865 772.739 Q365.675 772.739 368.731 777.345 Q371.81 781.929 371.81 790.679 Q371.81 799.405 368.731 804.012 Q365.675 808.595 359.865 808.595 Q354.055 808.595 350.976 804.012 Q347.921 799.405 347.921 790.679 Q347.921 781.929 350.976 777.345 Q354.055 772.739 359.865 772.739 Z\" fill=\"#000000\" fill-rule=\"evenodd\" fill-opacity=\"1\" /><path clip-path=\"url(#clip440)\" d=\"M380.027 802.044 L384.911 802.044 L384.911 807.924 L380.027 807.924 L380.027 802.044 Z\" fill=\"#000000\" fill-rule=\"evenodd\" fill-opacity=\"1\" /><path clip-path=\"url(#clip440)\" d=\"M405.097 776.443 Q401.485 776.443 399.657 780.007 Q397.851 783.549 397.851 790.679 Q397.851 797.785 399.657 801.35 Q401.485 804.891 405.097 804.891 Q408.731 804.891 410.536 801.35 Q412.365 797.785 412.365 790.679 Q412.365 783.549 410.536 780.007 Q408.731 776.443 405.097 776.443 M405.097 772.739 Q410.907 772.739 413.962 777.345 Q417.041 781.929 417.041 790.679 Q417.041 799.405 413.962 804.012 Q410.907 808.595 405.097 808.595 Q399.286 808.595 396.208 804.012 Q393.152 799.405 393.152 790.679 Q393.152 781.929 396.208 777.345 Q399.286 772.739 405.097 772.739 Z\" fill=\"#000000\" fill-rule=\"evenodd\" fill-opacity=\"1\" /><path clip-path=\"url(#clip440)\" d=\"M425.305 773.364 L443.661 773.364 L443.661 777.299 L429.587 777.299 L429.587 785.771 Q430.606 785.424 431.624 785.262 Q432.643 785.077 433.661 785.077 Q439.448 785.077 442.828 788.248 Q446.207 791.419 446.207 796.836 Q446.207 802.415 442.735 805.516 Q439.263 808.595 432.944 808.595 Q430.768 808.595 428.499 808.225 Q426.254 807.854 423.846 807.114 L423.846 802.415 Q425.93 803.549 428.152 804.104 Q430.374 804.66 432.851 804.66 Q436.856 804.66 439.194 802.554 Q441.531 800.447 441.531 796.836 Q441.531 793.225 439.194 791.118 Q436.856 789.012 432.851 789.012 Q430.976 789.012 429.101 789.429 Q427.249 789.845 425.305 790.725 L425.305 773.364 Z\" fill=\"#000000\" fill-rule=\"evenodd\" fill-opacity=\"1\" /><path clip-path=\"url(#clip440)\" d=\"M505.581 776.443 Q501.97 776.443 500.141 780.007 Q498.336 783.549 498.336 790.679 Q498.336 797.785 500.141 801.35 Q501.97 804.891 505.581 804.891 Q509.215 804.891 511.021 801.35 Q512.849 797.785 512.849 790.679 Q512.849 783.549 511.021 780.007 Q509.215 776.443 505.581 776.443 M505.581 772.739 Q511.391 772.739 514.447 777.345 Q517.525 781.929 517.525 790.679 Q517.525 799.405 514.447 804.012 Q511.391 808.595 505.581 808.595 Q499.771 808.595 496.692 804.012 Q493.637 799.405 493.637 790.679 Q493.637 781.929 496.692 777.345 Q499.771 772.739 505.581 772.739 Z\" fill=\"#000000\" fill-rule=\"evenodd\" fill-opacity=\"1\" /><path clip-path=\"url(#clip440)\" d=\"M525.743 802.044 L530.627 802.044 L530.627 807.924 L525.743 807.924 L525.743 802.044 Z\" fill=\"#000000\" fill-rule=\"evenodd\" fill-opacity=\"1\" /><path clip-path=\"url(#clip440)\" d=\"M541.622 803.989 L549.261 803.989 L549.261 777.623 L540.951 779.29 L540.951 775.031 L549.215 773.364 L553.891 773.364 L553.891 803.989 L561.53 803.989 L561.53 807.924 L541.622 807.924 L541.622 803.989 Z\" fill=\"#000000\" fill-rule=\"evenodd\" fill-opacity=\"1\" /><path clip-path=\"url(#clip440)\" d=\"M580.974 776.443 Q577.363 776.443 575.534 780.007 Q573.729 783.549 573.729 790.679 Q573.729 797.785 575.534 801.35 Q577.363 804.891 580.974 804.891 Q584.608 804.891 586.414 801.35 Q588.243 797.785 588.243 790.679 Q588.243 783.549 586.414 780.007 Q584.608 776.443 580.974 776.443 M580.974 772.739 Q586.784 772.739 589.84 777.345 Q592.918 781.929 592.918 790.679 Q592.918 799.405 589.84 804.012 Q586.784 808.595 580.974 808.595 Q575.164 808.595 572.085 804.012 Q569.03 799.405 569.03 790.679 Q569.03 781.929 572.085 777.345 Q575.164 772.739 580.974 772.739 Z\" fill=\"#000000\" fill-rule=\"evenodd\" fill-opacity=\"1\" /><path clip-path=\"url(#clip440)\" d=\"M652.292 776.443 Q648.681 776.443 646.852 780.007 Q645.047 783.549 645.047 790.679 Q645.047 797.785 646.852 801.35 Q648.681 804.891 652.292 804.891 Q655.926 804.891 657.732 801.35 Q659.561 797.785 659.561 790.679 Q659.561 783.549 657.732 780.007 Q655.926 776.443 652.292 776.443 M652.292 772.739 Q658.102 772.739 661.158 777.345 Q664.236 781.929 664.236 790.679 Q664.236 799.405 661.158 804.012 Q658.102 808.595 652.292 808.595 Q646.482 808.595 643.403 804.012 Q640.348 799.405 640.348 790.679 Q640.348 781.929 643.403 777.345 Q646.482 772.739 652.292 772.739 Z\" fill=\"#000000\" fill-rule=\"evenodd\" fill-opacity=\"1\" /><path clip-path=\"url(#clip440)\" d=\"M672.454 802.044 L677.338 802.044 L677.338 807.924 L672.454 807.924 L672.454 802.044 Z\" fill=\"#000000\" fill-rule=\"evenodd\" fill-opacity=\"1\" /><path clip-path=\"url(#clip440)\" d=\"M688.334 803.989 L695.972 803.989 L695.972 777.623 L687.662 779.29 L687.662 775.031 L695.926 773.364 L700.602 773.364 L700.602 803.989 L708.241 803.989 L708.241 807.924 L688.334 807.924 L688.334 803.989 Z\" fill=\"#000000\" fill-rule=\"evenodd\" fill-opacity=\"1\" /><path clip-path=\"url(#clip440)\" d=\"M717.732 773.364 L736.088 773.364 L736.088 777.299 L722.014 777.299 L722.014 785.771 Q723.032 785.424 724.051 785.262 Q725.069 785.077 726.088 785.077 Q731.875 785.077 735.255 788.248 Q738.634 791.419 738.634 796.836 Q738.634 802.415 735.162 805.516 Q731.69 808.595 725.37 808.595 Q723.194 808.595 720.926 808.225 Q718.681 807.854 716.273 807.114 L716.273 802.415 Q718.357 803.549 720.579 804.104 Q722.801 804.66 725.278 804.66 Q729.282 804.66 731.62 802.554 Q733.958 800.447 733.958 796.836 Q733.958 793.225 731.62 791.118 Q729.282 789.012 725.278 789.012 Q723.403 789.012 721.528 789.429 Q719.676 789.845 717.732 790.725 L717.732 773.364 Z\" fill=\"#000000\" fill-rule=\"evenodd\" fill-opacity=\"1\" /><path clip-path=\"url(#clip440)\" d=\"M798.008 776.443 Q794.397 776.443 792.568 780.007 Q790.762 783.549 790.762 790.679 Q790.762 797.785 792.568 801.35 Q794.397 804.891 798.008 804.891 Q801.642 804.891 803.448 801.35 Q805.276 797.785 805.276 790.679 Q805.276 783.549 803.448 780.007 Q801.642 776.443 798.008 776.443 M798.008 772.739 Q803.818 772.739 806.873 777.345 Q809.952 781.929 809.952 790.679 Q809.952 799.405 806.873 804.012 Q803.818 808.595 798.008 808.595 Q792.198 808.595 789.119 804.012 Q786.063 799.405 786.063 790.679 Q786.063 781.929 789.119 777.345 Q792.198 772.739 798.008 772.739 Z\" fill=\"#000000\" fill-rule=\"evenodd\" fill-opacity=\"1\" /><path clip-path=\"url(#clip440)\" d=\"M818.17 802.044 L823.054 802.044 L823.054 807.924 L818.17 807.924 L818.17 802.044 Z\" fill=\"#000000\" fill-rule=\"evenodd\" fill-opacity=\"1\" /><path clip-path=\"url(#clip440)\" d=\"M837.267 803.989 L853.586 803.989 L853.586 807.924 L831.642 807.924 L831.642 803.989 Q834.304 801.234 838.887 796.604 Q843.494 791.952 844.674 790.609 Q846.92 788.086 847.799 786.35 Q848.702 784.591 848.702 782.901 Q848.702 780.146 846.758 778.41 Q844.836 776.674 841.734 776.674 Q839.535 776.674 837.082 777.438 Q834.651 778.202 831.873 779.753 L831.873 775.031 Q834.697 773.896 837.151 773.318 Q839.605 772.739 841.642 772.739 Q847.012 772.739 850.207 775.424 Q853.401 778.109 853.401 782.6 Q853.401 784.73 852.591 786.651 Q851.804 788.549 849.697 791.142 Q849.119 791.813 846.017 795.03 Q842.915 798.225 837.267 803.989 Z\" fill=\"#000000\" fill-rule=\"evenodd\" fill-opacity=\"1\" /><path clip-path=\"url(#clip440)\" d=\"M873.401 776.443 Q869.79 776.443 867.961 780.007 Q866.156 783.549 866.156 790.679 Q866.156 797.785 867.961 801.35 Q869.79 804.891 873.401 804.891 Q877.035 804.891 878.841 801.35 Q880.669 797.785 880.669 790.679 Q880.669 783.549 878.841 780.007 Q877.035 776.443 873.401 776.443 M873.401 772.739 Q879.211 772.739 882.267 777.345 Q885.345 781.929 885.345 790.679 Q885.345 799.405 882.267 804.012 Q879.211 808.595 873.401 808.595 Q867.591 808.595 864.512 804.012 Q861.457 799.405 861.457 790.679 Q861.457 781.929 864.512 777.345 Q867.591 772.739 873.401 772.739 Z\" fill=\"#000000\" fill-rule=\"evenodd\" fill-opacity=\"1\" /><path clip-path=\"url(#clip440)\" d=\"M944.719 776.443 Q941.108 776.443 939.279 780.007 Q937.474 783.549 937.474 790.679 Q937.474 797.785 939.279 801.35 Q941.108 804.891 944.719 804.891 Q948.353 804.891 950.159 801.35 Q951.987 797.785 951.987 790.679 Q951.987 783.549 950.159 780.007 Q948.353 776.443 944.719 776.443 M944.719 772.739 Q950.529 772.739 953.585 777.345 Q956.663 781.929 956.663 790.679 Q956.663 799.405 953.585 804.012 Q950.529 808.595 944.719 808.595 Q938.909 808.595 935.83 804.012 Q932.774 799.405 932.774 790.679 Q932.774 781.929 935.83 777.345 Q938.909 772.739 944.719 772.739 Z\" fill=\"#000000\" fill-rule=\"evenodd\" fill-opacity=\"1\" /><path clip-path=\"url(#clip440)\" d=\"M964.881 802.044 L969.765 802.044 L969.765 807.924 L964.881 807.924 L964.881 802.044 Z\" fill=\"#000000\" fill-rule=\"evenodd\" fill-opacity=\"1\" /><path clip-path=\"url(#clip440)\" d=\"M983.978 803.989 L1000.3 803.989 L1000.3 807.924 L978.353 807.924 L978.353 803.989 Q981.015 801.234 985.598 796.604 Q990.205 791.952 991.385 790.609 Q993.631 788.086 994.51 786.35 Q995.413 784.591 995.413 782.901 Q995.413 780.146 993.469 778.41 Q991.547 776.674 988.445 776.674 Q986.246 776.674 983.793 777.438 Q981.362 778.202 978.584 779.753 L978.584 775.031 Q981.408 773.896 983.862 773.318 Q986.316 772.739 988.353 772.739 Q993.723 772.739 996.918 775.424 Q1000.11 778.109 1000.11 782.6 Q1000.11 784.73 999.302 786.651 Q998.515 788.549 996.408 791.142 Q995.83 791.813 992.728 795.03 Q989.626 798.225 983.978 803.989 Z\" fill=\"#000000\" fill-rule=\"evenodd\" fill-opacity=\"1\" /><path clip-path=\"url(#clip440)\" d=\"M1010.16 773.364 L1028.51 773.364 L1028.51 777.299 L1014.44 777.299 L1014.44 785.771 Q1015.46 785.424 1016.48 785.262 Q1017.5 785.077 1018.51 785.077 Q1024.3 785.077 1027.68 788.248 Q1031.06 791.419 1031.06 796.836 Q1031.06 802.415 1027.59 805.516 Q1024.12 808.595 1017.8 808.595 Q1015.62 808.595 1013.35 808.225 Q1011.11 807.854 1008.7 807.114 L1008.7 802.415 Q1010.78 803.549 1013.01 804.104 Q1015.23 804.66 1017.7 804.66 Q1021.71 804.66 1024.05 802.554 Q1026.39 800.447 1026.39 796.836 Q1026.39 793.225 1024.05 791.118 Q1021.71 789.012 1017.7 789.012 Q1015.83 789.012 1013.95 789.429 Q1012.1 789.845 1010.16 790.725 L1010.16 773.364 Z\" fill=\"#000000\" fill-rule=\"evenodd\" fill-opacity=\"1\" /><path clip-path=\"url(#clip440)\" d=\"M1090.43 776.443 Q1086.82 776.443 1084.99 780.007 Q1083.19 783.549 1083.19 790.679 Q1083.19 797.785 1084.99 801.35 Q1086.82 804.891 1090.43 804.891 Q1094.07 804.891 1095.87 801.35 Q1097.7 797.785 1097.7 790.679 Q1097.7 783.549 1095.87 780.007 Q1094.07 776.443 1090.43 776.443 M1090.43 772.739 Q1096.24 772.739 1099.3 777.345 Q1102.38 781.929 1102.38 790.679 Q1102.38 799.405 1099.3 804.012 Q1096.24 808.595 1090.43 808.595 Q1084.62 808.595 1081.55 804.012 Q1078.49 799.405 1078.49 790.679 Q1078.49 781.929 1081.55 777.345 Q1084.62 772.739 1090.43 772.739 Z\" fill=\"#000000\" fill-rule=\"evenodd\" fill-opacity=\"1\" /><path clip-path=\"url(#clip440)\" d=\"M1110.6 802.044 L1115.48 802.044 L1115.48 807.924 L1110.6 807.924 L1110.6 802.044 Z\" fill=\"#000000\" fill-rule=\"evenodd\" fill-opacity=\"1\" /><path clip-path=\"url(#clip440)\" d=\"M1139.83 789.29 Q1143.19 790.007 1145.06 792.276 Q1146.96 794.544 1146.96 797.878 Q1146.96 802.993 1143.44 805.794 Q1139.93 808.595 1133.44 808.595 Q1131.27 808.595 1128.95 808.155 Q1126.66 807.739 1124.21 806.882 L1124.21 802.368 Q1126.15 803.503 1128.47 804.081 Q1130.78 804.66 1133.3 804.66 Q1137.7 804.66 1139.99 802.924 Q1142.31 801.188 1142.31 797.878 Q1142.31 794.822 1140.16 793.109 Q1138.03 791.373 1134.21 791.373 L1130.18 791.373 L1130.18 787.53 L1134.39 787.53 Q1137.84 787.53 1139.67 786.165 Q1141.5 784.776 1141.5 782.183 Q1141.5 779.521 1139.6 778.109 Q1137.73 776.674 1134.21 776.674 Q1132.29 776.674 1130.09 777.091 Q1127.89 777.507 1125.25 778.387 L1125.25 774.22 Q1127.91 773.48 1130.23 773.109 Q1132.56 772.739 1134.62 772.739 Q1139.95 772.739 1143.05 775.169 Q1146.15 777.577 1146.15 781.697 Q1146.15 784.568 1144.51 786.558 Q1142.86 788.526 1139.83 789.29 Z\" fill=\"#000000\" fill-rule=\"evenodd\" fill-opacity=\"1\" /><path clip-path=\"url(#clip440)\" d=\"M1165.83 776.443 Q1162.22 776.443 1160.39 780.007 Q1158.58 783.549 1158.58 790.679 Q1158.58 797.785 1160.39 801.35 Q1162.22 804.891 1165.83 804.891 Q1169.46 804.891 1171.27 801.35 Q1173.1 797.785 1173.1 790.679 Q1173.1 783.549 1171.27 780.007 Q1169.46 776.443 1165.83 776.443 M1165.83 772.739 Q1171.64 772.739 1174.69 777.345 Q1177.77 781.929 1177.77 790.679 Q1177.77 799.405 1174.69 804.012 Q1171.64 808.595 1165.83 808.595 Q1160.02 808.595 1156.94 804.012 Q1153.88 799.405 1153.88 790.679 Q1153.88 781.929 1156.94 777.345 Q1160.02 772.739 1165.83 772.739 Z\" fill=\"#000000\" fill-rule=\"evenodd\" fill-opacity=\"1\" /><polyline clip-path=\"url(#clip442)\" style=\"stroke:#000000; stroke-linecap:butt; stroke-linejoin:round; stroke-width:2; stroke-opacity:0.1; fill:none\" points=\"\n",
       "  255.644,687.006 1152.76,687.006 \n",
       "  \"/>\n",
       "<polyline clip-path=\"url(#clip442)\" style=\"stroke:#000000; stroke-linecap:butt; stroke-linejoin:round; stroke-width:2; stroke-opacity:0.1; fill:none\" points=\"\n",
       "  255.644,555.145 1152.76,555.145 \n",
       "  \"/>\n",
       "<polyline clip-path=\"url(#clip442)\" style=\"stroke:#000000; stroke-linecap:butt; stroke-linejoin:round; stroke-width:2; stroke-opacity:0.1; fill:none\" points=\"\n",
       "  255.644,423.285 1152.76,423.285 \n",
       "  \"/>\n",
       "<polyline clip-path=\"url(#clip442)\" style=\"stroke:#000000; stroke-linecap:butt; stroke-linejoin:round; stroke-width:2; stroke-opacity:0.1; fill:none\" points=\"\n",
       "  255.644,291.424 1152.76,291.424 \n",
       "  \"/>\n",
       "<polyline clip-path=\"url(#clip442)\" style=\"stroke:#000000; stroke-linecap:butt; stroke-linejoin:round; stroke-width:2; stroke-opacity:0.1; fill:none\" points=\"\n",
       "  255.644,159.564 1152.76,159.564 \n",
       "  \"/>\n",
       "<polyline clip-path=\"url(#clip440)\" style=\"stroke:#000000; stroke-linecap:butt; stroke-linejoin:round; stroke-width:4; stroke-opacity:1; fill:none\" points=\"\n",
       "  255.644,745.524 255.644,47.2441 \n",
       "  \"/>\n",
       "<polyline clip-path=\"url(#clip440)\" style=\"stroke:#000000; stroke-linecap:butt; stroke-linejoin:round; stroke-width:4; stroke-opacity:1; fill:none\" points=\"\n",
       "  1152.76,745.524 1152.76,47.2441 \n",
       "  \"/>\n",
       "<polyline clip-path=\"url(#clip440)\" style=\"stroke:#000000; stroke-linecap:butt; stroke-linejoin:round; stroke-width:4; stroke-opacity:1; fill:none\" points=\"\n",
       "  255.644,687.006 274.542,687.006 \n",
       "  \"/>\n",
       "<polyline clip-path=\"url(#clip440)\" style=\"stroke:#000000; stroke-linecap:butt; stroke-linejoin:round; stroke-width:4; stroke-opacity:1; fill:none\" points=\"\n",
       "  255.644,555.145 274.542,555.145 \n",
       "  \"/>\n",
       "<polyline clip-path=\"url(#clip440)\" style=\"stroke:#000000; stroke-linecap:butt; stroke-linejoin:round; stroke-width:4; stroke-opacity:1; fill:none\" points=\"\n",
       "  255.644,423.285 274.542,423.285 \n",
       "  \"/>\n",
       "<polyline clip-path=\"url(#clip440)\" style=\"stroke:#000000; stroke-linecap:butt; stroke-linejoin:round; stroke-width:4; stroke-opacity:1; fill:none\" points=\"\n",
       "  255.644,291.424 274.542,291.424 \n",
       "  \"/>\n",
       "<polyline clip-path=\"url(#clip440)\" style=\"stroke:#000000; stroke-linecap:butt; stroke-linejoin:round; stroke-width:4; stroke-opacity:1; fill:none\" points=\"\n",
       "  255.644,159.564 274.542,159.564 \n",
       "  \"/>\n",
       "<path clip-path=\"url(#clip440)\" d=\"M132.307 672.804 Q128.695 672.804 126.867 676.369 Q125.061 679.911 125.061 687.041 Q125.061 694.147 126.867 697.712 Q128.695 701.253 132.307 701.253 Q135.941 701.253 137.746 697.712 Q139.575 694.147 139.575 687.041 Q139.575 679.911 137.746 676.369 Q135.941 672.804 132.307 672.804 M132.307 669.101 Q138.117 669.101 141.172 673.707 Q144.251 678.291 144.251 687.041 Q144.251 695.767 141.172 700.374 Q138.117 704.957 132.307 704.957 Q126.496 704.957 123.418 700.374 Q120.362 695.767 120.362 687.041 Q120.362 678.291 123.418 673.707 Q126.496 669.101 132.307 669.101 Z\" fill=\"#000000\" fill-rule=\"evenodd\" fill-opacity=\"1\" /><path clip-path=\"url(#clip440)\" d=\"M152.469 698.406 L157.353 698.406 L157.353 704.286 L152.469 704.286 L152.469 698.406 Z\" fill=\"#000000\" fill-rule=\"evenodd\" fill-opacity=\"1\" /><path clip-path=\"url(#clip440)\" d=\"M181.704 685.652 Q185.061 686.369 186.936 688.638 Q188.834 690.906 188.834 694.24 Q188.834 699.355 185.316 702.156 Q181.797 704.957 175.316 704.957 Q173.14 704.957 170.825 704.517 Q168.533 704.101 166.08 703.244 L166.08 698.73 Q168.024 699.865 170.339 700.443 Q172.654 701.022 175.177 701.022 Q179.575 701.022 181.866 699.286 Q184.181 697.55 184.181 694.24 Q184.181 691.184 182.029 689.471 Q179.899 687.735 176.079 687.735 L172.052 687.735 L172.052 683.892 L176.265 683.892 Q179.714 683.892 181.542 682.527 Q183.371 681.138 183.371 678.545 Q183.371 675.883 181.473 674.471 Q179.598 673.036 176.079 673.036 Q174.158 673.036 171.959 673.453 Q169.76 673.869 167.121 674.749 L167.121 670.582 Q169.783 669.842 172.098 669.471 Q174.436 669.101 176.496 669.101 Q181.82 669.101 184.922 671.531 Q188.024 673.939 188.024 678.059 Q188.024 680.929 186.38 682.92 Q184.737 684.888 181.704 685.652 Z\" fill=\"#000000\" fill-rule=\"evenodd\" fill-opacity=\"1\" /><path clip-path=\"url(#clip440)\" d=\"M207.7 672.804 Q204.089 672.804 202.26 676.369 Q200.454 679.911 200.454 687.041 Q200.454 694.147 202.26 697.712 Q204.089 701.253 207.7 701.253 Q211.334 701.253 213.139 697.712 Q214.968 694.147 214.968 687.041 Q214.968 679.911 213.139 676.369 Q211.334 672.804 207.7 672.804 M207.7 669.101 Q213.51 669.101 216.565 673.707 Q219.644 678.291 219.644 687.041 Q219.644 695.767 216.565 700.374 Q213.51 704.957 207.7 704.957 Q201.89 704.957 198.811 700.374 Q195.755 695.767 195.755 687.041 Q195.755 678.291 198.811 673.707 Q201.89 669.101 207.7 669.101 Z\" fill=\"#000000\" fill-rule=\"evenodd\" fill-opacity=\"1\" /><path clip-path=\"url(#clip440)\" d=\"M132.955 540.944 Q129.344 540.944 127.515 544.509 Q125.709 548.05 125.709 555.18 Q125.709 562.286 127.515 565.851 Q129.344 569.393 132.955 569.393 Q136.589 569.393 138.395 565.851 Q140.223 562.286 140.223 555.18 Q140.223 548.05 138.395 544.509 Q136.589 540.944 132.955 540.944 M132.955 537.24 Q138.765 537.24 141.82 541.847 Q144.899 546.43 144.899 555.18 Q144.899 563.907 141.82 568.513 Q138.765 573.097 132.955 573.097 Q127.145 573.097 124.066 568.513 Q121.01 563.907 121.01 555.18 Q121.01 546.43 124.066 541.847 Q127.145 537.24 132.955 537.24 Z\" fill=\"#000000\" fill-rule=\"evenodd\" fill-opacity=\"1\" /><path clip-path=\"url(#clip440)\" d=\"M153.117 566.546 L158.001 566.546 L158.001 572.425 L153.117 572.425 L153.117 566.546 Z\" fill=\"#000000\" fill-rule=\"evenodd\" fill-opacity=\"1\" /><path clip-path=\"url(#clip440)\" d=\"M182.353 553.791 Q185.709 554.509 187.584 556.777 Q189.482 559.046 189.482 562.379 Q189.482 567.495 185.964 570.296 Q182.445 573.097 175.964 573.097 Q173.788 573.097 171.473 572.657 Q169.181 572.24 166.728 571.384 L166.728 566.87 Q168.672 568.004 170.987 568.583 Q173.302 569.161 175.825 569.161 Q180.223 569.161 182.515 567.425 Q184.829 565.689 184.829 562.379 Q184.829 559.324 182.677 557.611 Q180.547 555.874 176.728 555.874 L172.7 555.874 L172.7 552.032 L176.913 552.032 Q180.362 552.032 182.191 550.666 Q184.019 549.277 184.019 546.685 Q184.019 544.023 182.121 542.611 Q180.246 541.175 176.728 541.175 Q174.806 541.175 172.607 541.592 Q170.408 542.009 167.769 542.888 L167.769 538.722 Q170.431 537.981 172.746 537.611 Q175.084 537.24 177.144 537.24 Q182.468 537.24 185.57 539.671 Q188.672 542.078 188.672 546.199 Q188.672 549.069 187.029 551.06 Q185.385 553.027 182.353 553.791 Z\" fill=\"#000000\" fill-rule=\"evenodd\" fill-opacity=\"1\" /><path clip-path=\"url(#clip440)\" d=\"M212.514 553.791 Q215.871 554.509 217.746 556.777 Q219.644 559.046 219.644 562.379 Q219.644 567.495 216.126 570.296 Q212.607 573.097 206.126 573.097 Q203.95 573.097 201.635 572.657 Q199.343 572.24 196.89 571.384 L196.89 566.87 Q198.834 568.004 201.149 568.583 Q203.464 569.161 205.987 569.161 Q210.385 569.161 212.677 567.425 Q214.991 565.689 214.991 562.379 Q214.991 559.324 212.839 557.611 Q210.709 555.874 206.89 555.874 L202.862 555.874 L202.862 552.032 L207.075 552.032 Q210.524 552.032 212.352 550.666 Q214.181 549.277 214.181 546.685 Q214.181 544.023 212.283 542.611 Q210.408 541.175 206.89 541.175 Q204.968 541.175 202.769 541.592 Q200.57 542.009 197.931 542.888 L197.931 538.722 Q200.593 537.981 202.908 537.611 Q205.246 537.24 207.306 537.24 Q212.63 537.24 215.732 539.671 Q218.834 542.078 218.834 546.199 Q218.834 549.069 217.19 551.06 Q215.547 553.027 212.514 553.791 Z\" fill=\"#000000\" fill-rule=\"evenodd\" fill-opacity=\"1\" /><path clip-path=\"url(#clip440)\" d=\"M132.145 409.083 Q128.533 409.083 126.705 412.648 Q124.899 416.19 124.899 423.32 Q124.899 430.426 126.705 433.991 Q128.533 437.532 132.145 437.532 Q135.779 437.532 137.584 433.991 Q139.413 430.426 139.413 423.32 Q139.413 416.19 137.584 412.648 Q135.779 409.083 132.145 409.083 M132.145 405.38 Q137.955 405.38 141.01 409.986 Q144.089 414.57 144.089 423.32 Q144.089 432.046 141.01 436.653 Q137.955 441.236 132.145 441.236 Q126.334 441.236 123.256 436.653 Q120.2 432.046 120.2 423.32 Q120.2 414.57 123.256 409.986 Q126.334 405.38 132.145 405.38 Z\" fill=\"#000000\" fill-rule=\"evenodd\" fill-opacity=\"1\" /><path clip-path=\"url(#clip440)\" d=\"M152.306 434.685 L157.191 434.685 L157.191 440.565 L152.306 440.565 L152.306 434.685 Z\" fill=\"#000000\" fill-rule=\"evenodd\" fill-opacity=\"1\" /><path clip-path=\"url(#clip440)\" d=\"M181.542 421.931 Q184.899 422.648 186.774 424.917 Q188.672 427.185 188.672 430.519 Q188.672 435.634 185.154 438.435 Q181.635 441.236 175.154 441.236 Q172.978 441.236 170.663 440.796 Q168.371 440.38 165.918 439.523 L165.918 435.009 Q167.862 436.144 170.177 436.722 Q172.492 437.301 175.015 437.301 Q179.413 437.301 181.704 435.565 Q184.019 433.829 184.019 430.519 Q184.019 427.463 181.866 425.75 Q179.737 424.014 175.917 424.014 L171.89 424.014 L171.89 420.171 L176.103 420.171 Q179.552 420.171 181.38 418.806 Q183.209 417.417 183.209 414.824 Q183.209 412.162 181.311 410.75 Q179.436 409.315 175.917 409.315 Q173.996 409.315 171.797 409.732 Q169.598 410.148 166.959 411.028 L166.959 406.861 Q169.621 406.121 171.936 405.75 Q174.274 405.38 176.334 405.38 Q181.658 405.38 184.76 407.81 Q187.862 410.218 187.862 414.338 Q187.862 417.208 186.218 419.199 Q184.575 421.167 181.542 421.931 Z\" fill=\"#000000\" fill-rule=\"evenodd\" fill-opacity=\"1\" /><path clip-path=\"url(#clip440)\" d=\"M208.116 421.421 Q204.968 421.421 203.116 423.574 Q201.288 425.727 201.288 429.477 Q201.288 433.204 203.116 435.38 Q204.968 437.532 208.116 437.532 Q211.264 437.532 213.093 435.38 Q214.945 433.204 214.945 429.477 Q214.945 425.727 213.093 423.574 Q211.264 421.421 208.116 421.421 M217.399 406.769 L217.399 411.028 Q215.639 410.195 213.834 409.755 Q212.052 409.315 210.292 409.315 Q205.663 409.315 203.209 412.44 Q200.778 415.565 200.431 421.884 Q201.797 419.87 203.857 418.806 Q205.917 417.718 208.394 417.718 Q213.602 417.718 216.612 420.889 Q219.644 424.037 219.644 429.477 Q219.644 434.801 216.496 438.018 Q213.348 441.236 208.116 441.236 Q202.121 441.236 198.95 436.653 Q195.778 432.046 195.778 423.32 Q195.778 415.125 199.667 410.264 Q203.556 405.38 210.107 405.38 Q211.866 405.38 213.649 405.727 Q215.454 406.074 217.399 406.769 Z\" fill=\"#000000\" fill-rule=\"evenodd\" fill-opacity=\"1\" /><path clip-path=\"url(#clip440)\" d=\"M132.492 277.223 Q128.881 277.223 127.052 280.788 Q125.246 284.329 125.246 291.459 Q125.246 298.565 127.052 302.13 Q128.881 305.672 132.492 305.672 Q136.126 305.672 137.932 302.13 Q139.76 298.565 139.76 291.459 Q139.76 284.329 137.932 280.788 Q136.126 277.223 132.492 277.223 M132.492 273.519 Q138.302 273.519 141.357 278.126 Q144.436 282.709 144.436 291.459 Q144.436 300.186 141.357 304.792 Q138.302 309.376 132.492 309.376 Q126.682 309.376 123.603 304.792 Q120.547 300.186 120.547 291.459 Q120.547 282.709 123.603 278.126 Q126.682 273.519 132.492 273.519 Z\" fill=\"#000000\" fill-rule=\"evenodd\" fill-opacity=\"1\" /><path clip-path=\"url(#clip440)\" d=\"M152.654 302.825 L157.538 302.825 L157.538 308.704 L152.654 308.704 L152.654 302.825 Z\" fill=\"#000000\" fill-rule=\"evenodd\" fill-opacity=\"1\" /><path clip-path=\"url(#clip440)\" d=\"M181.89 290.07 Q185.246 290.788 187.121 293.056 Q189.019 295.325 189.019 298.658 Q189.019 303.774 185.501 306.575 Q181.982 309.376 175.501 309.376 Q173.325 309.376 171.01 308.936 Q168.718 308.519 166.265 307.663 L166.265 303.149 Q168.209 304.283 170.524 304.862 Q172.839 305.44 175.362 305.44 Q179.76 305.44 182.052 303.704 Q184.366 301.968 184.366 298.658 Q184.366 295.602 182.214 293.89 Q180.084 292.153 176.265 292.153 L172.237 292.153 L172.237 288.311 L176.45 288.311 Q179.899 288.311 181.728 286.945 Q183.556 285.556 183.556 282.964 Q183.556 280.302 181.658 278.89 Q179.783 277.454 176.265 277.454 Q174.343 277.454 172.144 277.871 Q169.945 278.288 167.306 279.167 L167.306 275.001 Q169.968 274.26 172.283 273.89 Q174.621 273.519 176.681 273.519 Q182.005 273.519 185.107 275.95 Q188.209 278.357 188.209 282.478 Q188.209 285.348 186.566 287.339 Q184.922 289.306 181.89 290.07 Z\" fill=\"#000000\" fill-rule=\"evenodd\" fill-opacity=\"1\" /><path clip-path=\"url(#clip440)\" d=\"M198.024 307.987 L198.024 303.727 Q199.783 304.561 201.589 305.001 Q203.394 305.44 205.13 305.44 Q209.76 305.44 212.19 302.339 Q214.644 299.214 214.991 292.871 Q213.649 294.862 211.589 295.927 Q209.528 296.991 207.028 296.991 Q201.843 296.991 198.811 293.866 Q195.802 290.718 195.802 285.278 Q195.802 279.954 198.95 276.737 Q202.098 273.519 207.329 273.519 Q213.325 273.519 216.473 278.126 Q219.644 282.709 219.644 291.459 Q219.644 299.63 215.755 304.514 Q211.889 309.376 205.339 309.376 Q203.579 309.376 201.774 309.028 Q199.968 308.681 198.024 307.987 M207.329 293.334 Q210.477 293.334 212.306 291.181 Q214.158 289.028 214.158 285.278 Q214.158 281.552 212.306 279.399 Q210.477 277.223 207.329 277.223 Q204.181 277.223 202.329 279.399 Q200.501 281.552 200.501 285.278 Q200.501 289.028 202.329 291.181 Q204.181 293.334 207.329 293.334 Z\" fill=\"#000000\" fill-rule=\"evenodd\" fill-opacity=\"1\" /><path clip-path=\"url(#clip440)\" d=\"M133.904 145.362 Q130.293 145.362 128.464 148.927 Q126.658 152.469 126.658 159.598 Q126.658 166.705 128.464 170.27 Q130.293 173.811 133.904 173.811 Q137.538 173.811 139.344 170.27 Q141.172 166.705 141.172 159.598 Q141.172 152.469 139.344 148.927 Q137.538 145.362 133.904 145.362 M133.904 141.659 Q139.714 141.659 142.769 146.265 Q145.848 150.849 145.848 159.598 Q145.848 168.325 142.769 172.932 Q139.714 177.515 133.904 177.515 Q128.094 177.515 125.015 172.932 Q121.959 168.325 121.959 159.598 Q121.959 150.849 125.015 146.265 Q128.094 141.659 133.904 141.659 Z\" fill=\"#000000\" fill-rule=\"evenodd\" fill-opacity=\"1\" /><path clip-path=\"url(#clip440)\" d=\"M154.066 170.964 L158.95 170.964 L158.95 176.844 L154.066 176.844 L154.066 170.964 Z\" fill=\"#000000\" fill-rule=\"evenodd\" fill-opacity=\"1\" /><path clip-path=\"url(#clip440)\" d=\"M181.982 146.358 L170.177 164.807 L181.982 164.807 L181.982 146.358 M180.755 142.284 L186.635 142.284 L186.635 164.807 L191.566 164.807 L191.566 168.696 L186.635 168.696 L186.635 176.844 L181.982 176.844 L181.982 168.696 L166.38 168.696 L166.38 164.182 L180.755 142.284 Z\" fill=\"#000000\" fill-rule=\"evenodd\" fill-opacity=\"1\" /><path clip-path=\"url(#clip440)\" d=\"M203.325 172.909 L219.644 172.909 L219.644 176.844 L197.7 176.844 L197.7 172.909 Q200.362 170.154 204.945 165.524 Q209.552 160.872 210.732 159.529 Q212.977 157.006 213.857 155.27 Q214.76 153.511 214.76 151.821 Q214.76 149.066 212.815 147.33 Q210.894 145.594 207.792 145.594 Q205.593 145.594 203.14 146.358 Q200.709 147.122 197.931 148.673 L197.931 143.95 Q200.755 142.816 203.209 142.237 Q205.663 141.659 207.7 141.659 Q213.07 141.659 216.264 144.344 Q219.459 147.029 219.459 151.52 Q219.459 153.649 218.649 155.571 Q217.862 157.469 215.755 160.061 Q215.177 160.733 212.075 163.95 Q208.973 167.145 203.325 172.909 Z\" fill=\"#000000\" fill-rule=\"evenodd\" fill-opacity=\"1\" /><path clip-path=\"url(#clip440)\" d=\"M47.2504 534.918 L64.6606 534.918 L64.6606 524.605 Q64.6606 519.417 62.5281 516.935 Q60.3638 514.42 55.9396 514.42 Q51.4836 514.42 49.3829 516.935 Q47.2504 519.417 47.2504 524.605 L47.2504 534.918 M27.7077 534.918 L42.0305 534.918 L42.0305 525.401 Q42.0305 520.69 40.28 518.399 Q38.4976 516.075 34.8691 516.075 Q31.2725 516.075 29.4901 518.399 Q27.7077 520.69 27.7077 525.401 L27.7077 534.918 M22.4242 541.347 L22.4242 524.924 Q22.4242 517.571 25.4797 513.593 Q28.5352 509.614 34.1689 509.614 Q38.5294 509.614 41.1075 511.651 Q43.6856 513.688 44.3222 517.635 Q45.3407 512.892 48.5872 510.282 Q51.8019 507.641 56.6398 507.641 Q63.0055 507.641 66.4748 511.969 Q69.9442 516.298 69.9442 524.287 L69.9442 541.347 L22.4242 541.347 Z\" fill=\"#000000\" fill-rule=\"evenodd\" fill-opacity=\"1\" /><path clip-path=\"url(#clip440)\" d=\"M39.7707 476.226 Q39.1978 477.213 38.9432 478.39 Q38.6567 479.536 38.6567 480.936 Q38.6567 485.902 41.9032 488.575 Q45.1179 491.217 51.1653 491.217 L69.9442 491.217 L69.9442 497.105 L34.2962 497.105 L34.2962 491.217 L39.8344 491.217 Q36.5879 489.371 35.0283 486.411 Q33.4368 483.451 33.4368 479.218 Q33.4368 478.613 33.5323 477.881 Q33.596 477.149 33.7551 476.258 L39.7707 476.226 Z\" fill=\"#000000\" fill-rule=\"evenodd\" fill-opacity=\"1\" /><path clip-path=\"url(#clip440)\" d=\"M34.2962 470.083 L34.2962 464.226 L69.9442 464.226 L69.9442 470.083 L34.2962 470.083 M20.419 470.083 L20.419 464.226 L27.835 464.226 L27.835 470.083 L20.419 470.083 Z\" fill=\"#000000\" fill-rule=\"evenodd\" fill-opacity=\"1\" /><path clip-path=\"url(#clip440)\" d=\"M50.6561 421.481 L53.5206 421.481 L53.5206 448.408 Q59.5681 448.026 62.7509 444.779 Q65.9019 441.501 65.9019 435.676 Q65.9019 432.302 65.0744 429.151 Q64.2469 425.969 62.5918 422.849 L68.1299 422.849 Q69.4667 426 70.167 429.311 Q70.8672 432.621 70.8672 436.026 Q70.8672 444.556 65.9019 449.554 Q60.9367 454.519 52.4703 454.519 Q43.7174 454.519 38.5931 449.808 Q33.4368 445.066 33.4368 437.045 Q33.4368 429.852 38.0838 425.682 Q42.6989 421.481 50.6561 421.481 M48.9373 427.337 Q44.1312 427.401 41.2666 430.043 Q38.4021 432.653 38.4021 436.981 Q38.4021 441.883 41.1712 444.843 Q43.9402 447.771 48.9692 448.217 L48.9373 427.337 Z\" fill=\"#000000\" fill-rule=\"evenodd\" fill-opacity=\"1\" /><path clip-path=\"url(#clip440)\" d=\"M39.7707 391.212 Q39.1978 392.199 38.9432 393.376 Q38.6567 394.522 38.6567 395.922 Q38.6567 400.888 41.9032 403.561 Q45.1179 406.203 51.1653 406.203 L69.9442 406.203 L69.9442 412.091 L34.2962 412.091 L34.2962 406.203 L39.8344 406.203 Q36.5879 404.357 35.0283 401.397 Q33.4368 398.437 33.4368 394.204 Q33.4368 393.599 33.5323 392.867 Q33.596 392.135 33.7551 391.244 L39.7707 391.212 Z\" fill=\"#000000\" fill-rule=\"evenodd\" fill-opacity=\"1\" /><path clip-path=\"url(#clip440)\" d=\"M22.4242 384.814 L22.4242 378.385 L64.5333 378.385 L64.5333 355.246 L69.9442 355.246 L69.9442 384.814 L22.4242 384.814 Z\" fill=\"#000000\" fill-rule=\"evenodd\" fill-opacity=\"1\" /><path clip-path=\"url(#clip440)\" d=\"M38.4021 336.085 Q38.4021 340.795 42.0942 343.533 Q45.7545 346.27 52.152 346.27 Q58.5495 346.27 62.2417 343.565 Q65.9019 340.827 65.9019 336.085 Q65.9019 331.406 62.2098 328.669 Q58.5177 325.932 52.152 325.932 Q45.8181 325.932 42.126 328.669 Q38.4021 331.406 38.4021 336.085 M33.4368 336.085 Q33.4368 328.446 38.4021 324.085 Q43.3673 319.725 52.152 319.725 Q60.9049 319.725 65.9019 324.085 Q70.8672 328.446 70.8672 336.085 Q70.8672 343.755 65.9019 348.116 Q60.9049 352.445 52.152 352.445 Q43.3673 352.445 38.4021 348.116 Q33.4368 343.755 33.4368 336.085 Z\" fill=\"#000000\" fill-rule=\"evenodd\" fill-opacity=\"1\" /><path clip-path=\"url(#clip440)\" d=\"M35.3465 287.292 L40.8847 287.292 Q39.6116 289.774 38.975 292.448 Q38.3384 295.121 38.3384 297.986 Q38.3384 302.347 39.6752 304.543 Q41.012 306.707 43.6856 306.707 Q45.7226 306.707 46.9003 305.147 Q48.0461 303.588 49.0965 298.877 L49.5421 296.872 Q50.8789 290.634 53.3297 288.024 Q55.7486 285.382 60.1091 285.382 Q65.0744 285.382 67.9708 289.329 Q70.8672 293.244 70.8672 300.119 Q70.8672 302.983 70.2943 306.102 Q69.7532 309.19 68.6392 312.627 L62.5918 312.627 Q64.2787 309.381 65.138 306.23 Q65.9656 303.079 65.9656 299.991 Q65.9656 295.854 64.5651 293.626 Q63.1329 291.398 60.5547 291.398 Q58.1676 291.398 56.8945 293.021 Q55.6213 294.612 54.4437 300.055 L53.9662 302.092 Q52.8204 307.535 50.4651 309.954 Q48.078 312.373 43.9402 312.373 Q38.9113 312.373 36.1741 308.808 Q33.4368 305.243 33.4368 298.686 Q33.4368 295.44 33.9143 292.575 Q34.3917 289.711 35.3465 287.292 Z\" fill=\"#000000\" fill-rule=\"evenodd\" fill-opacity=\"1\" /><path clip-path=\"url(#clip440)\" d=\"M35.3465 253.331 L40.8847 253.331 Q39.6116 255.813 38.975 258.487 Q38.3384 261.16 38.3384 264.025 Q38.3384 268.386 39.6752 270.582 Q41.012 272.746 43.6856 272.746 Q45.7226 272.746 46.9003 271.186 Q48.0461 269.627 49.0965 264.916 L49.5421 262.911 Q50.8789 256.673 53.3297 254.063 Q55.7486 251.421 60.1091 251.421 Q65.0744 251.421 67.9708 255.368 Q70.8672 259.283 70.8672 266.158 Q70.8672 269.022 70.2943 272.141 Q69.7532 275.229 68.6392 278.666 L62.5918 278.666 Q64.2787 275.42 65.138 272.269 Q65.9656 269.118 65.9656 266.03 Q65.9656 261.893 64.5651 259.665 Q63.1329 257.437 60.5547 257.437 Q58.1676 257.437 56.8945 259.06 Q55.6213 260.651 54.4437 266.094 L53.9662 268.131 Q52.8204 273.574 50.4651 275.993 Q48.078 278.412 43.9402 278.412 Q38.9113 278.412 36.1741 274.847 Q33.4368 271.282 33.4368 264.725 Q33.4368 261.479 33.9143 258.614 Q34.3917 255.75 35.3465 253.331 Z\" fill=\"#000000\" fill-rule=\"evenodd\" fill-opacity=\"1\" /><circle clip-path=\"url(#clip442)\" cx=\"550.736\" cy=\"538.557\" r=\"14\" fill=\"#009af9\" fill-rule=\"evenodd\" fill-opacity=\"1\" stroke=\"#000000\" stroke-opacity=\"1\" stroke-width=\"3.6\"/>\n",
       "<circle clip-path=\"url(#clip442)\" cx=\"337.125\" cy=\"595.199\" r=\"14\" fill=\"#009af9\" fill-rule=\"evenodd\" fill-opacity=\"1\" stroke=\"#000000\" stroke-opacity=\"1\" stroke-width=\"3.6\"/>\n",
       "<circle clip-path=\"url(#clip442)\" cx=\"324.807\" cy=\"682.038\" r=\"14\" fill=\"#009af9\" fill-rule=\"evenodd\" fill-opacity=\"1\" stroke=\"#000000\" stroke-opacity=\"1\" stroke-width=\"3.6\"/>\n",
       "<circle clip-path=\"url(#clip442)\" cx=\"400.661\" cy=\"672.074\" r=\"14\" fill=\"#009af9\" fill-rule=\"evenodd\" fill-opacity=\"1\" stroke=\"#000000\" stroke-opacity=\"1\" stroke-width=\"3.6\"/>\n",
       "<circle clip-path=\"url(#clip442)\" cx=\"329.296\" cy=\"661.278\" r=\"14\" fill=\"#009af9\" fill-rule=\"evenodd\" fill-opacity=\"1\" stroke=\"#000000\" stroke-opacity=\"1\" stroke-width=\"3.6\"/>\n",
       "<circle clip-path=\"url(#clip442)\" cx=\"326.664\" cy=\"657.766\" r=\"14\" fill=\"#009af9\" fill-rule=\"evenodd\" fill-opacity=\"1\" stroke=\"#000000\" stroke-opacity=\"1\" stroke-width=\"3.6\"/>\n",
       "<circle clip-path=\"url(#clip442)\" cx=\"321.644\" cy=\"598.082\" r=\"14\" fill=\"#009af9\" fill-rule=\"evenodd\" fill-opacity=\"1\" stroke=\"#000000\" stroke-opacity=\"1\" stroke-width=\"3.6\"/>\n",
       "<circle clip-path=\"url(#clip442)\" cx=\"703.137\" cy=\"684.217\" r=\"14\" fill=\"#009af9\" fill-rule=\"evenodd\" fill-opacity=\"1\" stroke=\"#000000\" stroke-opacity=\"1\" stroke-width=\"3.6\"/>\n",
       "<circle clip-path=\"url(#clip442)\" cx=\"947.902\" cy=\"585.558\" r=\"14\" fill=\"#009af9\" fill-rule=\"evenodd\" fill-opacity=\"1\" stroke=\"#000000\" stroke-opacity=\"1\" stroke-width=\"3.6\"/>\n",
       "<circle clip-path=\"url(#clip442)\" cx=\"450.156\" cy=\"477.805\" r=\"14\" fill=\"#009af9\" fill-rule=\"evenodd\" fill-opacity=\"1\" stroke=\"#000000\" stroke-opacity=\"1\" stroke-width=\"3.6\"/>\n",
       "<circle clip-path=\"url(#clip442)\" cx=\"698.893\" cy=\"657.384\" r=\"14\" fill=\"#009af9\" fill-rule=\"evenodd\" fill-opacity=\"1\" stroke=\"#000000\" stroke-opacity=\"1\" stroke-width=\"3.6\"/>\n",
       "<circle clip-path=\"url(#clip442)\" cx=\"283.492\" cy=\"671.5\" r=\"14\" fill=\"#009af9\" fill-rule=\"evenodd\" fill-opacity=\"1\" stroke=\"#000000\" stroke-opacity=\"1\" stroke-width=\"3.6\"/>\n",
       "<circle clip-path=\"url(#clip442)\" cx=\"500.934\" cy=\"502.089\" r=\"14\" fill=\"#009af9\" fill-rule=\"evenodd\" fill-opacity=\"1\" stroke=\"#000000\" stroke-opacity=\"1\" stroke-width=\"3.6\"/>\n",
       "<circle clip-path=\"url(#clip442)\" cx=\"460.714\" cy=\"720.763\" r=\"14\" fill=\"#009af9\" fill-rule=\"evenodd\" fill-opacity=\"1\" stroke=\"#000000\" stroke-opacity=\"1\" stroke-width=\"3.6\"/>\n",
       "<circle clip-path=\"url(#clip442)\" cx=\"654.17\" cy=\"699.662\" r=\"14\" fill=\"#009af9\" fill-rule=\"evenodd\" fill-opacity=\"1\" stroke=\"#000000\" stroke-opacity=\"1\" stroke-width=\"3.6\"/>\n",
       "<circle clip-path=\"url(#clip442)\" cx=\"291.826\" cy=\"601.314\" r=\"14\" fill=\"#009af9\" fill-rule=\"evenodd\" fill-opacity=\"1\" stroke=\"#000000\" stroke-opacity=\"1\" stroke-width=\"3.6\"/>\n",
       "<circle clip-path=\"url(#clip442)\" cx=\"444.214\" cy=\"693.358\" r=\"14\" fill=\"#009af9\" fill-rule=\"evenodd\" fill-opacity=\"1\" stroke=\"#000000\" stroke-opacity=\"1\" stroke-width=\"3.6\"/>\n",
       "<circle clip-path=\"url(#clip442)\" cx=\"423.847\" cy=\"623.273\" r=\"14\" fill=\"#009af9\" fill-rule=\"evenodd\" fill-opacity=\"1\" stroke=\"#000000\" stroke-opacity=\"1\" stroke-width=\"3.6\"/>\n",
       "<circle clip-path=\"url(#clip442)\" cx=\"333.725\" cy=\"611.34\" r=\"14\" fill=\"#009af9\" fill-rule=\"evenodd\" fill-opacity=\"1\" stroke=\"#000000\" stroke-opacity=\"1\" stroke-width=\"3.6\"/>\n",
       "<circle clip-path=\"url(#clip442)\" cx=\"397.691\" cy=\"671.823\" r=\"14\" fill=\"#009af9\" fill-rule=\"evenodd\" fill-opacity=\"1\" stroke=\"#000000\" stroke-opacity=\"1\" stroke-width=\"3.6\"/>\n",
       "<circle clip-path=\"url(#clip442)\" cx=\"680.209\" cy=\"720.72\" r=\"14\" fill=\"#009af9\" fill-rule=\"evenodd\" fill-opacity=\"1\" stroke=\"#000000\" stroke-opacity=\"1\" stroke-width=\"3.6\"/>\n",
       "<circle clip-path=\"url(#clip442)\" cx=\"964.467\" cy=\"721.77\" r=\"14\" fill=\"#009af9\" fill-rule=\"evenodd\" fill-opacity=\"1\" stroke=\"#000000\" stroke-opacity=\"1\" stroke-width=\"3.6\"/>\n",
       "<circle clip-path=\"url(#clip442)\" cx=\"295.101\" cy=\"608.082\" r=\"14\" fill=\"#009af9\" fill-rule=\"evenodd\" fill-opacity=\"1\" stroke=\"#000000\" stroke-opacity=\"1\" stroke-width=\"3.6\"/>\n",
       "<circle clip-path=\"url(#clip442)\" cx=\"465.253\" cy=\"712.445\" r=\"14\" fill=\"#009af9\" fill-rule=\"evenodd\" fill-opacity=\"1\" stroke=\"#000000\" stroke-opacity=\"1\" stroke-width=\"3.6\"/>\n",
       "<circle clip-path=\"url(#clip442)\" cx=\"281.034\" cy=\"67.0067\" r=\"14\" fill=\"#009af9\" fill-rule=\"evenodd\" fill-opacity=\"1\" stroke=\"#000000\" stroke-opacity=\"1\" stroke-width=\"3.6\"/>\n",
       "<circle clip-path=\"url(#clip442)\" cx=\"786.567\" cy=\"437.22\" r=\"14\" fill=\"#009af9\" fill-rule=\"evenodd\" fill-opacity=\"1\" stroke=\"#000000\" stroke-opacity=\"1\" stroke-width=\"3.6\"/>\n",
       "<circle clip-path=\"url(#clip442)\" cx=\"812.685\" cy=\"465.587\" r=\"14\" fill=\"#009af9\" fill-rule=\"evenodd\" fill-opacity=\"1\" stroke=\"#000000\" stroke-opacity=\"1\" stroke-width=\"3.6\"/>\n",
       "<circle clip-path=\"url(#clip442)\" cx=\"354.907\" cy=\"661.332\" r=\"14\" fill=\"#009af9\" fill-rule=\"evenodd\" fill-opacity=\"1\" stroke=\"#000000\" stroke-opacity=\"1\" stroke-width=\"3.6\"/>\n",
       "<circle clip-path=\"url(#clip442)\" cx=\"865.853\" cy=\"503.864\" r=\"14\" fill=\"#009af9\" fill-rule=\"evenodd\" fill-opacity=\"1\" stroke=\"#000000\" stroke-opacity=\"1\" stroke-width=\"3.6\"/>\n",
       "<circle clip-path=\"url(#clip442)\" cx=\"326.304\" cy=\"507.889\" r=\"14\" fill=\"#009af9\" fill-rule=\"evenodd\" fill-opacity=\"1\" stroke=\"#000000\" stroke-opacity=\"1\" stroke-width=\"3.6\"/>\n",
       "<circle clip-path=\"url(#clip442)\" cx=\"518.535\" cy=\"711.396\" r=\"14\" fill=\"#009af9\" fill-rule=\"evenodd\" fill-opacity=\"1\" stroke=\"#000000\" stroke-opacity=\"1\" stroke-width=\"3.6\"/>\n",
       "<circle clip-path=\"url(#clip442)\" cx=\"766.59\" cy=\"690.741\" r=\"14\" fill=\"#009af9\" fill-rule=\"evenodd\" fill-opacity=\"1\" stroke=\"#000000\" stroke-opacity=\"1\" stroke-width=\"3.6\"/>\n",
       "<circle clip-path=\"url(#clip442)\" cx=\"375.256\" cy=\"702.584\" r=\"14\" fill=\"#009af9\" fill-rule=\"evenodd\" fill-opacity=\"1\" stroke=\"#000000\" stroke-opacity=\"1\" stroke-width=\"3.6\"/>\n",
       "<circle clip-path=\"url(#clip442)\" cx=\"303.962\" cy=\"683.301\" r=\"14\" fill=\"#009af9\" fill-rule=\"evenodd\" fill-opacity=\"1\" stroke=\"#000000\" stroke-opacity=\"1\" stroke-width=\"3.6\"/>\n",
       "<circle clip-path=\"url(#clip442)\" cx=\"1062.61\" cy=\"482.076\" r=\"14\" fill=\"#009af9\" fill-rule=\"evenodd\" fill-opacity=\"1\" stroke=\"#000000\" stroke-opacity=\"1\" stroke-width=\"3.6\"/>\n",
       "<circle clip-path=\"url(#clip442)\" cx=\"1127.37\" cy=\"614.838\" r=\"14\" fill=\"#009af9\" fill-rule=\"evenodd\" fill-opacity=\"1\" stroke=\"#000000\" stroke-opacity=\"1\" stroke-width=\"3.6\"/>\n",
       "<circle clip-path=\"url(#clip442)\" cx=\"339.996\" cy=\"725.761\" r=\"14\" fill=\"#009af9\" fill-rule=\"evenodd\" fill-opacity=\"1\" stroke=\"#000000\" stroke-opacity=\"1\" stroke-width=\"3.6\"/>\n",
       "<circle clip-path=\"url(#clip442)\" cx=\"326.648\" cy=\"721.05\" r=\"14\" fill=\"#009af9\" fill-rule=\"evenodd\" fill-opacity=\"1\" stroke=\"#000000\" stroke-opacity=\"1\" stroke-width=\"3.6\"/>\n",
       "<circle clip-path=\"url(#clip442)\" cx=\"375.948\" cy=\"679.283\" r=\"14\" fill=\"#009af9\" fill-rule=\"evenodd\" fill-opacity=\"1\" stroke=\"#000000\" stroke-opacity=\"1\" stroke-width=\"3.6\"/>\n",
       "<circle clip-path=\"url(#clip442)\" cx=\"576.153\" cy=\"680.568\" r=\"14\" fill=\"#009af9\" fill-rule=\"evenodd\" fill-opacity=\"1\" stroke=\"#000000\" stroke-opacity=\"1\" stroke-width=\"3.6\"/>\n",
       "<path clip-path=\"url(#clip440)\" d=\"\n",
       "M1455.64 745.524 L2352.76 745.524 L2352.76 47.2441 L1455.64 47.2441  Z\n",
       "  \" fill=\"#ffffff\" fill-rule=\"evenodd\" fill-opacity=\"1\"/>\n",
       "<defs>\n",
       "  <clipPath id=\"clip443\">\n",
       "    <rect x=\"1455\" y=\"47\" width=\"898\" height=\"699\"/>\n",
       "  </clipPath>\n",
       "</defs>\n",
       "<path clip-path=\"url(#clip440)\" d=\"\n",
       "M255.644 1610.92 L1152.76 1610.92 L1152.76 912.64 L255.644 912.64  Z\n",
       "  \" fill=\"#ffffff\" fill-rule=\"evenodd\" fill-opacity=\"1\"/>\n",
       "<defs>\n",
       "  <clipPath id=\"clip444\">\n",
       "    <rect x=\"255\" y=\"912\" width=\"898\" height=\"699\"/>\n",
       "  </clipPath>\n",
       "</defs>\n",
       "<polyline clip-path=\"url(#clip444)\" style=\"stroke:#000000; stroke-linecap:butt; stroke-linejoin:round; stroke-width:2; stroke-opacity:0.1; fill:none\" points=\"\n",
       "  397.064,1610.92 397.064,912.64 \n",
       "  \"/>\n",
       "<polyline clip-path=\"url(#clip444)\" style=\"stroke:#000000; stroke-linecap:butt; stroke-linejoin:round; stroke-width:2; stroke-opacity:0.1; fill:none\" points=\"\n",
       "  543.278,1610.92 543.278,912.64 \n",
       "  \"/>\n",
       "<polyline clip-path=\"url(#clip444)\" style=\"stroke:#000000; stroke-linecap:butt; stroke-linejoin:round; stroke-width:2; stroke-opacity:0.1; fill:none\" points=\"\n",
       "  689.491,1610.92 689.491,912.64 \n",
       "  \"/>\n",
       "<polyline clip-path=\"url(#clip444)\" style=\"stroke:#000000; stroke-linecap:butt; stroke-linejoin:round; stroke-width:2; stroke-opacity:0.1; fill:none\" points=\"\n",
       "  835.704,1610.92 835.704,912.64 \n",
       "  \"/>\n",
       "<polyline clip-path=\"url(#clip444)\" style=\"stroke:#000000; stroke-linecap:butt; stroke-linejoin:round; stroke-width:2; stroke-opacity:0.1; fill:none\" points=\"\n",
       "  981.918,1610.92 981.918,912.64 \n",
       "  \"/>\n",
       "<polyline clip-path=\"url(#clip444)\" style=\"stroke:#000000; stroke-linecap:butt; stroke-linejoin:round; stroke-width:2; stroke-opacity:0.1; fill:none\" points=\"\n",
       "  1128.13,1610.92 1128.13,912.64 \n",
       "  \"/>\n",
       "<polyline clip-path=\"url(#clip440)\" style=\"stroke:#000000; stroke-linecap:butt; stroke-linejoin:round; stroke-width:4; stroke-opacity:1; fill:none\" points=\"\n",
       "  255.644,1610.92 1152.76,1610.92 \n",
       "  \"/>\n",
       "<polyline clip-path=\"url(#clip440)\" style=\"stroke:#000000; stroke-linecap:butt; stroke-linejoin:round; stroke-width:4; stroke-opacity:1; fill:none\" points=\"\n",
       "  255.644,912.64 1152.76,912.64 \n",
       "  \"/>\n",
       "<polyline clip-path=\"url(#clip440)\" style=\"stroke:#000000; stroke-linecap:butt; stroke-linejoin:round; stroke-width:4; stroke-opacity:1; fill:none\" points=\"\n",
       "  397.064,1610.92 397.064,1592.02 \n",
       "  \"/>\n",
       "<polyline clip-path=\"url(#clip440)\" style=\"stroke:#000000; stroke-linecap:butt; stroke-linejoin:round; stroke-width:4; stroke-opacity:1; fill:none\" points=\"\n",
       "  543.278,1610.92 543.278,1592.02 \n",
       "  \"/>\n",
       "<polyline clip-path=\"url(#clip440)\" style=\"stroke:#000000; stroke-linecap:butt; stroke-linejoin:round; stroke-width:4; stroke-opacity:1; fill:none\" points=\"\n",
       "  689.491,1610.92 689.491,1592.02 \n",
       "  \"/>\n",
       "<polyline clip-path=\"url(#clip440)\" style=\"stroke:#000000; stroke-linecap:butt; stroke-linejoin:round; stroke-width:4; stroke-opacity:1; fill:none\" points=\"\n",
       "  835.704,1610.92 835.704,1592.02 \n",
       "  \"/>\n",
       "<polyline clip-path=\"url(#clip440)\" style=\"stroke:#000000; stroke-linecap:butt; stroke-linejoin:round; stroke-width:4; stroke-opacity:1; fill:none\" points=\"\n",
       "  981.918,1610.92 981.918,1592.02 \n",
       "  \"/>\n",
       "<polyline clip-path=\"url(#clip440)\" style=\"stroke:#000000; stroke-linecap:butt; stroke-linejoin:round; stroke-width:4; stroke-opacity:1; fill:none\" points=\"\n",
       "  1128.13,1610.92 1128.13,1592.02 \n",
       "  \"/>\n",
       "<path clip-path=\"url(#clip440)\" d=\"M359.865 1641.84 Q356.254 1641.84 354.425 1645.4 Q352.62 1648.94 352.62 1656.07 Q352.62 1663.18 354.425 1666.75 Q356.254 1670.29 359.865 1670.29 Q363.5 1670.29 365.305 1666.75 Q367.134 1663.18 367.134 1656.07 Q367.134 1648.94 365.305 1645.4 Q363.5 1641.84 359.865 1641.84 M359.865 1638.13 Q365.675 1638.13 368.731 1642.74 Q371.81 1647.32 371.81 1656.07 Q371.81 1664.8 368.731 1669.41 Q365.675 1673.99 359.865 1673.99 Q354.055 1673.99 350.976 1669.41 Q347.921 1664.8 347.921 1656.07 Q347.921 1647.32 350.976 1642.74 Q354.055 1638.13 359.865 1638.13 Z\" fill=\"#000000\" fill-rule=\"evenodd\" fill-opacity=\"1\" /><path clip-path=\"url(#clip440)\" d=\"M380.027 1667.44 L384.911 1667.44 L384.911 1673.32 L380.027 1673.32 L380.027 1667.44 Z\" fill=\"#000000\" fill-rule=\"evenodd\" fill-opacity=\"1\" /><path clip-path=\"url(#clip440)\" d=\"M405.097 1641.84 Q401.485 1641.84 399.657 1645.4 Q397.851 1648.94 397.851 1656.07 Q397.851 1663.18 399.657 1666.75 Q401.485 1670.29 405.097 1670.29 Q408.731 1670.29 410.536 1666.75 Q412.365 1663.18 412.365 1656.07 Q412.365 1648.94 410.536 1645.4 Q408.731 1641.84 405.097 1641.84 M405.097 1638.13 Q410.907 1638.13 413.962 1642.74 Q417.041 1647.32 417.041 1656.07 Q417.041 1664.8 413.962 1669.41 Q410.907 1673.99 405.097 1673.99 Q399.286 1673.99 396.208 1669.41 Q393.152 1664.8 393.152 1656.07 Q393.152 1647.32 396.208 1642.74 Q399.286 1638.13 405.097 1638.13 Z\" fill=\"#000000\" fill-rule=\"evenodd\" fill-opacity=\"1\" /><path clip-path=\"url(#clip440)\" d=\"M425.305 1638.76 L443.661 1638.76 L443.661 1642.7 L429.587 1642.7 L429.587 1651.17 Q430.606 1650.82 431.624 1650.66 Q432.643 1650.47 433.661 1650.47 Q439.448 1650.47 442.828 1653.64 Q446.207 1656.82 446.207 1662.23 Q446.207 1667.81 442.735 1670.91 Q439.263 1673.99 432.944 1673.99 Q430.768 1673.99 428.499 1673.62 Q426.254 1673.25 423.846 1672.51 L423.846 1667.81 Q425.93 1668.94 428.152 1669.5 Q430.374 1670.06 432.851 1670.06 Q436.856 1670.06 439.194 1667.95 Q441.531 1665.84 441.531 1662.23 Q441.531 1658.62 439.194 1656.51 Q436.856 1654.41 432.851 1654.41 Q430.976 1654.41 429.101 1654.82 Q427.249 1655.24 425.305 1656.12 L425.305 1638.76 Z\" fill=\"#000000\" fill-rule=\"evenodd\" fill-opacity=\"1\" /><path clip-path=\"url(#clip440)\" d=\"M505.581 1641.84 Q501.97 1641.84 500.141 1645.4 Q498.336 1648.94 498.336 1656.07 Q498.336 1663.18 500.141 1666.75 Q501.97 1670.29 505.581 1670.29 Q509.215 1670.29 511.021 1666.75 Q512.849 1663.18 512.849 1656.07 Q512.849 1648.94 511.021 1645.4 Q509.215 1641.84 505.581 1641.84 M505.581 1638.13 Q511.391 1638.13 514.447 1642.74 Q517.525 1647.32 517.525 1656.07 Q517.525 1664.8 514.447 1669.41 Q511.391 1673.99 505.581 1673.99 Q499.771 1673.99 496.692 1669.41 Q493.637 1664.8 493.637 1656.07 Q493.637 1647.32 496.692 1642.74 Q499.771 1638.13 505.581 1638.13 Z\" fill=\"#000000\" fill-rule=\"evenodd\" fill-opacity=\"1\" /><path clip-path=\"url(#clip440)\" d=\"M525.743 1667.44 L530.627 1667.44 L530.627 1673.32 L525.743 1673.32 L525.743 1667.44 Z\" fill=\"#000000\" fill-rule=\"evenodd\" fill-opacity=\"1\" /><path clip-path=\"url(#clip440)\" d=\"M541.622 1669.38 L549.261 1669.38 L549.261 1643.02 L540.951 1644.69 L540.951 1640.43 L549.215 1638.76 L553.891 1638.76 L553.891 1669.38 L561.53 1669.38 L561.53 1673.32 L541.622 1673.32 L541.622 1669.38 Z\" fill=\"#000000\" fill-rule=\"evenodd\" fill-opacity=\"1\" /><path clip-path=\"url(#clip440)\" d=\"M580.974 1641.84 Q577.363 1641.84 575.534 1645.4 Q573.729 1648.94 573.729 1656.07 Q573.729 1663.18 575.534 1666.75 Q577.363 1670.29 580.974 1670.29 Q584.608 1670.29 586.414 1666.75 Q588.243 1663.18 588.243 1656.07 Q588.243 1648.94 586.414 1645.4 Q584.608 1641.84 580.974 1641.84 M580.974 1638.13 Q586.784 1638.13 589.84 1642.74 Q592.918 1647.32 592.918 1656.07 Q592.918 1664.8 589.84 1669.41 Q586.784 1673.99 580.974 1673.99 Q575.164 1673.99 572.085 1669.41 Q569.03 1664.8 569.03 1656.07 Q569.03 1647.32 572.085 1642.74 Q575.164 1638.13 580.974 1638.13 Z\" fill=\"#000000\" fill-rule=\"evenodd\" fill-opacity=\"1\" /><path clip-path=\"url(#clip440)\" d=\"M652.292 1641.84 Q648.681 1641.84 646.852 1645.4 Q645.047 1648.94 645.047 1656.07 Q645.047 1663.18 646.852 1666.75 Q648.681 1670.29 652.292 1670.29 Q655.926 1670.29 657.732 1666.75 Q659.561 1663.18 659.561 1656.07 Q659.561 1648.94 657.732 1645.4 Q655.926 1641.84 652.292 1641.84 M652.292 1638.13 Q658.102 1638.13 661.158 1642.74 Q664.236 1647.32 664.236 1656.07 Q664.236 1664.8 661.158 1669.41 Q658.102 1673.99 652.292 1673.99 Q646.482 1673.99 643.403 1669.41 Q640.348 1664.8 640.348 1656.07 Q640.348 1647.32 643.403 1642.74 Q646.482 1638.13 652.292 1638.13 Z\" fill=\"#000000\" fill-rule=\"evenodd\" fill-opacity=\"1\" /><path clip-path=\"url(#clip440)\" d=\"M672.454 1667.44 L677.338 1667.44 L677.338 1673.32 L672.454 1673.32 L672.454 1667.44 Z\" fill=\"#000000\" fill-rule=\"evenodd\" fill-opacity=\"1\" /><path clip-path=\"url(#clip440)\" d=\"M688.334 1669.38 L695.972 1669.38 L695.972 1643.02 L687.662 1644.69 L687.662 1640.43 L695.926 1638.76 L700.602 1638.76 L700.602 1669.38 L708.241 1669.38 L708.241 1673.32 L688.334 1673.32 L688.334 1669.38 Z\" fill=\"#000000\" fill-rule=\"evenodd\" fill-opacity=\"1\" /><path clip-path=\"url(#clip440)\" d=\"M717.732 1638.76 L736.088 1638.76 L736.088 1642.7 L722.014 1642.7 L722.014 1651.17 Q723.032 1650.82 724.051 1650.66 Q725.069 1650.47 726.088 1650.47 Q731.875 1650.47 735.255 1653.64 Q738.634 1656.82 738.634 1662.23 Q738.634 1667.81 735.162 1670.91 Q731.69 1673.99 725.37 1673.99 Q723.194 1673.99 720.926 1673.62 Q718.681 1673.25 716.273 1672.51 L716.273 1667.81 Q718.357 1668.94 720.579 1669.5 Q722.801 1670.06 725.278 1670.06 Q729.282 1670.06 731.62 1667.95 Q733.958 1665.84 733.958 1662.23 Q733.958 1658.62 731.62 1656.51 Q729.282 1654.41 725.278 1654.41 Q723.403 1654.41 721.528 1654.82 Q719.676 1655.24 717.732 1656.12 L717.732 1638.76 Z\" fill=\"#000000\" fill-rule=\"evenodd\" fill-opacity=\"1\" /><path clip-path=\"url(#clip440)\" d=\"M798.008 1641.84 Q794.397 1641.84 792.568 1645.4 Q790.762 1648.94 790.762 1656.07 Q790.762 1663.18 792.568 1666.75 Q794.397 1670.29 798.008 1670.29 Q801.642 1670.29 803.448 1666.75 Q805.276 1663.18 805.276 1656.07 Q805.276 1648.94 803.448 1645.4 Q801.642 1641.84 798.008 1641.84 M798.008 1638.13 Q803.818 1638.13 806.873 1642.74 Q809.952 1647.32 809.952 1656.07 Q809.952 1664.8 806.873 1669.41 Q803.818 1673.99 798.008 1673.99 Q792.198 1673.99 789.119 1669.41 Q786.063 1664.8 786.063 1656.07 Q786.063 1647.32 789.119 1642.74 Q792.198 1638.13 798.008 1638.13 Z\" fill=\"#000000\" fill-rule=\"evenodd\" fill-opacity=\"1\" /><path clip-path=\"url(#clip440)\" d=\"M818.17 1667.44 L823.054 1667.44 L823.054 1673.32 L818.17 1673.32 L818.17 1667.44 Z\" fill=\"#000000\" fill-rule=\"evenodd\" fill-opacity=\"1\" /><path clip-path=\"url(#clip440)\" d=\"M837.267 1669.38 L853.586 1669.38 L853.586 1673.32 L831.642 1673.32 L831.642 1669.38 Q834.304 1666.63 838.887 1662 Q843.494 1657.35 844.674 1656.01 Q846.92 1653.48 847.799 1651.75 Q848.702 1649.99 848.702 1648.3 Q848.702 1645.54 846.758 1643.81 Q844.836 1642.07 841.734 1642.07 Q839.535 1642.07 837.082 1642.83 Q834.651 1643.6 831.873 1645.15 L831.873 1640.43 Q834.697 1639.29 837.151 1638.71 Q839.605 1638.13 841.642 1638.13 Q847.012 1638.13 850.207 1640.82 Q853.401 1643.51 853.401 1648 Q853.401 1650.13 852.591 1652.05 Q851.804 1653.94 849.697 1656.54 Q849.119 1657.21 846.017 1660.43 Q842.915 1663.62 837.267 1669.38 Z\" fill=\"#000000\" fill-rule=\"evenodd\" fill-opacity=\"1\" /><path clip-path=\"url(#clip440)\" d=\"M873.401 1641.84 Q869.79 1641.84 867.961 1645.4 Q866.156 1648.94 866.156 1656.07 Q866.156 1663.18 867.961 1666.75 Q869.79 1670.29 873.401 1670.29 Q877.035 1670.29 878.841 1666.75 Q880.669 1663.18 880.669 1656.07 Q880.669 1648.94 878.841 1645.4 Q877.035 1641.84 873.401 1641.84 M873.401 1638.13 Q879.211 1638.13 882.267 1642.74 Q885.345 1647.32 885.345 1656.07 Q885.345 1664.8 882.267 1669.41 Q879.211 1673.99 873.401 1673.99 Q867.591 1673.99 864.512 1669.41 Q861.457 1664.8 861.457 1656.07 Q861.457 1647.32 864.512 1642.74 Q867.591 1638.13 873.401 1638.13 Z\" fill=\"#000000\" fill-rule=\"evenodd\" fill-opacity=\"1\" /><path clip-path=\"url(#clip440)\" d=\"M944.719 1641.84 Q941.108 1641.84 939.279 1645.4 Q937.474 1648.94 937.474 1656.07 Q937.474 1663.18 939.279 1666.75 Q941.108 1670.29 944.719 1670.29 Q948.353 1670.29 950.159 1666.75 Q951.987 1663.18 951.987 1656.07 Q951.987 1648.94 950.159 1645.4 Q948.353 1641.84 944.719 1641.84 M944.719 1638.13 Q950.529 1638.13 953.585 1642.74 Q956.663 1647.32 956.663 1656.07 Q956.663 1664.8 953.585 1669.41 Q950.529 1673.99 944.719 1673.99 Q938.909 1673.99 935.83 1669.41 Q932.774 1664.8 932.774 1656.07 Q932.774 1647.32 935.83 1642.74 Q938.909 1638.13 944.719 1638.13 Z\" fill=\"#000000\" fill-rule=\"evenodd\" fill-opacity=\"1\" /><path clip-path=\"url(#clip440)\" d=\"M964.881 1667.44 L969.765 1667.44 L969.765 1673.32 L964.881 1673.32 L964.881 1667.44 Z\" fill=\"#000000\" fill-rule=\"evenodd\" fill-opacity=\"1\" /><path clip-path=\"url(#clip440)\" d=\"M983.978 1669.38 L1000.3 1669.38 L1000.3 1673.32 L978.353 1673.32 L978.353 1669.38 Q981.015 1666.63 985.598 1662 Q990.205 1657.35 991.385 1656.01 Q993.631 1653.48 994.51 1651.75 Q995.413 1649.99 995.413 1648.3 Q995.413 1645.54 993.469 1643.81 Q991.547 1642.07 988.445 1642.07 Q986.246 1642.07 983.793 1642.83 Q981.362 1643.6 978.584 1645.15 L978.584 1640.43 Q981.408 1639.29 983.862 1638.71 Q986.316 1638.13 988.353 1638.13 Q993.723 1638.13 996.918 1640.82 Q1000.11 1643.51 1000.11 1648 Q1000.11 1650.13 999.302 1652.05 Q998.515 1653.94 996.408 1656.54 Q995.83 1657.21 992.728 1660.43 Q989.626 1663.62 983.978 1669.38 Z\" fill=\"#000000\" fill-rule=\"evenodd\" fill-opacity=\"1\" /><path clip-path=\"url(#clip440)\" d=\"M1010.16 1638.76 L1028.51 1638.76 L1028.51 1642.7 L1014.44 1642.7 L1014.44 1651.17 Q1015.46 1650.82 1016.48 1650.66 Q1017.5 1650.47 1018.51 1650.47 Q1024.3 1650.47 1027.68 1653.64 Q1031.06 1656.82 1031.06 1662.23 Q1031.06 1667.81 1027.59 1670.91 Q1024.12 1673.99 1017.8 1673.99 Q1015.62 1673.99 1013.35 1673.62 Q1011.11 1673.25 1008.7 1672.51 L1008.7 1667.81 Q1010.78 1668.94 1013.01 1669.5 Q1015.23 1670.06 1017.7 1670.06 Q1021.71 1670.06 1024.05 1667.95 Q1026.39 1665.84 1026.39 1662.23 Q1026.39 1658.62 1024.05 1656.51 Q1021.71 1654.41 1017.7 1654.41 Q1015.83 1654.41 1013.95 1654.82 Q1012.1 1655.24 1010.16 1656.12 L1010.16 1638.76 Z\" fill=\"#000000\" fill-rule=\"evenodd\" fill-opacity=\"1\" /><path clip-path=\"url(#clip440)\" d=\"M1090.43 1641.84 Q1086.82 1641.84 1084.99 1645.4 Q1083.19 1648.94 1083.19 1656.07 Q1083.19 1663.18 1084.99 1666.75 Q1086.82 1670.29 1090.43 1670.29 Q1094.07 1670.29 1095.87 1666.75 Q1097.7 1663.18 1097.7 1656.07 Q1097.7 1648.94 1095.87 1645.4 Q1094.07 1641.84 1090.43 1641.84 M1090.43 1638.13 Q1096.24 1638.13 1099.3 1642.74 Q1102.38 1647.32 1102.38 1656.07 Q1102.38 1664.8 1099.3 1669.41 Q1096.24 1673.99 1090.43 1673.99 Q1084.62 1673.99 1081.55 1669.41 Q1078.49 1664.8 1078.49 1656.07 Q1078.49 1647.32 1081.55 1642.74 Q1084.62 1638.13 1090.43 1638.13 Z\" fill=\"#000000\" fill-rule=\"evenodd\" fill-opacity=\"1\" /><path clip-path=\"url(#clip440)\" d=\"M1110.6 1667.44 L1115.48 1667.44 L1115.48 1673.32 L1110.6 1673.32 L1110.6 1667.44 Z\" fill=\"#000000\" fill-rule=\"evenodd\" fill-opacity=\"1\" /><path clip-path=\"url(#clip440)\" d=\"M1139.83 1654.69 Q1143.19 1655.4 1145.06 1657.67 Q1146.96 1659.94 1146.96 1663.27 Q1146.96 1668.39 1143.44 1671.19 Q1139.93 1673.99 1133.44 1673.99 Q1131.27 1673.99 1128.95 1673.55 Q1126.66 1673.13 1124.21 1672.28 L1124.21 1667.76 Q1126.15 1668.9 1128.47 1669.48 Q1130.78 1670.06 1133.3 1670.06 Q1137.7 1670.06 1139.99 1668.32 Q1142.31 1666.58 1142.31 1663.27 Q1142.31 1660.22 1140.16 1658.51 Q1138.03 1656.77 1134.21 1656.77 L1130.18 1656.77 L1130.18 1652.93 L1134.39 1652.93 Q1137.84 1652.93 1139.67 1651.56 Q1141.5 1650.17 1141.5 1647.58 Q1141.5 1644.92 1139.6 1643.51 Q1137.73 1642.07 1134.21 1642.07 Q1132.29 1642.07 1130.09 1642.49 Q1127.89 1642.9 1125.25 1643.78 L1125.25 1639.62 Q1127.91 1638.88 1130.23 1638.51 Q1132.56 1638.13 1134.62 1638.13 Q1139.95 1638.13 1143.05 1640.57 Q1146.15 1642.97 1146.15 1647.09 Q1146.15 1649.96 1144.51 1651.95 Q1142.86 1653.92 1139.83 1654.69 Z\" fill=\"#000000\" fill-rule=\"evenodd\" fill-opacity=\"1\" /><path clip-path=\"url(#clip440)\" d=\"M1165.83 1641.84 Q1162.22 1641.84 1160.39 1645.4 Q1158.58 1648.94 1158.58 1656.07 Q1158.58 1663.18 1160.39 1666.75 Q1162.22 1670.29 1165.83 1670.29 Q1169.46 1670.29 1171.27 1666.75 Q1173.1 1663.18 1173.1 1656.07 Q1173.1 1648.94 1171.27 1645.4 Q1169.46 1641.84 1165.83 1641.84 M1165.83 1638.13 Q1171.64 1638.13 1174.69 1642.74 Q1177.77 1647.32 1177.77 1656.07 Q1177.77 1664.8 1174.69 1669.41 Q1171.64 1673.99 1165.83 1673.99 Q1160.02 1673.99 1156.94 1669.41 Q1153.88 1664.8 1153.88 1656.07 Q1153.88 1647.32 1156.94 1642.74 Q1160.02 1638.13 1165.83 1638.13 Z\" fill=\"#000000\" fill-rule=\"evenodd\" fill-opacity=\"1\" /><path clip-path=\"url(#clip440)\" d=\"M296.652 1726.98 Q298.848 1723.03 301.903 1721.15 Q304.959 1719.28 309.096 1719.28 Q314.666 1719.28 317.69 1723.19 Q320.714 1727.07 320.714 1734.27 L320.714 1755.78 L314.826 1755.78 L314.826 1734.46 Q314.826 1729.33 313.011 1726.85 Q311.197 1724.37 307.473 1724.37 Q302.922 1724.37 300.28 1727.39 Q297.638 1730.42 297.638 1735.64 L297.638 1755.78 L291.75 1755.78 L291.75 1734.46 Q291.75 1729.3 289.936 1726.85 Q288.121 1724.37 284.334 1724.37 Q279.846 1724.37 277.204 1727.42 Q274.563 1730.45 274.563 1735.64 L274.563 1755.78 L268.674 1755.78 L268.674 1720.14 L274.563 1720.14 L274.563 1725.67 Q276.568 1722.4 279.369 1720.84 Q282.17 1719.28 286.021 1719.28 Q289.904 1719.28 292.609 1721.25 Q295.347 1723.22 296.652 1726.98 Z\" fill=\"#000000\" fill-rule=\"evenodd\" fill-opacity=\"1\" /><path clip-path=\"url(#clip440)\" d=\"M346.209 1724.24 Q341.498 1724.24 338.761 1727.93 Q336.023 1731.59 336.023 1737.99 Q336.023 1744.39 338.729 1748.08 Q341.466 1751.74 346.209 1751.74 Q350.887 1751.74 353.625 1748.05 Q356.362 1744.36 356.362 1737.99 Q356.362 1731.66 353.625 1727.97 Q350.887 1724.24 346.209 1724.24 M346.209 1719.28 Q353.847 1719.28 358.208 1724.24 Q362.568 1729.21 362.568 1737.99 Q362.568 1746.74 358.208 1751.74 Q353.847 1756.71 346.209 1756.71 Q338.538 1756.71 334.177 1751.74 Q329.849 1746.74 329.849 1737.99 Q329.849 1729.21 334.177 1724.24 Q338.538 1719.28 346.209 1719.28 Z\" fill=\"#000000\" fill-rule=\"evenodd\" fill-opacity=\"1\" /><path clip-path=\"url(#clip440)\" d=\"M395.734 1725.55 L395.734 1706.26 L401.59 1706.26 L401.59 1755.78 L395.734 1755.78 L395.734 1750.44 Q393.888 1753.62 391.055 1755.18 Q388.254 1756.71 384.307 1756.71 Q377.846 1756.71 373.772 1751.55 Q369.73 1746.39 369.73 1737.99 Q369.73 1729.59 373.772 1724.43 Q377.846 1719.28 384.307 1719.28 Q388.254 1719.28 391.055 1720.84 Q393.888 1722.36 395.734 1725.55 M375.777 1737.99 Q375.777 1744.45 378.419 1748.14 Q381.093 1751.81 385.74 1751.81 Q390.387 1751.81 393.06 1748.14 Q395.734 1744.45 395.734 1737.99 Q395.734 1731.53 393.06 1727.87 Q390.387 1724.18 385.74 1724.18 Q381.093 1724.18 378.419 1727.87 Q375.777 1731.53 375.777 1737.99 Z\" fill=\"#000000\" fill-rule=\"evenodd\" fill-opacity=\"1\" /><path clip-path=\"url(#clip440)\" d=\"M444.145 1736.5 L444.145 1739.36 L417.218 1739.36 Q417.6 1745.41 420.846 1748.59 Q424.125 1751.74 429.949 1751.74 Q433.323 1751.74 436.474 1750.91 Q439.657 1750.09 442.776 1748.43 L442.776 1753.97 Q439.625 1755.31 436.315 1756.01 Q433.005 1756.71 429.599 1756.71 Q421.069 1756.71 416.072 1751.74 Q411.107 1746.78 411.107 1738.31 Q411.107 1729.56 415.818 1724.43 Q420.56 1719.28 428.581 1719.28 Q435.774 1719.28 439.944 1723.92 Q444.145 1728.54 444.145 1736.5 M438.289 1734.78 Q438.225 1729.97 435.583 1727.11 Q432.973 1724.24 428.644 1724.24 Q423.743 1724.24 420.783 1727.01 Q417.855 1729.78 417.409 1734.81 L438.289 1734.78 Z\" fill=\"#000000\" fill-rule=\"evenodd\" fill-opacity=\"1\" /><path clip-path=\"url(#clip440)\" d=\"M453.757 1706.26 L459.614 1706.26 L459.614 1755.78 L453.757 1755.78 L453.757 1706.26 Z\" fill=\"#000000\" fill-rule=\"evenodd\" fill-opacity=\"1\" /><path clip-path=\"url(#clip440)\" d=\"M472.695 1747.7 L479.411 1747.7 L479.411 1755.78 L472.695 1755.78 L472.695 1747.7 Z\" fill=\"#000000\" fill-rule=\"evenodd\" fill-opacity=\"1\" /><path clip-path=\"url(#clip440)\" d=\"M523.08 1736.5 L523.08 1739.36 L496.153 1739.36 Q496.535 1745.41 499.781 1748.59 Q503.06 1751.74 508.884 1751.74 Q512.258 1751.74 515.409 1750.91 Q518.592 1750.09 521.711 1748.43 L521.711 1753.97 Q518.56 1755.31 515.25 1756.01 Q511.94 1756.71 508.534 1756.71 Q500.004 1756.71 495.007 1751.74 Q490.042 1746.78 490.042 1738.31 Q490.042 1729.56 494.752 1724.43 Q499.495 1719.28 507.516 1719.28 Q514.709 1719.28 518.878 1723.92 Q523.08 1728.54 523.08 1736.5 M517.223 1734.78 Q517.16 1729.97 514.518 1727.11 Q511.908 1724.24 507.579 1724.24 Q502.678 1724.24 499.718 1727.01 Q496.789 1729.78 496.344 1734.81 L517.223 1734.78 Z\" fill=\"#000000\" fill-rule=\"evenodd\" fill-opacity=\"1\" /><path clip-path=\"url(#clip440)\" d=\"M528.491 1720.14 L534.697 1720.14 L545.837 1750.05 L556.977 1720.14 L563.184 1720.14 L549.816 1755.78 L541.859 1755.78 L528.491 1720.14 Z\" fill=\"#000000\" fill-rule=\"evenodd\" fill-opacity=\"1\" /><path clip-path=\"url(#clip440)\" d=\"M585.082 1724.24 Q580.371 1724.24 577.634 1727.93 Q574.897 1731.59 574.897 1737.99 Q574.897 1744.39 577.602 1748.08 Q580.339 1751.74 585.082 1751.74 Q589.76 1751.74 592.498 1748.05 Q595.235 1744.36 595.235 1737.99 Q595.235 1731.66 592.498 1727.97 Q589.76 1724.24 585.082 1724.24 M585.082 1719.28 Q592.721 1719.28 597.081 1724.24 Q601.442 1729.21 601.442 1737.99 Q601.442 1746.74 597.081 1751.74 Q592.721 1756.71 585.082 1756.71 Q577.411 1756.71 573.051 1751.74 Q568.722 1746.74 568.722 1737.99 Q568.722 1729.21 573.051 1724.24 Q577.411 1719.28 585.082 1719.28 Z\" fill=\"#000000\" fill-rule=\"evenodd\" fill-opacity=\"1\" /><path clip-path=\"url(#clip440)\" d=\"M638.235 1766.61 L638.235 1771.16 L604.37 1771.16 L604.37 1766.61 L638.235 1766.61 Z\" fill=\"#000000\" fill-rule=\"evenodd\" fill-opacity=\"1\" /><path clip-path=\"url(#clip440)\" d=\"M649.534 1710.01 L649.534 1720.14 L661.597 1720.14 L661.597 1724.69 L649.534 1724.69 L649.534 1744.04 Q649.534 1748.4 650.712 1749.64 Q651.922 1750.88 655.582 1750.88 L661.597 1750.88 L661.597 1755.78 L655.582 1755.78 Q648.802 1755.78 646.224 1753.27 Q643.646 1750.72 643.646 1744.04 L643.646 1724.69 L639.349 1724.69 L639.349 1720.14 L643.646 1720.14 L643.646 1710.01 L649.534 1710.01 Z\" fill=\"#000000\" fill-rule=\"evenodd\" fill-opacity=\"1\" /><path clip-path=\"url(#clip440)\" d=\"M689.957 1725.61 Q688.97 1725.04 687.792 1724.78 Q686.647 1724.5 685.246 1724.5 Q680.281 1724.5 677.607 1727.74 Q674.965 1730.96 674.965 1737.01 L674.965 1755.78 L669.077 1755.78 L669.077 1720.14 L674.965 1720.14 L674.965 1725.67 Q676.812 1722.43 679.772 1720.87 Q682.732 1719.28 686.965 1719.28 Q687.57 1719.28 688.302 1719.37 Q689.034 1719.44 689.925 1719.59 L689.957 1725.61 Z\" fill=\"#000000\" fill-rule=\"evenodd\" fill-opacity=\"1\" /><path clip-path=\"url(#clip440)\" d=\"M725.159 1736.5 L725.159 1739.36 L698.232 1739.36 Q698.614 1745.41 701.861 1748.59 Q705.139 1751.74 710.964 1751.74 Q714.337 1751.74 717.488 1750.91 Q720.671 1750.09 723.79 1748.43 L723.79 1753.97 Q720.639 1755.31 717.329 1756.01 Q714.019 1756.71 710.613 1756.71 Q702.083 1756.71 697.086 1751.74 Q692.121 1746.78 692.121 1738.31 Q692.121 1729.56 696.832 1724.43 Q701.574 1719.28 709.595 1719.28 Q716.788 1719.28 720.958 1723.92 Q725.159 1728.54 725.159 1736.5 M719.303 1734.78 Q719.239 1729.97 716.597 1727.11 Q713.987 1724.24 709.659 1724.24 Q704.757 1724.24 701.797 1727.01 Q698.869 1729.78 698.423 1734.81 L719.303 1734.78 Z\" fill=\"#000000\" fill-rule=\"evenodd\" fill-opacity=\"1\" /><path clip-path=\"url(#clip440)\" d=\"M765.263 1736.5 L765.263 1739.36 L738.336 1739.36 Q738.718 1745.41 741.965 1748.59 Q745.243 1751.74 751.068 1751.74 Q754.441 1751.74 757.592 1750.91 Q760.775 1750.09 763.894 1748.43 L763.894 1753.97 Q760.743 1755.31 757.433 1756.01 Q754.123 1756.71 750.717 1756.71 Q742.187 1756.71 737.19 1751.74 Q732.225 1746.78 732.225 1738.31 Q732.225 1729.56 736.936 1724.43 Q741.678 1719.28 749.699 1719.28 Q756.892 1719.28 761.062 1723.92 Q765.263 1728.54 765.263 1736.5 M759.407 1734.78 Q759.343 1729.97 756.701 1727.11 Q754.091 1724.24 749.763 1724.24 Q744.861 1724.24 741.901 1727.01 Q738.973 1729.78 738.527 1734.81 L759.407 1734.78 Z\" fill=\"#000000\" fill-rule=\"evenodd\" fill-opacity=\"1\" /><path clip-path=\"url(#clip440)\" d=\"M801.961 1766.61 L801.961 1771.16 L768.096 1771.16 L768.096 1766.61 L801.961 1766.61 Z\" fill=\"#000000\" fill-rule=\"evenodd\" fill-opacity=\"1\" /><path clip-path=\"url(#clip440)\" d=\"M833.121 1721.5 L833.121 1726.98 Q830.639 1725.61 828.124 1724.94 Q825.642 1724.24 823.095 1724.24 Q817.398 1724.24 814.247 1727.87 Q811.096 1731.47 811.096 1737.99 Q811.096 1744.52 814.247 1748.14 Q817.398 1751.74 823.095 1751.74 Q825.642 1751.74 828.124 1751.07 Q830.639 1750.37 833.121 1749 L833.121 1754.42 Q830.671 1755.56 828.029 1756.13 Q825.419 1756.71 822.459 1756.71 Q814.406 1756.71 809.664 1751.65 Q804.921 1746.59 804.921 1737.99 Q804.921 1729.27 809.696 1724.27 Q814.502 1719.28 822.841 1719.28 Q825.546 1719.28 828.124 1719.85 Q830.702 1720.39 833.121 1721.5 Z\" fill=\"#000000\" fill-rule=\"evenodd\" fill-opacity=\"1\" /><path clip-path=\"url(#clip440)\" d=\"M843.307 1706.26 L849.163 1706.26 L849.163 1755.78 L843.307 1755.78 L843.307 1706.26 Z\" fill=\"#000000\" fill-rule=\"evenodd\" fill-opacity=\"1\" /><path clip-path=\"url(#clip440)\" d=\"M877.618 1737.86 Q870.52 1737.86 867.783 1739.49 Q865.045 1741.11 865.045 1745.03 Q865.045 1748.14 867.083 1749.99 Q869.151 1751.81 872.684 1751.81 Q877.554 1751.81 880.482 1748.37 Q883.442 1744.9 883.442 1739.17 L883.442 1737.86 L877.618 1737.86 M889.299 1735.45 L889.299 1755.78 L883.442 1755.78 L883.442 1750.37 Q881.437 1753.62 878.445 1755.18 Q875.453 1756.71 871.125 1756.71 Q865.65 1756.71 862.404 1753.65 Q859.189 1750.56 859.189 1745.41 Q859.189 1739.39 863.199 1736.34 Q867.242 1733.28 875.231 1733.28 L883.442 1733.28 L883.442 1732.71 Q883.442 1728.67 880.769 1726.47 Q878.127 1724.24 873.321 1724.24 Q870.265 1724.24 867.369 1724.97 Q864.473 1725.71 861.799 1727.17 L861.799 1721.76 Q865.014 1720.52 868.037 1719.91 Q871.061 1719.28 873.926 1719.28 Q881.66 1719.28 885.479 1723.29 Q889.299 1727.3 889.299 1735.45 Z\" fill=\"#000000\" fill-rule=\"evenodd\" fill-opacity=\"1\" /><path clip-path=\"url(#clip440)\" d=\"M924.087 1721.19 L924.087 1726.72 Q921.605 1725.45 918.931 1724.81 Q916.258 1724.18 913.393 1724.18 Q909.033 1724.18 906.836 1725.51 Q904.672 1726.85 904.672 1729.53 Q904.672 1731.56 906.232 1732.74 Q907.791 1733.89 912.502 1734.94 L914.507 1735.38 Q920.745 1736.72 923.355 1739.17 Q925.997 1741.59 925.997 1745.95 Q925.997 1750.91 922.05 1753.81 Q918.135 1756.71 911.261 1756.71 Q908.396 1756.71 905.277 1756.13 Q902.189 1755.59 898.752 1754.48 L898.752 1748.43 Q901.998 1750.12 905.149 1750.98 Q908.3 1751.81 911.388 1751.81 Q915.526 1751.81 917.754 1750.4 Q919.982 1748.97 919.982 1746.39 Q919.982 1744.01 918.358 1742.73 Q916.767 1741.46 911.324 1740.28 L909.287 1739.81 Q903.844 1738.66 901.425 1736.3 Q899.007 1733.92 899.007 1729.78 Q899.007 1724.75 902.571 1722.01 Q906.136 1719.28 912.693 1719.28 Q915.939 1719.28 918.804 1719.75 Q921.668 1720.23 924.087 1721.19 Z\" fill=\"#000000\" fill-rule=\"evenodd\" fill-opacity=\"1\" /><path clip-path=\"url(#clip440)\" d=\"M958.048 1721.19 L958.048 1726.72 Q955.566 1725.45 952.892 1724.81 Q950.219 1724.18 947.354 1724.18 Q942.994 1724.18 940.797 1725.51 Q938.633 1726.85 938.633 1729.53 Q938.633 1731.56 940.193 1732.74 Q941.752 1733.89 946.463 1734.94 L948.468 1735.38 Q954.706 1736.72 957.316 1739.17 Q959.958 1741.59 959.958 1745.95 Q959.958 1750.91 956.011 1753.81 Q952.097 1756.71 945.222 1756.71 Q942.357 1756.71 939.238 1756.13 Q936.15 1755.59 932.713 1754.48 L932.713 1748.43 Q935.959 1750.12 939.11 1750.98 Q942.262 1751.81 945.349 1751.81 Q949.487 1751.81 951.715 1750.4 Q953.943 1748.97 953.943 1746.39 Q953.943 1744.01 952.319 1742.73 Q950.728 1741.46 945.285 1740.28 L943.248 1739.81 Q937.806 1738.66 935.387 1736.3 Q932.968 1733.92 932.968 1729.78 Q932.968 1724.75 936.532 1722.01 Q940.097 1719.28 946.654 1719.28 Q949.9 1719.28 952.765 1719.75 Q955.629 1720.23 958.048 1721.19 Z\" fill=\"#000000\" fill-rule=\"evenodd\" fill-opacity=\"1\" /><path clip-path=\"url(#clip440)\" d=\"M969.284 1720.14 L975.14 1720.14 L975.14 1755.78 L969.284 1755.78 L969.284 1720.14 M969.284 1706.26 L975.14 1706.26 L975.14 1713.67 L969.284 1713.67 L969.284 1706.26 Z\" fill=\"#000000\" fill-rule=\"evenodd\" fill-opacity=\"1\" /><path clip-path=\"url(#clip440)\" d=\"M1005.44 1706.26 L1005.44 1711.13 L999.839 1711.13 Q996.688 1711.13 995.447 1712.4 Q994.237 1713.67 994.237 1716.98 L994.237 1720.14 L1003.88 1720.14 L1003.88 1724.69 L994.237 1724.69 L994.237 1755.78 L988.349 1755.78 L988.349 1724.69 L982.747 1724.69 L982.747 1720.14 L988.349 1720.14 L988.349 1717.65 Q988.349 1711.7 991.118 1709 Q993.887 1706.26 999.903 1706.26 L1005.44 1706.26 Z\" fill=\"#000000\" fill-rule=\"evenodd\" fill-opacity=\"1\" /><path clip-path=\"url(#clip440)\" d=\"M1010.34 1720.14 L1016.2 1720.14 L1016.2 1755.78 L1010.34 1755.78 L1010.34 1720.14 M1010.34 1706.26 L1016.2 1706.26 L1016.2 1713.67 L1010.34 1713.67 L1010.34 1706.26 Z\" fill=\"#000000\" fill-rule=\"evenodd\" fill-opacity=\"1\" /><path clip-path=\"url(#clip440)\" d=\"M1058.94 1736.5 L1058.94 1739.36 L1032.02 1739.36 Q1032.4 1745.41 1035.65 1748.59 Q1038.92 1751.74 1044.75 1751.74 Q1048.12 1751.74 1051.27 1750.91 Q1054.46 1750.09 1057.58 1748.43 L1057.58 1753.97 Q1054.43 1755.31 1051.12 1756.01 Q1047.8 1756.71 1044.4 1756.71 Q1035.87 1756.71 1030.87 1751.74 Q1025.91 1746.78 1025.91 1738.31 Q1025.91 1729.56 1030.62 1724.43 Q1035.36 1719.28 1043.38 1719.28 Q1050.57 1719.28 1054.74 1723.92 Q1058.94 1728.54 1058.94 1736.5 M1053.09 1734.78 Q1053.02 1729.97 1050.38 1727.11 Q1047.77 1724.24 1043.44 1724.24 Q1038.54 1724.24 1035.58 1727.01 Q1032.65 1729.78 1032.21 1734.81 L1053.09 1734.78 Z\" fill=\"#000000\" fill-rule=\"evenodd\" fill-opacity=\"1\" /><path clip-path=\"url(#clip440)\" d=\"M1089.21 1725.61 Q1088.23 1725.04 1087.05 1724.78 Q1085.9 1724.5 1084.5 1724.5 Q1079.54 1724.5 1076.86 1727.74 Q1074.22 1730.96 1074.22 1737.01 L1074.22 1755.78 L1068.33 1755.78 L1068.33 1720.14 L1074.22 1720.14 L1074.22 1725.67 Q1076.07 1722.43 1079.03 1720.87 Q1081.99 1719.28 1086.22 1719.28 Q1086.83 1719.28 1087.56 1719.37 Q1088.29 1719.44 1089.18 1719.59 L1089.21 1725.61 Z\" fill=\"#000000\" fill-rule=\"evenodd\" fill-opacity=\"1\" /><path clip-path=\"url(#clip440)\" d=\"M1090.2 1747.7 L1096.92 1747.7 L1096.92 1755.78 L1090.2 1755.78 L1090.2 1747.7 Z\" fill=\"#000000\" fill-rule=\"evenodd\" fill-opacity=\"1\" /><path clip-path=\"url(#clip440)\" d=\"M1139.73 1734.27 L1139.73 1769.34 L1133.87 1769.34 L1133.87 1734.46 Q1133.87 1729.4 1131.9 1726.88 Q1129.92 1724.37 1125.98 1724.37 Q1121.23 1724.37 1118.5 1727.39 Q1115.76 1730.42 1115.76 1735.64 L1115.76 1755.78 L1109.87 1755.78 L1109.87 1720.14 L1115.76 1720.14 L1115.76 1725.67 Q1117.86 1722.46 1120.69 1720.87 Q1123.56 1719.28 1127.28 1719.28 Q1133.42 1719.28 1136.57 1723.06 Q1139.73 1726.88 1139.73 1734.27 Z\" fill=\"#000000\" fill-rule=\"evenodd\" fill-opacity=\"1\" /><polyline clip-path=\"url(#clip444)\" style=\"stroke:#000000; stroke-linecap:butt; stroke-linejoin:round; stroke-width:2; stroke-opacity:0.1; fill:none\" points=\"\n",
       "  255.644,1591.16 1152.76,1591.16 \n",
       "  \"/>\n",
       "<polyline clip-path=\"url(#clip444)\" style=\"stroke:#000000; stroke-linecap:butt; stroke-linejoin:round; stroke-width:2; stroke-opacity:0.1; fill:none\" points=\"\n",
       "  255.644,1426.47 1152.76,1426.47 \n",
       "  \"/>\n",
       "<polyline clip-path=\"url(#clip444)\" style=\"stroke:#000000; stroke-linecap:butt; stroke-linejoin:round; stroke-width:2; stroke-opacity:0.1; fill:none\" points=\"\n",
       "  255.644,1261.78 1152.76,1261.78 \n",
       "  \"/>\n",
       "<polyline clip-path=\"url(#clip444)\" style=\"stroke:#000000; stroke-linecap:butt; stroke-linejoin:round; stroke-width:2; stroke-opacity:0.1; fill:none\" points=\"\n",
       "  255.644,1097.09 1152.76,1097.09 \n",
       "  \"/>\n",
       "<polyline clip-path=\"url(#clip444)\" style=\"stroke:#000000; stroke-linecap:butt; stroke-linejoin:round; stroke-width:2; stroke-opacity:0.1; fill:none\" points=\"\n",
       "  255.644,932.403 1152.76,932.403 \n",
       "  \"/>\n",
       "<polyline clip-path=\"url(#clip440)\" style=\"stroke:#000000; stroke-linecap:butt; stroke-linejoin:round; stroke-width:4; stroke-opacity:1; fill:none\" points=\"\n",
       "  255.644,1610.92 255.644,912.64 \n",
       "  \"/>\n",
       "<polyline clip-path=\"url(#clip440)\" style=\"stroke:#000000; stroke-linecap:butt; stroke-linejoin:round; stroke-width:4; stroke-opacity:1; fill:none\" points=\"\n",
       "  1152.76,1610.92 1152.76,912.64 \n",
       "  \"/>\n",
       "<polyline clip-path=\"url(#clip440)\" style=\"stroke:#000000; stroke-linecap:butt; stroke-linejoin:round; stroke-width:4; stroke-opacity:1; fill:none\" points=\"\n",
       "  255.644,1591.16 274.542,1591.16 \n",
       "  \"/>\n",
       "<polyline clip-path=\"url(#clip440)\" style=\"stroke:#000000; stroke-linecap:butt; stroke-linejoin:round; stroke-width:4; stroke-opacity:1; fill:none\" points=\"\n",
       "  255.644,1426.47 274.542,1426.47 \n",
       "  \"/>\n",
       "<polyline clip-path=\"url(#clip440)\" style=\"stroke:#000000; stroke-linecap:butt; stroke-linejoin:round; stroke-width:4; stroke-opacity:1; fill:none\" points=\"\n",
       "  255.644,1261.78 274.542,1261.78 \n",
       "  \"/>\n",
       "<polyline clip-path=\"url(#clip440)\" style=\"stroke:#000000; stroke-linecap:butt; stroke-linejoin:round; stroke-width:4; stroke-opacity:1; fill:none\" points=\"\n",
       "  255.644,1097.09 274.542,1097.09 \n",
       "  \"/>\n",
       "<polyline clip-path=\"url(#clip440)\" style=\"stroke:#000000; stroke-linecap:butt; stroke-linejoin:round; stroke-width:4; stroke-opacity:1; fill:none\" points=\"\n",
       "  255.644,932.403 274.542,932.403 \n",
       "  \"/>\n",
       "<path clip-path=\"url(#clip440)\" d=\"M203.325 1604.5 L219.644 1604.5 L219.644 1608.44 L197.7 1608.44 L197.7 1604.5 Q200.362 1601.75 204.945 1597.12 Q209.552 1592.47 210.732 1591.12 Q212.977 1588.6 213.857 1586.86 Q214.76 1585.1 214.76 1583.41 Q214.76 1580.66 212.815 1578.92 Q210.894 1577.19 207.792 1577.19 Q205.593 1577.19 203.14 1577.95 Q200.709 1578.72 197.931 1580.27 L197.931 1575.54 Q200.755 1574.41 203.209 1573.83 Q205.663 1573.25 207.7 1573.25 Q213.07 1573.25 216.264 1575.94 Q219.459 1578.62 219.459 1583.11 Q219.459 1585.24 218.649 1587.16 Q217.862 1589.06 215.755 1591.65 Q215.177 1592.33 212.075 1595.54 Q208.973 1598.74 203.325 1604.5 Z\" fill=\"#000000\" fill-rule=\"evenodd\" fill-opacity=\"1\" /><path clip-path=\"url(#clip440)\" d=\"M212.514 1425.11 Q215.871 1425.83 217.746 1428.1 Q219.644 1430.37 219.644 1433.7 Q219.644 1438.82 216.126 1441.62 Q212.607 1444.42 206.126 1444.42 Q203.95 1444.42 201.635 1443.98 Q199.343 1443.56 196.89 1442.71 L196.89 1438.19 Q198.834 1439.33 201.149 1439.91 Q203.464 1440.48 205.987 1440.48 Q210.385 1440.48 212.677 1438.75 Q214.991 1437.01 214.991 1433.7 Q214.991 1430.65 212.839 1428.93 Q210.709 1427.2 206.89 1427.2 L202.862 1427.2 L202.862 1423.36 L207.075 1423.36 Q210.524 1423.36 212.352 1421.99 Q214.181 1420.6 214.181 1418.01 Q214.181 1415.35 212.283 1413.93 Q210.408 1412.5 206.89 1412.5 Q204.968 1412.5 202.769 1412.92 Q200.57 1413.33 197.931 1414.21 L197.931 1410.05 Q200.593 1409.3 202.908 1408.93 Q205.246 1408.56 207.306 1408.56 Q212.63 1408.56 215.732 1410.99 Q218.834 1413.4 218.834 1417.52 Q218.834 1420.39 217.19 1422.38 Q215.547 1424.35 212.514 1425.11 Z\" fill=\"#000000\" fill-rule=\"evenodd\" fill-opacity=\"1\" /><path clip-path=\"url(#clip440)\" d=\"M210.061 1248.57 L198.255 1267.02 L210.061 1267.02 L210.061 1248.57 M208.834 1244.5 L214.714 1244.5 L214.714 1267.02 L219.644 1267.02 L219.644 1270.91 L214.714 1270.91 L214.714 1279.06 L210.061 1279.06 L210.061 1270.91 L194.459 1270.91 L194.459 1266.4 L208.834 1244.5 Z\" fill=\"#000000\" fill-rule=\"evenodd\" fill-opacity=\"1\" /><path clip-path=\"url(#clip440)\" d=\"M198.741 1079.81 L217.098 1079.81 L217.098 1083.75 L203.024 1083.75 L203.024 1092.22 Q204.042 1091.87 205.061 1091.71 Q206.079 1091.52 207.098 1091.52 Q212.885 1091.52 216.264 1094.7 Q219.644 1097.87 219.644 1103.28 Q219.644 1108.86 216.172 1111.96 Q212.7 1115.04 206.38 1115.04 Q204.204 1115.04 201.936 1114.67 Q199.69 1114.3 197.283 1113.56 L197.283 1108.86 Q199.366 1110 201.589 1110.55 Q203.811 1111.11 206.288 1111.11 Q210.292 1111.11 212.63 1109 Q214.968 1106.89 214.968 1103.28 Q214.968 1099.67 212.63 1097.57 Q210.292 1095.46 206.288 1095.46 Q204.413 1095.46 202.538 1095.88 Q200.686 1096.29 198.741 1097.17 L198.741 1079.81 Z\" fill=\"#000000\" fill-rule=\"evenodd\" fill-opacity=\"1\" /><path clip-path=\"url(#clip440)\" d=\"M208.116 930.539 Q204.968 930.539 203.116 932.692 Q201.288 934.845 201.288 938.595 Q201.288 942.322 203.116 944.498 Q204.968 946.65 208.116 946.65 Q211.264 946.65 213.093 944.498 Q214.945 942.322 214.945 938.595 Q214.945 934.845 213.093 932.692 Q211.264 930.539 208.116 930.539 M217.399 915.887 L217.399 920.146 Q215.639 919.313 213.834 918.873 Q212.052 918.433 210.292 918.433 Q205.663 918.433 203.209 921.558 Q200.778 924.683 200.431 931.002 Q201.797 928.988 203.857 927.924 Q205.917 926.836 208.394 926.836 Q213.602 926.836 216.612 930.007 Q219.644 933.155 219.644 938.595 Q219.644 943.919 216.496 947.136 Q213.348 950.354 208.116 950.354 Q202.121 950.354 198.95 945.771 Q195.778 941.164 195.778 932.437 Q195.778 924.243 199.667 919.382 Q203.556 914.498 210.107 914.498 Q211.866 914.498 213.649 914.845 Q215.454 915.192 217.399 915.887 Z\" fill=\"#000000\" fill-rule=\"evenodd\" fill-opacity=\"1\" /><path clip-path=\"url(#clip440)\" d=\"M115.398 1830.84 Q111.451 1828.65 109.574 1825.59 Q107.696 1822.54 107.696 1818.4 Q107.696 1812.83 111.611 1809.8 Q115.494 1806.78 122.687 1806.78 L144.203 1806.78 L144.203 1812.67 L122.878 1812.67 Q117.754 1812.67 115.271 1814.48 Q112.788 1816.3 112.788 1820.02 Q112.788 1824.57 115.812 1827.21 Q118.836 1829.86 124.056 1829.86 L144.203 1829.86 L144.203 1835.74 L122.878 1835.74 Q117.722 1835.74 115.271 1837.56 Q112.788 1839.37 112.788 1843.16 Q112.788 1847.65 115.844 1850.29 Q118.868 1852.93 124.056 1852.93 L144.203 1852.93 L144.203 1858.82 L108.555 1858.82 L108.555 1852.93 L114.093 1852.93 Q110.815 1850.93 109.255 1848.13 Q107.696 1845.32 107.696 1841.47 Q107.696 1837.59 109.669 1834.88 Q111.642 1832.15 115.398 1830.84 Z\" fill=\"#000000\" fill-rule=\"evenodd\" fill-opacity=\"1\" /><path clip-path=\"url(#clip440)\" d=\"M112.661 1781.29 Q112.661 1786 116.353 1788.73 Q120.013 1791.47 126.411 1791.47 Q132.808 1791.47 136.501 1788.76 Q140.161 1786.03 140.161 1781.29 Q140.161 1776.61 136.469 1773.87 Q132.777 1771.13 126.411 1771.13 Q120.077 1771.13 116.385 1773.87 Q112.661 1776.61 112.661 1781.29 M107.696 1781.29 Q107.696 1773.65 112.661 1769.29 Q117.626 1764.93 126.411 1764.93 Q135.164 1764.93 140.161 1769.29 Q145.126 1773.65 145.126 1781.29 Q145.126 1788.96 140.161 1793.32 Q135.164 1797.65 126.411 1797.65 Q117.626 1797.65 112.661 1793.32 Q107.696 1788.96 107.696 1781.29 Z\" fill=\"#000000\" fill-rule=\"evenodd\" fill-opacity=\"1\" /><path clip-path=\"url(#clip440)\" d=\"M113.966 1731.76 L94.6778 1731.76 L94.6778 1725.9 L144.203 1725.9 L144.203 1731.76 L138.856 1731.76 Q142.039 1733.61 143.598 1736.44 Q145.126 1739.24 145.126 1743.19 Q145.126 1749.65 139.97 1753.72 Q134.814 1757.76 126.411 1757.76 Q118.008 1757.76 112.852 1753.72 Q107.696 1749.65 107.696 1743.19 Q107.696 1739.24 109.255 1736.44 Q110.783 1733.61 113.966 1731.76 M126.411 1751.72 Q132.872 1751.72 136.564 1749.07 Q140.224 1746.4 140.224 1741.75 Q140.224 1737.11 136.564 1734.43 Q132.872 1731.76 126.411 1731.76 Q119.95 1731.76 116.289 1734.43 Q112.597 1737.11 112.597 1741.75 Q112.597 1746.4 116.289 1749.07 Q119.95 1751.72 126.411 1751.72 Z\" fill=\"#000000\" fill-rule=\"evenodd\" fill-opacity=\"1\" /><path clip-path=\"url(#clip440)\" d=\"M124.915 1683.35 L127.779 1683.35 L127.779 1710.28 Q133.827 1709.89 137.01 1706.65 Q140.161 1703.37 140.161 1697.54 Q140.161 1694.17 139.333 1691.02 Q138.506 1687.84 136.851 1684.72 L142.389 1684.72 Q143.726 1687.87 144.426 1691.18 Q145.126 1694.49 145.126 1697.89 Q145.126 1706.42 140.161 1711.42 Q135.196 1716.39 126.729 1716.39 Q117.976 1716.39 112.852 1711.68 Q107.696 1706.93 107.696 1698.91 Q107.696 1691.72 112.343 1687.55 Q116.958 1683.35 124.915 1683.35 M123.196 1689.21 Q118.39 1689.27 115.526 1691.91 Q112.661 1694.52 112.661 1698.85 Q112.661 1703.75 115.43 1706.71 Q118.199 1709.64 123.228 1710.08 L123.196 1689.21 Z\" fill=\"#000000\" fill-rule=\"evenodd\" fill-opacity=\"1\" /><path clip-path=\"url(#clip440)\" d=\"M94.6778 1673.74 L94.6778 1667.88 L144.203 1667.88 L144.203 1673.74 L94.6778 1673.74 Z\" fill=\"#000000\" fill-rule=\"evenodd\" fill-opacity=\"1\" /><path clip-path=\"url(#clip440)\" d=\"M136.119 1654.8 L136.119 1648.08 L144.203 1648.08 L144.203 1654.8 L136.119 1654.8 Z\" fill=\"#000000\" fill-rule=\"evenodd\" fill-opacity=\"1\" /><path clip-path=\"url(#clip440)\" d=\"M124.915 1604.41 L127.779 1604.41 L127.779 1631.34 Q133.827 1630.96 137.01 1627.71 Q140.161 1624.43 140.161 1618.61 Q140.161 1615.24 139.333 1612.08 Q138.506 1608.9 136.851 1605.78 L142.389 1605.78 Q143.726 1608.93 144.426 1612.24 Q145.126 1615.55 145.126 1618.96 Q145.126 1627.49 140.161 1632.49 Q135.196 1637.45 126.729 1637.45 Q117.976 1637.45 112.852 1632.74 Q107.696 1628 107.696 1619.98 Q107.696 1612.79 112.343 1608.62 Q116.958 1604.41 124.915 1604.41 M123.196 1610.27 Q118.39 1610.33 115.526 1612.98 Q112.661 1615.59 112.661 1619.91 Q112.661 1624.82 115.43 1627.78 Q118.199 1630.7 123.228 1631.15 L123.196 1610.27 Z\" fill=\"#000000\" fill-rule=\"evenodd\" fill-opacity=\"1\" /><path clip-path=\"url(#clip440)\" d=\"M108.555 1599 L108.555 1592.8 L138.474 1581.66 L108.555 1570.52 L108.555 1564.31 L144.203 1577.68 L144.203 1585.64 L108.555 1599 Z\" fill=\"#000000\" fill-rule=\"evenodd\" fill-opacity=\"1\" /><path clip-path=\"url(#clip440)\" d=\"M112.661 1542.41 Q112.661 1547.12 116.353 1549.86 Q120.013 1552.6 126.411 1552.6 Q132.808 1552.6 136.501 1549.89 Q140.161 1547.15 140.161 1542.41 Q140.161 1537.73 136.469 1535 Q132.777 1532.26 126.411 1532.26 Q120.077 1532.26 116.385 1535 Q112.661 1537.73 112.661 1542.41 M107.696 1542.41 Q107.696 1534.77 112.661 1530.41 Q117.626 1526.05 126.411 1526.05 Q135.164 1526.05 140.161 1530.41 Q145.126 1534.77 145.126 1542.41 Q145.126 1550.08 140.161 1554.44 Q135.164 1558.77 126.411 1558.77 Q117.626 1558.77 112.661 1554.44 Q107.696 1550.08 107.696 1542.41 Z\" fill=\"#000000\" fill-rule=\"evenodd\" fill-opacity=\"1\" /><path clip-path=\"url(#clip440)\" d=\"M155.025 1489.26 L159.576 1489.26 L159.576 1523.12 L155.025 1523.12 L155.025 1489.26 Z\" fill=\"#000000\" fill-rule=\"evenodd\" fill-opacity=\"1\" /><path clip-path=\"url(#clip440)\" d=\"M98.4336 1477.96 L108.555 1477.96 L108.555 1465.9 L113.107 1465.9 L113.107 1477.96 L132.458 1477.96 Q136.819 1477.96 138.06 1476.78 Q139.301 1475.57 139.301 1471.91 L139.301 1465.9 L144.203 1465.9 L144.203 1471.91 Q144.203 1478.69 141.689 1481.27 Q139.142 1483.85 132.458 1483.85 L113.107 1483.85 L113.107 1488.14 L108.555 1488.14 L108.555 1483.85 L98.4336 1483.85 L98.4336 1477.96 Z\" fill=\"#000000\" fill-rule=\"evenodd\" fill-opacity=\"1\" /><path clip-path=\"url(#clip440)\" d=\"M114.03 1437.54 Q113.457 1438.52 113.202 1439.7 Q112.916 1440.85 112.916 1442.25 Q112.916 1447.21 116.162 1449.89 Q119.377 1452.53 125.424 1452.53 L144.203 1452.53 L144.203 1458.42 L108.555 1458.42 L108.555 1452.53 L114.093 1452.53 Q110.847 1450.68 109.287 1447.72 Q107.696 1444.76 107.696 1440.53 Q107.696 1439.92 107.791 1439.19 Q107.855 1438.46 108.014 1437.57 L114.03 1437.54 Z\" fill=\"#000000\" fill-rule=\"evenodd\" fill-opacity=\"1\" /><path clip-path=\"url(#clip440)\" d=\"M124.915 1402.33 L127.779 1402.33 L127.779 1429.26 Q133.827 1428.88 137.01 1425.63 Q140.161 1422.35 140.161 1416.53 Q140.161 1413.16 139.333 1410.01 Q138.506 1406.82 136.851 1403.7 L142.389 1403.7 Q143.726 1406.85 144.426 1410.16 Q145.126 1413.47 145.126 1416.88 Q145.126 1425.41 140.161 1430.41 Q135.196 1435.37 126.729 1435.37 Q117.976 1435.37 112.852 1430.66 Q107.696 1425.92 107.696 1417.9 Q107.696 1410.71 112.343 1406.54 Q116.958 1402.33 124.915 1402.33 M123.196 1408.19 Q118.39 1408.25 115.526 1410.9 Q112.661 1413.51 112.661 1417.84 Q112.661 1422.74 115.43 1425.7 Q118.199 1428.63 123.228 1429.07 L123.196 1408.19 Z\" fill=\"#000000\" fill-rule=\"evenodd\" fill-opacity=\"1\" /><path clip-path=\"url(#clip440)\" d=\"M124.915 1362.23 L127.779 1362.23 L127.779 1389.16 Q133.827 1388.78 137.01 1385.53 Q140.161 1382.25 140.161 1376.43 Q140.161 1373.05 139.333 1369.9 Q138.506 1366.72 136.851 1363.6 L142.389 1363.6 Q143.726 1366.75 144.426 1370.06 Q145.126 1373.37 145.126 1376.78 Q145.126 1385.31 140.161 1390.3 Q135.196 1395.27 126.729 1395.27 Q117.976 1395.27 112.852 1390.56 Q107.696 1385.82 107.696 1377.79 Q107.696 1370.6 112.343 1366.43 Q116.958 1362.23 124.915 1362.23 M123.196 1368.09 Q118.39 1368.15 115.526 1370.79 Q112.661 1373.4 112.661 1377.73 Q112.661 1382.63 115.43 1385.59 Q118.199 1388.52 123.228 1388.97 L123.196 1368.09 Z\" fill=\"#000000\" fill-rule=\"evenodd\" fill-opacity=\"1\" /><path clip-path=\"url(#clip440)\" d=\"M155.025 1325.53 L159.576 1325.53 L159.576 1359.4 L155.025 1359.4 L155.025 1325.53 Z\" fill=\"#000000\" fill-rule=\"evenodd\" fill-opacity=\"1\" /><path clip-path=\"url(#clip440)\" d=\"M109.924 1294.37 L115.398 1294.37 Q114.03 1296.86 113.361 1299.37 Q112.661 1301.85 112.661 1304.4 Q112.661 1310.1 116.289 1313.25 Q119.886 1316.4 126.411 1316.4 Q132.936 1316.4 136.564 1313.25 Q140.161 1310.1 140.161 1304.4 Q140.161 1301.85 139.492 1299.37 Q138.792 1296.86 137.424 1294.37 L142.834 1294.37 Q143.98 1296.82 144.553 1299.46 Q145.126 1302.07 145.126 1305.03 Q145.126 1313.09 140.065 1317.83 Q135.005 1322.57 126.411 1322.57 Q117.69 1322.57 112.693 1317.8 Q107.696 1312.99 107.696 1304.65 Q107.696 1301.95 108.269 1299.37 Q108.81 1296.79 109.924 1294.37 Z\" fill=\"#000000\" fill-rule=\"evenodd\" fill-opacity=\"1\" /><path clip-path=\"url(#clip440)\" d=\"M94.6778 1284.19 L94.6778 1278.33 L144.203 1278.33 L144.203 1284.19 L94.6778 1284.19 Z\" fill=\"#000000\" fill-rule=\"evenodd\" fill-opacity=\"1\" /><path clip-path=\"url(#clip440)\" d=\"M126.284 1249.88 Q126.284 1256.97 127.907 1259.71 Q129.53 1262.45 133.445 1262.45 Q136.564 1262.45 138.41 1260.41 Q140.224 1258.34 140.224 1254.81 Q140.224 1249.94 136.787 1247.01 Q133.318 1244.05 127.589 1244.05 L126.284 1244.05 L126.284 1249.88 M123.865 1238.2 L144.203 1238.2 L144.203 1244.05 L138.792 1244.05 Q142.039 1246.06 143.598 1249.05 Q145.126 1252.04 145.126 1256.37 Q145.126 1261.84 142.071 1265.09 Q138.983 1268.3 133.827 1268.3 Q127.811 1268.3 124.756 1264.29 Q121.7 1260.25 121.7 1252.26 L121.7 1244.05 L121.127 1244.05 Q117.085 1244.05 114.889 1246.73 Q112.661 1249.37 112.661 1254.17 Q112.661 1257.23 113.393 1260.12 Q114.125 1263.02 115.589 1265.69 L110.178 1265.69 Q108.937 1262.48 108.332 1259.46 Q107.696 1256.43 107.696 1253.57 Q107.696 1245.83 111.706 1242.01 Q115.716 1238.2 123.865 1238.2 Z\" fill=\"#000000\" fill-rule=\"evenodd\" fill-opacity=\"1\" /><path clip-path=\"url(#clip440)\" d=\"M109.605 1203.41 L115.144 1203.41 Q113.87 1205.89 113.234 1208.56 Q112.597 1211.24 112.597 1214.1 Q112.597 1218.46 113.934 1220.66 Q115.271 1222.82 117.944 1222.82 Q119.982 1222.82 121.159 1221.26 Q122.305 1219.7 123.355 1214.99 L123.801 1212.99 Q125.138 1206.75 127.589 1204.14 Q130.007 1201.5 134.368 1201.5 Q139.333 1201.5 142.23 1205.44 Q145.126 1209.36 145.126 1216.23 Q145.126 1219.1 144.553 1222.22 Q144.012 1225.3 142.898 1228.74 L136.851 1228.74 Q138.538 1225.5 139.397 1222.34 Q140.224 1219.19 140.224 1216.11 Q140.224 1211.97 138.824 1209.74 Q137.392 1207.51 134.814 1207.51 Q132.426 1207.51 131.153 1209.14 Q129.88 1210.73 128.703 1216.17 L128.225 1218.21 Q127.079 1223.65 124.724 1226.07 Q122.337 1228.49 118.199 1228.49 Q113.17 1228.49 110.433 1224.92 Q107.696 1221.36 107.696 1214.8 Q107.696 1211.55 108.173 1208.69 Q108.651 1205.83 109.605 1203.41 Z\" fill=\"#000000\" fill-rule=\"evenodd\" fill-opacity=\"1\" /><path clip-path=\"url(#clip440)\" d=\"M109.605 1169.45 L115.144 1169.45 Q113.87 1171.93 113.234 1174.6 Q112.597 1177.28 112.597 1180.14 Q112.597 1184.5 113.934 1186.7 Q115.271 1188.86 117.944 1188.86 Q119.982 1188.86 121.159 1187.3 Q122.305 1185.74 123.355 1181.03 L123.801 1179.03 Q125.138 1172.79 127.589 1170.18 Q130.007 1167.54 134.368 1167.54 Q139.333 1167.54 142.23 1171.48 Q145.126 1175.4 145.126 1182.27 Q145.126 1185.14 144.553 1188.26 Q144.012 1191.34 142.898 1194.78 L136.851 1194.78 Q138.538 1191.53 139.397 1188.38 Q140.224 1185.23 140.224 1182.14 Q140.224 1178.01 138.824 1175.78 Q137.392 1173.55 134.814 1173.55 Q132.426 1173.55 131.153 1175.17 Q129.88 1176.77 128.703 1182.21 L128.225 1184.25 Q127.079 1189.69 124.724 1192.11 Q122.337 1194.53 118.199 1194.53 Q113.17 1194.53 110.433 1190.96 Q107.696 1187.4 107.696 1180.84 Q107.696 1177.59 108.173 1174.73 Q108.651 1171.86 109.605 1169.45 Z\" fill=\"#000000\" fill-rule=\"evenodd\" fill-opacity=\"1\" /><path clip-path=\"url(#clip440)\" d=\"M108.555 1158.21 L108.555 1152.35 L144.203 1152.35 L144.203 1158.21 L108.555 1158.21 M94.6778 1158.21 L94.6778 1152.35 L102.094 1152.35 L102.094 1158.21 L94.6778 1158.21 Z\" fill=\"#000000\" fill-rule=\"evenodd\" fill-opacity=\"1\" /><path clip-path=\"url(#clip440)\" d=\"M94.6778 1122.05 L99.5476 1122.05 L99.5476 1127.65 Q99.5476 1130.81 100.821 1132.05 Q102.094 1133.26 105.404 1133.26 L108.555 1133.26 L108.555 1123.61 L113.107 1123.61 L113.107 1133.26 L144.203 1133.26 L144.203 1139.14 L113.107 1139.14 L113.107 1144.75 L108.555 1144.75 L108.555 1139.14 L106.072 1139.14 Q100.121 1139.14 97.4151 1136.38 Q94.6778 1133.61 94.6778 1127.59 L94.6778 1122.05 Z\" fill=\"#000000\" fill-rule=\"evenodd\" fill-opacity=\"1\" /><path clip-path=\"url(#clip440)\" d=\"M108.555 1117.15 L108.555 1111.29 L144.203 1111.29 L144.203 1117.15 L108.555 1117.15 M94.6778 1117.15 L94.6778 1111.29 L102.094 1111.29 L102.094 1117.15 L94.6778 1117.15 Z\" fill=\"#000000\" fill-rule=\"evenodd\" fill-opacity=\"1\" /><path clip-path=\"url(#clip440)\" d=\"M124.915 1068.55 L127.779 1068.55 L127.779 1095.48 Q133.827 1095.09 137.01 1091.85 Q140.161 1088.57 140.161 1082.74 Q140.161 1079.37 139.333 1076.22 Q138.506 1073.04 136.851 1069.92 L142.389 1069.92 Q143.726 1073.07 144.426 1076.38 Q145.126 1079.69 145.126 1083.09 Q145.126 1091.62 140.161 1096.62 Q135.196 1101.59 126.729 1101.59 Q117.976 1101.59 112.852 1096.88 Q107.696 1092.13 107.696 1084.11 Q107.696 1076.92 112.343 1072.75 Q116.958 1068.55 124.915 1068.55 M123.196 1074.41 Q118.39 1074.47 115.526 1077.11 Q112.661 1079.72 112.661 1084.05 Q112.661 1088.95 115.43 1091.91 Q118.199 1094.84 123.228 1095.28 L123.196 1074.41 Z\" fill=\"#000000\" fill-rule=\"evenodd\" fill-opacity=\"1\" /><path clip-path=\"url(#clip440)\" d=\"M114.03 1038.28 Q113.457 1039.27 113.202 1040.44 Q112.916 1041.59 112.916 1042.99 Q112.916 1047.96 116.162 1050.63 Q119.377 1053.27 125.424 1053.27 L144.203 1053.27 L144.203 1059.16 L108.555 1059.16 L108.555 1053.27 L114.093 1053.27 Q110.847 1051.43 109.287 1048.47 Q107.696 1045.51 107.696 1041.27 Q107.696 1040.67 107.791 1039.94 Q107.855 1039.2 108.014 1038.31 L114.03 1038.28 Z\" fill=\"#000000\" fill-rule=\"evenodd\" fill-opacity=\"1\" /><path clip-path=\"url(#clip440)\" d=\"M136.119 1037.29 L136.119 1030.58 L144.203 1030.58 L144.203 1037.29 L136.119 1037.29 Z\" fill=\"#000000\" fill-rule=\"evenodd\" fill-opacity=\"1\" /><path clip-path=\"url(#clip440)\" d=\"M115.398 989.646 Q111.451 987.45 109.574 984.394 Q107.696 981.339 107.696 977.201 Q107.696 971.631 111.611 968.607 Q115.494 965.584 122.687 965.584 L144.203 965.584 L144.203 971.472 L122.878 971.472 Q117.754 971.472 115.271 973.286 Q112.788 975.1 112.788 978.824 Q112.788 983.376 115.812 986.018 Q118.836 988.659 124.056 988.659 L144.203 988.659 L144.203 994.548 L122.878 994.548 Q117.722 994.548 115.271 996.362 Q112.788 998.176 112.788 1001.96 Q112.788 1006.45 115.844 1009.09 Q118.868 1011.74 124.056 1011.74 L144.203 1011.74 L144.203 1017.62 L108.555 1017.62 L108.555 1011.74 L114.093 1011.74 Q110.815 1009.73 109.255 1006.93 Q107.696 1004.13 107.696 1000.28 Q107.696 996.394 109.669 993.688 Q111.642 990.951 115.398 989.646 Z\" fill=\"#000000\" fill-rule=\"evenodd\" fill-opacity=\"1\" /><path clip-path=\"url(#clip440)\" d=\"M126.284 937.702 Q126.284 944.8 127.907 947.537 Q129.53 950.274 133.445 950.274 Q136.564 950.274 138.41 948.237 Q140.224 946.168 140.224 942.635 Q140.224 937.765 136.787 934.837 Q133.318 931.877 127.589 931.877 L126.284 931.877 L126.284 937.702 M123.865 926.021 L144.203 926.021 L144.203 931.877 L138.792 931.877 Q142.039 933.882 143.598 936.874 Q145.126 939.866 145.126 944.195 Q145.126 949.669 142.071 952.916 Q138.983 956.131 133.827 956.131 Q127.811 956.131 124.756 952.12 Q121.7 948.078 121.7 940.089 L121.7 931.877 L121.127 931.877 Q117.085 931.877 114.889 934.551 Q112.661 937.193 112.661 941.999 Q112.661 945.054 113.393 947.951 Q114.125 950.847 115.589 953.521 L110.178 953.521 Q108.937 950.306 108.332 947.282 Q107.696 944.259 107.696 941.394 Q107.696 933.66 111.706 929.84 Q115.716 926.021 123.865 926.021 Z\" fill=\"#000000\" fill-rule=\"evenodd\" fill-opacity=\"1\" /><path clip-path=\"url(#clip440)\" d=\"M108.555 884.325 L125.902 897.216 L144.203 883.657 L144.203 890.564 L130.198 900.94 L144.203 911.316 L144.203 918.223 L125.551 904.377 L108.555 917.045 L108.555 910.138 L121.255 900.685 L108.555 891.232 L108.555 884.325 Z\" fill=\"#000000\" fill-rule=\"evenodd\" fill-opacity=\"1\" /><path clip-path=\"url(#clip440)\" d=\"M155.025 848.295 L159.576 848.295 L159.576 882.161 L155.025 882.161 L155.025 848.295 Z\" fill=\"#000000\" fill-rule=\"evenodd\" fill-opacity=\"1\" /><path clip-path=\"url(#clip440)\" d=\"M113.966 819.332 L94.6778 819.332 L94.6778 813.475 L144.203 813.475 L144.203 819.332 L138.856 819.332 Q142.039 821.178 143.598 824.01 Q145.126 826.811 145.126 830.758 Q145.126 837.219 139.97 841.293 Q134.814 845.335 126.411 845.335 Q118.008 845.335 112.852 841.293 Q107.696 837.219 107.696 830.758 Q107.696 826.811 109.255 824.01 Q110.783 821.178 113.966 819.332 M126.411 839.288 Q132.872 839.288 136.564 836.646 Q140.224 833.973 140.224 829.326 Q140.224 824.679 136.564 822.005 Q132.872 819.332 126.411 819.332 Q119.95 819.332 116.289 822.005 Q112.597 824.679 112.597 829.326 Q112.597 833.973 116.289 836.646 Q119.95 839.288 126.411 839.288 Z\" fill=\"#000000\" fill-rule=\"evenodd\" fill-opacity=\"1\" /><path clip-path=\"url(#clip440)\" d=\"M124.915 770.92 L127.779 770.92 L127.779 797.847 Q133.827 797.465 137.01 794.219 Q140.161 790.94 140.161 785.116 Q140.161 781.742 139.333 778.591 Q138.506 775.408 136.851 772.289 L142.389 772.289 Q143.726 775.44 144.426 778.75 Q145.126 782.06 145.126 785.466 Q145.126 793.996 140.161 798.993 Q135.196 803.958 126.729 803.958 Q117.976 803.958 112.852 799.248 Q107.696 794.505 107.696 786.484 Q107.696 779.291 112.343 775.122 Q116.958 770.92 124.915 770.92 M123.196 776.777 Q118.39 776.84 115.526 779.482 Q112.661 782.092 112.661 786.421 Q112.661 791.322 115.43 794.282 Q118.199 797.211 123.228 797.656 L123.196 776.777 Z\" fill=\"#000000\" fill-rule=\"evenodd\" fill-opacity=\"1\" /><path clip-path=\"url(#clip440)\" d=\"M138.856 755.643 L157.762 755.643 L157.762 761.531 L108.555 761.531 L108.555 755.643 L113.966 755.643 Q110.783 753.797 109.255 750.996 Q107.696 748.163 107.696 744.248 Q107.696 737.755 112.852 733.713 Q118.008 729.639 126.411 729.639 Q134.814 729.639 139.97 733.713 Q145.126 737.755 145.126 744.248 Q145.126 748.163 143.598 750.996 Q142.039 753.797 138.856 755.643 M126.411 735.718 Q119.95 735.718 116.289 738.392 Q112.597 741.033 112.597 745.68 Q112.597 750.327 116.289 753.001 Q119.95 755.643 126.411 755.643 Q132.872 755.643 136.564 753.001 Q140.224 750.327 140.224 745.68 Q140.224 741.033 136.564 738.392 Q132.872 735.718 126.411 735.718 Z\" fill=\"#000000\" fill-rule=\"evenodd\" fill-opacity=\"1\" /><path clip-path=\"url(#clip440)\" d=\"M98.4336 714.138 L108.555 714.138 L108.555 702.075 L113.107 702.075 L113.107 714.138 L132.458 714.138 Q136.819 714.138 138.06 712.961 Q139.301 711.751 139.301 708.091 L139.301 702.075 L144.203 702.075 L144.203 708.091 Q144.203 714.87 141.689 717.448 Q139.142 720.026 132.458 720.026 L113.107 720.026 L113.107 724.323 L108.555 724.323 L108.555 720.026 L98.4336 720.026 L98.4336 714.138 Z\" fill=\"#000000\" fill-rule=\"evenodd\" fill-opacity=\"1\" /><path clip-path=\"url(#clip440)\" d=\"M122.687 664.74 L144.203 664.74 L144.203 670.597 L122.878 670.597 Q117.817 670.597 115.303 672.57 Q112.788 674.544 112.788 678.49 Q112.788 683.233 115.812 685.97 Q118.836 688.707 124.056 688.707 L144.203 688.707 L144.203 694.595 L94.6778 694.595 L94.6778 688.707 L114.093 688.707 Q110.879 686.607 109.287 683.774 Q107.696 680.909 107.696 677.185 Q107.696 671.042 111.515 667.891 Q115.303 664.74 122.687 664.74 Z\" fill=\"#000000\" fill-rule=\"evenodd\" fill-opacity=\"1\" /><circle clip-path=\"url(#clip444)\" cx=\"550.736\" cy=\"932.403\" r=\"21\" fill=\"#64146e\" fill-rule=\"evenodd\" fill-opacity=\"1\" stroke=\"#000000\" stroke-opacity=\"1\" stroke-width=\"3.6\"/>\n",
       "<circle clip-path=\"url(#clip444)\" cx=\"337.125\" cy=\"1097.09\" r=\"16\" fill=\"#410967\" fill-rule=\"evenodd\" fill-opacity=\"1\" stroke=\"#000000\" stroke-opacity=\"1\" stroke-width=\"3.6\"/>\n",
       "<circle clip-path=\"url(#clip444)\" cx=\"324.807\" cy=\"1591.16\" r=\"7\" fill=\"#0b0726\" fill-rule=\"evenodd\" fill-opacity=\"1\" stroke=\"#000000\" stroke-opacity=\"1\" stroke-width=\"3.6\"/>\n",
       "<circle clip-path=\"url(#clip444)\" cx=\"400.661\" cy=\"1426.47\" r=\"8\" fill=\"#10092f\" fill-rule=\"evenodd\" fill-opacity=\"1\" stroke=\"#000000\" stroke-opacity=\"1\" stroke-width=\"3.6\"/>\n",
       "<circle clip-path=\"url(#clip444)\" cx=\"329.296\" cy=\"1261.78\" r=\"9\" fill=\"#160b39\" fill-rule=\"evenodd\" fill-opacity=\"1\" stroke=\"#000000\" stroke-opacity=\"1\" stroke-width=\"3.6\"/>\n",
       "<circle clip-path=\"url(#clip444)\" cx=\"326.664\" cy=\"1261.78\" r=\"10\" fill=\"#180b3c\" fill-rule=\"evenodd\" fill-opacity=\"1\" stroke=\"#000000\" stroke-opacity=\"1\" stroke-width=\"3.6\"/>\n",
       "<circle clip-path=\"url(#clip444)\" cx=\"321.644\" cy=\"1097.09\" r=\"15\" fill=\"#3f0966\" fill-rule=\"evenodd\" fill-opacity=\"1\" stroke=\"#000000\" stroke-opacity=\"1\" stroke-width=\"3.6\"/>\n",
       "<circle clip-path=\"url(#clip444)\" cx=\"703.137\" cy=\"1426.47\" r=\"7\" fill=\"#0a0724\" fill-rule=\"evenodd\" fill-opacity=\"1\" stroke=\"#000000\" stroke-opacity=\"1\" stroke-width=\"3.6\"/>\n",
       "<circle clip-path=\"url(#clip444)\" cx=\"947.902\" cy=\"1261.78\" r=\"16\" fill=\"#470a69\" fill-rule=\"evenodd\" fill-opacity=\"1\" stroke=\"#000000\" stroke-opacity=\"1\" stroke-width=\"3.6\"/>\n",
       "<circle clip-path=\"url(#clip444)\" cx=\"450.156\" cy=\"932.403\" r=\"26\" fill=\"#892269\" fill-rule=\"evenodd\" fill-opacity=\"1\" stroke=\"#000000\" stroke-opacity=\"1\" stroke-width=\"3.6\"/>\n",
       "<circle clip-path=\"url(#clip444)\" cx=\"698.893\" cy=\"1426.47\" r=\"10\" fill=\"#180b3c\" fill-rule=\"evenodd\" fill-opacity=\"1\" stroke=\"#000000\" stroke-opacity=\"1\" stroke-width=\"3.6\"/>\n",
       "<circle clip-path=\"url(#clip444)\" cx=\"283.492\" cy=\"1261.78\" r=\"8\" fill=\"#10092f\" fill-rule=\"evenodd\" fill-opacity=\"1\" stroke=\"#000000\" stroke-opacity=\"1\" stroke-width=\"3.6\"/>\n",
       "<circle clip-path=\"url(#clip444)\" cx=\"500.934\" cy=\"932.403\" r=\"24\" fill=\"#7a1d6c\" fill-rule=\"evenodd\" fill-opacity=\"1\" stroke=\"#000000\" stroke-opacity=\"1\" stroke-width=\"3.6\"/>\n",
       "<circle clip-path=\"url(#clip444)\" cx=\"460.714\" cy=\"1426.47\" r=\"4\" fill=\"#000006\" fill-rule=\"evenodd\" fill-opacity=\"1\" stroke=\"#000000\" stroke-opacity=\"1\" stroke-width=\"3.6\"/>\n",
       "<circle clip-path=\"url(#clip444)\" cx=\"654.17\" cy=\"1426.47\" r=\"6\" fill=\"#050316\" fill-rule=\"evenodd\" fill-opacity=\"1\" stroke=\"#000000\" stroke-opacity=\"1\" stroke-width=\"3.6\"/>\n",
       "<circle clip-path=\"url(#clip444)\" cx=\"291.826\" cy=\"1097.09\" r=\"15\" fill=\"#3d0965\" fill-rule=\"evenodd\" fill-opacity=\"1\" stroke=\"#000000\" stroke-opacity=\"1\" stroke-width=\"3.6\"/>\n",
       "<circle clip-path=\"url(#clip444)\" cx=\"444.214\" cy=\"1591.16\" r=\"6\" fill=\"#07051c\" fill-rule=\"evenodd\" fill-opacity=\"1\" stroke=\"#000000\" stroke-opacity=\"1\" stroke-width=\"3.6\"/>\n",
       "<circle clip-path=\"url(#clip444)\" cx=\"423.847\" cy=\"1097.09\" r=\"13\" fill=\"#2e0a59\" fill-rule=\"evenodd\" fill-opacity=\"1\" stroke=\"#000000\" stroke-opacity=\"1\" stroke-width=\"3.6\"/>\n",
       "<circle clip-path=\"url(#clip444)\" cx=\"333.725\" cy=\"1097.09\" r=\"14\" fill=\"#360960\" fill-rule=\"evenodd\" fill-opacity=\"1\" stroke=\"#000000\" stroke-opacity=\"1\" stroke-width=\"3.6\"/>\n",
       "<circle clip-path=\"url(#clip444)\" cx=\"397.691\" cy=\"1261.78\" r=\"8\" fill=\"#10092f\" fill-rule=\"evenodd\" fill-opacity=\"1\" stroke=\"#000000\" stroke-opacity=\"1\" stroke-width=\"3.6\"/>\n",
       "<circle clip-path=\"url(#clip444)\" cx=\"680.209\" cy=\"1591.16\" r=\"4\" fill=\"#000006\" fill-rule=\"evenodd\" fill-opacity=\"1\" stroke=\"#000000\" stroke-opacity=\"1\" stroke-width=\"3.6\"/>\n",
       "<circle clip-path=\"url(#clip444)\" cx=\"964.467\" cy=\"1426.47\" r=\"3\" fill=\"#000005\" fill-rule=\"evenodd\" fill-opacity=\"1\" stroke=\"#000000\" stroke-opacity=\"1\" stroke-width=\"3.6\"/>\n",
       "<circle clip-path=\"url(#clip444)\" cx=\"295.101\" cy=\"1097.09\" r=\"14\" fill=\"#380962\" fill-rule=\"evenodd\" fill-opacity=\"1\" stroke=\"#000000\" stroke-opacity=\"1\" stroke-width=\"3.6\"/>\n",
       "<circle clip-path=\"url(#clip444)\" cx=\"465.253\" cy=\"1426.47\" r=\"4\" fill=\"#02010c\" fill-rule=\"evenodd\" fill-opacity=\"1\" stroke=\"#000000\" stroke-opacity=\"1\" stroke-width=\"3.6\"/>\n",
       "<circle clip-path=\"url(#clip444)\" cx=\"281.034\" cy=\"932.403\" r=\"61\" fill=\"#fcfea4\" fill-rule=\"evenodd\" fill-opacity=\"1\" stroke=\"#000000\" stroke-opacity=\"1\" stroke-width=\"3.6\"/>\n",
       "<circle clip-path=\"url(#clip444)\" cx=\"786.567\" cy=\"932.403\" r=\"30\" fill=\"#a22b61\" fill-rule=\"evenodd\" fill-opacity=\"1\" stroke=\"#000000\" stroke-opacity=\"1\" stroke-width=\"3.6\"/>\n",
       "<circle clip-path=\"url(#clip444)\" cx=\"812.685\" cy=\"932.403\" r=\"27\" fill=\"#912567\" fill-rule=\"evenodd\" fill-opacity=\"1\" stroke=\"#000000\" stroke-opacity=\"1\" stroke-width=\"3.6\"/>\n",
       "<circle clip-path=\"url(#clip444)\" cx=\"354.907\" cy=\"1261.78\" r=\"9\" fill=\"#160b39\" fill-rule=\"evenodd\" fill-opacity=\"1\" stroke=\"#000000\" stroke-opacity=\"1\" stroke-width=\"3.6\"/>\n",
       "<circle clip-path=\"url(#clip444)\" cx=\"865.853\" cy=\"1097.09\" r=\"24\" fill=\"#791c6d\" fill-rule=\"evenodd\" fill-opacity=\"1\" stroke=\"#000000\" stroke-opacity=\"1\" stroke-width=\"3.6\"/>\n",
       "<circle clip-path=\"url(#clip444)\" cx=\"326.304\" cy=\"932.403\" r=\"24\" fill=\"#771b6d\" fill-rule=\"evenodd\" fill-opacity=\"1\" stroke=\"#000000\" stroke-opacity=\"1\" stroke-width=\"3.6\"/>\n",
       "<circle clip-path=\"url(#clip444)\" cx=\"518.535\" cy=\"1426.47\" r=\"4\" fill=\"#02010d\" fill-rule=\"evenodd\" fill-opacity=\"1\" stroke=\"#000000\" stroke-opacity=\"1\" stroke-width=\"3.6\"/>\n",
       "<circle clip-path=\"url(#clip444)\" cx=\"766.59\" cy=\"1426.47\" r=\"6\" fill=\"#08051e\" fill-rule=\"evenodd\" fill-opacity=\"1\" stroke=\"#000000\" stroke-opacity=\"1\" stroke-width=\"3.6\"/>\n",
       "<circle clip-path=\"url(#clip444)\" cx=\"375.256\" cy=\"1591.16\" r=\"5\" fill=\"#040314\" fill-rule=\"evenodd\" fill-opacity=\"1\" stroke=\"#000000\" stroke-opacity=\"1\" stroke-width=\"3.6\"/>\n",
       "<circle clip-path=\"url(#clip444)\" cx=\"303.962\" cy=\"1426.47\" r=\"7\" fill=\"#0b0724\" fill-rule=\"evenodd\" fill-opacity=\"1\" stroke=\"#000000\" stroke-opacity=\"1\" stroke-width=\"3.6\"/>\n",
       "<circle clip-path=\"url(#clip444)\" cx=\"1062.61\" cy=\"932.403\" r=\"26\" fill=\"#87216a\" fill-rule=\"evenodd\" fill-opacity=\"1\" stroke=\"#000000\" stroke-opacity=\"1\" stroke-width=\"3.6\"/>\n",
       "<circle clip-path=\"url(#clip444)\" cx=\"1127.37\" cy=\"1097.09\" r=\"14\" fill=\"#33095f\" fill-rule=\"evenodd\" fill-opacity=\"1\" stroke=\"#000000\" stroke-opacity=\"1\" stroke-width=\"3.6\"/>\n",
       "<circle clip-path=\"url(#clip444)\" cx=\"339.996\" cy=\"1591.16\" r=\"3\" fill=\"#000003\" fill-rule=\"evenodd\" fill-opacity=\"1\" stroke=\"#000000\" stroke-opacity=\"1\" stroke-width=\"3.6\"/>\n",
       "<circle clip-path=\"url(#clip444)\" cx=\"326.648\" cy=\"1591.16\" r=\"4\" fill=\"#000005\" fill-rule=\"evenodd\" fill-opacity=\"1\" stroke=\"#000000\" stroke-opacity=\"1\" stroke-width=\"3.6\"/>\n",
       "<circle clip-path=\"url(#clip444)\" cx=\"375.948\" cy=\"1261.78\" r=\"8\" fill=\"#0d0828\" fill-rule=\"evenodd\" fill-opacity=\"1\" stroke=\"#000000\" stroke-opacity=\"1\" stroke-width=\"3.6\"/>\n",
       "<circle clip-path=\"url(#clip444)\" cx=\"576.153\" cy=\"1261.78\" r=\"7\" fill=\"#0c0827\" fill-rule=\"evenodd\" fill-opacity=\"1\" stroke=\"#000000\" stroke-opacity=\"1\" stroke-width=\"3.6\"/>\n",
       "<path clip-path=\"url(#clip440)\" d=\"\n",
       "M1455.64 1610.92 L2352.76 1610.92 L2352.76 912.64 L1455.64 912.64  Z\n",
       "  \" fill=\"#ffffff\" fill-rule=\"evenodd\" fill-opacity=\"1\"/>\n",
       "<defs>\n",
       "  <clipPath id=\"clip445\">\n",
       "    <rect x=\"1455\" y=\"912\" width=\"898\" height=\"699\"/>\n",
       "  </clipPath>\n",
       "</defs>\n",
       "<polyline clip-path=\"url(#clip445)\" style=\"stroke:#000000; stroke-linecap:butt; stroke-linejoin:round; stroke-width:2; stroke-opacity:0.1; fill:none\" points=\"\n",
       "  1481.03,1610.92 1481.03,912.64 \n",
       "  \"/>\n",
       "<polyline clip-path=\"url(#clip445)\" style=\"stroke:#000000; stroke-linecap:butt; stroke-linejoin:round; stroke-width:2; stroke-opacity:0.1; fill:none\" points=\"\n",
       "  1692.62,1610.92 1692.62,912.64 \n",
       "  \"/>\n",
       "<polyline clip-path=\"url(#clip445)\" style=\"stroke:#000000; stroke-linecap:butt; stroke-linejoin:round; stroke-width:2; stroke-opacity:0.1; fill:none\" points=\"\n",
       "  1904.2,1610.92 1904.2,912.64 \n",
       "  \"/>\n",
       "<polyline clip-path=\"url(#clip445)\" style=\"stroke:#000000; stroke-linecap:butt; stroke-linejoin:round; stroke-width:2; stroke-opacity:0.1; fill:none\" points=\"\n",
       "  2115.78,1610.92 2115.78,912.64 \n",
       "  \"/>\n",
       "<polyline clip-path=\"url(#clip445)\" style=\"stroke:#000000; stroke-linecap:butt; stroke-linejoin:round; stroke-width:2; stroke-opacity:0.1; fill:none\" points=\"\n",
       "  2327.37,1610.92 2327.37,912.64 \n",
       "  \"/>\n",
       "<polyline clip-path=\"url(#clip440)\" style=\"stroke:#000000; stroke-linecap:butt; stroke-linejoin:round; stroke-width:4; stroke-opacity:1; fill:none\" points=\"\n",
       "  1455.64,1610.92 2352.76,1610.92 \n",
       "  \"/>\n",
       "<polyline clip-path=\"url(#clip440)\" style=\"stroke:#000000; stroke-linecap:butt; stroke-linejoin:round; stroke-width:4; stroke-opacity:1; fill:none\" points=\"\n",
       "  1455.64,912.64 2352.76,912.64 \n",
       "  \"/>\n",
       "<polyline clip-path=\"url(#clip440)\" style=\"stroke:#000000; stroke-linecap:butt; stroke-linejoin:round; stroke-width:4; stroke-opacity:1; fill:none\" points=\"\n",
       "  1481.03,1610.92 1481.03,1592.02 \n",
       "  \"/>\n",
       "<polyline clip-path=\"url(#clip440)\" style=\"stroke:#000000; stroke-linecap:butt; stroke-linejoin:round; stroke-width:4; stroke-opacity:1; fill:none\" points=\"\n",
       "  1692.62,1610.92 1692.62,1592.02 \n",
       "  \"/>\n",
       "<polyline clip-path=\"url(#clip440)\" style=\"stroke:#000000; stroke-linecap:butt; stroke-linejoin:round; stroke-width:4; stroke-opacity:1; fill:none\" points=\"\n",
       "  1904.2,1610.92 1904.2,1592.02 \n",
       "  \"/>\n",
       "<polyline clip-path=\"url(#clip440)\" style=\"stroke:#000000; stroke-linecap:butt; stroke-linejoin:round; stroke-width:4; stroke-opacity:1; fill:none\" points=\"\n",
       "  2115.78,1610.92 2115.78,1592.02 \n",
       "  \"/>\n",
       "<polyline clip-path=\"url(#clip440)\" style=\"stroke:#000000; stroke-linecap:butt; stroke-linejoin:round; stroke-width:4; stroke-opacity:1; fill:none\" points=\"\n",
       "  2327.37,1610.92 2327.37,1592.02 \n",
       "  \"/>\n",
       "<path clip-path=\"url(#clip440)\" d=\"M1475.69 1669.38 L1492.01 1669.38 L1492.01 1673.32 L1470.06 1673.32 L1470.06 1669.38 Q1472.72 1666.63 1477.31 1662 Q1481.91 1657.35 1483.09 1656.01 Q1485.34 1653.48 1486.22 1651.75 Q1487.12 1649.99 1487.12 1648.3 Q1487.12 1645.54 1485.18 1643.81 Q1483.26 1642.07 1480.15 1642.07 Q1477.96 1642.07 1475.5 1642.83 Q1473.07 1643.6 1470.29 1645.15 L1470.29 1640.43 Q1473.12 1639.29 1475.57 1638.71 Q1478.02 1638.13 1480.06 1638.13 Q1485.43 1638.13 1488.63 1640.82 Q1491.82 1643.51 1491.82 1648 Q1491.82 1650.13 1491.01 1652.05 Q1490.22 1653.94 1488.12 1656.54 Q1487.54 1657.21 1484.44 1660.43 Q1481.33 1663.62 1475.69 1669.38 Z\" fill=\"#000000\" fill-rule=\"evenodd\" fill-opacity=\"1\" /><path clip-path=\"url(#clip440)\" d=\"M1696.86 1654.69 Q1700.22 1655.4 1702.1 1657.67 Q1703.99 1659.94 1703.99 1663.27 Q1703.99 1668.39 1700.48 1671.19 Q1696.96 1673.99 1690.48 1673.99 Q1688.3 1673.99 1685.99 1673.55 Q1683.69 1673.13 1681.24 1672.28 L1681.24 1667.76 Q1683.18 1668.9 1685.5 1669.48 Q1687.81 1670.06 1690.34 1670.06 Q1694.74 1670.06 1697.03 1668.32 Q1699.34 1666.58 1699.34 1663.27 Q1699.34 1660.22 1697.19 1658.51 Q1695.06 1656.77 1691.24 1656.77 L1687.21 1656.77 L1687.21 1652.93 L1691.42 1652.93 Q1694.87 1652.93 1696.7 1651.56 Q1698.53 1650.17 1698.53 1647.58 Q1698.53 1644.92 1696.63 1643.51 Q1694.76 1642.07 1691.24 1642.07 Q1689.32 1642.07 1687.12 1642.49 Q1684.92 1642.9 1682.28 1643.78 L1682.28 1639.62 Q1684.94 1638.88 1687.26 1638.51 Q1689.6 1638.13 1691.66 1638.13 Q1696.98 1638.13 1700.08 1640.57 Q1703.18 1642.97 1703.18 1647.09 Q1703.18 1649.96 1701.54 1651.95 Q1699.9 1653.92 1696.86 1654.69 Z\" fill=\"#000000\" fill-rule=\"evenodd\" fill-opacity=\"1\" /><path clip-path=\"url(#clip440)\" d=\"M1907.21 1642.83 L1895.4 1661.28 L1907.21 1661.28 L1907.21 1642.83 M1905.98 1638.76 L1911.86 1638.76 L1911.86 1661.28 L1916.79 1661.28 L1916.79 1665.17 L1911.86 1665.17 L1911.86 1673.32 L1907.21 1673.32 L1907.21 1665.17 L1891.61 1665.17 L1891.61 1660.66 L1905.98 1638.76 Z\" fill=\"#000000\" fill-rule=\"evenodd\" fill-opacity=\"1\" /><path clip-path=\"url(#clip440)\" d=\"M2106.06 1638.76 L2124.42 1638.76 L2124.42 1642.7 L2110.34 1642.7 L2110.34 1651.17 Q2111.36 1650.82 2112.38 1650.66 Q2113.4 1650.47 2114.42 1650.47 Q2120.2 1650.47 2123.58 1653.64 Q2126.96 1656.82 2126.96 1662.23 Q2126.96 1667.81 2123.49 1670.91 Q2120.02 1673.99 2113.7 1673.99 Q2111.52 1673.99 2109.26 1673.62 Q2107.01 1673.25 2104.6 1672.51 L2104.6 1667.81 Q2106.69 1668.94 2108.91 1669.5 Q2111.13 1670.06 2113.61 1670.06 Q2117.61 1670.06 2119.95 1667.95 Q2122.29 1665.84 2122.29 1662.23 Q2122.29 1658.62 2119.95 1656.51 Q2117.61 1654.41 2113.61 1654.41 Q2111.73 1654.41 2109.86 1654.82 Q2108.01 1655.24 2106.06 1656.12 L2106.06 1638.76 Z\" fill=\"#000000\" fill-rule=\"evenodd\" fill-opacity=\"1\" /><path clip-path=\"url(#clip440)\" d=\"M2327.77 1654.18 Q2324.62 1654.18 2322.77 1656.33 Q2320.94 1658.48 2320.94 1662.23 Q2320.94 1665.96 2322.77 1668.13 Q2324.62 1670.29 2327.77 1670.29 Q2330.92 1670.29 2332.75 1668.13 Q2334.6 1665.96 2334.6 1662.23 Q2334.6 1658.48 2332.75 1656.33 Q2330.92 1654.18 2327.77 1654.18 M2337.05 1639.52 L2337.05 1643.78 Q2335.29 1642.95 2333.49 1642.51 Q2331.71 1642.07 2329.95 1642.07 Q2325.32 1642.07 2322.86 1645.19 Q2320.43 1648.32 2320.09 1654.64 Q2321.45 1652.63 2323.51 1651.56 Q2325.57 1650.47 2328.05 1650.47 Q2333.26 1650.47 2336.27 1653.64 Q2339.3 1656.79 2339.3 1662.23 Q2339.3 1667.56 2336.15 1670.77 Q2333 1673.99 2327.77 1673.99 Q2321.78 1673.99 2318.6 1669.41 Q2315.43 1664.8 2315.43 1656.07 Q2315.43 1647.88 2319.32 1643.02 Q2323.21 1638.13 2329.76 1638.13 Q2331.52 1638.13 2333.3 1638.48 Q2335.11 1638.83 2337.05 1639.52 Z\" fill=\"#000000\" fill-rule=\"evenodd\" fill-opacity=\"1\" /><path clip-path=\"url(#clip440)\" d=\"M1335.14 1726.98 Q1337.33 1723.03 1340.39 1721.15 Q1343.44 1719.28 1347.58 1719.28 Q1353.15 1719.28 1356.18 1723.19 Q1359.2 1727.07 1359.2 1734.27 L1359.2 1755.78 L1353.31 1755.78 L1353.31 1734.46 Q1353.31 1729.33 1351.5 1726.85 Q1349.68 1724.37 1345.96 1724.37 Q1341.41 1724.37 1338.77 1727.39 Q1336.12 1730.42 1336.12 1735.64 L1336.12 1755.78 L1330.24 1755.78 L1330.24 1734.46 Q1330.24 1729.3 1328.42 1726.85 Q1326.61 1724.37 1322.82 1724.37 Q1318.33 1724.37 1315.69 1727.42 Q1313.05 1730.45 1313.05 1735.64 L1313.05 1755.78 L1307.16 1755.78 L1307.16 1720.14 L1313.05 1720.14 L1313.05 1725.67 Q1315.05 1722.4 1317.85 1720.84 Q1320.66 1719.28 1324.51 1719.28 Q1328.39 1719.28 1331.1 1721.25 Q1333.83 1723.22 1335.14 1726.98 Z\" fill=\"#000000\" fill-rule=\"evenodd\" fill-opacity=\"1\" /><path clip-path=\"url(#clip440)\" d=\"M1384.69 1724.24 Q1379.98 1724.24 1377.25 1727.93 Q1374.51 1731.59 1374.51 1737.99 Q1374.51 1744.39 1377.21 1748.08 Q1379.95 1751.74 1384.69 1751.74 Q1389.37 1751.74 1392.11 1748.05 Q1394.85 1744.36 1394.85 1737.99 Q1394.85 1731.66 1392.11 1727.97 Q1389.37 1724.24 1384.69 1724.24 M1384.69 1719.28 Q1392.33 1719.28 1396.69 1724.24 Q1401.05 1729.21 1401.05 1737.99 Q1401.05 1746.74 1396.69 1751.74 Q1392.33 1756.71 1384.69 1756.71 Q1377.02 1756.71 1372.66 1751.74 Q1368.33 1746.74 1368.33 1737.99 Q1368.33 1729.21 1372.66 1724.24 Q1377.02 1719.28 1384.69 1719.28 Z\" fill=\"#000000\" fill-rule=\"evenodd\" fill-opacity=\"1\" /><path clip-path=\"url(#clip440)\" d=\"M1434.22 1725.55 L1434.22 1706.26 L1440.08 1706.26 L1440.08 1755.78 L1434.22 1755.78 L1434.22 1750.44 Q1432.37 1753.62 1429.54 1755.18 Q1426.74 1756.71 1422.79 1756.71 Q1416.33 1756.71 1412.26 1751.55 Q1408.22 1746.39 1408.22 1737.99 Q1408.22 1729.59 1412.26 1724.43 Q1416.33 1719.28 1422.79 1719.28 Q1426.74 1719.28 1429.54 1720.84 Q1432.37 1722.36 1434.22 1725.55 M1414.26 1737.99 Q1414.26 1744.45 1416.91 1748.14 Q1419.58 1751.81 1424.23 1751.81 Q1428.87 1751.81 1431.55 1748.14 Q1434.22 1744.45 1434.22 1737.99 Q1434.22 1731.53 1431.55 1727.87 Q1428.87 1724.18 1424.23 1724.18 Q1419.58 1724.18 1416.91 1727.87 Q1414.26 1731.53 1414.26 1737.99 Z\" fill=\"#000000\" fill-rule=\"evenodd\" fill-opacity=\"1\" /><path clip-path=\"url(#clip440)\" d=\"M1482.63 1736.5 L1482.63 1739.36 L1455.7 1739.36 Q1456.09 1745.41 1459.33 1748.59 Q1462.61 1751.74 1468.44 1751.74 Q1471.81 1751.74 1474.96 1750.91 Q1478.14 1750.09 1481.26 1748.43 L1481.26 1753.97 Q1478.11 1755.31 1474.8 1756.01 Q1471.49 1756.71 1468.09 1756.71 Q1459.56 1756.71 1454.56 1751.74 Q1449.59 1746.78 1449.59 1738.31 Q1449.59 1729.56 1454.3 1724.43 Q1459.05 1719.28 1467.07 1719.28 Q1474.26 1719.28 1478.43 1723.92 Q1482.63 1728.54 1482.63 1736.5 M1476.77 1734.78 Q1476.71 1729.97 1474.07 1727.11 Q1471.46 1724.24 1467.13 1724.24 Q1462.23 1724.24 1459.27 1727.01 Q1456.34 1729.78 1455.9 1734.81 L1476.77 1734.78 Z\" fill=\"#000000\" fill-rule=\"evenodd\" fill-opacity=\"1\" /><path clip-path=\"url(#clip440)\" d=\"M1492.24 1706.26 L1498.1 1706.26 L1498.1 1755.78 L1492.24 1755.78 L1492.24 1706.26 Z\" fill=\"#000000\" fill-rule=\"evenodd\" fill-opacity=\"1\" /><path clip-path=\"url(#clip440)\" d=\"M1511.18 1747.7 L1517.9 1747.7 L1517.9 1755.78 L1511.18 1755.78 L1511.18 1747.7 Z\" fill=\"#000000\" fill-rule=\"evenodd\" fill-opacity=\"1\" /><path clip-path=\"url(#clip440)\" d=\"M1561.57 1736.5 L1561.57 1739.36 L1534.64 1739.36 Q1535.02 1745.41 1538.27 1748.59 Q1541.55 1751.74 1547.37 1751.74 Q1550.74 1751.74 1553.9 1750.91 Q1557.08 1750.09 1560.2 1748.43 L1560.2 1753.97 Q1557.05 1755.31 1553.74 1756.01 Q1550.43 1756.71 1547.02 1756.71 Q1538.49 1756.71 1533.49 1751.74 Q1528.53 1746.78 1528.53 1738.31 Q1528.53 1729.56 1533.24 1724.43 Q1537.98 1719.28 1546 1719.28 Q1553.19 1719.28 1557.36 1723.92 Q1561.57 1728.54 1561.57 1736.5 M1555.71 1734.78 Q1555.65 1729.97 1553 1727.11 Q1550.39 1724.24 1546.07 1724.24 Q1541.16 1724.24 1538.2 1727.01 Q1535.28 1729.78 1534.83 1734.81 L1555.71 1734.78 Z\" fill=\"#000000\" fill-rule=\"evenodd\" fill-opacity=\"1\" /><path clip-path=\"url(#clip440)\" d=\"M1566.98 1720.14 L1573.18 1720.14 L1584.32 1750.05 L1595.46 1720.14 L1601.67 1720.14 L1588.3 1755.78 L1580.34 1755.78 L1566.98 1720.14 Z\" fill=\"#000000\" fill-rule=\"evenodd\" fill-opacity=\"1\" /><path clip-path=\"url(#clip440)\" d=\"M1623.57 1724.24 Q1618.86 1724.24 1616.12 1727.93 Q1613.38 1731.59 1613.38 1737.99 Q1613.38 1744.39 1616.09 1748.08 Q1618.83 1751.74 1623.57 1751.74 Q1628.25 1751.74 1630.98 1748.05 Q1633.72 1744.36 1633.72 1737.99 Q1633.72 1731.66 1630.98 1727.97 Q1628.25 1724.24 1623.57 1724.24 M1623.57 1719.28 Q1631.21 1719.28 1635.57 1724.24 Q1639.93 1729.21 1639.93 1737.99 Q1639.93 1746.74 1635.57 1751.74 Q1631.21 1756.71 1623.57 1756.71 Q1615.9 1756.71 1611.54 1751.74 Q1607.21 1746.74 1607.21 1737.99 Q1607.21 1729.21 1611.54 1724.24 Q1615.9 1719.28 1623.57 1719.28 Z\" fill=\"#000000\" fill-rule=\"evenodd\" fill-opacity=\"1\" /><path clip-path=\"url(#clip440)\" d=\"M1676.72 1766.61 L1676.72 1771.16 L1642.86 1771.16 L1642.86 1766.61 L1676.72 1766.61 Z\" fill=\"#000000\" fill-rule=\"evenodd\" fill-opacity=\"1\" /><path clip-path=\"url(#clip440)\" d=\"M1688.02 1710.01 L1688.02 1720.14 L1700.08 1720.14 L1700.08 1724.69 L1688.02 1724.69 L1688.02 1744.04 Q1688.02 1748.4 1689.2 1749.64 Q1690.41 1750.88 1694.07 1750.88 L1700.08 1750.88 L1700.08 1755.78 L1694.07 1755.78 Q1687.29 1755.78 1684.71 1753.27 Q1682.13 1750.72 1682.13 1744.04 L1682.13 1724.69 L1677.84 1724.69 L1677.84 1720.14 L1682.13 1720.14 L1682.13 1710.01 L1688.02 1710.01 Z\" fill=\"#000000\" fill-rule=\"evenodd\" fill-opacity=\"1\" /><path clip-path=\"url(#clip440)\" d=\"M1728.44 1725.61 Q1727.46 1725.04 1726.28 1724.78 Q1725.13 1724.5 1723.73 1724.5 Q1718.77 1724.5 1716.09 1727.74 Q1713.45 1730.96 1713.45 1737.01 L1713.45 1755.78 L1707.56 1755.78 L1707.56 1720.14 L1713.45 1720.14 L1713.45 1725.67 Q1715.3 1722.43 1718.26 1720.87 Q1721.22 1719.28 1725.45 1719.28 Q1726.06 1719.28 1726.79 1719.37 Q1727.52 1719.44 1728.41 1719.59 L1728.44 1725.61 Z\" fill=\"#000000\" fill-rule=\"evenodd\" fill-opacity=\"1\" /><path clip-path=\"url(#clip440)\" d=\"M1763.65 1736.5 L1763.65 1739.36 L1736.72 1739.36 Q1737.1 1745.41 1740.35 1748.59 Q1743.63 1751.74 1749.45 1751.74 Q1752.82 1751.74 1755.97 1750.91 Q1759.16 1750.09 1762.28 1748.43 L1762.28 1753.97 Q1759.13 1755.31 1755.82 1756.01 Q1752.51 1756.71 1749.1 1756.71 Q1740.57 1756.71 1735.57 1751.74 Q1730.61 1746.78 1730.61 1738.31 Q1730.61 1729.56 1735.32 1724.43 Q1740.06 1719.28 1748.08 1719.28 Q1755.27 1719.28 1759.44 1723.92 Q1763.65 1728.54 1763.65 1736.5 M1757.79 1734.78 Q1757.73 1729.97 1755.08 1727.11 Q1752.47 1724.24 1748.14 1724.24 Q1743.24 1724.24 1740.28 1727.01 Q1737.35 1729.78 1736.91 1734.81 L1757.79 1734.78 Z\" fill=\"#000000\" fill-rule=\"evenodd\" fill-opacity=\"1\" /><path clip-path=\"url(#clip440)\" d=\"M1803.75 1736.5 L1803.75 1739.36 L1776.82 1739.36 Q1777.2 1745.41 1780.45 1748.59 Q1783.73 1751.74 1789.55 1751.74 Q1792.93 1751.74 1796.08 1750.91 Q1799.26 1750.09 1802.38 1748.43 L1802.38 1753.97 Q1799.23 1755.31 1795.92 1756.01 Q1792.61 1756.71 1789.2 1756.71 Q1780.67 1756.71 1775.68 1751.74 Q1770.71 1746.78 1770.71 1738.31 Q1770.71 1729.56 1775.42 1724.43 Q1780.16 1719.28 1788.18 1719.28 Q1795.38 1719.28 1799.55 1723.92 Q1803.75 1728.54 1803.75 1736.5 M1797.89 1734.78 Q1797.83 1729.97 1795.19 1727.11 Q1792.58 1724.24 1788.25 1724.24 Q1783.35 1724.24 1780.39 1727.01 Q1777.46 1729.78 1777.01 1734.81 L1797.89 1734.78 Z\" fill=\"#000000\" fill-rule=\"evenodd\" fill-opacity=\"1\" /><path clip-path=\"url(#clip440)\" d=\"M1840.45 1766.61 L1840.45 1771.16 L1806.58 1771.16 L1806.58 1766.61 L1840.45 1766.61 Z\" fill=\"#000000\" fill-rule=\"evenodd\" fill-opacity=\"1\" /><path clip-path=\"url(#clip440)\" d=\"M1871.61 1721.5 L1871.61 1726.98 Q1869.12 1725.61 1866.61 1724.94 Q1864.13 1724.24 1861.58 1724.24 Q1855.88 1724.24 1852.73 1727.87 Q1849.58 1731.47 1849.58 1737.99 Q1849.58 1744.52 1852.73 1748.14 Q1855.88 1751.74 1861.58 1751.74 Q1864.13 1751.74 1866.61 1751.07 Q1869.12 1750.37 1871.61 1749 L1871.61 1754.42 Q1869.16 1755.56 1866.52 1756.13 Q1863.91 1756.71 1860.95 1756.71 Q1852.89 1756.71 1848.15 1751.65 Q1843.41 1746.59 1843.41 1737.99 Q1843.41 1729.27 1848.18 1724.27 Q1852.99 1719.28 1861.33 1719.28 Q1864.03 1719.28 1866.61 1719.85 Q1869.19 1720.39 1871.61 1721.5 Z\" fill=\"#000000\" fill-rule=\"evenodd\" fill-opacity=\"1\" /><path clip-path=\"url(#clip440)\" d=\"M1881.79 1706.26 L1887.65 1706.26 L1887.65 1755.78 L1881.79 1755.78 L1881.79 1706.26 Z\" fill=\"#000000\" fill-rule=\"evenodd\" fill-opacity=\"1\" /><path clip-path=\"url(#clip440)\" d=\"M1916.1 1737.86 Q1909.01 1737.86 1906.27 1739.49 Q1903.53 1741.11 1903.53 1745.03 Q1903.53 1748.14 1905.57 1749.99 Q1907.64 1751.81 1911.17 1751.81 Q1916.04 1751.81 1918.97 1748.37 Q1921.93 1744.9 1921.93 1739.17 L1921.93 1737.86 L1916.1 1737.86 M1927.78 1735.45 L1927.78 1755.78 L1921.93 1755.78 L1921.93 1750.37 Q1919.92 1753.62 1916.93 1755.18 Q1913.94 1756.71 1909.61 1756.71 Q1904.14 1756.71 1900.89 1753.65 Q1897.68 1750.56 1897.68 1745.41 Q1897.68 1739.39 1901.69 1736.34 Q1905.73 1733.28 1913.72 1733.28 L1921.93 1733.28 L1921.93 1732.71 Q1921.93 1728.67 1919.25 1726.47 Q1916.61 1724.24 1911.81 1724.24 Q1908.75 1724.24 1905.86 1724.97 Q1902.96 1725.71 1900.29 1727.17 L1900.29 1721.76 Q1903.5 1720.52 1906.52 1719.91 Q1909.55 1719.28 1912.41 1719.28 Q1920.15 1719.28 1923.97 1723.29 Q1927.78 1727.3 1927.78 1735.45 Z\" fill=\"#000000\" fill-rule=\"evenodd\" fill-opacity=\"1\" /><path clip-path=\"url(#clip440)\" d=\"M1962.57 1721.19 L1962.57 1726.72 Q1960.09 1725.45 1957.42 1724.81 Q1954.74 1724.18 1951.88 1724.18 Q1947.52 1724.18 1945.32 1725.51 Q1943.16 1726.85 1943.16 1729.53 Q1943.16 1731.56 1944.72 1732.74 Q1946.28 1733.89 1950.99 1734.94 L1952.99 1735.38 Q1959.23 1736.72 1961.84 1739.17 Q1964.48 1741.59 1964.48 1745.95 Q1964.48 1750.91 1960.54 1753.81 Q1956.62 1756.71 1949.75 1756.71 Q1946.88 1756.71 1943.76 1756.13 Q1940.68 1755.59 1937.24 1754.48 L1937.24 1748.43 Q1940.48 1750.12 1943.64 1750.98 Q1946.79 1751.81 1949.87 1751.81 Q1954.01 1751.81 1956.24 1750.4 Q1958.47 1748.97 1958.47 1746.39 Q1958.47 1744.01 1956.84 1742.73 Q1955.25 1741.46 1949.81 1740.28 L1947.77 1739.81 Q1942.33 1738.66 1939.91 1736.3 Q1937.49 1733.92 1937.49 1729.78 Q1937.49 1724.75 1941.06 1722.01 Q1944.62 1719.28 1951.18 1719.28 Q1954.43 1719.28 1957.29 1719.75 Q1960.15 1720.23 1962.57 1721.19 Z\" fill=\"#000000\" fill-rule=\"evenodd\" fill-opacity=\"1\" /><path clip-path=\"url(#clip440)\" d=\"M1996.53 1721.19 L1996.53 1726.72 Q1994.05 1725.45 1991.38 1724.81 Q1988.7 1724.18 1985.84 1724.18 Q1981.48 1724.18 1979.28 1725.51 Q1977.12 1726.85 1977.12 1729.53 Q1977.12 1731.56 1978.68 1732.74 Q1980.24 1733.89 1984.95 1734.94 L1986.95 1735.38 Q1993.19 1736.72 1995.8 1739.17 Q1998.44 1741.59 1998.44 1745.95 Q1998.44 1750.91 1994.5 1753.81 Q1990.58 1756.71 1983.71 1756.71 Q1980.84 1756.71 1977.72 1756.13 Q1974.64 1755.59 1971.2 1754.48 L1971.2 1748.43 Q1974.45 1750.12 1977.6 1750.98 Q1980.75 1751.81 1983.83 1751.81 Q1987.97 1751.81 1990.2 1750.4 Q1992.43 1748.97 1992.43 1746.39 Q1992.43 1744.01 1990.81 1742.73 Q1989.21 1741.46 1983.77 1740.28 L1981.73 1739.81 Q1976.29 1738.66 1973.87 1736.3 Q1971.45 1733.92 1971.45 1729.78 Q1971.45 1724.75 1975.02 1722.01 Q1978.58 1719.28 1985.14 1719.28 Q1988.39 1719.28 1991.25 1719.75 Q1994.12 1720.23 1996.53 1721.19 Z\" fill=\"#000000\" fill-rule=\"evenodd\" fill-opacity=\"1\" /><path clip-path=\"url(#clip440)\" d=\"M2007.77 1720.14 L2013.63 1720.14 L2013.63 1755.78 L2007.77 1755.78 L2007.77 1720.14 M2007.77 1706.26 L2013.63 1706.26 L2013.63 1713.67 L2007.77 1713.67 L2007.77 1706.26 Z\" fill=\"#000000\" fill-rule=\"evenodd\" fill-opacity=\"1\" /><path clip-path=\"url(#clip440)\" d=\"M2043.93 1706.26 L2043.93 1711.13 L2038.33 1711.13 Q2035.17 1711.13 2033.93 1712.4 Q2032.72 1713.67 2032.72 1716.98 L2032.72 1720.14 L2042.37 1720.14 L2042.37 1724.69 L2032.72 1724.69 L2032.72 1755.78 L2026.84 1755.78 L2026.84 1724.69 L2021.23 1724.69 L2021.23 1720.14 L2026.84 1720.14 L2026.84 1717.65 Q2026.84 1711.7 2029.6 1709 Q2032.37 1706.26 2038.39 1706.26 L2043.93 1706.26 Z\" fill=\"#000000\" fill-rule=\"evenodd\" fill-opacity=\"1\" /><path clip-path=\"url(#clip440)\" d=\"M2048.83 1720.14 L2054.69 1720.14 L2054.69 1755.78 L2048.83 1755.78 L2048.83 1720.14 M2048.83 1706.26 L2054.69 1706.26 L2054.69 1713.67 L2048.83 1713.67 L2048.83 1706.26 Z\" fill=\"#000000\" fill-rule=\"evenodd\" fill-opacity=\"1\" /><path clip-path=\"url(#clip440)\" d=\"M2097.43 1736.5 L2097.43 1739.36 L2070.5 1739.36 Q2070.89 1745.41 2074.13 1748.59 Q2077.41 1751.74 2083.24 1751.74 Q2086.61 1751.74 2089.76 1750.91 Q2092.94 1750.09 2096.06 1748.43 L2096.06 1753.97 Q2092.91 1755.31 2089.6 1756.01 Q2086.29 1756.71 2082.89 1756.71 Q2074.36 1756.71 2069.36 1751.74 Q2064.39 1746.78 2064.39 1738.31 Q2064.39 1729.56 2069.1 1724.43 Q2073.85 1719.28 2081.87 1719.28 Q2089.06 1719.28 2093.23 1723.92 Q2097.43 1728.54 2097.43 1736.5 M2091.57 1734.78 Q2091.51 1729.97 2088.87 1727.11 Q2086.26 1724.24 2081.93 1724.24 Q2077.03 1724.24 2074.07 1727.01 Q2071.14 1729.78 2070.7 1734.81 L2091.57 1734.78 Z\" fill=\"#000000\" fill-rule=\"evenodd\" fill-opacity=\"1\" /><path clip-path=\"url(#clip440)\" d=\"M2127.7 1725.61 Q2126.71 1725.04 2125.54 1724.78 Q2124.39 1724.5 2122.99 1724.5 Q2118.02 1724.5 2115.35 1727.74 Q2112.71 1730.96 2112.71 1737.01 L2112.71 1755.78 L2106.82 1755.78 L2106.82 1720.14 L2112.71 1720.14 L2112.71 1725.67 Q2114.55 1722.43 2117.51 1720.87 Q2120.47 1719.28 2124.71 1719.28 Q2125.31 1719.28 2126.04 1719.37 Q2126.78 1719.44 2127.67 1719.59 L2127.7 1725.61 Z\" fill=\"#000000\" fill-rule=\"evenodd\" fill-opacity=\"1\" /><path clip-path=\"url(#clip440)\" d=\"M2128.69 1747.7 L2135.4 1747.7 L2135.4 1755.78 L2128.69 1755.78 L2128.69 1747.7 Z\" fill=\"#000000\" fill-rule=\"evenodd\" fill-opacity=\"1\" /><path clip-path=\"url(#clip440)\" d=\"M2176.33 1726.98 Q2178.53 1723.03 2181.59 1721.15 Q2184.64 1719.28 2188.78 1719.28 Q2194.35 1719.28 2197.37 1723.19 Q2200.4 1727.07 2200.4 1734.27 L2200.4 1755.78 L2194.51 1755.78 L2194.51 1734.46 Q2194.51 1729.33 2192.69 1726.85 Q2190.88 1724.37 2187.16 1724.37 Q2182.6 1724.37 2179.96 1727.39 Q2177.32 1730.42 2177.32 1735.64 L2177.32 1755.78 L2171.43 1755.78 L2171.43 1734.46 Q2171.43 1729.3 2169.62 1726.85 Q2167.8 1724.37 2164.02 1724.37 Q2159.53 1724.37 2156.89 1727.42 Q2154.24 1730.45 2154.24 1735.64 L2154.24 1755.78 L2148.36 1755.78 L2148.36 1720.14 L2154.24 1720.14 L2154.24 1725.67 Q2156.25 1722.4 2159.05 1720.84 Q2161.85 1719.28 2165.7 1719.28 Q2169.59 1719.28 2172.29 1721.25 Q2175.03 1723.22 2176.33 1726.98 Z\" fill=\"#000000\" fill-rule=\"evenodd\" fill-opacity=\"1\" /><path clip-path=\"url(#clip440)\" d=\"M2228.28 1737.86 Q2221.18 1737.86 2218.44 1739.49 Q2215.71 1741.11 2215.71 1745.03 Q2215.71 1748.14 2217.74 1749.99 Q2219.81 1751.81 2223.34 1751.81 Q2228.21 1751.81 2231.14 1748.37 Q2234.1 1744.9 2234.1 1739.17 L2234.1 1737.86 L2228.28 1737.86 M2239.96 1735.45 L2239.96 1755.78 L2234.1 1755.78 L2234.1 1750.37 Q2232.1 1753.62 2229.11 1755.18 Q2226.11 1756.71 2221.79 1756.71 Q2216.31 1756.71 2213.06 1753.65 Q2209.85 1750.56 2209.85 1745.41 Q2209.85 1739.39 2213.86 1736.34 Q2217.9 1733.28 2225.89 1733.28 L2234.1 1733.28 L2234.1 1732.71 Q2234.1 1728.67 2231.43 1726.47 Q2228.79 1724.24 2223.98 1724.24 Q2220.93 1724.24 2218.03 1724.97 Q2215.13 1725.71 2212.46 1727.17 L2212.46 1721.76 Q2215.67 1720.52 2218.7 1719.91 Q2221.72 1719.28 2224.59 1719.28 Q2232.32 1719.28 2236.14 1723.29 Q2239.96 1727.3 2239.96 1735.45 Z\" fill=\"#000000\" fill-rule=\"evenodd\" fill-opacity=\"1\" /><path clip-path=\"url(#clip440)\" d=\"M2281.65 1720.14 L2268.76 1737.48 L2282.32 1755.78 L2275.42 1755.78 L2265.04 1741.78 L2254.66 1755.78 L2247.76 1755.78 L2261.6 1737.13 L2248.93 1720.14 L2255.84 1720.14 L2265.29 1732.84 L2274.75 1720.14 L2281.65 1720.14 Z\" fill=\"#000000\" fill-rule=\"evenodd\" fill-opacity=\"1\" /><path clip-path=\"url(#clip440)\" d=\"M2317.68 1766.61 L2317.68 1771.16 L2283.82 1771.16 L2283.82 1766.61 L2317.68 1766.61 Z\" fill=\"#000000\" fill-rule=\"evenodd\" fill-opacity=\"1\" /><path clip-path=\"url(#clip440)\" d=\"M2346.65 1725.55 L2346.65 1706.26 L2352.5 1706.26 L2352.5 1755.78 L2346.65 1755.78 L2346.65 1750.44 Q2344.8 1753.62 2341.97 1755.18 Q2339.17 1756.71 2335.22 1756.71 Q2328.76 1756.71 2324.69 1751.55 Q2320.64 1746.39 2320.64 1737.99 Q2320.64 1729.59 2324.69 1724.43 Q2328.76 1719.28 2335.22 1719.28 Q2339.17 1719.28 2341.97 1720.84 Q2344.8 1722.36 2346.65 1725.55 M2326.69 1737.99 Q2326.69 1744.45 2329.33 1748.14 Q2332.01 1751.81 2336.65 1751.81 Q2341.3 1751.81 2343.97 1748.14 Q2346.65 1744.45 2346.65 1737.99 Q2346.65 1731.53 2343.97 1727.87 Q2341.3 1724.18 2336.65 1724.18 Q2332.01 1724.18 2329.33 1727.87 Q2326.69 1731.53 2326.69 1737.99 Z\" fill=\"#000000\" fill-rule=\"evenodd\" fill-opacity=\"1\" /><path clip-path=\"url(#clip440)\" d=\"M2395.06 1736.5 L2395.06 1739.36 L2368.13 1739.36 Q2368.51 1745.41 2371.76 1748.59 Q2375.04 1751.74 2380.86 1751.74 Q2384.24 1751.74 2387.39 1750.91 Q2390.57 1750.09 2393.69 1748.43 L2393.69 1753.97 Q2390.54 1755.31 2387.23 1756.01 Q2383.92 1756.71 2380.51 1756.71 Q2371.98 1756.71 2366.99 1751.74 Q2362.02 1746.78 2362.02 1738.31 Q2362.02 1729.56 2366.73 1724.43 Q2371.47 1719.28 2379.5 1719.28 Q2386.69 1719.28 2390.86 1723.92 Q2395.06 1728.54 2395.06 1736.5 M2389.2 1734.78 Q2389.14 1729.97 2386.5 1727.11 Q2383.89 1724.24 2379.56 1724.24 Q2374.66 1724.24 2371.7 1727.01 Q2368.77 1729.78 2368.32 1734.81 L2389.2 1734.78 Z\" fill=\"#000000\" fill-rule=\"evenodd\" fill-opacity=\"1\" /><path clip-path=\"url(#clip440)\" d=\"M2410.34 1750.44 L2410.34 1769.34 L2404.45 1769.34 L2404.45 1720.14 L2410.34 1720.14 L2410.34 1725.55 Q2412.18 1722.36 2414.98 1720.84 Q2417.82 1719.28 2421.73 1719.28 Q2428.22 1719.28 2432.27 1724.43 Q2436.34 1729.59 2436.34 1737.99 Q2436.34 1746.39 2432.27 1751.55 Q2428.22 1756.71 2421.73 1756.71 Q2417.82 1756.71 2414.98 1755.18 Q2412.18 1753.62 2410.34 1750.44 M2430.26 1737.99 Q2430.26 1731.53 2427.59 1727.87 Q2424.95 1724.18 2420.3 1724.18 Q2415.65 1724.18 2412.98 1727.87 Q2410.34 1731.53 2410.34 1737.99 Q2410.34 1744.45 2412.98 1748.14 Q2415.65 1751.81 2420.3 1751.81 Q2424.95 1751.81 2427.59 1748.14 Q2430.26 1744.45 2430.26 1737.99 Z\" fill=\"#000000\" fill-rule=\"evenodd\" fill-opacity=\"1\" /><path clip-path=\"url(#clip440)\" d=\"M2451.84 1710.01 L2451.84 1720.14 L2463.9 1720.14 L2463.9 1724.69 L2451.84 1724.69 L2451.84 1744.04 Q2451.84 1748.4 2453.02 1749.64 Q2454.23 1750.88 2457.89 1750.88 L2463.9 1750.88 L2463.9 1755.78 L2457.89 1755.78 Q2451.11 1755.78 2448.53 1753.27 Q2445.95 1750.72 2445.95 1744.04 L2445.95 1724.69 L2441.66 1724.69 L2441.66 1720.14 L2445.95 1720.14 L2445.95 1710.01 L2451.84 1710.01 Z\" fill=\"#000000\" fill-rule=\"evenodd\" fill-opacity=\"1\" /><path clip-path=\"url(#clip440)\" d=\"M2501.24 1734.27 L2501.24 1755.78 L2495.38 1755.78 L2495.38 1734.46 Q2495.38 1729.4 2493.41 1726.88 Q2491.44 1724.37 2487.49 1724.37 Q2482.75 1724.37 2480.01 1727.39 Q2477.27 1730.42 2477.27 1735.64 L2477.27 1755.78 L2471.38 1755.78 L2471.38 1706.26 L2477.27 1706.26 L2477.27 1725.67 Q2479.37 1722.46 2482.21 1720.87 Q2485.07 1719.28 2488.79 1719.28 Q2494.94 1719.28 2498.09 1723.1 Q2501.24 1726.88 2501.24 1734.27 Z\" fill=\"#000000\" fill-rule=\"evenodd\" fill-opacity=\"1\" /><polyline clip-path=\"url(#clip445)\" style=\"stroke:#000000; stroke-linecap:butt; stroke-linejoin:round; stroke-width:2; stroke-opacity:0.1; fill:none\" points=\"\n",
       "  1455.64,1552.4 2352.76,1552.4 \n",
       "  \"/>\n",
       "<polyline clip-path=\"url(#clip445)\" style=\"stroke:#000000; stroke-linecap:butt; stroke-linejoin:round; stroke-width:2; stroke-opacity:0.1; fill:none\" points=\"\n",
       "  1455.64,1420.54 2352.76,1420.54 \n",
       "  \"/>\n",
       "<polyline clip-path=\"url(#clip445)\" style=\"stroke:#000000; stroke-linecap:butt; stroke-linejoin:round; stroke-width:2; stroke-opacity:0.1; fill:none\" points=\"\n",
       "  1455.64,1288.68 2352.76,1288.68 \n",
       "  \"/>\n",
       "<polyline clip-path=\"url(#clip445)\" style=\"stroke:#000000; stroke-linecap:butt; stroke-linejoin:round; stroke-width:2; stroke-opacity:0.1; fill:none\" points=\"\n",
       "  1455.64,1156.82 2352.76,1156.82 \n",
       "  \"/>\n",
       "<polyline clip-path=\"url(#clip445)\" style=\"stroke:#000000; stroke-linecap:butt; stroke-linejoin:round; stroke-width:2; stroke-opacity:0.1; fill:none\" points=\"\n",
       "  1455.64,1024.96 2352.76,1024.96 \n",
       "  \"/>\n",
       "<polyline clip-path=\"url(#clip440)\" style=\"stroke:#000000; stroke-linecap:butt; stroke-linejoin:round; stroke-width:4; stroke-opacity:1; fill:none\" points=\"\n",
       "  1455.64,1610.92 1455.64,912.64 \n",
       "  \"/>\n",
       "<polyline clip-path=\"url(#clip440)\" style=\"stroke:#000000; stroke-linecap:butt; stroke-linejoin:round; stroke-width:4; stroke-opacity:1; fill:none\" points=\"\n",
       "  2352.76,1610.92 2352.76,912.64 \n",
       "  \"/>\n",
       "<polyline clip-path=\"url(#clip440)\" style=\"stroke:#000000; stroke-linecap:butt; stroke-linejoin:round; stroke-width:4; stroke-opacity:1; fill:none\" points=\"\n",
       "  1455.64,1552.4 1474.54,1552.4 \n",
       "  \"/>\n",
       "<polyline clip-path=\"url(#clip440)\" style=\"stroke:#000000; stroke-linecap:butt; stroke-linejoin:round; stroke-width:4; stroke-opacity:1; fill:none\" points=\"\n",
       "  1455.64,1420.54 1474.54,1420.54 \n",
       "  \"/>\n",
       "<polyline clip-path=\"url(#clip440)\" style=\"stroke:#000000; stroke-linecap:butt; stroke-linejoin:round; stroke-width:4; stroke-opacity:1; fill:none\" points=\"\n",
       "  1455.64,1288.68 1474.54,1288.68 \n",
       "  \"/>\n",
       "<polyline clip-path=\"url(#clip440)\" style=\"stroke:#000000; stroke-linecap:butt; stroke-linejoin:round; stroke-width:4; stroke-opacity:1; fill:none\" points=\"\n",
       "  1455.64,1156.82 1474.54,1156.82 \n",
       "  \"/>\n",
       "<polyline clip-path=\"url(#clip440)\" style=\"stroke:#000000; stroke-linecap:butt; stroke-linejoin:round; stroke-width:4; stroke-opacity:1; fill:none\" points=\"\n",
       "  1455.64,1024.96 1474.54,1024.96 \n",
       "  \"/>\n",
       "<path clip-path=\"url(#clip440)\" d=\"M1332.31 1538.2 Q1328.7 1538.2 1326.87 1541.77 Q1325.06 1545.31 1325.06 1552.44 Q1325.06 1559.54 1326.87 1563.11 Q1328.7 1566.65 1332.31 1566.65 Q1335.94 1566.65 1337.75 1563.11 Q1339.58 1559.54 1339.58 1552.44 Q1339.58 1545.31 1337.75 1541.77 Q1335.94 1538.2 1332.31 1538.2 M1332.31 1534.5 Q1338.12 1534.5 1341.17 1539.1 Q1344.25 1543.69 1344.25 1552.44 Q1344.25 1561.16 1341.17 1565.77 Q1338.12 1570.35 1332.31 1570.35 Q1326.5 1570.35 1323.42 1565.77 Q1320.36 1561.16 1320.36 1552.44 Q1320.36 1543.69 1323.42 1539.1 Q1326.5 1534.5 1332.31 1534.5 Z\" fill=\"#000000\" fill-rule=\"evenodd\" fill-opacity=\"1\" /><path clip-path=\"url(#clip440)\" d=\"M1352.47 1563.8 L1357.35 1563.8 L1357.35 1569.68 L1352.47 1569.68 L1352.47 1563.8 Z\" fill=\"#000000\" fill-rule=\"evenodd\" fill-opacity=\"1\" /><path clip-path=\"url(#clip440)\" d=\"M1381.7 1551.05 Q1385.06 1551.77 1386.94 1554.03 Q1388.83 1556.3 1388.83 1559.64 Q1388.83 1564.75 1385.32 1567.55 Q1381.8 1570.35 1375.32 1570.35 Q1373.14 1570.35 1370.82 1569.91 Q1368.53 1569.5 1366.08 1568.64 L1366.08 1564.13 Q1368.02 1565.26 1370.34 1565.84 Q1372.65 1566.42 1375.18 1566.42 Q1379.57 1566.42 1381.87 1564.68 Q1384.18 1562.95 1384.18 1559.64 Q1384.18 1556.58 1382.03 1554.87 Q1379.9 1553.13 1376.08 1553.13 L1372.05 1553.13 L1372.05 1549.29 L1376.26 1549.29 Q1379.71 1549.29 1381.54 1547.92 Q1383.37 1546.53 1383.37 1543.94 Q1383.37 1541.28 1381.47 1539.87 Q1379.6 1538.43 1376.08 1538.43 Q1374.16 1538.43 1371.96 1538.85 Q1369.76 1539.27 1367.12 1540.14 L1367.12 1535.98 Q1369.78 1535.24 1372.1 1534.87 Q1374.44 1534.5 1376.5 1534.5 Q1381.82 1534.5 1384.92 1536.93 Q1388.02 1539.33 1388.02 1543.46 Q1388.02 1546.33 1386.38 1548.32 Q1384.74 1550.28 1381.7 1551.05 Z\" fill=\"#000000\" fill-rule=\"evenodd\" fill-opacity=\"1\" /><path clip-path=\"url(#clip440)\" d=\"M1407.7 1538.2 Q1404.09 1538.2 1402.26 1541.77 Q1400.45 1545.31 1400.45 1552.44 Q1400.45 1559.54 1402.26 1563.11 Q1404.09 1566.65 1407.7 1566.65 Q1411.33 1566.65 1413.14 1563.11 Q1414.97 1559.54 1414.97 1552.44 Q1414.97 1545.31 1413.14 1541.77 Q1411.33 1538.2 1407.7 1538.2 M1407.7 1534.5 Q1413.51 1534.5 1416.57 1539.1 Q1419.64 1543.69 1419.64 1552.44 Q1419.64 1561.16 1416.57 1565.77 Q1413.51 1570.35 1407.7 1570.35 Q1401.89 1570.35 1398.81 1565.77 Q1395.76 1561.16 1395.76 1552.44 Q1395.76 1543.69 1398.81 1539.1 Q1401.89 1534.5 1407.7 1534.5 Z\" fill=\"#000000\" fill-rule=\"evenodd\" fill-opacity=\"1\" /><path clip-path=\"url(#clip440)\" d=\"M1332.95 1406.34 Q1329.34 1406.34 1327.51 1409.9 Q1325.71 1413.45 1325.71 1420.58 Q1325.71 1427.68 1327.51 1431.25 Q1329.34 1434.79 1332.95 1434.79 Q1336.59 1434.79 1338.39 1431.25 Q1340.22 1427.68 1340.22 1420.58 Q1340.22 1413.45 1338.39 1409.9 Q1336.59 1406.34 1332.95 1406.34 M1332.95 1402.64 Q1338.76 1402.64 1341.82 1407.24 Q1344.9 1411.83 1344.9 1420.58 Q1344.9 1429.3 1341.82 1433.91 Q1338.76 1438.49 1332.95 1438.49 Q1327.14 1438.49 1324.07 1433.91 Q1321.01 1429.3 1321.01 1420.58 Q1321.01 1411.83 1324.07 1407.24 Q1327.14 1402.64 1332.95 1402.64 Z\" fill=\"#000000\" fill-rule=\"evenodd\" fill-opacity=\"1\" /><path clip-path=\"url(#clip440)\" d=\"M1353.12 1431.94 L1358 1431.94 L1358 1437.82 L1353.12 1437.82 L1353.12 1431.94 Z\" fill=\"#000000\" fill-rule=\"evenodd\" fill-opacity=\"1\" /><path clip-path=\"url(#clip440)\" d=\"M1382.35 1419.19 Q1385.71 1419.9 1387.58 1422.17 Q1389.48 1424.44 1389.48 1427.78 Q1389.48 1432.89 1385.96 1435.69 Q1382.45 1438.49 1375.96 1438.49 Q1373.79 1438.49 1371.47 1438.05 Q1369.18 1437.64 1366.73 1436.78 L1366.73 1432.27 Q1368.67 1433.4 1370.99 1433.98 Q1373.3 1434.56 1375.82 1434.56 Q1380.22 1434.56 1382.51 1432.82 Q1384.83 1431.09 1384.83 1427.78 Q1384.83 1424.72 1382.68 1423.01 Q1380.55 1421.27 1376.73 1421.27 L1372.7 1421.27 L1372.7 1417.43 L1376.91 1417.43 Q1380.36 1417.43 1382.19 1416.06 Q1384.02 1414.67 1384.02 1412.08 Q1384.02 1409.42 1382.12 1408.01 Q1380.25 1406.57 1376.73 1406.57 Q1374.81 1406.57 1372.61 1406.99 Q1370.41 1407.4 1367.77 1408.28 L1367.77 1404.12 Q1370.43 1403.38 1372.75 1403.01 Q1375.08 1402.64 1377.14 1402.64 Q1382.47 1402.64 1385.57 1405.07 Q1388.67 1407.47 1388.67 1411.59 Q1388.67 1414.46 1387.03 1416.46 Q1385.38 1418.42 1382.35 1419.19 Z\" fill=\"#000000\" fill-rule=\"evenodd\" fill-opacity=\"1\" /><path clip-path=\"url(#clip440)\" d=\"M1412.51 1419.19 Q1415.87 1419.9 1417.75 1422.17 Q1419.64 1424.44 1419.64 1427.78 Q1419.64 1432.89 1416.13 1435.69 Q1412.61 1438.49 1406.13 1438.49 Q1403.95 1438.49 1401.63 1438.05 Q1399.34 1437.64 1396.89 1436.78 L1396.89 1432.27 Q1398.83 1433.4 1401.15 1433.98 Q1403.46 1434.56 1405.99 1434.56 Q1410.38 1434.56 1412.68 1432.82 Q1414.99 1431.09 1414.99 1427.78 Q1414.99 1424.72 1412.84 1423.01 Q1410.71 1421.27 1406.89 1421.27 L1402.86 1421.27 L1402.86 1417.43 L1407.07 1417.43 Q1410.52 1417.43 1412.35 1416.06 Q1414.18 1414.67 1414.18 1412.08 Q1414.18 1409.42 1412.28 1408.01 Q1410.41 1406.57 1406.89 1406.57 Q1404.97 1406.57 1402.77 1406.99 Q1400.57 1407.4 1397.93 1408.28 L1397.93 1404.12 Q1400.59 1403.38 1402.91 1403.01 Q1405.25 1402.64 1407.31 1402.64 Q1412.63 1402.64 1415.73 1405.07 Q1418.83 1407.47 1418.83 1411.59 Q1418.83 1414.46 1417.19 1416.46 Q1415.55 1418.42 1412.51 1419.19 Z\" fill=\"#000000\" fill-rule=\"evenodd\" fill-opacity=\"1\" /><path clip-path=\"url(#clip440)\" d=\"M1332.14 1274.48 Q1328.53 1274.48 1326.7 1278.04 Q1324.9 1281.59 1324.9 1288.72 Q1324.9 1295.82 1326.7 1299.39 Q1328.53 1302.93 1332.14 1302.93 Q1335.78 1302.93 1337.58 1299.39 Q1339.41 1295.82 1339.41 1288.72 Q1339.41 1281.59 1337.58 1278.04 Q1335.78 1274.48 1332.14 1274.48 M1332.14 1270.78 Q1337.95 1270.78 1341.01 1275.38 Q1344.09 1279.97 1344.09 1288.72 Q1344.09 1297.44 1341.01 1302.05 Q1337.95 1306.63 1332.14 1306.63 Q1326.33 1306.63 1323.26 1302.05 Q1320.2 1297.44 1320.2 1288.72 Q1320.2 1279.97 1323.26 1275.38 Q1326.33 1270.78 1332.14 1270.78 Z\" fill=\"#000000\" fill-rule=\"evenodd\" fill-opacity=\"1\" /><path clip-path=\"url(#clip440)\" d=\"M1352.31 1300.08 L1357.19 1300.08 L1357.19 1305.96 L1352.31 1305.96 L1352.31 1300.08 Z\" fill=\"#000000\" fill-rule=\"evenodd\" fill-opacity=\"1\" /><path clip-path=\"url(#clip440)\" d=\"M1381.54 1287.33 Q1384.9 1288.04 1386.77 1290.31 Q1388.67 1292.58 1388.67 1295.91 Q1388.67 1301.03 1385.15 1303.83 Q1381.64 1306.63 1375.15 1306.63 Q1372.98 1306.63 1370.66 1306.19 Q1368.37 1305.78 1365.92 1304.92 L1365.92 1300.41 Q1367.86 1301.54 1370.18 1302.12 Q1372.49 1302.7 1375.01 1302.7 Q1379.41 1302.7 1381.7 1300.96 Q1384.02 1299.22 1384.02 1295.91 Q1384.02 1292.86 1381.87 1291.15 Q1379.74 1289.41 1375.92 1289.41 L1371.89 1289.41 L1371.89 1285.57 L1376.1 1285.57 Q1379.55 1285.57 1381.38 1284.2 Q1383.21 1282.81 1383.21 1280.22 Q1383.21 1277.56 1381.31 1276.15 Q1379.44 1274.71 1375.92 1274.71 Q1374 1274.71 1371.8 1275.13 Q1369.6 1275.54 1366.96 1276.42 L1366.96 1272.26 Q1369.62 1271.52 1371.94 1271.15 Q1374.27 1270.78 1376.33 1270.78 Q1381.66 1270.78 1384.76 1273.21 Q1387.86 1275.61 1387.86 1279.73 Q1387.86 1282.6 1386.22 1284.6 Q1384.57 1286.56 1381.54 1287.33 Z\" fill=\"#000000\" fill-rule=\"evenodd\" fill-opacity=\"1\" /><path clip-path=\"url(#clip440)\" d=\"M1408.12 1286.82 Q1404.97 1286.82 1403.12 1288.97 Q1401.29 1291.12 1401.29 1294.87 Q1401.29 1298.6 1403.12 1300.78 Q1404.97 1302.93 1408.12 1302.93 Q1411.26 1302.93 1413.09 1300.78 Q1414.95 1298.6 1414.95 1294.87 Q1414.95 1291.12 1413.09 1288.97 Q1411.26 1286.82 1408.12 1286.82 M1417.4 1272.16 L1417.4 1276.42 Q1415.64 1275.59 1413.83 1275.15 Q1412.05 1274.71 1410.29 1274.71 Q1405.66 1274.71 1403.21 1277.84 Q1400.78 1280.96 1400.43 1287.28 Q1401.8 1285.27 1403.86 1284.2 Q1405.92 1283.11 1408.39 1283.11 Q1413.6 1283.11 1416.61 1286.28 Q1419.64 1289.43 1419.64 1294.87 Q1419.64 1300.2 1416.5 1303.41 Q1413.35 1306.63 1408.12 1306.63 Q1402.12 1306.63 1398.95 1302.05 Q1395.78 1297.44 1395.78 1288.72 Q1395.78 1280.52 1399.67 1275.66 Q1403.56 1270.78 1410.11 1270.78 Q1411.87 1270.78 1413.65 1271.12 Q1415.45 1271.47 1417.4 1272.16 Z\" fill=\"#000000\" fill-rule=\"evenodd\" fill-opacity=\"1\" /><path clip-path=\"url(#clip440)\" d=\"M1332.49 1142.62 Q1328.88 1142.62 1327.05 1146.18 Q1325.25 1149.73 1325.25 1156.85 Q1325.25 1163.96 1327.05 1167.53 Q1328.88 1171.07 1332.49 1171.07 Q1336.13 1171.07 1337.93 1167.53 Q1339.76 1163.96 1339.76 1156.85 Q1339.76 1149.73 1337.93 1146.18 Q1336.13 1142.62 1332.49 1142.62 M1332.49 1138.92 Q1338.3 1138.92 1341.36 1143.52 Q1344.44 1148.11 1344.44 1156.85 Q1344.44 1165.58 1341.36 1170.19 Q1338.3 1174.77 1332.49 1174.77 Q1326.68 1174.77 1323.6 1170.19 Q1320.55 1165.58 1320.55 1156.85 Q1320.55 1148.11 1323.6 1143.52 Q1326.68 1138.92 1332.49 1138.92 Z\" fill=\"#000000\" fill-rule=\"evenodd\" fill-opacity=\"1\" /><path clip-path=\"url(#clip440)\" d=\"M1352.65 1168.22 L1357.54 1168.22 L1357.54 1174.1 L1352.65 1174.1 L1352.65 1168.22 Z\" fill=\"#000000\" fill-rule=\"evenodd\" fill-opacity=\"1\" /><path clip-path=\"url(#clip440)\" d=\"M1381.89 1155.47 Q1385.25 1156.18 1387.12 1158.45 Q1389.02 1160.72 1389.02 1164.05 Q1389.02 1169.17 1385.5 1171.97 Q1381.98 1174.77 1375.5 1174.77 Q1373.32 1174.77 1371.01 1174.33 Q1368.72 1173.92 1366.26 1173.06 L1366.26 1168.54 Q1368.21 1169.68 1370.52 1170.26 Q1372.84 1170.84 1375.36 1170.84 Q1379.76 1170.84 1382.05 1169.1 Q1384.37 1167.36 1384.37 1164.05 Q1384.37 1161 1382.21 1159.29 Q1380.08 1157.55 1376.26 1157.55 L1372.24 1157.55 L1372.24 1153.71 L1376.45 1153.71 Q1379.9 1153.71 1381.73 1152.34 Q1383.56 1150.95 1383.56 1148.36 Q1383.56 1145.7 1381.66 1144.29 Q1379.78 1142.85 1376.26 1142.85 Q1374.34 1142.85 1372.14 1143.27 Q1369.95 1143.68 1367.31 1144.56 L1367.31 1140.4 Q1369.97 1139.66 1372.28 1139.29 Q1374.62 1138.92 1376.68 1138.92 Q1382.01 1138.92 1385.11 1141.35 Q1388.21 1143.75 1388.21 1147.87 Q1388.21 1150.74 1386.57 1152.73 Q1384.92 1154.7 1381.89 1155.47 Z\" fill=\"#000000\" fill-rule=\"evenodd\" fill-opacity=\"1\" /><path clip-path=\"url(#clip440)\" d=\"M1398.02 1173.38 L1398.02 1169.12 Q1399.78 1169.96 1401.59 1170.4 Q1403.39 1170.84 1405.13 1170.84 Q1409.76 1170.84 1412.19 1167.73 Q1414.64 1164.61 1414.99 1158.27 Q1413.65 1160.26 1411.59 1161.32 Q1409.53 1162.39 1407.03 1162.39 Q1401.84 1162.39 1398.81 1159.26 Q1395.8 1156.11 1395.8 1150.67 Q1395.8 1145.35 1398.95 1142.13 Q1402.1 1138.92 1407.33 1138.92 Q1413.32 1138.92 1416.47 1143.52 Q1419.64 1148.11 1419.64 1156.85 Q1419.64 1165.03 1415.76 1169.91 Q1411.89 1174.77 1405.34 1174.77 Q1403.58 1174.77 1401.77 1174.42 Q1399.97 1174.08 1398.02 1173.38 M1407.33 1158.73 Q1410.48 1158.73 1412.31 1156.58 Q1414.16 1154.42 1414.16 1150.67 Q1414.16 1146.95 1412.31 1144.79 Q1410.48 1142.62 1407.33 1142.62 Q1404.18 1142.62 1402.33 1144.79 Q1400.5 1146.95 1400.5 1150.67 Q1400.5 1154.42 1402.33 1156.58 Q1404.18 1158.73 1407.33 1158.73 Z\" fill=\"#000000\" fill-rule=\"evenodd\" fill-opacity=\"1\" /><path clip-path=\"url(#clip440)\" d=\"M1333.9 1010.76 Q1330.29 1010.76 1328.46 1014.32 Q1326.66 1017.86 1326.66 1024.99 Q1326.66 1032.1 1328.46 1035.67 Q1330.29 1039.21 1333.9 1039.21 Q1337.54 1039.21 1339.34 1035.67 Q1341.17 1032.1 1341.17 1024.99 Q1341.17 1017.86 1339.34 1014.32 Q1337.54 1010.76 1333.9 1010.76 M1333.9 1007.05 Q1339.71 1007.05 1342.77 1011.66 Q1345.85 1016.24 1345.85 1024.99 Q1345.85 1033.72 1342.77 1038.33 Q1339.71 1042.91 1333.9 1042.91 Q1328.09 1042.91 1325.01 1038.33 Q1321.96 1033.72 1321.96 1024.99 Q1321.96 1016.24 1325.01 1011.66 Q1328.09 1007.05 1333.9 1007.05 Z\" fill=\"#000000\" fill-rule=\"evenodd\" fill-opacity=\"1\" /><path clip-path=\"url(#clip440)\" d=\"M1354.07 1036.36 L1358.95 1036.36 L1358.95 1042.24 L1354.07 1042.24 L1354.07 1036.36 Z\" fill=\"#000000\" fill-rule=\"evenodd\" fill-opacity=\"1\" /><path clip-path=\"url(#clip440)\" d=\"M1381.98 1011.75 L1370.18 1030.2 L1381.98 1030.2 L1381.98 1011.75 M1380.76 1007.68 L1386.63 1007.68 L1386.63 1030.2 L1391.57 1030.2 L1391.57 1034.09 L1386.63 1034.09 L1386.63 1042.24 L1381.98 1042.24 L1381.98 1034.09 L1366.38 1034.09 L1366.38 1029.58 L1380.76 1007.68 Z\" fill=\"#000000\" fill-rule=\"evenodd\" fill-opacity=\"1\" /><path clip-path=\"url(#clip440)\" d=\"M1403.32 1038.3 L1419.64 1038.3 L1419.64 1042.24 L1397.7 1042.24 L1397.7 1038.3 Q1400.36 1035.55 1404.95 1030.92 Q1409.55 1026.27 1410.73 1024.93 Q1412.98 1022.4 1413.86 1020.67 Q1414.76 1018.91 1414.76 1017.22 Q1414.76 1014.46 1412.82 1012.73 Q1410.89 1010.99 1407.79 1010.99 Q1405.59 1010.99 1403.14 1011.75 Q1400.71 1012.52 1397.93 1014.07 L1397.93 1009.35 Q1400.76 1008.21 1403.21 1007.63 Q1405.66 1007.05 1407.7 1007.05 Q1413.07 1007.05 1416.26 1009.74 Q1419.46 1012.43 1419.46 1016.92 Q1419.46 1019.05 1418.65 1020.97 Q1417.86 1022.86 1415.76 1025.46 Q1415.18 1026.13 1412.07 1029.35 Q1408.97 1032.54 1403.32 1038.3 Z\" fill=\"#000000\" fill-rule=\"evenodd\" fill-opacity=\"1\" /><path clip-path=\"url(#clip440)\" d=\"M1247.25 1400.31 L1264.66 1400.31 L1264.66 1390 Q1264.66 1384.81 1262.53 1382.33 Q1260.36 1379.82 1255.94 1379.82 Q1251.48 1379.82 1249.38 1382.33 Q1247.25 1384.81 1247.25 1390 L1247.25 1400.31 M1227.71 1400.31 L1242.03 1400.31 L1242.03 1390.8 Q1242.03 1386.09 1240.28 1383.79 Q1238.5 1381.47 1234.87 1381.47 Q1231.27 1381.47 1229.49 1383.79 Q1227.71 1386.09 1227.71 1390.8 L1227.71 1400.31 M1222.42 1406.74 L1222.42 1390.32 Q1222.42 1382.97 1225.48 1378.99 Q1228.54 1375.01 1234.17 1375.01 Q1238.53 1375.01 1241.11 1377.05 Q1243.69 1379.08 1244.32 1383.03 Q1245.34 1378.29 1248.59 1375.68 Q1251.8 1373.04 1256.64 1373.04 Q1263.01 1373.04 1266.47 1377.37 Q1269.94 1381.69 1269.94 1389.68 L1269.94 1406.74 L1222.42 1406.74 Z\" fill=\"#000000\" fill-rule=\"evenodd\" fill-opacity=\"1\" /><path clip-path=\"url(#clip440)\" d=\"M1239.77 1341.62 Q1239.2 1342.61 1238.94 1343.79 Q1238.66 1344.93 1238.66 1346.33 Q1238.66 1351.3 1241.9 1353.97 Q1245.12 1356.61 1251.17 1356.61 L1269.94 1356.61 L1269.94 1362.5 L1234.3 1362.5 L1234.3 1356.61 L1239.83 1356.61 Q1236.59 1354.77 1235.03 1351.81 Q1233.44 1348.85 1233.44 1344.61 Q1233.44 1344.01 1233.53 1343.28 Q1233.6 1342.54 1233.76 1341.65 L1239.77 1341.62 Z\" fill=\"#000000\" fill-rule=\"evenodd\" fill-opacity=\"1\" /><path clip-path=\"url(#clip440)\" d=\"M1234.3 1335.48 L1234.3 1329.62 L1269.94 1329.62 L1269.94 1335.48 L1234.3 1335.48 M1220.42 1335.48 L1220.42 1329.62 L1227.84 1329.62 L1227.84 1335.48 L1220.42 1335.48 Z\" fill=\"#000000\" fill-rule=\"evenodd\" fill-opacity=\"1\" /><path clip-path=\"url(#clip440)\" d=\"M1250.66 1286.88 L1253.52 1286.88 L1253.52 1313.8 Q1259.57 1313.42 1262.75 1310.18 Q1265.9 1306.9 1265.9 1301.07 Q1265.9 1297.7 1265.07 1294.55 Q1264.25 1291.36 1262.59 1288.25 L1268.13 1288.25 Q1269.47 1291.4 1270.17 1294.71 Q1270.87 1298.02 1270.87 1301.42 Q1270.87 1309.95 1265.9 1314.95 Q1260.94 1319.91 1252.47 1319.91 Q1243.72 1319.91 1238.59 1315.2 Q1233.44 1310.46 1233.44 1302.44 Q1233.44 1295.25 1238.08 1291.08 Q1242.7 1286.88 1250.66 1286.88 M1248.94 1292.73 Q1244.13 1292.8 1241.27 1295.44 Q1238.4 1298.05 1238.4 1302.38 Q1238.4 1307.28 1241.17 1310.24 Q1243.94 1313.17 1248.97 1313.61 L1248.94 1292.73 Z\" fill=\"#000000\" fill-rule=\"evenodd\" fill-opacity=\"1\" /><path clip-path=\"url(#clip440)\" d=\"M1239.77 1256.61 Q1239.2 1257.59 1238.94 1258.77 Q1238.66 1259.92 1238.66 1261.32 Q1238.66 1266.28 1241.9 1268.96 Q1245.12 1271.6 1251.17 1271.6 L1269.94 1271.6 L1269.94 1277.49 L1234.3 1277.49 L1234.3 1271.6 L1239.83 1271.6 Q1236.59 1269.75 1235.03 1266.79 Q1233.44 1263.83 1233.44 1259.6 Q1233.44 1258.99 1233.53 1258.26 Q1233.6 1257.53 1233.76 1256.64 L1239.77 1256.61 Z\" fill=\"#000000\" fill-rule=\"evenodd\" fill-opacity=\"1\" /><path clip-path=\"url(#clip440)\" d=\"M1222.42 1250.21 L1222.42 1243.78 L1264.53 1243.78 L1264.53 1220.64 L1269.94 1220.64 L1269.94 1250.21 L1222.42 1250.21 Z\" fill=\"#000000\" fill-rule=\"evenodd\" fill-opacity=\"1\" /><path clip-path=\"url(#clip440)\" d=\"M1238.4 1201.48 Q1238.4 1206.19 1242.09 1208.93 Q1245.75 1211.67 1252.15 1211.67 Q1258.55 1211.67 1262.24 1208.96 Q1265.9 1206.22 1265.9 1201.48 Q1265.9 1196.8 1262.21 1194.06 Q1258.52 1191.33 1252.15 1191.33 Q1245.82 1191.33 1242.13 1194.06 Q1238.4 1196.8 1238.4 1201.48 M1233.44 1201.48 Q1233.44 1193.84 1238.4 1189.48 Q1243.37 1185.12 1252.15 1185.12 Q1260.9 1185.12 1265.9 1189.48 Q1270.87 1193.84 1270.87 1201.48 Q1270.87 1209.15 1265.9 1213.51 Q1260.9 1217.84 1252.15 1217.84 Q1243.37 1217.84 1238.4 1213.51 Q1233.44 1209.15 1233.44 1201.48 Z\" fill=\"#000000\" fill-rule=\"evenodd\" fill-opacity=\"1\" /><path clip-path=\"url(#clip440)\" d=\"M1235.35 1152.69 L1240.88 1152.69 Q1239.61 1155.17 1238.97 1157.84 Q1238.34 1160.52 1238.34 1163.38 Q1238.34 1167.74 1239.68 1169.94 Q1241.01 1172.1 1243.69 1172.1 Q1245.72 1172.1 1246.9 1170.54 Q1248.05 1168.98 1249.1 1164.27 L1249.54 1162.27 Q1250.88 1156.03 1253.33 1153.42 Q1255.75 1150.78 1260.11 1150.78 Q1265.07 1150.78 1267.97 1154.72 Q1270.87 1158.64 1270.87 1165.51 Q1270.87 1168.38 1270.29 1171.5 Q1269.75 1174.59 1268.64 1178.02 L1262.59 1178.02 Q1264.28 1174.78 1265.14 1171.63 Q1265.97 1168.47 1265.97 1165.39 Q1265.97 1161.25 1264.57 1159.02 Q1263.13 1156.79 1260.55 1156.79 Q1258.17 1156.79 1256.89 1158.42 Q1255.62 1160.01 1254.44 1165.45 L1253.97 1167.49 Q1252.82 1172.93 1250.47 1175.35 Q1248.08 1177.77 1243.94 1177.77 Q1238.91 1177.77 1236.17 1174.2 Q1233.44 1170.64 1233.44 1164.08 Q1233.44 1160.84 1233.91 1157.97 Q1234.39 1155.11 1235.35 1152.69 Z\" fill=\"#000000\" fill-rule=\"evenodd\" fill-opacity=\"1\" /><path clip-path=\"url(#clip440)\" d=\"M1235.35 1118.73 L1240.88 1118.73 Q1239.61 1121.21 1238.97 1123.88 Q1238.34 1126.56 1238.34 1129.42 Q1238.34 1133.78 1239.68 1135.98 Q1241.01 1138.14 1243.69 1138.14 Q1245.72 1138.14 1246.9 1136.58 Q1248.05 1135.02 1249.1 1130.31 L1249.54 1128.31 Q1250.88 1122.07 1253.33 1119.46 Q1255.75 1116.82 1260.11 1116.82 Q1265.07 1116.82 1267.97 1120.76 Q1270.87 1124.68 1270.87 1131.55 Q1270.87 1134.42 1270.29 1137.54 Q1269.75 1140.62 1268.64 1144.06 L1262.59 1144.06 Q1264.28 1140.82 1265.14 1137.66 Q1265.97 1134.51 1265.97 1131.43 Q1265.97 1127.29 1264.57 1125.06 Q1263.13 1122.83 1260.55 1122.83 Q1258.17 1122.83 1256.89 1124.46 Q1255.62 1126.05 1254.44 1131.49 L1253.97 1133.53 Q1252.82 1138.97 1250.47 1141.39 Q1248.08 1143.81 1243.94 1143.81 Q1238.91 1143.81 1236.17 1140.24 Q1233.44 1136.68 1233.44 1130.12 Q1233.44 1126.87 1233.91 1124.01 Q1234.39 1121.15 1235.35 1118.73 Z\" fill=\"#000000\" fill-rule=\"evenodd\" fill-opacity=\"1\" /><circle clip-path=\"url(#clip445)\" cx=\"2327.37\" cy=\"1403.95\" r=\"14\" fill=\"#009af9\" fill-rule=\"evenodd\" fill-opacity=\"1\" stroke=\"#000000\" stroke-opacity=\"1\" stroke-width=\"3.6\"/>\n",
       "<circle clip-path=\"url(#clip445)\" cx=\"2115.78\" cy=\"1460.59\" r=\"14\" fill=\"#009af9\" fill-rule=\"evenodd\" fill-opacity=\"1\" stroke=\"#000000\" stroke-opacity=\"1\" stroke-width=\"3.6\"/>\n",
       "<circle clip-path=\"url(#clip445)\" cx=\"1481.03\" cy=\"1547.43\" r=\"14\" fill=\"#009af9\" fill-rule=\"evenodd\" fill-opacity=\"1\" stroke=\"#000000\" stroke-opacity=\"1\" stroke-width=\"3.6\"/>\n",
       "<circle clip-path=\"url(#clip445)\" cx=\"1692.62\" cy=\"1537.47\" r=\"14\" fill=\"#009af9\" fill-rule=\"evenodd\" fill-opacity=\"1\" stroke=\"#000000\" stroke-opacity=\"1\" stroke-width=\"3.6\"/>\n",
       "<circle clip-path=\"url(#clip445)\" cx=\"1904.2\" cy=\"1526.67\" r=\"14\" fill=\"#009af9\" fill-rule=\"evenodd\" fill-opacity=\"1\" stroke=\"#000000\" stroke-opacity=\"1\" stroke-width=\"3.6\"/>\n",
       "<circle clip-path=\"url(#clip445)\" cx=\"1904.2\" cy=\"1523.16\" r=\"14\" fill=\"#009af9\" fill-rule=\"evenodd\" fill-opacity=\"1\" stroke=\"#000000\" stroke-opacity=\"1\" stroke-width=\"3.6\"/>\n",
       "<circle clip-path=\"url(#clip445)\" cx=\"2115.78\" cy=\"1463.48\" r=\"14\" fill=\"#009af9\" fill-rule=\"evenodd\" fill-opacity=\"1\" stroke=\"#000000\" stroke-opacity=\"1\" stroke-width=\"3.6\"/>\n",
       "<circle clip-path=\"url(#clip445)\" cx=\"1692.62\" cy=\"1549.61\" r=\"14\" fill=\"#009af9\" fill-rule=\"evenodd\" fill-opacity=\"1\" stroke=\"#000000\" stroke-opacity=\"1\" stroke-width=\"3.6\"/>\n",
       "<circle clip-path=\"url(#clip445)\" cx=\"1904.2\" cy=\"1450.95\" r=\"14\" fill=\"#009af9\" fill-rule=\"evenodd\" fill-opacity=\"1\" stroke=\"#000000\" stroke-opacity=\"1\" stroke-width=\"3.6\"/>\n",
       "<circle clip-path=\"url(#clip445)\" cx=\"2327.37\" cy=\"1343.2\" r=\"14\" fill=\"#009af9\" fill-rule=\"evenodd\" fill-opacity=\"1\" stroke=\"#000000\" stroke-opacity=\"1\" stroke-width=\"3.6\"/>\n",
       "<circle clip-path=\"url(#clip445)\" cx=\"1692.62\" cy=\"1522.78\" r=\"14\" fill=\"#009af9\" fill-rule=\"evenodd\" fill-opacity=\"1\" stroke=\"#000000\" stroke-opacity=\"1\" stroke-width=\"3.6\"/>\n",
       "<circle clip-path=\"url(#clip445)\" cx=\"1904.2\" cy=\"1536.9\" r=\"14\" fill=\"#009af9\" fill-rule=\"evenodd\" fill-opacity=\"1\" stroke=\"#000000\" stroke-opacity=\"1\" stroke-width=\"3.6\"/>\n",
       "<circle clip-path=\"url(#clip445)\" cx=\"2327.37\" cy=\"1367.49\" r=\"14\" fill=\"#009af9\" fill-rule=\"evenodd\" fill-opacity=\"1\" stroke=\"#000000\" stroke-opacity=\"1\" stroke-width=\"3.6\"/>\n",
       "<circle clip-path=\"url(#clip445)\" cx=\"1692.62\" cy=\"1586.16\" r=\"14\" fill=\"#009af9\" fill-rule=\"evenodd\" fill-opacity=\"1\" stroke=\"#000000\" stroke-opacity=\"1\" stroke-width=\"3.6\"/>\n",
       "<circle clip-path=\"url(#clip445)\" cx=\"1692.62\" cy=\"1565.06\" r=\"14\" fill=\"#009af9\" fill-rule=\"evenodd\" fill-opacity=\"1\" stroke=\"#000000\" stroke-opacity=\"1\" stroke-width=\"3.6\"/>\n",
       "<circle clip-path=\"url(#clip445)\" cx=\"2115.78\" cy=\"1466.71\" r=\"14\" fill=\"#009af9\" fill-rule=\"evenodd\" fill-opacity=\"1\" stroke=\"#000000\" stroke-opacity=\"1\" stroke-width=\"3.6\"/>\n",
       "<circle clip-path=\"url(#clip445)\" cx=\"1481.03\" cy=\"1558.75\" r=\"14\" fill=\"#009af9\" fill-rule=\"evenodd\" fill-opacity=\"1\" stroke=\"#000000\" stroke-opacity=\"1\" stroke-width=\"3.6\"/>\n",
       "<circle clip-path=\"url(#clip445)\" cx=\"2115.78\" cy=\"1488.67\" r=\"14\" fill=\"#009af9\" fill-rule=\"evenodd\" fill-opacity=\"1\" stroke=\"#000000\" stroke-opacity=\"1\" stroke-width=\"3.6\"/>\n",
       "<circle clip-path=\"url(#clip445)\" cx=\"2115.78\" cy=\"1476.74\" r=\"14\" fill=\"#009af9\" fill-rule=\"evenodd\" fill-opacity=\"1\" stroke=\"#000000\" stroke-opacity=\"1\" stroke-width=\"3.6\"/>\n",
       "<circle clip-path=\"url(#clip445)\" cx=\"1904.2\" cy=\"1537.22\" r=\"14\" fill=\"#009af9\" fill-rule=\"evenodd\" fill-opacity=\"1\" stroke=\"#000000\" stroke-opacity=\"1\" stroke-width=\"3.6\"/>\n",
       "<circle clip-path=\"url(#clip445)\" cx=\"1481.03\" cy=\"1586.12\" r=\"14\" fill=\"#009af9\" fill-rule=\"evenodd\" fill-opacity=\"1\" stroke=\"#000000\" stroke-opacity=\"1\" stroke-width=\"3.6\"/>\n",
       "<circle clip-path=\"url(#clip445)\" cx=\"1692.62\" cy=\"1587.17\" r=\"14\" fill=\"#009af9\" fill-rule=\"evenodd\" fill-opacity=\"1\" stroke=\"#000000\" stroke-opacity=\"1\" stroke-width=\"3.6\"/>\n",
       "<circle clip-path=\"url(#clip445)\" cx=\"2115.78\" cy=\"1473.48\" r=\"14\" fill=\"#009af9\" fill-rule=\"evenodd\" fill-opacity=\"1\" stroke=\"#000000\" stroke-opacity=\"1\" stroke-width=\"3.6\"/>\n",
       "<circle clip-path=\"url(#clip445)\" cx=\"1692.62\" cy=\"1577.84\" r=\"14\" fill=\"#009af9\" fill-rule=\"evenodd\" fill-opacity=\"1\" stroke=\"#000000\" stroke-opacity=\"1\" stroke-width=\"3.6\"/>\n",
       "<circle clip-path=\"url(#clip445)\" cx=\"2327.37\" cy=\"932.403\" r=\"14\" fill=\"#009af9\" fill-rule=\"evenodd\" fill-opacity=\"1\" stroke=\"#000000\" stroke-opacity=\"1\" stroke-width=\"3.6\"/>\n",
       "<circle clip-path=\"url(#clip445)\" cx=\"2327.37\" cy=\"1302.62\" r=\"14\" fill=\"#009af9\" fill-rule=\"evenodd\" fill-opacity=\"1\" stroke=\"#000000\" stroke-opacity=\"1\" stroke-width=\"3.6\"/>\n",
       "<circle clip-path=\"url(#clip445)\" cx=\"2327.37\" cy=\"1330.98\" r=\"14\" fill=\"#009af9\" fill-rule=\"evenodd\" fill-opacity=\"1\" stroke=\"#000000\" stroke-opacity=\"1\" stroke-width=\"3.6\"/>\n",
       "<circle clip-path=\"url(#clip445)\" cx=\"1904.2\" cy=\"1526.73\" r=\"14\" fill=\"#009af9\" fill-rule=\"evenodd\" fill-opacity=\"1\" stroke=\"#000000\" stroke-opacity=\"1\" stroke-width=\"3.6\"/>\n",
       "<circle clip-path=\"url(#clip445)\" cx=\"2115.78\" cy=\"1369.26\" r=\"14\" fill=\"#009af9\" fill-rule=\"evenodd\" fill-opacity=\"1\" stroke=\"#000000\" stroke-opacity=\"1\" stroke-width=\"3.6\"/>\n",
       "<circle clip-path=\"url(#clip445)\" cx=\"2327.37\" cy=\"1373.29\" r=\"14\" fill=\"#009af9\" fill-rule=\"evenodd\" fill-opacity=\"1\" stroke=\"#000000\" stroke-opacity=\"1\" stroke-width=\"3.6\"/>\n",
       "<circle clip-path=\"url(#clip445)\" cx=\"1692.62\" cy=\"1576.79\" r=\"14\" fill=\"#009af9\" fill-rule=\"evenodd\" fill-opacity=\"1\" stroke=\"#000000\" stroke-opacity=\"1\" stroke-width=\"3.6\"/>\n",
       "<circle clip-path=\"url(#clip445)\" cx=\"1692.62\" cy=\"1556.14\" r=\"14\" fill=\"#009af9\" fill-rule=\"evenodd\" fill-opacity=\"1\" stroke=\"#000000\" stroke-opacity=\"1\" stroke-width=\"3.6\"/>\n",
       "<circle clip-path=\"url(#clip445)\" cx=\"1481.03\" cy=\"1567.98\" r=\"14\" fill=\"#009af9\" fill-rule=\"evenodd\" fill-opacity=\"1\" stroke=\"#000000\" stroke-opacity=\"1\" stroke-width=\"3.6\"/>\n",
       "<circle clip-path=\"url(#clip445)\" cx=\"1692.62\" cy=\"1548.7\" r=\"14\" fill=\"#009af9\" fill-rule=\"evenodd\" fill-opacity=\"1\" stroke=\"#000000\" stroke-opacity=\"1\" stroke-width=\"3.6\"/>\n",
       "<circle clip-path=\"url(#clip445)\" cx=\"2327.37\" cy=\"1347.47\" r=\"14\" fill=\"#009af9\" fill-rule=\"evenodd\" fill-opacity=\"1\" stroke=\"#000000\" stroke-opacity=\"1\" stroke-width=\"3.6\"/>\n",
       "<circle clip-path=\"url(#clip445)\" cx=\"2115.78\" cy=\"1480.23\" r=\"14\" fill=\"#009af9\" fill-rule=\"evenodd\" fill-opacity=\"1\" stroke=\"#000000\" stroke-opacity=\"1\" stroke-width=\"3.6\"/>\n",
       "<circle clip-path=\"url(#clip445)\" cx=\"1481.03\" cy=\"1591.16\" r=\"14\" fill=\"#009af9\" fill-rule=\"evenodd\" fill-opacity=\"1\" stroke=\"#000000\" stroke-opacity=\"1\" stroke-width=\"3.6\"/>\n",
       "<circle clip-path=\"url(#clip445)\" cx=\"1481.03\" cy=\"1586.45\" r=\"14\" fill=\"#009af9\" fill-rule=\"evenodd\" fill-opacity=\"1\" stroke=\"#000000\" stroke-opacity=\"1\" stroke-width=\"3.6\"/>\n",
       "<circle clip-path=\"url(#clip445)\" cx=\"1904.2\" cy=\"1544.68\" r=\"14\" fill=\"#009af9\" fill-rule=\"evenodd\" fill-opacity=\"1\" stroke=\"#000000\" stroke-opacity=\"1\" stroke-width=\"3.6\"/>\n",
       "<circle clip-path=\"url(#clip445)\" cx=\"1904.2\" cy=\"1545.96\" r=\"14\" fill=\"#009af9\" fill-rule=\"evenodd\" fill-opacity=\"1\" stroke=\"#000000\" stroke-opacity=\"1\" stroke-width=\"3.6\"/>\n",
       "</svg>\n"
      ]
     },
     "execution_count": 59,
     "metadata": {},
     "output_type": "execute_result"
    }
   ],
   "source": [
    "plot(mach_tuned_iterated_pipe, size=(600,450))"
   ]
  },
  {
   "cell_type": "markdown",
   "metadata": {},
   "source": [
    "## Saving our model"
   ]
  },
  {
   "cell_type": "markdown",
   "metadata": {},
   "source": [
    "> Introduces: `MLJ.save`"
   ]
  },
  {
   "cell_type": "markdown",
   "metadata": {},
   "source": [
    "Here's how to serialize our final, trained self-iterating,\n",
    "self-tuning pipeline machine:"
   ]
  },
  {
   "cell_type": "code",
   "execution_count": 60,
   "metadata": {},
   "outputs": [],
   "source": [
    "MLJ.save(\"tuned_iterated_pipe.jlso\", mach_tuned_iterated_pipe)"
   ]
  },
  {
   "cell_type": "markdown",
   "metadata": {},
   "source": [
    "We'll deserialize this in \"Testing the final model\" below."
   ]
  },
  {
   "cell_type": "markdown",
   "metadata": {},
   "source": [
    "## Final performance estimate"
   ]
  },
  {
   "cell_type": "markdown",
   "metadata": {},
   "source": [
    "Finally, to get an even more accurate estimate of performance, we\n",
    "can evaluate our model using stratified cross-validation and all the\n",
    "data attached to our machine. Because this evaluation implies\n",
    "[nested\n",
    "resampling](https://mlr.mlr-org.com/articles/tutorial/nested_resampling.html),\n",
    "this computation takes quite a bit longer than the previous one\n",
    "(which is being repeated six times, using 5/6th of the data each\n",
    "time):"
   ]
  },
  {
   "cell_type": "code",
   "execution_count": 61,
   "metadata": {},
   "outputs": [
    {
     "name": "stderr",
     "output_type": "stream",
     "text": [
      "\u001b[33mEvaluating over 6 folds: 100%[=========================] Time: 0:03:01\u001b[39m\n"
     ]
    },
    {
     "data": {
      "text/plain": [
       "PerformanceEvaluation object with these fields:\n",
       "  measure, measurement, operation, per_fold,\n",
       "  per_observation, fitted_params_per_fold,\n",
       "  report_per_fold, train_test_pairs\n",
       "Extract:\n",
       "┌──────────────────┬─────────────┬──────────────┬───────────────────────────────\n",
       "│\u001b[22m measure          \u001b[0m│\u001b[22m measurement \u001b[0m│\u001b[22m operation    \u001b[0m│\u001b[22m per_fold                    \u001b[0m ⋯\n",
       "├──────────────────┼─────────────┼──────────────┼───────────────────────────────\n",
       "│ BrierLoss()      │ 0.292       │ predict      │ [0.313, 0.328, 0.261, 0.28,  ⋯\n",
       "│ AreaUnderCurve() │ 0.818       │ predict      │ [0.796, 0.756, 0.843, 0.856, ⋯\n",
       "│ Accuracy()       │ 0.791       │ predict_mode │ [0.783, 0.78, 0.841, 0.793,  ⋯\n",
       "└──────────────────┴─────────────┴──────────────┴───────────────────────────────\n",
       "\u001b[36m                                                                1 column omitted\u001b[0m\n"
      ]
     },
     "execution_count": 61,
     "metadata": {},
     "output_type": "execute_result"
    }
   ],
   "source": [
    "e_tuned_iterated_pipe = evaluate(tuned_iterated_pipe, X, y,\n",
    "                                 resampling=StratifiedCV(nfolds=6, rng=123),\n",
    "                                 measures=[brier_loss, auc, accuracy])"
   ]
  },
  {
   "cell_type": "code",
   "execution_count": 62,
   "metadata": {},
   "outputs": [
    {
     "data": {
      "text/html": [
       "<div class=\"data-frame\"><p>3 rows × 2 columns</p><table class=\"data-frame\"><thead><tr><th></th><th>measure</th><th>measurement</th></tr><tr><th></th><th title=\"MLJBase.Measure\">Measure</th><th title=\"Measurement{Float64}\">Measurem…</th></tr></thead><tbody><tr><th>1</th><td>BrierLoss()</td><td>0.292±0.016</td></tr><tr><th>2</th><td>AreaUnderCurve()</td><td>0.818±0.027</td></tr><tr><th>3</th><td>Accuracy()</td><td>0.791±0.014</td></tr></tbody></table></div>"
      ],
      "text/latex": [
       "\\begin{tabular}{r|cc}\n",
       "\t& measure & measurement\\\\\n",
       "\t\\hline\n",
       "\t& Measure & Measurem…\\\\\n",
       "\t\\hline\n",
       "\t1 & BrierLoss() & $0.292 \\pm 0.016$ \\\\\n",
       "\t2 & AreaUnderCurve() & $0.818 \\pm 0.027$ \\\\\n",
       "\t3 & Accuracy() & $0.791 \\pm 0.014$ \\\\\n",
       "\\end{tabular}\n"
      ],
      "text/plain": [
       "\u001b[1m3×2 DataFrame\u001b[0m\n",
       "\u001b[1m Row \u001b[0m│\u001b[1m measure          \u001b[0m\u001b[1m measurement \u001b[0m\n",
       "\u001b[1m     \u001b[0m│\u001b[90m Measure          \u001b[0m\u001b[90m Measuremen… \u001b[0m\n",
       "─────┼───────────────────────────────\n",
       "   1 │ BrierLoss()       0.292±0.016\n",
       "   2 │ AreaUnderCurve()  0.818±0.027\n",
       "   3 │ Accuracy()        0.791±0.014"
      ]
     },
     "execution_count": 62,
     "metadata": {},
     "output_type": "execute_result"
    }
   ],
   "source": [
    "confidence_intervals(e_tuned_iterated_pipe)"
   ]
  },
  {
   "cell_type": "markdown",
   "metadata": {},
   "source": [
    "For comparison, here are the confidence intervals for the basic\n",
    "pipeline model (no feature selection and default hyperparameters):"
   ]
  },
  {
   "cell_type": "code",
   "execution_count": 63,
   "metadata": {},
   "outputs": [
    {
     "data": {
      "text/html": [
       "<div class=\"data-frame\"><p>3 rows × 2 columns</p><table class=\"data-frame\"><thead><tr><th></th><th>measure</th><th>measurement</th></tr><tr><th></th><th title=\"MLJBase.Measure\">Measure</th><th title=\"Measurement{Float64}\">Measurem…</th></tr></thead><tbody><tr><th>1</th><td>BrierLoss()</td><td>0.3131±0.0071</td></tr><tr><th>2</th><td>AreaUnderCurve()</td><td>0.789±0.011</td></tr><tr><th>3</th><td>Accuracy()</td><td>0.7809±0.0072</td></tr></tbody></table></div>"
      ],
      "text/latex": [
       "\\begin{tabular}{r|cc}\n",
       "\t& measure & measurement\\\\\n",
       "\t\\hline\n",
       "\t& Measure & Measurem…\\\\\n",
       "\t\\hline\n",
       "\t1 & BrierLoss() & $0.3131 \\pm 0.0071$ \\\\\n",
       "\t2 & AreaUnderCurve() & $0.789 \\pm 0.011$ \\\\\n",
       "\t3 & Accuracy() & $0.7809 \\pm 0.0072$ \\\\\n",
       "\\end{tabular}\n"
      ],
      "text/plain": [
       "\u001b[1m3×2 DataFrame\u001b[0m\n",
       "\u001b[1m Row \u001b[0m│\u001b[1m measure          \u001b[0m\u001b[1m measurement   \u001b[0m\n",
       "\u001b[1m     \u001b[0m│\u001b[90m Measure          \u001b[0m\u001b[90m Measuremen…   \u001b[0m\n",
       "─────┼─────────────────────────────────\n",
       "   1 │ BrierLoss()       0.3131±0.0071\n",
       "   2 │ AreaUnderCurve()  0.789±0.011\n",
       "   3 │ Accuracy()        0.7809±0.0072"
      ]
     },
     "execution_count": 63,
     "metadata": {},
     "output_type": "execute_result"
    }
   ],
   "source": [
    "confidence_intervals_basic_model"
   ]
  },
  {
   "cell_type": "markdown",
   "metadata": {},
   "source": [
    "As each pair of intervals overlap, it's doubtful the small changes\n",
    "here can be assigned statistical significance. Default `booster`\n",
    "hyper-parameters do a pretty good job."
   ]
  },
  {
   "cell_type": "markdown",
   "metadata": {},
   "source": [
    "## Testing the final model"
   ]
  },
  {
   "cell_type": "markdown",
   "metadata": {},
   "source": [
    "We now determine the performance of our model on our\n",
    "lock-and-throw-away-the-key holdout set. To demonstrate\n",
    "deserialization, we'll pretend we're in a new Julia session (but\n",
    "have called `import`/`using` on the same packages). Then the\n",
    "following should suffice to recover our model trained under\n",
    "\"Hyper-parameter optimization\" above:"
   ]
  },
  {
   "cell_type": "code",
   "execution_count": 64,
   "metadata": {},
   "outputs": [
    {
     "data": {
      "text/plain": [
       "Machine{ProbabilisticTunedModel{RandomSearch,…},…} trained 1 time; caches data\n",
       "  model: MLJTuning.ProbabilisticTunedModel{RandomSearch, MLJIteration.ProbabilisticIteratedModel{MLJBase.ProbabilisticPipeline{NamedTuple{(:continuous_encoder, :feature_selector, :evo_tree_classifier), Tuple{Unsupervised, Unsupervised, Probabilistic}}, MLJModelInterface.predict}}}\n",
       "  args: \n"
      ]
     },
     "execution_count": 64,
     "metadata": {},
     "output_type": "execute_result"
    }
   ],
   "source": [
    "mach_restored = machine(\"tuned_iterated_pipe.jlso\")"
   ]
  },
  {
   "cell_type": "markdown",
   "metadata": {},
   "source": [
    "We compute predictions on the holdout set:"
   ]
  },
  {
   "cell_type": "code",
   "execution_count": 65,
   "metadata": {},
   "outputs": [
    {
     "data": {
      "text/plain": [
       "             \u001b[1mUnivariateFinite{Multiclass{2}}\u001b[22m      \n",
       "       \u001b[90m┌                                        ┐\u001b[39m \n",
       "    \u001b[0mNo \u001b[90m┤\u001b[39m\u001b[38;5;2m■■■■■■■■■■■■■■■■\u001b[39m\u001b[0m 0.4376823522478299     \u001b[90m \u001b[39m \n",
       "   \u001b[0mYes \u001b[90m┤\u001b[39m\u001b[38;5;2m■■■■■■■■■■■■■■■■■■■■\u001b[39m\u001b[0m 0.5623176477521701 \u001b[90m \u001b[39m \n",
       "       \u001b[90m└                                        ┘\u001b[39m "
      ]
     },
     "execution_count": 65,
     "metadata": {},
     "output_type": "execute_result"
    }
   ],
   "source": [
    "ŷ_tuned = predict(mach_restored, Xtest);\n",
    "ŷ_tuned[1]"
   ]
  },
  {
   "cell_type": "markdown",
   "metadata": {},
   "source": [
    "And can compute the final performance measures:"
   ]
  },
  {
   "cell_type": "code",
   "execution_count": 66,
   "metadata": {},
   "outputs": [
    {
     "name": "stderr",
     "output_type": "stream",
     "text": [
      "┌ Info: Tuned model measurements on test:\n",
      "│   brier_loss(ŷ_tuned, ytest) |> mean = 0.26566727529150347\n",
      "│   auc(ŷ_tuned, ytest) = 0.8453917050691244\n",
      "│   accuracy(mode.(ŷ_tuned), ytest) = 0.8056872037914692\n",
      "└ @ Main In[66]:1\n"
     ]
    }
   ],
   "source": [
    "@info(\"Tuned model measurements on test:\",\n",
    "      brier_loss(ŷ_tuned, ytest) |> mean,\n",
    "      auc(ŷ_tuned, ytest),\n",
    "      accuracy(mode.(ŷ_tuned), ytest)\n",
    "      )"
   ]
  },
  {
   "cell_type": "markdown",
   "metadata": {},
   "source": [
    "For comparison, here's the performance for the basic pipeline model"
   ]
  },
  {
   "cell_type": "code",
   "execution_count": 67,
   "metadata": {},
   "outputs": [
    {
     "name": "stderr",
     "output_type": "stream",
     "text": [
      "┌ Info: Basic model measurements on test set:\n",
      "│   brier_loss(ŷ_basic, ytest) |> mean = 0.2815220182102922\n",
      "│   auc(ŷ_basic, ytest) = 0.8496543778801844\n",
      "│   accuracy(mode.(ŷ_basic), ytest) = 0.8009478672985781\n",
      "└ @ Main In[67]:6\n"
     ]
    }
   ],
   "source": [
    "mach_basic = machine(pipe, X, y)\n",
    "fit!(mach_basic, verbosity=0)\n",
    "\n",
    "ŷ_basic = predict(mach_basic, Xtest);\n",
    "\n",
    "@info(\"Basic model measurements on test set:\",\n",
    "      brier_loss(ŷ_basic, ytest) |> mean,\n",
    "      auc(ŷ_basic, ytest),\n",
    "      accuracy(mode.(ŷ_basic), ytest)\n",
    "      )"
   ]
  },
  {
   "cell_type": "markdown",
   "metadata": {},
   "source": [
    "---\n",
    "\n",
    "*This notebook was generated using [Literate.jl](https://github.com/fredrikekre/Literate.jl).*"
   ]
  }
 ],
 "metadata": {
  "kernelspec": {
   "display_name": "Julia 1.6.5",
   "language": "julia",
   "name": "julia-1.6"
  },
  "language_info": {
   "file_extension": ".jl",
   "mimetype": "application/julia",
   "name": "julia",
   "version": "1.6.5"
  }
 },
 "nbformat": 4,
 "nbformat_minor": 3
}
